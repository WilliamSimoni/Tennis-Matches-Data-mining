{
 "cells": [
  {
   "cell_type": "code",
   "metadata": {
    "tags": [],
    "cell_id": "00000-21497578-9b30-4de1-94ae-f6de14ea6181",
    "deepnote_to_be_reexecuted": false,
    "source_hash": "99d9b9fd",
    "execution_start": 1636387820707,
    "execution_millis": 676,
    "deepnote_cell_type": "code"
   },
   "source": "import numpy as np\nimport pandas as pd\nimport plotly.express as px\nimport scipy\nfrom datetime import datetime\n\nfrom plotly.subplots import make_subplots\nimport plotly.graph_objects as go",
   "outputs": [],
   "execution_count": null
  },
  {
   "cell_type": "code",
   "source": "df_matches = pd.read_csv(\"../data/tennis_matches.csv\")\ndf_male_players = pd.read_csv(\"../data/male_players.csv\")\ndf_female_players = pd.read_csv(\"../data/female_players.csv\")",
   "metadata": {
    "tags": [],
    "cell_id": "00001-7e8cac5e-d565-48d3-91b3-2f2fdb82830b",
    "deepnote_to_be_reexecuted": false,
    "source_hash": "1c109e22",
    "execution_start": 1636387821401,
    "execution_millis": 3258,
    "deepnote_cell_type": "code"
   },
   "outputs": [],
   "execution_count": null
  },
  {
   "cell_type": "code",
   "source": "df_matches['w_ace'].isna()",
   "metadata": {
    "tags": [],
    "cell_id": "00002-8fa03c5d-0b79-4a1d-8e85-d14ca365e6e5",
    "deepnote_to_be_reexecuted": false,
    "source_hash": "bf69dead",
    "execution_start": 1636387824693,
    "execution_millis": 32,
    "deepnote_cell_type": "code"
   },
   "outputs": [
    {
     "output_type": "execute_result",
     "execution_count": 3,
     "data": {
      "text/plain": "0         False\n1         False\n2         False\n3         False\n4         False\n          ...  \n186123     True\n186124    False\n186125     True\n186126     True\n186127     True\nName: w_ace, Length: 186128, dtype: bool"
     },
     "metadata": {}
    }
   ],
   "execution_count": null
  },
  {
   "cell_type": "code",
   "source": "df_matches.info()",
   "metadata": {
    "tags": [],
    "cell_id": "00003-fb43d323-0548-42c0-ac41-348401ac908d",
    "deepnote_to_be_reexecuted": false,
    "source_hash": "363b8308",
    "execution_start": 1636387860948,
    "execution_millis": 163,
    "deepnote_cell_type": "code"
   },
   "outputs": [
    {
     "name": "stdout",
     "text": "<class 'pandas.core.frame.DataFrame'>\nRangeIndex: 186128 entries, 0 to 186127\nData columns (total 50 columns):\n #   Column              Non-Null Count   Dtype  \n---  ------              --------------   -----  \n 0   Unnamed: 0          186128 non-null  int64  \n 1   tourney_id          186073 non-null  object \n 2   tourney_name        186103 non-null  object \n 3   surface             185940 non-null  object \n 4   draw_size           186099 non-null  float64\n 5   tourney_level       186099 non-null  object \n 6   tourney_date        186100 non-null  float64\n 7   match_num           186101 non-null  float64\n 8   winner_id           186073 non-null  float64\n 9   winner_entry        25827 non-null   object \n 10  winner_name         186101 non-null  object \n 11  winner_hand         186082 non-null  object \n 12  winner_ht           49341 non-null   float64\n 13  winner_ioc          186099 non-null  object \n 14  winner_age          183275 non-null  float64\n 15  loser_id            186100 non-null  float64\n 16  loser_entry         44154 non-null   object \n 17  loser_name          186097 non-null  object \n 18  loser_hand          186030 non-null  object \n 19  loser_ht            38348 non-null   float64\n 20  loser_ioc           186102 non-null  object \n 21  loser_age           179590 non-null  float64\n 22  score               185929 non-null  object \n 23  best_of             186099 non-null  float64\n 24  round               186098 non-null  object \n 25  minutes             81660 non-null   float64\n 26  w_ace               82310 non-null   float64\n 27  w_df                82312 non-null   float64\n 28  w_svpt              82310 non-null   float64\n 29  w_1stIn             82310 non-null   float64\n 30  w_1stWon            82312 non-null   float64\n 31  w_2ndWon            82309 non-null   float64\n 32  w_SvGms             82311 non-null   float64\n 33  w_bpSaved           82315 non-null   float64\n 34  w_bpFaced           82312 non-null   float64\n 35  l_ace               82313 non-null   float64\n 36  l_df                82319 non-null   float64\n 37  l_svpt              82315 non-null   float64\n 38  l_1stIn             82304 non-null   float64\n 39  l_1stWon            82311 non-null   float64\n 40  l_2ndWon            82312 non-null   float64\n 41  l_SvGms             82318 non-null   float64\n 42  l_bpSaved           82311 non-null   float64\n 43  l_bpFaced           82306 non-null   float64\n 44  winner_rank         166719 non-null  float64\n 45  winner_rank_points  166701 non-null  float64\n 46  loser_rank          150845 non-null  float64\n 47  loser_rank_points   150828 non-null  float64\n 48  tourney_spectators  186101 non-null  float64\n 49  tourney_revenue     186102 non-null  float64\ndtypes: float64(35), int64(1), object(14)\nmemory usage: 71.0+ MB\n",
     "output_type": "stream"
    }
   ],
   "execution_count": null
  },
  {
   "cell_type": "markdown",
   "source": "<a style='text-decoration:none;line-height:16px;display:flex;color:#5B5B62;padding:10px;justify-content:end;' href='https://deepnote.com?utm_source=created-in-deepnote-cell&projectId=de87b132-0371-4d99-94f9-c61923e2507d' target=\"_blank\">\n<img alt='Created in deepnote.com' style='display:inline;max-height:16px;margin:0px;margin-right:7.5px;' src='data:image/svg+xml;base64,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' > </img>\nCreated in <span style='font-weight:600;margin-left:4px;'>Deepnote</span></a>",
   "metadata": {
    "tags": [],
    "created_in_deepnote_cell": true,
    "deepnote_cell_type": "markdown"
   }
  }
 ],
 "nbformat": 4,
 "nbformat_minor": 2,
 "metadata": {
  "orig_nbformat": 2,
  "deepnote": {
   "is_reactive": false
  },
  "deepnote_notebook_id": "0da649f4-4005-4a49-99d7-04df1c3d4107",
  "deepnote_execution_queue": []
 }
}