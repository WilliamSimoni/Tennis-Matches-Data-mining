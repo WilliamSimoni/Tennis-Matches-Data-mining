{
 "cells": [
  {
   "cell_type": "markdown",
   "metadata": {
    "cell_id": "00000-ff2cedf9-995c-44f5-b568-e443c56ff10b",
    "deepnote_cell_type": "markdown",
    "tags": []
   },
   "source": [
    "***Goals***\n",
    "- The existence of missing values\n",
    "- The existence of outliers\n",
    "- the character of attributes\n",
    "- dependencies between attributes.\n"
   ]
  },
  {
   "cell_type": "code",
   "execution_count": null,
   "metadata": {
    "cell_id": "00000-a6c046ab-2e24-4361-9997-18843ee2a0d7",
    "deepnote_cell_type": "code",
    "deepnote_to_be_reexecuted": false,
    "execution_millis": 8880,
    "execution_start": 1634974755723,
    "source_hash": "dbfcf328",
    "tags": []
   },
   "outputs": [
    {
     "name": "stdout",
     "output_type": "stream",
     "text": [
      "Requirement already satisfied: statsmodels in c:\\users\\dwarez\\anaconda3\\lib\\site-packages (0.12.0)\n",
      "Requirement already satisfied: numpy>=1.15 in c:\\users\\dwarez\\anaconda3\\lib\\site-packages (from statsmodels) (1.19.2)\n",
      "Requirement already satisfied: scipy>=1.1 in c:\\users\\dwarez\\anaconda3\\lib\\site-packages (from statsmodels) (1.5.2)\n",
      "Requirement already satisfied: pandas>=0.21 in c:\\users\\dwarez\\anaconda3\\lib\\site-packages (from statsmodels) (1.1.3)\n",
      "Requirement already satisfied: patsy>=0.5 in c:\\users\\dwarez\\anaconda3\\lib\\site-packages (from statsmodels) (0.5.1)\n",
      "Requirement already satisfied: python-dateutil>=2.7.3 in c:\\users\\dwarez\\anaconda3\\lib\\site-packages (from pandas>=0.21->statsmodels) (2.8.1)\n",
      "Requirement already satisfied: pytz>=2017.2 in c:\\users\\dwarez\\anaconda3\\lib\\site-packages (from pandas>=0.21->statsmodels) (2020.1)\n",
      "Requirement already satisfied: six in c:\\users\\dwarez\\anaconda3\\lib\\site-packages (from patsy>=0.5->statsmodels) (1.15.0)\n"
     ]
    }
   ],
   "source": [
    "!pip install statsmodels\n",
    "\n",
    "import numpy as np\n",
    "import pandas as pd\n",
    "import plotly.express as px\n",
    "import scipy\n",
    "from datetime import datetime\n",
    "\n",
    "from plotly.subplots import make_subplots\n",
    "import plotly.graph_objects as go\n"
   ]
  },
  {
   "cell_type": "code",
   "execution_count": null,
   "metadata": {
    "cell_id": "00001-7a0799fb-6e30-409f-bfc0-f0728574d720",
    "deepnote_cell_type": "code",
    "deepnote_to_be_reexecuted": false,
    "execution_millis": 1201,
    "execution_start": 1634974295210,
    "source_hash": "1c109e22",
    "tags": []
   },
   "outputs": [],
   "source": [
    "df_matches = pd.read_csv(\"../data/tennis_matches.csv\")\n",
    "df_male_players = pd.read_csv(\"../data/male_players.csv\")\n",
    "df_female_players = pd.read_csv(\"../data/female_players.csv\")"
   ]
  },
  {
   "cell_type": "code",
   "execution_count": null,
   "metadata": {
    "cell_id": "00003-9545fa7e-8360-469d-80a1-9d93bef2bbca",
    "deepnote_cell_type": "code",
    "deepnote_to_be_reexecuted": false,
    "execution_millis": 155,
    "execution_start": 1634974296416,
    "source_hash": "b515436e",
    "tags": []
   },
   "outputs": [],
   "source": [
    "df_matches.dtypes\n",
    "df_matches.isna().sum()"
   ]
  },
  {
   "cell_type": "markdown",
   "metadata": {
    "cell_id": "00003-b0799dd7-8648-4af1-9df1-4ca54b077955",
    "deepnote_cell_type": "markdown",
    "tags": []
   },
   "source": [
    "## Finding Outliers using Box Plot and Density Plot"
   ]
  },
  {
   "cell_type": "markdown",
   "metadata": {
    "cell_id": "00005-198a8d20-efd8-4686-8781-aea2300a1a3f",
    "deepnote_cell_type": "text-cell-h3",
    "is_collapsed": false,
    "tags": []
   },
   "source": [
    "### Tourney ID"
   ]
  },
  {
   "cell_type": "markdown",
   "metadata": {
    "cell_id": "00006-33444e05-d6db-499b-b5b9-59f74fc6a538",
    "deepnote_cell_type": "text-cell-p",
    "is_collapsed": false,
    "tags": []
   },
   "source": [
    "Here follows the analysis for the Tourney_id attribute"
   ]
  },
  {
   "cell_type": "code",
   "execution_count": null,
   "metadata": {
    "cell_id": "00007-f50c2654-9860-44d5-a4f7-3f64f85474fb",
    "deepnote_cell_type": "code",
    "deepnote_to_be_reexecuted": false,
    "execution_millis": 4228,
    "execution_start": 1634974296575,
    "source_hash": "94182b5d",
    "tags": []
   },
   "outputs": [],
   "source": [
    "fig = px.histogram(df_matches['tourney_id'])\n",
    "fig.show()"
   ]
  },
  {
   "cell_type": "code",
   "execution_count": null,
   "metadata": {
    "cell_id": "00008-4f5c997a-001f-425e-a042-069f4b3432b3",
    "deepnote_cell_type": "code",
    "deepnote_to_be_reexecuted": false,
    "execution_millis": 1608,
    "execution_start": 1634974300759,
    "source_hash": "89b4ea33",
    "tags": []
   },
   "outputs": [],
   "source": [
    "fig = px.histogram(df_matches['tourney_name'])\n",
    "fig.show()"
   ]
  },
  {
   "cell_type": "markdown",
   "metadata": {
    "cell_id": "00009-c7bc50ec-9384-434b-b3b0-cd433d47d2db",
    "deepnote_cell_type": "text-cell-h2",
    "is_collapsed": false,
    "tags": []
   },
   "source": [
    "## Surface "
   ]
  },
  {
   "cell_type": "markdown",
   "metadata": {
    "cell_id": "00010-15646f1f-930e-448a-aa85-53bba4a61d48",
    "deepnote_cell_type": "text-cell-p",
    "is_collapsed": false,
    "tags": []
   },
   "source": [
    "Here follow the histogram dedicated to the type of surface. As evident in the graph the majority of matches is played on Hard surfaces or Clay."
   ]
  },
  {
   "cell_type": "code",
   "execution_count": null,
   "metadata": {
    "cell_id": "00010-cb6c7135-7fe4-490d-ae2c-a8b6288ea367",
    "deepnote_cell_type": "code",
    "deepnote_to_be_reexecuted": false,
    "execution_millis": 1572,
    "execution_start": 1634974302330,
    "source_hash": "35387a0f",
    "tags": []
   },
   "outputs": [],
   "source": [
    "fig = px.histogram(df_matches['surface'])\n",
    "fig.show()"
   ]
  },
  {
   "cell_type": "markdown",
   "metadata": {
    "cell_id": "00012-aada90e1-9326-4d57-a22c-cee4288a15d9",
    "deepnote_cell_type": "text-cell-h3",
    "is_collapsed": false,
    "tags": []
   },
   "source": [
    "### Draw size"
   ]
  },
  {
   "cell_type": "markdown",
   "metadata": {
    "cell_id": "00013-407fc8fb-9208-4727-98cf-d06bc79a5740",
    "deepnote_cell_type": "text-cell-p",
    "is_collapsed": false,
    "tags": []
   },
   "source": [
    "Here follows the analysis of the draw size. "
   ]
  },
  {
   "cell_type": "code",
   "execution_count": null,
   "metadata": {
    "cell_id": "00014-492db0dc-63d9-4f67-ba89-8a59b4e74ec4",
    "deepnote_cell_type": "code",
    "deepnote_to_be_reexecuted": false,
    "execution_millis": 823,
    "execution_start": 1634974303886,
    "source_hash": "d195da27",
    "tags": []
   },
   "outputs": [],
   "source": [
    "fig = px.histogram(df_matches['draw_size'])\n",
    "fig.show()"
   ]
  },
  {
   "cell_type": "markdown",
   "metadata": {
    "cell_id": "00014-9f9f7d82-4e6d-4b57-8fb8-595bd0a8d106",
    "deepnote_cell_type": "markdown",
    "tags": []
   },
   "source": [
    "### Tourney Level"
   ]
  },
  {
   "cell_type": "markdown",
   "metadata": {
    "cell_id": "00016-783970a7-1a39-43a4-886a-59f5dd4de223",
    "deepnote_cell_type": "markdown",
    "tags": []
   },
   "source": [
    "From below, we can notice that some records have tourney_level set to \"O\" or \"F\", which are not valid values."
   ]
  },
  {
   "cell_type": "code",
   "execution_count": null,
   "metadata": {
    "cell_id": "00016-36b3a80f-7a3c-4d7f-a191-91033bf1e31e",
    "deepnote_cell_type": "code",
    "deepnote_to_be_reexecuted": false,
    "execution_millis": 1580,
    "execution_start": 1634974304701,
    "source_hash": "d6452931",
    "tags": []
   },
   "outputs": [],
   "source": [
    "fig = px.histogram(df_matches['tourney_level'])\n",
    "fig.show()"
   ]
  },
  {
   "cell_type": "markdown",
   "metadata": {
    "cell_id": "00020-993f9ffd-6073-4adc-88dc-9fce27ee1080",
    "deepnote_cell_type": "markdown",
    "tags": []
   },
   "source": [
    "### Winner_entry"
   ]
  },
  {
   "cell_type": "code",
   "execution_count": null,
   "metadata": {
    "cell_id": "00021-81f713fa-5780-4984-b654-1ad052c2b8bd",
    "deepnote_cell_type": "code",
    "deepnote_to_be_reexecuted": false,
    "execution_millis": 1657,
    "execution_start": 1634974332719,
    "source_hash": "4397f005",
    "tags": []
   },
   "outputs": [],
   "source": [
    "fig = px.histogram(df_matches['winner_entry'])\n",
    "fig.show()"
   ]
  },
  {
   "cell_type": "markdown",
   "metadata": {
    "cell_id": "00026-4b17d757-8241-4c1b-91e7-c3391c11892f",
    "deepnote_cell_type": "markdown",
    "tags": []
   },
   "source": [
    "### Hand"
   ]
  },
  {
   "cell_type": "markdown",
   "metadata": {
    "cell_id": "00042-71cf8992-71e1-404c-be9c-58ea94ac04bb",
    "deepnote_cell_type": "markdown",
    "tags": []
   },
   "source": [
    "As expected most of the matches are played by right-handed players.  "
   ]
  },
  {
   "cell_type": "code",
   "execution_count": null,
   "metadata": {
    "cell_id": "00028-8a4337c6-fce5-4274-b182-51163b9d4540",
    "deepnote_cell_type": "code",
    "deepnote_to_be_reexecuted": false,
    "execution_millis": 87,
    "execution_start": 1634974335336,
    "source_hash": "2ae9ddb5",
    "tags": []
   },
   "outputs": [],
   "source": [
    "winner_hand = go.Pie(\n",
    "    labels=['R','U', 'L'],\n",
    "    values=df_matches['winner_hand'].value_counts(),\n",
    ")\n",
    "\n",
    "loser_hand = go.Pie(\n",
    "    labels=['R','U','L'],\n",
    "    values=df_matches['loser_hand'].value_counts(),\n",
    ")\n",
    "\n",
    "fig = make_subplots(rows=1, cols=2, specs=[[{\"type\": \"pie\"}, {\"type\": \"pie\"}]])\n",
    "fig.add_trace(winner_hand, row=1, col=1)\n",
    "fig.add_trace(loser_hand, row=1, col=2)\n",
    "\n",
    "fig.show()"
   ]
  },
  {
   "cell_type": "markdown",
   "metadata": {
    "cell_id": "00044-4e4606c0-8b56-4ee2-ac11-eb0601bbd29a",
    "deepnote_cell_type": "markdown",
    "tags": []
   },
   "source": [
    "We also notice that several players have incompatible data regarding the hand used in the matches. For instance, Amina Anshba has both L and U tags. In the following, we first show the analysis for winner players and then for loser players:"
   ]
  },
  {
   "cell_type": "code",
   "execution_count": null,
   "metadata": {
    "cell_id": "00044-51dcfa6a-3e79-468e-b189-fc4812e8a965",
    "deepnote_cell_type": "code",
    "deepnote_to_be_reexecuted": false,
    "execution_millis": 46,
    "execution_start": 1634974335515,
    "is_code_hidden": false,
    "source_hash": "1cd3f8b6",
    "tags": []
   },
   "outputs": [],
   "source": [
    "# call groupby method.\n",
    "df = df_matches.groupby('winner_name')\n",
    "# call agg method\n",
    "df = df.agg({\"winner_hand\": \"nunique\"})\n",
    "# call reset_index method\n",
    "df = df.reset_index()\n",
    "# print dataframe\n",
    "display(df[df['winner_hand'] > 1])"
   ]
  },
  {
   "cell_type": "code",
   "execution_count": null,
   "metadata": {
    "cell_id": "00046-a240b69e-0fcd-40da-833e-320a1c4870a4",
    "deepnote_cell_type": "code",
    "deepnote_to_be_reexecuted": false,
    "execution_millis": 83,
    "execution_start": 1634976576347,
    "is_code_hidden": false,
    "source_hash": "de2342ea",
    "tags": []
   },
   "outputs": [],
   "source": [
    "print(df_matches[(df_matches['winner_name'] == 'Amina Anshba')]['winner_hand'].unique())\n",
    "print(df_matches[(df_matches['winner_name'] == 'Anastasia Kulikova')]['winner_hand'].unique())\n",
    "print(df_matches[(df_matches['winner_name'] == 'Qinwen Zheng')]['winner_hand'].unique())\n",
    "print(df_matches[(df_matches['winner_name'] == 'Vanessa Ersoz')]['winner_hand'].unique())\n",
    "print(df_matches[(df_matches['winner_name'] == 'Weronika Baszak')]['winner_hand'].unique())"
   ]
  },
  {
   "cell_type": "code",
   "execution_count": null,
   "metadata": {
    "cell_id": "00047-33e8cf60-10d9-40f3-9bb6-33434ebd2b3d",
    "deepnote_cell_type": "code",
    "deepnote_to_be_reexecuted": false,
    "execution_millis": 86,
    "execution_start": 1634974335679,
    "is_code_hidden": false,
    "source_hash": "db9b32ac",
    "tags": []
   },
   "outputs": [],
   "source": [
    "# call groupby method.\n",
    "df = df_matches.groupby('loser_name')\n",
    "# call agg method\n",
    "df = df.agg({\"loser_hand\": \"nunique\"})\n",
    "# call reset_index method\n",
    "df = df.reset_index()\n",
    "# print dataframe\n",
    "display(df[df['loser_hand'] > 1])"
   ]
  },
  {
   "cell_type": "markdown",
   "metadata": {
    "cell_id": "00011-9b11ff01-5697-476f-ad18-be393c8a24b9",
    "deepnote_cell_type": "markdown",
    "tags": []
   },
   "source": [
    "### Height"
   ]
  },
  {
   "cell_type": "markdown",
   "metadata": {
    "cell_id": "00008-f37a4302-d347-4b4a-ac1a-60dafba5f862",
    "deepnote_cell_type": "text-cell-p",
    "is_collapsed": false,
    "tags": []
   },
   "source": [
    "The points out of the interval 155 &lt; x &lt; 206"
   ]
  },
  {
   "cell_type": "code",
   "execution_count": null,
   "metadata": {
    "cell_id": "00003-d9632756-6b19-456a-ab4e-ba0b33c25630",
    "deepnote_cell_type": "code",
    "deepnote_to_be_reexecuted": false,
    "execution_millis": 911,
    "execution_start": 1634974323302,
    "source_hash": "e1d4a49e",
    "tags": []
   },
   "outputs": [],
   "source": [
    "df_height_winner = df_matches['winner_ht']\n",
    "df_height_loser = df_matches['loser_ht']\n",
    "fig = px.box(df_height_winner, y=\"winner_ht\")\n",
    "fig.show()\n"
   ]
  },
  {
   "cell_type": "code",
   "execution_count": null,
   "metadata": {
    "cell_id": "00011-1cafde46-50e8-45b8-957a-2ce877dad133",
    "deepnote_cell_type": "code",
    "deepnote_to_be_reexecuted": false,
    "execution_millis": 1917,
    "execution_start": 1634974324200,
    "source_hash": "cc5d380e",
    "tags": []
   },
   "outputs": [],
   "source": [
    "df_height_winner.plot.kde()\n",
    "df_height_winner.mean()"
   ]
  },
  {
   "cell_type": "code",
   "execution_count": null,
   "metadata": {
    "cell_id": "00005-f426be67-e2d8-484e-aa97-32035fe26f97",
    "deepnote_cell_type": "code",
    "deepnote_to_be_reexecuted": false,
    "execution_millis": 953,
    "execution_start": 1634974326136,
    "source_hash": "81fd3e95",
    "tags": []
   },
   "outputs": [],
   "source": [
    "fig = px.box(df_height_loser,y=\"loser_ht\")\n",
    "fig.show()"
   ]
  },
  {
   "cell_type": "code",
   "execution_count": null,
   "metadata": {
    "cell_id": "00009-5de243c9-0b6f-49ee-8532-5f3e4f9191af",
    "deepnote_cell_type": "code",
    "deepnote_to_be_reexecuted": false,
    "execution_millis": 1590,
    "execution_start": 1634974327076,
    "source_hash": "ca15885d",
    "tags": []
   },
   "outputs": [],
   "source": [
    "df_height_loser.plot.kde()\n",
    "df_height_loser.mean()"
   ]
  },
  {
   "cell_type": "markdown",
   "metadata": {
    "cell_id": "00049-bf643f6b-cf6f-45bf-abdf-3c6175d9d0d8",
    "deepnote_cell_type": "markdown",
    "tags": []
   },
   "source": [
    "### IOC"
   ]
  },
  {
   "cell_type": "code",
   "execution_count": null,
   "metadata": {
    "cell_id": "00050-0c5d92cc-a338-4ed0-8aee-13c1f86fb41a",
    "deepnote_cell_type": "code",
    "deepnote_to_be_reexecuted": false,
    "execution_millis": 1536,
    "execution_start": 1634974388780,
    "source_hash": "5d8668d1",
    "tags": []
   },
   "outputs": [],
   "source": [
    "fig = px.histogram(df_matches['winner_ioc'])\n",
    "fig.show()"
   ]
  },
  {
   "cell_type": "code",
   "execution_count": null,
   "metadata": {
    "cell_id": "00051-2c9e0dcc-928f-467a-bf55-4280d22b1227",
    "deepnote_cell_type": "code",
    "deepnote_to_be_reexecuted": false,
    "execution_millis": 1603,
    "execution_start": 1634974408648,
    "source_hash": "d1a147ef",
    "tags": []
   },
   "outputs": [],
   "source": [
    "fig = px.histogram(df_matches['loser_ioc'])\n",
    "fig.show()"
   ]
  },
  {
   "cell_type": "markdown",
   "metadata": {
    "cell_id": "00003-282370cc-cf3e-468a-bb0e-4168c1d9d3fb",
    "deepnote_cell_type": "markdown",
    "tags": []
   },
   "source": [
    "### Age"
   ]
  },
  {
   "cell_type": "markdown",
   "metadata": {
    "cell_id": "00003-1d40c8aa-97ec-43bd-8ec8-8b4c6b4c9242",
    "deepnote_cell_type": "markdown",
    "tags": []
   },
   "source": [
    "Outlier threshold for winner age: 40~42"
   ]
  },
  {
   "cell_type": "code",
   "execution_count": null,
   "metadata": {
    "cell_id": "00002-c08bcbc2-4370-469a-946c-ad19c0c22d37",
    "deepnote_cell_type": "code",
    "deepnote_to_be_reexecuted": false,
    "execution_millis": 1116,
    "execution_start": 1634974306271,
    "source_hash": "162c45c2",
    "tags": []
   },
   "outputs": [],
   "source": [
    "df_winner_age = df_matches['winner_age']\n",
    "fig = px.box(df_winner_age,y=\"winner_age\")\n",
    "fig.show()"
   ]
  },
  {
   "cell_type": "code",
   "execution_count": null,
   "metadata": {
    "cell_id": "00004-ddb4beed-270f-4190-86b8-55db08ac4716",
    "deepnote_cell_type": "code",
    "deepnote_to_be_reexecuted": false,
    "execution_millis": 8231,
    "execution_start": 1634974307361,
    "source_hash": "dc67f608",
    "tags": []
   },
   "outputs": [],
   "source": [
    "df_winner_age.plot.kde()"
   ]
  },
  {
   "cell_type": "code",
   "execution_count": null,
   "metadata": {
    "cell_id": "00006-cff05bdc-bed9-48c2-910a-ef3931d93a05",
    "deepnote_cell_type": "code",
    "deepnote_to_be_reexecuted": false,
    "execution_millis": 1146,
    "execution_start": 1634974315597,
    "source_hash": "d1fb02e",
    "tags": []
   },
   "outputs": [],
   "source": [
    "df_loser_age = df_matches['loser_age']\n",
    "fig = px.box(df_loser_age ,y=\"loser_age\")\n",
    "fig.show()"
   ]
  },
  {
   "cell_type": "markdown",
   "metadata": {
    "cell_id": "00007-566c79f0-de83-42a4-95c1-9066b0cb5331",
    "deepnote_cell_type": "markdown",
    "tags": []
   },
   "source": [
    "Outlier threshold for loser age: 40~42"
   ]
  },
  {
   "cell_type": "code",
   "execution_count": null,
   "metadata": {
    "cell_id": "00007-63b598ea-0ead-4f2b-8070-c1bfda2fed67",
    "deepnote_cell_type": "code",
    "deepnote_to_be_reexecuted": false,
    "execution_millis": 6576,
    "execution_start": 1634974316717,
    "source_hash": "dc67f608",
    "tags": []
   },
   "outputs": [],
   "source": [
    "df_winner_age.plot.kde()"
   ]
  },
  {
   "cell_type": "markdown",
   "metadata": {
    "cell_id": "00022-c8a79d07-5ad5-41cf-8eaa-4edffd554a9d",
    "deepnote_cell_type": "markdown",
    "tags": []
   },
   "source": [
    "### Best_of"
   ]
  },
  {
   "cell_type": "markdown",
   "metadata": {
    "cell_id": "00023-348e6eb1-6afb-4cba-a841-a759c55ac6f7",
    "deepnote_cell_type": "markdown",
    "tags": []
   },
   "source": [
    "From the chart below we can notice that most of the games are best of 3. Therefore, we will substitute missing values with 3."
   ]
  },
  {
   "cell_type": "code",
   "execution_count": null,
   "metadata": {
    "cell_id": "00023-bb880e23-d812-482e-99a6-d33ae5d570b7",
    "deepnote_cell_type": "code",
    "deepnote_to_be_reexecuted": false,
    "execution_millis": 982,
    "execution_start": 1634974334363,
    "source_hash": "e7621726",
    "tags": []
   },
   "outputs": [],
   "source": [
    "fig = px.histogram(df_matches['best_of'])\n",
    "fig.show()"
   ]
  },
  {
   "cell_type": "markdown",
   "metadata": {
    "cell_id": "00046-176728f1-92df-444e-b1f2-f89410beccf5",
    "deepnote_cell_type": "markdown",
    "tags": []
   },
   "source": [
    "### Round"
   ]
  },
  {
   "cell_type": "markdown",
   "metadata": {
    "cell_id": "00047-66470a88-6392-4903-b5cd-c7cdb1692763",
    "deepnote_cell_type": "markdown",
    "tags": []
   },
   "source": [
    "As expected:\n",
    "- the finals (F) are closely half of the semifinals (SF)\n",
    "- the semifinals (F) are closely half of the quarter finals (QF)\n",
    "- and so on...\n",
    "\n",
    "Moreover, we think that R64 or R128 matches are less than R32 because most of the tournaments start with a draw of 32 players"
   ]
  },
  {
   "cell_type": "code",
   "execution_count": null,
   "metadata": {
    "cell_id": "00047-6af54d9f-6a1b-4973-acac-473cd69131a1",
    "deepnote_cell_type": "code",
    "deepnote_to_be_reexecuted": false,
    "execution_millis": 1789,
    "execution_start": 1634977027306,
    "source_hash": "7967fe9",
    "tags": []
   },
   "outputs": [],
   "source": [
    "df_round= df_matches['round']\n",
    "fig = px.histogram(df_round)\n",
    "fig.show()"
   ]
  },
  {
   "cell_type": "markdown",
   "metadata": {
    "cell_id": "00014-229bc840-9b82-47ce-baf8-19bd767eee7d",
    "deepnote_cell_type": "markdown",
    "tags": []
   },
   "source": [
    "### Minutes"
   ]
  },
  {
   "cell_type": "markdown",
   "metadata": {
    "cell_id": "00017-d589d7a3-65f9-4ac8-8d74-faaa63369b72",
    "deepnote_cell_type": "markdown",
    "tags": []
   },
   "source": [
    "Threshold minutes: 1-300"
   ]
  },
  {
   "cell_type": "code",
   "execution_count": null,
   "metadata": {
    "cell_id": "00014-aa8005ac-bf10-410c-8e77-f5ff4d1c95bd",
    "deepnote_cell_type": "code",
    "deepnote_to_be_reexecuted": false,
    "execution_millis": 903,
    "execution_start": 1634974328681,
    "source_hash": "28242052",
    "tags": []
   },
   "outputs": [],
   "source": [
    "df_minutes= df_matches['minutes']\n",
    "#df = px.data.tips()\n",
    "#fig = px.box(df, y=\"total_bill\")\n",
    "#fig.show()\n",
    "\n",
    "fig = px.box(df_minutes,y=\"minutes\")\n",
    "fig.show()"
   ]
  },
  {
   "cell_type": "code",
   "execution_count": null,
   "metadata": {
    "cell_id": "00015-dc02c293-7e7e-4ef0-8c0e-40fccc603038",
    "deepnote_cell_type": "code",
    "deepnote_to_be_reexecuted": false,
    "execution_millis": 3158,
    "execution_start": 1634974329555,
    "source_hash": "c4fa1858",
    "tags": []
   },
   "outputs": [],
   "source": [
    "df_minutes.plot.kde()\n",
    "df_minutes.mean()"
   ]
  },
  {
   "cell_type": "markdown",
   "metadata": {
    "cell_id": "00053-24d2895c-82d0-4b89-bc15-3ee6654ec131",
    "deepnote_cell_type": "markdown",
    "tags": []
   },
   "source": [
    "### Ace"
   ]
  },
  {
   "cell_type": "code",
   "execution_count": null,
   "metadata": {
    "cell_id": "00054-f116e65e-dc1d-480a-bfc5-e16a632a6978",
    "deepnote_cell_type": "code",
    "deepnote_to_be_reexecuted": false,
    "execution_millis": 1328,
    "execution_start": 1634977869415,
    "source_hash": "2f55973c",
    "tags": []
   },
   "outputs": [],
   "source": [
    "df_winner_ace = df_matches[\"w_ace\"]\n",
    "\n",
    "fig = px.histogram(df_winner_ace)\n",
    "fig.show()\n"
   ]
  },
  {
   "cell_type": "code",
   "execution_count": null,
   "metadata": {
    "cell_id": "00055-5ccdf9b3-a478-4023-9f99-61ce2125a728",
    "deepnote_cell_type": "code",
    "deepnote_to_be_reexecuted": false,
    "execution_millis": 1205,
    "execution_start": 1634977940251,
    "source_hash": "3fc36cc9",
    "tags": []
   },
   "outputs": [],
   "source": [
    "df_w_ace = df_matches['w_ace']\n",
    "\n",
    "fig = px.box(df_w_ace, y=\"w_ace\")\n",
    "fig.show()"
   ]
  },
  {
   "cell_type": "code",
   "execution_count": null,
   "metadata": {
    "cell_id": "00055-94f33524-1a65-4541-99ca-c97645f48552",
    "deepnote_cell_type": "code",
    "deepnote_to_be_reexecuted": false,
    "execution_millis": 1219,
    "execution_start": 1634977998614,
    "source_hash": "9ca908e1",
    "tags": []
   },
   "outputs": [],
   "source": [
    "df_loser_ace = df_matches[\"l_ace\"]\n",
    "\n",
    "fig = px.histogram(df_loser_ace)\n",
    "fig.show()"
   ]
  },
  {
   "cell_type": "code",
   "execution_count": null,
   "metadata": {
    "cell_id": "00057-d47703d8-00a2-4ba4-833c-36f0982b4b8f",
    "deepnote_cell_type": "code",
    "deepnote_to_be_reexecuted": false,
    "execution_millis": 696,
    "execution_start": 1634977995215,
    "source_hash": "cc3879e1",
    "tags": []
   },
   "outputs": [],
   "source": [
    "df_l_ace = df_matches['l_ace']\n",
    "\n",
    "fig = px.box(df_l_ace, y=\"l_ace\")\n",
    "fig.show()"
   ]
  },
  {
   "cell_type": "markdown",
   "metadata": {
    "cell_id": "00058-568decdb-c6b1-48a8-8ca8-d547da3a7876",
    "deepnote_cell_type": "markdown",
    "tags": []
   },
   "source": [
    "### Double Faul"
   ]
  },
  {
   "cell_type": "code",
   "execution_count": null,
   "metadata": {
    "cell_id": "00059-ff8b515b-1e41-47b9-b2c9-ca2a0be5344d",
    "deepnote_cell_type": "code",
    "deepnote_to_be_reexecuted": false,
    "execution_millis": 1245,
    "execution_start": 1634978118305,
    "source_hash": "67ad8ace",
    "tags": []
   },
   "outputs": [],
   "source": [
    "df_winner_df = df_matches[\"w_df\"]\n",
    "\n",
    "fig = px.histogram(df_winner_df)\n",
    "fig.show()"
   ]
  },
  {
   "cell_type": "code",
   "execution_count": null,
   "metadata": {
    "cell_id": "00059-748ef9e4-5d9e-48a6-a004-e6589325adbc",
    "deepnote_cell_type": "code",
    "deepnote_to_be_reexecuted": false,
    "execution_millis": 707,
    "execution_start": 1634978211704,
    "source_hash": "765813db",
    "tags": []
   },
   "outputs": [],
   "source": [
    "df_winner_df = df_matches[\"w_df\"]\n",
    "fig = px.box(df_winner_df, y=\"w_df\")\n",
    "fig.show()"
   ]
  },
  {
   "cell_type": "code",
   "execution_count": null,
   "metadata": {
    "cell_id": "00059-602104be-7a0a-4ad7-a559-511595a26e64",
    "deepnote_cell_type": "code",
    "deepnote_to_be_reexecuted": false,
    "execution_millis": 821,
    "execution_start": 1634978136191,
    "source_hash": "a6cc09a8",
    "tags": []
   },
   "outputs": [],
   "source": [
    "df_loser_df = df_matches[\"l_df\"]\n",
    "\n",
    "fig = px.histogram(df_loser_df)\n",
    "fig.show()"
   ]
  },
  {
   "cell_type": "code",
   "execution_count": null,
   "metadata": {
    "cell_id": "00060-2bbf7f4c-0bff-4a57-ab5a-1c0ff7427bde",
    "deepnote_cell_type": "code",
    "deepnote_to_be_reexecuted": false,
    "execution_millis": 1115,
    "execution_start": 1634978238828,
    "source_hash": "5f7aded6",
    "tags": []
   },
   "outputs": [],
   "source": [
    "df_loser_df = df_matches[\"l_df\"]\n",
    "fig = px.box(df_loser_df, y=\"l_df\")\n",
    "fig.show()"
   ]
  },
  {
   "cell_type": "markdown",
   "metadata": {
    "cell_id": "00062-24ece129-d023-4523-b5d9-3587765c5fc8",
    "deepnote_cell_type": "markdown",
    "tags": []
   },
   "source": [
    "### Serve points"
   ]
  },
  {
   "cell_type": "code",
   "execution_count": null,
   "metadata": {
    "cell_id": "00065-f89888c0-f951-4866-8629-7924b725d447",
    "deepnote_cell_type": "code",
    "deepnote_to_be_reexecuted": false,
    "execution_millis": 1178,
    "execution_start": 1634978480787,
    "source_hash": "c38c0413",
    "tags": []
   },
   "outputs": [],
   "source": [
    "df_w_svpt = df_matches[\"w_svpt\"]\n",
    "\n",
    "fig = px.histogram(df_w_svpt)\n",
    "fig.show()"
   ]
  },
  {
   "cell_type": "code",
   "execution_count": null,
   "metadata": {
    "cell_id": "00065-a048ba65-df53-4b95-903a-c074e07ad1d3",
    "deepnote_cell_type": "code",
    "deepnote_to_be_reexecuted": false,
    "execution_millis": 2008,
    "execution_start": 1634978217394,
    "source_hash": "db9a6405",
    "tags": []
   },
   "outputs": [],
   "source": [
    "df_w_svpt = df_matches['w_svpt']\n",
    "\n",
    "fig = px.box(df_w_svpt, y=\"w_svpt\")\n",
    "fig.show()"
   ]
  },
  {
   "cell_type": "code",
   "execution_count": null,
   "metadata": {
    "cell_id": "00066-bfe30707-5bcd-40f0-bda0-4bc7721181ce",
    "deepnote_cell_type": "code",
    "deepnote_to_be_reexecuted": false,
    "execution_millis": 1353,
    "execution_start": 1634978298326,
    "source_hash": "f502b5f7",
    "tags": []
   },
   "outputs": [],
   "source": [
    "df_l_svpt = df_matches[\"l_svpt\"]\n",
    "\n",
    "fig = px.histogram(df_l_svpt)\n",
    "fig.show()"
   ]
  },
  {
   "cell_type": "code",
   "execution_count": null,
   "metadata": {
    "cell_id": "00067-f1213610-96f2-4f91-bfa0-4c0e3638544b",
    "deepnote_cell_type": "code",
    "deepnote_to_be_reexecuted": false,
    "execution_millis": 1128,
    "execution_start": 1634978314840,
    "source_hash": "9ca5b722",
    "tags": []
   },
   "outputs": [],
   "source": [
    "df_l_svpt = df_matches['l_svpt']\n",
    "\n",
    "fig = px.box(df_l_svpt, y=\"l_svpt\")\n",
    "fig.show()"
   ]
  },
  {
   "cell_type": "markdown",
   "metadata": {
    "cell_id": "00068-1542d7a5-3bc4-4338-b77b-cafca7a6224d",
    "deepnote_cell_type": "markdown",
    "tags": []
   },
   "source": [
    "### First served point"
   ]
  },
  {
   "cell_type": "code",
   "execution_count": null,
   "metadata": {
    "cell_id": "00069-92fa1b24-6ca1-4486-9179-4534bfe18d44",
    "deepnote_cell_type": "code",
    "deepnote_to_be_reexecuted": false,
    "execution_millis": 900,
    "execution_start": 1634978360343,
    "source_hash": "dcce1793",
    "tags": []
   },
   "outputs": [],
   "source": [
    "df_w_1stIn = df_matches['w_1stIn']\n",
    "fig = px.histogram(df_w_1stIn)\n",
    "fig.show()"
   ]
  },
  {
   "cell_type": "code",
   "execution_count": null,
   "metadata": {
    "cell_id": "00068-148e6ae4-85c6-4638-a3f3-c7a423270a5c",
    "deepnote_cell_type": "code",
    "deepnote_to_be_reexecuted": false,
    "execution_millis": 785,
    "execution_start": 1634978289996,
    "source_hash": "b0dc6026",
    "tags": []
   },
   "outputs": [],
   "source": [
    "fig = px.box(df_w_1stIn, y='w_1stIn')\n",
    "fig.show()"
   ]
  },
  {
   "cell_type": "code",
   "execution_count": null,
   "metadata": {
    "cell_id": "00072-c1c700a4-9070-4e5f-91ed-eb08d40189ce",
    "deepnote_cell_type": "code",
    "deepnote_to_be_reexecuted": false,
    "execution_millis": 1319,
    "execution_start": 1634978460126,
    "source_hash": "5b650c32",
    "tags": []
   },
   "outputs": [],
   "source": [
    "df_l_1stIn = df_matches['l_1stIn']\n",
    "fig = px.histogram(df_l_1stIn)\n",
    "fig.show()"
   ]
  },
  {
   "cell_type": "code",
   "execution_count": null,
   "metadata": {
    "cell_id": "00073-3560274e-f73b-4745-a82d-c2a891ea3935",
    "deepnote_cell_type": "code",
    "deepnote_to_be_reexecuted": false,
    "execution_millis": 1053,
    "execution_start": 1634978484691,
    "source_hash": "6d8e132d",
    "tags": []
   },
   "outputs": [],
   "source": [
    "fig = px.box(df_l_1stIn, y='l_1stIn')\n",
    "fig.show()"
   ]
  },
  {
   "cell_type": "markdown",
   "metadata": {
    "cell_id": "00024-631eb4c9-a3e7-45da-b771-0c18de60b807",
    "deepnote_cell_type": "markdown",
    "tags": []
   },
   "source": [
    "## Correlation among attributes\n"
   ]
  },
  {
   "cell_type": "markdown",
   "metadata": {
    "cell_id": "00025-7b7d6b18-2840-49aa-9b6f-abe572fd17c7",
    "deepnote_cell_type": "markdown",
    "tags": []
   },
   "source": [
    "We create the correlation matrix between all the attributes of the dataset. We noticed that there is **high** correlation:\n",
    "\n",
    "- Between **draw_size** and **tourney_spectators** with a correlation of ```0.93```, that makes sense because the higher is the number of partipants, the higher will be the number of match and therefore of spectators. \n",
    "- **Tourney_revenue** and **tourney_spectators** have a correlation of ```0.9```, which seems reasonable since the revenue is linked to the amount of spectators\n",
    "- There happens to be also correlation between **draw_size** and **tourney_revenue**, the bigger is the draw_size of the tourney the bigger is its revenue\n",
    "- For both winner and loser there's correlation between the number of breakpoints faced (**W_bdFaced**, **L_bpfaced**) and the number of breakpoints saved (**W_bdSaved**, **L_bdSaved**)\n",
    "- There're other obvious correlations like the one between **w_SvGms** and **L_SvGms** indicating that the number of served games for both winner and loser are nearly the same, "
   ]
  },
  {
   "cell_type": "code",
   "execution_count": null,
   "metadata": {
    "cell_id": "00024-fa02da0b-f9cc-4b83-81d4-0b04aa11b368",
    "deepnote_cell_type": "code",
    "deepnote_to_be_reexecuted": false,
    "execution_millis": 596,
    "execution_start": 1634974336012,
    "is_output_hidden": false,
    "source_hash": "14445e06",
    "tags": []
   },
   "outputs": [],
   "source": [
    "corrMatrix = df_matches.corr() \n",
    "fig = px.imshow(corrMatrix)\n",
    "fig.show()"
   ]
  },
  {
   "cell_type": "code",
   "execution_count": null,
   "metadata": {
    "cell_id": "00034-096d57db-abf5-4a69-971a-357ff8688793",
    "deepnote_cell_type": "code",
    "deepnote_to_be_reexecuted": false,
    "execution_millis": 2,
    "execution_start": 1634974336620,
    "source_hash": "32ce7a0c",
    "tags": []
   },
   "outputs": [],
   "source": [
    "df_matches['w_df'].corr(df_matches['match_num'])"
   ]
  },
  {
   "cell_type": "code",
   "execution_count": null,
   "metadata": {
    "cell_id": "00028-9e21ff98-f2bc-41ba-83df-79eab286fec9",
    "deepnote_cell_type": "code",
    "deepnote_to_be_reexecuted": false,
    "execution_millis": 2088,
    "execution_start": 1634974772927,
    "source_hash": "68452199",
    "tags": []
   },
   "outputs": [],
   "source": [
    "fig = px.scatter(x = df_matches['w_SvGms'], y = df_matches['l_SvGms'], trendline=\"ols\")\n",
    "fig.show()"
   ]
  },
  {
   "cell_type": "markdown",
   "metadata": {
    "cell_id": "00058-9c8f2f84-3709-4161-92b2-65686b06fdbe",
    "deepnote_cell_type": "markdown",
    "tags": []
   },
   "source": [
    "### Winner Rank"
   ]
  },
  {
   "cell_type": "markdown",
   "metadata": {
    "cell_id": "00059-457fe286-5eea-4cdb-931c-fa7ba99d3977",
    "deepnote_cell_type": "markdown",
    "tags": []
   },
   "source": [
    "To see the most significant tournaments, we compute the average of the winner ranks for each tourney:"
   ]
  },
  {
   "cell_type": "code",
   "execution_count": null,
   "metadata": {
    "cell_id": "00060-ca92a9ff-488b-406c-8349-05f0cf7c5661",
    "deepnote_cell_type": "code",
    "deepnote_to_be_reexecuted": false,
    "execution_millis": 76,
    "execution_start": 1634975971523,
    "source_hash": "8f7ccd73",
    "tags": []
   },
   "outputs": [],
   "source": [
    "df_rank_tourney = df_matches.groupby('tourney_name').agg({\"winner_rank\" : \"mean\"})\n",
    "# call reset_index method\n",
    "df_rank_tourney = df_rank_tourney.reset_index()\n",
    "fig = px.histogram(x = df_rank_tourney['tourney_name'], y = df_rank_tourney['winner_rank'])\n",
    "fig.show()"
   ]
  },
  {
   "cell_type": "markdown",
   "metadata": {
    "cell_id": "00061-779c9d88-6d50-4f56-a178-27620359d130",
    "deepnote_cell_type": "markdown",
    "tags": []
   },
   "source": [
    "As expected, tourneis such as Davis Cup have lower average ranks than tourneis such as Prokuplije 10k"
   ]
  },
  {
   "cell_type": "markdown",
   "metadata": {
    "cell_id": "00062-0d58829a-f4a1-4a56-bff6-f0d2cd37cdde",
    "deepnote_cell_type": "markdown",
    "tags": []
   },
   "source": [
    "We study the distibution of the attribute with the usual box plot:"
   ]
  },
  {
   "cell_type": "code",
   "execution_count": null,
   "metadata": {
    "cell_id": "00059-cdde5643-033e-4209-95cd-5ed673760f64",
    "deepnote_cell_type": "code",
    "deepnote_to_be_reexecuted": false,
    "execution_millis": 1059,
    "execution_start": 1634975471808,
    "source_hash": "2179a2b5",
    "tags": []
   },
   "outputs": [],
   "source": [
    "df_winner_rank = df_matches['winner_rank']\n",
    "fig = px.box(df_winner_rank,y=\"winner_rank\")\n",
    "fig.show()"
   ]
  },
  {
   "cell_type": "code",
   "execution_count": null,
   "metadata": {
    "cell_id": "00061-32fc7773-dbd9-497b-b783-7792b25b03cc",
    "deepnote_cell_type": "code",
    "deepnote_to_be_reexecuted": false,
    "execution_millis": 8308,
    "execution_start": 1634977799176,
    "source_hash": "8692d923",
    "tags": []
   },
   "outputs": [],
   "source": [
    "winner_hand = go.Bar(\n",
    "    x=[df_matches['w_ace']],\n",
    "    y=[df_matches['w_ace']],\n",
    ")\n",
    "\n",
    "loser_hand = go.Bar(\n",
    "    x=[df_matches['l_ace']],\n",
    "    y=[df_matches['l_ace']],\n",
    ")\n",
    "\n",
    "fig = make_subplots(rows=1, cols=2)\n",
    "fig.add_trace(winner_hand, row=1, col=1)\n",
    "fig.add_trace(loser_hand, row=1, col=2)\n",
    "\n",
    "fig.show()"
   ]
  },
  {
   "cell_type": "markdown",
   "metadata": {
    "created_in_deepnote_cell": true,
    "deepnote_cell_type": "markdown",
    "tags": []
   },
   "source": [
    "<a style='text-decoration:none;line-height:16px;display:flex;color:#5B5B62;padding:10px;justify-content:end;' href='https://deepnote.com?utm_source=created-in-deepnote-cell&projectId=de87b132-0371-4d99-94f9-c61923e2507d' target=\"_blank\">\n",
    "<img alt='Created in deepnote.com' style='display:inline;max-height:16px;margin:0px;margin-right:7.5px;' src='data:image/svg+xml;base64,PD94bWwgdmVyc2lvbj0iMS4wIiBlbmNvZGluZz0iVVRGLTgiPz4KPHN2ZyB3aWR0aD0iODBweCIgaGVpZ2h0PSI4MHB4IiB2aWV3Qm94PSIwIDAgODAgODAiIHZlcnNpb249IjEuMSIgeG1sbnM9Imh0dHA6Ly93d3cudzMub3JnLzIwMDAvc3ZnIiB4bWxuczp4bGluaz0iaHR0cDovL3d3dy53My5vcmcvMTk5OS94bGluayI+CiAgICA8IS0tIEdlbmVyYXRvcjogU2tldGNoIDU0LjEgKDc2NDkwKSAtIGh0dHBzOi8vc2tldGNoYXBwLmNvbSAtLT4KICAgIDx0aXRsZT5Hcm91cCAzPC90aXRsZT4KICAgIDxkZXNjPkNyZWF0ZWQgd2l0aCBTa2V0Y2guPC9kZXNjPgogICAgPGcgaWQ9IkxhbmRpbmciIHN0cm9rZT0ibm9uZSIgc3Ryb2tlLXdpZHRoPSIxIiBmaWxsPSJub25lIiBmaWxsLXJ1bGU9ImV2ZW5vZGQiPgogICAgICAgIDxnIGlkPSJBcnRib2FyZCIgdHJhbnNmb3JtPSJ0cmFuc2xhdGUoLTEyMzUuMDAwMDAwLCAtNzkuMDAwMDAwKSI+CiAgICAgICAgICAgIDxnIGlkPSJHcm91cC0zIiB0cmFuc2Zvcm09InRyYW5zbGF0ZSgxMjM1LjAwMDAwMCwgNzkuMDAwMDAwKSI+CiAgICAgICAgICAgICAgICA8cG9seWdvbiBpZD0iUGF0aC0yMCIgZmlsbD0iIzAyNjVCNCIgcG9pbnRzPSIyLjM3NjIzNzYyIDgwIDM4LjA0NzY2NjcgODAgNTcuODIxNzgyMiA3My44MDU3NTkyIDU3LjgyMTc4MjIgMzIuNzU5MjczOSAzOS4xNDAyMjc4IDMxLjY4MzE2ODMiPjwvcG9seWdvbj4KICAgICAgICAgICAgICAgIDxwYXRoIGQ9Ik0zNS4wMDc3MTgsODAgQzQyLjkwNjIwMDcsNzYuNDU0OTM1OCA0Ny41NjQ5MTY3LDcxLjU0MjI2NzEgNDguOTgzODY2LDY1LjI2MTk5MzkgQzUxLjExMjI4OTksNTUuODQxNTg0MiA0MS42NzcxNzk1LDQ5LjIxMjIyODQgMjUuNjIzOTg0Niw0OS4yMTIyMjg0IEMyNS40ODQ5Mjg5LDQ5LjEyNjg0NDggMjkuODI2MTI5Niw0My4yODM4MjQ4IDM4LjY0NzU4NjksMzEuNjgzMTY4MyBMNzIuODcxMjg3MSwzMi41NTQ0MjUgTDY1LjI4MDk3Myw2Ny42NzYzNDIxIEw1MS4xMTIyODk5LDc3LjM3NjE0NCBMMzUuMDA3NzE4LDgwIFoiIGlkPSJQYXRoLTIyIiBmaWxsPSIjMDAyODY4Ij48L3BhdGg+CiAgICAgICAgICAgICAgICA8cGF0aCBkPSJNMCwzNy43MzA0NDA1IEwyNy4xMTQ1MzcsMC4yNTcxMTE0MzYgQzYyLjM3MTUxMjMsLTEuOTkwNzE3MDEgODAsMTAuNTAwMzkyNyA4MCwzNy43MzA0NDA1IEM4MCw2NC45NjA0ODgyIDY0Ljc3NjUwMzgsNzkuMDUwMzQxNCAzNC4zMjk1MTEzLDgwIEM0Ny4wNTUzNDg5LDc3LjU2NzA4MDggNTMuNDE4MjY3Nyw3MC4zMTM2MTAzIDUzLjQxODI2NzcsNTguMjM5NTg4NSBDNTMuNDE4MjY3Nyw0MC4xMjg1NTU3IDM2LjMwMzk1NDQsMzcuNzMwNDQwNSAyNS4yMjc0MTcsMzcuNzMwNDQwNSBDMTcuODQzMDU4NiwzNy43MzA0NDA1IDkuNDMzOTE5NjYsMzcuNzMwNDQwNSAwLDM3LjczMDQ0MDUgWiIgaWQ9IlBhdGgtMTkiIGZpbGw9IiMzNzkzRUYiPjwvcGF0aD4KICAgICAgICAgICAgPC9nPgogICAgICAgIDwvZz4KICAgIDwvZz4KPC9zdmc+' > </img>\n",
    "Created in <span style='font-weight:600;margin-left:4px;'>Deepnote</span></a>"
   ]
  }
 ],
 "metadata": {
  "deepnote": {
   "is_reactive": false
  },
  "deepnote_execution_queue": [],
  "deepnote_notebook_id": "62c5148f-8e7c-4775-ba7c-87258b11cead",
  "interpreter": {
   "hash": "eb9dbec9fb961a9d47594eec49f43f61073fc985824c2246ab8d4bde48df8836"
  },
  "kernelspec": {
   "display_name": "Python 3",
   "language": "python",
   "name": "python3"
  },
  "language_info": {
   "codemirror_mode": {
    "name": "ipython",
    "version": 3
   },
   "file_extension": ".py",
   "mimetype": "text/x-python",
   "name": "python",
   "nbconvert_exporter": "python",
   "pygments_lexer": "ipython3",
   "version": "3.8.5"
  }
 },
 "nbformat": 4,
 "nbformat_minor": 2
}
