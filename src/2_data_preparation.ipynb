{
 "cells": [
  {
   "cell_type": "code",
   "metadata": {
    "deepnote_to_be_reexecuted": false,
    "execution_millis": 0,
    "execution_start": 1636641130911,
    "source_hash": "f0cd7bf2",
    "tags": [],
    "cell_id": "00000-1ab99270-9304-4aa6-af39-e91f618ece47",
    "deepnote_cell_type": "code"
   },
   "source": "import numpy as np\nimport pandas as pd\nimport plotly as plt\nimport scipy\nimport math\nfrom datetime import datetime",
   "outputs": [],
   "execution_count": null
  },
  {
   "cell_type": "markdown",
   "source": "## Loading the data set\n\nReading the .csv file containing the player's data.\n",
   "metadata": {
    "tags": [],
    "cell_id": "00001-e828ebd4-4177-4dfa-9db2-b032c5969dbb",
    "deepnote_cell_type": "markdown"
   }
  },
  {
   "cell_type": "code",
   "metadata": {
    "deepnote_to_be_reexecuted": false,
    "execution_millis": 1229,
    "execution_start": 1636641130912,
    "source_hash": "84d3ccf8",
    "tags": [],
    "cell_id": "00002-0854110a-12b3-4076-9d11-07e4f607905d",
    "deepnote_cell_type": "code"
   },
   "source": "df_male_players = pd.read_csv(\"../data/male_players.csv\")\ndf_female_players = pd.read_csv(\"../data/female_players.csv\")\ndf_matches = pd.read_csv(\"../data/tennis_matches.csv\")",
   "outputs": [],
   "execution_count": null
  },
  {
   "cell_type": "markdown",
   "source": "## Data Understanding\n\nVisualize info about the dataframes: summary, data types.",
   "metadata": {
    "tags": [],
    "cell_id": "00003-1b4694df-38f5-40b9-ae1c-7499fa8bbab0",
    "deepnote_cell_type": "markdown"
   }
  },
  {
   "cell_type": "code",
   "metadata": {
    "deepnote_to_be_reexecuted": false,
    "execution_millis": 192,
    "execution_start": 1636641132173,
    "is_output_hidden": false,
    "output_cleared": false,
    "source_hash": "bd481a1f",
    "tags": [],
    "cell_id": "00004-77b6cc76-14b9-4d3d-b1a2-bae002e2487e",
    "deepnote_cell_type": "code"
   },
   "source": "df_male_players.info()\ndf_female_players.info()\ndf_matches.info()",
   "outputs": [
    {
     "name": "stdout",
     "text": "<class 'pandas.core.frame.DataFrame'>\nRangeIndex: 55208 entries, 0 to 55207\nData columns (total 2 columns):\n #   Column   Non-Null Count  Dtype \n---  ------   --------------  ----- \n 0   name     55031 non-null  object\n 1   surname  55166 non-null  object\ndtypes: object(2)\nmemory usage: 862.8+ KB\n<class 'pandas.core.frame.DataFrame'>\nRangeIndex: 46172 entries, 0 to 46171\nData columns (total 2 columns):\n #   Column   Non-Null Count  Dtype \n---  ------   --------------  ----- \n 0   name     44505 non-null  object\n 1   surname  46172 non-null  object\ndtypes: object(2)\nmemory usage: 721.6+ KB\n<class 'pandas.core.frame.DataFrame'>\nRangeIndex: 186128 entries, 0 to 186127\nData columns (total 50 columns):\n #   Column              Non-Null Count   Dtype  \n---  ------              --------------   -----  \n 0   Unnamed: 0          186128 non-null  int64  \n 1   tourney_id          186073 non-null  object \n 2   tourney_name        186103 non-null  object \n 3   surface             185940 non-null  object \n 4   draw_size           186099 non-null  float64\n 5   tourney_level       186099 non-null  object \n 6   tourney_date        186100 non-null  float64\n 7   match_num           186101 non-null  float64\n 8   winner_id           186073 non-null  float64\n 9   winner_entry        25827 non-null   object \n 10  winner_name         186101 non-null  object \n 11  winner_hand         186082 non-null  object \n 12  winner_ht           49341 non-null   float64\n 13  winner_ioc          186099 non-null  object \n 14  winner_age          183275 non-null  float64\n 15  loser_id            186100 non-null  float64\n 16  loser_entry         44154 non-null   object \n 17  loser_name          186097 non-null  object \n 18  loser_hand          186030 non-null  object \n 19  loser_ht            38348 non-null   float64\n 20  loser_ioc           186102 non-null  object \n 21  loser_age           179590 non-null  float64\n 22  score               185929 non-null  object \n 23  best_of             186099 non-null  float64\n 24  round               186098 non-null  object \n 25  minutes             81660 non-null   float64\n 26  w_ace               82310 non-null   float64\n 27  w_df                82312 non-null   float64\n 28  w_svpt              82310 non-null   float64\n 29  w_1stIn             82310 non-null   float64\n 30  w_1stWon            82312 non-null   float64\n 31  w_2ndWon            82309 non-null   float64\n 32  w_SvGms             82311 non-null   float64\n 33  w_bpSaved           82315 non-null   float64\n 34  w_bpFaced           82312 non-null   float64\n 35  l_ace               82313 non-null   float64\n 36  l_df                82319 non-null   float64\n 37  l_svpt              82315 non-null   float64\n 38  l_1stIn             82304 non-null   float64\n 39  l_1stWon            82311 non-null   float64\n 40  l_2ndWon            82312 non-null   float64\n 41  l_SvGms             82318 non-null   float64\n 42  l_bpSaved           82311 non-null   float64\n 43  l_bpFaced           82306 non-null   float64\n 44  winner_rank         166719 non-null  float64\n 45  winner_rank_points  166701 non-null  float64\n 46  loser_rank          150845 non-null  float64\n 47  loser_rank_points   150828 non-null  float64\n 48  tourney_spectators  186101 non-null  float64\n 49  tourney_revenue     186102 non-null  float64\ndtypes: float64(35), int64(1), object(14)\nmemory usage: 71.0+ MB\n",
     "output_type": "stream"
    }
   ],
   "execution_count": null
  },
  {
   "cell_type": "markdown",
   "source": "Print the data types of each attribute of the dataframes",
   "metadata": {
    "tags": [],
    "cell_id": "00005-d042850a-64c9-49a8-ac96-5abc4966dc20",
    "deepnote_cell_type": "markdown"
   }
  },
  {
   "cell_type": "code",
   "metadata": {
    "deepnote_to_be_reexecuted": false,
    "execution_millis": 13,
    "execution_start": 1636641132381,
    "is_output_hidden": false,
    "source_hash": "d8f254b3",
    "tags": [],
    "cell_id": "00006-98e42792-7721-42e4-bd6c-236066defaa4",
    "deepnote_cell_type": "code"
   },
   "source": "print(df_male_players.dtypes)\nprint(df_female_players.dtypes)\ndf_matches.dtypes",
   "outputs": [
    {
     "name": "stdout",
     "text": "name       object\nsurname    object\ndtype: object\nname       object\nsurname    object\ndtype: object\n",
     "output_type": "stream"
    },
    {
     "output_type": "execute_result",
     "execution_count": 4,
     "data": {
      "text/plain": "Unnamed: 0              int64\ntourney_id             object\ntourney_name           object\nsurface                object\ndraw_size             float64\ntourney_level          object\ntourney_date          float64\nmatch_num             float64\nwinner_id             float64\nwinner_entry           object\nwinner_name            object\nwinner_hand            object\nwinner_ht             float64\nwinner_ioc             object\nwinner_age            float64\nloser_id              float64\nloser_entry            object\nloser_name             object\nloser_hand             object\nloser_ht              float64\nloser_ioc              object\nloser_age             float64\nscore                  object\nbest_of               float64\nround                  object\nminutes               float64\nw_ace                 float64\nw_df                  float64\nw_svpt                float64\nw_1stIn               float64\nw_1stWon              float64\nw_2ndWon              float64\nw_SvGms               float64\nw_bpSaved             float64\nw_bpFaced             float64\nl_ace                 float64\nl_df                  float64\nl_svpt                float64\nl_1stIn               float64\nl_1stWon              float64\nl_2ndWon              float64\nl_SvGms               float64\nl_bpSaved             float64\nl_bpFaced             float64\nwinner_rank           float64\nwinner_rank_points    float64\nloser_rank            float64\nloser_rank_points     float64\ntourney_spectators    float64\ntourney_revenue       float64\ndtype: object"
     },
     "metadata": {}
    }
   ],
   "execution_count": null
  },
  {
   "cell_type": "markdown",
   "source": "Display how many null values are in the dataframes.",
   "metadata": {
    "tags": [],
    "cell_id": "00007-b3c09e93-68b2-40fd-9958-a36dad6e0d72",
    "deepnote_cell_type": "markdown"
   }
  },
  {
   "cell_type": "code",
   "metadata": {
    "deepnote_to_be_reexecuted": false,
    "execution_millis": 290,
    "execution_start": 1636641132413,
    "is_code_hidden": false,
    "is_output_hidden": false,
    "source_hash": "cfdc28d0",
    "tags": [],
    "cell_id": "00008-c1b4e6c6-e62d-4254-87c1-2d78f47115b9",
    "deepnote_cell_type": "code"
   },
   "source": "df_female_players.isnull()\ndf_male_players.isnull()\ndf_matches.isnull()",
   "outputs": [
    {
     "output_type": "execute_result",
     "execution_count": 5,
     "data": {
      "application/vnd.deepnote.dataframe.v2+json": {
       "row_count": 186128,
       "column_count": 50,
       "columns": [
        {
         "name": "Unnamed: 0",
         "dtype": "bool"
        },
        {
         "name": "tourney_id",
         "dtype": "bool"
        },
        {
         "name": "tourney_name",
         "dtype": "bool"
        },
        {
         "name": "surface",
         "dtype": "bool"
        },
        {
         "name": "draw_size",
         "dtype": "bool"
        },
        {
         "name": "tourney_level",
         "dtype": "bool"
        },
        {
         "name": "tourney_date",
         "dtype": "bool"
        },
        {
         "name": "match_num",
         "dtype": "bool"
        },
        {
         "name": "winner_id",
         "dtype": "bool"
        },
        {
         "name": "winner_entry",
         "dtype": "bool"
        },
        {
         "name": "winner_name",
         "dtype": "bool"
        },
        {
         "name": "winner_hand",
         "dtype": "bool"
        },
        {
         "name": "winner_ht",
         "dtype": "bool"
        },
        {
         "name": "winner_ioc",
         "dtype": "bool"
        },
        {
         "name": "winner_age",
         "dtype": "bool"
        },
        {
         "name": "loser_id",
         "dtype": "bool"
        },
        {
         "name": "loser_entry",
         "dtype": "bool"
        },
        {
         "name": "loser_name",
         "dtype": "bool"
        },
        {
         "name": "loser_hand",
         "dtype": "bool"
        },
        {
         "name": "loser_ht",
         "dtype": "bool"
        },
        {
         "name": "loser_ioc",
         "dtype": "bool"
        },
        {
         "name": "loser_age",
         "dtype": "bool"
        },
        {
         "name": "score",
         "dtype": "bool"
        },
        {
         "name": "best_of",
         "dtype": "bool"
        },
        {
         "name": "round",
         "dtype": "bool"
        },
        {
         "name": "minutes",
         "dtype": "bool"
        },
        {
         "name": "w_ace",
         "dtype": "bool"
        },
        {
         "name": "w_df",
         "dtype": "bool"
        },
        {
         "name": "w_svpt",
         "dtype": "bool"
        },
        {
         "name": "w_1stIn",
         "dtype": "bool"
        },
        {
         "name": "w_1stWon",
         "dtype": "bool"
        },
        {
         "name": "w_2ndWon",
         "dtype": "bool"
        },
        {
         "name": "w_SvGms",
         "dtype": "bool"
        },
        {
         "name": "w_bpSaved",
         "dtype": "bool"
        },
        {
         "name": "w_bpFaced",
         "dtype": "bool"
        },
        {
         "name": "l_ace",
         "dtype": "bool"
        },
        {
         "name": "l_df",
         "dtype": "bool"
        },
        {
         "name": "l_svpt",
         "dtype": "bool"
        },
        {
         "name": "l_1stIn",
         "dtype": "bool"
        },
        {
         "name": "l_1stWon",
         "dtype": "bool"
        },
        {
         "name": "l_2ndWon",
         "dtype": "bool"
        },
        {
         "name": "l_SvGms",
         "dtype": "bool"
        },
        {
         "name": "l_bpSaved",
         "dtype": "bool"
        },
        {
         "name": "l_bpFaced",
         "dtype": "bool"
        },
        {
         "name": "winner_rank",
         "dtype": "bool"
        },
        {
         "name": "winner_rank_points",
         "dtype": "bool"
        },
        {
         "name": "loser_rank",
         "dtype": "bool"
        },
        {
         "name": "loser_rank_points",
         "dtype": "bool"
        },
        {
         "name": "tourney_spectators",
         "dtype": "bool"
        },
        {
         "name": "tourney_revenue",
         "dtype": "bool"
        },
        {
         "name": "_deepnote_index_column",
         "dtype": "int64"
        }
       ],
       "rows_top": [
        {
         "Unnamed: 0": "False",
         "tourney_id": "False",
         "tourney_name": "False",
         "surface": "False",
         "draw_size": "False",
         "tourney_level": "False",
         "tourney_date": "False",
         "match_num": "False",
         "winner_id": "False",
         "winner_entry": "True",
         "winner_name": "False",
         "winner_hand": "False",
         "winner_ht": "False",
         "winner_ioc": "False",
         "winner_age": "False",
         "loser_id": "False",
         "loser_entry": "True",
         "loser_name": "False",
         "loser_hand": "False",
         "loser_ht": "False",
         "loser_ioc": "False",
         "loser_age": "False",
         "score": "False",
         "best_of": "False",
         "round": "False",
         "minutes": "False",
         "w_ace": "False",
         "w_df": "False",
         "w_svpt": "False",
         "w_1stIn": "False",
         "w_1stWon": "False",
         "w_2ndWon": "False",
         "w_SvGms": "False",
         "w_bpSaved": "False",
         "w_bpFaced": "False",
         "l_ace": "False",
         "l_df": "False",
         "l_svpt": "False",
         "l_1stIn": "False",
         "l_1stWon": "False",
         "l_2ndWon": "False",
         "l_SvGms": "False",
         "l_bpSaved": "False",
         "l_bpFaced": "False",
         "winner_rank": "False",
         "winner_rank_points": "False",
         "loser_rank": "False",
         "loser_rank_points": "False",
         "tourney_spectators": "False",
         "tourney_revenue": "False",
         "_deepnote_index_column": 0
        },
        {
         "Unnamed: 0": "False",
         "tourney_id": "False",
         "tourney_name": "False",
         "surface": "False",
         "draw_size": "False",
         "tourney_level": "False",
         "tourney_date": "False",
         "match_num": "False",
         "winner_id": "False",
         "winner_entry": "True",
         "winner_name": "False",
         "winner_hand": "False",
         "winner_ht": "False",
         "winner_ioc": "False",
         "winner_age": "False",
         "loser_id": "False",
         "loser_entry": "False",
         "loser_name": "False",
         "loser_hand": "False",
         "loser_ht": "False",
         "loser_ioc": "False",
         "loser_age": "False",
         "score": "False",
         "best_of": "False",
         "round": "False",
         "minutes": "False",
         "w_ace": "False",
         "w_df": "False",
         "w_svpt": "False",
         "w_1stIn": "False",
         "w_1stWon": "False",
         "w_2ndWon": "False",
         "w_SvGms": "False",
         "w_bpSaved": "False",
         "w_bpFaced": "False",
         "l_ace": "False",
         "l_df": "False",
         "l_svpt": "False",
         "l_1stIn": "False",
         "l_1stWon": "False",
         "l_2ndWon": "False",
         "l_SvGms": "False",
         "l_bpSaved": "False",
         "l_bpFaced": "False",
         "winner_rank": "False",
         "winner_rank_points": "False",
         "loser_rank": "False",
         "loser_rank_points": "False",
         "tourney_spectators": "False",
         "tourney_revenue": "False",
         "_deepnote_index_column": 1
        },
        {
         "Unnamed: 0": "False",
         "tourney_id": "False",
         "tourney_name": "False",
         "surface": "False",
         "draw_size": "False",
         "tourney_level": "False",
         "tourney_date": "False",
         "match_num": "False",
         "winner_id": "False",
         "winner_entry": "True",
         "winner_name": "False",
         "winner_hand": "False",
         "winner_ht": "False",
         "winner_ioc": "False",
         "winner_age": "False",
         "loser_id": "False",
         "loser_entry": "True",
         "loser_name": "False",
         "loser_hand": "False",
         "loser_ht": "False",
         "loser_ioc": "False",
         "loser_age": "False",
         "score": "False",
         "best_of": "False",
         "round": "False",
         "minutes": "False",
         "w_ace": "False",
         "w_df": "False",
         "w_svpt": "False",
         "w_1stIn": "False",
         "w_1stWon": "False",
         "w_2ndWon": "False",
         "w_SvGms": "False",
         "w_bpSaved": "False",
         "w_bpFaced": "False",
         "l_ace": "False",
         "l_df": "False",
         "l_svpt": "False",
         "l_1stIn": "False",
         "l_1stWon": "False",
         "l_2ndWon": "False",
         "l_SvGms": "False",
         "l_bpSaved": "False",
         "l_bpFaced": "False",
         "winner_rank": "False",
         "winner_rank_points": "False",
         "loser_rank": "False",
         "loser_rank_points": "False",
         "tourney_spectators": "False",
         "tourney_revenue": "False",
         "_deepnote_index_column": 2
        },
        {
         "Unnamed: 0": "False",
         "tourney_id": "False",
         "tourney_name": "False",
         "surface": "False",
         "draw_size": "False",
         "tourney_level": "False",
         "tourney_date": "False",
         "match_num": "False",
         "winner_id": "False",
         "winner_entry": "False",
         "winner_name": "False",
         "winner_hand": "False",
         "winner_ht": "False",
         "winner_ioc": "False",
         "winner_age": "False",
         "loser_id": "False",
         "loser_entry": "True",
         "loser_name": "False",
         "loser_hand": "False",
         "loser_ht": "False",
         "loser_ioc": "False",
         "loser_age": "False",
         "score": "False",
         "best_of": "False",
         "round": "False",
         "minutes": "False",
         "w_ace": "False",
         "w_df": "False",
         "w_svpt": "False",
         "w_1stIn": "False",
         "w_1stWon": "False",
         "w_2ndWon": "False",
         "w_SvGms": "False",
         "w_bpSaved": "False",
         "w_bpFaced": "False",
         "l_ace": "False",
         "l_df": "False",
         "l_svpt": "False",
         "l_1stIn": "False",
         "l_1stWon": "False",
         "l_2ndWon": "False",
         "l_SvGms": "False",
         "l_bpSaved": "False",
         "l_bpFaced": "False",
         "winner_rank": "False",
         "winner_rank_points": "False",
         "loser_rank": "False",
         "loser_rank_points": "False",
         "tourney_spectators": "False",
         "tourney_revenue": "False",
         "_deepnote_index_column": 3
        },
        {
         "Unnamed: 0": "False",
         "tourney_id": "False",
         "tourney_name": "False",
         "surface": "False",
         "draw_size": "False",
         "tourney_level": "False",
         "tourney_date": "False",
         "match_num": "False",
         "winner_id": "False",
         "winner_entry": "True",
         "winner_name": "False",
         "winner_hand": "False",
         "winner_ht": "False",
         "winner_ioc": "False",
         "winner_age": "False",
         "loser_id": "False",
         "loser_entry": "True",
         "loser_name": "False",
         "loser_hand": "False",
         "loser_ht": "False",
         "loser_ioc": "False",
         "loser_age": "False",
         "score": "False",
         "best_of": "False",
         "round": "False",
         "minutes": "False",
         "w_ace": "False",
         "w_df": "False",
         "w_svpt": "False",
         "w_1stIn": "False",
         "w_1stWon": "False",
         "w_2ndWon": "False",
         "w_SvGms": "False",
         "w_bpSaved": "False",
         "w_bpFaced": "False",
         "l_ace": "False",
         "l_df": "False",
         "l_svpt": "False",
         "l_1stIn": "False",
         "l_1stWon": "False",
         "l_2ndWon": "False",
         "l_SvGms": "False",
         "l_bpSaved": "False",
         "l_bpFaced": "False",
         "winner_rank": "False",
         "winner_rank_points": "False",
         "loser_rank": "False",
         "loser_rank_points": "False",
         "tourney_spectators": "False",
         "tourney_revenue": "False",
         "_deepnote_index_column": 4
        },
        {
         "Unnamed: 0": "False",
         "tourney_id": "False",
         "tourney_name": "False",
         "surface": "False",
         "draw_size": "False",
         "tourney_level": "False",
         "tourney_date": "False",
         "match_num": "False",
         "winner_id": "False",
         "winner_entry": "True",
         "winner_name": "False",
         "winner_hand": "False",
         "winner_ht": "False",
         "winner_ioc": "False",
         "winner_age": "False",
         "loser_id": "False",
         "loser_entry": "False",
         "loser_name": "False",
         "loser_hand": "False",
         "loser_ht": "True",
         "loser_ioc": "False",
         "loser_age": "False",
         "score": "False",
         "best_of": "False",
         "round": "False",
         "minutes": "False",
         "w_ace": "False",
         "w_df": "False",
         "w_svpt": "False",
         "w_1stIn": "False",
         "w_1stWon": "False",
         "w_2ndWon": "False",
         "w_SvGms": "False",
         "w_bpSaved": "False",
         "w_bpFaced": "False",
         "l_ace": "False",
         "l_df": "False",
         "l_svpt": "False",
         "l_1stIn": "False",
         "l_1stWon": "False",
         "l_2ndWon": "False",
         "l_SvGms": "False",
         "l_bpSaved": "False",
         "l_bpFaced": "False",
         "winner_rank": "False",
         "winner_rank_points": "False",
         "loser_rank": "False",
         "loser_rank_points": "False",
         "tourney_spectators": "False",
         "tourney_revenue": "False",
         "_deepnote_index_column": 5
        },
        {
         "Unnamed: 0": "False",
         "tourney_id": "False",
         "tourney_name": "False",
         "surface": "False",
         "draw_size": "False",
         "tourney_level": "False",
         "tourney_date": "False",
         "match_num": "False",
         "winner_id": "False",
         "winner_entry": "True",
         "winner_name": "False",
         "winner_hand": "False",
         "winner_ht": "False",
         "winner_ioc": "False",
         "winner_age": "False",
         "loser_id": "False",
         "loser_entry": "True",
         "loser_name": "False",
         "loser_hand": "False",
         "loser_ht": "False",
         "loser_ioc": "False",
         "loser_age": "False",
         "score": "False",
         "best_of": "False",
         "round": "False",
         "minutes": "False",
         "w_ace": "False",
         "w_df": "False",
         "w_svpt": "False",
         "w_1stIn": "False",
         "w_1stWon": "False",
         "w_2ndWon": "False",
         "w_SvGms": "False",
         "w_bpSaved": "False",
         "w_bpFaced": "False",
         "l_ace": "False",
         "l_df": "False",
         "l_svpt": "False",
         "l_1stIn": "False",
         "l_1stWon": "False",
         "l_2ndWon": "False",
         "l_SvGms": "False",
         "l_bpSaved": "False",
         "l_bpFaced": "False",
         "winner_rank": "False",
         "winner_rank_points": "False",
         "loser_rank": "False",
         "loser_rank_points": "False",
         "tourney_spectators": "False",
         "tourney_revenue": "False",
         "_deepnote_index_column": 6
        },
        {
         "Unnamed: 0": "False",
         "tourney_id": "False",
         "tourney_name": "False",
         "surface": "False",
         "draw_size": "False",
         "tourney_level": "False",
         "tourney_date": "False",
         "match_num": "False",
         "winner_id": "False",
         "winner_entry": "False",
         "winner_name": "False",
         "winner_hand": "False",
         "winner_ht": "False",
         "winner_ioc": "False",
         "winner_age": "False",
         "loser_id": "False",
         "loser_entry": "False",
         "loser_name": "False",
         "loser_hand": "False",
         "loser_ht": "True",
         "loser_ioc": "False",
         "loser_age": "False",
         "score": "False",
         "best_of": "False",
         "round": "False",
         "minutes": "False",
         "w_ace": "False",
         "w_df": "False",
         "w_svpt": "False",
         "w_1stIn": "False",
         "w_1stWon": "False",
         "w_2ndWon": "False",
         "w_SvGms": "False",
         "w_bpSaved": "False",
         "w_bpFaced": "False",
         "l_ace": "False",
         "l_df": "False",
         "l_svpt": "False",
         "l_1stIn": "False",
         "l_1stWon": "False",
         "l_2ndWon": "False",
         "l_SvGms": "False",
         "l_bpSaved": "False",
         "l_bpFaced": "False",
         "winner_rank": "False",
         "winner_rank_points": "False",
         "loser_rank": "False",
         "loser_rank_points": "False",
         "tourney_spectators": "False",
         "tourney_revenue": "False",
         "_deepnote_index_column": 7
        },
        {
         "Unnamed: 0": "False",
         "tourney_id": "False",
         "tourney_name": "False",
         "surface": "False",
         "draw_size": "False",
         "tourney_level": "False",
         "tourney_date": "False",
         "match_num": "False",
         "winner_id": "False",
         "winner_entry": "True",
         "winner_name": "False",
         "winner_hand": "False",
         "winner_ht": "False",
         "winner_ioc": "False",
         "winner_age": "False",
         "loser_id": "False",
         "loser_entry": "True",
         "loser_name": "False",
         "loser_hand": "False",
         "loser_ht": "False",
         "loser_ioc": "False",
         "loser_age": "False",
         "score": "False",
         "best_of": "False",
         "round": "False",
         "minutes": "False",
         "w_ace": "False",
         "w_df": "False",
         "w_svpt": "False",
         "w_1stIn": "False",
         "w_1stWon": "False",
         "w_2ndWon": "False",
         "w_SvGms": "False",
         "w_bpSaved": "False",
         "w_bpFaced": "False",
         "l_ace": "False",
         "l_df": "False",
         "l_svpt": "False",
         "l_1stIn": "False",
         "l_1stWon": "False",
         "l_2ndWon": "False",
         "l_SvGms": "False",
         "l_bpSaved": "False",
         "l_bpFaced": "False",
         "winner_rank": "False",
         "winner_rank_points": "False",
         "loser_rank": "False",
         "loser_rank_points": "False",
         "tourney_spectators": "False",
         "tourney_revenue": "False",
         "_deepnote_index_column": 8
        },
        {
         "Unnamed: 0": "False",
         "tourney_id": "False",
         "tourney_name": "False",
         "surface": "False",
         "draw_size": "False",
         "tourney_level": "False",
         "tourney_date": "False",
         "match_num": "False",
         "winner_id": "False",
         "winner_entry": "True",
         "winner_name": "False",
         "winner_hand": "False",
         "winner_ht": "False",
         "winner_ioc": "False",
         "winner_age": "False",
         "loser_id": "False",
         "loser_entry": "False",
         "loser_name": "False",
         "loser_hand": "False",
         "loser_ht": "False",
         "loser_ioc": "False",
         "loser_age": "False",
         "score": "False",
         "best_of": "False",
         "round": "False",
         "minutes": "False",
         "w_ace": "False",
         "w_df": "False",
         "w_svpt": "False",
         "w_1stIn": "False",
         "w_1stWon": "False",
         "w_2ndWon": "False",
         "w_SvGms": "False",
         "w_bpSaved": "False",
         "w_bpFaced": "False",
         "l_ace": "False",
         "l_df": "False",
         "l_svpt": "False",
         "l_1stIn": "False",
         "l_1stWon": "False",
         "l_2ndWon": "False",
         "l_SvGms": "False",
         "l_bpSaved": "False",
         "l_bpFaced": "False",
         "winner_rank": "False",
         "winner_rank_points": "False",
         "loser_rank": "False",
         "loser_rank_points": "False",
         "tourney_spectators": "False",
         "tourney_revenue": "False",
         "_deepnote_index_column": 9
        }
       ],
       "rows_bottom": [
        {
         "Unnamed: 0": "False",
         "tourney_id": "True",
         "tourney_name": "False",
         "surface": "True",
         "draw_size": "True",
         "tourney_level": "False",
         "tourney_date": "False",
         "match_num": "True",
         "winner_id": "True",
         "winner_entry": "True",
         "winner_name": "True",
         "winner_hand": "True",
         "winner_ht": "True",
         "winner_ioc": "True",
         "winner_age": "True",
         "loser_id": "True",
         "loser_entry": "True",
         "loser_name": "False",
         "loser_hand": "True",
         "loser_ht": "True",
         "loser_ioc": "True",
         "loser_age": "True",
         "score": "False",
         "best_of": "False",
         "round": "False",
         "minutes": "True",
         "w_ace": "False",
         "w_df": "True",
         "w_svpt": "False",
         "w_1stIn": "True",
         "w_1stWon": "False",
         "w_2ndWon": "True",
         "w_SvGms": "True",
         "w_bpSaved": "False",
         "w_bpFaced": "True",
         "l_ace": "True",
         "l_df": "False",
         "l_svpt": "False",
         "l_1stIn": "False",
         "l_1stWon": "False",
         "l_2ndWon": "True",
         "l_SvGms": "False",
         "l_bpSaved": "True",
         "l_bpFaced": "False",
         "winner_rank": "True",
         "winner_rank_points": "False",
         "loser_rank": "True",
         "loser_rank_points": "False",
         "tourney_spectators": "True",
         "tourney_revenue": "False",
         "_deepnote_index_column": 186118
        },
        {
         "Unnamed: 0": "False",
         "tourney_id": "True",
         "tourney_name": "True",
         "surface": "True",
         "draw_size": "True",
         "tourney_level": "False",
         "tourney_date": "True",
         "match_num": "False",
         "winner_id": "True",
         "winner_entry": "True",
         "winner_name": "False",
         "winner_hand": "False",
         "winner_ht": "True",
         "winner_ioc": "False",
         "winner_age": "False",
         "loser_id": "True",
         "loser_entry": "True",
         "loser_name": "True",
         "loser_hand": "False",
         "loser_ht": "False",
         "loser_ioc": "True",
         "loser_age": "True",
         "score": "True",
         "best_of": "True",
         "round": "True",
         "minutes": "False",
         "w_ace": "True",
         "w_df": "False",
         "w_svpt": "False",
         "w_1stIn": "True",
         "w_1stWon": "True",
         "w_2ndWon": "False",
         "w_SvGms": "False",
         "w_bpSaved": "False",
         "w_bpFaced": "False",
         "l_ace": "False",
         "l_df": "False",
         "l_svpt": "True",
         "l_1stIn": "True",
         "l_1stWon": "True",
         "l_2ndWon": "False",
         "l_SvGms": "False",
         "l_bpSaved": "False",
         "l_bpFaced": "False",
         "winner_rank": "False",
         "winner_rank_points": "True",
         "loser_rank": "True",
         "loser_rank_points": "False",
         "tourney_spectators": "False",
         "tourney_revenue": "False",
         "_deepnote_index_column": 186119
        },
        {
         "Unnamed: 0": "False",
         "tourney_id": "True",
         "tourney_name": "True",
         "surface": "False",
         "draw_size": "True",
         "tourney_level": "True",
         "tourney_date": "True",
         "match_num": "True",
         "winner_id": "True",
         "winner_entry": "True",
         "winner_name": "True",
         "winner_hand": "False",
         "winner_ht": "True",
         "winner_ioc": "True",
         "winner_age": "False",
         "loser_id": "True",
         "loser_entry": "True",
         "loser_name": "False",
         "loser_hand": "True",
         "loser_ht": "True",
         "loser_ioc": "True",
         "loser_age": "True",
         "score": "False",
         "best_of": "True",
         "round": "True",
         "minutes": "False",
         "w_ace": "True",
         "w_df": "True",
         "w_svpt": "False",
         "w_1stIn": "True",
         "w_1stWon": "False",
         "w_2ndWon": "False",
         "w_SvGms": "True",
         "w_bpSaved": "False",
         "w_bpFaced": "True",
         "l_ace": "True",
         "l_df": "False",
         "l_svpt": "True",
         "l_1stIn": "False",
         "l_1stWon": "True",
         "l_2ndWon": "False",
         "l_SvGms": "True",
         "l_bpSaved": "False",
         "l_bpFaced": "True",
         "winner_rank": "False",
         "winner_rank_points": "True",
         "loser_rank": "False",
         "loser_rank_points": "False",
         "tourney_spectators": "True",
         "tourney_revenue": "True",
         "_deepnote_index_column": 186120
        },
        {
         "Unnamed: 0": "False",
         "tourney_id": "True",
         "tourney_name": "True",
         "surface": "True",
         "draw_size": "True",
         "tourney_level": "False",
         "tourney_date": "True",
         "match_num": "True",
         "winner_id": "True",
         "winner_entry": "True",
         "winner_name": "True",
         "winner_hand": "False",
         "winner_ht": "True",
         "winner_ioc": "True",
         "winner_age": "True",
         "loser_id": "True",
         "loser_entry": "True",
         "loser_name": "False",
         "loser_hand": "True",
         "loser_ht": "True",
         "loser_ioc": "False",
         "loser_age": "True",
         "score": "False",
         "best_of": "True",
         "round": "True",
         "minutes": "True",
         "w_ace": "True",
         "w_df": "False",
         "w_svpt": "True",
         "w_1stIn": "False",
         "w_1stWon": "False",
         "w_2ndWon": "True",
         "w_SvGms": "True",
         "w_bpSaved": "True",
         "w_bpFaced": "False",
         "l_ace": "True",
         "l_df": "False",
         "l_svpt": "False",
         "l_1stIn": "False",
         "l_1stWon": "True",
         "l_2ndWon": "False",
         "l_SvGms": "True",
         "l_bpSaved": "False",
         "l_bpFaced": "True",
         "winner_rank": "False",
         "winner_rank_points": "False",
         "loser_rank": "True",
         "loser_rank_points": "False",
         "tourney_spectators": "False",
         "tourney_revenue": "False",
         "_deepnote_index_column": 186121
        },
        {
         "Unnamed: 0": "False",
         "tourney_id": "True",
         "tourney_name": "True",
         "surface": "True",
         "draw_size": "False",
         "tourney_level": "False",
         "tourney_date": "False",
         "match_num": "True",
         "winner_id": "True",
         "winner_entry": "True",
         "winner_name": "False",
         "winner_hand": "True",
         "winner_ht": "True",
         "winner_ioc": "False",
         "winner_age": "False",
         "loser_id": "False",
         "loser_entry": "False",
         "loser_name": "False",
         "loser_hand": "True",
         "loser_ht": "True",
         "loser_ioc": "False",
         "loser_age": "True",
         "score": "True",
         "best_of": "True",
         "round": "False",
         "minutes": "True",
         "w_ace": "False",
         "w_df": "False",
         "w_svpt": "False",
         "w_1stIn": "True",
         "w_1stWon": "False",
         "w_2ndWon": "True",
         "w_SvGms": "False",
         "w_bpSaved": "True",
         "w_bpFaced": "True",
         "l_ace": "False",
         "l_df": "False",
         "l_svpt": "False",
         "l_1stIn": "False",
         "l_1stWon": "False",
         "l_2ndWon": "True",
         "l_SvGms": "False",
         "l_bpSaved": "False",
         "l_bpFaced": "True",
         "winner_rank": "True",
         "winner_rank_points": "True",
         "loser_rank": "True",
         "loser_rank_points": "False",
         "tourney_spectators": "True",
         "tourney_revenue": "False",
         "_deepnote_index_column": 186122
        },
        {
         "Unnamed: 0": "False",
         "tourney_id": "True",
         "tourney_name": "True",
         "surface": "False",
         "draw_size": "False",
         "tourney_level": "True",
         "tourney_date": "False",
         "match_num": "False",
         "winner_id": "True",
         "winner_entry": "True",
         "winner_name": "True",
         "winner_hand": "True",
         "winner_ht": "True",
         "winner_ioc": "True",
         "winner_age": "False",
         "loser_id": "False",
         "loser_entry": "True",
         "loser_name": "True",
         "loser_hand": "True",
         "loser_ht": "True",
         "loser_ioc": "True",
         "loser_age": "False",
         "score": "False",
         "best_of": "True",
         "round": "True",
         "minutes": "True",
         "w_ace": "True",
         "w_df": "False",
         "w_svpt": "True",
         "w_1stIn": "False",
         "w_1stWon": "False",
         "w_2ndWon": "False",
         "w_SvGms": "True",
         "w_bpSaved": "False",
         "w_bpFaced": "True",
         "l_ace": "False",
         "l_df": "False",
         "l_svpt": "False",
         "l_1stIn": "True",
         "l_1stWon": "True",
         "l_2ndWon": "True",
         "l_SvGms": "True",
         "l_bpSaved": "False",
         "l_bpFaced": "False",
         "winner_rank": "True",
         "winner_rank_points": "False",
         "loser_rank": "False",
         "loser_rank_points": "False",
         "tourney_spectators": "True",
         "tourney_revenue": "True",
         "_deepnote_index_column": 186123
        },
        {
         "Unnamed: 0": "False",
         "tourney_id": "True",
         "tourney_name": "False",
         "surface": "True",
         "draw_size": "False",
         "tourney_level": "False",
         "tourney_date": "False",
         "match_num": "True",
         "winner_id": "True",
         "winner_entry": "True",
         "winner_name": "False",
         "winner_hand": "True",
         "winner_ht": "False",
         "winner_ioc": "True",
         "winner_age": "True",
         "loser_id": "False",
         "loser_entry": "False",
         "loser_name": "False",
         "loser_hand": "True",
         "loser_ht": "True",
         "loser_ioc": "False",
         "loser_age": "True",
         "score": "False",
         "best_of": "True",
         "round": "True",
         "minutes": "False",
         "w_ace": "False",
         "w_df": "False",
         "w_svpt": "False",
         "w_1stIn": "True",
         "w_1stWon": "False",
         "w_2ndWon": "True",
         "w_SvGms": "False",
         "w_bpSaved": "False",
         "w_bpFaced": "False",
         "l_ace": "True",
         "l_df": "True",
         "l_svpt": "False",
         "l_1stIn": "True",
         "l_1stWon": "True",
         "l_2ndWon": "True",
         "l_SvGms": "True",
         "l_bpSaved": "True",
         "l_bpFaced": "True",
         "winner_rank": "False",
         "winner_rank_points": "False",
         "loser_rank": "False",
         "loser_rank_points": "True",
         "tourney_spectators": "True",
         "tourney_revenue": "True",
         "_deepnote_index_column": 186124
        },
        {
         "Unnamed: 0": "False",
         "tourney_id": "True",
         "tourney_name": "True",
         "surface": "True",
         "draw_size": "True",
         "tourney_level": "False",
         "tourney_date": "True",
         "match_num": "True",
         "winner_id": "True",
         "winner_entry": "True",
         "winner_name": "False",
         "winner_hand": "True",
         "winner_ht": "True",
         "winner_ioc": "True",
         "winner_age": "False",
         "loser_id": "False",
         "loser_entry": "True",
         "loser_name": "True",
         "loser_hand": "False",
         "loser_ht": "True",
         "loser_ioc": "False",
         "loser_age": "True",
         "score": "True",
         "best_of": "False",
         "round": "True",
         "minutes": "False",
         "w_ace": "True",
         "w_df": "False",
         "w_svpt": "False",
         "w_1stIn": "True",
         "w_1stWon": "True",
         "w_2ndWon": "True",
         "w_SvGms": "True",
         "w_bpSaved": "False",
         "w_bpFaced": "False",
         "l_ace": "False",
         "l_df": "False",
         "l_svpt": "True",
         "l_1stIn": "True",
         "l_1stWon": "True",
         "l_2ndWon": "True",
         "l_SvGms": "True",
         "l_bpSaved": "True",
         "l_bpFaced": "False",
         "winner_rank": "True",
         "winner_rank_points": "True",
         "loser_rank": "True",
         "loser_rank_points": "True",
         "tourney_spectators": "True",
         "tourney_revenue": "True",
         "_deepnote_index_column": 186125
        },
        {
         "Unnamed: 0": "False",
         "tourney_id": "True",
         "tourney_name": "True",
         "surface": "True",
         "draw_size": "False",
         "tourney_level": "False",
         "tourney_date": "False",
         "match_num": "True",
         "winner_id": "True",
         "winner_entry": "True",
         "winner_name": "False",
         "winner_hand": "True",
         "winner_ht": "False",
         "winner_ioc": "False",
         "winner_age": "True",
         "loser_id": "True",
         "loser_entry": "True",
         "loser_name": "True",
         "loser_hand": "True",
         "loser_ht": "True",
         "loser_ioc": "True",
         "loser_age": "True",
         "score": "False",
         "best_of": "False",
         "round": "True",
         "minutes": "False",
         "w_ace": "True",
         "w_df": "False",
         "w_svpt": "True",
         "w_1stIn": "True",
         "w_1stWon": "True",
         "w_2ndWon": "True",
         "w_SvGms": "True",
         "w_bpSaved": "False",
         "w_bpFaced": "True",
         "l_ace": "True",
         "l_df": "False",
         "l_svpt": "False",
         "l_1stIn": "True",
         "l_1stWon": "True",
         "l_2ndWon": "False",
         "l_SvGms": "True",
         "l_bpSaved": "False",
         "l_bpFaced": "True",
         "winner_rank": "False",
         "winner_rank_points": "True",
         "loser_rank": "True",
         "loser_rank_points": "True",
         "tourney_spectators": "False",
         "tourney_revenue": "True",
         "_deepnote_index_column": 186126
        },
        {
         "Unnamed: 0": "False",
         "tourney_id": "True",
         "tourney_name": "False",
         "surface": "False",
         "draw_size": "False",
         "tourney_level": "False",
         "tourney_date": "False",
         "match_num": "True",
         "winner_id": "True",
         "winner_entry": "True",
         "winner_name": "False",
         "winner_hand": "True",
         "winner_ht": "True",
         "winner_ioc": "False",
         "winner_age": "False",
         "loser_id": "True",
         "loser_entry": "True",
         "loser_name": "True",
         "loser_hand": "True",
         "loser_ht": "True",
         "loser_ioc": "False",
         "loser_age": "True",
         "score": "False",
         "best_of": "True",
         "round": "True",
         "minutes": "True",
         "w_ace": "True",
         "w_df": "True",
         "w_svpt": "True",
         "w_1stIn": "True",
         "w_1stWon": "True",
         "w_2ndWon": "True",
         "w_SvGms": "True",
         "w_bpSaved": "True",
         "w_bpFaced": "False",
         "l_ace": "False",
         "l_df": "True",
         "l_svpt": "True",
         "l_1stIn": "False",
         "l_1stWon": "False",
         "l_2ndWon": "False",
         "l_SvGms": "False",
         "l_bpSaved": "False",
         "l_bpFaced": "False",
         "winner_rank": "True",
         "winner_rank_points": "True",
         "loser_rank": "False",
         "loser_rank_points": "False",
         "tourney_spectators": "False",
         "tourney_revenue": "False",
         "_deepnote_index_column": 186127
        }
       ]
      },
      "text/plain": "        Unnamed: 0  tourney_id  tourney_name  surface  draw_size  \\\n0            False       False         False    False      False   \n1            False       False         False    False      False   \n2            False       False         False    False      False   \n3            False       False         False    False      False   \n4            False       False         False    False      False   \n...            ...         ...           ...      ...        ...   \n186123       False        True          True    False      False   \n186124       False        True         False     True      False   \n186125       False        True          True     True       True   \n186126       False        True          True     True      False   \n186127       False        True         False    False      False   \n\n        tourney_level  tourney_date  match_num  winner_id  winner_entry  ...  \\\n0               False         False      False      False          True  ...   \n1               False         False      False      False          True  ...   \n2               False         False      False      False          True  ...   \n3               False         False      False      False         False  ...   \n4               False         False      False      False          True  ...   \n...               ...           ...        ...        ...           ...  ...   \n186123           True         False      False       True          True  ...   \n186124          False         False       True       True          True  ...   \n186125          False          True       True       True          True  ...   \n186126          False         False       True       True          True  ...   \n186127          False         False       True       True          True  ...   \n\n        l_2ndWon  l_SvGms  l_bpSaved  l_bpFaced  winner_rank  \\\n0          False    False      False      False        False   \n1          False    False      False      False        False   \n2          False    False      False      False        False   \n3          False    False      False      False        False   \n4          False    False      False      False        False   \n...          ...      ...        ...        ...          ...   \n186123      True     True      False      False         True   \n186124      True     True       True       True        False   \n186125      True     True       True      False         True   \n186126     False     True      False       True        False   \n186127     False    False      False      False         True   \n\n        winner_rank_points  loser_rank  loser_rank_points  tourney_spectators  \\\n0                    False       False              False               False   \n1                    False       False              False               False   \n2                    False       False              False               False   \n3                    False       False              False               False   \n4                    False       False              False               False   \n...                    ...         ...                ...                 ...   \n186123               False       False              False                True   \n186124               False       False               True                True   \n186125                True        True               True                True   \n186126                True        True               True               False   \n186127                True       False              False               False   \n\n        tourney_revenue  \n0                 False  \n1                 False  \n2                 False  \n3                 False  \n4                 False  \n...                 ...  \n186123             True  \n186124             True  \n186125             True  \n186126             True  \n186127            False  \n\n[186128 rows x 50 columns]",
      "text/html": "<div>\n<style scoped>\n    .dataframe tbody tr th:only-of-type {\n        vertical-align: middle;\n    }\n\n    .dataframe tbody tr th {\n        vertical-align: top;\n    }\n\n    .dataframe thead th {\n        text-align: right;\n    }\n</style>\n<table border=\"1\" class=\"dataframe\">\n  <thead>\n    <tr style=\"text-align: right;\">\n      <th></th>\n      <th>Unnamed: 0</th>\n      <th>tourney_id</th>\n      <th>tourney_name</th>\n      <th>surface</th>\n      <th>draw_size</th>\n      <th>tourney_level</th>\n      <th>tourney_date</th>\n      <th>match_num</th>\n      <th>winner_id</th>\n      <th>winner_entry</th>\n      <th>...</th>\n      <th>l_2ndWon</th>\n      <th>l_SvGms</th>\n      <th>l_bpSaved</th>\n      <th>l_bpFaced</th>\n      <th>winner_rank</th>\n      <th>winner_rank_points</th>\n      <th>loser_rank</th>\n      <th>loser_rank_points</th>\n      <th>tourney_spectators</th>\n      <th>tourney_revenue</th>\n    </tr>\n  </thead>\n  <tbody>\n    <tr>\n      <th>0</th>\n      <td>False</td>\n      <td>False</td>\n      <td>False</td>\n      <td>False</td>\n      <td>False</td>\n      <td>False</td>\n      <td>False</td>\n      <td>False</td>\n      <td>False</td>\n      <td>True</td>\n      <td>...</td>\n      <td>False</td>\n      <td>False</td>\n      <td>False</td>\n      <td>False</td>\n      <td>False</td>\n      <td>False</td>\n      <td>False</td>\n      <td>False</td>\n      <td>False</td>\n      <td>False</td>\n    </tr>\n    <tr>\n      <th>1</th>\n      <td>False</td>\n      <td>False</td>\n      <td>False</td>\n      <td>False</td>\n      <td>False</td>\n      <td>False</td>\n      <td>False</td>\n      <td>False</td>\n      <td>False</td>\n      <td>True</td>\n      <td>...</td>\n      <td>False</td>\n      <td>False</td>\n      <td>False</td>\n      <td>False</td>\n      <td>False</td>\n      <td>False</td>\n      <td>False</td>\n      <td>False</td>\n      <td>False</td>\n      <td>False</td>\n    </tr>\n    <tr>\n      <th>2</th>\n      <td>False</td>\n      <td>False</td>\n      <td>False</td>\n      <td>False</td>\n      <td>False</td>\n      <td>False</td>\n      <td>False</td>\n      <td>False</td>\n      <td>False</td>\n      <td>True</td>\n      <td>...</td>\n      <td>False</td>\n      <td>False</td>\n      <td>False</td>\n      <td>False</td>\n      <td>False</td>\n      <td>False</td>\n      <td>False</td>\n      <td>False</td>\n      <td>False</td>\n      <td>False</td>\n    </tr>\n    <tr>\n      <th>3</th>\n      <td>False</td>\n      <td>False</td>\n      <td>False</td>\n      <td>False</td>\n      <td>False</td>\n      <td>False</td>\n      <td>False</td>\n      <td>False</td>\n      <td>False</td>\n      <td>False</td>\n      <td>...</td>\n      <td>False</td>\n      <td>False</td>\n      <td>False</td>\n      <td>False</td>\n      <td>False</td>\n      <td>False</td>\n      <td>False</td>\n      <td>False</td>\n      <td>False</td>\n      <td>False</td>\n    </tr>\n    <tr>\n      <th>4</th>\n      <td>False</td>\n      <td>False</td>\n      <td>False</td>\n      <td>False</td>\n      <td>False</td>\n      <td>False</td>\n      <td>False</td>\n      <td>False</td>\n      <td>False</td>\n      <td>True</td>\n      <td>...</td>\n      <td>False</td>\n      <td>False</td>\n      <td>False</td>\n      <td>False</td>\n      <td>False</td>\n      <td>False</td>\n      <td>False</td>\n      <td>False</td>\n      <td>False</td>\n      <td>False</td>\n    </tr>\n    <tr>\n      <th>...</th>\n      <td>...</td>\n      <td>...</td>\n      <td>...</td>\n      <td>...</td>\n      <td>...</td>\n      <td>...</td>\n      <td>...</td>\n      <td>...</td>\n      <td>...</td>\n      <td>...</td>\n      <td>...</td>\n      <td>...</td>\n      <td>...</td>\n      <td>...</td>\n      <td>...</td>\n      <td>...</td>\n      <td>...</td>\n      <td>...</td>\n      <td>...</td>\n      <td>...</td>\n      <td>...</td>\n    </tr>\n    <tr>\n      <th>186123</th>\n      <td>False</td>\n      <td>True</td>\n      <td>True</td>\n      <td>False</td>\n      <td>False</td>\n      <td>True</td>\n      <td>False</td>\n      <td>False</td>\n      <td>True</td>\n      <td>True</td>\n      <td>...</td>\n      <td>True</td>\n      <td>True</td>\n      <td>False</td>\n      <td>False</td>\n      <td>True</td>\n      <td>False</td>\n      <td>False</td>\n      <td>False</td>\n      <td>True</td>\n      <td>True</td>\n    </tr>\n    <tr>\n      <th>186124</th>\n      <td>False</td>\n      <td>True</td>\n      <td>False</td>\n      <td>True</td>\n      <td>False</td>\n      <td>False</td>\n      <td>False</td>\n      <td>True</td>\n      <td>True</td>\n      <td>True</td>\n      <td>...</td>\n      <td>True</td>\n      <td>True</td>\n      <td>True</td>\n      <td>True</td>\n      <td>False</td>\n      <td>False</td>\n      <td>False</td>\n      <td>True</td>\n      <td>True</td>\n      <td>True</td>\n    </tr>\n    <tr>\n      <th>186125</th>\n      <td>False</td>\n      <td>True</td>\n      <td>True</td>\n      <td>True</td>\n      <td>True</td>\n      <td>False</td>\n      <td>True</td>\n      <td>True</td>\n      <td>True</td>\n      <td>True</td>\n      <td>...</td>\n      <td>True</td>\n      <td>True</td>\n      <td>True</td>\n      <td>False</td>\n      <td>True</td>\n      <td>True</td>\n      <td>True</td>\n      <td>True</td>\n      <td>True</td>\n      <td>True</td>\n    </tr>\n    <tr>\n      <th>186126</th>\n      <td>False</td>\n      <td>True</td>\n      <td>True</td>\n      <td>True</td>\n      <td>False</td>\n      <td>False</td>\n      <td>False</td>\n      <td>True</td>\n      <td>True</td>\n      <td>True</td>\n      <td>...</td>\n      <td>False</td>\n      <td>True</td>\n      <td>False</td>\n      <td>True</td>\n      <td>False</td>\n      <td>True</td>\n      <td>True</td>\n      <td>True</td>\n      <td>False</td>\n      <td>True</td>\n    </tr>\n    <tr>\n      <th>186127</th>\n      <td>False</td>\n      <td>True</td>\n      <td>False</td>\n      <td>False</td>\n      <td>False</td>\n      <td>False</td>\n      <td>False</td>\n      <td>True</td>\n      <td>True</td>\n      <td>True</td>\n      <td>...</td>\n      <td>False</td>\n      <td>False</td>\n      <td>False</td>\n      <td>False</td>\n      <td>True</td>\n      <td>True</td>\n      <td>False</td>\n      <td>False</td>\n      <td>False</td>\n      <td>False</td>\n    </tr>\n  </tbody>\n</table>\n<p>186128 rows × 50 columns</p>\n</div>"
     },
     "metadata": {}
    }
   ],
   "execution_count": null
  },
  {
   "cell_type": "markdown",
   "source": "Drop null values in the dataframes.\n\nFor the `df_male_players` dataframe, we drop all rows in which either `name` or `surname` is missing.\n\nFor the `df_female_players` dataframe, we drop all rows in which either `name` or `surname` is missing.",
   "metadata": {
    "tags": [],
    "cell_id": "00009-0ed6c652-700b-4390-93cb-87d920f7d4c4",
    "deepnote_cell_type": "markdown"
   }
  },
  {
   "cell_type": "code",
   "metadata": {
    "deepnote_to_be_reexecuted": false,
    "execution_millis": 17,
    "execution_start": 1636641132710,
    "source_hash": "25510e3d",
    "tags": [],
    "cell_id": "00010-bec9f1ef-a039-4caa-84f6-bcf68314ab95",
    "deepnote_cell_type": "code"
   },
   "source": "df_male_players.dropna(inplace=True)\ndf_female_players.dropna(inplace=True)",
   "outputs": [],
   "execution_count": null
  },
  {
   "cell_type": "markdown",
   "source": "### Filling missing values and handlig outliers",
   "metadata": {
    "tags": [],
    "cell_id": "00011-f8f33b71-2ec3-4850-8545-0cc96a7a54ea",
    "deepnote_cell_type": "markdown"
   }
  },
  {
   "cell_type": "markdown",
   "source": "#### Winner/Loser ID, Winner/Loser Name",
   "metadata": {
    "tags": [],
    "cell_id": "00012-e8fecb25-bb8e-49fa-b8ae-142d3acf30e0",
    "deepnote_cell_type": "markdown"
   }
  },
  {
   "cell_type": "markdown",
   "source": "Try to fill missing `winner_id`, `loser_id`, `winner_name`, `loser_name`",
   "metadata": {
    "tags": [],
    "cell_id": "00011-77bfb99f-fa93-40c2-9259-b4f8c5c6afb5",
    "deepnote_cell_type": "markdown"
   }
  },
  {
   "cell_type": "code",
   "metadata": {
    "tags": [],
    "cell_id": "00012-48cb1b1c-66ac-4d21-b2b6-00d1725550c6",
    "deepnote_to_be_reexecuted": false,
    "source_hash": "a393f51b",
    "execution_start": 1636641132775,
    "execution_millis": 1455,
    "deepnote_cell_type": "code"
   },
   "source": "# Fix missing winner_id\n\n#Listing winner names which have winner_id field = null\ndf_null_winner_names = df_matches[df_matches['winner_id'].isnull()]['winner_name']\ndf_null_winner_names.dropna(inplace=True)\n\nfor name in df_null_winner_names:\n    w_id = [x for x in (df_matches[df_matches['winner_name'] == name]['winner_id']) if pd.notna(x)]\n    if len(w_id) > 0:\n        df_matches.loc[df_matches.winner_name == name, 'winner_id'] = w_id[0]\n    else:\n        l_id = [x for x in (df_matches[df_matches['winner_name'] == name]['loser_id']) if pd.notna(x)]\n        if len(l_id) > 0:\n            df_matches.loc[df_matches.winner_name == name, 'winner_id'] = l_id[0]\n\n# Fix missing loser_id\ndf_null_loser_names = df_matches[df_matches['loser_id'].isnull()]['loser_name']\ndf_null_loser_names.dropna(inplace=True)\n\nfor name in df_null_loser_names:\n    w_id = [x for x in (df_matches[df_matches['winner_name'] == name]['winner_id']) if pd.notna(x)]\n    if len(w_id) > 0:\n        df_matches.loc[df_matches.loser_name == name, 'loser_id'] = w_id[0]\n    else:\n        l_id = [x for x in (df_matches[df_matches['winner_name'] == name]['loser_id']) if pd.notna(x)]\n        if len(l_id) > 0:\n            df_matches.loc[df_matches.loser_name == name, 'loser_id'] = l_id[0]\n\n# Fix missing winner_name\ndf_null_winner_ids = df_matches[df_matches['winner_name'].isnull()]['winner_id']\ndf_null_winner_ids.dropna(inplace=True)\n\nfor idx in df_null_winner_ids:\n    w_id = [x for x in (df_matches[df_matches['winner_id'] == idx]['winner_name'])]\n    if len(w_id) > 0:\n        df_matches.loc[df_matches.winner_id == idx, 'winner_name'] = w_id[0]\n    else:\n        l_id =  [x for x in (df_matches[df_matches['winner_id'] == idx]['loser_name'])]\n        if len(l_id) > 0:\n            df_matches.loc[df_matches.winner_id == idx, 'winner_name'] = l_id[0]\n\n# Fix missing loser_name\ndf_null_loser_ids = df_matches[df_matches['loser_name'].isnull()]['loser_id']\ndf_null_loser_ids.dropna(inplace=True)\n\nfor idx in df_null_loser_ids:\n    w_id = [x for x in (df_matches[df_matches['loser_id'] == idx]['winner_name'])]\n    if len(w_id) > 0:\n        df_matches.loc[df_matches.loser_id == idx, 'loser_name'] = w_id[0]\n    else:\n        l_id =  [x for x in (df_matches[df_matches['loser_id'] == idx]['loser_name'])]\n        if len(l_id) > 0:\n            df_matches.loc[df_matches.loser_id == idx, 'loser_name'] = l_id[0]",
   "outputs": [
    {
     "name": "stderr",
     "text": "/shared-libs/python3.7/py-core/lib/python3.7/site-packages/ipykernel_launcher.py:5: SettingWithCopyWarning: \nA value is trying to be set on a copy of a slice from a DataFrame\n\nSee the caveats in the documentation: https://pandas.pydata.org/pandas-docs/stable/user_guide/indexing.html#returning-a-view-versus-a-copy\n  \"\"\"\n/shared-libs/python3.7/py-core/lib/python3.7/site-packages/ipykernel_launcher.py:18: SettingWithCopyWarning: \nA value is trying to be set on a copy of a slice from a DataFrame\n\nSee the caveats in the documentation: https://pandas.pydata.org/pandas-docs/stable/user_guide/indexing.html#returning-a-view-versus-a-copy\n/shared-libs/python3.7/py-core/lib/python3.7/site-packages/ipykernel_launcher.py:31: SettingWithCopyWarning: \nA value is trying to be set on a copy of a slice from a DataFrame\n\nSee the caveats in the documentation: https://pandas.pydata.org/pandas-docs/stable/user_guide/indexing.html#returning-a-view-versus-a-copy\n/shared-libs/python3.7/py-core/lib/python3.7/site-packages/ipykernel_launcher.py:44: SettingWithCopyWarning: \nA value is trying to be set on a copy of a slice from a DataFrame\n\nSee the caveats in the documentation: https://pandas.pydata.org/pandas-docs/stable/user_guide/indexing.html#returning-a-view-versus-a-copy\n",
     "output_type": "stream"
    }
   ],
   "execution_count": null
  },
  {
   "cell_type": "markdown",
   "source": "For the `df_matches` dataframe, we drop all rows in which `winner_name`, `loser_name`, `winner_id` or `loser_id` are missing.",
   "metadata": {
    "tags": [],
    "cell_id": "00013-20062f3d-9358-4764-8433-66cb692a1b7b",
    "deepnote_cell_type": "markdown"
   }
  },
  {
   "cell_type": "code",
   "metadata": {
    "tags": [],
    "cell_id": "00014-f12de70f-7e1c-4478-a449-fd8768f23724",
    "deepnote_to_be_reexecuted": false,
    "source_hash": "a5b53734",
    "execution_start": 1636641134259,
    "execution_millis": 94,
    "deepnote_cell_type": "code"
   },
   "source": "df_matches = df_matches[(df_matches['winner_name'].notna()) & (df_matches['loser_name'].notna()) & (df_matches['loser_id'].notna()) & (df_matches['winner_id'].notna())]",
   "outputs": [],
   "execution_count": null
  },
  {
   "cell_type": "code",
   "metadata": {
    "tags": [],
    "cell_id": "00017-41d008c7-c723-4b42-942f-c76695e81a18",
    "deepnote_to_be_reexecuted": false,
    "source_hash": "a1401058",
    "execution_start": 1636641134385,
    "execution_millis": 5,
    "deepnote_cell_type": "code"
   },
   "source": "df_matches['winner_id'] = df_matches['winner_id'].astype('int64')\ndf_matches['loser_id'] = df_matches['loser_id'].astype('int64')",
   "outputs": [],
   "execution_count": null
  },
  {
   "cell_type": "markdown",
   "source": "We now analyze each attribute to:\n 1. fix values to comply with doimains\n 2. enforce the correct datatype on the attribute",
   "metadata": {
    "cell_id": "00013-793d9eab-f458-48b6-929b-9e0ca0804d2a",
    "deepnote_cell_type": "markdown"
   }
  },
  {
   "cell_type": "markdown",
   "source": "#### Surface",
   "metadata": {
    "tags": [],
    "cell_id": "00045-9b0a2645-8754-4e95-95ea-9bbb68fc2e3a",
    "deepnote_cell_type": "markdown"
   }
  },
  {
   "cell_type": "markdown",
   "source": "We did not perform anything on the surface on the surface attribute",
   "metadata": {
    "tags": [],
    "cell_id": "00022-b858736c-fa00-462e-8a39-614467eba999",
    "deepnote_cell_type": "markdown"
   }
  },
  {
   "cell_type": "code",
   "metadata": {
    "tags": [],
    "cell_id": "00022-1ee51a29-926b-4dd9-967f-b1e9a47554f1",
    "deepnote_to_be_reexecuted": false,
    "source_hash": "28df0bd4",
    "execution_start": 1636641134432,
    "execution_millis": 2,
    "deepnote_cell_type": "code"
   },
   "source": "# Possible values = {'Clay', 'Hard', 'Carpet', 'Grass'}\ndf_matches['surface'].unique()",
   "outputs": [
    {
     "output_type": "execute_result",
     "execution_count": 10,
     "data": {
      "text/plain": "array(['Hard', 'Clay', 'Grass', 'Carpet', nan], dtype=object)"
     },
     "metadata": {}
    }
   ],
   "execution_count": null
  },
  {
   "cell_type": "markdown",
   "source": "#### Draw Size",
   "metadata": {
    "tags": [],
    "cell_id": "00023-b8593e31-3dff-4a3f-993c-07547f19ea30",
    "deepnote_cell_type": "markdown"
   }
  },
  {
   "cell_type": "markdown",
   "source": "For draw size:\n- we fill null values with 32 (the mean value of draw size)\n- since the draw size has to be a power of 2, we substitute all the draw sizes which are not a power of 2 with an appropriate value (e.g.: 31 turns into 32)",
   "metadata": {
    "tags": [],
    "cell_id": "00024-8a5503d6-de15-47de-8d90-d4e18b9eb142",
    "deepnote_cell_type": "markdown"
   }
  },
  {
   "cell_type": "code",
   "metadata": {
    "tags": [],
    "cell_id": "00024-36be4eb8-8382-4cbd-9f1e-422918b2c331",
    "deepnote_to_be_reexecuted": false,
    "source_hash": "e6420ec3",
    "execution_start": 1636641134475,
    "execution_millis": 72,
    "is_output_hidden": false,
    "deepnote_cell_type": "code"
   },
   "source": "# Possible values = {2**x}\ndf_matches['draw_size'].fillna(32, inplace=True)\nlist_of_drawsize = df_matches['draw_size'].unique()\nfor item in list_of_drawsize:\n    if (math.log(item, 2))%1 != 0:\n        df_matches.loc[df_matches.draw_size == item, 'draw_size'] = 2**math.ceil(math.log(item, 2))\n\ndf_matches['draw_size'] = df_matches['draw_size'].astype('int64')",
   "outputs": [],
   "execution_count": null
  },
  {
   "cell_type": "markdown",
   "source": "#### Tourney Level",
   "metadata": {
    "tags": [],
    "cell_id": "00018-cba6f481-7b33-44e1-8835-0f2f331ccd7a",
    "deepnote_cell_type": "markdown"
   }
  },
  {
   "cell_type": "markdown",
   "source": "Changing tourney_dates from float to date type:",
   "metadata": {
    "tags": [],
    "cell_id": "00015-4a6dc2f3-3dfe-4f8f-b889-44f15bd13158",
    "deepnote_cell_type": "markdown"
   }
  },
  {
   "cell_type": "code",
   "metadata": {
    "cell_id": "00014-a5bfe3eb-73fe-4ac7-94b6-ff9ae8a4090f",
    "deepnote_to_be_reexecuted": false,
    "source_hash": "ed305bd6",
    "execution_start": 1636641134547,
    "execution_millis": 51,
    "is_output_hidden": false,
    "deepnote_cell_type": "code"
   },
   "source": "# Tourney level\n# 'O' and 'W' are not possible values for the attribute. We also notice that 'E', 'J', and 'T' are not present in the dataset.\n# We replace such values with U that stands for Undefined\ndf_matches['tourney_level'].replace(['W', 'O'], 'U', inplace=True)\ndf_matches['tourney_level'].fillna('U', inplace=True)\ndf_matches['tourney_level'].unique()",
   "outputs": [
    {
     "output_type": "execute_result",
     "execution_count": 12,
     "data": {
      "text/plain": "array(['A', 'P', 'G', 'I', 'M', 'PM', 'F', 'D', 'C', '15', '25', '60',\n       '100', '80', '10', '50', '75', 'U'], dtype=object)"
     },
     "metadata": {}
    }
   ],
   "execution_count": null
  },
  {
   "cell_type": "markdown",
   "source": "#### Tourney Date",
   "metadata": {
    "tags": [],
    "cell_id": "00021-45e54cc8-e0c1-435c-b9e4-9b82dace2646",
    "deepnote_cell_type": "markdown"
   }
  },
  {
   "cell_type": "code",
   "metadata": {
    "tags": [],
    "cell_id": "00015-87422c6b-3bf2-4b7a-8236-fec42c5699af",
    "deepnote_to_be_reexecuted": false,
    "source_hash": "a3a87a29",
    "execution_start": 1636641134593,
    "execution_millis": 48,
    "is_output_hidden": false,
    "deepnote_cell_type": "code"
   },
   "source": "# Tourney date\n# Undefined date is 18000101 (January 1st, 1800)\n# df_matches['tourney_date'].head()\ndf_matches['tourney_date'].fillna(18000101, inplace=True)\ndf_matches['tourney_date'] = pd.to_datetime(df_matches['tourney_date'], format=\"%Y%m%d\")\ndf_matches['tourney_date'].head()",
   "outputs": [
    {
     "output_type": "execute_result",
     "execution_count": 13,
     "data": {
      "text/plain": "0   2018-12-31\n1   2018-12-31\n2   2018-12-31\n3   2018-12-31\n4   2018-12-31\nName: tourney_date, dtype: datetime64[ns]"
     },
     "metadata": {}
    }
   ],
   "execution_count": null
  },
  {
   "cell_type": "markdown",
   "source": "#### Match Num",
   "metadata": {
    "tags": [],
    "cell_id": "00023-1a54e377-fecd-4cfe-83b3-44d3b0671b69",
    "deepnote_cell_type": "markdown"
   }
  },
  {
   "cell_type": "code",
   "metadata": {
    "tags": [],
    "cell_id": "00016-b5072238-ad6a-48f0-bf8e-90daad38b6d0",
    "deepnote_to_be_reexecuted": false,
    "source_hash": "ca9e16be",
    "execution_start": 1636641134640,
    "execution_millis": 20,
    "is_output_hidden": false,
    "output_cleared": false,
    "deepnote_cell_type": "code"
   },
   "source": "# Match_num. Undefined match_num is -1\n# df_matches['match_num'].describe()\ndf_matches['match_num'].fillna(-1, inplace=True)\ndf_matches['match_num'] = df_matches['match_num'].astype('int64')\ndf_matches['match_num'].head()",
   "outputs": [
    {
     "output_type": "execute_result",
     "execution_count": 14,
     "data": {
      "text/plain": "0    300\n1    299\n2    298\n3    297\n4    296\nName: match_num, dtype: int64"
     },
     "metadata": {}
    }
   ],
   "execution_count": null
  },
  {
   "cell_type": "markdown",
   "source": "#### Winner Hand",
   "metadata": {
    "tags": [],
    "cell_id": "00025-0ac4d6d9-54d9-4468-97a8-dd759621034b",
    "deepnote_cell_type": "markdown"
   }
  },
  {
   "cell_type": "code",
   "metadata": {
    "tags": [],
    "cell_id": "00018-2d9f41a3-9b15-4d20-8fec-32eec76c5965",
    "deepnote_to_be_reexecuted": false,
    "source_hash": "4f29f2f",
    "execution_start": 1636641134674,
    "execution_millis": 5,
    "is_output_hidden": false,
    "deepnote_cell_type": "code"
   },
   "source": "# winner_hand and loser_hand can only assume values: {R, L, U}\n\ndf_matches['winner_hand'].fillna('U', inplace=True)\ndf_matches['loser_hand'].fillna('U', inplace=True)",
   "outputs": [],
   "execution_count": null
  },
  {
   "cell_type": "markdown",
   "source": "#### Height",
   "metadata": {
    "tags": [],
    "cell_id": "00026-8b9cd2c1-ea49-4580-8d8a-7a3367afb1b6",
    "deepnote_cell_type": "markdown"
   }
  },
  {
   "cell_type": "code",
   "metadata": {
    "tags": [],
    "cell_id": "00024-9441e45e-51e6-410e-abc5-21132c8d7969",
    "deepnote_to_be_reexecuted": false,
    "source_hash": "d668898b",
    "execution_start": 1636641210293,
    "execution_millis": 33,
    "deepnote_cell_type": "code"
   },
   "source": "# winner_ht and loser_ht casted to integers\ndf_matches['winner_ht'].fillna(-1, inplace=True)\ndf_matches['winner_ht'] = df_matches['winner_ht'].astype('int64')\ndf_matches['loser_ht'].fillna(-1, inplace=True)\ndf_matches['loser_ht'] = df_matches['loser_ht'].astype('int64')\ndf_matches['loser_ht'].head()\n\n#give -1 to outliers winners\nquantiles_winner_height = df_matches['winner_ht'].quantile([0.25,0.5,0.75])\n\nQ1 = quantiles_winner_height.values[0]\nQ2 = quantiles_winner_height.values[1]\nQ3 = quantiles_winner_height.values[2]\n\nwinner_lower_limit = Q1 - 1.5 * (Q3-Q1)\nwinner_upper_limit = Q3 + 1.5 * (Q3-Q1)\n\ndf_matches.loc[df_matches.winner_ht < winner_lower_limit, 'winner_ht'] = -1\ndf_matches.loc[df_matches.winner_ht > winner_upper_limit, 'winner_ht'] = -1\n\n#give -1 to outliers losers\nquantiles_loser_height = df_matches['loser_ht'].quantile([0.25,0.5,0.75])\n\nQ1 = quantiles_loser_height.values[0]\nQ2 = quantiles_loser_height.values[1]\nQ3 = quantiles_loser_height.values[2]\n\nloser_lower_limit = Q1 - 1.5 * (Q3-Q1)\nloser_upper_limit = Q3 + 1.5 * (Q3-Q1)\n\ndf_matches.loc[df_matches.loser_ht < winner_lower_limit, 'loser_ht'] = -1\ndf_matches.loc[df_matches.loser_ht > winner_upper_limit, 'loser_ht'] = -1\n",
   "outputs": [],
   "execution_count": null
  },
  {
   "cell_type": "markdown",
   "source": "#### IOC",
   "metadata": {
    "tags": [],
    "cell_id": "00025-b038af64-b674-4ee7-8b49-b41df8280138",
    "deepnote_cell_type": "markdown"
   }
  },
  {
   "cell_type": "code",
   "metadata": {
    "tags": [],
    "cell_id": "00023-2ce82d87-bb68-49ac-9e7a-cfc8cb4fcaf3",
    "deepnote_to_be_reexecuted": false,
    "source_hash": "9b5eb021",
    "execution_start": 1636641218387,
    "execution_millis": 1,
    "deepnote_cell_type": "code"
   },
   "source": "print(len(df_matches[df_matches['winner_ioc'].isnull()]))\nprint(len(df_matches[df_matches['loser_ioc'].isnull()]))",
   "outputs": [
    {
     "name": "stdout",
     "text": "9\n4\n",
     "output_type": "stream"
    }
   ],
   "execution_count": null
  },
  {
   "cell_type": "code",
   "metadata": {
    "tags": [],
    "cell_id": "00023-3c092bf3-5c7a-48aa-b732-3033eb298da8",
    "deepnote_to_be_reexecuted": false,
    "source_hash": "622b85de",
    "execution_start": 1636641218408,
    "execution_millis": 706,
    "deepnote_cell_type": "code"
   },
   "source": "# fixing winner_ioc \ndf_null_winner_ioc = df_matches[df_matches['winner_ioc'].isnull()]['winner_name']\ndf_null_winner_ioc.dropna(inplace=True)\n\nfor name in df_null_winner_ioc:\n    w_ioc = [x for x in (df_matches[df_matches['winner_name'] == name]['winner_ioc']) if pd.notna(x)]\n    if len(w_ioc) > 0:\n        df_matches.loc[df_matches.winner_name == name, 'winner_ioc'] = w_ioc[0]\n    else:\n        l_ioc = [x for x in (df_matches[df_matches['winner_name'] == name]['loser_ioc']) if pd.notna(x)]\n        if len(l_ioc) > 0:\n            df_matches.loc[df_matches.winner_name == name, 'winner_ioc'] = l_ioc[0]\n\n#fixing loser_ioc\ndf_null_loser_ioc = df_matches[df_matches['loser_ioc'].isnull()]['loser_name']\ndf_null_loser_ioc.dropna(inplace=True)\n\nfor name in df_null_loser_ioc:\n    w_ioc = [x for x in (df_matches[df_matches['loser_name'] == name]['loser_ioc']) if pd.notna(x)]\n    if len(w_ioc) > 0:\n        df_matches.loc[df_matches.winner_name == name, 'loser_ioc'] = w_ioc[0]\n    else:\n        l_ioc = [x for x in (df_matches[df_matches['loser_name'] == name]['winner_ioc']) if pd.notna(x)]\n        if len(l_ioc) > 0:\n            df_matches.loc[df_matches.winner_name == name, 'loser_ioc'] = l_ioc[0]\n",
   "outputs": [
    {
     "name": "stderr",
     "text": "/shared-libs/python3.7/py-core/lib/python3.7/site-packages/ipykernel_launcher.py:3: SettingWithCopyWarning: \nA value is trying to be set on a copy of a slice from a DataFrame\n\nSee the caveats in the documentation: https://pandas.pydata.org/pandas-docs/stable/user_guide/indexing.html#returning-a-view-versus-a-copy\n  This is separate from the ipykernel package so we can avoid doing imports until\n/shared-libs/python3.7/py-core/lib/python3.7/site-packages/ipykernel_launcher.py:16: SettingWithCopyWarning: \nA value is trying to be set on a copy of a slice from a DataFrame\n\nSee the caveats in the documentation: https://pandas.pydata.org/pandas-docs/stable/user_guide/indexing.html#returning-a-view-versus-a-copy\n  app.launch_new_instance()\n",
     "output_type": "stream"
    }
   ],
   "execution_count": null
  },
  {
   "cell_type": "code",
   "metadata": {
    "tags": [],
    "cell_id": "00025-fe08a97b-ad03-4cf2-a8bc-9fb8c00b9708",
    "deepnote_to_be_reexecuted": false,
    "source_hash": "9b5eb021",
    "execution_start": 1636641218996,
    "execution_millis": 128,
    "deepnote_cell_type": "code"
   },
   "source": "print(len(df_matches[df_matches['winner_ioc'].isnull()]))\nprint(len(df_matches[df_matches['loser_ioc'].isnull()]))",
   "outputs": [
    {
     "name": "stdout",
     "text": "0\n3\n",
     "output_type": "stream"
    }
   ],
   "execution_count": null
  },
  {
   "cell_type": "markdown",
   "source": "### Age",
   "metadata": {
    "tags": [],
    "cell_id": "00027-9f55e9a9-36c5-41af-9eee-0a9853b7efb5",
    "deepnote_cell_type": "markdown"
   }
  },
  {
   "cell_type": "markdown",
   "source": "Substituting all outliers with -1 value:",
   "metadata": {
    "tags": [],
    "cell_id": "00028-87ec39cf-11e4-4383-a0c1-79c04a5e53b1",
    "deepnote_cell_type": "markdown"
   }
  },
  {
   "cell_type": "code",
   "metadata": {
    "tags": [],
    "cell_id": "00029-10dd644e-781d-4c19-b51c-270ed61132eb",
    "deepnote_to_be_reexecuted": false,
    "source_hash": "cab59b8c",
    "execution_start": 1636641218997,
    "execution_millis": 127,
    "deepnote_cell_type": "code"
   },
   "source": "df_matches[df_matches['winner_age'] == -1].shape[0]",
   "outputs": [
    {
     "output_type": "execute_result",
     "execution_count": 23,
     "data": {
      "text/plain": "0"
     },
     "metadata": {}
    }
   ],
   "execution_count": null
  },
  {
   "cell_type": "code",
   "metadata": {
    "tags": [],
    "cell_id": "00030-99fe5e87-816b-49cf-81bb-0fb61fcd92a3",
    "deepnote_to_be_reexecuted": false,
    "source_hash": "f51fe4a8",
    "execution_start": 1636641218997,
    "execution_millis": 128,
    "deepnote_cell_type": "code"
   },
   "source": "df_matches[df_matches['loser_age'] == -1].shape[0]",
   "outputs": [
    {
     "output_type": "execute_result",
     "execution_count": 24,
     "data": {
      "text/plain": "0"
     },
     "metadata": {}
    }
   ],
   "execution_count": null
  },
  {
   "cell_type": "code",
   "metadata": {
    "tags": [],
    "cell_id": "00028-a9148b9d-932a-496e-8ba9-eff64bd60745",
    "deepnote_to_be_reexecuted": false,
    "source_hash": "41ea008e",
    "execution_start": 1636641219040,
    "execution_millis": 0,
    "is_output_hidden": false,
    "deepnote_cell_type": "code"
   },
   "source": "#Q1 – 1.5 * (Q3-Q1) lower limit\n#Q3 + 1.5 * (Q3-Q1) upper limit\n\nquantiles_winner_age = df_matches['winner_age'].quantile([0.25,0.5,0.75])\n\nQ1 = quantiles_winner_age.values[0]\nQ2 = quantiles_winner_age.values[1]\nQ3 = quantiles_winner_age.values[2]\n\nwinner_lower_limit = Q1 - 1.5 * (Q3-Q1)\nwinner_upper_limit = Q3 + 1.5 * (Q3-Q1)\n\ndf_matches.loc[df_matches.winner_age < winner_lower_limit, 'winner_age'] = -1\ndf_matches.loc[df_matches.winner_age > winner_upper_limit, 'winner_age'] = -1\n\n#df.loc[df.my_channel > 20000, 'my_channel'] = 0\n",
   "outputs": [],
   "execution_count": null
  },
  {
   "cell_type": "code",
   "metadata": {
    "tags": [],
    "cell_id": "00033-899f54c7-5f4a-46a7-860f-ef23c29b832f",
    "deepnote_to_be_reexecuted": false,
    "source_hash": "541fdc8a",
    "execution_start": 1636641219043,
    "execution_millis": 68,
    "deepnote_cell_type": "code"
   },
   "source": "#Q1 – 1.5 * (Q3-Q1) lower limit\n#Q3 + 1.5 * (Q3-Q1) upper limit\n\nquantiles_loser_age = df_matches['loser_age'].quantile([0.25,0.5,0.75])\n\nQ1 = quantiles_loser_age.values[0]\nQ2 = quantiles_loser_age.values[1]\nQ3 = quantiles_loser_age.values[2]\n\nloser_lower_limit = Q1 - 1.5 * (Q3-Q1)\nloser_upper_limit = Q3 + 1.5 * (Q3-Q1)\n\ndf_matches.loc[df_matches.loser_age < loser_lower_limit, 'loser_age'] = -1\ndf_matches.loc[df_matches.loser_age > loser_upper_limit, 'loser_age'] = -1\n\n#df.loc[df.my_channel > 20000, 'my_channel'] = 0",
   "outputs": [],
   "execution_count": null
  },
  {
   "cell_type": "markdown",
   "source": "Doing the same for null values:",
   "metadata": {
    "tags": [],
    "cell_id": "00030-733114cb-2a5c-4e0a-8709-e21a666622e9",
    "deepnote_cell_type": "markdown"
   }
  },
  {
   "cell_type": "code",
   "metadata": {
    "tags": [],
    "cell_id": "00024-a97de9be-9e98-4ded-8bde-bd0bf89dde20",
    "deepnote_to_be_reexecuted": false,
    "source_hash": "ffd8af6a",
    "execution_start": 1636641219111,
    "execution_millis": 0,
    "deepnote_cell_type": "code"
   },
   "source": "df_matches['winner_age'].fillna(-1, inplace=True)\ndf_matches['winner_age'] = df_matches['winner_age'].astype('int64')\ndf_matches['loser_age'].fillna(-1, inplace=True)\ndf_matches['loser_age'] = df_matches['loser_age'].astype('int64')\n\n#taking all players that have null age row\nno_age_winners = df_matches[df_matches['winner_age'] == -1]['winner_id'].unique()\nno_age_losers = df_matches[df_matches['loser_age'] == -1]['loser_id'].unique()\n\n#2833",
   "outputs": [],
   "execution_count": null
  },
  {
   "cell_type": "code",
   "metadata": {
    "tags": [],
    "cell_id": "00030-e55f6f51-7383-4792-be51-312c900ba682",
    "deepnote_to_be_reexecuted": false,
    "source_hash": "cab59b8c",
    "execution_start": 1636641219155,
    "execution_millis": 1,
    "deepnote_cell_type": "code"
   },
   "source": "df_matches[df_matches['winner_age'] == -1].shape[0]",
   "outputs": [
    {
     "output_type": "execute_result",
     "execution_count": 28,
     "data": {
      "text/plain": "4051"
     },
     "metadata": {}
    }
   ],
   "execution_count": null
  },
  {
   "cell_type": "code",
   "metadata": {
    "tags": [],
    "cell_id": "00035-b9fb8d73-26ef-4aad-9dbb-21d0f78ee619",
    "deepnote_to_be_reexecuted": false,
    "source_hash": "6f99fa1e",
    "execution_start": 1636641219156,
    "execution_millis": 2,
    "deepnote_cell_type": "code"
   },
   "source": "df_matches[df_matches['loser_age'] == -1].shape[0]\n",
   "outputs": [
    {
     "output_type": "execute_result",
     "execution_count": 29,
     "data": {
      "text/plain": "7743"
     },
     "metadata": {}
    }
   ],
   "execution_count": null
  },
  {
   "cell_type": "markdown",
   "source": "Try to compute, if possible, the correct age of the players:",
   "metadata": {
    "tags": [],
    "cell_id": "00032-a7af2483-3a84-4d27-b5f3-b4265f40f0a0",
    "deepnote_cell_type": "markdown"
   }
  },
  {
   "cell_type": "code",
   "metadata": {
    "tags": [],
    "cell_id": "00027-4d764f23-5254-4d3e-9cfe-9d70f0d937ff",
    "deepnote_to_be_reexecuted": false,
    "source_hash": "ef4554de",
    "execution_start": 1636641263792,
    "execution_millis": 58903,
    "deepnote_cell_type": "code"
   },
   "source": "for loser_id in no_age_losers:\n    winner_date_row = df_matches[(df_matches['winner_id'] == loser_id) & (df_matches['winner_age'] != -1) & (df_matches['tourney_date'].dt.year > 1900)]\n    if(not(winner_date_row.empty)):\n        name_date = winner_date_row.iloc[[0]]\n    else:\n        loser_date_row = df_matches[(df_matches['loser_id'] == loser_id) & (df_matches['loser_age'] != -1) & (df_matches['tourney_date'].dt.year > 1900)]\n        if(not(loser_date_row.empty)):\n            name_date = loser_date_row.iloc[[0]]\n        else:\n            continue\n    #computing birth year\n    if(not(winner_date_row.empty)):\n        name_dot = np.int64((name_date['tourney_date']).dt.year - name_date['winner_age'])[0]\n    else:\n        name_dot = np.int64((name_date['tourney_date']).dt.year - name_date['loser_age'])[0]\n    \n    #df.at[4, 'B'] = 10\n    for index, match in (df_matches[(df_matches['loser_id'] == loser_id ) & (df_matches['loser_age'] == -1) & (df_matches['tourney_date'].dt.year > 1900)]).iterrows():\n        df_matches.at[index, 'loser_age'] = match['tourney_date'].year - name_dot",
   "outputs": [],
   "execution_count": null
  },
  {
   "cell_type": "code",
   "metadata": {
    "tags": [],
    "cell_id": "00024-5d6b0bd5-8f9c-481a-abdf-ddd03792f9d2",
    "deepnote_to_be_reexecuted": false,
    "source_hash": "1c84f013",
    "execution_start": 1636641329177,
    "execution_millis": 26011,
    "deepnote_cell_type": "code"
   },
   "source": "for winner_id in no_age_winners:\n    winner_date_row = df_matches[(df_matches['winner_id'] == winner_id ) & (df_matches['winner_age'] != -1) & (df_matches['tourney_date'].dt.year > 1900)]\n    if(not(winner_date_row.empty)):\n        name_date = winner_date_row.iloc[[0]]\n    else:\n        loser_date_row = df_matches[(df_matches['loser_id'] == winner_id) & (df_matches['loser_age'] != -1) & (df_matches['tourney_date'].dt.year > 1900)]\n        if(not(loser_date_row.empty)):\n            name_date = loser_date_row.iloc[[0]]\n        else:\n            continue\n    #computing birth year\n    if(not(winner_date_row.empty)):\n        name_dot = np.int64((name_date['tourney_date']).dt.year - name_date['winner_age'])[0]\n    else:\n        name_dot = np.int64((name_date['tourney_date']).dt.year - name_date['loser_age'])[0]\n    \n    #df.at[4, 'B'] = 10\n    for index, match in (df_matches[(df_matches['winner_id'] == winner_id) & (df_matches['winner_age'] == -1) & (df_matches['tourney_date'].dt.year > 1900)]).iterrows():\n        df_matches.at[index, 'winner_age'] = match['tourney_date'].year - name_dot",
   "outputs": [],
   "execution_count": null
  },
  {
   "cell_type": "code",
   "metadata": {
    "tags": [],
    "cell_id": "00035-3efc122a-25c2-4da5-9a4d-2c0681f6dc1a",
    "deepnote_to_be_reexecuted": false,
    "source_hash": "cab59b8c",
    "execution_start": 1636641355195,
    "execution_millis": 12,
    "deepnote_cell_type": "code"
   },
   "source": "df_matches[df_matches['winner_age'] == -1].shape[0]",
   "outputs": [
    {
     "output_type": "execute_result",
     "execution_count": 34,
     "data": {
      "text/plain": "3209"
     },
     "metadata": {}
    }
   ],
   "execution_count": null
  },
  {
   "cell_type": "code",
   "metadata": {
    "tags": [],
    "cell_id": "00041-9e049520-2880-4a95-8b1e-8cb492c89c1a",
    "deepnote_to_be_reexecuted": false,
    "source_hash": "f51fe4a8",
    "execution_start": 1636641355214,
    "execution_millis": 16,
    "deepnote_cell_type": "code"
   },
   "source": "df_matches[df_matches['loser_age'] == -1].shape[0]",
   "outputs": [
    {
     "output_type": "execute_result",
     "execution_count": 35,
     "data": {
      "text/plain": "7000"
     },
     "metadata": {}
    }
   ],
   "execution_count": null
  },
  {
   "cell_type": "code",
   "metadata": {
    "tags": [],
    "cell_id": "00042-89d0b43a-81fe-4c16-991c-eb129a182b4c",
    "deepnote_to_be_reexecuted": false,
    "source_hash": "c2fdcfdf",
    "execution_start": 1636641355230,
    "execution_millis": 6249,
    "deepnote_cell_type": "code"
   },
   "source": "df_matches.to_csv(\"../data/cleaned/tennis_matches_age_cleaned.csv\", index=False)",
   "outputs": [],
   "execution_count": null
  },
  {
   "cell_type": "markdown",
   "source": "#### start from here",
   "metadata": {
    "tags": [],
    "cell_id": "00043-c67ddbc4-a0a1-46b0-88f2-aa1b1fa07ab9",
    "deepnote_cell_type": "markdown"
   }
  },
  {
   "cell_type": "code",
   "metadata": {
    "tags": [],
    "cell_id": "00043-57ffddea-edff-4dce-8031-443d97ccafc4",
    "deepnote_to_be_reexecuted": false,
    "source_hash": "e7afc78e",
    "execution_start": 1636641361486,
    "execution_millis": 886,
    "deepnote_cell_type": "code"
   },
   "source": "df_matches = pd.read_csv(\"../data/cleaned/tennis_matches_age_cleaned.csv\")",
   "outputs": [],
   "execution_count": null
  },
  {
   "cell_type": "markdown",
   "source": "#### Best of",
   "metadata": {
    "tags": [],
    "cell_id": "00057-8732618a-b2b2-458b-bb2d-8befd3786a5e",
    "deepnote_cell_type": "markdown"
   }
  },
  {
   "cell_type": "markdown",
   "source": "Filling null values with 3 (the mean value)",
   "metadata": {
    "tags": [],
    "cell_id": "00058-7d7eb285-a2cc-4236-bfe5-8bbce200b3db",
    "deepnote_cell_type": "markdown"
   }
  },
  {
   "cell_type": "code",
   "metadata": {
    "tags": [],
    "cell_id": "00046-7038792f-7f36-40c3-b1a2-67d3e86f081b",
    "deepnote_to_be_reexecuted": false,
    "source_hash": "926aa725",
    "execution_start": 1636641362385,
    "execution_millis": 4,
    "deepnote_cell_type": "code"
   },
   "source": "df_matches['best_of'].fillna(3, inplace=True)\ndf_matches['best_of'] = df_matches['best_of'].astype('int64')",
   "outputs": [],
   "execution_count": null
  },
  {
   "cell_type": "markdown",
   "source": "#### Round",
   "metadata": {
    "tags": [],
    "cell_id": "00060-d7748dec-3c63-42b5-9570-c45281099c94",
    "deepnote_cell_type": "markdown"
   }
  },
  {
   "cell_type": "markdown",
   "source": "Fixing BR typo and filling null values with 'U' (unknown)",
   "metadata": {
    "tags": [],
    "cell_id": "00061-a8a560e3-f751-42d8-967c-0b1b001840aa",
    "deepnote_cell_type": "markdown"
   }
  },
  {
   "cell_type": "code",
   "metadata": {
    "tags": [],
    "cell_id": "00061-5e02d21d-bd02-4cbc-b132-cb18a29f02a2",
    "deepnote_to_be_reexecuted": false,
    "source_hash": "171c6668",
    "execution_start": 1636641362421,
    "execution_millis": 6,
    "deepnote_cell_type": "code"
   },
   "source": "df_matches.loc[df_matches['round'] == \"BR\", 'round'] = \"RR\"\ndf_matches['round'].fillna('U', inplace=True)",
   "outputs": [],
   "execution_count": null
  },
  {
   "cell_type": "markdown",
   "source": "#### Minutes",
   "metadata": {
    "tags": [],
    "cell_id": "00035-682c7f7c-701c-41a7-900d-c9fdc56b90f6",
    "deepnote_cell_type": "markdown"
   }
  },
  {
   "cell_type": "markdown",
   "source": "Setting to -1 all the null values and then converting the attribute to integer type",
   "metadata": {
    "tags": [],
    "cell_id": "00064-c84ffd71-dc43-45ed-9c42-9b6149879ddd",
    "deepnote_cell_type": "markdown"
   }
  },
  {
   "cell_type": "code",
   "metadata": {
    "tags": [],
    "cell_id": "00029-046418ed-a6de-4618-a095-c5f786d47c4e",
    "deepnote_to_be_reexecuted": false,
    "source_hash": "cfd9a178",
    "execution_start": 1636641362431,
    "execution_millis": 4,
    "deepnote_cell_type": "code"
   },
   "source": "# Change type of attribute \"minutes\" and setting error value \"0\" to -1\ndf_matches['minutes'].fillna(-1, inplace=True)",
   "outputs": [],
   "execution_count": null
  },
  {
   "cell_type": "markdown",
   "source": "Setting all the outliers to the average value of minute ",
   "metadata": {
    "tags": [],
    "cell_id": "00047-0b2c6fbd-59fe-4c38-8f50-5cd5109f3ec9",
    "deepnote_cell_type": "markdown"
   }
  },
  {
   "cell_type": "code",
   "metadata": {
    "tags": [],
    "cell_id": "00047-a32aec7f-b503-4727-a3d7-acc8ea38fa53",
    "deepnote_to_be_reexecuted": false,
    "source_hash": "d29d1b3",
    "execution_start": 1636641362446,
    "execution_millis": 23,
    "deepnote_cell_type": "code"
   },
   "source": "#Q1 – 1.5 * (Q3-Q1) lower limit\n#Q3 + 1.5 * (Q3-Q1) upper limit\n\nquantiles_minutes = df_matches['minutes'].quantile([0.25,0.5,0.75])\n\nQ1 = quantiles_minutes.values[0]\nQ2 = quantiles_minutes.values[1]\nQ3 = quantiles_minutes.values[2]\n\nminutes_lower_limit = Q1 - 1.5 * (Q3-Q1)\nminutes_upper_limit = Q3 + 1.5 * (Q3-Q1)\n\ndf_matches.loc[df_matches.minutes < minutes_lower_limit, 'minutes'] = Q2\ndf_matches.loc[df_matches.minutes > minutes_upper_limit, 'minutes'] = Q2\n\n#df.loc[df.my_channel > 20000, 'my_channel'] = 0\ndf_matches['minutes'] = df_matches['minutes'].astype('int64')",
   "outputs": [],
   "execution_count": null
  },
  {
   "cell_type": "markdown",
   "source": "#### Ace",
   "metadata": {
    "tags": [],
    "cell_id": "00068-086b220a-3f6b-4201-98b5-c005e19ab681",
    "deepnote_cell_type": "markdown"
   }
  },
  {
   "cell_type": "code",
   "metadata": {
    "tags": [],
    "cell_id": "00069-65290c6f-044a-45df-9c43-617bd85386d7",
    "deepnote_to_be_reexecuted": false,
    "source_hash": "ab794a98",
    "execution_start": 1636641362478,
    "execution_millis": 75,
    "deepnote_cell_type": "code"
   },
   "source": "\"\"\"\ndf_matches['w_ace'].fillna(-1, inplace=True)\ndf_matches['w_ace'] = df_matches['w_ace'].astype('int64')\n\ndf_matches['l_ace'].fillna(-1, inplace=True)\ndf_matches['l_ace'] = df_matches['l_ace'].astype('int64')\n\"\"\"",
   "outputs": [
    {
     "output_type": "execute_result",
     "execution_count": 42,
     "data": {
      "text/plain": "\"\\ndf_matches['w_ace'].fillna(-1, inplace=True)\\ndf_matches['w_ace'] = df_matches['w_ace'].astype('int64')\\n\\ndf_matches['l_ace'].fillna(-1, inplace=True)\\ndf_matches['l_ace'] = df_matches['l_ace'].astype('int64')\\n\""
     },
     "metadata": {}
    }
   ],
   "execution_count": null
  },
  {
   "cell_type": "code",
   "metadata": {
    "tags": [],
    "cell_id": "00070-edcad117-23c4-4944-b26c-8f8189fb120d",
    "deepnote_to_be_reexecuted": false,
    "source_hash": "7f59a220",
    "execution_start": 1636641362531,
    "execution_millis": 0,
    "deepnote_cell_type": "code"
   },
   "source": "\"\"\"\n#Q1 – 1.5 * (Q3-Q1) lower limit\n#Q3 + 1.5 * (Q3-Q1) upper limit\n\nquantiles_waces = df_matches['w_ace'].quantile([0.25,0.5,0.75])\n\nQ1 = quantiles_waces.values[0]\nQ2 = quantiles_waces.values[1]\nQ3 = quantiles_waces.values[2]\n\nw_ace_lower_limit = Q1 - 1.5 * (Q3-Q1)\nw_ace_upper_limit = Q3 + 1.5 * (Q3-Q1)\n\ndf_matches.loc[df_matches.w_ace < w_ace_lower_limit, 'w_ace'] = Q2\ndf_matches.loc[df_matches.w_ace > w_ace_upper_limit, 'w_ace'] = Q2\n\nquantiles_laces = df_matches['l_ace'].quantile([0.25,0.5,0.75])\n\nQ1 = quantiles_laces.values[0]\nQ2 = quantiles_laces.values[1]\nQ3 = quantiles_laces.values[2]\n\nl_ace_lower_limit = Q1 - 1.5 * (Q3-Q1)\nl_ace_upper_limit = Q3 + 1.5 * (Q3-Q1)\n\ndf_matches.loc[df_matches.l_ace < l_ace_lower_limit, 'l_ace'] = Q2\ndf_matches.loc[df_matches.l_ace > l_ace_upper_limit, 'l_ace'] = Q2\n\"\"\"",
   "outputs": [
    {
     "output_type": "execute_result",
     "execution_count": 43,
     "data": {
      "text/plain": "\"\\n#Q1 – 1.5 * (Q3-Q1) lower limit\\n#Q3 + 1.5 * (Q3-Q1) upper limit\\n\\nquantiles_waces = df_matches['w_ace'].quantile([0.25,0.5,0.75])\\n\\nQ1 = quantiles_waces.values[0]\\nQ2 = quantiles_waces.values[1]\\nQ3 = quantiles_waces.values[2]\\n\\nw_ace_lower_limit = Q1 - 1.5 * (Q3-Q1)\\nw_ace_upper_limit = Q3 + 1.5 * (Q3-Q1)\\n\\ndf_matches.loc[df_matches.w_ace < w_ace_lower_limit, 'w_ace'] = Q2\\ndf_matches.loc[df_matches.w_ace > w_ace_upper_limit, 'w_ace'] = Q2\\n\\nquantiles_laces = df_matches['l_ace'].quantile([0.25,0.5,0.75])\\n\\nQ1 = quantiles_laces.values[0]\\nQ2 = quantiles_laces.values[1]\\nQ3 = quantiles_laces.values[2]\\n\\nl_ace_lower_limit = Q1 - 1.5 * (Q3-Q1)\\nl_ace_upper_limit = Q3 + 1.5 * (Q3-Q1)\\n\\ndf_matches.loc[df_matches.l_ace < l_ace_lower_limit, 'l_ace'] = Q2\\ndf_matches.loc[df_matches.l_ace > l_ace_upper_limit, 'l_ace'] = Q2\\n\""
     },
     "metadata": {}
    }
   ],
   "execution_count": null
  },
  {
   "cell_type": "markdown",
   "source": "#### TODO (Attributi Brevi)",
   "metadata": {
    "tags": [],
    "cell_id": "00071-61db90c9-0ab5-4f30-97f5-df9d64f58dc6",
    "deepnote_cell_type": "markdown"
   }
  },
  {
   "cell_type": "markdown",
   "source": "#### Rank",
   "metadata": {
    "tags": [],
    "cell_id": "00072-bf7a6771-e855-4978-b837-d4a1a396d66d",
    "deepnote_cell_type": "markdown"
   }
  },
  {
   "cell_type": "code",
   "metadata": {
    "tags": [],
    "cell_id": "00073-e3f07a8c-d53f-4b60-ae4d-58c987f87ce6",
    "deepnote_to_be_reexecuted": false,
    "source_hash": "59d67afa",
    "execution_start": 1636641362532,
    "execution_millis": 28,
    "deepnote_cell_type": "code"
   },
   "source": "df_matches['winner_rank'].fillna(-1,inplace=True)\ndf_matches['winner_rank'] = df_matches['winner_rank'].astype('int64')\n\ndf_matches['loser_rank'].fillna(-1,inplace=True)\ndf_matches['loser_rank'] = df_matches['loser_rank'].astype('int64')",
   "outputs": [],
   "execution_count": null
  },
  {
   "cell_type": "markdown",
   "source": "#### Points",
   "metadata": {
    "tags": [],
    "cell_id": "00074-6e0e0dea-742e-4120-a748-0c091a16403f",
    "deepnote_cell_type": "markdown"
   }
  },
  {
   "cell_type": "markdown",
   "source": "We delete winner_rank_points and loser_rank_points since:\n- winner_rank and loser_rank give us similar information\n- data distribution does not hold significant information",
   "metadata": {
    "tags": [],
    "cell_id": "00075-09840676-7d58-4c0f-9eab-47d70c0bd9e5",
    "deepnote_cell_type": "markdown"
   }
  },
  {
   "cell_type": "code",
   "metadata": {
    "tags": [],
    "cell_id": "00075-bb6a9ce9-d4cb-4748-ba9f-a26ce0c99e1a",
    "deepnote_to_be_reexecuted": false,
    "source_hash": "ec39f15a",
    "execution_start": 1636641362533,
    "execution_millis": 43,
    "deepnote_cell_type": "code"
   },
   "source": "#df_matches.drop(['winner_rank_points', 'loser_rank_points'], axis=1, inplace=True)",
   "outputs": [],
   "execution_count": null
  },
  {
   "cell_type": "markdown",
   "source": "## Outliers",
   "metadata": {
    "tags": [],
    "cell_id": "00033-20613e8e-c05a-43c2-86a9-9844f78f4c0b",
    "deepnote_cell_type": "markdown"
   }
  },
  {
   "cell_type": "code",
   "metadata": {
    "cell_id": "00012-ab69bd8b-d144-41e8-8d85-3b6421415918",
    "deepnote_to_be_reexecuted": false,
    "source_hash": "97be2dc4",
    "execution_start": 1636641362576,
    "execution_millis": 431,
    "deepnote_cell_type": "code"
   },
   "source": "## There are no duplicates\n\ndf_male_players.drop_duplicates(inplace=True)\ndf_female_players.drop_duplicates(inplace=True)\ndf_matches.drop_duplicates(inplace=True)",
   "outputs": [],
   "execution_count": null
  },
  {
   "cell_type": "code",
   "metadata": {
    "tags": [],
    "cell_id": "00080-d7d4a250-0621-4a7c-b910-0640459bc536",
    "deepnote_to_be_reexecuted": false,
    "source_hash": "e315a4a5",
    "execution_start": 1636641363012,
    "execution_millis": 5513,
    "deepnote_cell_type": "code"
   },
   "source": "df_matches.to_csv(\"../data/cleaned/tennis_matches_cleaned.csv\", index=False)\ndf_male_players.to_csv(\"../data/cleaned/male_players_cleaned.csv\", index=False)\ndf_female_players.to_csv(\"../data/cleaned/female_players_cleaned.csv\", index=False)",
   "outputs": [],
   "execution_count": null
  },
  {
   "cell_type": "markdown",
   "source": "<a style='text-decoration:none;line-height:16px;display:flex;color:#5B5B62;padding:10px;justify-content:end;' href='https://deepnote.com?utm_source=created-in-deepnote-cell&projectId=de87b132-0371-4d99-94f9-c61923e2507d' target=\"_blank\">\n<img alt='Created in deepnote.com' style='display:inline;max-height:16px;margin:0px;margin-right:7.5px;' src='data:image/svg+xml;base64,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' > </img>\nCreated in <span style='font-weight:600;margin-left:4px;'>Deepnote</span></a>",
   "metadata": {
    "tags": [],
    "created_in_deepnote_cell": true,
    "deepnote_cell_type": "markdown"
   }
  }
 ],
 "nbformat": 4,
 "nbformat_minor": 2,
 "metadata": {
  "deepnote": {
   "is_reactive": false
  },
  "deepnote_execution_queue": [],
  "deepnote_notebook_id": "9af0625f-cde4-48ee-99d0-151be848a707",
  "interpreter": {
   "hash": "eb9dbec9fb961a9d47594eec49f43f61073fc985824c2246ab8d4bde48df8836"
  },
  "kernelspec": {
   "display_name": "Python 3.9.1 64-bit",
   "name": "python3"
  },
  "language_info": {
   "codemirror_mode": {
    "name": "ipython",
    "version": 3
   },
   "file_extension": ".py",
   "mimetype": "text/x-python",
   "name": "python",
   "nbconvert_exporter": "python",
   "pygments_lexer": "ipython3",
   "version": "3.9.1"
  },
  "orig_nbformat": 2
 }
}