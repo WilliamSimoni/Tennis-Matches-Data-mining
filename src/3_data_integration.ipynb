{
 "cells": [
  {
   "cell_type": "code",
   "metadata": {
    "tags": [],
    "cell_id": "00000-7f45bfac-0de2-411c-a791-4e6d95c0cd8b",
    "deepnote_to_be_reexecuted": false,
    "source_hash": "b9ab4980",
    "execution_start": 1638370007758,
    "execution_millis": 1515505,
    "deepnote_cell_type": "code"
   },
   "source": "import numpy as np\nimport pandas as pd\nimport plotly as plt\nimport plotly.express as px\nimport scipy\nimport math\nfrom datetime import datetime",
   "execution_count": null,
   "outputs": []
  },
  {
   "cell_type": "code",
   "metadata": {
    "tags": [],
    "cell_id": "00000-dcbff698-b5dd-48e3-8b70-4579c1b0e1e1",
    "deepnote_to_be_reexecuted": false,
    "source_hash": "b5ebfa8d",
    "execution_start": 1638370007763,
    "execution_millis": 1033,
    "deepnote_cell_type": "code"
   },
   "source": "df_matches = pd.read_csv(\"../data/cleaned/tennis_matches_cleaned.csv\", parse_dates=['tourney_date'])\ndf_male_players = pd.read_csv(\"../data/cleaned/male_players_cleaned.csv\")\ndf_female_players = pd.read_csv(\"../data/cleaned/female_players_cleaned.csv\")",
   "execution_count": null,
   "outputs": []
  },
  {
   "cell_type": "markdown",
   "source": "# Data integration",
   "metadata": {
    "tags": [],
    "cell_id": "00000-4d8ab1cf-3137-4e92-b150-f5587423f940",
    "deepnote_cell_type": "markdown"
   }
  },
  {
   "cell_type": "markdown",
   "source": "Create a dataframe with all the male matches and another one for the female matches",
   "metadata": {
    "tags": [],
    "cell_id": "00001-50f18f19-b9f7-4ea8-ba4f-039e7dd48f2a",
    "deepnote_cell_type": "markdown"
   }
  },
  {
   "cell_type": "code",
   "metadata": {
    "tags": [],
    "cell_id": "00002-a68a3b40-36a1-45eb-9f2f-a3c6b785e71c",
    "deepnote_to_be_reexecuted": false,
    "source_hash": "b288f2c1",
    "execution_start": 1638370008806,
    "execution_millis": 757,
    "deepnote_cell_type": "code"
   },
   "source": "df_male_players_tmp = pd.DataFrame()\ndf_male_players_tmp['player_name'] = df_male_players['name'] + ' ' + df_male_players['surname']\ndf_male_winners = df_male_players_tmp.join(df_matches.set_index('winner_name'), on='player_name', how='inner')\ndf_male_losers = df_male_players_tmp.join(df_matches.set_index('loser_name'), on='player_name', how='inner')\ndf_male_matches = pd.concat([df_male_winners, df_male_losers])",
   "execution_count": null,
   "outputs": []
  },
  {
   "cell_type": "code",
   "metadata": {
    "tags": [],
    "cell_id": "00005-a2514453-9050-4264-b238-feb7d8b7546e",
    "deepnote_to_be_reexecuted": false,
    "source_hash": "3a4012c6",
    "execution_start": 1638370009576,
    "execution_millis": 245,
    "deepnote_cell_type": "code"
   },
   "source": "df_male_matches",
   "execution_count": null,
   "outputs": [
    {
     "output_type": "execute_result",
     "execution_count": 11,
     "data": {
      "application/vnd.deepnote.dataframe.v2+json": {
       "row_count": 116822,
       "column_count": 51,
       "columns": [
        {
         "name": "player_name",
         "dtype": "object"
        },
        {
         "name": "Unnamed: 0",
         "dtype": "int64"
        },
        {
         "name": "tourney_id",
         "dtype": "object"
        },
        {
         "name": "tourney_name",
         "dtype": "object"
        },
        {
         "name": "surface",
         "dtype": "object"
        },
        {
         "name": "draw_size",
         "dtype": "int64"
        },
        {
         "name": "tourney_level",
         "dtype": "object"
        },
        {
         "name": "tourney_date",
         "dtype": "datetime64[ns]"
        },
        {
         "name": "match_num",
         "dtype": "int64"
        },
        {
         "name": "winner_id",
         "dtype": "int64"
        },
        {
         "name": "winner_entry",
         "dtype": "object"
        },
        {
         "name": "winner_hand",
         "dtype": "object"
        },
        {
         "name": "winner_ht",
         "dtype": "int64"
        },
        {
         "name": "winner_ioc",
         "dtype": "object"
        },
        {
         "name": "winner_age",
         "dtype": "int64"
        },
        {
         "name": "loser_id",
         "dtype": "int64"
        },
        {
         "name": "loser_entry",
         "dtype": "object"
        },
        {
         "name": "loser_name",
         "dtype": "object"
        },
        {
         "name": "loser_hand",
         "dtype": "object"
        },
        {
         "name": "loser_ht",
         "dtype": "int64"
        },
        {
         "name": "loser_ioc",
         "dtype": "object"
        },
        {
         "name": "loser_age",
         "dtype": "int64"
        },
        {
         "name": "score",
         "dtype": "object"
        },
        {
         "name": "best_of",
         "dtype": "int64"
        },
        {
         "name": "round",
         "dtype": "object"
        },
        {
         "name": "minutes",
         "dtype": "int64"
        },
        {
         "name": "w_ace",
         "dtype": "float64"
        },
        {
         "name": "w_df",
         "dtype": "float64"
        },
        {
         "name": "w_svpt",
         "dtype": "float64"
        },
        {
         "name": "w_1stIn",
         "dtype": "float64"
        },
        {
         "name": "w_1stWon",
         "dtype": "float64"
        },
        {
         "name": "w_2ndWon",
         "dtype": "float64"
        },
        {
         "name": "w_SvGms",
         "dtype": "float64"
        },
        {
         "name": "w_bpSaved",
         "dtype": "float64"
        },
        {
         "name": "w_bpFaced",
         "dtype": "float64"
        },
        {
         "name": "l_ace",
         "dtype": "float64"
        },
        {
         "name": "l_df",
         "dtype": "float64"
        },
        {
         "name": "l_svpt",
         "dtype": "float64"
        },
        {
         "name": "l_1stIn",
         "dtype": "float64"
        },
        {
         "name": "l_1stWon",
         "dtype": "float64"
        },
        {
         "name": "l_2ndWon",
         "dtype": "float64"
        },
        {
         "name": "l_SvGms",
         "dtype": "float64"
        },
        {
         "name": "l_bpSaved",
         "dtype": "float64"
        },
        {
         "name": "l_bpFaced",
         "dtype": "float64"
        },
        {
         "name": "winner_rank",
         "dtype": "int64"
        },
        {
         "name": "winner_rank_points",
         "dtype": "float64"
        },
        {
         "name": "loser_rank",
         "dtype": "int64"
        },
        {
         "name": "loser_rank_points",
         "dtype": "float64"
        },
        {
         "name": "tourney_spectators",
         "dtype": "float64"
        },
        {
         "name": "tourney_revenue",
         "dtype": "float64"
        },
        {
         "name": "winner_name",
         "dtype": "object"
        },
        {
         "name": "_deepnote_index_column",
         "dtype": "int64"
        }
       ],
       "rows_top": [
        {
         "player_name": "Alexander Zverev",
         "Unnamed: 0": 352,
         "tourney_id": "2019-580",
         "tourney_name": "Australian Open",
         "surface": "Hard",
         "draw_size": 128,
         "tourney_level": "G",
         "tourney_date": "2019-01-14T00:00:00.000000",
         "match_num": 200,
         "winner_id": 100644,
         "winner_entry": "nan",
         "winner_hand": "R",
         "winner_ht": 198,
         "winner_ioc": "GER",
         "winner_age": 21,
         "loser_id": 106109,
         "loser_entry": "WC",
         "loser_name": "Alex Bolt",
         "loser_hand": "L",
         "loser_ht": -1,
         "loser_ioc": "AUS",
         "loser_age": 26,
         "score": "6-3 6-3 6-2",
         "best_of": 5,
         "round": "R32",
         "minutes": 112,
         "w_ace": 14,
         "w_df": 4,
         "w_svpt": 85,
         "w_1stIn": 55,
         "w_1stWon": 39,
         "w_2ndWon": 19,
         "w_SvGms": 13,
         "w_bpSaved": 5,
         "w_bpFaced": 6,
         "l_ace": 5,
         "l_df": 1,
         "l_svpt": 90,
         "l_1stIn": 58,
         "l_1stWon": 37,
         "l_2ndWon": 12,
         "l_SvGms": 13,
         "l_bpSaved": 6,
         "l_bpFaced": 12,
         "winner_rank": 4,
         "winner_rank_points": 6385,
         "loser_rank": 155,
         "loser_rank_points": 343,
         "tourney_spectators": 15583,
         "tourney_revenue": 2781000.18,
         "winner_name": "nan",
         "_deepnote_index_column": 643
        },
        {
         "player_name": "Alexander Zverev",
         "Unnamed: 0": 363,
         "tourney_id": "2019-580",
         "tourney_name": "Australian Open",
         "surface": "Hard",
         "draw_size": 128,
         "tourney_level": "G",
         "tourney_date": "2019-01-14T00:00:00.000000",
         "match_num": 116,
         "winner_id": 100644,
         "winner_entry": "nan",
         "winner_hand": "R",
         "winner_ht": 198,
         "winner_ioc": "GER",
         "winner_age": 21,
         "loser_id": 105379,
         "loser_entry": "nan",
         "loser_name": "Aljaz Bedene",
         "loser_hand": "R",
         "loser_ht": 181,
         "loser_ioc": "SLO",
         "loser_age": 29,
         "score": "6-4 6-1 6-4",
         "best_of": 5,
         "round": "R128",
         "minutes": 115,
         "w_ace": 11,
         "w_df": 6,
         "w_svpt": 77,
         "w_1stIn": 46,
         "w_1stWon": 38,
         "w_2ndWon": 14,
         "w_SvGms": 14,
         "w_bpSaved": 1,
         "w_bpFaced": 3,
         "l_ace": 7,
         "l_df": 2,
         "l_svpt": 84,
         "l_1stIn": 51,
         "l_1stWon": 34,
         "l_2ndWon": 8,
         "l_SvGms": 13,
         "l_bpSaved": 2,
         "l_bpFaced": 8,
         "winner_rank": 4,
         "winner_rank_points": 6385,
         "loser_rank": 67,
         "loser_rank_points": 760,
         "tourney_spectators": 15583,
         "tourney_revenue": 2781000.18,
         "winner_name": "nan",
         "_deepnote_index_column": 643
        },
        {
         "player_name": "Alexander Zverev",
         "Unnamed: 0": 364,
         "tourney_id": "2019-580",
         "tourney_name": "Australian Open",
         "surface": "Hard",
         "draw_size": 128,
         "tourney_level": "G",
         "tourney_date": "2019-01-14T00:00:00.000000",
         "match_num": 172,
         "winner_id": 100644,
         "winner_entry": "nan",
         "winner_hand": "R",
         "winner_ht": 198,
         "winner_ioc": "GER",
         "winner_age": 21,
         "loser_id": 104871,
         "loser_entry": "nan",
         "loser_name": "Jeremy Chardy",
         "loser_hand": "R",
         "loser_ht": 188,
         "loser_ioc": "FRA",
         "loser_age": 31,
         "score": "7-6(5) 6-4 5-7 6-7(6) 6-1",
         "best_of": 5,
         "round": "R64",
         "minutes": -1,
         "w_ace": 29,
         "w_df": 13,
         "w_svpt": 167,
         "w_1stIn": 116,
         "w_1stWon": 94,
         "w_2ndWon": 25,
         "w_SvGms": 27,
         "w_bpSaved": 10,
         "w_bpFaced": 13,
         "l_ace": 14,
         "l_df": 3,
         "l_svpt": 173,
         "l_1stIn": 118,
         "l_1stWon": 86,
         "l_2ndWon": 29,
         "l_SvGms": 26,
         "l_bpSaved": 12,
         "l_bpFaced": 17,
         "winner_rank": 4,
         "winner_rank_points": 6385,
         "loser_rank": 36,
         "loser_rank_points": 1120,
         "tourney_spectators": 15583,
         "tourney_revenue": 2781000.18,
         "winner_name": "nan",
         "_deepnote_index_column": 643
        },
        {
         "player_name": "Alexander Zverev",
         "Unnamed: 0": 1145,
         "tourney_id": "2019-M004",
         "tourney_name": "Acapulco",
         "surface": "Hard",
         "draw_size": 32,
         "tourney_level": "A",
         "tourney_date": "2019-02-25T00:00:00.000000",
         "match_num": 298,
         "winner_id": 100644,
         "winner_entry": "nan",
         "winner_hand": "R",
         "winner_ht": 198,
         "winner_ioc": "GER",
         "winner_age": 21,
         "loser_id": 111815,
         "loser_entry": "nan",
         "loser_name": "Cameron Norrie",
         "loser_hand": "L",
         "loser_ht": 188,
         "loser_ioc": "GBR",
         "loser_age": 23,
         "score": "7-6(0) 6-3",
         "best_of": 3,
         "round": "SF",
         "minutes": 80,
         "w_ace": 10,
         "w_df": 4,
         "w_svpt": 62,
         "w_1stIn": 42,
         "w_1stWon": 34,
         "w_2ndWon": 13,
         "w_SvGms": 11,
         "w_bpSaved": 2,
         "w_bpFaced": 3,
         "l_ace": 2,
         "l_df": 2,
         "l_svpt": 57,
         "l_1stIn": 39,
         "l_1stWon": 29,
         "l_2ndWon": 8,
         "l_SvGms": 10,
         "l_bpSaved": 2,
         "l_bpFaced": 4,
         "winner_rank": 3,
         "winner_rank_points": 6475,
         "loser_rank": 64,
         "loser_rank_points": 797,
         "tourney_spectators": 3398,
         "tourney_revenue": 655207.08,
         "winner_name": "nan",
         "_deepnote_index_column": 643
        },
        {
         "player_name": "Alexander Zverev",
         "Unnamed: 0": 1149,
         "tourney_id": "2019-M004",
         "tourney_name": "Acapulco",
         "surface": "Hard",
         "draw_size": 32,
         "tourney_level": "A",
         "tourney_date": "2019-02-25T00:00:00.000000",
         "match_num": 294,
         "winner_id": 100644,
         "winner_entry": "nan",
         "winner_hand": "R",
         "winner_ht": 198,
         "winner_ioc": "GER",
         "winner_age": 21,
         "loser_id": 200282,
         "loser_entry": "nan",
         "loser_name": "Alex De Minaur",
         "loser_hand": "R",
         "loser_ht": 183,
         "loser_ioc": "AUS",
         "loser_age": 20,
         "score": "6-4 6-4",
         "best_of": 3,
         "round": "QF",
         "minutes": 75,
         "w_ace": 13,
         "w_df": 1,
         "w_svpt": 50,
         "w_1stIn": 32,
         "w_1stWon": 29,
         "w_2ndWon": 11,
         "w_SvGms": 10,
         "w_bpSaved": 0,
         "w_bpFaced": 0,
         "l_ace": 1,
         "l_df": 2,
         "l_svpt": 55,
         "l_1stIn": 34,
         "l_1stWon": 28,
         "l_2ndWon": 11,
         "l_SvGms": 10,
         "l_bpSaved": 0,
         "l_bpFaced": 2,
         "winner_rank": 3,
         "winner_rank_points": 6475,
         "loser_rank": 26,
         "loser_rank_points": 1443,
         "tourney_spectators": 3398,
         "tourney_revenue": 655207.08,
         "winner_name": "nan",
         "_deepnote_index_column": 643
        },
        {
         "player_name": "Alexander Zverev",
         "Unnamed: 0": 1157,
         "tourney_id": "2019-M004",
         "tourney_name": "Acapulco",
         "surface": "Hard",
         "draw_size": 32,
         "tourney_level": "A",
         "tourney_date": "2019-02-25T00:00:00.000000",
         "match_num": 286,
         "winner_id": 100644,
         "winner_entry": "nan",
         "winner_hand": "R",
         "winner_ht": 198,
         "winner_ioc": "GER",
         "winner_age": 21,
         "loser_id": 103970,
         "loser_entry": "WC",
         "loser_name": "David Ferrer",
         "loser_hand": "R",
         "loser_ht": 175,
         "loser_ioc": "ESP",
         "loser_age": 36,
         "score": "7-6(0) 6-1",
         "best_of": 3,
         "round": "R16",
         "minutes": 88,
         "w_ace": 9,
         "w_df": 6,
         "w_svpt": 62,
         "w_1stIn": 37,
         "w_1stWon": 29,
         "w_2ndWon": 15,
         "w_SvGms": 10,
         "w_bpSaved": 3,
         "w_bpFaced": 4,
         "l_ace": 0,
         "l_df": 2,
         "l_svpt": 59,
         "l_1stIn": 36,
         "l_1stWon": 23,
         "l_2ndWon": 9,
         "l_SvGms": 9,
         "l_bpSaved": 3,
         "l_bpFaced": 6,
         "winner_rank": 3,
         "winner_rank_points": 6475,
         "loser_rank": 145,
         "loser_rank_points": 400,
         "tourney_spectators": 3398,
         "tourney_revenue": 655207.08,
         "winner_name": "nan",
         "_deepnote_index_column": 643
        },
        {
         "player_name": "Alexander Zverev",
         "Unnamed: 0": 1173,
         "tourney_id": "2019-M004",
         "tourney_name": "Acapulco",
         "surface": "Hard",
         "draw_size": 32,
         "tourney_level": "A",
         "tourney_date": "2019-02-25T00:00:00.000000",
         "match_num": 270,
         "winner_id": 100644,
         "winner_entry": "nan",
         "winner_hand": "R",
         "winner_ht": 198,
         "winner_ioc": "GER",
         "winner_age": 21,
         "loser_id": 200615,
         "loser_entry": "Q",
         "loser_name": "Alexei Popyrin",
         "loser_hand": "R",
         "loser_ht": 196,
         "loser_ioc": "AUS",
         "loser_age": 19,
         "score": "6-3 6-3",
         "best_of": 3,
         "round": "R32",
         "minutes": 70,
         "w_ace": 13,
         "w_df": 2,
         "w_svpt": 43,
         "w_1stIn": 27,
         "w_1stWon": 26,
         "w_2ndWon": 10,
         "w_SvGms": 9,
         "w_bpSaved": 0,
         "w_bpFaced": 0,
         "l_ace": 4,
         "l_df": 3,
         "l_svpt": 67,
         "l_1stIn": 44,
         "l_1stWon": 29,
         "l_2ndWon": 8,
         "l_SvGms": 9,
         "l_bpSaved": 6,
         "l_bpFaced": 9,
         "winner_rank": 3,
         "winner_rank_points": 6475,
         "loser_rank": 133,
         "loser_rank_points": 439,
         "tourney_spectators": 3398,
         "tourney_revenue": 655207.08,
         "winner_name": "nan",
         "_deepnote_index_column": 643
        },
        {
         "player_name": "Alexander Zverev",
         "Unnamed: 0": 1355,
         "tourney_id": "2019-M006",
         "tourney_name": "Indian Wells Masters",
         "surface": "Hard",
         "draw_size": 128,
         "tourney_level": "M",
         "tourney_date": "2019-03-04T00:00:00.000000",
         "match_num": 261,
         "winner_id": 100644,
         "winner_entry": "nan",
         "winner_hand": "R",
         "winner_ht": 198,
         "winner_ioc": "GER",
         "winner_age": 21,
         "loser_id": 105373,
         "loser_entry": "nan",
         "loser_name": "Martin Klizan",
         "loser_hand": "L",
         "loser_ht": 190,
         "loser_ioc": "SVK",
         "loser_age": 29,
         "score": "6-3 2-0 RET",
         "best_of": 3,
         "round": "R64",
         "minutes": 58,
         "w_ace": 5,
         "w_df": 1,
         "w_svpt": 34,
         "w_1stIn": 18,
         "w_1stWon": 14,
         "w_2ndWon": 9,
         "w_SvGms": 5,
         "w_bpSaved": 2,
         "w_bpFaced": 3,
         "l_ace": 1,
         "l_df": 3,
         "l_svpt": 44,
         "l_1stIn": 19,
         "l_1stWon": 10,
         "l_2ndWon": 11,
         "l_SvGms": 6,
         "l_bpSaved": 6,
         "l_bpFaced": 10,
         "winner_rank": 3,
         "winner_rank_points": 6595,
         "loser_rank": 50,
         "loser_rank_points": 941,
         "tourney_spectators": 9552,
         "tourney_revenue": 2484975.25,
         "winner_name": "nan",
         "_deepnote_index_column": 643
        },
        {
         "player_name": "Alexander Zverev",
         "Unnamed: 0": 1894,
         "tourney_id": "2019-0360",
         "tourney_name": "Marrakech",
         "surface": "Clay",
         "draw_size": 32,
         "tourney_level": "A",
         "tourney_date": "2019-04-08T00:00:00.000000",
         "match_num": 285,
         "winner_id": 100644,
         "winner_entry": "nan",
         "winner_hand": "R",
         "winner_ht": 198,
         "winner_ioc": "GER",
         "winner_age": 21,
         "loser_id": 104797,
         "loser_entry": "nan",
         "loser_name": "Denis Istomin",
         "loser_hand": "R",
         "loser_ht": 188,
         "loser_ioc": "UZB",
         "loser_age": 32,
         "score": "6-4 6-4",
         "best_of": 3,
         "round": "R32",
         "minutes": 81,
         "w_ace": 13,
         "w_df": 2,
         "w_svpt": 58,
         "w_1stIn": 36,
         "w_1stWon": 31,
         "w_2ndWon": 12,
         "w_SvGms": 10,
         "w_bpSaved": 3,
         "w_bpFaced": 3,
         "l_ace": 3,
         "l_df": 0,
         "l_svpt": 64,
         "l_1stIn": 37,
         "l_1stWon": 29,
         "l_2ndWon": 11,
         "l_SvGms": 10,
         "l_bpSaved": 7,
         "l_bpFaced": 9,
         "winner_rank": 3,
         "winner_rank_points": 6040,
         "loser_rank": 104,
         "loser_rank_points": 571,
         "tourney_spectators": 2657,
         "tourney_revenue": 496815.47,
         "winner_name": "nan",
         "_deepnote_index_column": 643
        }
       ],
       "rows_bottom": [
        {
         "player_name": "Jakub Nicod",
         "Unnamed: 0": 94587,
         "tourney_id": "2021-0558",
         "tourney_name": "Prostejov CH",
         "surface": "Clay",
         "draw_size": 32,
         "tourney_level": "C",
         "tourney_date": "2021-06-14T00:00:00.000000",
         "match_num": 250,
         "winner_id": 122351,
         "winner_entry": "nan",
         "winner_hand": "U",
         "winner_ht": -1,
         "winner_ioc": "GER",
         "winner_age": 25,
         "loser_id": 210083,
         "loser_entry": "WC",
         "loser_name": "nan",
         "loser_hand": "U",
         "loser_ht": -1,
         "loser_ioc": "CZE",
         "loser_age": 16,
         "score": "6-3 3-6 6-3",
         "best_of": 3,
         "round": "Q1",
         "minutes": 115,
         "w_ace": 3,
         "w_df": 5,
         "w_svpt": 93,
         "w_1stIn": 64,
         "w_1stWon": 41,
         "w_2ndWon": 16,
         "w_SvGms": 14,
         "w_bpSaved": 4,
         "w_bpFaced": 7,
         "l_ace": 3,
         "l_df": 1,
         "l_svpt": 76,
         "l_1stIn": 44,
         "l_1stWon": 23,
         "l_2ndWon": 24,
         "l_SvGms": 13,
         "l_bpSaved": 3,
         "l_bpFaced": 7,
         "winner_rank": 330,
         "winner_rank_points": 146,
         "loser_rank": -1,
         "loser_rank_points": "nan",
         "tourney_spectators": 4245,
         "tourney_revenue": 992731.82,
         "winner_name": "Johannes Haerteis",
         "_deepnote_index_column": 54472
        },
        {
         "player_name": "Jakub Mensik",
         "Unnamed: 0": 94593,
         "tourney_id": "2021-0558",
         "tourney_name": "Prostejov CH",
         "surface": "Clay",
         "draw_size": 32,
         "tourney_level": "C",
         "tourney_date": "2021-06-14T00:00:00.000000",
         "match_num": 244,
         "winner_id": 126623,
         "winner_entry": "nan",
         "winner_hand": "U",
         "winner_ht": -1,
         "winner_ioc": "AUT",
         "winner_age": 23,
         "loser_id": 210084,
         "loser_entry": "WC",
         "loser_name": "nan",
         "loser_hand": "U",
         "loser_ht": -1,
         "loser_ioc": "CZE",
         "loser_age": 15,
         "score": "6-3 6-4",
         "best_of": 3,
         "round": "Q1",
         "minutes": 69,
         "w_ace": 5,
         "w_df": 2,
         "w_svpt": 50,
         "w_1stIn": 28,
         "w_1stWon": 25,
         "w_2ndWon": 15,
         "w_SvGms": 10,
         "w_bpSaved": 0,
         "w_bpFaced": 0,
         "l_ace": 6,
         "l_df": 4,
         "l_svpt": 55,
         "l_1stIn": 30,
         "l_1stWon": 25,
         "l_2ndWon": 11,
         "l_SvGms": 9,
         "l_bpSaved": 3,
         "l_bpFaced": 5,
         "winner_rank": 354,
         "winner_rank_points": 128,
         "loser_rank": -1,
         "loser_rank_points": "nan",
         "tourney_spectators": 4245,
         "tourney_revenue": 992731.82,
         "winner_name": "Alexander Erler",
         "_deepnote_index_column": 54473
        },
        {
         "player_name": "Lui Maxted",
         "Unnamed: 0": 64183,
         "tourney_id": "2021-0741",
         "tourney_name": "Eastbourne",
         "surface": "Grass",
         "draw_size": 32,
         "tourney_level": "A",
         "tourney_date": "2021-06-21T00:00:00.000000",
         "match_num": 248,
         "winner_id": 105613,
         "winner_entry": "nan",
         "winner_hand": "R",
         "winner_ht": 193,
         "winner_ioc": "SVK",
         "winner_age": 30,
         "loser_id": 210085,
         "loser_entry": "WC",
         "loser_name": "nan",
         "loser_hand": "U",
         "loser_ht": -1,
         "loser_ioc": "GBR",
         "loser_age": 17,
         "score": "6-4 7-6(4)",
         "best_of": 3,
         "round": "Q1",
         "minutes": 85,
         "w_ace": 7,
         "w_df": 3,
         "w_svpt": 69,
         "w_1stIn": 44,
         "w_1stWon": 38,
         "w_2ndWon": 12,
         "w_SvGms": 11,
         "w_bpSaved": 3,
         "w_bpFaced": 4,
         "l_ace": 5,
         "l_df": 3,
         "l_svpt": 89,
         "l_1stIn": 57,
         "l_1stWon": 40,
         "l_2ndWon": 14,
         "l_SvGms": 11,
         "l_bpSaved": 11,
         "l_bpFaced": 13,
         "winner_rank": 94,
         "winner_rank_points": 822,
         "loser_rank": -1,
         "loser_rank_points": "nan",
         "tourney_spectators": 2757,
         "tourney_revenue": 623831.72,
         "winner_name": "Norbert Gombos",
         "_deepnote_index_column": 54474
        },
        {
         "player_name": "Lui Maxted",
         "Unnamed: 0": 94544,
         "tourney_id": "2021-9522",
         "tourney_name": "Nottingham 2 CH",
         "surface": "Grass",
         "draw_size": 32,
         "tourney_level": "C",
         "tourney_date": "2021-06-14T00:00:00.000000",
         "match_num": 250,
         "winner_id": 200390,
         "winner_entry": "nan",
         "winner_hand": "R",
         "winner_ht": -1,
         "winner_ioc": "POL",
         "winner_age": 22,
         "loser_id": 210085,
         "loser_entry": "WC",
         "loser_name": "nan",
         "loser_hand": "U",
         "loser_ht": -1,
         "loser_ioc": "GBR",
         "loser_age": 17,
         "score": "6-2 6-1",
         "best_of": 3,
         "round": "Q1",
         "minutes": 45,
         "w_ace": 7,
         "w_df": 0,
         "w_svpt": 38,
         "w_1stIn": 30,
         "w_1stWon": 23,
         "w_2ndWon": 7,
         "w_SvGms": 7,
         "w_bpSaved": 1,
         "w_bpFaced": 1,
         "l_ace": 3,
         "l_df": 3,
         "l_svpt": 47,
         "l_1stIn": 28,
         "l_1stWon": 14,
         "l_2ndWon": 6,
         "l_SvGms": 8,
         "l_bpSaved": 4,
         "l_bpFaced": 9,
         "winner_rank": 169,
         "winner_rank_points": 425,
         "loser_rank": -1,
         "loser_rank_points": "nan",
         "tourney_spectators": 2386,
         "tourney_revenue": 495250.69,
         "winner_name": "Kacper Zuk",
         "_deepnote_index_column": 54474
        },
        {
         "player_name": "Lorenzo Angelini",
         "Unnamed: 0": 94503,
         "tourney_id": "2021-9357",
         "tourney_name": "Forli CH",
         "surface": "Clay",
         "draw_size": 32,
         "tourney_level": "C",
         "tourney_date": "2021-06-14T00:00:00.000000",
         "match_num": 248,
         "winner_id": 202058,
         "winner_entry": "nan",
         "winner_hand": "R",
         "winner_ht": -1,
         "winner_ioc": "ARG",
         "winner_age": 20,
         "loser_id": 210086,
         "loser_entry": "WC",
         "loser_name": "nan",
         "loser_hand": "U",
         "loser_ht": -1,
         "loser_ioc": "ITA",
         "loser_age": 15,
         "score": "6-0 6-4",
         "best_of": 3,
         "round": "Q1",
         "minutes": 72,
         "w_ace": 3,
         "w_df": 1,
         "w_svpt": 45,
         "w_1stIn": 31,
         "w_1stWon": 25,
         "w_2ndWon": 10,
         "w_SvGms": 8,
         "w_bpSaved": 3,
         "w_bpFaced": 3,
         "l_ace": 0,
         "l_df": 3,
         "l_svpt": 65,
         "l_1stIn": 41,
         "l_1stWon": 21,
         "l_2ndWon": 12,
         "l_SvGms": 8,
         "l_bpSaved": 5,
         "l_bpFaced": 9,
         "winner_rank": 331,
         "winner_rank_points": 146,
         "loser_rank": -1,
         "loser_rank_points": "nan",
         "tourney_spectators": 3031,
         "tourney_revenue": 566031.89,
         "winner_name": "Thiago Agustin Tirante",
         "_deepnote_index_column": 54475
        },
        {
         "player_name": "Michele Vianello",
         "Unnamed: 0": 94508,
         "tourney_id": "2021-9357",
         "tourney_name": "Forli CH",
         "surface": "Clay",
         "draw_size": 32,
         "tourney_level": "C",
         "tourney_date": "2021-06-14T00:00:00.000000",
         "match_num": 243,
         "winner_id": 104563,
         "winner_entry": "nan",
         "winner_hand": "R",
         "winner_ht": -1,
         "winner_ioc": "ITA",
         "winner_age": 36,
         "loser_id": 210087,
         "loser_entry": "WC",
         "loser_name": "nan",
         "loser_hand": "R",
         "loser_ht": -1,
         "loser_ioc": "ITA",
         "loser_age": 20,
         "score": "6-3 6-4",
         "best_of": 3,
         "round": "Q1",
         "minutes": 90,
         "w_ace": 1,
         "w_df": 0,
         "w_svpt": 53,
         "w_1stIn": 38,
         "w_1stWon": 26,
         "w_2ndWon": 7,
         "w_SvGms": 10,
         "w_bpSaved": 2,
         "w_bpFaced": 4,
         "l_ace": 2,
         "l_df": 1,
         "l_svpt": 61,
         "l_1stIn": 42,
         "l_1stWon": 21,
         "l_2ndWon": 9,
         "l_SvGms": 9,
         "l_bpSaved": 2,
         "l_bpFaced": 6,
         "winner_rank": 433,
         "winner_rank_points": 93,
         "loser_rank": -1,
         "loser_rank_points": "nan",
         "tourney_spectators": 3031,
         "tourney_revenue": 566031.89,
         "winner_name": "Luca Vanni",
         "_deepnote_index_column": 54476
        },
        {
         "player_name": "Michele Vianello",
         "Unnamed: 0": 95338,
         "tourney_id": "2021-2120",
         "tourney_name": "Cordenons CH",
         "surface": "Clay",
         "draw_size": 32,
         "tourney_level": "C",
         "tourney_date": "2021-08-02T00:00:00.000000",
         "match_num": 250,
         "winner_id": 207608,
         "winner_entry": "Alt",
         "winner_hand": "R",
         "winner_ht": -1,
         "winner_ioc": "RUS",
         "winner_age": 20,
         "loser_id": 210087,
         "loser_entry": "WC",
         "loser_name": "nan",
         "loser_hand": "R",
         "loser_ht": -1,
         "loser_ioc": "ITA",
         "loser_age": 20,
         "score": "6-4 6-4",
         "best_of": 3,
         "round": "Q1",
         "minutes": 96,
         "w_ace": 0,
         "w_df": 4,
         "w_svpt": 50,
         "w_1stIn": 36,
         "w_1stWon": 25,
         "w_2ndWon": 8,
         "w_SvGms": 10,
         "w_bpSaved": 1,
         "w_bpFaced": 4,
         "l_ace": 2,
         "l_df": 3,
         "l_svpt": 64,
         "l_1stIn": 45,
         "l_1stWon": 28,
         "l_2ndWon": 5,
         "l_SvGms": 10,
         "l_bpSaved": 2,
         "l_bpFaced": 7,
         "winner_rank": 291,
         "winner_rank_points": 195,
         "loser_rank": -1,
         "loser_rank_points": "nan",
         "tourney_spectators": 2876,
         "tourney_revenue": 543907.53,
         "winner_name": "Timofey Skatov",
         "_deepnote_index_column": 54476
        },
        {
         "player_name": "Ben Shelton",
         "Unnamed: 0": 95003,
         "tourney_id": "2021-7316",
         "tourney_name": "Cary CH",
         "surface": "Hard",
         "draw_size": 32,
         "tourney_level": "C",
         "tourney_date": "2021-07-19T00:00:00.000000",
         "match_num": 254,
         "winner_id": 206499,
         "winner_entry": "nan",
         "winner_hand": "U",
         "winner_ht": -1,
         "winner_ioc": "USA",
         "winner_age": 22,
         "loser_id": 210097,
         "loser_entry": "WC",
         "loser_name": "nan",
         "loser_hand": "L",
         "loser_ht": -1,
         "loser_ioc": "USA",
         "loser_age": 18,
         "score": "6-3 6-4",
         "best_of": 3,
         "round": "Q2",
         "minutes": 85,
         "w_ace": 9,
         "w_df": 4,
         "w_svpt": 74,
         "w_1stIn": 45,
         "w_1stWon": 34,
         "w_2ndWon": 16,
         "w_SvGms": 10,
         "w_bpSaved": 8,
         "w_bpFaced": 8,
         "l_ace": 7,
         "l_df": 5,
         "l_svpt": 55,
         "l_1stIn": 31,
         "l_1stWon": 24,
         "l_2ndWon": 12,
         "l_SvGms": 9,
         "l_bpSaved": 3,
         "l_bpFaced": 5,
         "winner_rank": 413,
         "winner_rank_points": 100,
         "loser_rank": 1835,
         "loser_rank_points": 1,
         "tourney_spectators": 3074,
         "tourney_revenue": 583894.56,
         "winner_name": "Aleksandar Kovacevic",
         "_deepnote_index_column": 54485
        },
        {
         "player_name": "William Jansen",
         "Unnamed: 0": 64393,
         "tourney_id": "2021-540",
         "tourney_name": "Wimbledon",
         "surface": "Grass",
         "draw_size": 128,
         "tourney_level": "G",
         "tourney_date": "2021-06-28T00:00:00.000000",
         "match_num": 138,
         "winner_id": 207760,
         "winner_entry": "WC",
         "winner_hand": "U",
         "winner_ht": -1,
         "winner_ioc": "GBR",
         "winner_age": 20,
         "loser_id": 210117,
         "loser_entry": "WC",
         "loser_name": "nan",
         "loser_hand": "L",
         "loser_ht": -1,
         "loser_ioc": "GBR",
         "loser_age": 16,
         "score": "4-6 6-0 6-4",
         "best_of": 3,
         "round": "Q1",
         "minutes": 98,
         "w_ace": 7,
         "w_df": 7,
         "w_svpt": 86,
         "w_1stIn": 46,
         "w_1stWon": 29,
         "w_2ndWon": 19,
         "w_SvGms": 13,
         "w_bpSaved": 7,
         "w_bpFaced": 12,
         "l_ace": 4,
         "l_df": 7,
         "l_svpt": 94,
         "l_1stIn": 53,
         "l_1stWon": 28,
         "l_2ndWon": 17,
         "l_SvGms": 13,
         "l_bpSaved": 8,
         "l_bpFaced": 16,
         "winner_rank": 454,
         "winner_rank_points": 87,
         "loser_rank": -1,
         "loser_rank_points": "nan",
         "tourney_spectators": 14566,
         "tourney_revenue": 5002793.97,
         "winner_name": "Anton Matusevich",
         "_deepnote_index_column": 54504
        },
        {
         "player_name": "Jasza Szajrych",
         "Unnamed: 0": 95719,
         "tourney_id": "2021-9548",
         "tourney_name": "Warsaw CH",
         "surface": "Clay",
         "draw_size": 32,
         "tourney_level": "C",
         "tourney_date": "2021-08-23T00:00:00.000000",
         "match_num": 247,
         "winner_id": 105060,
         "winner_entry": "nan",
         "winner_hand": "R",
         "winner_ht": 193,
         "winner_ioc": "BIH",
         "winner_age": 33,
         "loser_id": 210155,
         "loser_entry": "WC",
         "loser_name": "nan",
         "loser_hand": "U",
         "loser_ht": -1,
         "loser_ioc": "POL",
         "loser_age": -1,
         "score": "6-0 6-4",
         "best_of": 3,
         "round": "Q1",
         "minutes": 86,
         "w_ace": 1,
         "w_df": 2,
         "w_svpt": 42,
         "w_1stIn": 28,
         "w_1stWon": 21,
         "w_2ndWon": 6,
         "w_SvGms": 8,
         "w_bpSaved": 0,
         "w_bpFaced": 2,
         "l_ace": 3,
         "l_df": 2,
         "l_svpt": 61,
         "l_1stIn": 28,
         "l_1stWon": 14,
         "l_2ndWon": 13,
         "l_SvGms": 8,
         "l_bpSaved": 4,
         "l_bpFaced": 10,
         "winner_rank": 450,
         "winner_rank_points": 89,
         "loser_rank": -1,
         "loser_rank_points": "nan",
         "tourney_spectators": 3839,
         "tourney_revenue": 605329.45,
         "winner_name": "Aldin Setkic",
         "_deepnote_index_column": 54540
        }
       ]
      },
      "text/plain": "            player_name  Unnamed: 0 tourney_id     tourney_name surface  \\\n643    Alexander Zverev         352   2019-580  Australian Open    Hard   \n643    Alexander Zverev         363   2019-580  Australian Open    Hard   \n643    Alexander Zverev         364   2019-580  Australian Open    Hard   \n643    Alexander Zverev        1145  2019-M004         Acapulco    Hard   \n643    Alexander Zverev        1149  2019-M004         Acapulco    Hard   \n...                 ...         ...        ...              ...     ...   \n54476  Michele Vianello       94508  2021-9357         Forli CH    Clay   \n54476  Michele Vianello       95338  2021-2120     Cordenons CH    Clay   \n54485       Ben Shelton       95003  2021-7316          Cary CH    Hard   \n54504    William Jansen       64393   2021-540        Wimbledon   Grass   \n54540    Jasza Szajrych       95719  2021-9548        Warsaw CH    Clay   \n\n       draw_size tourney_level tourney_date  match_num  winner_id  ...  \\\n643          128             G   2019-01-14        200     100644  ...   \n643          128             G   2019-01-14        116     100644  ...   \n643          128             G   2019-01-14        172     100644  ...   \n643           32             A   2019-02-25        298     100644  ...   \n643           32             A   2019-02-25        294     100644  ...   \n...          ...           ...          ...        ...        ...  ...   \n54476         32             C   2021-06-14        243     104563  ...   \n54476         32             C   2021-08-02        250     207608  ...   \n54485         32             C   2021-07-19        254     206499  ...   \n54504        128             G   2021-06-28        138     207760  ...   \n54540         32             C   2021-08-23        247     105060  ...   \n\n      l_SvGms l_bpSaved  l_bpFaced winner_rank  winner_rank_points  \\\n643      13.0       6.0       12.0           4              6385.0   \n643      13.0       2.0        8.0           4              6385.0   \n643      26.0      12.0       17.0           4              6385.0   \n643      10.0       2.0        4.0           3              6475.0   \n643      10.0       0.0        2.0           3              6475.0   \n...       ...       ...        ...         ...                 ...   \n54476     9.0       2.0        6.0         433                93.0   \n54476    10.0       2.0        7.0         291               195.0   \n54485     9.0       3.0        5.0         413               100.0   \n54504    13.0       8.0       16.0         454                87.0   \n54540     8.0       4.0       10.0         450                89.0   \n\n       loser_rank loser_rank_points tourney_spectators tourney_revenue  \\\n643           155             343.0            15583.0      2781000.18   \n643            67             760.0            15583.0      2781000.18   \n643            36            1120.0            15583.0      2781000.18   \n643            64             797.0             3398.0       655207.08   \n643            26            1443.0             3398.0       655207.08   \n...           ...               ...                ...             ...   \n54476          -1               NaN             3031.0       566031.89   \n54476          -1               NaN             2876.0       543907.53   \n54485        1835               1.0             3074.0       583894.56   \n54504          -1               NaN            14566.0      5002793.97   \n54540          -1               NaN             3839.0       605329.45   \n\n                winner_name  \n643                     NaN  \n643                     NaN  \n643                     NaN  \n643                     NaN  \n643                     NaN  \n...                     ...  \n54476            Luca Vanni  \n54476        Timofey Skatov  \n54485  Aleksandar Kovacevic  \n54504      Anton Matusevich  \n54540          Aldin Setkic  \n\n[116822 rows x 51 columns]",
      "text/html": "<div>\n<style scoped>\n    .dataframe tbody tr th:only-of-type {\n        vertical-align: middle;\n    }\n\n    .dataframe tbody tr th {\n        vertical-align: top;\n    }\n\n    .dataframe thead th {\n        text-align: right;\n    }\n</style>\n<table border=\"1\" class=\"dataframe\">\n  <thead>\n    <tr style=\"text-align: right;\">\n      <th></th>\n      <th>player_name</th>\n      <th>Unnamed: 0</th>\n      <th>tourney_id</th>\n      <th>tourney_name</th>\n      <th>surface</th>\n      <th>draw_size</th>\n      <th>tourney_level</th>\n      <th>tourney_date</th>\n      <th>match_num</th>\n      <th>winner_id</th>\n      <th>...</th>\n      <th>l_SvGms</th>\n      <th>l_bpSaved</th>\n      <th>l_bpFaced</th>\n      <th>winner_rank</th>\n      <th>winner_rank_points</th>\n      <th>loser_rank</th>\n      <th>loser_rank_points</th>\n      <th>tourney_spectators</th>\n      <th>tourney_revenue</th>\n      <th>winner_name</th>\n    </tr>\n  </thead>\n  <tbody>\n    <tr>\n      <th>643</th>\n      <td>Alexander Zverev</td>\n      <td>352</td>\n      <td>2019-580</td>\n      <td>Australian Open</td>\n      <td>Hard</td>\n      <td>128</td>\n      <td>G</td>\n      <td>2019-01-14</td>\n      <td>200</td>\n      <td>100644</td>\n      <td>...</td>\n      <td>13.0</td>\n      <td>6.0</td>\n      <td>12.0</td>\n      <td>4</td>\n      <td>6385.0</td>\n      <td>155</td>\n      <td>343.0</td>\n      <td>15583.0</td>\n      <td>2781000.18</td>\n      <td>NaN</td>\n    </tr>\n    <tr>\n      <th>643</th>\n      <td>Alexander Zverev</td>\n      <td>363</td>\n      <td>2019-580</td>\n      <td>Australian Open</td>\n      <td>Hard</td>\n      <td>128</td>\n      <td>G</td>\n      <td>2019-01-14</td>\n      <td>116</td>\n      <td>100644</td>\n      <td>...</td>\n      <td>13.0</td>\n      <td>2.0</td>\n      <td>8.0</td>\n      <td>4</td>\n      <td>6385.0</td>\n      <td>67</td>\n      <td>760.0</td>\n      <td>15583.0</td>\n      <td>2781000.18</td>\n      <td>NaN</td>\n    </tr>\n    <tr>\n      <th>643</th>\n      <td>Alexander Zverev</td>\n      <td>364</td>\n      <td>2019-580</td>\n      <td>Australian Open</td>\n      <td>Hard</td>\n      <td>128</td>\n      <td>G</td>\n      <td>2019-01-14</td>\n      <td>172</td>\n      <td>100644</td>\n      <td>...</td>\n      <td>26.0</td>\n      <td>12.0</td>\n      <td>17.0</td>\n      <td>4</td>\n      <td>6385.0</td>\n      <td>36</td>\n      <td>1120.0</td>\n      <td>15583.0</td>\n      <td>2781000.18</td>\n      <td>NaN</td>\n    </tr>\n    <tr>\n      <th>643</th>\n      <td>Alexander Zverev</td>\n      <td>1145</td>\n      <td>2019-M004</td>\n      <td>Acapulco</td>\n      <td>Hard</td>\n      <td>32</td>\n      <td>A</td>\n      <td>2019-02-25</td>\n      <td>298</td>\n      <td>100644</td>\n      <td>...</td>\n      <td>10.0</td>\n      <td>2.0</td>\n      <td>4.0</td>\n      <td>3</td>\n      <td>6475.0</td>\n      <td>64</td>\n      <td>797.0</td>\n      <td>3398.0</td>\n      <td>655207.08</td>\n      <td>NaN</td>\n    </tr>\n    <tr>\n      <th>643</th>\n      <td>Alexander Zverev</td>\n      <td>1149</td>\n      <td>2019-M004</td>\n      <td>Acapulco</td>\n      <td>Hard</td>\n      <td>32</td>\n      <td>A</td>\n      <td>2019-02-25</td>\n      <td>294</td>\n      <td>100644</td>\n      <td>...</td>\n      <td>10.0</td>\n      <td>0.0</td>\n      <td>2.0</td>\n      <td>3</td>\n      <td>6475.0</td>\n      <td>26</td>\n      <td>1443.0</td>\n      <td>3398.0</td>\n      <td>655207.08</td>\n      <td>NaN</td>\n    </tr>\n    <tr>\n      <th>...</th>\n      <td>...</td>\n      <td>...</td>\n      <td>...</td>\n      <td>...</td>\n      <td>...</td>\n      <td>...</td>\n      <td>...</td>\n      <td>...</td>\n      <td>...</td>\n      <td>...</td>\n      <td>...</td>\n      <td>...</td>\n      <td>...</td>\n      <td>...</td>\n      <td>...</td>\n      <td>...</td>\n      <td>...</td>\n      <td>...</td>\n      <td>...</td>\n      <td>...</td>\n      <td>...</td>\n    </tr>\n    <tr>\n      <th>54476</th>\n      <td>Michele Vianello</td>\n      <td>94508</td>\n      <td>2021-9357</td>\n      <td>Forli CH</td>\n      <td>Clay</td>\n      <td>32</td>\n      <td>C</td>\n      <td>2021-06-14</td>\n      <td>243</td>\n      <td>104563</td>\n      <td>...</td>\n      <td>9.0</td>\n      <td>2.0</td>\n      <td>6.0</td>\n      <td>433</td>\n      <td>93.0</td>\n      <td>-1</td>\n      <td>NaN</td>\n      <td>3031.0</td>\n      <td>566031.89</td>\n      <td>Luca Vanni</td>\n    </tr>\n    <tr>\n      <th>54476</th>\n      <td>Michele Vianello</td>\n      <td>95338</td>\n      <td>2021-2120</td>\n      <td>Cordenons CH</td>\n      <td>Clay</td>\n      <td>32</td>\n      <td>C</td>\n      <td>2021-08-02</td>\n      <td>250</td>\n      <td>207608</td>\n      <td>...</td>\n      <td>10.0</td>\n      <td>2.0</td>\n      <td>7.0</td>\n      <td>291</td>\n      <td>195.0</td>\n      <td>-1</td>\n      <td>NaN</td>\n      <td>2876.0</td>\n      <td>543907.53</td>\n      <td>Timofey Skatov</td>\n    </tr>\n    <tr>\n      <th>54485</th>\n      <td>Ben Shelton</td>\n      <td>95003</td>\n      <td>2021-7316</td>\n      <td>Cary CH</td>\n      <td>Hard</td>\n      <td>32</td>\n      <td>C</td>\n      <td>2021-07-19</td>\n      <td>254</td>\n      <td>206499</td>\n      <td>...</td>\n      <td>9.0</td>\n      <td>3.0</td>\n      <td>5.0</td>\n      <td>413</td>\n      <td>100.0</td>\n      <td>1835</td>\n      <td>1.0</td>\n      <td>3074.0</td>\n      <td>583894.56</td>\n      <td>Aleksandar Kovacevic</td>\n    </tr>\n    <tr>\n      <th>54504</th>\n      <td>William Jansen</td>\n      <td>64393</td>\n      <td>2021-540</td>\n      <td>Wimbledon</td>\n      <td>Grass</td>\n      <td>128</td>\n      <td>G</td>\n      <td>2021-06-28</td>\n      <td>138</td>\n      <td>207760</td>\n      <td>...</td>\n      <td>13.0</td>\n      <td>8.0</td>\n      <td>16.0</td>\n      <td>454</td>\n      <td>87.0</td>\n      <td>-1</td>\n      <td>NaN</td>\n      <td>14566.0</td>\n      <td>5002793.97</td>\n      <td>Anton Matusevich</td>\n    </tr>\n    <tr>\n      <th>54540</th>\n      <td>Jasza Szajrych</td>\n      <td>95719</td>\n      <td>2021-9548</td>\n      <td>Warsaw CH</td>\n      <td>Clay</td>\n      <td>32</td>\n      <td>C</td>\n      <td>2021-08-23</td>\n      <td>247</td>\n      <td>105060</td>\n      <td>...</td>\n      <td>8.0</td>\n      <td>4.0</td>\n      <td>10.0</td>\n      <td>450</td>\n      <td>89.0</td>\n      <td>-1</td>\n      <td>NaN</td>\n      <td>3839.0</td>\n      <td>605329.45</td>\n      <td>Aldin Setkic</td>\n    </tr>\n  </tbody>\n</table>\n<p>116822 rows × 51 columns</p>\n</div>"
     },
     "metadata": {}
    }
   ]
  },
  {
   "cell_type": "markdown",
   "source": "df_male_matches.describe()",
   "metadata": {
    "tags": [],
    "cell_id": "00003-d9eb7dfe-07d7-48d4-8186-6b484be7d7ce",
    "deepnote_cell_type": "markdown"
   }
  },
  {
   "cell_type": "code",
   "metadata": {
    "tags": [],
    "cell_id": "00004-ec7627c3-2f5a-41ac-833e-11db4cfc18c0",
    "deepnote_to_be_reexecuted": false,
    "source_hash": "36b60bd4",
    "execution_start": 1638370009843,
    "execution_millis": 1267,
    "deepnote_cell_type": "code"
   },
   "source": "df_female_players_tmp = pd.DataFrame()\ndf_female_players_tmp['player_name'] = df_female_players['name'] + ' ' + df_female_players['surname']\ndf_female_winners = df_female_players_tmp.join(df_matches.set_index('winner_name'), on='player_name', how='inner')\ndf_female_losers = df_female_players_tmp.join(df_matches.set_index('loser_name'), on='player_name', how='inner')\ndf_female_matches = pd.concat([df_female_winners, df_female_losers])",
   "execution_count": null,
   "outputs": []
  },
  {
   "cell_type": "code",
   "metadata": {
    "tags": [],
    "cell_id": "00008-e08de8e1-aa1f-4779-9bda-64006252c48f",
    "deepnote_to_be_reexecuted": false,
    "source_hash": "4a98c3c9",
    "execution_start": 1638370011115,
    "execution_millis": 42,
    "deepnote_cell_type": "code"
   },
   "source": "df_male_matches_reduced = df_male_losers[['player_name', 'winner_id', 'winner_ht', 'winner_age', 'tourney_date']]\ndf_male_matches_reduced[df_male_matches_reduced['player_name'] == 'Aaron Addison']",
   "execution_count": null,
   "outputs": [
    {
     "output_type": "execute_result",
     "execution_count": 13,
     "data": {
      "application/vnd.deepnote.dataframe.v2+json": {
       "row_count": 9,
       "column_count": 5,
       "columns": [
        {
         "name": "player_name",
         "dtype": "object",
         "stats": {
          "unique_count": 1,
          "nan_count": 0,
          "categories": [
           {
            "name": "Aaron Addison",
            "count": 9
           }
          ]
         }
        },
        {
         "name": "winner_id",
         "dtype": "int64",
         "stats": {
          "unique_count": 9,
          "nan_count": 0,
          "min": "102864",
          "max": "200640",
          "histogram": [
           {
            "bin_start": 102864,
            "bin_end": 112641.6,
            "count": 5
           },
           {
            "bin_start": 112641.6,
            "bin_end": 122419.2,
            "count": 2
           },
           {
            "bin_start": 122419.2,
            "bin_end": 132196.8,
            "count": 0
           },
           {
            "bin_start": 132196.8,
            "bin_end": 141974.4,
            "count": 0
           },
           {
            "bin_start": 141974.4,
            "bin_end": 151752,
            "count": 0
           },
           {
            "bin_start": 151752,
            "bin_end": 161529.6,
            "count": 0
           },
           {
            "bin_start": 161529.6,
            "bin_end": 171307.2,
            "count": 0
           },
           {
            "bin_start": 171307.2,
            "bin_end": 181084.8,
            "count": 0
           },
           {
            "bin_start": 181084.8,
            "bin_end": 190862.40000000002,
            "count": 0
           },
           {
            "bin_start": 190862.40000000002,
            "bin_end": 200640,
            "count": 2
           }
          ]
         }
        },
        {
         "name": "winner_ht",
         "dtype": "int64",
         "stats": {
          "unique_count": 2,
          "nan_count": 0,
          "min": "-1",
          "max": "193",
          "histogram": [
           {
            "bin_start": -1,
            "bin_end": 18.4,
            "count": 8
           },
           {
            "bin_start": 18.4,
            "bin_end": 37.8,
            "count": 0
           },
           {
            "bin_start": 37.8,
            "bin_end": 57.199999999999996,
            "count": 0
           },
           {
            "bin_start": 57.199999999999996,
            "bin_end": 76.6,
            "count": 0
           },
           {
            "bin_start": 76.6,
            "bin_end": 96,
            "count": 0
           },
           {
            "bin_start": 96,
            "bin_end": 115.39999999999999,
            "count": 0
           },
           {
            "bin_start": 115.39999999999999,
            "bin_end": 134.79999999999998,
            "count": 0
           },
           {
            "bin_start": 134.79999999999998,
            "bin_end": 154.2,
            "count": 0
           },
           {
            "bin_start": 154.2,
            "bin_end": 173.6,
            "count": 0
           },
           {
            "bin_start": 173.6,
            "bin_end": 193,
            "count": 1
           }
          ]
         }
        },
        {
         "name": "winner_age",
         "dtype": "int64",
         "stats": {
          "unique_count": 8,
          "nan_count": 0,
          "min": "-1",
          "max": "30",
          "histogram": [
           {
            "bin_start": -1,
            "bin_end": 2.1,
            "count": 1
           },
           {
            "bin_start": 2.1,
            "bin_end": 5.2,
            "count": 0
           },
           {
            "bin_start": 5.2,
            "bin_end": 8.3,
            "count": 0
           },
           {
            "bin_start": 8.3,
            "bin_end": 11.4,
            "count": 0
           },
           {
            "bin_start": 11.4,
            "bin_end": 14.5,
            "count": 0
           },
           {
            "bin_start": 14.5,
            "bin_end": 17.6,
            "count": 0
           },
           {
            "bin_start": 17.6,
            "bin_end": 20.7,
            "count": 3
           },
           {
            "bin_start": 20.7,
            "bin_end": 23.8,
            "count": 2
           },
           {
            "bin_start": 23.8,
            "bin_end": 26.900000000000002,
            "count": 2
           },
           {
            "bin_start": 26.900000000000002,
            "bin_end": 30,
            "count": 1
           }
          ]
         }
        },
        {
         "name": "tourney_date",
         "dtype": "datetime64[ns]",
         "stats": {
          "unique_count": 9,
          "nan_count": 0,
          "min": "2016-01-11 00:00:00",
          "max": "2020-01-13 00:00:00",
          "histogram": [
           {
            "bin_start": 1452470400000000000,
            "bin_end": 1465110720000000000,
            "count": 2
           },
           {
            "bin_start": 1465110720000000000,
            "bin_end": 1477751040000000000,
            "count": 1
           },
           {
            "bin_start": 1477751040000000000,
            "bin_end": 1490391360000000000,
            "count": 1
           },
           {
            "bin_start": 1490391360000000000,
            "bin_end": 1503031680000000000,
            "count": 0
           },
           {
            "bin_start": 1503031680000000000,
            "bin_end": 1515672000000000000,
            "count": 0
           },
           {
            "bin_start": 1515672000000000000,
            "bin_end": 1528312320000000000,
            "count": 0
           },
           {
            "bin_start": 1528312320000000000,
            "bin_end": 1540952640000000000,
            "count": 1
           },
           {
            "bin_start": 1540952640000000000,
            "bin_end": 1553592960000000000,
            "count": 1
           },
           {
            "bin_start": 1553592960000000000,
            "bin_end": 1566233280000000000,
            "count": 0
           },
           {
            "bin_start": 1566233280000000000,
            "bin_end": 1578873600000000000,
            "count": 3
           }
          ]
         }
        },
        {
         "name": "_deepnote_index_column",
         "dtype": "int64"
        }
       ],
       "rows_top": [
        {
         "player_name": "Aaron Addison",
         "winner_id": 117357,
         "winner_ht": -1,
         "winner_age": 19,
         "tourney_date": "2016-10-24T00:00:00.000000",
         "_deepnote_index_column": 31893
        },
        {
         "player_name": "Aaron Addison",
         "winner_id": 117360,
         "winner_ht": -1,
         "winner_age": 18,
         "tourney_date": "2016-02-01T00:00:00.000000",
         "_deepnote_index_column": 31893
        },
        {
         "player_name": "Aaron Addison",
         "winner_id": 102864,
         "winner_ht": 193,
         "winner_age": -1,
         "tourney_date": "2016-01-11T00:00:00.000000",
         "_deepnote_index_column": 31893
        },
        {
         "player_name": "Aaron Addison",
         "winner_id": 105429,
         "winner_ht": -1,
         "winner_age": 26,
         "tourney_date": "2016-10-31T00:00:00.000000",
         "_deepnote_index_column": 31893
        },
        {
         "player_name": "Aaron Addison",
         "winner_id": 111806,
         "winner_ht": -1,
         "winner_age": 23,
         "tourney_date": "2020-01-13T00:00:00.000000",
         "_deepnote_index_column": 31893
        },
        {
         "player_name": "Aaron Addison",
         "winner_id": 105349,
         "winner_ht": -1,
         "winner_age": 30,
         "tourney_date": "2019-10-21T00:00:00.000000",
         "_deepnote_index_column": 31893
        },
        {
         "player_name": "Aaron Addison",
         "winner_id": 106172,
         "winner_ht": -1,
         "winner_age": 25,
         "tourney_date": "2019-01-07T00:00:00.000000",
         "_deepnote_index_column": 31893
        },
        {
         "player_name": "Aaron Addison",
         "winner_id": 200614,
         "winner_ht": -1,
         "winner_age": 21,
         "tourney_date": "2019-10-28T00:00:00.000000",
         "_deepnote_index_column": 31893
        },
        {
         "player_name": "Aaron Addison",
         "winner_id": 200640,
         "winner_ht": -1,
         "winner_age": 19,
         "tourney_date": "2018-10-22T00:00:00.000000",
         "_deepnote_index_column": 31893
        }
       ],
       "rows_bottom": null
      },
      "text/plain": "         player_name  winner_id  winner_ht  winner_age tourney_date\n31893  Aaron Addison     117357         -1          19   2016-10-24\n31893  Aaron Addison     117360         -1          18   2016-02-01\n31893  Aaron Addison     102864        193          -1   2016-01-11\n31893  Aaron Addison     105429         -1          26   2016-10-31\n31893  Aaron Addison     111806         -1          23   2020-01-13\n31893  Aaron Addison     105349         -1          30   2019-10-21\n31893  Aaron Addison     106172         -1          25   2019-01-07\n31893  Aaron Addison     200614         -1          21   2019-10-28\n31893  Aaron Addison     200640         -1          19   2018-10-22",
      "text/html": "<div>\n<style scoped>\n    .dataframe tbody tr th:only-of-type {\n        vertical-align: middle;\n    }\n\n    .dataframe tbody tr th {\n        vertical-align: top;\n    }\n\n    .dataframe thead th {\n        text-align: right;\n    }\n</style>\n<table border=\"1\" class=\"dataframe\">\n  <thead>\n    <tr style=\"text-align: right;\">\n      <th></th>\n      <th>player_name</th>\n      <th>winner_id</th>\n      <th>winner_ht</th>\n      <th>winner_age</th>\n      <th>tourney_date</th>\n    </tr>\n  </thead>\n  <tbody>\n    <tr>\n      <th>31893</th>\n      <td>Aaron Addison</td>\n      <td>117357</td>\n      <td>-1</td>\n      <td>19</td>\n      <td>2016-10-24</td>\n    </tr>\n    <tr>\n      <th>31893</th>\n      <td>Aaron Addison</td>\n      <td>117360</td>\n      <td>-1</td>\n      <td>18</td>\n      <td>2016-02-01</td>\n    </tr>\n    <tr>\n      <th>31893</th>\n      <td>Aaron Addison</td>\n      <td>102864</td>\n      <td>193</td>\n      <td>-1</td>\n      <td>2016-01-11</td>\n    </tr>\n    <tr>\n      <th>31893</th>\n      <td>Aaron Addison</td>\n      <td>105429</td>\n      <td>-1</td>\n      <td>26</td>\n      <td>2016-10-31</td>\n    </tr>\n    <tr>\n      <th>31893</th>\n      <td>Aaron Addison</td>\n      <td>111806</td>\n      <td>-1</td>\n      <td>23</td>\n      <td>2020-01-13</td>\n    </tr>\n    <tr>\n      <th>31893</th>\n      <td>Aaron Addison</td>\n      <td>105349</td>\n      <td>-1</td>\n      <td>30</td>\n      <td>2019-10-21</td>\n    </tr>\n    <tr>\n      <th>31893</th>\n      <td>Aaron Addison</td>\n      <td>106172</td>\n      <td>-1</td>\n      <td>25</td>\n      <td>2019-01-07</td>\n    </tr>\n    <tr>\n      <th>31893</th>\n      <td>Aaron Addison</td>\n      <td>200614</td>\n      <td>-1</td>\n      <td>21</td>\n      <td>2019-10-28</td>\n    </tr>\n    <tr>\n      <th>31893</th>\n      <td>Aaron Addison</td>\n      <td>200640</td>\n      <td>-1</td>\n      <td>19</td>\n      <td>2018-10-22</td>\n    </tr>\n  </tbody>\n</table>\n</div>"
     },
     "metadata": {}
    }
   ]
  },
  {
   "cell_type": "markdown",
   "source": "- name\n- hand\n- sex\n- nationality\n\n- win percentage\n- tot match\n- number of won tournment\n\n- year with more matches\n- year with less matches\n- year with more wins\n- year with less wins",
   "metadata": {
    "tags": [],
    "cell_id": "00009-063779da-414d-41b2-bf8e-86943e276433",
    "deepnote_cell_type": "markdown"
   }
  },
  {
   "cell_type": "markdown",
   "source": "Reset the index of both the new data frames",
   "metadata": {
    "tags": [],
    "cell_id": "00011-c41368d2-5f19-412d-a28e-6f81e52ad09b",
    "deepnote_cell_type": "markdown"
   }
  },
  {
   "cell_type": "code",
   "metadata": {
    "tags": [],
    "cell_id": "00010-737acebf-4fbb-46f8-96a8-ccd22656863d",
    "deepnote_to_be_reexecuted": false,
    "source_hash": "5c0bb29e",
    "execution_start": 1638370011171,
    "execution_millis": 1,
    "deepnote_cell_type": "code"
   },
   "source": "df_male_matches.reset_index(drop=True, inplace=True)\ndf_female_matches.reset_index(drop=True, inplace=True)",
   "execution_count": null,
   "outputs": []
  },
  {
   "cell_type": "code",
   "metadata": {
    "tags": [],
    "cell_id": "00010-caf6ceb5-eb96-47e4-8b64-93525701e5cf",
    "deepnote_to_be_reexecuted": false,
    "source_hash": "62717682",
    "execution_start": 1638370011199,
    "execution_millis": 5395,
    "deepnote_cell_type": "code"
   },
   "source": "df_player = pd.DataFrame()\n\nlist_of_male_names = df_male_matches['player_name'].unique()\nprint(f\"Lunghezza lista: {len(list_of_male_names)}\")\ndf_player['Name'] = list_of_male_names\ndf_player['Sex'] = 'M'\ni = 0\n\nfor name in list_of_male_names:\n    print(i)\n    i+=1\n    df_player_matches = df_matches[(df_matches['winner_name'] == name) | (df_matches['loser_name'] == name)]\n\n    #player's hand\n    df_h = [x for x in df_player_matches[(df_player_matches['winner_name'] == name) &  (df_player_matches['winner_hand'] != 'U')]['winner_hand']]\n    if len(df_h) > 0:\n        df_player.loc[df_player['Name'] == name, 'Hand'] = df_h[0]\n    else:\n        df_h = [x for x in df_player_matches[(df_player_matches['loser_name'] == name) &  (df_player_matches['loser_hand'] != 'U')]['loser_hand']]\n        if len(df_h) > 0:\n            df_player.loc[df_player['Name'] == name, 'Hand'] = df_h[0]\n        else:\n            df_player.loc[df_player['Name'] == name, 'Hand'] = 'U'\n\n    #player's nationality\n    df_h = [x for x in df_player_matches[(df_player_matches['winner_name'] == name) &  (df_player_matches['winner_ioc'] != None)]['winner_ioc']]\n    if len(df_h) > 0:\n        df_player.loc[df_player['Name'] == name, 'IOC'] = df_h[0]\n    else:\n        df_h = [x for x in df_player_matches[(df_player_matches['loser_name'] == name) &  (df_player_matches['loser_ioc'] != 'U')]['loser_ioc']]\n        if len(df_h) > 0:\n            df_player.loc[df_player['Name'] == name, 'IOC'] = df_h[0]\n        else:\n            df_player.loc[df_player['Name'] == name, 'IOC'] = 'Undefined'\n    \n    df_player.loc[df_player['Name'] == name, 'Won_Tournaments'] = df_player_matches[(df_player_matches['round'] == 'F') & (df_player_matches['winner_name'] == name)].shape[0]\n\n    if df_player_matches.shape[0] != 0:\n        df_player.loc[df_player['Name'] == name, 'Number_of_Matches'] = df_player_matches.shape[0]\n        df_player.loc[df_player['Name'] == name, 'Win_Percentage'] = df_player_matches[df_player_matches['winner_name'] == name].shape[0]/df_player_matches.shape[0]\n    \n    match_per_year = df_male_matches[df_male_matches['player_name']==name]['tourney_date'].groupby(df_male_matches['tourney_date'].dt.year).count()\n    if len(match_per_year) > 0:\n        df_player.loc[df_player['Name'] == name, 'best_year_matches'] = match_per_year.idxmax()\n        df_player.loc[df_player['Name'] == name, 'worst_year_matches'] = match_per_year.idxmin()\n\n    wins_per_year = df_male_matches[df_male_matches['winner_name']==name]['tourney_date'].groupby(df_male_matches['tourney_date'].dt.year).count()\n    if len(wins_per_year) > 0:\n        df_player.loc[df_player['Name'] == name, 'best_year_wins'] = wins_per_year.idxmax()\n        df_player.loc[df_player['Name'] == name, 'worst_year_wins'] = wins_per_year.idxmin()\n\n\n",
   "execution_count": null,
   "outputs": [
    {
     "name": "stdout",
     "text": "Lunghezza lista: 3018\n0\n1\n2\n3\n4\n5\n6\n7\n8\n9\n10\n11\n12\n13\n14\n15\n16\n17\n18\n19\n20\n21\n22\n23\n24\n25\n26\n27\n28\n29\n30\n31\n32\n33\n34\n35\n36\n37\n38\n39\n40\n41\n42\n43\n44\n45\n46\n47\n48\n49\n50\n51\n52\n53\n54\n55\n56\n57\n",
     "output_type": "stream"
    },
    {
     "output_type": "error",
     "ename": "KeyboardInterrupt",
     "evalue": "",
     "traceback": [
      "\u001b[0;31m---------------------------------------------------------------------------\u001b[0m",
      "\u001b[0;31mKeyboardInterrupt\u001b[0m                         Traceback (most recent call last)",
      "\u001b[0;32m<ipython-input-15-ffd189106f51>\u001b[0m in \u001b[0;36m<module>\u001b[0;34m\u001b[0m\n\u001b[1;32m     10\u001b[0m     \u001b[0mprint\u001b[0m\u001b[0;34m(\u001b[0m\u001b[0mi\u001b[0m\u001b[0;34m)\u001b[0m\u001b[0;34m\u001b[0m\u001b[0;34m\u001b[0m\u001b[0m\n\u001b[1;32m     11\u001b[0m     \u001b[0mi\u001b[0m\u001b[0;34m+=\u001b[0m\u001b[0;36m1\u001b[0m\u001b[0;34m\u001b[0m\u001b[0;34m\u001b[0m\u001b[0m\n\u001b[0;32m---> 12\u001b[0;31m     \u001b[0mdf_player_matches\u001b[0m \u001b[0;34m=\u001b[0m \u001b[0mdf_matches\u001b[0m\u001b[0;34m[\u001b[0m\u001b[0;34m(\u001b[0m\u001b[0mdf_matches\u001b[0m\u001b[0;34m[\u001b[0m\u001b[0;34m'winner_name'\u001b[0m\u001b[0;34m]\u001b[0m \u001b[0;34m==\u001b[0m \u001b[0mname\u001b[0m\u001b[0;34m)\u001b[0m \u001b[0;34m|\u001b[0m \u001b[0;34m(\u001b[0m\u001b[0mdf_matches\u001b[0m\u001b[0;34m[\u001b[0m\u001b[0;34m'loser_name'\u001b[0m\u001b[0;34m]\u001b[0m \u001b[0;34m==\u001b[0m \u001b[0mname\u001b[0m\u001b[0;34m)\u001b[0m\u001b[0;34m]\u001b[0m\u001b[0;34m\u001b[0m\u001b[0;34m\u001b[0m\u001b[0m\n\u001b[0m\u001b[1;32m     13\u001b[0m \u001b[0;34m\u001b[0m\u001b[0m\n\u001b[1;32m     14\u001b[0m     \u001b[0;31m#player's hand\u001b[0m\u001b[0;34m\u001b[0m\u001b[0;34m\u001b[0m\u001b[0;34m\u001b[0m\u001b[0m\n",
      "\u001b[0;32m/shared-libs/python3.7/py/lib/python3.7/site-packages/pandas/core/ops/common.py\u001b[0m in \u001b[0;36mnew_method\u001b[0;34m(self, other)\u001b[0m\n\u001b[1;32m     63\u001b[0m         \u001b[0mother\u001b[0m \u001b[0;34m=\u001b[0m \u001b[0mitem_from_zerodim\u001b[0m\u001b[0;34m(\u001b[0m\u001b[0mother\u001b[0m\u001b[0;34m)\u001b[0m\u001b[0;34m\u001b[0m\u001b[0;34m\u001b[0m\u001b[0m\n\u001b[1;32m     64\u001b[0m \u001b[0;34m\u001b[0m\u001b[0m\n\u001b[0;32m---> 65\u001b[0;31m         \u001b[0;32mreturn\u001b[0m \u001b[0mmethod\u001b[0m\u001b[0;34m(\u001b[0m\u001b[0mself\u001b[0m\u001b[0;34m,\u001b[0m \u001b[0mother\u001b[0m\u001b[0;34m)\u001b[0m\u001b[0;34m\u001b[0m\u001b[0;34m\u001b[0m\u001b[0m\n\u001b[0m\u001b[1;32m     66\u001b[0m \u001b[0;34m\u001b[0m\u001b[0m\n\u001b[1;32m     67\u001b[0m     \u001b[0;32mreturn\u001b[0m \u001b[0mnew_method\u001b[0m\u001b[0;34m\u001b[0m\u001b[0;34m\u001b[0m\u001b[0m\n",
      "\u001b[0;32m/shared-libs/python3.7/py/lib/python3.7/site-packages/pandas/core/arraylike.py\u001b[0m in \u001b[0;36m__eq__\u001b[0;34m(self, other)\u001b[0m\n\u001b[1;32m     27\u001b[0m     \u001b[0;34m@\u001b[0m\u001b[0munpack_zerodim_and_defer\u001b[0m\u001b[0;34m(\u001b[0m\u001b[0;34m\"__eq__\"\u001b[0m\u001b[0;34m)\u001b[0m\u001b[0;34m\u001b[0m\u001b[0;34m\u001b[0m\u001b[0m\n\u001b[1;32m     28\u001b[0m     \u001b[0;32mdef\u001b[0m \u001b[0m__eq__\u001b[0m\u001b[0;34m(\u001b[0m\u001b[0mself\u001b[0m\u001b[0;34m,\u001b[0m \u001b[0mother\u001b[0m\u001b[0;34m)\u001b[0m\u001b[0;34m:\u001b[0m\u001b[0;34m\u001b[0m\u001b[0;34m\u001b[0m\u001b[0m\n\u001b[0;32m---> 29\u001b[0;31m         \u001b[0;32mreturn\u001b[0m \u001b[0mself\u001b[0m\u001b[0;34m.\u001b[0m\u001b[0m_cmp_method\u001b[0m\u001b[0;34m(\u001b[0m\u001b[0mother\u001b[0m\u001b[0;34m,\u001b[0m \u001b[0moperator\u001b[0m\u001b[0;34m.\u001b[0m\u001b[0meq\u001b[0m\u001b[0;34m)\u001b[0m\u001b[0;34m\u001b[0m\u001b[0;34m\u001b[0m\u001b[0m\n\u001b[0m\u001b[1;32m     30\u001b[0m \u001b[0;34m\u001b[0m\u001b[0m\n\u001b[1;32m     31\u001b[0m     \u001b[0;34m@\u001b[0m\u001b[0munpack_zerodim_and_defer\u001b[0m\u001b[0;34m(\u001b[0m\u001b[0;34m\"__ne__\"\u001b[0m\u001b[0;34m)\u001b[0m\u001b[0;34m\u001b[0m\u001b[0;34m\u001b[0m\u001b[0m\n",
      "\u001b[0;32m/shared-libs/python3.7/py/lib/python3.7/site-packages/pandas/core/series.py\u001b[0m in \u001b[0;36m_cmp_method\u001b[0;34m(self, other, op)\u001b[0m\n\u001b[1;32m   4976\u001b[0m         \u001b[0mrvalues\u001b[0m \u001b[0;34m=\u001b[0m \u001b[0mextract_array\u001b[0m\u001b[0;34m(\u001b[0m\u001b[0mother\u001b[0m\u001b[0;34m,\u001b[0m \u001b[0mextract_numpy\u001b[0m\u001b[0;34m=\u001b[0m\u001b[0;32mTrue\u001b[0m\u001b[0;34m)\u001b[0m\u001b[0;34m\u001b[0m\u001b[0;34m\u001b[0m\u001b[0m\n\u001b[1;32m   4977\u001b[0m \u001b[0;34m\u001b[0m\u001b[0m\n\u001b[0;32m-> 4978\u001b[0;31m         \u001b[0mres_values\u001b[0m \u001b[0;34m=\u001b[0m \u001b[0mops\u001b[0m\u001b[0;34m.\u001b[0m\u001b[0mcomparison_op\u001b[0m\u001b[0;34m(\u001b[0m\u001b[0mlvalues\u001b[0m\u001b[0;34m,\u001b[0m \u001b[0mrvalues\u001b[0m\u001b[0;34m,\u001b[0m \u001b[0mop\u001b[0m\u001b[0;34m)\u001b[0m\u001b[0;34m\u001b[0m\u001b[0;34m\u001b[0m\u001b[0m\n\u001b[0m\u001b[1;32m   4979\u001b[0m \u001b[0;34m\u001b[0m\u001b[0m\n\u001b[1;32m   4980\u001b[0m         \u001b[0;32mreturn\u001b[0m \u001b[0mself\u001b[0m\u001b[0;34m.\u001b[0m\u001b[0m_construct_result\u001b[0m\u001b[0;34m(\u001b[0m\u001b[0mres_values\u001b[0m\u001b[0;34m,\u001b[0m \u001b[0mname\u001b[0m\u001b[0;34m=\u001b[0m\u001b[0mres_name\u001b[0m\u001b[0;34m)\u001b[0m\u001b[0;34m\u001b[0m\u001b[0;34m\u001b[0m\u001b[0m\n",
      "\u001b[0;32m/shared-libs/python3.7/py/lib/python3.7/site-packages/pandas/core/ops/array_ops.py\u001b[0m in \u001b[0;36mcomparison_op\u001b[0;34m(left, right, op)\u001b[0m\n\u001b[1;32m    241\u001b[0m \u001b[0;34m\u001b[0m\u001b[0m\n\u001b[1;32m    242\u001b[0m     \u001b[0;32melif\u001b[0m \u001b[0mis_object_dtype\u001b[0m\u001b[0;34m(\u001b[0m\u001b[0mlvalues\u001b[0m\u001b[0;34m.\u001b[0m\u001b[0mdtype\u001b[0m\u001b[0;34m)\u001b[0m\u001b[0;34m:\u001b[0m\u001b[0;34m\u001b[0m\u001b[0;34m\u001b[0m\u001b[0m\n\u001b[0;32m--> 243\u001b[0;31m         \u001b[0mres_values\u001b[0m \u001b[0;34m=\u001b[0m \u001b[0mcomp_method_OBJECT_ARRAY\u001b[0m\u001b[0;34m(\u001b[0m\u001b[0mop\u001b[0m\u001b[0;34m,\u001b[0m \u001b[0mlvalues\u001b[0m\u001b[0;34m,\u001b[0m \u001b[0mrvalues\u001b[0m\u001b[0;34m)\u001b[0m\u001b[0;34m\u001b[0m\u001b[0;34m\u001b[0m\u001b[0m\n\u001b[0m\u001b[1;32m    244\u001b[0m \u001b[0;34m\u001b[0m\u001b[0m\n\u001b[1;32m    245\u001b[0m     \u001b[0;32melse\u001b[0m\u001b[0;34m:\u001b[0m\u001b[0;34m\u001b[0m\u001b[0;34m\u001b[0m\u001b[0m\n",
      "\u001b[0;32m/shared-libs/python3.7/py/lib/python3.7/site-packages/pandas/core/ops/array_ops.py\u001b[0m in \u001b[0;36mcomp_method_OBJECT_ARRAY\u001b[0;34m(op, x, y)\u001b[0m\n\u001b[1;32m     53\u001b[0m         \u001b[0mresult\u001b[0m \u001b[0;34m=\u001b[0m \u001b[0mlibops\u001b[0m\u001b[0;34m.\u001b[0m\u001b[0mvec_compare\u001b[0m\u001b[0;34m(\u001b[0m\u001b[0mx\u001b[0m\u001b[0;34m.\u001b[0m\u001b[0mravel\u001b[0m\u001b[0;34m(\u001b[0m\u001b[0;34m)\u001b[0m\u001b[0;34m,\u001b[0m \u001b[0my\u001b[0m\u001b[0;34m.\u001b[0m\u001b[0mravel\u001b[0m\u001b[0;34m(\u001b[0m\u001b[0;34m)\u001b[0m\u001b[0;34m,\u001b[0m \u001b[0mop\u001b[0m\u001b[0;34m)\u001b[0m\u001b[0;34m\u001b[0m\u001b[0;34m\u001b[0m\u001b[0m\n\u001b[1;32m     54\u001b[0m     \u001b[0;32melse\u001b[0m\u001b[0;34m:\u001b[0m\u001b[0;34m\u001b[0m\u001b[0;34m\u001b[0m\u001b[0m\n\u001b[0;32m---> 55\u001b[0;31m         \u001b[0mresult\u001b[0m \u001b[0;34m=\u001b[0m \u001b[0mlibops\u001b[0m\u001b[0;34m.\u001b[0m\u001b[0mscalar_compare\u001b[0m\u001b[0;34m(\u001b[0m\u001b[0mx\u001b[0m\u001b[0;34m.\u001b[0m\u001b[0mravel\u001b[0m\u001b[0;34m(\u001b[0m\u001b[0;34m)\u001b[0m\u001b[0;34m,\u001b[0m \u001b[0my\u001b[0m\u001b[0;34m,\u001b[0m \u001b[0mop\u001b[0m\u001b[0;34m)\u001b[0m\u001b[0;34m\u001b[0m\u001b[0;34m\u001b[0m\u001b[0m\n\u001b[0m\u001b[1;32m     56\u001b[0m     \u001b[0;32mreturn\u001b[0m \u001b[0mresult\u001b[0m\u001b[0;34m.\u001b[0m\u001b[0mreshape\u001b[0m\u001b[0;34m(\u001b[0m\u001b[0mx\u001b[0m\u001b[0;34m.\u001b[0m\u001b[0mshape\u001b[0m\u001b[0;34m)\u001b[0m\u001b[0;34m\u001b[0m\u001b[0;34m\u001b[0m\u001b[0m\n\u001b[1;32m     57\u001b[0m \u001b[0;34m\u001b[0m\u001b[0m\n",
      "\u001b[0;31mKeyboardInterrupt\u001b[0m: "
     ]
    }
   ]
  },
  {
   "cell_type": "code",
   "metadata": {
    "tags": [],
    "cell_id": "00011-4afa4232-064a-4cdd-a825-a1367e5a9f2b",
    "deepnote_to_be_reexecuted": true,
    "source_hash": "64f10b5e",
    "execution_start": 1635951385087,
    "execution_millis": 9,
    "deepnote_cell_type": "code"
   },
   "source": "df_player.to_csv(\"../data/integrations/matches_male_players.csv\", index=False)",
   "execution_count": null,
   "outputs": [
    {
     "output_type": "error",
     "ename": "NameError",
     "evalue": "name 'df_player' is not defined",
     "traceback": [
      "\u001b[0;31m---------------------------------------------------------------------------\u001b[0m",
      "\u001b[0;31mNameError\u001b[0m                                 Traceback (most recent call last)",
      "\u001b[0;32m<ipython-input-10-1e6bdf7ef86b>\u001b[0m in \u001b[0;36m<module>\u001b[0;34m\u001b[0m\n\u001b[0;32m----> 1\u001b[0;31m \u001b[0mdf_player\u001b[0m\u001b[0;34m.\u001b[0m\u001b[0mto_csv\u001b[0m\u001b[0;34m(\u001b[0m\u001b[0;34m\"../data/integrations/matches_male_players.csv\"\u001b[0m\u001b[0;34m,\u001b[0m \u001b[0mindex\u001b[0m\u001b[0;34m=\u001b[0m\u001b[0;32mFalse\u001b[0m\u001b[0;34m)\u001b[0m\u001b[0;34m\u001b[0m\u001b[0;34m\u001b[0m\u001b[0m\n\u001b[0m",
      "\u001b[0;31mNameError\u001b[0m: name 'df_player' is not defined"
     ]
    }
   ]
  },
  {
   "cell_type": "code",
   "metadata": {
    "tags": [],
    "cell_id": "00014-7bf835a8-d128-4929-9189-eef06801cd36",
    "deepnote_to_be_reexecuted": true,
    "source_hash": "840dc89f",
    "execution_start": 1636641715158,
    "execution_millis": 1132457,
    "deepnote_cell_type": "code"
   },
   "source": "df_player = pd.DataFrame()\n\nlist_of_female_names = df_female_matches['player_name'].unique()\nprint(list_of_female_names)\ndf_player['Name'] = list_of_female_names\ndf_player['Sex'] = 'F'\ni = 0\n\nfor name in list_of_female_names:\n    \n    df_player_matches = df_matches[(df_matches['winner_name'] == name) | (df_matches['loser_name'] == name)]\n\n    #player's hand\n    df_h = [x for x in df_player_matches[(df_player_matches['winner_name'] == name) &  (df_player_matches['winner_hand'] != 'U')]['winner_hand']]\n    if len(df_h) > 0:\n        df_player.loc[df_player['Name'] == name, 'Hand'] = df_h[0]\n    else:\n        df_h = [x for x in df_player_matches[(df_player_matches['loser_name'] == name) &  (df_player_matches['loser_hand'] != 'U')]['loser_hand']]\n        if len(df_h) > 0:\n            df_player.loc[df_player['Name'] == name, 'Hand'] = df_h[0]\n        else:\n            df_player.loc[df_player['Name'] == name, 'Hand'] = 'U'\n\n    #player's nationality\n    df_h = [x for x in df_player_matches[(df_player_matches['winner_name'] == name) &  (df_player_matches['winner_ioc'] != None)]['winner_ioc']]\n    if len(df_h) > 0:\n        df_player.loc[df_player['Name'] == name, 'IOC'] = df_h[0]\n    else:\n        df_h = [x for x in df_player_matches[(df_player_matches['loser_name'] == name) &  (df_player_matches['loser_ioc'] != 'U')]['loser_ioc']]\n        if len(df_h) > 0:\n            df_player.loc[df_player['Name'] == name, 'IOC'] = df_h[0]\n        else:\n            df_player.loc[df_player['Name'] == name, 'IOC'] = 'Undefined'\n    \n    df_player.loc[df_player['Name'] == name, 'Won_Tournaments'] = df_player_matches[(df_player_matches['round'] == 'F') & (df_player_matches['winner_name'] == name)].shape[0]\n\n    if df_player_matches.shape[0] != 0:\n        df_player.loc[df_player['Name'] == name, 'Number_of_Matches'] = df_player_matches.shape[0]\n        df_player.loc[df_player['Name'] == name, 'Win_Percentage'] = df_player_matches[df_player_matches['winner_name'] == name].shape[0]/df_player_matches.shape[0]\n\n    match_per_year = df_female_matches[df_female_matches['player_name']==name]['tourney_date'].groupby(df_female_matches['tourney_date'].dt.year).count()\n    if len(match_per_year) > 0:\n        df_player.loc[df_player['Name'] == name, 'best_year_matches'] = match_per_year.idxmax()\n        df_player.loc[df_player['Name'] == name, 'worst_year_matches'] = match_per_year.idxmin()\n\n    wins_per_year = df_female_matches[df_female_matches['winner_name']==name]['tourney_date'].groupby(df_female_matches['tourney_date'].dt.year).count()\n    if len(wins_per_year) > 0:\n        df_player.loc[df_player['Name'] == name, 'best_year_wins'] = wins_per_year.idxmax()\n        df_player.loc[df_player['Name'] == name, 'worst_year_wins'] = wins_per_year.idxmin()",
   "execution_count": null,
   "outputs": [
    {
     "name": "stdout",
     "text": "['Mirjana Lucic' 'Maureen Drake' 'Serena Williams' ... 'Mariya Vyshkina'\n 'Anna Sharandachenko' 'Mariya Sharandachenko']\n",
     "output_type": "stream"
    }
   ]
  },
  {
   "cell_type": "code",
   "metadata": {
    "tags": [],
    "cell_id": "00015-d3a12d89-52d4-4d02-b84b-20b533315d22",
    "deepnote_to_be_reexecuted": true,
    "source_hash": "3aed383e",
    "execution_start": 1636642847615,
    "execution_millis": 1051,
    "deepnote_cell_type": "code"
   },
   "source": "df_player.to_csv(\"../data/integrations/matches_female_players.csv\", index=False)",
   "execution_count": null,
   "outputs": []
  },
  {
   "cell_type": "markdown",
   "source": "## Start from here",
   "metadata": {
    "tags": [],
    "is_collapsed": false,
    "cell_id": "00017-5c948e59-e010-4b90-92c3-41e2c2bd5006",
    "deepnote_cell_type": "text-cell-h2"
   }
  },
  {
   "cell_type": "code",
   "metadata": {
    "tags": [],
    "cell_id": "00018-657e831e-f023-4f24-854d-c8939e590d97",
    "deepnote_to_be_reexecuted": true,
    "source_hash": "9d69769e",
    "execution_start": 1636645666644,
    "execution_millis": 161,
    "deepnote_cell_type": "code"
   },
   "source": "male_stats = pd.read_csv(\"../data/integrations/matches_male_players.csv\")\nfemale_stats = pd.read_csv(\"../data/integrations/matches_female_players.csv\")",
   "execution_count": null,
   "outputs": [
    {
     "output_type": "execute_result",
     "execution_count": 10,
     "data": {
      "application/vnd.deepnote.dataframe.v2+json": {
       "row_count": 3018,
       "column_count": 11,
       "columns": [
        {
         "name": "Name",
         "dtype": "object",
         "stats": {
          "unique_count": 3018,
          "nan_count": 0,
          "categories": [
           {
            "name": "Alexander Zverev",
            "count": 1
           },
           {
            "name": "Agustin Moreno",
            "count": 1
           },
           {
            "name": "3016 others",
            "count": 3016
           }
          ]
         }
        },
        {
         "name": "Sex",
         "dtype": "object",
         "stats": {
          "unique_count": 1,
          "nan_count": 0,
          "categories": [
           {
            "name": "M",
            "count": 3018
           }
          ]
         }
        },
        {
         "name": "Hand",
         "dtype": "object",
         "stats": {
          "unique_count": 3,
          "nan_count": 0,
          "categories": [
           {
            "name": "R",
            "count": 1440
           },
           {
            "name": "U",
            "count": 1383
           },
           {
            "name": "L",
            "count": 195
           }
          ]
         }
        },
        {
         "name": "IOC",
         "dtype": "object",
         "stats": {
          "unique_count": 110,
          "nan_count": 0,
          "categories": [
           {
            "name": "USA",
            "count": 285
           },
           {
            "name": "ITA",
            "count": 223
           },
           {
            "name": "108 others",
            "count": 2510
           }
          ]
         }
        },
        {
         "name": "Won_Tournaments",
         "dtype": "float64",
         "stats": {
          "unique_count": 17,
          "nan_count": 0,
          "min": "0.0",
          "max": "27.0",
          "histogram": [
           {
            "bin_start": 0,
            "bin_end": 2.7,
            "count": 2854
           },
           {
            "bin_start": 2.7,
            "bin_end": 5.4,
            "count": 117
           },
           {
            "bin_start": 5.4,
            "bin_end": 8.100000000000001,
            "count": 35
           },
           {
            "bin_start": 8.100000000000001,
            "bin_end": 10.8,
            "count": 5
           },
           {
            "bin_start": 10.8,
            "bin_end": 13.5,
            "count": 1
           },
           {
            "bin_start": 13.5,
            "bin_end": 16.200000000000003,
            "count": 3
           },
           {
            "bin_start": 16.200000000000003,
            "bin_end": 18.900000000000002,
            "count": 1
           },
           {
            "bin_start": 18.900000000000002,
            "bin_end": 21.6,
            "count": 1
           },
           {
            "bin_start": 21.6,
            "bin_end": 24.3,
            "count": 0
           },
           {
            "bin_start": 24.3,
            "bin_end": 27,
            "count": 1
           }
          ]
         }
        },
        {
         "name": "Number_of_Matches",
         "dtype": "float64",
         "stats": {
          "unique_count": 304,
          "nan_count": 0,
          "min": "1.0",
          "max": "384.0",
          "histogram": [
           {
            "bin_start": 1,
            "bin_end": 39.3,
            "count": 2387
           },
           {
            "bin_start": 39.3,
            "bin_end": 77.6,
            "count": 182
           },
           {
            "bin_start": 77.6,
            "bin_end": 115.89999999999999,
            "count": 81
           },
           {
            "bin_start": 115.89999999999999,
            "bin_end": 154.2,
            "count": 61
           },
           {
            "bin_start": 154.2,
            "bin_end": 192.5,
            "count": 68
           },
           {
            "bin_start": 192.5,
            "bin_end": 230.79999999999998,
            "count": 56
           },
           {
            "bin_start": 230.79999999999998,
            "bin_end": 269.09999999999997,
            "count": 62
           },
           {
            "bin_start": 269.09999999999997,
            "bin_end": 307.4,
            "count": 69
           },
           {
            "bin_start": 307.4,
            "bin_end": 345.7,
            "count": 40
           },
           {
            "bin_start": 345.7,
            "bin_end": 384,
            "count": 12
           }
          ]
         }
        },
        {
         "name": "Win_Percentage",
         "dtype": "float64",
         "stats": {
          "unique_count": 633,
          "nan_count": 0,
          "min": "0.0",
          "max": "1.0",
          "histogram": [
           {
            "bin_start": 0,
            "bin_end": 0.1,
            "count": 1305
           },
           {
            "bin_start": 0.1,
            "bin_end": 0.2,
            "count": 86
           },
           {
            "bin_start": 0.2,
            "bin_end": 0.30000000000000004,
            "count": 246
           },
           {
            "bin_start": 0.30000000000000004,
            "bin_end": 0.4,
            "count": 329
           },
           {
            "bin_start": 0.4,
            "bin_end": 0.5,
            "count": 431
           },
           {
            "bin_start": 0.5,
            "bin_end": 0.6000000000000001,
            "count": 507
           },
           {
            "bin_start": 0.6000000000000001,
            "bin_end": 0.7000000000000001,
            "count": 79
           },
           {
            "bin_start": 0.7000000000000001,
            "bin_end": 0.8,
            "count": 11
           },
           {
            "bin_start": 0.8,
            "bin_end": 0.9,
            "count": 5
           },
           {
            "bin_start": 0.9,
            "bin_end": 1,
            "count": 19
           }
          ]
         }
        },
        {
         "name": "best_year_matches",
         "dtype": "float64",
         "stats": {
          "unique_count": 6,
          "nan_count": 0,
          "min": "2016.0",
          "max": "2021.0",
          "histogram": [
           {
            "bin_start": 2016,
            "bin_end": 2016.5,
            "count": 1203
           },
           {
            "bin_start": 2016.5,
            "bin_end": 2017,
            "count": 0
           },
           {
            "bin_start": 2017,
            "bin_end": 2017.5,
            "count": 598
           },
           {
            "bin_start": 2017.5,
            "bin_end": 2018,
            "count": 0
           },
           {
            "bin_start": 2018,
            "bin_end": 2018.5,
            "count": 578
           },
           {
            "bin_start": 2018.5,
            "bin_end": 2019,
            "count": 0
           },
           {
            "bin_start": 2019,
            "bin_end": 2019.5,
            "count": 315
           },
           {
            "bin_start": 2019.5,
            "bin_end": 2020,
            "count": 0
           },
           {
            "bin_start": 2020,
            "bin_end": 2020.5,
            "count": 108
           },
           {
            "bin_start": 2020.5,
            "bin_end": 2021,
            "count": 216
           }
          ]
         }
        },
        {
         "name": "worst_year_matches",
         "dtype": "float64",
         "stats": {
          "unique_count": 6,
          "nan_count": 0,
          "min": "2016.0",
          "max": "2021.0",
          "histogram": [
           {
            "bin_start": 2016,
            "bin_end": 2016.5,
            "count": 1029
           },
           {
            "bin_start": 2016.5,
            "bin_end": 2017,
            "count": 0
           },
           {
            "bin_start": 2017,
            "bin_end": 2017.5,
            "count": 613
           },
           {
            "bin_start": 2017.5,
            "bin_end": 2018,
            "count": 0
           },
           {
            "bin_start": 2018,
            "bin_end": 2018.5,
            "count": 506
           },
           {
            "bin_start": 2018.5,
            "bin_end": 2019,
            "count": 0
           },
           {
            "bin_start": 2019,
            "bin_end": 2019.5,
            "count": 279
           },
           {
            "bin_start": 2019.5,
            "bin_end": 2020,
            "count": 0
           },
           {
            "bin_start": 2020,
            "bin_end": 2020.5,
            "count": 355
           },
           {
            "bin_start": 2020.5,
            "bin_end": 2021,
            "count": 236
           }
          ]
         }
        },
        {
         "name": "best_year_wins",
         "dtype": "float64",
         "stats": {
          "unique_count": 6,
          "nan_count": 1302,
          "min": "2016.0",
          "max": "2021.0",
          "histogram": [
           {
            "bin_start": 2016,
            "bin_end": 2016.5,
            "count": 638
           },
           {
            "bin_start": 2016.5,
            "bin_end": 2017,
            "count": 0
           },
           {
            "bin_start": 2017,
            "bin_end": 2017.5,
            "count": 356
           },
           {
            "bin_start": 2017.5,
            "bin_end": 2018,
            "count": 0
           },
           {
            "bin_start": 2018,
            "bin_end": 2018.5,
            "count": 346
           },
           {
            "bin_start": 2018.5,
            "bin_end": 2019,
            "count": 0
           },
           {
            "bin_start": 2019,
            "bin_end": 2019.5,
            "count": 200
           },
           {
            "bin_start": 2019.5,
            "bin_end": 2020,
            "count": 0
           },
           {
            "bin_start": 2020,
            "bin_end": 2020.5,
            "count": 55
           },
           {
            "bin_start": 2020.5,
            "bin_end": 2021,
            "count": 121
           }
          ]
         }
        },
        {
         "name": "worst_year_wins",
         "dtype": "float64",
         "stats": {
          "unique_count": 6,
          "nan_count": 1302,
          "min": "2016.0",
          "max": "2021.0",
          "histogram": [
           {
            "bin_start": 2016,
            "bin_end": 2016.5,
            "count": 506
           },
           {
            "bin_start": 2016.5,
            "bin_end": 2017,
            "count": 0
           },
           {
            "bin_start": 2017,
            "bin_end": 2017.5,
            "count": 396
           },
           {
            "bin_start": 2017.5,
            "bin_end": 2018,
            "count": 0
           },
           {
            "bin_start": 2018,
            "bin_end": 2018.5,
            "count": 278
           },
           {
            "bin_start": 2018.5,
            "bin_end": 2019,
            "count": 0
           },
           {
            "bin_start": 2019,
            "bin_end": 2019.5,
            "count": 158
           },
           {
            "bin_start": 2019.5,
            "bin_end": 2020,
            "count": 0
           },
           {
            "bin_start": 2020,
            "bin_end": 2020.5,
            "count": 227
           },
           {
            "bin_start": 2020.5,
            "bin_end": 2021,
            "count": 151
           }
          ]
         }
        },
        {
         "name": "_deepnote_index_column",
         "dtype": "int64"
        }
       ],
       "rows_top": [
        {
         "Name": "Alexander Zverev",
         "Sex": "M",
         "Hand": "R",
         "IOC": "GER",
         "Won_Tournaments": 17,
         "Number_of_Matches": 378,
         "Win_Percentage": 0.7063492063492064,
         "best_year_matches": 2017,
         "worst_year_matches": 2020,
         "best_year_wins": 2018,
         "worst_year_wins": 2020,
         "_deepnote_index_column": 0
        },
        {
         "Name": "Agustin Moreno",
         "Sex": "M",
         "Hand": "R",
         "IOC": "MEX",
         "Won_Tournaments": 0,
         "Number_of_Matches": 4,
         "Win_Percentage": 0.25,
         "best_year_matches": 2016,
         "worst_year_matches": 2016,
         "best_year_wins": 2016,
         "worst_year_wins": 2016,
         "_deepnote_index_column": 1
        },
        {
         "Name": "Martin Damm",
         "Sex": "M",
         "Hand": "L",
         "IOC": "USA",
         "Won_Tournaments": 0,
         "Number_of_Matches": 7,
         "Win_Percentage": 0.2857142857142857,
         "best_year_matches": 2021,
         "worst_year_matches": 2018,
         "best_year_wins": 2021,
         "worst_year_wins": 2021,
         "_deepnote_index_column": 2
        },
        {
         "Name": "Gergely Kisgyorgy",
         "Sex": "M",
         "Hand": "R",
         "IOC": "HUN",
         "Won_Tournaments": 0,
         "Number_of_Matches": 2,
         "Win_Percentage": 0.5,
         "best_year_matches": 2016,
         "worst_year_matches": 2016,
         "best_year_wins": 2016,
         "worst_year_wins": 2016,
         "_deepnote_index_column": 3
        },
        {
         "Name": "Frank Moser",
         "Sex": "M",
         "Hand": "R",
         "IOC": "GER",
         "Won_Tournaments": 0,
         "Number_of_Matches": 11,
         "Win_Percentage": 0.4545454545454545,
         "best_year_matches": 2016,
         "worst_year_matches": 2017,
         "best_year_wins": 2016,
         "worst_year_wins": 2016,
         "_deepnote_index_column": 4
        },
        {
         "Name": "Konstantinos Economidis",
         "Sex": "M",
         "Hand": "R",
         "IOC": "GRE",
         "Won_Tournaments": 0,
         "Number_of_Matches": 4,
         "Win_Percentage": 0.25,
         "best_year_matches": 2016,
         "worst_year_matches": 2016,
         "best_year_wins": 2016,
         "worst_year_wins": 2016,
         "_deepnote_index_column": 5
        },
        {
         "Name": "Ruben Ramirez Hidalgo",
         "Sex": "M",
         "Hand": "R",
         "IOC": "ESP",
         "Won_Tournaments": 0,
         "Number_of_Matches": 94,
         "Win_Percentage": 0.5,
         "best_year_matches": 2016,
         "worst_year_matches": 2019,
         "best_year_wins": 2016,
         "worst_year_wins": 2017,
         "_deepnote_index_column": 6
        },
        {
         "Name": "Tommy Haas",
         "Sex": "M",
         "Hand": "R",
         "IOC": "GER",
         "Won_Tournaments": 0,
         "Number_of_Matches": 20,
         "Win_Percentage": 0.3,
         "best_year_matches": 2017,
         "worst_year_matches": 2017,
         "best_year_wins": 2017,
         "worst_year_wins": 2017,
         "_deepnote_index_column": 7
        },
        {
         "Name": "Toshihide Matsui",
         "Sex": "M",
         "Hand": "R",
         "IOC": "JPN",
         "Won_Tournaments": 0,
         "Number_of_Matches": 55,
         "Win_Percentage": 0.3636363636363636,
         "best_year_matches": 2017,
         "worst_year_matches": 2020,
         "best_year_wins": 2019,
         "worst_year_wins": 2018,
         "_deepnote_index_column": 8
        },
        {
         "Name": "Radek Stepanek",
         "Sex": "M",
         "Hand": "R",
         "IOC": "CZE",
         "Won_Tournaments": 0,
         "Number_of_Matches": 57,
         "Win_Percentage": 0.7017543859649122,
         "best_year_matches": 2016,
         "worst_year_matches": 2017,
         "best_year_wins": 2016,
         "worst_year_wins": 2017,
         "_deepnote_index_column": 9
        },
        {
         "Name": "Alessandro Motti",
         "Sex": "M",
         "Hand": "L",
         "IOC": "ITA",
         "Won_Tournaments": 0,
         "Number_of_Matches": 4,
         "Win_Percentage": 0.25,
         "best_year_matches": 2016,
         "worst_year_matches": 2018,
         "best_year_wins": 2016,
         "worst_year_wins": 2016,
         "_deepnote_index_column": 10
        },
        {
         "Name": "Ivo Karlovic",
         "Sex": "M",
         "Hand": "R",
         "IOC": "CRO",
         "Won_Tournaments": 3,
         "Number_of_Matches": 205,
         "Win_Percentage": 0.4926829268292683,
         "best_year_matches": 2016,
         "worst_year_matches": 2021,
         "best_year_wins": 2016,
         "worst_year_wins": 2020,
         "_deepnote_index_column": 11
        },
        {
         "Name": "Jan Hernych",
         "Sex": "M",
         "Hand": "R",
         "IOC": "CZE",
         "Won_Tournaments": 0,
         "Number_of_Matches": 21,
         "Win_Percentage": 0.5714285714285714,
         "best_year_matches": 2016,
         "worst_year_matches": 2018,
         "best_year_wins": 2016,
         "worst_year_wins": 2016,
         "_deepnote_index_column": 12
        },
        {
         "Name": "Aqeel Khan",
         "Sex": "M",
         "Hand": "R",
         "IOC": "PAK",
         "Won_Tournaments": 0,
         "Number_of_Matches": 8,
         "Win_Percentage": 0.75,
         "best_year_matches": 2017,
         "worst_year_matches": 2016,
         "best_year_wins": 2017,
         "worst_year_wins": 2020,
         "_deepnote_index_column": 13
        },
        {
         "Name": "Rohan Bopanna",
         "Sex": "M",
         "Hand": "R",
         "IOC": "IND",
         "Won_Tournaments": 0,
         "Number_of_Matches": 2,
         "Win_Percentage": 0.5,
         "best_year_matches": 2016,
         "worst_year_matches": 2016,
         "best_year_wins": 2016,
         "worst_year_wins": 2016,
         "_deepnote_index_column": 14
        },
        {
         "Name": "Aisam Ul Haq Qureshi",
         "Sex": "M",
         "Hand": "R",
         "IOC": "PAK",
         "Won_Tournaments": 0,
         "Number_of_Matches": 8,
         "Win_Percentage": 0.5,
         "best_year_matches": 2017,
         "worst_year_matches": 2020,
         "best_year_wins": 2017,
         "worst_year_wins": 2018,
         "_deepnote_index_column": 15
        },
        {
         "Name": "Thomas Oger",
         "Sex": "M",
         "Hand": "U",
         "IOC": "MON",
         "Won_Tournaments": 0,
         "Number_of_Matches": 1,
         "Win_Percentage": 1,
         "best_year_matches": 2017,
         "worst_year_matches": 2017,
         "best_year_wins": 2017,
         "worst_year_wins": 2017,
         "_deepnote_index_column": 16
        },
        {
         "Name": "David Marrero",
         "Sex": "M",
         "Hand": "R",
         "IOC": "ESP",
         "Won_Tournaments": 0,
         "Number_of_Matches": 2,
         "Win_Percentage": 0.5,
         "best_year_matches": 2017,
         "worst_year_matches": 2017,
         "best_year_wins": 2017,
         "worst_year_wins": 2017,
         "_deepnote_index_column": 17
        },
        {
         "Name": "Stephane Robert",
         "Sex": "M",
         "Hand": "R",
         "IOC": "FRA",
         "Won_Tournaments": 3,
         "Number_of_Matches": 194,
         "Win_Percentage": 0.4690721649484536,
         "best_year_matches": 2016,
         "worst_year_matches": 2021,
         "best_year_wins": 2016,
         "worst_year_wins": 2020,
         "_deepnote_index_column": 18
        },
        {
         "Name": "Michael Berrer",
         "Sex": "M",
         "Hand": "L",
         "IOC": "GER",
         "Won_Tournaments": 1,
         "Number_of_Matches": 50,
         "Win_Percentage": 0.48,
         "best_year_matches": 2016,
         "worst_year_matches": 2016,
         "best_year_wins": 2016,
         "worst_year_wins": 2016,
         "_deepnote_index_column": 19
        },
        {
         "Name": "Michael Quintero",
         "Sex": "M",
         "Hand": "R",
         "IOC": "COL",
         "Won_Tournaments": 0,
         "Number_of_Matches": 6,
         "Win_Percentage": 0.1666666666666666,
         "best_year_matches": 2016,
         "worst_year_matches": 2016,
         "best_year_wins": 2016,
         "worst_year_wins": 2016,
         "_deepnote_index_column": 20
        },
        {
         "Name": "Mohammad Ghareeb",
         "Sex": "M",
         "Hand": "R",
         "IOC": "KUW",
         "Won_Tournaments": 0,
         "Number_of_Matches": 2,
         "Win_Percentage": 0.5,
         "best_year_matches": 2016,
         "worst_year_matches": 2016,
         "best_year_wins": 2017,
         "worst_year_wins": 2017,
         "_deepnote_index_column": 21
        },
        {
         "Name": "Victor Estrella",
         "Sex": "M",
         "Hand": "R",
         "IOC": "DOM",
         "Won_Tournaments": 3,
         "Number_of_Matches": 154,
         "Win_Percentage": 0.448051948051948,
         "best_year_matches": 2017,
         "worst_year_matches": 2019,
         "best_year_wins": 2017,
         "worst_year_wins": 2019,
         "_deepnote_index_column": 22
        },
        {
         "Name": "Alexey Kedryuk",
         "Sex": "M",
         "Hand": "R",
         "IOC": "KAZ",
         "Won_Tournaments": 0,
         "Number_of_Matches": 10,
         "Win_Percentage": 0.1,
         "best_year_matches": 2017,
         "worst_year_matches": 2016,
         "best_year_wins": 2016,
         "worst_year_wins": 2016,
         "_deepnote_index_column": 23
        },
        {
         "Name": "Lauri Kiiski",
         "Sex": "M",
         "Hand": "R",
         "IOC": "FIN",
         "Won_Tournaments": 0,
         "Number_of_Matches": 5,
         "Win_Percentage": 0.4,
         "best_year_matches": 2016,
         "worst_year_matches": 2017,
         "best_year_wins": 2016,
         "worst_year_wins": 2016,
         "_deepnote_index_column": 24
        },
        {
         "Name": "Albert Montanes",
         "Sex": "M",
         "Hand": "R",
         "IOC": "ESP",
         "Won_Tournaments": 0,
         "Number_of_Matches": 53,
         "Win_Percentage": 0.490566037735849,
         "best_year_matches": 2016,
         "worst_year_matches": 2017,
         "best_year_wins": 2016,
         "worst_year_wins": 2017,
         "_deepnote_index_column": 25
        },
        {
         "Name": "Ryan Haviland",
         "Sex": "M",
         "Hand": "U",
         "IOC": "USA",
         "Won_Tournaments": 0,
         "Number_of_Matches": 28,
         "Win_Percentage": 0.5357142857142857,
         "best_year_matches": 2016,
         "worst_year_matches": 2016,
         "best_year_wins": 2016,
         "worst_year_wins": 2017,
         "_deepnote_index_column": 26
        },
        {
         "Name": "Jaroslav Pospisil",
         "Sex": "M",
         "Hand": "R",
         "IOC": "CZE",
         "Won_Tournaments": 0,
         "Number_of_Matches": 28,
         "Win_Percentage": 0.5,
         "best_year_matches": 2019,
         "worst_year_matches": 2018,
         "best_year_wins": 2016,
         "worst_year_wins": 2017,
         "_deepnote_index_column": 27
        },
        {
         "Name": "Lleyton Hewitt",
         "Sex": "M",
         "Hand": "R",
         "IOC": "AUS",
         "Won_Tournaments": 0,
         "Number_of_Matches": 2,
         "Win_Percentage": 0.5,
         "best_year_matches": 2016,
         "worst_year_matches": 2016,
         "best_year_wins": 2016,
         "worst_year_wins": 2016,
         "_deepnote_index_column": 28
        },
        {
         "Name": "Jurgen Melzer",
         "Sex": "M",
         "Hand": "L",
         "IOC": "AUT",
         "Won_Tournaments": 2,
         "Number_of_Matches": 81,
         "Win_Percentage": 0.5555555555555556,
         "best_year_matches": 2017,
         "worst_year_matches": 2019,
         "best_year_wins": 2017,
         "worst_year_wins": 2019,
         "_deepnote_index_column": 29
        },
        {
         "Name": "Rameez Junaid",
         "Sex": "M",
         "Hand": "R",
         "IOC": "AUS",
         "Won_Tournaments": 0,
         "Number_of_Matches": 9,
         "Win_Percentage": 0.3333333333333333,
         "best_year_matches": 2016,
         "worst_year_matches": 2017,
         "best_year_wins": 2016,
         "worst_year_wins": 2017,
         "_deepnote_index_column": 30
        },
        {
         "Name": "Benjamin Becker",
         "Sex": "M",
         "Hand": "R",
         "IOC": "GER",
         "Won_Tournaments": 0,
         "Number_of_Matches": 85,
         "Win_Percentage": 0.5058823529411764,
         "best_year_matches": 2016,
         "worst_year_matches": 2017,
         "best_year_wins": 2016,
         "worst_year_wins": 2017,
         "_deepnote_index_column": 31
        },
        {
         "Name": "Andreas Siljestrom",
         "Sex": "M",
         "Hand": "R",
         "IOC": "SWE",
         "Won_Tournaments": 0,
         "Number_of_Matches": 4,
         "Win_Percentage": 0.25,
         "best_year_matches": 2017,
         "worst_year_matches": 2018,
         "best_year_wins": 2017,
         "worst_year_wins": 2017,
         "_deepnote_index_column": 32
        },
        {
         "Name": "Victor Hanescu",
         "Sex": "M",
         "Hand": "R",
         "IOC": "ROU",
         "Won_Tournaments": 0,
         "Number_of_Matches": 3,
         "Win_Percentage": 0.6666666666666666,
         "best_year_matches": 2016,
         "worst_year_matches": 2016,
         "best_year_wins": 2016,
         "worst_year_wins": 2016,
         "_deepnote_index_column": 33
        },
        {
         "Name": "Jarkko Nieminen",
         "Sex": "M",
         "Hand": "L",
         "IOC": "FIN",
         "Won_Tournaments": 0,
         "Number_of_Matches": 3,
         "Win_Percentage": 1,
         "best_year_matches": 2016,
         "worst_year_matches": 2016,
         "best_year_wins": 2016,
         "worst_year_wins": 2016,
         "_deepnote_index_column": 34
        },
        {
         "Name": "Roger Federer",
         "Sex": "M",
         "Hand": "R",
         "IOC": "SUI",
         "Won_Tournaments": 15,
         "Number_of_Matches": 229,
         "Win_Percentage": 0.8296943231441049,
         "best_year_matches": 2019,
         "worst_year_matches": 2020,
         "best_year_wins": 2018,
         "worst_year_wins": 2020,
         "_deepnote_index_column": 35
        },
        {
         "Name": "Filippo Volandri",
         "Sex": "M",
         "Hand": "R",
         "IOC": "ITA",
         "Won_Tournaments": 0,
         "Number_of_Matches": 40,
         "Win_Percentage": 0.5,
         "best_year_matches": 2016,
         "worst_year_matches": 2016,
         "best_year_wins": 2016,
         "worst_year_wins": 2016,
         "_deepnote_index_column": 36
        },
        {
         "Name": "Marco Chiudinelli",
         "Sex": "M",
         "Hand": "R",
         "IOC": "SUI",
         "Won_Tournaments": 1,
         "Number_of_Matches": 108,
         "Win_Percentage": 0.4907407407407407,
         "best_year_matches": 2016,
         "worst_year_matches": 2017,
         "best_year_wins": 2016,
         "worst_year_wins": 2017,
         "_deepnote_index_column": 37
        },
        {
         "Name": "Feliciano Lopez",
         "Sex": "M",
         "Hand": "L",
         "IOC": "ESP",
         "Won_Tournaments": 3,
         "Number_of_Matches": 243,
         "Win_Percentage": 0.4897119341563786,
         "best_year_matches": 2016,
         "worst_year_matches": 2020,
         "best_year_wins": 2016,
         "worst_year_wins": 2020,
         "_deepnote_index_column": 38
        },
        {
         "Name": "Mikhail Elgin",
         "Sex": "M",
         "Hand": "R",
         "IOC": "RUS",
         "Won_Tournaments": 0,
         "Number_of_Matches": 61,
         "Win_Percentage": 0.4426229508196721,
         "best_year_matches": 2016,
         "worst_year_matches": 2019,
         "best_year_wins": 2016,
         "worst_year_wins": 2017,
         "_deepnote_index_column": 39
        },
        {
         "Name": "Tomasz Bednarek",
         "Sex": "M",
         "Hand": "R",
         "IOC": "POL",
         "Won_Tournaments": 0,
         "Number_of_Matches": 24,
         "Win_Percentage": 0.0416666666666666,
         "best_year_matches": 2016,
         "worst_year_matches": 2018,
         "best_year_wins": 2016,
         "worst_year_wins": 2016,
         "_deepnote_index_column": 40
        },
        {
         "Name": "Paolo Lorenzi",
         "Sex": "M",
         "Hand": "R",
         "IOC": "ITA",
         "Won_Tournaments": 6,
         "Number_of_Matches": 329,
         "Win_Percentage": 0.4924012158054711,
         "best_year_matches": 2019,
         "worst_year_matches": 2020,
         "best_year_wins": 2016,
         "worst_year_wins": 2021,
         "_deepnote_index_column": 41
        },
        {
         "Name": "Julien Benneteau",
         "Sex": "M",
         "Hand": "R",
         "IOC": "FRA",
         "Won_Tournaments": 1,
         "Number_of_Matches": 133,
         "Win_Percentage": 0.5488721804511278,
         "best_year_matches": 2017,
         "worst_year_matches": 2018,
         "best_year_wins": 2017,
         "worst_year_wins": 2018,
         "_deepnote_index_column": 42
        },
        {
         "Name": "Jan Mertl",
         "Sex": "M",
         "Hand": "R",
         "IOC": "CZE",
         "Won_Tournaments": 0,
         "Number_of_Matches": 40,
         "Win_Percentage": 0.4,
         "best_year_matches": 2016,
         "worst_year_matches": 2018,
         "best_year_wins": 2016,
         "worst_year_wins": 2018,
         "_deepnote_index_column": 43
        },
        {
         "Name": "Paul Henri Mathieu",
         "Sex": "M",
         "Hand": "R",
         "IOC": "FRA",
         "Won_Tournaments": 0,
         "Number_of_Matches": 96,
         "Win_Percentage": 0.4583333333333333,
         "best_year_matches": 2016,
         "worst_year_matches": 2017,
         "best_year_wins": 2016,
         "worst_year_wins": 2017,
         "_deepnote_index_column": 44
        }
       ],
       "rows_bottom": [
        {
         "Name": "Emiliano Troche",
         "Sex": "M",
         "Hand": "U",
         "IOC": "URU",
         "Won_Tournaments": 0,
         "Number_of_Matches": 2,
         "Win_Percentage": 0,
         "best_year_matches": 2020,
         "worst_year_matches": 2020,
         "best_year_wins": "nan",
         "worst_year_wins": "nan",
         "_deepnote_index_column": 2973
        },
        {
         "Name": "Timo Legout",
         "Sex": "M",
         "Hand": "R",
         "IOC": "FRA",
         "Won_Tournaments": 0,
         "Number_of_Matches": 1,
         "Win_Percentage": 0,
         "best_year_matches": 2021,
         "worst_year_matches": 2021,
         "best_year_wins": "nan",
         "worst_year_wins": "nan",
         "_deepnote_index_column": 2974
        },
        {
         "Name": "Marc Othman Ktiri ",
         "Sex": "M",
         "Hand": "U",
         "IOC": "ESP",
         "Won_Tournaments": 0,
         "Number_of_Matches": 1,
         "Win_Percentage": 0,
         "best_year_matches": 2021,
         "worst_year_matches": 2021,
         "best_year_wins": "nan",
         "worst_year_wins": "nan",
         "_deepnote_index_column": 2975
        },
        {
         "Name": "Daniel Rincon",
         "Sex": "M",
         "Hand": "L",
         "IOC": "ESP",
         "Won_Tournaments": 0,
         "Number_of_Matches": 1,
         "Win_Percentage": 0,
         "best_year_matches": 2021,
         "worst_year_matches": 2021,
         "best_year_wins": "nan",
         "worst_year_wins": "nan",
         "_deepnote_index_column": 2976
        },
        {
         "Name": "Luca Van Assche",
         "Sex": "M",
         "Hand": "R",
         "IOC": "FRA",
         "Won_Tournaments": 0,
         "Number_of_Matches": 3,
         "Win_Percentage": 0,
         "best_year_matches": 2021,
         "worst_year_matches": 2021,
         "best_year_wins": "nan",
         "worst_year_wins": "nan",
         "_deepnote_index_column": 2977
        },
        {
         "Name": "Gustavo Teisen Pereira",
         "Sex": "M",
         "Hand": "U",
         "IOC": "BRA",
         "Won_Tournaments": 0,
         "Number_of_Matches": 1,
         "Win_Percentage": 0,
         "best_year_matches": 2017,
         "worst_year_matches": 2017,
         "best_year_wins": "nan",
         "worst_year_wins": "nan",
         "_deepnote_index_column": 2978
        },
        {
         "Name": "Sascha Gueymard Wayenburg",
         "Sex": "M",
         "Hand": "R",
         "IOC": "FRA",
         "Won_Tournaments": 0,
         "Number_of_Matches": 1,
         "Win_Percentage": 0,
         "best_year_matches": 2021,
         "worst_year_matches": 2021,
         "best_year_wins": "nan",
         "worst_year_wins": "nan",
         "_deepnote_index_column": 2979
        },
        {
         "Name": "James Hopper",
         "Sex": "M",
         "Hand": "U",
         "IOC": "GBR",
         "Won_Tournaments": 0,
         "Number_of_Matches": 1,
         "Win_Percentage": 0,
         "best_year_matches": 2020,
         "worst_year_matches": 2020,
         "best_year_wins": "nan",
         "worst_year_wins": "nan",
         "_deepnote_index_column": 2980
        },
        {
         "Name": "Rostislav Galfinger",
         "Sex": "M",
         "Hand": "U",
         "IOC": "KAZ",
         "Won_Tournaments": 0,
         "Number_of_Matches": 1,
         "Win_Percentage": 0,
         "best_year_matches": 2020,
         "worst_year_matches": 2020,
         "best_year_wins": "nan",
         "worst_year_wins": "nan",
         "_deepnote_index_column": 2981
        },
        {
         "Name": "Leo Borg",
         "Sex": "M",
         "Hand": "R",
         "IOC": "SWE",
         "Won_Tournaments": 0,
         "Number_of_Matches": 8,
         "Win_Percentage": 0,
         "best_year_matches": 2021,
         "worst_year_matches": 2020,
         "best_year_wins": "nan",
         "worst_year_wins": "nan",
         "_deepnote_index_column": 2982
        },
        {
         "Name": "Karlis Ozolins",
         "Sex": "M",
         "Hand": "R",
         "IOC": "LAT",
         "Won_Tournaments": 0,
         "Number_of_Matches": 1,
         "Win_Percentage": 0,
         "best_year_matches": 2020,
         "worst_year_matches": 2020,
         "best_year_wins": "nan",
         "worst_year_wins": "nan",
         "_deepnote_index_column": 2983
        },
        {
         "Name": "Daniil Ostapenkov",
         "Sex": "M",
         "Hand": "R",
         "IOC": "BLR",
         "Won_Tournaments": 0,
         "Number_of_Matches": 1,
         "Win_Percentage": 0,
         "best_year_matches": 2020,
         "worst_year_matches": 2020,
         "best_year_wins": "nan",
         "worst_year_wins": "nan",
         "_deepnote_index_column": 2984
        },
        {
         "Name": "Kaipo Marshall",
         "Sex": "M",
         "Hand": "R",
         "IOC": "BAR",
         "Won_Tournaments": 0,
         "Number_of_Matches": 1,
         "Win_Percentage": 0,
         "best_year_matches": 2020,
         "worst_year_matches": 2020,
         "best_year_wins": "nan",
         "worst_year_wins": "nan",
         "_deepnote_index_column": 2985
        },
        {
         "Name": "Rodrigo Crespo Piedra",
         "Sex": "M",
         "Hand": "R",
         "IOC": "CRC",
         "Won_Tournaments": 0,
         "Number_of_Matches": 1,
         "Win_Percentage": 0,
         "best_year_matches": 2020,
         "worst_year_matches": 2020,
         "best_year_wins": "nan",
         "worst_year_wins": "nan",
         "_deepnote_index_column": 2986
        },
        {
         "Name": "Amr Elsayed Abdou Ahmed Mohamed",
         "Sex": "M",
         "Hand": "U",
         "IOC": "EGY",
         "Won_Tournaments": 0,
         "Number_of_Matches": 1,
         "Win_Percentage": 0,
         "best_year_matches": 2020,
         "worst_year_matches": 2020,
         "best_year_wins": "nan",
         "worst_year_wins": "nan",
         "_deepnote_index_column": 2987
        },
        {
         "Name": "Thehan Sanjaya Wijemanne",
         "Sex": "M",
         "Hand": "L",
         "IOC": "SRI",
         "Won_Tournaments": 0,
         "Number_of_Matches": 1,
         "Win_Percentage": 0,
         "best_year_matches": 2020,
         "worst_year_matches": 2020,
         "best_year_wins": "nan",
         "worst_year_wins": "nan",
         "_deepnote_index_column": 2988
        },
        {
         "Name": "Eric Jr. Olivarez",
         "Sex": "M",
         "Hand": "R",
         "IOC": "PHI",
         "Won_Tournaments": 0,
         "Number_of_Matches": 1,
         "Win_Percentage": 0,
         "best_year_matches": 2020,
         "worst_year_matches": 2020,
         "best_year_wins": "nan",
         "worst_year_wins": "nan",
         "_deepnote_index_column": 2989
        },
        {
         "Name": "Mili Poljicak ",
         "Sex": "M",
         "Hand": "U",
         "IOC": "CRO",
         "Won_Tournaments": 0,
         "Number_of_Matches": 2,
         "Win_Percentage": 0,
         "best_year_matches": 2021,
         "worst_year_matches": 2021,
         "best_year_wins": "nan",
         "worst_year_wins": "nan",
         "_deepnote_index_column": 2990
        },
        {
         "Name": "Guy Den Ouden",
         "Sex": "M",
         "Hand": "U",
         "IOC": "NED",
         "Won_Tournaments": 0,
         "Number_of_Matches": 1,
         "Win_Percentage": 0,
         "best_year_matches": 2021,
         "worst_year_matches": 2021,
         "best_year_wins": "nan",
         "worst_year_wins": "nan",
         "_deepnote_index_column": 2991
        },
        {
         "Name": "Mark Owen Endler",
         "Sex": "M",
         "Hand": "U",
         "IOC": "GER",
         "Won_Tournaments": 0,
         "Number_of_Matches": 1,
         "Win_Percentage": 0,
         "best_year_matches": 2021,
         "worst_year_matches": 2021,
         "best_year_wins": "nan",
         "worst_year_wins": "nan",
         "_deepnote_index_column": 2992
        },
        {
         "Name": "Marko Topo",
         "Sex": "M",
         "Hand": "U",
         "IOC": "SRB",
         "Won_Tournaments": 0,
         "Number_of_Matches": 2,
         "Win_Percentage": 0,
         "best_year_matches": 2021,
         "worst_year_matches": 2021,
         "best_year_wins": "nan",
         "worst_year_wins": "nan",
         "_deepnote_index_column": 2993
        },
        {
         "Name": "Hanwen Li",
         "Sex": "M",
         "Hand": "R",
         "IOC": "CHN",
         "Won_Tournaments": 0,
         "Number_of_Matches": 1,
         "Win_Percentage": 0,
         "best_year_matches": 2021,
         "worst_year_matches": 2021,
         "best_year_wins": "nan",
         "worst_year_wins": "nan",
         "_deepnote_index_column": 2994
        },
        {
         "Name": "Lukas Palovic",
         "Sex": "M",
         "Hand": "U",
         "IOC": "SVK",
         "Won_Tournaments": 0,
         "Number_of_Matches": 1,
         "Win_Percentage": 0,
         "best_year_matches": 2021,
         "worst_year_matches": 2021,
         "best_year_wins": "nan",
         "worst_year_wins": "nan",
         "_deepnote_index_column": 2995
        },
        {
         "Name": "Lukas Pokorny",
         "Sex": "M",
         "Hand": "U",
         "IOC": "SVK",
         "Won_Tournaments": 0,
         "Number_of_Matches": 1,
         "Win_Percentage": 0,
         "best_year_matches": 2021,
         "worst_year_matches": 2021,
         "best_year_wins": "nan",
         "worst_year_wins": "nan",
         "_deepnote_index_column": 2996
        },
        {
         "Name": "Lorenzo Claverie",
         "Sex": "M",
         "Hand": "R",
         "IOC": "ITA",
         "Won_Tournaments": 0,
         "Number_of_Matches": 4,
         "Win_Percentage": 0,
         "best_year_matches": 2021,
         "worst_year_matches": 2021,
         "best_year_wins": "nan",
         "worst_year_wins": "nan",
         "_deepnote_index_column": 2997
        },
        {
         "Name": "Sean Cuenin",
         "Sex": "M",
         "Hand": "U",
         "IOC": "FRA",
         "Won_Tournaments": 0,
         "Number_of_Matches": 1,
         "Win_Percentage": 0,
         "best_year_matches": 2021,
         "worst_year_matches": 2021,
         "best_year_wins": "nan",
         "worst_year_wins": "nan",
         "_deepnote_index_column": 2998
        },
        {
         "Name": "Danil Ozernoy",
         "Sex": "M",
         "Hand": "U",
         "IOC": "KAZ",
         "Won_Tournaments": 0,
         "Number_of_Matches": 4,
         "Win_Percentage": 0,
         "best_year_matches": 2021,
         "worst_year_matches": 2021,
         "best_year_wins": "nan",
         "worst_year_wins": "nan",
         "_deepnote_index_column": 2999
        },
        {
         "Name": "Aleksander Orlikowski",
         "Sex": "M",
         "Hand": "U",
         "IOC": "POL",
         "Won_Tournaments": 0,
         "Number_of_Matches": 1,
         "Win_Percentage": 0,
         "best_year_matches": 2021,
         "worst_year_matches": 2021,
         "best_year_wins": "nan",
         "worst_year_wins": "nan",
         "_deepnote_index_column": 3000
        },
        {
         "Name": "Milos Karol ",
         "Sex": "M",
         "Hand": "R",
         "IOC": "SVK",
         "Won_Tournaments": 0,
         "Number_of_Matches": 1,
         "Win_Percentage": 0,
         "best_year_matches": 2021,
         "worst_year_matches": 2021,
         "best_year_wins": "nan",
         "worst_year_wins": "nan",
         "_deepnote_index_column": 3001
        },
        {
         "Name": "Juncheng Shang",
         "Sex": "M",
         "Hand": "U",
         "IOC": "CHN",
         "Won_Tournaments": 0,
         "Number_of_Matches": 1,
         "Win_Percentage": 0,
         "best_year_matches": 2021,
         "worst_year_matches": 2021,
         "best_year_wins": "nan",
         "worst_year_wins": "nan",
         "_deepnote_index_column": 3002
        },
        {
         "Name": "Matej Galik",
         "Sex": "M",
         "Hand": "U",
         "IOC": "SVK",
         "Won_Tournaments": 0,
         "Number_of_Matches": 1,
         "Win_Percentage": 0,
         "best_year_matches": 2021,
         "worst_year_matches": 2021,
         "best_year_wins": "nan",
         "worst_year_wins": "nan",
         "_deepnote_index_column": 3003
        },
        {
         "Name": "Islam Orynbasar",
         "Sex": "M",
         "Hand": "U",
         "IOC": "KAZ",
         "Won_Tournaments": 0,
         "Number_of_Matches": 1,
         "Win_Percentage": 0,
         "best_year_matches": 2021,
         "worst_year_matches": 2021,
         "best_year_wins": "nan",
         "worst_year_wins": "nan",
         "_deepnote_index_column": 3004
        },
        {
         "Name": "Adam Jurajda",
         "Sex": "M",
         "Hand": "R",
         "IOC": "CZE",
         "Won_Tournaments": 0,
         "Number_of_Matches": 1,
         "Win_Percentage": 0,
         "best_year_matches": 2021,
         "worst_year_matches": 2021,
         "best_year_wins": "nan",
         "worst_year_wins": "nan",
         "_deepnote_index_column": 3005
        },
        {
         "Name": "Yerassyl Yerdilda",
         "Sex": "M",
         "Hand": "U",
         "IOC": "KAZ",
         "Won_Tournaments": 0,
         "Number_of_Matches": 1,
         "Win_Percentage": 0,
         "best_year_matches": 2021,
         "worst_year_matches": 2021,
         "best_year_wins": "nan",
         "worst_year_wins": "nan",
         "_deepnote_index_column": 3006
        },
        {
         "Name": "Kirill Kolganov",
         "Sex": "M",
         "Hand": "U",
         "IOC": "KAZ",
         "Won_Tournaments": 0,
         "Number_of_Matches": 1,
         "Win_Percentage": 0,
         "best_year_matches": 2021,
         "worst_year_matches": 2021,
         "best_year_wins": "nan",
         "worst_year_wins": "nan",
         "_deepnote_index_column": 3007
        },
        {
         "Name": "Juan Diego Rojas",
         "Sex": "M",
         "Hand": "U",
         "IOC": "ECU",
         "Won_Tournaments": 0,
         "Number_of_Matches": 1,
         "Win_Percentage": 0,
         "best_year_matches": 2021,
         "worst_year_matches": 2021,
         "best_year_wins": "nan",
         "worst_year_wins": "nan",
         "_deepnote_index_column": 3008
        },
        {
         "Name": "Omar Suarez",
         "Sex": "M",
         "Hand": "U",
         "IOC": "ECU",
         "Won_Tournaments": 0,
         "Number_of_Matches": 1,
         "Win_Percentage": 0,
         "best_year_matches": 2021,
         "worst_year_matches": 2021,
         "best_year_wins": "nan",
         "worst_year_wins": "nan",
         "_deepnote_index_column": 3009
        },
        {
         "Name": "Matthew William Donald",
         "Sex": "M",
         "Hand": "U",
         "IOC": "CZE",
         "Won_Tournaments": 0,
         "Number_of_Matches": 1,
         "Win_Percentage": 0,
         "best_year_matches": 2021,
         "worst_year_matches": 2021,
         "best_year_wins": "nan",
         "worst_year_wins": "nan",
         "_deepnote_index_column": 3010
        },
        {
         "Name": "Jakub Nicod",
         "Sex": "M",
         "Hand": "U",
         "IOC": "CZE",
         "Won_Tournaments": 0,
         "Number_of_Matches": 1,
         "Win_Percentage": 0,
         "best_year_matches": 2021,
         "worst_year_matches": 2021,
         "best_year_wins": "nan",
         "worst_year_wins": "nan",
         "_deepnote_index_column": 3011
        },
        {
         "Name": "Jakub Mensik",
         "Sex": "M",
         "Hand": "U",
         "IOC": "CZE",
         "Won_Tournaments": 0,
         "Number_of_Matches": 1,
         "Win_Percentage": 0,
         "best_year_matches": 2021,
         "worst_year_matches": 2021,
         "best_year_wins": "nan",
         "worst_year_wins": "nan",
         "_deepnote_index_column": 3012
        },
        {
         "Name": "Lui Maxted",
         "Sex": "M",
         "Hand": "U",
         "IOC": "GBR",
         "Won_Tournaments": 0,
         "Number_of_Matches": 2,
         "Win_Percentage": 0,
         "best_year_matches": 2021,
         "worst_year_matches": 2021,
         "best_year_wins": "nan",
         "worst_year_wins": "nan",
         "_deepnote_index_column": 3013
        },
        {
         "Name": "Lorenzo Angelini",
         "Sex": "M",
         "Hand": "U",
         "IOC": "ITA",
         "Won_Tournaments": 0,
         "Number_of_Matches": 1,
         "Win_Percentage": 0,
         "best_year_matches": 2021,
         "worst_year_matches": 2021,
         "best_year_wins": "nan",
         "worst_year_wins": "nan",
         "_deepnote_index_column": 3014
        },
        {
         "Name": "Michele Vianello",
         "Sex": "M",
         "Hand": "R",
         "IOC": "ITA",
         "Won_Tournaments": 0,
         "Number_of_Matches": 2,
         "Win_Percentage": 0,
         "best_year_matches": 2021,
         "worst_year_matches": 2021,
         "best_year_wins": "nan",
         "worst_year_wins": "nan",
         "_deepnote_index_column": 3015
        },
        {
         "Name": "William Jansen",
         "Sex": "M",
         "Hand": "L",
         "IOC": "GBR",
         "Won_Tournaments": 0,
         "Number_of_Matches": 1,
         "Win_Percentage": 0,
         "best_year_matches": 2021,
         "worst_year_matches": 2021,
         "best_year_wins": "nan",
         "worst_year_wins": "nan",
         "_deepnote_index_column": 3016
        },
        {
         "Name": "Jasza Szajrych",
         "Sex": "M",
         "Hand": "U",
         "IOC": "POL",
         "Won_Tournaments": 0,
         "Number_of_Matches": 1,
         "Win_Percentage": 0,
         "best_year_matches": 2021,
         "worst_year_matches": 2021,
         "best_year_wins": "nan",
         "worst_year_wins": "nan",
         "_deepnote_index_column": 3017
        }
       ]
      },
      "text/plain": "                   Name Sex Hand  IOC  Won_Tournaments  Number_of_Matches  \\\n0      Alexander Zverev   M    R  GER             17.0              378.0   \n1        Agustin Moreno   M    R  MEX              0.0                4.0   \n2           Martin Damm   M    L  USA              0.0                7.0   \n3     Gergely Kisgyorgy   M    R  HUN              0.0                2.0   \n4           Frank Moser   M    R  GER              0.0               11.0   \n...                 ...  ..  ...  ...              ...                ...   \n3013         Lui Maxted   M    U  GBR              0.0                2.0   \n3014   Lorenzo Angelini   M    U  ITA              0.0                1.0   \n3015   Michele Vianello   M    R  ITA              0.0                2.0   \n3016     William Jansen   M    L  GBR              0.0                1.0   \n3017     Jasza Szajrych   M    U  POL              0.0                1.0   \n\n      Win_Percentage  best_year_matches  worst_year_matches  best_year_wins  \\\n0           0.706349             2017.0              2020.0          2018.0   \n1           0.250000             2016.0              2016.0          2016.0   \n2           0.285714             2021.0              2018.0          2021.0   \n3           0.500000             2016.0              2016.0          2016.0   \n4           0.454545             2016.0              2017.0          2016.0   \n...              ...                ...                 ...             ...   \n3013        0.000000             2021.0              2021.0             NaN   \n3014        0.000000             2021.0              2021.0             NaN   \n3015        0.000000             2021.0              2021.0             NaN   \n3016        0.000000             2021.0              2021.0             NaN   \n3017        0.000000             2021.0              2021.0             NaN   \n\n      worst_year_wins  \n0              2020.0  \n1              2016.0  \n2              2021.0  \n3              2016.0  \n4              2016.0  \n...               ...  \n3013              NaN  \n3014              NaN  \n3015              NaN  \n3016              NaN  \n3017              NaN  \n\n[3018 rows x 11 columns]",
      "text/html": "<div>\n<style scoped>\n    .dataframe tbody tr th:only-of-type {\n        vertical-align: middle;\n    }\n\n    .dataframe tbody tr th {\n        vertical-align: top;\n    }\n\n    .dataframe thead th {\n        text-align: right;\n    }\n</style>\n<table border=\"1\" class=\"dataframe\">\n  <thead>\n    <tr style=\"text-align: right;\">\n      <th></th>\n      <th>Name</th>\n      <th>Sex</th>\n      <th>Hand</th>\n      <th>IOC</th>\n      <th>Won_Tournaments</th>\n      <th>Number_of_Matches</th>\n      <th>Win_Percentage</th>\n      <th>best_year_matches</th>\n      <th>worst_year_matches</th>\n      <th>best_year_wins</th>\n      <th>worst_year_wins</th>\n    </tr>\n  </thead>\n  <tbody>\n    <tr>\n      <th>0</th>\n      <td>Alexander Zverev</td>\n      <td>M</td>\n      <td>R</td>\n      <td>GER</td>\n      <td>17.0</td>\n      <td>378.0</td>\n      <td>0.706349</td>\n      <td>2017.0</td>\n      <td>2020.0</td>\n      <td>2018.0</td>\n      <td>2020.0</td>\n    </tr>\n    <tr>\n      <th>1</th>\n      <td>Agustin Moreno</td>\n      <td>M</td>\n      <td>R</td>\n      <td>MEX</td>\n      <td>0.0</td>\n      <td>4.0</td>\n      <td>0.250000</td>\n      <td>2016.0</td>\n      <td>2016.0</td>\n      <td>2016.0</td>\n      <td>2016.0</td>\n    </tr>\n    <tr>\n      <th>2</th>\n      <td>Martin Damm</td>\n      <td>M</td>\n      <td>L</td>\n      <td>USA</td>\n      <td>0.0</td>\n      <td>7.0</td>\n      <td>0.285714</td>\n      <td>2021.0</td>\n      <td>2018.0</td>\n      <td>2021.0</td>\n      <td>2021.0</td>\n    </tr>\n    <tr>\n      <th>3</th>\n      <td>Gergely Kisgyorgy</td>\n      <td>M</td>\n      <td>R</td>\n      <td>HUN</td>\n      <td>0.0</td>\n      <td>2.0</td>\n      <td>0.500000</td>\n      <td>2016.0</td>\n      <td>2016.0</td>\n      <td>2016.0</td>\n      <td>2016.0</td>\n    </tr>\n    <tr>\n      <th>4</th>\n      <td>Frank Moser</td>\n      <td>M</td>\n      <td>R</td>\n      <td>GER</td>\n      <td>0.0</td>\n      <td>11.0</td>\n      <td>0.454545</td>\n      <td>2016.0</td>\n      <td>2017.0</td>\n      <td>2016.0</td>\n      <td>2016.0</td>\n    </tr>\n    <tr>\n      <th>...</th>\n      <td>...</td>\n      <td>...</td>\n      <td>...</td>\n      <td>...</td>\n      <td>...</td>\n      <td>...</td>\n      <td>...</td>\n      <td>...</td>\n      <td>...</td>\n      <td>...</td>\n      <td>...</td>\n    </tr>\n    <tr>\n      <th>3013</th>\n      <td>Lui Maxted</td>\n      <td>M</td>\n      <td>U</td>\n      <td>GBR</td>\n      <td>0.0</td>\n      <td>2.0</td>\n      <td>0.000000</td>\n      <td>2021.0</td>\n      <td>2021.0</td>\n      <td>NaN</td>\n      <td>NaN</td>\n    </tr>\n    <tr>\n      <th>3014</th>\n      <td>Lorenzo Angelini</td>\n      <td>M</td>\n      <td>U</td>\n      <td>ITA</td>\n      <td>0.0</td>\n      <td>1.0</td>\n      <td>0.000000</td>\n      <td>2021.0</td>\n      <td>2021.0</td>\n      <td>NaN</td>\n      <td>NaN</td>\n    </tr>\n    <tr>\n      <th>3015</th>\n      <td>Michele Vianello</td>\n      <td>M</td>\n      <td>R</td>\n      <td>ITA</td>\n      <td>0.0</td>\n      <td>2.0</td>\n      <td>0.000000</td>\n      <td>2021.0</td>\n      <td>2021.0</td>\n      <td>NaN</td>\n      <td>NaN</td>\n    </tr>\n    <tr>\n      <th>3016</th>\n      <td>William Jansen</td>\n      <td>M</td>\n      <td>L</td>\n      <td>GBR</td>\n      <td>0.0</td>\n      <td>1.0</td>\n      <td>0.000000</td>\n      <td>2021.0</td>\n      <td>2021.0</td>\n      <td>NaN</td>\n      <td>NaN</td>\n    </tr>\n    <tr>\n      <th>3017</th>\n      <td>Jasza Szajrych</td>\n      <td>M</td>\n      <td>U</td>\n      <td>POL</td>\n      <td>0.0</td>\n      <td>1.0</td>\n      <td>0.000000</td>\n      <td>2021.0</td>\n      <td>2021.0</td>\n      <td>NaN</td>\n      <td>NaN</td>\n    </tr>\n  </tbody>\n</table>\n<p>3018 rows × 11 columns</p>\n</div>"
     },
     "metadata": {}
    }
   ]
  },
  {
   "cell_type": "markdown",
   "source": "Idee:\n\n- Dividere le statistiche dei player in base al tipo di surface dove giocano, come fatto nel sito https://www.atptour.com/en/players/novak-djokovic/d643/player-stats\n- Fare un'analisi separata maschi/femmine e poi confrontarla con le performance che ci sono nei tornei misti (se ne troviamo)\n\n",
   "metadata": {
    "tags": [],
    "cell_id": "00018-3d32f8d5-8544-48c0-9aa9-54cbd0e65a01",
    "deepnote_cell_type": "markdown"
   }
  },
  {
   "cell_type": "markdown",
   "source": "### Dataframe Player_game_statistics",
   "metadata": {
    "tags": [],
    "cell_id": "00019-9fd87dc3-507c-4576-a2b0-f91a5c78ca4d",
    "deepnote_cell_type": "markdown"
   }
  },
  {
   "cell_type": "markdown",
   "source": "- % ace su tot punti al servizio\n- % breakpoint salvati\n- % first serve points won\n- % vittorie per match lungo\n- % sconfitta per match breve",
   "metadata": {
    "tags": [],
    "cell_id": "00020-e8be24c4-c441-4c7c-9550-a10a73a081af",
    "deepnote_cell_type": "markdown"
   }
  },
  {
   "cell_type": "code",
   "metadata": {
    "tags": [],
    "cell_id": "00021-e742e987-f501-497a-9431-0a04828e9e98",
    "deepnote_to_be_reexecuted": true,
    "source_hash": "27f1b7ed",
    "execution_start": 1636648308605,
    "execution_millis": 422,
    "deepnote_cell_type": "code"
   },
   "source": "# ace = (#w_ace + #l_ace)/(#w_svpt + #l_svpt)\n# bp = (#w_bpsaved + #l_bpsaved)/(#w_bpfaced + #w_bpfaced)\n# first serve points won = (#w_1stWon + #l_1stWon)/(#w_1stln + #l_1stln:)\n# average rank = (#winner_rank + #loser_rank)/(tot_match)\n\ndf_matches_cleaned = pd.concat([df_male_matches, df_female_matches])\n\n#drop all the rows with at least one of the above attributes equal to null\nplayer_game_statistics = df_matches_cleaned[(df_matches_cleaned['w_ace'].notna()) & (df_matches_cleaned['w_svpt'].notna()) & (df_matches_cleaned['w_bpSaved'].notna()) \n                                    & (df_matches_cleaned['w_bpFaced'].notna()) & (df_matches_cleaned['w_1stIn'].notna()) & (df_matches_cleaned['w_1stWon'].notna()) \n                                    & (df_matches_cleaned['l_ace'].notna()) & (df_matches_cleaned['l_svpt'].notna()) & (df_matches_cleaned['l_bpSaved'].notna()) \n                                    & (df_matches_cleaned['l_bpFaced'].notna()) & (df_matches_cleaned['l_1stIn'].notna()) & (df_matches_cleaned['l_1stWon'].notna())\n                                    & (df_matches_cleaned['winner_rank'] > 0) & (df_matches_cleaned['loser_rank'] > 0)]",
   "execution_count": null,
   "outputs": []
  },
  {
   "cell_type": "code",
   "metadata": {
    "tags": [],
    "cell_id": "00023-c040b056-d4fd-4307-bdfb-71a3ac8897ba",
    "deepnote_to_be_reexecuted": true,
    "source_hash": "957a5ccb",
    "execution_start": 1636648314028,
    "execution_millis": 116812,
    "deepnote_cell_type": "code"
   },
   "source": "player_match_statistics = pd.DataFrame()\n\nplayer_names = list(set(list(player_game_statistics['winner_name'].unique()) + list(player_game_statistics['loser_name'].unique())))\n\nplayer_match_statistics['Name'] = player_names\n\nfor player_name in player_names:\n    df_player_winner = df_matches[df_matches['winner_name'] == player_name]\n    df_player_loser = df_matches[df_matches['loser_name'] == player_name]\n    \n    #Ace\n    ace_percent = (df_player_winner['w_ace'].sum() + df_player_winner['l_ace'].sum())/(df_player_winner['w_svpt'].sum() + df_player_winner['l_svpt'].sum())\n    \n    player_match_statistics.loc[player_match_statistics.Name == player_name, 'ace_percent'] = ace_percent\n\n    #Break Point\n    break_point = (df_player_winner['w_bpSaved'].sum() + df_player_winner['l_bpSaved'].sum())/(df_player_winner['w_bpFaced'].sum() + df_player_winner['l_bpFaced'].sum())\n    \n    player_match_statistics.loc[player_match_statistics.Name == player_name, 'break_point'] = break_point\n\n    # First Serve Points Won\n    fspw = (df_player_winner['w_1stWon'].sum() + df_player_winner['l_1stWon'].sum())/(df_player_winner['w_1stIn'].sum() + df_player_winner['l_1stIn'].sum())\n\n    player_match_statistics.loc[player_match_statistics.Name == player_name, 'fspw'] = fspw\n    \n    # Average Rank\n    average_rank = (df_player_winner['winner_rank'].sum() + df_player_winner['loser_rank'].sum())/(df_player_winner.shape[0] + df_player_loser.shape[0])\n\n    player_match_statistics.loc[player_match_statistics.Name == player_name, 'average_rank'] = round(average_rank)\n\nplayer_match_statistics\n",
   "execution_count": null,
   "outputs": [
    {
     "name": "stderr",
     "text": "/shared-libs/python3.7/py-core/lib/python3.7/site-packages/ipykernel_launcher.py:12: RuntimeWarning: invalid value encountered in double_scalars\n  if sys.path[0] == '':\n/shared-libs/python3.7/py-core/lib/python3.7/site-packages/ipykernel_launcher.py:17: RuntimeWarning: invalid value encountered in double_scalars\n/shared-libs/python3.7/py-core/lib/python3.7/site-packages/ipykernel_launcher.py:22: RuntimeWarning: invalid value encountered in double_scalars\n/shared-libs/python3.7/py-core/lib/python3.7/site-packages/ipykernel_launcher.py:27: RuntimeWarning: invalid value encountered in long_scalars\n",
     "output_type": "stream"
    },
    {
     "output_type": "execute_result",
     "execution_count": 53,
     "data": {
      "application/vnd.deepnote.dataframe.v2+json": {
       "row_count": 3038,
       "column_count": 5,
       "columns": [
        {
         "name": "Name",
         "dtype": "object",
         "stats": {
          "unique_count": 3037,
          "nan_count": 1,
          "categories": [
           {
            "name": "Gonzalo Villanueva",
            "count": 1
           },
           {
            "name": "3036 others",
            "count": 3036
           },
           {
            "name": "Missing",
            "count": 1
           }
          ]
         }
        },
        {
         "name": "ace_percent",
         "dtype": "float64",
         "stats": {
          "unique_count": 2067,
          "nan_count": 792,
          "min": "0.0",
          "max": "0.1756469645780363",
          "histogram": [
           {
            "bin_start": 0,
            "bin_end": 0.01756469645780363,
            "count": 241
           },
           {
            "bin_start": 0.01756469645780363,
            "bin_end": 0.03512939291560726,
            "count": 521
           },
           {
            "bin_start": 0.03512939291560726,
            "bin_end": 0.052694089373410885,
            "count": 587
           },
           {
            "bin_start": 0.052694089373410885,
            "bin_end": 0.07025878583121452,
            "count": 449
           },
           {
            "bin_start": 0.07025878583121452,
            "bin_end": 0.08782348228901815,
            "count": 272
           },
           {
            "bin_start": 0.08782348228901815,
            "bin_end": 0.10538817874682177,
            "count": 111
           },
           {
            "bin_start": 0.10538817874682177,
            "bin_end": 0.1229528752046254,
            "count": 40
           },
           {
            "bin_start": 0.1229528752046254,
            "bin_end": 0.14051757166242904,
            "count": 12
           },
           {
            "bin_start": 0.14051757166242904,
            "bin_end": 0.15808226812023266,
            "count": 6
           },
           {
            "bin_start": 0.15808226812023266,
            "bin_end": 0.1756469645780363,
            "count": 7
           }
          ]
         }
        },
        {
         "name": "break_point",
         "dtype": "float64",
         "stats": {
          "unique_count": 1482,
          "nan_count": 793,
          "min": "0.0",
          "max": "1.0",
          "histogram": [
           {
            "bin_start": 0,
            "bin_end": 0.1,
            "count": 1
           },
           {
            "bin_start": 0.1,
            "bin_end": 0.2,
            "count": 2
           },
           {
            "bin_start": 0.2,
            "bin_end": 0.30000000000000004,
            "count": 24
           },
           {
            "bin_start": 0.30000000000000004,
            "bin_end": 0.4,
            "count": 57
           },
           {
            "bin_start": 0.4,
            "bin_end": 0.5,
            "count": 244
           },
           {
            "bin_start": 0.5,
            "bin_end": 0.6000000000000001,
            "count": 1322
           },
           {
            "bin_start": 0.6000000000000001,
            "bin_end": 0.7000000000000001,
            "count": 535
           },
           {
            "bin_start": 0.7000000000000001,
            "bin_end": 0.8,
            "count": 47
           },
           {
            "bin_start": 0.8,
            "bin_end": 0.9,
            "count": 10
           },
           {
            "bin_start": 0.9,
            "bin_end": 1,
            "count": 3
           }
          ]
         }
        },
        {
         "name": "fspw",
         "dtype": "float64",
         "stats": {
          "unique_count": 2067,
          "nan_count": 792,
          "min": "0.0",
          "max": "0.8615384615384616",
          "histogram": [
           {
            "bin_start": 0,
            "bin_end": 0.08615384615384616,
            "count": 1
           },
           {
            "bin_start": 0.08615384615384616,
            "bin_end": 0.17230769230769233,
            "count": 0
           },
           {
            "bin_start": 0.17230769230769233,
            "bin_end": 0.2584615384615385,
            "count": 0
           },
           {
            "bin_start": 0.2584615384615385,
            "bin_end": 0.34461538461538466,
            "count": 0
           },
           {
            "bin_start": 0.34461538461538466,
            "bin_end": 0.4307692307692308,
            "count": 2
           },
           {
            "bin_start": 0.4307692307692308,
            "bin_end": 0.516923076923077,
            "count": 16
           },
           {
            "bin_start": 0.516923076923077,
            "bin_end": 0.6030769230769232,
            "count": 294
           },
           {
            "bin_start": 0.6030769230769232,
            "bin_end": 0.6892307692307693,
            "count": 1149
           },
           {
            "bin_start": 0.6892307692307693,
            "bin_end": 0.7753846153846154,
            "count": 754
           },
           {
            "bin_start": 0.7753846153846154,
            "bin_end": 0.8615384615384616,
            "count": 30
           }
          ]
         }
        },
        {
         "name": "average_rank",
         "dtype": "float64",
         "stats": {
          "unique_count": 2478,
          "nan_count": 1,
          "min": "-0.6666666666666666",
          "max": "2954.0",
          "histogram": [
           {
            "bin_start": -0.6666666666666666,
            "bin_end": 294.79999999999995,
            "count": 1315
           },
           {
            "bin_start": 294.79999999999995,
            "bin_end": 590.2666666666667,
            "count": 1240
           },
           {
            "bin_start": 590.2666666666667,
            "bin_end": 885.7333333333332,
            "count": 380
           },
           {
            "bin_start": 885.7333333333332,
            "bin_end": 1181.1999999999998,
            "count": 70
           },
           {
            "bin_start": 1181.1999999999998,
            "bin_end": 1476.6666666666665,
            "count": 19
           },
           {
            "bin_start": 1476.6666666666665,
            "bin_end": 1772.133333333333,
            "count": 8
           },
           {
            "bin_start": 1772.133333333333,
            "bin_end": 2067.6,
            "count": 2
           },
           {
            "bin_start": 2067.6,
            "bin_end": 2363.0666666666666,
            "count": 0
           },
           {
            "bin_start": 2363.0666666666666,
            "bin_end": 2658.5333333333333,
            "count": 0
           },
           {
            "bin_start": 2658.5333333333333,
            "bin_end": 2954,
            "count": 3
           }
          ]
         }
        },
        {
         "name": "_deepnote_index_column",
         "dtype": "int64"
        }
       ],
       "rows_top": [
        {
         "Name": "nan",
         "ace_percent": "nan",
         "break_point": "nan",
         "fspw": "nan",
         "average_rank": "nan",
         "_deepnote_index_column": 0
        },
        {
         "Name": "Gonzalo Villanueva",
         "ace_percent": 0.034550623223267005,
         "break_point": 0.5463709677419355,
         "fspw": 0.6458630527817404,
         "average_rank": 500.76190476190476,
         "_deepnote_index_column": 1
        },
        {
         "Name": "Ben Patael",
         "ace_percent": 0.06104129263913824,
         "break_point": 0.581081081081081,
         "fspw": 0.6567055393586005,
         "average_rank": 466.525,
         "_deepnote_index_column": 2
        },
        {
         "Name": "Filipe Brandao",
         "ace_percent": 0.03260869565217391,
         "break_point": 0.5,
         "fspw": 0.5192307692307693,
         "average_rank": 380,
         "_deepnote_index_column": 3
        },
        {
         "Name": "Tim Puetz",
         "ace_percent": 0.09123728257302265,
         "break_point": 0.5984251968503937,
         "fspw": 0.7149046793760832,
         "average_rank": 447.2368421052632,
         "_deepnote_index_column": 4
        },
        {
         "Name": "DUPE Barbora Palicova",
         "ace_percent": "nan",
         "break_point": "nan",
         "fspw": "nan",
         "average_rank": 0,
         "_deepnote_index_column": 5
        },
        {
         "Name": "Nicolas Kicker",
         "ace_percent": 0.040140425250049676,
         "break_point": 0.5644847699287103,
         "fspw": 0.6593638087212976,
         "average_rank": 278.26666666666665,
         "_deepnote_index_column": 6
        },
        {
         "Name": "Kimberly Birrell",
         "ace_percent": 0.04979811574697174,
         "break_point": 0.632183908045977,
         "fspw": 0.6461038961038961,
         "average_rank": 294.32323232323233,
         "_deepnote_index_column": 7
        },
        {
         "Name": "Mike Urbanija",
         "ace_percent": "nan",
         "break_point": "nan",
         "fspw": "nan",
         "average_rank": 0,
         "_deepnote_index_column": 8
        },
        {
         "Name": "Nicaise Muamba",
         "ace_percent": 0.026865671641791045,
         "break_point": 0.7419354838709677,
         "fspw": 0.7323232323232324,
         "average_rank": 130.6153846153846,
         "_deepnote_index_column": 9
        },
        {
         "Name": "Sho Shimabukuro",
         "ace_percent": 0.05436668594563331,
         "break_point": 0.6036585365853658,
         "fspw": 0.6821862348178138,
         "average_rank": 784.6190476190476,
         "_deepnote_index_column": 10
        },
        {
         "Name": "Alex Kuznetsov",
         "ace_percent": 0.0731004681310767,
         "break_point": 0.611764705882353,
         "fspw": 0.7065613608748481,
         "average_rank": 446.9655172413793,
         "_deepnote_index_column": 11
        },
        {
         "Name": "Irene Burillo Escorihuela",
         "ace_percent": 0,
         "break_point": 0.5294117647058824,
         "fspw": 0.5411764705882353,
         "average_rank": 529.5089605734767,
         "_deepnote_index_column": 12
        },
        {
         "Name": "Andreas Beck",
         "ace_percent": 0.05999220880405142,
         "break_point": 0.5867768595041323,
         "fspw": 0.6926546391752577,
         "average_rank": 446.4193548387097,
         "_deepnote_index_column": 13
        },
        {
         "Name": "Ricardas Berankis",
         "ace_percent": 0.06494800693240901,
         "break_point": 0.607436021245775,
         "fspw": 0.7028760902472428,
         "average_rank": 192.48387096774192,
         "_deepnote_index_column": 14
        },
        {
         "Name": "Megan Mccray",
         "ace_percent": "nan",
         "break_point": "nan",
         "fspw": "nan",
         "average_rank": 289.43333333333334,
         "_deepnote_index_column": 15
        },
        {
         "Name": "Mauricio Resendiz Dominguez",
         "ace_percent": "nan",
         "break_point": "nan",
         "fspw": "nan",
         "average_rank": 0,
         "_deepnote_index_column": 16
        },
        {
         "Name": "Angelica Moratelli",
         "ace_percent": 0.0273972602739726,
         "break_point": 0.6190476190476191,
         "fspw": 0.5824175824175825,
         "average_rank": 678.6807692307692,
         "_deepnote_index_column": 17
        },
        {
         "Name": "Sohyun Park",
         "ace_percent": 0.03067484662576687,
         "break_point": 0.5652173913043478,
         "fspw": 0.6559139784946236,
         "average_rank": 539.266129032258,
         "_deepnote_index_column": 18
        },
        {
         "Name": "Nuno Deus",
         "ace_percent": "nan",
         "break_point": "nan",
         "fspw": "nan",
         "average_rank": 0,
         "_deepnote_index_column": 19
        },
        {
         "Name": "Holger Rune",
         "ace_percent": 0.03268824199056757,
         "break_point": 0.5702614379084967,
         "fspw": 0.6579566239874576,
         "average_rank": 356.64285714285717,
         "_deepnote_index_column": 20
        },
        {
         "Name": "Gonzales Austin",
         "ace_percent": 0.04394224733207784,
         "break_point": 0.5283018867924528,
         "fspw": 0.6900647948164147,
         "average_rank": 935.2352941176471,
         "_deepnote_index_column": 21
        },
        {
         "Name": "Maria Irigoyen",
         "ace_percent": 0.012048192771084338,
         "break_point": 0.4523809523809524,
         "fspw": 0.5798319327731093,
         "average_rank": 237.2941176470588,
         "_deepnote_index_column": 22
        },
        {
         "Name": "Cristobal Grandon Diaz",
         "ace_percent": "nan",
         "break_point": "nan",
         "fspw": "nan",
         "average_rank": 0,
         "_deepnote_index_column": 23
        },
        {
         "Name": "Marat Deviatiarov",
         "ace_percent": 0.0440251572327044,
         "break_point": 0.6111111111111112,
         "fspw": 0.6888888888888889,
         "average_rank": 1107.5,
         "_deepnote_index_column": 24
        },
        {
         "Name": "Alexander Ritschard",
         "ace_percent": 0.05646359583952452,
         "break_point": 0.5803324099722992,
         "fspw": 0.6698137279918347,
         "average_rank": 423,
         "_deepnote_index_column": 25
        },
        {
         "Name": "Jaqueline Adina Cristian",
         "ace_percent": 0.03608247422680412,
         "break_point": 0.5435684647302904,
         "fspw": 0.6324655436447167,
         "average_rank": 447.4896551724138,
         "_deepnote_index_column": 26
        },
        {
         "Name": "Stephanie Nemtsova",
         "ace_percent": "nan",
         "break_point": "nan",
         "fspw": "nan",
         "average_rank": 521.6792452830189,
         "_deepnote_index_column": 27
        },
        {
         "Name": "David Goffin",
         "ace_percent": 0.07398729884703126,
         "break_point": 0.5823358136525396,
         "fspw": 0.6975735673722251,
         "average_rank": 50.01875,
         "_deepnote_index_column": 28
        },
        {
         "Name": "Oscar Torres",
         "ace_percent": "nan",
         "break_point": "nan",
         "fspw": "nan",
         "average_rank": 0,
         "_deepnote_index_column": 29
        },
        {
         "Name": "Gavin Van Peperzeel",
         "ace_percent": 0.07479431563201197,
         "break_point": 0.6693227091633466,
         "fspw": 0.6882591093117408,
         "average_rank": 685.4242424242424,
         "_deepnote_index_column": 30
        },
        {
         "Name": "Brittany Collens",
         "ace_percent": "nan",
         "break_point": "nan",
         "fspw": "nan",
         "average_rank": 118.3,
         "_deepnote_index_column": 31
        },
        {
         "Name": "Fabrizio Ornago",
         "ace_percent": 0.05255527364987314,
         "break_point": 0.5662100456621004,
         "fspw": 0.6858485026423957,
         "average_rank": 316.6666666666667,
         "_deepnote_index_column": 32
        },
        {
         "Name": "Ugo Humbert",
         "ace_percent": 0.0844132376477877,
         "break_point": 0.6443729903536978,
         "fspw": 0.7338190443917316,
         "average_rank": 173.02739726027397,
         "_deepnote_index_column": 33
        },
        {
         "Name": "Gregorio Cordonnier",
         "ace_percent": "nan",
         "break_point": "nan",
         "fspw": "nan",
         "average_rank": 0,
         "_deepnote_index_column": 34
        },
        {
         "Name": "Kirill Kivattsev",
         "ace_percent": 0.10531914893617021,
         "break_point": 0.6721311475409836,
         "fspw": 0.7693726937269373,
         "average_rank": 426.84615384615387,
         "_deepnote_index_column": 35
        },
        {
         "Name": "Botic van de Zandschulp",
         "ace_percent": 0.058218297179113435,
         "break_point": 0.559410234171726,
         "fspw": 0.6821574426137164,
         "average_rank": 281.4379562043796,
         "_deepnote_index_column": 36
        },
        {
         "Name": "Veronica Cepede Royg",
         "ace_percent": 0.020040860005837144,
         "break_point": 0.546801872074883,
         "fspw": 0.6061120543293718,
         "average_rank": 203.17391304347825,
         "_deepnote_index_column": 37
        },
        {
         "Name": "Joao Lucas Reis Da Silva",
         "ace_percent": 0.035398230088495575,
         "break_point": 0.5714285714285714,
         "fspw": 0.6949152542372882,
         "average_rank": 252.5,
         "_deepnote_index_column": 38
        },
        {
         "Name": "Olga Govortsova",
         "ace_percent": 0.02410099464422341,
         "break_point": 0.5164670658682635,
         "fspw": 0.5935273159144893,
         "average_rank": 292.9351351351351,
         "_deepnote_index_column": 39
        },
        {
         "Name": "Maryna Zanevska",
         "ace_percent": 0.029688972667295005,
         "break_point": 0.552434456928839,
         "fspw": 0.6307811892732219,
         "average_rank": 287.62730627306274,
         "_deepnote_index_column": 40
        },
        {
         "Name": "Kiranpal Pannu",
         "ace_percent": "nan",
         "break_point": "nan",
         "fspw": "nan",
         "average_rank": 0,
         "_deepnote_index_column": 41
        },
        {
         "Name": "Anderson Reed",
         "ace_percent": "nan",
         "break_point": "nan",
         "fspw": "nan",
         "average_rank": 0,
         "_deepnote_index_column": 42
        },
        {
         "Name": "Adrian Ungur",
         "ace_percent": 0.03995709305443819,
         "break_point": 0.5422343324250681,
         "fspw": 0.6653508771929825,
         "average_rank": 266.04347826086956,
         "_deepnote_index_column": 43
        },
        {
         "Name": "Erika Sema",
         "ace_percent": 0.01338199513381995,
         "break_point": 0.6062992125984252,
         "fspw": 0.5986159169550173,
         "average_rank": 421.85425101214577,
         "_deepnote_index_column": 44
        },
        {
         "Name": "Kai Lin Zhang",
         "ace_percent": 0.018629254829806808,
         "break_point": 0.5255972696245734,
         "fspw": 0.6057959507741167,
         "average_rank": 597.6454545454545,
         "_deepnote_index_column": 45
        },
        {
         "Name": "Katerina Siniakova",
         "ace_percent": 0.032028958944281524,
         "break_point": 0.5252798147433423,
         "fspw": 0.6246987951807229,
         "average_rank": 67.6219512195122,
         "_deepnote_index_column": 46
        },
        {
         "Name": "Alexandra Vagramov",
         "ace_percent": "nan",
         "break_point": "nan",
         "fspw": "nan",
         "average_rank": 357,
         "_deepnote_index_column": 47
        },
        {
         "Name": "Raveena Kingsley",
         "ace_percent": 0.01694915254237288,
         "break_point": 0.5294117647058824,
         "fspw": 0.7238095238095238,
         "average_rank": 414.7837837837838,
         "_deepnote_index_column": 48
        },
        {
         "Name": "Sharmal Dissanayake",
         "ace_percent": 0.05339805825242718,
         "break_point": 0.5737704918032787,
         "fspw": 0.6194029850746269,
         "average_rank": 1341,
         "_deepnote_index_column": 49
        },
        {
         "Name": "Ricardo David Mayagoitia",
         "ace_percent": "nan",
         "break_point": "nan",
         "fspw": "nan",
         "average_rank": 0,
         "_deepnote_index_column": 50
        },
        {
         "Name": "Jose Fernando Carvajal Torres",
         "ace_percent": 0.03806228373702422,
         "break_point": 0.5833333333333334,
         "fspw": 0.6257668711656442,
         "average_rank": 657.1111111111111,
         "_deepnote_index_column": 51
        },
        {
         "Name": "Tobias Kamke",
         "ace_percent": 0.04410445792666842,
         "break_point": 0.5664335664335665,
         "fspw": 0.6764811168784679,
         "average_rank": 236.2721088435374,
         "_deepnote_index_column": 52
        },
        {
         "Name": "Franco Feitt",
         "ace_percent": "nan",
         "break_point": "nan",
         "fspw": "nan",
         "average_rank": 0,
         "_deepnote_index_column": 53
        },
        {
         "Name": "Maxime Tabatruong",
         "ace_percent": 0.05887560867640549,
         "break_point": 0.5900900900900901,
         "fspw": 0.6837672281776417,
         "average_rank": 424.5128205128205,
         "_deepnote_index_column": 54
        },
        {
         "Name": "Nathan Pasha",
         "ace_percent": 0.05378973105134474,
         "break_point": 0.6927374301675978,
         "fspw": 0.6663644605621033,
         "average_rank": 616.9032258064516,
         "_deepnote_index_column": 55
        },
        {
         "Name": "Evita Ramirez",
         "ace_percent": 0,
         "break_point": 0.3157894736842105,
         "fspw": 0.5970149253731343,
         "average_rank": 376.15686274509807,
         "_deepnote_index_column": 56
        },
        {
         "Name": "Cheng Yu Yu",
         "ace_percent": 0.09895833333333333,
         "break_point": 0.47058823529411764,
         "fspw": 0.7017543859649122,
         "average_rank": 98.92307692307692,
         "_deepnote_index_column": 57
        },
        {
         "Name": "Billy Harris",
         "ace_percent": 0.07954545454545454,
         "break_point": 0.6363636363636364,
         "fspw": 0.6858974358974359,
         "average_rank": 478.6666666666667,
         "_deepnote_index_column": 58
        },
        {
         "Name": "Bernarda Pera",
         "ace_percent": 0.0408298755186722,
         "break_point": 0.5494505494505495,
         "fspw": 0.6462942477876106,
         "average_rank": 163.11080332409972,
         "_deepnote_index_column": 59
        },
        {
         "Name": "Vasisht Cheruku",
         "ace_percent": "nan",
         "break_point": "nan",
         "fspw": "nan",
         "average_rank": 0,
         "_deepnote_index_column": 60
        },
        {
         "Name": "Kacper Zuk",
         "ace_percent": 0.07421590080233406,
         "break_point": 0.5797101449275363,
         "fspw": 0.6977521263669502,
         "average_rank": 335.48,
         "_deepnote_index_column": 61
        },
        {
         "Name": "Chan Yeong Oh",
         "ace_percent": 0.03255813953488372,
         "break_point": 0.36363636363636365,
         "fspw": 0.6637168141592921,
         "average_rank": 397.9,
         "_deepnote_index_column": 62
        },
        {
         "Name": "Ken Onoda",
         "ace_percent": 0.13836477987421383,
         "break_point": 0.5625,
         "fspw": 0.7209302325581395,
         "average_rank": 550.8,
         "_deepnote_index_column": 63
        },
        {
         "Name": "Filip Dolezel",
         "ace_percent": "nan",
         "break_point": "nan",
         "fspw": "nan",
         "average_rank": 0,
         "_deepnote_index_column": 64
        },
        {
         "Name": "Juan Martin del Potro",
         "ace_percent": 0.10547749949093871,
         "break_point": 0.5974376264329063,
         "fspw": 0.7386207454119169,
         "average_rank": 93.70520231213872,
         "_deepnote_index_column": 65
        },
        {
         "Name": "Mauricio Alvarez Guzman",
         "ace_percent": "nan",
         "break_point": "nan",
         "fspw": "nan",
         "average_rank": 0,
         "_deepnote_index_column": 66
        },
        {
         "Name": "Daniel Mora",
         "ace_percent": 0,
         "break_point": 0.42105263157894735,
         "fspw": 0.4797687861271676,
         "average_rank": 330.27272727272725,
         "_deepnote_index_column": 67
        },
        {
         "Name": "Xiao Gong",
         "ace_percent": "nan",
         "break_point": "nan",
         "fspw": "nan",
         "average_rank": 0,
         "_deepnote_index_column": 68
        },
        {
         "Name": "Mirza Basic",
         "ace_percent": 0.08172183434627556,
         "break_point": 0.6094215861657722,
         "fspw": 0.7184148793565683,
         "average_rank": 244.81138790035587,
         "_deepnote_index_column": 69
        },
        {
         "Name": "Corrado Summaria",
         "ace_percent": 0.024806201550387597,
         "break_point": 0.5757575757575758,
         "fspw": 0.630071599045346,
         "average_rank": 669.9,
         "_deepnote_index_column": 70
        },
        {
         "Name": "Savriyan Danilov",
         "ace_percent": 0.05142857142857143,
         "break_point": 0.5384615384615384,
         "fspw": 0.6621621621621622,
         "average_rank": 535.6666666666666,
         "_deepnote_index_column": 71
        },
        {
         "Name": "Woong Sun Jun",
         "ace_percent": "nan",
         "break_point": "nan",
         "fspw": "nan",
         "average_rank": 0,
         "_deepnote_index_column": 72
        },
        {
         "Name": "Scott Griekspoor",
         "ace_percent": 0.07548669050456894,
         "break_point": 0.627039627039627,
         "fspw": 0.7168694508385399,
         "average_rank": 293.6625,
         "_deepnote_index_column": 73
        },
        {
         "Name": "Storm Sanders",
         "ace_percent": 0.03667679837892604,
         "break_point": 0.5452991452991452,
         "fspw": 0.623179022337326,
         "average_rank": 281.10655737704917,
         "_deepnote_index_column": 74
        },
        {
         "Name": "Hugo Gaston",
         "ace_percent": 0.03835373948960023,
         "break_point": 0.5594202898550724,
         "fspw": 0.6446840521564694,
         "average_rank": 208.37777777777777,
         "_deepnote_index_column": 75
        },
        {
         "Name": "Gabriel Diallo",
         "ace_percent": "nan",
         "break_point": "nan",
         "fspw": "nan",
         "average_rank": 0,
         "_deepnote_index_column": 76
        },
        {
         "Name": "Yanina Wickmayer",
         "ace_percent": 0.04839016955610592,
         "break_point": 0.5596885813148789,
         "fspw": 0.650786308973173,
         "average_rank": 149.9245283018868,
         "_deepnote_index_column": 77
        },
        {
         "Name": "Franko Skugor",
         "ace_percent": 0.07441253263707572,
         "break_point": 0.594859241126071,
         "fspw": 0.711277410372433,
         "average_rank": 284.0820895522388,
         "_deepnote_index_column": 78
        },
        {
         "Name": "Alison Bai",
         "ace_percent": 0.06712564543889846,
         "break_point": 0.39285714285714285,
         "fspw": 0.6631853785900783,
         "average_rank": 320.27972027972027,
         "_deepnote_index_column": 79
        },
        {
         "Name": "Nicolas Alejandro De Gregorio",
         "ace_percent": 0,
         "break_point": 0.6153846153846154,
         "fspw": 0.6410256410256411,
         "average_rank": 554.4,
         "_deepnote_index_column": 80
        },
        {
         "Name": "Quirine Lemoine",
         "ace_percent": 0.011750881316098707,
         "break_point": 0.5354330708661418,
         "fspw": 0.5795246800731262,
         "average_rank": 447.7807486631016,
         "_deepnote_index_column": 81
        },
        {
         "Name": "Franco Roncadelli",
         "ace_percent": "nan",
         "break_point": "nan",
         "fspw": "nan",
         "average_rank": 0,
         "_deepnote_index_column": 82
        },
        {
         "Name": "Sam Querrey",
         "ace_percent": 0.14006803727259282,
         "break_point": 0.6302083333333334,
         "fspw": 0.7692931915929563,
         "average_rank": 90.19396551724138,
         "_deepnote_index_column": 83
        },
        {
         "Name": "Radu Albot",
         "ace_percent": 0.0488167998746278,
         "break_point": 0.5844580777096114,
         "fspw": 0.6723393605706063,
         "average_rank": 157.11275964391692,
         "_deepnote_index_column": 84
        },
        {
         "Name": "Max Wennakoski",
         "ace_percent": 0.06093189964157706,
         "break_point": 0.6,
         "fspw": 0.7133757961783439,
         "average_rank": 1528.6666666666667,
         "_deepnote_index_column": 85
        },
        {
         "Name": "Arantxa Rus",
         "ace_percent": 0.030933909456938035,
         "break_point": 0.5504065040650407,
         "fspw": 0.6148159324079662,
         "average_rank": 287.11082474226805,
         "_deepnote_index_column": 86
        },
        {
         "Name": "Lesia Tsurenko",
         "ace_percent": 0.024676695698073372,
         "break_point": 0.5275113579000504,
         "fspw": 0.6003900636419627,
         "average_rank": 101.21363636363637,
         "_deepnote_index_column": 87
        },
        {
         "Name": "Rocio De La Torre Sanchez",
         "ace_percent": "nan",
         "break_point": "nan",
         "fspw": "nan",
         "average_rank": 962.4814814814815,
         "_deepnote_index_column": 88
        },
        {
         "Name": "Cameron Morra",
         "ace_percent": "nan",
         "break_point": "nan",
         "fspw": "nan",
         "average_rank": 71.6,
         "_deepnote_index_column": 89
        },
        {
         "Name": "Svetlana Kuznetsova",
         "ace_percent": 0.035609551738583996,
         "break_point": 0.5262881177707676,
         "fspw": 0.6256400707569127,
         "average_rank": 67.16,
         "_deepnote_index_column": 90
        },
        {
         "Name": "Cristian Rodriguez",
         "ace_percent": 0.0533731853116994,
         "break_point": 0.6148491879350348,
         "fspw": 0.6967301473230327,
         "average_rank": 523.4657534246576,
         "_deepnote_index_column": 91
        },
        {
         "Name": "Igor Zelenay",
         "ace_percent": 0.07923771313941826,
         "break_point": 0.6346153846153846,
         "fspw": 0.6768,
         "average_rank": 434.84615384615387,
         "_deepnote_index_column": 92
        },
        {
         "Name": "Shahin Khaledan",
         "ace_percent": "nan",
         "break_point": "nan",
         "fspw": "nan",
         "average_rank": 664.6666666666666,
         "_deepnote_index_column": 93
        },
        {
         "Name": "Facundo Bagnis",
         "ace_percent": 0.054234187140616834,
         "break_point": 0.5998026964814206,
         "fspw": 0.6821397474967349,
         "average_rank": 232.57422969187675,
         "_deepnote_index_column": 94
        },
        {
         "Name": "Timur Khabibulin",
         "ace_percent": 0.06003898635477583,
         "break_point": 0.5719844357976653,
         "fspw": 0.6838885112168592,
         "average_rank": 450.1730769230769,
         "_deepnote_index_column": 95
        },
        {
         "Name": "Simon Carr",
         "ace_percent": 0.055944055944055944,
         "break_point": 0.6153846153846154,
         "fspw": 0.6988636363636364,
         "average_rank": 124.64285714285714,
         "_deepnote_index_column": 96
        },
        {
         "Name": "Evgeny Elistratov",
         "ace_percent": 0.05025125628140704,
         "break_point": 0.52,
         "fspw": 0.6266094420600858,
         "average_rank": 468.5,
         "_deepnote_index_column": 97
        },
        {
         "Name": "Lauren Marker",
         "ace_percent": "nan",
         "break_point": "nan",
         "fspw": "nan",
         "average_rank": 455.36842105263156,
         "_deepnote_index_column": 98
        },
        {
         "Name": "Mandy Minella",
         "ace_percent": 0.03508242862887012,
         "break_point": 0.5340909090909091,
         "fspw": 0.6262463814731425,
         "average_rank": 216.82008368200837,
         "_deepnote_index_column": 99
        }
       ],
       "rows_bottom": [
        {
         "Name": "Akiko Omae",
         "ace_percent": 0,
         "break_point": 0.45454545454545453,
         "fspw": 0.5102040816326531,
         "average_rank": 387.02985074626866,
         "_deepnote_index_column": 2938
        },
        {
         "Name": "Rinky Hijikata",
         "ace_percent": 0.0625,
         "break_point": 0.6875,
         "fspw": 0.7266666666666667,
         "average_rank": 219.875,
         "_deepnote_index_column": 2939
        },
        {
         "Name": "Maxime Mora",
         "ace_percent": 0.015337423312883436,
         "break_point": 0.42857142857142855,
         "fspw": 0.6023391812865497,
         "average_rank": 690,
         "_deepnote_index_column": 2940
        },
        {
         "Name": "Ani Mijacika",
         "ace_percent": "nan",
         "break_point": "nan",
         "fspw": "nan",
         "average_rank": 639.4716981132076,
         "_deepnote_index_column": 2941
        },
        {
         "Name": "Ayoub Chakrouni",
         "ace_percent": "nan",
         "break_point": "nan",
         "fspw": "nan",
         "average_rank": 0,
         "_deepnote_index_column": 2942
        },
        {
         "Name": "Federico Maccari",
         "ace_percent": "nan",
         "break_point": "nan",
         "fspw": "nan",
         "average_rank": 0,
         "_deepnote_index_column": 2943
        },
        {
         "Name": "Ziyue Sun",
         "ace_percent": 0.046153846153846156,
         "break_point": 0.3333333333333333,
         "fspw": 0.6388888888888888,
         "average_rank": 531.1153846153846,
         "_deepnote_index_column": 2944
        },
        {
         "Name": "Tom Farquharson",
         "ace_percent": 0.12323943661971831,
         "break_point": 0.5517241379310345,
         "fspw": 0.7365591397849462,
         "average_rank": 581.2,
         "_deepnote_index_column": 2945
        },
        {
         "Name": "Urszula Radwanska",
         "ace_percent": 0.024686361796843383,
         "break_point": 0.5192307692307693,
         "fspw": 0.5938892425206874,
         "average_rank": 377.3636363636364,
         "_deepnote_index_column": 2946
        },
        {
         "Name": "Hei Yin Andrew Li",
         "ace_percent": "nan",
         "break_point": "nan",
         "fspw": "nan",
         "average_rank": 0,
         "_deepnote_index_column": 2947
        },
        {
         "Name": "Audrey Albie",
         "ace_percent": 0.06188118811881188,
         "break_point": 0.6582278481012658,
         "fspw": 0.6597353497164461,
         "average_rank": 526.4854368932039,
         "_deepnote_index_column": 2948
        },
        {
         "Name": "Hao Chen Tang",
         "ace_percent": "nan",
         "break_point": "nan",
         "fspw": "nan",
         "average_rank": 575.1702127659574,
         "_deepnote_index_column": 2949
        },
        {
         "Name": "Arina Folts",
         "ace_percent": "nan",
         "break_point": "nan",
         "fspw": "nan",
         "average_rank": 366.7076923076923,
         "_deepnote_index_column": 2950
        },
        {
         "Name": "Pablo Carreno Busta",
         "ace_percent": 0.06769592213458633,
         "break_point": 0.6013437849944009,
         "fspw": 0.7036145866752219,
         "average_rank": 72.24921135646687,
         "_deepnote_index_column": 2951
        },
        {
         "Name": "Patrick Kypson",
         "ace_percent": 0.07893462469733656,
         "break_point": 0.5792682926829268,
         "fspw": 0.7252836304700162,
         "average_rank": 545.6666666666666,
         "_deepnote_index_column": 2952
        },
        {
         "Name": "Vera Zvonareva",
         "ace_percent": 0.027965673902069662,
         "break_point": 0.5056867891513561,
         "fspw": 0.6229322088874473,
         "average_rank": 218.126582278481,
         "_deepnote_index_column": 2953
        },
        {
         "Name": "Vignesh Peranamallur",
         "ace_percent": 0.09090909090909091,
         "break_point": 0.42857142857142855,
         "fspw": 0.7017543859649122,
         "average_rank": 773,
         "_deepnote_index_column": 2954
        },
        {
         "Name": "Ulrikke Eikeri",
         "ace_percent": 0.011615044247787611,
         "break_point": 0.4854771784232365,
         "fspw": 0.5752828546562228,
         "average_rank": 391.1720430107527,
         "_deepnote_index_column": 2955
        },
        {
         "Name": "Akira Santillan",
         "ace_percent": 0.06463485503971073,
         "break_point": 0.5858725761772853,
         "fspw": 0.6990394877267876,
         "average_rank": 287.79741379310343,
         "_deepnote_index_column": 2956
        },
        {
         "Name": "Marc Sieber",
         "ace_percent": 0.054187192118226604,
         "break_point": 0.5502092050209205,
         "fspw": 0.6718118338846012,
         "average_rank": 503.84285714285716,
         "_deepnote_index_column": 2957
        },
        {
         "Name": "Montserrat Gonzalez",
         "ace_percent": 0.02066532258064516,
         "break_point": 0.5458333333333333,
         "fspw": 0.634020618556701,
         "average_rank": 490.4171779141104,
         "_deepnote_index_column": 2958
        },
        {
         "Name": "Ipek Oz",
         "ace_percent": 0.021505376344086023,
         "break_point": 0.45454545454545453,
         "fspw": 0.75,
         "average_rank": 601.938679245283,
         "_deepnote_index_column": 2959
        },
        {
         "Name": "Geoffrey Blancaneaux",
         "ace_percent": 0.039095744680851065,
         "break_point": 0.5885286783042394,
         "fspw": 0.6570885273610818,
         "average_rank": 322.7916666666667,
         "_deepnote_index_column": 2960
        },
        {
         "Name": "Anthony Jackie Tang",
         "ace_percent": 0.04142011834319527,
         "break_point": 0.631578947368421,
         "fspw": 0.6590909090909091,
         "average_rank": 2850,
         "_deepnote_index_column": 2961
        },
        {
         "Name": "Anil Yuksel",
         "ace_percent": 0.07272727272727272,
         "break_point": 0.55,
         "fspw": 0.7410714285714286,
         "average_rank": 176.27272727272728,
         "_deepnote_index_column": 2962
        },
        {
         "Name": "Ryan Shane",
         "ace_percent": 0.09203014386846312,
         "break_point": 0.6029055690072639,
         "fspw": 0.7293893129770992,
         "average_rank": 433.1232876712329,
         "_deepnote_index_column": 2963
        },
        {
         "Name": "Tatsuma Ito",
         "ace_percent": 0.06775689031534973,
         "break_point": 0.5885747259088286,
         "fspw": 0.6960483804158728,
         "average_rank": 249.21167883211677,
         "_deepnote_index_column": 2964
        },
        {
         "Name": "Elitsa Kostova",
         "ace_percent": 0.027038183694530444,
         "break_point": 0.5263157894736842,
         "fspw": 0.5939947780678851,
         "average_rank": 290.1114864864865,
         "_deepnote_index_column": 2965
        },
        {
         "Name": "Illya Marchenko",
         "ace_percent": 0.07458654906284454,
         "break_point": 0.6174536760310819,
         "fspw": 0.716865191907733,
         "average_rank": 282.75,
         "_deepnote_index_column": 2966
        },
        {
         "Name": "Gabriela Talaba",
         "ace_percent": 0.0189328743545611,
         "break_point": 0.5901639344262295,
         "fspw": 0.6242424242424243,
         "average_rank": 544.3280423280423,
         "_deepnote_index_column": 2967
        },
        {
         "Name": "Oksana Kalashnikova",
         "ace_percent": 0.028622540250447227,
         "break_point": 0.6027397260273972,
         "fspw": 0.6198830409356725,
         "average_rank": 252.75,
         "_deepnote_index_column": 2968
        },
        {
         "Name": "Nicholas David Ionel",
         "ace_percent": 0.026595744680851064,
         "break_point": 0.6,
         "fspw": 0.6198347107438017,
         "average_rank": 109.125,
         "_deepnote_index_column": 2969
        },
        {
         "Name": "Louisa Chirico",
         "ace_percent": 0.037125488493269646,
         "break_point": 0.5309090909090909,
         "fspw": 0.6371323529411764,
         "average_rank": 250.95652173913044,
         "_deepnote_index_column": 2970
        },
        {
         "Name": "Filippo Mora",
         "ace_percent": "nan",
         "break_point": "nan",
         "fspw": "nan",
         "average_rank": 0,
         "_deepnote_index_column": 2971
        },
        {
         "Name": "Roberto Ortega Olmedo",
         "ace_percent": 0.03709492549755132,
         "break_point": 0.5683673469387756,
         "fspw": 0.6578119538622859,
         "average_rank": 297.8228571428571,
         "_deepnote_index_column": 2972
        },
        {
         "Name": "George Von Massow",
         "ace_percent": 0.08725371934057097,
         "break_point": 0.5530973451327433,
         "fspw": 0.6976897689768977,
         "average_rank": 668.96875,
         "_deepnote_index_column": 2973
        },
        {
         "Name": "Eric Quigley",
         "ace_percent": 0.0654178674351585,
         "break_point": 0.5922330097087378,
         "fspw": 0.7086575875486382,
         "average_rank": 505.42857142857144,
         "_deepnote_index_column": 2974
        },
        {
         "Name": "Lukas Ollert",
         "ace_percent": 0.021739130434782608,
         "break_point": 0.42857142857142855,
         "fspw": 0.7627118644067796,
         "average_rank": 120.16666666666667,
         "_deepnote_index_column": 2975
        },
        {
         "Name": "Jacqueline Cako",
         "ace_percent": 0.045514079895219384,
         "break_point": 0.6006191950464397,
         "fspw": 0.6224024328433857,
         "average_rank": 285.6787878787879,
         "_deepnote_index_column": 2976
        },
        {
         "Name": "Usue Maitane Arconada",
         "ace_percent": 0.015582655826558265,
         "break_point": 0.5231958762886598,
         "fspw": 0.5931428571428572,
         "average_rank": 310.1004016064257,
         "_deepnote_index_column": 2977
        },
        {
         "Name": "Yaraslau Shyla",
         "ace_percent": 0.07773564463705308,
         "break_point": 0.5910652920962199,
         "fspw": 0.7174868189806678,
         "average_rank": 525.574074074074,
         "_deepnote_index_column": 2978
        },
        {
         "Name": "Aoran Wang",
         "ace_percent": 0.11475409836065574,
         "break_point": 0.5909090909090909,
         "fspw": 0.6944444444444444,
         "average_rank": 950,
         "_deepnote_index_column": 2979
        },
        {
         "Name": "Matthew Barton",
         "ace_percent": 0.12711254944264652,
         "break_point": 0.6534391534391535,
         "fspw": 0.7627836611195159,
         "average_rank": 369.0246913580247,
         "_deepnote_index_column": 2980
        },
        {
         "Name": "Juan Manuel Benitez Chavarriaga",
         "ace_percent": 0.02702702702702703,
         "break_point": 0.6461538461538462,
         "fspw": 0.6422018348623854,
         "average_rank": 925.8333333333334,
         "_deepnote_index_column": 2981
        },
        {
         "Name": "Mikalai Haliak",
         "ace_percent": 0,
         "break_point": 0.4,
         "fspw": 0.6666666666666666,
         "average_rank": 474.27272727272725,
         "_deepnote_index_column": 2982
        },
        {
         "Name": "Daniel Rodrigues",
         "ace_percent": 0,
         "break_point": 0.4444444444444444,
         "fspw": 0.5094339622641509,
         "average_rank": 740,
         "_deepnote_index_column": 2983
        },
        {
         "Name": "Gail Brodsky",
         "ace_percent": 0.025806451612903226,
         "break_point": 0.6153846153846154,
         "fspw": 0.5454545454545454,
         "average_rank": 521.9,
         "_deepnote_index_column": 2984
        },
        {
         "Name": "San Hui Sin",
         "ace_percent": 0.03361344537815126,
         "break_point": 0.4666666666666667,
         "fspw": 0.6111111111111112,
         "average_rank": -0.4,
         "_deepnote_index_column": 2985
        },
        {
         "Name": "Alexander Merino",
         "ace_percent": 0.014925373134328358,
         "break_point": 0.45454545454545453,
         "fspw": 0.5714285714285714,
         "average_rank": 510.2,
         "_deepnote_index_column": 2986
        },
        {
         "Name": "Paul Woerner",
         "ace_percent": "nan",
         "break_point": "nan",
         "fspw": "nan",
         "average_rank": 0,
         "_deepnote_index_column": 2987
        },
        {
         "Name": "Martin Beran",
         "ace_percent": "nan",
         "break_point": "nan",
         "fspw": "nan",
         "average_rank": 0,
         "_deepnote_index_column": 2988
        },
        {
         "Name": "Diego Jose Manrique Velazquez",
         "ace_percent": "nan",
         "break_point": "nan",
         "fspw": "nan",
         "average_rank": 0,
         "_deepnote_index_column": 2989
        },
        {
         "Name": "Hanwen Li",
         "ace_percent": "nan",
         "break_point": "nan",
         "fspw": "nan",
         "average_rank": 0,
         "_deepnote_index_column": 2990
        },
        {
         "Name": "Peyton Stearns",
         "ace_percent": "nan",
         "break_point": "nan",
         "fspw": "nan",
         "average_rank": 546.4,
         "_deepnote_index_column": 2991
        },
        {
         "Name": "Adam Jones",
         "ace_percent": "nan",
         "break_point": "nan",
         "fspw": "nan",
         "average_rank": 0,
         "_deepnote_index_column": 2992
        },
        {
         "Name": "Selena Janicijevic",
         "ace_percent": "nan",
         "break_point": "nan",
         "fspw": "nan",
         "average_rank": 687.7462686567164,
         "_deepnote_index_column": 2993
        },
        {
         "Name": "Janko Tipsarevic",
         "ace_percent": 0.07123143645682745,
         "break_point": 0.6043360433604336,
         "fspw": 0.7026654411764706,
         "average_rank": 275.8453608247423,
         "_deepnote_index_column": 2994
        },
        {
         "Name": "Shoma Kato",
         "ace_percent": "nan",
         "break_point": "nan",
         "fspw": "nan",
         "average_rank": 0,
         "_deepnote_index_column": 2995
        },
        {
         "Name": "Alec Adamson",
         "ace_percent": "nan",
         "break_point": "nan",
         "fspw": "nan",
         "average_rank": 0,
         "_deepnote_index_column": 2996
        },
        {
         "Name": "Fredrik Ask",
         "ace_percent": 0.06430868167202572,
         "break_point": 0.7419354838709677,
         "fspw": 0.7,
         "average_rank": 988,
         "_deepnote_index_column": 2997
        },
        {
         "Name": "Vadym Ursu",
         "ace_percent": 0.03129890453834116,
         "break_point": 0.5415384615384615,
         "fspw": 0.5974025974025974,
         "average_rank": 764.5714285714286,
         "_deepnote_index_column": 2998
        },
        {
         "Name": "Igor Ribeiro Marcondes",
         "ace_percent": 0.02406417112299465,
         "break_point": 0.41025641025641024,
         "fspw": 0.6714975845410628,
         "average_rank": 769.9090909090909,
         "_deepnote_index_column": 2999
        },
        {
         "Name": "Khololwam Montsi",
         "ace_percent": 0.02654867256637168,
         "break_point": 0.6,
         "fspw": 0.6164383561643836,
         "average_rank": 485.25,
         "_deepnote_index_column": 3000
        },
        {
         "Name": "Miki Jankovic",
         "ace_percent": 0.061224489795918366,
         "break_point": 0.5660377358490566,
         "fspw": 0.6974972796517954,
         "average_rank": 365.7586206896552,
         "_deepnote_index_column": 3001
        },
        {
         "Name": "Jose Hernandez",
         "ace_percent": 0.04066742799137165,
         "break_point": 0.5612777053455019,
         "fspw": 0.6594451524360356,
         "average_rank": 331.2488262910798,
         "_deepnote_index_column": 3002
        },
        {
         "Name": "Ilze Hattingh",
         "ace_percent": "nan",
         "break_point": "nan",
         "fspw": "nan",
         "average_rank": 525.1071428571429,
         "_deepnote_index_column": 3003
        },
        {
         "Name": "Kenneth Raisma",
         "ace_percent": 0.03592814371257485,
         "break_point": 0.5384615384615384,
         "fspw": 0.6274509803921569,
         "average_rank": 616.5,
         "_deepnote_index_column": 3004
        },
        {
         "Name": "Cannon Kingsley",
         "ace_percent": 0.07142857142857142,
         "break_point": 0.6511627906976745,
         "fspw": 0.6891385767790262,
         "average_rank": 396,
         "_deepnote_index_column": 3005
        },
        {
         "Name": "Lyudmyla Kichenok",
         "ace_percent": 0.03674540682414698,
         "break_point": 0.5,
         "fspw": 0.6227544910179641,
         "average_rank": 180.03333333333333,
         "_deepnote_index_column": 3006
        },
        {
         "Name": "Jesse Huta Galung",
         "ace_percent": 0.06692913385826772,
         "break_point": 0.5714285714285714,
         "fspw": 0.6772151898734177,
         "average_rank": 396.5,
         "_deepnote_index_column": 3007
        },
        {
         "Name": "Evgenii Tiurnev",
         "ace_percent": 0.09304322931577441,
         "break_point": 0.5791245791245792,
         "fspw": 0.7173699705593719,
         "average_rank": 346.9714285714286,
         "_deepnote_index_column": 3008
        },
        {
         "Name": "Marco Bortolotti",
         "ace_percent": 0.03372781065088758,
         "break_point": 0.522911051212938,
         "fspw": 0.6283560998586906,
         "average_rank": 324.70588235294116,
         "_deepnote_index_column": 3009
        },
        {
         "Name": "Beibit Zhukayev",
         "ace_percent": 0.09813084112149532,
         "break_point": 0.625,
         "fspw": 0.7338709677419355,
         "average_rank": 150.21428571428572,
         "_deepnote_index_column": 3010
        },
        {
         "Name": "Julian Cash",
         "ace_percent": 0.13793103448275862,
         "break_point": 0.6,
         "fspw": 0.796875,
         "average_rank": 487.3333333333333,
         "_deepnote_index_column": 3011
        },
        {
         "Name": "Takashi Saito",
         "ace_percent": 0.06382978723404255,
         "break_point": 0.3333333333333333,
         "fspw": 0.6451612903225806,
         "average_rank": 225.5,
         "_deepnote_index_column": 3012
        },
        {
         "Name": "Joao Marcos Nusdeo",
         "ace_percent": "nan",
         "break_point": "nan",
         "fspw": "nan",
         "average_rank": 0,
         "_deepnote_index_column": 3013
        },
        {
         "Name": "Mauricio Astorga",
         "ace_percent": 0.030303030303030304,
         "break_point": 0.5238095238095238,
         "fspw": 0.7102803738317757,
         "average_rank": 406.2142857142857,
         "_deepnote_index_column": 3014
        },
        {
         "Name": "Agnieszka Radwanska",
         "ace_percent": 0.03404013323584369,
         "break_point": 0.5325644504748982,
         "fspw": 0.6259107166512121,
         "average_rank": 47.111111111111114,
         "_deepnote_index_column": 3015
        },
        {
         "Name": "Michael Venus",
         "ace_percent": 0.07629427792915532,
         "break_point": 0.6486486486486487,
         "fspw": 0.7135678391959799,
         "average_rank": 169.4,
         "_deepnote_index_column": 3016
        },
        {
         "Name": "Go Soeda",
         "ace_percent": 0.05932243998274953,
         "break_point": 0.5715,
         "fspw": 0.6909295412549209,
         "average_rank": 245.3667820069204,
         "_deepnote_index_column": 3017
        },
        {
         "Name": "Jui Chen Hung",
         "ace_percent": 0.0581039755351682,
         "break_point": 0.5517241379310345,
         "fspw": 0.680365296803653,
         "average_rank": 285.2307692307692,
         "_deepnote_index_column": 3018
        },
        {
         "Name": "Rayane Roumane",
         "ace_percent": 0.07071765322158198,
         "break_point": 0.6,
         "fspw": 0.7155399473222125,
         "average_rank": 263.10714285714283,
         "_deepnote_index_column": 3019
        },
        {
         "Name": "Zach Itzstein",
         "ace_percent": 0.035175879396984924,
         "break_point": 0.5294117647058824,
         "fspw": 0.6641221374045801,
         "average_rank": 734.6666666666666,
         "_deepnote_index_column": 3020
        },
        {
         "Name": "Juan Pablo Canas Garcia",
         "ace_percent": 0.026595744680851064,
         "break_point": 0.46875,
         "fspw": 0.55,
         "average_rank": 852,
         "_deepnote_index_column": 3021
        },
        {
         "Name": "David Fleming",
         "ace_percent": 0.018867924528301886,
         "break_point": 0.6470588235294118,
         "fspw": 0.581081081081081,
         "average_rank": 222.66666666666666,
         "_deepnote_index_column": 3022
        },
        {
         "Name": "Courtney John Lock",
         "ace_percent": "nan",
         "break_point": "nan",
         "fspw": "nan",
         "average_rank": 0,
         "_deepnote_index_column": 3023
        },
        {
         "Name": "Marco Trungelliti",
         "ace_percent": 0.0432394693972539,
         "break_point": 0.5606203007518797,
         "fspw": 0.6661179052994669,
         "average_rank": 250.24632352941177,
         "_deepnote_index_column": 3024
        },
        {
         "Name": "Petra Martic",
         "ace_percent": 0.03666822867853796,
         "break_point": 0.5904203323558163,
         "fspw": 0.6336513280957725,
         "average_rank": 151.73394495412845,
         "_deepnote_index_column": 3025
        },
        {
         "Name": "Sem Verbeek",
         "ace_percent": 0.05206407886629698,
         "break_point": 0.5928338762214984,
         "fspw": 0.683105981112277,
         "average_rank": 530.38,
         "_deepnote_index_column": 3026
        },
        {
         "Name": "Igor Kolaric",
         "ace_percent": "nan",
         "break_point": "nan",
         "fspw": "nan",
         "average_rank": 0,
         "_deepnote_index_column": 3027
        },
        {
         "Name": "Tom Kocevar Desman",
         "ace_percent": 0.08216783216783216,
         "break_point": 0.6363636363636364,
         "fspw": 0.7641509433962265,
         "average_rank": 258.55555555555554,
         "_deepnote_index_column": 3028
        },
        {
         "Name": "Shelby Rogers",
         "ace_percent": 0.047004847645429365,
         "break_point": 0.5497076023391813,
         "fspw": 0.6536710301650541,
         "average_rank": 147.67821782178217,
         "_deepnote_index_column": 3029
        },
        {
         "Name": "Juan Pablo Varillas",
         "ace_percent": 0.05543030397263469,
         "break_point": 0.5582870737509913,
         "fspw": 0.6800429472554019,
         "average_rank": 378.7022471910112,
         "_deepnote_index_column": 3030
        },
        {
         "Name": "Maxime Pauwels",
         "ace_percent": "nan",
         "break_point": "nan",
         "fspw": "nan",
         "average_rank": 0,
         "_deepnote_index_column": 3031
        },
        {
         "Name": "Masa Jovanovic",
         "ace_percent": "nan",
         "break_point": "nan",
         "fspw": "nan",
         "average_rank": 506.875,
         "_deepnote_index_column": 3032
        },
        {
         "Name": "Jozef Kovalik",
         "ace_percent": 0.04383595795072091,
         "break_point": 0.5901103391908459,
         "fspw": 0.6747811232116165,
         "average_rank": 215.1787878787879,
         "_deepnote_index_column": 3033
        },
        {
         "Name": "Andres Molteni",
         "ace_percent": 0.03494318181818182,
         "break_point": 0.5452054794520548,
         "fspw": 0.6702932828760644,
         "average_rank": 707.4310344827586,
         "_deepnote_index_column": 3034
        },
        {
         "Name": "Kristian Lozan",
         "ace_percent": 0.06578947368421052,
         "break_point": 0.6666666666666666,
         "fspw": 0.6703910614525139,
         "average_rank": 291,
         "_deepnote_index_column": 3035
        },
        {
         "Name": "Thomas Statzberger",
         "ace_percent": 0.06633906633906633,
         "break_point": 0.48148148148148145,
         "fspw": 0.7302904564315352,
         "average_rank": 355.8888888888889,
         "_deepnote_index_column": 3036
        },
        {
         "Name": "Alibek Kachmazov",
         "ace_percent": 0.05964912280701754,
         "break_point": 0.7222222222222222,
         "fspw": 0.7142857142857143,
         "average_rank": 553.25,
         "_deepnote_index_column": 3037
        }
       ]
      },
      "text/plain": "                    Name  ace_percent  break_point      fspw  average_rank\n0                    NaN          NaN          NaN       NaN           NaN\n1     Gonzalo Villanueva     0.034551     0.546371  0.645863    500.761905\n2             Ben Patael     0.061041     0.581081  0.656706    466.525000\n3         Filipe Brandao     0.032609     0.500000  0.519231    380.000000\n4              Tim Puetz     0.091237     0.598425  0.714905    447.236842\n...                  ...          ...          ...       ...           ...\n3033       Jozef Kovalik     0.043836     0.590110  0.674781    215.178788\n3034      Andres Molteni     0.034943     0.545205  0.670293    707.431034\n3035      Kristian Lozan     0.065789     0.666667  0.670391    291.000000\n3036  Thomas Statzberger     0.066339     0.481481  0.730290    355.888889\n3037    Alibek Kachmazov     0.059649     0.722222  0.714286    553.250000\n\n[3038 rows x 5 columns]",
      "text/html": "<div>\n<style scoped>\n    .dataframe tbody tr th:only-of-type {\n        vertical-align: middle;\n    }\n\n    .dataframe tbody tr th {\n        vertical-align: top;\n    }\n\n    .dataframe thead th {\n        text-align: right;\n    }\n</style>\n<table border=\"1\" class=\"dataframe\">\n  <thead>\n    <tr style=\"text-align: right;\">\n      <th></th>\n      <th>Name</th>\n      <th>ace_percent</th>\n      <th>break_point</th>\n      <th>fspw</th>\n      <th>average_rank</th>\n    </tr>\n  </thead>\n  <tbody>\n    <tr>\n      <th>0</th>\n      <td>NaN</td>\n      <td>NaN</td>\n      <td>NaN</td>\n      <td>NaN</td>\n      <td>NaN</td>\n    </tr>\n    <tr>\n      <th>1</th>\n      <td>Gonzalo Villanueva</td>\n      <td>0.034551</td>\n      <td>0.546371</td>\n      <td>0.645863</td>\n      <td>500.761905</td>\n    </tr>\n    <tr>\n      <th>2</th>\n      <td>Ben Patael</td>\n      <td>0.061041</td>\n      <td>0.581081</td>\n      <td>0.656706</td>\n      <td>466.525000</td>\n    </tr>\n    <tr>\n      <th>3</th>\n      <td>Filipe Brandao</td>\n      <td>0.032609</td>\n      <td>0.500000</td>\n      <td>0.519231</td>\n      <td>380.000000</td>\n    </tr>\n    <tr>\n      <th>4</th>\n      <td>Tim Puetz</td>\n      <td>0.091237</td>\n      <td>0.598425</td>\n      <td>0.714905</td>\n      <td>447.236842</td>\n    </tr>\n    <tr>\n      <th>...</th>\n      <td>...</td>\n      <td>...</td>\n      <td>...</td>\n      <td>...</td>\n      <td>...</td>\n    </tr>\n    <tr>\n      <th>3033</th>\n      <td>Jozef Kovalik</td>\n      <td>0.043836</td>\n      <td>0.590110</td>\n      <td>0.674781</td>\n      <td>215.178788</td>\n    </tr>\n    <tr>\n      <th>3034</th>\n      <td>Andres Molteni</td>\n      <td>0.034943</td>\n      <td>0.545205</td>\n      <td>0.670293</td>\n      <td>707.431034</td>\n    </tr>\n    <tr>\n      <th>3035</th>\n      <td>Kristian Lozan</td>\n      <td>0.065789</td>\n      <td>0.666667</td>\n      <td>0.670391</td>\n      <td>291.000000</td>\n    </tr>\n    <tr>\n      <th>3036</th>\n      <td>Thomas Statzberger</td>\n      <td>0.066339</td>\n      <td>0.481481</td>\n      <td>0.730290</td>\n      <td>355.888889</td>\n    </tr>\n    <tr>\n      <th>3037</th>\n      <td>Alibek Kachmazov</td>\n      <td>0.059649</td>\n      <td>0.722222</td>\n      <td>0.714286</td>\n      <td>553.250000</td>\n    </tr>\n  </tbody>\n</table>\n<p>3038 rows × 5 columns</p>\n</div>"
     },
     "metadata": {}
    }
   ]
  },
  {
   "cell_type": "code",
   "metadata": {
    "tags": [],
    "cell_id": "00023-316a14dc-1319-4302-916c-f886e9cc1991",
    "deepnote_to_be_reexecuted": true,
    "source_hash": "8e0088a1",
    "execution_start": 1636648468649,
    "execution_millis": 3,
    "deepnote_cell_type": "code"
   },
   "source": "player_match_statistics.info()",
   "execution_count": null,
   "outputs": [
    {
     "name": "stdout",
     "text": "<class 'pandas.core.frame.DataFrame'>\nRangeIndex: 3038 entries, 0 to 3037\nData columns (total 5 columns):\n #   Column        Non-Null Count  Dtype  \n---  ------        --------------  -----  \n 0   Name          3037 non-null   object \n 1   ace_percent   2246 non-null   float64\n 2   break_point   2245 non-null   float64\n 3   fspw          2246 non-null   float64\n 4   average_rank  3037 non-null   float64\ndtypes: float64(4), object(1)\nmemory usage: 118.8+ KB\n",
     "output_type": "stream"
    }
   ]
  },
  {
   "cell_type": "code",
   "metadata": {
    "tags": [],
    "cell_id": "00024-55ade6ec-18e6-4ef8-8486-2a3ae3549708",
    "deepnote_to_be_reexecuted": true,
    "source_hash": "b189c837",
    "execution_start": 1636648770416,
    "execution_millis": 17,
    "deepnote_cell_type": "code"
   },
   "source": "player_match_statistics = player_match_statistics[(player_match_statistics['ace_percent'].notna()) & (player_match_statistics['break_point'].notna()) \n                                                    & (player_match_statistics['fspw'].notna()) & (player_match_statistics['average_rank'].notna()) \n                                                    & (player_match_statistics['average_rank'] > 0)]\nplayer_match_statistics",
   "execution_count": null,
   "outputs": [
    {
     "output_type": "execute_result",
     "execution_count": 56,
     "data": {
      "application/vnd.deepnote.dataframe.v2+json": {
       "row_count": 2231,
       "column_count": 5,
       "columns": [
        {
         "name": "Name",
         "dtype": "object",
         "stats": {
          "unique_count": 2231,
          "nan_count": 0,
          "categories": [
           {
            "name": "Gonzalo Villanueva",
            "count": 1
           },
           {
            "name": "Ben Patael",
            "count": 1
           },
           {
            "name": "2229 others",
            "count": 2229
           }
          ]
         }
        },
        {
         "name": "ace_percent",
         "dtype": "float64",
         "stats": {
          "unique_count": 2060,
          "nan_count": 0,
          "min": "0.0",
          "max": "0.1756469645780363",
          "histogram": [
           {
            "bin_start": 0,
            "bin_end": 0.01756469645780363,
            "count": 236
           },
           {
            "bin_start": 0.01756469645780363,
            "bin_end": 0.03512939291560726,
            "count": 517
           },
           {
            "bin_start": 0.03512939291560726,
            "bin_end": 0.052694089373410885,
            "count": 585
           },
           {
            "bin_start": 0.052694089373410885,
            "bin_end": 0.07025878583121452,
            "count": 447
           },
           {
            "bin_start": 0.07025878583121452,
            "bin_end": 0.08782348228901815,
            "count": 272
           },
           {
            "bin_start": 0.08782348228901815,
            "bin_end": 0.10538817874682177,
            "count": 109
           },
           {
            "bin_start": 0.10538817874682177,
            "bin_end": 0.1229528752046254,
            "count": 40
           },
           {
            "bin_start": 0.1229528752046254,
            "bin_end": 0.14051757166242904,
            "count": 12
           },
           {
            "bin_start": 0.14051757166242904,
            "bin_end": 0.15808226812023266,
            "count": 6
           },
           {
            "bin_start": 0.15808226812023266,
            "bin_end": 0.1756469645780363,
            "count": 7
           }
          ]
         }
        },
        {
         "name": "break_point",
         "dtype": "float64",
         "stats": {
          "unique_count": 1482,
          "nan_count": 0,
          "min": "0.0",
          "max": "1.0",
          "histogram": [
           {
            "bin_start": 0,
            "bin_end": 0.1,
            "count": 1
           },
           {
            "bin_start": 0.1,
            "bin_end": 0.2,
            "count": 2
           },
           {
            "bin_start": 0.2,
            "bin_end": 0.30000000000000004,
            "count": 24
           },
           {
            "bin_start": 0.30000000000000004,
            "bin_end": 0.4,
            "count": 57
           },
           {
            "bin_start": 0.4,
            "bin_end": 0.5,
            "count": 241
           },
           {
            "bin_start": 0.5,
            "bin_end": 0.6000000000000001,
            "count": 1318
           },
           {
            "bin_start": 0.6000000000000001,
            "bin_end": 0.7000000000000001,
            "count": 529
           },
           {
            "bin_start": 0.7000000000000001,
            "bin_end": 0.8,
            "count": 46
           },
           {
            "bin_start": 0.8,
            "bin_end": 0.9,
            "count": 10
           },
           {
            "bin_start": 0.9,
            "bin_end": 1,
            "count": 3
           }
          ]
         }
        },
        {
         "name": "fspw",
         "dtype": "float64",
         "stats": {
          "unique_count": 2058,
          "nan_count": 0,
          "min": "0.4166666666666667",
          "max": "0.8615384615384616",
          "histogram": [
           {
            "bin_start": 0.4166666666666667,
            "bin_end": 0.4611538461538462,
            "count": 3
           },
           {
            "bin_start": 0.4611538461538462,
            "bin_end": 0.5056410256410256,
            "count": 5
           },
           {
            "bin_start": 0.5056410256410256,
            "bin_end": 0.5501282051282051,
            "count": 46
           },
           {
            "bin_start": 0.5501282051282051,
            "bin_end": 0.5946153846153847,
            "count": 186
           },
           {
            "bin_start": 0.5946153846153847,
            "bin_end": 0.6391025641025642,
            "count": 480
           },
           {
            "bin_start": 0.6391025641025642,
            "bin_end": 0.6835897435897436,
            "count": 636
           },
           {
            "bin_start": 0.6835897435897436,
            "bin_end": 0.7280769230769231,
            "count": 641
           },
           {
            "bin_start": 0.7280769230769231,
            "bin_end": 0.7725641025641026,
            "count": 203
           },
           {
            "bin_start": 0.7725641025641026,
            "bin_end": 0.8170512820512821,
            "count": 28
           },
           {
            "bin_start": 0.8170512820512821,
            "bin_end": 0.8615384615384616,
            "count": 3
           }
          ]
         }
        },
        {
         "name": "average_rank",
         "dtype": "float64",
         "stats": {
          "unique_count": 2209,
          "nan_count": 0,
          "min": "7.571428571428571",
          "max": "2954.0",
          "histogram": [
           {
            "bin_start": 7.571428571428571,
            "bin_end": 302.2142857142857,
            "count": 770
           },
           {
            "bin_start": 302.2142857142857,
            "bin_end": 596.8571428571429,
            "count": 1073
           },
           {
            "bin_start": 596.8571428571429,
            "bin_end": 891.5000000000001,
            "count": 290
           },
           {
            "bin_start": 891.5000000000001,
            "bin_end": 1186.1428571428573,
            "count": 68
           },
           {
            "bin_start": 1186.1428571428573,
            "bin_end": 1480.7857142857144,
            "count": 17
           },
           {
            "bin_start": 1480.7857142857144,
            "bin_end": 1775.4285714285718,
            "count": 8
           },
           {
            "bin_start": 1775.4285714285718,
            "bin_end": 2070.0714285714284,
            "count": 2
           },
           {
            "bin_start": 2070.0714285714284,
            "bin_end": 2364.714285714286,
            "count": 0
           },
           {
            "bin_start": 2364.714285714286,
            "bin_end": 2659.357142857143,
            "count": 0
           },
           {
            "bin_start": 2659.357142857143,
            "bin_end": 2954,
            "count": 3
           }
          ]
         }
        },
        {
         "name": "_deepnote_index_column",
         "dtype": "int64"
        }
       ],
       "rows_top": [
        {
         "Name": "Gonzalo Villanueva",
         "ace_percent": 0.034550623223267005,
         "break_point": 0.5463709677419355,
         "fspw": 0.6458630527817404,
         "average_rank": 500.76190476190476,
         "_deepnote_index_column": 1
        },
        {
         "Name": "Ben Patael",
         "ace_percent": 0.06104129263913824,
         "break_point": 0.581081081081081,
         "fspw": 0.6567055393586005,
         "average_rank": 466.525,
         "_deepnote_index_column": 2
        },
        {
         "Name": "Filipe Brandao",
         "ace_percent": 0.03260869565217391,
         "break_point": 0.5,
         "fspw": 0.5192307692307693,
         "average_rank": 380,
         "_deepnote_index_column": 3
        },
        {
         "Name": "Tim Puetz",
         "ace_percent": 0.09123728257302265,
         "break_point": 0.5984251968503937,
         "fspw": 0.7149046793760832,
         "average_rank": 447.2368421052632,
         "_deepnote_index_column": 4
        },
        {
         "Name": "Nicolas Kicker",
         "ace_percent": 0.040140425250049676,
         "break_point": 0.5644847699287103,
         "fspw": 0.6593638087212976,
         "average_rank": 278.26666666666665,
         "_deepnote_index_column": 6
        },
        {
         "Name": "Kimberly Birrell",
         "ace_percent": 0.04979811574697174,
         "break_point": 0.632183908045977,
         "fspw": 0.6461038961038961,
         "average_rank": 294.32323232323233,
         "_deepnote_index_column": 7
        },
        {
         "Name": "Nicaise Muamba",
         "ace_percent": 0.026865671641791045,
         "break_point": 0.7419354838709677,
         "fspw": 0.7323232323232324,
         "average_rank": 130.6153846153846,
         "_deepnote_index_column": 9
        },
        {
         "Name": "Sho Shimabukuro",
         "ace_percent": 0.05436668594563331,
         "break_point": 0.6036585365853658,
         "fspw": 0.6821862348178138,
         "average_rank": 784.6190476190476,
         "_deepnote_index_column": 10
        },
        {
         "Name": "Alex Kuznetsov",
         "ace_percent": 0.0731004681310767,
         "break_point": 0.611764705882353,
         "fspw": 0.7065613608748481,
         "average_rank": 446.9655172413793,
         "_deepnote_index_column": 11
        },
        {
         "Name": "Irene Burillo Escorihuela",
         "ace_percent": 0,
         "break_point": 0.5294117647058824,
         "fspw": 0.5411764705882353,
         "average_rank": 529.5089605734767,
         "_deepnote_index_column": 12
        },
        {
         "Name": "Andreas Beck",
         "ace_percent": 0.05999220880405142,
         "break_point": 0.5867768595041323,
         "fspw": 0.6926546391752577,
         "average_rank": 446.4193548387097,
         "_deepnote_index_column": 13
        },
        {
         "Name": "Ricardas Berankis",
         "ace_percent": 0.06494800693240901,
         "break_point": 0.607436021245775,
         "fspw": 0.7028760902472428,
         "average_rank": 192.48387096774192,
         "_deepnote_index_column": 14
        },
        {
         "Name": "Angelica Moratelli",
         "ace_percent": 0.0273972602739726,
         "break_point": 0.6190476190476191,
         "fspw": 0.5824175824175825,
         "average_rank": 678.6807692307692,
         "_deepnote_index_column": 17
        },
        {
         "Name": "Sohyun Park",
         "ace_percent": 0.03067484662576687,
         "break_point": 0.5652173913043478,
         "fspw": 0.6559139784946236,
         "average_rank": 539.266129032258,
         "_deepnote_index_column": 18
        },
        {
         "Name": "Holger Rune",
         "ace_percent": 0.03268824199056757,
         "break_point": 0.5702614379084967,
         "fspw": 0.6579566239874576,
         "average_rank": 356.64285714285717,
         "_deepnote_index_column": 20
        },
        {
         "Name": "Gonzales Austin",
         "ace_percent": 0.04394224733207784,
         "break_point": 0.5283018867924528,
         "fspw": 0.6900647948164147,
         "average_rank": 935.2352941176471,
         "_deepnote_index_column": 21
        },
        {
         "Name": "Maria Irigoyen",
         "ace_percent": 0.012048192771084338,
         "break_point": 0.4523809523809524,
         "fspw": 0.5798319327731093,
         "average_rank": 237.2941176470588,
         "_deepnote_index_column": 22
        },
        {
         "Name": "Marat Deviatiarov",
         "ace_percent": 0.0440251572327044,
         "break_point": 0.6111111111111112,
         "fspw": 0.6888888888888889,
         "average_rank": 1107.5,
         "_deepnote_index_column": 24
        },
        {
         "Name": "Alexander Ritschard",
         "ace_percent": 0.05646359583952452,
         "break_point": 0.5803324099722992,
         "fspw": 0.6698137279918347,
         "average_rank": 423,
         "_deepnote_index_column": 25
        },
        {
         "Name": "Jaqueline Adina Cristian",
         "ace_percent": 0.03608247422680412,
         "break_point": 0.5435684647302904,
         "fspw": 0.6324655436447167,
         "average_rank": 447.4896551724138,
         "_deepnote_index_column": 26
        },
        {
         "Name": "David Goffin",
         "ace_percent": 0.07398729884703126,
         "break_point": 0.5823358136525396,
         "fspw": 0.6975735673722251,
         "average_rank": 50.01875,
         "_deepnote_index_column": 28
        },
        {
         "Name": "Gavin Van Peperzeel",
         "ace_percent": 0.07479431563201197,
         "break_point": 0.6693227091633466,
         "fspw": 0.6882591093117408,
         "average_rank": 685.4242424242424,
         "_deepnote_index_column": 30
        },
        {
         "Name": "Fabrizio Ornago",
         "ace_percent": 0.05255527364987314,
         "break_point": 0.5662100456621004,
         "fspw": 0.6858485026423957,
         "average_rank": 316.6666666666667,
         "_deepnote_index_column": 32
        },
        {
         "Name": "Ugo Humbert",
         "ace_percent": 0.0844132376477877,
         "break_point": 0.6443729903536978,
         "fspw": 0.7338190443917316,
         "average_rank": 173.02739726027397,
         "_deepnote_index_column": 33
        },
        {
         "Name": "Kirill Kivattsev",
         "ace_percent": 0.10531914893617021,
         "break_point": 0.6721311475409836,
         "fspw": 0.7693726937269373,
         "average_rank": 426.84615384615387,
         "_deepnote_index_column": 35
        },
        {
         "Name": "Botic van de Zandschulp",
         "ace_percent": 0.058218297179113435,
         "break_point": 0.559410234171726,
         "fspw": 0.6821574426137164,
         "average_rank": 281.4379562043796,
         "_deepnote_index_column": 36
        },
        {
         "Name": "Veronica Cepede Royg",
         "ace_percent": 0.020040860005837144,
         "break_point": 0.546801872074883,
         "fspw": 0.6061120543293718,
         "average_rank": 203.17391304347825,
         "_deepnote_index_column": 37
        },
        {
         "Name": "Joao Lucas Reis Da Silva",
         "ace_percent": 0.035398230088495575,
         "break_point": 0.5714285714285714,
         "fspw": 0.6949152542372882,
         "average_rank": 252.5,
         "_deepnote_index_column": 38
        },
        {
         "Name": "Olga Govortsova",
         "ace_percent": 0.02410099464422341,
         "break_point": 0.5164670658682635,
         "fspw": 0.5935273159144893,
         "average_rank": 292.9351351351351,
         "_deepnote_index_column": 39
        },
        {
         "Name": "Maryna Zanevska",
         "ace_percent": 0.029688972667295005,
         "break_point": 0.552434456928839,
         "fspw": 0.6307811892732219,
         "average_rank": 287.62730627306274,
         "_deepnote_index_column": 40
        },
        {
         "Name": "Adrian Ungur",
         "ace_percent": 0.03995709305443819,
         "break_point": 0.5422343324250681,
         "fspw": 0.6653508771929825,
         "average_rank": 266.04347826086956,
         "_deepnote_index_column": 43
        },
        {
         "Name": "Erika Sema",
         "ace_percent": 0.01338199513381995,
         "break_point": 0.6062992125984252,
         "fspw": 0.5986159169550173,
         "average_rank": 421.85425101214577,
         "_deepnote_index_column": 44
        },
        {
         "Name": "Kai Lin Zhang",
         "ace_percent": 0.018629254829806808,
         "break_point": 0.5255972696245734,
         "fspw": 0.6057959507741167,
         "average_rank": 597.6454545454545,
         "_deepnote_index_column": 45
        },
        {
         "Name": "Katerina Siniakova",
         "ace_percent": 0.032028958944281524,
         "break_point": 0.5252798147433423,
         "fspw": 0.6246987951807229,
         "average_rank": 67.6219512195122,
         "_deepnote_index_column": 46
        },
        {
         "Name": "Raveena Kingsley",
         "ace_percent": 0.01694915254237288,
         "break_point": 0.5294117647058824,
         "fspw": 0.7238095238095238,
         "average_rank": 414.7837837837838,
         "_deepnote_index_column": 48
        },
        {
         "Name": "Sharmal Dissanayake",
         "ace_percent": 0.05339805825242718,
         "break_point": 0.5737704918032787,
         "fspw": 0.6194029850746269,
         "average_rank": 1341,
         "_deepnote_index_column": 49
        },
        {
         "Name": "Jose Fernando Carvajal Torres",
         "ace_percent": 0.03806228373702422,
         "break_point": 0.5833333333333334,
         "fspw": 0.6257668711656442,
         "average_rank": 657.1111111111111,
         "_deepnote_index_column": 51
        },
        {
         "Name": "Tobias Kamke",
         "ace_percent": 0.04410445792666842,
         "break_point": 0.5664335664335665,
         "fspw": 0.6764811168784679,
         "average_rank": 236.2721088435374,
         "_deepnote_index_column": 52
        },
        {
         "Name": "Maxime Tabatruong",
         "ace_percent": 0.05887560867640549,
         "break_point": 0.5900900900900901,
         "fspw": 0.6837672281776417,
         "average_rank": 424.5128205128205,
         "_deepnote_index_column": 54
        },
        {
         "Name": "Nathan Pasha",
         "ace_percent": 0.05378973105134474,
         "break_point": 0.6927374301675978,
         "fspw": 0.6663644605621033,
         "average_rank": 616.9032258064516,
         "_deepnote_index_column": 55
        },
        {
         "Name": "Evita Ramirez",
         "ace_percent": 0,
         "break_point": 0.3157894736842105,
         "fspw": 0.5970149253731343,
         "average_rank": 376.15686274509807,
         "_deepnote_index_column": 56
        },
        {
         "Name": "Cheng Yu Yu",
         "ace_percent": 0.09895833333333333,
         "break_point": 0.47058823529411764,
         "fspw": 0.7017543859649122,
         "average_rank": 98.92307692307692,
         "_deepnote_index_column": 57
        },
        {
         "Name": "Billy Harris",
         "ace_percent": 0.07954545454545454,
         "break_point": 0.6363636363636364,
         "fspw": 0.6858974358974359,
         "average_rank": 478.6666666666667,
         "_deepnote_index_column": 58
        },
        {
         "Name": "Bernarda Pera",
         "ace_percent": 0.0408298755186722,
         "break_point": 0.5494505494505495,
         "fspw": 0.6462942477876106,
         "average_rank": 163.11080332409972,
         "_deepnote_index_column": 59
        },
        {
         "Name": "Kacper Zuk",
         "ace_percent": 0.07421590080233406,
         "break_point": 0.5797101449275363,
         "fspw": 0.6977521263669502,
         "average_rank": 335.48,
         "_deepnote_index_column": 61
        },
        {
         "Name": "Chan Yeong Oh",
         "ace_percent": 0.03255813953488372,
         "break_point": 0.36363636363636365,
         "fspw": 0.6637168141592921,
         "average_rank": 397.9,
         "_deepnote_index_column": 62
        },
        {
         "Name": "Ken Onoda",
         "ace_percent": 0.13836477987421383,
         "break_point": 0.5625,
         "fspw": 0.7209302325581395,
         "average_rank": 550.8,
         "_deepnote_index_column": 63
        },
        {
         "Name": "Juan Martin del Potro",
         "ace_percent": 0.10547749949093871,
         "break_point": 0.5974376264329063,
         "fspw": 0.7386207454119169,
         "average_rank": 93.70520231213872,
         "_deepnote_index_column": 65
        },
        {
         "Name": "Daniel Mora",
         "ace_percent": 0,
         "break_point": 0.42105263157894735,
         "fspw": 0.4797687861271676,
         "average_rank": 330.27272727272725,
         "_deepnote_index_column": 67
        },
        {
         "Name": "Mirza Basic",
         "ace_percent": 0.08172183434627556,
         "break_point": 0.6094215861657722,
         "fspw": 0.7184148793565683,
         "average_rank": 244.81138790035587,
         "_deepnote_index_column": 69
        },
        {
         "Name": "Corrado Summaria",
         "ace_percent": 0.024806201550387597,
         "break_point": 0.5757575757575758,
         "fspw": 0.630071599045346,
         "average_rank": 669.9,
         "_deepnote_index_column": 70
        },
        {
         "Name": "Savriyan Danilov",
         "ace_percent": 0.05142857142857143,
         "break_point": 0.5384615384615384,
         "fspw": 0.6621621621621622,
         "average_rank": 535.6666666666666,
         "_deepnote_index_column": 71
        },
        {
         "Name": "Scott Griekspoor",
         "ace_percent": 0.07548669050456894,
         "break_point": 0.627039627039627,
         "fspw": 0.7168694508385399,
         "average_rank": 293.6625,
         "_deepnote_index_column": 73
        },
        {
         "Name": "Storm Sanders",
         "ace_percent": 0.03667679837892604,
         "break_point": 0.5452991452991452,
         "fspw": 0.623179022337326,
         "average_rank": 281.10655737704917,
         "_deepnote_index_column": 74
        },
        {
         "Name": "Hugo Gaston",
         "ace_percent": 0.03835373948960023,
         "break_point": 0.5594202898550724,
         "fspw": 0.6446840521564694,
         "average_rank": 208.37777777777777,
         "_deepnote_index_column": 75
        },
        {
         "Name": "Yanina Wickmayer",
         "ace_percent": 0.04839016955610592,
         "break_point": 0.5596885813148789,
         "fspw": 0.650786308973173,
         "average_rank": 149.9245283018868,
         "_deepnote_index_column": 77
        },
        {
         "Name": "Franko Skugor",
         "ace_percent": 0.07441253263707572,
         "break_point": 0.594859241126071,
         "fspw": 0.711277410372433,
         "average_rank": 284.0820895522388,
         "_deepnote_index_column": 78
        },
        {
         "Name": "Alison Bai",
         "ace_percent": 0.06712564543889846,
         "break_point": 0.39285714285714285,
         "fspw": 0.6631853785900783,
         "average_rank": 320.27972027972027,
         "_deepnote_index_column": 79
        },
        {
         "Name": "Nicolas Alejandro De Gregorio",
         "ace_percent": 0,
         "break_point": 0.6153846153846154,
         "fspw": 0.6410256410256411,
         "average_rank": 554.4,
         "_deepnote_index_column": 80
        },
        {
         "Name": "Quirine Lemoine",
         "ace_percent": 0.011750881316098707,
         "break_point": 0.5354330708661418,
         "fspw": 0.5795246800731262,
         "average_rank": 447.7807486631016,
         "_deepnote_index_column": 81
        },
        {
         "Name": "Sam Querrey",
         "ace_percent": 0.14006803727259282,
         "break_point": 0.6302083333333334,
         "fspw": 0.7692931915929563,
         "average_rank": 90.19396551724138,
         "_deepnote_index_column": 83
        },
        {
         "Name": "Radu Albot",
         "ace_percent": 0.0488167998746278,
         "break_point": 0.5844580777096114,
         "fspw": 0.6723393605706063,
         "average_rank": 157.11275964391692,
         "_deepnote_index_column": 84
        },
        {
         "Name": "Max Wennakoski",
         "ace_percent": 0.06093189964157706,
         "break_point": 0.6,
         "fspw": 0.7133757961783439,
         "average_rank": 1528.6666666666667,
         "_deepnote_index_column": 85
        },
        {
         "Name": "Arantxa Rus",
         "ace_percent": 0.030933909456938035,
         "break_point": 0.5504065040650407,
         "fspw": 0.6148159324079662,
         "average_rank": 287.11082474226805,
         "_deepnote_index_column": 86
        },
        {
         "Name": "Lesia Tsurenko",
         "ace_percent": 0.024676695698073372,
         "break_point": 0.5275113579000504,
         "fspw": 0.6003900636419627,
         "average_rank": 101.21363636363637,
         "_deepnote_index_column": 87
        },
        {
         "Name": "Svetlana Kuznetsova",
         "ace_percent": 0.035609551738583996,
         "break_point": 0.5262881177707676,
         "fspw": 0.6256400707569127,
         "average_rank": 67.16,
         "_deepnote_index_column": 90
        },
        {
         "Name": "Cristian Rodriguez",
         "ace_percent": 0.0533731853116994,
         "break_point": 0.6148491879350348,
         "fspw": 0.6967301473230327,
         "average_rank": 523.4657534246576,
         "_deepnote_index_column": 91
        },
        {
         "Name": "Igor Zelenay",
         "ace_percent": 0.07923771313941826,
         "break_point": 0.6346153846153846,
         "fspw": 0.6768,
         "average_rank": 434.84615384615387,
         "_deepnote_index_column": 92
        },
        {
         "Name": "Facundo Bagnis",
         "ace_percent": 0.054234187140616834,
         "break_point": 0.5998026964814206,
         "fspw": 0.6821397474967349,
         "average_rank": 232.57422969187675,
         "_deepnote_index_column": 94
        },
        {
         "Name": "Timur Khabibulin",
         "ace_percent": 0.06003898635477583,
         "break_point": 0.5719844357976653,
         "fspw": 0.6838885112168592,
         "average_rank": 450.1730769230769,
         "_deepnote_index_column": 95
        },
        {
         "Name": "Simon Carr",
         "ace_percent": 0.055944055944055944,
         "break_point": 0.6153846153846154,
         "fspw": 0.6988636363636364,
         "average_rank": 124.64285714285714,
         "_deepnote_index_column": 96
        },
        {
         "Name": "Evgeny Elistratov",
         "ace_percent": 0.05025125628140704,
         "break_point": 0.52,
         "fspw": 0.6266094420600858,
         "average_rank": 468.5,
         "_deepnote_index_column": 97
        },
        {
         "Name": "Mandy Minella",
         "ace_percent": 0.03508242862887012,
         "break_point": 0.5340909090909091,
         "fspw": 0.6262463814731425,
         "average_rank": 216.82008368200837,
         "_deepnote_index_column": 99
        },
        {
         "Name": "Danny Thomas",
         "ace_percent": 0.05656108597285068,
         "break_point": 0.7362637362637363,
         "fspw": 0.6887966804979253,
         "average_rank": 605.25,
         "_deepnote_index_column": 100
        },
        {
         "Name": "Collin Altamirano",
         "ace_percent": 0.06586695747001091,
         "break_point": 0.6267942583732058,
         "fspw": 0.7097850259451446,
         "average_rank": 330.07894736842104,
         "_deepnote_index_column": 101
        },
        {
         "Name": "Marcelo Zormann Da Silva",
         "ace_percent": 0.034501061571125265,
         "break_point": 0.5618556701030928,
         "fspw": 0.6775907883082374,
         "average_rank": 447.90625,
         "_deepnote_index_column": 102
        },
        {
         "Name": "Roman Safiullin",
         "ace_percent": 0.06707002139747657,
         "break_point": 0.5835351089588378,
         "fspw": 0.6985407521651441,
         "average_rank": 340.53005464480873,
         "_deepnote_index_column": 103
        },
        {
         "Name": "Vera Lapko",
         "ace_percent": 0.04470413652383602,
         "break_point": 0.534621578099839,
         "fspw": 0.6344524631314716,
         "average_rank": 318.695,
         "_deepnote_index_column": 104
        },
        {
         "Name": "Joao Sousa",
         "ace_percent": 0.06417763620180822,
         "break_point": 0.608944357774311,
         "fspw": 0.7081916537867079,
         "average_rank": 91.46503496503496,
         "_deepnote_index_column": 105
        },
        {
         "Name": "Alvaro Lopez San Martin",
         "ace_percent": 0.04784688995215311,
         "break_point": 0.6896551724137931,
         "fspw": 0.6442577030812325,
         "average_rank": 535.9,
         "_deepnote_index_column": 107
        },
        {
         "Name": "Pietro Rondoni",
         "ace_percent": 0.0583804143126177,
         "break_point": 0.5952380952380952,
         "fspw": 0.668693009118541,
         "average_rank": 206.7,
         "_deepnote_index_column": 109
        },
        {
         "Name": "Yen Hsun Lu",
         "ace_percent": 0.08034123933627074,
         "break_point": 0.5797752808988764,
         "fspw": 0.7186409828606097,
         "average_rank": 203.8203125,
         "_deepnote_index_column": 111
        },
        {
         "Name": "Lucrezia Stefanini",
         "ace_percent": 0.004878048780487805,
         "break_point": 0.4430379746835443,
         "fspw": 0.5673758865248227,
         "average_rank": 537.3458646616541,
         "_deepnote_index_column": 115
        },
        {
         "Name": "Emiliana Arango",
         "ace_percent": 0.005253940455341506,
         "break_point": 0.43902439024390244,
         "fspw": 0.5770308123249299,
         "average_rank": 651.4444444444445,
         "_deepnote_index_column": 117
        },
        {
         "Name": "Jodie Anna Burrage",
         "ace_percent": 0.03711790393013101,
         "break_point": 0.41509433962264153,
         "fspw": 0.6262975778546713,
         "average_rank": 561.4150943396227,
         "_deepnote_index_column": 118
        },
        {
         "Name": "Dalwinder Singh",
         "ace_percent": 0.1,
         "break_point": 0.6451612903225806,
         "fspw": 0.7337278106508875,
         "average_rank": 937.875,
         "_deepnote_index_column": 119
        },
        {
         "Name": "Jeremy Chardy",
         "ace_percent": 0.09453781512605042,
         "break_point": 0.6188637617209046,
         "fspw": 0.7291800930898675,
         "average_rank": 101.16785714285714,
         "_deepnote_index_column": 120
        },
        {
         "Name": "Denis Kudla",
         "ace_percent": 0.08868618733711482,
         "break_point": 0.5986480777355302,
         "fspw": 0.7079192048733568,
         "average_rank": 178.9702380952381,
         "_deepnote_index_column": 122
        },
        {
         "Name": "Luca Pancaldi",
         "ace_percent": 0.09869646182495345,
         "break_point": 0.7021276595744681,
         "fspw": 0.7938461538461539,
         "average_rank": 479,
         "_deepnote_index_column": 123
        },
        {
         "Name": "Viktorija Golubic",
         "ace_percent": 0.0219663517969929,
         "break_point": 0.5137697516930022,
         "fspw": 0.6042883291205439,
         "average_rank": 78.75888717156106,
         "_deepnote_index_column": 124
        },
        {
         "Name": "James Ibrahim",
         "ace_percent": 0.04943820224719101,
         "break_point": 0.5370370370370371,
         "fspw": 0.6533864541832669,
         "average_rank": 683.5714285714286,
         "_deepnote_index_column": 125
        },
        {
         "Name": "Shintaro Mochizuki",
         "ace_percent": 0.02977667493796526,
         "break_point": 0.5742574257425742,
         "fspw": 0.6166666666666667,
         "average_rank": 562.7857142857143,
         "_deepnote_index_column": 126
        },
        {
         "Name": "Nicole Gibbs",
         "ace_percent": 0.02129750982961992,
         "break_point": 0.5414920368818106,
         "fspw": 0.5963399612880521,
         "average_rank": 200.6578947368421,
         "_deepnote_index_column": 127
        },
        {
         "Name": "Melania Delai",
         "ace_percent": 0.009345794392523364,
         "break_point": 0.40540540540540543,
         "fspw": 0.6018099547511312,
         "average_rank": 571.7777777777778,
         "_deepnote_index_column": 128
        },
        {
         "Name": "Nikoloz Basilashvili",
         "ace_percent": 0.06222963051156884,
         "break_point": 0.5945723684210527,
         "fspw": 0.6849523557437798,
         "average_rank": 114.82334384858044,
         "_deepnote_index_column": 129
        },
        {
         "Name": "Steffi Carruthers",
         "ace_percent": 0.015521064301552107,
         "break_point": 0.46875,
         "fspw": 0.6098484848484849,
         "average_rank": 350.53225806451616,
         "_deepnote_index_column": 130
        },
        {
         "Name": "Ronan Joncour",
         "ace_percent": 0.058394160583941604,
         "break_point": 0.6538461538461539,
         "fspw": 0.7165991902834008,
         "average_rank": 602.5,
         "_deepnote_index_column": 132
        },
        {
         "Name": "Varatchaya Wongteanchai",
         "ace_percent": 0.02828802351212344,
         "break_point": 0.47368421052631576,
         "fspw": 0.5713470319634704,
         "average_rank": 286.7011494252874,
         "_deepnote_index_column": 133
        },
        {
         "Name": "Polona Hercog",
         "ace_percent": 0.034249471458773786,
         "break_point": 0.5474943904263276,
         "fspw": 0.6321056289089646,
         "average_rank": 180,
         "_deepnote_index_column": 134
        },
        {
         "Name": "Rebeka Masarova",
         "ace_percent": 0.028925619834710745,
         "break_point": 0.47368421052631576,
         "fspw": 0.5954692556634305,
         "average_rank": 708.4585987261147,
         "_deepnote_index_column": 135
        }
       ],
       "rows_bottom": [
        {
         "Name": "Marcelo Demoliner",
         "ace_percent": 0.0684931506849315,
         "break_point": 0.5614035087719298,
         "fspw": 0.6959619952494062,
         "average_rank": 886.6666666666666,
         "_deepnote_index_column": 2906
        },
        {
         "Name": "Laura Pous Tio",
         "ace_percent": 0.010606060606060607,
         "break_point": 0.5490196078431373,
         "fspw": 0.5823389021479713,
         "average_rank": 230.1219512195122,
         "_deepnote_index_column": 2907
        },
        {
         "Name": "Federico Arnaboldi",
         "ace_percent": 0.03496503496503497,
         "break_point": 0.8181818181818182,
         "fspw": 0.7411764705882353,
         "average_rank": 217.75,
         "_deepnote_index_column": 2908
        },
        {
         "Name": "Vlad Andrei Dumitru",
         "ace_percent": 0.03932584269662921,
         "break_point": 0.5365853658536586,
         "fspw": 0.6613756613756614,
         "average_rank": 579,
         "_deepnote_index_column": 2910
        },
        {
         "Name": "Jasmine Paolini",
         "ace_percent": 0.021716433493422425,
         "break_point": 0.5033333333333333,
         "fspw": 0.5995720868992759,
         "average_rank": 252.06514657980455,
         "_deepnote_index_column": 2913
        },
        {
         "Name": "Nina Potocnik",
         "ace_percent": 0.009174311926605505,
         "break_point": 0.7,
         "fspw": 0.6911764705882353,
         "average_rank": 643.0974576271186,
         "_deepnote_index_column": 2914
        },
        {
         "Name": "Ekaterine Gorgodze",
         "ace_percent": 0.016780283167278448,
         "break_point": 0.5274949083503055,
         "fspw": 0.5808270676691729,
         "average_rank": 410.01311475409835,
         "_deepnote_index_column": 2915
        },
        {
         "Name": "Catherine Cartan Bellis",
         "ace_percent": 0.029770129380731064,
         "break_point": 0.5466531440162272,
         "fspw": 0.6254387776171795,
         "average_rank": 236.6291390728477,
         "_deepnote_index_column": 2916
        },
        {
         "Name": "Dea Herdzelas",
         "ace_percent": 0.02480916030534351,
         "break_point": 0.4861111111111111,
         "fspw": 0.6028880866425993,
         "average_rank": 566.096618357488,
         "_deepnote_index_column": 2918
        },
        {
         "Name": "Guy Orly Iradukunda",
         "ace_percent": 0.06963788300835655,
         "break_point": 0.5526315789473685,
         "fspw": 0.6733668341708543,
         "average_rank": 1294.25,
         "_deepnote_index_column": 2919
        },
        {
         "Name": "Yunseong Chung",
         "ace_percent": 0.05707555716615329,
         "break_point": 0.6052385406922357,
         "fspw": 0.6877476379152697,
         "average_rank": 470.8562091503268,
         "_deepnote_index_column": 2920
        },
        {
         "Name": "Amir Weintraub",
         "ace_percent": 0.06609547123623011,
         "break_point": 0.603030303030303,
         "fspw": 0.6915052160953801,
         "average_rank": 245.0483870967742,
         "_deepnote_index_column": 2921
        },
        {
         "Name": "Alex Molcan",
         "ace_percent": 0.037288930581613505,
         "break_point": 0.5611814345991561,
         "fspw": 0.6458094874729747,
         "average_rank": 364.2064516129032,
         "_deepnote_index_column": 2923
        },
        {
         "Name": "Matheus Pucinelli De Almeida",
         "ace_percent": 0.04093234792495736,
         "break_point": 0.5641025641025641,
         "fspw": 0.6716981132075471,
         "average_rank": 613,
         "_deepnote_index_column": 2924
        },
        {
         "Name": "Hunter Callahan",
         "ace_percent": 0.05982905982905983,
         "break_point": 0.6075949367088608,
         "fspw": 0.6584158415841584,
         "average_rank": 570.6363636363636,
         "_deepnote_index_column": 2926
        },
        {
         "Name": "Naiktha Bains",
         "ace_percent": 0.026473099914602904,
         "break_point": 0.5275862068965518,
         "fspw": 0.5958583834335337,
         "average_rank": 378.8655462184874,
         "_deepnote_index_column": 2927
        },
        {
         "Name": "Amina Anshba",
         "ace_percent": 0.022813688212927757,
         "break_point": 0.675,
         "fspw": 0.5975609756097561,
         "average_rank": 574.6801619433198,
         "_deepnote_index_column": 2929
        },
        {
         "Name": "Xinyu Jiang",
         "ace_percent": 0,
         "break_point": 0.52,
         "fspw": 0.5974025974025974,
         "average_rank": 417.8888888888889,
         "_deepnote_index_column": 2930
        },
        {
         "Name": "Miliaan Niesten",
         "ace_percent": 0.027724049000644745,
         "break_point": 0.5485564304461942,
         "fspw": 0.6312309257375381,
         "average_rank": 661.9230769230769,
         "_deepnote_index_column": 2931
        },
        {
         "Name": "Ivo Minar",
         "ace_percent": 0.06972789115646258,
         "break_point": 0.5106382978723404,
         "fspw": 0.7233333333333334,
         "average_rank": 418.3,
         "_deepnote_index_column": 2932
        },
        {
         "Name": "Laurynas Grigelis",
         "ace_percent": 0.08537987250496394,
         "break_point": 0.564875491480996,
         "fspw": 0.7267492584191241,
         "average_rank": 291.15441176470586,
         "_deepnote_index_column": 2933
        },
        {
         "Name": "Priscilla Hon",
         "ace_percent": 0.05609756097560976,
         "break_point": 0.5548128342245989,
         "fspw": 0.6605525888089158,
         "average_rank": 533.3,
         "_deepnote_index_column": 2936
        },
        {
         "Name": "Jeremy Beale",
         "ace_percent": 0.05052878965922444,
         "break_point": 0.6451612903225806,
         "fspw": 0.706959706959707,
         "average_rank": 320.9375,
         "_deepnote_index_column": 2937
        },
        {
         "Name": "Akiko Omae",
         "ace_percent": 0,
         "break_point": 0.45454545454545453,
         "fspw": 0.5102040816326531,
         "average_rank": 387.02985074626866,
         "_deepnote_index_column": 2938
        },
        {
         "Name": "Rinky Hijikata",
         "ace_percent": 0.0625,
         "break_point": 0.6875,
         "fspw": 0.7266666666666667,
         "average_rank": 219.875,
         "_deepnote_index_column": 2939
        },
        {
         "Name": "Maxime Mora",
         "ace_percent": 0.015337423312883436,
         "break_point": 0.42857142857142855,
         "fspw": 0.6023391812865497,
         "average_rank": 690,
         "_deepnote_index_column": 2940
        },
        {
         "Name": "Ziyue Sun",
         "ace_percent": 0.046153846153846156,
         "break_point": 0.3333333333333333,
         "fspw": 0.6388888888888888,
         "average_rank": 531.1153846153846,
         "_deepnote_index_column": 2944
        },
        {
         "Name": "Tom Farquharson",
         "ace_percent": 0.12323943661971831,
         "break_point": 0.5517241379310345,
         "fspw": 0.7365591397849462,
         "average_rank": 581.2,
         "_deepnote_index_column": 2945
        },
        {
         "Name": "Urszula Radwanska",
         "ace_percent": 0.024686361796843383,
         "break_point": 0.5192307692307693,
         "fspw": 0.5938892425206874,
         "average_rank": 377.3636363636364,
         "_deepnote_index_column": 2946
        },
        {
         "Name": "Audrey Albie",
         "ace_percent": 0.06188118811881188,
         "break_point": 0.6582278481012658,
         "fspw": 0.6597353497164461,
         "average_rank": 526.4854368932039,
         "_deepnote_index_column": 2948
        },
        {
         "Name": "Pablo Carreno Busta",
         "ace_percent": 0.06769592213458633,
         "break_point": 0.6013437849944009,
         "fspw": 0.7036145866752219,
         "average_rank": 72.24921135646687,
         "_deepnote_index_column": 2951
        },
        {
         "Name": "Patrick Kypson",
         "ace_percent": 0.07893462469733656,
         "break_point": 0.5792682926829268,
         "fspw": 0.7252836304700162,
         "average_rank": 545.6666666666666,
         "_deepnote_index_column": 2952
        },
        {
         "Name": "Vera Zvonareva",
         "ace_percent": 0.027965673902069662,
         "break_point": 0.5056867891513561,
         "fspw": 0.6229322088874473,
         "average_rank": 218.126582278481,
         "_deepnote_index_column": 2953
        },
        {
         "Name": "Vignesh Peranamallur",
         "ace_percent": 0.09090909090909091,
         "break_point": 0.42857142857142855,
         "fspw": 0.7017543859649122,
         "average_rank": 773,
         "_deepnote_index_column": 2954
        },
        {
         "Name": "Ulrikke Eikeri",
         "ace_percent": 0.011615044247787611,
         "break_point": 0.4854771784232365,
         "fspw": 0.5752828546562228,
         "average_rank": 391.1720430107527,
         "_deepnote_index_column": 2955
        },
        {
         "Name": "Akira Santillan",
         "ace_percent": 0.06463485503971073,
         "break_point": 0.5858725761772853,
         "fspw": 0.6990394877267876,
         "average_rank": 287.79741379310343,
         "_deepnote_index_column": 2956
        },
        {
         "Name": "Marc Sieber",
         "ace_percent": 0.054187192118226604,
         "break_point": 0.5502092050209205,
         "fspw": 0.6718118338846012,
         "average_rank": 503.84285714285716,
         "_deepnote_index_column": 2957
        },
        {
         "Name": "Montserrat Gonzalez",
         "ace_percent": 0.02066532258064516,
         "break_point": 0.5458333333333333,
         "fspw": 0.634020618556701,
         "average_rank": 490.4171779141104,
         "_deepnote_index_column": 2958
        },
        {
         "Name": "Ipek Oz",
         "ace_percent": 0.021505376344086023,
         "break_point": 0.45454545454545453,
         "fspw": 0.75,
         "average_rank": 601.938679245283,
         "_deepnote_index_column": 2959
        },
        {
         "Name": "Geoffrey Blancaneaux",
         "ace_percent": 0.039095744680851065,
         "break_point": 0.5885286783042394,
         "fspw": 0.6570885273610818,
         "average_rank": 322.7916666666667,
         "_deepnote_index_column": 2960
        },
        {
         "Name": "Anthony Jackie Tang",
         "ace_percent": 0.04142011834319527,
         "break_point": 0.631578947368421,
         "fspw": 0.6590909090909091,
         "average_rank": 2850,
         "_deepnote_index_column": 2961
        },
        {
         "Name": "Anil Yuksel",
         "ace_percent": 0.07272727272727272,
         "break_point": 0.55,
         "fspw": 0.7410714285714286,
         "average_rank": 176.27272727272728,
         "_deepnote_index_column": 2962
        },
        {
         "Name": "Ryan Shane",
         "ace_percent": 0.09203014386846312,
         "break_point": 0.6029055690072639,
         "fspw": 0.7293893129770992,
         "average_rank": 433.1232876712329,
         "_deepnote_index_column": 2963
        },
        {
         "Name": "Tatsuma Ito",
         "ace_percent": 0.06775689031534973,
         "break_point": 0.5885747259088286,
         "fspw": 0.6960483804158728,
         "average_rank": 249.21167883211677,
         "_deepnote_index_column": 2964
        },
        {
         "Name": "Elitsa Kostova",
         "ace_percent": 0.027038183694530444,
         "break_point": 0.5263157894736842,
         "fspw": 0.5939947780678851,
         "average_rank": 290.1114864864865,
         "_deepnote_index_column": 2965
        },
        {
         "Name": "Illya Marchenko",
         "ace_percent": 0.07458654906284454,
         "break_point": 0.6174536760310819,
         "fspw": 0.716865191907733,
         "average_rank": 282.75,
         "_deepnote_index_column": 2966
        },
        {
         "Name": "Gabriela Talaba",
         "ace_percent": 0.0189328743545611,
         "break_point": 0.5901639344262295,
         "fspw": 0.6242424242424243,
         "average_rank": 544.3280423280423,
         "_deepnote_index_column": 2967
        },
        {
         "Name": "Oksana Kalashnikova",
         "ace_percent": 0.028622540250447227,
         "break_point": 0.6027397260273972,
         "fspw": 0.6198830409356725,
         "average_rank": 252.75,
         "_deepnote_index_column": 2968
        },
        {
         "Name": "Nicholas David Ionel",
         "ace_percent": 0.026595744680851064,
         "break_point": 0.6,
         "fspw": 0.6198347107438017,
         "average_rank": 109.125,
         "_deepnote_index_column": 2969
        },
        {
         "Name": "Louisa Chirico",
         "ace_percent": 0.037125488493269646,
         "break_point": 0.5309090909090909,
         "fspw": 0.6371323529411764,
         "average_rank": 250.95652173913044,
         "_deepnote_index_column": 2970
        },
        {
         "Name": "Roberto Ortega Olmedo",
         "ace_percent": 0.03709492549755132,
         "break_point": 0.5683673469387756,
         "fspw": 0.6578119538622859,
         "average_rank": 297.8228571428571,
         "_deepnote_index_column": 2972
        },
        {
         "Name": "George Von Massow",
         "ace_percent": 0.08725371934057097,
         "break_point": 0.5530973451327433,
         "fspw": 0.6976897689768977,
         "average_rank": 668.96875,
         "_deepnote_index_column": 2973
        },
        {
         "Name": "Eric Quigley",
         "ace_percent": 0.0654178674351585,
         "break_point": 0.5922330097087378,
         "fspw": 0.7086575875486382,
         "average_rank": 505.42857142857144,
         "_deepnote_index_column": 2974
        },
        {
         "Name": "Lukas Ollert",
         "ace_percent": 0.021739130434782608,
         "break_point": 0.42857142857142855,
         "fspw": 0.7627118644067796,
         "average_rank": 120.16666666666667,
         "_deepnote_index_column": 2975
        },
        {
         "Name": "Jacqueline Cako",
         "ace_percent": 0.045514079895219384,
         "break_point": 0.6006191950464397,
         "fspw": 0.6224024328433857,
         "average_rank": 285.6787878787879,
         "_deepnote_index_column": 2976
        },
        {
         "Name": "Usue Maitane Arconada",
         "ace_percent": 0.015582655826558265,
         "break_point": 0.5231958762886598,
         "fspw": 0.5931428571428572,
         "average_rank": 310.1004016064257,
         "_deepnote_index_column": 2977
        },
        {
         "Name": "Yaraslau Shyla",
         "ace_percent": 0.07773564463705308,
         "break_point": 0.5910652920962199,
         "fspw": 0.7174868189806678,
         "average_rank": 525.574074074074,
         "_deepnote_index_column": 2978
        },
        {
         "Name": "Aoran Wang",
         "ace_percent": 0.11475409836065574,
         "break_point": 0.5909090909090909,
         "fspw": 0.6944444444444444,
         "average_rank": 950,
         "_deepnote_index_column": 2979
        },
        {
         "Name": "Matthew Barton",
         "ace_percent": 0.12711254944264652,
         "break_point": 0.6534391534391535,
         "fspw": 0.7627836611195159,
         "average_rank": 369.0246913580247,
         "_deepnote_index_column": 2980
        },
        {
         "Name": "Juan Manuel Benitez Chavarriaga",
         "ace_percent": 0.02702702702702703,
         "break_point": 0.6461538461538462,
         "fspw": 0.6422018348623854,
         "average_rank": 925.8333333333334,
         "_deepnote_index_column": 2981
        },
        {
         "Name": "Mikalai Haliak",
         "ace_percent": 0,
         "break_point": 0.4,
         "fspw": 0.6666666666666666,
         "average_rank": 474.27272727272725,
         "_deepnote_index_column": 2982
        },
        {
         "Name": "Daniel Rodrigues",
         "ace_percent": 0,
         "break_point": 0.4444444444444444,
         "fspw": 0.5094339622641509,
         "average_rank": 740,
         "_deepnote_index_column": 2983
        },
        {
         "Name": "Gail Brodsky",
         "ace_percent": 0.025806451612903226,
         "break_point": 0.6153846153846154,
         "fspw": 0.5454545454545454,
         "average_rank": 521.9,
         "_deepnote_index_column": 2984
        },
        {
         "Name": "Alexander Merino",
         "ace_percent": 0.014925373134328358,
         "break_point": 0.45454545454545453,
         "fspw": 0.5714285714285714,
         "average_rank": 510.2,
         "_deepnote_index_column": 2986
        },
        {
         "Name": "Janko Tipsarevic",
         "ace_percent": 0.07123143645682745,
         "break_point": 0.6043360433604336,
         "fspw": 0.7026654411764706,
         "average_rank": 275.8453608247423,
         "_deepnote_index_column": 2994
        },
        {
         "Name": "Fredrik Ask",
         "ace_percent": 0.06430868167202572,
         "break_point": 0.7419354838709677,
         "fspw": 0.7,
         "average_rank": 988,
         "_deepnote_index_column": 2997
        },
        {
         "Name": "Vadym Ursu",
         "ace_percent": 0.03129890453834116,
         "break_point": 0.5415384615384615,
         "fspw": 0.5974025974025974,
         "average_rank": 764.5714285714286,
         "_deepnote_index_column": 2998
        },
        {
         "Name": "Igor Ribeiro Marcondes",
         "ace_percent": 0.02406417112299465,
         "break_point": 0.41025641025641024,
         "fspw": 0.6714975845410628,
         "average_rank": 769.9090909090909,
         "_deepnote_index_column": 2999
        },
        {
         "Name": "Khololwam Montsi",
         "ace_percent": 0.02654867256637168,
         "break_point": 0.6,
         "fspw": 0.6164383561643836,
         "average_rank": 485.25,
         "_deepnote_index_column": 3000
        },
        {
         "Name": "Miki Jankovic",
         "ace_percent": 0.061224489795918366,
         "break_point": 0.5660377358490566,
         "fspw": 0.6974972796517954,
         "average_rank": 365.7586206896552,
         "_deepnote_index_column": 3001
        },
        {
         "Name": "Jose Hernandez",
         "ace_percent": 0.04066742799137165,
         "break_point": 0.5612777053455019,
         "fspw": 0.6594451524360356,
         "average_rank": 331.2488262910798,
         "_deepnote_index_column": 3002
        },
        {
         "Name": "Kenneth Raisma",
         "ace_percent": 0.03592814371257485,
         "break_point": 0.5384615384615384,
         "fspw": 0.6274509803921569,
         "average_rank": 616.5,
         "_deepnote_index_column": 3004
        },
        {
         "Name": "Cannon Kingsley",
         "ace_percent": 0.07142857142857142,
         "break_point": 0.6511627906976745,
         "fspw": 0.6891385767790262,
         "average_rank": 396,
         "_deepnote_index_column": 3005
        },
        {
         "Name": "Lyudmyla Kichenok",
         "ace_percent": 0.03674540682414698,
         "break_point": 0.5,
         "fspw": 0.6227544910179641,
         "average_rank": 180.03333333333333,
         "_deepnote_index_column": 3006
        },
        {
         "Name": "Jesse Huta Galung",
         "ace_percent": 0.06692913385826772,
         "break_point": 0.5714285714285714,
         "fspw": 0.6772151898734177,
         "average_rank": 396.5,
         "_deepnote_index_column": 3007
        },
        {
         "Name": "Evgenii Tiurnev",
         "ace_percent": 0.09304322931577441,
         "break_point": 0.5791245791245792,
         "fspw": 0.7173699705593719,
         "average_rank": 346.9714285714286,
         "_deepnote_index_column": 3008
        },
        {
         "Name": "Marco Bortolotti",
         "ace_percent": 0.03372781065088758,
         "break_point": 0.522911051212938,
         "fspw": 0.6283560998586906,
         "average_rank": 324.70588235294116,
         "_deepnote_index_column": 3009
        },
        {
         "Name": "Beibit Zhukayev",
         "ace_percent": 0.09813084112149532,
         "break_point": 0.625,
         "fspw": 0.7338709677419355,
         "average_rank": 150.21428571428572,
         "_deepnote_index_column": 3010
        },
        {
         "Name": "Julian Cash",
         "ace_percent": 0.13793103448275862,
         "break_point": 0.6,
         "fspw": 0.796875,
         "average_rank": 487.3333333333333,
         "_deepnote_index_column": 3011
        },
        {
         "Name": "Takashi Saito",
         "ace_percent": 0.06382978723404255,
         "break_point": 0.3333333333333333,
         "fspw": 0.6451612903225806,
         "average_rank": 225.5,
         "_deepnote_index_column": 3012
        },
        {
         "Name": "Mauricio Astorga",
         "ace_percent": 0.030303030303030304,
         "break_point": 0.5238095238095238,
         "fspw": 0.7102803738317757,
         "average_rank": 406.2142857142857,
         "_deepnote_index_column": 3014
        },
        {
         "Name": "Agnieszka Radwanska",
         "ace_percent": 0.03404013323584369,
         "break_point": 0.5325644504748982,
         "fspw": 0.6259107166512121,
         "average_rank": 47.111111111111114,
         "_deepnote_index_column": 3015
        },
        {
         "Name": "Michael Venus",
         "ace_percent": 0.07629427792915532,
         "break_point": 0.6486486486486487,
         "fspw": 0.7135678391959799,
         "average_rank": 169.4,
         "_deepnote_index_column": 3016
        },
        {
         "Name": "Go Soeda",
         "ace_percent": 0.05932243998274953,
         "break_point": 0.5715,
         "fspw": 0.6909295412549209,
         "average_rank": 245.3667820069204,
         "_deepnote_index_column": 3017
        },
        {
         "Name": "Jui Chen Hung",
         "ace_percent": 0.0581039755351682,
         "break_point": 0.5517241379310345,
         "fspw": 0.680365296803653,
         "average_rank": 285.2307692307692,
         "_deepnote_index_column": 3018
        },
        {
         "Name": "Rayane Roumane",
         "ace_percent": 0.07071765322158198,
         "break_point": 0.6,
         "fspw": 0.7155399473222125,
         "average_rank": 263.10714285714283,
         "_deepnote_index_column": 3019
        },
        {
         "Name": "Zach Itzstein",
         "ace_percent": 0.035175879396984924,
         "break_point": 0.5294117647058824,
         "fspw": 0.6641221374045801,
         "average_rank": 734.6666666666666,
         "_deepnote_index_column": 3020
        },
        {
         "Name": "Juan Pablo Canas Garcia",
         "ace_percent": 0.026595744680851064,
         "break_point": 0.46875,
         "fspw": 0.55,
         "average_rank": 852,
         "_deepnote_index_column": 3021
        },
        {
         "Name": "David Fleming",
         "ace_percent": 0.018867924528301886,
         "break_point": 0.6470588235294118,
         "fspw": 0.581081081081081,
         "average_rank": 222.66666666666666,
         "_deepnote_index_column": 3022
        },
        {
         "Name": "Marco Trungelliti",
         "ace_percent": 0.0432394693972539,
         "break_point": 0.5606203007518797,
         "fspw": 0.6661179052994669,
         "average_rank": 250.24632352941177,
         "_deepnote_index_column": 3024
        },
        {
         "Name": "Petra Martic",
         "ace_percent": 0.03666822867853796,
         "break_point": 0.5904203323558163,
         "fspw": 0.6336513280957725,
         "average_rank": 151.73394495412845,
         "_deepnote_index_column": 3025
        },
        {
         "Name": "Sem Verbeek",
         "ace_percent": 0.05206407886629698,
         "break_point": 0.5928338762214984,
         "fspw": 0.683105981112277,
         "average_rank": 530.38,
         "_deepnote_index_column": 3026
        },
        {
         "Name": "Tom Kocevar Desman",
         "ace_percent": 0.08216783216783216,
         "break_point": 0.6363636363636364,
         "fspw": 0.7641509433962265,
         "average_rank": 258.55555555555554,
         "_deepnote_index_column": 3028
        },
        {
         "Name": "Shelby Rogers",
         "ace_percent": 0.047004847645429365,
         "break_point": 0.5497076023391813,
         "fspw": 0.6536710301650541,
         "average_rank": 147.67821782178217,
         "_deepnote_index_column": 3029
        },
        {
         "Name": "Juan Pablo Varillas",
         "ace_percent": 0.05543030397263469,
         "break_point": 0.5582870737509913,
         "fspw": 0.6800429472554019,
         "average_rank": 378.7022471910112,
         "_deepnote_index_column": 3030
        },
        {
         "Name": "Jozef Kovalik",
         "ace_percent": 0.04383595795072091,
         "break_point": 0.5901103391908459,
         "fspw": 0.6747811232116165,
         "average_rank": 215.1787878787879,
         "_deepnote_index_column": 3033
        },
        {
         "Name": "Andres Molteni",
         "ace_percent": 0.03494318181818182,
         "break_point": 0.5452054794520548,
         "fspw": 0.6702932828760644,
         "average_rank": 707.4310344827586,
         "_deepnote_index_column": 3034
        },
        {
         "Name": "Kristian Lozan",
         "ace_percent": 0.06578947368421052,
         "break_point": 0.6666666666666666,
         "fspw": 0.6703910614525139,
         "average_rank": 291,
         "_deepnote_index_column": 3035
        },
        {
         "Name": "Thomas Statzberger",
         "ace_percent": 0.06633906633906633,
         "break_point": 0.48148148148148145,
         "fspw": 0.7302904564315352,
         "average_rank": 355.8888888888889,
         "_deepnote_index_column": 3036
        },
        {
         "Name": "Alibek Kachmazov",
         "ace_percent": 0.05964912280701754,
         "break_point": 0.7222222222222222,
         "fspw": 0.7142857142857143,
         "average_rank": 553.25,
         "_deepnote_index_column": 3037
        }
       ]
      },
      "text/plain": "                    Name  ace_percent  break_point      fspw  average_rank\n1     Gonzalo Villanueva     0.034551     0.546371  0.645863    500.761905\n2             Ben Patael     0.061041     0.581081  0.656706    466.525000\n3         Filipe Brandao     0.032609     0.500000  0.519231    380.000000\n4              Tim Puetz     0.091237     0.598425  0.714905    447.236842\n6         Nicolas Kicker     0.040140     0.564485  0.659364    278.266667\n...                  ...          ...          ...       ...           ...\n3033       Jozef Kovalik     0.043836     0.590110  0.674781    215.178788\n3034      Andres Molteni     0.034943     0.545205  0.670293    707.431034\n3035      Kristian Lozan     0.065789     0.666667  0.670391    291.000000\n3036  Thomas Statzberger     0.066339     0.481481  0.730290    355.888889\n3037    Alibek Kachmazov     0.059649     0.722222  0.714286    553.250000\n\n[2231 rows x 5 columns]",
      "text/html": "<div>\n<style scoped>\n    .dataframe tbody tr th:only-of-type {\n        vertical-align: middle;\n    }\n\n    .dataframe tbody tr th {\n        vertical-align: top;\n    }\n\n    .dataframe thead th {\n        text-align: right;\n    }\n</style>\n<table border=\"1\" class=\"dataframe\">\n  <thead>\n    <tr style=\"text-align: right;\">\n      <th></th>\n      <th>Name</th>\n      <th>ace_percent</th>\n      <th>break_point</th>\n      <th>fspw</th>\n      <th>average_rank</th>\n    </tr>\n  </thead>\n  <tbody>\n    <tr>\n      <th>1</th>\n      <td>Gonzalo Villanueva</td>\n      <td>0.034551</td>\n      <td>0.546371</td>\n      <td>0.645863</td>\n      <td>500.761905</td>\n    </tr>\n    <tr>\n      <th>2</th>\n      <td>Ben Patael</td>\n      <td>0.061041</td>\n      <td>0.581081</td>\n      <td>0.656706</td>\n      <td>466.525000</td>\n    </tr>\n    <tr>\n      <th>3</th>\n      <td>Filipe Brandao</td>\n      <td>0.032609</td>\n      <td>0.500000</td>\n      <td>0.519231</td>\n      <td>380.000000</td>\n    </tr>\n    <tr>\n      <th>4</th>\n      <td>Tim Puetz</td>\n      <td>0.091237</td>\n      <td>0.598425</td>\n      <td>0.714905</td>\n      <td>447.236842</td>\n    </tr>\n    <tr>\n      <th>6</th>\n      <td>Nicolas Kicker</td>\n      <td>0.040140</td>\n      <td>0.564485</td>\n      <td>0.659364</td>\n      <td>278.266667</td>\n    </tr>\n    <tr>\n      <th>...</th>\n      <td>...</td>\n      <td>...</td>\n      <td>...</td>\n      <td>...</td>\n      <td>...</td>\n    </tr>\n    <tr>\n      <th>3033</th>\n      <td>Jozef Kovalik</td>\n      <td>0.043836</td>\n      <td>0.590110</td>\n      <td>0.674781</td>\n      <td>215.178788</td>\n    </tr>\n    <tr>\n      <th>3034</th>\n      <td>Andres Molteni</td>\n      <td>0.034943</td>\n      <td>0.545205</td>\n      <td>0.670293</td>\n      <td>707.431034</td>\n    </tr>\n    <tr>\n      <th>3035</th>\n      <td>Kristian Lozan</td>\n      <td>0.065789</td>\n      <td>0.666667</td>\n      <td>0.670391</td>\n      <td>291.000000</td>\n    </tr>\n    <tr>\n      <th>3036</th>\n      <td>Thomas Statzberger</td>\n      <td>0.066339</td>\n      <td>0.481481</td>\n      <td>0.730290</td>\n      <td>355.888889</td>\n    </tr>\n    <tr>\n      <th>3037</th>\n      <td>Alibek Kachmazov</td>\n      <td>0.059649</td>\n      <td>0.722222</td>\n      <td>0.714286</td>\n      <td>553.250000</td>\n    </tr>\n  </tbody>\n</table>\n<p>2231 rows × 5 columns</p>\n</div>"
     },
     "metadata": {}
    }
   ]
  },
  {
   "cell_type": "code",
   "metadata": {
    "tags": [],
    "cell_id": "00025-714f0722-491c-4d02-8354-6a2241a82797",
    "deepnote_to_be_reexecuted": true,
    "source_hash": "6ac9351e",
    "execution_start": 1636648782019,
    "execution_millis": 568,
    "deepnote_cell_type": "code"
   },
   "source": "player_match_statistics.to_csv('../data/integrations/player_match_statistics.csv')",
   "execution_count": null,
   "outputs": []
  },
  {
   "cell_type": "markdown",
   "source": "### Dataframe Tourney_Statistics",
   "metadata": {
    "tags": [],
    "cell_id": "00026-9918bd06-fcb4-46e6-9f8c-f29ce548b7ae",
    "deepnote_cell_type": "markdown"
   }
  },
  {
   "cell_type": "code",
   "metadata": {
    "tags": [],
    "cell_id": "00026-e44ac4d3-0833-4b08-99fb-e4ed7731adf1",
    "deepnote_to_be_reexecuted": true,
    "source_hash": "73255497",
    "execution_start": 1636704871341,
    "execution_millis": 0,
    "deepnote_cell_type": "code"
   },
   "source": "\n# tourney name (tourney names)\n# spettatori medi (tourney spectators)\n# rank medio giocatori (sum over all players in a tourney rank and divide )\n# tourney_revenue (take cell with tourney revenue)\n# tot_match",
   "execution_count": null,
   "outputs": []
  },
  {
   "cell_type": "code",
   "metadata": {
    "tags": [],
    "cell_id": "00028-0695bb14-cd58-4868-8a2c-6f9c0077ca4e",
    "deepnote_to_be_reexecuted": true,
    "source_hash": "234a7c85",
    "execution_start": 1636705566680,
    "execution_millis": 152,
    "deepnote_cell_type": "code"
   },
   "source": "#clean dataset of null values\ndf_matchey_tourney_stat_no_null = df_matches[(df_matches['tourney_name'].notna()) & (df_matches['tourney_spectators'].notna()) & (df_matches['tourney_id'].notna())]",
   "execution_count": null,
   "outputs": []
  },
  {
   "cell_type": "code",
   "metadata": {
    "tags": [],
    "cell_id": "00029-f4a568bf-1254-4d48-a6cd-655f04264877",
    "deepnote_to_be_reexecuted": true,
    "source_hash": "e00aa707",
    "execution_start": 1636705595700,
    "execution_millis": 577,
    "deepnote_cell_type": "code"
   },
   "source": "df_tourney_stats = df_matchey_tourney_stat_no_null[['tourney_name', 'tourney_id']].drop_duplicates().reset_index()\n\ndf_matches_group_by_tourney_mean = df_matchey_tourney_stat_no_null.groupby(['tourney_name', 'tourney_id']).mean().reset_index()\ndf_matches_group_by_tourney_count= df_matchey_tourney_stat_no_null.groupby(['tourney_name', 'tourney_id'], as_index=False).agg({'draw_size':'count'})\n\ndf_tourney_stats['avg_spect'] = df_matches_group_by_tourney_mean['tourney_spectators']\n\ndf_tourney_stats['avg_rank'] = (df_matches_group_by_tourney_mean['winner_rank'] + df_matches_group_by_tourney_mean['loser_rank'])/2\n\ndf_tourney_stats['avg_revenue'] =  df_matches_group_by_tourney_mean['tourney_revenue']\n\ndf_tourney_stats['tot_match'] = df_matches_group_by_tourney_count['draw_size']\n\ndf_tourney_stats",
   "execution_count": null,
   "outputs": [
    {
     "output_type": "execute_result",
     "execution_count": 42,
     "data": {
      "application/vnd.deepnote.dataframe.v2+json": {
       "row_count": 4883,
       "column_count": 7,
       "columns": [
        {
         "name": "index",
         "dtype": "int64",
         "stats": {
          "unique_count": 4883,
          "nan_count": 0,
          "min": "0",
          "max": "186018",
          "histogram": [
           {
            "bin_start": 0,
            "bin_end": 18601.8,
            "count": 481
           },
           {
            "bin_start": 18601.8,
            "bin_end": 37203.6,
            "count": 465
           },
           {
            "bin_start": 37203.6,
            "bin_end": 55805.399999999994,
            "count": 555
           },
           {
            "bin_start": 55805.399999999994,
            "bin_end": 74407.2,
            "count": 321
           },
           {
            "bin_start": 74407.2,
            "bin_end": 93009,
            "count": 764
           },
           {
            "bin_start": 93009,
            "bin_end": 111610.79999999999,
            "count": 485
           },
           {
            "bin_start": 111610.79999999999,
            "bin_end": 130212.59999999999,
            "count": 586
           },
           {
            "bin_start": 130212.59999999999,
            "bin_end": 148814.4,
            "count": 423
           },
           {
            "bin_start": 148814.4,
            "bin_end": 167416.19999999998,
            "count": 480
           },
           {
            "bin_start": 167416.19999999998,
            "bin_end": 186018,
            "count": 323
           }
          ]
         }
        },
        {
         "name": "tourney_name",
         "dtype": "object",
         "stats": {
          "unique_count": 2488,
          "nan_count": 0,
          "categories": [
           {
            "name": "W15 Antalya",
            "count": 72
           },
           {
            "name": "W15 Monastir",
            "count": 70
           },
           {
            "name": "2486 others",
            "count": 4741
           }
          ]
         }
        },
        {
         "name": "tourney_id",
         "dtype": "object",
         "stats": {
          "unique_count": 4853,
          "nan_count": 0,
          "categories": [
           {
            "name": "2019-M006",
            "count": 2
           },
           {
            "name": "2019-M007",
            "count": 2
           },
           {
            "name": "4851 others",
            "count": 4879
           }
          ]
         }
        },
        {
         "name": "avg_spect",
         "dtype": "float64",
         "stats": {
          "unique_count": 2575,
          "nan_count": 0,
          "min": "91.0",
          "max": "18086.0",
          "histogram": [
           {
            "bin_start": 91,
            "bin_end": 1890.5,
            "count": 991
           },
           {
            "bin_start": 1890.5,
            "bin_end": 3690,
            "count": 2749
           },
           {
            "bin_start": 3690,
            "bin_end": 5489.5,
            "count": 862
           },
           {
            "bin_start": 5489.5,
            "bin_end": 7289,
            "count": 150
           },
           {
            "bin_start": 7289,
            "bin_end": 9088.5,
            "count": 84
           },
           {
            "bin_start": 9088.5,
            "bin_end": 10888,
            "count": 13
           },
           {
            "bin_start": 10888,
            "bin_end": 12687.5,
            "count": 10
           },
           {
            "bin_start": 12687.5,
            "bin_end": 14487,
            "count": 12
           },
           {
            "bin_start": 14487,
            "bin_end": 16286.5,
            "count": 8
           },
           {
            "bin_start": 16286.5,
            "bin_end": 18086,
            "count": 4
           }
          ]
         }
        },
        {
         "name": "avg_rank",
         "dtype": "float64",
         "stats": {
          "unique_count": 4629,
          "nan_count": 0,
          "min": "-1.0",
          "max": "1125.0",
          "histogram": [
           {
            "bin_start": -1,
            "bin_end": 111.6,
            "count": 555
           },
           {
            "bin_start": 111.6,
            "bin_end": 224.2,
            "count": 730
           },
           {
            "bin_start": 224.2,
            "bin_end": 336.79999999999995,
            "count": 869
           },
           {
            "bin_start": 336.79999999999995,
            "bin_end": 449.4,
            "count": 1128
           },
           {
            "bin_start": 449.4,
            "bin_end": 562,
            "count": 874
           },
           {
            "bin_start": 562,
            "bin_end": 674.5999999999999,
            "count": 556
           },
           {
            "bin_start": 674.5999999999999,
            "bin_end": 787.1999999999999,
            "count": 142
           },
           {
            "bin_start": 787.1999999999999,
            "bin_end": 899.8,
            "count": 21
           },
           {
            "bin_start": 899.8,
            "bin_end": 1012.4,
            "count": 4
           },
           {
            "bin_start": 1012.4,
            "bin_end": 1125,
            "count": 4
           }
          ]
         }
        },
        {
         "name": "avg_revenue",
         "dtype": "float64",
         "stats": {
          "unique_count": 4866,
          "nan_count": 0,
          "min": "17865.74",
          "max": "5002793.970000001",
          "histogram": [
           {
            "bin_start": 17865.74,
            "bin_end": 516358.563,
            "count": 1715
           },
           {
            "bin_start": 516358.563,
            "bin_end": 1014851.386,
            "count": 2818
           },
           {
            "bin_start": 1014851.386,
            "bin_end": 1513344.209,
            "count": 230
           },
           {
            "bin_start": 1513344.209,
            "bin_end": 2011837.0320000001,
            "count": 83
           },
           {
            "bin_start": 2011837.0320000001,
            "bin_end": 2510329.8550000004,
            "count": 21
           },
           {
            "bin_start": 2510329.8550000004,
            "bin_end": 3008822.6780000003,
            "count": 2
           },
           {
            "bin_start": 3008822.6780000003,
            "bin_end": 3507315.5010000006,
            "count": 4
           },
           {
            "bin_start": 3507315.5010000006,
            "bin_end": 4005808.3240000005,
            "count": 7
           },
           {
            "bin_start": 4005808.3240000005,
            "bin_end": 4504301.147000001,
            "count": 0
           },
           {
            "bin_start": 4504301.147000001,
            "bin_end": 5002793.970000001,
            "count": 3
           }
          ]
         }
        },
        {
         "name": "tot_match",
         "dtype": "int64",
         "stats": {
          "unique_count": 97,
          "nan_count": 0,
          "min": "2",
          "max": "478",
          "histogram": [
           {
            "bin_start": 2,
            "bin_end": 49.6,
            "count": 3704
           },
           {
            "bin_start": 49.6,
            "bin_end": 97.2,
            "count": 1124
           },
           {
            "bin_start": 97.2,
            "bin_end": 144.8,
            "count": 32
           },
           {
            "bin_start": 144.8,
            "bin_end": 192.4,
            "count": 0
           },
           {
            "bin_start": 192.4,
            "bin_end": 240,
            "count": 2
           },
           {
            "bin_start": 240,
            "bin_end": 287.6,
            "count": 2
           },
           {
            "bin_start": 287.6,
            "bin_end": 335.2,
            "count": 0
           },
           {
            "bin_start": 335.2,
            "bin_end": 382.8,
            "count": 0
           },
           {
            "bin_start": 382.8,
            "bin_end": 430.40000000000003,
            "count": 0
           },
           {
            "bin_start": 430.40000000000003,
            "bin_end": 478,
            "count": 19
           }
          ]
         }
        },
        {
         "name": "_deepnote_index_column",
         "dtype": "int64"
        }
       ],
       "rows_top": [
        {
         "index": 0,
         "tourney_name": "Brisbane",
         "tourney_id": "2019-M020",
         "avg_spect": 2366,
         "avg_rank": 129.73469387755102,
         "avg_revenue": 449800.0199999997,
         "tot_match": 49,
         "_deepnote_index_column": 0
        },
        {
         "index": 96,
         "tourney_name": "Doha",
         "tourney_id": "2019-0451",
         "avg_spect": 2773,
         "avg_rank": 180.40625,
         "avg_revenue": 563339.8099999997,
         "tot_match": 48,
         "_deepnote_index_column": 1
        },
        {
         "index": 139,
         "tourney_name": "Pune",
         "tourney_id": "2019-0891",
         "avg_spect": 447,
         "avg_rank": 104.125,
         "avg_revenue": 87559.10000000002,
         "tot_match": 16,
         "_deepnote_index_column": 2
        },
        {
         "index": 178,
         "tourney_name": "Auckland",
         "tourney_id": "2019-0301",
         "avg_spect": 6175,
         "avg_rank": 173.6206896551724,
         "avg_revenue": 1576751.989999998,
         "tot_match": 87,
         "_deepnote_index_column": 3
        },
        {
         "index": 217,
         "tourney_name": "Sydney",
         "tourney_id": "2019-M001",
         "avg_spect": 2347,
         "avg_rank": 121.07065217391305,
         "avg_revenue": 446360.7299999997,
         "tot_match": 92,
         "_deepnote_index_column": 4
        },
        {
         "index": 303,
         "tourney_name": "Australian Open",
         "tourney_id": "2019-580",
         "avg_spect": 3355,
         "avg_rank": 92.45108695652175,
         "avg_revenue": 735421.1700000013,
         "tot_match": 92,
         "_deepnote_index_column": 5
        },
        {
         "index": 781,
         "tourney_name": "Cordoba",
         "tourney_id": "2019-9158",
         "avg_spect": 4113,
         "avg_rank": 118.28421052631577,
         "avg_revenue": 867654.4699999992,
         "tot_match": 95,
         "_deepnote_index_column": 6
        },
        {
         "index": 820,
         "tourney_name": "Montpellier",
         "tourney_id": "2019-0375",
         "avg_spect": 3398,
         "avg_rank": 116.39673913043478,
         "avg_revenue": 655207.0799999987,
         "tot_match": 92,
         "_deepnote_index_column": 7
        },
        {
         "index": 859,
         "tourney_name": "Sofia",
         "tourney_id": "2019-7434",
         "avg_spect": 3391,
         "avg_rank": 131.29347826086956,
         "avg_revenue": 829870.0400000003,
         "tot_match": 92,
         "_deepnote_index_column": 8
        },
        {
         "index": 898,
         "tourney_name": "Buenos Aires",
         "tourney_id": "2019-0506",
         "avg_spect": 3921,
         "avg_rank": 155.98305084745763,
         "avg_revenue": 560824.91,
         "tot_match": 59,
         "_deepnote_index_column": 9
        },
        {
         "index": 937,
         "tourney_name": "New York",
         "tourney_id": "2019-0424",
         "avg_spect": 3248,
         "avg_rank": 112.39411764705882,
         "avg_revenue": 634762.4299999998,
         "tot_match": 85,
         "_deepnote_index_column": 10
        },
        {
         "index": 976,
         "tourney_name": "Rotterdam",
         "tourney_id": "2019-0407",
         "avg_spect": 3420,
         "avg_rank": 107.66279069767441,
         "avg_revenue": 660259.0399999993,
         "tot_match": 43,
         "_deepnote_index_column": 11
        },
        {
         "index": 1018,
         "tourney_name": "Delray Beach",
         "tourney_id": "2019-0499",
         "avg_spect": 3450,
         "avg_rank": 451.9032258064516,
         "avg_revenue": 719448.5100000004,
         "tot_match": 31,
         "_deepnote_index_column": 12
        },
        {
         "index": 1061,
         "tourney_name": "Marseille",
         "tourney_id": "2019-0496",
         "avg_spect": 4384,
         "avg_rank": 338.94444444444446,
         "avg_revenue": 1041275.7000000009,
         "tot_match": 54,
         "_deepnote_index_column": 13
        },
        {
         "index": 1100,
         "tourney_name": "Rio de Janeiro",
         "tourney_id": "2019-6932",
         "avg_spect": 4009,
         "avg_rank": 364.00892857142856,
         "avg_revenue": 790340.1099999995,
         "tot_match": 56,
         "_deepnote_index_column": 14
        },
        {
         "index": 1143,
         "tourney_name": "Acapulco",
         "tourney_id": "2019-M004",
         "avg_spect": 8787,
         "avg_rank": 253.6020408163265,
         "avg_revenue": 2419232.5999999978,
         "tot_match": 49,
         "_deepnote_index_column": 15
        },
        {
         "index": 1235,
         "tourney_name": "Dubai",
         "tourney_id": "2019-0495",
         "avg_spect": 3380,
         "avg_rank": 231.54651162790697,
         "avg_revenue": 860722.48,
         "tot_match": 43,
         "_deepnote_index_column": 16
        },
        {
         "index": 1277,
         "tourney_name": "Sao Paulo",
         "tourney_id": "2019-0533",
         "avg_spect": 3810,
         "avg_rank": 297.6020408163265,
         "avg_revenue": 729746.3799999999,
         "tot_match": 49,
         "_deepnote_index_column": 17
        },
        {
         "index": 1316,
         "tourney_name": "Indian Wells Masters",
         "tourney_id": "2019-M006",
         "avg_spect": 3531,
         "avg_rank": 304.72093023255815,
         "avg_revenue": 515067.28999999946,
         "tot_match": 43,
         "_deepnote_index_column": 18
        },
        {
         "index": 1411,
         "tourney_name": "Indian Wells",
         "tourney_id": "2019-M006",
         "avg_spect": 4201,
         "avg_rank": 470.3225806451613,
         "avg_revenue": 692408.88,
         "tot_match": 31,
         "_deepnote_index_column": 19
        },
        {
         "index": 1578,
         "tourney_name": "Miami Masters",
         "tourney_id": "2019-M007",
         "avg_spect": 3077,
         "avg_rank": 511.58064516129036,
         "avg_revenue": 619881.2799999999,
         "tot_match": 31,
         "_deepnote_index_column": 20
        },
        {
         "index": 1673,
         "tourney_name": "Miami",
         "tourney_id": "2019-M007",
         "avg_spect": 4202,
         "avg_rank": 463.9193548387097,
         "avg_revenue": 522719.90000000026,
         "tot_match": 31,
         "_deepnote_index_column": 21
        },
        {
         "index": 1840,
         "tourney_name": "Houston",
         "tourney_id": "2019-0717",
         "avg_spect": 3145,
         "avg_rank": 224.35483870967744,
         "avg_revenue": 574320.0700000002,
         "tot_match": 31,
         "_deepnote_index_column": 22
        },
        {
         "index": 1879,
         "tourney_name": "Marrakech",
         "tourney_id": "2019-0360",
         "avg_spect": 3415,
         "avg_rank": 438.1363636363636,
         "avg_revenue": 786801.1799999998,
         "tot_match": 55,
         "_deepnote_index_column": 23
        },
        {
         "index": 1922,
         "tourney_name": "Monte Carlo Masters",
         "tourney_id": "2019-0410",
         "avg_spect": 2510,
         "avg_rank": 307.00847457627117,
         "avg_revenue": 489941.1999999995,
         "tot_match": 59,
         "_deepnote_index_column": 24
        },
        {
         "index": 1998,
         "tourney_name": "Barcelona",
         "tourney_id": "2019-0425",
         "avg_spect": 3312,
         "avg_rank": 273.72093023255815,
         "avg_revenue": 676376.0199999997,
         "tot_match": 43,
         "_deepnote_index_column": 25
        },
        {
         "index": 2063,
         "tourney_name": "Budapest",
         "tourney_id": "2019-7648",
         "avg_spect": 3533,
         "avg_rank": 557.7741935483871,
         "avg_revenue": 730314.6999999996,
         "tot_match": 31,
         "_deepnote_index_column": 26
        },
        {
         "index": 2102,
         "tourney_name": "Estoril",
         "tourney_id": "2019-7290",
         "avg_spect": 2597,
         "avg_rank": 647.8548387096774,
         "avg_revenue": 545119.9700000002,
         "tot_match": 31,
         "_deepnote_index_column": 27
        },
        {
         "index": 2141,
         "tourney_name": "Munich",
         "tourney_id": "2019-0308",
         "avg_spect": 2707,
         "avg_rank": 599.2096774193549,
         "avg_revenue": 475008.40000000026,
         "tot_match": 31,
         "_deepnote_index_column": 28
        },
        {
         "index": 2180,
         "tourney_name": "Madrid Masters",
         "tourney_id": "2019-M021",
         "avg_spect": 3197,
         "avg_rank": 615.016129032258,
         "avg_revenue": 757970.2100000005,
         "tot_match": 31,
         "_deepnote_index_column": 29
        },
        {
         "index": 2235,
         "tourney_name": "Madrid",
         "tourney_id": "2019-M021",
         "avg_spect": 3231,
         "avg_rank": 582.4354838709678,
         "avg_revenue": 753803.6000000002,
         "tot_match": 31,
         "_deepnote_index_column": 30
        },
        {
         "index": 2343,
         "tourney_name": "Rome Masters",
         "tourney_id": "2019-M009",
         "avg_spect": 4238,
         "avg_rank": 538.2741935483871,
         "avg_revenue": 845509.1299999999,
         "tot_match": 31,
         "_deepnote_index_column": 31
        },
        {
         "index": 2398,
         "tourney_name": "Rome",
         "tourney_id": "2019-M009",
         "avg_spect": 3583,
         "avg_rank": 354.741935483871,
         "avg_revenue": 838038.09,
         "tot_match": 31,
         "_deepnote_index_column": 32
        },
        {
         "index": 2498,
         "tourney_name": "Geneva",
         "tourney_id": "2019-0322",
         "avg_spect": 3653,
         "avg_rank": 393.55,
         "avg_revenue": 552605.1199999996,
         "tot_match": 30,
         "_deepnote_index_column": 33
        },
        {
         "index": 2537,
         "tourney_name": "Lyon",
         "tourney_id": "2019-7694",
         "avg_spect": 3261,
         "avg_rank": 461.0322580645161,
         "avg_revenue": 738229.1000000002,
         "tot_match": 31,
         "_deepnote_index_column": 34
        },
        {
         "index": 2576,
         "tourney_name": "Roland Garros",
         "tourney_id": "2019-520",
         "avg_spect": 2109,
         "avg_rank": 447.01612903225805,
         "avg_revenue": 361340.77999999997,
         "tot_match": 31,
         "_deepnote_index_column": 35
        },
        {
         "index": 3026,
         "tourney_name": "s Hertogenbosch",
         "tourney_id": "2019-M010",
         "avg_spect": 5298,
         "avg_rank": 424.70754716981133,
         "avg_revenue": 1295591.1499999992,
         "tot_match": 53,
         "_deepnote_index_column": 36
        },
        {
         "index": 3053,
         "tourney_name": "S-Hertogenbosch",
         "tourney_id": "2019-M010",
         "avg_spect": 3755,
         "avg_rank": 381.6779661016949,
         "avg_revenue": 660901.0300000006,
         "tot_match": 59,
         "_deepnote_index_column": 37
        },
        {
         "index": 3114,
         "tourney_name": "Stuttgart",
         "tourney_id": "2019-0321",
         "avg_spect": 4188,
         "avg_rank": 509.46610169491527,
         "avg_revenue": 725393.9500000002,
         "tot_match": 59,
         "_deepnote_index_column": 38
        },
        {
         "index": 3153,
         "tourney_name": "Halle",
         "tourney_id": "2019-0500",
         "avg_spect": 6888,
         "avg_rank": 280.0816326530612,
         "avg_revenue": 1195250.5900000015,
         "tot_match": 49,
         "_deepnote_index_column": 39
        },
        {
         "index": 3196,
         "tourney_name": "Queen's Club",
         "tourney_id": "2019-0311",
         "avg_spect": 3734,
         "avg_rank": 305.4418604651163,
         "avg_revenue": 702890.1400000004,
         "tot_match": 43,
         "_deepnote_index_column": 40
        },
        {
         "index": 3239,
         "tourney_name": "Antalya",
         "tourney_id": "2019-7650",
         "avg_spect": 3456,
         "avg_rank": 309.20930232558135,
         "avg_revenue": 707490.3200000002,
         "tot_match": 43,
         "_deepnote_index_column": 41
        },
        {
         "index": 3278,
         "tourney_name": "Eastbourne",
         "tourney_id": "2019-M016",
         "avg_spect": 1655,
         "avg_rank": 499.5,
         "avg_revenue": 314721.53,
         "tot_match": 31,
         "_deepnote_index_column": 42
        },
        {
         "index": 3390,
         "tourney_name": "Wimbledon",
         "tourney_id": "2019-540",
         "avg_spect": 3053,
         "avg_rank": 419.83653846153845,
         "avg_revenue": 566115.1999999995,
         "tot_match": 52,
         "_deepnote_index_column": 43
        },
        {
         "index": 3868,
         "tourney_name": "Bastad",
         "tourney_id": "2019-0316",
         "avg_spect": 3090,
         "avg_rank": 378.8965517241379,
         "avg_revenue": 632511.0399999993,
         "tot_match": 58,
         "_deepnote_index_column": 44
        },
        {
         "index": 3907,
         "tourney_name": "Newport",
         "tourney_id": "2019-0315",
         "avg_spect": 3128,
         "avg_rank": 252.17741935483872,
         "avg_revenue": 666325.4899999998,
         "tot_match": 31,
         "_deepnote_index_column": 45
        },
        {
         "index": 3946,
         "tourney_name": "Umag",
         "tourney_id": "2019-0439",
         "avg_spect": 2665,
         "avg_rank": 318.2258064516129,
         "avg_revenue": 519081.74000000017,
         "tot_match": 31,
         "_deepnote_index_column": 46
        },
        {
         "index": 3985,
         "tourney_name": "Atlanta",
         "tourney_id": "2019-6116",
         "avg_spect": 3595,
         "avg_rank": 308.93548387096774,
         "avg_revenue": 574883.01,
         "tot_match": 31,
         "_deepnote_index_column": 47
        },
        {
         "index": 4023,
         "tourney_name": "Gstaad",
         "tourney_id": "2019-0314",
         "avg_spect": 2041,
         "avg_rank": 635.4677419354839,
         "avg_revenue": 453979.3800000003,
         "tot_match": 31,
         "_deepnote_index_column": 48
        },
        {
         "index": 4061,
         "tourney_name": "Hamburg",
         "tourney_id": "2019-0414",
         "avg_spect": 2578,
         "avg_rank": 672.8870967741935,
         "avg_revenue": 538811.2599999999,
         "tot_match": 31,
         "_deepnote_index_column": 49
        },
        {
         "index": 4103,
         "tourney_name": "Kitzbuhel",
         "tourney_id": "2019-0319",
         "avg_spect": 3577,
         "avg_rank": 649.483870967742,
         "avg_revenue": 923640.25,
         "tot_match": 31,
         "_deepnote_index_column": 50
        },
        {
         "index": 4142,
         "tourney_name": "Los Cabos",
         "tourney_id": "2019-7480",
         "avg_spect": 8125,
         "avg_rank": 305.795918367347,
         "avg_revenue": 1759280.6099999996,
         "tot_match": 49,
         "_deepnote_index_column": 51
        },
        {
         "index": 4181,
         "tourney_name": "Washington",
         "tourney_id": "2019-M035",
         "avg_spect": 2947,
         "avg_rank": 374.9625,
         "avg_revenue": 521281.1000000001,
         "tot_match": 40,
         "_deepnote_index_column": 52
        },
        {
         "index": 4284,
         "tourney_name": "Canada Masters",
         "tourney_id": "2019-0421",
         "avg_spect": 3725,
         "avg_rank": 664.5483870967741,
         "avg_revenue": 547581.3000000003,
         "tot_match": 31,
         "_deepnote_index_column": 53
        },
        {
         "index": 4360,
         "tourney_name": "Cincinnati Masters",
         "tourney_id": "2019-M024",
         "avg_spect": 4751,
         "avg_rank": 512.2741935483871,
         "avg_revenue": 767793.7600000005,
         "tot_match": 31,
         "_deepnote_index_column": 54
        },
        {
         "index": 4415,
         "tourney_name": "Cincinnati",
         "tourney_id": "2019-M024",
         "avg_spect": 2463,
         "avg_rank": 544.8709677419355,
         "avg_revenue": 513730.59999999974,
         "tot_match": 31,
         "_deepnote_index_column": 55
        },
        {
         "index": 4513,
         "tourney_name": "Winston-Salem",
         "tourney_id": "2019-6242",
         "avg_spect": 2946,
         "avg_rank": 515.3870967741935,
         "avg_revenue": 619386.7699999997,
         "tot_match": 31,
         "_deepnote_index_column": 56
        },
        {
         "index": 4572,
         "tourney_name": "US Open",
         "tourney_id": "2019-560",
         "avg_spect": 3305,
         "avg_rank": 708.2096774193549,
         "avg_revenue": 741488.0500000004,
         "tot_match": 31,
         "_deepnote_index_column": 57
        },
        {
         "index": 4699,
         "tourney_name": "Us Open",
         "tourney_id": "2019-560",
         "avg_spect": 3293,
         "avg_rank": 675.4516129032259,
         "avg_revenue": 680904.7600000002,
         "tot_match": 31,
         "_deepnote_index_column": 58
        },
        {
         "index": 5049,
         "tourney_name": "Metz",
         "tourney_id": "2019-0341",
         "avg_spect": 2746,
         "avg_rank": 468.32258064516134,
         "avg_revenue": 541618.8000000003,
         "tot_match": 31,
         "_deepnote_index_column": 59
        },
        {
         "index": 5088,
         "tourney_name": "St. Petersburg",
         "tourney_id": "2019-0568",
         "avg_spect": 2206,
         "avg_rank": 460.2903225806451,
         "avg_revenue": 485873.25,
         "tot_match": 31,
         "_deepnote_index_column": 60
        },
        {
         "index": 5127,
         "tourney_name": "Chengdu",
         "tourney_id": "2019-7581",
         "avg_spect": 4362,
         "avg_rank": 458.14516129032256,
         "avg_revenue": 788523.59,
         "tot_match": 31,
         "_deepnote_index_column": 61
        },
        {
         "index": 5166,
         "tourney_name": "Zhuhai",
         "tourney_id": "2019-9164",
         "avg_spect": 3184,
         "avg_rank": 226.30645161290323,
         "avg_revenue": 666123.3599999998,
         "tot_match": 31,
         "_deepnote_index_column": 62
        },
        {
         "index": 5205,
         "tourney_name": "Beijing",
         "tourney_id": "2019-M015",
         "avg_spect": 2553,
         "avg_rank": 218.09677419354838,
         "avg_revenue": 531090.2400000001,
         "tot_match": 31,
         "_deepnote_index_column": 63
        },
        {
         "index": 5331,
         "tourney_name": "Tokyo",
         "tourney_id": "2019-0329",
         "avg_spect": 3374,
         "avg_rank": 218.14516129032256,
         "avg_revenue": 742411.5100000004,
         "tot_match": 31,
         "_deepnote_index_column": 64
        },
        {
         "index": 5374,
         "tourney_name": "Shanghai Masters",
         "tourney_id": "2019-5014",
         "avg_spect": 2079,
         "avg_rank": 417.6875,
         "avg_revenue": 425459.5899999999,
         "tot_match": 56,
         "_deepnote_index_column": 65
        },
        {
         "index": 5450,
         "tourney_name": "Antwerp",
         "tourney_id": "2019-7485",
         "avg_spect": 2588,
         "avg_rank": 464.07142857142856,
         "avg_revenue": 489417.60999999975,
         "tot_match": 42,
         "_deepnote_index_column": 66
        },
        {
         "index": 5489,
         "tourney_name": "Moscow",
         "tourney_id": "2019-M014",
         "avg_spect": 3089,
         "avg_rank": 383.67708333333337,
         "avg_revenue": 621014.1700000007,
         "tot_match": 48,
         "_deepnote_index_column": 67
        },
        {
         "index": 5583,
         "tourney_name": "Stockholm",
         "tourney_id": "2019-0429",
         "avg_spect": 3395,
         "avg_rank": 321.93548387096774,
         "avg_revenue": 675804.16,
         "tot_match": 31,
         "_deepnote_index_column": 68
        },
        {
         "index": 5622,
         "tourney_name": "Basel",
         "tourney_id": "2019-0328",
         "avg_spect": 5846,
         "avg_rank": 445,
         "avg_revenue": 1572494.7299999993,
         "tot_match": 49,
         "_deepnote_index_column": 69
        },
        {
         "index": 5665,
         "tourney_name": "Vienna",
         "tourney_id": "2019-0337",
         "avg_spect": 3610,
         "avg_rank": 383.08490566037733,
         "avg_revenue": 743766.3900000004,
         "tot_match": 53,
         "_deepnote_index_column": 70
        }
       ],
       "rows_bottom": [
        {
         "index": 182327,
         "tourney_name": "W15 Alkmaar",
         "tourney_id": "2020-W-ITF-NED-04A-2020",
         "avg_spect": 1738,
         "avg_rank": 372.7125,
         "avg_revenue": 405708.36999999965,
         "tot_match": 40,
         "_deepnote_index_column": 4812
        },
        {
         "index": 182394,
         "tourney_name": "W15 Hamilton",
         "tourney_id": "2020-W-ITF-NZL-01A-2020",
         "avg_spect": 3232,
         "avg_rank": 522.125,
         "avg_revenue": 761037.1900000005,
         "tot_match": 44,
         "_deepnote_index_column": 4813
        },
        {
         "index": 182434,
         "tourney_name": "W15 Oeiras",
         "tourney_id": "2020-W-ITF-POR-06A-2020",
         "avg_spect": 3249,
         "avg_rank": 454.1545454545454,
         "avg_revenue": 630706.7699999998,
         "tot_match": 55,
         "_deepnote_index_column": 4814
        },
        {
         "index": 182495,
         "tourney_name": "W15 Santarem",
         "tourney_id": "2020-W-ITF-POR-07A-2020",
         "avg_spect": 7848,
         "avg_rank": 223.7888888888889,
         "avg_revenue": 1309029.5900000015,
         "tot_match": 45,
         "_deepnote_index_column": 4815
        },
        {
         "index": 182544,
         "tourney_name": "W25 Montemor-O-Novo",
         "tourney_id": "2020-W-ITF-POR-08A-2020",
         "avg_spect": 5202,
         "avg_rank": 134.72033898305085,
         "avg_revenue": 712984.3699999998,
         "tot_match": 59,
         "_deepnote_index_column": 4816
        },
        {
         "index": 182594,
         "tourney_name": "W25+H Figueira Da Foz",
         "tourney_id": "2020-W-ITF-POR-09A-2020",
         "avg_spect": 6867,
         "avg_rank": 136.91525423728814,
         "avg_revenue": 2084950.239999998,
         "tot_match": 59,
         "_deepnote_index_column": 4817
        },
        {
         "index": 182649,
         "tourney_name": "W25 Porto",
         "tourney_id": "2020-W-ITF-POR-10A-2020",
         "avg_spect": 8311,
         "avg_rank": 135.6186440677966,
         "avg_revenue": 1593479.9800000002,
         "tot_match": 59,
         "_deepnote_index_column": 4818
        },
        {
         "index": 182722,
         "tourney_name": "W15 Porto",
         "tourney_id": "2020-W-ITF-POR-11A-2020",
         "avg_spect": 8105,
         "avg_rank": 140.5593220338983,
         "avg_revenue": 1063952.1300000008,
         "tot_match": 59,
         "_deepnote_index_column": 4819
        },
        {
         "index": 182771,
         "tourney_name": "W15 Funchal",
         "tourney_id": "2020-W-ITF-POR-12A-2020",
         "avg_spect": 8105,
         "avg_rank": 140.85593220338984,
         "avg_revenue": 1713451.7300000004,
         "tot_match": 59,
         "_deepnote_index_column": 4820
        },
        {
         "index": 182813,
         "tourney_name": "W15 Lousada",
         "tourney_id": "2020-W-ITF-POR-13A-2020",
         "avg_spect": 3397,
         "avg_rank": 651.5,
         "avg_revenue": 679145.1099999998,
         "tot_match": 31,
         "_deepnote_index_column": 4821
        },
        {
         "index": 182861,
         "tourney_name": "W15 Lousada",
         "tourney_id": "2020-W-ITF-POR-14A-2020",
         "avg_spect": 2754,
         "avg_rank": 579.258064516129,
         "avg_revenue": 578933.7100000004,
         "tot_match": 31,
         "_deepnote_index_column": 4822
        },
        {
         "index": 182906,
         "tourney_name": "W25 Potchefstroom",
         "tourney_id": "2020-W-ITF-RSA-01A-2020",
         "avg_spect": 3433,
         "avg_rank": 563.8387096774193,
         "avg_revenue": 659181.8500000001,
         "tot_match": 31,
         "_deepnote_index_column": 4823
        },
        {
         "index": 182956,
         "tourney_name": "W25 Potchefstroom",
         "tourney_id": "2020-W-ITF-RSA-02A-2020",
         "avg_spect": 4028,
         "avg_rank": 388.2096774193549,
         "avg_revenue": 797452.59,
         "tot_match": 31,
         "_deepnote_index_column": 4824
        },
        {
         "index": 182999,
         "tourney_name": "W25 Moscow",
         "tourney_id": "2020-W-ITF-RUS-01A-2020",
         "avg_spect": 3190,
         "avg_rank": 374.9032258064516,
         "avg_revenue": 675930.25,
         "tot_match": 31,
         "_deepnote_index_column": 4825
        },
        {
         "index": 183054,
         "tourney_name": "W25 Kazan",
         "tourney_id": "2020-W-ITF-RUS-02A-2020",
         "avg_spect": 3302,
         "avg_rank": 379.88709677419354,
         "avg_revenue": 598125.8200000002,
         "tot_match": 31,
         "_deepnote_index_column": 4826
        },
        {
         "index": 183108,
         "tourney_name": "W15 Kazan",
         "tourney_id": "2020-W-ITF-RUS-03A-2020",
         "avg_spect": 2727,
         "avg_rank": 409.03389830508473,
         "avg_revenue": 383686.42000000045,
         "tot_match": 59,
         "_deepnote_index_column": 4827
        },
        {
         "index": 183156,
         "tourney_name": "W15 Otocec",
         "tourney_id": "2020-W-ITF-SLO-01A-2020",
         "avg_spect": 2673,
         "avg_rank": 418.34,
         "avg_revenue": 594477.8599999996,
         "tot_match": 50,
         "_deepnote_index_column": 4828
        },
        {
         "index": 183203,
         "tourney_name": "W25 Trnava",
         "tourney_id": "2020-W-ITF-SVK-01A-2020",
         "avg_spect": 7499,
         "avg_rank": 62.348101265822784,
         "avg_revenue": 887650.9900000005,
         "tot_match": 79,
         "_deepnote_index_column": 4829
        },
        {
         "index": 183258,
         "tourney_name": "W25 Trnava",
         "tourney_id": "2020-W-ITF-SVK-02A-2020",
         "avg_spect": 6139,
         "avg_rank": 70.8433734939759,
         "avg_revenue": 1030704.0600000013,
         "tot_match": 83,
         "_deepnote_index_column": 4830
        },
        {
         "index": 183313,
         "tourney_name": "W25 Nonthaburi",
         "tourney_id": "2020-W-ITF-THA-01A-2020",
         "avg_spect": 8256,
         "avg_rank": 68.4746835443038,
         "avg_revenue": 1400534.1599999976,
         "tot_match": 79,
         "_deepnote_index_column": 4831
        },
        {
         "index": 183386,
         "tourney_name": "W25 Nonthaburi",
         "tourney_id": "2020-W-ITF-THA-02A-2020",
         "avg_spect": 8503,
         "avg_rank": 75.0506329113924,
         "avg_revenue": 1734432.7800000007,
         "tot_match": 79,
         "_deepnote_index_column": 4832
        },
        {
         "index": 183456,
         "tourney_name": "W15 Monastir",
         "tourney_id": "2020-W-ITF-TUN-01A-2020",
         "avg_spect": 3176,
         "avg_rank": 402.41935483870964,
         "avg_revenue": 667920.6099999998,
         "tot_match": 31,
         "_deepnote_index_column": 4833
        },
        {
         "index": 183479,
         "tourney_name": "W15 Monastir",
         "tourney_id": "2020-W-ITF-TUN-02A-2020",
         "avg_spect": 3364,
         "avg_rank": 448.7903225806452,
         "avg_revenue": 532489.3599999998,
         "tot_match": 31,
         "_deepnote_index_column": 4834
        },
        {
         "index": 183520,
         "tourney_name": "W15 Monastir",
         "tourney_id": "2020-W-ITF-TUN-03A-2020",
         "avg_spect": 2810,
         "avg_rank": 243.01612903225805,
         "avg_revenue": 538134.6999999997,
         "tot_match": 31,
         "_deepnote_index_column": 4835
        },
        {
         "index": 183562,
         "tourney_name": "W15 Monastir",
         "tourney_id": "2020-W-ITF-TUN-04A-2020",
         "avg_spect": 2264,
         "avg_rank": 457.2741935483871,
         "avg_revenue": 446404.15000000026,
         "tot_match": 31,
         "_deepnote_index_column": 4836
        },
        {
         "index": 183615,
         "tourney_name": "W15 Monastir",
         "tourney_id": "2020-W-ITF-TUN-05A-2020",
         "avg_spect": 4573,
         "avg_rank": 89.54716981132074,
         "avg_revenue": 526427.2800000004,
         "tot_match": 53,
         "_deepnote_index_column": 4837
        },
        {
         "index": 183670,
         "tourney_name": "W15 Monastir",
         "tourney_id": "2020-W-ITF-TUN-06A-2020",
         "avg_spect": 3515,
         "avg_rank": 622.2741935483871,
         "avg_revenue": 810152,
         "tot_match": 31,
         "_deepnote_index_column": 4838
        },
        {
         "index": 183725,
         "tourney_name": "W15 Monastir",
         "tourney_id": "2020-W-ITF-TUN-07A-2020",
         "avg_spect": 3768,
         "avg_rank": 601.258064516129,
         "avg_revenue": 622610.9800000003,
         "tot_match": 31,
         "_deepnote_index_column": 4839
        },
        {
         "index": 183780,
         "tourney_name": "W15 Monastir",
         "tourney_id": "2020-W-ITF-TUN-08A-2020",
         "avg_spect": 3581,
         "avg_rank": 520.9677419354839,
         "avg_revenue": 641173.4299999998,
         "tot_match": 31,
         "_deepnote_index_column": 4840
        },
        {
         "index": 183831,
         "tourney_name": "W15 Monastir",
         "tourney_id": "2020-W-ITF-TUN-09A-2020",
         "avg_spect": 4087,
         "avg_rank": 582.7903225806451,
         "avg_revenue": 783811.6000000003,
         "tot_match": 31,
         "_deepnote_index_column": 4841
        },
        {
         "index": 183872,
         "tourney_name": "W15 Monastir",
         "tourney_id": "2020-W-ITF-TUN-10A-2020",
         "avg_spect": 3441,
         "avg_rank": 416.91935483870964,
         "avg_revenue": 808039.0700000002,
         "tot_match": 31,
         "_deepnote_index_column": 4842
        },
        {
         "index": 183920,
         "tourney_name": "W15 Monastir",
         "tourney_id": "2020-W-ITF-TUN-30A-2020",
         "avg_spect": 4262,
         "avg_rank": 381.1612903225806,
         "avg_revenue": 761136.3500000002,
         "tot_match": 31,
         "_deepnote_index_column": 4843
        },
        {
         "index": 183949,
         "tourney_name": "W15 Monastir",
         "tourney_id": "2020-W-ITF-TUN-31A-2020",
         "avg_spect": 5083,
         "avg_rank": 465.52127659574467,
         "avg_revenue": 1256929.5,
         "tot_match": 47,
         "_deepnote_index_column": 4844
        },
        {
         "index": 183985,
         "tourney_name": "W15 Monastir",
         "tourney_id": "2020-W-ITF-TUN-32A-2020",
         "avg_spect": 3401,
         "avg_rank": 387.5483870967742,
         "avg_revenue": 750966.4699999999,
         "tot_match": 31,
         "_deepnote_index_column": 4845
        },
        {
         "index": 184026,
         "tourney_name": "W15 Monastir",
         "tourney_id": "2020-W-ITF-TUN-33A-2020",
         "avg_spect": 2893,
         "avg_rank": 308.56451612903226,
         "avg_revenue": 547965.1500000001,
         "tot_match": 31,
         "_deepnote_index_column": 4846
        },
        {
         "index": 184061,
         "tourney_name": "W15 Monastir",
         "tourney_id": "2020-W-ITF-TUN-34A-2020",
         "avg_spect": 3600,
         "avg_rank": 338.36842105263156,
         "avg_revenue": 596228.7100000007,
         "tot_match": 57,
         "_deepnote_index_column": 4847
        },
        {
         "index": 184089,
         "tourney_name": "W15 Monastir",
         "tourney_id": "2020-W-ITF-TUN-35A-2020",
         "avg_spect": 3740,
         "avg_rank": 364.2105263157895,
         "avg_revenue": 786550.8400000008,
         "tot_match": 57,
         "_deepnote_index_column": 4848
        },
        {
         "index": 184123,
         "tourney_name": "W15 Monastir",
         "tourney_id": "2020-W-ITF-TUN-36A-2020",
         "avg_spect": 7772,
         "avg_rank": 290.88541666666663,
         "avg_revenue": 1723959.079999999,
         "tot_match": 48,
         "_deepnote_index_column": 4849
        },
        {
         "index": 184172,
         "tourney_name": "W15 Monastir",
         "tourney_id": "2020-W-ITF-TUN-40A-2020",
         "avg_spect": 2911,
         "avg_rank": 421.8709677419355,
         "avg_revenue": 751290.4200000005,
         "tot_match": 31,
         "_deepnote_index_column": 4850
        },
        {
         "index": 184203,
         "tourney_name": "W15 Monastir",
         "tourney_id": "2020-W-ITF-TUN-41A-2020",
         "avg_spect": 3207,
         "avg_rank": 463.7741935483871,
         "avg_revenue": 495258.7799999998,
         "tot_match": 31,
         "_deepnote_index_column": 4851
        },
        {
         "index": 184244,
         "tourney_name": "W15 Monastir",
         "tourney_id": "2020-W-ITF-TUN-42A-2020",
         "avg_spect": 2925,
         "avg_rank": 338.1774193548387,
         "avg_revenue": 642123.72,
         "tot_match": 31,
         "_deepnote_index_column": 4852
        },
        {
         "index": 184298,
         "tourney_name": "W15 Monastir",
         "tourney_id": "2020-W-ITF-TUN-43A-2020",
         "avg_spect": 3045,
         "avg_rank": 526.6290322580645,
         "avg_revenue": 587796.6999999997,
         "tot_match": 31,
         "_deepnote_index_column": 4853
        },
        {
         "index": 184341,
         "tourney_name": "W15 Monastir",
         "tourney_id": "2020-W-ITF-TUN-44A-2020",
         "avg_spect": 3113,
         "avg_rank": 354.4625,
         "avg_revenue": 516589.7399999999,
         "tot_match": 40,
         "_deepnote_index_column": 4854
        },
        {
         "index": 184373,
         "tourney_name": "W15 Monastir",
         "tourney_id": "2020-W-ITF-TUN-45A-2020",
         "avg_spect": 3396,
         "avg_rank": 300.8387096774194,
         "avg_revenue": 621128.7399999999,
         "tot_match": 31,
         "_deepnote_index_column": 4855
        },
        {
         "index": 184409,
         "tourney_name": "W15 Antalya",
         "tourney_id": "2020-W-ITF-TUR-01A-2020",
         "avg_spect": 2499,
         "avg_rank": 207.75581395348837,
         "avg_revenue": 460451.25,
         "tot_match": 43,
         "_deepnote_index_column": 4856
        },
        {
         "index": 184467,
         "tourney_name": "W15 Antalya",
         "tourney_id": "2020-W-ITF-TUR-02A-2020",
         "avg_spect": 2710,
         "avg_rank": 355.7903225806451,
         "avg_revenue": 448873.50999999983,
         "tot_match": 31,
         "_deepnote_index_column": 4857
        },
        {
         "index": 184516,
         "tourney_name": "W15 Antalya",
         "tourney_id": "2020-W-ITF-TUR-03A-2020",
         "avg_spect": 3558,
         "avg_rank": 414.80645161290323,
         "avg_revenue": 680931.6400000002,
         "tot_match": 31,
         "_deepnote_index_column": 4858
        },
        {
         "index": 184585,
         "tourney_name": "W15 Antalya",
         "tourney_id": "2020-W-ITF-TUR-04A-2020",
         "avg_spect": 3357,
         "avg_rank": 466.1078431372549,
         "avg_revenue": 639057.75,
         "tot_match": 51,
         "_deepnote_index_column": 4859
        },
        {
         "index": 184658,
         "tourney_name": "W15 Antalya",
         "tourney_id": "2020-W-ITF-TUR-05A-2020",
         "avg_spect": 3025,
         "avg_rank": 375.58620689655174,
         "avg_revenue": 619390.8599999996,
         "tot_match": 58,
         "_deepnote_index_column": 4860
        },
        {
         "index": 184725,
         "tourney_name": "W15 Antalya",
         "tourney_id": "2020-W-ITF-TUR-06A-2020",
         "avg_spect": 5440,
         "avg_rank": 282.7551020408163,
         "avg_revenue": 1278815.2899999993,
         "tot_match": 49,
         "_deepnote_index_column": 4861
        },
        {
         "index": 184798,
         "tourney_name": "W15 Antalya",
         "tourney_id": "2020-W-ITF-TUR-07A-2020",
         "avg_spect": 3377,
         "avg_rank": 226.47674418604652,
         "avg_revenue": 671328.1099999996,
         "tot_match": 43,
         "_deepnote_index_column": 4862
        },
        {
         "index": 184863,
         "tourney_name": "W25 Antalya",
         "tourney_id": "2020-W-ITF-TUR-08A-2020",
         "avg_spect": 3707,
         "avg_rank": 248.39622641509433,
         "avg_revenue": 748288.0700000002,
         "tot_match": 53,
         "_deepnote_index_column": 4863
        },
        {
         "index": 184928,
         "tourney_name": "W15 Antalya",
         "tourney_id": "2020-W-ITF-TUR-09A-2020",
         "avg_spect": 3396,
         "avg_rank": 199.21296296296296,
         "avg_revenue": 819984.8699999995,
         "tot_match": 54,
         "_deepnote_index_column": 4864
        },
        {
         "index": 184987,
         "tourney_name": "W15 Antalya",
         "tourney_id": "2020-W-ITF-TUR-10A-2020",
         "avg_spect": 3890,
         "avg_rank": 365.98387096774195,
         "avg_revenue": 738198.3000000004,
         "tot_match": 31,
         "_deepnote_index_column": 4865
        },
        {
         "index": 185035,
         "tourney_name": "W25 Istanbul",
         "tourney_id": "2020-W-ITF-TUR-22A-2020",
         "avg_spect": 1265,
         "avg_rank": 18.4,
         "avg_revenue": 264225.04999999993,
         "tot_match": 15,
         "_deepnote_index_column": 4866
        },
        {
         "index": 185087,
         "tourney_name": "W15 Antalya",
         "tourney_id": "2020-W-ITF-TUR-23A-2020",
         "avg_spect": 1608,
         "avg_rank": 17.166666666666668,
         "avg_revenue": 309808.86,
         "tot_match": 15,
         "_deepnote_index_column": 4867
        },
        {
         "index": 185165,
         "tourney_name": "W15 Antalya",
         "tourney_id": "2020-W-ITF-TUR-24A-2020",
         "avg_spect": 1148,
         "avg_rank": 17.633333333333333,
         "avg_revenue": 231675.49000000005,
         "tot_match": 15,
         "_deepnote_index_column": 4868
        },
        {
         "index": 185251,
         "tourney_name": "W15 Antalya",
         "tourney_id": "2020-W-ITF-TUR-25A-2020",
         "avg_spect": 1273,
         "avg_rank": 19.333333333333332,
         "avg_revenue": 269547.62000000005,
         "tot_match": 15,
         "_deepnote_index_column": 4869
        },
        {
         "index": 185328,
         "tourney_name": "W15 Antalya",
         "tourney_id": "2020-W-ITF-TUR-26A-2020",
         "avg_spect": 3800,
         "avg_rank": 143.9871794871795,
         "avg_revenue": 911940.4600000005,
         "tot_match": 39,
         "_deepnote_index_column": 4870
        },
        {
         "index": 185396,
         "tourney_name": "W100+H Dubai",
         "tourney_id": "2020-W-ITF-UAE-01A-2020",
         "avg_spect": 4009,
         "avg_rank": 285.5,
         "avg_revenue": 740712.3900000002,
         "tot_match": 31,
         "_deepnote_index_column": 4871
        },
        {
         "index": 185451,
         "tourney_name": "W25 Daytona Beach FL",
         "tourney_id": "2020-W-ITF-USA-01A-2020",
         "avg_spect": 3665,
         "avg_rank": 167.20967741935485,
         "avg_revenue": 747699.1799999998,
         "tot_match": 31,
         "_deepnote_index_column": 4872
        },
        {
         "index": 185524,
         "tourney_name": "W25 Malibu CA",
         "tourney_id": "2020-W-ITF-USA-02A-2020",
         "avg_spect": 3423,
         "avg_rank": 213.96774193548387,
         "avg_revenue": 582454.1899999998,
         "tot_match": 31,
         "_deepnote_index_column": 4873
        },
        {
         "index": 185579,
         "tourney_name": "W25 Vero Beach FL",
         "tourney_id": "2020-W-ITF-USA-03A-2020",
         "avg_spect": 4066,
         "avg_rank": 521.6574074074074,
         "avg_revenue": 634995.8900000004,
         "tot_match": 54,
         "_deepnote_index_column": 4874
        },
        {
         "index": 185634,
         "tourney_name": "W100 Midland MI",
         "tourney_id": "2020-W-ITF-USA-04A-2020",
         "avg_spect": 678,
         "avg_rank": 296.8305084745763,
         "avg_revenue": 121252.6799999999,
         "tot_match": 59,
         "_deepnote_index_column": 4875
        },
        {
         "index": 185688,
         "tourney_name": "W100 Nicholasville KY",
         "tourney_id": "2020-W-ITF-USA-05A-2020",
         "avg_spect": 3226,
         "avg_rank": 336.22413793103453,
         "avg_revenue": 890652.7999999993,
         "tot_match": 58,
         "_deepnote_index_column": 4876
        },
        {
         "index": 185743,
         "tourney_name": "W25 Rancho Santa Fe CA",
         "tourney_id": "2020-W-ITF-USA-07A-2020",
         "avg_spect": 7504,
         "avg_rank": 265.3571428571429,
         "avg_revenue": 1132868.4699999993,
         "tot_match": 49,
         "_deepnote_index_column": 4877
        },
        {
         "index": 185798,
         "tourney_name": "W25 Las Vegas NV",
         "tourney_id": "2020-W-ITF-USA-08A-2020",
         "avg_spect": 2366,
         "avg_rank": 117.7948717948718,
         "avg_revenue": 449800.0199999997,
         "tot_match": 39,
         "_deepnote_index_column": 4878
        },
        {
         "index": 185853,
         "tourney_name": "W80 Macon GA",
         "tourney_id": "2020-W-ITF-USA-40A-2020",
         "avg_spect": 2773,
         "avg_rank": 134.23076923076923,
         "avg_revenue": 563339.8099999999,
         "tot_match": 39,
         "_deepnote_index_column": 4879
        },
        {
         "index": 185908,
         "tourney_name": "W80 Tyler TX",
         "tourney_id": "2020-W-ITF-USA-42A-2020",
         "avg_spect": 3199,
         "avg_rank": 136.28205128205127,
         "avg_revenue": 763471.2800000004,
         "tot_match": 39,
         "_deepnote_index_column": 4880
        },
        {
         "index": 185963,
         "tourney_name": "W100 Charleston SC",
         "tourney_id": "2020-W-ITF-USA-47A-2020",
         "avg_spect": 2462,
         "avg_rank": 93.57692307692308,
         "avg_revenue": 487848.44,
         "tot_match": 39,
         "_deepnote_index_column": 4881
        },
        {
         "index": 186018,
         "tourney_name": "W25 Orlando FL",
         "tourney_id": "2020-W-ITF-USA-48A-2020",
         "avg_spect": 3199,
         "avg_rank": 131.7596153846154,
         "avg_revenue": 763471.2800000006,
         "tot_match": 52,
         "_deepnote_index_column": 4882
        }
       ]
      },
      "text/plain": "       index        tourney_name               tourney_id  avg_spect  \\\n0          0            Brisbane                2019-M020     2366.0   \n1         96                Doha                2019-0451     2773.0   \n2        139                Pune                2019-0891      447.0   \n3        178            Auckland                2019-0301     6175.0   \n4        217              Sydney                2019-M001     2347.0   \n...      ...                 ...                      ...        ...   \n4878  185798    W25 Las Vegas NV  2020-W-ITF-USA-08A-2020     2366.0   \n4879  185853        W80 Macon GA  2020-W-ITF-USA-40A-2020     2773.0   \n4880  185908        W80 Tyler TX  2020-W-ITF-USA-42A-2020     3199.0   \n4881  185963  W100 Charleston SC  2020-W-ITF-USA-47A-2020     2462.0   \n4882  186018      W25 Orlando FL  2020-W-ITF-USA-48A-2020     3199.0   \n\n        avg_rank  avg_revenue  tot_match  \n0     129.734694    449800.02         49  \n1     180.406250    563339.81         48  \n2     104.125000     87559.10         16  \n3     173.620690   1576751.99         87  \n4     121.070652    446360.73         92  \n...          ...          ...        ...  \n4878  117.794872    449800.02         39  \n4879  134.230769    563339.81         39  \n4880  136.282051    763471.28         39  \n4881   93.576923    487848.44         39  \n4882  131.759615    763471.28         52  \n\n[4883 rows x 7 columns]",
      "text/html": "<div>\n<style scoped>\n    .dataframe tbody tr th:only-of-type {\n        vertical-align: middle;\n    }\n\n    .dataframe tbody tr th {\n        vertical-align: top;\n    }\n\n    .dataframe thead th {\n        text-align: right;\n    }\n</style>\n<table border=\"1\" class=\"dataframe\">\n  <thead>\n    <tr style=\"text-align: right;\">\n      <th></th>\n      <th>index</th>\n      <th>tourney_name</th>\n      <th>tourney_id</th>\n      <th>avg_spect</th>\n      <th>avg_rank</th>\n      <th>avg_revenue</th>\n      <th>tot_match</th>\n    </tr>\n  </thead>\n  <tbody>\n    <tr>\n      <th>0</th>\n      <td>0</td>\n      <td>Brisbane</td>\n      <td>2019-M020</td>\n      <td>2366.0</td>\n      <td>129.734694</td>\n      <td>449800.02</td>\n      <td>49</td>\n    </tr>\n    <tr>\n      <th>1</th>\n      <td>96</td>\n      <td>Doha</td>\n      <td>2019-0451</td>\n      <td>2773.0</td>\n      <td>180.406250</td>\n      <td>563339.81</td>\n      <td>48</td>\n    </tr>\n    <tr>\n      <th>2</th>\n      <td>139</td>\n      <td>Pune</td>\n      <td>2019-0891</td>\n      <td>447.0</td>\n      <td>104.125000</td>\n      <td>87559.10</td>\n      <td>16</td>\n    </tr>\n    <tr>\n      <th>3</th>\n      <td>178</td>\n      <td>Auckland</td>\n      <td>2019-0301</td>\n      <td>6175.0</td>\n      <td>173.620690</td>\n      <td>1576751.99</td>\n      <td>87</td>\n    </tr>\n    <tr>\n      <th>4</th>\n      <td>217</td>\n      <td>Sydney</td>\n      <td>2019-M001</td>\n      <td>2347.0</td>\n      <td>121.070652</td>\n      <td>446360.73</td>\n      <td>92</td>\n    </tr>\n    <tr>\n      <th>...</th>\n      <td>...</td>\n      <td>...</td>\n      <td>...</td>\n      <td>...</td>\n      <td>...</td>\n      <td>...</td>\n      <td>...</td>\n    </tr>\n    <tr>\n      <th>4878</th>\n      <td>185798</td>\n      <td>W25 Las Vegas NV</td>\n      <td>2020-W-ITF-USA-08A-2020</td>\n      <td>2366.0</td>\n      <td>117.794872</td>\n      <td>449800.02</td>\n      <td>39</td>\n    </tr>\n    <tr>\n      <th>4879</th>\n      <td>185853</td>\n      <td>W80 Macon GA</td>\n      <td>2020-W-ITF-USA-40A-2020</td>\n      <td>2773.0</td>\n      <td>134.230769</td>\n      <td>563339.81</td>\n      <td>39</td>\n    </tr>\n    <tr>\n      <th>4880</th>\n      <td>185908</td>\n      <td>W80 Tyler TX</td>\n      <td>2020-W-ITF-USA-42A-2020</td>\n      <td>3199.0</td>\n      <td>136.282051</td>\n      <td>763471.28</td>\n      <td>39</td>\n    </tr>\n    <tr>\n      <th>4881</th>\n      <td>185963</td>\n      <td>W100 Charleston SC</td>\n      <td>2020-W-ITF-USA-47A-2020</td>\n      <td>2462.0</td>\n      <td>93.576923</td>\n      <td>487848.44</td>\n      <td>39</td>\n    </tr>\n    <tr>\n      <th>4882</th>\n      <td>186018</td>\n      <td>W25 Orlando FL</td>\n      <td>2020-W-ITF-USA-48A-2020</td>\n      <td>3199.0</td>\n      <td>131.759615</td>\n      <td>763471.28</td>\n      <td>52</td>\n    </tr>\n  </tbody>\n</table>\n<p>4883 rows × 7 columns</p>\n</div>"
     },
     "metadata": {}
    }
   ]
  },
  {
   "cell_type": "code",
   "metadata": {
    "tags": [],
    "cell_id": "00030-4f556224-5829-497e-acf4-b259a5dee78e",
    "deepnote_to_be_reexecuted": true,
    "source_hash": "c7f5f96f",
    "execution_start": 1636705603659,
    "execution_millis": 3,
    "deepnote_cell_type": "code"
   },
   "source": "#drop rows with avg rank < 0\ndf_tourney_stats = df_tourney_stats[df_tourney_stats['avg_rank'] > 0]",
   "execution_count": null,
   "outputs": []
  },
  {
   "cell_type": "code",
   "metadata": {
    "tags": [],
    "cell_id": "00031-53102054-4c43-4945-87bf-d133675eec48",
    "deepnote_to_be_reexecuted": true,
    "source_hash": "5c7d80e2",
    "execution_start": 1636705609275,
    "execution_millis": 511,
    "deepnote_output_heights": [
     527
    ],
    "deepnote_cell_type": "code"
   },
   "source": "#box plot tot_match \nfig = px.box(df_tourney_stats, y=\"tot_match\")\nfig.show()\n\n#drop all rows with tot_match > 76 and < 4\ndf_tourney_stats = df_tourney_stats[(df_tourney_stats['tot_match'] <= 76) & (df_tourney_stats['tot_match'] >= 4)]\n\ndf_tourney_stats",
   "execution_count": null,
   "outputs": [
    {
     "data": {
      "text/html": "<html>\n<head><meta charset=\"utf-8\" /></head>\n<body>\n    <div>            <script src=\"https://cdnjs.cloudflare.com/ajax/libs/mathjax/2.7.5/MathJax.js?config=TeX-AMS-MML_SVG\"></script><script type=\"text/javascript\">if (window.MathJax) {MathJax.Hub.Config({SVG: {font: \"STIX-Web\"}});}</script>                <script type=\"text/javascript\">window.PlotlyConfig = {MathJaxConfig: 'local'};</script>\n        <script src=\"https://cdn.plot.ly/plotly-2.4.2.min.js\"></script>                <div id=\"f115debb-df69-45f7-8b5f-17034f1f6fea\" class=\"plotly-graph-div\" style=\"height:525px; width:100%;\"></div>            <script type=\"text/javascript\">                                    window.PLOTLYENV=window.PLOTLYENV || {};                                    if (document.getElementById(\"f115debb-df69-45f7-8b5f-17034f1f6fea\")) {                    Plotly.newPlot(                        \"f115debb-df69-45f7-8b5f-17034f1f6fea\",                        [{\"alignmentgroup\":\"True\",\"hovertemplate\":\"tot_match=%{y}<extra></extra>\",\"legendgroup\":\"\",\"marker\":{\"color\":\"#636efa\"},\"name\":\"\",\"notched\":false,\"offsetgroup\":\"\",\"orientation\":\"v\",\"showlegend\":false,\"type\":\"box\",\"x0\":\" \",\"xaxis\":\"x\",\"y\":[49,48,16,59,43,31,54,56,49,43,49,43,31,31,31,31,55,59,43,31,31,31,31,31,31,31,30,31,31,53,59,59,49,43,43,31,52,58,31,31,31,31,31,31,49,40,31,31,31,31,31,31,31,31,31,31,31,31,56,42,48,31,49,53,55,31,31,31,31,31,31,31,31,31,31,31,39,53,40,48,39,39,39,48,31,31,31,31,31,31,31,31,31,31,31,31,31,31,31,31,31,31,31,31,31,31,31,31,31,31,31,31,31,31,31,31,31,30,31,31,31,31,31,31,31,31,31,31,31,31,31,31,31,31,31,31,31,31,31,31,31,31,31,31,31,31,31,31,31,31,31,31,31,31,31,31,31,31,31,31,31,31,31,31,31,31,31,31,31,31,31,31,31,31,31,31,31,31,31,31,31,31,31,31,43,31,31,31,43,39,39,39,39,39,31,43,47,48,49,31,31,31,31,31,31,31,31,31,31,31,31,31,31,59,46,43,45,43,31,31,39,39,38,38,39,31,30,31,39,59,39,59,38,59,39,58,37,59,49,31,31,31,4,4,4,4,4,31,31,31,31,31,31,31,31,31,31,31,31,31,31,30,30,31,31,50,55,59,59,52,37,51,52,46,48,49,49,49,31,31,31,43,49,51,47,31,43,65,65,65,65,65,31,31,31,57,49,43,59,50,59,49,43,44,43,43,43,43,39,49,39,52,39,39,31,39,31,31,31,31,31,46,50,55,31,31,31,31,31,31,31,43,31,48,39,30,39,43,31,31,31,31,49,49,59,49,31,31,31,31,31,59,58,56,49,47,31,45,31,31,31,31,31,31,59,52,58,31,43,43,43,43,43,43,43,52,42,49,46,41,49,40,59,46,59,59,59,59,49,47,52,55,48,46,49,48,49,47,31,59,45,33,35,31,31,31,31,31,31,31,31,31,57,54,55,49,58,45,49,31,57,55,58,49,49,40,43,31,31,31,45,47,49,49,43,31,31,31,31,56,45,54,51,55,49,57,31,31,31,31,31,31,31,31,31,31,56,31,31,31,39,59,58,59,59,31,31,31,31,31,49,39,52,39,49,39,49,31,31,31,31,31,31,59,59,58,49,39,39,39,39,39,55,31,31,31,31,57,59,59,52,49,31,31,31,31,54,59,49,49,31,59,53,55,48,39,31,31,31,31,31,31,31,31,29,29,31,27,31,31,28,31,31,31,31,31,31,31,31,31,31,31,31,31,31,31,31,31,31,45,49,31,59,54,48,46,57,49,31,31,31,50,41,53,49,42,31,31,31,76,76,76,65,31,31,31,31,31,31,31,46,46,44,56,49,54,49,31,31,31,59,50,56,48,43,42,31,31,31,31,31,51,31,31,31,31,31,31,55,47,31,31,30,31,31,49,54,42,49,31,31,31,31,31,43,31,31,31,31,59,55,58,59,49,31,31,59,39,39,39,39,41,43,52,46,39,39,46,49,31,31,59,48,47,49,49,41,31,31,31,73,42,31,53,31,31,31,31,31,31,76,76,74,76,31,31,31,42,49,49,41,46,31,39,39,31,31,31,56,53,41,58,49,49,48,48,58,59,59,49,42,55,31,31,31,31,31,31,59,48,57,49,43,42,39,39,55,31,53,41,31,31,31,31,31,31,31,44,54,48,49,31,31,31,31,31,45,31,31,49,31,31,55,55,56,52,48,49,49,31,31,31,59,4,4,4,4,4,4,4,4,4,4,4,4,4,4,4,4,4,4,4,4,4,4,4,4,4,4,4,4,4,4,4,4,4,4,4,4,4,4,4,4,4,4,4,4,4,4,4,4,4,4,4,4,4,4,4,4,4,4,4,4,4,4,4,4,4,4,4,4,4,4,4,4,4,4,4,4,4,4,4,4,4,4,4,4,4,4,4,4,4,4,4,4,4,4,4,4,4,4,4,4,4,4,4,4,4,4,4,4,4,4,4,4,4,4,4,4,4,4,4,4,4,4,4,4,4,4,4,4,4,4,4,4,4,4,4,4,4,4,4,4,4,4,4,4,4,4,4,4,4,4,4,4,4,4,4,4,4,4,4,4,4,4,4,4,4,4,4,4,31,31,31,31,43,43,43,43,43,39,31,31,31,31,31,31,31,19,19,23,24,31,31,43,43,54,43,43,52,39,34,55,31,31,31,31,31,59,51,58,53,49,49,43,55,43,43,55,42,43,70,63,31,31,31,31,31,31,31,71,39,49,31,54,55,58,49,40,31,31,31,31,31,31,31,31,31,31,31,39,39,39,39,39,31,31,59,58,58,49,45,4,4,4,4,4,4,4,4,4,4,4,4,4,4,4,4,4,4,4,4,4,4,4,4,4,4,4,4,4,4,4,4,4,4,4,4,4,4,4,4,4,4,4,4,4,4,4,4,4,4,4,4,4,31,31,31,56,35,57,49,31,31,59,49,31,31,47,57,31,31,31,42,43,31,31,31,31,31,29,51,56,49,31,31,31,31,59,31,31,31,31,31,31,31,40,56,59,47,43,39,39,39,39,39,59,42,56,49,31,31,31,31,59,59,31,31,31,31,31,31,31,41,57,51,51,31,31,31,42,48,31,31,31,31,31,31,31,31,31,31,26,31,31,31,51,49,52,48,29,28,31,31,55,31,31,31,38,49,39,52,39,52,38,39,53,49,59,57,58,48,52,49,49,59,31,31,31,31,59,51,54,48,43,31,31,31,31,31,31,31,40,45,52,49,31,31,31,31,31,43,43,43,43,49,31,31,31,43,43,43,42,43,45,39,49,43,27,31,31,31,31,31,31,31,31,31,31,31,31,31,31,31,31,31,31,31,31,31,31,31,31,31,31,31,31,31,29,31,31,31,28,31,31,31,31,31,31,31,31,31,31,31,31,31,31,31,31,31,31,31,31,31,31,31,31,31,31,31,31,31,31,31,31,31,31,31,31,31,31,31,31,31,31,31,31,31,31,31,31,31,31,31,31,31,31,31,31,31,31,31,31,31,50,45,31,31,31,31,59,58,48,49,43,31,31,31,49,31,31,31,31,31,31,31,31,31,31,31,31,31,31,31,31,31,31,31,31,31,31,31,31,31,31,31,31,31,31,31,31,31,59,49,53,36,59,59,52,49,48,31,31,31,31,49,52,49,31,31,31,31,31,31,31,31,31,43,39,31,31,31,31,39,39,39,67,39,50,43,49,55,49,49,31,31,31,31,31,31,31,31,31,31,31,31,31,31,31,31,31,31,31,31,31,31,58,31,43,41,31,31,31,31,55,59,59,49,31,31,31,31,31,31,31,31,59,67,51,55,42,49,49,31,31,31,31,43,59,36,31,59,59,49,43,49,39,49,39,49,39,49,41,49,31,31,31,31,31,31,31,31,31,31,31,44,48,55,47,43,43,31,31,46,40,31,31,31,31,31,31,31,31,58,49,31,34,56,47,52,31,31,31,31,29,48,31,31,31,45,31,31,43,44,59,49,31,31,32,31,31,31,55,58,58,31,31,31,31,31,31,59,31,31,31,31,52,42,31,31,31,31,31,31,31,31,31,39,39,39,39,45,39,31,31,31,31,50,57,56,49,59,53,55,49,49,56,56,49,31,31,31,31,31,31,31,31,31,49,49,31,31,31,31,31,31,59,55,55,55,49,31,31,31,31,31,31,25,31,31,31,31,31,31,58,46,31,31,31,31,42,43,31,31,31,31,31,31,50,54,56,48,31,31,59,31,31,31,52,48,54,49,49,49,31,31,42,42,31,31,31,31,31,31,31,31,31,59,55,54,47,31,31,31,49,58,39,55,49,43,31,31,31,42,59,46,57,49,59,49,43,50,54,59,49,37,45,55,55,35,31,59,58,49,49,49,49,31,31,31,59,59,43,49,43,31,31,31,58,49,31,39,39,37,39,38,31,31,59,31,31,31,31,31,31,31,57,40,49,49,43,31,31,27,59,58,59,59,31,39,39,39,49,49,39,49,46,59,58,43,31,31,31,31,31,59,59,31,31,31,31,31,31,31,31,76,76,76,76,76,49,43,31,31,31,59,52,49,39,57,45,31,31,31,31,31,31,31,31,31,31,51,59,58,47,59,31,31,39,31,59,49,43,43,55,47,58,31,31,31,31,39,39,43,43,39,39,39,39,39,39,31,31,31,31,53,49,39,53,59,49,42,42,31,31,31,39,39,49,59,56,58,39,39,39,39,31,31,57,31,31,31,31,31,31,59,54,59,49,42,31,31,31,31,31,31,31,31,31,31,31,31,31,31,59,31,31,31,31,31,31,31,31,31,31,31,31,31,31,31,31,55,76,76,76,76,31,31,59,59,59,55,49,49,40,46,49,49,48,47,48,57,48,39,39,39,39,39,39,31,31,31,31,31,31,31,31,59,31,31,52,31,31,31,31,31,31,31,31,31,31,31,31,59,51,52,57,47,31,31,31,31,55,55,39,38,39,39,39,48,55,31,31,31,31,31,31,31,31,31,49,52,52,49,45,40,49,31,31,31,31,31,31,31,31,31,56,31,31,31,31,31,31,31,31,31,31,59,31,31,31,31,31,52,71,70,70,50,47,39,39,70,39,39,39,39,39,39,73,49,55,59,49,49,39,31,49,47,49,31,31,31,31,31,31,48,31,31,31,31,31,31,31,31,31,31,31,31,31,31,31,31,31,31,59,57,48,52,49,47,31,43,58,56,49,43,35,30,42,49,49,31,31,31,31,39,43,42,42,49,49,38,43,49,49,49,49,31,31,31,31,31,31,31,31,31,31,31,31,31,31,31,42,41,43,43,31,31,31,31,31,59,59,64,43,49,43,43,31,31,31,31,31,56,49,58,49,31,31,31,55,57,53,49,42,45,31,31,31,31,31,31,45,51,55,59,49,43,43,31,31,31,43,49,59,43,31,31,31,31,31,31,31,44,53,65,65,65,65,76,49,39,49,44,42,31,31,31,49,49,31,31,31,31,31,31,31,31,31,31,31,31,31,31,31,46,49,57,48,39,31,31,31,31,31,31,63,49,31,53,49,49,31,31,31,31,31,31,31,59,31,31,54,56,41,31,31,31,31,43,47,44,50,48,43,43,32,43,46,59,49,43,38,59,59,59,59,55,49,31,31,31,31,31,31,59,58,59,43,46,57,49,49,49,42,42,43,31,31,31,31,31,31,31,31,31,59,57,57,47,43,43,31,59,53,49,59,39,39,39,31,31,31,31,31,31,31,38,53,57,48,54,49,49,31,46,43,31,31,31,48,49,51,49,43,43,43,43,43,43,43,45,59,50,49,49,39,39,37,45,31,31,41,51,55,59,59,57,31,31,31,31,31,31,31,47,41,57,49,31,31,58,59,49,49,31,31,31,31,31,43,38,64,43,43,43,45,31,75,52,31,31,31,31,31,31,43,43,52,47,57,53,49,76,76,76,76,76,43,42,43,42,41,43,31,31,31,49,31,31,31,31,31,50,31,31,31,31,31,31,31,31,31,31,31,45,31,43,42,43,59,59,58,49,31,48,53,55,59,52,54,39,39,39,59,36,56,49,43,31,31,31,31,31,31,31,31,31,31,31,31,29,31,31,31,31,31,31,31,31,31,31,31,31,31,31,31,31,31,31,31,31,31,31,31,31,31,31,31,31,31,31,31,31,31,31,31,31,31,31,31,29,31,31,38,55,31,31,31,31,42,54,58,51,57,49,39,59,41,52,47,39,31,31,31,31,31,39,39,39,39,31,31,31,58,40,55,49,49,39,31,31,31,46,47,45,49,31,31,31,45,42,58,31,31,31,31,31,31,41,56,54,48,41,59,52,49,48,59,58,49,49,31,50,59,31,31,50,49,31,31,31,46,51,59,49,76,76,76,76,31,29,31,31,31,31,31,31,31,31,31,31,31,31,31,31,27,22,24,26,30,31,31,31,31,31,31,31,31,31,31,31,31,31,31,29,31,29,31,31,31,29,28,31,31,31,31,31,31,31,31,31,31,31,31,31,31,31,31,31,31,31,31,31,31,31,31,31,31,31,31,31,31,31,31,31,31,31,31,31,31,31,31,31,31,31,31,31,31,31,31,31,43,39,43,39,43,39,43,43,31,31,31,31,31,31,55,58,48,57,59,49,49,15,31,31,31,31,31,31,31,31,31,31,31,31,31,31,31,31,50,58,49,49,54,47,52,48,43,15,15,15,39,31,31,31,31,31,39,39,39,39,39,31,31,31,31,31,31,31,31,31,31,31,31,31,31,31,31,31,31,31,50,49,49,48,15,15,31,31,31,31,41,43,41,43,31,44,59,49,39,55,39,55,39,54,39,54,45,45,43,43,58,37,39,31,31,31,31,31,31,31,31,31,31,31,31,31,39,39,39,39,31,31,31,31,31,31,31,31,31,59,52,59,49,49,48,48,33,47,39,55,39,55,39,54,39,55,39,45,31,31,31,31,31,31,31,31,31,31,31,31,31,31,31,47,59,55,49,31,31,31,31,31,31,49,39,31,54,49,58,49,31,31,31,31,55,55,49,53,52,55,31,31,51,49,55,49,45,59,44,49,41,31,31,31,31,31,47,48,59,48,40,31,31,24,31,31,31,31,31,31,31,31,31,31,43,42,43,43,54,55,58,31,31,31,31,31,31,31,31,31,31,31,31,31,28,56,31,49,52,49,59,31,31,31,31,31,57,58,57,49,57,55,46,42,43,43,55,43,55,43,45,43,59,31,31,31,31,64,64,31,31,31,31,31,31,31,31,31,31,31,31,15,15,15,15,15,31,31,31,59,53,43,54,54,49,31,31,31,42,42,31,31,31,31,31,31,58,31,31,31,31,31,31,31,31,31,58,49,59,31,59,59,37,39,39,39,39,31,31,31,31,49,31,31,42,51,31,31,31,31,41,31,31,59,59,59,49,31,31,31,43,43,43,43,42,31,31,31,31,31,31,31,31,31,31,49,31,31,31,31,31,31,31,49,55,55,53,55,55,49,52,49,55,49,49,54,55,55,49,55,55,49,55,49,55,55,49,55,67,55,55,55,51,49,51,50,58,49,31,24,48,49,49,49,49,55,53,54,44,42,41,49,49,48,48,39,43,53,60,57,51,62,63,59,47,55,54,65,65,69,72,58,49,69,73,67,73,65,59,48,68,57,73,70,74,51,67,71,49,54,68,55,63,49,46,47,55,55,55,37,55,55,55,68,69,58,40,55,40,41,54,47,31,56,52,40,47,41,56,73,61,66,50,69,66,62,73,73,73,56,63,69,69,47,49,49,43,53,44,40,31,31,42,40,46,48,50,54,45,36,40,39,31,34,55,47,35,35,32,52,57,50,58,52,48,42,49,48,29,57,62,54,55,69,48,46,56,47,49,53,61,31,25,55,42,55,55,49,73,53,28,31,49,40,59,45,55,55,53,53,70,73,52,59,49,51,73,73,67,56,57,73,73,73,60,49,65,66,62,55,53,51,48,48,41,71,43,55,48,55,52,73,24,26,73,55,49,55,53,55,49,46,48,50,48,45,64,55,49,49,70,73,76,70,31,41,26,28,49,31,49,38,47,49,49,49,48,47,54,43,45,51,55,39,23,41,42,53,55,55,55,51,41,48,29,36,41,35,28,34,49,31,41,54,43,32,36,41,29,35,47,53,51,55,54,55,61,68,66,69,73,73,70,59,61,58,65,67,67,65,64,67,70,68,61,49,67,68,60,42,55,55,55,31,31,44,49,45,53,51,72,71,73,53,50,61,55,53,55,44,49,49,47,49,64,55,52,54,49,70,44,49,46,55,55,73,73,76,43,46,39,29,43,49,45,39,45,48,49,31,46,48,49,49,49,49,45,43,47,55,47,31,31,31,43,39,45,51,52,47,73,73,72,64,64,47,73,73,73,70,73,73,73,73,70,51,48,49,49,54,55,44,51,51,48,50,46,38,39,43,53,39,49,53,49,55,53,39,49,49,49,48,42,44,42,39,41,30,39,39,42,49,52,45,50,48,47,51,51,45,49,54,47,31,39,49,41,31,42,41,27,44,49,56,49,42,46,55,54,50,55,52,73,45,70,55,73,63,55,43,44,73,58,66,73,55,40,47,49,49,49,55,65,64,55,49,49,55,55,54,55,55,55,49,55,50,57,68,55,46,42,44,46,49,49,61,49,55,53,55,55,55,64,50,49,46,47,49,55,55,55,49,73,55,49,55,51,46,45,55,55,54,44,46,69,55,58,73,41,49,49,49,52,55,54,55,50,49,55,55,49,44,42,55,52,55,55,53,56,49,55,49,54,47,53,55,55,54,55,49,55,49,48,52,50,55,48,39,53,51,60,53,49,49,49,54,55,53,49,49,55,52,49,49,51,53,65,47,43,44,46,55,65,55,50,55,41,62,49,46,49,50,54,55,55,55,74,59,62,49,62,54,55,55,50,51,51,40,49,55,55,51,39,52,55,61,72,55,54,55,49,49,55,55,55,73,70,46,45,33,47,49,67,70,54,45,55,55,55,55,49,50,54,49,63,55,49,46,44,52,55,71,52,46,47,73,72,73,48,49,41,49,49,48,51,38,73,71,50,43,55,55,66,71,72,54,55,55,55,62,47,63,49,55,55,55,55,55,55,49,59,64,52,52,44,55,46,49,41,49,46,45,41,68,61,49,42,49,63,31,55,49,49,48,42,46,55,41,55,63,55,55,55,55,55,49,49,50,55,48,67,66,52,55,48,55,51,55,49,49,55,55,52,55,53,50,55,48,55,65,55,46,73,69,55,68,55,49,55,49,49,56,55,51,36,55,49,55,55,55,55,55,64,55,55,55,49,37,46,55,52,55,55,46,54,55,55,49,50,49,70,55,55,49,54,49,49,49,49,55,55,49,55,49,55,53,49,55,49,52,48,61,47,49,74,49,55,45,49,50,54,65,72,49,49,55,55,55,55,54,55,55,54,55,55,55,49,55,55,54,44,55,55,55,47,49,49,55,55,48,49,55,55,55,31,59,31,31,31,31,31,31,43,65,31,31,31,31,31,31,31,31,57,47,56,49,31,31,31,40,44,55,45,59,59,59,59,59,31,31,31,31,31,31,59,50,31,31,31,31,53,31,31,31,31,31,31,47,31,31,57,57,48,31,31,31,31,40,31,43,31,31,51,58,49,43,53,54,31,15,15,15,15,39,31,31,31,54,59,58,49,39,39,39,39,52],\"y0\":\" \",\"yaxis\":\"y\"}],                        {\"boxmode\":\"group\",\"legend\":{\"tracegroupgap\":0},\"margin\":{\"t\":60},\"template\":{\"data\":{\"bar\":[{\"error_x\":{\"color\":\"#2a3f5f\"},\"error_y\":{\"color\":\"#2a3f5f\"},\"marker\":{\"line\":{\"color\":\"#E5ECF6\",\"width\":0.5},\"pattern\":{\"fillmode\":\"overlay\",\"size\":10,\"solidity\":0.2}},\"type\":\"bar\"}],\"barpolar\":[{\"marker\":{\"line\":{\"color\":\"#E5ECF6\",\"width\":0.5},\"pattern\":{\"fillmode\":\"overlay\",\"size\":10,\"solidity\":0.2}},\"type\":\"barpolar\"}],\"carpet\":[{\"aaxis\":{\"endlinecolor\":\"#2a3f5f\",\"gridcolor\":\"white\",\"linecolor\":\"white\",\"minorgridcolor\":\"white\",\"startlinecolor\":\"#2a3f5f\"},\"baxis\":{\"endlinecolor\":\"#2a3f5f\",\"gridcolor\":\"white\",\"linecolor\":\"white\",\"minorgridcolor\":\"white\",\"startlinecolor\":\"#2a3f5f\"},\"type\":\"carpet\"}],\"choropleth\":[{\"colorbar\":{\"outlinewidth\":0,\"ticks\":\"\"},\"type\":\"choropleth\"}],\"contour\":[{\"colorbar\":{\"outlinewidth\":0,\"ticks\":\"\"},\"colorscale\":[[0.0,\"#0d0887\"],[0.1111111111111111,\"#46039f\"],[0.2222222222222222,\"#7201a8\"],[0.3333333333333333,\"#9c179e\"],[0.4444444444444444,\"#bd3786\"],[0.5555555555555556,\"#d8576b\"],[0.6666666666666666,\"#ed7953\"],[0.7777777777777778,\"#fb9f3a\"],[0.8888888888888888,\"#fdca26\"],[1.0,\"#f0f921\"]],\"type\":\"contour\"}],\"contourcarpet\":[{\"colorbar\":{\"outlinewidth\":0,\"ticks\":\"\"},\"type\":\"contourcarpet\"}],\"heatmap\":[{\"colorbar\":{\"outlinewidth\":0,\"ticks\":\"\"},\"colorscale\":[[0.0,\"#0d0887\"],[0.1111111111111111,\"#46039f\"],[0.2222222222222222,\"#7201a8\"],[0.3333333333333333,\"#9c179e\"],[0.4444444444444444,\"#bd3786\"],[0.5555555555555556,\"#d8576b\"],[0.6666666666666666,\"#ed7953\"],[0.7777777777777778,\"#fb9f3a\"],[0.8888888888888888,\"#fdca26\"],[1.0,\"#f0f921\"]],\"type\":\"heatmap\"}],\"heatmapgl\":[{\"colorbar\":{\"outlinewidth\":0,\"ticks\":\"\"},\"colorscale\":[[0.0,\"#0d0887\"],[0.1111111111111111,\"#46039f\"],[0.2222222222222222,\"#7201a8\"],[0.3333333333333333,\"#9c179e\"],[0.4444444444444444,\"#bd3786\"],[0.5555555555555556,\"#d8576b\"],[0.6666666666666666,\"#ed7953\"],[0.7777777777777778,\"#fb9f3a\"],[0.8888888888888888,\"#fdca26\"],[1.0,\"#f0f921\"]],\"type\":\"heatmapgl\"}],\"histogram\":[{\"marker\":{\"pattern\":{\"fillmode\":\"overlay\",\"size\":10,\"solidity\":0.2}},\"type\":\"histogram\"}],\"histogram2d\":[{\"colorbar\":{\"outlinewidth\":0,\"ticks\":\"\"},\"colorscale\":[[0.0,\"#0d0887\"],[0.1111111111111111,\"#46039f\"],[0.2222222222222222,\"#7201a8\"],[0.3333333333333333,\"#9c179e\"],[0.4444444444444444,\"#bd3786\"],[0.5555555555555556,\"#d8576b\"],[0.6666666666666666,\"#ed7953\"],[0.7777777777777778,\"#fb9f3a\"],[0.8888888888888888,\"#fdca26\"],[1.0,\"#f0f921\"]],\"type\":\"histogram2d\"}],\"histogram2dcontour\":[{\"colorbar\":{\"outlinewidth\":0,\"ticks\":\"\"},\"colorscale\":[[0.0,\"#0d0887\"],[0.1111111111111111,\"#46039f\"],[0.2222222222222222,\"#7201a8\"],[0.3333333333333333,\"#9c179e\"],[0.4444444444444444,\"#bd3786\"],[0.5555555555555556,\"#d8576b\"],[0.6666666666666666,\"#ed7953\"],[0.7777777777777778,\"#fb9f3a\"],[0.8888888888888888,\"#fdca26\"],[1.0,\"#f0f921\"]],\"type\":\"histogram2dcontour\"}],\"mesh3d\":[{\"colorbar\":{\"outlinewidth\":0,\"ticks\":\"\"},\"type\":\"mesh3d\"}],\"parcoords\":[{\"line\":{\"colorbar\":{\"outlinewidth\":0,\"ticks\":\"\"}},\"type\":\"parcoords\"}],\"pie\":[{\"automargin\":true,\"type\":\"pie\"}],\"scatter\":[{\"marker\":{\"colorbar\":{\"outlinewidth\":0,\"ticks\":\"\"}},\"type\":\"scatter\"}],\"scatter3d\":[{\"line\":{\"colorbar\":{\"outlinewidth\":0,\"ticks\":\"\"}},\"marker\":{\"colorbar\":{\"outlinewidth\":0,\"ticks\":\"\"}},\"type\":\"scatter3d\"}],\"scattercarpet\":[{\"marker\":{\"colorbar\":{\"outlinewidth\":0,\"ticks\":\"\"}},\"type\":\"scattercarpet\"}],\"scattergeo\":[{\"marker\":{\"colorbar\":{\"outlinewidth\":0,\"ticks\":\"\"}},\"type\":\"scattergeo\"}],\"scattergl\":[{\"marker\":{\"colorbar\":{\"outlinewidth\":0,\"ticks\":\"\"}},\"type\":\"scattergl\"}],\"scattermapbox\":[{\"marker\":{\"colorbar\":{\"outlinewidth\":0,\"ticks\":\"\"}},\"type\":\"scattermapbox\"}],\"scatterpolar\":[{\"marker\":{\"colorbar\":{\"outlinewidth\":0,\"ticks\":\"\"}},\"type\":\"scatterpolar\"}],\"scatterpolargl\":[{\"marker\":{\"colorbar\":{\"outlinewidth\":0,\"ticks\":\"\"}},\"type\":\"scatterpolargl\"}],\"scatterternary\":[{\"marker\":{\"colorbar\":{\"outlinewidth\":0,\"ticks\":\"\"}},\"type\":\"scatterternary\"}],\"surface\":[{\"colorbar\":{\"outlinewidth\":0,\"ticks\":\"\"},\"colorscale\":[[0.0,\"#0d0887\"],[0.1111111111111111,\"#46039f\"],[0.2222222222222222,\"#7201a8\"],[0.3333333333333333,\"#9c179e\"],[0.4444444444444444,\"#bd3786\"],[0.5555555555555556,\"#d8576b\"],[0.6666666666666666,\"#ed7953\"],[0.7777777777777778,\"#fb9f3a\"],[0.8888888888888888,\"#fdca26\"],[1.0,\"#f0f921\"]],\"type\":\"surface\"}],\"table\":[{\"cells\":{\"fill\":{\"color\":\"#EBF0F8\"},\"line\":{\"color\":\"white\"}},\"header\":{\"fill\":{\"color\":\"#C8D4E3\"},\"line\":{\"color\":\"white\"}},\"type\":\"table\"}]},\"layout\":{\"annotationdefaults\":{\"arrowcolor\":\"#2a3f5f\",\"arrowhead\":0,\"arrowwidth\":1},\"autotypenumbers\":\"strict\",\"coloraxis\":{\"colorbar\":{\"outlinewidth\":0,\"ticks\":\"\"}},\"colorscale\":{\"diverging\":[[0,\"#8e0152\"],[0.1,\"#c51b7d\"],[0.2,\"#de77ae\"],[0.3,\"#f1b6da\"],[0.4,\"#fde0ef\"],[0.5,\"#f7f7f7\"],[0.6,\"#e6f5d0\"],[0.7,\"#b8e186\"],[0.8,\"#7fbc41\"],[0.9,\"#4d9221\"],[1,\"#276419\"]],\"sequential\":[[0.0,\"#0d0887\"],[0.1111111111111111,\"#46039f\"],[0.2222222222222222,\"#7201a8\"],[0.3333333333333333,\"#9c179e\"],[0.4444444444444444,\"#bd3786\"],[0.5555555555555556,\"#d8576b\"],[0.6666666666666666,\"#ed7953\"],[0.7777777777777778,\"#fb9f3a\"],[0.8888888888888888,\"#fdca26\"],[1.0,\"#f0f921\"]],\"sequentialminus\":[[0.0,\"#0d0887\"],[0.1111111111111111,\"#46039f\"],[0.2222222222222222,\"#7201a8\"],[0.3333333333333333,\"#9c179e\"],[0.4444444444444444,\"#bd3786\"],[0.5555555555555556,\"#d8576b\"],[0.6666666666666666,\"#ed7953\"],[0.7777777777777778,\"#fb9f3a\"],[0.8888888888888888,\"#fdca26\"],[1.0,\"#f0f921\"]]},\"colorway\":[\"#636efa\",\"#EF553B\",\"#00cc96\",\"#ab63fa\",\"#FFA15A\",\"#19d3f3\",\"#FF6692\",\"#B6E880\",\"#FF97FF\",\"#FECB52\"],\"font\":{\"color\":\"#2a3f5f\"},\"geo\":{\"bgcolor\":\"white\",\"lakecolor\":\"white\",\"landcolor\":\"#E5ECF6\",\"showlakes\":true,\"showland\":true,\"subunitcolor\":\"white\"},\"hoverlabel\":{\"align\":\"left\"},\"hovermode\":\"closest\",\"mapbox\":{\"style\":\"light\"},\"paper_bgcolor\":\"white\",\"plot_bgcolor\":\"#E5ECF6\",\"polar\":{\"angularaxis\":{\"gridcolor\":\"white\",\"linecolor\":\"white\",\"ticks\":\"\"},\"bgcolor\":\"#E5ECF6\",\"radialaxis\":{\"gridcolor\":\"white\",\"linecolor\":\"white\",\"ticks\":\"\"}},\"scene\":{\"xaxis\":{\"backgroundcolor\":\"#E5ECF6\",\"gridcolor\":\"white\",\"gridwidth\":2,\"linecolor\":\"white\",\"showbackground\":true,\"ticks\":\"\",\"zerolinecolor\":\"white\"},\"yaxis\":{\"backgroundcolor\":\"#E5ECF6\",\"gridcolor\":\"white\",\"gridwidth\":2,\"linecolor\":\"white\",\"showbackground\":true,\"ticks\":\"\",\"zerolinecolor\":\"white\"},\"zaxis\":{\"backgroundcolor\":\"#E5ECF6\",\"gridcolor\":\"white\",\"gridwidth\":2,\"linecolor\":\"white\",\"showbackground\":true,\"ticks\":\"\",\"zerolinecolor\":\"white\"}},\"shapedefaults\":{\"line\":{\"color\":\"#2a3f5f\"}},\"ternary\":{\"aaxis\":{\"gridcolor\":\"white\",\"linecolor\":\"white\",\"ticks\":\"\"},\"baxis\":{\"gridcolor\":\"white\",\"linecolor\":\"white\",\"ticks\":\"\"},\"bgcolor\":\"#E5ECF6\",\"caxis\":{\"gridcolor\":\"white\",\"linecolor\":\"white\",\"ticks\":\"\"}},\"title\":{\"x\":0.05},\"xaxis\":{\"automargin\":true,\"gridcolor\":\"white\",\"linecolor\":\"white\",\"ticks\":\"\",\"title\":{\"standoff\":15},\"zerolinecolor\":\"white\",\"zerolinewidth\":2},\"yaxis\":{\"automargin\":true,\"gridcolor\":\"white\",\"linecolor\":\"white\",\"ticks\":\"\",\"title\":{\"standoff\":15},\"zerolinecolor\":\"white\",\"zerolinewidth\":2}}},\"xaxis\":{\"anchor\":\"y\",\"domain\":[0.0,1.0]},\"yaxis\":{\"anchor\":\"x\",\"domain\":[0.0,1.0],\"title\":{\"text\":\"tot_match\"}}},                        {\"responsive\": true}                    ).then(function(){\n                            \nvar gd = document.getElementById('f115debb-df69-45f7-8b5f-17034f1f6fea');\nvar x = new MutationObserver(function (mutations, observer) {{\n        var display = window.getComputedStyle(gd).display;\n        if (!display || display === 'none') {{\n            console.log([gd, 'removed!']);\n            Plotly.purge(gd);\n            observer.disconnect();\n        }}\n}});\n\n// Listen for the removal of the full notebook cells\nvar notebookContainer = gd.closest('#notebook-container');\nif (notebookContainer) {{\n    x.observe(notebookContainer, {childList: true});\n}}\n\n// Listen for the clearing of the current output cell\nvar outputEl = gd.closest('.output');\nif (outputEl) {{\n    x.observe(outputEl, {childList: true});\n}}\n\n                        })                };                            </script>        </div>\n</body>\n</html>"
     },
     "metadata": {},
     "output_type": "display_data"
    },
    {
     "output_type": "execute_result",
     "execution_count": 45,
     "data": {
      "application/vnd.deepnote.dataframe.v2+json": {
       "row_count": 4058,
       "column_count": 7,
       "columns": [
        {
         "name": "index",
         "dtype": "int64",
         "stats": {
          "unique_count": 4058,
          "nan_count": 0,
          "min": "0",
          "max": "186018",
          "histogram": [
           {
            "bin_start": 0,
            "bin_end": 18601.8,
            "count": 456
           },
           {
            "bin_start": 18601.8,
            "bin_end": 37203.6,
            "count": 388
           },
           {
            "bin_start": 37203.6,
            "bin_end": 55805.399999999994,
            "count": 168
           },
           {
            "bin_start": 55805.399999999994,
            "bin_end": 74407.2,
            "count": 94
           },
           {
            "bin_start": 74407.2,
            "bin_end": 93009,
            "count": 751
           },
           {
            "bin_start": 93009,
            "bin_end": 111610.79999999999,
            "count": 466
           },
           {
            "bin_start": 111610.79999999999,
            "bin_end": 130212.59999999999,
            "count": 569
           },
           {
            "bin_start": 130212.59999999999,
            "bin_end": 148814.4,
            "count": 391
           },
           {
            "bin_start": 148814.4,
            "bin_end": 167416.19999999998,
            "count": 468
           },
           {
            "bin_start": 167416.19999999998,
            "bin_end": 186018,
            "count": 307
           }
          ]
         }
        },
        {
         "name": "tourney_name",
         "dtype": "object",
         "stats": {
          "unique_count": 2227,
          "nan_count": 0,
          "categories": [
           {
            "name": "W15 Antalya",
            "count": 72
           },
           {
            "name": "W15 Monastir",
            "count": 69
           },
           {
            "name": "2225 others",
            "count": 3917
           }
          ]
         }
        },
        {
         "name": "tourney_id",
         "dtype": "object",
         "stats": {
          "unique_count": 4039,
          "nan_count": 0,
          "categories": [
           {
            "name": "2019-M006",
            "count": 2
           },
           {
            "name": "2019-M007",
            "count": 2
           },
           {
            "name": "4037 others",
            "count": 4054
           }
          ]
         }
        },
        {
         "name": "avg_spect",
         "dtype": "float64",
         "stats": {
          "unique_count": 2307,
          "nan_count": 0,
          "min": "232.0",
          "max": "10492.0",
          "histogram": [
           {
            "bin_start": 232,
            "bin_end": 1258,
            "count": 244
           },
           {
            "bin_start": 1258,
            "bin_end": 2284,
            "count": 274
           },
           {
            "bin_start": 2284,
            "bin_end": 3310,
            "count": 1768
           },
           {
            "bin_start": 3310,
            "bin_end": 4336,
            "count": 1390
           },
           {
            "bin_start": 4336,
            "bin_end": 5362,
            "count": 181
           },
           {
            "bin_start": 5362,
            "bin_end": 6388,
            "count": 64
           },
           {
            "bin_start": 6388,
            "bin_end": 7414,
            "count": 75
           },
           {
            "bin_start": 7414,
            "bin_end": 8440,
            "count": 46
           },
           {
            "bin_start": 8440,
            "bin_end": 9466,
            "count": 12
           },
           {
            "bin_start": 9466,
            "bin_end": 10492,
            "count": 4
           }
          ]
         }
        },
        {
         "name": "avg_rank",
         "dtype": "float64",
         "stats": {
          "unique_count": 4001,
          "nan_count": 0,
          "min": "4.366666666666667",
          "max": "1125.0",
          "histogram": [
           {
            "bin_start": 4.366666666666667,
            "bin_end": 116.43,
            "count": 319
           },
           {
            "bin_start": 116.43,
            "bin_end": 228.49333333333337,
            "count": 527
           },
           {
            "bin_start": 228.49333333333337,
            "bin_end": 340.55666666666673,
            "count": 759
           },
           {
            "bin_start": 340.55666666666673,
            "bin_end": 452.62000000000006,
            "count": 1006
           },
           {
            "bin_start": 452.62000000000006,
            "bin_end": 564.6833333333334,
            "count": 792
           },
           {
            "bin_start": 564.6833333333334,
            "bin_end": 676.7466666666668,
            "count": 513
           },
           {
            "bin_start": 676.7466666666668,
            "bin_end": 788.8100000000001,
            "count": 127
           },
           {
            "bin_start": 788.8100000000001,
            "bin_end": 900.8733333333334,
            "count": 10
           },
           {
            "bin_start": 900.8733333333334,
            "bin_end": 1012.9366666666668,
            "count": 1
           },
           {
            "bin_start": 1012.9366666666668,
            "bin_end": 1125,
            "count": 4
           }
          ]
         }
        },
        {
         "name": "avg_revenue",
         "dtype": "float64",
         "stats": {
          "unique_count": 4056,
          "nan_count": 0,
          "min": "46624.62",
          "max": "2506160.1700000013",
          "histogram": [
           {
            "bin_start": 46624.62,
            "bin_end": 292578.1750000001,
            "count": 265
           },
           {
            "bin_start": 292578.1750000001,
            "bin_end": 538531.7300000002,
            "count": 937
           },
           {
            "bin_start": 538531.7300000002,
            "bin_end": 784485.2850000003,
            "count": 1997
           },
           {
            "bin_start": 784485.2850000003,
            "bin_end": 1030438.8400000004,
            "count": 614
           },
           {
            "bin_start": 1030438.8400000004,
            "bin_end": 1276392.3950000007,
            "count": 123
           },
           {
            "bin_start": 1276392.3950000007,
            "bin_end": 1522345.9500000007,
            "count": 55
           },
           {
            "bin_start": 1522345.9500000007,
            "bin_end": 1768299.5050000008,
            "count": 45
           },
           {
            "bin_start": 1768299.5050000008,
            "bin_end": 2014253.060000001,
            "count": 12
           },
           {
            "bin_start": 2014253.060000001,
            "bin_end": 2260206.615000001,
            "count": 3
           },
           {
            "bin_start": 2260206.615000001,
            "bin_end": 2506160.1700000013,
            "count": 7
           }
          ]
         }
        },
        {
         "name": "tot_match",
         "dtype": "int64",
         "stats": {
          "unique_count": 59,
          "nan_count": 0,
          "min": "4",
          "max": "76",
          "histogram": [
           {
            "bin_start": 4,
            "bin_end": 11.2,
            "count": 226
           },
           {
            "bin_start": 11.2,
            "bin_end": 18.4,
            "count": 16
           },
           {
            "bin_start": 18.4,
            "bin_end": 25.6,
            "count": 12
           },
           {
            "bin_start": 25.6,
            "bin_end": 32.8,
            "count": 1642
           },
           {
            "bin_start": 32.8,
            "bin_end": 40,
            "count": 228
           },
           {
            "bin_start": 40,
            "bin_end": 47.2,
            "count": 465
           },
           {
            "bin_start": 47.2,
            "bin_end": 54.4,
            "count": 707
           },
           {
            "bin_start": 54.4,
            "bin_end": 61.6,
            "count": 563
           },
           {
            "bin_start": 61.6,
            "bin_end": 68.8,
            "count": 81
           },
           {
            "bin_start": 68.8,
            "bin_end": 76,
            "count": 118
           }
          ]
         }
        },
        {
         "name": "_deepnote_index_column",
         "dtype": "int64"
        }
       ],
       "rows_top": [
        {
         "index": 0,
         "tourney_name": "Brisbane",
         "tourney_id": "2019-M020",
         "avg_spect": 2366,
         "avg_rank": 129.73469387755102,
         "avg_revenue": 449800.0199999997,
         "tot_match": 49,
         "_deepnote_index_column": 0
        },
        {
         "index": 96,
         "tourney_name": "Doha",
         "tourney_id": "2019-0451",
         "avg_spect": 2773,
         "avg_rank": 180.40625,
         "avg_revenue": 563339.8099999997,
         "tot_match": 48,
         "_deepnote_index_column": 1
        },
        {
         "index": 139,
         "tourney_name": "Pune",
         "tourney_id": "2019-0891",
         "avg_spect": 447,
         "avg_rank": 104.125,
         "avg_revenue": 87559.10000000002,
         "tot_match": 16,
         "_deepnote_index_column": 2
        },
        {
         "index": 898,
         "tourney_name": "Buenos Aires",
         "tourney_id": "2019-0506",
         "avg_spect": 3921,
         "avg_rank": 155.98305084745763,
         "avg_revenue": 560824.91,
         "tot_match": 59,
         "_deepnote_index_column": 9
        },
        {
         "index": 976,
         "tourney_name": "Rotterdam",
         "tourney_id": "2019-0407",
         "avg_spect": 3420,
         "avg_rank": 107.66279069767441,
         "avg_revenue": 660259.0399999993,
         "tot_match": 43,
         "_deepnote_index_column": 11
        },
        {
         "index": 1018,
         "tourney_name": "Delray Beach",
         "tourney_id": "2019-0499",
         "avg_spect": 3450,
         "avg_rank": 451.9032258064516,
         "avg_revenue": 719448.5100000004,
         "tot_match": 31,
         "_deepnote_index_column": 12
        },
        {
         "index": 1061,
         "tourney_name": "Marseille",
         "tourney_id": "2019-0496",
         "avg_spect": 4384,
         "avg_rank": 338.94444444444446,
         "avg_revenue": 1041275.7000000009,
         "tot_match": 54,
         "_deepnote_index_column": 13
        },
        {
         "index": 1100,
         "tourney_name": "Rio de Janeiro",
         "tourney_id": "2019-6932",
         "avg_spect": 4009,
         "avg_rank": 364.00892857142856,
         "avg_revenue": 790340.1099999995,
         "tot_match": 56,
         "_deepnote_index_column": 14
        },
        {
         "index": 1143,
         "tourney_name": "Acapulco",
         "tourney_id": "2019-M004",
         "avg_spect": 8787,
         "avg_rank": 253.6020408163265,
         "avg_revenue": 2419232.5999999978,
         "tot_match": 49,
         "_deepnote_index_column": 15
        },
        {
         "index": 1235,
         "tourney_name": "Dubai",
         "tourney_id": "2019-0495",
         "avg_spect": 3380,
         "avg_rank": 231.54651162790697,
         "avg_revenue": 860722.48,
         "tot_match": 43,
         "_deepnote_index_column": 16
        },
        {
         "index": 1277,
         "tourney_name": "Sao Paulo",
         "tourney_id": "2019-0533",
         "avg_spect": 3810,
         "avg_rank": 297.6020408163265,
         "avg_revenue": 729746.3799999999,
         "tot_match": 49,
         "_deepnote_index_column": 17
        },
        {
         "index": 1316,
         "tourney_name": "Indian Wells Masters",
         "tourney_id": "2019-M006",
         "avg_spect": 3531,
         "avg_rank": 304.72093023255815,
         "avg_revenue": 515067.28999999946,
         "tot_match": 43,
         "_deepnote_index_column": 18
        },
        {
         "index": 1411,
         "tourney_name": "Indian Wells",
         "tourney_id": "2019-M006",
         "avg_spect": 4201,
         "avg_rank": 470.3225806451613,
         "avg_revenue": 692408.88,
         "tot_match": 31,
         "_deepnote_index_column": 19
        },
        {
         "index": 1578,
         "tourney_name": "Miami Masters",
         "tourney_id": "2019-M007",
         "avg_spect": 3077,
         "avg_rank": 511.58064516129036,
         "avg_revenue": 619881.2799999999,
         "tot_match": 31,
         "_deepnote_index_column": 20
        },
        {
         "index": 1673,
         "tourney_name": "Miami",
         "tourney_id": "2019-M007",
         "avg_spect": 4202,
         "avg_rank": 463.9193548387097,
         "avg_revenue": 522719.90000000026,
         "tot_match": 31,
         "_deepnote_index_column": 21
        },
        {
         "index": 1840,
         "tourney_name": "Houston",
         "tourney_id": "2019-0717",
         "avg_spect": 3145,
         "avg_rank": 224.35483870967744,
         "avg_revenue": 574320.0700000002,
         "tot_match": 31,
         "_deepnote_index_column": 22
        },
        {
         "index": 1879,
         "tourney_name": "Marrakech",
         "tourney_id": "2019-0360",
         "avg_spect": 3415,
         "avg_rank": 438.1363636363636,
         "avg_revenue": 786801.1799999998,
         "tot_match": 55,
         "_deepnote_index_column": 23
        },
        {
         "index": 1922,
         "tourney_name": "Monte Carlo Masters",
         "tourney_id": "2019-0410",
         "avg_spect": 2510,
         "avg_rank": 307.00847457627117,
         "avg_revenue": 489941.1999999995,
         "tot_match": 59,
         "_deepnote_index_column": 24
        },
        {
         "index": 1998,
         "tourney_name": "Barcelona",
         "tourney_id": "2019-0425",
         "avg_spect": 3312,
         "avg_rank": 273.72093023255815,
         "avg_revenue": 676376.0199999997,
         "tot_match": 43,
         "_deepnote_index_column": 25
        },
        {
         "index": 2063,
         "tourney_name": "Budapest",
         "tourney_id": "2019-7648",
         "avg_spect": 3533,
         "avg_rank": 557.7741935483871,
         "avg_revenue": 730314.6999999996,
         "tot_match": 31,
         "_deepnote_index_column": 26
        },
        {
         "index": 2102,
         "tourney_name": "Estoril",
         "tourney_id": "2019-7290",
         "avg_spect": 2597,
         "avg_rank": 647.8548387096774,
         "avg_revenue": 545119.9700000002,
         "tot_match": 31,
         "_deepnote_index_column": 27
        },
        {
         "index": 2141,
         "tourney_name": "Munich",
         "tourney_id": "2019-0308",
         "avg_spect": 2707,
         "avg_rank": 599.2096774193549,
         "avg_revenue": 475008.40000000026,
         "tot_match": 31,
         "_deepnote_index_column": 28
        },
        {
         "index": 2180,
         "tourney_name": "Madrid Masters",
         "tourney_id": "2019-M021",
         "avg_spect": 3197,
         "avg_rank": 615.016129032258,
         "avg_revenue": 757970.2100000005,
         "tot_match": 31,
         "_deepnote_index_column": 29
        },
        {
         "index": 2235,
         "tourney_name": "Madrid",
         "tourney_id": "2019-M021",
         "avg_spect": 3231,
         "avg_rank": 582.4354838709678,
         "avg_revenue": 753803.6000000002,
         "tot_match": 31,
         "_deepnote_index_column": 30
        },
        {
         "index": 2343,
         "tourney_name": "Rome Masters",
         "tourney_id": "2019-M009",
         "avg_spect": 4238,
         "avg_rank": 538.2741935483871,
         "avg_revenue": 845509.1299999999,
         "tot_match": 31,
         "_deepnote_index_column": 31
        },
        {
         "index": 2398,
         "tourney_name": "Rome",
         "tourney_id": "2019-M009",
         "avg_spect": 3583,
         "avg_rank": 354.741935483871,
         "avg_revenue": 838038.09,
         "tot_match": 31,
         "_deepnote_index_column": 32
        },
        {
         "index": 2498,
         "tourney_name": "Geneva",
         "tourney_id": "2019-0322",
         "avg_spect": 3653,
         "avg_rank": 393.55,
         "avg_revenue": 552605.1199999996,
         "tot_match": 30,
         "_deepnote_index_column": 33
        },
        {
         "index": 2537,
         "tourney_name": "Lyon",
         "tourney_id": "2019-7694",
         "avg_spect": 3261,
         "avg_rank": 461.0322580645161,
         "avg_revenue": 738229.1000000002,
         "tot_match": 31,
         "_deepnote_index_column": 34
        },
        {
         "index": 2576,
         "tourney_name": "Roland Garros",
         "tourney_id": "2019-520",
         "avg_spect": 2109,
         "avg_rank": 447.01612903225805,
         "avg_revenue": 361340.77999999997,
         "tot_match": 31,
         "_deepnote_index_column": 35
        },
        {
         "index": 3026,
         "tourney_name": "s Hertogenbosch",
         "tourney_id": "2019-M010",
         "avg_spect": 5298,
         "avg_rank": 424.70754716981133,
         "avg_revenue": 1295591.1499999992,
         "tot_match": 53,
         "_deepnote_index_column": 36
        },
        {
         "index": 3053,
         "tourney_name": "S-Hertogenbosch",
         "tourney_id": "2019-M010",
         "avg_spect": 3755,
         "avg_rank": 381.6779661016949,
         "avg_revenue": 660901.0300000006,
         "tot_match": 59,
         "_deepnote_index_column": 37
        },
        {
         "index": 3114,
         "tourney_name": "Stuttgart",
         "tourney_id": "2019-0321",
         "avg_spect": 4188,
         "avg_rank": 509.46610169491527,
         "avg_revenue": 725393.9500000002,
         "tot_match": 59,
         "_deepnote_index_column": 38
        },
        {
         "index": 3153,
         "tourney_name": "Halle",
         "tourney_id": "2019-0500",
         "avg_spect": 6888,
         "avg_rank": 280.0816326530612,
         "avg_revenue": 1195250.5900000015,
         "tot_match": 49,
         "_deepnote_index_column": 39
        },
        {
         "index": 3196,
         "tourney_name": "Queen's Club",
         "tourney_id": "2019-0311",
         "avg_spect": 3734,
         "avg_rank": 305.4418604651163,
         "avg_revenue": 702890.1400000004,
         "tot_match": 43,
         "_deepnote_index_column": 40
        },
        {
         "index": 3239,
         "tourney_name": "Antalya",
         "tourney_id": "2019-7650",
         "avg_spect": 3456,
         "avg_rank": 309.20930232558135,
         "avg_revenue": 707490.3200000002,
         "tot_match": 43,
         "_deepnote_index_column": 41
        },
        {
         "index": 3278,
         "tourney_name": "Eastbourne",
         "tourney_id": "2019-M016",
         "avg_spect": 1655,
         "avg_rank": 499.5,
         "avg_revenue": 314721.53,
         "tot_match": 31,
         "_deepnote_index_column": 42
        },
        {
         "index": 3390,
         "tourney_name": "Wimbledon",
         "tourney_id": "2019-540",
         "avg_spect": 3053,
         "avg_rank": 419.83653846153845,
         "avg_revenue": 566115.1999999995,
         "tot_match": 52,
         "_deepnote_index_column": 43
        },
        {
         "index": 3868,
         "tourney_name": "Bastad",
         "tourney_id": "2019-0316",
         "avg_spect": 3090,
         "avg_rank": 378.8965517241379,
         "avg_revenue": 632511.0399999993,
         "tot_match": 58,
         "_deepnote_index_column": 44
        },
        {
         "index": 3907,
         "tourney_name": "Newport",
         "tourney_id": "2019-0315",
         "avg_spect": 3128,
         "avg_rank": 252.17741935483872,
         "avg_revenue": 666325.4899999998,
         "tot_match": 31,
         "_deepnote_index_column": 45
        },
        {
         "index": 3946,
         "tourney_name": "Umag",
         "tourney_id": "2019-0439",
         "avg_spect": 2665,
         "avg_rank": 318.2258064516129,
         "avg_revenue": 519081.74000000017,
         "tot_match": 31,
         "_deepnote_index_column": 46
        },
        {
         "index": 3985,
         "tourney_name": "Atlanta",
         "tourney_id": "2019-6116",
         "avg_spect": 3595,
         "avg_rank": 308.93548387096774,
         "avg_revenue": 574883.01,
         "tot_match": 31,
         "_deepnote_index_column": 47
        },
        {
         "index": 4023,
         "tourney_name": "Gstaad",
         "tourney_id": "2019-0314",
         "avg_spect": 2041,
         "avg_rank": 635.4677419354839,
         "avg_revenue": 453979.3800000003,
         "tot_match": 31,
         "_deepnote_index_column": 48
        },
        {
         "index": 4061,
         "tourney_name": "Hamburg",
         "tourney_id": "2019-0414",
         "avg_spect": 2578,
         "avg_rank": 672.8870967741935,
         "avg_revenue": 538811.2599999999,
         "tot_match": 31,
         "_deepnote_index_column": 49
        },
        {
         "index": 4103,
         "tourney_name": "Kitzbuhel",
         "tourney_id": "2019-0319",
         "avg_spect": 3577,
         "avg_rank": 649.483870967742,
         "avg_revenue": 923640.25,
         "tot_match": 31,
         "_deepnote_index_column": 50
        },
        {
         "index": 4142,
         "tourney_name": "Los Cabos",
         "tourney_id": "2019-7480",
         "avg_spect": 8125,
         "avg_rank": 305.795918367347,
         "avg_revenue": 1759280.6099999996,
         "tot_match": 49,
         "_deepnote_index_column": 51
        },
        {
         "index": 4181,
         "tourney_name": "Washington",
         "tourney_id": "2019-M035",
         "avg_spect": 2947,
         "avg_rank": 374.9625,
         "avg_revenue": 521281.1000000001,
         "tot_match": 40,
         "_deepnote_index_column": 52
        },
        {
         "index": 4284,
         "tourney_name": "Canada Masters",
         "tourney_id": "2019-0421",
         "avg_spect": 3725,
         "avg_rank": 664.5483870967741,
         "avg_revenue": 547581.3000000003,
         "tot_match": 31,
         "_deepnote_index_column": 53
        },
        {
         "index": 4360,
         "tourney_name": "Cincinnati Masters",
         "tourney_id": "2019-M024",
         "avg_spect": 4751,
         "avg_rank": 512.2741935483871,
         "avg_revenue": 767793.7600000005,
         "tot_match": 31,
         "_deepnote_index_column": 54
        },
        {
         "index": 4415,
         "tourney_name": "Cincinnati",
         "tourney_id": "2019-M024",
         "avg_spect": 2463,
         "avg_rank": 544.8709677419355,
         "avg_revenue": 513730.59999999974,
         "tot_match": 31,
         "_deepnote_index_column": 55
        },
        {
         "index": 4513,
         "tourney_name": "Winston-Salem",
         "tourney_id": "2019-6242",
         "avg_spect": 2946,
         "avg_rank": 515.3870967741935,
         "avg_revenue": 619386.7699999997,
         "tot_match": 31,
         "_deepnote_index_column": 56
        },
        {
         "index": 4572,
         "tourney_name": "US Open",
         "tourney_id": "2019-560",
         "avg_spect": 3305,
         "avg_rank": 708.2096774193549,
         "avg_revenue": 741488.0500000004,
         "tot_match": 31,
         "_deepnote_index_column": 57
        },
        {
         "index": 4699,
         "tourney_name": "Us Open",
         "tourney_id": "2019-560",
         "avg_spect": 3293,
         "avg_rank": 675.4516129032259,
         "avg_revenue": 680904.7600000002,
         "tot_match": 31,
         "_deepnote_index_column": 58
        },
        {
         "index": 5049,
         "tourney_name": "Metz",
         "tourney_id": "2019-0341",
         "avg_spect": 2746,
         "avg_rank": 468.32258064516134,
         "avg_revenue": 541618.8000000003,
         "tot_match": 31,
         "_deepnote_index_column": 59
        },
        {
         "index": 5088,
         "tourney_name": "St. Petersburg",
         "tourney_id": "2019-0568",
         "avg_spect": 2206,
         "avg_rank": 460.2903225806451,
         "avg_revenue": 485873.25,
         "tot_match": 31,
         "_deepnote_index_column": 60
        },
        {
         "index": 5127,
         "tourney_name": "Chengdu",
         "tourney_id": "2019-7581",
         "avg_spect": 4362,
         "avg_rank": 458.14516129032256,
         "avg_revenue": 788523.59,
         "tot_match": 31,
         "_deepnote_index_column": 61
        },
        {
         "index": 5166,
         "tourney_name": "Zhuhai",
         "tourney_id": "2019-9164",
         "avg_spect": 3184,
         "avg_rank": 226.30645161290323,
         "avg_revenue": 666123.3599999998,
         "tot_match": 31,
         "_deepnote_index_column": 62
        },
        {
         "index": 5205,
         "tourney_name": "Beijing",
         "tourney_id": "2019-M015",
         "avg_spect": 2553,
         "avg_rank": 218.09677419354838,
         "avg_revenue": 531090.2400000001,
         "tot_match": 31,
         "_deepnote_index_column": 63
        },
        {
         "index": 5331,
         "tourney_name": "Tokyo",
         "tourney_id": "2019-0329",
         "avg_spect": 3374,
         "avg_rank": 218.14516129032256,
         "avg_revenue": 742411.5100000004,
         "tot_match": 31,
         "_deepnote_index_column": 64
        },
        {
         "index": 5374,
         "tourney_name": "Shanghai Masters",
         "tourney_id": "2019-5014",
         "avg_spect": 2079,
         "avg_rank": 417.6875,
         "avg_revenue": 425459.5899999999,
         "tot_match": 56,
         "_deepnote_index_column": 65
        },
        {
         "index": 5450,
         "tourney_name": "Antwerp",
         "tourney_id": "2019-7485",
         "avg_spect": 2588,
         "avg_rank": 464.07142857142856,
         "avg_revenue": 489417.60999999975,
         "tot_match": 42,
         "_deepnote_index_column": 66
        },
        {
         "index": 5489,
         "tourney_name": "Moscow",
         "tourney_id": "2019-M014",
         "avg_spect": 3089,
         "avg_rank": 383.67708333333337,
         "avg_revenue": 621014.1700000007,
         "tot_match": 48,
         "_deepnote_index_column": 67
        },
        {
         "index": 5583,
         "tourney_name": "Stockholm",
         "tourney_id": "2019-0429",
         "avg_spect": 3395,
         "avg_rank": 321.93548387096774,
         "avg_revenue": 675804.16,
         "tot_match": 31,
         "_deepnote_index_column": 68
        },
        {
         "index": 5622,
         "tourney_name": "Basel",
         "tourney_id": "2019-0328",
         "avg_spect": 5846,
         "avg_rank": 445,
         "avg_revenue": 1572494.7299999993,
         "tot_match": 49,
         "_deepnote_index_column": 69
        },
        {
         "index": 5665,
         "tourney_name": "Vienna",
         "tourney_id": "2019-0337",
         "avg_spect": 3610,
         "avg_rank": 383.08490566037733,
         "avg_revenue": 743766.3900000004,
         "tot_match": 53,
         "_deepnote_index_column": 70
        },
        {
         "index": 5708,
         "tourney_name": "Paris Masters",
         "tourney_id": "2019-0352",
         "avg_spect": 3264,
         "avg_rank": 259.9636363636364,
         "avg_revenue": 744863.7199999995,
         "tot_match": 55,
         "_deepnote_index_column": 71
        },
        {
         "index": 5773,
         "tourney_name": "Tour Finals",
         "tourney_id": "2019-0605",
         "avg_spect": 4281,
         "avg_rank": 313.4193548387097,
         "avg_revenue": 1041123.9499999995,
         "tot_match": 31,
         "_deepnote_index_column": 72
        },
        {
         "index": 5788,
         "tourney_name": "Davis Cup Finals RR: FRA vs JPN",
         "tourney_id": "2019-M-DC-2019-FLS-A-M-FRA-JPN-01",
         "avg_spect": 2360,
         "avg_rank": 257.11290322580646,
         "avg_revenue": 420964.5700000002,
         "tot_match": 31,
         "_deepnote_index_column": 73
        },
        {
         "index": 5790,
         "tourney_name": "Davis Cup Finals RR: FRA vs SRB",
         "tourney_id": "2019-M-DC-2019-FLS-A-M-FRA-SRB-01",
         "avg_spect": 2665,
         "avg_rank": 488.9516129032258,
         "avg_revenue": 551327.9299999998,
         "tot_match": 31,
         "_deepnote_index_column": 74
        },
        {
         "index": 5792,
         "tourney_name": "Davis Cup Finals RR: SRB vs JPN",
         "tourney_id": "2019-M-DC-2019-FLS-A-M-SRB-JPN-01",
         "avg_spect": 2665,
         "avg_rank": 509.4677419354839,
         "avg_revenue": 503611.4399999998,
         "tot_match": 31,
         "_deepnote_index_column": 75
        },
        {
         "index": 5794,
         "tourney_name": "Davis Cup Finals RR: CRO vs ESP",
         "tourney_id": "2019-M-DC-2019-FLS-B-M-CRO-ESP-01",
         "avg_spect": 4084,
         "avg_rank": 484.5806451612903,
         "avg_revenue": 851831.3999999996,
         "tot_match": 31,
         "_deepnote_index_column": 76
        },
        {
         "index": 5796,
         "tourney_name": "Davis Cup Finals RR: CRO vs RUS",
         "tourney_id": "2019-M-DC-2019-FLS-B-M-CRO-RUS-01",
         "avg_spect": 3049,
         "avg_rank": 535.5645161290322,
         "avg_revenue": 564494.4000000001,
         "tot_match": 31,
         "_deepnote_index_column": 77
        }
       ],
       "rows_bottom": [
        {
         "index": 182144,
         "tourney_name": "W15 Cancun",
         "tourney_id": "2020-W-ITF-MEX-06A-2020",
         "avg_spect": 4226,
         "avg_rank": 262.0204081632653,
         "avg_revenue": 1024922.8400000011,
         "tot_match": 49,
         "_deepnote_index_column": 4808
        },
        {
         "index": 182202,
         "tourney_name": "W15 Cancun",
         "tourney_id": "2020-W-ITF-MEX-07A-2020",
         "avg_spect": 3621,
         "avg_rank": 431.4516129032258,
         "avg_revenue": 839013.75,
         "tot_match": 31,
         "_deepnote_index_column": 4809
        },
        {
         "index": 182254,
         "tourney_name": "W15 Cancun",
         "tourney_id": "2020-W-ITF-MEX-08A-2020",
         "avg_spect": 2834,
         "avg_rank": 391.4516129032258,
         "avg_revenue": 598654.7200000001,
         "tot_match": 31,
         "_deepnote_index_column": 4810
        },
        {
         "index": 182302,
         "tourney_name": "W15 Fort-de-France (Martinique)",
         "tourney_id": "2020-W-ITF-MRN-01A-2020",
         "avg_spect": 3022,
         "avg_rank": 459.51612903225805,
         "avg_revenue": 471025.86999999965,
         "tot_match": 31,
         "_deepnote_index_column": 4811
        },
        {
         "index": 182327,
         "tourney_name": "W15 Alkmaar",
         "tourney_id": "2020-W-ITF-NED-04A-2020",
         "avg_spect": 1738,
         "avg_rank": 372.7125,
         "avg_revenue": 405708.36999999965,
         "tot_match": 40,
         "_deepnote_index_column": 4812
        },
        {
         "index": 182394,
         "tourney_name": "W15 Hamilton",
         "tourney_id": "2020-W-ITF-NZL-01A-2020",
         "avg_spect": 3232,
         "avg_rank": 522.125,
         "avg_revenue": 761037.1900000005,
         "tot_match": 44,
         "_deepnote_index_column": 4813
        },
        {
         "index": 182434,
         "tourney_name": "W15 Oeiras",
         "tourney_id": "2020-W-ITF-POR-06A-2020",
         "avg_spect": 3249,
         "avg_rank": 454.1545454545454,
         "avg_revenue": 630706.7699999998,
         "tot_match": 55,
         "_deepnote_index_column": 4814
        },
        {
         "index": 182495,
         "tourney_name": "W15 Santarem",
         "tourney_id": "2020-W-ITF-POR-07A-2020",
         "avg_spect": 7848,
         "avg_rank": 223.7888888888889,
         "avg_revenue": 1309029.5900000015,
         "tot_match": 45,
         "_deepnote_index_column": 4815
        },
        {
         "index": 182544,
         "tourney_name": "W25 Montemor-O-Novo",
         "tourney_id": "2020-W-ITF-POR-08A-2020",
         "avg_spect": 5202,
         "avg_rank": 134.72033898305085,
         "avg_revenue": 712984.3699999998,
         "tot_match": 59,
         "_deepnote_index_column": 4816
        },
        {
         "index": 182594,
         "tourney_name": "W25+H Figueira Da Foz",
         "tourney_id": "2020-W-ITF-POR-09A-2020",
         "avg_spect": 6867,
         "avg_rank": 136.91525423728814,
         "avg_revenue": 2084950.239999998,
         "tot_match": 59,
         "_deepnote_index_column": 4817
        },
        {
         "index": 182649,
         "tourney_name": "W25 Porto",
         "tourney_id": "2020-W-ITF-POR-10A-2020",
         "avg_spect": 8311,
         "avg_rank": 135.6186440677966,
         "avg_revenue": 1593479.9800000002,
         "tot_match": 59,
         "_deepnote_index_column": 4818
        },
        {
         "index": 182722,
         "tourney_name": "W15 Porto",
         "tourney_id": "2020-W-ITF-POR-11A-2020",
         "avg_spect": 8105,
         "avg_rank": 140.5593220338983,
         "avg_revenue": 1063952.1300000008,
         "tot_match": 59,
         "_deepnote_index_column": 4819
        },
        {
         "index": 182771,
         "tourney_name": "W15 Funchal",
         "tourney_id": "2020-W-ITF-POR-12A-2020",
         "avg_spect": 8105,
         "avg_rank": 140.85593220338984,
         "avg_revenue": 1713451.7300000004,
         "tot_match": 59,
         "_deepnote_index_column": 4820
        },
        {
         "index": 182813,
         "tourney_name": "W15 Lousada",
         "tourney_id": "2020-W-ITF-POR-13A-2020",
         "avg_spect": 3397,
         "avg_rank": 651.5,
         "avg_revenue": 679145.1099999998,
         "tot_match": 31,
         "_deepnote_index_column": 4821
        },
        {
         "index": 182861,
         "tourney_name": "W15 Lousada",
         "tourney_id": "2020-W-ITF-POR-14A-2020",
         "avg_spect": 2754,
         "avg_rank": 579.258064516129,
         "avg_revenue": 578933.7100000004,
         "tot_match": 31,
         "_deepnote_index_column": 4822
        },
        {
         "index": 182906,
         "tourney_name": "W25 Potchefstroom",
         "tourney_id": "2020-W-ITF-RSA-01A-2020",
         "avg_spect": 3433,
         "avg_rank": 563.8387096774193,
         "avg_revenue": 659181.8500000001,
         "tot_match": 31,
         "_deepnote_index_column": 4823
        },
        {
         "index": 182956,
         "tourney_name": "W25 Potchefstroom",
         "tourney_id": "2020-W-ITF-RSA-02A-2020",
         "avg_spect": 4028,
         "avg_rank": 388.2096774193549,
         "avg_revenue": 797452.59,
         "tot_match": 31,
         "_deepnote_index_column": 4824
        },
        {
         "index": 182999,
         "tourney_name": "W25 Moscow",
         "tourney_id": "2020-W-ITF-RUS-01A-2020",
         "avg_spect": 3190,
         "avg_rank": 374.9032258064516,
         "avg_revenue": 675930.25,
         "tot_match": 31,
         "_deepnote_index_column": 4825
        },
        {
         "index": 183054,
         "tourney_name": "W25 Kazan",
         "tourney_id": "2020-W-ITF-RUS-02A-2020",
         "avg_spect": 3302,
         "avg_rank": 379.88709677419354,
         "avg_revenue": 598125.8200000002,
         "tot_match": 31,
         "_deepnote_index_column": 4826
        },
        {
         "index": 183108,
         "tourney_name": "W15 Kazan",
         "tourney_id": "2020-W-ITF-RUS-03A-2020",
         "avg_spect": 2727,
         "avg_rank": 409.03389830508473,
         "avg_revenue": 383686.42000000045,
         "tot_match": 59,
         "_deepnote_index_column": 4827
        },
        {
         "index": 183156,
         "tourney_name": "W15 Otocec",
         "tourney_id": "2020-W-ITF-SLO-01A-2020",
         "avg_spect": 2673,
         "avg_rank": 418.34,
         "avg_revenue": 594477.8599999996,
         "tot_match": 50,
         "_deepnote_index_column": 4828
        },
        {
         "index": 183456,
         "tourney_name": "W15 Monastir",
         "tourney_id": "2020-W-ITF-TUN-01A-2020",
         "avg_spect": 3176,
         "avg_rank": 402.41935483870964,
         "avg_revenue": 667920.6099999998,
         "tot_match": 31,
         "_deepnote_index_column": 4833
        },
        {
         "index": 183479,
         "tourney_name": "W15 Monastir",
         "tourney_id": "2020-W-ITF-TUN-02A-2020",
         "avg_spect": 3364,
         "avg_rank": 448.7903225806452,
         "avg_revenue": 532489.3599999998,
         "tot_match": 31,
         "_deepnote_index_column": 4834
        },
        {
         "index": 183520,
         "tourney_name": "W15 Monastir",
         "tourney_id": "2020-W-ITF-TUN-03A-2020",
         "avg_spect": 2810,
         "avg_rank": 243.01612903225805,
         "avg_revenue": 538134.6999999997,
         "tot_match": 31,
         "_deepnote_index_column": 4835
        },
        {
         "index": 183562,
         "tourney_name": "W15 Monastir",
         "tourney_id": "2020-W-ITF-TUN-04A-2020",
         "avg_spect": 2264,
         "avg_rank": 457.2741935483871,
         "avg_revenue": 446404.15000000026,
         "tot_match": 31,
         "_deepnote_index_column": 4836
        },
        {
         "index": 183615,
         "tourney_name": "W15 Monastir",
         "tourney_id": "2020-W-ITF-TUN-05A-2020",
         "avg_spect": 4573,
         "avg_rank": 89.54716981132074,
         "avg_revenue": 526427.2800000004,
         "tot_match": 53,
         "_deepnote_index_column": 4837
        },
        {
         "index": 183670,
         "tourney_name": "W15 Monastir",
         "tourney_id": "2020-W-ITF-TUN-06A-2020",
         "avg_spect": 3515,
         "avg_rank": 622.2741935483871,
         "avg_revenue": 810152,
         "tot_match": 31,
         "_deepnote_index_column": 4838
        },
        {
         "index": 183725,
         "tourney_name": "W15 Monastir",
         "tourney_id": "2020-W-ITF-TUN-07A-2020",
         "avg_spect": 3768,
         "avg_rank": 601.258064516129,
         "avg_revenue": 622610.9800000003,
         "tot_match": 31,
         "_deepnote_index_column": 4839
        },
        {
         "index": 183780,
         "tourney_name": "W15 Monastir",
         "tourney_id": "2020-W-ITF-TUN-08A-2020",
         "avg_spect": 3581,
         "avg_rank": 520.9677419354839,
         "avg_revenue": 641173.4299999998,
         "tot_match": 31,
         "_deepnote_index_column": 4840
        },
        {
         "index": 183831,
         "tourney_name": "W15 Monastir",
         "tourney_id": "2020-W-ITF-TUN-09A-2020",
         "avg_spect": 4087,
         "avg_rank": 582.7903225806451,
         "avg_revenue": 783811.6000000003,
         "tot_match": 31,
         "_deepnote_index_column": 4841
        },
        {
         "index": 183872,
         "tourney_name": "W15 Monastir",
         "tourney_id": "2020-W-ITF-TUN-10A-2020",
         "avg_spect": 3441,
         "avg_rank": 416.91935483870964,
         "avg_revenue": 808039.0700000002,
         "tot_match": 31,
         "_deepnote_index_column": 4842
        },
        {
         "index": 183920,
         "tourney_name": "W15 Monastir",
         "tourney_id": "2020-W-ITF-TUN-30A-2020",
         "avg_spect": 4262,
         "avg_rank": 381.1612903225806,
         "avg_revenue": 761136.3500000002,
         "tot_match": 31,
         "_deepnote_index_column": 4843
        },
        {
         "index": 183949,
         "tourney_name": "W15 Monastir",
         "tourney_id": "2020-W-ITF-TUN-31A-2020",
         "avg_spect": 5083,
         "avg_rank": 465.52127659574467,
         "avg_revenue": 1256929.5,
         "tot_match": 47,
         "_deepnote_index_column": 4844
        },
        {
         "index": 183985,
         "tourney_name": "W15 Monastir",
         "tourney_id": "2020-W-ITF-TUN-32A-2020",
         "avg_spect": 3401,
         "avg_rank": 387.5483870967742,
         "avg_revenue": 750966.4699999999,
         "tot_match": 31,
         "_deepnote_index_column": 4845
        },
        {
         "index": 184026,
         "tourney_name": "W15 Monastir",
         "tourney_id": "2020-W-ITF-TUN-33A-2020",
         "avg_spect": 2893,
         "avg_rank": 308.56451612903226,
         "avg_revenue": 547965.1500000001,
         "tot_match": 31,
         "_deepnote_index_column": 4846
        },
        {
         "index": 184061,
         "tourney_name": "W15 Monastir",
         "tourney_id": "2020-W-ITF-TUN-34A-2020",
         "avg_spect": 3600,
         "avg_rank": 338.36842105263156,
         "avg_revenue": 596228.7100000007,
         "tot_match": 57,
         "_deepnote_index_column": 4847
        },
        {
         "index": 184089,
         "tourney_name": "W15 Monastir",
         "tourney_id": "2020-W-ITF-TUN-35A-2020",
         "avg_spect": 3740,
         "avg_rank": 364.2105263157895,
         "avg_revenue": 786550.8400000008,
         "tot_match": 57,
         "_deepnote_index_column": 4848
        },
        {
         "index": 184123,
         "tourney_name": "W15 Monastir",
         "tourney_id": "2020-W-ITF-TUN-36A-2020",
         "avg_spect": 7772,
         "avg_rank": 290.88541666666663,
         "avg_revenue": 1723959.079999999,
         "tot_match": 48,
         "_deepnote_index_column": 4849
        },
        {
         "index": 184172,
         "tourney_name": "W15 Monastir",
         "tourney_id": "2020-W-ITF-TUN-40A-2020",
         "avg_spect": 2911,
         "avg_rank": 421.8709677419355,
         "avg_revenue": 751290.4200000005,
         "tot_match": 31,
         "_deepnote_index_column": 4850
        },
        {
         "index": 184203,
         "tourney_name": "W15 Monastir",
         "tourney_id": "2020-W-ITF-TUN-41A-2020",
         "avg_spect": 3207,
         "avg_rank": 463.7741935483871,
         "avg_revenue": 495258.7799999998,
         "tot_match": 31,
         "_deepnote_index_column": 4851
        },
        {
         "index": 184244,
         "tourney_name": "W15 Monastir",
         "tourney_id": "2020-W-ITF-TUN-42A-2020",
         "avg_spect": 2925,
         "avg_rank": 338.1774193548387,
         "avg_revenue": 642123.72,
         "tot_match": 31,
         "_deepnote_index_column": 4852
        },
        {
         "index": 184298,
         "tourney_name": "W15 Monastir",
         "tourney_id": "2020-W-ITF-TUN-43A-2020",
         "avg_spect": 3045,
         "avg_rank": 526.6290322580645,
         "avg_revenue": 587796.6999999997,
         "tot_match": 31,
         "_deepnote_index_column": 4853
        },
        {
         "index": 184341,
         "tourney_name": "W15 Monastir",
         "tourney_id": "2020-W-ITF-TUN-44A-2020",
         "avg_spect": 3113,
         "avg_rank": 354.4625,
         "avg_revenue": 516589.7399999999,
         "tot_match": 40,
         "_deepnote_index_column": 4854
        },
        {
         "index": 184373,
         "tourney_name": "W15 Monastir",
         "tourney_id": "2020-W-ITF-TUN-45A-2020",
         "avg_spect": 3396,
         "avg_rank": 300.8387096774194,
         "avg_revenue": 621128.7399999999,
         "tot_match": 31,
         "_deepnote_index_column": 4855
        },
        {
         "index": 184409,
         "tourney_name": "W15 Antalya",
         "tourney_id": "2020-W-ITF-TUR-01A-2020",
         "avg_spect": 2499,
         "avg_rank": 207.75581395348837,
         "avg_revenue": 460451.25,
         "tot_match": 43,
         "_deepnote_index_column": 4856
        },
        {
         "index": 184467,
         "tourney_name": "W15 Antalya",
         "tourney_id": "2020-W-ITF-TUR-02A-2020",
         "avg_spect": 2710,
         "avg_rank": 355.7903225806451,
         "avg_revenue": 448873.50999999983,
         "tot_match": 31,
         "_deepnote_index_column": 4857
        },
        {
         "index": 184516,
         "tourney_name": "W15 Antalya",
         "tourney_id": "2020-W-ITF-TUR-03A-2020",
         "avg_spect": 3558,
         "avg_rank": 414.80645161290323,
         "avg_revenue": 680931.6400000002,
         "tot_match": 31,
         "_deepnote_index_column": 4858
        },
        {
         "index": 184585,
         "tourney_name": "W15 Antalya",
         "tourney_id": "2020-W-ITF-TUR-04A-2020",
         "avg_spect": 3357,
         "avg_rank": 466.1078431372549,
         "avg_revenue": 639057.75,
         "tot_match": 51,
         "_deepnote_index_column": 4859
        },
        {
         "index": 184658,
         "tourney_name": "W15 Antalya",
         "tourney_id": "2020-W-ITF-TUR-05A-2020",
         "avg_spect": 3025,
         "avg_rank": 375.58620689655174,
         "avg_revenue": 619390.8599999996,
         "tot_match": 58,
         "_deepnote_index_column": 4860
        },
        {
         "index": 184725,
         "tourney_name": "W15 Antalya",
         "tourney_id": "2020-W-ITF-TUR-06A-2020",
         "avg_spect": 5440,
         "avg_rank": 282.7551020408163,
         "avg_revenue": 1278815.2899999993,
         "tot_match": 49,
         "_deepnote_index_column": 4861
        },
        {
         "index": 184798,
         "tourney_name": "W15 Antalya",
         "tourney_id": "2020-W-ITF-TUR-07A-2020",
         "avg_spect": 3377,
         "avg_rank": 226.47674418604652,
         "avg_revenue": 671328.1099999996,
         "tot_match": 43,
         "_deepnote_index_column": 4862
        },
        {
         "index": 184863,
         "tourney_name": "W25 Antalya",
         "tourney_id": "2020-W-ITF-TUR-08A-2020",
         "avg_spect": 3707,
         "avg_rank": 248.39622641509433,
         "avg_revenue": 748288.0700000002,
         "tot_match": 53,
         "_deepnote_index_column": 4863
        },
        {
         "index": 184928,
         "tourney_name": "W15 Antalya",
         "tourney_id": "2020-W-ITF-TUR-09A-2020",
         "avg_spect": 3396,
         "avg_rank": 199.21296296296296,
         "avg_revenue": 819984.8699999995,
         "tot_match": 54,
         "_deepnote_index_column": 4864
        },
        {
         "index": 184987,
         "tourney_name": "W15 Antalya",
         "tourney_id": "2020-W-ITF-TUR-10A-2020",
         "avg_spect": 3890,
         "avg_rank": 365.98387096774195,
         "avg_revenue": 738198.3000000004,
         "tot_match": 31,
         "_deepnote_index_column": 4865
        },
        {
         "index": 185035,
         "tourney_name": "W25 Istanbul",
         "tourney_id": "2020-W-ITF-TUR-22A-2020",
         "avg_spect": 1265,
         "avg_rank": 18.4,
         "avg_revenue": 264225.04999999993,
         "tot_match": 15,
         "_deepnote_index_column": 4866
        },
        {
         "index": 185087,
         "tourney_name": "W15 Antalya",
         "tourney_id": "2020-W-ITF-TUR-23A-2020",
         "avg_spect": 1608,
         "avg_rank": 17.166666666666668,
         "avg_revenue": 309808.86,
         "tot_match": 15,
         "_deepnote_index_column": 4867
        },
        {
         "index": 185165,
         "tourney_name": "W15 Antalya",
         "tourney_id": "2020-W-ITF-TUR-24A-2020",
         "avg_spect": 1148,
         "avg_rank": 17.633333333333333,
         "avg_revenue": 231675.49000000005,
         "tot_match": 15,
         "_deepnote_index_column": 4868
        },
        {
         "index": 185251,
         "tourney_name": "W15 Antalya",
         "tourney_id": "2020-W-ITF-TUR-25A-2020",
         "avg_spect": 1273,
         "avg_rank": 19.333333333333332,
         "avg_revenue": 269547.62000000005,
         "tot_match": 15,
         "_deepnote_index_column": 4869
        },
        {
         "index": 185328,
         "tourney_name": "W15 Antalya",
         "tourney_id": "2020-W-ITF-TUR-26A-2020",
         "avg_spect": 3800,
         "avg_rank": 143.9871794871795,
         "avg_revenue": 911940.4600000005,
         "tot_match": 39,
         "_deepnote_index_column": 4870
        },
        {
         "index": 185396,
         "tourney_name": "W100+H Dubai",
         "tourney_id": "2020-W-ITF-UAE-01A-2020",
         "avg_spect": 4009,
         "avg_rank": 285.5,
         "avg_revenue": 740712.3900000002,
         "tot_match": 31,
         "_deepnote_index_column": 4871
        },
        {
         "index": 185451,
         "tourney_name": "W25 Daytona Beach FL",
         "tourney_id": "2020-W-ITF-USA-01A-2020",
         "avg_spect": 3665,
         "avg_rank": 167.20967741935485,
         "avg_revenue": 747699.1799999998,
         "tot_match": 31,
         "_deepnote_index_column": 4872
        },
        {
         "index": 185524,
         "tourney_name": "W25 Malibu CA",
         "tourney_id": "2020-W-ITF-USA-02A-2020",
         "avg_spect": 3423,
         "avg_rank": 213.96774193548387,
         "avg_revenue": 582454.1899999998,
         "tot_match": 31,
         "_deepnote_index_column": 4873
        },
        {
         "index": 185579,
         "tourney_name": "W25 Vero Beach FL",
         "tourney_id": "2020-W-ITF-USA-03A-2020",
         "avg_spect": 4066,
         "avg_rank": 521.6574074074074,
         "avg_revenue": 634995.8900000004,
         "tot_match": 54,
         "_deepnote_index_column": 4874
        },
        {
         "index": 185634,
         "tourney_name": "W100 Midland MI",
         "tourney_id": "2020-W-ITF-USA-04A-2020",
         "avg_spect": 678,
         "avg_rank": 296.8305084745763,
         "avg_revenue": 121252.6799999999,
         "tot_match": 59,
         "_deepnote_index_column": 4875
        },
        {
         "index": 185688,
         "tourney_name": "W100 Nicholasville KY",
         "tourney_id": "2020-W-ITF-USA-05A-2020",
         "avg_spect": 3226,
         "avg_rank": 336.22413793103453,
         "avg_revenue": 890652.7999999993,
         "tot_match": 58,
         "_deepnote_index_column": 4876
        },
        {
         "index": 185743,
         "tourney_name": "W25 Rancho Santa Fe CA",
         "tourney_id": "2020-W-ITF-USA-07A-2020",
         "avg_spect": 7504,
         "avg_rank": 265.3571428571429,
         "avg_revenue": 1132868.4699999993,
         "tot_match": 49,
         "_deepnote_index_column": 4877
        },
        {
         "index": 185798,
         "tourney_name": "W25 Las Vegas NV",
         "tourney_id": "2020-W-ITF-USA-08A-2020",
         "avg_spect": 2366,
         "avg_rank": 117.7948717948718,
         "avg_revenue": 449800.0199999997,
         "tot_match": 39,
         "_deepnote_index_column": 4878
        },
        {
         "index": 185853,
         "tourney_name": "W80 Macon GA",
         "tourney_id": "2020-W-ITF-USA-40A-2020",
         "avg_spect": 2773,
         "avg_rank": 134.23076923076923,
         "avg_revenue": 563339.8099999999,
         "tot_match": 39,
         "_deepnote_index_column": 4879
        },
        {
         "index": 185908,
         "tourney_name": "W80 Tyler TX",
         "tourney_id": "2020-W-ITF-USA-42A-2020",
         "avg_spect": 3199,
         "avg_rank": 136.28205128205127,
         "avg_revenue": 763471.2800000004,
         "tot_match": 39,
         "_deepnote_index_column": 4880
        },
        {
         "index": 185963,
         "tourney_name": "W100 Charleston SC",
         "tourney_id": "2020-W-ITF-USA-47A-2020",
         "avg_spect": 2462,
         "avg_rank": 93.57692307692308,
         "avg_revenue": 487848.44,
         "tot_match": 39,
         "_deepnote_index_column": 4881
        },
        {
         "index": 186018,
         "tourney_name": "W25 Orlando FL",
         "tourney_id": "2020-W-ITF-USA-48A-2020",
         "avg_spect": 3199,
         "avg_rank": 131.7596153846154,
         "avg_revenue": 763471.2800000006,
         "tot_match": 52,
         "_deepnote_index_column": 4882
        }
       ]
      },
      "text/plain": "       index        tourney_name               tourney_id  avg_spect  \\\n0          0            Brisbane                2019-M020     2366.0   \n1         96                Doha                2019-0451     2773.0   \n2        139                Pune                2019-0891      447.0   \n9        898        Buenos Aires                2019-0506     3921.0   \n11       976           Rotterdam                2019-0407     3420.0   \n...      ...                 ...                      ...        ...   \n4878  185798    W25 Las Vegas NV  2020-W-ITF-USA-08A-2020     2366.0   \n4879  185853        W80 Macon GA  2020-W-ITF-USA-40A-2020     2773.0   \n4880  185908        W80 Tyler TX  2020-W-ITF-USA-42A-2020     3199.0   \n4881  185963  W100 Charleston SC  2020-W-ITF-USA-47A-2020     2462.0   \n4882  186018      W25 Orlando FL  2020-W-ITF-USA-48A-2020     3199.0   \n\n        avg_rank  avg_revenue  tot_match  \n0     129.734694    449800.02         49  \n1     180.406250    563339.81         48  \n2     104.125000     87559.10         16  \n9     155.983051    560824.91         59  \n11    107.662791    660259.04         43  \n...          ...          ...        ...  \n4878  117.794872    449800.02         39  \n4879  134.230769    563339.81         39  \n4880  136.282051    763471.28         39  \n4881   93.576923    487848.44         39  \n4882  131.759615    763471.28         52  \n\n[4058 rows x 7 columns]",
      "text/html": "<div>\n<style scoped>\n    .dataframe tbody tr th:only-of-type {\n        vertical-align: middle;\n    }\n\n    .dataframe tbody tr th {\n        vertical-align: top;\n    }\n\n    .dataframe thead th {\n        text-align: right;\n    }\n</style>\n<table border=\"1\" class=\"dataframe\">\n  <thead>\n    <tr style=\"text-align: right;\">\n      <th></th>\n      <th>index</th>\n      <th>tourney_name</th>\n      <th>tourney_id</th>\n      <th>avg_spect</th>\n      <th>avg_rank</th>\n      <th>avg_revenue</th>\n      <th>tot_match</th>\n    </tr>\n  </thead>\n  <tbody>\n    <tr>\n      <th>0</th>\n      <td>0</td>\n      <td>Brisbane</td>\n      <td>2019-M020</td>\n      <td>2366.0</td>\n      <td>129.734694</td>\n      <td>449800.02</td>\n      <td>49</td>\n    </tr>\n    <tr>\n      <th>1</th>\n      <td>96</td>\n      <td>Doha</td>\n      <td>2019-0451</td>\n      <td>2773.0</td>\n      <td>180.406250</td>\n      <td>563339.81</td>\n      <td>48</td>\n    </tr>\n    <tr>\n      <th>2</th>\n      <td>139</td>\n      <td>Pune</td>\n      <td>2019-0891</td>\n      <td>447.0</td>\n      <td>104.125000</td>\n      <td>87559.10</td>\n      <td>16</td>\n    </tr>\n    <tr>\n      <th>9</th>\n      <td>898</td>\n      <td>Buenos Aires</td>\n      <td>2019-0506</td>\n      <td>3921.0</td>\n      <td>155.983051</td>\n      <td>560824.91</td>\n      <td>59</td>\n    </tr>\n    <tr>\n      <th>11</th>\n      <td>976</td>\n      <td>Rotterdam</td>\n      <td>2019-0407</td>\n      <td>3420.0</td>\n      <td>107.662791</td>\n      <td>660259.04</td>\n      <td>43</td>\n    </tr>\n    <tr>\n      <th>...</th>\n      <td>...</td>\n      <td>...</td>\n      <td>...</td>\n      <td>...</td>\n      <td>...</td>\n      <td>...</td>\n      <td>...</td>\n    </tr>\n    <tr>\n      <th>4878</th>\n      <td>185798</td>\n      <td>W25 Las Vegas NV</td>\n      <td>2020-W-ITF-USA-08A-2020</td>\n      <td>2366.0</td>\n      <td>117.794872</td>\n      <td>449800.02</td>\n      <td>39</td>\n    </tr>\n    <tr>\n      <th>4879</th>\n      <td>185853</td>\n      <td>W80 Macon GA</td>\n      <td>2020-W-ITF-USA-40A-2020</td>\n      <td>2773.0</td>\n      <td>134.230769</td>\n      <td>563339.81</td>\n      <td>39</td>\n    </tr>\n    <tr>\n      <th>4880</th>\n      <td>185908</td>\n      <td>W80 Tyler TX</td>\n      <td>2020-W-ITF-USA-42A-2020</td>\n      <td>3199.0</td>\n      <td>136.282051</td>\n      <td>763471.28</td>\n      <td>39</td>\n    </tr>\n    <tr>\n      <th>4881</th>\n      <td>185963</td>\n      <td>W100 Charleston SC</td>\n      <td>2020-W-ITF-USA-47A-2020</td>\n      <td>2462.0</td>\n      <td>93.576923</td>\n      <td>487848.44</td>\n      <td>39</td>\n    </tr>\n    <tr>\n      <th>4882</th>\n      <td>186018</td>\n      <td>W25 Orlando FL</td>\n      <td>2020-W-ITF-USA-48A-2020</td>\n      <td>3199.0</td>\n      <td>131.759615</td>\n      <td>763471.28</td>\n      <td>52</td>\n    </tr>\n  </tbody>\n</table>\n<p>4058 rows × 7 columns</p>\n</div>"
     },
     "metadata": {}
    }
   ]
  },
  {
   "cell_type": "code",
   "metadata": {
    "tags": [],
    "cell_id": "00030-dbc2a8a4-0dc1-43a3-a391-c86da0b9ff3e",
    "deepnote_to_be_reexecuted": true,
    "source_hash": "b52757a",
    "execution_start": 1636705690573,
    "execution_millis": 79,
    "deepnote_cell_type": "code"
   },
   "source": "df_tourney_stats.to_csv('../data/integrations/tourney_statistics.csv')",
   "execution_count": null,
   "outputs": []
  },
  {
   "cell_type": "markdown",
   "source": "### Dataframe TOP Player",
   "metadata": {
    "tags": [],
    "cell_id": "00020-a694259f-b493-4f12-ad9f-cdd3badb785f",
    "deepnote_cell_type": "markdown"
   }
  },
  {
   "cell_type": "code",
   "metadata": {
    "tags": [],
    "cell_id": "00021-08153fed-5681-47bb-9193-f880618ec1c1",
    "deepnote_to_be_reexecuted": true,
    "source_hash": "ec3d309b",
    "execution_start": 1636388154824,
    "execution_millis": 3,
    "deepnote_cell_type": "code"
   },
   "source": "TOP = 50",
   "execution_count": null,
   "outputs": []
  },
  {
   "cell_type": "code",
   "metadata": {
    "tags": [],
    "cell_id": "00022-52db823c-f2bc-4c0e-bd28-7628b9109a8f",
    "deepnote_to_be_reexecuted": true,
    "source_hash": "3c02f147",
    "execution_start": 1636388156700,
    "execution_millis": 2,
    "deepnote_cell_type": "code"
   },
   "source": "#Input:\n# - df, the dataframe you want to work on\n# - attr, the attribute you want to sum row by row\n# - group_by, the attribute used to group the dataframe before summing (Here we sum rows with the same \"group_by\" value)\n# - top_list, this other dataframe is left joined with df to restrict its result only to the top_list\n# - top_list_attr, it's needed in the join function to know how's called the attribute\n\ndef top_players_feature(df, attr, group_by, top_list, top_list_attr):\n    #count \n    tmp = pd.DataFrame(df[df[attr]>=0].groupby(group_by, as_index=False)[attr].sum())\n    #intersection with top_list\n    tmp = top_list.join(tmp.set_index(group_by), on=top_list_attr, how='left')\n    \n    return tmp\n\n#Function to generate the sum of a column, with a <, grouped by the attribute given in input\n\ndef sum_by_surface(df, attr, group_by, top_list, top_list_attr):\n    #count \n    tmp = pd.DataFrame(df[df[attr]>=0].groupby([group_by, 'surface'], as_index=False)[attr].sum())\n    #intersection with top_list\n    tmp = top_list.join(tmp.set_index(group_by), on=top_list_attr, how='left')\n    \n    return [tmp[tmp['surface'] == 'Clay'], tmp[tmp['surface'] == 'Grass'], tmp[tmp['surface'] == 'Hard'], tmp[tmp['surface'] == 'Carpet']]",
   "execution_count": null,
   "outputs": []
  },
  {
   "cell_type": "code",
   "metadata": {
    "tags": [],
    "cell_id": "00020-ab9171f0-b7cd-42f6-af9a-de57b12d6274",
    "deepnote_to_be_reexecuted": true,
    "source_hash": "f1998245",
    "execution_start": 1636387480532,
    "execution_millis": 756,
    "deepnote_cell_type": "code"
   },
   "source": "# take the top players according to number of won tournament\ndf_top_male_players = pd.DataFrame(male_stats.sort_values(by='Won_Tournaments', ascending=False).head(TOP)['Name'])\n\n#iterating for every player\n#for name,index in df_top_male_players.iterrows():\n#df_matches.groupby('winner_name').count()['w_ace'] \n\ndf_top_male_player_matches_win = df_matches.join(df_top_male_players.set_index('Name'), on='winner_name', how='inner') #Ci sono partite in cui i winner sono loser e non vengono considerate\ndf_top_male_player_matches_los = df_matches.join(df_top_male_players.set_index('Name'), on='loser_name', how='inner') #Ci sono partite in cui i winner sono loser e non vengono considerate\ndf_top_male_player_matches  = pd.concat([df_top_male_player_matches_win, df_top_male_player_matches_los])\n#df_top_male_players['w_ace'] = sum_by_condition(df_top_male_player_matches, 'w_ace', 'winner_name', df_top_male_players, 'Name')['w_ace']\n# Ciclo for su lista di attributi che chiama sum_by_condition\n\nattrs = ['w_ace', 'w_df', 'w_svpt', 'w_1stIn', 'w_1stWon', 'w_2ndWon', 'w_SvGms', 'w_bpSaved', 'w_bpFaced']\n\nfor attr in attrs:\n    #df_top_male_players[attr] = top_players_feature(df_top_male_player_matches, attr, 'winner_name', df_top_male_players, 'Name')[attr]\n    result = sum_by_surface(df_top_male_player_matches, attr, 'winner_name', df_top_male_players, 'Name')\n    df_top_male_players[attr + '_clay'] = result[0][attr]\n    df_top_male_players[attr + '_clay'].fillna(0, inplace=True)\n    df_top_male_players[attr + '_grass'] = result[1][attr]\n    df_top_male_players[attr + '_grass'].fillna(0, inplace=True)\n    df_top_male_players[attr + '_hard'] = result[2][attr]\n    df_top_male_players[attr + '_hard'].fillna(0, inplace=True)\n    df_top_male_players[attr + '_carpet'] = result[2][attr]\n    df_top_male_players[attr + '_carpet'].fillna(0, inplace=True)\n\ndf_top_male_players",
   "execution_count": null,
   "outputs": [
    {
     "output_type": "execute_result",
     "execution_count": 9,
     "data": {
      "application/vnd.deepnote.dataframe.v2+json": {
       "row_count": 50,
       "column_count": 37,
       "columns": [
        {
         "name": "Name",
         "dtype": "object",
         "stats": {
          "unique_count": 50,
          "nan_count": 0,
          "categories": [
           {
            "name": "Novak Djokovic",
            "count": 1
           },
           {
            "name": "Rafael Nadal",
            "count": 1
           },
           {
            "name": "48 others",
            "count": 48
           }
          ]
         }
        },
        {
         "name": "w_ace_clay",
         "dtype": "float64",
         "stats": {
          "unique_count": 45,
          "nan_count": 0,
          "min": "0.0",
          "max": "581.0",
          "histogram": [
           {
            "bin_start": 0,
            "bin_end": 58.1,
            "count": 13
           },
           {
            "bin_start": 58.1,
            "bin_end": 116.2,
            "count": 9
           },
           {
            "bin_start": 116.2,
            "bin_end": 174.3,
            "count": 5
           },
           {
            "bin_start": 174.3,
            "bin_end": 232.4,
            "count": 4
           },
           {
            "bin_start": 232.4,
            "bin_end": 290.5,
            "count": 7
           },
           {
            "bin_start": 290.5,
            "bin_end": 348.6,
            "count": 6
           },
           {
            "bin_start": 348.6,
            "bin_end": 406.7,
            "count": 3
           },
           {
            "bin_start": 406.7,
            "bin_end": 464.8,
            "count": 1
           },
           {
            "bin_start": 464.8,
            "bin_end": 522.9,
            "count": 1
           },
           {
            "bin_start": 522.9,
            "bin_end": 581,
            "count": 1
           }
          ]
         }
        },
        {
         "name": "w_ace_grass",
         "dtype": "float64",
         "stats": {
          "unique_count": 27,
          "nan_count": 0,
          "min": "0.0",
          "max": "115.0",
          "histogram": [
           {
            "bin_start": 0,
            "bin_end": 11.5,
            "count": 24
           },
           {
            "bin_start": 11.5,
            "bin_end": 23,
            "count": 8
           },
           {
            "bin_start": 23,
            "bin_end": 34.5,
            "count": 4
           },
           {
            "bin_start": 34.5,
            "bin_end": 46,
            "count": 6
           },
           {
            "bin_start": 46,
            "bin_end": 57.5,
            "count": 0
           },
           {
            "bin_start": 57.5,
            "bin_end": 69,
            "count": 0
           },
           {
            "bin_start": 69,
            "bin_end": 80.5,
            "count": 2
           },
           {
            "bin_start": 80.5,
            "bin_end": 92,
            "count": 1
           },
           {
            "bin_start": 92,
            "bin_end": 103.5,
            "count": 1
           },
           {
            "bin_start": 103.5,
            "bin_end": 115,
            "count": 4
           }
          ]
         }
        },
        {
         "name": "w_ace_hard",
         "dtype": "float64",
         "stats": {
          "unique_count": 47,
          "nan_count": 0,
          "min": "4.0",
          "max": "460.0",
          "histogram": [
           {
            "bin_start": 4,
            "bin_end": 49.6,
            "count": 11
           },
           {
            "bin_start": 49.6,
            "bin_end": 95.2,
            "count": 3
           },
           {
            "bin_start": 95.2,
            "bin_end": 140.8,
            "count": 6
           },
           {
            "bin_start": 140.8,
            "bin_end": 186.4,
            "count": 5
           },
           {
            "bin_start": 186.4,
            "bin_end": 232,
            "count": 1
           },
           {
            "bin_start": 232,
            "bin_end": 277.6,
            "count": 7
           },
           {
            "bin_start": 277.6,
            "bin_end": 323.2,
            "count": 6
           },
           {
            "bin_start": 323.2,
            "bin_end": 368.8,
            "count": 2
           },
           {
            "bin_start": 368.8,
            "bin_end": 414.40000000000003,
            "count": 5
           },
           {
            "bin_start": 414.40000000000003,
            "bin_end": 460,
            "count": 4
           }
          ]
         }
        },
        {
         "name": "w_ace_carpet",
         "dtype": "float64",
         "stats": {
          "unique_count": 47,
          "nan_count": 0,
          "min": "4.0",
          "max": "460.0",
          "histogram": [
           {
            "bin_start": 4,
            "bin_end": 49.6,
            "count": 11
           },
           {
            "bin_start": 49.6,
            "bin_end": 95.2,
            "count": 3
           },
           {
            "bin_start": 95.2,
            "bin_end": 140.8,
            "count": 6
           },
           {
            "bin_start": 140.8,
            "bin_end": 186.4,
            "count": 5
           },
           {
            "bin_start": 186.4,
            "bin_end": 232,
            "count": 1
           },
           {
            "bin_start": 232,
            "bin_end": 277.6,
            "count": 7
           },
           {
            "bin_start": 277.6,
            "bin_end": 323.2,
            "count": 6
           },
           {
            "bin_start": 323.2,
            "bin_end": 368.8,
            "count": 2
           },
           {
            "bin_start": 368.8,
            "bin_end": 414.40000000000003,
            "count": 5
           },
           {
            "bin_start": 414.40000000000003,
            "bin_end": 460,
            "count": 4
           }
          ]
         }
        },
        {
         "name": "w_df_clay",
         "dtype": "float64",
         "stats": {
          "unique_count": 44,
          "nan_count": 0,
          "min": "0.0",
          "max": "724.0",
          "histogram": [
           {
            "bin_start": 0,
            "bin_end": 72.4,
            "count": 11
           },
           {
            "bin_start": 72.4,
            "bin_end": 144.8,
            "count": 16
           },
           {
            "bin_start": 144.8,
            "bin_end": 217.20000000000002,
            "count": 4
           },
           {
            "bin_start": 217.20000000000002,
            "bin_end": 289.6,
            "count": 6
           },
           {
            "bin_start": 289.6,
            "bin_end": 362,
            "count": 6
           },
           {
            "bin_start": 362,
            "bin_end": 434.40000000000003,
            "count": 4
           },
           {
            "bin_start": 434.40000000000003,
            "bin_end": 506.80000000000007,
            "count": 2
           },
           {
            "bin_start": 506.80000000000007,
            "bin_end": 579.2,
            "count": 0
           },
           {
            "bin_start": 579.2,
            "bin_end": 651.6,
            "count": 0
           },
           {
            "bin_start": 651.6,
            "bin_end": 724,
            "count": 1
           }
          ]
         }
        },
        {
         "name": "w_df_grass",
         "dtype": "float64",
         "stats": {
          "unique_count": 37,
          "nan_count": 0,
          "min": "0.0",
          "max": "147.0",
          "histogram": [
           {
            "bin_start": 0,
            "bin_end": 14.7,
            "count": 16
           },
           {
            "bin_start": 14.7,
            "bin_end": 29.4,
            "count": 7
           },
           {
            "bin_start": 29.4,
            "bin_end": 44.099999999999994,
            "count": 7
           },
           {
            "bin_start": 44.099999999999994,
            "bin_end": 58.8,
            "count": 4
           },
           {
            "bin_start": 58.8,
            "bin_end": 73.5,
            "count": 5
           },
           {
            "bin_start": 73.5,
            "bin_end": 88.19999999999999,
            "count": 4
           },
           {
            "bin_start": 88.19999999999999,
            "bin_end": 102.89999999999999,
            "count": 1
           },
           {
            "bin_start": 102.89999999999999,
            "bin_end": 117.6,
            "count": 3
           },
           {
            "bin_start": 117.6,
            "bin_end": 132.29999999999998,
            "count": 1
           },
           {
            "bin_start": 132.29999999999998,
            "bin_end": 147,
            "count": 2
           }
          ]
         }
        },
        {
         "name": "w_df_hard",
         "dtype": "float64",
         "stats": {
          "unique_count": 47,
          "nan_count": 0,
          "min": "9.0",
          "max": "952.0",
          "histogram": [
           {
            "bin_start": 9,
            "bin_end": 103.3,
            "count": 10
           },
           {
            "bin_start": 103.3,
            "bin_end": 197.6,
            "count": 8
           },
           {
            "bin_start": 197.6,
            "bin_end": 291.9,
            "count": 8
           },
           {
            "bin_start": 291.9,
            "bin_end": 386.2,
            "count": 13
           },
           {
            "bin_start": 386.2,
            "bin_end": 480.5,
            "count": 4
           },
           {
            "bin_start": 480.5,
            "bin_end": 574.8,
            "count": 4
           },
           {
            "bin_start": 574.8,
            "bin_end": 669.1,
            "count": 0
           },
           {
            "bin_start": 669.1,
            "bin_end": 763.4,
            "count": 0
           },
           {
            "bin_start": 763.4,
            "bin_end": 857.6999999999999,
            "count": 2
           },
           {
            "bin_start": 857.6999999999999,
            "bin_end": 952,
            "count": 1
           }
          ]
         }
        },
        {
         "name": "w_df_carpet",
         "dtype": "float64",
         "stats": {
          "unique_count": 47,
          "nan_count": 0,
          "min": "9.0",
          "max": "952.0",
          "histogram": [
           {
            "bin_start": 9,
            "bin_end": 103.3,
            "count": 10
           },
           {
            "bin_start": 103.3,
            "bin_end": 197.6,
            "count": 8
           },
           {
            "bin_start": 197.6,
            "bin_end": 291.9,
            "count": 8
           },
           {
            "bin_start": 291.9,
            "bin_end": 386.2,
            "count": 13
           },
           {
            "bin_start": 386.2,
            "bin_end": 480.5,
            "count": 4
           },
           {
            "bin_start": 480.5,
            "bin_end": 574.8,
            "count": 4
           },
           {
            "bin_start": 574.8,
            "bin_end": 669.1,
            "count": 0
           },
           {
            "bin_start": 669.1,
            "bin_end": 763.4,
            "count": 0
           },
           {
            "bin_start": 763.4,
            "bin_end": 857.6999999999999,
            "count": 2
           },
           {
            "bin_start": 857.6999999999999,
            "bin_end": 952,
            "count": 1
           }
          ]
         }
        },
        {
         "name": "w_svpt_clay",
         "dtype": "float64",
         "stats": {
          "unique_count": 50,
          "nan_count": 0,
          "min": "0.0",
          "max": "15625.0",
          "histogram": [
           {
            "bin_start": 0,
            "bin_end": 1562.5,
            "count": 7
           },
           {
            "bin_start": 1562.5,
            "bin_end": 3125,
            "count": 12
           },
           {
            "bin_start": 3125,
            "bin_end": 4687.5,
            "count": 5
           },
           {
            "bin_start": 4687.5,
            "bin_end": 6250,
            "count": 4
           },
           {
            "bin_start": 6250,
            "bin_end": 7812.5,
            "count": 6
           },
           {
            "bin_start": 7812.5,
            "bin_end": 9375,
            "count": 5
           },
           {
            "bin_start": 9375,
            "bin_end": 10937.5,
            "count": 5
           },
           {
            "bin_start": 10937.5,
            "bin_end": 12500,
            "count": 3
           },
           {
            "bin_start": 12500,
            "bin_end": 14062.5,
            "count": 1
           },
           {
            "bin_start": 14062.5,
            "bin_end": 15625,
            "count": 2
           }
          ]
         }
        },
        {
         "name": "w_svpt_grass",
         "dtype": "float64",
         "stats": {
          "unique_count": 46,
          "nan_count": 0,
          "min": "0.0",
          "max": "4781.0",
          "histogram": [
           {
            "bin_start": 0,
            "bin_end": 478.1,
            "count": 17
           },
           {
            "bin_start": 478.1,
            "bin_end": 956.2,
            "count": 4
           },
           {
            "bin_start": 956.2,
            "bin_end": 1434.3000000000002,
            "count": 11
           },
           {
            "bin_start": 1434.3000000000002,
            "bin_end": 1912.4,
            "count": 2
           },
           {
            "bin_start": 1912.4,
            "bin_end": 2390.5,
            "count": 6
           },
           {
            "bin_start": 2390.5,
            "bin_end": 2868.6000000000004,
            "count": 5
           },
           {
            "bin_start": 2868.6000000000004,
            "bin_end": 3346.7000000000003,
            "count": 2
           },
           {
            "bin_start": 3346.7000000000003,
            "bin_end": 3824.8,
            "count": 0
           },
           {
            "bin_start": 3824.8,
            "bin_end": 4302.900000000001,
            "count": 2
           },
           {
            "bin_start": 4302.900000000001,
            "bin_end": 4781,
            "count": 1
           }
          ]
         }
        },
        {
         "name": "w_svpt_hard",
         "dtype": "float64",
         "stats": {
          "unique_count": 50,
          "nan_count": 0,
          "min": "215.0",
          "max": "17821.0",
          "histogram": [
           {
            "bin_start": 215,
            "bin_end": 1975.6,
            "count": 8
           },
           {
            "bin_start": 1975.6,
            "bin_end": 3736.2,
            "count": 4
           },
           {
            "bin_start": 3736.2,
            "bin_end": 5496.799999999999,
            "count": 4
           },
           {
            "bin_start": 5496.799999999999,
            "bin_end": 7257.4,
            "count": 2
           },
           {
            "bin_start": 7257.4,
            "bin_end": 9018,
            "count": 10
           },
           {
            "bin_start": 9018,
            "bin_end": 10778.599999999999,
            "count": 8
           },
           {
            "bin_start": 10778.599999999999,
            "bin_end": 12539.199999999999,
            "count": 6
           },
           {
            "bin_start": 12539.199999999999,
            "bin_end": 14299.8,
            "count": 3
           },
           {
            "bin_start": 14299.8,
            "bin_end": 16060.4,
            "count": 4
           },
           {
            "bin_start": 16060.4,
            "bin_end": 17821,
            "count": 1
           }
          ]
         }
        },
        {
         "name": "w_svpt_carpet",
         "dtype": "float64",
         "stats": {
          "unique_count": 50,
          "nan_count": 0,
          "min": "215.0",
          "max": "17821.0",
          "histogram": [
           {
            "bin_start": 215,
            "bin_end": 1975.6,
            "count": 8
           },
           {
            "bin_start": 1975.6,
            "bin_end": 3736.2,
            "count": 4
           },
           {
            "bin_start": 3736.2,
            "bin_end": 5496.799999999999,
            "count": 4
           },
           {
            "bin_start": 5496.799999999999,
            "bin_end": 7257.4,
            "count": 2
           },
           {
            "bin_start": 7257.4,
            "bin_end": 9018,
            "count": 10
           },
           {
            "bin_start": 9018,
            "bin_end": 10778.599999999999,
            "count": 8
           },
           {
            "bin_start": 10778.599999999999,
            "bin_end": 12539.199999999999,
            "count": 6
           },
           {
            "bin_start": 12539.199999999999,
            "bin_end": 14299.8,
            "count": 3
           },
           {
            "bin_start": 14299.8,
            "bin_end": 16060.4,
            "count": 4
           },
           {
            "bin_start": 16060.4,
            "bin_end": 17821,
            "count": 1
           }
          ]
         }
        },
        {
         "name": "w_1stIn_clay",
         "dtype": "float64",
         "stats": {
          "unique_count": 50,
          "nan_count": 0,
          "min": "0.0",
          "max": "9629.0",
          "histogram": [
           {
            "bin_start": 0,
            "bin_end": 962.9,
            "count": 6
           },
           {
            "bin_start": 962.9,
            "bin_end": 1925.8,
            "count": 13
           },
           {
            "bin_start": 1925.8,
            "bin_end": 2888.7,
            "count": 4
           },
           {
            "bin_start": 2888.7,
            "bin_end": 3851.6,
            "count": 5
           },
           {
            "bin_start": 3851.6,
            "bin_end": 4814.5,
            "count": 5
           },
           {
            "bin_start": 4814.5,
            "bin_end": 5777.4,
            "count": 6
           },
           {
            "bin_start": 5777.4,
            "bin_end": 6740.3,
            "count": 3
           },
           {
            "bin_start": 6740.3,
            "bin_end": 7703.2,
            "count": 3
           },
           {
            "bin_start": 7703.2,
            "bin_end": 8666.1,
            "count": 2
           },
           {
            "bin_start": 8666.1,
            "bin_end": 9629,
            "count": 3
           }
          ]
         }
        },
        {
         "name": "w_1stIn_grass",
         "dtype": "float64",
         "stats": {
          "unique_count": 45,
          "nan_count": 0,
          "min": "0.0",
          "max": "3122.0",
          "histogram": [
           {
            "bin_start": 0,
            "bin_end": 312.2,
            "count": 17
           },
           {
            "bin_start": 312.2,
            "bin_end": 624.4,
            "count": 4
           },
           {
            "bin_start": 624.4,
            "bin_end": 936.5999999999999,
            "count": 11
           },
           {
            "bin_start": 936.5999999999999,
            "bin_end": 1248.8,
            "count": 2
           },
           {
            "bin_start": 1248.8,
            "bin_end": 1561,
            "count": 5
           },
           {
            "bin_start": 1561,
            "bin_end": 1873.1999999999998,
            "count": 7
           },
           {
            "bin_start": 1873.1999999999998,
            "bin_end": 2185.4,
            "count": 1
           },
           {
            "bin_start": 2185.4,
            "bin_end": 2497.6,
            "count": 0
           },
           {
            "bin_start": 2497.6,
            "bin_end": 2809.7999999999997,
            "count": 2
           },
           {
            "bin_start": 2809.7999999999997,
            "bin_end": 3122,
            "count": 1
           }
          ]
         }
        },
        {
         "name": "w_1stIn_hard",
         "dtype": "float64",
         "stats": {
          "unique_count": 49,
          "nan_count": 0,
          "min": "138.0",
          "max": "10680.0",
          "histogram": [
           {
            "bin_start": 138,
            "bin_end": 1192.2,
            "count": 8
           },
           {
            "bin_start": 1192.2,
            "bin_end": 2246.4,
            "count": 4
           },
           {
            "bin_start": 2246.4,
            "bin_end": 3300.6000000000004,
            "count": 4
           },
           {
            "bin_start": 3300.6000000000004,
            "bin_end": 4354.8,
            "count": 1
           },
           {
            "bin_start": 4354.8,
            "bin_end": 5409,
            "count": 9
           },
           {
            "bin_start": 5409,
            "bin_end": 6463.200000000001,
            "count": 6
           },
           {
            "bin_start": 6463.200000000001,
            "bin_end": 7517.400000000001,
            "count": 9
           },
           {
            "bin_start": 7517.400000000001,
            "bin_end": 8571.6,
            "count": 4
           },
           {
            "bin_start": 8571.6,
            "bin_end": 9625.800000000001,
            "count": 2
           },
           {
            "bin_start": 9625.800000000001,
            "bin_end": 10680,
            "count": 3
           }
          ]
         }
        },
        {
         "name": "w_1stIn_carpet",
         "dtype": "float64",
         "stats": {
          "unique_count": 49,
          "nan_count": 0,
          "min": "138.0",
          "max": "10680.0",
          "histogram": [
           {
            "bin_start": 138,
            "bin_end": 1192.2,
            "count": 8
           },
           {
            "bin_start": 1192.2,
            "bin_end": 2246.4,
            "count": 4
           },
           {
            "bin_start": 2246.4,
            "bin_end": 3300.6000000000004,
            "count": 4
           },
           {
            "bin_start": 3300.6000000000004,
            "bin_end": 4354.8,
            "count": 1
           },
           {
            "bin_start": 4354.8,
            "bin_end": 5409,
            "count": 9
           },
           {
            "bin_start": 5409,
            "bin_end": 6463.200000000001,
            "count": 6
           },
           {
            "bin_start": 6463.200000000001,
            "bin_end": 7517.400000000001,
            "count": 9
           },
           {
            "bin_start": 7517.400000000001,
            "bin_end": 8571.6,
            "count": 4
           },
           {
            "bin_start": 8571.6,
            "bin_end": 9625.800000000001,
            "count": 2
           },
           {
            "bin_start": 9625.800000000001,
            "bin_end": 10680,
            "count": 3
           }
          ]
         }
        },
        {
         "name": "w_1stWon_clay",
         "dtype": "float64",
         "stats": {
          "unique_count": 50,
          "nan_count": 0,
          "min": "0.0",
          "max": "6935.0",
          "histogram": [
           {
            "bin_start": 0,
            "bin_end": 693.5,
            "count": 6
           },
           {
            "bin_start": 693.5,
            "bin_end": 1387,
            "count": 13
           },
           {
            "bin_start": 1387,
            "bin_end": 2080.5,
            "count": 4
           },
           {
            "bin_start": 2080.5,
            "bin_end": 2774,
            "count": 5
           },
           {
            "bin_start": 2774,
            "bin_end": 3467.5,
            "count": 5
           },
           {
            "bin_start": 3467.5,
            "bin_end": 4161,
            "count": 4
           },
           {
            "bin_start": 4161,
            "bin_end": 4854.5,
            "count": 5
           },
           {
            "bin_start": 4854.5,
            "bin_end": 5548,
            "count": 4
           },
           {
            "bin_start": 5548,
            "bin_end": 6241.5,
            "count": 1
           },
           {
            "bin_start": 6241.5,
            "bin_end": 6935,
            "count": 3
           }
          ]
         }
        },
        {
         "name": "w_1stWon_grass",
         "dtype": "float64",
         "stats": {
          "unique_count": 44,
          "nan_count": 0,
          "min": "0.0",
          "max": "2551.0",
          "histogram": [
           {
            "bin_start": 0,
            "bin_end": 255.1,
            "count": 17
           },
           {
            "bin_start": 255.1,
            "bin_end": 510.2,
            "count": 7
           },
           {
            "bin_start": 510.2,
            "bin_end": 765.3,
            "count": 9
           },
           {
            "bin_start": 765.3,
            "bin_end": 1020.4,
            "count": 1
           },
           {
            "bin_start": 1020.4,
            "bin_end": 1275.5,
            "count": 7
           },
           {
            "bin_start": 1275.5,
            "bin_end": 1530.6,
            "count": 5
           },
           {
            "bin_start": 1530.6,
            "bin_end": 1785.7,
            "count": 1
           },
           {
            "bin_start": 1785.7,
            "bin_end": 2040.8,
            "count": 1
           },
           {
            "bin_start": 2040.8,
            "bin_end": 2295.9,
            "count": 1
           },
           {
            "bin_start": 2295.9,
            "bin_end": 2551,
            "count": 1
           }
          ]
         }
        },
        {
         "name": "w_1stWon_hard",
         "dtype": "float64",
         "stats": {
          "unique_count": 50,
          "nan_count": 0,
          "min": "100.0",
          "max": "8455.0",
          "histogram": [
           {
            "bin_start": 100,
            "bin_end": 935.5,
            "count": 8
           },
           {
            "bin_start": 935.5,
            "bin_end": 1771,
            "count": 4
           },
           {
            "bin_start": 1771,
            "bin_end": 2606.5,
            "count": 4
           },
           {
            "bin_start": 2606.5,
            "bin_end": 3442,
            "count": 1
           },
           {
            "bin_start": 3442,
            "bin_end": 4277.5,
            "count": 11
           },
           {
            "bin_start": 4277.5,
            "bin_end": 5113,
            "count": 9
           },
           {
            "bin_start": 5113,
            "bin_end": 5948.5,
            "count": 4
           },
           {
            "bin_start": 5948.5,
            "bin_end": 6784,
            "count": 4
           },
           {
            "bin_start": 6784,
            "bin_end": 7619.5,
            "count": 2
           },
           {
            "bin_start": 7619.5,
            "bin_end": 8455,
            "count": 3
           }
          ]
         }
        },
        {
         "name": "w_1stWon_carpet",
         "dtype": "float64",
         "stats": {
          "unique_count": 50,
          "nan_count": 0,
          "min": "100.0",
          "max": "8455.0",
          "histogram": [
           {
            "bin_start": 100,
            "bin_end": 935.5,
            "count": 8
           },
           {
            "bin_start": 935.5,
            "bin_end": 1771,
            "count": 4
           },
           {
            "bin_start": 1771,
            "bin_end": 2606.5,
            "count": 4
           },
           {
            "bin_start": 2606.5,
            "bin_end": 3442,
            "count": 1
           },
           {
            "bin_start": 3442,
            "bin_end": 4277.5,
            "count": 11
           },
           {
            "bin_start": 4277.5,
            "bin_end": 5113,
            "count": 9
           },
           {
            "bin_start": 5113,
            "bin_end": 5948.5,
            "count": 4
           },
           {
            "bin_start": 5948.5,
            "bin_end": 6784,
            "count": 4
           },
           {
            "bin_start": 6784,
            "bin_end": 7619.5,
            "count": 2
           },
           {
            "bin_start": 7619.5,
            "bin_end": 8455,
            "count": 3
           }
          ]
         }
        },
        {
         "name": "w_2ndWon_clay",
         "dtype": "float64",
         "stats": {
          "unique_count": 49,
          "nan_count": 0,
          "min": "0.0",
          "max": "3475.0",
          "histogram": [
           {
            "bin_start": 0,
            "bin_end": 347.5,
            "count": 6
           },
           {
            "bin_start": 347.5,
            "bin_end": 695,
            "count": 14
           },
           {
            "bin_start": 695,
            "bin_end": 1042.5,
            "count": 5
           },
           {
            "bin_start": 1042.5,
            "bin_end": 1390,
            "count": 7
           },
           {
            "bin_start": 1390,
            "bin_end": 1737.5,
            "count": 5
           },
           {
            "bin_start": 1737.5,
            "bin_end": 2085,
            "count": 5
           },
           {
            "bin_start": 2085,
            "bin_end": 2432.5,
            "count": 3
           },
           {
            "bin_start": 2432.5,
            "bin_end": 2780,
            "count": 4
           },
           {
            "bin_start": 2780,
            "bin_end": 3127.5,
            "count": 0
           },
           {
            "bin_start": 3127.5,
            "bin_end": 3475,
            "count": 1
           }
          ]
         }
        },
        {
         "name": "w_2ndWon_grass",
         "dtype": "float64",
         "stats": {
          "unique_count": 45,
          "nan_count": 0,
          "min": "0.0",
          "max": "1030.0",
          "histogram": [
           {
            "bin_start": 0,
            "bin_end": 103,
            "count": 17
           },
           {
            "bin_start": 103,
            "bin_end": 206,
            "count": 5
           },
           {
            "bin_start": 206,
            "bin_end": 309,
            "count": 9
           },
           {
            "bin_start": 309,
            "bin_end": 412,
            "count": 7
           },
           {
            "bin_start": 412,
            "bin_end": 515,
            "count": 4
           },
           {
            "bin_start": 515,
            "bin_end": 618,
            "count": 3
           },
           {
            "bin_start": 618,
            "bin_end": 721,
            "count": 2
           },
           {
            "bin_start": 721,
            "bin_end": 824,
            "count": 1
           },
           {
            "bin_start": 824,
            "bin_end": 927,
            "count": 1
           },
           {
            "bin_start": 927,
            "bin_end": 1030,
            "count": 1
           }
          ]
         }
        },
        {
         "name": "w_2ndWon_hard",
         "dtype": "float64",
         "stats": {
          "unique_count": 48,
          "nan_count": 0,
          "min": "45.0",
          "max": "3904.0",
          "histogram": [
           {
            "bin_start": 45,
            "bin_end": 430.9,
            "count": 8
           },
           {
            "bin_start": 430.9,
            "bin_end": 816.8,
            "count": 4
           },
           {
            "bin_start": 816.8,
            "bin_end": 1202.6999999999998,
            "count": 5
           },
           {
            "bin_start": 1202.6999999999998,
            "bin_end": 1588.6,
            "count": 1
           },
           {
            "bin_start": 1588.6,
            "bin_end": 1974.5,
            "count": 8
           },
           {
            "bin_start": 1974.5,
            "bin_end": 2360.3999999999996,
            "count": 12
           },
           {
            "bin_start": 2360.3999999999996,
            "bin_end": 2746.2999999999997,
            "count": 6
           },
           {
            "bin_start": 2746.2999999999997,
            "bin_end": 3132.2,
            "count": 3
           },
           {
            "bin_start": 3132.2,
            "bin_end": 3518.1,
            "count": 2
           },
           {
            "bin_start": 3518.1,
            "bin_end": 3904,
            "count": 1
           }
          ]
         }
        },
        {
         "name": "w_2ndWon_carpet",
         "dtype": "float64",
         "stats": {
          "unique_count": 48,
          "nan_count": 0,
          "min": "45.0",
          "max": "3904.0",
          "histogram": [
           {
            "bin_start": 45,
            "bin_end": 430.9,
            "count": 8
           },
           {
            "bin_start": 430.9,
            "bin_end": 816.8,
            "count": 4
           },
           {
            "bin_start": 816.8,
            "bin_end": 1202.6999999999998,
            "count": 5
           },
           {
            "bin_start": 1202.6999999999998,
            "bin_end": 1588.6,
            "count": 1
           },
           {
            "bin_start": 1588.6,
            "bin_end": 1974.5,
            "count": 8
           },
           {
            "bin_start": 1974.5,
            "bin_end": 2360.3999999999996,
            "count": 12
           },
           {
            "bin_start": 2360.3999999999996,
            "bin_end": 2746.2999999999997,
            "count": 6
           },
           {
            "bin_start": 2746.2999999999997,
            "bin_end": 3132.2,
            "count": 3
           },
           {
            "bin_start": 3132.2,
            "bin_end": 3518.1,
            "count": 2
           },
           {
            "bin_start": 3518.1,
            "bin_end": 3904,
            "count": 1
           }
          ]
         }
        },
        {
         "name": "w_SvGms_clay",
         "dtype": "float64",
         "stats": {
          "unique_count": 50,
          "nan_count": 0,
          "min": "0.0",
          "max": "2515.0",
          "histogram": [
           {
            "bin_start": 0,
            "bin_end": 251.5,
            "count": 7
           },
           {
            "bin_start": 251.5,
            "bin_end": 503,
            "count": 12
           },
           {
            "bin_start": 503,
            "bin_end": 754.5,
            "count": 4
           },
           {
            "bin_start": 754.5,
            "bin_end": 1006,
            "count": 6
           },
           {
            "bin_start": 1006,
            "bin_end": 1257.5,
            "count": 5
           },
           {
            "bin_start": 1257.5,
            "bin_end": 1509,
            "count": 7
           },
           {
            "bin_start": 1509,
            "bin_end": 1760.5,
            "count": 2
           },
           {
            "bin_start": 1760.5,
            "bin_end": 2012,
            "count": 4
           },
           {
            "bin_start": 2012,
            "bin_end": 2263.5,
            "count": 2
           },
           {
            "bin_start": 2263.5,
            "bin_end": 2515,
            "count": 1
           }
          ]
         }
        },
        {
         "name": "w_SvGms_grass",
         "dtype": "float64",
         "stats": {
          "unique_count": 44,
          "nan_count": 0,
          "min": "0.0",
          "max": "845.0",
          "histogram": [
           {
            "bin_start": 0,
            "bin_end": 84.5,
            "count": 18
           },
           {
            "bin_start": 84.5,
            "bin_end": 169,
            "count": 4
           },
           {
            "bin_start": 169,
            "bin_end": 253.5,
            "count": 11
           },
           {
            "bin_start": 253.5,
            "bin_end": 338,
            "count": 2
           },
           {
            "bin_start": 338,
            "bin_end": 422.5,
            "count": 7
           },
           {
            "bin_start": 422.5,
            "bin_end": 507,
            "count": 5
           },
           {
            "bin_start": 507,
            "bin_end": 591.5,
            "count": 0
           },
           {
            "bin_start": 591.5,
            "bin_end": 676,
            "count": 1
           },
           {
            "bin_start": 676,
            "bin_end": 760.5,
            "count": 1
           },
           {
            "bin_start": 760.5,
            "bin_end": 845,
            "count": 1
           }
          ]
         }
        },
        {
         "name": "w_SvGms_hard",
         "dtype": "float64",
         "stats": {
          "unique_count": 50,
          "nan_count": 0,
          "min": "32.0",
          "max": "2947.0",
          "histogram": [
           {
            "bin_start": 32,
            "bin_end": 323.5,
            "count": 8
           },
           {
            "bin_start": 323.5,
            "bin_end": 615,
            "count": 4
           },
           {
            "bin_start": 615,
            "bin_end": 906.5,
            "count": 4
           },
           {
            "bin_start": 906.5,
            "bin_end": 1198,
            "count": 2
           },
           {
            "bin_start": 1198,
            "bin_end": 1489.5,
            "count": 11
           },
           {
            "bin_start": 1489.5,
            "bin_end": 1781,
            "count": 9
           },
           {
            "bin_start": 1781,
            "bin_end": 2072.5,
            "count": 4
           },
           {
            "bin_start": 2072.5,
            "bin_end": 2364,
            "count": 3
           },
           {
            "bin_start": 2364,
            "bin_end": 2655.5,
            "count": 4
           },
           {
            "bin_start": 2655.5,
            "bin_end": 2947,
            "count": 1
           }
          ]
         }
        },
        {
         "name": "w_SvGms_carpet",
         "dtype": "float64",
         "stats": {
          "unique_count": 50,
          "nan_count": 0,
          "min": "32.0",
          "max": "2947.0",
          "histogram": [
           {
            "bin_start": 32,
            "bin_end": 323.5,
            "count": 8
           },
           {
            "bin_start": 323.5,
            "bin_end": 615,
            "count": 4
           },
           {
            "bin_start": 615,
            "bin_end": 906.5,
            "count": 4
           },
           {
            "bin_start": 906.5,
            "bin_end": 1198,
            "count": 2
           },
           {
            "bin_start": 1198,
            "bin_end": 1489.5,
            "count": 11
           },
           {
            "bin_start": 1489.5,
            "bin_end": 1781,
            "count": 9
           },
           {
            "bin_start": 1781,
            "bin_end": 2072.5,
            "count": 4
           },
           {
            "bin_start": 2072.5,
            "bin_end": 2364,
            "count": 3
           },
           {
            "bin_start": 2364,
            "bin_end": 2655.5,
            "count": 4
           },
           {
            "bin_start": 2655.5,
            "bin_end": 2947,
            "count": 1
           }
          ]
         }
        },
        {
         "name": "w_bpSaved_clay",
         "dtype": "float64",
         "stats": {
          "unique_count": 46,
          "nan_count": 0,
          "min": "0.0",
          "max": "816.0",
          "histogram": [
           {
            "bin_start": 0,
            "bin_end": 81.6,
            "count": 9
           },
           {
            "bin_start": 81.6,
            "bin_end": 163.2,
            "count": 11
           },
           {
            "bin_start": 163.2,
            "bin_end": 244.79999999999998,
            "count": 5
           },
           {
            "bin_start": 244.79999999999998,
            "bin_end": 326.4,
            "count": 6
           },
           {
            "bin_start": 326.4,
            "bin_end": 408,
            "count": 7
           },
           {
            "bin_start": 408,
            "bin_end": 489.59999999999997,
            "count": 3
           },
           {
            "bin_start": 489.59999999999997,
            "bin_end": 571.1999999999999,
            "count": 4
           },
           {
            "bin_start": 571.1999999999999,
            "bin_end": 652.8,
            "count": 0
           },
           {
            "bin_start": 652.8,
            "bin_end": 734.4,
            "count": 3
           },
           {
            "bin_start": 734.4,
            "bin_end": 816,
            "count": 2
           }
          ]
         }
        },
        {
         "name": "w_bpSaved_grass",
         "dtype": "float64",
         "stats": {
          "unique_count": 39,
          "nan_count": 0,
          "min": "0.0",
          "max": "175.0",
          "histogram": [
           {
            "bin_start": 0,
            "bin_end": 17.5,
            "count": 16
           },
           {
            "bin_start": 17.5,
            "bin_end": 35,
            "count": 7
           },
           {
            "bin_start": 35,
            "bin_end": 52.5,
            "count": 5
           },
           {
            "bin_start": 52.5,
            "bin_end": 70,
            "count": 6
           },
           {
            "bin_start": 70,
            "bin_end": 87.5,
            "count": 5
           },
           {
            "bin_start": 87.5,
            "bin_end": 105,
            "count": 3
           },
           {
            "bin_start": 105,
            "bin_end": 122.5,
            "count": 4
           },
           {
            "bin_start": 122.5,
            "bin_end": 140,
            "count": 0
           },
           {
            "bin_start": 140,
            "bin_end": 157.5,
            "count": 2
           },
           {
            "bin_start": 157.5,
            "bin_end": 175,
            "count": 2
           }
          ]
         }
        },
        {
         "name": "w_bpSaved_hard",
         "dtype": "float64",
         "stats": {
          "unique_count": 49,
          "nan_count": 0,
          "min": "11.0",
          "max": "710.0",
          "histogram": [
           {
            "bin_start": 11,
            "bin_end": 80.9,
            "count": 7
           },
           {
            "bin_start": 80.9,
            "bin_end": 150.8,
            "count": 6
           },
           {
            "bin_start": 150.8,
            "bin_end": 220.70000000000002,
            "count": 3
           },
           {
            "bin_start": 220.70000000000002,
            "bin_end": 290.6,
            "count": 3
           },
           {
            "bin_start": 290.6,
            "bin_end": 360.5,
            "count": 7
           },
           {
            "bin_start": 360.5,
            "bin_end": 430.40000000000003,
            "count": 7
           },
           {
            "bin_start": 430.40000000000003,
            "bin_end": 500.30000000000007,
            "count": 6
           },
           {
            "bin_start": 500.30000000000007,
            "bin_end": 570.2,
            "count": 7
           },
           {
            "bin_start": 570.2,
            "bin_end": 640.1,
            "count": 2
           },
           {
            "bin_start": 640.1,
            "bin_end": 710,
            "count": 2
           }
          ]
         }
        },
        {
         "name": "w_bpSaved_carpet",
         "dtype": "float64",
         "stats": {
          "unique_count": 49,
          "nan_count": 0,
          "min": "11.0",
          "max": "710.0",
          "histogram": [
           {
            "bin_start": 11,
            "bin_end": 80.9,
            "count": 7
           },
           {
            "bin_start": 80.9,
            "bin_end": 150.8,
            "count": 6
           },
           {
            "bin_start": 150.8,
            "bin_end": 220.70000000000002,
            "count": 3
           },
           {
            "bin_start": 220.70000000000002,
            "bin_end": 290.6,
            "count": 3
           },
           {
            "bin_start": 290.6,
            "bin_end": 360.5,
            "count": 7
           },
           {
            "bin_start": 360.5,
            "bin_end": 430.40000000000003,
            "count": 7
           },
           {
            "bin_start": 430.40000000000003,
            "bin_end": 500.30000000000007,
            "count": 6
           },
           {
            "bin_start": 500.30000000000007,
            "bin_end": 570.2,
            "count": 7
           },
           {
            "bin_start": 570.2,
            "bin_end": 640.1,
            "count": 2
           },
           {
            "bin_start": 640.1,
            "bin_end": 710,
            "count": 2
           }
          ]
         }
        },
        {
         "name": "w_bpFaced_clay",
         "dtype": "float64",
         "stats": {
          "unique_count": 49,
          "nan_count": 0,
          "min": "0.0",
          "max": "1196.0",
          "histogram": [
           {
            "bin_start": 0,
            "bin_end": 119.6,
            "count": 10
           },
           {
            "bin_start": 119.6,
            "bin_end": 239.2,
            "count": 9
           },
           {
            "bin_start": 239.2,
            "bin_end": 358.79999999999995,
            "count": 6
           },
           {
            "bin_start": 358.79999999999995,
            "bin_end": 478.4,
            "count": 5
           },
           {
            "bin_start": 478.4,
            "bin_end": 598,
            "count": 8
           },
           {
            "bin_start": 598,
            "bin_end": 717.5999999999999,
            "count": 2
           },
           {
            "bin_start": 717.5999999999999,
            "bin_end": 837.1999999999999,
            "count": 5
           },
           {
            "bin_start": 837.1999999999999,
            "bin_end": 956.8,
            "count": 0
           },
           {
            "bin_start": 956.8,
            "bin_end": 1076.3999999999999,
            "count": 2
           },
           {
            "bin_start": 1076.3999999999999,
            "bin_end": 1196,
            "count": 3
           }
          ]
         }
        },
        {
         "name": "w_bpFaced_grass",
         "dtype": "float64",
         "stats": {
          "unique_count": 41,
          "nan_count": 0,
          "min": "0.0",
          "max": "265.0",
          "histogram": [
           {
            "bin_start": 0,
            "bin_end": 26.5,
            "count": 17
           },
           {
            "bin_start": 26.5,
            "bin_end": 53,
            "count": 5
           },
           {
            "bin_start": 53,
            "bin_end": 79.5,
            "count": 8
           },
           {
            "bin_start": 79.5,
            "bin_end": 106,
            "count": 6
           },
           {
            "bin_start": 106,
            "bin_end": 132.5,
            "count": 6
           },
           {
            "bin_start": 132.5,
            "bin_end": 159,
            "count": 2
           },
           {
            "bin_start": 159,
            "bin_end": 185.5,
            "count": 2
           },
           {
            "bin_start": 185.5,
            "bin_end": 212,
            "count": 2
           },
           {
            "bin_start": 212,
            "bin_end": 238.5,
            "count": 1
           },
           {
            "bin_start": 238.5,
            "bin_end": 265,
            "count": 1
           }
          ]
         }
        },
        {
         "name": "w_bpFaced_hard",
         "dtype": "float64",
         "stats": {
          "unique_count": 49,
          "nan_count": 0,
          "min": "15.0",
          "max": "1030.0",
          "histogram": [
           {
            "bin_start": 15,
            "bin_end": 116.5,
            "count": 7
           },
           {
            "bin_start": 116.5,
            "bin_end": 218,
            "count": 6
           },
           {
            "bin_start": 218,
            "bin_end": 319.5,
            "count": 3
           },
           {
            "bin_start": 319.5,
            "bin_end": 421,
            "count": 5
           },
           {
            "bin_start": 421,
            "bin_end": 522.5,
            "count": 6
           },
           {
            "bin_start": 522.5,
            "bin_end": 624,
            "count": 6
           },
           {
            "bin_start": 624,
            "bin_end": 725.5,
            "count": 8
           },
           {
            "bin_start": 725.5,
            "bin_end": 827,
            "count": 4
           },
           {
            "bin_start": 827,
            "bin_end": 928.5,
            "count": 4
           },
           {
            "bin_start": 928.5,
            "bin_end": 1030,
            "count": 1
           }
          ]
         }
        },
        {
         "name": "w_bpFaced_carpet",
         "dtype": "float64",
         "stats": {
          "unique_count": 49,
          "nan_count": 0,
          "min": "15.0",
          "max": "1030.0",
          "histogram": [
           {
            "bin_start": 15,
            "bin_end": 116.5,
            "count": 7
           },
           {
            "bin_start": 116.5,
            "bin_end": 218,
            "count": 6
           },
           {
            "bin_start": 218,
            "bin_end": 319.5,
            "count": 3
           },
           {
            "bin_start": 319.5,
            "bin_end": 421,
            "count": 5
           },
           {
            "bin_start": 421,
            "bin_end": 522.5,
            "count": 6
           },
           {
            "bin_start": 522.5,
            "bin_end": 624,
            "count": 6
           },
           {
            "bin_start": 624,
            "bin_end": 725.5,
            "count": 8
           },
           {
            "bin_start": 725.5,
            "bin_end": 827,
            "count": 4
           },
           {
            "bin_start": 827,
            "bin_end": 928.5,
            "count": 4
           },
           {
            "bin_start": 928.5,
            "bin_end": 1030,
            "count": 1
           }
          ]
         }
        },
        {
         "name": "_deepnote_index_column",
         "dtype": "int64"
        }
       ],
       "rows_top": [
        {
         "Name": "Novak Djokovic",
         "w_ace_clay": 312,
         "w_ace_grass": 107,
         "w_ace_hard": 460,
         "w_ace_carpet": 460,
         "w_df_clay": 244,
         "w_df_grass": 147,
         "w_df_hard": 569,
         "w_df_carpet": 569,
         "w_svpt_clay": 9237,
         "w_svpt_grass": 4176,
         "w_svpt_hard": 15676,
         "w_svpt_carpet": 15676,
         "w_1stIn_clay": 6113,
         "w_1stIn_grass": 2773,
         "w_1stIn_hard": 10227,
         "w_1stIn_carpet": 10227,
         "w_1stWon_clay": 4458,
         "w_1stWon_grass": 2210,
         "w_1stWon_hard": 7795,
         "w_1stWon_carpet": 7795,
         "w_2ndWon_clay": 1734,
         "w_2ndWon_grass": 759,
         "w_2ndWon_hard": 3112,
         "w_2ndWon_carpet": 3112,
         "w_SvGms_clay": 1480,
         "w_SvGms_grass": 705,
         "w_SvGms_hard": 2583,
         "w_SvGms_carpet": 2583,
         "w_bpSaved_clay": 445,
         "w_bpSaved_grass": 152,
         "w_bpSaved_hard": 588,
         "w_bpSaved_carpet": 588,
         "w_bpFaced_clay": 654,
         "w_bpFaced_grass": 208,
         "w_bpFaced_hard": 859,
         "w_bpFaced_carpet": 859,
         "_deepnote_index_column": 192
        },
        {
         "Name": "Rafael Nadal",
         "w_ace_clay": 330,
         "w_ace_grass": 35,
         "w_ace_hard": 451,
         "w_ace_carpet": 451,
         "w_df_clay": 269,
         "w_df_grass": 32,
         "w_df_hard": 336,
         "w_df_carpet": 336,
         "w_svpt_clay": 10917,
         "w_svpt_grass": 1427,
         "w_svpt_hard": 12607,
         "w_svpt_carpet": 12607,
         "w_1stIn_clay": 7319,
         "w_1stIn_grass": 916,
         "w_1stIn_hard": 8317,
         "w_1stIn_carpet": 8317,
         "w_1stWon_clay": 5264,
         "w_1stWon_grass": 718,
         "w_1stWon_hard": 6386,
         "w_1stWon_carpet": 6386,
         "w_2ndWon_clay": 2179,
         "w_2ndWon_grass": 330,
         "w_2ndWon_hard": 2557,
         "w_2ndWon_carpet": 2557,
         "w_SvGms_clay": 1804,
         "w_SvGms_grass": 249,
         "w_SvGms_hard": 2139,
         "w_SvGms_carpet": 2139,
         "w_bpSaved_clay": 537,
         "w_bpSaved_grass": 47,
         "w_bpSaved_hard": 450,
         "w_bpSaved_carpet": 450,
         "w_bpFaced_clay": 760,
         "w_bpFaced_grass": 64,
         "w_bpFaced_hard": 647,
         "w_bpFaced_carpet": 647,
         "_deepnote_index_column": 154
        },
        {
         "Name": "Alexander Zverev",
         "w_ace_clay": 245,
         "w_ace_grass": 11,
         "w_ace_hard": 276,
         "w_ace_carpet": 276,
         "w_df_clay": 389,
         "w_df_grass": 88,
         "w_df_hard": 781,
         "w_df_carpet": 781,
         "w_svpt_clay": 8221,
         "w_svpt_grass": 2213,
         "w_svpt_hard": 15433,
         "w_svpt_carpet": 15433,
         "w_1stIn_clay": 5366,
         "w_1stIn_grass": 1476,
         "w_1stIn_hard": 10091,
         "w_1stIn_carpet": 10091,
         "w_1stWon_clay": 3974,
         "w_1stWon_grass": 1212,
         "w_1stWon_hard": 7939,
         "w_1stWon_carpet": 7939,
         "w_2ndWon_clay": 1546,
         "w_2ndWon_grass": 402,
         "w_2ndWon_hard": 2823,
         "w_2ndWon_carpet": 2823,
         "w_SvGms_clay": 1348,
         "w_SvGms_grass": 387,
         "w_SvGms_hard": 2535,
         "w_SvGms_carpet": 2535,
         "w_bpSaved_clay": 310,
         "w_bpSaved_grass": 75,
         "w_bpSaved_hard": 642,
         "w_bpSaved_carpet": 642,
         "w_bpFaced_clay": 508,
         "w_bpFaced_grass": 102,
         "w_bpFaced_hard": 915,
         "w_bpFaced_carpet": 915,
         "_deepnote_index_column": 0
        },
        {
         "Name": "Roger Federer",
         "w_ace_clay": 52,
         "w_ace_grass": 107,
         "w_ace_hard": 280,
         "w_ace_carpet": 280,
         "w_df_clay": 27,
         "w_df_grass": 64,
         "w_df_hard": 278,
         "w_df_carpet": 278,
         "w_svpt_clay": 1563,
         "w_svpt_grass": 4781,
         "w_svpt_hard": 11359,
         "w_svpt_carpet": 11359,
         "w_1stIn_clay": 986,
         "w_1stIn_grass": 3122,
         "w_1stIn_hard": 7073,
         "w_1stIn_carpet": 7073,
         "w_1stWon_clay": 754,
         "w_1stWon_grass": 2551,
         "w_1stWon_hard": 5675,
         "w_1stWon_carpet": 5675,
         "w_2ndWon_clay": 356,
         "w_2ndWon_grass": 1030,
         "w_2ndWon_hard": 2535,
         "w_2ndWon_carpet": 2535,
         "w_SvGms_clay": 259,
         "w_SvGms_grass": 845,
         "w_SvGms_hard": 1943,
         "w_SvGms_carpet": 1943,
         "w_bpSaved_clay": 57,
         "w_bpSaved_grass": 150,
         "w_bpSaved_hard": 375,
         "w_bpSaved_carpet": 375,
         "w_bpFaced_clay": 81,
         "w_bpFaced_grass": 196,
         "w_bpFaced_hard": 529,
         "w_bpFaced_carpet": 529,
         "_deepnote_index_column": 35
        },
        {
         "Name": "Daniil Medvedev",
         "w_ace_clay": 89,
         "w_ace_grass": 44,
         "w_ace_hard": 416,
         "w_ace_carpet": 416,
         "w_df_clay": 100,
         "w_df_grass": 98,
         "w_df_hard": 790,
         "w_df_carpet": 790,
         "w_svpt_clay": 2496,
         "w_svpt_grass": 2837,
         "w_svpt_hard": 17821,
         "w_svpt_carpet": 17821,
         "w_1stIn_clay": 1360,
         "w_1stIn_grass": 1768,
         "w_1stIn_hard": 10680,
         "w_1stIn_carpet": 10680,
         "w_1stWon_clay": 1010,
         "w_1stWon_grass": 1438,
         "w_1stWon_hard": 8455,
         "w_1stWon_carpet": 8455,
         "w_2ndWon_clay": 631,
         "w_2ndWon_grass": 594,
         "w_2ndWon_hard": 3904,
         "w_2ndWon_carpet": 3904,
         "w_SvGms_clay": 403,
         "w_SvGms_grass": 485,
         "w_SvGms_hard": 2947,
         "w_SvGms_carpet": 2947,
         "w_bpSaved_clay": 118,
         "w_bpSaved_grass": 84,
         "w_bpSaved_hard": 710,
         "w_bpSaved_carpet": 710,
         "w_bpFaced_clay": 180,
         "w_bpFaced_grass": 123,
         "w_bpFaced_hard": 1030,
         "w_bpFaced_carpet": 1030,
         "_deepnote_index_column": 766
        },
        {
         "Name": "Dominic Thiem",
         "w_ace_clay": 471,
         "w_ace_grass": 15,
         "w_ace_hard": 293,
         "w_ace_carpet": 293,
         "w_df_clay": 412,
         "w_df_grass": 63,
         "w_df_hard": 433,
         "w_df_carpet": 433,
         "w_svpt_clay": 12133,
         "w_svpt_grass": 1170,
         "w_svpt_hard": 13621,
         "w_svpt_carpet": 13621,
         "w_1stIn_clay": 7624,
         "w_1stIn_grass": 668,
         "w_1stIn_hard": 8398,
         "w_1stIn_carpet": 8398,
         "w_1stWon_clay": 5742,
         "w_1stWon_grass": 539,
         "w_1stWon_hard": 6480,
         "w_1stWon_carpet": 6480,
         "w_2ndWon_clay": 2587,
         "w_2ndWon_grass": 282,
         "w_2ndWon_hard": 2892,
         "w_2ndWon_carpet": 2892,
         "w_SvGms_clay": 1998,
         "w_SvGms_grass": 191,
         "w_SvGms_hard": 2241,
         "w_SvGms_carpet": 2241,
         "w_bpSaved_clay": 517,
         "w_bpSaved_grass": 47,
         "w_bpSaved_hard": 542,
         "w_bpSaved_carpet": 542,
         "w_bpFaced_clay": 765,
         "w_bpFaced_grass": 60,
         "w_bpFaced_hard": 805,
         "w_bpFaced_carpet": 805,
         "_deepnote_index_column": 679
        },
        {
         "Name": "Andy Murray",
         "w_ace_clay": 72,
         "w_ace_grass": 40,
         "w_ace_hard": 249,
         "w_ace_carpet": 249,
         "w_df_clay": 84,
         "w_df_grass": 38,
         "w_df_hard": 318,
         "w_df_carpet": 318,
         "w_svpt_clay": 2609,
         "w_svpt_grass": 2256,
         "w_svpt_hard": 8630,
         "w_svpt_carpet": 8630,
         "w_1stIn_clay": 1551,
         "w_1stIn_grass": 1420,
         "w_1stIn_hard": 5054,
         "w_1stIn_carpet": 5054,
         "w_1stWon_clay": 1168,
         "w_1stWon_grass": 1091,
         "w_1stWon_hard": 3870,
         "w_1stWon_carpet": 3870,
         "w_2ndWon_clay": 589,
         "w_2ndWon_grass": 468,
         "w_2ndWon_hard": 1981,
         "w_2ndWon_carpet": 1981,
         "w_SvGms_clay": 412,
         "w_SvGms_grass": 374,
         "w_SvGms_hard": 1394,
         "w_SvGms_carpet": 1394,
         "w_bpSaved_clay": 126,
         "w_bpSaved_grass": 88,
         "w_bpSaved_hard": 343,
         "w_bpSaved_carpet": 343,
         "w_bpFaced_clay": 181,
         "w_bpFaced_grass": 128,
         "w_bpFaced_hard": 522,
         "w_bpFaced_carpet": 522,
         "_deepnote_index_column": 188
        },
        {
         "Name": "Andrey Rublev",
         "w_ace_clay": 136,
         "w_ace_grass": 34,
         "w_ace_hard": 389,
         "w_ace_carpet": 389,
         "w_df_clay": 135,
         "w_df_grass": 32,
         "w_df_hard": 560,
         "w_df_carpet": 560,
         "w_svpt_clay": 5121,
         "w_svpt_grass": 1414,
         "w_svpt_hard": 14888,
         "w_svpt_carpet": 14888,
         "w_1stIn_clay": 3093,
         "w_1stIn_grass": 836,
         "w_1stIn_hard": 8805,
         "w_1stIn_carpet": 8805,
         "w_1stWon_clay": 2282,
         "w_1stWon_grass": 621,
         "w_1stWon_hard": 6992,
         "w_1stWon_carpet": 6992,
         "w_2ndWon_clay": 1046,
         "w_2ndWon_grass": 337,
         "w_2ndWon_hard": 3228,
         "w_2ndWon_carpet": 3228,
         "w_SvGms_clay": 804,
         "w_SvGms_grass": 232,
         "w_SvGms_hard": 2411,
         "w_SvGms_carpet": 2411,
         "w_bpSaved_clay": 261,
         "w_bpSaved_grass": 42,
         "w_bpSaved_hard": 629,
         "w_bpSaved_carpet": 629,
         "w_bpFaced_clay": 405,
         "w_bpFaced_grass": 68,
         "w_bpFaced_hard": 901,
         "w_bpFaced_carpet": 901,
         "_deepnote_index_column": 1051
        },
        {
         "Name": "Ugo Humbert",
         "w_ace_clay": 25,
         "w_ace_grass": 10,
         "w_ace_hard": 201,
         "w_ace_carpet": 201,
         "w_df_clay": 24,
         "w_df_grass": 75,
         "w_df_hard": 310,
         "w_df_carpet": 310,
         "w_svpt_clay": 712,
         "w_svpt_grass": 1804,
         "w_svpt_hard": 8473,
         "w_svpt_carpet": 8473,
         "w_1stIn_clay": 452,
         "w_1stIn_grass": 1183,
         "w_1stIn_hard": 5083,
         "w_1stIn_carpet": 5083,
         "w_1stWon_clay": 323,
         "w_1stWon_grass": 902,
         "w_1stWon_hard": 4036,
         "w_1stWon_carpet": 4036,
         "w_2ndWon_clay": 135,
         "w_2ndWon_grass": 331,
         "w_2ndWon_hard": 1945,
         "w_2ndWon_carpet": 1945,
         "w_SvGms_clay": 116,
         "w_SvGms_grass": 277,
         "w_SvGms_hard": 1340,
         "w_SvGms_carpet": 1340,
         "w_bpSaved_clay": 25,
         "w_bpSaved_grass": 88,
         "w_bpSaved_hard": 362,
         "w_bpSaved_carpet": 362,
         "w_bpFaced_clay": 48,
         "w_bpFaced_grass": 118,
         "w_bpFaced_hard": 480,
         "w_bpFaced_carpet": 480,
         "_deepnote_index_column": 1366
        },
        {
         "Name": "James Duckworth",
         "w_ace_clay": 20,
         "w_ace_grass": 19,
         "w_ace_hard": 138,
         "w_ace_carpet": 138,
         "w_df_clay": 27,
         "w_df_grass": 26,
         "w_df_hard": 250,
         "w_df_carpet": 250,
         "w_svpt_clay": 713,
         "w_svpt_grass": 1164,
         "w_svpt_hard": 8111,
         "w_svpt_carpet": 8111,
         "w_1stIn_clay": 383,
         "w_1stIn_grass": 708,
         "w_1stIn_hard": 4507,
         "w_1stIn_carpet": 4507,
         "w_1stWon_clay": 307,
         "w_1stWon_grass": 548,
         "w_1stWon_hard": 3635,
         "w_1stWon_carpet": 3635,
         "w_2ndWon_clay": 172,
         "w_2ndWon_grass": 273,
         "w_2ndWon_hard": 2113,
         "w_2ndWon_carpet": 2113,
         "w_SvGms_clay": 107,
         "w_SvGms_grass": 192,
         "w_SvGms_hard": 1330,
         "w_SvGms_carpet": 1330,
         "w_bpSaved_clay": 49,
         "w_bpSaved_grass": 63,
         "w_bpSaved_hard": 314,
         "w_bpSaved_carpet": 314,
         "w_bpFaced_clay": 62,
         "w_bpFaced_grass": 76,
         "w_bpFaced_hard": 425,
         "w_bpFaced_carpet": 425,
         "_deepnote_index_column": 546
        },
        {
         "Name": "Facundo Bagnis",
         "w_ace_clay": 581,
         "w_ace_grass": 0,
         "w_ace_hard": 15,
         "w_ace_carpet": 15,
         "w_df_clay": 724,
         "w_df_grass": 0,
         "w_df_hard": 19,
         "w_df_carpet": 19,
         "w_svpt_clay": 15625,
         "w_svpt_grass": 0,
         "w_svpt_hard": 569,
         "w_svpt_carpet": 569,
         "w_1stIn_clay": 9302,
         "w_1stIn_grass": 0,
         "w_1stIn_hard": 369,
         "w_1stIn_carpet": 369,
         "w_1stWon_clay": 6935,
         "w_1stWon_grass": 0,
         "w_1stWon_hard": 254,
         "w_1stWon_carpet": 254,
         "w_2ndWon_clay": 3475,
         "w_2ndWon_grass": 0,
         "w_2ndWon_hard": 111,
         "w_2ndWon_carpet": 111,
         "w_SvGms_clay": 2515,
         "w_SvGms_grass": 0,
         "w_SvGms_hard": 34,
         "w_SvGms_carpet": 34,
         "w_bpSaved_clay": 816,
         "w_bpSaved_grass": 0,
         "w_bpSaved_hard": 32,
         "w_bpSaved_carpet": 32,
         "w_bpFaced_clay": 1196,
         "w_bpFaced_grass": 0,
         "w_bpFaced_hard": 44,
         "w_bpFaced_carpet": 44,
         "_deepnote_index_column": 374
        },
        {
         "Name": "Stefanos Tsitsipas",
         "w_ace_clay": 323,
         "w_ace_grass": 15,
         "w_ace_hard": 382,
         "w_ace_carpet": 382,
         "w_df_clay": 210,
         "w_df_grass": 43,
         "w_df_hard": 365,
         "w_df_carpet": 365,
         "w_svpt_clay": 8449,
         "w_svpt_grass": 990,
         "w_svpt_hard": 14917,
         "w_svpt_carpet": 14917,
         "w_1stIn_clay": 5223,
         "w_1stIn_grass": 647,
         "w_1stIn_hard": 9259,
         "w_1stIn_carpet": 9259,
         "w_1stWon_clay": 3958,
         "w_1stWon_grass": 503,
         "w_1stWon_hard": 7412,
         "w_1stWon_carpet": 7412,
         "w_2ndWon_clay": 1883,
         "w_2ndWon_grass": 187,
         "w_2ndWon_hard": 3295,
         "w_2ndWon_carpet": 3295,
         "w_SvGms_clay": 1395,
         "w_SvGms_grass": 167,
         "w_SvGms_hard": 2473,
         "w_SvGms_carpet": 2473,
         "w_bpSaved_clay": 329,
         "w_bpSaved_grass": 31,
         "w_bpSaved_hard": 502,
         "w_bpSaved_carpet": 502,
         "w_bpFaced_clay": 487,
         "w_bpFaced_grass": 50,
         "w_bpFaced_hard": 696,
         "w_bpFaced_carpet": 696,
         "_deepnote_index_column": 1150
        },
        {
         "Name": "Roberto Bautista Agut",
         "w_ace_clay": 149,
         "w_ace_grass": 81,
         "w_ace_hard": 442,
         "w_ace_carpet": 442,
         "w_df_clay": 102,
         "w_df_grass": 36,
         "w_df_hard": 338,
         "w_df_carpet": 338,
         "w_svpt_clay": 4686,
         "w_svpt_grass": 2045,
         "w_svpt_hard": 12956,
         "w_svpt_carpet": 12956,
         "w_1stIn_clay": 3017,
         "w_1stIn_grass": 1369,
         "w_1stIn_hard": 8460,
         "w_1stIn_carpet": 8460,
         "w_1stWon_clay": 2166,
         "w_1stWon_grass": 1024,
         "w_1stWon_hard": 6275,
         "w_1stWon_carpet": 6275,
         "w_2ndWon_clay": 942,
         "w_2ndWon_grass": 389,
         "w_2ndWon_hard": 2623,
         "w_2ndWon_carpet": 2623,
         "w_SvGms_clay": 757,
         "w_SvGms_grass": 333,
         "w_SvGms_hard": 2150,
         "w_SvGms_carpet": 2150,
         "w_bpSaved_clay": 224,
         "w_bpSaved_grass": 91,
         "w_bpSaved_hard": 565,
         "w_bpSaved_carpet": 565,
         "w_bpFaced_clay": 336,
         "w_bpFaced_grass": 125,
         "w_bpFaced_hard": 844,
         "w_bpFaced_carpet": 844,
         "_deepnote_index_column": 259
        }
       ],
       "rows_bottom": [
        {
         "Name": "Filip Krajinovic",
         "w_ace_clay": 221,
         "w_ace_grass": 0,
         "w_ace_hard": 250,
         "w_ace_carpet": 250,
         "w_df_clay": 111,
         "w_df_grass": 0,
         "w_df_hard": 135,
         "w_df_carpet": 135,
         "w_svpt_clay": 6639,
         "w_svpt_grass": 0,
         "w_svpt_hard": 7215,
         "w_svpt_carpet": 7215,
         "w_1stIn_clay": 4297,
         "w_1stIn_grass": 0,
         "w_1stIn_hard": 4629,
         "w_1stIn_carpet": 4629,
         "w_1stWon_clay": 3043,
         "w_1stWon_grass": 0,
         "w_1stWon_hard": 3463,
         "w_1stWon_carpet": 3463,
         "w_2ndWon_clay": 1332,
         "w_2ndWon_grass": 0,
         "w_2ndWon_hard": 1361,
         "w_2ndWon_carpet": 1361,
         "w_SvGms_clay": 1073,
         "w_SvGms_grass": 0,
         "w_SvGms_hard": 1140,
         "w_SvGms_carpet": 1140,
         "w_bpSaved_clay": 351,
         "w_bpSaved_grass": 0,
         "w_bpSaved_hard": 359,
         "w_bpSaved_carpet": 359,
         "w_bpFaced_clay": 523,
         "w_bpFaced_grass": 0,
         "w_bpFaced_hard": 514,
         "w_bpFaced_carpet": 514,
         "_deepnote_index_column": 560
        },
        {
         "Name": "Reilly Opelka",
         "w_ace_clay": 6,
         "w_ace_grass": 0,
         "w_ace_hard": 6,
         "w_ace_carpet": 6,
         "w_df_clay": 85,
         "w_df_grass": 16,
         "w_df_hard": 336,
         "w_df_carpet": 336,
         "w_svpt_clay": 2378,
         "w_svpt_grass": 522,
         "w_svpt_hard": 8985,
         "w_svpt_carpet": 8985,
         "w_1stIn_clay": 1498,
         "w_1stIn_grass": 347,
         "w_1stIn_hard": 5727,
         "w_1stIn_carpet": 5727,
         "w_1stWon_clay": 1188,
         "w_1stWon_grass": 268,
         "w_1stWon_hard": 4833,
         "w_1stWon_carpet": 4833,
         "w_2ndWon_clay": 501,
         "w_2ndWon_grass": 106,
         "w_2ndWon_hard": 1890,
         "w_2ndWon_carpet": 1890,
         "w_SvGms_clay": 388,
         "w_SvGms_grass": 83,
         "w_SvGms_hard": 1500,
         "w_SvGms_carpet": 1500,
         "w_bpSaved_clay": 80,
         "w_bpSaved_grass": 20,
         "w_bpSaved_hard": 222,
         "w_bpSaved_carpet": 222,
         "w_bpFaced_clay": 108,
         "w_bpFaced_grass": 23,
         "w_bpFaced_hard": 293,
         "w_bpFaced_carpet": 293,
         "_deepnote_index_column": 1032
        },
        {
         "Name": "Marco Cecchinato",
         "w_ace_clay": 448,
         "w_ace_grass": 5,
         "w_ace_hard": 22,
         "w_ace_carpet": 22,
         "w_df_clay": 319,
         "w_df_grass": 6,
         "w_df_hard": 38,
         "w_df_carpet": 38,
         "w_svpt_clay": 14156,
         "w_svpt_grass": 180,
         "w_svpt_hard": 1130,
         "w_svpt_carpet": 1130,
         "w_1stIn_clay": 9629,
         "w_1stIn_grass": 114,
         "w_1stIn_hard": 765,
         "w_1stIn_carpet": 765,
         "w_1stWon_clay": 6837,
         "w_1stWon_grass": 89,
         "w_1stWon_hard": 588,
         "w_1stWon_carpet": 588,
         "w_2ndWon_clay": 2535,
         "w_2ndWon_grass": 36,
         "w_2ndWon_hard": 207,
         "w_2ndWon_carpet": 207,
         "w_SvGms_clay": 2217,
         "w_SvGms_grass": 31,
         "w_SvGms_hard": 181,
         "w_SvGms_carpet": 181,
         "w_bpSaved_clay": 673,
         "w_bpSaved_grass": 2,
         "w_bpSaved_hard": 32,
         "w_bpSaved_carpet": 32,
         "w_bpFaced_clay": 996,
         "w_bpFaced_grass": 5,
         "w_bpFaced_hard": 50,
         "w_bpFaced_carpet": 50,
         "_deepnote_index_column": 614
        },
        {
         "Name": "Jannik Sinner",
         "w_ace_clay": 108,
         "w_ace_grass": 5,
         "w_ace_hard": 172,
         "w_ace_carpet": 172,
         "w_df_clay": 73,
         "w_df_grass": 5,
         "w_df_hard": 158,
         "w_df_carpet": 158,
         "w_svpt_clay": 2823,
         "w_svpt_grass": 162,
         "w_svpt_hard": 5281,
         "w_svpt_carpet": 5281,
         "w_1stIn_clay": 1687,
         "w_1stIn_grass": 98,
         "w_1stIn_hard": 3141,
         "w_1stIn_carpet": 3141,
         "w_1stWon_clay": 1193,
         "w_1stWon_grass": 72,
         "w_1stWon_hard": 2356,
         "w_1stWon_carpet": 2356,
         "w_2ndWon_clay": 615,
         "w_2ndWon_grass": 34,
         "w_2ndWon_hard": 1194,
         "w_2ndWon_carpet": 1194,
         "w_SvGms_clay": 438,
         "w_SvGms_grass": 25,
         "w_SvGms_hard": 791,
         "w_SvGms_carpet": 791,
         "w_bpSaved_clay": 127,
         "w_bpSaved_grass": 3,
         "w_bpSaved_hard": 274,
         "w_bpSaved_carpet": 274,
         "w_bpFaced_clay": 204,
         "w_bpFaced_grass": 6,
         "w_bpFaced_hard": 381,
         "w_bpFaced_carpet": 381,
         "_deepnote_index_column": 1576
        },
        {
         "Name": "Alex De Minaur",
         "w_ace_clay": 28,
         "w_ace_grass": 79,
         "w_ace_hard": 333,
         "w_ace_carpet": 333,
         "w_df_clay": 57,
         "w_df_grass": 103,
         "w_df_hard": 367,
         "w_df_carpet": 367,
         "w_svpt_clay": 1426,
         "w_svpt_grass": 2799,
         "w_svpt_hard": 11295,
         "w_svpt_carpet": 11295,
         "w_1stIn_clay": 795,
         "w_1stIn_grass": 1731,
         "w_1stIn_hard": 6778,
         "w_1stIn_carpet": 6778,
         "w_1stWon_clay": 563,
         "w_1stWon_grass": 1278,
         "w_1stWon_hard": 5097,
         "w_1stWon_carpet": 5097,
         "w_2ndWon_clay": 365,
         "w_2ndWon_grass": 646,
         "w_2ndWon_hard": 2543,
         "w_2ndWon_carpet": 2543,
         "w_SvGms_clay": 220,
         "w_SvGms_grass": 445,
         "w_SvGms_hard": 1777,
         "w_SvGms_carpet": 1777,
         "w_bpSaved_clay": 84,
         "w_bpSaved_grass": 122,
         "w_bpSaved_hard": 460,
         "w_bpSaved_carpet": 460,
         "w_bpFaced_clay": 117,
         "w_bpFaced_grass": 167,
         "w_bpFaced_hard": 685,
         "w_bpFaced_carpet": 685,
         "_deepnote_index_column": 1421
        },
        {
         "Name": "Jaume Munar",
         "w_ace_clay": 289,
         "w_ace_grass": 0,
         "w_ace_hard": 85,
         "w_ace_carpet": 85,
         "w_df_clay": 268,
         "w_df_grass": 0,
         "w_df_hard": 85,
         "w_df_carpet": 85,
         "w_svpt_clay": 9515,
         "w_svpt_grass": 0,
         "w_svpt_hard": 2606,
         "w_svpt_carpet": 2606,
         "w_1stIn_clay": 6305,
         "w_1stIn_grass": 0,
         "w_1stIn_hard": 1645,
         "w_1stIn_carpet": 1645,
         "w_1stWon_clay": 4453,
         "w_1stWon_grass": 0,
         "w_1stWon_hard": 1230,
         "w_1stWon_carpet": 1230,
         "w_2ndWon_clay": 1666,
         "w_2ndWon_grass": 0,
         "w_2ndWon_hard": 539,
         "w_2ndWon_carpet": 539,
         "w_SvGms_clay": 1478,
         "w_SvGms_grass": 0,
         "w_SvGms_hard": 416,
         "w_SvGms_carpet": 416,
         "w_bpSaved_clay": 480,
         "w_bpSaved_grass": 0,
         "w_bpSaved_hard": 112,
         "w_bpSaved_carpet": 112,
         "w_bpFaced_clay": 748,
         "w_bpFaced_grass": 0,
         "w_bpFaced_hard": 165,
         "w_bpFaced_carpet": 165,
         "_deepnote_index_column": 1315
        },
        {
         "Name": "Casper Ruud",
         "w_ace_clay": 393,
         "w_ace_grass": 8,
         "w_ace_hard": 161,
         "w_ace_carpet": 161,
         "w_df_clay": 319,
         "w_df_grass": 4,
         "w_df_hard": 159,
         "w_df_carpet": 159,
         "w_svpt_clay": 10403,
         "w_svpt_grass": 116,
         "w_svpt_hard": 4795,
         "w_svpt_carpet": 4795,
         "w_1stIn_clay": 6775,
         "w_1stIn_grass": 88,
         "w_1stIn_hard": 3106,
         "w_1stIn_carpet": 3106,
         "w_1stWon_clay": 5029,
         "w_1stWon_grass": 73,
         "w_1stWon_hard": 2390,
         "w_1stWon_carpet": 2390,
         "w_2ndWon_clay": 2087,
         "w_2ndWon_grass": 14,
         "w_2ndWon_hard": 982,
         "w_2ndWon_carpet": 982,
         "w_SvGms_clay": 1700,
         "w_SvGms_grass": 21,
         "w_SvGms_hard": 770,
         "w_SvGms_carpet": 770,
         "w_bpSaved_clay": 424,
         "w_bpSaved_grass": 3,
         "w_bpSaved_hard": 173,
         "w_bpSaved_carpet": 173,
         "w_bpFaced_clay": 613,
         "w_bpFaced_grass": 4,
         "w_bpFaced_hard": 247,
         "w_bpFaced_carpet": 247,
         "_deepnote_index_column": 1271
        },
        {
         "Name": "Alexander Bublik",
         "w_ace_clay": 41,
         "w_ace_grass": 5,
         "w_ace_hard": 118,
         "w_ace_carpet": 118,
         "w_df_clay": 151,
         "w_df_grass": 119,
         "w_df_hard": 952,
         "w_df_carpet": 952,
         "w_svpt_clay": 1794,
         "w_svpt_grass": 1373,
         "w_svpt_hard": 11858,
         "w_svpt_carpet": 11858,
         "w_1stIn_clay": 1003,
         "w_1stIn_grass": 779,
         "w_1stIn_hard": 7028,
         "w_1stIn_carpet": 7028,
         "w_1stWon_clay": 775,
         "w_1stWon_grass": 617,
         "w_1stWon_hard": 5522,
         "w_1stWon_carpet": 5522,
         "w_2ndWon_clay": 352,
         "w_2ndWon_grass": 299,
         "w_2ndWon_hard": 2393,
         "w_2ndWon_carpet": 2393,
         "w_SvGms_clay": 277,
         "w_SvGms_grass": 218,
         "w_SvGms_hard": 1876,
         "w_SvGms_carpet": 1876,
         "w_bpSaved_clay": 103,
         "w_bpSaved_grass": 56,
         "w_bpSaved_hard": 529,
         "w_bpSaved_carpet": 529,
         "w_bpFaced_clay": 163,
         "w_bpFaced_grass": 86,
         "w_bpFaced_hard": 774,
         "w_bpFaced_carpet": 774,
         "_deepnote_index_column": 952
        },
        {
         "Name": "Lucas Pouille",
         "w_ace_clay": 116,
         "w_ace_grass": 16,
         "w_ace_hard": 111,
         "w_ace_carpet": 111,
         "w_df_clay": 131,
         "w_df_grass": 87,
         "w_df_hard": 338,
         "w_df_carpet": 338,
         "w_svpt_clay": 3766,
         "w_svpt_grass": 2198,
         "w_svpt_hard": 8474,
         "w_svpt_carpet": 8474,
         "w_1stIn_clay": 2123,
         "w_1stIn_grass": 1309,
         "w_1stIn_hard": 4829,
         "w_1stIn_carpet": 4829,
         "w_1stWon_clay": 1577,
         "w_1stWon_grass": 1039,
         "w_1stWon_hard": 3753,
         "w_1stWon_carpet": 3753,
         "w_2ndWon_clay": 902,
         "w_2ndWon_grass": 493,
         "w_2ndWon_hard": 1982,
         "w_2ndWon_carpet": 1982,
         "w_SvGms_clay": 582,
         "w_SvGms_grass": 354,
         "w_SvGms_hard": 1332,
         "w_SvGms_carpet": 1332,
         "w_bpSaved_clay": 196,
         "w_bpSaved_grass": 82,
         "w_bpSaved_hard": 350,
         "w_bpSaved_carpet": 350,
         "w_bpFaced_clay": 288,
         "w_bpFaced_grass": 114,
         "w_bpFaced_hard": 502,
         "w_bpFaced_carpet": 502,
         "_deepnote_index_column": 709
        },
        {
         "Name": "Hubert Hurkacz",
         "w_ace_clay": 137,
         "w_ace_grass": 10,
         "w_ace_hard": 276,
         "w_ace_carpet": 276,
         "w_df_clay": 187,
         "w_df_grass": 29,
         "w_df_hard": 399,
         "w_df_carpet": 399,
         "w_svpt_clay": 3730,
         "w_svpt_grass": 1297,
         "w_svpt_hard": 10337,
         "w_svpt_carpet": 10337,
         "w_1stIn_clay": 2265,
         "w_1stIn_grass": 853,
         "w_1stIn_hard": 6587,
         "w_1stIn_carpet": 6587,
         "w_1stWon_clay": 1737,
         "w_1stWon_grass": 674,
         "w_1stWon_hard": 5018,
         "w_1stWon_carpet": 5018,
         "w_2ndWon_clay": 767,
         "w_2ndWon_grass": 256,
         "w_2ndWon_hard": 1981,
         "w_2ndWon_carpet": 1981,
         "w_SvGms_clay": 600,
         "w_SvGms_grass": 219,
         "w_SvGms_hard": 1609,
         "w_SvGms_carpet": 1609,
         "w_bpSaved_clay": 161,
         "w_bpSaved_grass": 34,
         "w_bpSaved_hard": 520,
         "w_bpSaved_carpet": 520,
         "w_bpFaced_clay": 242,
         "w_bpFaced_grass": 46,
         "w_bpFaced_hard": 704,
         "w_bpFaced_carpet": 704,
         "_deepnote_index_column": 1197
        },
        {
         "Name": "Nick Kyrgios",
         "w_ace_clay": 6,
         "w_ace_grass": 12,
         "w_ace_hard": 28,
         "w_ace_carpet": 28,
         "w_df_clay": 27,
         "w_df_grass": 116,
         "w_df_hard": 404,
         "w_df_carpet": 404,
         "w_svpt_clay": 1458,
         "w_svpt_grass": 2263,
         "w_svpt_hard": 9742,
         "w_svpt_carpet": 9742,
         "w_1stIn_clay": 984,
         "w_1stIn_grass": 1520,
         "w_1stIn_hard": 6344,
         "w_1stIn_carpet": 6344,
         "w_1stWon_clay": 783,
         "w_1stWon_grass": 1174,
         "w_1stWon_hard": 5213,
         "w_1stWon_carpet": 5213,
         "w_2ndWon_clay": 298,
         "w_2ndWon_grass": 397,
         "w_2ndWon_hard": 1927,
         "w_2ndWon_carpet": 1927,
         "w_SvGms_clay": 242,
         "w_SvGms_grass": 377,
         "w_SvGms_hard": 1644,
         "w_SvGms_carpet": 1644,
         "w_bpSaved_clay": 39,
         "w_bpSaved_grass": 77,
         "w_bpSaved_hard": 299,
         "w_bpSaved_carpet": 299,
         "w_bpFaced_clay": 50,
         "w_bpFaced_grass": 120,
         "w_bpFaced_hard": 389,
         "w_bpFaced_carpet": 389,
         "_deepnote_index_column": 758
        },
        {
         "Name": "Malek Jaziri",
         "w_ace_clay": 112,
         "w_ace_grass": 19,
         "w_ace_hard": 301,
         "w_ace_carpet": 301,
         "w_df_clay": 93,
         "w_df_grass": 13,
         "w_df_hard": 301,
         "w_df_carpet": 301,
         "w_svpt_clay": 2957,
         "w_svpt_grass": 275,
         "w_svpt_hard": 8453,
         "w_svpt_carpet": 8453,
         "w_1stIn_clay": 1573,
         "w_1stIn_grass": 160,
         "w_1stIn_hard": 4540,
         "w_1stIn_carpet": 4540,
         "w_1stWon_clay": 1142,
         "w_1stWon_grass": 122,
         "w_1stWon_hard": 3480,
         "w_1stWon_carpet": 3480,
         "w_2ndWon_clay": 758,
         "w_2ndWon_grass": 65,
         "w_2ndWon_hard": 2140,
         "w_2ndWon_carpet": 2140,
         "w_SvGms_clay": 451,
         "w_SvGms_grass": 43,
         "w_SvGms_hard": 1317,
         "w_SvGms_carpet": 1317,
         "w_bpSaved_clay": 171,
         "w_bpSaved_grass": 15,
         "w_bpSaved_hard": 408,
         "w_bpSaved_carpet": 408,
         "w_bpFaced_clay": 240,
         "w_bpFaced_grass": 19,
         "w_bpFaced_hard": 600,
         "w_bpFaced_carpet": 600,
         "_deepnote_index_column": 79
        },
        {
         "Name": "Nicolas Jarry",
         "w_ace_clay": 260,
         "w_ace_grass": 0,
         "w_ace_hard": 63,
         "w_ace_carpet": 63,
         "w_df_clay": 313,
         "w_df_grass": 16,
         "w_df_hard": 91,
         "w_df_carpet": 91,
         "w_svpt_clay": 8656,
         "w_svpt_grass": 648,
         "w_svpt_hard": 3070,
         "w_svpt_carpet": 3070,
         "w_1stIn_clay": 5546,
         "w_1stIn_grass": 402,
         "w_1stIn_hard": 1927,
         "w_1stIn_carpet": 1927,
         "w_1stWon_clay": 4251,
         "w_1stWon_grass": 318,
         "w_1stWon_hard": 1534,
         "w_1stWon_carpet": 1534,
         "w_2ndWon_clay": 1790,
         "w_2ndWon_grass": 146,
         "w_2ndWon_hard": 673,
         "w_2ndWon_carpet": 673,
         "w_SvGms_clay": 1390,
         "w_SvGms_grass": 112,
         "w_SvGms_hard": 510,
         "w_SvGms_carpet": 510,
         "w_bpSaved_clay": 361,
         "w_bpSaved_grass": 26,
         "w_bpSaved_hard": 121,
         "w_bpSaved_carpet": 121,
         "w_bpFaced_clay": 494,
         "w_bpFaced_grass": 36,
         "w_bpFaced_hard": 155,
         "w_bpFaced_carpet": 155,
         "_deepnote_index_column": 886
        },
        {
         "Name": "Adrian Mannarino",
         "w_ace_clay": 52,
         "w_ace_grass": 96,
         "w_ace_hard": 300,
         "w_ace_carpet": 300,
         "w_df_clay": 40,
         "w_df_grass": 134,
         "w_df_hard": 258,
         "w_df_carpet": 258,
         "w_svpt_clay": 1823,
         "w_svpt_grass": 4177,
         "w_svpt_hard": 9047,
         "w_svpt_carpet": 9047,
         "w_1stIn_clay": 1147,
         "w_1stIn_grass": 2598,
         "w_1stIn_hard": 5384,
         "w_1stIn_carpet": 5384,
         "w_1stWon_clay": 766,
         "w_1stWon_grass": 1907,
         "w_1stWon_hard": 4068,
         "w_1stWon_carpet": 4068,
         "w_2ndWon_clay": 362,
         "w_2ndWon_grass": 894,
         "w_2ndWon_hard": 2090,
         "w_2ndWon_carpet": 2090,
         "w_SvGms_clay": 275,
         "w_SvGms_grass": 675,
         "w_SvGms_hard": 1466,
         "w_SvGms_carpet": 1466,
         "w_bpSaved_clay": 106,
         "w_bpSaved_grass": 169,
         "w_bpSaved_hard": 413,
         "w_bpSaved_carpet": 413,
         "w_bpFaced_clay": 165,
         "w_bpFaced_grass": 265,
         "w_bpFaced_hard": 595,
         "w_bpFaced_carpet": 595,
         "_deepnote_index_column": 272
        }
       ]
      },
      "text/plain": "                         Name  w_ace_clay  w_ace_grass  w_ace_hard  \\\n192            Novak Djokovic       312.0        107.0       460.0   \n154              Rafael Nadal       330.0         35.0       451.0   \n0            Alexander Zverev       245.0         11.0       276.0   \n35              Roger Federer        52.0        107.0       280.0   \n766           Daniil Medvedev        89.0         44.0       416.0   \n679             Dominic Thiem       471.0         15.0       293.0   \n188               Andy Murray        72.0         40.0       249.0   \n1051            Andrey Rublev       136.0         34.0       389.0   \n1366              Ugo Humbert        25.0         10.0       201.0   \n546           James Duckworth        20.0         19.0       138.0   \n374            Facundo Bagnis       581.0          0.0        15.0   \n1150       Stefanos Tsitsipas       323.0         15.0       382.0   \n259     Roberto Bautista Agut       149.0         81.0       442.0   \n265               Pedro Sousa       267.0          0.0         4.0   \n1131        Matteo Berrettini       203.0         23.0       182.0   \n412         Ricardas Berankis        34.0         26.0       376.0   \n404              Daniel Evans        25.0        107.0       375.0   \n795       Maximilian Marterer       204.0          8.0       100.0   \n362             Steve Johnson        60.0         22.0       161.0   \n638   Roberto Carballes Baena       395.0          8.0        38.0   \n136              Pablo Cuevas       265.0          0.0       101.0   \n842           Jordan Thompson        93.0         70.0       406.0   \n556      Nikoloz Basilashvili       164.0         35.0       261.0   \n280             Yuichi Sugita        14.0        115.0       290.0   \n69                Yen Hsun Lu         0.0         44.0       171.0   \n139             Pablo Andujar       122.0          1.0        31.0   \n351                Radu Albot        60.0         38.0       347.0   \n193             Fabio Fognini       185.0         30.0       242.0   \n111                John Isner         0.0         10.0         6.0   \n160              Gael Monfils        68.0          0.0       255.0   \n419             Gerald Melzer       306.0          0.0        34.0   \n503       Pablo Carreno Busta       241.0          2.0       320.0   \n41              Paolo Lorenzi       337.0          6.0        92.0   \n509           Guido Andreozzi       299.0          5.0        32.0   \n530          Yannick Hanfmann       287.0         19.0       126.0   \n343             Andrej Martin       380.0          5.0        19.0   \n560          Filip Krajinovic       221.0          0.0       250.0   \n1032            Reilly Opelka         6.0          0.0         6.0   \n614          Marco Cecchinato       448.0          5.0        22.0   \n1576            Jannik Sinner       108.0          5.0       172.0   \n1421           Alex De Minaur        28.0         79.0       333.0   \n1315              Jaume Munar       289.0          0.0        85.0   \n1271              Casper Ruud       393.0          8.0       161.0   \n952          Alexander Bublik        41.0          5.0       118.0   \n709             Lucas Pouille       116.0         16.0       111.0   \n1197           Hubert Hurkacz       137.0         10.0       276.0   \n758              Nick Kyrgios         6.0         12.0        28.0   \n79               Malek Jaziri       112.0         19.0       301.0   \n886             Nicolas Jarry       260.0          0.0        63.0   \n272          Adrian Mannarino        52.0         96.0       300.0   \n\n      w_ace_carpet  w_df_clay  w_df_grass  w_df_hard  w_df_carpet  \\\n192          460.0      244.0       147.0      569.0        569.0   \n154          451.0      269.0        32.0      336.0        336.0   \n0            276.0      389.0        88.0      781.0        781.0   \n35           280.0       27.0        64.0      278.0        278.0   \n766          416.0      100.0        98.0      790.0        790.0   \n679          293.0      412.0        63.0      433.0        433.0   \n188          249.0       84.0        38.0      318.0        318.0   \n1051         389.0      135.0        32.0      560.0        560.0   \n1366         201.0       24.0        75.0      310.0        310.0   \n546          138.0       27.0        26.0      250.0        250.0   \n374           15.0      724.0         0.0       19.0         19.0   \n1150         382.0      210.0        43.0      365.0        365.0   \n259          442.0      102.0        36.0      338.0        338.0   \n265            4.0      425.0         0.0        9.0          9.0   \n1131         182.0      103.0        62.0      207.0        207.0   \n412          376.0       73.0        22.0      328.0        328.0   \n404          375.0       19.0        82.0      360.0        360.0   \n795          100.0      142.0         8.0      113.0        113.0   \n362          161.0      108.0       104.0      295.0        295.0   \n638           38.0      499.0        10.0       58.0         58.0   \n136          101.0      320.0        21.0      119.0        119.0   \n842          406.0       62.0        53.0      260.0        260.0   \n556          261.0      240.0        53.0      424.0        424.0   \n280          290.0       10.0        55.0      210.0        210.0   \n69           171.0        0.0        42.0      143.0        143.0   \n139           31.0      233.0         8.0       51.0         51.0   \n351          347.0      124.0        38.0      309.0        309.0   \n193          242.0      290.0        53.0      488.0        488.0   \n111            6.0       67.0        66.0      266.0        266.0   \n160          255.0      103.0        60.0      481.0        481.0   \n419           34.0      213.0         0.0       33.0         33.0   \n503          320.0      124.0         5.0      241.0        241.0   \n41            92.0      305.0         7.0      179.0        179.0   \n509           32.0      368.0         5.0       76.0         76.0   \n530          126.0      232.0        16.0      124.0        124.0   \n343           19.0      495.0         1.0       19.0         19.0   \n560          250.0      111.0         0.0      135.0        135.0   \n1032           6.0       85.0        16.0      336.0        336.0   \n614           22.0      319.0         6.0       38.0         38.0   \n1576         172.0       73.0         5.0      158.0        158.0   \n1421         333.0       57.0       103.0      367.0        367.0   \n1315          85.0      268.0         0.0       85.0         85.0   \n1271         161.0      319.0         4.0      159.0        159.0   \n952          118.0      151.0       119.0      952.0        952.0   \n709          111.0      131.0        87.0      338.0        338.0   \n1197         276.0      187.0        29.0      399.0        399.0   \n758           28.0       27.0       116.0      404.0        404.0   \n79           301.0       93.0        13.0      301.0        301.0   \n886           63.0      313.0        16.0       91.0         91.0   \n272          300.0       40.0       134.0      258.0        258.0   \n\n      w_svpt_clay  ...  w_SvGms_hard  w_SvGms_carpet  w_bpSaved_clay  \\\n192        9237.0  ...        2583.0          2583.0           445.0   \n154       10917.0  ...        2139.0          2139.0           537.0   \n0          8221.0  ...        2535.0          2535.0           310.0   \n35         1563.0  ...        1943.0          1943.0            57.0   \n766        2496.0  ...        2947.0          2947.0           118.0   \n679       12133.0  ...        2241.0          2241.0           517.0   \n188        2609.0  ...        1394.0          1394.0           126.0   \n1051       5121.0  ...        2411.0          2411.0           261.0   \n1366        712.0  ...        1340.0          1340.0            25.0   \n546         713.0  ...        1330.0          1330.0            49.0   \n374       15625.0  ...          34.0            34.0           816.0   \n1150       8449.0  ...        2473.0          2473.0           329.0   \n259        4686.0  ...        2150.0          2150.0           224.0   \n265       11788.0  ...          32.0            32.0           684.0   \n1131       4973.0  ...        1446.0          1446.0           196.0   \n412        1748.0  ...        1717.0          1717.0            96.0   \n404        1086.0  ...        1740.0          1740.0            63.0   \n795        5532.0  ...         942.0           942.0           277.0   \n362        2567.0  ...        1346.0          1346.0           106.0   \n638       13923.0  ...         289.0           289.0           723.0   \n136        9100.0  ...         511.0           511.0           378.0   \n842        2581.0  ...        1659.0          1659.0            90.0   \n556        5070.0  ...        1267.0          1267.0           256.0   \n280         504.0  ...        1390.0          1390.0            25.0   \n69            0.0  ...         710.0           710.0             0.0   \n139        6357.0  ...         213.0           213.0           375.0   \n351        3518.0  ...        1594.0          1594.0           175.0   \n193        6765.0  ...        1424.0          1424.0           343.0   \n111        3257.0  ...        1977.0          1977.0            77.0   \n160        2584.0  ...        1813.0          1813.0           127.0   \n419        6569.0  ...         145.0           145.0           286.0   \n503        7447.0  ...        1591.0          1591.0           365.0   \n41         9770.0  ...         717.0           717.0           511.0   \n509        9920.0  ...         184.0           184.0           529.0   \n530        7132.0  ...         495.0           495.0           322.0   \n343       12477.0  ...          87.0            87.0           749.0   \n560        6639.0  ...        1140.0          1140.0           351.0   \n1032       2378.0  ...        1500.0          1500.0            80.0   \n614       14156.0  ...         181.0           181.0           673.0   \n1576       2823.0  ...         791.0           791.0           127.0   \n1421       1426.0  ...        1777.0          1777.0            84.0   \n1315       9515.0  ...         416.0           416.0           480.0   \n1271      10403.0  ...         770.0           770.0           424.0   \n952        1794.0  ...        1876.0          1876.0           103.0   \n709        3766.0  ...        1332.0          1332.0           196.0   \n1197       3730.0  ...        1609.0          1609.0           161.0   \n758        1458.0  ...        1644.0          1644.0            39.0   \n79         2957.0  ...        1317.0          1317.0           171.0   \n886        8656.0  ...         510.0           510.0           361.0   \n272        1823.0  ...        1466.0          1466.0           106.0   \n\n      w_bpSaved_grass  w_bpSaved_hard  w_bpSaved_carpet  w_bpFaced_clay  \\\n192             152.0           588.0             588.0           654.0   \n154              47.0           450.0             450.0           760.0   \n0                75.0           642.0             642.0           508.0   \n35              150.0           375.0             375.0            81.0   \n766              84.0           710.0             710.0           180.0   \n679              47.0           542.0             542.0           765.0   \n188              88.0           343.0             343.0           181.0   \n1051             42.0           629.0             629.0           405.0   \n1366             88.0           362.0             362.0            48.0   \n546              63.0           314.0             314.0            62.0   \n374               0.0            32.0              32.0          1196.0   \n1150             31.0           502.0             502.0           487.0   \n259              91.0           565.0             565.0           336.0   \n265               0.0            11.0              11.0          1059.0   \n1131             86.0           347.0             347.0           251.0   \n412              45.0           468.0             468.0           143.0   \n404             175.0           530.0             530.0            83.0   \n795              14.0           203.0             203.0           388.0   \n362             110.0           292.0             292.0           150.0   \n638              10.0            73.0              73.0          1092.0   \n136              34.0           116.0             116.0           557.0   \n842             118.0           478.0             478.0           151.0   \n556              60.0           379.0             379.0           405.0   \n280             113.0           387.0             387.0            39.0   \n69               56.0           134.0             134.0             0.0   \n139              10.0            55.0              55.0           567.0   \n351              59.0           515.0             515.0           280.0   \n193              32.0           454.0             454.0           530.0   \n111              52.0           277.0             277.0            96.0   \n160              55.0           383.0             383.0           184.0   \n419               0.0            60.0              60.0           409.0   \n503              17.0           453.0             453.0           550.0   \n41               14.0           216.0             216.0           797.0   \n509               1.0            82.0              82.0           803.0   \n530              19.0           120.0             120.0           464.0   \n343               4.0            23.0              23.0          1141.0   \n560               0.0           359.0             359.0           523.0   \n1032             20.0           222.0             222.0           108.0   \n614               2.0            32.0              32.0           996.0   \n1576              3.0           274.0             274.0           204.0   \n1421            122.0           460.0             460.0           117.0   \n1315              0.0           112.0             112.0           748.0   \n1271              3.0           173.0             173.0           613.0   \n952              56.0           529.0             529.0           163.0   \n709              82.0           350.0             350.0           288.0   \n1197             34.0           520.0             520.0           242.0   \n758              77.0           299.0             299.0            50.0   \n79               15.0           408.0             408.0           240.0   \n886              26.0           121.0             121.0           494.0   \n272             169.0           413.0             413.0           165.0   \n\n      w_bpFaced_grass  w_bpFaced_hard  w_bpFaced_carpet  \n192             208.0           859.0             859.0  \n154              64.0           647.0             647.0  \n0               102.0           915.0             915.0  \n35              196.0           529.0             529.0  \n766             123.0          1030.0            1030.0  \n679              60.0           805.0             805.0  \n188             128.0           522.0             522.0  \n1051             68.0           901.0             901.0  \n1366            118.0           480.0             480.0  \n546              76.0           425.0             425.0  \n374               0.0            44.0              44.0  \n1150             50.0           696.0             696.0  \n259             125.0           844.0             844.0  \n265               0.0            15.0              15.0  \n1131            105.0           460.0             460.0  \n412              61.0           683.0             683.0  \n404             236.0           774.0             774.0  \n795              17.0           279.0             279.0  \n362             151.0           372.0             372.0  \n638              15.0           114.0             114.0  \n136              48.0           163.0             163.0  \n842             165.0           689.0             689.0  \n556              81.0           597.0             597.0  \n280             150.0           602.0             602.0  \n69               69.0           205.0             205.0  \n139              19.0            88.0              88.0  \n351              93.0           770.0             770.0  \n193              60.0           717.0             717.0  \n111              60.0           343.0             343.0  \n160              82.0           585.0             585.0  \n419               0.0            81.0              81.0  \n503              18.0           645.0             645.0  \n41               18.0           320.0             320.0  \n509               1.0           118.0             118.0  \n530              30.0           167.0             167.0  \n343               4.0            39.0              39.0  \n560               0.0           514.0             514.0  \n1032             23.0           293.0             293.0  \n614               5.0            50.0              50.0  \n1576              6.0           381.0             381.0  \n1421            167.0           685.0             685.0  \n1315              0.0           165.0             165.0  \n1271              4.0           247.0             247.0  \n952              86.0           774.0             774.0  \n709             114.0           502.0             502.0  \n1197             46.0           704.0             704.0  \n758             120.0           389.0             389.0  \n79               19.0           600.0             600.0  \n886              36.0           155.0             155.0  \n272             265.0           595.0             595.0  \n\n[50 rows x 37 columns]",
      "text/html": "<div>\n<style scoped>\n    .dataframe tbody tr th:only-of-type {\n        vertical-align: middle;\n    }\n\n    .dataframe tbody tr th {\n        vertical-align: top;\n    }\n\n    .dataframe thead th {\n        text-align: right;\n    }\n</style>\n<table border=\"1\" class=\"dataframe\">\n  <thead>\n    <tr style=\"text-align: right;\">\n      <th></th>\n      <th>Name</th>\n      <th>w_ace_clay</th>\n      <th>w_ace_grass</th>\n      <th>w_ace_hard</th>\n      <th>w_ace_carpet</th>\n      <th>w_df_clay</th>\n      <th>w_df_grass</th>\n      <th>w_df_hard</th>\n      <th>w_df_carpet</th>\n      <th>w_svpt_clay</th>\n      <th>...</th>\n      <th>w_SvGms_hard</th>\n      <th>w_SvGms_carpet</th>\n      <th>w_bpSaved_clay</th>\n      <th>w_bpSaved_grass</th>\n      <th>w_bpSaved_hard</th>\n      <th>w_bpSaved_carpet</th>\n      <th>w_bpFaced_clay</th>\n      <th>w_bpFaced_grass</th>\n      <th>w_bpFaced_hard</th>\n      <th>w_bpFaced_carpet</th>\n    </tr>\n  </thead>\n  <tbody>\n    <tr>\n      <th>192</th>\n      <td>Novak Djokovic</td>\n      <td>312.0</td>\n      <td>107.0</td>\n      <td>460.0</td>\n      <td>460.0</td>\n      <td>244.0</td>\n      <td>147.0</td>\n      <td>569.0</td>\n      <td>569.0</td>\n      <td>9237.0</td>\n      <td>...</td>\n      <td>2583.0</td>\n      <td>2583.0</td>\n      <td>445.0</td>\n      <td>152.0</td>\n      <td>588.0</td>\n      <td>588.0</td>\n      <td>654.0</td>\n      <td>208.0</td>\n      <td>859.0</td>\n      <td>859.0</td>\n    </tr>\n    <tr>\n      <th>154</th>\n      <td>Rafael Nadal</td>\n      <td>330.0</td>\n      <td>35.0</td>\n      <td>451.0</td>\n      <td>451.0</td>\n      <td>269.0</td>\n      <td>32.0</td>\n      <td>336.0</td>\n      <td>336.0</td>\n      <td>10917.0</td>\n      <td>...</td>\n      <td>2139.0</td>\n      <td>2139.0</td>\n      <td>537.0</td>\n      <td>47.0</td>\n      <td>450.0</td>\n      <td>450.0</td>\n      <td>760.0</td>\n      <td>64.0</td>\n      <td>647.0</td>\n      <td>647.0</td>\n    </tr>\n    <tr>\n      <th>0</th>\n      <td>Alexander Zverev</td>\n      <td>245.0</td>\n      <td>11.0</td>\n      <td>276.0</td>\n      <td>276.0</td>\n      <td>389.0</td>\n      <td>88.0</td>\n      <td>781.0</td>\n      <td>781.0</td>\n      <td>8221.0</td>\n      <td>...</td>\n      <td>2535.0</td>\n      <td>2535.0</td>\n      <td>310.0</td>\n      <td>75.0</td>\n      <td>642.0</td>\n      <td>642.0</td>\n      <td>508.0</td>\n      <td>102.0</td>\n      <td>915.0</td>\n      <td>915.0</td>\n    </tr>\n    <tr>\n      <th>35</th>\n      <td>Roger Federer</td>\n      <td>52.0</td>\n      <td>107.0</td>\n      <td>280.0</td>\n      <td>280.0</td>\n      <td>27.0</td>\n      <td>64.0</td>\n      <td>278.0</td>\n      <td>278.0</td>\n      <td>1563.0</td>\n      <td>...</td>\n      <td>1943.0</td>\n      <td>1943.0</td>\n      <td>57.0</td>\n      <td>150.0</td>\n      <td>375.0</td>\n      <td>375.0</td>\n      <td>81.0</td>\n      <td>196.0</td>\n      <td>529.0</td>\n      <td>529.0</td>\n    </tr>\n    <tr>\n      <th>766</th>\n      <td>Daniil Medvedev</td>\n      <td>89.0</td>\n      <td>44.0</td>\n      <td>416.0</td>\n      <td>416.0</td>\n      <td>100.0</td>\n      <td>98.0</td>\n      <td>790.0</td>\n      <td>790.0</td>\n      <td>2496.0</td>\n      <td>...</td>\n      <td>2947.0</td>\n      <td>2947.0</td>\n      <td>118.0</td>\n      <td>84.0</td>\n      <td>710.0</td>\n      <td>710.0</td>\n      <td>180.0</td>\n      <td>123.0</td>\n      <td>1030.0</td>\n      <td>1030.0</td>\n    </tr>\n    <tr>\n      <th>679</th>\n      <td>Dominic Thiem</td>\n      <td>471.0</td>\n      <td>15.0</td>\n      <td>293.0</td>\n      <td>293.0</td>\n      <td>412.0</td>\n      <td>63.0</td>\n      <td>433.0</td>\n      <td>433.0</td>\n      <td>12133.0</td>\n      <td>...</td>\n      <td>2241.0</td>\n      <td>2241.0</td>\n      <td>517.0</td>\n      <td>47.0</td>\n      <td>542.0</td>\n      <td>542.0</td>\n      <td>765.0</td>\n      <td>60.0</td>\n      <td>805.0</td>\n      <td>805.0</td>\n    </tr>\n    <tr>\n      <th>188</th>\n      <td>Andy Murray</td>\n      <td>72.0</td>\n      <td>40.0</td>\n      <td>249.0</td>\n      <td>249.0</td>\n      <td>84.0</td>\n      <td>38.0</td>\n      <td>318.0</td>\n      <td>318.0</td>\n      <td>2609.0</td>\n      <td>...</td>\n      <td>1394.0</td>\n      <td>1394.0</td>\n      <td>126.0</td>\n      <td>88.0</td>\n      <td>343.0</td>\n      <td>343.0</td>\n      <td>181.0</td>\n      <td>128.0</td>\n      <td>522.0</td>\n      <td>522.0</td>\n    </tr>\n    <tr>\n      <th>1051</th>\n      <td>Andrey Rublev</td>\n      <td>136.0</td>\n      <td>34.0</td>\n      <td>389.0</td>\n      <td>389.0</td>\n      <td>135.0</td>\n      <td>32.0</td>\n      <td>560.0</td>\n      <td>560.0</td>\n      <td>5121.0</td>\n      <td>...</td>\n      <td>2411.0</td>\n      <td>2411.0</td>\n      <td>261.0</td>\n      <td>42.0</td>\n      <td>629.0</td>\n      <td>629.0</td>\n      <td>405.0</td>\n      <td>68.0</td>\n      <td>901.0</td>\n      <td>901.0</td>\n    </tr>\n    <tr>\n      <th>1366</th>\n      <td>Ugo Humbert</td>\n      <td>25.0</td>\n      <td>10.0</td>\n      <td>201.0</td>\n      <td>201.0</td>\n      <td>24.0</td>\n      <td>75.0</td>\n      <td>310.0</td>\n      <td>310.0</td>\n      <td>712.0</td>\n      <td>...</td>\n      <td>1340.0</td>\n      <td>1340.0</td>\n      <td>25.0</td>\n      <td>88.0</td>\n      <td>362.0</td>\n      <td>362.0</td>\n      <td>48.0</td>\n      <td>118.0</td>\n      <td>480.0</td>\n      <td>480.0</td>\n    </tr>\n    <tr>\n      <th>546</th>\n      <td>James Duckworth</td>\n      <td>20.0</td>\n      <td>19.0</td>\n      <td>138.0</td>\n      <td>138.0</td>\n      <td>27.0</td>\n      <td>26.0</td>\n      <td>250.0</td>\n      <td>250.0</td>\n      <td>713.0</td>\n      <td>...</td>\n      <td>1330.0</td>\n      <td>1330.0</td>\n      <td>49.0</td>\n      <td>63.0</td>\n      <td>314.0</td>\n      <td>314.0</td>\n      <td>62.0</td>\n      <td>76.0</td>\n      <td>425.0</td>\n      <td>425.0</td>\n    </tr>\n    <tr>\n      <th>374</th>\n      <td>Facundo Bagnis</td>\n      <td>581.0</td>\n      <td>0.0</td>\n      <td>15.0</td>\n      <td>15.0</td>\n      <td>724.0</td>\n      <td>0.0</td>\n      <td>19.0</td>\n      <td>19.0</td>\n      <td>15625.0</td>\n      <td>...</td>\n      <td>34.0</td>\n      <td>34.0</td>\n      <td>816.0</td>\n      <td>0.0</td>\n      <td>32.0</td>\n      <td>32.0</td>\n      <td>1196.0</td>\n      <td>0.0</td>\n      <td>44.0</td>\n      <td>44.0</td>\n    </tr>\n    <tr>\n      <th>1150</th>\n      <td>Stefanos Tsitsipas</td>\n      <td>323.0</td>\n      <td>15.0</td>\n      <td>382.0</td>\n      <td>382.0</td>\n      <td>210.0</td>\n      <td>43.0</td>\n      <td>365.0</td>\n      <td>365.0</td>\n      <td>8449.0</td>\n      <td>...</td>\n      <td>2473.0</td>\n      <td>2473.0</td>\n      <td>329.0</td>\n      <td>31.0</td>\n      <td>502.0</td>\n      <td>502.0</td>\n      <td>487.0</td>\n      <td>50.0</td>\n      <td>696.0</td>\n      <td>696.0</td>\n    </tr>\n    <tr>\n      <th>259</th>\n      <td>Roberto Bautista Agut</td>\n      <td>149.0</td>\n      <td>81.0</td>\n      <td>442.0</td>\n      <td>442.0</td>\n      <td>102.0</td>\n      <td>36.0</td>\n      <td>338.0</td>\n      <td>338.0</td>\n      <td>4686.0</td>\n      <td>...</td>\n      <td>2150.0</td>\n      <td>2150.0</td>\n      <td>224.0</td>\n      <td>91.0</td>\n      <td>565.0</td>\n      <td>565.0</td>\n      <td>336.0</td>\n      <td>125.0</td>\n      <td>844.0</td>\n      <td>844.0</td>\n    </tr>\n    <tr>\n      <th>265</th>\n      <td>Pedro Sousa</td>\n      <td>267.0</td>\n      <td>0.0</td>\n      <td>4.0</td>\n      <td>4.0</td>\n      <td>425.0</td>\n      <td>0.0</td>\n      <td>9.0</td>\n      <td>9.0</td>\n      <td>11788.0</td>\n      <td>...</td>\n      <td>32.0</td>\n      <td>32.0</td>\n      <td>684.0</td>\n      <td>0.0</td>\n      <td>11.0</td>\n      <td>11.0</td>\n      <td>1059.0</td>\n      <td>0.0</td>\n      <td>15.0</td>\n      <td>15.0</td>\n    </tr>\n    <tr>\n      <th>1131</th>\n      <td>Matteo Berrettini</td>\n      <td>203.0</td>\n      <td>23.0</td>\n      <td>182.0</td>\n      <td>182.0</td>\n      <td>103.0</td>\n      <td>62.0</td>\n      <td>207.0</td>\n      <td>207.0</td>\n      <td>4973.0</td>\n      <td>...</td>\n      <td>1446.0</td>\n      <td>1446.0</td>\n      <td>196.0</td>\n      <td>86.0</td>\n      <td>347.0</td>\n      <td>347.0</td>\n      <td>251.0</td>\n      <td>105.0</td>\n      <td>460.0</td>\n      <td>460.0</td>\n    </tr>\n    <tr>\n      <th>412</th>\n      <td>Ricardas Berankis</td>\n      <td>34.0</td>\n      <td>26.0</td>\n      <td>376.0</td>\n      <td>376.0</td>\n      <td>73.0</td>\n      <td>22.0</td>\n      <td>328.0</td>\n      <td>328.0</td>\n      <td>1748.0</td>\n      <td>...</td>\n      <td>1717.0</td>\n      <td>1717.0</td>\n      <td>96.0</td>\n      <td>45.0</td>\n      <td>468.0</td>\n      <td>468.0</td>\n      <td>143.0</td>\n      <td>61.0</td>\n      <td>683.0</td>\n      <td>683.0</td>\n    </tr>\n    <tr>\n      <th>404</th>\n      <td>Daniel Evans</td>\n      <td>25.0</td>\n      <td>107.0</td>\n      <td>375.0</td>\n      <td>375.0</td>\n      <td>19.0</td>\n      <td>82.0</td>\n      <td>360.0</td>\n      <td>360.0</td>\n      <td>1086.0</td>\n      <td>...</td>\n      <td>1740.0</td>\n      <td>1740.0</td>\n      <td>63.0</td>\n      <td>175.0</td>\n      <td>530.0</td>\n      <td>530.0</td>\n      <td>83.0</td>\n      <td>236.0</td>\n      <td>774.0</td>\n      <td>774.0</td>\n    </tr>\n    <tr>\n      <th>795</th>\n      <td>Maximilian Marterer</td>\n      <td>204.0</td>\n      <td>8.0</td>\n      <td>100.0</td>\n      <td>100.0</td>\n      <td>142.0</td>\n      <td>8.0</td>\n      <td>113.0</td>\n      <td>113.0</td>\n      <td>5532.0</td>\n      <td>...</td>\n      <td>942.0</td>\n      <td>942.0</td>\n      <td>277.0</td>\n      <td>14.0</td>\n      <td>203.0</td>\n      <td>203.0</td>\n      <td>388.0</td>\n      <td>17.0</td>\n      <td>279.0</td>\n      <td>279.0</td>\n    </tr>\n    <tr>\n      <th>362</th>\n      <td>Steve Johnson</td>\n      <td>60.0</td>\n      <td>22.0</td>\n      <td>161.0</td>\n      <td>161.0</td>\n      <td>108.0</td>\n      <td>104.0</td>\n      <td>295.0</td>\n      <td>295.0</td>\n      <td>2567.0</td>\n      <td>...</td>\n      <td>1346.0</td>\n      <td>1346.0</td>\n      <td>106.0</td>\n      <td>110.0</td>\n      <td>292.0</td>\n      <td>292.0</td>\n      <td>150.0</td>\n      <td>151.0</td>\n      <td>372.0</td>\n      <td>372.0</td>\n    </tr>\n    <tr>\n      <th>638</th>\n      <td>Roberto Carballes Baena</td>\n      <td>395.0</td>\n      <td>8.0</td>\n      <td>38.0</td>\n      <td>38.0</td>\n      <td>499.0</td>\n      <td>10.0</td>\n      <td>58.0</td>\n      <td>58.0</td>\n      <td>13923.0</td>\n      <td>...</td>\n      <td>289.0</td>\n      <td>289.0</td>\n      <td>723.0</td>\n      <td>10.0</td>\n      <td>73.0</td>\n      <td>73.0</td>\n      <td>1092.0</td>\n      <td>15.0</td>\n      <td>114.0</td>\n      <td>114.0</td>\n    </tr>\n    <tr>\n      <th>136</th>\n      <td>Pablo Cuevas</td>\n      <td>265.0</td>\n      <td>0.0</td>\n      <td>101.0</td>\n      <td>101.0</td>\n      <td>320.0</td>\n      <td>21.0</td>\n      <td>119.0</td>\n      <td>119.0</td>\n      <td>9100.0</td>\n      <td>...</td>\n      <td>511.0</td>\n      <td>511.0</td>\n      <td>378.0</td>\n      <td>34.0</td>\n      <td>116.0</td>\n      <td>116.0</td>\n      <td>557.0</td>\n      <td>48.0</td>\n      <td>163.0</td>\n      <td>163.0</td>\n    </tr>\n    <tr>\n      <th>842</th>\n      <td>Jordan Thompson</td>\n      <td>93.0</td>\n      <td>70.0</td>\n      <td>406.0</td>\n      <td>406.0</td>\n      <td>62.0</td>\n      <td>53.0</td>\n      <td>260.0</td>\n      <td>260.0</td>\n      <td>2581.0</td>\n      <td>...</td>\n      <td>1659.0</td>\n      <td>1659.0</td>\n      <td>90.0</td>\n      <td>118.0</td>\n      <td>478.0</td>\n      <td>478.0</td>\n      <td>151.0</td>\n      <td>165.0</td>\n      <td>689.0</td>\n      <td>689.0</td>\n    </tr>\n    <tr>\n      <th>556</th>\n      <td>Nikoloz Basilashvili</td>\n      <td>164.0</td>\n      <td>35.0</td>\n      <td>261.0</td>\n      <td>261.0</td>\n      <td>240.0</td>\n      <td>53.0</td>\n      <td>424.0</td>\n      <td>424.0</td>\n      <td>5070.0</td>\n      <td>...</td>\n      <td>1267.0</td>\n      <td>1267.0</td>\n      <td>256.0</td>\n      <td>60.0</td>\n      <td>379.0</td>\n      <td>379.0</td>\n      <td>405.0</td>\n      <td>81.0</td>\n      <td>597.0</td>\n      <td>597.0</td>\n    </tr>\n    <tr>\n      <th>280</th>\n      <td>Yuichi Sugita</td>\n      <td>14.0</td>\n      <td>115.0</td>\n      <td>290.0</td>\n      <td>290.0</td>\n      <td>10.0</td>\n      <td>55.0</td>\n      <td>210.0</td>\n      <td>210.0</td>\n      <td>504.0</td>\n      <td>...</td>\n      <td>1390.0</td>\n      <td>1390.0</td>\n      <td>25.0</td>\n      <td>113.0</td>\n      <td>387.0</td>\n      <td>387.0</td>\n      <td>39.0</td>\n      <td>150.0</td>\n      <td>602.0</td>\n      <td>602.0</td>\n    </tr>\n    <tr>\n      <th>69</th>\n      <td>Yen Hsun Lu</td>\n      <td>0.0</td>\n      <td>44.0</td>\n      <td>171.0</td>\n      <td>171.0</td>\n      <td>0.0</td>\n      <td>42.0</td>\n      <td>143.0</td>\n      <td>143.0</td>\n      <td>0.0</td>\n      <td>...</td>\n      <td>710.0</td>\n      <td>710.0</td>\n      <td>0.0</td>\n      <td>56.0</td>\n      <td>134.0</td>\n      <td>134.0</td>\n      <td>0.0</td>\n      <td>69.0</td>\n      <td>205.0</td>\n      <td>205.0</td>\n    </tr>\n    <tr>\n      <th>139</th>\n      <td>Pablo Andujar</td>\n      <td>122.0</td>\n      <td>1.0</td>\n      <td>31.0</td>\n      <td>31.0</td>\n      <td>233.0</td>\n      <td>8.0</td>\n      <td>51.0</td>\n      <td>51.0</td>\n      <td>6357.0</td>\n      <td>...</td>\n      <td>213.0</td>\n      <td>213.0</td>\n      <td>375.0</td>\n      <td>10.0</td>\n      <td>55.0</td>\n      <td>55.0</td>\n      <td>567.0</td>\n      <td>19.0</td>\n      <td>88.0</td>\n      <td>88.0</td>\n    </tr>\n    <tr>\n      <th>351</th>\n      <td>Radu Albot</td>\n      <td>60.0</td>\n      <td>38.0</td>\n      <td>347.0</td>\n      <td>347.0</td>\n      <td>124.0</td>\n      <td>38.0</td>\n      <td>309.0</td>\n      <td>309.0</td>\n      <td>3518.0</td>\n      <td>...</td>\n      <td>1594.0</td>\n      <td>1594.0</td>\n      <td>175.0</td>\n      <td>59.0</td>\n      <td>515.0</td>\n      <td>515.0</td>\n      <td>280.0</td>\n      <td>93.0</td>\n      <td>770.0</td>\n      <td>770.0</td>\n    </tr>\n    <tr>\n      <th>193</th>\n      <td>Fabio Fognini</td>\n      <td>185.0</td>\n      <td>30.0</td>\n      <td>242.0</td>\n      <td>242.0</td>\n      <td>290.0</td>\n      <td>53.0</td>\n      <td>488.0</td>\n      <td>488.0</td>\n      <td>6765.0</td>\n      <td>...</td>\n      <td>1424.0</td>\n      <td>1424.0</td>\n      <td>343.0</td>\n      <td>32.0</td>\n      <td>454.0</td>\n      <td>454.0</td>\n      <td>530.0</td>\n      <td>60.0</td>\n      <td>717.0</td>\n      <td>717.0</td>\n    </tr>\n    <tr>\n      <th>111</th>\n      <td>John Isner</td>\n      <td>0.0</td>\n      <td>10.0</td>\n      <td>6.0</td>\n      <td>6.0</td>\n      <td>67.0</td>\n      <td>66.0</td>\n      <td>266.0</td>\n      <td>266.0</td>\n      <td>3257.0</td>\n      <td>...</td>\n      <td>1977.0</td>\n      <td>1977.0</td>\n      <td>77.0</td>\n      <td>52.0</td>\n      <td>277.0</td>\n      <td>277.0</td>\n      <td>96.0</td>\n      <td>60.0</td>\n      <td>343.0</td>\n      <td>343.0</td>\n    </tr>\n    <tr>\n      <th>160</th>\n      <td>Gael Monfils</td>\n      <td>68.0</td>\n      <td>0.0</td>\n      <td>255.0</td>\n      <td>255.0</td>\n      <td>103.0</td>\n      <td>60.0</td>\n      <td>481.0</td>\n      <td>481.0</td>\n      <td>2584.0</td>\n      <td>...</td>\n      <td>1813.0</td>\n      <td>1813.0</td>\n      <td>127.0</td>\n      <td>55.0</td>\n      <td>383.0</td>\n      <td>383.0</td>\n      <td>184.0</td>\n      <td>82.0</td>\n      <td>585.0</td>\n      <td>585.0</td>\n    </tr>\n    <tr>\n      <th>419</th>\n      <td>Gerald Melzer</td>\n      <td>306.0</td>\n      <td>0.0</td>\n      <td>34.0</td>\n      <td>34.0</td>\n      <td>213.0</td>\n      <td>0.0</td>\n      <td>33.0</td>\n      <td>33.0</td>\n      <td>6569.0</td>\n      <td>...</td>\n      <td>145.0</td>\n      <td>145.0</td>\n      <td>286.0</td>\n      <td>0.0</td>\n      <td>60.0</td>\n      <td>60.0</td>\n      <td>409.0</td>\n      <td>0.0</td>\n      <td>81.0</td>\n      <td>81.0</td>\n    </tr>\n    <tr>\n      <th>503</th>\n      <td>Pablo Carreno Busta</td>\n      <td>241.0</td>\n      <td>2.0</td>\n      <td>320.0</td>\n      <td>320.0</td>\n      <td>124.0</td>\n      <td>5.0</td>\n      <td>241.0</td>\n      <td>241.0</td>\n      <td>7447.0</td>\n      <td>...</td>\n      <td>1591.0</td>\n      <td>1591.0</td>\n      <td>365.0</td>\n      <td>17.0</td>\n      <td>453.0</td>\n      <td>453.0</td>\n      <td>550.0</td>\n      <td>18.0</td>\n      <td>645.0</td>\n      <td>645.0</td>\n    </tr>\n    <tr>\n      <th>41</th>\n      <td>Paolo Lorenzi</td>\n      <td>337.0</td>\n      <td>6.0</td>\n      <td>92.0</td>\n      <td>92.0</td>\n      <td>305.0</td>\n      <td>7.0</td>\n      <td>179.0</td>\n      <td>179.0</td>\n      <td>9770.0</td>\n      <td>...</td>\n      <td>717.0</td>\n      <td>717.0</td>\n      <td>511.0</td>\n      <td>14.0</td>\n      <td>216.0</td>\n      <td>216.0</td>\n      <td>797.0</td>\n      <td>18.0</td>\n      <td>320.0</td>\n      <td>320.0</td>\n    </tr>\n    <tr>\n      <th>509</th>\n      <td>Guido Andreozzi</td>\n      <td>299.0</td>\n      <td>5.0</td>\n      <td>32.0</td>\n      <td>32.0</td>\n      <td>368.0</td>\n      <td>5.0</td>\n      <td>76.0</td>\n      <td>76.0</td>\n      <td>9920.0</td>\n      <td>...</td>\n      <td>184.0</td>\n      <td>184.0</td>\n      <td>529.0</td>\n      <td>1.0</td>\n      <td>82.0</td>\n      <td>82.0</td>\n      <td>803.0</td>\n      <td>1.0</td>\n      <td>118.0</td>\n      <td>118.0</td>\n    </tr>\n    <tr>\n      <th>530</th>\n      <td>Yannick Hanfmann</td>\n      <td>287.0</td>\n      <td>19.0</td>\n      <td>126.0</td>\n      <td>126.0</td>\n      <td>232.0</td>\n      <td>16.0</td>\n      <td>124.0</td>\n      <td>124.0</td>\n      <td>7132.0</td>\n      <td>...</td>\n      <td>495.0</td>\n      <td>495.0</td>\n      <td>322.0</td>\n      <td>19.0</td>\n      <td>120.0</td>\n      <td>120.0</td>\n      <td>464.0</td>\n      <td>30.0</td>\n      <td>167.0</td>\n      <td>167.0</td>\n    </tr>\n    <tr>\n      <th>343</th>\n      <td>Andrej Martin</td>\n      <td>380.0</td>\n      <td>5.0</td>\n      <td>19.0</td>\n      <td>19.0</td>\n      <td>495.0</td>\n      <td>1.0</td>\n      <td>19.0</td>\n      <td>19.0</td>\n      <td>12477.0</td>\n      <td>...</td>\n      <td>87.0</td>\n      <td>87.0</td>\n      <td>749.0</td>\n      <td>4.0</td>\n      <td>23.0</td>\n      <td>23.0</td>\n      <td>1141.0</td>\n      <td>4.0</td>\n      <td>39.0</td>\n      <td>39.0</td>\n    </tr>\n    <tr>\n      <th>560</th>\n      <td>Filip Krajinovic</td>\n      <td>221.0</td>\n      <td>0.0</td>\n      <td>250.0</td>\n      <td>250.0</td>\n      <td>111.0</td>\n      <td>0.0</td>\n      <td>135.0</td>\n      <td>135.0</td>\n      <td>6639.0</td>\n      <td>...</td>\n      <td>1140.0</td>\n      <td>1140.0</td>\n      <td>351.0</td>\n      <td>0.0</td>\n      <td>359.0</td>\n      <td>359.0</td>\n      <td>523.0</td>\n      <td>0.0</td>\n      <td>514.0</td>\n      <td>514.0</td>\n    </tr>\n    <tr>\n      <th>1032</th>\n      <td>Reilly Opelka</td>\n      <td>6.0</td>\n      <td>0.0</td>\n      <td>6.0</td>\n      <td>6.0</td>\n      <td>85.0</td>\n      <td>16.0</td>\n      <td>336.0</td>\n      <td>336.0</td>\n      <td>2378.0</td>\n      <td>...</td>\n      <td>1500.0</td>\n      <td>1500.0</td>\n      <td>80.0</td>\n      <td>20.0</td>\n      <td>222.0</td>\n      <td>222.0</td>\n      <td>108.0</td>\n      <td>23.0</td>\n      <td>293.0</td>\n      <td>293.0</td>\n    </tr>\n    <tr>\n      <th>614</th>\n      <td>Marco Cecchinato</td>\n      <td>448.0</td>\n      <td>5.0</td>\n      <td>22.0</td>\n      <td>22.0</td>\n      <td>319.0</td>\n      <td>6.0</td>\n      <td>38.0</td>\n      <td>38.0</td>\n      <td>14156.0</td>\n      <td>...</td>\n      <td>181.0</td>\n      <td>181.0</td>\n      <td>673.0</td>\n      <td>2.0</td>\n      <td>32.0</td>\n      <td>32.0</td>\n      <td>996.0</td>\n      <td>5.0</td>\n      <td>50.0</td>\n      <td>50.0</td>\n    </tr>\n    <tr>\n      <th>1576</th>\n      <td>Jannik Sinner</td>\n      <td>108.0</td>\n      <td>5.0</td>\n      <td>172.0</td>\n      <td>172.0</td>\n      <td>73.0</td>\n      <td>5.0</td>\n      <td>158.0</td>\n      <td>158.0</td>\n      <td>2823.0</td>\n      <td>...</td>\n      <td>791.0</td>\n      <td>791.0</td>\n      <td>127.0</td>\n      <td>3.0</td>\n      <td>274.0</td>\n      <td>274.0</td>\n      <td>204.0</td>\n      <td>6.0</td>\n      <td>381.0</td>\n      <td>381.0</td>\n    </tr>\n    <tr>\n      <th>1421</th>\n      <td>Alex De Minaur</td>\n      <td>28.0</td>\n      <td>79.0</td>\n      <td>333.0</td>\n      <td>333.0</td>\n      <td>57.0</td>\n      <td>103.0</td>\n      <td>367.0</td>\n      <td>367.0</td>\n      <td>1426.0</td>\n      <td>...</td>\n      <td>1777.0</td>\n      <td>1777.0</td>\n      <td>84.0</td>\n      <td>122.0</td>\n      <td>460.0</td>\n      <td>460.0</td>\n      <td>117.0</td>\n      <td>167.0</td>\n      <td>685.0</td>\n      <td>685.0</td>\n    </tr>\n    <tr>\n      <th>1315</th>\n      <td>Jaume Munar</td>\n      <td>289.0</td>\n      <td>0.0</td>\n      <td>85.0</td>\n      <td>85.0</td>\n      <td>268.0</td>\n      <td>0.0</td>\n      <td>85.0</td>\n      <td>85.0</td>\n      <td>9515.0</td>\n      <td>...</td>\n      <td>416.0</td>\n      <td>416.0</td>\n      <td>480.0</td>\n      <td>0.0</td>\n      <td>112.0</td>\n      <td>112.0</td>\n      <td>748.0</td>\n      <td>0.0</td>\n      <td>165.0</td>\n      <td>165.0</td>\n    </tr>\n    <tr>\n      <th>1271</th>\n      <td>Casper Ruud</td>\n      <td>393.0</td>\n      <td>8.0</td>\n      <td>161.0</td>\n      <td>161.0</td>\n      <td>319.0</td>\n      <td>4.0</td>\n      <td>159.0</td>\n      <td>159.0</td>\n      <td>10403.0</td>\n      <td>...</td>\n      <td>770.0</td>\n      <td>770.0</td>\n      <td>424.0</td>\n      <td>3.0</td>\n      <td>173.0</td>\n      <td>173.0</td>\n      <td>613.0</td>\n      <td>4.0</td>\n      <td>247.0</td>\n      <td>247.0</td>\n    </tr>\n    <tr>\n      <th>952</th>\n      <td>Alexander Bublik</td>\n      <td>41.0</td>\n      <td>5.0</td>\n      <td>118.0</td>\n      <td>118.0</td>\n      <td>151.0</td>\n      <td>119.0</td>\n      <td>952.0</td>\n      <td>952.0</td>\n      <td>1794.0</td>\n      <td>...</td>\n      <td>1876.0</td>\n      <td>1876.0</td>\n      <td>103.0</td>\n      <td>56.0</td>\n      <td>529.0</td>\n      <td>529.0</td>\n      <td>163.0</td>\n      <td>86.0</td>\n      <td>774.0</td>\n      <td>774.0</td>\n    </tr>\n    <tr>\n      <th>709</th>\n      <td>Lucas Pouille</td>\n      <td>116.0</td>\n      <td>16.0</td>\n      <td>111.0</td>\n      <td>111.0</td>\n      <td>131.0</td>\n      <td>87.0</td>\n      <td>338.0</td>\n      <td>338.0</td>\n      <td>3766.0</td>\n      <td>...</td>\n      <td>1332.0</td>\n      <td>1332.0</td>\n      <td>196.0</td>\n      <td>82.0</td>\n      <td>350.0</td>\n      <td>350.0</td>\n      <td>288.0</td>\n      <td>114.0</td>\n      <td>502.0</td>\n      <td>502.0</td>\n    </tr>\n    <tr>\n      <th>1197</th>\n      <td>Hubert Hurkacz</td>\n      <td>137.0</td>\n      <td>10.0</td>\n      <td>276.0</td>\n      <td>276.0</td>\n      <td>187.0</td>\n      <td>29.0</td>\n      <td>399.0</td>\n      <td>399.0</td>\n      <td>3730.0</td>\n      <td>...</td>\n      <td>1609.0</td>\n      <td>1609.0</td>\n      <td>161.0</td>\n      <td>34.0</td>\n      <td>520.0</td>\n      <td>520.0</td>\n      <td>242.0</td>\n      <td>46.0</td>\n      <td>704.0</td>\n      <td>704.0</td>\n    </tr>\n    <tr>\n      <th>758</th>\n      <td>Nick Kyrgios</td>\n      <td>6.0</td>\n      <td>12.0</td>\n      <td>28.0</td>\n      <td>28.0</td>\n      <td>27.0</td>\n      <td>116.0</td>\n      <td>404.0</td>\n      <td>404.0</td>\n      <td>1458.0</td>\n      <td>...</td>\n      <td>1644.0</td>\n      <td>1644.0</td>\n      <td>39.0</td>\n      <td>77.0</td>\n      <td>299.0</td>\n      <td>299.0</td>\n      <td>50.0</td>\n      <td>120.0</td>\n      <td>389.0</td>\n      <td>389.0</td>\n    </tr>\n    <tr>\n      <th>79</th>\n      <td>Malek Jaziri</td>\n      <td>112.0</td>\n      <td>19.0</td>\n      <td>301.0</td>\n      <td>301.0</td>\n      <td>93.0</td>\n      <td>13.0</td>\n      <td>301.0</td>\n      <td>301.0</td>\n      <td>2957.0</td>\n      <td>...</td>\n      <td>1317.0</td>\n      <td>1317.0</td>\n      <td>171.0</td>\n      <td>15.0</td>\n      <td>408.0</td>\n      <td>408.0</td>\n      <td>240.0</td>\n      <td>19.0</td>\n      <td>600.0</td>\n      <td>600.0</td>\n    </tr>\n    <tr>\n      <th>886</th>\n      <td>Nicolas Jarry</td>\n      <td>260.0</td>\n      <td>0.0</td>\n      <td>63.0</td>\n      <td>63.0</td>\n      <td>313.0</td>\n      <td>16.0</td>\n      <td>91.0</td>\n      <td>91.0</td>\n      <td>8656.0</td>\n      <td>...</td>\n      <td>510.0</td>\n      <td>510.0</td>\n      <td>361.0</td>\n      <td>26.0</td>\n      <td>121.0</td>\n      <td>121.0</td>\n      <td>494.0</td>\n      <td>36.0</td>\n      <td>155.0</td>\n      <td>155.0</td>\n    </tr>\n    <tr>\n      <th>272</th>\n      <td>Adrian Mannarino</td>\n      <td>52.0</td>\n      <td>96.0</td>\n      <td>300.0</td>\n      <td>300.0</td>\n      <td>40.0</td>\n      <td>134.0</td>\n      <td>258.0</td>\n      <td>258.0</td>\n      <td>1823.0</td>\n      <td>...</td>\n      <td>1466.0</td>\n      <td>1466.0</td>\n      <td>106.0</td>\n      <td>169.0</td>\n      <td>413.0</td>\n      <td>413.0</td>\n      <td>165.0</td>\n      <td>265.0</td>\n      <td>595.0</td>\n      <td>595.0</td>\n    </tr>\n  </tbody>\n</table>\n<p>50 rows × 37 columns</p>\n</div>"
     },
     "metadata": {}
    }
   ]
  },
  {
   "cell_type": "code",
   "metadata": {
    "tags": [],
    "cell_id": "00023-016ad883-f404-4f9a-b971-0aa474924a17",
    "deepnote_to_be_reexecuted": true,
    "source_hash": "f8958345",
    "execution_start": 1636387487350,
    "execution_millis": 19,
    "deepnote_cell_type": "code"
   },
   "source": "df_top_male_players.to_csv(\"../data/integrations/male_winners_stats_top.csv\", index=False)",
   "execution_count": null,
   "outputs": []
  },
  {
   "cell_type": "code",
   "metadata": {
    "tags": [],
    "cell_id": "00024-6aa31f36-3769-4e65-a0c6-65f56fa649c8",
    "deepnote_to_be_reexecuted": true,
    "source_hash": "624b0967",
    "execution_start": 1636388501688,
    "execution_millis": 104,
    "deepnote_cell_type": "code"
   },
   "source": "male_stats",
   "execution_count": null,
   "outputs": [
    {
     "output_type": "execute_result",
     "execution_count": 15,
     "data": {
      "application/vnd.deepnote.dataframe.v2+json": {
       "row_count": 3018,
       "column_count": 11,
       "columns": [
        {
         "name": "Name",
         "dtype": "object",
         "stats": {
          "unique_count": 3018,
          "nan_count": 0,
          "categories": [
           {
            "name": "Alexander Zverev",
            "count": 1
           },
           {
            "name": "Agustin Moreno",
            "count": 1
           },
           {
            "name": "3016 others",
            "count": 3016
           }
          ]
         }
        },
        {
         "name": "Sex",
         "dtype": "object",
         "stats": {
          "unique_count": 1,
          "nan_count": 0,
          "categories": [
           {
            "name": "M",
            "count": 3018
           }
          ]
         }
        },
        {
         "name": "Hand",
         "dtype": "object",
         "stats": {
          "unique_count": 3,
          "nan_count": 0,
          "categories": [
           {
            "name": "R",
            "count": 1440
           },
           {
            "name": "U",
            "count": 1383
           },
           {
            "name": "L",
            "count": 195
           }
          ]
         }
        },
        {
         "name": "IOC",
         "dtype": "object",
         "stats": {
          "unique_count": 110,
          "nan_count": 0,
          "categories": [
           {
            "name": "USA",
            "count": 285
           },
           {
            "name": "ITA",
            "count": 223
           },
           {
            "name": "108 others",
            "count": 2510
           }
          ]
         }
        },
        {
         "name": "Won_Tournaments",
         "dtype": "float64",
         "stats": {
          "unique_count": 17,
          "nan_count": 0,
          "min": "0.0",
          "max": "27.0",
          "histogram": [
           {
            "bin_start": 0,
            "bin_end": 2.7,
            "count": 2854
           },
           {
            "bin_start": 2.7,
            "bin_end": 5.4,
            "count": 117
           },
           {
            "bin_start": 5.4,
            "bin_end": 8.100000000000001,
            "count": 35
           },
           {
            "bin_start": 8.100000000000001,
            "bin_end": 10.8,
            "count": 5
           },
           {
            "bin_start": 10.8,
            "bin_end": 13.5,
            "count": 1
           },
           {
            "bin_start": 13.5,
            "bin_end": 16.200000000000003,
            "count": 3
           },
           {
            "bin_start": 16.200000000000003,
            "bin_end": 18.900000000000002,
            "count": 1
           },
           {
            "bin_start": 18.900000000000002,
            "bin_end": 21.6,
            "count": 1
           },
           {
            "bin_start": 21.6,
            "bin_end": 24.3,
            "count": 0
           },
           {
            "bin_start": 24.3,
            "bin_end": 27,
            "count": 1
           }
          ]
         }
        },
        {
         "name": "Number_of_Matches",
         "dtype": "float64",
         "stats": {
          "unique_count": 304,
          "nan_count": 0,
          "min": "1.0",
          "max": "384.0",
          "histogram": [
           {
            "bin_start": 1,
            "bin_end": 39.3,
            "count": 2387
           },
           {
            "bin_start": 39.3,
            "bin_end": 77.6,
            "count": 182
           },
           {
            "bin_start": 77.6,
            "bin_end": 115.89999999999999,
            "count": 81
           },
           {
            "bin_start": 115.89999999999999,
            "bin_end": 154.2,
            "count": 61
           },
           {
            "bin_start": 154.2,
            "bin_end": 192.5,
            "count": 68
           },
           {
            "bin_start": 192.5,
            "bin_end": 230.79999999999998,
            "count": 56
           },
           {
            "bin_start": 230.79999999999998,
            "bin_end": 269.09999999999997,
            "count": 62
           },
           {
            "bin_start": 269.09999999999997,
            "bin_end": 307.4,
            "count": 69
           },
           {
            "bin_start": 307.4,
            "bin_end": 345.7,
            "count": 40
           },
           {
            "bin_start": 345.7,
            "bin_end": 384,
            "count": 12
           }
          ]
         }
        },
        {
         "name": "Win_Percentage",
         "dtype": "float64",
         "stats": {
          "unique_count": 633,
          "nan_count": 0,
          "min": "0.0",
          "max": "1.0",
          "histogram": [
           {
            "bin_start": 0,
            "bin_end": 0.1,
            "count": 1305
           },
           {
            "bin_start": 0.1,
            "bin_end": 0.2,
            "count": 86
           },
           {
            "bin_start": 0.2,
            "bin_end": 0.30000000000000004,
            "count": 246
           },
           {
            "bin_start": 0.30000000000000004,
            "bin_end": 0.4,
            "count": 329
           },
           {
            "bin_start": 0.4,
            "bin_end": 0.5,
            "count": 431
           },
           {
            "bin_start": 0.5,
            "bin_end": 0.6000000000000001,
            "count": 507
           },
           {
            "bin_start": 0.6000000000000001,
            "bin_end": 0.7000000000000001,
            "count": 79
           },
           {
            "bin_start": 0.7000000000000001,
            "bin_end": 0.8,
            "count": 11
           },
           {
            "bin_start": 0.8,
            "bin_end": 0.9,
            "count": 5
           },
           {
            "bin_start": 0.9,
            "bin_end": 1,
            "count": 19
           }
          ]
         }
        },
        {
         "name": "best_year_matches",
         "dtype": "float64",
         "stats": {
          "unique_count": 6,
          "nan_count": 0,
          "min": "2016.0",
          "max": "2021.0",
          "histogram": [
           {
            "bin_start": 2016,
            "bin_end": 2016.5,
            "count": 1203
           },
           {
            "bin_start": 2016.5,
            "bin_end": 2017,
            "count": 0
           },
           {
            "bin_start": 2017,
            "bin_end": 2017.5,
            "count": 598
           },
           {
            "bin_start": 2017.5,
            "bin_end": 2018,
            "count": 0
           },
           {
            "bin_start": 2018,
            "bin_end": 2018.5,
            "count": 578
           },
           {
            "bin_start": 2018.5,
            "bin_end": 2019,
            "count": 0
           },
           {
            "bin_start": 2019,
            "bin_end": 2019.5,
            "count": 315
           },
           {
            "bin_start": 2019.5,
            "bin_end": 2020,
            "count": 0
           },
           {
            "bin_start": 2020,
            "bin_end": 2020.5,
            "count": 108
           },
           {
            "bin_start": 2020.5,
            "bin_end": 2021,
            "count": 216
           }
          ]
         }
        },
        {
         "name": "worst_year_matches",
         "dtype": "float64",
         "stats": {
          "unique_count": 6,
          "nan_count": 0,
          "min": "2016.0",
          "max": "2021.0",
          "histogram": [
           {
            "bin_start": 2016,
            "bin_end": 2016.5,
            "count": 1029
           },
           {
            "bin_start": 2016.5,
            "bin_end": 2017,
            "count": 0
           },
           {
            "bin_start": 2017,
            "bin_end": 2017.5,
            "count": 613
           },
           {
            "bin_start": 2017.5,
            "bin_end": 2018,
            "count": 0
           },
           {
            "bin_start": 2018,
            "bin_end": 2018.5,
            "count": 506
           },
           {
            "bin_start": 2018.5,
            "bin_end": 2019,
            "count": 0
           },
           {
            "bin_start": 2019,
            "bin_end": 2019.5,
            "count": 279
           },
           {
            "bin_start": 2019.5,
            "bin_end": 2020,
            "count": 0
           },
           {
            "bin_start": 2020,
            "bin_end": 2020.5,
            "count": 355
           },
           {
            "bin_start": 2020.5,
            "bin_end": 2021,
            "count": 236
           }
          ]
         }
        },
        {
         "name": "best_year_wins",
         "dtype": "float64",
         "stats": {
          "unique_count": 6,
          "nan_count": 1302,
          "min": "2016.0",
          "max": "2021.0",
          "histogram": [
           {
            "bin_start": 2016,
            "bin_end": 2016.5,
            "count": 638
           },
           {
            "bin_start": 2016.5,
            "bin_end": 2017,
            "count": 0
           },
           {
            "bin_start": 2017,
            "bin_end": 2017.5,
            "count": 356
           },
           {
            "bin_start": 2017.5,
            "bin_end": 2018,
            "count": 0
           },
           {
            "bin_start": 2018,
            "bin_end": 2018.5,
            "count": 346
           },
           {
            "bin_start": 2018.5,
            "bin_end": 2019,
            "count": 0
           },
           {
            "bin_start": 2019,
            "bin_end": 2019.5,
            "count": 200
           },
           {
            "bin_start": 2019.5,
            "bin_end": 2020,
            "count": 0
           },
           {
            "bin_start": 2020,
            "bin_end": 2020.5,
            "count": 55
           },
           {
            "bin_start": 2020.5,
            "bin_end": 2021,
            "count": 121
           }
          ]
         }
        },
        {
         "name": "worst_year_wins",
         "dtype": "float64",
         "stats": {
          "unique_count": 6,
          "nan_count": 1302,
          "min": "2016.0",
          "max": "2021.0",
          "histogram": [
           {
            "bin_start": 2016,
            "bin_end": 2016.5,
            "count": 506
           },
           {
            "bin_start": 2016.5,
            "bin_end": 2017,
            "count": 0
           },
           {
            "bin_start": 2017,
            "bin_end": 2017.5,
            "count": 396
           },
           {
            "bin_start": 2017.5,
            "bin_end": 2018,
            "count": 0
           },
           {
            "bin_start": 2018,
            "bin_end": 2018.5,
            "count": 278
           },
           {
            "bin_start": 2018.5,
            "bin_end": 2019,
            "count": 0
           },
           {
            "bin_start": 2019,
            "bin_end": 2019.5,
            "count": 158
           },
           {
            "bin_start": 2019.5,
            "bin_end": 2020,
            "count": 0
           },
           {
            "bin_start": 2020,
            "bin_end": 2020.5,
            "count": 227
           },
           {
            "bin_start": 2020.5,
            "bin_end": 2021,
            "count": 151
           }
          ]
         }
        },
        {
         "name": "_deepnote_index_column",
         "dtype": "int64"
        }
       ],
       "rows_top": [
        {
         "Name": "Alexander Zverev",
         "Sex": "M",
         "Hand": "R",
         "IOC": "GER",
         "Won_Tournaments": 17,
         "Number_of_Matches": 378,
         "Win_Percentage": 0.7063492063492064,
         "best_year_matches": 2017,
         "worst_year_matches": 2020,
         "best_year_wins": 2018,
         "worst_year_wins": 2020,
         "_deepnote_index_column": 0
        },
        {
         "Name": "Agustin Moreno",
         "Sex": "M",
         "Hand": "R",
         "IOC": "MEX",
         "Won_Tournaments": 0,
         "Number_of_Matches": 4,
         "Win_Percentage": 0.25,
         "best_year_matches": 2016,
         "worst_year_matches": 2016,
         "best_year_wins": 2016,
         "worst_year_wins": 2016,
         "_deepnote_index_column": 1
        },
        {
         "Name": "Martin Damm",
         "Sex": "M",
         "Hand": "L",
         "IOC": "USA",
         "Won_Tournaments": 0,
         "Number_of_Matches": 7,
         "Win_Percentage": 0.2857142857142857,
         "best_year_matches": 2021,
         "worst_year_matches": 2018,
         "best_year_wins": 2021,
         "worst_year_wins": 2021,
         "_deepnote_index_column": 2
        },
        {
         "Name": "Gergely Kisgyorgy",
         "Sex": "M",
         "Hand": "R",
         "IOC": "HUN",
         "Won_Tournaments": 0,
         "Number_of_Matches": 2,
         "Win_Percentage": 0.5,
         "best_year_matches": 2016,
         "worst_year_matches": 2016,
         "best_year_wins": 2016,
         "worst_year_wins": 2016,
         "_deepnote_index_column": 3
        },
        {
         "Name": "Frank Moser",
         "Sex": "M",
         "Hand": "R",
         "IOC": "GER",
         "Won_Tournaments": 0,
         "Number_of_Matches": 11,
         "Win_Percentage": 0.4545454545454545,
         "best_year_matches": 2016,
         "worst_year_matches": 2017,
         "best_year_wins": 2016,
         "worst_year_wins": 2016,
         "_deepnote_index_column": 4
        },
        {
         "Name": "Konstantinos Economidis",
         "Sex": "M",
         "Hand": "R",
         "IOC": "GRE",
         "Won_Tournaments": 0,
         "Number_of_Matches": 4,
         "Win_Percentage": 0.25,
         "best_year_matches": 2016,
         "worst_year_matches": 2016,
         "best_year_wins": 2016,
         "worst_year_wins": 2016,
         "_deepnote_index_column": 5
        },
        {
         "Name": "Ruben Ramirez Hidalgo",
         "Sex": "M",
         "Hand": "R",
         "IOC": "ESP",
         "Won_Tournaments": 0,
         "Number_of_Matches": 94,
         "Win_Percentage": 0.5,
         "best_year_matches": 2016,
         "worst_year_matches": 2019,
         "best_year_wins": 2016,
         "worst_year_wins": 2017,
         "_deepnote_index_column": 6
        },
        {
         "Name": "Tommy Haas",
         "Sex": "M",
         "Hand": "R",
         "IOC": "GER",
         "Won_Tournaments": 0,
         "Number_of_Matches": 20,
         "Win_Percentage": 0.3,
         "best_year_matches": 2017,
         "worst_year_matches": 2017,
         "best_year_wins": 2017,
         "worst_year_wins": 2017,
         "_deepnote_index_column": 7
        },
        {
         "Name": "Toshihide Matsui",
         "Sex": "M",
         "Hand": "R",
         "IOC": "JPN",
         "Won_Tournaments": 0,
         "Number_of_Matches": 55,
         "Win_Percentage": 0.3636363636363636,
         "best_year_matches": 2017,
         "worst_year_matches": 2020,
         "best_year_wins": 2019,
         "worst_year_wins": 2018,
         "_deepnote_index_column": 8
        },
        {
         "Name": "Radek Stepanek",
         "Sex": "M",
         "Hand": "R",
         "IOC": "CZE",
         "Won_Tournaments": 0,
         "Number_of_Matches": 57,
         "Win_Percentage": 0.7017543859649122,
         "best_year_matches": 2016,
         "worst_year_matches": 2017,
         "best_year_wins": 2016,
         "worst_year_wins": 2017,
         "_deepnote_index_column": 9
        },
        {
         "Name": "Alessandro Motti",
         "Sex": "M",
         "Hand": "L",
         "IOC": "ITA",
         "Won_Tournaments": 0,
         "Number_of_Matches": 4,
         "Win_Percentage": 0.25,
         "best_year_matches": 2016,
         "worst_year_matches": 2018,
         "best_year_wins": 2016,
         "worst_year_wins": 2016,
         "_deepnote_index_column": 10
        },
        {
         "Name": "Ivo Karlovic",
         "Sex": "M",
         "Hand": "R",
         "IOC": "CRO",
         "Won_Tournaments": 3,
         "Number_of_Matches": 205,
         "Win_Percentage": 0.4926829268292683,
         "best_year_matches": 2016,
         "worst_year_matches": 2021,
         "best_year_wins": 2016,
         "worst_year_wins": 2020,
         "_deepnote_index_column": 11
        },
        {
         "Name": "Jan Hernych",
         "Sex": "M",
         "Hand": "R",
         "IOC": "CZE",
         "Won_Tournaments": 0,
         "Number_of_Matches": 21,
         "Win_Percentage": 0.5714285714285714,
         "best_year_matches": 2016,
         "worst_year_matches": 2018,
         "best_year_wins": 2016,
         "worst_year_wins": 2016,
         "_deepnote_index_column": 12
        },
        {
         "Name": "Aqeel Khan",
         "Sex": "M",
         "Hand": "R",
         "IOC": "PAK",
         "Won_Tournaments": 0,
         "Number_of_Matches": 8,
         "Win_Percentage": 0.75,
         "best_year_matches": 2017,
         "worst_year_matches": 2016,
         "best_year_wins": 2017,
         "worst_year_wins": 2020,
         "_deepnote_index_column": 13
        },
        {
         "Name": "Rohan Bopanna",
         "Sex": "M",
         "Hand": "R",
         "IOC": "IND",
         "Won_Tournaments": 0,
         "Number_of_Matches": 2,
         "Win_Percentage": 0.5,
         "best_year_matches": 2016,
         "worst_year_matches": 2016,
         "best_year_wins": 2016,
         "worst_year_wins": 2016,
         "_deepnote_index_column": 14
        },
        {
         "Name": "Aisam Ul Haq Qureshi",
         "Sex": "M",
         "Hand": "R",
         "IOC": "PAK",
         "Won_Tournaments": 0,
         "Number_of_Matches": 8,
         "Win_Percentage": 0.5,
         "best_year_matches": 2017,
         "worst_year_matches": 2020,
         "best_year_wins": 2017,
         "worst_year_wins": 2018,
         "_deepnote_index_column": 15
        },
        {
         "Name": "Thomas Oger",
         "Sex": "M",
         "Hand": "U",
         "IOC": "MON",
         "Won_Tournaments": 0,
         "Number_of_Matches": 1,
         "Win_Percentage": 1,
         "best_year_matches": 2017,
         "worst_year_matches": 2017,
         "best_year_wins": 2017,
         "worst_year_wins": 2017,
         "_deepnote_index_column": 16
        },
        {
         "Name": "David Marrero",
         "Sex": "M",
         "Hand": "R",
         "IOC": "ESP",
         "Won_Tournaments": 0,
         "Number_of_Matches": 2,
         "Win_Percentage": 0.5,
         "best_year_matches": 2017,
         "worst_year_matches": 2017,
         "best_year_wins": 2017,
         "worst_year_wins": 2017,
         "_deepnote_index_column": 17
        },
        {
         "Name": "Stephane Robert",
         "Sex": "M",
         "Hand": "R",
         "IOC": "FRA",
         "Won_Tournaments": 3,
         "Number_of_Matches": 194,
         "Win_Percentage": 0.4690721649484536,
         "best_year_matches": 2016,
         "worst_year_matches": 2021,
         "best_year_wins": 2016,
         "worst_year_wins": 2020,
         "_deepnote_index_column": 18
        },
        {
         "Name": "Michael Berrer",
         "Sex": "M",
         "Hand": "L",
         "IOC": "GER",
         "Won_Tournaments": 1,
         "Number_of_Matches": 50,
         "Win_Percentage": 0.48,
         "best_year_matches": 2016,
         "worst_year_matches": 2016,
         "best_year_wins": 2016,
         "worst_year_wins": 2016,
         "_deepnote_index_column": 19
        },
        {
         "Name": "Michael Quintero",
         "Sex": "M",
         "Hand": "R",
         "IOC": "COL",
         "Won_Tournaments": 0,
         "Number_of_Matches": 6,
         "Win_Percentage": 0.1666666666666666,
         "best_year_matches": 2016,
         "worst_year_matches": 2016,
         "best_year_wins": 2016,
         "worst_year_wins": 2016,
         "_deepnote_index_column": 20
        },
        {
         "Name": "Mohammad Ghareeb",
         "Sex": "M",
         "Hand": "R",
         "IOC": "KUW",
         "Won_Tournaments": 0,
         "Number_of_Matches": 2,
         "Win_Percentage": 0.5,
         "best_year_matches": 2016,
         "worst_year_matches": 2016,
         "best_year_wins": 2017,
         "worst_year_wins": 2017,
         "_deepnote_index_column": 21
        },
        {
         "Name": "Victor Estrella",
         "Sex": "M",
         "Hand": "R",
         "IOC": "DOM",
         "Won_Tournaments": 3,
         "Number_of_Matches": 154,
         "Win_Percentage": 0.448051948051948,
         "best_year_matches": 2017,
         "worst_year_matches": 2019,
         "best_year_wins": 2017,
         "worst_year_wins": 2019,
         "_deepnote_index_column": 22
        },
        {
         "Name": "Alexey Kedryuk",
         "Sex": "M",
         "Hand": "R",
         "IOC": "KAZ",
         "Won_Tournaments": 0,
         "Number_of_Matches": 10,
         "Win_Percentage": 0.1,
         "best_year_matches": 2017,
         "worst_year_matches": 2016,
         "best_year_wins": 2016,
         "worst_year_wins": 2016,
         "_deepnote_index_column": 23
        },
        {
         "Name": "Lauri Kiiski",
         "Sex": "M",
         "Hand": "R",
         "IOC": "FIN",
         "Won_Tournaments": 0,
         "Number_of_Matches": 5,
         "Win_Percentage": 0.4,
         "best_year_matches": 2016,
         "worst_year_matches": 2017,
         "best_year_wins": 2016,
         "worst_year_wins": 2016,
         "_deepnote_index_column": 24
        },
        {
         "Name": "Albert Montanes",
         "Sex": "M",
         "Hand": "R",
         "IOC": "ESP",
         "Won_Tournaments": 0,
         "Number_of_Matches": 53,
         "Win_Percentage": 0.490566037735849,
         "best_year_matches": 2016,
         "worst_year_matches": 2017,
         "best_year_wins": 2016,
         "worst_year_wins": 2017,
         "_deepnote_index_column": 25
        },
        {
         "Name": "Ryan Haviland",
         "Sex": "M",
         "Hand": "U",
         "IOC": "USA",
         "Won_Tournaments": 0,
         "Number_of_Matches": 28,
         "Win_Percentage": 0.5357142857142857,
         "best_year_matches": 2016,
         "worst_year_matches": 2016,
         "best_year_wins": 2016,
         "worst_year_wins": 2017,
         "_deepnote_index_column": 26
        },
        {
         "Name": "Jaroslav Pospisil",
         "Sex": "M",
         "Hand": "R",
         "IOC": "CZE",
         "Won_Tournaments": 0,
         "Number_of_Matches": 28,
         "Win_Percentage": 0.5,
         "best_year_matches": 2019,
         "worst_year_matches": 2018,
         "best_year_wins": 2016,
         "worst_year_wins": 2017,
         "_deepnote_index_column": 27
        },
        {
         "Name": "Lleyton Hewitt",
         "Sex": "M",
         "Hand": "R",
         "IOC": "AUS",
         "Won_Tournaments": 0,
         "Number_of_Matches": 2,
         "Win_Percentage": 0.5,
         "best_year_matches": 2016,
         "worst_year_matches": 2016,
         "best_year_wins": 2016,
         "worst_year_wins": 2016,
         "_deepnote_index_column": 28
        },
        {
         "Name": "Jurgen Melzer",
         "Sex": "M",
         "Hand": "L",
         "IOC": "AUT",
         "Won_Tournaments": 2,
         "Number_of_Matches": 81,
         "Win_Percentage": 0.5555555555555556,
         "best_year_matches": 2017,
         "worst_year_matches": 2019,
         "best_year_wins": 2017,
         "worst_year_wins": 2019,
         "_deepnote_index_column": 29
        },
        {
         "Name": "Rameez Junaid",
         "Sex": "M",
         "Hand": "R",
         "IOC": "AUS",
         "Won_Tournaments": 0,
         "Number_of_Matches": 9,
         "Win_Percentage": 0.3333333333333333,
         "best_year_matches": 2016,
         "worst_year_matches": 2017,
         "best_year_wins": 2016,
         "worst_year_wins": 2017,
         "_deepnote_index_column": 30
        },
        {
         "Name": "Benjamin Becker",
         "Sex": "M",
         "Hand": "R",
         "IOC": "GER",
         "Won_Tournaments": 0,
         "Number_of_Matches": 85,
         "Win_Percentage": 0.5058823529411764,
         "best_year_matches": 2016,
         "worst_year_matches": 2017,
         "best_year_wins": 2016,
         "worst_year_wins": 2017,
         "_deepnote_index_column": 31
        },
        {
         "Name": "Andreas Siljestrom",
         "Sex": "M",
         "Hand": "R",
         "IOC": "SWE",
         "Won_Tournaments": 0,
         "Number_of_Matches": 4,
         "Win_Percentage": 0.25,
         "best_year_matches": 2017,
         "worst_year_matches": 2018,
         "best_year_wins": 2017,
         "worst_year_wins": 2017,
         "_deepnote_index_column": 32
        },
        {
         "Name": "Victor Hanescu",
         "Sex": "M",
         "Hand": "R",
         "IOC": "ROU",
         "Won_Tournaments": 0,
         "Number_of_Matches": 3,
         "Win_Percentage": 0.6666666666666666,
         "best_year_matches": 2016,
         "worst_year_matches": 2016,
         "best_year_wins": 2016,
         "worst_year_wins": 2016,
         "_deepnote_index_column": 33
        },
        {
         "Name": "Jarkko Nieminen",
         "Sex": "M",
         "Hand": "L",
         "IOC": "FIN",
         "Won_Tournaments": 0,
         "Number_of_Matches": 3,
         "Win_Percentage": 1,
         "best_year_matches": 2016,
         "worst_year_matches": 2016,
         "best_year_wins": 2016,
         "worst_year_wins": 2016,
         "_deepnote_index_column": 34
        },
        {
         "Name": "Roger Federer",
         "Sex": "M",
         "Hand": "R",
         "IOC": "SUI",
         "Won_Tournaments": 15,
         "Number_of_Matches": 229,
         "Win_Percentage": 0.8296943231441049,
         "best_year_matches": 2019,
         "worst_year_matches": 2020,
         "best_year_wins": 2018,
         "worst_year_wins": 2020,
         "_deepnote_index_column": 35
        },
        {
         "Name": "Filippo Volandri",
         "Sex": "M",
         "Hand": "R",
         "IOC": "ITA",
         "Won_Tournaments": 0,
         "Number_of_Matches": 40,
         "Win_Percentage": 0.5,
         "best_year_matches": 2016,
         "worst_year_matches": 2016,
         "best_year_wins": 2016,
         "worst_year_wins": 2016,
         "_deepnote_index_column": 36
        },
        {
         "Name": "Marco Chiudinelli",
         "Sex": "M",
         "Hand": "R",
         "IOC": "SUI",
         "Won_Tournaments": 1,
         "Number_of_Matches": 108,
         "Win_Percentage": 0.4907407407407407,
         "best_year_matches": 2016,
         "worst_year_matches": 2017,
         "best_year_wins": 2016,
         "worst_year_wins": 2017,
         "_deepnote_index_column": 37
        },
        {
         "Name": "Feliciano Lopez",
         "Sex": "M",
         "Hand": "L",
         "IOC": "ESP",
         "Won_Tournaments": 3,
         "Number_of_Matches": 243,
         "Win_Percentage": 0.4897119341563786,
         "best_year_matches": 2016,
         "worst_year_matches": 2020,
         "best_year_wins": 2016,
         "worst_year_wins": 2020,
         "_deepnote_index_column": 38
        },
        {
         "Name": "Mikhail Elgin",
         "Sex": "M",
         "Hand": "R",
         "IOC": "RUS",
         "Won_Tournaments": 0,
         "Number_of_Matches": 61,
         "Win_Percentage": 0.4426229508196721,
         "best_year_matches": 2016,
         "worst_year_matches": 2019,
         "best_year_wins": 2016,
         "worst_year_wins": 2017,
         "_deepnote_index_column": 39
        },
        {
         "Name": "Tomasz Bednarek",
         "Sex": "M",
         "Hand": "R",
         "IOC": "POL",
         "Won_Tournaments": 0,
         "Number_of_Matches": 24,
         "Win_Percentage": 0.0416666666666666,
         "best_year_matches": 2016,
         "worst_year_matches": 2018,
         "best_year_wins": 2016,
         "worst_year_wins": 2016,
         "_deepnote_index_column": 40
        },
        {
         "Name": "Paolo Lorenzi",
         "Sex": "M",
         "Hand": "R",
         "IOC": "ITA",
         "Won_Tournaments": 6,
         "Number_of_Matches": 329,
         "Win_Percentage": 0.4924012158054711,
         "best_year_matches": 2019,
         "worst_year_matches": 2020,
         "best_year_wins": 2016,
         "worst_year_wins": 2021,
         "_deepnote_index_column": 41
        },
        {
         "Name": "Julien Benneteau",
         "Sex": "M",
         "Hand": "R",
         "IOC": "FRA",
         "Won_Tournaments": 1,
         "Number_of_Matches": 133,
         "Win_Percentage": 0.5488721804511278,
         "best_year_matches": 2017,
         "worst_year_matches": 2018,
         "best_year_wins": 2017,
         "worst_year_wins": 2018,
         "_deepnote_index_column": 42
        },
        {
         "Name": "Jan Mertl",
         "Sex": "M",
         "Hand": "R",
         "IOC": "CZE",
         "Won_Tournaments": 0,
         "Number_of_Matches": 40,
         "Win_Percentage": 0.4,
         "best_year_matches": 2016,
         "worst_year_matches": 2018,
         "best_year_wins": 2016,
         "worst_year_wins": 2018,
         "_deepnote_index_column": 43
        },
        {
         "Name": "Paul Henri Mathieu",
         "Sex": "M",
         "Hand": "R",
         "IOC": "FRA",
         "Won_Tournaments": 0,
         "Number_of_Matches": 96,
         "Win_Percentage": 0.4583333333333333,
         "best_year_matches": 2016,
         "worst_year_matches": 2017,
         "best_year_wins": 2016,
         "worst_year_wins": 2017,
         "_deepnote_index_column": 44
        }
       ],
       "rows_bottom": [
        {
         "Name": "Emiliano Troche",
         "Sex": "M",
         "Hand": "U",
         "IOC": "URU",
         "Won_Tournaments": 0,
         "Number_of_Matches": 2,
         "Win_Percentage": 0,
         "best_year_matches": 2020,
         "worst_year_matches": 2020,
         "best_year_wins": "nan",
         "worst_year_wins": "nan",
         "_deepnote_index_column": 2973
        },
        {
         "Name": "Timo Legout",
         "Sex": "M",
         "Hand": "R",
         "IOC": "FRA",
         "Won_Tournaments": 0,
         "Number_of_Matches": 1,
         "Win_Percentage": 0,
         "best_year_matches": 2021,
         "worst_year_matches": 2021,
         "best_year_wins": "nan",
         "worst_year_wins": "nan",
         "_deepnote_index_column": 2974
        },
        {
         "Name": "Marc Othman Ktiri ",
         "Sex": "M",
         "Hand": "U",
         "IOC": "ESP",
         "Won_Tournaments": 0,
         "Number_of_Matches": 1,
         "Win_Percentage": 0,
         "best_year_matches": 2021,
         "worst_year_matches": 2021,
         "best_year_wins": "nan",
         "worst_year_wins": "nan",
         "_deepnote_index_column": 2975
        },
        {
         "Name": "Daniel Rincon",
         "Sex": "M",
         "Hand": "L",
         "IOC": "ESP",
         "Won_Tournaments": 0,
         "Number_of_Matches": 1,
         "Win_Percentage": 0,
         "best_year_matches": 2021,
         "worst_year_matches": 2021,
         "best_year_wins": "nan",
         "worst_year_wins": "nan",
         "_deepnote_index_column": 2976
        },
        {
         "Name": "Luca Van Assche",
         "Sex": "M",
         "Hand": "R",
         "IOC": "FRA",
         "Won_Tournaments": 0,
         "Number_of_Matches": 3,
         "Win_Percentage": 0,
         "best_year_matches": 2021,
         "worst_year_matches": 2021,
         "best_year_wins": "nan",
         "worst_year_wins": "nan",
         "_deepnote_index_column": 2977
        },
        {
         "Name": "Gustavo Teisen Pereira",
         "Sex": "M",
         "Hand": "U",
         "IOC": "BRA",
         "Won_Tournaments": 0,
         "Number_of_Matches": 1,
         "Win_Percentage": 0,
         "best_year_matches": 2017,
         "worst_year_matches": 2017,
         "best_year_wins": "nan",
         "worst_year_wins": "nan",
         "_deepnote_index_column": 2978
        },
        {
         "Name": "Sascha Gueymard Wayenburg",
         "Sex": "M",
         "Hand": "R",
         "IOC": "FRA",
         "Won_Tournaments": 0,
         "Number_of_Matches": 1,
         "Win_Percentage": 0,
         "best_year_matches": 2021,
         "worst_year_matches": 2021,
         "best_year_wins": "nan",
         "worst_year_wins": "nan",
         "_deepnote_index_column": 2979
        },
        {
         "Name": "James Hopper",
         "Sex": "M",
         "Hand": "U",
         "IOC": "GBR",
         "Won_Tournaments": 0,
         "Number_of_Matches": 1,
         "Win_Percentage": 0,
         "best_year_matches": 2020,
         "worst_year_matches": 2020,
         "best_year_wins": "nan",
         "worst_year_wins": "nan",
         "_deepnote_index_column": 2980
        },
        {
         "Name": "Rostislav Galfinger",
         "Sex": "M",
         "Hand": "U",
         "IOC": "KAZ",
         "Won_Tournaments": 0,
         "Number_of_Matches": 1,
         "Win_Percentage": 0,
         "best_year_matches": 2020,
         "worst_year_matches": 2020,
         "best_year_wins": "nan",
         "worst_year_wins": "nan",
         "_deepnote_index_column": 2981
        },
        {
         "Name": "Leo Borg",
         "Sex": "M",
         "Hand": "R",
         "IOC": "SWE",
         "Won_Tournaments": 0,
         "Number_of_Matches": 8,
         "Win_Percentage": 0,
         "best_year_matches": 2021,
         "worst_year_matches": 2020,
         "best_year_wins": "nan",
         "worst_year_wins": "nan",
         "_deepnote_index_column": 2982
        },
        {
         "Name": "Karlis Ozolins",
         "Sex": "M",
         "Hand": "R",
         "IOC": "LAT",
         "Won_Tournaments": 0,
         "Number_of_Matches": 1,
         "Win_Percentage": 0,
         "best_year_matches": 2020,
         "worst_year_matches": 2020,
         "best_year_wins": "nan",
         "worst_year_wins": "nan",
         "_deepnote_index_column": 2983
        },
        {
         "Name": "Daniil Ostapenkov",
         "Sex": "M",
         "Hand": "R",
         "IOC": "BLR",
         "Won_Tournaments": 0,
         "Number_of_Matches": 1,
         "Win_Percentage": 0,
         "best_year_matches": 2020,
         "worst_year_matches": 2020,
         "best_year_wins": "nan",
         "worst_year_wins": "nan",
         "_deepnote_index_column": 2984
        },
        {
         "Name": "Kaipo Marshall",
         "Sex": "M",
         "Hand": "R",
         "IOC": "BAR",
         "Won_Tournaments": 0,
         "Number_of_Matches": 1,
         "Win_Percentage": 0,
         "best_year_matches": 2020,
         "worst_year_matches": 2020,
         "best_year_wins": "nan",
         "worst_year_wins": "nan",
         "_deepnote_index_column": 2985
        },
        {
         "Name": "Rodrigo Crespo Piedra",
         "Sex": "M",
         "Hand": "R",
         "IOC": "CRC",
         "Won_Tournaments": 0,
         "Number_of_Matches": 1,
         "Win_Percentage": 0,
         "best_year_matches": 2020,
         "worst_year_matches": 2020,
         "best_year_wins": "nan",
         "worst_year_wins": "nan",
         "_deepnote_index_column": 2986
        },
        {
         "Name": "Amr Elsayed Abdou Ahmed Mohamed",
         "Sex": "M",
         "Hand": "U",
         "IOC": "EGY",
         "Won_Tournaments": 0,
         "Number_of_Matches": 1,
         "Win_Percentage": 0,
         "best_year_matches": 2020,
         "worst_year_matches": 2020,
         "best_year_wins": "nan",
         "worst_year_wins": "nan",
         "_deepnote_index_column": 2987
        },
        {
         "Name": "Thehan Sanjaya Wijemanne",
         "Sex": "M",
         "Hand": "L",
         "IOC": "SRI",
         "Won_Tournaments": 0,
         "Number_of_Matches": 1,
         "Win_Percentage": 0,
         "best_year_matches": 2020,
         "worst_year_matches": 2020,
         "best_year_wins": "nan",
         "worst_year_wins": "nan",
         "_deepnote_index_column": 2988
        },
        {
         "Name": "Eric Jr. Olivarez",
         "Sex": "M",
         "Hand": "R",
         "IOC": "PHI",
         "Won_Tournaments": 0,
         "Number_of_Matches": 1,
         "Win_Percentage": 0,
         "best_year_matches": 2020,
         "worst_year_matches": 2020,
         "best_year_wins": "nan",
         "worst_year_wins": "nan",
         "_deepnote_index_column": 2989
        },
        {
         "Name": "Mili Poljicak ",
         "Sex": "M",
         "Hand": "U",
         "IOC": "CRO",
         "Won_Tournaments": 0,
         "Number_of_Matches": 2,
         "Win_Percentage": 0,
         "best_year_matches": 2021,
         "worst_year_matches": 2021,
         "best_year_wins": "nan",
         "worst_year_wins": "nan",
         "_deepnote_index_column": 2990
        },
        {
         "Name": "Guy Den Ouden",
         "Sex": "M",
         "Hand": "U",
         "IOC": "NED",
         "Won_Tournaments": 0,
         "Number_of_Matches": 1,
         "Win_Percentage": 0,
         "best_year_matches": 2021,
         "worst_year_matches": 2021,
         "best_year_wins": "nan",
         "worst_year_wins": "nan",
         "_deepnote_index_column": 2991
        },
        {
         "Name": "Mark Owen Endler",
         "Sex": "M",
         "Hand": "U",
         "IOC": "GER",
         "Won_Tournaments": 0,
         "Number_of_Matches": 1,
         "Win_Percentage": 0,
         "best_year_matches": 2021,
         "worst_year_matches": 2021,
         "best_year_wins": "nan",
         "worst_year_wins": "nan",
         "_deepnote_index_column": 2992
        },
        {
         "Name": "Marko Topo",
         "Sex": "M",
         "Hand": "U",
         "IOC": "SRB",
         "Won_Tournaments": 0,
         "Number_of_Matches": 2,
         "Win_Percentage": 0,
         "best_year_matches": 2021,
         "worst_year_matches": 2021,
         "best_year_wins": "nan",
         "worst_year_wins": "nan",
         "_deepnote_index_column": 2993
        },
        {
         "Name": "Hanwen Li",
         "Sex": "M",
         "Hand": "R",
         "IOC": "CHN",
         "Won_Tournaments": 0,
         "Number_of_Matches": 1,
         "Win_Percentage": 0,
         "best_year_matches": 2021,
         "worst_year_matches": 2021,
         "best_year_wins": "nan",
         "worst_year_wins": "nan",
         "_deepnote_index_column": 2994
        },
        {
         "Name": "Lukas Palovic",
         "Sex": "M",
         "Hand": "U",
         "IOC": "SVK",
         "Won_Tournaments": 0,
         "Number_of_Matches": 1,
         "Win_Percentage": 0,
         "best_year_matches": 2021,
         "worst_year_matches": 2021,
         "best_year_wins": "nan",
         "worst_year_wins": "nan",
         "_deepnote_index_column": 2995
        },
        {
         "Name": "Lukas Pokorny",
         "Sex": "M",
         "Hand": "U",
         "IOC": "SVK",
         "Won_Tournaments": 0,
         "Number_of_Matches": 1,
         "Win_Percentage": 0,
         "best_year_matches": 2021,
         "worst_year_matches": 2021,
         "best_year_wins": "nan",
         "worst_year_wins": "nan",
         "_deepnote_index_column": 2996
        },
        {
         "Name": "Lorenzo Claverie",
         "Sex": "M",
         "Hand": "R",
         "IOC": "ITA",
         "Won_Tournaments": 0,
         "Number_of_Matches": 4,
         "Win_Percentage": 0,
         "best_year_matches": 2021,
         "worst_year_matches": 2021,
         "best_year_wins": "nan",
         "worst_year_wins": "nan",
         "_deepnote_index_column": 2997
        },
        {
         "Name": "Sean Cuenin",
         "Sex": "M",
         "Hand": "U",
         "IOC": "FRA",
         "Won_Tournaments": 0,
         "Number_of_Matches": 1,
         "Win_Percentage": 0,
         "best_year_matches": 2021,
         "worst_year_matches": 2021,
         "best_year_wins": "nan",
         "worst_year_wins": "nan",
         "_deepnote_index_column": 2998
        },
        {
         "Name": "Danil Ozernoy",
         "Sex": "M",
         "Hand": "U",
         "IOC": "KAZ",
         "Won_Tournaments": 0,
         "Number_of_Matches": 4,
         "Win_Percentage": 0,
         "best_year_matches": 2021,
         "worst_year_matches": 2021,
         "best_year_wins": "nan",
         "worst_year_wins": "nan",
         "_deepnote_index_column": 2999
        },
        {
         "Name": "Aleksander Orlikowski",
         "Sex": "M",
         "Hand": "U",
         "IOC": "POL",
         "Won_Tournaments": 0,
         "Number_of_Matches": 1,
         "Win_Percentage": 0,
         "best_year_matches": 2021,
         "worst_year_matches": 2021,
         "best_year_wins": "nan",
         "worst_year_wins": "nan",
         "_deepnote_index_column": 3000
        },
        {
         "Name": "Milos Karol ",
         "Sex": "M",
         "Hand": "R",
         "IOC": "SVK",
         "Won_Tournaments": 0,
         "Number_of_Matches": 1,
         "Win_Percentage": 0,
         "best_year_matches": 2021,
         "worst_year_matches": 2021,
         "best_year_wins": "nan",
         "worst_year_wins": "nan",
         "_deepnote_index_column": 3001
        },
        {
         "Name": "Juncheng Shang",
         "Sex": "M",
         "Hand": "U",
         "IOC": "CHN",
         "Won_Tournaments": 0,
         "Number_of_Matches": 1,
         "Win_Percentage": 0,
         "best_year_matches": 2021,
         "worst_year_matches": 2021,
         "best_year_wins": "nan",
         "worst_year_wins": "nan",
         "_deepnote_index_column": 3002
        },
        {
         "Name": "Matej Galik",
         "Sex": "M",
         "Hand": "U",
         "IOC": "SVK",
         "Won_Tournaments": 0,
         "Number_of_Matches": 1,
         "Win_Percentage": 0,
         "best_year_matches": 2021,
         "worst_year_matches": 2021,
         "best_year_wins": "nan",
         "worst_year_wins": "nan",
         "_deepnote_index_column": 3003
        },
        {
         "Name": "Islam Orynbasar",
         "Sex": "M",
         "Hand": "U",
         "IOC": "KAZ",
         "Won_Tournaments": 0,
         "Number_of_Matches": 1,
         "Win_Percentage": 0,
         "best_year_matches": 2021,
         "worst_year_matches": 2021,
         "best_year_wins": "nan",
         "worst_year_wins": "nan",
         "_deepnote_index_column": 3004
        },
        {
         "Name": "Adam Jurajda",
         "Sex": "M",
         "Hand": "R",
         "IOC": "CZE",
         "Won_Tournaments": 0,
         "Number_of_Matches": 1,
         "Win_Percentage": 0,
         "best_year_matches": 2021,
         "worst_year_matches": 2021,
         "best_year_wins": "nan",
         "worst_year_wins": "nan",
         "_deepnote_index_column": 3005
        },
        {
         "Name": "Yerassyl Yerdilda",
         "Sex": "M",
         "Hand": "U",
         "IOC": "KAZ",
         "Won_Tournaments": 0,
         "Number_of_Matches": 1,
         "Win_Percentage": 0,
         "best_year_matches": 2021,
         "worst_year_matches": 2021,
         "best_year_wins": "nan",
         "worst_year_wins": "nan",
         "_deepnote_index_column": 3006
        },
        {
         "Name": "Kirill Kolganov",
         "Sex": "M",
         "Hand": "U",
         "IOC": "KAZ",
         "Won_Tournaments": 0,
         "Number_of_Matches": 1,
         "Win_Percentage": 0,
         "best_year_matches": 2021,
         "worst_year_matches": 2021,
         "best_year_wins": "nan",
         "worst_year_wins": "nan",
         "_deepnote_index_column": 3007
        },
        {
         "Name": "Juan Diego Rojas",
         "Sex": "M",
         "Hand": "U",
         "IOC": "ECU",
         "Won_Tournaments": 0,
         "Number_of_Matches": 1,
         "Win_Percentage": 0,
         "best_year_matches": 2021,
         "worst_year_matches": 2021,
         "best_year_wins": "nan",
         "worst_year_wins": "nan",
         "_deepnote_index_column": 3008
        },
        {
         "Name": "Omar Suarez",
         "Sex": "M",
         "Hand": "U",
         "IOC": "ECU",
         "Won_Tournaments": 0,
         "Number_of_Matches": 1,
         "Win_Percentage": 0,
         "best_year_matches": 2021,
         "worst_year_matches": 2021,
         "best_year_wins": "nan",
         "worst_year_wins": "nan",
         "_deepnote_index_column": 3009
        },
        {
         "Name": "Matthew William Donald",
         "Sex": "M",
         "Hand": "U",
         "IOC": "CZE",
         "Won_Tournaments": 0,
         "Number_of_Matches": 1,
         "Win_Percentage": 0,
         "best_year_matches": 2021,
         "worst_year_matches": 2021,
         "best_year_wins": "nan",
         "worst_year_wins": "nan",
         "_deepnote_index_column": 3010
        },
        {
         "Name": "Jakub Nicod",
         "Sex": "M",
         "Hand": "U",
         "IOC": "CZE",
         "Won_Tournaments": 0,
         "Number_of_Matches": 1,
         "Win_Percentage": 0,
         "best_year_matches": 2021,
         "worst_year_matches": 2021,
         "best_year_wins": "nan",
         "worst_year_wins": "nan",
         "_deepnote_index_column": 3011
        },
        {
         "Name": "Jakub Mensik",
         "Sex": "M",
         "Hand": "U",
         "IOC": "CZE",
         "Won_Tournaments": 0,
         "Number_of_Matches": 1,
         "Win_Percentage": 0,
         "best_year_matches": 2021,
         "worst_year_matches": 2021,
         "best_year_wins": "nan",
         "worst_year_wins": "nan",
         "_deepnote_index_column": 3012
        },
        {
         "Name": "Lui Maxted",
         "Sex": "M",
         "Hand": "U",
         "IOC": "GBR",
         "Won_Tournaments": 0,
         "Number_of_Matches": 2,
         "Win_Percentage": 0,
         "best_year_matches": 2021,
         "worst_year_matches": 2021,
         "best_year_wins": "nan",
         "worst_year_wins": "nan",
         "_deepnote_index_column": 3013
        },
        {
         "Name": "Lorenzo Angelini",
         "Sex": "M",
         "Hand": "U",
         "IOC": "ITA",
         "Won_Tournaments": 0,
         "Number_of_Matches": 1,
         "Win_Percentage": 0,
         "best_year_matches": 2021,
         "worst_year_matches": 2021,
         "best_year_wins": "nan",
         "worst_year_wins": "nan",
         "_deepnote_index_column": 3014
        },
        {
         "Name": "Michele Vianello",
         "Sex": "M",
         "Hand": "R",
         "IOC": "ITA",
         "Won_Tournaments": 0,
         "Number_of_Matches": 2,
         "Win_Percentage": 0,
         "best_year_matches": 2021,
         "worst_year_matches": 2021,
         "best_year_wins": "nan",
         "worst_year_wins": "nan",
         "_deepnote_index_column": 3015
        },
        {
         "Name": "William Jansen",
         "Sex": "M",
         "Hand": "L",
         "IOC": "GBR",
         "Won_Tournaments": 0,
         "Number_of_Matches": 1,
         "Win_Percentage": 0,
         "best_year_matches": 2021,
         "worst_year_matches": 2021,
         "best_year_wins": "nan",
         "worst_year_wins": "nan",
         "_deepnote_index_column": 3016
        },
        {
         "Name": "Jasza Szajrych",
         "Sex": "M",
         "Hand": "U",
         "IOC": "POL",
         "Won_Tournaments": 0,
         "Number_of_Matches": 1,
         "Win_Percentage": 0,
         "best_year_matches": 2021,
         "worst_year_matches": 2021,
         "best_year_wins": "nan",
         "worst_year_wins": "nan",
         "_deepnote_index_column": 3017
        }
       ]
      },
      "text/plain": "                   Name Sex Hand  IOC  Won_Tournaments  Number_of_Matches  \\\n0      Alexander Zverev   M    R  GER             17.0              378.0   \n1        Agustin Moreno   M    R  MEX              0.0                4.0   \n2           Martin Damm   M    L  USA              0.0                7.0   \n3     Gergely Kisgyorgy   M    R  HUN              0.0                2.0   \n4           Frank Moser   M    R  GER              0.0               11.0   \n...                 ...  ..  ...  ...              ...                ...   \n3013         Lui Maxted   M    U  GBR              0.0                2.0   \n3014   Lorenzo Angelini   M    U  ITA              0.0                1.0   \n3015   Michele Vianello   M    R  ITA              0.0                2.0   \n3016     William Jansen   M    L  GBR              0.0                1.0   \n3017     Jasza Szajrych   M    U  POL              0.0                1.0   \n\n      Win_Percentage  best_year_matches  worst_year_matches  best_year_wins  \\\n0           0.706349             2017.0              2020.0          2018.0   \n1           0.250000             2016.0              2016.0          2016.0   \n2           0.285714             2021.0              2018.0          2021.0   \n3           0.500000             2016.0              2016.0          2016.0   \n4           0.454545             2016.0              2017.0          2016.0   \n...              ...                ...                 ...             ...   \n3013        0.000000             2021.0              2021.0             NaN   \n3014        0.000000             2021.0              2021.0             NaN   \n3015        0.000000             2021.0              2021.0             NaN   \n3016        0.000000             2021.0              2021.0             NaN   \n3017        0.000000             2021.0              2021.0             NaN   \n\n      worst_year_wins  \n0              2020.0  \n1              2016.0  \n2              2021.0  \n3              2016.0  \n4              2016.0  \n...               ...  \n3013              NaN  \n3014              NaN  \n3015              NaN  \n3016              NaN  \n3017              NaN  \n\n[3018 rows x 11 columns]",
      "text/html": "<div>\n<style scoped>\n    .dataframe tbody tr th:only-of-type {\n        vertical-align: middle;\n    }\n\n    .dataframe tbody tr th {\n        vertical-align: top;\n    }\n\n    .dataframe thead th {\n        text-align: right;\n    }\n</style>\n<table border=\"1\" class=\"dataframe\">\n  <thead>\n    <tr style=\"text-align: right;\">\n      <th></th>\n      <th>Name</th>\n      <th>Sex</th>\n      <th>Hand</th>\n      <th>IOC</th>\n      <th>Won_Tournaments</th>\n      <th>Number_of_Matches</th>\n      <th>Win_Percentage</th>\n      <th>best_year_matches</th>\n      <th>worst_year_matches</th>\n      <th>best_year_wins</th>\n      <th>worst_year_wins</th>\n    </tr>\n  </thead>\n  <tbody>\n    <tr>\n      <th>0</th>\n      <td>Alexander Zverev</td>\n      <td>M</td>\n      <td>R</td>\n      <td>GER</td>\n      <td>17.0</td>\n      <td>378.0</td>\n      <td>0.706349</td>\n      <td>2017.0</td>\n      <td>2020.0</td>\n      <td>2018.0</td>\n      <td>2020.0</td>\n    </tr>\n    <tr>\n      <th>1</th>\n      <td>Agustin Moreno</td>\n      <td>M</td>\n      <td>R</td>\n      <td>MEX</td>\n      <td>0.0</td>\n      <td>4.0</td>\n      <td>0.250000</td>\n      <td>2016.0</td>\n      <td>2016.0</td>\n      <td>2016.0</td>\n      <td>2016.0</td>\n    </tr>\n    <tr>\n      <th>2</th>\n      <td>Martin Damm</td>\n      <td>M</td>\n      <td>L</td>\n      <td>USA</td>\n      <td>0.0</td>\n      <td>7.0</td>\n      <td>0.285714</td>\n      <td>2021.0</td>\n      <td>2018.0</td>\n      <td>2021.0</td>\n      <td>2021.0</td>\n    </tr>\n    <tr>\n      <th>3</th>\n      <td>Gergely Kisgyorgy</td>\n      <td>M</td>\n      <td>R</td>\n      <td>HUN</td>\n      <td>0.0</td>\n      <td>2.0</td>\n      <td>0.500000</td>\n      <td>2016.0</td>\n      <td>2016.0</td>\n      <td>2016.0</td>\n      <td>2016.0</td>\n    </tr>\n    <tr>\n      <th>4</th>\n      <td>Frank Moser</td>\n      <td>M</td>\n      <td>R</td>\n      <td>GER</td>\n      <td>0.0</td>\n      <td>11.0</td>\n      <td>0.454545</td>\n      <td>2016.0</td>\n      <td>2017.0</td>\n      <td>2016.0</td>\n      <td>2016.0</td>\n    </tr>\n    <tr>\n      <th>...</th>\n      <td>...</td>\n      <td>...</td>\n      <td>...</td>\n      <td>...</td>\n      <td>...</td>\n      <td>...</td>\n      <td>...</td>\n      <td>...</td>\n      <td>...</td>\n      <td>...</td>\n      <td>...</td>\n    </tr>\n    <tr>\n      <th>3013</th>\n      <td>Lui Maxted</td>\n      <td>M</td>\n      <td>U</td>\n      <td>GBR</td>\n      <td>0.0</td>\n      <td>2.0</td>\n      <td>0.000000</td>\n      <td>2021.0</td>\n      <td>2021.0</td>\n      <td>NaN</td>\n      <td>NaN</td>\n    </tr>\n    <tr>\n      <th>3014</th>\n      <td>Lorenzo Angelini</td>\n      <td>M</td>\n      <td>U</td>\n      <td>ITA</td>\n      <td>0.0</td>\n      <td>1.0</td>\n      <td>0.000000</td>\n      <td>2021.0</td>\n      <td>2021.0</td>\n      <td>NaN</td>\n      <td>NaN</td>\n    </tr>\n    <tr>\n      <th>3015</th>\n      <td>Michele Vianello</td>\n      <td>M</td>\n      <td>R</td>\n      <td>ITA</td>\n      <td>0.0</td>\n      <td>2.0</td>\n      <td>0.000000</td>\n      <td>2021.0</td>\n      <td>2021.0</td>\n      <td>NaN</td>\n      <td>NaN</td>\n    </tr>\n    <tr>\n      <th>3016</th>\n      <td>William Jansen</td>\n      <td>M</td>\n      <td>L</td>\n      <td>GBR</td>\n      <td>0.0</td>\n      <td>1.0</td>\n      <td>0.000000</td>\n      <td>2021.0</td>\n      <td>2021.0</td>\n      <td>NaN</td>\n      <td>NaN</td>\n    </tr>\n    <tr>\n      <th>3017</th>\n      <td>Jasza Szajrych</td>\n      <td>M</td>\n      <td>U</td>\n      <td>POL</td>\n      <td>0.0</td>\n      <td>1.0</td>\n      <td>0.000000</td>\n      <td>2021.0</td>\n      <td>2021.0</td>\n      <td>NaN</td>\n      <td>NaN</td>\n    </tr>\n  </tbody>\n</table>\n<p>3018 rows × 11 columns</p>\n</div>"
     },
     "metadata": {}
    }
   ]
  },
  {
   "cell_type": "code",
   "metadata": {
    "tags": [],
    "cell_id": "00023-6fe8f02d-ddbd-41dd-8600-3e7474d6b512",
    "deepnote_to_be_reexecuted": true,
    "source_hash": "be00c432",
    "execution_start": 1636388423513,
    "execution_millis": 1834,
    "deepnote_cell_type": "code"
   },
   "source": "# DO the same for womens\n# take the top players according to number of won tournament\ndf_top_female_players = pd.DataFrame(female_stats.sort_values(by='Won_Tournaments', ascending=False).head(TOP)['Name'])\n\n#iterating for every player\n#for name,index in df_top_female_players.iterrows():\n#df_matches.groupby('winner_name').count()['w_ace'] \n\ndf_top_female_player_matches_win = df_matches.join(df_top_female_players.set_index('Name'), on='winner_name', how='inner') #Ci sono partite in cui i winner sono loser e non vengono considerate\ndf_top_female_player_matches_los = df_matches.join(df_top_female_players.set_index('Name'), on='loser_name', how='inner') #Ci sono partite in cui i winner sono loser e non vengono considerate\ndf_top_female_player_matches  = pd.concat([df_top_female_player_matches_win, df_top_female_player_matches_los])\n#df_top_female_players['w_ace'] = sum_by_condition(df_top_female_player_matches, 'w_ace', 'winner_name', df_top_female_players, 'Name')['w_ace']\n# Ciclo for su lista di attributi che chiama sum_by_condition\n\nattrs = ['w_ace', 'w_df', 'w_svpt', 'w_1stIn', 'w_1stWon', 'w_2ndWon', 'w_SvGms', 'w_bpSaved', 'w_bpFaced']\n\n#sum_by_condition(df_top_female_player_matches, 'w_svpt', 'winner_name', df_top_female_players, 'Name')\n\n#sum_by_surface(df_top_female_player_matches, 'w_svpt', 'winner_name', df_top_female_players, 'Name', 'Clay')\n\nfor attr in attrs:\n    #df_top_female_players[attr] = top_players_feature(df_top_female_player_matches, attr, 'winner_name', df_top_female_players, 'Name')[attr]\n    result = sum_by_surface(df_top_female_player_matches, attr, 'winner_name', df_top_female_players, 'Name')\n    df_top_female_players[attr + '_clay'] = result[0][attr]\n    df_top_female_players[attr + '_clay'].fillna(0, inplace=True)\n    df_top_female_players[attr + '_grass'] = result[1][attr]\n    df_top_female_players[attr + '_grass'].fillna(0, inplace=True)\n    df_top_female_players[attr + '_hard'] = result[2][attr]\n    df_top_female_players[attr + '_hard'].fillna(0, inplace=True)\n    df_top_female_players[attr + '_carpet'] = result[2][attr]\n    df_top_female_players[attr + '_carpet'].fillna(0, inplace=True)\n\ndf_top_female_players",
   "execution_count": null,
   "outputs": [
    {
     "output_type": "execute_result",
     "execution_count": 12,
     "data": {
      "application/vnd.deepnote.dataframe.v2+json": {
       "row_count": 50,
       "column_count": 37,
       "columns": [
        {
         "name": "Name",
         "dtype": "object",
         "stats": {
          "unique_count": 50,
          "nan_count": 0,
          "categories": [
           {
            "name": "Fernanda Brito",
            "count": 1
           },
           {
            "name": "Arantxa Rus",
            "count": 1
           },
           {
            "name": "48 others",
            "count": 48
           }
          ]
         }
        },
        {
         "name": "w_ace_clay",
         "dtype": "float64",
         "stats": {
          "unique_count": 31,
          "nan_count": 0,
          "min": "0.0",
          "max": "244.0",
          "histogram": [
           {
            "bin_start": 0,
            "bin_end": 24.4,
            "count": 30
           },
           {
            "bin_start": 24.4,
            "bin_end": 48.8,
            "count": 6
           },
           {
            "bin_start": 48.8,
            "bin_end": 73.19999999999999,
            "count": 6
           },
           {
            "bin_start": 73.19999999999999,
            "bin_end": 97.6,
            "count": 1
           },
           {
            "bin_start": 97.6,
            "bin_end": 122,
            "count": 2
           },
           {
            "bin_start": 122,
            "bin_end": 146.39999999999998,
            "count": 4
           },
           {
            "bin_start": 146.39999999999998,
            "bin_end": 170.79999999999998,
            "count": 0
           },
           {
            "bin_start": 170.79999999999998,
            "bin_end": 195.2,
            "count": 0
           },
           {
            "bin_start": 195.2,
            "bin_end": 219.6,
            "count": 0
           },
           {
            "bin_start": 219.6,
            "bin_end": 244,
            "count": 1
           }
          ]
         }
        },
        {
         "name": "w_ace_grass",
         "dtype": "float64",
         "stats": {
          "unique_count": 22,
          "nan_count": 0,
          "min": "0.0",
          "max": "71.0",
          "histogram": [
           {
            "bin_start": 0,
            "bin_end": 7.1,
            "count": 31
           },
           {
            "bin_start": 7.1,
            "bin_end": 14.2,
            "count": 5
           },
           {
            "bin_start": 14.2,
            "bin_end": 21.299999999999997,
            "count": 2
           },
           {
            "bin_start": 21.299999999999997,
            "bin_end": 28.4,
            "count": 4
           },
           {
            "bin_start": 28.4,
            "bin_end": 35.5,
            "count": 1
           },
           {
            "bin_start": 35.5,
            "bin_end": 42.599999999999994,
            "count": 1
           },
           {
            "bin_start": 42.599999999999994,
            "bin_end": 49.699999999999996,
            "count": 2
           },
           {
            "bin_start": 49.699999999999996,
            "bin_end": 56.8,
            "count": 0
           },
           {
            "bin_start": 56.8,
            "bin_end": 63.9,
            "count": 3
           },
           {
            "bin_start": 63.9,
            "bin_end": 71,
            "count": 1
           }
          ]
         }
        },
        {
         "name": "w_ace_hard",
         "dtype": "float64",
         "stats": {
          "unique_count": 34,
          "nan_count": 0,
          "min": "0.0",
          "max": "506.0",
          "histogram": [
           {
            "bin_start": 0,
            "bin_end": 50.6,
            "count": 31
           },
           {
            "bin_start": 50.6,
            "bin_end": 101.2,
            "count": 7
           },
           {
            "bin_start": 101.2,
            "bin_end": 151.8,
            "count": 3
           },
           {
            "bin_start": 151.8,
            "bin_end": 202.4,
            "count": 2
           },
           {
            "bin_start": 202.4,
            "bin_end": 253,
            "count": 1
           },
           {
            "bin_start": 253,
            "bin_end": 303.6,
            "count": 1
           },
           {
            "bin_start": 303.6,
            "bin_end": 354.2,
            "count": 1
           },
           {
            "bin_start": 354.2,
            "bin_end": 404.8,
            "count": 3
           },
           {
            "bin_start": 404.8,
            "bin_end": 455.40000000000003,
            "count": 0
           },
           {
            "bin_start": 455.40000000000003,
            "bin_end": 506,
            "count": 1
           }
          ]
         }
        },
        {
         "name": "w_ace_carpet",
         "dtype": "float64",
         "stats": {
          "unique_count": 34,
          "nan_count": 0,
          "min": "0.0",
          "max": "506.0",
          "histogram": [
           {
            "bin_start": 0,
            "bin_end": 50.6,
            "count": 31
           },
           {
            "bin_start": 50.6,
            "bin_end": 101.2,
            "count": 7
           },
           {
            "bin_start": 101.2,
            "bin_end": 151.8,
            "count": 3
           },
           {
            "bin_start": 151.8,
            "bin_end": 202.4,
            "count": 2
           },
           {
            "bin_start": 202.4,
            "bin_end": 253,
            "count": 1
           },
           {
            "bin_start": 253,
            "bin_end": 303.6,
            "count": 1
           },
           {
            "bin_start": 303.6,
            "bin_end": 354.2,
            "count": 1
           },
           {
            "bin_start": 354.2,
            "bin_end": 404.8,
            "count": 3
           },
           {
            "bin_start": 404.8,
            "bin_end": 455.40000000000003,
            "count": 0
           },
           {
            "bin_start": 455.40000000000003,
            "bin_end": 506,
            "count": 1
           }
          ]
         }
        },
        {
         "name": "w_df_clay",
         "dtype": "float64",
         "stats": {
          "unique_count": 39,
          "nan_count": 0,
          "min": "0.0",
          "max": "312.0",
          "histogram": [
           {
            "bin_start": 0,
            "bin_end": 31.2,
            "count": 25
           },
           {
            "bin_start": 31.2,
            "bin_end": 62.4,
            "count": 8
           },
           {
            "bin_start": 62.4,
            "bin_end": 93.6,
            "count": 6
           },
           {
            "bin_start": 93.6,
            "bin_end": 124.8,
            "count": 2
           },
           {
            "bin_start": 124.8,
            "bin_end": 156,
            "count": 4
           },
           {
            "bin_start": 156,
            "bin_end": 187.2,
            "count": 2
           },
           {
            "bin_start": 187.2,
            "bin_end": 218.4,
            "count": 2
           },
           {
            "bin_start": 218.4,
            "bin_end": 249.6,
            "count": 0
           },
           {
            "bin_start": 249.6,
            "bin_end": 280.8,
            "count": 0
           },
           {
            "bin_start": 280.8,
            "bin_end": 312,
            "count": 1
           }
          ]
         }
        },
        {
         "name": "w_df_grass",
         "dtype": "float64",
         "stats": {
          "unique_count": 25,
          "nan_count": 0,
          "min": "0.0",
          "max": "117.0",
          "histogram": [
           {
            "bin_start": 0,
            "bin_end": 11.7,
            "count": 32
           },
           {
            "bin_start": 11.7,
            "bin_end": 23.4,
            "count": 5
           },
           {
            "bin_start": 23.4,
            "bin_end": 35.099999999999994,
            "count": 2
           },
           {
            "bin_start": 35.099999999999994,
            "bin_end": 46.8,
            "count": 3
           },
           {
            "bin_start": 46.8,
            "bin_end": 58.5,
            "count": 2
           },
           {
            "bin_start": 58.5,
            "bin_end": 70.19999999999999,
            "count": 0
           },
           {
            "bin_start": 70.19999999999999,
            "bin_end": 81.89999999999999,
            "count": 1
           },
           {
            "bin_start": 81.89999999999999,
            "bin_end": 93.6,
            "count": 3
           },
           {
            "bin_start": 93.6,
            "bin_end": 105.3,
            "count": 0
           },
           {
            "bin_start": 105.3,
            "bin_end": 117,
            "count": 2
           }
          ]
         }
        },
        {
         "name": "w_df_hard",
         "dtype": "float64",
         "stats": {
          "unique_count": 35,
          "nan_count": 0,
          "min": "0.0",
          "max": "667.0",
          "histogram": [
           {
            "bin_start": 0,
            "bin_end": 66.7,
            "count": 26
           },
           {
            "bin_start": 66.7,
            "bin_end": 133.4,
            "count": 9
           },
           {
            "bin_start": 133.4,
            "bin_end": 200.10000000000002,
            "count": 5
           },
           {
            "bin_start": 200.10000000000002,
            "bin_end": 266.8,
            "count": 1
           },
           {
            "bin_start": 266.8,
            "bin_end": 333.5,
            "count": 2
           },
           {
            "bin_start": 333.5,
            "bin_end": 400.20000000000005,
            "count": 0
           },
           {
            "bin_start": 400.20000000000005,
            "bin_end": 466.90000000000003,
            "count": 3
           },
           {
            "bin_start": 466.90000000000003,
            "bin_end": 533.6,
            "count": 1
           },
           {
            "bin_start": 533.6,
            "bin_end": 600.3000000000001,
            "count": 1
           },
           {
            "bin_start": 600.3000000000001,
            "bin_end": 667,
            "count": 2
           }
          ]
         }
        },
        {
         "name": "w_df_carpet",
         "dtype": "float64",
         "stats": {
          "unique_count": 35,
          "nan_count": 0,
          "min": "0.0",
          "max": "667.0",
          "histogram": [
           {
            "bin_start": 0,
            "bin_end": 66.7,
            "count": 26
           },
           {
            "bin_start": 66.7,
            "bin_end": 133.4,
            "count": 9
           },
           {
            "bin_start": 133.4,
            "bin_end": 200.10000000000002,
            "count": 5
           },
           {
            "bin_start": 200.10000000000002,
            "bin_end": 266.8,
            "count": 1
           },
           {
            "bin_start": 266.8,
            "bin_end": 333.5,
            "count": 2
           },
           {
            "bin_start": 333.5,
            "bin_end": 400.20000000000005,
            "count": 0
           },
           {
            "bin_start": 400.20000000000005,
            "bin_end": 466.90000000000003,
            "count": 3
           },
           {
            "bin_start": 466.90000000000003,
            "bin_end": 533.6,
            "count": 1
           },
           {
            "bin_start": 533.6,
            "bin_end": 600.3000000000001,
            "count": 1
           },
           {
            "bin_start": 600.3000000000001,
            "bin_end": 667,
            "count": 2
           }
          ]
         }
        },
        {
         "name": "w_svpt_clay",
         "dtype": "float64",
         "stats": {
          "unique_count": 44,
          "nan_count": 0,
          "min": "0.0",
          "max": "5779.0",
          "histogram": [
           {
            "bin_start": 0,
            "bin_end": 577.9,
            "count": 21
           },
           {
            "bin_start": 577.9,
            "bin_end": 1155.8,
            "count": 7
           },
           {
            "bin_start": 1155.8,
            "bin_end": 1733.6999999999998,
            "count": 10
           },
           {
            "bin_start": 1733.6999999999998,
            "bin_end": 2311.6,
            "count": 3
           },
           {
            "bin_start": 2311.6,
            "bin_end": 2889.5,
            "count": 1
           },
           {
            "bin_start": 2889.5,
            "bin_end": 3467.3999999999996,
            "count": 2
           },
           {
            "bin_start": 3467.3999999999996,
            "bin_end": 4045.2999999999997,
            "count": 3
           },
           {
            "bin_start": 4045.2999999999997,
            "bin_end": 4623.2,
            "count": 1
           },
           {
            "bin_start": 4623.2,
            "bin_end": 5201.099999999999,
            "count": 0
           },
           {
            "bin_start": 5201.099999999999,
            "bin_end": 5779,
            "count": 2
           }
          ]
         }
        },
        {
         "name": "w_svpt_grass",
         "dtype": "float64",
         "stats": {
          "unique_count": 30,
          "nan_count": 0,
          "min": "0.0",
          "max": "2769.0",
          "histogram": [
           {
            "bin_start": 0,
            "bin_end": 276.9,
            "count": 33
           },
           {
            "bin_start": 276.9,
            "bin_end": 553.8,
            "count": 4
           },
           {
            "bin_start": 553.8,
            "bin_end": 830.6999999999999,
            "count": 1
           },
           {
            "bin_start": 830.6999999999999,
            "bin_end": 1107.6,
            "count": 4
           },
           {
            "bin_start": 1107.6,
            "bin_end": 1384.5,
            "count": 3
           },
           {
            "bin_start": 1384.5,
            "bin_end": 1661.3999999999999,
            "count": 2
           },
           {
            "bin_start": 1661.3999999999999,
            "bin_end": 1938.2999999999997,
            "count": 1
           },
           {
            "bin_start": 1938.2999999999997,
            "bin_end": 2215.2,
            "count": 0
           },
           {
            "bin_start": 2215.2,
            "bin_end": 2492.1,
            "count": 1
           },
           {
            "bin_start": 2492.1,
            "bin_end": 2769,
            "count": 1
           }
          ]
         }
        },
        {
         "name": "w_svpt_hard",
         "dtype": "float64",
         "stats": {
          "unique_count": 39,
          "nan_count": 0,
          "min": "0.0",
          "max": "13225.0",
          "histogram": [
           {
            "bin_start": 0,
            "bin_end": 1322.5,
            "count": 27
           },
           {
            "bin_start": 1322.5,
            "bin_end": 2645,
            "count": 9
           },
           {
            "bin_start": 2645,
            "bin_end": 3967.5,
            "count": 3
           },
           {
            "bin_start": 3967.5,
            "bin_end": 5290,
            "count": 3
           },
           {
            "bin_start": 5290,
            "bin_end": 6612.5,
            "count": 0
           },
           {
            "bin_start": 6612.5,
            "bin_end": 7935,
            "count": 2
           },
           {
            "bin_start": 7935,
            "bin_end": 9257.5,
            "count": 1
           },
           {
            "bin_start": 9257.5,
            "bin_end": 10580,
            "count": 2
           },
           {
            "bin_start": 10580,
            "bin_end": 11902.5,
            "count": 2
           },
           {
            "bin_start": 11902.5,
            "bin_end": 13225,
            "count": 1
           }
          ]
         }
        },
        {
         "name": "w_svpt_carpet",
         "dtype": "float64",
         "stats": {
          "unique_count": 39,
          "nan_count": 0,
          "min": "0.0",
          "max": "13225.0",
          "histogram": [
           {
            "bin_start": 0,
            "bin_end": 1322.5,
            "count": 27
           },
           {
            "bin_start": 1322.5,
            "bin_end": 2645,
            "count": 9
           },
           {
            "bin_start": 2645,
            "bin_end": 3967.5,
            "count": 3
           },
           {
            "bin_start": 3967.5,
            "bin_end": 5290,
            "count": 3
           },
           {
            "bin_start": 5290,
            "bin_end": 6612.5,
            "count": 0
           },
           {
            "bin_start": 6612.5,
            "bin_end": 7935,
            "count": 2
           },
           {
            "bin_start": 7935,
            "bin_end": 9257.5,
            "count": 1
           },
           {
            "bin_start": 9257.5,
            "bin_end": 10580,
            "count": 2
           },
           {
            "bin_start": 10580,
            "bin_end": 11902.5,
            "count": 2
           },
           {
            "bin_start": 11902.5,
            "bin_end": 13225,
            "count": 1
           }
          ]
         }
        },
        {
         "name": "w_1stIn_clay",
         "dtype": "float64",
         "stats": {
          "unique_count": 44,
          "nan_count": 0,
          "min": "0.0",
          "max": "3745.0",
          "histogram": [
           {
            "bin_start": 0,
            "bin_end": 374.5,
            "count": 22
           },
           {
            "bin_start": 374.5,
            "bin_end": 749,
            "count": 7
           },
           {
            "bin_start": 749,
            "bin_end": 1123.5,
            "count": 7
           },
           {
            "bin_start": 1123.5,
            "bin_end": 1498,
            "count": 4
           },
           {
            "bin_start": 1498,
            "bin_end": 1872.5,
            "count": 2
           },
           {
            "bin_start": 1872.5,
            "bin_end": 2247,
            "count": 3
           },
           {
            "bin_start": 2247,
            "bin_end": 2621.5,
            "count": 2
           },
           {
            "bin_start": 2621.5,
            "bin_end": 2996,
            "count": 1
           },
           {
            "bin_start": 2996,
            "bin_end": 3370.5,
            "count": 0
           },
           {
            "bin_start": 3370.5,
            "bin_end": 3745,
            "count": 2
           }
          ]
         }
        },
        {
         "name": "w_1stIn_grass",
         "dtype": "float64",
         "stats": {
          "unique_count": 30,
          "nan_count": 0,
          "min": "0.0",
          "max": "1797.0",
          "histogram": [
           {
            "bin_start": 0,
            "bin_end": 179.7,
            "count": 33
           },
           {
            "bin_start": 179.7,
            "bin_end": 359.4,
            "count": 3
           },
           {
            "bin_start": 359.4,
            "bin_end": 539.0999999999999,
            "count": 3
           },
           {
            "bin_start": 539.0999999999999,
            "bin_end": 718.8,
            "count": 4
           },
           {
            "bin_start": 718.8,
            "bin_end": 898.5,
            "count": 2
           },
           {
            "bin_start": 898.5,
            "bin_end": 1078.1999999999998,
            "count": 2
           },
           {
            "bin_start": 1078.1999999999998,
            "bin_end": 1257.8999999999999,
            "count": 1
           },
           {
            "bin_start": 1257.8999999999999,
            "bin_end": 1437.6,
            "count": 0
           },
           {
            "bin_start": 1437.6,
            "bin_end": 1617.3,
            "count": 1
           },
           {
            "bin_start": 1617.3,
            "bin_end": 1797,
            "count": 1
           }
          ]
         }
        },
        {
         "name": "w_1stIn_hard",
         "dtype": "float64",
         "stats": {
          "unique_count": 39,
          "nan_count": 0,
          "min": "0.0",
          "max": "7987.0",
          "histogram": [
           {
            "bin_start": 0,
            "bin_end": 798.7,
            "count": 27
           },
           {
            "bin_start": 798.7,
            "bin_end": 1597.4,
            "count": 8
           },
           {
            "bin_start": 1597.4,
            "bin_end": 2396.1000000000004,
            "count": 4
           },
           {
            "bin_start": 2396.1000000000004,
            "bin_end": 3194.8,
            "count": 2
           },
           {
            "bin_start": 3194.8,
            "bin_end": 3993.5,
            "count": 1
           },
           {
            "bin_start": 3993.5,
            "bin_end": 4792.200000000001,
            "count": 1
           },
           {
            "bin_start": 4792.200000000001,
            "bin_end": 5590.900000000001,
            "count": 1
           },
           {
            "bin_start": 5590.900000000001,
            "bin_end": 6389.6,
            "count": 3
           },
           {
            "bin_start": 6389.6,
            "bin_end": 7188.3,
            "count": 1
           },
           {
            "bin_start": 7188.3,
            "bin_end": 7987,
            "count": 2
           }
          ]
         }
        },
        {
         "name": "w_1stIn_carpet",
         "dtype": "float64",
         "stats": {
          "unique_count": 39,
          "nan_count": 0,
          "min": "0.0",
          "max": "7987.0",
          "histogram": [
           {
            "bin_start": 0,
            "bin_end": 798.7,
            "count": 27
           },
           {
            "bin_start": 798.7,
            "bin_end": 1597.4,
            "count": 8
           },
           {
            "bin_start": 1597.4,
            "bin_end": 2396.1000000000004,
            "count": 4
           },
           {
            "bin_start": 2396.1000000000004,
            "bin_end": 3194.8,
            "count": 2
           },
           {
            "bin_start": 3194.8,
            "bin_end": 3993.5,
            "count": 1
           },
           {
            "bin_start": 3993.5,
            "bin_end": 4792.200000000001,
            "count": 1
           },
           {
            "bin_start": 4792.200000000001,
            "bin_end": 5590.900000000001,
            "count": 1
           },
           {
            "bin_start": 5590.900000000001,
            "bin_end": 6389.6,
            "count": 3
           },
           {
            "bin_start": 6389.6,
            "bin_end": 7188.3,
            "count": 1
           },
           {
            "bin_start": 7188.3,
            "bin_end": 7987,
            "count": 2
           }
          ]
         }
        },
        {
         "name": "w_1stWon_clay",
         "dtype": "float64",
         "stats": {
          "unique_count": 44,
          "nan_count": 0,
          "min": "0.0",
          "max": "2491.0",
          "histogram": [
           {
            "bin_start": 0,
            "bin_end": 249.1,
            "count": 22
           },
           {
            "bin_start": 249.1,
            "bin_end": 498.2,
            "count": 6
           },
           {
            "bin_start": 498.2,
            "bin_end": 747.3,
            "count": 9
           },
           {
            "bin_start": 747.3,
            "bin_end": 996.4,
            "count": 3
           },
           {
            "bin_start": 996.4,
            "bin_end": 1245.5,
            "count": 2
           },
           {
            "bin_start": 1245.5,
            "bin_end": 1494.6,
            "count": 2
           },
           {
            "bin_start": 1494.6,
            "bin_end": 1743.7,
            "count": 2
           },
           {
            "bin_start": 1743.7,
            "bin_end": 1992.8,
            "count": 2
           },
           {
            "bin_start": 1992.8,
            "bin_end": 2241.9,
            "count": 0
           },
           {
            "bin_start": 2241.9,
            "bin_end": 2491,
            "count": 2
           }
          ]
         }
        },
        {
         "name": "w_1stWon_grass",
         "dtype": "float64",
         "stats": {
          "unique_count": 29,
          "nan_count": 0,
          "min": "0.0",
          "max": "1378.0",
          "histogram": [
           {
            "bin_start": 0,
            "bin_end": 137.8,
            "count": 33
           },
           {
            "bin_start": 137.8,
            "bin_end": 275.6,
            "count": 5
           },
           {
            "bin_start": 275.6,
            "bin_end": 413.40000000000003,
            "count": 1
           },
           {
            "bin_start": 413.40000000000003,
            "bin_end": 551.2,
            "count": 6
           },
           {
            "bin_start": 551.2,
            "bin_end": 689,
            "count": 2
           },
           {
            "bin_start": 689,
            "bin_end": 826.8000000000001,
            "count": 1
           },
           {
            "bin_start": 826.8000000000001,
            "bin_end": 964.6000000000001,
            "count": 0
           },
           {
            "bin_start": 964.6000000000001,
            "bin_end": 1102.4,
            "count": 0
           },
           {
            "bin_start": 1102.4,
            "bin_end": 1240.2,
            "count": 1
           },
           {
            "bin_start": 1240.2,
            "bin_end": 1378,
            "count": 1
           }
          ]
         }
        },
        {
         "name": "w_1stWon_hard",
         "dtype": "float64",
         "stats": {
          "unique_count": 38,
          "nan_count": 0,
          "min": "0.0",
          "max": "5530.0",
          "histogram": [
           {
            "bin_start": 0,
            "bin_end": 553,
            "count": 27
           },
           {
            "bin_start": 553,
            "bin_end": 1106,
            "count": 9
           },
           {
            "bin_start": 1106,
            "bin_end": 1659,
            "count": 3
           },
           {
            "bin_start": 1659,
            "bin_end": 2212,
            "count": 2
           },
           {
            "bin_start": 2212,
            "bin_end": 2765,
            "count": 1
           },
           {
            "bin_start": 2765,
            "bin_end": 3318,
            "count": 1
           },
           {
            "bin_start": 3318,
            "bin_end": 3871,
            "count": 1
           },
           {
            "bin_start": 3871,
            "bin_end": 4424,
            "count": 2
           },
           {
            "bin_start": 4424,
            "bin_end": 4977,
            "count": 2
           },
           {
            "bin_start": 4977,
            "bin_end": 5530,
            "count": 2
           }
          ]
         }
        },
        {
         "name": "w_1stWon_carpet",
         "dtype": "float64",
         "stats": {
          "unique_count": 38,
          "nan_count": 0,
          "min": "0.0",
          "max": "5530.0",
          "histogram": [
           {
            "bin_start": 0,
            "bin_end": 553,
            "count": 27
           },
           {
            "bin_start": 553,
            "bin_end": 1106,
            "count": 9
           },
           {
            "bin_start": 1106,
            "bin_end": 1659,
            "count": 3
           },
           {
            "bin_start": 1659,
            "bin_end": 2212,
            "count": 2
           },
           {
            "bin_start": 2212,
            "bin_end": 2765,
            "count": 1
           },
           {
            "bin_start": 2765,
            "bin_end": 3318,
            "count": 1
           },
           {
            "bin_start": 3318,
            "bin_end": 3871,
            "count": 1
           },
           {
            "bin_start": 3871,
            "bin_end": 4424,
            "count": 2
           },
           {
            "bin_start": 4424,
            "bin_end": 4977,
            "count": 2
           },
           {
            "bin_start": 4977,
            "bin_end": 5530,
            "count": 2
           }
          ]
         }
        },
        {
         "name": "w_2ndWon_clay",
         "dtype": "float64",
         "stats": {
          "unique_count": 43,
          "nan_count": 0,
          "min": "0.0",
          "max": "1169.0",
          "histogram": [
           {
            "bin_start": 0,
            "bin_end": 116.9,
            "count": 23
           },
           {
            "bin_start": 116.9,
            "bin_end": 233.8,
            "count": 8
           },
           {
            "bin_start": 233.8,
            "bin_end": 350.70000000000005,
            "count": 7
           },
           {
            "bin_start": 350.70000000000005,
            "bin_end": 467.6,
            "count": 2
           },
           {
            "bin_start": 467.6,
            "bin_end": 584.5,
            "count": 2
           },
           {
            "bin_start": 584.5,
            "bin_end": 701.4000000000001,
            "count": 3
           },
           {
            "bin_start": 701.4000000000001,
            "bin_end": 818.3000000000001,
            "count": 3
           },
           {
            "bin_start": 818.3000000000001,
            "bin_end": 935.2,
            "count": 1
           },
           {
            "bin_start": 935.2,
            "bin_end": 1052.1000000000001,
            "count": 0
           },
           {
            "bin_start": 1052.1000000000001,
            "bin_end": 1169,
            "count": 1
           }
          ]
         }
        },
        {
         "name": "w_2ndWon_grass",
         "dtype": "float64",
         "stats": {
          "unique_count": 29,
          "nan_count": 0,
          "min": "0.0",
          "max": "495.0",
          "histogram": [
           {
            "bin_start": 0,
            "bin_end": 49.5,
            "count": 34
           },
           {
            "bin_start": 49.5,
            "bin_end": 99,
            "count": 1
           },
           {
            "bin_start": 99,
            "bin_end": 148.5,
            "count": 4
           },
           {
            "bin_start": 148.5,
            "bin_end": 198,
            "count": 3
           },
           {
            "bin_start": 198,
            "bin_end": 247.5,
            "count": 2
           },
           {
            "bin_start": 247.5,
            "bin_end": 297,
            "count": 3
           },
           {
            "bin_start": 297,
            "bin_end": 346.5,
            "count": 1
           },
           {
            "bin_start": 346.5,
            "bin_end": 396,
            "count": 0
           },
           {
            "bin_start": 396,
            "bin_end": 445.5,
            "count": 0
           },
           {
            "bin_start": 445.5,
            "bin_end": 495,
            "count": 2
           }
          ]
         }
        },
        {
         "name": "w_2ndWon_hard",
         "dtype": "float64",
         "stats": {
          "unique_count": 38,
          "nan_count": 0,
          "min": "0.0",
          "max": "2628.0",
          "histogram": [
           {
            "bin_start": 0,
            "bin_end": 262.8,
            "count": 26
           },
           {
            "bin_start": 262.8,
            "bin_end": 525.6,
            "count": 11
           },
           {
            "bin_start": 525.6,
            "bin_end": 788.4000000000001,
            "count": 3
           },
           {
            "bin_start": 788.4000000000001,
            "bin_end": 1051.2,
            "count": 2
           },
           {
            "bin_start": 1051.2,
            "bin_end": 1314,
            "count": 1
           },
           {
            "bin_start": 1314,
            "bin_end": 1576.8000000000002,
            "count": 2
           },
           {
            "bin_start": 1576.8000000000002,
            "bin_end": 1839.6000000000001,
            "count": 1
           },
           {
            "bin_start": 1839.6000000000001,
            "bin_end": 2102.4,
            "count": 0
           },
           {
            "bin_start": 2102.4,
            "bin_end": 2365.2000000000003,
            "count": 3
           },
           {
            "bin_start": 2365.2000000000003,
            "bin_end": 2628,
            "count": 1
           }
          ]
         }
        },
        {
         "name": "w_2ndWon_carpet",
         "dtype": "float64",
         "stats": {
          "unique_count": 38,
          "nan_count": 0,
          "min": "0.0",
          "max": "2628.0",
          "histogram": [
           {
            "bin_start": 0,
            "bin_end": 262.8,
            "count": 26
           },
           {
            "bin_start": 262.8,
            "bin_end": 525.6,
            "count": 11
           },
           {
            "bin_start": 525.6,
            "bin_end": 788.4000000000001,
            "count": 3
           },
           {
            "bin_start": 788.4000000000001,
            "bin_end": 1051.2,
            "count": 2
           },
           {
            "bin_start": 1051.2,
            "bin_end": 1314,
            "count": 1
           },
           {
            "bin_start": 1314,
            "bin_end": 1576.8000000000002,
            "count": 2
           },
           {
            "bin_start": 1576.8000000000002,
            "bin_end": 1839.6000000000001,
            "count": 1
           },
           {
            "bin_start": 1839.6000000000001,
            "bin_end": 2102.4,
            "count": 0
           },
           {
            "bin_start": 2102.4,
            "bin_end": 2365.2000000000003,
            "count": 3
           },
           {
            "bin_start": 2365.2000000000003,
            "bin_end": 2628,
            "count": 1
           }
          ]
         }
        },
        {
         "name": "w_SvGms_clay",
         "dtype": "float64",
         "stats": {
          "unique_count": 40,
          "nan_count": 0,
          "min": "0.0",
          "max": "892.0",
          "histogram": [
           {
            "bin_start": 0,
            "bin_end": 89.2,
            "count": 21
           },
           {
            "bin_start": 89.2,
            "bin_end": 178.4,
            "count": 9
           },
           {
            "bin_start": 178.4,
            "bin_end": 267.6,
            "count": 8
           },
           {
            "bin_start": 267.6,
            "bin_end": 356.8,
            "count": 3
           },
           {
            "bin_start": 356.8,
            "bin_end": 446,
            "count": 1
           },
           {
            "bin_start": 446,
            "bin_end": 535.2,
            "count": 3
           },
           {
            "bin_start": 535.2,
            "bin_end": 624.4,
            "count": 2
           },
           {
            "bin_start": 624.4,
            "bin_end": 713.6,
            "count": 1
           },
           {
            "bin_start": 713.6,
            "bin_end": 802.8000000000001,
            "count": 1
           },
           {
            "bin_start": 802.8000000000001,
            "bin_end": 892,
            "count": 1
           }
          ]
         }
        },
        {
         "name": "w_SvGms_grass",
         "dtype": "float64",
         "stats": {
          "unique_count": 29,
          "nan_count": 0,
          "min": "0.0",
          "max": "432.0",
          "histogram": [
           {
            "bin_start": 0,
            "bin_end": 43.2,
            "count": 34
           },
           {
            "bin_start": 43.2,
            "bin_end": 86.4,
            "count": 2
           },
           {
            "bin_start": 86.4,
            "bin_end": 129.60000000000002,
            "count": 5
           },
           {
            "bin_start": 129.60000000000002,
            "bin_end": 172.8,
            "count": 3
           },
           {
            "bin_start": 172.8,
            "bin_end": 216,
            "count": 1
           },
           {
            "bin_start": 216,
            "bin_end": 259.20000000000005,
            "count": 3
           },
           {
            "bin_start": 259.20000000000005,
            "bin_end": 302.40000000000003,
            "count": 0
           },
           {
            "bin_start": 302.40000000000003,
            "bin_end": 345.6,
            "count": 0
           },
           {
            "bin_start": 345.6,
            "bin_end": 388.8,
            "count": 0
           },
           {
            "bin_start": 388.8,
            "bin_end": 432,
            "count": 2
           }
          ]
         }
        },
        {
         "name": "w_SvGms_hard",
         "dtype": "float64",
         "stats": {
          "unique_count": 38,
          "nan_count": 0,
          "min": "0.0",
          "max": "1990.0",
          "histogram": [
           {
            "bin_start": 0,
            "bin_end": 199,
            "count": 27
           },
           {
            "bin_start": 199,
            "bin_end": 398,
            "count": 9
           },
           {
            "bin_start": 398,
            "bin_end": 597,
            "count": 4
           },
           {
            "bin_start": 597,
            "bin_end": 796,
            "count": 1
           },
           {
            "bin_start": 796,
            "bin_end": 995,
            "count": 1
           },
           {
            "bin_start": 995,
            "bin_end": 1194,
            "count": 2
           },
           {
            "bin_start": 1194,
            "bin_end": 1393,
            "count": 1
           },
           {
            "bin_start": 1393,
            "bin_end": 1592,
            "count": 1
           },
           {
            "bin_start": 1592,
            "bin_end": 1791,
            "count": 2
           },
           {
            "bin_start": 1791,
            "bin_end": 1990,
            "count": 2
           }
          ]
         }
        },
        {
         "name": "w_SvGms_carpet",
         "dtype": "float64",
         "stats": {
          "unique_count": 38,
          "nan_count": 0,
          "min": "0.0",
          "max": "1990.0",
          "histogram": [
           {
            "bin_start": 0,
            "bin_end": 199,
            "count": 27
           },
           {
            "bin_start": 199,
            "bin_end": 398,
            "count": 9
           },
           {
            "bin_start": 398,
            "bin_end": 597,
            "count": 4
           },
           {
            "bin_start": 597,
            "bin_end": 796,
            "count": 1
           },
           {
            "bin_start": 796,
            "bin_end": 995,
            "count": 1
           },
           {
            "bin_start": 995,
            "bin_end": 1194,
            "count": 2
           },
           {
            "bin_start": 1194,
            "bin_end": 1393,
            "count": 1
           },
           {
            "bin_start": 1393,
            "bin_end": 1592,
            "count": 1
           },
           {
            "bin_start": 1592,
            "bin_end": 1791,
            "count": 2
           },
           {
            "bin_start": 1791,
            "bin_end": 1990,
            "count": 2
           }
          ]
         }
        },
        {
         "name": "w_bpSaved_clay",
         "dtype": "float64",
         "stats": {
          "unique_count": 40,
          "nan_count": 0,
          "min": "0.0",
          "max": "303.0",
          "histogram": [
           {
            "bin_start": 0,
            "bin_end": 30.3,
            "count": 21
           },
           {
            "bin_start": 30.3,
            "bin_end": 60.6,
            "count": 6
           },
           {
            "bin_start": 60.6,
            "bin_end": 90.9,
            "count": 7
           },
           {
            "bin_start": 90.9,
            "bin_end": 121.2,
            "count": 4
           },
           {
            "bin_start": 121.2,
            "bin_end": 151.5,
            "count": 3
           },
           {
            "bin_start": 151.5,
            "bin_end": 181.8,
            "count": 3
           },
           {
            "bin_start": 181.8,
            "bin_end": 212.1,
            "count": 1
           },
           {
            "bin_start": 212.1,
            "bin_end": 242.4,
            "count": 2
           },
           {
            "bin_start": 242.4,
            "bin_end": 272.7,
            "count": 0
           },
           {
            "bin_start": 272.7,
            "bin_end": 303,
            "count": 3
           }
          ]
         }
        },
        {
         "name": "w_bpSaved_grass",
         "dtype": "float64",
         "stats": {
          "unique_count": 26,
          "nan_count": 0,
          "min": "0.0",
          "max": "121.0",
          "histogram": [
           {
            "bin_start": 0,
            "bin_end": 12.1,
            "count": 32
           },
           {
            "bin_start": 12.1,
            "bin_end": 24.2,
            "count": 3
           },
           {
            "bin_start": 24.2,
            "bin_end": 36.3,
            "count": 2
           },
           {
            "bin_start": 36.3,
            "bin_end": 48.4,
            "count": 4
           },
           {
            "bin_start": 48.4,
            "bin_end": 60.5,
            "count": 1
           },
           {
            "bin_start": 60.5,
            "bin_end": 72.6,
            "count": 4
           },
           {
            "bin_start": 72.6,
            "bin_end": 84.7,
            "count": 0
           },
           {
            "bin_start": 84.7,
            "bin_end": 96.8,
            "count": 1
           },
           {
            "bin_start": 96.8,
            "bin_end": 108.89999999999999,
            "count": 0
           },
           {
            "bin_start": 108.89999999999999,
            "bin_end": 121,
            "count": 3
           }
          ]
         }
        },
        {
         "name": "w_bpSaved_hard",
         "dtype": "float64",
         "stats": {
          "unique_count": 38,
          "nan_count": 0,
          "min": "0.0",
          "max": "701.0",
          "histogram": [
           {
            "bin_start": 0,
            "bin_end": 70.1,
            "count": 27
           },
           {
            "bin_start": 70.1,
            "bin_end": 140.2,
            "count": 8
           },
           {
            "bin_start": 140.2,
            "bin_end": 210.29999999999998,
            "count": 5
           },
           {
            "bin_start": 210.29999999999998,
            "bin_end": 280.4,
            "count": 1
           },
           {
            "bin_start": 280.4,
            "bin_end": 350.5,
            "count": 1
           },
           {
            "bin_start": 350.5,
            "bin_end": 420.59999999999997,
            "count": 1
           },
           {
            "bin_start": 420.59999999999997,
            "bin_end": 490.69999999999993,
            "count": 3
           },
           {
            "bin_start": 490.69999999999993,
            "bin_end": 560.8,
            "count": 1
           },
           {
            "bin_start": 560.8,
            "bin_end": 630.9,
            "count": 1
           },
           {
            "bin_start": 630.9,
            "bin_end": 701,
            "count": 2
           }
          ]
         }
        },
        {
         "name": "w_bpSaved_carpet",
         "dtype": "float64",
         "stats": {
          "unique_count": 38,
          "nan_count": 0,
          "min": "0.0",
          "max": "701.0",
          "histogram": [
           {
            "bin_start": 0,
            "bin_end": 70.1,
            "count": 27
           },
           {
            "bin_start": 70.1,
            "bin_end": 140.2,
            "count": 8
           },
           {
            "bin_start": 140.2,
            "bin_end": 210.29999999999998,
            "count": 5
           },
           {
            "bin_start": 210.29999999999998,
            "bin_end": 280.4,
            "count": 1
           },
           {
            "bin_start": 280.4,
            "bin_end": 350.5,
            "count": 1
           },
           {
            "bin_start": 350.5,
            "bin_end": 420.59999999999997,
            "count": 1
           },
           {
            "bin_start": 420.59999999999997,
            "bin_end": 490.69999999999993,
            "count": 3
           },
           {
            "bin_start": 490.69999999999993,
            "bin_end": 560.8,
            "count": 1
           },
           {
            "bin_start": 560.8,
            "bin_end": 630.9,
            "count": 1
           },
           {
            "bin_start": 630.9,
            "bin_end": 701,
            "count": 2
           }
          ]
         }
        },
        {
         "name": "w_bpFaced_clay",
         "dtype": "float64",
         "stats": {
          "unique_count": 42,
          "nan_count": 0,
          "min": "0.0",
          "max": "514.0",
          "histogram": [
           {
            "bin_start": 0,
            "bin_end": 51.4,
            "count": 21
           },
           {
            "bin_start": 51.4,
            "bin_end": 102.8,
            "count": 6
           },
           {
            "bin_start": 102.8,
            "bin_end": 154.2,
            "count": 9
           },
           {
            "bin_start": 154.2,
            "bin_end": 205.6,
            "count": 3
           },
           {
            "bin_start": 205.6,
            "bin_end": 257,
            "count": 5
           },
           {
            "bin_start": 257,
            "bin_end": 308.4,
            "count": 1
           },
           {
            "bin_start": 308.4,
            "bin_end": 359.8,
            "count": 0
           },
           {
            "bin_start": 359.8,
            "bin_end": 411.2,
            "count": 2
           },
           {
            "bin_start": 411.2,
            "bin_end": 462.59999999999997,
            "count": 0
           },
           {
            "bin_start": 462.59999999999997,
            "bin_end": 514,
            "count": 3
           }
          ]
         }
        },
        {
         "name": "w_bpFaced_grass",
         "dtype": "float64",
         "stats": {
          "unique_count": 27,
          "nan_count": 0,
          "min": "0.0",
          "max": "175.0",
          "histogram": [
           {
            "bin_start": 0,
            "bin_end": 17.5,
            "count": 31
           },
           {
            "bin_start": 17.5,
            "bin_end": 35,
            "count": 4
           },
           {
            "bin_start": 35,
            "bin_end": 52.5,
            "count": 2
           },
           {
            "bin_start": 52.5,
            "bin_end": 70,
            "count": 1
           },
           {
            "bin_start": 70,
            "bin_end": 87.5,
            "count": 4
           },
           {
            "bin_start": 87.5,
            "bin_end": 105,
            "count": 3
           },
           {
            "bin_start": 105,
            "bin_end": 122.5,
            "count": 1
           },
           {
            "bin_start": 122.5,
            "bin_end": 140,
            "count": 0
           },
           {
            "bin_start": 140,
            "bin_end": 157.5,
            "count": 1
           },
           {
            "bin_start": 157.5,
            "bin_end": 175,
            "count": 3
           }
          ]
         }
        },
        {
         "name": "w_bpFaced_hard",
         "dtype": "float64",
         "stats": {
          "unique_count": 39,
          "nan_count": 0,
          "min": "0.0",
          "max": "1163.0",
          "histogram": [
           {
            "bin_start": 0,
            "bin_end": 116.3,
            "count": 27
           },
           {
            "bin_start": 116.3,
            "bin_end": 232.6,
            "count": 7
           },
           {
            "bin_start": 232.6,
            "bin_end": 348.9,
            "count": 5
           },
           {
            "bin_start": 348.9,
            "bin_end": 465.2,
            "count": 2
           },
           {
            "bin_start": 465.2,
            "bin_end": 581.5,
            "count": 1
           },
           {
            "bin_start": 581.5,
            "bin_end": 697.8,
            "count": 2
           },
           {
            "bin_start": 697.8,
            "bin_end": 814.1,
            "count": 2
           },
           {
            "bin_start": 814.1,
            "bin_end": 930.4,
            "count": 2
           },
           {
            "bin_start": 930.4,
            "bin_end": 1046.7,
            "count": 1
           },
           {
            "bin_start": 1046.7,
            "bin_end": 1163,
            "count": 1
           }
          ]
         }
        },
        {
         "name": "w_bpFaced_carpet",
         "dtype": "float64",
         "stats": {
          "unique_count": 39,
          "nan_count": 0,
          "min": "0.0",
          "max": "1163.0",
          "histogram": [
           {
            "bin_start": 0,
            "bin_end": 116.3,
            "count": 27
           },
           {
            "bin_start": 116.3,
            "bin_end": 232.6,
            "count": 7
           },
           {
            "bin_start": 232.6,
            "bin_end": 348.9,
            "count": 5
           },
           {
            "bin_start": 348.9,
            "bin_end": 465.2,
            "count": 2
           },
           {
            "bin_start": 465.2,
            "bin_end": 581.5,
            "count": 1
           },
           {
            "bin_start": 581.5,
            "bin_end": 697.8,
            "count": 2
           },
           {
            "bin_start": 697.8,
            "bin_end": 814.1,
            "count": 2
           },
           {
            "bin_start": 814.1,
            "bin_end": 930.4,
            "count": 2
           },
           {
            "bin_start": 930.4,
            "bin_end": 1046.7,
            "count": 1
           },
           {
            "bin_start": 1046.7,
            "bin_end": 1163,
            "count": 1
           }
          ]
         }
        },
        {
         "name": "_deepnote_index_column",
         "dtype": "int64"
        }
       ],
       "rows_top": [
        {
         "Name": "Fernanda Brito",
         "w_ace_clay": 2,
         "w_ace_grass": 0,
         "w_ace_hard": 0,
         "w_ace_carpet": 0,
         "w_df_clay": 8,
         "w_df_grass": 0,
         "w_df_hard": 0,
         "w_df_carpet": 0,
         "w_svpt_clay": 166,
         "w_svpt_grass": 0,
         "w_svpt_hard": 0,
         "w_svpt_carpet": 0,
         "w_1stIn_clay": 114,
         "w_1stIn_grass": 0,
         "w_1stIn_hard": 0,
         "w_1stIn_carpet": 0,
         "w_1stWon_clay": 71,
         "w_1stWon_grass": 0,
         "w_1stWon_hard": 0,
         "w_1stWon_carpet": 0,
         "w_2ndWon_clay": 25,
         "w_2ndWon_grass": 0,
         "w_2ndWon_hard": 0,
         "w_2ndWon_carpet": 0,
         "w_SvGms_clay": 26,
         "w_SvGms_grass": 0,
         "w_SvGms_hard": 0,
         "w_SvGms_carpet": 0,
         "w_bpSaved_clay": 5,
         "w_bpSaved_grass": 0,
         "w_bpSaved_hard": 0,
         "w_bpSaved_carpet": 0,
         "w_bpFaced_clay": 13,
         "w_bpFaced_grass": 0,
         "w_bpFaced_hard": 0,
         "w_bpFaced_carpet": 0,
         "_deepnote_index_column": 722
        },
        {
         "Name": "Arantxa Rus",
         "w_ace_clay": 57,
         "w_ace_grass": 23,
         "w_ace_hard": 90,
         "w_ace_carpet": 90,
         "w_df_clay": 98,
         "w_df_grass": 19,
         "w_df_hard": 114,
         "w_df_carpet": 114,
         "w_svpt_clay": 2254,
         "w_svpt_grass": 548,
         "w_svpt_hard": 2667,
         "w_svpt_carpet": 2667,
         "w_1stIn_clay": 1563,
         "w_1stIn_grass": 367,
         "w_1stIn_hard": 1917,
         "w_1stIn_carpet": 1917,
         "w_1stWon_clay": 1031,
         "w_1stWon_grass": 267,
         "w_1stWon_hard": 1241,
         "w_1stWon_carpet": 1241,
         "w_2ndWon_clay": 351,
         "w_2ndWon_grass": 104,
         "w_2ndWon_hard": 452,
         "w_2ndWon_carpet": 452,
         "w_SvGms_clay": 356,
         "w_SvGms_grass": 87,
         "w_SvGms_hard": 408,
         "w_SvGms_carpet": 408,
         "w_bpSaved_clay": 128,
         "w_bpSaved_grass": 25,
         "w_bpSaved_hard": 166,
         "w_bpSaved_carpet": 166,
         "w_bpFaced_clay": 216,
         "w_bpFaced_grass": 35,
         "w_bpFaced_hard": 261,
         "w_bpFaced_carpet": 261,
         "_deepnote_index_column": 118
        },
        {
         "Name": "Nuria Parrizas Diaz",
         "w_ace_clay": 2,
         "w_ace_grass": 6,
         "w_ace_hard": 1,
         "w_ace_carpet": 1,
         "w_df_clay": 23,
         "w_df_grass": 8,
         "w_df_hard": 3,
         "w_df_carpet": 3,
         "w_svpt_clay": 1135,
         "w_svpt_grass": 146,
         "w_svpt_hard": 126,
         "w_svpt_carpet": 126,
         "w_1stIn_clay": 839,
         "w_1stIn_grass": 94,
         "w_1stIn_hard": 88,
         "w_1stIn_carpet": 88,
         "w_1stWon_clay": 519,
         "w_1stWon_grass": 69,
         "w_1stWon_hard": 53,
         "w_1stWon_carpet": 53,
         "w_2ndWon_clay": 144,
         "w_2ndWon_grass": 27,
         "w_2ndWon_hard": 19,
         "w_2ndWon_carpet": 19,
         "w_SvGms_clay": 173,
         "w_SvGms_grass": 22,
         "w_SvGms_hard": 21,
         "w_SvGms_carpet": 21,
         "w_bpSaved_clay": 67,
         "w_bpSaved_grass": 3,
         "w_bpSaved_hard": 5,
         "w_bpSaved_carpet": 5,
         "w_bpFaced_clay": 115,
         "w_bpFaced_grass": 6,
         "w_bpFaced_hard": 12,
         "w_bpFaced_carpet": 12,
         "_deepnote_index_column": 434
        },
        {
         "Name": "Tamara Zidansek",
         "w_ace_clay": 69,
         "w_ace_grass": 1,
         "w_ace_hard": 43,
         "w_ace_carpet": 43,
         "w_df_clay": 152,
         "w_df_grass": 6,
         "w_df_hard": 69,
         "w_df_carpet": 69,
         "w_svpt_clay": 4226,
         "w_svpt_grass": 211,
         "w_svpt_hard": 2123,
         "w_svpt_carpet": 2123,
         "w_1stIn_clay": 2780,
         "w_1stIn_grass": 141,
         "w_1stIn_hard": 1508,
         "w_1stIn_carpet": 1508,
         "w_1stWon_clay": 1751,
         "w_1stWon_grass": 79,
         "w_1stWon_hard": 940,
         "w_1stWon_carpet": 940,
         "w_2ndWon_clay": 710,
         "w_2ndWon_grass": 29,
         "w_2ndWon_hard": 306,
         "w_2ndWon_carpet": 306,
         "w_SvGms_clay": 636,
         "w_SvGms_grass": 35,
         "w_SvGms_hard": 306,
         "w_SvGms_carpet": 306,
         "w_bpSaved_clay": 284,
         "w_bpSaved_grass": 10,
         "w_bpSaved_hard": 142,
         "w_bpSaved_carpet": 142,
         "w_bpFaced_clay": 481,
         "w_bpFaced_grass": 27,
         "w_bpFaced_hard": 228,
         "w_bpFaced_carpet": 228,
         "_deepnote_index_column": 1494
        },
        {
         "Name": "Ylona Georgiana Ghioroaie",
         "w_ace_clay": 0,
         "w_ace_grass": 0,
         "w_ace_hard": 0,
         "w_ace_carpet": 0,
         "w_df_clay": 0,
         "w_df_grass": 0,
         "w_df_hard": 0,
         "w_df_carpet": 0,
         "w_svpt_clay": 0,
         "w_svpt_grass": 0,
         "w_svpt_hard": 0,
         "w_svpt_carpet": 0,
         "w_1stIn_clay": 0,
         "w_1stIn_grass": 0,
         "w_1stIn_hard": 0,
         "w_1stIn_carpet": 0,
         "w_1stWon_clay": 0,
         "w_1stWon_grass": 0,
         "w_1stWon_hard": 0,
         "w_1stWon_carpet": 0,
         "w_2ndWon_clay": 0,
         "w_2ndWon_grass": 0,
         "w_2ndWon_hard": 0,
         "w_2ndWon_carpet": 0,
         "w_SvGms_clay": 0,
         "w_SvGms_grass": 0,
         "w_SvGms_hard": 0,
         "w_SvGms_carpet": 0,
         "w_bpSaved_clay": 0,
         "w_bpSaved_grass": 0,
         "w_bpSaved_hard": 0,
         "w_bpSaved_carpet": 0,
         "w_bpFaced_clay": 0,
         "w_bpFaced_grass": 0,
         "w_bpFaced_hard": 0,
         "w_bpFaced_carpet": 0,
         "_deepnote_index_column": 1578
        },
        {
         "Name": "Ashleigh Barty",
         "w_ace_clay": 130,
         "w_ace_grass": 71,
         "w_ace_hard": 341,
         "w_ace_carpet": 341,
         "w_df_clay": 136,
         "w_df_grass": 117,
         "w_df_hard": 464,
         "w_df_carpet": 464,
         "w_svpt_clay": 3280,
         "w_svpt_grass": 2418,
         "w_svpt_hard": 10878,
         "w_svpt_carpet": 10878,
         "w_1stIn_clay": 1936,
         "w_1stIn_grass": 1480,
         "w_1stIn_hard": 6446,
         "w_1stIn_carpet": 6446,
         "w_1stWon_clay": 1431,
         "w_1stWon_grass": 1130,
         "w_1stWon_hard": 4767,
         "w_1stWon_carpet": 4767,
         "w_2ndWon_clay": 726,
         "w_2ndWon_grass": 490,
         "w_2ndWon_hard": 2234,
         "w_2ndWon_carpet": 2234,
         "w_SvGms_clay": 522,
         "w_SvGms_grass": 400,
         "w_SvGms_hard": 1680,
         "w_SvGms_carpet": 1680,
         "w_bpSaved_clay": 163,
         "w_bpSaved_grass": 121,
         "w_bpSaved_hard": 555,
         "w_bpSaved_carpet": 555,
         "w_bpFaced_clay": 244,
         "w_bpFaced_grass": 175,
         "w_bpFaced_hard": 859,
         "w_bpFaced_carpet": 859,
         "_deepnote_index_column": 248
        },
        {
         "Name": "Elina Svitolina",
         "w_ace_clay": 101,
         "w_ace_grass": 41,
         "w_ace_hard": 506,
         "w_ace_carpet": 506,
         "w_df_clay": 134,
         "w_df_grass": 44,
         "w_df_hard": 467,
         "w_df_carpet": 467,
         "w_svpt_clay": 3770,
         "w_svpt_grass": 1154,
         "w_svpt_hard": 13225,
         "w_svpt_carpet": 13225,
         "w_1stIn_clay": 2340,
         "w_1stIn_grass": 717,
         "w_1stIn_hard": 7987,
         "w_1stIn_carpet": 7987,
         "w_1stWon_clay": 1589,
         "w_1stWon_grass": 491,
         "w_1stWon_hard": 5530,
         "w_1stWon_carpet": 5530,
         "w_2ndWon_clay": 681,
         "w_2ndWon_grass": 223,
         "w_2ndWon_hard": 2628,
         "w_2ndWon_carpet": 2628,
         "w_SvGms_clay": 517,
         "w_SvGms_grass": 128,
         "w_SvGms_hard": 1990,
         "w_SvGms_carpet": 1990,
         "w_bpSaved_clay": 227,
         "w_bpSaved_grass": 64,
         "w_bpSaved_hard": 701,
         "w_bpSaved_carpet": 701,
         "w_bpFaced_clay": 375,
         "w_bpFaced_grass": 99,
         "w_bpFaced_hard": 1163,
         "w_bpFaced_carpet": 1163,
         "_deepnote_index_column": 272
        },
        {
         "Name": "Aryna Sabalenka",
         "w_ace_clay": 79,
         "w_ace_grass": 48,
         "w_ace_hard": 371,
         "w_ace_carpet": 371,
         "w_df_clay": 143,
         "w_df_grass": 91,
         "w_df_hard": 667,
         "w_df_carpet": 667,
         "w_svpt_clay": 2465,
         "w_svpt_grass": 1520,
         "w_svpt_hard": 10407,
         "w_svpt_carpet": 10407,
         "w_1stIn_clay": 1516,
         "w_1stIn_grass": 923,
         "w_1stIn_hard": 6238,
         "w_1stIn_carpet": 6238,
         "w_1stWon_clay": 1067,
         "w_1stWon_grass": 617,
         "w_1stWon_hard": 4507,
         "w_1stWon_carpet": 4507,
         "w_2ndWon_clay": 473,
         "w_2ndWon_grass": 310,
         "w_2ndWon_hard": 2117,
         "w_2ndWon_carpet": 2117,
         "w_SvGms_clay": 373,
         "w_SvGms_grass": 217,
         "w_SvGms_hard": 1598,
         "w_SvGms_carpet": 1598,
         "w_bpSaved_clay": 159,
         "w_bpSaved_grass": 110,
         "w_bpSaved_hard": 572,
         "w_bpSaved_carpet": 572,
         "w_bpFaced_clay": 234,
         "w_bpFaced_grass": 166,
         "w_bpFaced_hard": 877,
         "w_bpFaced_carpet": 877,
         "_deepnote_index_column": 1523
        },
        {
         "Name": "Karolina Pliskova",
         "w_ace_clay": 102,
         "w_ace_grass": 61,
         "w_ace_hard": 356,
         "w_ace_carpet": 356,
         "w_df_clay": 187,
         "w_df_grass": 109,
         "w_df_hard": 541,
         "w_df_carpet": 541,
         "w_svpt_clay": 3804,
         "w_svpt_grass": 2769,
         "w_svpt_hard": 11825,
         "w_svpt_carpet": 11825,
         "w_1stIn_clay": 2378,
         "w_1stIn_grass": 1797,
         "w_1stIn_hard": 7216,
         "w_1stIn_carpet": 7216,
         "w_1stWon_clay": 1763,
         "w_1stWon_grass": 1378,
         "w_1stWon_hard": 5401,
         "w_1stWon_carpet": 5401,
         "w_2ndWon_clay": 690,
         "w_2ndWon_grass": 495,
         "w_2ndWon_hard": 2226,
         "w_2ndWon_carpet": 2226,
         "w_SvGms_clay": 546,
         "w_SvGms_grass": 432,
         "w_SvGms_hard": 1822,
         "w_SvGms_carpet": 1822,
         "w_bpSaved_clay": 191,
         "w_bpSaved_grass": 113,
         "w_bpSaved_hard": 651,
         "w_bpSaved_carpet": 651,
         "w_bpFaced_clay": 299,
         "w_bpFaced_grass": 163,
         "w_bpFaced_hard": 972,
         "w_bpFaced_carpet": 972,
         "_deepnote_index_column": 176
        },
        {
         "Name": "Simona Halep",
         "w_ace_clay": 145,
         "w_ace_grass": 46,
         "w_ace_hard": 250,
         "w_ace_carpet": 250,
         "w_df_clay": 208,
         "w_df_grass": 53,
         "w_df_hard": 306,
         "w_df_carpet": 306,
         "w_svpt_clay": 5456,
         "w_svpt_grass": 1710,
         "w_svpt_hard": 8825,
         "w_svpt_carpet": 8825,
         "w_1stIn_clay": 3745,
         "w_1stIn_grass": 1196,
         "w_1stIn_hard": 5880,
         "w_1stIn_carpet": 5880,
         "w_1stWon_clay": 2484,
         "w_1stWon_grass": 815,
         "w_1stWon_hard": 3923,
         "w_1stWon_carpet": 3923,
         "w_2ndWon_clay": 856,
         "w_2ndWon_grass": 274,
         "w_2ndWon_hard": 1517,
         "w_2ndWon_carpet": 1517,
         "w_SvGms_clay": 779,
         "w_SvGms_grass": 223,
         "w_SvGms_hard": 1392,
         "w_SvGms_carpet": 1392,
         "w_bpSaved_clay": 303,
         "w_bpSaved_grass": 89,
         "w_bpSaved_hard": 446,
         "w_bpSaved_carpet": 446,
         "w_bpFaced_clay": 514,
         "w_bpFaced_grass": 143,
         "w_bpFaced_hard": 770,
         "w_bpFaced_carpet": 770,
         "_deepnote_index_column": 142
        },
        {
         "Name": "Andreea Amalia Rosca",
         "w_ace_clay": 0,
         "w_ace_grass": 0,
         "w_ace_hard": 0,
         "w_ace_carpet": 0,
         "w_df_clay": 0,
         "w_df_grass": 0,
         "w_df_hard": 0,
         "w_df_carpet": 0,
         "w_svpt_clay": 0,
         "w_svpt_grass": 0,
         "w_svpt_hard": 0,
         "w_svpt_carpet": 0,
         "w_1stIn_clay": 0,
         "w_1stIn_grass": 0,
         "w_1stIn_hard": 0,
         "w_1stIn_carpet": 0,
         "w_1stWon_clay": 0,
         "w_1stWon_grass": 0,
         "w_1stWon_hard": 0,
         "w_1stWon_carpet": 0,
         "w_2ndWon_clay": 0,
         "w_2ndWon_grass": 0,
         "w_2ndWon_hard": 0,
         "w_2ndWon_carpet": 0,
         "w_SvGms_clay": 0,
         "w_SvGms_grass": 0,
         "w_SvGms_hard": 0,
         "w_SvGms_carpet": 0,
         "w_bpSaved_clay": 0,
         "w_bpSaved_grass": 0,
         "w_bpSaved_hard": 0,
         "w_bpSaved_carpet": 0,
         "w_bpFaced_clay": 0,
         "w_bpFaced_grass": 0,
         "w_bpFaced_hard": 0,
         "w_bpFaced_carpet": 0,
         "_deepnote_index_column": 1261
        },
        {
         "Name": "Sandra Samir",
         "w_ace_clay": 1,
         "w_ace_grass": 0,
         "w_ace_hard": 7,
         "w_ace_carpet": 7,
         "w_df_clay": 12,
         "w_df_grass": 0,
         "w_df_hard": 17,
         "w_df_carpet": 17,
         "w_svpt_clay": 132,
         "w_svpt_grass": 0,
         "w_svpt_hard": 471,
         "w_svpt_carpet": 471,
         "w_1stIn_clay": 80,
         "w_1stIn_grass": 0,
         "w_1stIn_hard": 291,
         "w_1stIn_carpet": 291,
         "w_1stWon_clay": 50,
         "w_1stWon_grass": 0,
         "w_1stWon_hard": 189,
         "w_1stWon_carpet": 189,
         "w_2ndWon_clay": 25,
         "w_2ndWon_grass": 0,
         "w_2ndWon_hard": 87,
         "w_2ndWon_carpet": 87,
         "w_SvGms_clay": 21,
         "w_SvGms_grass": 0,
         "w_SvGms_hard": 69,
         "w_SvGms_carpet": 69,
         "w_bpSaved_clay": 4,
         "w_bpSaved_grass": 0,
         "w_bpSaved_hard": 22,
         "w_bpSaved_carpet": 22,
         "w_bpFaced_clay": 11,
         "w_bpFaced_grass": 0,
         "w_bpFaced_hard": 43,
         "w_bpFaced_carpet": 43,
         "_deepnote_index_column": 1003
        },
        {
         "Name": "Clara Tauson",
         "w_ace_clay": 21,
         "w_ace_grass": 0,
         "w_ace_hard": 46,
         "w_ace_carpet": 46,
         "w_df_clay": 37,
         "w_df_grass": 0,
         "w_df_hard": 51,
         "w_df_carpet": 51,
         "w_svpt_clay": 1184,
         "w_svpt_grass": 0,
         "w_svpt_hard": 1118,
         "w_svpt_carpet": 1118,
         "w_1stIn_clay": 740,
         "w_1stIn_grass": 0,
         "w_1stIn_hard": 647,
         "w_1stIn_carpet": 647,
         "w_1stWon_clay": 505,
         "w_1stWon_grass": 0,
         "w_1stWon_hard": 464,
         "w_1stWon_carpet": 464,
         "w_2ndWon_clay": 244,
         "w_2ndWon_grass": 0,
         "w_2ndWon_hard": 243,
         "w_2ndWon_carpet": 243,
         "w_SvGms_clay": 177,
         "w_SvGms_grass": 0,
         "w_SvGms_hard": 172,
         "w_SvGms_carpet": 172,
         "w_bpSaved_clay": 81,
         "w_bpSaved_grass": 0,
         "w_bpSaved_hard": 57,
         "w_bpSaved_carpet": 57,
         "w_bpFaced_clay": 116,
         "w_bpFaced_grass": 0,
         "w_bpFaced_hard": 92,
         "w_bpFaced_carpet": 92,
         "_deepnote_index_column": 2787
        }
       ],
       "rows_bottom": [
        {
         "Name": "Kiki Bertens",
         "w_ace_clay": 244,
         "w_ace_grass": 59,
         "w_ace_hard": 272,
         "w_ace_carpet": 272,
         "w_df_clay": 312,
         "w_df_grass": 89,
         "w_df_hard": 439,
         "w_df_carpet": 439,
         "w_svpt_clay": 5779,
         "w_svpt_grass": 1303,
         "w_svpt_hard": 7257,
         "w_svpt_carpet": 7257,
         "w_1stIn_clay": 3445,
         "w_1stIn_grass": 752,
         "w_1stIn_hard": 4231,
         "w_1stIn_carpet": 4231,
         "w_1stWon_clay": 2491,
         "w_1stWon_grass": 546,
         "w_1stWon_hard": 3112,
         "w_1stWon_carpet": 3112,
         "w_2ndWon_clay": 1169,
         "w_2ndWon_grass": 277,
         "w_2ndWon_hard": 1457,
         "w_2ndWon_carpet": 1457,
         "w_SvGms_clay": 892,
         "w_SvGms_grass": 208,
         "w_SvGms_hard": 1145,
         "w_SvGms_carpet": 1145,
         "w_bpSaved_clay": 302,
         "w_bpSaved_grass": 61,
         "w_bpSaved_hard": 383,
         "w_bpSaved_carpet": 383,
         "w_bpFaced_clay": 478,
         "w_bpFaced_grass": 102,
         "w_bpFaced_hard": 635,
         "w_bpFaced_carpet": 635,
         "_deepnote_index_column": 224
        },
        {
         "Name": "Sofia Kenin",
         "w_ace_clay": 24,
         "w_ace_grass": 24,
         "w_ace_hard": 191,
         "w_ace_carpet": 191,
         "w_df_clay": 60,
         "w_df_grass": 43,
         "w_df_hard": 404,
         "w_df_carpet": 404,
         "w_svpt_clay": 1301,
         "w_svpt_grass": 1018,
         "w_svpt_hard": 7460,
         "w_svpt_carpet": 7460,
         "w_1stIn_clay": 852,
         "w_1stIn_grass": 701,
         "w_1stIn_hard": 4974,
         "w_1stIn_carpet": 4974,
         "w_1stWon_clay": 566,
         "w_1stWon_grass": 490,
         "w_1stWon_hard": 3415,
         "w_1stWon_carpet": 3415,
         "w_2ndWon_clay": 217,
         "w_2ndWon_grass": 168,
         "w_2ndWon_hard": 1199,
         "w_2ndWon_carpet": 1199,
         "w_SvGms_clay": 199,
         "w_SvGms_grass": 165,
         "w_SvGms_hard": 1096,
         "w_SvGms_carpet": 1096,
         "w_bpSaved_clay": 94,
         "w_bpSaved_grass": 46,
         "w_bpSaved_hard": 435,
         "w_bpSaved_carpet": 435,
         "w_bpFaced_clay": 143,
         "w_bpFaced_grass": 71,
         "w_bpFaced_hard": 684,
         "w_bpFaced_carpet": 684,
         "_deepnote_index_column": 1180
        },
        {
         "Name": "Jaqueline Adina Cristian",
         "w_ace_clay": 38,
         "w_ace_grass": 0,
         "w_ace_hard": 41,
         "w_ace_carpet": 41,
         "w_df_clay": 70,
         "w_df_grass": 0,
         "w_df_hard": 32,
         "w_df_carpet": 32,
         "w_svpt_clay": 1488,
         "w_svpt_grass": 0,
         "w_svpt_hard": 910,
         "w_svpt_carpet": 910,
         "w_1stIn_clay": 895,
         "w_1stIn_grass": 0,
         "w_1stIn_hard": 513,
         "w_1stIn_carpet": 513,
         "w_1stWon_clay": 601,
         "w_1stWon_grass": 0,
         "w_1stWon_hard": 352,
         "w_1stWon_carpet": 352,
         "w_2ndWon_clay": 297,
         "w_2ndWon_grass": 0,
         "w_2ndWon_hard": 245,
         "w_2ndWon_carpet": 245,
         "w_SvGms_clay": 224,
         "w_SvGms_grass": 0,
         "w_SvGms_hard": 143,
         "w_SvGms_carpet": 143,
         "w_bpSaved_clay": 86,
         "w_bpSaved_grass": 0,
         "w_bpSaved_hard": 30,
         "w_bpSaved_carpet": 30,
         "w_bpFaced_clay": 148,
         "w_bpFaced_grass": 0,
         "w_bpFaced_hard": 50,
         "w_bpFaced_carpet": 50,
         "_deepnote_index_column": 1045
        },
        {
         "Name": "Irina Khromacheva",
         "w_ace_clay": 25,
         "w_ace_grass": 5,
         "w_ace_hard": 63,
         "w_ace_carpet": 63,
         "w_df_clay": 64,
         "w_df_grass": 4,
         "w_df_hard": 109,
         "w_df_carpet": 109,
         "w_svpt_clay": 605,
         "w_svpt_grass": 114,
         "w_svpt_hard": 1303,
         "w_svpt_carpet": 1303,
         "w_1stIn_clay": 328,
         "w_1stIn_grass": 62,
         "w_1stIn_hard": 696,
         "w_1stIn_carpet": 696,
         "w_1stWon_clay": 221,
         "w_1stWon_grass": 40,
         "w_1stWon_hard": 500,
         "w_1stWon_carpet": 500,
         "w_2ndWon_clay": 132,
         "w_2ndWon_grass": 23,
         "w_2ndWon_hard": 299,
         "w_2ndWon_carpet": 299,
         "w_SvGms_clay": 95,
         "w_SvGms_grass": 16,
         "w_SvGms_hard": 193,
         "w_SvGms_carpet": 193,
         "w_bpSaved_clay": 37,
         "w_bpSaved_grass": 6,
         "w_bpSaved_hard": 70,
         "w_bpSaved_carpet": 70,
         "w_bpFaced_clay": 66,
         "w_bpFaced_grass": 13,
         "w_bpFaced_hard": 112,
         "w_bpFaced_carpet": 112,
         "_deepnote_index_column": 356
        },
        {
         "Name": "Iryna Shymanovich",
         "w_ace_clay": 0,
         "w_ace_grass": 0,
         "w_ace_hard": 0,
         "w_ace_carpet": 0,
         "w_df_clay": 0,
         "w_df_grass": 0,
         "w_df_hard": 0,
         "w_df_carpet": 0,
         "w_svpt_clay": 0,
         "w_svpt_grass": 0,
         "w_svpt_hard": 0,
         "w_svpt_carpet": 0,
         "w_1stIn_clay": 0,
         "w_1stIn_grass": 0,
         "w_1stIn_hard": 0,
         "w_1stIn_carpet": 0,
         "w_1stWon_clay": 0,
         "w_1stWon_grass": 0,
         "w_1stWon_hard": 0,
         "w_1stWon_carpet": 0,
         "w_2ndWon_clay": 0,
         "w_2ndWon_grass": 0,
         "w_2ndWon_hard": 0,
         "w_2ndWon_carpet": 0,
         "w_SvGms_clay": 0,
         "w_SvGms_grass": 0,
         "w_SvGms_hard": 0,
         "w_SvGms_carpet": 0,
         "w_bpSaved_clay": 0,
         "w_bpSaved_grass": 0,
         "w_bpSaved_hard": 0,
         "w_bpSaved_carpet": 0,
         "w_bpFaced_clay": 0,
         "w_bpFaced_grass": 0,
         "w_bpFaced_hard": 0,
         "w_bpFaced_carpet": 0,
         "_deepnote_index_column": 1191
        },
        {
         "Name": "Chanel Simmonds",
         "w_ace_clay": 0,
         "w_ace_grass": 0,
         "w_ace_hard": 1,
         "w_ace_carpet": 1,
         "w_df_clay": 0,
         "w_df_grass": 0,
         "w_df_hard": 0,
         "w_df_carpet": 0,
         "w_svpt_clay": 0,
         "w_svpt_grass": 0,
         "w_svpt_hard": 66,
         "w_svpt_carpet": 66,
         "w_1stIn_clay": 0,
         "w_1stIn_grass": 0,
         "w_1stIn_hard": 45,
         "w_1stIn_carpet": 45,
         "w_1stWon_clay": 0,
         "w_1stWon_grass": 0,
         "w_1stWon_hard": 27,
         "w_1stWon_carpet": 27,
         "w_2ndWon_clay": 0,
         "w_2ndWon_grass": 0,
         "w_2ndWon_hard": 10,
         "w_2ndWon_carpet": 10,
         "w_SvGms_clay": 0,
         "w_SvGms_grass": 0,
         "w_SvGms_hard": 10,
         "w_SvGms_carpet": 10,
         "w_bpSaved_clay": 0,
         "w_bpSaved_grass": 0,
         "w_bpSaved_hard": 6,
         "w_bpSaved_carpet": 6,
         "w_bpFaced_clay": 0,
         "w_bpFaced_grass": 0,
         "w_bpFaced_hard": 9,
         "w_bpFaced_carpet": 9,
         "_deepnote_index_column": 300
        },
        {
         "Name": "Mayar Sherif",
         "w_ace_clay": 25,
         "w_ace_grass": 0,
         "w_ace_hard": 23,
         "w_ace_carpet": 23,
         "w_df_clay": 20,
         "w_df_grass": 2,
         "w_df_hard": 14,
         "w_df_carpet": 14,
         "w_svpt_clay": 1050,
         "w_svpt_grass": 40,
         "w_svpt_hard": 565,
         "w_svpt_carpet": 565,
         "w_1stIn_clay": 769,
         "w_1stIn_grass": 29,
         "w_1stIn_hard": 390,
         "w_1stIn_carpet": 390,
         "w_1stWon_clay": 518,
         "w_1stWon_grass": 25,
         "w_1stWon_hard": 276,
         "w_1stWon_carpet": 276,
         "w_2ndWon_clay": 140,
         "w_2ndWon_grass": 7,
         "w_2ndWon_hard": 99,
         "w_2ndWon_carpet": 99,
         "w_SvGms_clay": 166,
         "w_SvGms_grass": 8,
         "w_SvGms_hard": 92,
         "w_SvGms_carpet": 92,
         "w_bpSaved_clay": 44,
         "w_bpSaved_grass": 0,
         "w_bpSaved_hard": 17,
         "w_bpSaved_carpet": 17,
         "w_bpFaced_clay": 82,
         "w_bpFaced_grass": 0,
         "w_bpFaced_hard": 31,
         "w_bpFaced_carpet": 31,
         "_deepnote_index_column": 878
        },
        {
         "Name": "Polona Hercog",
         "w_ace_clay": 136,
         "w_ace_grass": 25,
         "w_ace_hard": 81,
         "w_ace_carpet": 81,
         "w_df_clay": 172,
         "w_df_grass": 71,
         "w_df_hard": 107,
         "w_df_carpet": 107,
         "w_svpt_clay": 3492,
         "w_svpt_grass": 940,
         "w_svpt_hard": 1893,
         "w_svpt_carpet": 1893,
         "w_1stIn_clay": 2024,
         "w_1stIn_grass": 499,
         "w_1stIn_hard": 1049,
         "w_1stIn_carpet": 1049,
         "w_1stWon_clay": 1381,
         "w_1stWon_grass": 376,
         "w_1stWon_hard": 783,
         "w_1stWon_carpet": 783,
         "w_2ndWon_clay": 742,
         "w_2ndWon_grass": 223,
         "w_2ndWon_hard": 461,
         "w_2ndWon_carpet": 461,
         "w_SvGms_clay": 546,
         "w_SvGms_grass": 127,
         "w_SvGms_hard": 293,
         "w_SvGms_carpet": 293,
         "w_bpSaved_clay": 221,
         "w_bpSaved_grass": 42,
         "w_bpSaved_hard": 97,
         "w_bpSaved_carpet": 97,
         "w_bpFaced_clay": 368,
         "w_bpFaced_grass": 72,
         "w_bpFaced_hard": 137,
         "w_bpFaced_carpet": 137,
         "_deepnote_index_column": 120
        },
        {
         "Name": "Mihaela Buzarnescu",
         "w_ace_clay": 55,
         "w_ace_grass": 29,
         "w_ace_hard": 69,
         "w_ace_carpet": 69,
         "w_df_clay": 99,
         "w_df_grass": 24,
         "w_df_hard": 131,
         "w_df_carpet": 131,
         "w_svpt_clay": 2185,
         "w_svpt_grass": 1028,
         "w_svpt_hard": 2334,
         "w_svpt_carpet": 2334,
         "w_1stIn_clay": 1423,
         "w_1stIn_grass": 692,
         "w_1stIn_hard": 1455,
         "w_1stIn_carpet": 1455,
         "w_1stWon_clay": 947,
         "w_1stWon_grass": 460,
         "w_1stWon_hard": 967,
         "w_1stWon_carpet": 967,
         "w_2ndWon_clay": 367,
         "w_2ndWon_grass": 194,
         "w_2ndWon_hard": 444,
         "w_2ndWon_carpet": 444,
         "w_SvGms_clay": 345,
         "w_SvGms_grass": 162,
         "w_SvGms_hard": 351,
         "w_SvGms_carpet": 351,
         "w_bpSaved_clay": 138,
         "w_bpSaved_grass": 47,
         "w_bpSaved_hard": 132,
         "w_bpSaved_carpet": 132,
         "w_bpFaced_clay": 228,
         "w_bpFaced_grass": 77,
         "w_bpFaced_hard": 221,
         "w_bpFaced_carpet": 221,
         "_deepnote_index_column": 304
        },
        {
         "Name": "Viktoriya Tomova",
         "w_ace_clay": 17,
         "w_ace_grass": 8,
         "w_ace_hard": 50,
         "w_ace_carpet": 50,
         "w_df_clay": 63,
         "w_df_grass": 16,
         "w_df_hard": 103,
         "w_df_carpet": 103,
         "w_svpt_clay": 1707,
         "w_svpt_grass": 379,
         "w_svpt_hard": 2534,
         "w_svpt_carpet": 2534,
         "w_1stIn_clay": 1213,
         "w_1stIn_grass": 236,
         "w_1stIn_hard": 1748,
         "w_1stIn_carpet": 1748,
         "w_1stWon_clay": 712,
         "w_1stWon_grass": 153,
         "w_1stWon_hard": 1087,
         "w_1stWon_carpet": 1087,
         "w_2ndWon_clay": 235,
         "w_2ndWon_grass": 68,
         "w_2ndWon_hard": 376,
         "w_2ndWon_carpet": 376,
         "w_SvGms_clay": 246,
         "w_SvGms_grass": 53,
         "w_SvGms_hard": 385,
         "w_SvGms_carpet": 385,
         "w_bpSaved_clay": 115,
         "w_bpSaved_grass": 28,
         "w_bpSaved_hard": 155,
         "w_bpSaved_carpet": 155,
         "w_bpFaced_clay": 202,
         "w_bpFaced_grass": 41,
         "w_bpFaced_hard": 277,
         "w_bpFaced_carpet": 277,
         "_deepnote_index_column": 306
        },
        {
         "Name": "Eleonora Molinaro",
         "w_ace_clay": 2,
         "w_ace_grass": 0,
         "w_ace_hard": 25,
         "w_ace_carpet": 25,
         "w_df_clay": 7,
         "w_df_grass": 0,
         "w_df_hard": 17,
         "w_df_carpet": 17,
         "w_svpt_clay": 224,
         "w_svpt_grass": 0,
         "w_svpt_hard": 493,
         "w_svpt_carpet": 493,
         "w_1stIn_clay": 173,
         "w_1stIn_grass": 0,
         "w_1stIn_hard": 314,
         "w_1stIn_carpet": 314,
         "w_1stWon_clay": 88,
         "w_1stWon_grass": 0,
         "w_1stWon_hard": 224,
         "w_1stWon_carpet": 224,
         "w_2ndWon_clay": 24,
         "w_2ndWon_grass": 0,
         "w_2ndWon_hard": 104,
         "w_2ndWon_carpet": 104,
         "w_SvGms_clay": 37,
         "w_SvGms_grass": 0,
         "w_SvGms_hard": 83,
         "w_SvGms_carpet": 83,
         "w_bpSaved_clay": 12,
         "w_bpSaved_grass": 0,
         "w_bpSaved_hard": 27,
         "w_bpSaved_carpet": 27,
         "w_bpFaced_clay": 29,
         "w_bpFaced_grass": 0,
         "w_bpFaced_hard": 41,
         "w_bpFaced_carpet": 41,
         "_deepnote_index_column": 1720
        },
        {
         "Name": "Kathinka Von Deichmann",
         "w_ace_clay": 1,
         "w_ace_grass": 0,
         "w_ace_hard": 5,
         "w_ace_carpet": 5,
         "w_df_clay": 29,
         "w_df_grass": 0,
         "w_df_hard": 11,
         "w_df_carpet": 11,
         "w_svpt_clay": 783,
         "w_svpt_grass": 0,
         "w_svpt_hard": 253,
         "w_svpt_carpet": 253,
         "w_1stIn_clay": 592,
         "w_1stIn_grass": 0,
         "w_1stIn_hard": 175,
         "w_1stIn_carpet": 175,
         "w_1stWon_clay": 343,
         "w_1stWon_grass": 0,
         "w_1stWon_hard": 107,
         "w_1stWon_carpet": 107,
         "w_2ndWon_clay": 91,
         "w_2ndWon_grass": 0,
         "w_2ndWon_hard": 43,
         "w_2ndWon_carpet": 43,
         "w_SvGms_clay": 113,
         "w_SvGms_grass": 0,
         "w_SvGms_hard": 11,
         "w_SvGms_carpet": 11,
         "w_bpSaved_clay": 54,
         "w_bpSaved_grass": 0,
         "w_bpSaved_hard": 29,
         "w_bpSaved_carpet": 29,
         "w_bpFaced_clay": 95,
         "w_bpFaced_grass": 0,
         "w_bpFaced_hard": 39,
         "w_bpFaced_carpet": 39,
         "_deepnote_index_column": 807
        },
        {
         "Name": "Rebecca Sramkova",
         "w_ace_clay": 53,
         "w_ace_grass": 2,
         "w_ace_hard": 11,
         "w_ace_carpet": 11,
         "w_df_clay": 39,
         "w_df_grass": 3,
         "w_df_hard": 31,
         "w_df_carpet": 31,
         "w_svpt_clay": 1420,
         "w_svpt_grass": 69,
         "w_svpt_hard": 712,
         "w_svpt_carpet": 712,
         "w_1stIn_clay": 885,
         "w_1stIn_grass": 47,
         "w_1stIn_hard": 411,
         "w_1stIn_carpet": 411,
         "w_1stWon_clay": 591,
         "w_1stWon_grass": 28,
         "w_1stWon_hard": 271,
         "w_1stWon_carpet": 271,
         "w_2ndWon_clay": 265,
         "w_2ndWon_grass": 11,
         "w_2ndWon_hard": 147,
         "w_2ndWon_carpet": 147,
         "w_SvGms_clay": 213,
         "w_SvGms_grass": 12,
         "w_SvGms_hard": 85,
         "w_SvGms_carpet": 85,
         "w_bpSaved_clay": 78,
         "w_bpSaved_grass": 7,
         "w_bpSaved_hard": 52,
         "w_bpSaved_carpet": 52,
         "w_bpFaced_clay": 131,
         "w_bpFaced_grass": 12,
         "w_bpFaced_hard": 79,
         "w_bpFaced_carpet": 79,
         "_deepnote_index_column": 1036
        },
        {
         "Name": "Madison Brengle",
         "w_ace_clay": 7,
         "w_ace_grass": 9,
         "w_ace_hard": 21,
         "w_ace_carpet": 21,
         "w_df_clay": 21,
         "w_df_grass": 33,
         "w_df_hard": 159,
         "w_df_carpet": 159,
         "w_svpt_clay": 807,
         "w_svpt_grass": 1131,
         "w_svpt_hard": 4008,
         "w_svpt_carpet": 4008,
         "w_1stIn_clay": 616,
         "w_1stIn_grass": 830,
         "w_1stIn_hard": 2881,
         "w_1stIn_carpet": 2881,
         "w_1stWon_clay": 389,
         "w_1stWon_grass": 510,
         "w_1stWon_hard": 1797,
         "w_1stWon_carpet": 1797,
         "w_2ndWon_clay": 96,
         "w_2ndWon_grass": 155,
         "w_2ndWon_hard": 555,
         "w_2ndWon_carpet": 555,
         "w_SvGms_clay": 104,
         "w_SvGms_grass": 154,
         "w_SvGms_hard": 592,
         "w_SvGms_carpet": 592,
         "w_bpSaved_clay": 44,
         "w_bpSaved_grass": 63,
         "w_bpSaved_hard": 207,
         "w_bpSaved_carpet": 207,
         "w_bpFaced_clay": 77,
         "w_bpFaced_grass": 122,
         "w_bpFaced_hard": 386,
         "w_bpFaced_carpet": 386,
         "_deepnote_index_column": 71
        }
       ]
      },
      "text/plain": "                           Name  w_ace_clay  w_ace_grass  w_ace_hard  \\\n722              Fernanda Brito         2.0          0.0         0.0   \n118                 Arantxa Rus        57.0         23.0        90.0   \n434         Nuria Parrizas Diaz         2.0          6.0         1.0   \n1494            Tamara Zidansek        69.0          1.0        43.0   \n1578  Ylona Georgiana Ghioroaie         0.0          0.0         0.0   \n248              Ashleigh Barty       130.0         71.0       341.0   \n272             Elina Svitolina       101.0         41.0       506.0   \n1523            Aryna Sabalenka        79.0         48.0       371.0   \n176           Karolina Pliskova       102.0         61.0       356.0   \n142                Simona Halep       145.0         46.0       250.0   \n1261       Andreea Amalia Rosca         0.0          0.0         0.0   \n1003               Sandra Samir         1.0          0.0         7.0   \n2787               Clara Tauson        21.0          0.0        46.0   \n351          Isabella Shinikova        24.0          8.0        60.0   \n97                Petra Kvitova       131.0         59.0       404.0   \n307         Despina Papamichail         2.0          0.0         5.0   \n1545    Georgia Andreea Craciun         3.0          0.0         0.0   \n1397               Seone Mendez         5.0          0.0         0.0   \n1081          Anhelina Kalinina        10.0          8.0        37.0   \n689         Beatriz Haddad Maia        42.0         20.0        56.0   \n1283             Ylena In Albon         0.0          0.0         0.0   \n1360        Katharina Hobgarski         3.0          0.0         1.0   \n271          Ekaterine Gorgodze        19.0          3.0        13.0   \n375       Georgina Garcia Perez        27.0          0.0        13.0   \n2383                Iga Swiatek        47.0         26.0       123.0   \n119          Vitalia Diatchenko         0.0         18.0        66.0   \n466                Victoria Kan         2.0          0.0         0.0   \n630             Quirine Lemoine         3.0          0.0         2.0   \n63                  Kaia Kanepi        69.0          4.0       127.0   \n2182             Yuliya Hatouka         5.0          0.0         0.0   \n1887           Bianca Andreescu        16.0          1.0       187.0   \n1383           Viktoria Kuzmova        50.0          8.0       125.0   \n1964         Maryna Chernyshova         0.0          0.0         0.0   \n651                Hua Chen Lee         0.0          0.0         0.0   \n340               Cristina Dinu         8.0          0.0         0.0   \n184            Sabina Sharipova         0.0          1.0        46.0   \n224                Kiki Bertens       244.0         59.0       272.0   \n1180                Sofia Kenin        24.0         24.0       191.0   \n1045   Jaqueline Adina Cristian        38.0          0.0        41.0   \n356           Irina Khromacheva        25.0          5.0        63.0   \n1191          Iryna Shymanovich         0.0          0.0         0.0   \n300             Chanel Simmonds         0.0          0.0         1.0   \n878                Mayar Sherif        25.0          0.0        23.0   \n120               Polona Hercog       136.0         25.0        81.0   \n304          Mihaela Buzarnescu        55.0         29.0        69.0   \n306            Viktoriya Tomova        17.0          8.0        50.0   \n1720          Eleonora Molinaro         2.0          0.0        25.0   \n807      Kathinka Von Deichmann         1.0          0.0         5.0   \n1036           Rebecca Sramkova        53.0          2.0        11.0   \n71              Madison Brengle         7.0          9.0        21.0   \n\n      w_ace_carpet  w_df_clay  w_df_grass  w_df_hard  w_df_carpet  \\\n722            0.0        8.0         0.0        0.0          0.0   \n118           90.0       98.0        19.0      114.0        114.0   \n434            1.0       23.0         8.0        3.0          3.0   \n1494          43.0      152.0         6.0       69.0         69.0   \n1578           0.0        0.0         0.0        0.0          0.0   \n248          341.0      136.0       117.0      464.0        464.0   \n272          506.0      134.0        44.0      467.0        467.0   \n1523         371.0      143.0        91.0      667.0        667.0   \n176          356.0      187.0       109.0      541.0        541.0   \n142          250.0      208.0        53.0      306.0        306.0   \n1261           0.0        0.0         0.0        0.0          0.0   \n1003           7.0       12.0         0.0       17.0         17.0   \n2787          46.0       37.0         0.0       51.0         51.0   \n351           60.0       49.0        16.0      136.0        136.0   \n97           404.0      194.0        90.0      632.0        632.0   \n307            5.0        7.0         0.0        4.0          4.0   \n1545           0.0        8.0         0.0        0.0          0.0   \n1397           0.0        8.0         0.0        0.0          0.0   \n1081          37.0       44.0         9.0       96.0         96.0   \n689           56.0       67.0        47.0      115.0        115.0   \n1283           0.0        0.0         0.0        0.0          0.0   \n1360           1.0        7.0         0.0       12.0         12.0   \n271           13.0       36.0         6.0       12.0         12.0   \n375           13.0       45.0         4.0       52.0         52.0   \n2383         123.0       87.0        22.0      122.0        122.0   \n119           66.0        9.0        40.0      200.0        200.0   \n466            0.0        1.0         0.0        0.0          0.0   \n630            2.0       13.0         0.0       12.0         12.0   \n63           127.0       82.0        12.0      187.0        187.0   \n2182           0.0        5.0         0.0        0.0          0.0   \n1887         187.0       13.0         4.0      258.0        258.0   \n1383         125.0       62.0        11.0      303.0        303.0   \n1964           0.0        0.0         0.0        0.0          0.0   \n651            0.0        0.0         0.0        0.0          0.0   \n340            0.0       17.0         0.0        0.0          0.0   \n184           46.0       10.0         3.0      194.0        194.0   \n224          272.0      312.0        89.0      439.0        439.0   \n1180         191.0       60.0        43.0      404.0        404.0   \n1045          41.0       70.0         0.0       32.0         32.0   \n356           63.0       64.0         4.0      109.0        109.0   \n1191           0.0        0.0         0.0        0.0          0.0   \n300            1.0        0.0         0.0        0.0          0.0   \n878           23.0       20.0         2.0       14.0         14.0   \n120           81.0      172.0        71.0      107.0        107.0   \n304           69.0       99.0        24.0      131.0        131.0   \n306           50.0       63.0        16.0      103.0        103.0   \n1720          25.0        7.0         0.0       17.0         17.0   \n807            5.0       29.0         0.0       11.0         11.0   \n1036          11.0       39.0         3.0       31.0         31.0   \n71            21.0       21.0        33.0      159.0        159.0   \n\n      w_svpt_clay  ...  w_SvGms_hard  w_SvGms_carpet  w_bpSaved_clay  \\\n722         166.0  ...           0.0             0.0             5.0   \n118        2254.0  ...         408.0           408.0           128.0   \n434        1135.0  ...          21.0            21.0            67.0   \n1494       4226.0  ...         306.0           306.0           284.0   \n1578          0.0  ...           0.0             0.0             0.0   \n248        3280.0  ...        1680.0          1680.0           163.0   \n272        3770.0  ...        1990.0          1990.0           227.0   \n1523       2465.0  ...        1598.0          1598.0           159.0   \n176        3804.0  ...        1822.0          1822.0           191.0   \n142        5456.0  ...        1392.0          1392.0           303.0   \n1261          0.0  ...           0.0             0.0             0.0   \n1003        132.0  ...          69.0            69.0             4.0   \n2787       1184.0  ...         172.0           172.0            81.0   \n351         907.0  ...         241.0           241.0            54.0   \n97         3405.0  ...        1447.0          1447.0           171.0   \n307         174.0  ...          27.0            27.0            13.0   \n1545         63.0  ...           0.0             0.0             3.0   \n1397        310.0  ...           0.0             0.0            22.0   \n1081       1017.0  ...         202.0           202.0            63.0   \n689        1588.0  ...         341.0           341.0            95.0   \n1283          0.0  ...           0.0             0.0             0.0   \n1360        347.0  ...          10.0            10.0            18.0   \n271        1239.0  ...          81.0            81.0            80.0   \n375        1237.0  ...         132.0           132.0            84.0   \n2383       2012.0  ...         471.0           471.0           122.0   \n119          84.0  ...         360.0           360.0             7.0   \n466          55.0  ...           0.0             0.0             1.0   \n630         254.0  ...           9.0             9.0            21.0   \n63         1629.0  ...         481.0           481.0           108.0   \n2182         71.0  ...           0.0             0.0             5.0   \n1887        360.0  ...         796.0           796.0            20.0   \n1383       1169.0  ...         666.0           666.0            60.0   \n1964          0.0  ...           0.0             0.0             0.0   \n651           0.0  ...           0.0             0.0             0.0   \n340         307.0  ...           0.0             0.0            28.0   \n184          90.0  ...         353.0           353.0             5.0   \n224        5779.0  ...        1145.0          1145.0           302.0   \n1180       1301.0  ...        1096.0          1096.0            94.0   \n1045       1488.0  ...         143.0           143.0            86.0   \n356         605.0  ...         193.0           193.0            37.0   \n1191          0.0  ...           0.0             0.0             0.0   \n300           0.0  ...          10.0            10.0             0.0   \n878        1050.0  ...          92.0            92.0            44.0   \n120        3492.0  ...         293.0           293.0           221.0   \n304        2185.0  ...         351.0           351.0           138.0   \n306        1707.0  ...         385.0           385.0           115.0   \n1720        224.0  ...          83.0            83.0            12.0   \n807         783.0  ...          11.0            11.0            54.0   \n1036       1420.0  ...          85.0            85.0            78.0   \n71          807.0  ...         592.0           592.0            44.0   \n\n      w_bpSaved_grass  w_bpSaved_hard  w_bpSaved_carpet  w_bpFaced_clay  \\\n722               0.0             0.0               0.0            13.0   \n118              25.0           166.0             166.0           216.0   \n434               3.0             5.0               5.0           115.0   \n1494             10.0           142.0             142.0           481.0   \n1578              0.0             0.0               0.0             0.0   \n248             121.0           555.0             555.0           244.0   \n272              64.0           701.0             701.0           375.0   \n1523            110.0           572.0             572.0           234.0   \n176             113.0           651.0             651.0           299.0   \n142              89.0           446.0             446.0           514.0   \n1261              0.0             0.0               0.0             0.0   \n1003              0.0            22.0              22.0            11.0   \n2787              0.0            57.0              57.0           116.0   \n351              15.0           112.0             112.0           101.0   \n97               61.0           464.0             464.0           252.0   \n307               0.0            13.0              13.0            21.0   \n1545              0.0             0.0               0.0             5.0   \n1397              0.0             0.0               0.0            32.0   \n1081              7.0           104.0             104.0           105.0   \n689              37.0           110.0             110.0           150.0   \n1283              0.0             0.0               0.0             0.0   \n1360              0.0             3.0               3.0            35.0   \n271               5.0            47.0              47.0           140.0   \n375              14.0            69.0              69.0           130.0   \n2383             20.0           139.0             139.0           182.0   \n119              52.0           114.0             114.0            11.0   \n466               0.0             0.0               0.0             4.0   \n630               0.0            13.0              13.0            27.0   \n63                8.0           181.0             181.0           167.0   \n2182              0.0             0.0               0.0             6.0   \n1887              4.0           313.0             313.0            35.0   \n1383             12.0           240.0             240.0            94.0   \n1964              0.0             0.0               0.0             0.0   \n651               0.0             0.0               0.0             0.0   \n340               0.0             0.0               0.0            40.0   \n184               3.0           138.0             138.0            12.0   \n224              61.0           383.0             383.0           478.0   \n1180             46.0           435.0             435.0           143.0   \n1045              0.0            30.0              30.0           148.0   \n356               6.0            70.0              70.0            66.0   \n1191              0.0             0.0               0.0             0.0   \n300               0.0             6.0               6.0             0.0   \n878               0.0            17.0              17.0            82.0   \n120              42.0            97.0              97.0           368.0   \n304              47.0           132.0             132.0           228.0   \n306              28.0           155.0             155.0           202.0   \n1720              0.0            27.0              27.0            29.0   \n807               0.0            29.0              29.0            95.0   \n1036              7.0            52.0              52.0           131.0   \n71               63.0           207.0             207.0            77.0   \n\n      w_bpFaced_grass  w_bpFaced_hard  w_bpFaced_carpet  \n722               0.0             0.0               0.0  \n118              35.0           261.0             261.0  \n434               6.0            12.0              12.0  \n1494             27.0           228.0             228.0  \n1578              0.0             0.0               0.0  \n248             175.0           859.0             859.0  \n272              99.0          1163.0            1163.0  \n1523            166.0           877.0             877.0  \n176             163.0           972.0             972.0  \n142             143.0           770.0             770.0  \n1261              0.0             0.0               0.0  \n1003              0.0            43.0              43.0  \n2787              0.0            92.0              92.0  \n351              21.0           192.0             192.0  \n97               90.0           737.0             737.0  \n307               0.0            21.0              21.0  \n1545              0.0             0.0               0.0  \n1397              0.0             0.0               0.0  \n1081             14.0           167.0             167.0  \n689              57.0           181.0             181.0  \n1283              0.0             0.0               0.0  \n1360              0.0            10.0              10.0  \n271               8.0            77.0              77.0  \n375              22.0            98.0              98.0  \n2383             31.0           233.0             233.0  \n119              78.0           219.0             219.0  \n466               0.0             0.0               0.0  \n630               0.0            28.0              28.0  \n63               16.0           298.0             298.0  \n2182              0.0             0.0               0.0  \n1887              8.0           492.0             492.0  \n1383             15.0           379.0             379.0  \n1964              0.0             0.0               0.0  \n651               0.0             0.0               0.0  \n340               0.0             0.0               0.0  \n184               8.0           242.0             242.0  \n224             102.0           635.0             635.0  \n1180             71.0           684.0             684.0  \n1045              0.0            50.0              50.0  \n356              13.0           112.0             112.0  \n1191              0.0             0.0               0.0  \n300               0.0             9.0               9.0  \n878               0.0            31.0              31.0  \n120              72.0           137.0             137.0  \n304              77.0           221.0             221.0  \n306              41.0           277.0             277.0  \n1720              0.0            41.0              41.0  \n807               0.0            39.0              39.0  \n1036             12.0            79.0              79.0  \n71              122.0           386.0             386.0  \n\n[50 rows x 37 columns]",
      "text/html": "<div>\n<style scoped>\n    .dataframe tbody tr th:only-of-type {\n        vertical-align: middle;\n    }\n\n    .dataframe tbody tr th {\n        vertical-align: top;\n    }\n\n    .dataframe thead th {\n        text-align: right;\n    }\n</style>\n<table border=\"1\" class=\"dataframe\">\n  <thead>\n    <tr style=\"text-align: right;\">\n      <th></th>\n      <th>Name</th>\n      <th>w_ace_clay</th>\n      <th>w_ace_grass</th>\n      <th>w_ace_hard</th>\n      <th>w_ace_carpet</th>\n      <th>w_df_clay</th>\n      <th>w_df_grass</th>\n      <th>w_df_hard</th>\n      <th>w_df_carpet</th>\n      <th>w_svpt_clay</th>\n      <th>...</th>\n      <th>w_SvGms_hard</th>\n      <th>w_SvGms_carpet</th>\n      <th>w_bpSaved_clay</th>\n      <th>w_bpSaved_grass</th>\n      <th>w_bpSaved_hard</th>\n      <th>w_bpSaved_carpet</th>\n      <th>w_bpFaced_clay</th>\n      <th>w_bpFaced_grass</th>\n      <th>w_bpFaced_hard</th>\n      <th>w_bpFaced_carpet</th>\n    </tr>\n  </thead>\n  <tbody>\n    <tr>\n      <th>722</th>\n      <td>Fernanda Brito</td>\n      <td>2.0</td>\n      <td>0.0</td>\n      <td>0.0</td>\n      <td>0.0</td>\n      <td>8.0</td>\n      <td>0.0</td>\n      <td>0.0</td>\n      <td>0.0</td>\n      <td>166.0</td>\n      <td>...</td>\n      <td>0.0</td>\n      <td>0.0</td>\n      <td>5.0</td>\n      <td>0.0</td>\n      <td>0.0</td>\n      <td>0.0</td>\n      <td>13.0</td>\n      <td>0.0</td>\n      <td>0.0</td>\n      <td>0.0</td>\n    </tr>\n    <tr>\n      <th>118</th>\n      <td>Arantxa Rus</td>\n      <td>57.0</td>\n      <td>23.0</td>\n      <td>90.0</td>\n      <td>90.0</td>\n      <td>98.0</td>\n      <td>19.0</td>\n      <td>114.0</td>\n      <td>114.0</td>\n      <td>2254.0</td>\n      <td>...</td>\n      <td>408.0</td>\n      <td>408.0</td>\n      <td>128.0</td>\n      <td>25.0</td>\n      <td>166.0</td>\n      <td>166.0</td>\n      <td>216.0</td>\n      <td>35.0</td>\n      <td>261.0</td>\n      <td>261.0</td>\n    </tr>\n    <tr>\n      <th>434</th>\n      <td>Nuria Parrizas Diaz</td>\n      <td>2.0</td>\n      <td>6.0</td>\n      <td>1.0</td>\n      <td>1.0</td>\n      <td>23.0</td>\n      <td>8.0</td>\n      <td>3.0</td>\n      <td>3.0</td>\n      <td>1135.0</td>\n      <td>...</td>\n      <td>21.0</td>\n      <td>21.0</td>\n      <td>67.0</td>\n      <td>3.0</td>\n      <td>5.0</td>\n      <td>5.0</td>\n      <td>115.0</td>\n      <td>6.0</td>\n      <td>12.0</td>\n      <td>12.0</td>\n    </tr>\n    <tr>\n      <th>1494</th>\n      <td>Tamara Zidansek</td>\n      <td>69.0</td>\n      <td>1.0</td>\n      <td>43.0</td>\n      <td>43.0</td>\n      <td>152.0</td>\n      <td>6.0</td>\n      <td>69.0</td>\n      <td>69.0</td>\n      <td>4226.0</td>\n      <td>...</td>\n      <td>306.0</td>\n      <td>306.0</td>\n      <td>284.0</td>\n      <td>10.0</td>\n      <td>142.0</td>\n      <td>142.0</td>\n      <td>481.0</td>\n      <td>27.0</td>\n      <td>228.0</td>\n      <td>228.0</td>\n    </tr>\n    <tr>\n      <th>1578</th>\n      <td>Ylona Georgiana Ghioroaie</td>\n      <td>0.0</td>\n      <td>0.0</td>\n      <td>0.0</td>\n      <td>0.0</td>\n      <td>0.0</td>\n      <td>0.0</td>\n      <td>0.0</td>\n      <td>0.0</td>\n      <td>0.0</td>\n      <td>...</td>\n      <td>0.0</td>\n      <td>0.0</td>\n      <td>0.0</td>\n      <td>0.0</td>\n      <td>0.0</td>\n      <td>0.0</td>\n      <td>0.0</td>\n      <td>0.0</td>\n      <td>0.0</td>\n      <td>0.0</td>\n    </tr>\n    <tr>\n      <th>248</th>\n      <td>Ashleigh Barty</td>\n      <td>130.0</td>\n      <td>71.0</td>\n      <td>341.0</td>\n      <td>341.0</td>\n      <td>136.0</td>\n      <td>117.0</td>\n      <td>464.0</td>\n      <td>464.0</td>\n      <td>3280.0</td>\n      <td>...</td>\n      <td>1680.0</td>\n      <td>1680.0</td>\n      <td>163.0</td>\n      <td>121.0</td>\n      <td>555.0</td>\n      <td>555.0</td>\n      <td>244.0</td>\n      <td>175.0</td>\n      <td>859.0</td>\n      <td>859.0</td>\n    </tr>\n    <tr>\n      <th>272</th>\n      <td>Elina Svitolina</td>\n      <td>101.0</td>\n      <td>41.0</td>\n      <td>506.0</td>\n      <td>506.0</td>\n      <td>134.0</td>\n      <td>44.0</td>\n      <td>467.0</td>\n      <td>467.0</td>\n      <td>3770.0</td>\n      <td>...</td>\n      <td>1990.0</td>\n      <td>1990.0</td>\n      <td>227.0</td>\n      <td>64.0</td>\n      <td>701.0</td>\n      <td>701.0</td>\n      <td>375.0</td>\n      <td>99.0</td>\n      <td>1163.0</td>\n      <td>1163.0</td>\n    </tr>\n    <tr>\n      <th>1523</th>\n      <td>Aryna Sabalenka</td>\n      <td>79.0</td>\n      <td>48.0</td>\n      <td>371.0</td>\n      <td>371.0</td>\n      <td>143.0</td>\n      <td>91.0</td>\n      <td>667.0</td>\n      <td>667.0</td>\n      <td>2465.0</td>\n      <td>...</td>\n      <td>1598.0</td>\n      <td>1598.0</td>\n      <td>159.0</td>\n      <td>110.0</td>\n      <td>572.0</td>\n      <td>572.0</td>\n      <td>234.0</td>\n      <td>166.0</td>\n      <td>877.0</td>\n      <td>877.0</td>\n    </tr>\n    <tr>\n      <th>176</th>\n      <td>Karolina Pliskova</td>\n      <td>102.0</td>\n      <td>61.0</td>\n      <td>356.0</td>\n      <td>356.0</td>\n      <td>187.0</td>\n      <td>109.0</td>\n      <td>541.0</td>\n      <td>541.0</td>\n      <td>3804.0</td>\n      <td>...</td>\n      <td>1822.0</td>\n      <td>1822.0</td>\n      <td>191.0</td>\n      <td>113.0</td>\n      <td>651.0</td>\n      <td>651.0</td>\n      <td>299.0</td>\n      <td>163.0</td>\n      <td>972.0</td>\n      <td>972.0</td>\n    </tr>\n    <tr>\n      <th>142</th>\n      <td>Simona Halep</td>\n      <td>145.0</td>\n      <td>46.0</td>\n      <td>250.0</td>\n      <td>250.0</td>\n      <td>208.0</td>\n      <td>53.0</td>\n      <td>306.0</td>\n      <td>306.0</td>\n      <td>5456.0</td>\n      <td>...</td>\n      <td>1392.0</td>\n      <td>1392.0</td>\n      <td>303.0</td>\n      <td>89.0</td>\n      <td>446.0</td>\n      <td>446.0</td>\n      <td>514.0</td>\n      <td>143.0</td>\n      <td>770.0</td>\n      <td>770.0</td>\n    </tr>\n    <tr>\n      <th>1261</th>\n      <td>Andreea Amalia Rosca</td>\n      <td>0.0</td>\n      <td>0.0</td>\n      <td>0.0</td>\n      <td>0.0</td>\n      <td>0.0</td>\n      <td>0.0</td>\n      <td>0.0</td>\n      <td>0.0</td>\n      <td>0.0</td>\n      <td>...</td>\n      <td>0.0</td>\n      <td>0.0</td>\n      <td>0.0</td>\n      <td>0.0</td>\n      <td>0.0</td>\n      <td>0.0</td>\n      <td>0.0</td>\n      <td>0.0</td>\n      <td>0.0</td>\n      <td>0.0</td>\n    </tr>\n    <tr>\n      <th>1003</th>\n      <td>Sandra Samir</td>\n      <td>1.0</td>\n      <td>0.0</td>\n      <td>7.0</td>\n      <td>7.0</td>\n      <td>12.0</td>\n      <td>0.0</td>\n      <td>17.0</td>\n      <td>17.0</td>\n      <td>132.0</td>\n      <td>...</td>\n      <td>69.0</td>\n      <td>69.0</td>\n      <td>4.0</td>\n      <td>0.0</td>\n      <td>22.0</td>\n      <td>22.0</td>\n      <td>11.0</td>\n      <td>0.0</td>\n      <td>43.0</td>\n      <td>43.0</td>\n    </tr>\n    <tr>\n      <th>2787</th>\n      <td>Clara Tauson</td>\n      <td>21.0</td>\n      <td>0.0</td>\n      <td>46.0</td>\n      <td>46.0</td>\n      <td>37.0</td>\n      <td>0.0</td>\n      <td>51.0</td>\n      <td>51.0</td>\n      <td>1184.0</td>\n      <td>...</td>\n      <td>172.0</td>\n      <td>172.0</td>\n      <td>81.0</td>\n      <td>0.0</td>\n      <td>57.0</td>\n      <td>57.0</td>\n      <td>116.0</td>\n      <td>0.0</td>\n      <td>92.0</td>\n      <td>92.0</td>\n    </tr>\n    <tr>\n      <th>351</th>\n      <td>Isabella Shinikova</td>\n      <td>24.0</td>\n      <td>8.0</td>\n      <td>60.0</td>\n      <td>60.0</td>\n      <td>49.0</td>\n      <td>16.0</td>\n      <td>136.0</td>\n      <td>136.0</td>\n      <td>907.0</td>\n      <td>...</td>\n      <td>241.0</td>\n      <td>241.0</td>\n      <td>54.0</td>\n      <td>15.0</td>\n      <td>112.0</td>\n      <td>112.0</td>\n      <td>101.0</td>\n      <td>21.0</td>\n      <td>192.0</td>\n      <td>192.0</td>\n    </tr>\n    <tr>\n      <th>97</th>\n      <td>Petra Kvitova</td>\n      <td>131.0</td>\n      <td>59.0</td>\n      <td>404.0</td>\n      <td>404.0</td>\n      <td>194.0</td>\n      <td>90.0</td>\n      <td>632.0</td>\n      <td>632.0</td>\n      <td>3405.0</td>\n      <td>...</td>\n      <td>1447.0</td>\n      <td>1447.0</td>\n      <td>171.0</td>\n      <td>61.0</td>\n      <td>464.0</td>\n      <td>464.0</td>\n      <td>252.0</td>\n      <td>90.0</td>\n      <td>737.0</td>\n      <td>737.0</td>\n    </tr>\n    <tr>\n      <th>307</th>\n      <td>Despina Papamichail</td>\n      <td>2.0</td>\n      <td>0.0</td>\n      <td>5.0</td>\n      <td>5.0</td>\n      <td>7.0</td>\n      <td>0.0</td>\n      <td>4.0</td>\n      <td>4.0</td>\n      <td>174.0</td>\n      <td>...</td>\n      <td>27.0</td>\n      <td>27.0</td>\n      <td>13.0</td>\n      <td>0.0</td>\n      <td>13.0</td>\n      <td>13.0</td>\n      <td>21.0</td>\n      <td>0.0</td>\n      <td>21.0</td>\n      <td>21.0</td>\n    </tr>\n    <tr>\n      <th>1545</th>\n      <td>Georgia Andreea Craciun</td>\n      <td>3.0</td>\n      <td>0.0</td>\n      <td>0.0</td>\n      <td>0.0</td>\n      <td>8.0</td>\n      <td>0.0</td>\n      <td>0.0</td>\n      <td>0.0</td>\n      <td>63.0</td>\n      <td>...</td>\n      <td>0.0</td>\n      <td>0.0</td>\n      <td>3.0</td>\n      <td>0.0</td>\n      <td>0.0</td>\n      <td>0.0</td>\n      <td>5.0</td>\n      <td>0.0</td>\n      <td>0.0</td>\n      <td>0.0</td>\n    </tr>\n    <tr>\n      <th>1397</th>\n      <td>Seone Mendez</td>\n      <td>5.0</td>\n      <td>0.0</td>\n      <td>0.0</td>\n      <td>0.0</td>\n      <td>8.0</td>\n      <td>0.0</td>\n      <td>0.0</td>\n      <td>0.0</td>\n      <td>310.0</td>\n      <td>...</td>\n      <td>0.0</td>\n      <td>0.0</td>\n      <td>22.0</td>\n      <td>0.0</td>\n      <td>0.0</td>\n      <td>0.0</td>\n      <td>32.0</td>\n      <td>0.0</td>\n      <td>0.0</td>\n      <td>0.0</td>\n    </tr>\n    <tr>\n      <th>1081</th>\n      <td>Anhelina Kalinina</td>\n      <td>10.0</td>\n      <td>8.0</td>\n      <td>37.0</td>\n      <td>37.0</td>\n      <td>44.0</td>\n      <td>9.0</td>\n      <td>96.0</td>\n      <td>96.0</td>\n      <td>1017.0</td>\n      <td>...</td>\n      <td>202.0</td>\n      <td>202.0</td>\n      <td>63.0</td>\n      <td>7.0</td>\n      <td>104.0</td>\n      <td>104.0</td>\n      <td>105.0</td>\n      <td>14.0</td>\n      <td>167.0</td>\n      <td>167.0</td>\n    </tr>\n    <tr>\n      <th>689</th>\n      <td>Beatriz Haddad Maia</td>\n      <td>42.0</td>\n      <td>20.0</td>\n      <td>56.0</td>\n      <td>56.0</td>\n      <td>67.0</td>\n      <td>47.0</td>\n      <td>115.0</td>\n      <td>115.0</td>\n      <td>1588.0</td>\n      <td>...</td>\n      <td>341.0</td>\n      <td>341.0</td>\n      <td>95.0</td>\n      <td>37.0</td>\n      <td>110.0</td>\n      <td>110.0</td>\n      <td>150.0</td>\n      <td>57.0</td>\n      <td>181.0</td>\n      <td>181.0</td>\n    </tr>\n    <tr>\n      <th>1283</th>\n      <td>Ylena In Albon</td>\n      <td>0.0</td>\n      <td>0.0</td>\n      <td>0.0</td>\n      <td>0.0</td>\n      <td>0.0</td>\n      <td>0.0</td>\n      <td>0.0</td>\n      <td>0.0</td>\n      <td>0.0</td>\n      <td>...</td>\n      <td>0.0</td>\n      <td>0.0</td>\n      <td>0.0</td>\n      <td>0.0</td>\n      <td>0.0</td>\n      <td>0.0</td>\n      <td>0.0</td>\n      <td>0.0</td>\n      <td>0.0</td>\n      <td>0.0</td>\n    </tr>\n    <tr>\n      <th>1360</th>\n      <td>Katharina Hobgarski</td>\n      <td>3.0</td>\n      <td>0.0</td>\n      <td>1.0</td>\n      <td>1.0</td>\n      <td>7.0</td>\n      <td>0.0</td>\n      <td>12.0</td>\n      <td>12.0</td>\n      <td>347.0</td>\n      <td>...</td>\n      <td>10.0</td>\n      <td>10.0</td>\n      <td>18.0</td>\n      <td>0.0</td>\n      <td>3.0</td>\n      <td>3.0</td>\n      <td>35.0</td>\n      <td>0.0</td>\n      <td>10.0</td>\n      <td>10.0</td>\n    </tr>\n    <tr>\n      <th>271</th>\n      <td>Ekaterine Gorgodze</td>\n      <td>19.0</td>\n      <td>3.0</td>\n      <td>13.0</td>\n      <td>13.0</td>\n      <td>36.0</td>\n      <td>6.0</td>\n      <td>12.0</td>\n      <td>12.0</td>\n      <td>1239.0</td>\n      <td>...</td>\n      <td>81.0</td>\n      <td>81.0</td>\n      <td>80.0</td>\n      <td>5.0</td>\n      <td>47.0</td>\n      <td>47.0</td>\n      <td>140.0</td>\n      <td>8.0</td>\n      <td>77.0</td>\n      <td>77.0</td>\n    </tr>\n    <tr>\n      <th>375</th>\n      <td>Georgina Garcia Perez</td>\n      <td>27.0</td>\n      <td>0.0</td>\n      <td>13.0</td>\n      <td>13.0</td>\n      <td>45.0</td>\n      <td>4.0</td>\n      <td>52.0</td>\n      <td>52.0</td>\n      <td>1237.0</td>\n      <td>...</td>\n      <td>132.0</td>\n      <td>132.0</td>\n      <td>84.0</td>\n      <td>14.0</td>\n      <td>69.0</td>\n      <td>69.0</td>\n      <td>130.0</td>\n      <td>22.0</td>\n      <td>98.0</td>\n      <td>98.0</td>\n    </tr>\n    <tr>\n      <th>2383</th>\n      <td>Iga Swiatek</td>\n      <td>47.0</td>\n      <td>26.0</td>\n      <td>123.0</td>\n      <td>123.0</td>\n      <td>87.0</td>\n      <td>22.0</td>\n      <td>122.0</td>\n      <td>122.0</td>\n      <td>2012.0</td>\n      <td>...</td>\n      <td>471.0</td>\n      <td>471.0</td>\n      <td>122.0</td>\n      <td>20.0</td>\n      <td>139.0</td>\n      <td>139.0</td>\n      <td>182.0</td>\n      <td>31.0</td>\n      <td>233.0</td>\n      <td>233.0</td>\n    </tr>\n    <tr>\n      <th>119</th>\n      <td>Vitalia Diatchenko</td>\n      <td>0.0</td>\n      <td>18.0</td>\n      <td>66.0</td>\n      <td>66.0</td>\n      <td>9.0</td>\n      <td>40.0</td>\n      <td>200.0</td>\n      <td>200.0</td>\n      <td>84.0</td>\n      <td>...</td>\n      <td>360.0</td>\n      <td>360.0</td>\n      <td>7.0</td>\n      <td>52.0</td>\n      <td>114.0</td>\n      <td>114.0</td>\n      <td>11.0</td>\n      <td>78.0</td>\n      <td>219.0</td>\n      <td>219.0</td>\n    </tr>\n    <tr>\n      <th>466</th>\n      <td>Victoria Kan</td>\n      <td>2.0</td>\n      <td>0.0</td>\n      <td>0.0</td>\n      <td>0.0</td>\n      <td>1.0</td>\n      <td>0.0</td>\n      <td>0.0</td>\n      <td>0.0</td>\n      <td>55.0</td>\n      <td>...</td>\n      <td>0.0</td>\n      <td>0.0</td>\n      <td>1.0</td>\n      <td>0.0</td>\n      <td>0.0</td>\n      <td>0.0</td>\n      <td>4.0</td>\n      <td>0.0</td>\n      <td>0.0</td>\n      <td>0.0</td>\n    </tr>\n    <tr>\n      <th>630</th>\n      <td>Quirine Lemoine</td>\n      <td>3.0</td>\n      <td>0.0</td>\n      <td>2.0</td>\n      <td>2.0</td>\n      <td>13.0</td>\n      <td>0.0</td>\n      <td>12.0</td>\n      <td>12.0</td>\n      <td>254.0</td>\n      <td>...</td>\n      <td>9.0</td>\n      <td>9.0</td>\n      <td>21.0</td>\n      <td>0.0</td>\n      <td>13.0</td>\n      <td>13.0</td>\n      <td>27.0</td>\n      <td>0.0</td>\n      <td>28.0</td>\n      <td>28.0</td>\n    </tr>\n    <tr>\n      <th>63</th>\n      <td>Kaia Kanepi</td>\n      <td>69.0</td>\n      <td>4.0</td>\n      <td>127.0</td>\n      <td>127.0</td>\n      <td>82.0</td>\n      <td>12.0</td>\n      <td>187.0</td>\n      <td>187.0</td>\n      <td>1629.0</td>\n      <td>...</td>\n      <td>481.0</td>\n      <td>481.0</td>\n      <td>108.0</td>\n      <td>8.0</td>\n      <td>181.0</td>\n      <td>181.0</td>\n      <td>167.0</td>\n      <td>16.0</td>\n      <td>298.0</td>\n      <td>298.0</td>\n    </tr>\n    <tr>\n      <th>2182</th>\n      <td>Yuliya Hatouka</td>\n      <td>5.0</td>\n      <td>0.0</td>\n      <td>0.0</td>\n      <td>0.0</td>\n      <td>5.0</td>\n      <td>0.0</td>\n      <td>0.0</td>\n      <td>0.0</td>\n      <td>71.0</td>\n      <td>...</td>\n      <td>0.0</td>\n      <td>0.0</td>\n      <td>5.0</td>\n      <td>0.0</td>\n      <td>0.0</td>\n      <td>0.0</td>\n      <td>6.0</td>\n      <td>0.0</td>\n      <td>0.0</td>\n      <td>0.0</td>\n    </tr>\n    <tr>\n      <th>1887</th>\n      <td>Bianca Andreescu</td>\n      <td>16.0</td>\n      <td>1.0</td>\n      <td>187.0</td>\n      <td>187.0</td>\n      <td>13.0</td>\n      <td>4.0</td>\n      <td>258.0</td>\n      <td>258.0</td>\n      <td>360.0</td>\n      <td>...</td>\n      <td>796.0</td>\n      <td>796.0</td>\n      <td>20.0</td>\n      <td>4.0</td>\n      <td>313.0</td>\n      <td>313.0</td>\n      <td>35.0</td>\n      <td>8.0</td>\n      <td>492.0</td>\n      <td>492.0</td>\n    </tr>\n    <tr>\n      <th>1383</th>\n      <td>Viktoria Kuzmova</td>\n      <td>50.0</td>\n      <td>8.0</td>\n      <td>125.0</td>\n      <td>125.0</td>\n      <td>62.0</td>\n      <td>11.0</td>\n      <td>303.0</td>\n      <td>303.0</td>\n      <td>1169.0</td>\n      <td>...</td>\n      <td>666.0</td>\n      <td>666.0</td>\n      <td>60.0</td>\n      <td>12.0</td>\n      <td>240.0</td>\n      <td>240.0</td>\n      <td>94.0</td>\n      <td>15.0</td>\n      <td>379.0</td>\n      <td>379.0</td>\n    </tr>\n    <tr>\n      <th>1964</th>\n      <td>Maryna Chernyshova</td>\n      <td>0.0</td>\n      <td>0.0</td>\n      <td>0.0</td>\n      <td>0.0</td>\n      <td>0.0</td>\n      <td>0.0</td>\n      <td>0.0</td>\n      <td>0.0</td>\n      <td>0.0</td>\n      <td>...</td>\n      <td>0.0</td>\n      <td>0.0</td>\n      <td>0.0</td>\n      <td>0.0</td>\n      <td>0.0</td>\n      <td>0.0</td>\n      <td>0.0</td>\n      <td>0.0</td>\n      <td>0.0</td>\n      <td>0.0</td>\n    </tr>\n    <tr>\n      <th>651</th>\n      <td>Hua Chen Lee</td>\n      <td>0.0</td>\n      <td>0.0</td>\n      <td>0.0</td>\n      <td>0.0</td>\n      <td>0.0</td>\n      <td>0.0</td>\n      <td>0.0</td>\n      <td>0.0</td>\n      <td>0.0</td>\n      <td>...</td>\n      <td>0.0</td>\n      <td>0.0</td>\n      <td>0.0</td>\n      <td>0.0</td>\n      <td>0.0</td>\n      <td>0.0</td>\n      <td>0.0</td>\n      <td>0.0</td>\n      <td>0.0</td>\n      <td>0.0</td>\n    </tr>\n    <tr>\n      <th>340</th>\n      <td>Cristina Dinu</td>\n      <td>8.0</td>\n      <td>0.0</td>\n      <td>0.0</td>\n      <td>0.0</td>\n      <td>17.0</td>\n      <td>0.0</td>\n      <td>0.0</td>\n      <td>0.0</td>\n      <td>307.0</td>\n      <td>...</td>\n      <td>0.0</td>\n      <td>0.0</td>\n      <td>28.0</td>\n      <td>0.0</td>\n      <td>0.0</td>\n      <td>0.0</td>\n      <td>40.0</td>\n      <td>0.0</td>\n      <td>0.0</td>\n      <td>0.0</td>\n    </tr>\n    <tr>\n      <th>184</th>\n      <td>Sabina Sharipova</td>\n      <td>0.0</td>\n      <td>1.0</td>\n      <td>46.0</td>\n      <td>46.0</td>\n      <td>10.0</td>\n      <td>3.0</td>\n      <td>194.0</td>\n      <td>194.0</td>\n      <td>90.0</td>\n      <td>...</td>\n      <td>353.0</td>\n      <td>353.0</td>\n      <td>5.0</td>\n      <td>3.0</td>\n      <td>138.0</td>\n      <td>138.0</td>\n      <td>12.0</td>\n      <td>8.0</td>\n      <td>242.0</td>\n      <td>242.0</td>\n    </tr>\n    <tr>\n      <th>224</th>\n      <td>Kiki Bertens</td>\n      <td>244.0</td>\n      <td>59.0</td>\n      <td>272.0</td>\n      <td>272.0</td>\n      <td>312.0</td>\n      <td>89.0</td>\n      <td>439.0</td>\n      <td>439.0</td>\n      <td>5779.0</td>\n      <td>...</td>\n      <td>1145.0</td>\n      <td>1145.0</td>\n      <td>302.0</td>\n      <td>61.0</td>\n      <td>383.0</td>\n      <td>383.0</td>\n      <td>478.0</td>\n      <td>102.0</td>\n      <td>635.0</td>\n      <td>635.0</td>\n    </tr>\n    <tr>\n      <th>1180</th>\n      <td>Sofia Kenin</td>\n      <td>24.0</td>\n      <td>24.0</td>\n      <td>191.0</td>\n      <td>191.0</td>\n      <td>60.0</td>\n      <td>43.0</td>\n      <td>404.0</td>\n      <td>404.0</td>\n      <td>1301.0</td>\n      <td>...</td>\n      <td>1096.0</td>\n      <td>1096.0</td>\n      <td>94.0</td>\n      <td>46.0</td>\n      <td>435.0</td>\n      <td>435.0</td>\n      <td>143.0</td>\n      <td>71.0</td>\n      <td>684.0</td>\n      <td>684.0</td>\n    </tr>\n    <tr>\n      <th>1045</th>\n      <td>Jaqueline Adina Cristian</td>\n      <td>38.0</td>\n      <td>0.0</td>\n      <td>41.0</td>\n      <td>41.0</td>\n      <td>70.0</td>\n      <td>0.0</td>\n      <td>32.0</td>\n      <td>32.0</td>\n      <td>1488.0</td>\n      <td>...</td>\n      <td>143.0</td>\n      <td>143.0</td>\n      <td>86.0</td>\n      <td>0.0</td>\n      <td>30.0</td>\n      <td>30.0</td>\n      <td>148.0</td>\n      <td>0.0</td>\n      <td>50.0</td>\n      <td>50.0</td>\n    </tr>\n    <tr>\n      <th>356</th>\n      <td>Irina Khromacheva</td>\n      <td>25.0</td>\n      <td>5.0</td>\n      <td>63.0</td>\n      <td>63.0</td>\n      <td>64.0</td>\n      <td>4.0</td>\n      <td>109.0</td>\n      <td>109.0</td>\n      <td>605.0</td>\n      <td>...</td>\n      <td>193.0</td>\n      <td>193.0</td>\n      <td>37.0</td>\n      <td>6.0</td>\n      <td>70.0</td>\n      <td>70.0</td>\n      <td>66.0</td>\n      <td>13.0</td>\n      <td>112.0</td>\n      <td>112.0</td>\n    </tr>\n    <tr>\n      <th>1191</th>\n      <td>Iryna Shymanovich</td>\n      <td>0.0</td>\n      <td>0.0</td>\n      <td>0.0</td>\n      <td>0.0</td>\n      <td>0.0</td>\n      <td>0.0</td>\n      <td>0.0</td>\n      <td>0.0</td>\n      <td>0.0</td>\n      <td>...</td>\n      <td>0.0</td>\n      <td>0.0</td>\n      <td>0.0</td>\n      <td>0.0</td>\n      <td>0.0</td>\n      <td>0.0</td>\n      <td>0.0</td>\n      <td>0.0</td>\n      <td>0.0</td>\n      <td>0.0</td>\n    </tr>\n    <tr>\n      <th>300</th>\n      <td>Chanel Simmonds</td>\n      <td>0.0</td>\n      <td>0.0</td>\n      <td>1.0</td>\n      <td>1.0</td>\n      <td>0.0</td>\n      <td>0.0</td>\n      <td>0.0</td>\n      <td>0.0</td>\n      <td>0.0</td>\n      <td>...</td>\n      <td>10.0</td>\n      <td>10.0</td>\n      <td>0.0</td>\n      <td>0.0</td>\n      <td>6.0</td>\n      <td>6.0</td>\n      <td>0.0</td>\n      <td>0.0</td>\n      <td>9.0</td>\n      <td>9.0</td>\n    </tr>\n    <tr>\n      <th>878</th>\n      <td>Mayar Sherif</td>\n      <td>25.0</td>\n      <td>0.0</td>\n      <td>23.0</td>\n      <td>23.0</td>\n      <td>20.0</td>\n      <td>2.0</td>\n      <td>14.0</td>\n      <td>14.0</td>\n      <td>1050.0</td>\n      <td>...</td>\n      <td>92.0</td>\n      <td>92.0</td>\n      <td>44.0</td>\n      <td>0.0</td>\n      <td>17.0</td>\n      <td>17.0</td>\n      <td>82.0</td>\n      <td>0.0</td>\n      <td>31.0</td>\n      <td>31.0</td>\n    </tr>\n    <tr>\n      <th>120</th>\n      <td>Polona Hercog</td>\n      <td>136.0</td>\n      <td>25.0</td>\n      <td>81.0</td>\n      <td>81.0</td>\n      <td>172.0</td>\n      <td>71.0</td>\n      <td>107.0</td>\n      <td>107.0</td>\n      <td>3492.0</td>\n      <td>...</td>\n      <td>293.0</td>\n      <td>293.0</td>\n      <td>221.0</td>\n      <td>42.0</td>\n      <td>97.0</td>\n      <td>97.0</td>\n      <td>368.0</td>\n      <td>72.0</td>\n      <td>137.0</td>\n      <td>137.0</td>\n    </tr>\n    <tr>\n      <th>304</th>\n      <td>Mihaela Buzarnescu</td>\n      <td>55.0</td>\n      <td>29.0</td>\n      <td>69.0</td>\n      <td>69.0</td>\n      <td>99.0</td>\n      <td>24.0</td>\n      <td>131.0</td>\n      <td>131.0</td>\n      <td>2185.0</td>\n      <td>...</td>\n      <td>351.0</td>\n      <td>351.0</td>\n      <td>138.0</td>\n      <td>47.0</td>\n      <td>132.0</td>\n      <td>132.0</td>\n      <td>228.0</td>\n      <td>77.0</td>\n      <td>221.0</td>\n      <td>221.0</td>\n    </tr>\n    <tr>\n      <th>306</th>\n      <td>Viktoriya Tomova</td>\n      <td>17.0</td>\n      <td>8.0</td>\n      <td>50.0</td>\n      <td>50.0</td>\n      <td>63.0</td>\n      <td>16.0</td>\n      <td>103.0</td>\n      <td>103.0</td>\n      <td>1707.0</td>\n      <td>...</td>\n      <td>385.0</td>\n      <td>385.0</td>\n      <td>115.0</td>\n      <td>28.0</td>\n      <td>155.0</td>\n      <td>155.0</td>\n      <td>202.0</td>\n      <td>41.0</td>\n      <td>277.0</td>\n      <td>277.0</td>\n    </tr>\n    <tr>\n      <th>1720</th>\n      <td>Eleonora Molinaro</td>\n      <td>2.0</td>\n      <td>0.0</td>\n      <td>25.0</td>\n      <td>25.0</td>\n      <td>7.0</td>\n      <td>0.0</td>\n      <td>17.0</td>\n      <td>17.0</td>\n      <td>224.0</td>\n      <td>...</td>\n      <td>83.0</td>\n      <td>83.0</td>\n      <td>12.0</td>\n      <td>0.0</td>\n      <td>27.0</td>\n      <td>27.0</td>\n      <td>29.0</td>\n      <td>0.0</td>\n      <td>41.0</td>\n      <td>41.0</td>\n    </tr>\n    <tr>\n      <th>807</th>\n      <td>Kathinka Von Deichmann</td>\n      <td>1.0</td>\n      <td>0.0</td>\n      <td>5.0</td>\n      <td>5.0</td>\n      <td>29.0</td>\n      <td>0.0</td>\n      <td>11.0</td>\n      <td>11.0</td>\n      <td>783.0</td>\n      <td>...</td>\n      <td>11.0</td>\n      <td>11.0</td>\n      <td>54.0</td>\n      <td>0.0</td>\n      <td>29.0</td>\n      <td>29.0</td>\n      <td>95.0</td>\n      <td>0.0</td>\n      <td>39.0</td>\n      <td>39.0</td>\n    </tr>\n    <tr>\n      <th>1036</th>\n      <td>Rebecca Sramkova</td>\n      <td>53.0</td>\n      <td>2.0</td>\n      <td>11.0</td>\n      <td>11.0</td>\n      <td>39.0</td>\n      <td>3.0</td>\n      <td>31.0</td>\n      <td>31.0</td>\n      <td>1420.0</td>\n      <td>...</td>\n      <td>85.0</td>\n      <td>85.0</td>\n      <td>78.0</td>\n      <td>7.0</td>\n      <td>52.0</td>\n      <td>52.0</td>\n      <td>131.0</td>\n      <td>12.0</td>\n      <td>79.0</td>\n      <td>79.0</td>\n    </tr>\n    <tr>\n      <th>71</th>\n      <td>Madison Brengle</td>\n      <td>7.0</td>\n      <td>9.0</td>\n      <td>21.0</td>\n      <td>21.0</td>\n      <td>21.0</td>\n      <td>33.0</td>\n      <td>159.0</td>\n      <td>159.0</td>\n      <td>807.0</td>\n      <td>...</td>\n      <td>592.0</td>\n      <td>592.0</td>\n      <td>44.0</td>\n      <td>63.0</td>\n      <td>207.0</td>\n      <td>207.0</td>\n      <td>77.0</td>\n      <td>122.0</td>\n      <td>386.0</td>\n      <td>386.0</td>\n    </tr>\n  </tbody>\n</table>\n<p>50 rows × 37 columns</p>\n</div>"
     },
     "metadata": {}
    }
   ]
  },
  {
   "cell_type": "code",
   "metadata": {
    "tags": [],
    "cell_id": "00025-a22dddd6-96ba-44a5-8233-e4caaeeb482f",
    "deepnote_to_be_reexecuted": true,
    "source_hash": "502c769c",
    "execution_start": 1636388448411,
    "execution_millis": 0,
    "deepnote_cell_type": "code"
   },
   "source": "df_top_female_players.to_csv(\"../data/integrations/female_winners_stats_top.csv\", index=False)",
   "execution_count": null,
   "outputs": []
  },
  {
   "cell_type": "markdown",
   "source": "### Dataframe for Classification",
   "metadata": {
    "tags": [],
    "cell_id": "00028-2cbf5fbe-2f7d-494d-a13b-f319118bb4be",
    "deepnote_cell_type": "markdown"
   }
  },
  {
   "cell_type": "code",
   "metadata": {
    "tags": [],
    "cell_id": "00042-7ce83c66-d3bb-4262-879d-76ff99bc07a3",
    "deepnote_to_be_reexecuted": false,
    "source_hash": "bec56a54",
    "execution_start": 1638370728198,
    "execution_millis": 6,
    "deepnote_cell_type": "code"
   },
   "source": "matches_male_players = pd.read_csv('../data/integrations/matches_male_players.csv')",
   "execution_count": null,
   "outputs": []
  },
  {
   "cell_type": "code",
   "metadata": {
    "tags": [],
    "cell_id": "00044-1642be8d-9d89-492d-be72-6209617e7346",
    "deepnote_to_be_reexecuted": false,
    "source_hash": "2f249514",
    "execution_start": 1638371688905,
    "execution_millis": 55400,
    "deepnote_cell_type": "code"
   },
   "source": "list_of_male_names = df_male_matches['player_name'].unique()\n\n#df_player.loc[df_player['Name'] == name, 'Hand'] = df_h[0]\n\nfor name in list_of_male_names:\n    loser_rank_avg = df_male_matches[(df_male_matches['loser_name'] == name) & (df_male_matches['loser_rank'] > 0)]['loser_rank'].mean() \n    winner_rank_avg = df_male_matches[(df_male_matches['winner_name'] == name) & (df_male_matches['winner_rank'] > 0)]['winner_rank'].mean() \n    matches_male_players.loc[matches_male_players['Name'] == name, 'avg_rank'] = (loser_rank_avg + winner_rank_avg)/2",
   "execution_count": null,
   "outputs": []
  },
  {
   "cell_type": "code",
   "metadata": {
    "tags": [],
    "cell_id": "00044-326bd982-f881-4e7a-9277-2a0bb0e2e422",
    "deepnote_to_be_reexecuted": false,
    "source_hash": "45b9f25a",
    "execution_start": 1638371995458,
    "execution_millis": 48,
    "deepnote_cell_type": "code"
   },
   "source": "matches_male_players.to_csv(\"../data/integrations/df_male_classification.csv\")",
   "execution_count": null,
   "outputs": []
  },
  {
   "cell_type": "code",
   "metadata": {
    "tags": [],
    "cell_id": "00045-efa91adb-19e3-4ecd-b1fb-eb6f3541d0d7",
    "deepnote_to_be_reexecuted": false,
    "source_hash": "566179d2",
    "execution_start": 1638371083166,
    "execution_millis": 927,
    "deepnote_cell_type": "code"
   },
   "source": "matches_female_players = pd.read_csv('../data/integrations/matches_female_players.csv')",
   "execution_count": null,
   "outputs": []
  },
  {
   "cell_type": "code",
   "metadata": {
    "tags": [],
    "cell_id": "00046-4ccfb7f2-c5ef-4693-b3d6-07c1d604e583",
    "deepnote_to_be_reexecuted": false,
    "source_hash": "260051d6",
    "execution_start": 1638371158916,
    "execution_millis": 167,
    "deepnote_cell_type": "code"
   },
   "source": "matches_female_players",
   "execution_count": null,
   "outputs": [
    {
     "output_type": "execute_result",
     "execution_count": 46,
     "data": {
      "application/vnd.deepnote.dataframe.v2+json": {
       "row_count": 7062,
       "column_count": 11,
       "columns": [
        {
         "name": "Name",
         "dtype": "object",
         "stats": {
          "unique_count": 7062,
          "nan_count": 0,
          "categories": [
           {
            "name": "Mirjana Lucic",
            "count": 1
           },
           {
            "name": "Maureen Drake",
            "count": 1
           },
           {
            "name": "7060 others",
            "count": 7060
           }
          ]
         }
        },
        {
         "name": "Sex",
         "dtype": "object",
         "stats": {
          "unique_count": 1,
          "nan_count": 0,
          "categories": [
           {
            "name": "F",
            "count": 7062
           }
          ]
         }
        },
        {
         "name": "Hand",
         "dtype": "object",
         "stats": {
          "unique_count": 3,
          "nan_count": 0,
          "categories": [
           {
            "name": "U",
            "count": 4916
           },
           {
            "name": "R",
            "count": 1938
           },
           {
            "name": "L",
            "count": 208
           }
          ]
         }
        },
        {
         "name": "IOC",
         "dtype": "object",
         "stats": {
          "unique_count": 139,
          "nan_count": 0,
          "categories": [
           {
            "name": "USA",
            "count": 669
           },
           {
            "name": "RUS",
            "count": 428
           },
           {
            "name": "137 others",
            "count": 5965
           }
          ]
         }
        },
        {
         "name": "Won_Tournaments",
         "dtype": "float64",
         "stats": {
          "unique_count": 17,
          "nan_count": 0,
          "min": "0.0",
          "max": "20.0",
          "histogram": [
           {
            "bin_start": 0,
            "bin_end": 2,
            "count": 6460
           },
           {
            "bin_start": 2,
            "bin_end": 4,
            "count": 296
           },
           {
            "bin_start": 4,
            "bin_end": 6,
            "count": 154
           },
           {
            "bin_start": 6,
            "bin_end": 8,
            "count": 87
           },
           {
            "bin_start": 8,
            "bin_end": 10,
            "count": 38
           },
           {
            "bin_start": 10,
            "bin_end": 12,
            "count": 18
           },
           {
            "bin_start": 12,
            "bin_end": 14,
            "count": 4
           },
           {
            "bin_start": 14,
            "bin_end": 16,
            "count": 2
           },
           {
            "bin_start": 16,
            "bin_end": 18,
            "count": 2
           },
           {
            "bin_start": 18,
            "bin_end": 20,
            "count": 1
           }
          ]
         }
        },
        {
         "name": "Number_of_Matches",
         "dtype": "float64",
         "stats": {
          "unique_count": 320,
          "nan_count": 0,
          "min": "1.0",
          "max": "643.0",
          "histogram": [
           {
            "bin_start": 1,
            "bin_end": 65.2,
            "count": 5885
           },
           {
            "bin_start": 65.2,
            "bin_end": 129.4,
            "count": 505
           },
           {
            "bin_start": 129.4,
            "bin_end": 193.60000000000002,
            "count": 302
           },
           {
            "bin_start": 193.60000000000002,
            "bin_end": 257.8,
            "count": 213
           },
           {
            "bin_start": 257.8,
            "bin_end": 322,
            "count": 134
           },
           {
            "bin_start": 322,
            "bin_end": 386.20000000000005,
            "count": 18
           },
           {
            "bin_start": 386.20000000000005,
            "bin_end": 450.40000000000003,
            "count": 4
           },
           {
            "bin_start": 450.40000000000003,
            "bin_end": 514.6,
            "count": 0
           },
           {
            "bin_start": 514.6,
            "bin_end": 578.8000000000001,
            "count": 0
           },
           {
            "bin_start": 578.8000000000001,
            "bin_end": 643,
            "count": 1
           }
          ]
         }
        },
        {
         "name": "Win_Percentage",
         "dtype": "float64",
         "stats": {
          "unique_count": 1270,
          "nan_count": 0,
          "min": "0.0",
          "max": "1.0",
          "histogram": [
           {
            "bin_start": 0,
            "bin_end": 0.1,
            "count": 2697
           },
           {
            "bin_start": 0.1,
            "bin_end": 0.2,
            "count": 325
           },
           {
            "bin_start": 0.2,
            "bin_end": 0.30000000000000004,
            "count": 729
           },
           {
            "bin_start": 0.30000000000000004,
            "bin_end": 0.4,
            "count": 776
           },
           {
            "bin_start": 0.4,
            "bin_end": 0.5,
            "count": 802
           },
           {
            "bin_start": 0.5,
            "bin_end": 0.6000000000000001,
            "count": 1261
           },
           {
            "bin_start": 0.6000000000000001,
            "bin_end": 0.7000000000000001,
            "count": 368
           },
           {
            "bin_start": 0.7000000000000001,
            "bin_end": 0.8,
            "count": 60
           },
           {
            "bin_start": 0.8,
            "bin_end": 0.9,
            "count": 5
           },
           {
            "bin_start": 0.9,
            "bin_end": 1,
            "count": 39
           }
          ]
         }
        },
        {
         "name": "best_year_matches",
         "dtype": "float64",
         "stats": {
          "unique_count": 6,
          "nan_count": 0,
          "min": "2016.0",
          "max": "2021.0",
          "histogram": [
           {
            "bin_start": 2016,
            "bin_end": 2016.5,
            "count": 1450
           },
           {
            "bin_start": 2016.5,
            "bin_end": 2017,
            "count": 0
           },
           {
            "bin_start": 2017,
            "bin_end": 2017.5,
            "count": 793
           },
           {
            "bin_start": 2017.5,
            "bin_end": 2018,
            "count": 0
           },
           {
            "bin_start": 2018,
            "bin_end": 2018.5,
            "count": 627
           },
           {
            "bin_start": 2018.5,
            "bin_end": 2019,
            "count": 0
           },
           {
            "bin_start": 2019,
            "bin_end": 2019.5,
            "count": 2479
           },
           {
            "bin_start": 2019.5,
            "bin_end": 2020,
            "count": 0
           },
           {
            "bin_start": 2020,
            "bin_end": 2020.5,
            "count": 495
           },
           {
            "bin_start": 2020.5,
            "bin_end": 2021,
            "count": 1218
           }
          ]
         }
        },
        {
         "name": "worst_year_matches",
         "dtype": "float64",
         "stats": {
          "unique_count": 7,
          "nan_count": 0,
          "min": "1800.0",
          "max": "2021.0",
          "histogram": [
           {
            "bin_start": 1800,
            "bin_end": 1822.1,
            "count": 12
           },
           {
            "bin_start": 1822.1,
            "bin_end": 1844.2,
            "count": 0
           },
           {
            "bin_start": 1844.2,
            "bin_end": 1866.3,
            "count": 0
           },
           {
            "bin_start": 1866.3,
            "bin_end": 1888.4,
            "count": 0
           },
           {
            "bin_start": 1888.4,
            "bin_end": 1910.5,
            "count": 0
           },
           {
            "bin_start": 1910.5,
            "bin_end": 1932.6,
            "count": 0
           },
           {
            "bin_start": 1932.6,
            "bin_end": 1954.7,
            "count": 0
           },
           {
            "bin_start": 1954.7,
            "bin_end": 1976.8,
            "count": 0
           },
           {
            "bin_start": 1976.8,
            "bin_end": 1998.9,
            "count": 0
           },
           {
            "bin_start": 1998.9,
            "bin_end": 2021,
            "count": 7050
           }
          ]
         }
        },
        {
         "name": "best_year_wins",
         "dtype": "float64",
         "stats": {
          "unique_count": 6,
          "nan_count": 2633,
          "min": "2016.0",
          "max": "2021.0",
          "histogram": [
           {
            "bin_start": 2016,
            "bin_end": 2016.5,
            "count": 883
           },
           {
            "bin_start": 2016.5,
            "bin_end": 2017,
            "count": 0
           },
           {
            "bin_start": 2017,
            "bin_end": 2017.5,
            "count": 477
           },
           {
            "bin_start": 2017.5,
            "bin_end": 2018,
            "count": 0
           },
           {
            "bin_start": 2018,
            "bin_end": 2018.5,
            "count": 419
           },
           {
            "bin_start": 2018.5,
            "bin_end": 2019,
            "count": 0
           },
           {
            "bin_start": 2019,
            "bin_end": 2019.5,
            "count": 1554
           },
           {
            "bin_start": 2019.5,
            "bin_end": 2020,
            "count": 0
           },
           {
            "bin_start": 2020,
            "bin_end": 2020.5,
            "count": 315
           },
           {
            "bin_start": 2020.5,
            "bin_end": 2021,
            "count": 781
           }
          ]
         }
        },
        {
         "name": "worst_year_wins",
         "dtype": "float64",
         "stats": {
          "unique_count": 7,
          "nan_count": 2633,
          "min": "1800.0",
          "max": "2021.0",
          "histogram": [
           {
            "bin_start": 1800,
            "bin_end": 1822.1,
            "count": 7
           },
           {
            "bin_start": 1822.1,
            "bin_end": 1844.2,
            "count": 0
           },
           {
            "bin_start": 1844.2,
            "bin_end": 1866.3,
            "count": 0
           },
           {
            "bin_start": 1866.3,
            "bin_end": 1888.4,
            "count": 0
           },
           {
            "bin_start": 1888.4,
            "bin_end": 1910.5,
            "count": 0
           },
           {
            "bin_start": 1910.5,
            "bin_end": 1932.6,
            "count": 0
           },
           {
            "bin_start": 1932.6,
            "bin_end": 1954.7,
            "count": 0
           },
           {
            "bin_start": 1954.7,
            "bin_end": 1976.8,
            "count": 0
           },
           {
            "bin_start": 1976.8,
            "bin_end": 1998.9,
            "count": 0
           },
           {
            "bin_start": 1998.9,
            "bin_end": 2021,
            "count": 4422
           }
          ]
         }
        },
        {
         "name": "_deepnote_index_column",
         "dtype": "int64"
        }
       ],
       "rows_top": [
        {
         "Name": "Mirjana Lucic",
         "Sex": "F",
         "Hand": "R",
         "IOC": "CRO",
         "Won_Tournaments": 0,
         "Number_of_Matches": 88,
         "Win_Percentage": 0.5340909090909091,
         "best_year_matches": 2016,
         "worst_year_matches": 2018,
         "best_year_wins": 2016,
         "worst_year_wins": 2018,
         "_deepnote_index_column": 0
        },
        {
         "Name": "Maureen Drake",
         "Sex": "F",
         "Hand": "R",
         "IOC": "CAN",
         "Won_Tournaments": 0,
         "Number_of_Matches": 3,
         "Win_Percentage": 0.3333333333333333,
         "best_year_matches": 2016,
         "worst_year_matches": 2016,
         "best_year_wins": 2016,
         "worst_year_wins": 2016,
         "_deepnote_index_column": 1
        },
        {
         "Name": "Serena Williams",
         "Sex": "F",
         "Hand": "R",
         "IOC": "USA",
         "Won_Tournaments": 4,
         "Number_of_Matches": 152,
         "Win_Percentage": 0.7763157894736842,
         "best_year_matches": 2016,
         "worst_year_matches": 2017,
         "best_year_wins": 2016,
         "worst_year_wins": 2017,
         "_deepnote_index_column": 2
        },
        {
         "Name": "Virginie Razzano",
         "Sex": "F",
         "Hand": "R",
         "IOC": "FRA",
         "Won_Tournaments": 0,
         "Number_of_Matches": 60,
         "Win_Percentage": 0.3833333333333333,
         "best_year_matches": 2016,
         "worst_year_matches": 2018,
         "best_year_wins": 2016,
         "worst_year_wins": 2017,
         "_deepnote_index_column": 3
        },
        {
         "Name": "Patty Schnyder",
         "Sex": "F",
         "Hand": "L",
         "IOC": "SUI",
         "Won_Tournaments": 3,
         "Number_of_Matches": 125,
         "Win_Percentage": 0.6,
         "best_year_matches": 2017,
         "worst_year_matches": 2018,
         "best_year_wins": 2017,
         "worst_year_wins": 2018,
         "_deepnote_index_column": 4
        },
        {
         "Name": "Alexandra Stevenson",
         "Sex": "F",
         "Hand": "R",
         "IOC": "USA",
         "Won_Tournaments": 0,
         "Number_of_Matches": 24,
         "Win_Percentage": 0.3333333333333333,
         "best_year_matches": 2016,
         "worst_year_matches": 2018,
         "best_year_wins": 2016,
         "worst_year_wins": 2018,
         "_deepnote_index_column": 5
        },
        {
         "Name": "Pam Casale",
         "Sex": "F",
         "Hand": "R",
         "IOC": "USA",
         "Won_Tournaments": 0,
         "Number_of_Matches": 7,
         "Win_Percentage": 0.2857142857142857,
         "best_year_matches": 2017,
         "worst_year_matches": 2018,
         "best_year_wins": 2017,
         "worst_year_wins": 2017,
         "_deepnote_index_column": 6
        },
        {
         "Name": "Lindsay Lee Waters",
         "Sex": "F",
         "Hand": "R",
         "IOC": "USA",
         "Won_Tournaments": 0,
         "Number_of_Matches": 10,
         "Win_Percentage": 0.4,
         "best_year_matches": 2016,
         "worst_year_matches": 2017,
         "best_year_wins": 2016,
         "worst_year_wins": 2017,
         "_deepnote_index_column": 7
        },
        {
         "Name": "Venus Williams",
         "Sex": "F",
         "Hand": "R",
         "IOC": "USA",
         "Won_Tournaments": 1,
         "Number_of_Matches": 178,
         "Win_Percentage": 0.5898876404494382,
         "best_year_matches": 2017,
         "worst_year_matches": 2020,
         "best_year_wins": 2017,
         "worst_year_wins": 2020,
         "_deepnote_index_column": 8
        },
        {
         "Name": "Elena Bovina",
         "Sex": "F",
         "Hand": "R",
         "IOC": "RUS",
         "Won_Tournaments": 0,
         "Number_of_Matches": 21,
         "Win_Percentage": 0.4285714285714285,
         "best_year_matches": 2017,
         "worst_year_matches": 2016,
         "best_year_wins": 2017,
         "worst_year_wins": 2017,
         "_deepnote_index_column": 9
        },
        {
         "Name": "Stephanie Foretz Gacon",
         "Sex": "F",
         "Hand": "R",
         "IOC": "FRA",
         "Won_Tournaments": 0,
         "Number_of_Matches": 18,
         "Win_Percentage": 0.4444444444444444,
         "best_year_matches": 2016,
         "worst_year_matches": 2016,
         "best_year_wins": 2016,
         "worst_year_wins": 2016,
         "_deepnote_index_column": 10
        },
        {
         "Name": "Greta Arn",
         "Sex": "F",
         "Hand": "R",
         "IOC": "HUN",
         "Won_Tournaments": 1,
         "Number_of_Matches": 78,
         "Win_Percentage": 0.5512820512820513,
         "best_year_matches": 2019,
         "worst_year_matches": 2020,
         "best_year_wins": 2019,
         "worst_year_wins": 2020,
         "_deepnote_index_column": 11
        },
        {
         "Name": "Francesca Schiavone",
         "Sex": "F",
         "Hand": "R",
         "IOC": "ITA",
         "Won_Tournaments": 2,
         "Number_of_Matches": 86,
         "Win_Percentage": 0.4883720930232558,
         "best_year_matches": 2017,
         "worst_year_matches": 2018,
         "best_year_wins": 2017,
         "worst_year_wins": 2018,
         "_deepnote_index_column": 12
        },
        {
         "Name": "Maria Jose Martinez Sanchez",
         "Sex": "F",
         "Hand": "L",
         "IOC": "ESP",
         "Won_Tournaments": 0,
         "Number_of_Matches": 10,
         "Win_Percentage": 0.3,
         "best_year_matches": 2017,
         "worst_year_matches": 2016,
         "best_year_wins": 2017,
         "worst_year_wins": 2016,
         "_deepnote_index_column": 13
        },
        {
         "Name": "Daniela Hantuchova",
         "Sex": "F",
         "Hand": "R",
         "IOC": "SVK",
         "Won_Tournaments": 0,
         "Number_of_Matches": 57,
         "Win_Percentage": 0.4912280701754385,
         "best_year_matches": 2016,
         "worst_year_matches": 2017,
         "best_year_wins": 2016,
         "worst_year_wins": 2017,
         "_deepnote_index_column": 14
        },
        {
         "Name": "Eleni Daniilidou",
         "Sex": "F",
         "Hand": "R",
         "IOC": "GRE",
         "Won_Tournaments": 0,
         "Number_of_Matches": 54,
         "Win_Percentage": 0.3518518518518518,
         "best_year_matches": 2016,
         "worst_year_matches": 2018,
         "best_year_wins": 2016,
         "worst_year_wins": 2017,
         "_deepnote_index_column": 15
        },
        {
         "Name": "Tatiana Perebiynis",
         "Sex": "F",
         "Hand": "R",
         "IOC": "UKR",
         "Won_Tournaments": 0,
         "Number_of_Matches": 9,
         "Win_Percentage": 0.4444444444444444,
         "best_year_matches": 2017,
         "worst_year_matches": 2018,
         "best_year_wins": 2017,
         "worst_year_wins": 2017,
         "_deepnote_index_column": 16
        },
        {
         "Name": "Roberta Vinci",
         "Sex": "F",
         "Hand": "R",
         "IOC": "ITA",
         "Won_Tournaments": 1,
         "Number_of_Matches": 100,
         "Win_Percentage": 0.47,
         "best_year_matches": 2016,
         "worst_year_matches": 2018,
         "best_year_wins": 2016,
         "worst_year_wins": 2018,
         "_deepnote_index_column": 17
        },
        {
         "Name": "Bethanie Mattek Sands",
         "Sex": "F",
         "Hand": "R",
         "IOC": "USA",
         "Won_Tournaments": 0,
         "Number_of_Matches": 107,
         "Win_Percentage": 0.4485981308411215,
         "best_year_matches": 2016,
         "worst_year_matches": 2020,
         "best_year_wins": 2017,
         "worst_year_wins": 2018,
         "_deepnote_index_column": 18
        },
        {
         "Name": "Svetlana Kuznetsova",
         "Sex": "F",
         "Hand": "R",
         "IOC": "RUS",
         "Won_Tournaments": 3,
         "Number_of_Matches": 200,
         "Win_Percentage": 0.59,
         "best_year_matches": 2016,
         "worst_year_matches": 2021,
         "best_year_wins": 2016,
         "worst_year_wins": 2021,
         "_deepnote_index_column": 19
        },
        {
         "Name": "Samantha Stosur",
         "Sex": "F",
         "Hand": "R",
         "IOC": "AUS",
         "Won_Tournaments": 1,
         "Number_of_Matches": 208,
         "Win_Percentage": 0.4711538461538461,
         "best_year_matches": 2016,
         "worst_year_matches": 2020,
         "best_year_wins": 2016,
         "worst_year_wins": 2020,
         "_deepnote_index_column": 20
        },
        {
         "Name": "Vera Zvonareva",
         "Sex": "F",
         "Hand": "R",
         "IOC": "RUS",
         "Won_Tournaments": 1,
         "Number_of_Matches": 158,
         "Win_Percentage": 0.6012658227848101,
         "best_year_matches": 2018,
         "worst_year_matches": 2019,
         "best_year_wins": 2018,
         "worst_year_wins": 2019,
         "_deepnote_index_column": 21
        },
        {
         "Name": "Renata Voracova",
         "Sex": "F",
         "Hand": "R",
         "IOC": "CZE",
         "Won_Tournaments": 0,
         "Number_of_Matches": 36,
         "Win_Percentage": 0.3611111111111111,
         "best_year_matches": 2016,
         "worst_year_matches": 2017,
         "best_year_wins": 2018,
         "worst_year_wins": 2019,
         "_deepnote_index_column": 22
        },
        {
         "Name": "Klara Koukalova",
         "Sex": "F",
         "Hand": "R",
         "IOC": "CZE",
         "Won_Tournaments": 0,
         "Number_of_Matches": 18,
         "Win_Percentage": 0.3333333333333333,
         "best_year_matches": 2016,
         "worst_year_matches": 2016,
         "best_year_wins": 2016,
         "worst_year_wins": 2016,
         "_deepnote_index_column": 23
        },
        {
         "Name": "Maria Sharapova",
         "Sex": "F",
         "Hand": "R",
         "IOC": "RUS",
         "Won_Tournaments": 1,
         "Number_of_Matches": 78,
         "Win_Percentage": 0.6282051282051282,
         "best_year_matches": 2018,
         "worst_year_matches": 2020,
         "best_year_wins": 2018,
         "worst_year_wins": 2016,
         "_deepnote_index_column": 24
        },
        {
         "Name": "Jelena Jankovic",
         "Sex": "F",
         "Hand": "R",
         "IOC": "SRB",
         "Won_Tournaments": 0,
         "Number_of_Matches": 74,
         "Win_Percentage": 0.4324324324324324,
         "best_year_matches": 2016,
         "worst_year_matches": 2017,
         "best_year_wins": 2016,
         "worst_year_wins": 2017,
         "_deepnote_index_column": 25
        },
        {
         "Name": "Barbora Zahlavova Strycova",
         "Sex": "F",
         "Hand": "R",
         "IOC": "CZE",
         "Won_Tournaments": 1,
         "Number_of_Matches": 238,
         "Win_Percentage": 0.5588235294117647,
         "best_year_matches": 2017,
         "worst_year_matches": 2021,
         "best_year_wins": 2017,
         "worst_year_wins": 2020,
         "_deepnote_index_column": 26
        },
        {
         "Name": "Anastasia Rodionova",
         "Sex": "F",
         "Hand": "R",
         "IOC": "AUS",
         "Won_Tournaments": 0,
         "Number_of_Matches": 24,
         "Win_Percentage": 0.2916666666666667,
         "best_year_matches": 2017,
         "worst_year_matches": 2018,
         "best_year_wins": 2017,
         "worst_year_wins": 2016,
         "_deepnote_index_column": 27
        },
        {
         "Name": "Vera Dushevina",
         "Sex": "F",
         "Hand": "R",
         "IOC": "RUS",
         "Won_Tournaments": 0,
         "Number_of_Matches": 5,
         "Win_Percentage": 0.2,
         "best_year_matches": 2016,
         "worst_year_matches": 2016,
         "best_year_wins": 2016,
         "worst_year_wins": 2016,
         "_deepnote_index_column": 28
        },
        {
         "Name": "Yuliya Beygelzimer",
         "Sex": "F",
         "Hand": "R",
         "IOC": "UKR",
         "Won_Tournaments": 0,
         "Number_of_Matches": 11,
         "Win_Percentage": 0.4545454545454545,
         "best_year_matches": 2016,
         "worst_year_matches": 2016,
         "best_year_wins": 2016,
         "worst_year_wins": 2016,
         "_deepnote_index_column": 29
        },
        {
         "Name": "Chia Jung Chuang",
         "Sex": "F",
         "Hand": "R",
         "IOC": "TPE",
         "Won_Tournaments": 0,
         "Number_of_Matches": 4,
         "Win_Percentage": 0.5,
         "best_year_matches": 2017,
         "worst_year_matches": 2017,
         "best_year_wins": 2017,
         "worst_year_wins": 2017,
         "_deepnote_index_column": 30
        },
        {
         "Name": "Shuai Peng",
         "Sex": "F",
         "Hand": "R",
         "IOC": "CHN",
         "Won_Tournaments": 6,
         "Number_of_Matches": 180,
         "Win_Percentage": 0.5888888888888889,
         "best_year_matches": 2017,
         "worst_year_matches": 2020,
         "best_year_wins": 2017,
         "worst_year_wins": 2020,
         "_deepnote_index_column": 31
        },
        {
         "Name": "Emily Webley Smith",
         "Sex": "F",
         "Hand": "R",
         "IOC": "GBR",
         "Won_Tournaments": 1,
         "Number_of_Matches": 166,
         "Win_Percentage": 0.4277108433734939,
         "best_year_matches": 2019,
         "worst_year_matches": 2020,
         "best_year_wins": 2019,
         "worst_year_wins": 2016,
         "_deepnote_index_column": 32
        },
        {
         "Name": "Nicole Vaidisova",
         "Sex": "F",
         "Hand": "R",
         "IOC": "CZE",
         "Won_Tournaments": 0,
         "Number_of_Matches": 8,
         "Win_Percentage": 0.375,
         "best_year_matches": 2016,
         "worst_year_matches": 2016,
         "best_year_wins": 2016,
         "worst_year_wins": 2016,
         "_deepnote_index_column": 33
        },
        {
         "Name": "Sesil Karatantcheva",
         "Sex": "F",
         "Hand": "R",
         "IOC": "KAZ",
         "Won_Tournaments": 2,
         "Number_of_Matches": 168,
         "Win_Percentage": 0.494047619047619,
         "best_year_matches": 2017,
         "worst_year_matches": 2019,
         "best_year_wins": 2017,
         "worst_year_wins": 2019,
         "_deepnote_index_column": 34
        },
        {
         "Name": "Monique Adamczak",
         "Sex": "F",
         "Hand": "R",
         "IOC": "AUS",
         "Won_Tournaments": 0,
         "Number_of_Matches": 8,
         "Win_Percentage": 0.5,
         "best_year_matches": 2017,
         "worst_year_matches": 2016,
         "best_year_wins": 2017,
         "worst_year_wins": 2017,
         "_deepnote_index_column": 35
        },
        {
         "Name": "Anastasia Yakimova",
         "Sex": "F",
         "Hand": "R",
         "IOC": "BLR",
         "Won_Tournaments": 0,
         "Number_of_Matches": 10,
         "Win_Percentage": 0.5,
         "best_year_matches": 2016,
         "worst_year_matches": 2017,
         "best_year_wins": 2016,
         "worst_year_wins": 2017,
         "_deepnote_index_column": 36
        },
        {
         "Name": "Michaella Krajicek",
         "Sex": "F",
         "Hand": "R",
         "IOC": "NED",
         "Won_Tournaments": 2,
         "Number_of_Matches": 48,
         "Win_Percentage": 0.5,
         "best_year_matches": 2016,
         "worst_year_matches": 2017,
         "best_year_wins": 2016,
         "worst_year_wins": 2017,
         "_deepnote_index_column": 37
        },
        {
         "Name": "Alona Bondarenko",
         "Sex": "F",
         "Hand": "R",
         "IOC": "UKR",
         "Won_Tournaments": 0,
         "Number_of_Matches": 16,
         "Win_Percentage": 0.25,
         "best_year_matches": 2017,
         "worst_year_matches": 2016,
         "best_year_wins": 2016,
         "worst_year_wins": 2016,
         "_deepnote_index_column": 38
        },
        {
         "Name": "Ana Ivanovic",
         "Sex": "F",
         "Hand": "R",
         "IOC": "SRB",
         "Won_Tournaments": 0,
         "Number_of_Matches": 31,
         "Win_Percentage": 0.4838709677419355,
         "best_year_matches": 2016,
         "worst_year_matches": 2016,
         "best_year_wins": 2016,
         "worst_year_wins": 2016,
         "_deepnote_index_column": 39
        },
        {
         "Name": "Shahar Peer",
         "Sex": "F",
         "Hand": "R",
         "IOC": "ISR",
         "Won_Tournaments": 0,
         "Number_of_Matches": 8,
         "Win_Percentage": 0.25,
         "best_year_matches": 2016,
         "worst_year_matches": 2016,
         "best_year_wins": 2016,
         "worst_year_wins": 2016,
         "_deepnote_index_column": 40
        },
        {
         "Name": "Lucie Safarova",
         "Sex": "F",
         "Hand": "L",
         "IOC": "CZE",
         "Won_Tournaments": 1,
         "Number_of_Matches": 112,
         "Win_Percentage": 0.5535714285714286,
         "best_year_matches": 2017,
         "worst_year_matches": 2018,
         "best_year_wins": 2017,
         "worst_year_wins": 2018,
         "_deepnote_index_column": 41
        },
        {
         "Name": "Pauline Parmentier",
         "Sex": "F",
         "Hand": "R",
         "IOC": "FRA",
         "Won_Tournaments": 3,
         "Number_of_Matches": 243,
         "Win_Percentage": 0.4814814814814814,
         "best_year_matches": 2016,
         "worst_year_matches": 2020,
         "best_year_wins": 2016,
         "worst_year_wins": 2020,
         "_deepnote_index_column": 42
        },
        {
         "Name": "Alize Cornet",
         "Sex": "F",
         "Hand": "R",
         "IOC": "FRA",
         "Won_Tournaments": 2,
         "Number_of_Matches": 270,
         "Win_Percentage": 0.5370370370370371,
         "best_year_matches": 2018,
         "worst_year_matches": 2020,
         "best_year_wins": 2016,
         "worst_year_wins": 2020,
         "_deepnote_index_column": 43
        },
        {
         "Name": "Mathilde Johansson",
         "Sex": "F",
         "Hand": "R",
         "IOC": "FRA",
         "Won_Tournaments": 0,
         "Number_of_Matches": 14,
         "Win_Percentage": 0.2857142857142857,
         "best_year_matches": 2016,
         "worst_year_matches": 2016,
         "best_year_wins": 2016,
         "worst_year_wins": 2016,
         "_deepnote_index_column": 44
        }
       ],
       "rows_bottom": [
        {
         "Name": "Nicole Iosio",
         "Sex": "F",
         "Hand": "U",
         "IOC": "ITA",
         "Won_Tournaments": 0,
         "Number_of_Matches": 1,
         "Win_Percentage": 0,
         "best_year_matches": 2021,
         "worst_year_matches": 2021,
         "best_year_wins": "nan",
         "worst_year_wins": "nan",
         "_deepnote_index_column": 7017
        },
        {
         "Name": "Rozalia Gruszczynska",
         "Sex": "F",
         "Hand": "U",
         "IOC": "POL",
         "Won_Tournaments": 0,
         "Number_of_Matches": 1,
         "Win_Percentage": 0,
         "best_year_matches": 2021,
         "worst_year_matches": 2021,
         "best_year_wins": "nan",
         "worst_year_wins": "nan",
         "_deepnote_index_column": 7018
        },
        {
         "Name": "Martyna Zaremba",
         "Sex": "F",
         "Hand": "U",
         "IOC": "POL",
         "Won_Tournaments": 0,
         "Number_of_Matches": 3,
         "Win_Percentage": 0,
         "best_year_matches": 2021,
         "worst_year_matches": 2021,
         "best_year_wins": "nan",
         "worst_year_wins": "nan",
         "_deepnote_index_column": 7019
        },
        {
         "Name": "Yana Maria Khadarovich",
         "Sex": "F",
         "Hand": "U",
         "IOC": "BLR",
         "Won_Tournaments": 0,
         "Number_of_Matches": 3,
         "Win_Percentage": 0,
         "best_year_matches": 2021,
         "worst_year_matches": 2021,
         "best_year_wins": "nan",
         "worst_year_wins": "nan",
         "_deepnote_index_column": 7020
        },
        {
         "Name": "Margherita Trolese",
         "Sex": "F",
         "Hand": "U",
         "IOC": "ITA",
         "Won_Tournaments": 0,
         "Number_of_Matches": 2,
         "Win_Percentage": 0,
         "best_year_matches": 2021,
         "worst_year_matches": 2021,
         "best_year_wins": "nan",
         "worst_year_wins": "nan",
         "_deepnote_index_column": 7021
        },
        {
         "Name": "Zuzanna Bednarz",
         "Sex": "F",
         "Hand": "U",
         "IOC": "POL",
         "Won_Tournaments": 0,
         "Number_of_Matches": 2,
         "Win_Percentage": 0,
         "best_year_matches": 2021,
         "worst_year_matches": 2021,
         "best_year_wins": "nan",
         "worst_year_wins": "nan",
         "_deepnote_index_column": 7022
        },
        {
         "Name": "Olivia Thiemke",
         "Sex": "F",
         "Hand": "U",
         "IOC": "DEN",
         "Won_Tournaments": 0,
         "Number_of_Matches": 1,
         "Win_Percentage": 0,
         "best_year_matches": 2021,
         "worst_year_matches": 2021,
         "best_year_wins": "nan",
         "worst_year_wins": "nan",
         "_deepnote_index_column": 7023
        },
        {
         "Name": "Mathilde Mosegaard Ravnholt",
         "Sex": "F",
         "Hand": "U",
         "IOC": "DEN",
         "Won_Tournaments": 0,
         "Number_of_Matches": 1,
         "Win_Percentage": 0,
         "best_year_matches": 2021,
         "worst_year_matches": 2021,
         "best_year_wins": "nan",
         "worst_year_wins": "nan",
         "_deepnote_index_column": 7024
        },
        {
         "Name": "Emma Namnieks",
         "Sex": "F",
         "Hand": "U",
         "IOC": "EST",
         "Won_Tournaments": 0,
         "Number_of_Matches": 1,
         "Win_Percentage": 0,
         "best_year_matches": 2021,
         "worst_year_matches": 2021,
         "best_year_wins": "nan",
         "worst_year_wins": "nan",
         "_deepnote_index_column": 7025
        },
        {
         "Name": "Grete Gull",
         "Sex": "F",
         "Hand": "U",
         "IOC": "EST",
         "Won_Tournaments": 0,
         "Number_of_Matches": 1,
         "Win_Percentage": 0,
         "best_year_matches": 2021,
         "worst_year_matches": 2021,
         "best_year_wins": "nan",
         "worst_year_wins": "nan",
         "_deepnote_index_column": 7026
        },
        {
         "Name": "Alissia Aleksandra Kivi",
         "Sex": "F",
         "Hand": "U",
         "IOC": "EST",
         "Won_Tournaments": 0,
         "Number_of_Matches": 1,
         "Win_Percentage": 0,
         "best_year_matches": 2021,
         "worst_year_matches": 2021,
         "best_year_wins": "nan",
         "worst_year_wins": "nan",
         "_deepnote_index_column": 7027
        },
        {
         "Name": "Sofia Avataneo",
         "Sex": "F",
         "Hand": "U",
         "IOC": "ITA",
         "Won_Tournaments": 0,
         "Number_of_Matches": 1,
         "Win_Percentage": 0,
         "best_year_matches": 2021,
         "worst_year_matches": 2021,
         "best_year_wins": "nan",
         "worst_year_wins": "nan",
         "_deepnote_index_column": 7028
        },
        {
         "Name": "Miah Webb",
         "Sex": "F",
         "Hand": "U",
         "IOC": "USA",
         "Won_Tournaments": 0,
         "Number_of_Matches": 3,
         "Win_Percentage": 0,
         "best_year_matches": 2021,
         "worst_year_matches": 2021,
         "best_year_wins": "nan",
         "worst_year_wins": "nan",
         "_deepnote_index_column": 7029
        },
        {
         "Name": "Hanne Vandewinkel",
         "Sex": "F",
         "Hand": "U",
         "IOC": "BEL",
         "Won_Tournaments": 0,
         "Number_of_Matches": 1,
         "Win_Percentage": 0,
         "best_year_matches": 2021,
         "worst_year_matches": 2021,
         "best_year_wins": "nan",
         "worst_year_wins": "nan",
         "_deepnote_index_column": 7030
        },
        {
         "Name": "Luna Dinoto Fernandez",
         "Sex": "F",
         "Hand": "U",
         "IOC": "ESP",
         "Won_Tournaments": 0,
         "Number_of_Matches": 2,
         "Win_Percentage": 0,
         "best_year_matches": 2021,
         "worst_year_matches": 2021,
         "best_year_wins": "nan",
         "worst_year_wins": "nan",
         "_deepnote_index_column": 7031
        },
        {
         "Name": "Anna Dziarkowska",
         "Sex": "F",
         "Hand": "U",
         "IOC": "POL",
         "Won_Tournaments": 0,
         "Number_of_Matches": 1,
         "Win_Percentage": 0,
         "best_year_matches": 2021,
         "worst_year_matches": 2021,
         "best_year_wins": "nan",
         "worst_year_wins": "nan",
         "_deepnote_index_column": 7032
        },
        {
         "Name": "Inez Maria Kotlikova",
         "Sex": "F",
         "Hand": "U",
         "IOC": "CZE",
         "Won_Tournaments": 0,
         "Number_of_Matches": 1,
         "Win_Percentage": 0,
         "best_year_matches": 2021,
         "worst_year_matches": 2021,
         "best_year_wins": "nan",
         "worst_year_wins": "nan",
         "_deepnote_index_column": 7033
        },
        {
         "Name": "Lais Schroeder",
         "Sex": "F",
         "Hand": "U",
         "IOC": "BRA",
         "Won_Tournaments": 0,
         "Number_of_Matches": 1,
         "Win_Percentage": 0,
         "best_year_matches": 2021,
         "worst_year_matches": 2021,
         "best_year_wins": "nan",
         "worst_year_wins": "nan",
         "_deepnote_index_column": 7034
        },
        {
         "Name": "Anna Lena Ebster",
         "Sex": "F",
         "Hand": "U",
         "IOC": "AUT",
         "Won_Tournaments": 0,
         "Number_of_Matches": 1,
         "Win_Percentage": 0,
         "best_year_matches": 2021,
         "worst_year_matches": 2021,
         "best_year_wins": "nan",
         "worst_year_wins": "nan",
         "_deepnote_index_column": 7035
        },
        {
         "Name": "Elena Calzada De Castro",
         "Sex": "F",
         "Hand": "U",
         "IOC": "ESP",
         "Won_Tournaments": 0,
         "Number_of_Matches": 1,
         "Win_Percentage": 0,
         "best_year_matches": 2021,
         "worst_year_matches": 2021,
         "best_year_wins": "nan",
         "worst_year_wins": "nan",
         "_deepnote_index_column": 7036
        },
        {
         "Name": "Alicia Alvarez Rojas",
         "Sex": "F",
         "Hand": "U",
         "IOC": "ESP",
         "Won_Tournaments": 0,
         "Number_of_Matches": 2,
         "Win_Percentage": 0,
         "best_year_matches": 2021,
         "worst_year_matches": 2021,
         "best_year_wins": "nan",
         "worst_year_wins": "nan",
         "_deepnote_index_column": 7037
        },
        {
         "Name": "Ainara Vegal",
         "Sex": "F",
         "Hand": "U",
         "IOC": "ESP",
         "Won_Tournaments": 0,
         "Number_of_Matches": 2,
         "Win_Percentage": 0,
         "best_year_matches": 2021,
         "worst_year_matches": 2021,
         "best_year_wins": "nan",
         "worst_year_wins": "nan",
         "_deepnote_index_column": 7038
        },
        {
         "Name": "Lea Von Kozierowski",
         "Sex": "F",
         "Hand": "U",
         "IOC": "DEU",
         "Won_Tournaments": 0,
         "Number_of_Matches": 1,
         "Win_Percentage": 0,
         "best_year_matches": 2021,
         "worst_year_matches": 2021,
         "best_year_wins": "nan",
         "worst_year_wins": "nan",
         "_deepnote_index_column": 7039
        },
        {
         "Name": "Andreea Mihwela Onitoiu",
         "Sex": "F",
         "Hand": "U",
         "IOC": "ROU",
         "Won_Tournaments": 0,
         "Number_of_Matches": 1,
         "Win_Percentage": 0,
         "best_year_matches": 2021,
         "worst_year_matches": 2021,
         "best_year_wins": "nan",
         "worst_year_wins": "nan",
         "_deepnote_index_column": 7040
        },
        {
         "Name": "Anja Stankovic",
         "Sex": "F",
         "Hand": "U",
         "IOC": "SRB",
         "Won_Tournaments": 0,
         "Number_of_Matches": 1,
         "Win_Percentage": 0,
         "best_year_matches": 2021,
         "worst_year_matches": 2021,
         "best_year_wins": "nan",
         "worst_year_wins": "nan",
         "_deepnote_index_column": 7041
        },
        {
         "Name": "Divna Ratkovic",
         "Sex": "F",
         "Hand": "U",
         "IOC": "MNE",
         "Won_Tournaments": 0,
         "Number_of_Matches": 1,
         "Win_Percentage": 0,
         "best_year_matches": 2021,
         "worst_year_matches": 2021,
         "best_year_wins": "nan",
         "worst_year_wins": "nan",
         "_deepnote_index_column": 7042
        },
        {
         "Name": "Meriem Makhlouf",
         "Sex": "F",
         "Hand": "U",
         "IOC": "TUN",
         "Won_Tournaments": 0,
         "Number_of_Matches": 1,
         "Win_Percentage": 0,
         "best_year_matches": 2021,
         "worst_year_matches": 2021,
         "best_year_wins": "nan",
         "worst_year_wins": "nan",
         "_deepnote_index_column": 7043
        },
        {
         "Name": "Nerea Errasti",
         "Sex": "F",
         "Hand": "U",
         "IOC": "ESP",
         "Won_Tournaments": 0,
         "Number_of_Matches": 2,
         "Win_Percentage": 0,
         "best_year_matches": 2021,
         "worst_year_matches": 2021,
         "best_year_wins": "nan",
         "worst_year_wins": "nan",
         "_deepnote_index_column": 7044
        },
        {
         "Name": "Romane Longueville",
         "Sex": "F",
         "Hand": "U",
         "IOC": "BEL",
         "Won_Tournaments": 0,
         "Number_of_Matches": 1,
         "Win_Percentage": 0,
         "best_year_matches": 2021,
         "worst_year_matches": 2021,
         "best_year_wins": "nan",
         "worst_year_wins": "nan",
         "_deepnote_index_column": 7045
        },
        {
         "Name": "Chyara Onia Seke",
         "Sex": "F",
         "Hand": "U",
         "IOC": "BEL",
         "Won_Tournaments": 0,
         "Number_of_Matches": 1,
         "Win_Percentage": 0,
         "best_year_matches": 2021,
         "worst_year_matches": 2021,
         "best_year_wins": "nan",
         "worst_year_wins": "nan",
         "_deepnote_index_column": 7046
        },
        {
         "Name": "Florence Fedeli",
         "Sex": "F",
         "Hand": "U",
         "IOC": "BEL",
         "Won_Tournaments": 0,
         "Number_of_Matches": 1,
         "Win_Percentage": 0,
         "best_year_matches": 2021,
         "worst_year_matches": 2021,
         "best_year_wins": "nan",
         "worst_year_wins": "nan",
         "_deepnote_index_column": 7047
        },
        {
         "Name": "Laure Line Monnoyer",
         "Sex": "F",
         "Hand": "U",
         "IOC": "BEL",
         "Won_Tournaments": 0,
         "Number_of_Matches": 1,
         "Win_Percentage": 0,
         "best_year_matches": 2021,
         "worst_year_matches": 2021,
         "best_year_wins": "nan",
         "worst_year_wins": "nan",
         "_deepnote_index_column": 7048
        },
        {
         "Name": "Gabriela Skrabalova",
         "Sex": "F",
         "Hand": "U",
         "IOC": "CZE",
         "Won_Tournaments": 0,
         "Number_of_Matches": 1,
         "Win_Percentage": 0,
         "best_year_matches": 2021,
         "worst_year_matches": 2021,
         "best_year_wins": "nan",
         "worst_year_wins": "nan",
         "_deepnote_index_column": 7049
        },
        {
         "Name": "Vanesa Sulcova",
         "Sex": "F",
         "Hand": "U",
         "IOC": "CZE",
         "Won_Tournaments": 0,
         "Number_of_Matches": 1,
         "Win_Percentage": 0,
         "best_year_matches": 2021,
         "worst_year_matches": 2021,
         "best_year_wins": "nan",
         "worst_year_wins": "nan",
         "_deepnote_index_column": 7050
        },
        {
         "Name": "Victoria Calvo",
         "Sex": "F",
         "Hand": "U",
         "IOC": "ESP",
         "Won_Tournaments": 0,
         "Number_of_Matches": 1,
         "Win_Percentage": 0,
         "best_year_matches": 2021,
         "worst_year_matches": 2021,
         "best_year_wins": "nan",
         "worst_year_wins": "nan",
         "_deepnote_index_column": 7051
        },
        {
         "Name": "Lucia Del Valle Vidal",
         "Sex": "F",
         "Hand": "U",
         "IOC": "ESP",
         "Won_Tournaments": 0,
         "Number_of_Matches": 1,
         "Win_Percentage": 0,
         "best_year_matches": 2021,
         "worst_year_matches": 2021,
         "best_year_wins": "nan",
         "worst_year_wins": "nan",
         "_deepnote_index_column": 7052
        },
        {
         "Name": "Asima Sazan",
         "Sex": "F",
         "Hand": "U",
         "IOC": "KAZ",
         "Won_Tournaments": 0,
         "Number_of_Matches": 1,
         "Win_Percentage": 0,
         "best_year_matches": 2021,
         "worst_year_matches": 2021,
         "best_year_wins": "nan",
         "worst_year_wins": "nan",
         "_deepnote_index_column": 7053
        },
        {
         "Name": "Tomiris Mussina",
         "Sex": "F",
         "Hand": "U",
         "IOC": "KAZ",
         "Won_Tournaments": 0,
         "Number_of_Matches": 1,
         "Win_Percentage": 0,
         "best_year_matches": 2021,
         "worst_year_matches": 2021,
         "best_year_wins": "nan",
         "worst_year_wins": "nan",
         "_deepnote_index_column": 7054
        },
        {
         "Name": "Elisa Vigano",
         "Sex": "F",
         "Hand": "U",
         "IOC": "ITA",
         "Won_Tournaments": 0,
         "Number_of_Matches": 1,
         "Win_Percentage": 0,
         "best_year_matches": 2021,
         "worst_year_matches": 2021,
         "best_year_wins": "nan",
         "worst_year_wins": "nan",
         "_deepnote_index_column": 7055
        },
        {
         "Name": "Kamila Kashaeva",
         "Sex": "F",
         "Hand": "U",
         "IOC": "SUI",
         "Won_Tournaments": 0,
         "Number_of_Matches": 1,
         "Win_Percentage": 0,
         "best_year_matches": 2021,
         "worst_year_matches": 2021,
         "best_year_wins": "nan",
         "worst_year_wins": "nan",
         "_deepnote_index_column": 7056
        },
        {
         "Name": "Hanna Piatrushka",
         "Sex": "F",
         "Hand": "U",
         "IOC": "BLR",
         "Won_Tournaments": 0,
         "Number_of_Matches": 1,
         "Win_Percentage": 0,
         "best_year_matches": 2021,
         "worst_year_matches": 2021,
         "best_year_wins": "nan",
         "worst_year_wins": "nan",
         "_deepnote_index_column": 7057
        },
        {
         "Name": "Alina Cherniaieva",
         "Sex": "F",
         "Hand": "U",
         "IOC": "UKR",
         "Won_Tournaments": 0,
         "Number_of_Matches": 1,
         "Win_Percentage": 0,
         "best_year_matches": 2021,
         "worst_year_matches": 2021,
         "best_year_wins": "nan",
         "worst_year_wins": "nan",
         "_deepnote_index_column": 7058
        },
        {
         "Name": "Mariya Vyshkina",
         "Sex": "F",
         "Hand": "U",
         "IOC": "UKR",
         "Won_Tournaments": 0,
         "Number_of_Matches": 1,
         "Win_Percentage": 0,
         "best_year_matches": 2021,
         "worst_year_matches": 2021,
         "best_year_wins": "nan",
         "worst_year_wins": "nan",
         "_deepnote_index_column": 7059
        },
        {
         "Name": "Anna Sharandachenko",
         "Sex": "F",
         "Hand": "U",
         "IOC": "UKR",
         "Won_Tournaments": 0,
         "Number_of_Matches": 1,
         "Win_Percentage": 0,
         "best_year_matches": 2021,
         "worst_year_matches": 2021,
         "best_year_wins": "nan",
         "worst_year_wins": "nan",
         "_deepnote_index_column": 7060
        },
        {
         "Name": "Mariya Sharandachenko",
         "Sex": "F",
         "Hand": "U",
         "IOC": "UKR",
         "Won_Tournaments": 0,
         "Number_of_Matches": 1,
         "Win_Percentage": 0,
         "best_year_matches": 2021,
         "worst_year_matches": 2021,
         "best_year_wins": "nan",
         "worst_year_wins": "nan",
         "_deepnote_index_column": 7061
        }
       ]
      },
      "text/plain": "                       Name Sex Hand  IOC  Won_Tournaments  Number_of_Matches  \\\n0             Mirjana Lucic   F    R  CRO              0.0               88.0   \n1             Maureen Drake   F    R  CAN              0.0                3.0   \n2           Serena Williams   F    R  USA              4.0              152.0   \n3          Virginie Razzano   F    R  FRA              0.0               60.0   \n4            Patty Schnyder   F    L  SUI              3.0              125.0   \n...                     ...  ..  ...  ...              ...                ...   \n7057       Hanna Piatrushka   F    U  BLR              0.0                1.0   \n7058      Alina Cherniaieva   F    U  UKR              0.0                1.0   \n7059        Mariya Vyshkina   F    U  UKR              0.0                1.0   \n7060    Anna Sharandachenko   F    U  UKR              0.0                1.0   \n7061  Mariya Sharandachenko   F    U  UKR              0.0                1.0   \n\n      Win_Percentage  best_year_matches  worst_year_matches  best_year_wins  \\\n0           0.534091             2016.0              2018.0          2016.0   \n1           0.333333             2016.0              2016.0          2016.0   \n2           0.776316             2016.0              2017.0          2016.0   \n3           0.383333             2016.0              2018.0          2016.0   \n4           0.600000             2017.0              2018.0          2017.0   \n...              ...                ...                 ...             ...   \n7057        0.000000             2021.0              2021.0             NaN   \n7058        0.000000             2021.0              2021.0             NaN   \n7059        0.000000             2021.0              2021.0             NaN   \n7060        0.000000             2021.0              2021.0             NaN   \n7061        0.000000             2021.0              2021.0             NaN   \n\n      worst_year_wins  \n0              2018.0  \n1              2016.0  \n2              2017.0  \n3              2017.0  \n4              2018.0  \n...               ...  \n7057              NaN  \n7058              NaN  \n7059              NaN  \n7060              NaN  \n7061              NaN  \n\n[7062 rows x 11 columns]",
      "text/html": "<div>\n<style scoped>\n    .dataframe tbody tr th:only-of-type {\n        vertical-align: middle;\n    }\n\n    .dataframe tbody tr th {\n        vertical-align: top;\n    }\n\n    .dataframe thead th {\n        text-align: right;\n    }\n</style>\n<table border=\"1\" class=\"dataframe\">\n  <thead>\n    <tr style=\"text-align: right;\">\n      <th></th>\n      <th>Name</th>\n      <th>Sex</th>\n      <th>Hand</th>\n      <th>IOC</th>\n      <th>Won_Tournaments</th>\n      <th>Number_of_Matches</th>\n      <th>Win_Percentage</th>\n      <th>best_year_matches</th>\n      <th>worst_year_matches</th>\n      <th>best_year_wins</th>\n      <th>worst_year_wins</th>\n    </tr>\n  </thead>\n  <tbody>\n    <tr>\n      <th>0</th>\n      <td>Mirjana Lucic</td>\n      <td>F</td>\n      <td>R</td>\n      <td>CRO</td>\n      <td>0.0</td>\n      <td>88.0</td>\n      <td>0.534091</td>\n      <td>2016.0</td>\n      <td>2018.0</td>\n      <td>2016.0</td>\n      <td>2018.0</td>\n    </tr>\n    <tr>\n      <th>1</th>\n      <td>Maureen Drake</td>\n      <td>F</td>\n      <td>R</td>\n      <td>CAN</td>\n      <td>0.0</td>\n      <td>3.0</td>\n      <td>0.333333</td>\n      <td>2016.0</td>\n      <td>2016.0</td>\n      <td>2016.0</td>\n      <td>2016.0</td>\n    </tr>\n    <tr>\n      <th>2</th>\n      <td>Serena Williams</td>\n      <td>F</td>\n      <td>R</td>\n      <td>USA</td>\n      <td>4.0</td>\n      <td>152.0</td>\n      <td>0.776316</td>\n      <td>2016.0</td>\n      <td>2017.0</td>\n      <td>2016.0</td>\n      <td>2017.0</td>\n    </tr>\n    <tr>\n      <th>3</th>\n      <td>Virginie Razzano</td>\n      <td>F</td>\n      <td>R</td>\n      <td>FRA</td>\n      <td>0.0</td>\n      <td>60.0</td>\n      <td>0.383333</td>\n      <td>2016.0</td>\n      <td>2018.0</td>\n      <td>2016.0</td>\n      <td>2017.0</td>\n    </tr>\n    <tr>\n      <th>4</th>\n      <td>Patty Schnyder</td>\n      <td>F</td>\n      <td>L</td>\n      <td>SUI</td>\n      <td>3.0</td>\n      <td>125.0</td>\n      <td>0.600000</td>\n      <td>2017.0</td>\n      <td>2018.0</td>\n      <td>2017.0</td>\n      <td>2018.0</td>\n    </tr>\n    <tr>\n      <th>...</th>\n      <td>...</td>\n      <td>...</td>\n      <td>...</td>\n      <td>...</td>\n      <td>...</td>\n      <td>...</td>\n      <td>...</td>\n      <td>...</td>\n      <td>...</td>\n      <td>...</td>\n      <td>...</td>\n    </tr>\n    <tr>\n      <th>7057</th>\n      <td>Hanna Piatrushka</td>\n      <td>F</td>\n      <td>U</td>\n      <td>BLR</td>\n      <td>0.0</td>\n      <td>1.0</td>\n      <td>0.000000</td>\n      <td>2021.0</td>\n      <td>2021.0</td>\n      <td>NaN</td>\n      <td>NaN</td>\n    </tr>\n    <tr>\n      <th>7058</th>\n      <td>Alina Cherniaieva</td>\n      <td>F</td>\n      <td>U</td>\n      <td>UKR</td>\n      <td>0.0</td>\n      <td>1.0</td>\n      <td>0.000000</td>\n      <td>2021.0</td>\n      <td>2021.0</td>\n      <td>NaN</td>\n      <td>NaN</td>\n    </tr>\n    <tr>\n      <th>7059</th>\n      <td>Mariya Vyshkina</td>\n      <td>F</td>\n      <td>U</td>\n      <td>UKR</td>\n      <td>0.0</td>\n      <td>1.0</td>\n      <td>0.000000</td>\n      <td>2021.0</td>\n      <td>2021.0</td>\n      <td>NaN</td>\n      <td>NaN</td>\n    </tr>\n    <tr>\n      <th>7060</th>\n      <td>Anna Sharandachenko</td>\n      <td>F</td>\n      <td>U</td>\n      <td>UKR</td>\n      <td>0.0</td>\n      <td>1.0</td>\n      <td>0.000000</td>\n      <td>2021.0</td>\n      <td>2021.0</td>\n      <td>NaN</td>\n      <td>NaN</td>\n    </tr>\n    <tr>\n      <th>7061</th>\n      <td>Mariya Sharandachenko</td>\n      <td>F</td>\n      <td>U</td>\n      <td>UKR</td>\n      <td>0.0</td>\n      <td>1.0</td>\n      <td>0.000000</td>\n      <td>2021.0</td>\n      <td>2021.0</td>\n      <td>NaN</td>\n      <td>NaN</td>\n    </tr>\n  </tbody>\n</table>\n<p>7062 rows × 11 columns</p>\n</div>"
     },
     "metadata": {}
    }
   ]
  },
  {
   "cell_type": "code",
   "metadata": {
    "tags": [],
    "cell_id": "00045-bad0b1ad-09b7-4cc7-ad11-09e249ae4c85",
    "deepnote_to_be_reexecuted": false,
    "source_hash": "988f13e2",
    "execution_start": 1638371238079,
    "execution_millis": 262057,
    "deepnote_cell_type": "code"
   },
   "source": "list_of_female_names = df_female_matches['player_name'].unique()\n\n#df_player.loc[df_player['Name'] == name, 'Hand'] = df_h[0]\n\nfor name in list_of_female_names:\n    loser_rank_avg = df_female_matches[(df_female_matches['loser_name'] == name) & (df_female_matches['loser_rank'] > 0)]['loser_rank'].mean() \n    winner_rank_avg = df_female_matches[(df_female_matches['winner_name'] == name) & (df_female_matches['winner_rank'] > 0)]['winner_rank'].mean() \n    matches_female_players.loc[matches_female_players['Name'] == name, 'avg_rank'] = (loser_rank_avg + winner_rank_avg)/2",
   "execution_count": null,
   "outputs": []
  },
  {
   "cell_type": "code",
   "metadata": {
    "tags": [],
    "cell_id": "00048-167ae5bc-bd49-433f-a9e2-c893b4638965",
    "deepnote_to_be_reexecuted": false,
    "source_hash": "51ce19fc",
    "execution_start": 1638371831753,
    "execution_millis": 80,
    "deepnote_cell_type": "code"
   },
   "source": "matches_female_players[matches_female_players[\"Name\"] == \"Serena Williams\"]",
   "execution_count": null,
   "outputs": [
    {
     "output_type": "execute_result",
     "execution_count": 54,
     "data": {
      "application/vnd.deepnote.dataframe.v2+json": {
       "row_count": 1,
       "column_count": 12,
       "columns": [
        {
         "name": "Name",
         "dtype": "object",
         "stats": {
          "unique_count": 1,
          "nan_count": 0,
          "categories": [
           {
            "name": "Serena Williams",
            "count": 1
           }
          ]
         }
        },
        {
         "name": "Sex",
         "dtype": "object",
         "stats": {
          "unique_count": 1,
          "nan_count": 0,
          "categories": [
           {
            "name": "F",
            "count": 1
           }
          ]
         }
        },
        {
         "name": "Hand",
         "dtype": "object",
         "stats": {
          "unique_count": 1,
          "nan_count": 0,
          "categories": [
           {
            "name": "R",
            "count": 1
           }
          ]
         }
        },
        {
         "name": "IOC",
         "dtype": "object",
         "stats": {
          "unique_count": 1,
          "nan_count": 0,
          "categories": [
           {
            "name": "USA",
            "count": 1
           }
          ]
         }
        },
        {
         "name": "Won_Tournaments",
         "dtype": "float64",
         "stats": {
          "unique_count": 1,
          "nan_count": 0,
          "min": "4.0",
          "max": "4.0",
          "histogram": [
           {
            "bin_start": 3.5,
            "bin_end": 3.6,
            "count": 0
           },
           {
            "bin_start": 3.6,
            "bin_end": 3.7,
            "count": 0
           },
           {
            "bin_start": 3.7,
            "bin_end": 3.8,
            "count": 0
           },
           {
            "bin_start": 3.8,
            "bin_end": 3.9,
            "count": 0
           },
           {
            "bin_start": 3.9,
            "bin_end": 4,
            "count": 0
           },
           {
            "bin_start": 4,
            "bin_end": 4.1,
            "count": 1
           },
           {
            "bin_start": 4.1,
            "bin_end": 4.2,
            "count": 0
           },
           {
            "bin_start": 4.2,
            "bin_end": 4.3,
            "count": 0
           },
           {
            "bin_start": 4.3,
            "bin_end": 4.4,
            "count": 0
           },
           {
            "bin_start": 4.4,
            "bin_end": 4.5,
            "count": 0
           }
          ]
         }
        },
        {
         "name": "Number_of_Matches",
         "dtype": "float64",
         "stats": {
          "unique_count": 1,
          "nan_count": 0,
          "min": "152.0",
          "max": "152.0",
          "histogram": [
           {
            "bin_start": 151.5,
            "bin_end": 151.6,
            "count": 0
           },
           {
            "bin_start": 151.6,
            "bin_end": 151.7,
            "count": 0
           },
           {
            "bin_start": 151.7,
            "bin_end": 151.8,
            "count": 0
           },
           {
            "bin_start": 151.8,
            "bin_end": 151.9,
            "count": 0
           },
           {
            "bin_start": 151.9,
            "bin_end": 152,
            "count": 0
           },
           {
            "bin_start": 152,
            "bin_end": 152.1,
            "count": 1
           },
           {
            "bin_start": 152.1,
            "bin_end": 152.2,
            "count": 0
           },
           {
            "bin_start": 152.2,
            "bin_end": 152.3,
            "count": 0
           },
           {
            "bin_start": 152.3,
            "bin_end": 152.4,
            "count": 0
           },
           {
            "bin_start": 152.4,
            "bin_end": 152.5,
            "count": 0
           }
          ]
         }
        },
        {
         "name": "Win_Percentage",
         "dtype": "float64",
         "stats": {
          "unique_count": 1,
          "nan_count": 0,
          "min": "0.7763157894736842",
          "max": "0.7763157894736842",
          "histogram": [
           {
            "bin_start": 0.2763157894736842,
            "bin_end": 0.37631578947368416,
            "count": 0
           },
           {
            "bin_start": 0.37631578947368416,
            "bin_end": 0.47631578947368414,
            "count": 0
           },
           {
            "bin_start": 0.47631578947368414,
            "bin_end": 0.5763157894736841,
            "count": 0
           },
           {
            "bin_start": 0.5763157894736841,
            "bin_end": 0.6763157894736842,
            "count": 0
           },
           {
            "bin_start": 0.6763157894736842,
            "bin_end": 0.7763157894736841,
            "count": 0
           },
           {
            "bin_start": 0.7763157894736841,
            "bin_end": 0.8763157894736842,
            "count": 1
           },
           {
            "bin_start": 0.8763157894736842,
            "bin_end": 0.9763157894736841,
            "count": 0
           },
           {
            "bin_start": 0.9763157894736841,
            "bin_end": 1.0763157894736841,
            "count": 0
           },
           {
            "bin_start": 1.0763157894736841,
            "bin_end": 1.176315789473684,
            "count": 0
           },
           {
            "bin_start": 1.176315789473684,
            "bin_end": 1.276315789473684,
            "count": 0
           }
          ]
         }
        },
        {
         "name": "best_year_matches",
         "dtype": "float64",
         "stats": {
          "unique_count": 1,
          "nan_count": 0,
          "min": "2016.0",
          "max": "2016.0",
          "histogram": [
           {
            "bin_start": 2015.5,
            "bin_end": 2015.6,
            "count": 0
           },
           {
            "bin_start": 2015.6,
            "bin_end": 2015.7,
            "count": 0
           },
           {
            "bin_start": 2015.7,
            "bin_end": 2015.8,
            "count": 0
           },
           {
            "bin_start": 2015.8,
            "bin_end": 2015.9,
            "count": 0
           },
           {
            "bin_start": 2015.9,
            "bin_end": 2016,
            "count": 0
           },
           {
            "bin_start": 2016,
            "bin_end": 2016.1,
            "count": 1
           },
           {
            "bin_start": 2016.1,
            "bin_end": 2016.2,
            "count": 0
           },
           {
            "bin_start": 2016.2,
            "bin_end": 2016.3,
            "count": 0
           },
           {
            "bin_start": 2016.3,
            "bin_end": 2016.4,
            "count": 0
           },
           {
            "bin_start": 2016.4,
            "bin_end": 2016.5,
            "count": 0
           }
          ]
         }
        },
        {
         "name": "worst_year_matches",
         "dtype": "float64",
         "stats": {
          "unique_count": 1,
          "nan_count": 0,
          "min": "2017.0",
          "max": "2017.0",
          "histogram": [
           {
            "bin_start": 2016.5,
            "bin_end": 2016.6,
            "count": 0
           },
           {
            "bin_start": 2016.6,
            "bin_end": 2016.7,
            "count": 0
           },
           {
            "bin_start": 2016.7,
            "bin_end": 2016.8,
            "count": 0
           },
           {
            "bin_start": 2016.8,
            "bin_end": 2016.9,
            "count": 0
           },
           {
            "bin_start": 2016.9,
            "bin_end": 2017,
            "count": 0
           },
           {
            "bin_start": 2017,
            "bin_end": 2017.1,
            "count": 1
           },
           {
            "bin_start": 2017.1,
            "bin_end": 2017.2,
            "count": 0
           },
           {
            "bin_start": 2017.2,
            "bin_end": 2017.3,
            "count": 0
           },
           {
            "bin_start": 2017.3,
            "bin_end": 2017.4,
            "count": 0
           },
           {
            "bin_start": 2017.4,
            "bin_end": 2017.5,
            "count": 0
           }
          ]
         }
        },
        {
         "name": "best_year_wins",
         "dtype": "float64",
         "stats": {
          "unique_count": 1,
          "nan_count": 0,
          "min": "2016.0",
          "max": "2016.0",
          "histogram": [
           {
            "bin_start": 2015.5,
            "bin_end": 2015.6,
            "count": 0
           },
           {
            "bin_start": 2015.6,
            "bin_end": 2015.7,
            "count": 0
           },
           {
            "bin_start": 2015.7,
            "bin_end": 2015.8,
            "count": 0
           },
           {
            "bin_start": 2015.8,
            "bin_end": 2015.9,
            "count": 0
           },
           {
            "bin_start": 2015.9,
            "bin_end": 2016,
            "count": 0
           },
           {
            "bin_start": 2016,
            "bin_end": 2016.1,
            "count": 1
           },
           {
            "bin_start": 2016.1,
            "bin_end": 2016.2,
            "count": 0
           },
           {
            "bin_start": 2016.2,
            "bin_end": 2016.3,
            "count": 0
           },
           {
            "bin_start": 2016.3,
            "bin_end": 2016.4,
            "count": 0
           },
           {
            "bin_start": 2016.4,
            "bin_end": 2016.5,
            "count": 0
           }
          ]
         }
        },
        {
         "name": "worst_year_wins",
         "dtype": "float64",
         "stats": {
          "unique_count": 1,
          "nan_count": 0,
          "min": "2017.0",
          "max": "2017.0",
          "histogram": [
           {
            "bin_start": 2016.5,
            "bin_end": 2016.6,
            "count": 0
           },
           {
            "bin_start": 2016.6,
            "bin_end": 2016.7,
            "count": 0
           },
           {
            "bin_start": 2016.7,
            "bin_end": 2016.8,
            "count": 0
           },
           {
            "bin_start": 2016.8,
            "bin_end": 2016.9,
            "count": 0
           },
           {
            "bin_start": 2016.9,
            "bin_end": 2017,
            "count": 0
           },
           {
            "bin_start": 2017,
            "bin_end": 2017.1,
            "count": 1
           },
           {
            "bin_start": 2017.1,
            "bin_end": 2017.2,
            "count": 0
           },
           {
            "bin_start": 2017.2,
            "bin_end": 2017.3,
            "count": 0
           },
           {
            "bin_start": 2017.3,
            "bin_end": 2017.4,
            "count": 0
           },
           {
            "bin_start": 2017.4,
            "bin_end": 2017.5,
            "count": 0
           }
          ]
         }
        },
        {
         "name": "avg_rank",
         "dtype": "float64",
         "stats": {
          "unique_count": 1,
          "nan_count": 0,
          "min": "35.08725182863114",
          "max": "35.08725182863114",
          "histogram": [
           {
            "bin_start": 34.58725182863114,
            "bin_end": 34.68725182863114,
            "count": 0
           },
           {
            "bin_start": 34.68725182863114,
            "bin_end": 34.78725182863114,
            "count": 0
           },
           {
            "bin_start": 34.78725182863114,
            "bin_end": 34.887251828631136,
            "count": 0
           },
           {
            "bin_start": 34.887251828631136,
            "bin_end": 34.98725182863114,
            "count": 0
           },
           {
            "bin_start": 34.98725182863114,
            "bin_end": 35.08725182863114,
            "count": 0
           },
           {
            "bin_start": 35.08725182863114,
            "bin_end": 35.18725182863114,
            "count": 1
           },
           {
            "bin_start": 35.18725182863114,
            "bin_end": 35.28725182863114,
            "count": 0
           },
           {
            "bin_start": 35.28725182863114,
            "bin_end": 35.387251828631136,
            "count": 0
           },
           {
            "bin_start": 35.387251828631136,
            "bin_end": 35.48725182863114,
            "count": 0
           },
           {
            "bin_start": 35.48725182863114,
            "bin_end": 35.58725182863114,
            "count": 0
           }
          ]
         }
        },
        {
         "name": "_deepnote_index_column",
         "dtype": "int64"
        }
       ],
       "rows_top": [
        {
         "Name": "Serena Williams",
         "Sex": "F",
         "Hand": "R",
         "IOC": "USA",
         "Won_Tournaments": 4,
         "Number_of_Matches": 152,
         "Win_Percentage": 0.7763157894736842,
         "best_year_matches": 2016,
         "worst_year_matches": 2017,
         "best_year_wins": 2016,
         "worst_year_wins": 2017,
         "avg_rank": 35.08725182863114,
         "_deepnote_index_column": 2
        }
       ],
       "rows_bottom": null
      },
      "text/plain": "              Name Sex Hand  IOC  Won_Tournaments  Number_of_Matches  \\\n2  Serena Williams   F    R  USA              4.0              152.0   \n\n   Win_Percentage  best_year_matches  worst_year_matches  best_year_wins  \\\n2        0.776316             2016.0              2017.0          2016.0   \n\n   worst_year_wins   avg_rank  \n2           2017.0  35.087252  ",
      "text/html": "<div>\n<style scoped>\n    .dataframe tbody tr th:only-of-type {\n        vertical-align: middle;\n    }\n\n    .dataframe tbody tr th {\n        vertical-align: top;\n    }\n\n    .dataframe thead th {\n        text-align: right;\n    }\n</style>\n<table border=\"1\" class=\"dataframe\">\n  <thead>\n    <tr style=\"text-align: right;\">\n      <th></th>\n      <th>Name</th>\n      <th>Sex</th>\n      <th>Hand</th>\n      <th>IOC</th>\n      <th>Won_Tournaments</th>\n      <th>Number_of_Matches</th>\n      <th>Win_Percentage</th>\n      <th>best_year_matches</th>\n      <th>worst_year_matches</th>\n      <th>best_year_wins</th>\n      <th>worst_year_wins</th>\n      <th>avg_rank</th>\n    </tr>\n  </thead>\n  <tbody>\n    <tr>\n      <th>2</th>\n      <td>Serena Williams</td>\n      <td>F</td>\n      <td>R</td>\n      <td>USA</td>\n      <td>4.0</td>\n      <td>152.0</td>\n      <td>0.776316</td>\n      <td>2016.0</td>\n      <td>2017.0</td>\n      <td>2016.0</td>\n      <td>2017.0</td>\n      <td>35.087252</td>\n    </tr>\n  </tbody>\n</table>\n</div>"
     },
     "metadata": {}
    }
   ]
  },
  {
   "cell_type": "code",
   "metadata": {
    "tags": [],
    "cell_id": "00047-4ab54384-bfc2-4ccc-93ba-615a8d0938ea",
    "deepnote_to_be_reexecuted": false,
    "source_hash": "2b1980cd",
    "execution_start": 1638371999303,
    "execution_millis": 67,
    "deepnote_cell_type": "code"
   },
   "source": "matches_female_players.to_csv(\"../data/integrations/df_female_classification.csv\")",
   "execution_count": null,
   "outputs": []
  },
  {
   "cell_type": "code",
   "metadata": {
    "tags": [],
    "cell_id": "00050-c295aef4-18fd-4e3c-a4fd-cea2c2a50c3a",
    "deepnote_cell_type": "code"
   },
   "source": "",
   "execution_count": null,
   "outputs": []
  },
  {
   "cell_type": "markdown",
   "source": "<a style='text-decoration:none;line-height:16px;display:flex;color:#5B5B62;padding:10px;justify-content:end;' href='https://deepnote.com?utm_source=created-in-deepnote-cell&projectId=de87b132-0371-4d99-94f9-c61923e2507d' target=\"_blank\">\n<img alt='Created in deepnote.com' style='display:inline;max-height:16px;margin:0px;margin-right:7.5px;' src='data:image/svg+xml;base64,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' > </img>\nCreated in <span style='font-weight:600;margin-left:4px;'>Deepnote</span></a>",
   "metadata": {
    "tags": [],
    "created_in_deepnote_cell": true,
    "deepnote_cell_type": "markdown"
   }
  }
 ],
 "nbformat": 4,
 "nbformat_minor": 2,
 "metadata": {
  "orig_nbformat": 2,
  "deepnote": {
   "is_reactive": false
  },
  "deepnote_notebook_id": "fb24560e-b3d4-4675-bf2c-5ad64502c78c",
  "deepnote_execution_queue": []
 }
}