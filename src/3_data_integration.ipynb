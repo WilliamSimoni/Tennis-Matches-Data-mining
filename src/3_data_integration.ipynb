{
 "cells": [
  {
   "cell_type": "code",
   "metadata": {
    "tags": [],
    "cell_id": "00000-7f45bfac-0de2-411c-a791-4e6d95c0cd8b",
    "deepnote_to_be_reexecuted": false,
    "source_hash": "f0cd7bf2",
    "execution_start": 1636641686356,
    "execution_millis": 99,
    "deepnote_cell_type": "code"
   },
   "source": "import numpy as np\nimport pandas as pd\nimport plotly as plt\nimport scipy\nimport math\nfrom datetime import datetime",
   "execution_count": 2,
   "outputs": []
  },
  {
   "cell_type": "code",
   "metadata": {
    "tags": [],
    "cell_id": "00000-dcbff698-b5dd-48e3-8b70-4579c1b0e1e1",
    "deepnote_to_be_reexecuted": false,
    "source_hash": "b5ebfa8d",
    "execution_start": 1636641688592,
    "execution_millis": 5364,
    "deepnote_cell_type": "code"
   },
   "source": "df_matches = pd.read_csv(\"../data/cleaned/tennis_matches_cleaned.csv\", parse_dates=['tourney_date'])\ndf_male_players = pd.read_csv(\"../data/cleaned/male_players_cleaned.csv\")\ndf_female_players = pd.read_csv(\"../data/cleaned/female_players_cleaned.csv\")",
   "execution_count": 3,
   "outputs": []
  },
  {
   "cell_type": "markdown",
   "source": "# Data integration",
   "metadata": {
    "tags": [],
    "cell_id": "00000-4d8ab1cf-3137-4e92-b150-f5587423f940",
    "deepnote_cell_type": "markdown"
   }
  },
  {
   "cell_type": "markdown",
   "source": "Create a dataframe with all the male matches and another one for the female matches",
   "metadata": {
    "tags": [],
    "cell_id": "00001-50f18f19-b9f7-4ea8-ba4f-039e7dd48f2a",
    "deepnote_cell_type": "markdown"
   }
  },
  {
   "cell_type": "code",
   "metadata": {
    "tags": [],
    "cell_id": "00002-a68a3b40-36a1-45eb-9f2f-a3c6b785e71c",
    "deepnote_to_be_reexecuted": false,
    "source_hash": "b288f2c1",
    "execution_start": 1636641693969,
    "execution_millis": 2831,
    "deepnote_cell_type": "code"
   },
   "source": "df_male_players_tmp = pd.DataFrame()\ndf_male_players_tmp['player_name'] = df_male_players['name'] + ' ' + df_male_players['surname']\ndf_male_winners = df_male_players_tmp.join(df_matches.set_index('winner_name'), on='player_name', how='inner')\ndf_male_losers = df_male_players_tmp.join(df_matches.set_index('loser_name'), on='player_name', how='inner')\ndf_male_matches = pd.concat([df_male_winners, df_male_losers])",
   "execution_count": 4,
   "outputs": []
  },
  {
   "cell_type": "code",
   "metadata": {
    "tags": [],
    "cell_id": "00005-a2514453-9050-4264-b238-feb7d8b7546e",
    "deepnote_to_be_reexecuted": false,
    "source_hash": "3a4012c6",
    "execution_start": 1636641454746,
    "execution_millis": 310,
    "deepnote_cell_type": "code"
   },
   "source": "df_male_matches",
   "outputs": [
    {
     "output_type": "execute_result",
     "execution_count": 21,
     "data": {
      "application/vnd.deepnote.dataframe.v2+json": {
       "row_count": 116822,
       "column_count": 51,
       "columns": [
        {
         "name": "player_name",
         "dtype": "object"
        },
        {
         "name": "Unnamed: 0",
         "dtype": "int64"
        },
        {
         "name": "tourney_id",
         "dtype": "object"
        },
        {
         "name": "tourney_name",
         "dtype": "object"
        },
        {
         "name": "surface",
         "dtype": "object"
        },
        {
         "name": "draw_size",
         "dtype": "int64"
        },
        {
         "name": "tourney_level",
         "dtype": "object"
        },
        {
         "name": "tourney_date",
         "dtype": "datetime64[ns]"
        },
        {
         "name": "match_num",
         "dtype": "int64"
        },
        {
         "name": "winner_id",
         "dtype": "int64"
        },
        {
         "name": "winner_entry",
         "dtype": "object"
        },
        {
         "name": "winner_hand",
         "dtype": "object"
        },
        {
         "name": "winner_ht",
         "dtype": "int64"
        },
        {
         "name": "winner_ioc",
         "dtype": "object"
        },
        {
         "name": "winner_age",
         "dtype": "int64"
        },
        {
         "name": "loser_id",
         "dtype": "int64"
        },
        {
         "name": "loser_entry",
         "dtype": "object"
        },
        {
         "name": "loser_name",
         "dtype": "object"
        },
        {
         "name": "loser_hand",
         "dtype": "object"
        },
        {
         "name": "loser_ht",
         "dtype": "int64"
        },
        {
         "name": "loser_ioc",
         "dtype": "object"
        },
        {
         "name": "loser_age",
         "dtype": "int64"
        },
        {
         "name": "score",
         "dtype": "object"
        },
        {
         "name": "best_of",
         "dtype": "int64"
        },
        {
         "name": "round",
         "dtype": "object"
        },
        {
         "name": "minutes",
         "dtype": "int64"
        },
        {
         "name": "w_ace",
         "dtype": "float64"
        },
        {
         "name": "w_df",
         "dtype": "float64"
        },
        {
         "name": "w_svpt",
         "dtype": "float64"
        },
        {
         "name": "w_1stIn",
         "dtype": "float64"
        },
        {
         "name": "w_1stWon",
         "dtype": "float64"
        },
        {
         "name": "w_2ndWon",
         "dtype": "float64"
        },
        {
         "name": "w_SvGms",
         "dtype": "float64"
        },
        {
         "name": "w_bpSaved",
         "dtype": "float64"
        },
        {
         "name": "w_bpFaced",
         "dtype": "float64"
        },
        {
         "name": "l_ace",
         "dtype": "float64"
        },
        {
         "name": "l_df",
         "dtype": "float64"
        },
        {
         "name": "l_svpt",
         "dtype": "float64"
        },
        {
         "name": "l_1stIn",
         "dtype": "float64"
        },
        {
         "name": "l_1stWon",
         "dtype": "float64"
        },
        {
         "name": "l_2ndWon",
         "dtype": "float64"
        },
        {
         "name": "l_SvGms",
         "dtype": "float64"
        },
        {
         "name": "l_bpSaved",
         "dtype": "float64"
        },
        {
         "name": "l_bpFaced",
         "dtype": "float64"
        },
        {
         "name": "winner_rank",
         "dtype": "int64"
        },
        {
         "name": "winner_rank_points",
         "dtype": "float64"
        },
        {
         "name": "loser_rank",
         "dtype": "int64"
        },
        {
         "name": "loser_rank_points",
         "dtype": "float64"
        },
        {
         "name": "tourney_spectators",
         "dtype": "float64"
        },
        {
         "name": "tourney_revenue",
         "dtype": "float64"
        },
        {
         "name": "winner_name",
         "dtype": "object"
        },
        {
         "name": "_deepnote_index_column",
         "dtype": "int64"
        }
       ],
       "rows_top": [
        {
         "player_name": "Alexander Zverev",
         "Unnamed: 0": "352",
         "tourney_id": "2019-580",
         "tourney_name": "Australian Open",
         "surface": "Hard",
         "draw_size": "128",
         "tourney_level": "G",
         "tourney_date": "2019-01-14 00:00:00",
         "match_num": "200",
         "winner_id": "100644",
         "winner_entry": "nan",
         "winner_hand": "R",
         "winner_ht": "198",
         "winner_ioc": "GER",
         "winner_age": "21",
         "loser_id": "106109",
         "loser_entry": "WC",
         "loser_name": "Alex Bolt",
         "loser_hand": "L",
         "loser_ht": "-1",
         "loser_ioc": "AUS",
         "loser_age": "26",
         "score": "6-3 6-3 6-2",
         "best_of": "5",
         "round": "R32",
         "minutes": "112",
         "w_ace": "14.0",
         "w_df": "4.0",
         "w_svpt": "85.0",
         "w_1stIn": "55.0",
         "w_1stWon": "39.0",
         "w_2ndWon": "19.0",
         "w_SvGms": "13.0",
         "w_bpSaved": "5.0",
         "w_bpFaced": "6.0",
         "l_ace": "5.0",
         "l_df": "1.0",
         "l_svpt": "90.0",
         "l_1stIn": "58.0",
         "l_1stWon": "37.0",
         "l_2ndWon": "12.0",
         "l_SvGms": "13.0",
         "l_bpSaved": "6.0",
         "l_bpFaced": "12.0",
         "winner_rank": "4",
         "winner_rank_points": "6385.0",
         "loser_rank": "155",
         "loser_rank_points": "343.0",
         "tourney_spectators": "15583.0",
         "tourney_revenue": "2781000.18",
         "winner_name": "nan",
         "_deepnote_index_column": "643"
        },
        {
         "player_name": "Alexander Zverev",
         "Unnamed: 0": "363",
         "tourney_id": "2019-580",
         "tourney_name": "Australian Open",
         "surface": "Hard",
         "draw_size": "128",
         "tourney_level": "G",
         "tourney_date": "2019-01-14 00:00:00",
         "match_num": "116",
         "winner_id": "100644",
         "winner_entry": "nan",
         "winner_hand": "R",
         "winner_ht": "198",
         "winner_ioc": "GER",
         "winner_age": "21",
         "loser_id": "105379",
         "loser_entry": "nan",
         "loser_name": "Aljaz Bedene",
         "loser_hand": "R",
         "loser_ht": "181",
         "loser_ioc": "SLO",
         "loser_age": "29",
         "score": "6-4 6-1 6-4",
         "best_of": "5",
         "round": "R128",
         "minutes": "115",
         "w_ace": "11.0",
         "w_df": "6.0",
         "w_svpt": "77.0",
         "w_1stIn": "46.0",
         "w_1stWon": "38.0",
         "w_2ndWon": "14.0",
         "w_SvGms": "14.0",
         "w_bpSaved": "1.0",
         "w_bpFaced": "3.0",
         "l_ace": "7.0",
         "l_df": "2.0",
         "l_svpt": "84.0",
         "l_1stIn": "51.0",
         "l_1stWon": "34.0",
         "l_2ndWon": "8.0",
         "l_SvGms": "13.0",
         "l_bpSaved": "2.0",
         "l_bpFaced": "8.0",
         "winner_rank": "4",
         "winner_rank_points": "6385.0",
         "loser_rank": "67",
         "loser_rank_points": "760.0",
         "tourney_spectators": "15583.0",
         "tourney_revenue": "2781000.18",
         "winner_name": "nan",
         "_deepnote_index_column": "643"
        },
        {
         "player_name": "Alexander Zverev",
         "Unnamed: 0": "364",
         "tourney_id": "2019-580",
         "tourney_name": "Australian Open",
         "surface": "Hard",
         "draw_size": "128",
         "tourney_level": "G",
         "tourney_date": "2019-01-14 00:00:00",
         "match_num": "172",
         "winner_id": "100644",
         "winner_entry": "nan",
         "winner_hand": "R",
         "winner_ht": "198",
         "winner_ioc": "GER",
         "winner_age": "21",
         "loser_id": "104871",
         "loser_entry": "nan",
         "loser_name": "Jeremy Chardy",
         "loser_hand": "R",
         "loser_ht": "188",
         "loser_ioc": "FRA",
         "loser_age": "31",
         "score": "7-6(5) 6-4 5-7 6-7(6) 6-1",
         "best_of": "5",
         "round": "R64",
         "minutes": "-1",
         "w_ace": "29.0",
         "w_df": "13.0",
         "w_svpt": "167.0",
         "w_1stIn": "116.0",
         "w_1stWon": "94.0",
         "w_2ndWon": "25.0",
         "w_SvGms": "27.0",
         "w_bpSaved": "10.0",
         "w_bpFaced": "13.0",
         "l_ace": "14.0",
         "l_df": "3.0",
         "l_svpt": "173.0",
         "l_1stIn": "118.0",
         "l_1stWon": "86.0",
         "l_2ndWon": "29.0",
         "l_SvGms": "26.0",
         "l_bpSaved": "12.0",
         "l_bpFaced": "17.0",
         "winner_rank": "4",
         "winner_rank_points": "6385.0",
         "loser_rank": "36",
         "loser_rank_points": "1120.0",
         "tourney_spectators": "15583.0",
         "tourney_revenue": "2781000.18",
         "winner_name": "nan",
         "_deepnote_index_column": "643"
        },
        {
         "player_name": "Alexander Zverev",
         "Unnamed: 0": "1145",
         "tourney_id": "2019-M004",
         "tourney_name": "Acapulco",
         "surface": "Hard",
         "draw_size": "32",
         "tourney_level": "A",
         "tourney_date": "2019-02-25 00:00:00",
         "match_num": "298",
         "winner_id": "100644",
         "winner_entry": "nan",
         "winner_hand": "R",
         "winner_ht": "198",
         "winner_ioc": "GER",
         "winner_age": "21",
         "loser_id": "111815",
         "loser_entry": "nan",
         "loser_name": "Cameron Norrie",
         "loser_hand": "L",
         "loser_ht": "188",
         "loser_ioc": "GBR",
         "loser_age": "23",
         "score": "7-6(0) 6-3",
         "best_of": "3",
         "round": "SF",
         "minutes": "80",
         "w_ace": "10.0",
         "w_df": "4.0",
         "w_svpt": "62.0",
         "w_1stIn": "42.0",
         "w_1stWon": "34.0",
         "w_2ndWon": "13.0",
         "w_SvGms": "11.0",
         "w_bpSaved": "2.0",
         "w_bpFaced": "3.0",
         "l_ace": "2.0",
         "l_df": "2.0",
         "l_svpt": "57.0",
         "l_1stIn": "39.0",
         "l_1stWon": "29.0",
         "l_2ndWon": "8.0",
         "l_SvGms": "10.0",
         "l_bpSaved": "2.0",
         "l_bpFaced": "4.0",
         "winner_rank": "3",
         "winner_rank_points": "6475.0",
         "loser_rank": "64",
         "loser_rank_points": "797.0",
         "tourney_spectators": "3398.0",
         "tourney_revenue": "655207.08",
         "winner_name": "nan",
         "_deepnote_index_column": "643"
        },
        {
         "player_name": "Alexander Zverev",
         "Unnamed: 0": "1149",
         "tourney_id": "2019-M004",
         "tourney_name": "Acapulco",
         "surface": "Hard",
         "draw_size": "32",
         "tourney_level": "A",
         "tourney_date": "2019-02-25 00:00:00",
         "match_num": "294",
         "winner_id": "100644",
         "winner_entry": "nan",
         "winner_hand": "R",
         "winner_ht": "198",
         "winner_ioc": "GER",
         "winner_age": "21",
         "loser_id": "200282",
         "loser_entry": "nan",
         "loser_name": "Alex De Minaur",
         "loser_hand": "R",
         "loser_ht": "183",
         "loser_ioc": "AUS",
         "loser_age": "20",
         "score": "6-4 6-4",
         "best_of": "3",
         "round": "QF",
         "minutes": "75",
         "w_ace": "13.0",
         "w_df": "1.0",
         "w_svpt": "50.0",
         "w_1stIn": "32.0",
         "w_1stWon": "29.0",
         "w_2ndWon": "11.0",
         "w_SvGms": "10.0",
         "w_bpSaved": "0.0",
         "w_bpFaced": "0.0",
         "l_ace": "1.0",
         "l_df": "2.0",
         "l_svpt": "55.0",
         "l_1stIn": "34.0",
         "l_1stWon": "28.0",
         "l_2ndWon": "11.0",
         "l_SvGms": "10.0",
         "l_bpSaved": "0.0",
         "l_bpFaced": "2.0",
         "winner_rank": "3",
         "winner_rank_points": "6475.0",
         "loser_rank": "26",
         "loser_rank_points": "1443.0",
         "tourney_spectators": "3398.0",
         "tourney_revenue": "655207.08",
         "winner_name": "nan",
         "_deepnote_index_column": "643"
        },
        {
         "player_name": "Alexander Zverev",
         "Unnamed: 0": "1157",
         "tourney_id": "2019-M004",
         "tourney_name": "Acapulco",
         "surface": "Hard",
         "draw_size": "32",
         "tourney_level": "A",
         "tourney_date": "2019-02-25 00:00:00",
         "match_num": "286",
         "winner_id": "100644",
         "winner_entry": "nan",
         "winner_hand": "R",
         "winner_ht": "198",
         "winner_ioc": "GER",
         "winner_age": "21",
         "loser_id": "103970",
         "loser_entry": "WC",
         "loser_name": "David Ferrer",
         "loser_hand": "R",
         "loser_ht": "175",
         "loser_ioc": "ESP",
         "loser_age": "36",
         "score": "7-6(0) 6-1",
         "best_of": "3",
         "round": "R16",
         "minutes": "88",
         "w_ace": "9.0",
         "w_df": "6.0",
         "w_svpt": "62.0",
         "w_1stIn": "37.0",
         "w_1stWon": "29.0",
         "w_2ndWon": "15.0",
         "w_SvGms": "10.0",
         "w_bpSaved": "3.0",
         "w_bpFaced": "4.0",
         "l_ace": "0.0",
         "l_df": "2.0",
         "l_svpt": "59.0",
         "l_1stIn": "36.0",
         "l_1stWon": "23.0",
         "l_2ndWon": "9.0",
         "l_SvGms": "9.0",
         "l_bpSaved": "3.0",
         "l_bpFaced": "6.0",
         "winner_rank": "3",
         "winner_rank_points": "6475.0",
         "loser_rank": "145",
         "loser_rank_points": "400.0",
         "tourney_spectators": "3398.0",
         "tourney_revenue": "655207.08",
         "winner_name": "nan",
         "_deepnote_index_column": "643"
        },
        {
         "player_name": "Alexander Zverev",
         "Unnamed: 0": "1173",
         "tourney_id": "2019-M004",
         "tourney_name": "Acapulco",
         "surface": "Hard",
         "draw_size": "32",
         "tourney_level": "A",
         "tourney_date": "2019-02-25 00:00:00",
         "match_num": "270",
         "winner_id": "100644",
         "winner_entry": "nan",
         "winner_hand": "R",
         "winner_ht": "198",
         "winner_ioc": "GER",
         "winner_age": "21",
         "loser_id": "200615",
         "loser_entry": "Q",
         "loser_name": "Alexei Popyrin",
         "loser_hand": "R",
         "loser_ht": "196",
         "loser_ioc": "AUS",
         "loser_age": "19",
         "score": "6-3 6-3",
         "best_of": "3",
         "round": "R32",
         "minutes": "70",
         "w_ace": "13.0",
         "w_df": "2.0",
         "w_svpt": "43.0",
         "w_1stIn": "27.0",
         "w_1stWon": "26.0",
         "w_2ndWon": "10.0",
         "w_SvGms": "9.0",
         "w_bpSaved": "0.0",
         "w_bpFaced": "0.0",
         "l_ace": "4.0",
         "l_df": "3.0",
         "l_svpt": "67.0",
         "l_1stIn": "44.0",
         "l_1stWon": "29.0",
         "l_2ndWon": "8.0",
         "l_SvGms": "9.0",
         "l_bpSaved": "6.0",
         "l_bpFaced": "9.0",
         "winner_rank": "3",
         "winner_rank_points": "6475.0",
         "loser_rank": "133",
         "loser_rank_points": "439.0",
         "tourney_spectators": "3398.0",
         "tourney_revenue": "655207.08",
         "winner_name": "nan",
         "_deepnote_index_column": "643"
        },
        {
         "player_name": "Alexander Zverev",
         "Unnamed: 0": "1355",
         "tourney_id": "2019-M006",
         "tourney_name": "Indian Wells Masters",
         "surface": "Hard",
         "draw_size": "128",
         "tourney_level": "M",
         "tourney_date": "2019-03-04 00:00:00",
         "match_num": "261",
         "winner_id": "100644",
         "winner_entry": "nan",
         "winner_hand": "R",
         "winner_ht": "198",
         "winner_ioc": "GER",
         "winner_age": "21",
         "loser_id": "105373",
         "loser_entry": "nan",
         "loser_name": "Martin Klizan",
         "loser_hand": "L",
         "loser_ht": "190",
         "loser_ioc": "SVK",
         "loser_age": "29",
         "score": "6-3 2-0 RET",
         "best_of": "3",
         "round": "R64",
         "minutes": "58",
         "w_ace": "5.0",
         "w_df": "1.0",
         "w_svpt": "34.0",
         "w_1stIn": "18.0",
         "w_1stWon": "14.0",
         "w_2ndWon": "9.0",
         "w_SvGms": "5.0",
         "w_bpSaved": "2.0",
         "w_bpFaced": "3.0",
         "l_ace": "1.0",
         "l_df": "3.0",
         "l_svpt": "44.0",
         "l_1stIn": "19.0",
         "l_1stWon": "10.0",
         "l_2ndWon": "11.0",
         "l_SvGms": "6.0",
         "l_bpSaved": "6.0",
         "l_bpFaced": "10.0",
         "winner_rank": "3",
         "winner_rank_points": "6595.0",
         "loser_rank": "50",
         "loser_rank_points": "941.0",
         "tourney_spectators": "9552.0",
         "tourney_revenue": "2484975.25",
         "winner_name": "nan",
         "_deepnote_index_column": "643"
        },
        {
         "player_name": "Alexander Zverev",
         "Unnamed: 0": "1894",
         "tourney_id": "2019-0360",
         "tourney_name": "Marrakech",
         "surface": "Clay",
         "draw_size": "32",
         "tourney_level": "A",
         "tourney_date": "2019-04-08 00:00:00",
         "match_num": "285",
         "winner_id": "100644",
         "winner_entry": "nan",
         "winner_hand": "R",
         "winner_ht": "198",
         "winner_ioc": "GER",
         "winner_age": "21",
         "loser_id": "104797",
         "loser_entry": "nan",
         "loser_name": "Denis Istomin",
         "loser_hand": "R",
         "loser_ht": "188",
         "loser_ioc": "UZB",
         "loser_age": "32",
         "score": "6-4 6-4",
         "best_of": "3",
         "round": "R32",
         "minutes": "81",
         "w_ace": "13.0",
         "w_df": "2.0",
         "w_svpt": "58.0",
         "w_1stIn": "36.0",
         "w_1stWon": "31.0",
         "w_2ndWon": "12.0",
         "w_SvGms": "10.0",
         "w_bpSaved": "3.0",
         "w_bpFaced": "3.0",
         "l_ace": "3.0",
         "l_df": "0.0",
         "l_svpt": "64.0",
         "l_1stIn": "37.0",
         "l_1stWon": "29.0",
         "l_2ndWon": "11.0",
         "l_SvGms": "10.0",
         "l_bpSaved": "7.0",
         "l_bpFaced": "9.0",
         "winner_rank": "3",
         "winner_rank_points": "6040.0",
         "loser_rank": "104",
         "loser_rank_points": "571.0",
         "tourney_spectators": "2657.0",
         "tourney_revenue": "496815.47",
         "winner_name": "nan",
         "_deepnote_index_column": "643"
        }
       ],
       "rows_bottom": [
        {
         "player_name": "Jakub Nicod",
         "Unnamed: 0": 94587,
         "tourney_id": "2021-0558",
         "tourney_name": "Prostejov CH",
         "surface": "Clay",
         "draw_size": 32,
         "tourney_level": "C",
         "tourney_date": "2021-06-14T00:00:00.000000",
         "match_num": 250,
         "winner_id": 122351,
         "winner_entry": "nan",
         "winner_hand": "U",
         "winner_ht": -1,
         "winner_ioc": "GER",
         "winner_age": 25,
         "loser_id": 210083,
         "loser_entry": "WC",
         "loser_name": "nan",
         "loser_hand": "U",
         "loser_ht": -1,
         "loser_ioc": "CZE",
         "loser_age": 16,
         "score": "6-3 3-6 6-3",
         "best_of": 3,
         "round": "Q1",
         "minutes": 115,
         "w_ace": 3,
         "w_df": 5,
         "w_svpt": 93,
         "w_1stIn": 64,
         "w_1stWon": 41,
         "w_2ndWon": 16,
         "w_SvGms": 14,
         "w_bpSaved": 4,
         "w_bpFaced": 7,
         "l_ace": 3,
         "l_df": 1,
         "l_svpt": 76,
         "l_1stIn": 44,
         "l_1stWon": 23,
         "l_2ndWon": 24,
         "l_SvGms": 13,
         "l_bpSaved": 3,
         "l_bpFaced": 7,
         "winner_rank": 330,
         "winner_rank_points": 146,
         "loser_rank": -1,
         "loser_rank_points": "nan",
         "tourney_spectators": 4245,
         "tourney_revenue": 992731.82,
         "winner_name": "Johannes Haerteis",
         "_deepnote_index_column": 54472
        },
        {
         "player_name": "Jakub Mensik",
         "Unnamed: 0": 94593,
         "tourney_id": "2021-0558",
         "tourney_name": "Prostejov CH",
         "surface": "Clay",
         "draw_size": 32,
         "tourney_level": "C",
         "tourney_date": "2021-06-14T00:00:00.000000",
         "match_num": 244,
         "winner_id": 126623,
         "winner_entry": "nan",
         "winner_hand": "U",
         "winner_ht": -1,
         "winner_ioc": "AUT",
         "winner_age": 23,
         "loser_id": 210084,
         "loser_entry": "WC",
         "loser_name": "nan",
         "loser_hand": "U",
         "loser_ht": -1,
         "loser_ioc": "CZE",
         "loser_age": 15,
         "score": "6-3 6-4",
         "best_of": 3,
         "round": "Q1",
         "minutes": 69,
         "w_ace": 5,
         "w_df": 2,
         "w_svpt": 50,
         "w_1stIn": 28,
         "w_1stWon": 25,
         "w_2ndWon": 15,
         "w_SvGms": 10,
         "w_bpSaved": 0,
         "w_bpFaced": 0,
         "l_ace": 6,
         "l_df": 4,
         "l_svpt": 55,
         "l_1stIn": 30,
         "l_1stWon": 25,
         "l_2ndWon": 11,
         "l_SvGms": 9,
         "l_bpSaved": 3,
         "l_bpFaced": 5,
         "winner_rank": 354,
         "winner_rank_points": 128,
         "loser_rank": -1,
         "loser_rank_points": "nan",
         "tourney_spectators": 4245,
         "tourney_revenue": 992731.82,
         "winner_name": "Alexander Erler",
         "_deepnote_index_column": 54473
        },
        {
         "player_name": "Lui Maxted",
         "Unnamed: 0": 64183,
         "tourney_id": "2021-0741",
         "tourney_name": "Eastbourne",
         "surface": "Grass",
         "draw_size": 32,
         "tourney_level": "A",
         "tourney_date": "2021-06-21T00:00:00.000000",
         "match_num": 248,
         "winner_id": 105613,
         "winner_entry": "nan",
         "winner_hand": "R",
         "winner_ht": 193,
         "winner_ioc": "SVK",
         "winner_age": 30,
         "loser_id": 210085,
         "loser_entry": "WC",
         "loser_name": "nan",
         "loser_hand": "U",
         "loser_ht": -1,
         "loser_ioc": "GBR",
         "loser_age": 17,
         "score": "6-4 7-6(4)",
         "best_of": 3,
         "round": "Q1",
         "minutes": 85,
         "w_ace": 7,
         "w_df": 3,
         "w_svpt": 69,
         "w_1stIn": 44,
         "w_1stWon": 38,
         "w_2ndWon": 12,
         "w_SvGms": 11,
         "w_bpSaved": 3,
         "w_bpFaced": 4,
         "l_ace": 5,
         "l_df": 3,
         "l_svpt": 89,
         "l_1stIn": 57,
         "l_1stWon": 40,
         "l_2ndWon": 14,
         "l_SvGms": 11,
         "l_bpSaved": 11,
         "l_bpFaced": 13,
         "winner_rank": 94,
         "winner_rank_points": 822,
         "loser_rank": -1,
         "loser_rank_points": "nan",
         "tourney_spectators": 2757,
         "tourney_revenue": 623831.72,
         "winner_name": "Norbert Gombos",
         "_deepnote_index_column": 54474
        },
        {
         "player_name": "Lui Maxted",
         "Unnamed: 0": 94544,
         "tourney_id": "2021-9522",
         "tourney_name": "Nottingham 2 CH",
         "surface": "Grass",
         "draw_size": 32,
         "tourney_level": "C",
         "tourney_date": "2021-06-14T00:00:00.000000",
         "match_num": 250,
         "winner_id": 200390,
         "winner_entry": "nan",
         "winner_hand": "R",
         "winner_ht": -1,
         "winner_ioc": "POL",
         "winner_age": 22,
         "loser_id": 210085,
         "loser_entry": "WC",
         "loser_name": "nan",
         "loser_hand": "U",
         "loser_ht": -1,
         "loser_ioc": "GBR",
         "loser_age": 17,
         "score": "6-2 6-1",
         "best_of": 3,
         "round": "Q1",
         "minutes": 45,
         "w_ace": 7,
         "w_df": 0,
         "w_svpt": 38,
         "w_1stIn": 30,
         "w_1stWon": 23,
         "w_2ndWon": 7,
         "w_SvGms": 7,
         "w_bpSaved": 1,
         "w_bpFaced": 1,
         "l_ace": 3,
         "l_df": 3,
         "l_svpt": 47,
         "l_1stIn": 28,
         "l_1stWon": 14,
         "l_2ndWon": 6,
         "l_SvGms": 8,
         "l_bpSaved": 4,
         "l_bpFaced": 9,
         "winner_rank": 169,
         "winner_rank_points": 425,
         "loser_rank": -1,
         "loser_rank_points": "nan",
         "tourney_spectators": 2386,
         "tourney_revenue": 495250.69,
         "winner_name": "Kacper Zuk",
         "_deepnote_index_column": 54474
        },
        {
         "player_name": "Lorenzo Angelini",
         "Unnamed: 0": 94503,
         "tourney_id": "2021-9357",
         "tourney_name": "Forli CH",
         "surface": "Clay",
         "draw_size": 32,
         "tourney_level": "C",
         "tourney_date": "2021-06-14T00:00:00.000000",
         "match_num": 248,
         "winner_id": 202058,
         "winner_entry": "nan",
         "winner_hand": "R",
         "winner_ht": -1,
         "winner_ioc": "ARG",
         "winner_age": 20,
         "loser_id": 210086,
         "loser_entry": "WC",
         "loser_name": "nan",
         "loser_hand": "U",
         "loser_ht": -1,
         "loser_ioc": "ITA",
         "loser_age": 15,
         "score": "6-0 6-4",
         "best_of": 3,
         "round": "Q1",
         "minutes": 72,
         "w_ace": 3,
         "w_df": 1,
         "w_svpt": 45,
         "w_1stIn": 31,
         "w_1stWon": 25,
         "w_2ndWon": 10,
         "w_SvGms": 8,
         "w_bpSaved": 3,
         "w_bpFaced": 3,
         "l_ace": 0,
         "l_df": 3,
         "l_svpt": 65,
         "l_1stIn": 41,
         "l_1stWon": 21,
         "l_2ndWon": 12,
         "l_SvGms": 8,
         "l_bpSaved": 5,
         "l_bpFaced": 9,
         "winner_rank": 331,
         "winner_rank_points": 146,
         "loser_rank": -1,
         "loser_rank_points": "nan",
         "tourney_spectators": 3031,
         "tourney_revenue": 566031.89,
         "winner_name": "Thiago Agustin Tirante",
         "_deepnote_index_column": 54475
        },
        {
         "player_name": "Michele Vianello",
         "Unnamed: 0": 94508,
         "tourney_id": "2021-9357",
         "tourney_name": "Forli CH",
         "surface": "Clay",
         "draw_size": 32,
         "tourney_level": "C",
         "tourney_date": "2021-06-14T00:00:00.000000",
         "match_num": 243,
         "winner_id": 104563,
         "winner_entry": "nan",
         "winner_hand": "R",
         "winner_ht": -1,
         "winner_ioc": "ITA",
         "winner_age": 36,
         "loser_id": 210087,
         "loser_entry": "WC",
         "loser_name": "nan",
         "loser_hand": "R",
         "loser_ht": -1,
         "loser_ioc": "ITA",
         "loser_age": 20,
         "score": "6-3 6-4",
         "best_of": 3,
         "round": "Q1",
         "minutes": 90,
         "w_ace": 1,
         "w_df": 0,
         "w_svpt": 53,
         "w_1stIn": 38,
         "w_1stWon": 26,
         "w_2ndWon": 7,
         "w_SvGms": 10,
         "w_bpSaved": 2,
         "w_bpFaced": 4,
         "l_ace": 2,
         "l_df": 1,
         "l_svpt": 61,
         "l_1stIn": 42,
         "l_1stWon": 21,
         "l_2ndWon": 9,
         "l_SvGms": 9,
         "l_bpSaved": 2,
         "l_bpFaced": 6,
         "winner_rank": 433,
         "winner_rank_points": 93,
         "loser_rank": -1,
         "loser_rank_points": "nan",
         "tourney_spectators": 3031,
         "tourney_revenue": 566031.89,
         "winner_name": "Luca Vanni",
         "_deepnote_index_column": 54476
        },
        {
         "player_name": "Michele Vianello",
         "Unnamed: 0": 95338,
         "tourney_id": "2021-2120",
         "tourney_name": "Cordenons CH",
         "surface": "Clay",
         "draw_size": 32,
         "tourney_level": "C",
         "tourney_date": "2021-08-02T00:00:00.000000",
         "match_num": 250,
         "winner_id": 207608,
         "winner_entry": "Alt",
         "winner_hand": "R",
         "winner_ht": -1,
         "winner_ioc": "RUS",
         "winner_age": 20,
         "loser_id": 210087,
         "loser_entry": "WC",
         "loser_name": "nan",
         "loser_hand": "R",
         "loser_ht": -1,
         "loser_ioc": "ITA",
         "loser_age": 20,
         "score": "6-4 6-4",
         "best_of": 3,
         "round": "Q1",
         "minutes": 96,
         "w_ace": 0,
         "w_df": 4,
         "w_svpt": 50,
         "w_1stIn": 36,
         "w_1stWon": 25,
         "w_2ndWon": 8,
         "w_SvGms": 10,
         "w_bpSaved": 1,
         "w_bpFaced": 4,
         "l_ace": 2,
         "l_df": 3,
         "l_svpt": 64,
         "l_1stIn": 45,
         "l_1stWon": 28,
         "l_2ndWon": 5,
         "l_SvGms": 10,
         "l_bpSaved": 2,
         "l_bpFaced": 7,
         "winner_rank": 291,
         "winner_rank_points": 195,
         "loser_rank": -1,
         "loser_rank_points": "nan",
         "tourney_spectators": 2876,
         "tourney_revenue": 543907.53,
         "winner_name": "Timofey Skatov",
         "_deepnote_index_column": 54476
        },
        {
         "player_name": "Ben Shelton",
         "Unnamed: 0": 95003,
         "tourney_id": "2021-7316",
         "tourney_name": "Cary CH",
         "surface": "Hard",
         "draw_size": 32,
         "tourney_level": "C",
         "tourney_date": "2021-07-19T00:00:00.000000",
         "match_num": 254,
         "winner_id": 206499,
         "winner_entry": "nan",
         "winner_hand": "U",
         "winner_ht": -1,
         "winner_ioc": "USA",
         "winner_age": 22,
         "loser_id": 210097,
         "loser_entry": "WC",
         "loser_name": "nan",
         "loser_hand": "L",
         "loser_ht": -1,
         "loser_ioc": "USA",
         "loser_age": 18,
         "score": "6-3 6-4",
         "best_of": 3,
         "round": "Q2",
         "minutes": 85,
         "w_ace": 9,
         "w_df": 4,
         "w_svpt": 74,
         "w_1stIn": 45,
         "w_1stWon": 34,
         "w_2ndWon": 16,
         "w_SvGms": 10,
         "w_bpSaved": 8,
         "w_bpFaced": 8,
         "l_ace": 7,
         "l_df": 5,
         "l_svpt": 55,
         "l_1stIn": 31,
         "l_1stWon": 24,
         "l_2ndWon": 12,
         "l_SvGms": 9,
         "l_bpSaved": 3,
         "l_bpFaced": 5,
         "winner_rank": 413,
         "winner_rank_points": 100,
         "loser_rank": 1835,
         "loser_rank_points": 1,
         "tourney_spectators": 3074,
         "tourney_revenue": 583894.56,
         "winner_name": "Aleksandar Kovacevic",
         "_deepnote_index_column": 54485
        },
        {
         "player_name": "William Jansen",
         "Unnamed: 0": 64393,
         "tourney_id": "2021-540",
         "tourney_name": "Wimbledon",
         "surface": "Grass",
         "draw_size": 128,
         "tourney_level": "G",
         "tourney_date": "2021-06-28T00:00:00.000000",
         "match_num": 138,
         "winner_id": 207760,
         "winner_entry": "WC",
         "winner_hand": "U",
         "winner_ht": -1,
         "winner_ioc": "GBR",
         "winner_age": 20,
         "loser_id": 210117,
         "loser_entry": "WC",
         "loser_name": "nan",
         "loser_hand": "L",
         "loser_ht": -1,
         "loser_ioc": "GBR",
         "loser_age": 16,
         "score": "4-6 6-0 6-4",
         "best_of": 3,
         "round": "Q1",
         "minutes": 98,
         "w_ace": 7,
         "w_df": 7,
         "w_svpt": 86,
         "w_1stIn": 46,
         "w_1stWon": 29,
         "w_2ndWon": 19,
         "w_SvGms": 13,
         "w_bpSaved": 7,
         "w_bpFaced": 12,
         "l_ace": 4,
         "l_df": 7,
         "l_svpt": 94,
         "l_1stIn": 53,
         "l_1stWon": 28,
         "l_2ndWon": 17,
         "l_SvGms": 13,
         "l_bpSaved": 8,
         "l_bpFaced": 16,
         "winner_rank": 454,
         "winner_rank_points": 87,
         "loser_rank": -1,
         "loser_rank_points": "nan",
         "tourney_spectators": 14566,
         "tourney_revenue": 5002793.97,
         "winner_name": "Anton Matusevich",
         "_deepnote_index_column": 54504
        },
        {
         "player_name": "Jasza Szajrych",
         "Unnamed: 0": 95719,
         "tourney_id": "2021-9548",
         "tourney_name": "Warsaw CH",
         "surface": "Clay",
         "draw_size": 32,
         "tourney_level": "C",
         "tourney_date": "2021-08-23T00:00:00.000000",
         "match_num": 247,
         "winner_id": 105060,
         "winner_entry": "nan",
         "winner_hand": "R",
         "winner_ht": 193,
         "winner_ioc": "BIH",
         "winner_age": 33,
         "loser_id": 210155,
         "loser_entry": "WC",
         "loser_name": "nan",
         "loser_hand": "U",
         "loser_ht": -1,
         "loser_ioc": "POL",
         "loser_age": -1,
         "score": "6-0 6-4",
         "best_of": 3,
         "round": "Q1",
         "minutes": 86,
         "w_ace": 1,
         "w_df": 2,
         "w_svpt": 42,
         "w_1stIn": 28,
         "w_1stWon": 21,
         "w_2ndWon": 6,
         "w_SvGms": 8,
         "w_bpSaved": 0,
         "w_bpFaced": 2,
         "l_ace": 3,
         "l_df": 2,
         "l_svpt": 61,
         "l_1stIn": 28,
         "l_1stWon": 14,
         "l_2ndWon": 13,
         "l_SvGms": 8,
         "l_bpSaved": 4,
         "l_bpFaced": 10,
         "winner_rank": 450,
         "winner_rank_points": 89,
         "loser_rank": -1,
         "loser_rank_points": "nan",
         "tourney_spectators": 3839,
         "tourney_revenue": 605329.45,
         "winner_name": "Aldin Setkic",
         "_deepnote_index_column": 54540
        }
       ]
      },
      "text/plain": "            player_name  Unnamed: 0 tourney_id     tourney_name surface  \\\n643    Alexander Zverev         352   2019-580  Australian Open    Hard   \n643    Alexander Zverev         363   2019-580  Australian Open    Hard   \n643    Alexander Zverev         364   2019-580  Australian Open    Hard   \n643    Alexander Zverev        1145  2019-M004         Acapulco    Hard   \n643    Alexander Zverev        1149  2019-M004         Acapulco    Hard   \n...                 ...         ...        ...              ...     ...   \n54476  Michele Vianello       94508  2021-9357         Forli CH    Clay   \n54476  Michele Vianello       95338  2021-2120     Cordenons CH    Clay   \n54485       Ben Shelton       95003  2021-7316          Cary CH    Hard   \n54504    William Jansen       64393   2021-540        Wimbledon   Grass   \n54540    Jasza Szajrych       95719  2021-9548        Warsaw CH    Clay   \n\n       draw_size tourney_level tourney_date  match_num  winner_id  ...  \\\n643          128             G   2019-01-14        200     100644  ...   \n643          128             G   2019-01-14        116     100644  ...   \n643          128             G   2019-01-14        172     100644  ...   \n643           32             A   2019-02-25        298     100644  ...   \n643           32             A   2019-02-25        294     100644  ...   \n...          ...           ...          ...        ...        ...  ...   \n54476         32             C   2021-06-14        243     104563  ...   \n54476         32             C   2021-08-02        250     207608  ...   \n54485         32             C   2021-07-19        254     206499  ...   \n54504        128             G   2021-06-28        138     207760  ...   \n54540         32             C   2021-08-23        247     105060  ...   \n\n      l_SvGms l_bpSaved  l_bpFaced winner_rank  winner_rank_points  \\\n643      13.0       6.0       12.0           4              6385.0   \n643      13.0       2.0        8.0           4              6385.0   \n643      26.0      12.0       17.0           4              6385.0   \n643      10.0       2.0        4.0           3              6475.0   \n643      10.0       0.0        2.0           3              6475.0   \n...       ...       ...        ...         ...                 ...   \n54476     9.0       2.0        6.0         433                93.0   \n54476    10.0       2.0        7.0         291               195.0   \n54485     9.0       3.0        5.0         413               100.0   \n54504    13.0       8.0       16.0         454                87.0   \n54540     8.0       4.0       10.0         450                89.0   \n\n       loser_rank loser_rank_points tourney_spectators tourney_revenue  \\\n643           155             343.0            15583.0      2781000.18   \n643            67             760.0            15583.0      2781000.18   \n643            36            1120.0            15583.0      2781000.18   \n643            64             797.0             3398.0       655207.08   \n643            26            1443.0             3398.0       655207.08   \n...           ...               ...                ...             ...   \n54476          -1               NaN             3031.0       566031.89   \n54476          -1               NaN             2876.0       543907.53   \n54485        1835               1.0             3074.0       583894.56   \n54504          -1               NaN            14566.0      5002793.97   \n54540          -1               NaN             3839.0       605329.45   \n\n                winner_name  \n643                     NaN  \n643                     NaN  \n643                     NaN  \n643                     NaN  \n643                     NaN  \n...                     ...  \n54476            Luca Vanni  \n54476        Timofey Skatov  \n54485  Aleksandar Kovacevic  \n54504      Anton Matusevich  \n54540          Aldin Setkic  \n\n[116822 rows x 51 columns]",
      "text/html": "<div>\n<style scoped>\n    .dataframe tbody tr th:only-of-type {\n        vertical-align: middle;\n    }\n\n    .dataframe tbody tr th {\n        vertical-align: top;\n    }\n\n    .dataframe thead th {\n        text-align: right;\n    }\n</style>\n<table border=\"1\" class=\"dataframe\">\n  <thead>\n    <tr style=\"text-align: right;\">\n      <th></th>\n      <th>player_name</th>\n      <th>Unnamed: 0</th>\n      <th>tourney_id</th>\n      <th>tourney_name</th>\n      <th>surface</th>\n      <th>draw_size</th>\n      <th>tourney_level</th>\n      <th>tourney_date</th>\n      <th>match_num</th>\n      <th>winner_id</th>\n      <th>...</th>\n      <th>l_SvGms</th>\n      <th>l_bpSaved</th>\n      <th>l_bpFaced</th>\n      <th>winner_rank</th>\n      <th>winner_rank_points</th>\n      <th>loser_rank</th>\n      <th>loser_rank_points</th>\n      <th>tourney_spectators</th>\n      <th>tourney_revenue</th>\n      <th>winner_name</th>\n    </tr>\n  </thead>\n  <tbody>\n    <tr>\n      <th>643</th>\n      <td>Alexander Zverev</td>\n      <td>352</td>\n      <td>2019-580</td>\n      <td>Australian Open</td>\n      <td>Hard</td>\n      <td>128</td>\n      <td>G</td>\n      <td>2019-01-14</td>\n      <td>200</td>\n      <td>100644</td>\n      <td>...</td>\n      <td>13.0</td>\n      <td>6.0</td>\n      <td>12.0</td>\n      <td>4</td>\n      <td>6385.0</td>\n      <td>155</td>\n      <td>343.0</td>\n      <td>15583.0</td>\n      <td>2781000.18</td>\n      <td>NaN</td>\n    </tr>\n    <tr>\n      <th>643</th>\n      <td>Alexander Zverev</td>\n      <td>363</td>\n      <td>2019-580</td>\n      <td>Australian Open</td>\n      <td>Hard</td>\n      <td>128</td>\n      <td>G</td>\n      <td>2019-01-14</td>\n      <td>116</td>\n      <td>100644</td>\n      <td>...</td>\n      <td>13.0</td>\n      <td>2.0</td>\n      <td>8.0</td>\n      <td>4</td>\n      <td>6385.0</td>\n      <td>67</td>\n      <td>760.0</td>\n      <td>15583.0</td>\n      <td>2781000.18</td>\n      <td>NaN</td>\n    </tr>\n    <tr>\n      <th>643</th>\n      <td>Alexander Zverev</td>\n      <td>364</td>\n      <td>2019-580</td>\n      <td>Australian Open</td>\n      <td>Hard</td>\n      <td>128</td>\n      <td>G</td>\n      <td>2019-01-14</td>\n      <td>172</td>\n      <td>100644</td>\n      <td>...</td>\n      <td>26.0</td>\n      <td>12.0</td>\n      <td>17.0</td>\n      <td>4</td>\n      <td>6385.0</td>\n      <td>36</td>\n      <td>1120.0</td>\n      <td>15583.0</td>\n      <td>2781000.18</td>\n      <td>NaN</td>\n    </tr>\n    <tr>\n      <th>643</th>\n      <td>Alexander Zverev</td>\n      <td>1145</td>\n      <td>2019-M004</td>\n      <td>Acapulco</td>\n      <td>Hard</td>\n      <td>32</td>\n      <td>A</td>\n      <td>2019-02-25</td>\n      <td>298</td>\n      <td>100644</td>\n      <td>...</td>\n      <td>10.0</td>\n      <td>2.0</td>\n      <td>4.0</td>\n      <td>3</td>\n      <td>6475.0</td>\n      <td>64</td>\n      <td>797.0</td>\n      <td>3398.0</td>\n      <td>655207.08</td>\n      <td>NaN</td>\n    </tr>\n    <tr>\n      <th>643</th>\n      <td>Alexander Zverev</td>\n      <td>1149</td>\n      <td>2019-M004</td>\n      <td>Acapulco</td>\n      <td>Hard</td>\n      <td>32</td>\n      <td>A</td>\n      <td>2019-02-25</td>\n      <td>294</td>\n      <td>100644</td>\n      <td>...</td>\n      <td>10.0</td>\n      <td>0.0</td>\n      <td>2.0</td>\n      <td>3</td>\n      <td>6475.0</td>\n      <td>26</td>\n      <td>1443.0</td>\n      <td>3398.0</td>\n      <td>655207.08</td>\n      <td>NaN</td>\n    </tr>\n    <tr>\n      <th>...</th>\n      <td>...</td>\n      <td>...</td>\n      <td>...</td>\n      <td>...</td>\n      <td>...</td>\n      <td>...</td>\n      <td>...</td>\n      <td>...</td>\n      <td>...</td>\n      <td>...</td>\n      <td>...</td>\n      <td>...</td>\n      <td>...</td>\n      <td>...</td>\n      <td>...</td>\n      <td>...</td>\n      <td>...</td>\n      <td>...</td>\n      <td>...</td>\n      <td>...</td>\n      <td>...</td>\n    </tr>\n    <tr>\n      <th>54476</th>\n      <td>Michele Vianello</td>\n      <td>94508</td>\n      <td>2021-9357</td>\n      <td>Forli CH</td>\n      <td>Clay</td>\n      <td>32</td>\n      <td>C</td>\n      <td>2021-06-14</td>\n      <td>243</td>\n      <td>104563</td>\n      <td>...</td>\n      <td>9.0</td>\n      <td>2.0</td>\n      <td>6.0</td>\n      <td>433</td>\n      <td>93.0</td>\n      <td>-1</td>\n      <td>NaN</td>\n      <td>3031.0</td>\n      <td>566031.89</td>\n      <td>Luca Vanni</td>\n    </tr>\n    <tr>\n      <th>54476</th>\n      <td>Michele Vianello</td>\n      <td>95338</td>\n      <td>2021-2120</td>\n      <td>Cordenons CH</td>\n      <td>Clay</td>\n      <td>32</td>\n      <td>C</td>\n      <td>2021-08-02</td>\n      <td>250</td>\n      <td>207608</td>\n      <td>...</td>\n      <td>10.0</td>\n      <td>2.0</td>\n      <td>7.0</td>\n      <td>291</td>\n      <td>195.0</td>\n      <td>-1</td>\n      <td>NaN</td>\n      <td>2876.0</td>\n      <td>543907.53</td>\n      <td>Timofey Skatov</td>\n    </tr>\n    <tr>\n      <th>54485</th>\n      <td>Ben Shelton</td>\n      <td>95003</td>\n      <td>2021-7316</td>\n      <td>Cary CH</td>\n      <td>Hard</td>\n      <td>32</td>\n      <td>C</td>\n      <td>2021-07-19</td>\n      <td>254</td>\n      <td>206499</td>\n      <td>...</td>\n      <td>9.0</td>\n      <td>3.0</td>\n      <td>5.0</td>\n      <td>413</td>\n      <td>100.0</td>\n      <td>1835</td>\n      <td>1.0</td>\n      <td>3074.0</td>\n      <td>583894.56</td>\n      <td>Aleksandar Kovacevic</td>\n    </tr>\n    <tr>\n      <th>54504</th>\n      <td>William Jansen</td>\n      <td>64393</td>\n      <td>2021-540</td>\n      <td>Wimbledon</td>\n      <td>Grass</td>\n      <td>128</td>\n      <td>G</td>\n      <td>2021-06-28</td>\n      <td>138</td>\n      <td>207760</td>\n      <td>...</td>\n      <td>13.0</td>\n      <td>8.0</td>\n      <td>16.0</td>\n      <td>454</td>\n      <td>87.0</td>\n      <td>-1</td>\n      <td>NaN</td>\n      <td>14566.0</td>\n      <td>5002793.97</td>\n      <td>Anton Matusevich</td>\n    </tr>\n    <tr>\n      <th>54540</th>\n      <td>Jasza Szajrych</td>\n      <td>95719</td>\n      <td>2021-9548</td>\n      <td>Warsaw CH</td>\n      <td>Clay</td>\n      <td>32</td>\n      <td>C</td>\n      <td>2021-08-23</td>\n      <td>247</td>\n      <td>105060</td>\n      <td>...</td>\n      <td>8.0</td>\n      <td>4.0</td>\n      <td>10.0</td>\n      <td>450</td>\n      <td>89.0</td>\n      <td>-1</td>\n      <td>NaN</td>\n      <td>3839.0</td>\n      <td>605329.45</td>\n      <td>Aldin Setkic</td>\n    </tr>\n  </tbody>\n</table>\n<p>116822 rows × 51 columns</p>\n</div>"
     },
     "metadata": {}
    }
   ],
   "execution_count": null
  },
  {
   "cell_type": "markdown",
   "source": "df_male_matches.describe()",
   "metadata": {
    "tags": [],
    "cell_id": "00003-d9eb7dfe-07d7-48d4-8186-6b484be7d7ce",
    "deepnote_cell_type": "markdown"
   }
  },
  {
   "cell_type": "code",
   "metadata": {
    "tags": [],
    "cell_id": "00004-ec7627c3-2f5a-41ac-833e-11db4cfc18c0",
    "deepnote_to_be_reexecuted": false,
    "source_hash": "36b60bd4",
    "execution_start": 1636641696810,
    "execution_millis": 1245,
    "deepnote_cell_type": "code"
   },
   "source": "df_female_players_tmp = pd.DataFrame()\ndf_female_players_tmp['player_name'] = df_female_players['name'] + ' ' + df_female_players['surname']\ndf_female_winners = df_female_players_tmp.join(df_matches.set_index('winner_name'), on='player_name', how='inner')\ndf_female_losers = df_female_players_tmp.join(df_matches.set_index('loser_name'), on='player_name', how='inner')\ndf_female_matches = pd.concat([df_female_winners, df_female_losers])",
   "outputs": [],
   "execution_count": null
  },
  {
   "cell_type": "code",
   "metadata": {
    "tags": [],
    "cell_id": "00008-e08de8e1-aa1f-4779-9bda-64006252c48f",
    "deepnote_to_be_reexecuted": false,
    "source_hash": "4a98c3c9",
    "execution_start": 1636641456353,
    "execution_millis": 42,
    "deepnote_cell_type": "code"
   },
   "source": "df_male_matches_reduced = df_male_losers[['player_name', 'winner_id', 'winner_ht', 'winner_age', 'tourney_date']]\ndf_male_matches_reduced[df_male_matches_reduced['player_name'] == 'Aaron Addison']",
   "outputs": [
    {
     "output_type": "execute_result",
     "execution_count": 23,
     "data": {
      "application/vnd.deepnote.dataframe.v2+json": {
       "row_count": 9,
       "column_count": 5,
       "columns": [
        {
         "name": "player_name",
         "dtype": "object",
         "stats": {
          "unique_count": 1,
          "nan_count": 0,
          "categories": [
           {
            "name": "Aaron Addison",
            "count": 9
           }
          ]
         }
        },
        {
         "name": "winner_id",
         "dtype": "int64",
         "stats": {
          "unique_count": 9,
          "nan_count": 0,
          "min": "102864",
          "max": "200640",
          "histogram": [
           {
            "bin_start": 102864,
            "bin_end": 112641.6,
            "count": 5
           },
           {
            "bin_start": 112641.6,
            "bin_end": 122419.2,
            "count": 2
           },
           {
            "bin_start": 122419.2,
            "bin_end": 132196.8,
            "count": 0
           },
           {
            "bin_start": 132196.8,
            "bin_end": 141974.4,
            "count": 0
           },
           {
            "bin_start": 141974.4,
            "bin_end": 151752,
            "count": 0
           },
           {
            "bin_start": 151752,
            "bin_end": 161529.6,
            "count": 0
           },
           {
            "bin_start": 161529.6,
            "bin_end": 171307.2,
            "count": 0
           },
           {
            "bin_start": 171307.2,
            "bin_end": 181084.8,
            "count": 0
           },
           {
            "bin_start": 181084.8,
            "bin_end": 190862.40000000002,
            "count": 0
           },
           {
            "bin_start": 190862.40000000002,
            "bin_end": 200640,
            "count": 2
           }
          ]
         }
        },
        {
         "name": "winner_ht",
         "dtype": "int64",
         "stats": {
          "unique_count": 2,
          "nan_count": 0,
          "min": "-1",
          "max": "193",
          "histogram": [
           {
            "bin_start": -1,
            "bin_end": 18.4,
            "count": 8
           },
           {
            "bin_start": 18.4,
            "bin_end": 37.8,
            "count": 0
           },
           {
            "bin_start": 37.8,
            "bin_end": 57.199999999999996,
            "count": 0
           },
           {
            "bin_start": 57.199999999999996,
            "bin_end": 76.6,
            "count": 0
           },
           {
            "bin_start": 76.6,
            "bin_end": 96,
            "count": 0
           },
           {
            "bin_start": 96,
            "bin_end": 115.39999999999999,
            "count": 0
           },
           {
            "bin_start": 115.39999999999999,
            "bin_end": 134.79999999999998,
            "count": 0
           },
           {
            "bin_start": 134.79999999999998,
            "bin_end": 154.2,
            "count": 0
           },
           {
            "bin_start": 154.2,
            "bin_end": 173.6,
            "count": 0
           },
           {
            "bin_start": 173.6,
            "bin_end": 193,
            "count": 1
           }
          ]
         }
        },
        {
         "name": "winner_age",
         "dtype": "int64",
         "stats": {
          "unique_count": 8,
          "nan_count": 0,
          "min": "-1",
          "max": "30",
          "histogram": [
           {
            "bin_start": -1,
            "bin_end": 2.1,
            "count": 1
           },
           {
            "bin_start": 2.1,
            "bin_end": 5.2,
            "count": 0
           },
           {
            "bin_start": 5.2,
            "bin_end": 8.3,
            "count": 0
           },
           {
            "bin_start": 8.3,
            "bin_end": 11.4,
            "count": 0
           },
           {
            "bin_start": 11.4,
            "bin_end": 14.5,
            "count": 0
           },
           {
            "bin_start": 14.5,
            "bin_end": 17.6,
            "count": 0
           },
           {
            "bin_start": 17.6,
            "bin_end": 20.7,
            "count": 3
           },
           {
            "bin_start": 20.7,
            "bin_end": 23.8,
            "count": 2
           },
           {
            "bin_start": 23.8,
            "bin_end": 26.900000000000002,
            "count": 2
           },
           {
            "bin_start": 26.900000000000002,
            "bin_end": 30,
            "count": 1
           }
          ]
         }
        },
        {
         "name": "tourney_date",
         "dtype": "datetime64[ns]",
         "stats": {
          "unique_count": 9,
          "nan_count": 0,
          "min": "2016-01-11 00:00:00",
          "max": "2020-01-13 00:00:00",
          "histogram": [
           {
            "bin_start": 1452470400000000000,
            "bin_end": 1465110720000000000,
            "count": 2
           },
           {
            "bin_start": 1465110720000000000,
            "bin_end": 1477751040000000000,
            "count": 1
           },
           {
            "bin_start": 1477751040000000000,
            "bin_end": 1490391360000000000,
            "count": 1
           },
           {
            "bin_start": 1490391360000000000,
            "bin_end": 1503031680000000000,
            "count": 0
           },
           {
            "bin_start": 1503031680000000000,
            "bin_end": 1515672000000000000,
            "count": 0
           },
           {
            "bin_start": 1515672000000000000,
            "bin_end": 1528312320000000000,
            "count": 0
           },
           {
            "bin_start": 1528312320000000000,
            "bin_end": 1540952640000000000,
            "count": 1
           },
           {
            "bin_start": 1540952640000000000,
            "bin_end": 1553592960000000000,
            "count": 1
           },
           {
            "bin_start": 1553592960000000000,
            "bin_end": 1566233280000000000,
            "count": 0
           },
           {
            "bin_start": 1566233280000000000,
            "bin_end": 1578873600000000000,
            "count": 3
           }
          ]
         }
        },
        {
         "name": "_deepnote_index_column",
         "dtype": "int64"
        }
       ],
       "rows_top": [
        {
         "player_name": "Aaron Addison",
         "winner_id": "117357",
         "winner_ht": "-1",
         "winner_age": "19",
         "tourney_date": "2016-10-24 00:00:00",
         "_deepnote_index_column": "31893"
        },
        {
         "player_name": "Aaron Addison",
         "winner_id": "117360",
         "winner_ht": "-1",
         "winner_age": "18",
         "tourney_date": "2016-02-01 00:00:00",
         "_deepnote_index_column": "31893"
        },
        {
         "player_name": "Aaron Addison",
         "winner_id": "102864",
         "winner_ht": "193",
         "winner_age": "-1",
         "tourney_date": "2016-01-11 00:00:00",
         "_deepnote_index_column": "31893"
        },
        {
         "player_name": "Aaron Addison",
         "winner_id": "105429",
         "winner_ht": "-1",
         "winner_age": "26",
         "tourney_date": "2016-10-31 00:00:00",
         "_deepnote_index_column": "31893"
        },
        {
         "player_name": "Aaron Addison",
         "winner_id": "111806",
         "winner_ht": "-1",
         "winner_age": "23",
         "tourney_date": "2020-01-13 00:00:00",
         "_deepnote_index_column": "31893"
        },
        {
         "player_name": "Aaron Addison",
         "winner_id": "105349",
         "winner_ht": "-1",
         "winner_age": "30",
         "tourney_date": "2019-10-21 00:00:00",
         "_deepnote_index_column": "31893"
        },
        {
         "player_name": "Aaron Addison",
         "winner_id": "106172",
         "winner_ht": "-1",
         "winner_age": "25",
         "tourney_date": "2019-01-07 00:00:00",
         "_deepnote_index_column": "31893"
        },
        {
         "player_name": "Aaron Addison",
         "winner_id": "200614",
         "winner_ht": "-1",
         "winner_age": "21",
         "tourney_date": "2019-10-28 00:00:00",
         "_deepnote_index_column": "31893"
        },
        {
         "player_name": "Aaron Addison",
         "winner_id": "200640",
         "winner_ht": "-1",
         "winner_age": "19",
         "tourney_date": "2018-10-22 00:00:00",
         "_deepnote_index_column": "31893"
        }
       ],
       "rows_bottom": null
      },
      "text/plain": "         player_name  winner_id  winner_ht  winner_age tourney_date\n31893  Aaron Addison     117357         -1          19   2016-10-24\n31893  Aaron Addison     117360         -1          18   2016-02-01\n31893  Aaron Addison     102864        193          -1   2016-01-11\n31893  Aaron Addison     105429         -1          26   2016-10-31\n31893  Aaron Addison     111806         -1          23   2020-01-13\n31893  Aaron Addison     105349         -1          30   2019-10-21\n31893  Aaron Addison     106172         -1          25   2019-01-07\n31893  Aaron Addison     200614         -1          21   2019-10-28\n31893  Aaron Addison     200640         -1          19   2018-10-22",
      "text/html": "<div>\n<style scoped>\n    .dataframe tbody tr th:only-of-type {\n        vertical-align: middle;\n    }\n\n    .dataframe tbody tr th {\n        vertical-align: top;\n    }\n\n    .dataframe thead th {\n        text-align: right;\n    }\n</style>\n<table border=\"1\" class=\"dataframe\">\n  <thead>\n    <tr style=\"text-align: right;\">\n      <th></th>\n      <th>player_name</th>\n      <th>winner_id</th>\n      <th>winner_ht</th>\n      <th>winner_age</th>\n      <th>tourney_date</th>\n    </tr>\n  </thead>\n  <tbody>\n    <tr>\n      <th>31893</th>\n      <td>Aaron Addison</td>\n      <td>117357</td>\n      <td>-1</td>\n      <td>19</td>\n      <td>2016-10-24</td>\n    </tr>\n    <tr>\n      <th>31893</th>\n      <td>Aaron Addison</td>\n      <td>117360</td>\n      <td>-1</td>\n      <td>18</td>\n      <td>2016-02-01</td>\n    </tr>\n    <tr>\n      <th>31893</th>\n      <td>Aaron Addison</td>\n      <td>102864</td>\n      <td>193</td>\n      <td>-1</td>\n      <td>2016-01-11</td>\n    </tr>\n    <tr>\n      <th>31893</th>\n      <td>Aaron Addison</td>\n      <td>105429</td>\n      <td>-1</td>\n      <td>26</td>\n      <td>2016-10-31</td>\n    </tr>\n    <tr>\n      <th>31893</th>\n      <td>Aaron Addison</td>\n      <td>111806</td>\n      <td>-1</td>\n      <td>23</td>\n      <td>2020-01-13</td>\n    </tr>\n    <tr>\n      <th>31893</th>\n      <td>Aaron Addison</td>\n      <td>105349</td>\n      <td>-1</td>\n      <td>30</td>\n      <td>2019-10-21</td>\n    </tr>\n    <tr>\n      <th>31893</th>\n      <td>Aaron Addison</td>\n      <td>106172</td>\n      <td>-1</td>\n      <td>25</td>\n      <td>2019-01-07</td>\n    </tr>\n    <tr>\n      <th>31893</th>\n      <td>Aaron Addison</td>\n      <td>200614</td>\n      <td>-1</td>\n      <td>21</td>\n      <td>2019-10-28</td>\n    </tr>\n    <tr>\n      <th>31893</th>\n      <td>Aaron Addison</td>\n      <td>200640</td>\n      <td>-1</td>\n      <td>19</td>\n      <td>2018-10-22</td>\n    </tr>\n  </tbody>\n</table>\n</div>"
     },
     "metadata": {}
    }
   ],
   "execution_count": null
  },
  {
   "cell_type": "markdown",
   "source": "- name\n- hand\n- sex\n- nationality\n\n- win percentage\n- tot match\n- number of won tournment\n\n- year with more matches\n- year with less matches\n- year with more wins\n- year with less wins",
   "metadata": {
    "tags": [],
    "cell_id": "00009-063779da-414d-41b2-bf8e-86943e276433",
    "deepnote_cell_type": "markdown"
   }
  },
  {
   "cell_type": "markdown",
   "source": "Reset the index of both the new data frames",
   "metadata": {
    "tags": [],
    "cell_id": "00011-c41368d2-5f19-412d-a28e-6f81e52ad09b",
    "deepnote_cell_type": "markdown"
   }
  },
  {
   "cell_type": "code",
   "metadata": {
    "tags": [],
    "cell_id": "00010-737acebf-4fbb-46f8-96a8-ccd22656863d",
    "deepnote_to_be_reexecuted": false,
    "source_hash": "5c0bb29e",
    "execution_start": 1636641456399,
    "execution_millis": 11,
    "deepnote_cell_type": "code"
   },
   "source": "df_male_matches.reset_index(drop=True, inplace=True)\ndf_female_matches.reset_index(drop=True, inplace=True)",
   "outputs": [],
   "execution_count": null
  },
  {
   "cell_type": "code",
   "metadata": {
    "tags": [],
    "cell_id": "00010-caf6ceb5-eb96-47e4-8b64-93525701e5cf",
    "deepnote_to_be_reexecuted": false,
    "source_hash": "62717682",
    "execution_start": 1636641682531,
    "execution_millis": 796,
    "deepnote_cell_type": "code"
   },
   "source": "df_player = pd.DataFrame()\n\nlist_of_male_names = df_male_matches['player_name'].unique()\nprint(f\"Lunghezza lista: {len(list_of_male_names)}\")\ndf_player['Name'] = list_of_male_names\ndf_player['Sex'] = 'M'\ni = 0\n\nfor name in list_of_male_names:\n    print(i)\n    i+=1\n    df_player_matches = df_matches[(df_matches['winner_name'] == name) | (df_matches['loser_name'] == name)]\n\n    #player's hand\n    df_h = [x for x in df_player_matches[(df_player_matches['winner_name'] == name) &  (df_player_matches['winner_hand'] != 'U')]['winner_hand']]\n    if len(df_h) > 0:\n        df_player.loc[df_player['Name'] == name, 'Hand'] = df_h[0]\n    else:\n        df_h = [x for x in df_player_matches[(df_player_matches['loser_name'] == name) &  (df_player_matches['loser_hand'] != 'U')]['loser_hand']]\n        if len(df_h) > 0:\n            df_player.loc[df_player['Name'] == name, 'Hand'] = df_h[0]\n        else:\n            df_player.loc[df_player['Name'] == name, 'Hand'] = 'U'\n\n    #player's nationality\n    df_h = [x for x in df_player_matches[(df_player_matches['winner_name'] == name) &  (df_player_matches['winner_ioc'] != None)]['winner_ioc']]\n    if len(df_h) > 0:\n        df_player.loc[df_player['Name'] == name, 'IOC'] = df_h[0]\n    else:\n        df_h = [x for x in df_player_matches[(df_player_matches['loser_name'] == name) &  (df_player_matches['loser_ioc'] != 'U')]['loser_ioc']]\n        if len(df_h) > 0:\n            df_player.loc[df_player['Name'] == name, 'IOC'] = df_h[0]\n        else:\n            df_player.loc[df_player['Name'] == name, 'IOC'] = 'Undefined'\n    \n    df_player.loc[df_player['Name'] == name, 'Won_Tournaments'] = df_player_matches[(df_player_matches['round'] == 'F') & (df_player_matches['winner_name'] == name)].shape[0]\n\n    if df_player_matches.shape[0] != 0:\n        df_player.loc[df_player['Name'] == name, 'Number_of_Matches'] = df_player_matches.shape[0]\n        df_player.loc[df_player['Name'] == name, 'Win_Percentage'] = df_player_matches[df_player_matches['winner_name'] == name].shape[0]/df_player_matches.shape[0]\n    \n    match_per_year = df_male_matches[df_male_matches['player_name']==name]['tourney_date'].groupby(df_male_matches['tourney_date'].dt.year).count()\n    if len(match_per_year) > 0:\n        df_player.loc[df_player['Name'] == name, 'best_year_matches'] = match_per_year.idxmax()\n        df_player.loc[df_player['Name'] == name, 'worst_year_matches'] = match_per_year.idxmin()\n\n    wins_per_year = df_male_matches[df_male_matches['winner_name']==name]['tourney_date'].groupby(df_male_matches['tourney_date'].dt.year).count()\n    if len(wins_per_year) > 0:\n        df_player.loc[df_player['Name'] == name, 'best_year_wins'] = wins_per_year.idxmax()\n        df_player.loc[df_player['Name'] == name, 'worst_year_wins'] = wins_per_year.idxmin()\n\n\n",
   "execution_count": 1,
   "outputs": [
    {
     "output_type": "error",
     "ename": "NameError",
     "evalue": "name 'pd' is not defined",
     "traceback": [
      "\u001b[0;31m---------------------------------------------------------------------------\u001b[0m",
      "\u001b[0;31mNameError\u001b[0m                                 Traceback (most recent call last)",
      "\u001b[0;32m<ipython-input-1-ffd189106f51>\u001b[0m in \u001b[0;36m<module>\u001b[0;34m\u001b[0m\n\u001b[0;32m----> 1\u001b[0;31m \u001b[0mdf_player\u001b[0m \u001b[0;34m=\u001b[0m \u001b[0mpd\u001b[0m\u001b[0;34m.\u001b[0m\u001b[0mDataFrame\u001b[0m\u001b[0;34m(\u001b[0m\u001b[0;34m)\u001b[0m\u001b[0;34m\u001b[0m\u001b[0;34m\u001b[0m\u001b[0m\n\u001b[0m\u001b[1;32m      2\u001b[0m \u001b[0;34m\u001b[0m\u001b[0m\n\u001b[1;32m      3\u001b[0m \u001b[0mlist_of_male_names\u001b[0m \u001b[0;34m=\u001b[0m \u001b[0mdf_male_matches\u001b[0m\u001b[0;34m[\u001b[0m\u001b[0;34m'player_name'\u001b[0m\u001b[0;34m]\u001b[0m\u001b[0;34m.\u001b[0m\u001b[0munique\u001b[0m\u001b[0;34m(\u001b[0m\u001b[0;34m)\u001b[0m\u001b[0;34m\u001b[0m\u001b[0;34m\u001b[0m\u001b[0m\n\u001b[1;32m      4\u001b[0m \u001b[0mprint\u001b[0m\u001b[0;34m(\u001b[0m\u001b[0;34mf\"Lunghezza lista: {len(list_of_male_names)}\"\u001b[0m\u001b[0;34m)\u001b[0m\u001b[0;34m\u001b[0m\u001b[0;34m\u001b[0m\u001b[0m\n\u001b[1;32m      5\u001b[0m \u001b[0mdf_player\u001b[0m\u001b[0;34m[\u001b[0m\u001b[0;34m'Name'\u001b[0m\u001b[0;34m]\u001b[0m \u001b[0;34m=\u001b[0m \u001b[0mlist_of_male_names\u001b[0m\u001b[0;34m\u001b[0m\u001b[0;34m\u001b[0m\u001b[0m\n",
      "\u001b[0;31mNameError\u001b[0m: name 'pd' is not defined"
     ]
    }
   ]
  },
  {
   "cell_type": "code",
   "metadata": {
    "tags": [],
    "cell_id": "00011-4afa4232-064a-4cdd-a825-a1367e5a9f2b",
    "deepnote_to_be_reexecuted": true,
    "source_hash": "64f10b5e",
    "execution_start": 1635951385087,
    "execution_millis": 9,
    "deepnote_cell_type": "code"
   },
   "source": "df_player.to_csv(\"../data/integrations/matches_male_players.csv\", index=False)",
   "execution_count": null,
   "outputs": [
    {
     "output_type": "error",
     "ename": "NameError",
     "evalue": "name 'df_player' is not defined",
     "traceback": [
      "\u001b[0;31m---------------------------------------------------------------------------\u001b[0m",
      "\u001b[0;31mNameError\u001b[0m                                 Traceback (most recent call last)",
      "\u001b[0;32m<ipython-input-10-1e6bdf7ef86b>\u001b[0m in \u001b[0;36m<module>\u001b[0;34m\u001b[0m\n\u001b[0;32m----> 1\u001b[0;31m \u001b[0mdf_player\u001b[0m\u001b[0;34m.\u001b[0m\u001b[0mto_csv\u001b[0m\u001b[0;34m(\u001b[0m\u001b[0;34m\"../data/integrations/matches_male_players.csv\"\u001b[0m\u001b[0;34m,\u001b[0m \u001b[0mindex\u001b[0m\u001b[0;34m=\u001b[0m\u001b[0;32mFalse\u001b[0m\u001b[0;34m)\u001b[0m\u001b[0;34m\u001b[0m\u001b[0;34m\u001b[0m\u001b[0m\n\u001b[0m",
      "\u001b[0;31mNameError\u001b[0m: name 'df_player' is not defined"
     ]
    }
   ]
  },
  {
   "cell_type": "code",
   "metadata": {
    "tags": [],
    "cell_id": "00014-7bf835a8-d128-4929-9189-eef06801cd36",
    "deepnote_to_be_reexecuted": true,
    "source_hash": "840dc89f",
    "execution_start": 1636641549558,
    "execution_millis": 60869,
    "deepnote_cell_type": "code"
   },
   "source": "df_player = pd.DataFrame()\n\nlist_of_female_names = df_female_matches['player_name'].unique()\nprint(list_of_female_names)\ndf_player['Name'] = list_of_female_names\ndf_player['Sex'] = 'F'\ni = 0\n\nfor name in list_of_female_names:\n    \n    df_player_matches = df_matches[(df_matches['winner_name'] == name) | (df_matches['loser_name'] == name)]\n\n    #player's hand\n    df_h = [x for x in df_player_matches[(df_player_matches['winner_name'] == name) &  (df_player_matches['winner_hand'] != 'U')]['winner_hand']]\n    if len(df_h) > 0:\n        df_player.loc[df_player['Name'] == name, 'Hand'] = df_h[0]\n    else:\n        df_h = [x for x in df_player_matches[(df_player_matches['loser_name'] == name) &  (df_player_matches['loser_hand'] != 'U')]['loser_hand']]\n        if len(df_h) > 0:\n            df_player.loc[df_player['Name'] == name, 'Hand'] = df_h[0]\n        else:\n            df_player.loc[df_player['Name'] == name, 'Hand'] = 'U'\n\n    #player's nationality\n    df_h = [x for x in df_player_matches[(df_player_matches['winner_name'] == name) &  (df_player_matches['winner_ioc'] != None)]['winner_ioc']]\n    if len(df_h) > 0:\n        df_player.loc[df_player['Name'] == name, 'IOC'] = df_h[0]\n    else:\n        df_h = [x for x in df_player_matches[(df_player_matches['loser_name'] == name) &  (df_player_matches['loser_ioc'] != 'U')]['loser_ioc']]\n        if len(df_h) > 0:\n            df_player.loc[df_player['Name'] == name, 'IOC'] = df_h[0]\n        else:\n            df_player.loc[df_player['Name'] == name, 'IOC'] = 'Undefined'\n    \n    df_player.loc[df_player['Name'] == name, 'Won_Tournaments'] = df_player_matches[(df_player_matches['round'] == 'F') & (df_player_matches['winner_name'] == name)].shape[0]\n\n    if df_player_matches.shape[0] != 0:\n        df_player.loc[df_player['Name'] == name, 'Number_of_Matches'] = df_player_matches.shape[0]\n        df_player.loc[df_player['Name'] == name, 'Win_Percentage'] = df_player_matches[df_player_matches['winner_name'] == name].shape[0]/df_player_matches.shape[0]\n\n    match_per_year = df_female_matches[df_female_matches['player_name']==name]['tourney_date'].groupby(df_female_matches['tourney_date'].dt.year).count()\n    if len(match_per_year) > 0:\n        df_player.loc[df_player['Name'] == name, 'best_year_matches'] = match_per_year.idxmax()\n        df_player.loc[df_player['Name'] == name, 'worst_year_matches'] = match_per_year.idxmin()\n\n    wins_per_year = df_female_matches[df_female_matches['winner_name']==name]['tourney_date'].groupby(df_female_matches['tourney_date'].dt.year).count()\n    if len(wins_per_year) > 0:\n        df_player.loc[df_player['Name'] == name, 'best_year_wins'] = wins_per_year.idxmax()\n        df_player.loc[df_player['Name'] == name, 'worst_year_wins'] = wins_per_year.idxmin()",
   "outputs": [
    {
     "name": "stdout",
     "text": "['Mirjana Lucic' 'Maureen Drake' 'Serena Williams' ... 'Mariya Vyshkina'\n 'Anna Sharandachenko' 'Mariya Sharandachenko']\n",
     "output_type": "stream"
    },
    {
     "output_type": "error",
     "ename": "KernelInterrupted",
     "evalue": "Execution interrupted by the Jupyter kernel.",
     "traceback": [
      "\u001b[0;31m---------------------------------------------------------------------------\u001b[0m",
      "\u001b[0;31mKernelInterrupted\u001b[0m: Execution interrupted by the Jupyter kernel."
     ]
    }
   ],
   "execution_count": null
  },
  {
   "cell_type": "code",
   "metadata": {
    "tags": [],
    "cell_id": "00015-d3a12d89-52d4-4d02-b84b-20b533315d22",
    "deepnote_to_be_reexecuted": true,
    "source_hash": "3aed383e",
    "execution_start": 1635952253000,
    "execution_millis": 1145,
    "deepnote_cell_type": "code"
   },
   "source": "df_player.to_csv(\"../data/integrations/matches_female_players.csv\", index=False)",
   "execution_count": null,
   "outputs": []
  },
  {
   "cell_type": "markdown",
   "source": "## Start from here",
   "metadata": {
    "tags": [],
    "is_collapsed": false,
    "cell_id": "00017-5c948e59-e010-4b90-92c3-41e2c2bd5006",
    "deepnote_cell_type": "text-cell-h2"
   }
  },
  {
   "cell_type": "code",
   "metadata": {
    "tags": [],
    "cell_id": "00018-657e831e-f023-4f24-854d-c8939e590d97",
    "deepnote_to_be_reexecuted": true,
    "source_hash": "9d69769e",
    "execution_start": 1636388151954,
    "execution_millis": 0,
    "deepnote_cell_type": "code"
   },
   "source": "male_stats = pd.read_csv(\"../data/integrations/matches_male_players.csv\")\nfemale_stats = pd.read_csv(\"../data/integrations/matches_female_players.csv\")",
   "execution_count": null,
   "outputs": []
  },
  {
   "cell_type": "markdown",
   "source": "Idee:\n\n- Dividere le statistiche dei player in base al tipo di surface dove giocano, come fatto nel sito https://www.atptour.com/en/players/novak-djokovic/d643/player-stats\n- Fare un'analisi separata maschi/femmine e poi confrontarla con le performance che ci sono nei tornei misti (se ne troviamo)\n\n",
   "metadata": {
    "tags": [],
    "cell_id": "00018-3d32f8d5-8544-48c0-9aa9-54cbd0e65a01",
    "deepnote_cell_type": "markdown"
   }
  },
  {
   "cell_type": "markdown",
   "source": "### Dataframe Player_game__statistics",
   "metadata": {
    "tags": [],
    "cell_id": "00019-9fd87dc3-507c-4576-a2b0-f91a5c78ca4d",
    "deepnote_cell_type": "markdown"
   }
  },
  {
   "cell_type": "markdown",
   "source": "- % ace per punto al servizio\n- % breakpoint salvati",
   "metadata": {
    "tags": [],
    "cell_id": "00020-e8be24c4-c441-4c7c-9550-a10a73a081af",
    "deepnote_cell_type": "markdown"
   }
  },
  {
   "cell_type": "markdown",
   "source": "### Dataframe TOP Player",
   "metadata": {
    "tags": [],
    "cell_id": "00020-a694259f-b493-4f12-ad9f-cdd3badb785f",
    "deepnote_cell_type": "markdown"
   }
  },
  {
   "cell_type": "code",
   "metadata": {
    "tags": [],
    "cell_id": "00021-08153fed-5681-47bb-9193-f880618ec1c1",
    "deepnote_to_be_reexecuted": true,
    "source_hash": "ec3d309b",
    "execution_start": 1636388154824,
    "execution_millis": 3,
    "deepnote_cell_type": "code"
   },
   "source": "TOP = 50",
   "execution_count": null,
   "outputs": []
  },
  {
   "cell_type": "code",
   "metadata": {
    "tags": [],
    "cell_id": "00022-52db823c-f2bc-4c0e-bd28-7628b9109a8f",
    "deepnote_to_be_reexecuted": true,
    "source_hash": "802527c6",
    "execution_start": 1636388156700,
    "execution_millis": 2,
    "deepnote_cell_type": "code"
   },
   "source": "#Input:\n# - df, the dataframe you want to work on\n# - attr, the attribute you want to sum row by row\n# - group_by, the attribute used to group the dataframe before summing (Here we sum rows with the same \"group_by\" value)\n# - top_list, this other dataframe is left joined with df to restrict its result only to the top_list\n# - top_list_attr, it's needed in the join function to know how's called the attribute\n\ndef top_players_feature(df, attr, group_by, top_list, top_list_attr):\n    #count \n    tmp = pd.DataFrame(df[df[attr]>=0].groupby(group_by, as_index=False)[attr].sum())\n    #intersection with top_list\n    tmp = top_list.join(tmp.set_index(group_by), on=top_list_attr, how='left')\n    \n    return tmp\n\n#Function to generate the sum of a column, with a condition, grouped by the attribute given in input\n\ndef sum_by_surface(df, attr, group_by, top_list, top_list_attr):\n    #count \n    tmp = pd.DataFrame(df[df[attr]>=0].groupby([group_by, 'surface'], as_index=False)[attr].sum())\n    #intersection with top_list\n    tmp = top_list.join(tmp.set_index(group_by), on=top_list_attr, how='left')\n    \n    return [tmp[tmp['surface'] == 'Clay'], tmp[tmp['surface'] == 'Grass'], tmp[tmp['surface'] == 'Hard'], tmp[tmp['surface'] == 'Carpet']]",
   "execution_count": null,
   "outputs": []
  },
  {
   "cell_type": "code",
   "metadata": {
    "tags": [],
    "cell_id": "00020-ab9171f0-b7cd-42f6-af9a-de57b12d6274",
    "deepnote_to_be_reexecuted": true,
    "source_hash": "f1998245",
    "execution_start": 1636387480532,
    "execution_millis": 756,
    "deepnote_cell_type": "code"
   },
   "source": "# take the top players according to number of won tournament\ndf_top_male_players = pd.DataFrame(male_stats.sort_values(by='Won_Tournaments', ascending=False).head(TOP)['Name'])\n\n#iterating for every player\n#for name,index in df_top_male_players.iterrows():\n#df_matches.groupby('winner_name').count()['w_ace'] \n\ndf_top_male_player_matches_win = df_matches.join(df_top_male_players.set_index('Name'), on='winner_name', how='inner') #Ci sono partite in cui i winner sono loser e non vengono considerate\ndf_top_male_player_matches_los = df_matches.join(df_top_male_players.set_index('Name'), on='loser_name', how='inner') #Ci sono partite in cui i winner sono loser e non vengono considerate\ndf_top_male_player_matches  = pd.concat([df_top_male_player_matches_win, df_top_male_player_matches_los])\n#df_top_male_players['w_ace'] = sum_by_condition(df_top_male_player_matches, 'w_ace', 'winner_name', df_top_male_players, 'Name')['w_ace']\n# Ciclo for su lista di attributi che chiama sum_by_condition\n\nattrs = ['w_ace', 'w_df', 'w_svpt', 'w_1stIn', 'w_1stWon', 'w_2ndWon', 'w_SvGms', 'w_bpSaved', 'w_bpFaced']\n\nfor attr in attrs:\n    #df_top_male_players[attr] = top_players_feature(df_top_male_player_matches, attr, 'winner_name', df_top_male_players, 'Name')[attr]\n    result = sum_by_surface(df_top_male_player_matches, attr, 'winner_name', df_top_male_players, 'Name')\n    df_top_male_players[attr + '_clay'] = result[0][attr]\n    df_top_male_players[attr + '_clay'].fillna(0, inplace=True)\n    df_top_male_players[attr + '_grass'] = result[1][attr]\n    df_top_male_players[attr + '_grass'].fillna(0, inplace=True)\n    df_top_male_players[attr + '_hard'] = result[2][attr]\n    df_top_male_players[attr + '_hard'].fillna(0, inplace=True)\n    df_top_male_players[attr + '_carpet'] = result[2][attr]\n    df_top_male_players[attr + '_carpet'].fillna(0, inplace=True)\n\ndf_top_male_players",
   "execution_count": null,
   "outputs": [
    {
     "output_type": "execute_result",
     "execution_count": 9,
     "data": {
      "application/vnd.deepnote.dataframe.v2+json": {
       "row_count": 50,
       "column_count": 37,
       "columns": [
        {
         "name": "Name",
         "dtype": "object",
         "stats": {
          "unique_count": 50,
          "nan_count": 0,
          "categories": [
           {
            "name": "Novak Djokovic",
            "count": 1
           },
           {
            "name": "Rafael Nadal",
            "count": 1
           },
           {
            "name": "48 others",
            "count": 48
           }
          ]
         }
        },
        {
         "name": "w_ace_clay",
         "dtype": "float64",
         "stats": {
          "unique_count": 45,
          "nan_count": 0,
          "min": "0.0",
          "max": "581.0",
          "histogram": [
           {
            "bin_start": 0,
            "bin_end": 58.1,
            "count": 13
           },
           {
            "bin_start": 58.1,
            "bin_end": 116.2,
            "count": 9
           },
           {
            "bin_start": 116.2,
            "bin_end": 174.3,
            "count": 5
           },
           {
            "bin_start": 174.3,
            "bin_end": 232.4,
            "count": 4
           },
           {
            "bin_start": 232.4,
            "bin_end": 290.5,
            "count": 7
           },
           {
            "bin_start": 290.5,
            "bin_end": 348.6,
            "count": 6
           },
           {
            "bin_start": 348.6,
            "bin_end": 406.7,
            "count": 3
           },
           {
            "bin_start": 406.7,
            "bin_end": 464.8,
            "count": 1
           },
           {
            "bin_start": 464.8,
            "bin_end": 522.9,
            "count": 1
           },
           {
            "bin_start": 522.9,
            "bin_end": 581,
            "count": 1
           }
          ]
         }
        },
        {
         "name": "w_ace_grass",
         "dtype": "float64",
         "stats": {
          "unique_count": 27,
          "nan_count": 0,
          "min": "0.0",
          "max": "115.0",
          "histogram": [
           {
            "bin_start": 0,
            "bin_end": 11.5,
            "count": 24
           },
           {
            "bin_start": 11.5,
            "bin_end": 23,
            "count": 8
           },
           {
            "bin_start": 23,
            "bin_end": 34.5,
            "count": 4
           },
           {
            "bin_start": 34.5,
            "bin_end": 46,
            "count": 6
           },
           {
            "bin_start": 46,
            "bin_end": 57.5,
            "count": 0
           },
           {
            "bin_start": 57.5,
            "bin_end": 69,
            "count": 0
           },
           {
            "bin_start": 69,
            "bin_end": 80.5,
            "count": 2
           },
           {
            "bin_start": 80.5,
            "bin_end": 92,
            "count": 1
           },
           {
            "bin_start": 92,
            "bin_end": 103.5,
            "count": 1
           },
           {
            "bin_start": 103.5,
            "bin_end": 115,
            "count": 4
           }
          ]
         }
        },
        {
         "name": "w_ace_hard",
         "dtype": "float64",
         "stats": {
          "unique_count": 47,
          "nan_count": 0,
          "min": "4.0",
          "max": "460.0",
          "histogram": [
           {
            "bin_start": 4,
            "bin_end": 49.6,
            "count": 11
           },
           {
            "bin_start": 49.6,
            "bin_end": 95.2,
            "count": 3
           },
           {
            "bin_start": 95.2,
            "bin_end": 140.8,
            "count": 6
           },
           {
            "bin_start": 140.8,
            "bin_end": 186.4,
            "count": 5
           },
           {
            "bin_start": 186.4,
            "bin_end": 232,
            "count": 1
           },
           {
            "bin_start": 232,
            "bin_end": 277.6,
            "count": 7
           },
           {
            "bin_start": 277.6,
            "bin_end": 323.2,
            "count": 6
           },
           {
            "bin_start": 323.2,
            "bin_end": 368.8,
            "count": 2
           },
           {
            "bin_start": 368.8,
            "bin_end": 414.40000000000003,
            "count": 5
           },
           {
            "bin_start": 414.40000000000003,
            "bin_end": 460,
            "count": 4
           }
          ]
         }
        },
        {
         "name": "w_ace_carpet",
         "dtype": "float64",
         "stats": {
          "unique_count": 47,
          "nan_count": 0,
          "min": "4.0",
          "max": "460.0",
          "histogram": [
           {
            "bin_start": 4,
            "bin_end": 49.6,
            "count": 11
           },
           {
            "bin_start": 49.6,
            "bin_end": 95.2,
            "count": 3
           },
           {
            "bin_start": 95.2,
            "bin_end": 140.8,
            "count": 6
           },
           {
            "bin_start": 140.8,
            "bin_end": 186.4,
            "count": 5
           },
           {
            "bin_start": 186.4,
            "bin_end": 232,
            "count": 1
           },
           {
            "bin_start": 232,
            "bin_end": 277.6,
            "count": 7
           },
           {
            "bin_start": 277.6,
            "bin_end": 323.2,
            "count": 6
           },
           {
            "bin_start": 323.2,
            "bin_end": 368.8,
            "count": 2
           },
           {
            "bin_start": 368.8,
            "bin_end": 414.40000000000003,
            "count": 5
           },
           {
            "bin_start": 414.40000000000003,
            "bin_end": 460,
            "count": 4
           }
          ]
         }
        },
        {
         "name": "w_df_clay",
         "dtype": "float64",
         "stats": {
          "unique_count": 44,
          "nan_count": 0,
          "min": "0.0",
          "max": "724.0",
          "histogram": [
           {
            "bin_start": 0,
            "bin_end": 72.4,
            "count": 11
           },
           {
            "bin_start": 72.4,
            "bin_end": 144.8,
            "count": 16
           },
           {
            "bin_start": 144.8,
            "bin_end": 217.20000000000002,
            "count": 4
           },
           {
            "bin_start": 217.20000000000002,
            "bin_end": 289.6,
            "count": 6
           },
           {
            "bin_start": 289.6,
            "bin_end": 362,
            "count": 6
           },
           {
            "bin_start": 362,
            "bin_end": 434.40000000000003,
            "count": 4
           },
           {
            "bin_start": 434.40000000000003,
            "bin_end": 506.80000000000007,
            "count": 2
           },
           {
            "bin_start": 506.80000000000007,
            "bin_end": 579.2,
            "count": 0
           },
           {
            "bin_start": 579.2,
            "bin_end": 651.6,
            "count": 0
           },
           {
            "bin_start": 651.6,
            "bin_end": 724,
            "count": 1
           }
          ]
         }
        },
        {
         "name": "w_df_grass",
         "dtype": "float64",
         "stats": {
          "unique_count": 37,
          "nan_count": 0,
          "min": "0.0",
          "max": "147.0",
          "histogram": [
           {
            "bin_start": 0,
            "bin_end": 14.7,
            "count": 16
           },
           {
            "bin_start": 14.7,
            "bin_end": 29.4,
            "count": 7
           },
           {
            "bin_start": 29.4,
            "bin_end": 44.099999999999994,
            "count": 7
           },
           {
            "bin_start": 44.099999999999994,
            "bin_end": 58.8,
            "count": 4
           },
           {
            "bin_start": 58.8,
            "bin_end": 73.5,
            "count": 5
           },
           {
            "bin_start": 73.5,
            "bin_end": 88.19999999999999,
            "count": 4
           },
           {
            "bin_start": 88.19999999999999,
            "bin_end": 102.89999999999999,
            "count": 1
           },
           {
            "bin_start": 102.89999999999999,
            "bin_end": 117.6,
            "count": 3
           },
           {
            "bin_start": 117.6,
            "bin_end": 132.29999999999998,
            "count": 1
           },
           {
            "bin_start": 132.29999999999998,
            "bin_end": 147,
            "count": 2
           }
          ]
         }
        },
        {
         "name": "w_df_hard",
         "dtype": "float64",
         "stats": {
          "unique_count": 47,
          "nan_count": 0,
          "min": "9.0",
          "max": "952.0",
          "histogram": [
           {
            "bin_start": 9,
            "bin_end": 103.3,
            "count": 10
           },
           {
            "bin_start": 103.3,
            "bin_end": 197.6,
            "count": 8
           },
           {
            "bin_start": 197.6,
            "bin_end": 291.9,
            "count": 8
           },
           {
            "bin_start": 291.9,
            "bin_end": 386.2,
            "count": 13
           },
           {
            "bin_start": 386.2,
            "bin_end": 480.5,
            "count": 4
           },
           {
            "bin_start": 480.5,
            "bin_end": 574.8,
            "count": 4
           },
           {
            "bin_start": 574.8,
            "bin_end": 669.1,
            "count": 0
           },
           {
            "bin_start": 669.1,
            "bin_end": 763.4,
            "count": 0
           },
           {
            "bin_start": 763.4,
            "bin_end": 857.6999999999999,
            "count": 2
           },
           {
            "bin_start": 857.6999999999999,
            "bin_end": 952,
            "count": 1
           }
          ]
         }
        },
        {
         "name": "w_df_carpet",
         "dtype": "float64",
         "stats": {
          "unique_count": 47,
          "nan_count": 0,
          "min": "9.0",
          "max": "952.0",
          "histogram": [
           {
            "bin_start": 9,
            "bin_end": 103.3,
            "count": 10
           },
           {
            "bin_start": 103.3,
            "bin_end": 197.6,
            "count": 8
           },
           {
            "bin_start": 197.6,
            "bin_end": 291.9,
            "count": 8
           },
           {
            "bin_start": 291.9,
            "bin_end": 386.2,
            "count": 13
           },
           {
            "bin_start": 386.2,
            "bin_end": 480.5,
            "count": 4
           },
           {
            "bin_start": 480.5,
            "bin_end": 574.8,
            "count": 4
           },
           {
            "bin_start": 574.8,
            "bin_end": 669.1,
            "count": 0
           },
           {
            "bin_start": 669.1,
            "bin_end": 763.4,
            "count": 0
           },
           {
            "bin_start": 763.4,
            "bin_end": 857.6999999999999,
            "count": 2
           },
           {
            "bin_start": 857.6999999999999,
            "bin_end": 952,
            "count": 1
           }
          ]
         }
        },
        {
         "name": "w_svpt_clay",
         "dtype": "float64",
         "stats": {
          "unique_count": 50,
          "nan_count": 0,
          "min": "0.0",
          "max": "15625.0",
          "histogram": [
           {
            "bin_start": 0,
            "bin_end": 1562.5,
            "count": 7
           },
           {
            "bin_start": 1562.5,
            "bin_end": 3125,
            "count": 12
           },
           {
            "bin_start": 3125,
            "bin_end": 4687.5,
            "count": 5
           },
           {
            "bin_start": 4687.5,
            "bin_end": 6250,
            "count": 4
           },
           {
            "bin_start": 6250,
            "bin_end": 7812.5,
            "count": 6
           },
           {
            "bin_start": 7812.5,
            "bin_end": 9375,
            "count": 5
           },
           {
            "bin_start": 9375,
            "bin_end": 10937.5,
            "count": 5
           },
           {
            "bin_start": 10937.5,
            "bin_end": 12500,
            "count": 3
           },
           {
            "bin_start": 12500,
            "bin_end": 14062.5,
            "count": 1
           },
           {
            "bin_start": 14062.5,
            "bin_end": 15625,
            "count": 2
           }
          ]
         }
        },
        {
         "name": "w_svpt_grass",
         "dtype": "float64",
         "stats": {
          "unique_count": 46,
          "nan_count": 0,
          "min": "0.0",
          "max": "4781.0",
          "histogram": [
           {
            "bin_start": 0,
            "bin_end": 478.1,
            "count": 17
           },
           {
            "bin_start": 478.1,
            "bin_end": 956.2,
            "count": 4
           },
           {
            "bin_start": 956.2,
            "bin_end": 1434.3000000000002,
            "count": 11
           },
           {
            "bin_start": 1434.3000000000002,
            "bin_end": 1912.4,
            "count": 2
           },
           {
            "bin_start": 1912.4,
            "bin_end": 2390.5,
            "count": 6
           },
           {
            "bin_start": 2390.5,
            "bin_end": 2868.6000000000004,
            "count": 5
           },
           {
            "bin_start": 2868.6000000000004,
            "bin_end": 3346.7000000000003,
            "count": 2
           },
           {
            "bin_start": 3346.7000000000003,
            "bin_end": 3824.8,
            "count": 0
           },
           {
            "bin_start": 3824.8,
            "bin_end": 4302.900000000001,
            "count": 2
           },
           {
            "bin_start": 4302.900000000001,
            "bin_end": 4781,
            "count": 1
           }
          ]
         }
        },
        {
         "name": "w_svpt_hard",
         "dtype": "float64",
         "stats": {
          "unique_count": 50,
          "nan_count": 0,
          "min": "215.0",
          "max": "17821.0",
          "histogram": [
           {
            "bin_start": 215,
            "bin_end": 1975.6,
            "count": 8
           },
           {
            "bin_start": 1975.6,
            "bin_end": 3736.2,
            "count": 4
           },
           {
            "bin_start": 3736.2,
            "bin_end": 5496.799999999999,
            "count": 4
           },
           {
            "bin_start": 5496.799999999999,
            "bin_end": 7257.4,
            "count": 2
           },
           {
            "bin_start": 7257.4,
            "bin_end": 9018,
            "count": 10
           },
           {
            "bin_start": 9018,
            "bin_end": 10778.599999999999,
            "count": 8
           },
           {
            "bin_start": 10778.599999999999,
            "bin_end": 12539.199999999999,
            "count": 6
           },
           {
            "bin_start": 12539.199999999999,
            "bin_end": 14299.8,
            "count": 3
           },
           {
            "bin_start": 14299.8,
            "bin_end": 16060.4,
            "count": 4
           },
           {
            "bin_start": 16060.4,
            "bin_end": 17821,
            "count": 1
           }
          ]
         }
        },
        {
         "name": "w_svpt_carpet",
         "dtype": "float64",
         "stats": {
          "unique_count": 50,
          "nan_count": 0,
          "min": "215.0",
          "max": "17821.0",
          "histogram": [
           {
            "bin_start": 215,
            "bin_end": 1975.6,
            "count": 8
           },
           {
            "bin_start": 1975.6,
            "bin_end": 3736.2,
            "count": 4
           },
           {
            "bin_start": 3736.2,
            "bin_end": 5496.799999999999,
            "count": 4
           },
           {
            "bin_start": 5496.799999999999,
            "bin_end": 7257.4,
            "count": 2
           },
           {
            "bin_start": 7257.4,
            "bin_end": 9018,
            "count": 10
           },
           {
            "bin_start": 9018,
            "bin_end": 10778.599999999999,
            "count": 8
           },
           {
            "bin_start": 10778.599999999999,
            "bin_end": 12539.199999999999,
            "count": 6
           },
           {
            "bin_start": 12539.199999999999,
            "bin_end": 14299.8,
            "count": 3
           },
           {
            "bin_start": 14299.8,
            "bin_end": 16060.4,
            "count": 4
           },
           {
            "bin_start": 16060.4,
            "bin_end": 17821,
            "count": 1
           }
          ]
         }
        },
        {
         "name": "w_1stIn_clay",
         "dtype": "float64",
         "stats": {
          "unique_count": 50,
          "nan_count": 0,
          "min": "0.0",
          "max": "9629.0",
          "histogram": [
           {
            "bin_start": 0,
            "bin_end": 962.9,
            "count": 6
           },
           {
            "bin_start": 962.9,
            "bin_end": 1925.8,
            "count": 13
           },
           {
            "bin_start": 1925.8,
            "bin_end": 2888.7,
            "count": 4
           },
           {
            "bin_start": 2888.7,
            "bin_end": 3851.6,
            "count": 5
           },
           {
            "bin_start": 3851.6,
            "bin_end": 4814.5,
            "count": 5
           },
           {
            "bin_start": 4814.5,
            "bin_end": 5777.4,
            "count": 6
           },
           {
            "bin_start": 5777.4,
            "bin_end": 6740.3,
            "count": 3
           },
           {
            "bin_start": 6740.3,
            "bin_end": 7703.2,
            "count": 3
           },
           {
            "bin_start": 7703.2,
            "bin_end": 8666.1,
            "count": 2
           },
           {
            "bin_start": 8666.1,
            "bin_end": 9629,
            "count": 3
           }
          ]
         }
        },
        {
         "name": "w_1stIn_grass",
         "dtype": "float64",
         "stats": {
          "unique_count": 45,
          "nan_count": 0,
          "min": "0.0",
          "max": "3122.0",
          "histogram": [
           {
            "bin_start": 0,
            "bin_end": 312.2,
            "count": 17
           },
           {
            "bin_start": 312.2,
            "bin_end": 624.4,
            "count": 4
           },
           {
            "bin_start": 624.4,
            "bin_end": 936.5999999999999,
            "count": 11
           },
           {
            "bin_start": 936.5999999999999,
            "bin_end": 1248.8,
            "count": 2
           },
           {
            "bin_start": 1248.8,
            "bin_end": 1561,
            "count": 5
           },
           {
            "bin_start": 1561,
            "bin_end": 1873.1999999999998,
            "count": 7
           },
           {
            "bin_start": 1873.1999999999998,
            "bin_end": 2185.4,
            "count": 1
           },
           {
            "bin_start": 2185.4,
            "bin_end": 2497.6,
            "count": 0
           },
           {
            "bin_start": 2497.6,
            "bin_end": 2809.7999999999997,
            "count": 2
           },
           {
            "bin_start": 2809.7999999999997,
            "bin_end": 3122,
            "count": 1
           }
          ]
         }
        },
        {
         "name": "w_1stIn_hard",
         "dtype": "float64",
         "stats": {
          "unique_count": 49,
          "nan_count": 0,
          "min": "138.0",
          "max": "10680.0",
          "histogram": [
           {
            "bin_start": 138,
            "bin_end": 1192.2,
            "count": 8
           },
           {
            "bin_start": 1192.2,
            "bin_end": 2246.4,
            "count": 4
           },
           {
            "bin_start": 2246.4,
            "bin_end": 3300.6000000000004,
            "count": 4
           },
           {
            "bin_start": 3300.6000000000004,
            "bin_end": 4354.8,
            "count": 1
           },
           {
            "bin_start": 4354.8,
            "bin_end": 5409,
            "count": 9
           },
           {
            "bin_start": 5409,
            "bin_end": 6463.200000000001,
            "count": 6
           },
           {
            "bin_start": 6463.200000000001,
            "bin_end": 7517.400000000001,
            "count": 9
           },
           {
            "bin_start": 7517.400000000001,
            "bin_end": 8571.6,
            "count": 4
           },
           {
            "bin_start": 8571.6,
            "bin_end": 9625.800000000001,
            "count": 2
           },
           {
            "bin_start": 9625.800000000001,
            "bin_end": 10680,
            "count": 3
           }
          ]
         }
        },
        {
         "name": "w_1stIn_carpet",
         "dtype": "float64",
         "stats": {
          "unique_count": 49,
          "nan_count": 0,
          "min": "138.0",
          "max": "10680.0",
          "histogram": [
           {
            "bin_start": 138,
            "bin_end": 1192.2,
            "count": 8
           },
           {
            "bin_start": 1192.2,
            "bin_end": 2246.4,
            "count": 4
           },
           {
            "bin_start": 2246.4,
            "bin_end": 3300.6000000000004,
            "count": 4
           },
           {
            "bin_start": 3300.6000000000004,
            "bin_end": 4354.8,
            "count": 1
           },
           {
            "bin_start": 4354.8,
            "bin_end": 5409,
            "count": 9
           },
           {
            "bin_start": 5409,
            "bin_end": 6463.200000000001,
            "count": 6
           },
           {
            "bin_start": 6463.200000000001,
            "bin_end": 7517.400000000001,
            "count": 9
           },
           {
            "bin_start": 7517.400000000001,
            "bin_end": 8571.6,
            "count": 4
           },
           {
            "bin_start": 8571.6,
            "bin_end": 9625.800000000001,
            "count": 2
           },
           {
            "bin_start": 9625.800000000001,
            "bin_end": 10680,
            "count": 3
           }
          ]
         }
        },
        {
         "name": "w_1stWon_clay",
         "dtype": "float64",
         "stats": {
          "unique_count": 50,
          "nan_count": 0,
          "min": "0.0",
          "max": "6935.0",
          "histogram": [
           {
            "bin_start": 0,
            "bin_end": 693.5,
            "count": 6
           },
           {
            "bin_start": 693.5,
            "bin_end": 1387,
            "count": 13
           },
           {
            "bin_start": 1387,
            "bin_end": 2080.5,
            "count": 4
           },
           {
            "bin_start": 2080.5,
            "bin_end": 2774,
            "count": 5
           },
           {
            "bin_start": 2774,
            "bin_end": 3467.5,
            "count": 5
           },
           {
            "bin_start": 3467.5,
            "bin_end": 4161,
            "count": 4
           },
           {
            "bin_start": 4161,
            "bin_end": 4854.5,
            "count": 5
           },
           {
            "bin_start": 4854.5,
            "bin_end": 5548,
            "count": 4
           },
           {
            "bin_start": 5548,
            "bin_end": 6241.5,
            "count": 1
           },
           {
            "bin_start": 6241.5,
            "bin_end": 6935,
            "count": 3
           }
          ]
         }
        },
        {
         "name": "w_1stWon_grass",
         "dtype": "float64",
         "stats": {
          "unique_count": 44,
          "nan_count": 0,
          "min": "0.0",
          "max": "2551.0",
          "histogram": [
           {
            "bin_start": 0,
            "bin_end": 255.1,
            "count": 17
           },
           {
            "bin_start": 255.1,
            "bin_end": 510.2,
            "count": 7
           },
           {
            "bin_start": 510.2,
            "bin_end": 765.3,
            "count": 9
           },
           {
            "bin_start": 765.3,
            "bin_end": 1020.4,
            "count": 1
           },
           {
            "bin_start": 1020.4,
            "bin_end": 1275.5,
            "count": 7
           },
           {
            "bin_start": 1275.5,
            "bin_end": 1530.6,
            "count": 5
           },
           {
            "bin_start": 1530.6,
            "bin_end": 1785.7,
            "count": 1
           },
           {
            "bin_start": 1785.7,
            "bin_end": 2040.8,
            "count": 1
           },
           {
            "bin_start": 2040.8,
            "bin_end": 2295.9,
            "count": 1
           },
           {
            "bin_start": 2295.9,
            "bin_end": 2551,
            "count": 1
           }
          ]
         }
        },
        {
         "name": "w_1stWon_hard",
         "dtype": "float64",
         "stats": {
          "unique_count": 50,
          "nan_count": 0,
          "min": "100.0",
          "max": "8455.0",
          "histogram": [
           {
            "bin_start": 100,
            "bin_end": 935.5,
            "count": 8
           },
           {
            "bin_start": 935.5,
            "bin_end": 1771,
            "count": 4
           },
           {
            "bin_start": 1771,
            "bin_end": 2606.5,
            "count": 4
           },
           {
            "bin_start": 2606.5,
            "bin_end": 3442,
            "count": 1
           },
           {
            "bin_start": 3442,
            "bin_end": 4277.5,
            "count": 11
           },
           {
            "bin_start": 4277.5,
            "bin_end": 5113,
            "count": 9
           },
           {
            "bin_start": 5113,
            "bin_end": 5948.5,
            "count": 4
           },
           {
            "bin_start": 5948.5,
            "bin_end": 6784,
            "count": 4
           },
           {
            "bin_start": 6784,
            "bin_end": 7619.5,
            "count": 2
           },
           {
            "bin_start": 7619.5,
            "bin_end": 8455,
            "count": 3
           }
          ]
         }
        },
        {
         "name": "w_1stWon_carpet",
         "dtype": "float64",
         "stats": {
          "unique_count": 50,
          "nan_count": 0,
          "min": "100.0",
          "max": "8455.0",
          "histogram": [
           {
            "bin_start": 100,
            "bin_end": 935.5,
            "count": 8
           },
           {
            "bin_start": 935.5,
            "bin_end": 1771,
            "count": 4
           },
           {
            "bin_start": 1771,
            "bin_end": 2606.5,
            "count": 4
           },
           {
            "bin_start": 2606.5,
            "bin_end": 3442,
            "count": 1
           },
           {
            "bin_start": 3442,
            "bin_end": 4277.5,
            "count": 11
           },
           {
            "bin_start": 4277.5,
            "bin_end": 5113,
            "count": 9
           },
           {
            "bin_start": 5113,
            "bin_end": 5948.5,
            "count": 4
           },
           {
            "bin_start": 5948.5,
            "bin_end": 6784,
            "count": 4
           },
           {
            "bin_start": 6784,
            "bin_end": 7619.5,
            "count": 2
           },
           {
            "bin_start": 7619.5,
            "bin_end": 8455,
            "count": 3
           }
          ]
         }
        },
        {
         "name": "w_2ndWon_clay",
         "dtype": "float64",
         "stats": {
          "unique_count": 49,
          "nan_count": 0,
          "min": "0.0",
          "max": "3475.0",
          "histogram": [
           {
            "bin_start": 0,
            "bin_end": 347.5,
            "count": 6
           },
           {
            "bin_start": 347.5,
            "bin_end": 695,
            "count": 14
           },
           {
            "bin_start": 695,
            "bin_end": 1042.5,
            "count": 5
           },
           {
            "bin_start": 1042.5,
            "bin_end": 1390,
            "count": 7
           },
           {
            "bin_start": 1390,
            "bin_end": 1737.5,
            "count": 5
           },
           {
            "bin_start": 1737.5,
            "bin_end": 2085,
            "count": 5
           },
           {
            "bin_start": 2085,
            "bin_end": 2432.5,
            "count": 3
           },
           {
            "bin_start": 2432.5,
            "bin_end": 2780,
            "count": 4
           },
           {
            "bin_start": 2780,
            "bin_end": 3127.5,
            "count": 0
           },
           {
            "bin_start": 3127.5,
            "bin_end": 3475,
            "count": 1
           }
          ]
         }
        },
        {
         "name": "w_2ndWon_grass",
         "dtype": "float64",
         "stats": {
          "unique_count": 45,
          "nan_count": 0,
          "min": "0.0",
          "max": "1030.0",
          "histogram": [
           {
            "bin_start": 0,
            "bin_end": 103,
            "count": 17
           },
           {
            "bin_start": 103,
            "bin_end": 206,
            "count": 5
           },
           {
            "bin_start": 206,
            "bin_end": 309,
            "count": 9
           },
           {
            "bin_start": 309,
            "bin_end": 412,
            "count": 7
           },
           {
            "bin_start": 412,
            "bin_end": 515,
            "count": 4
           },
           {
            "bin_start": 515,
            "bin_end": 618,
            "count": 3
           },
           {
            "bin_start": 618,
            "bin_end": 721,
            "count": 2
           },
           {
            "bin_start": 721,
            "bin_end": 824,
            "count": 1
           },
           {
            "bin_start": 824,
            "bin_end": 927,
            "count": 1
           },
           {
            "bin_start": 927,
            "bin_end": 1030,
            "count": 1
           }
          ]
         }
        },
        {
         "name": "w_2ndWon_hard",
         "dtype": "float64",
         "stats": {
          "unique_count": 48,
          "nan_count": 0,
          "min": "45.0",
          "max": "3904.0",
          "histogram": [
           {
            "bin_start": 45,
            "bin_end": 430.9,
            "count": 8
           },
           {
            "bin_start": 430.9,
            "bin_end": 816.8,
            "count": 4
           },
           {
            "bin_start": 816.8,
            "bin_end": 1202.6999999999998,
            "count": 5
           },
           {
            "bin_start": 1202.6999999999998,
            "bin_end": 1588.6,
            "count": 1
           },
           {
            "bin_start": 1588.6,
            "bin_end": 1974.5,
            "count": 8
           },
           {
            "bin_start": 1974.5,
            "bin_end": 2360.3999999999996,
            "count": 12
           },
           {
            "bin_start": 2360.3999999999996,
            "bin_end": 2746.2999999999997,
            "count": 6
           },
           {
            "bin_start": 2746.2999999999997,
            "bin_end": 3132.2,
            "count": 3
           },
           {
            "bin_start": 3132.2,
            "bin_end": 3518.1,
            "count": 2
           },
           {
            "bin_start": 3518.1,
            "bin_end": 3904,
            "count": 1
           }
          ]
         }
        },
        {
         "name": "w_2ndWon_carpet",
         "dtype": "float64",
         "stats": {
          "unique_count": 48,
          "nan_count": 0,
          "min": "45.0",
          "max": "3904.0",
          "histogram": [
           {
            "bin_start": 45,
            "bin_end": 430.9,
            "count": 8
           },
           {
            "bin_start": 430.9,
            "bin_end": 816.8,
            "count": 4
           },
           {
            "bin_start": 816.8,
            "bin_end": 1202.6999999999998,
            "count": 5
           },
           {
            "bin_start": 1202.6999999999998,
            "bin_end": 1588.6,
            "count": 1
           },
           {
            "bin_start": 1588.6,
            "bin_end": 1974.5,
            "count": 8
           },
           {
            "bin_start": 1974.5,
            "bin_end": 2360.3999999999996,
            "count": 12
           },
           {
            "bin_start": 2360.3999999999996,
            "bin_end": 2746.2999999999997,
            "count": 6
           },
           {
            "bin_start": 2746.2999999999997,
            "bin_end": 3132.2,
            "count": 3
           },
           {
            "bin_start": 3132.2,
            "bin_end": 3518.1,
            "count": 2
           },
           {
            "bin_start": 3518.1,
            "bin_end": 3904,
            "count": 1
           }
          ]
         }
        },
        {
         "name": "w_SvGms_clay",
         "dtype": "float64",
         "stats": {
          "unique_count": 50,
          "nan_count": 0,
          "min": "0.0",
          "max": "2515.0",
          "histogram": [
           {
            "bin_start": 0,
            "bin_end": 251.5,
            "count": 7
           },
           {
            "bin_start": 251.5,
            "bin_end": 503,
            "count": 12
           },
           {
            "bin_start": 503,
            "bin_end": 754.5,
            "count": 4
           },
           {
            "bin_start": 754.5,
            "bin_end": 1006,
            "count": 6
           },
           {
            "bin_start": 1006,
            "bin_end": 1257.5,
            "count": 5
           },
           {
            "bin_start": 1257.5,
            "bin_end": 1509,
            "count": 7
           },
           {
            "bin_start": 1509,
            "bin_end": 1760.5,
            "count": 2
           },
           {
            "bin_start": 1760.5,
            "bin_end": 2012,
            "count": 4
           },
           {
            "bin_start": 2012,
            "bin_end": 2263.5,
            "count": 2
           },
           {
            "bin_start": 2263.5,
            "bin_end": 2515,
            "count": 1
           }
          ]
         }
        },
        {
         "name": "w_SvGms_grass",
         "dtype": "float64",
         "stats": {
          "unique_count": 44,
          "nan_count": 0,
          "min": "0.0",
          "max": "845.0",
          "histogram": [
           {
            "bin_start": 0,
            "bin_end": 84.5,
            "count": 18
           },
           {
            "bin_start": 84.5,
            "bin_end": 169,
            "count": 4
           },
           {
            "bin_start": 169,
            "bin_end": 253.5,
            "count": 11
           },
           {
            "bin_start": 253.5,
            "bin_end": 338,
            "count": 2
           },
           {
            "bin_start": 338,
            "bin_end": 422.5,
            "count": 7
           },
           {
            "bin_start": 422.5,
            "bin_end": 507,
            "count": 5
           },
           {
            "bin_start": 507,
            "bin_end": 591.5,
            "count": 0
           },
           {
            "bin_start": 591.5,
            "bin_end": 676,
            "count": 1
           },
           {
            "bin_start": 676,
            "bin_end": 760.5,
            "count": 1
           },
           {
            "bin_start": 760.5,
            "bin_end": 845,
            "count": 1
           }
          ]
         }
        },
        {
         "name": "w_SvGms_hard",
         "dtype": "float64",
         "stats": {
          "unique_count": 50,
          "nan_count": 0,
          "min": "32.0",
          "max": "2947.0",
          "histogram": [
           {
            "bin_start": 32,
            "bin_end": 323.5,
            "count": 8
           },
           {
            "bin_start": 323.5,
            "bin_end": 615,
            "count": 4
           },
           {
            "bin_start": 615,
            "bin_end": 906.5,
            "count": 4
           },
           {
            "bin_start": 906.5,
            "bin_end": 1198,
            "count": 2
           },
           {
            "bin_start": 1198,
            "bin_end": 1489.5,
            "count": 11
           },
           {
            "bin_start": 1489.5,
            "bin_end": 1781,
            "count": 9
           },
           {
            "bin_start": 1781,
            "bin_end": 2072.5,
            "count": 4
           },
           {
            "bin_start": 2072.5,
            "bin_end": 2364,
            "count": 3
           },
           {
            "bin_start": 2364,
            "bin_end": 2655.5,
            "count": 4
           },
           {
            "bin_start": 2655.5,
            "bin_end": 2947,
            "count": 1
           }
          ]
         }
        },
        {
         "name": "w_SvGms_carpet",
         "dtype": "float64",
         "stats": {
          "unique_count": 50,
          "nan_count": 0,
          "min": "32.0",
          "max": "2947.0",
          "histogram": [
           {
            "bin_start": 32,
            "bin_end": 323.5,
            "count": 8
           },
           {
            "bin_start": 323.5,
            "bin_end": 615,
            "count": 4
           },
           {
            "bin_start": 615,
            "bin_end": 906.5,
            "count": 4
           },
           {
            "bin_start": 906.5,
            "bin_end": 1198,
            "count": 2
           },
           {
            "bin_start": 1198,
            "bin_end": 1489.5,
            "count": 11
           },
           {
            "bin_start": 1489.5,
            "bin_end": 1781,
            "count": 9
           },
           {
            "bin_start": 1781,
            "bin_end": 2072.5,
            "count": 4
           },
           {
            "bin_start": 2072.5,
            "bin_end": 2364,
            "count": 3
           },
           {
            "bin_start": 2364,
            "bin_end": 2655.5,
            "count": 4
           },
           {
            "bin_start": 2655.5,
            "bin_end": 2947,
            "count": 1
           }
          ]
         }
        },
        {
         "name": "w_bpSaved_clay",
         "dtype": "float64",
         "stats": {
          "unique_count": 46,
          "nan_count": 0,
          "min": "0.0",
          "max": "816.0",
          "histogram": [
           {
            "bin_start": 0,
            "bin_end": 81.6,
            "count": 9
           },
           {
            "bin_start": 81.6,
            "bin_end": 163.2,
            "count": 11
           },
           {
            "bin_start": 163.2,
            "bin_end": 244.79999999999998,
            "count": 5
           },
           {
            "bin_start": 244.79999999999998,
            "bin_end": 326.4,
            "count": 6
           },
           {
            "bin_start": 326.4,
            "bin_end": 408,
            "count": 7
           },
           {
            "bin_start": 408,
            "bin_end": 489.59999999999997,
            "count": 3
           },
           {
            "bin_start": 489.59999999999997,
            "bin_end": 571.1999999999999,
            "count": 4
           },
           {
            "bin_start": 571.1999999999999,
            "bin_end": 652.8,
            "count": 0
           },
           {
            "bin_start": 652.8,
            "bin_end": 734.4,
            "count": 3
           },
           {
            "bin_start": 734.4,
            "bin_end": 816,
            "count": 2
           }
          ]
         }
        },
        {
         "name": "w_bpSaved_grass",
         "dtype": "float64",
         "stats": {
          "unique_count": 39,
          "nan_count": 0,
          "min": "0.0",
          "max": "175.0",
          "histogram": [
           {
            "bin_start": 0,
            "bin_end": 17.5,
            "count": 16
           },
           {
            "bin_start": 17.5,
            "bin_end": 35,
            "count": 7
           },
           {
            "bin_start": 35,
            "bin_end": 52.5,
            "count": 5
           },
           {
            "bin_start": 52.5,
            "bin_end": 70,
            "count": 6
           },
           {
            "bin_start": 70,
            "bin_end": 87.5,
            "count": 5
           },
           {
            "bin_start": 87.5,
            "bin_end": 105,
            "count": 3
           },
           {
            "bin_start": 105,
            "bin_end": 122.5,
            "count": 4
           },
           {
            "bin_start": 122.5,
            "bin_end": 140,
            "count": 0
           },
           {
            "bin_start": 140,
            "bin_end": 157.5,
            "count": 2
           },
           {
            "bin_start": 157.5,
            "bin_end": 175,
            "count": 2
           }
          ]
         }
        },
        {
         "name": "w_bpSaved_hard",
         "dtype": "float64",
         "stats": {
          "unique_count": 49,
          "nan_count": 0,
          "min": "11.0",
          "max": "710.0",
          "histogram": [
           {
            "bin_start": 11,
            "bin_end": 80.9,
            "count": 7
           },
           {
            "bin_start": 80.9,
            "bin_end": 150.8,
            "count": 6
           },
           {
            "bin_start": 150.8,
            "bin_end": 220.70000000000002,
            "count": 3
           },
           {
            "bin_start": 220.70000000000002,
            "bin_end": 290.6,
            "count": 3
           },
           {
            "bin_start": 290.6,
            "bin_end": 360.5,
            "count": 7
           },
           {
            "bin_start": 360.5,
            "bin_end": 430.40000000000003,
            "count": 7
           },
           {
            "bin_start": 430.40000000000003,
            "bin_end": 500.30000000000007,
            "count": 6
           },
           {
            "bin_start": 500.30000000000007,
            "bin_end": 570.2,
            "count": 7
           },
           {
            "bin_start": 570.2,
            "bin_end": 640.1,
            "count": 2
           },
           {
            "bin_start": 640.1,
            "bin_end": 710,
            "count": 2
           }
          ]
         }
        },
        {
         "name": "w_bpSaved_carpet",
         "dtype": "float64",
         "stats": {
          "unique_count": 49,
          "nan_count": 0,
          "min": "11.0",
          "max": "710.0",
          "histogram": [
           {
            "bin_start": 11,
            "bin_end": 80.9,
            "count": 7
           },
           {
            "bin_start": 80.9,
            "bin_end": 150.8,
            "count": 6
           },
           {
            "bin_start": 150.8,
            "bin_end": 220.70000000000002,
            "count": 3
           },
           {
            "bin_start": 220.70000000000002,
            "bin_end": 290.6,
            "count": 3
           },
           {
            "bin_start": 290.6,
            "bin_end": 360.5,
            "count": 7
           },
           {
            "bin_start": 360.5,
            "bin_end": 430.40000000000003,
            "count": 7
           },
           {
            "bin_start": 430.40000000000003,
            "bin_end": 500.30000000000007,
            "count": 6
           },
           {
            "bin_start": 500.30000000000007,
            "bin_end": 570.2,
            "count": 7
           },
           {
            "bin_start": 570.2,
            "bin_end": 640.1,
            "count": 2
           },
           {
            "bin_start": 640.1,
            "bin_end": 710,
            "count": 2
           }
          ]
         }
        },
        {
         "name": "w_bpFaced_clay",
         "dtype": "float64",
         "stats": {
          "unique_count": 49,
          "nan_count": 0,
          "min": "0.0",
          "max": "1196.0",
          "histogram": [
           {
            "bin_start": 0,
            "bin_end": 119.6,
            "count": 10
           },
           {
            "bin_start": 119.6,
            "bin_end": 239.2,
            "count": 9
           },
           {
            "bin_start": 239.2,
            "bin_end": 358.79999999999995,
            "count": 6
           },
           {
            "bin_start": 358.79999999999995,
            "bin_end": 478.4,
            "count": 5
           },
           {
            "bin_start": 478.4,
            "bin_end": 598,
            "count": 8
           },
           {
            "bin_start": 598,
            "bin_end": 717.5999999999999,
            "count": 2
           },
           {
            "bin_start": 717.5999999999999,
            "bin_end": 837.1999999999999,
            "count": 5
           },
           {
            "bin_start": 837.1999999999999,
            "bin_end": 956.8,
            "count": 0
           },
           {
            "bin_start": 956.8,
            "bin_end": 1076.3999999999999,
            "count": 2
           },
           {
            "bin_start": 1076.3999999999999,
            "bin_end": 1196,
            "count": 3
           }
          ]
         }
        },
        {
         "name": "w_bpFaced_grass",
         "dtype": "float64",
         "stats": {
          "unique_count": 41,
          "nan_count": 0,
          "min": "0.0",
          "max": "265.0",
          "histogram": [
           {
            "bin_start": 0,
            "bin_end": 26.5,
            "count": 17
           },
           {
            "bin_start": 26.5,
            "bin_end": 53,
            "count": 5
           },
           {
            "bin_start": 53,
            "bin_end": 79.5,
            "count": 8
           },
           {
            "bin_start": 79.5,
            "bin_end": 106,
            "count": 6
           },
           {
            "bin_start": 106,
            "bin_end": 132.5,
            "count": 6
           },
           {
            "bin_start": 132.5,
            "bin_end": 159,
            "count": 2
           },
           {
            "bin_start": 159,
            "bin_end": 185.5,
            "count": 2
           },
           {
            "bin_start": 185.5,
            "bin_end": 212,
            "count": 2
           },
           {
            "bin_start": 212,
            "bin_end": 238.5,
            "count": 1
           },
           {
            "bin_start": 238.5,
            "bin_end": 265,
            "count": 1
           }
          ]
         }
        },
        {
         "name": "w_bpFaced_hard",
         "dtype": "float64",
         "stats": {
          "unique_count": 49,
          "nan_count": 0,
          "min": "15.0",
          "max": "1030.0",
          "histogram": [
           {
            "bin_start": 15,
            "bin_end": 116.5,
            "count": 7
           },
           {
            "bin_start": 116.5,
            "bin_end": 218,
            "count": 6
           },
           {
            "bin_start": 218,
            "bin_end": 319.5,
            "count": 3
           },
           {
            "bin_start": 319.5,
            "bin_end": 421,
            "count": 5
           },
           {
            "bin_start": 421,
            "bin_end": 522.5,
            "count": 6
           },
           {
            "bin_start": 522.5,
            "bin_end": 624,
            "count": 6
           },
           {
            "bin_start": 624,
            "bin_end": 725.5,
            "count": 8
           },
           {
            "bin_start": 725.5,
            "bin_end": 827,
            "count": 4
           },
           {
            "bin_start": 827,
            "bin_end": 928.5,
            "count": 4
           },
           {
            "bin_start": 928.5,
            "bin_end": 1030,
            "count": 1
           }
          ]
         }
        },
        {
         "name": "w_bpFaced_carpet",
         "dtype": "float64",
         "stats": {
          "unique_count": 49,
          "nan_count": 0,
          "min": "15.0",
          "max": "1030.0",
          "histogram": [
           {
            "bin_start": 15,
            "bin_end": 116.5,
            "count": 7
           },
           {
            "bin_start": 116.5,
            "bin_end": 218,
            "count": 6
           },
           {
            "bin_start": 218,
            "bin_end": 319.5,
            "count": 3
           },
           {
            "bin_start": 319.5,
            "bin_end": 421,
            "count": 5
           },
           {
            "bin_start": 421,
            "bin_end": 522.5,
            "count": 6
           },
           {
            "bin_start": 522.5,
            "bin_end": 624,
            "count": 6
           },
           {
            "bin_start": 624,
            "bin_end": 725.5,
            "count": 8
           },
           {
            "bin_start": 725.5,
            "bin_end": 827,
            "count": 4
           },
           {
            "bin_start": 827,
            "bin_end": 928.5,
            "count": 4
           },
           {
            "bin_start": 928.5,
            "bin_end": 1030,
            "count": 1
           }
          ]
         }
        },
        {
         "name": "_deepnote_index_column",
         "dtype": "int64"
        }
       ],
       "rows_top": [
        {
         "Name": "Novak Djokovic",
         "w_ace_clay": 312,
         "w_ace_grass": 107,
         "w_ace_hard": 460,
         "w_ace_carpet": 460,
         "w_df_clay": 244,
         "w_df_grass": 147,
         "w_df_hard": 569,
         "w_df_carpet": 569,
         "w_svpt_clay": 9237,
         "w_svpt_grass": 4176,
         "w_svpt_hard": 15676,
         "w_svpt_carpet": 15676,
         "w_1stIn_clay": 6113,
         "w_1stIn_grass": 2773,
         "w_1stIn_hard": 10227,
         "w_1stIn_carpet": 10227,
         "w_1stWon_clay": 4458,
         "w_1stWon_grass": 2210,
         "w_1stWon_hard": 7795,
         "w_1stWon_carpet": 7795,
         "w_2ndWon_clay": 1734,
         "w_2ndWon_grass": 759,
         "w_2ndWon_hard": 3112,
         "w_2ndWon_carpet": 3112,
         "w_SvGms_clay": 1480,
         "w_SvGms_grass": 705,
         "w_SvGms_hard": 2583,
         "w_SvGms_carpet": 2583,
         "w_bpSaved_clay": 445,
         "w_bpSaved_grass": 152,
         "w_bpSaved_hard": 588,
         "w_bpSaved_carpet": 588,
         "w_bpFaced_clay": 654,
         "w_bpFaced_grass": 208,
         "w_bpFaced_hard": 859,
         "w_bpFaced_carpet": 859,
         "_deepnote_index_column": 192
        },
        {
         "Name": "Rafael Nadal",
         "w_ace_clay": 330,
         "w_ace_grass": 35,
         "w_ace_hard": 451,
         "w_ace_carpet": 451,
         "w_df_clay": 269,
         "w_df_grass": 32,
         "w_df_hard": 336,
         "w_df_carpet": 336,
         "w_svpt_clay": 10917,
         "w_svpt_grass": 1427,
         "w_svpt_hard": 12607,
         "w_svpt_carpet": 12607,
         "w_1stIn_clay": 7319,
         "w_1stIn_grass": 916,
         "w_1stIn_hard": 8317,
         "w_1stIn_carpet": 8317,
         "w_1stWon_clay": 5264,
         "w_1stWon_grass": 718,
         "w_1stWon_hard": 6386,
         "w_1stWon_carpet": 6386,
         "w_2ndWon_clay": 2179,
         "w_2ndWon_grass": 330,
         "w_2ndWon_hard": 2557,
         "w_2ndWon_carpet": 2557,
         "w_SvGms_clay": 1804,
         "w_SvGms_grass": 249,
         "w_SvGms_hard": 2139,
         "w_SvGms_carpet": 2139,
         "w_bpSaved_clay": 537,
         "w_bpSaved_grass": 47,
         "w_bpSaved_hard": 450,
         "w_bpSaved_carpet": 450,
         "w_bpFaced_clay": 760,
         "w_bpFaced_grass": 64,
         "w_bpFaced_hard": 647,
         "w_bpFaced_carpet": 647,
         "_deepnote_index_column": 154
        },
        {
         "Name": "Alexander Zverev",
         "w_ace_clay": 245,
         "w_ace_grass": 11,
         "w_ace_hard": 276,
         "w_ace_carpet": 276,
         "w_df_clay": 389,
         "w_df_grass": 88,
         "w_df_hard": 781,
         "w_df_carpet": 781,
         "w_svpt_clay": 8221,
         "w_svpt_grass": 2213,
         "w_svpt_hard": 15433,
         "w_svpt_carpet": 15433,
         "w_1stIn_clay": 5366,
         "w_1stIn_grass": 1476,
         "w_1stIn_hard": 10091,
         "w_1stIn_carpet": 10091,
         "w_1stWon_clay": 3974,
         "w_1stWon_grass": 1212,
         "w_1stWon_hard": 7939,
         "w_1stWon_carpet": 7939,
         "w_2ndWon_clay": 1546,
         "w_2ndWon_grass": 402,
         "w_2ndWon_hard": 2823,
         "w_2ndWon_carpet": 2823,
         "w_SvGms_clay": 1348,
         "w_SvGms_grass": 387,
         "w_SvGms_hard": 2535,
         "w_SvGms_carpet": 2535,
         "w_bpSaved_clay": 310,
         "w_bpSaved_grass": 75,
         "w_bpSaved_hard": 642,
         "w_bpSaved_carpet": 642,
         "w_bpFaced_clay": 508,
         "w_bpFaced_grass": 102,
         "w_bpFaced_hard": 915,
         "w_bpFaced_carpet": 915,
         "_deepnote_index_column": 0
        },
        {
         "Name": "Roger Federer",
         "w_ace_clay": 52,
         "w_ace_grass": 107,
         "w_ace_hard": 280,
         "w_ace_carpet": 280,
         "w_df_clay": 27,
         "w_df_grass": 64,
         "w_df_hard": 278,
         "w_df_carpet": 278,
         "w_svpt_clay": 1563,
         "w_svpt_grass": 4781,
         "w_svpt_hard": 11359,
         "w_svpt_carpet": 11359,
         "w_1stIn_clay": 986,
         "w_1stIn_grass": 3122,
         "w_1stIn_hard": 7073,
         "w_1stIn_carpet": 7073,
         "w_1stWon_clay": 754,
         "w_1stWon_grass": 2551,
         "w_1stWon_hard": 5675,
         "w_1stWon_carpet": 5675,
         "w_2ndWon_clay": 356,
         "w_2ndWon_grass": 1030,
         "w_2ndWon_hard": 2535,
         "w_2ndWon_carpet": 2535,
         "w_SvGms_clay": 259,
         "w_SvGms_grass": 845,
         "w_SvGms_hard": 1943,
         "w_SvGms_carpet": 1943,
         "w_bpSaved_clay": 57,
         "w_bpSaved_grass": 150,
         "w_bpSaved_hard": 375,
         "w_bpSaved_carpet": 375,
         "w_bpFaced_clay": 81,
         "w_bpFaced_grass": 196,
         "w_bpFaced_hard": 529,
         "w_bpFaced_carpet": 529,
         "_deepnote_index_column": 35
        },
        {
         "Name": "Daniil Medvedev",
         "w_ace_clay": 89,
         "w_ace_grass": 44,
         "w_ace_hard": 416,
         "w_ace_carpet": 416,
         "w_df_clay": 100,
         "w_df_grass": 98,
         "w_df_hard": 790,
         "w_df_carpet": 790,
         "w_svpt_clay": 2496,
         "w_svpt_grass": 2837,
         "w_svpt_hard": 17821,
         "w_svpt_carpet": 17821,
         "w_1stIn_clay": 1360,
         "w_1stIn_grass": 1768,
         "w_1stIn_hard": 10680,
         "w_1stIn_carpet": 10680,
         "w_1stWon_clay": 1010,
         "w_1stWon_grass": 1438,
         "w_1stWon_hard": 8455,
         "w_1stWon_carpet": 8455,
         "w_2ndWon_clay": 631,
         "w_2ndWon_grass": 594,
         "w_2ndWon_hard": 3904,
         "w_2ndWon_carpet": 3904,
         "w_SvGms_clay": 403,
         "w_SvGms_grass": 485,
         "w_SvGms_hard": 2947,
         "w_SvGms_carpet": 2947,
         "w_bpSaved_clay": 118,
         "w_bpSaved_grass": 84,
         "w_bpSaved_hard": 710,
         "w_bpSaved_carpet": 710,
         "w_bpFaced_clay": 180,
         "w_bpFaced_grass": 123,
         "w_bpFaced_hard": 1030,
         "w_bpFaced_carpet": 1030,
         "_deepnote_index_column": 766
        },
        {
         "Name": "Dominic Thiem",
         "w_ace_clay": 471,
         "w_ace_grass": 15,
         "w_ace_hard": 293,
         "w_ace_carpet": 293,
         "w_df_clay": 412,
         "w_df_grass": 63,
         "w_df_hard": 433,
         "w_df_carpet": 433,
         "w_svpt_clay": 12133,
         "w_svpt_grass": 1170,
         "w_svpt_hard": 13621,
         "w_svpt_carpet": 13621,
         "w_1stIn_clay": 7624,
         "w_1stIn_grass": 668,
         "w_1stIn_hard": 8398,
         "w_1stIn_carpet": 8398,
         "w_1stWon_clay": 5742,
         "w_1stWon_grass": 539,
         "w_1stWon_hard": 6480,
         "w_1stWon_carpet": 6480,
         "w_2ndWon_clay": 2587,
         "w_2ndWon_grass": 282,
         "w_2ndWon_hard": 2892,
         "w_2ndWon_carpet": 2892,
         "w_SvGms_clay": 1998,
         "w_SvGms_grass": 191,
         "w_SvGms_hard": 2241,
         "w_SvGms_carpet": 2241,
         "w_bpSaved_clay": 517,
         "w_bpSaved_grass": 47,
         "w_bpSaved_hard": 542,
         "w_bpSaved_carpet": 542,
         "w_bpFaced_clay": 765,
         "w_bpFaced_grass": 60,
         "w_bpFaced_hard": 805,
         "w_bpFaced_carpet": 805,
         "_deepnote_index_column": 679
        },
        {
         "Name": "Andy Murray",
         "w_ace_clay": 72,
         "w_ace_grass": 40,
         "w_ace_hard": 249,
         "w_ace_carpet": 249,
         "w_df_clay": 84,
         "w_df_grass": 38,
         "w_df_hard": 318,
         "w_df_carpet": 318,
         "w_svpt_clay": 2609,
         "w_svpt_grass": 2256,
         "w_svpt_hard": 8630,
         "w_svpt_carpet": 8630,
         "w_1stIn_clay": 1551,
         "w_1stIn_grass": 1420,
         "w_1stIn_hard": 5054,
         "w_1stIn_carpet": 5054,
         "w_1stWon_clay": 1168,
         "w_1stWon_grass": 1091,
         "w_1stWon_hard": 3870,
         "w_1stWon_carpet": 3870,
         "w_2ndWon_clay": 589,
         "w_2ndWon_grass": 468,
         "w_2ndWon_hard": 1981,
         "w_2ndWon_carpet": 1981,
         "w_SvGms_clay": 412,
         "w_SvGms_grass": 374,
         "w_SvGms_hard": 1394,
         "w_SvGms_carpet": 1394,
         "w_bpSaved_clay": 126,
         "w_bpSaved_grass": 88,
         "w_bpSaved_hard": 343,
         "w_bpSaved_carpet": 343,
         "w_bpFaced_clay": 181,
         "w_bpFaced_grass": 128,
         "w_bpFaced_hard": 522,
         "w_bpFaced_carpet": 522,
         "_deepnote_index_column": 188
        },
        {
         "Name": "Andrey Rublev",
         "w_ace_clay": 136,
         "w_ace_grass": 34,
         "w_ace_hard": 389,
         "w_ace_carpet": 389,
         "w_df_clay": 135,
         "w_df_grass": 32,
         "w_df_hard": 560,
         "w_df_carpet": 560,
         "w_svpt_clay": 5121,
         "w_svpt_grass": 1414,
         "w_svpt_hard": 14888,
         "w_svpt_carpet": 14888,
         "w_1stIn_clay": 3093,
         "w_1stIn_grass": 836,
         "w_1stIn_hard": 8805,
         "w_1stIn_carpet": 8805,
         "w_1stWon_clay": 2282,
         "w_1stWon_grass": 621,
         "w_1stWon_hard": 6992,
         "w_1stWon_carpet": 6992,
         "w_2ndWon_clay": 1046,
         "w_2ndWon_grass": 337,
         "w_2ndWon_hard": 3228,
         "w_2ndWon_carpet": 3228,
         "w_SvGms_clay": 804,
         "w_SvGms_grass": 232,
         "w_SvGms_hard": 2411,
         "w_SvGms_carpet": 2411,
         "w_bpSaved_clay": 261,
         "w_bpSaved_grass": 42,
         "w_bpSaved_hard": 629,
         "w_bpSaved_carpet": 629,
         "w_bpFaced_clay": 405,
         "w_bpFaced_grass": 68,
         "w_bpFaced_hard": 901,
         "w_bpFaced_carpet": 901,
         "_deepnote_index_column": 1051
        },
        {
         "Name": "Ugo Humbert",
         "w_ace_clay": 25,
         "w_ace_grass": 10,
         "w_ace_hard": 201,
         "w_ace_carpet": 201,
         "w_df_clay": 24,
         "w_df_grass": 75,
         "w_df_hard": 310,
         "w_df_carpet": 310,
         "w_svpt_clay": 712,
         "w_svpt_grass": 1804,
         "w_svpt_hard": 8473,
         "w_svpt_carpet": 8473,
         "w_1stIn_clay": 452,
         "w_1stIn_grass": 1183,
         "w_1stIn_hard": 5083,
         "w_1stIn_carpet": 5083,
         "w_1stWon_clay": 323,
         "w_1stWon_grass": 902,
         "w_1stWon_hard": 4036,
         "w_1stWon_carpet": 4036,
         "w_2ndWon_clay": 135,
         "w_2ndWon_grass": 331,
         "w_2ndWon_hard": 1945,
         "w_2ndWon_carpet": 1945,
         "w_SvGms_clay": 116,
         "w_SvGms_grass": 277,
         "w_SvGms_hard": 1340,
         "w_SvGms_carpet": 1340,
         "w_bpSaved_clay": 25,
         "w_bpSaved_grass": 88,
         "w_bpSaved_hard": 362,
         "w_bpSaved_carpet": 362,
         "w_bpFaced_clay": 48,
         "w_bpFaced_grass": 118,
         "w_bpFaced_hard": 480,
         "w_bpFaced_carpet": 480,
         "_deepnote_index_column": 1366
        },
        {
         "Name": "James Duckworth",
         "w_ace_clay": 20,
         "w_ace_grass": 19,
         "w_ace_hard": 138,
         "w_ace_carpet": 138,
         "w_df_clay": 27,
         "w_df_grass": 26,
         "w_df_hard": 250,
         "w_df_carpet": 250,
         "w_svpt_clay": 713,
         "w_svpt_grass": 1164,
         "w_svpt_hard": 8111,
         "w_svpt_carpet": 8111,
         "w_1stIn_clay": 383,
         "w_1stIn_grass": 708,
         "w_1stIn_hard": 4507,
         "w_1stIn_carpet": 4507,
         "w_1stWon_clay": 307,
         "w_1stWon_grass": 548,
         "w_1stWon_hard": 3635,
         "w_1stWon_carpet": 3635,
         "w_2ndWon_clay": 172,
         "w_2ndWon_grass": 273,
         "w_2ndWon_hard": 2113,
         "w_2ndWon_carpet": 2113,
         "w_SvGms_clay": 107,
         "w_SvGms_grass": 192,
         "w_SvGms_hard": 1330,
         "w_SvGms_carpet": 1330,
         "w_bpSaved_clay": 49,
         "w_bpSaved_grass": 63,
         "w_bpSaved_hard": 314,
         "w_bpSaved_carpet": 314,
         "w_bpFaced_clay": 62,
         "w_bpFaced_grass": 76,
         "w_bpFaced_hard": 425,
         "w_bpFaced_carpet": 425,
         "_deepnote_index_column": 546
        },
        {
         "Name": "Facundo Bagnis",
         "w_ace_clay": 581,
         "w_ace_grass": 0,
         "w_ace_hard": 15,
         "w_ace_carpet": 15,
         "w_df_clay": 724,
         "w_df_grass": 0,
         "w_df_hard": 19,
         "w_df_carpet": 19,
         "w_svpt_clay": 15625,
         "w_svpt_grass": 0,
         "w_svpt_hard": 569,
         "w_svpt_carpet": 569,
         "w_1stIn_clay": 9302,
         "w_1stIn_grass": 0,
         "w_1stIn_hard": 369,
         "w_1stIn_carpet": 369,
         "w_1stWon_clay": 6935,
         "w_1stWon_grass": 0,
         "w_1stWon_hard": 254,
         "w_1stWon_carpet": 254,
         "w_2ndWon_clay": 3475,
         "w_2ndWon_grass": 0,
         "w_2ndWon_hard": 111,
         "w_2ndWon_carpet": 111,
         "w_SvGms_clay": 2515,
         "w_SvGms_grass": 0,
         "w_SvGms_hard": 34,
         "w_SvGms_carpet": 34,
         "w_bpSaved_clay": 816,
         "w_bpSaved_grass": 0,
         "w_bpSaved_hard": 32,
         "w_bpSaved_carpet": 32,
         "w_bpFaced_clay": 1196,
         "w_bpFaced_grass": 0,
         "w_bpFaced_hard": 44,
         "w_bpFaced_carpet": 44,
         "_deepnote_index_column": 374
        },
        {
         "Name": "Stefanos Tsitsipas",
         "w_ace_clay": 323,
         "w_ace_grass": 15,
         "w_ace_hard": 382,
         "w_ace_carpet": 382,
         "w_df_clay": 210,
         "w_df_grass": 43,
         "w_df_hard": 365,
         "w_df_carpet": 365,
         "w_svpt_clay": 8449,
         "w_svpt_grass": 990,
         "w_svpt_hard": 14917,
         "w_svpt_carpet": 14917,
         "w_1stIn_clay": 5223,
         "w_1stIn_grass": 647,
         "w_1stIn_hard": 9259,
         "w_1stIn_carpet": 9259,
         "w_1stWon_clay": 3958,
         "w_1stWon_grass": 503,
         "w_1stWon_hard": 7412,
         "w_1stWon_carpet": 7412,
         "w_2ndWon_clay": 1883,
         "w_2ndWon_grass": 187,
         "w_2ndWon_hard": 3295,
         "w_2ndWon_carpet": 3295,
         "w_SvGms_clay": 1395,
         "w_SvGms_grass": 167,
         "w_SvGms_hard": 2473,
         "w_SvGms_carpet": 2473,
         "w_bpSaved_clay": 329,
         "w_bpSaved_grass": 31,
         "w_bpSaved_hard": 502,
         "w_bpSaved_carpet": 502,
         "w_bpFaced_clay": 487,
         "w_bpFaced_grass": 50,
         "w_bpFaced_hard": 696,
         "w_bpFaced_carpet": 696,
         "_deepnote_index_column": 1150
        },
        {
         "Name": "Roberto Bautista Agut",
         "w_ace_clay": 149,
         "w_ace_grass": 81,
         "w_ace_hard": 442,
         "w_ace_carpet": 442,
         "w_df_clay": 102,
         "w_df_grass": 36,
         "w_df_hard": 338,
         "w_df_carpet": 338,
         "w_svpt_clay": 4686,
         "w_svpt_grass": 2045,
         "w_svpt_hard": 12956,
         "w_svpt_carpet": 12956,
         "w_1stIn_clay": 3017,
         "w_1stIn_grass": 1369,
         "w_1stIn_hard": 8460,
         "w_1stIn_carpet": 8460,
         "w_1stWon_clay": 2166,
         "w_1stWon_grass": 1024,
         "w_1stWon_hard": 6275,
         "w_1stWon_carpet": 6275,
         "w_2ndWon_clay": 942,
         "w_2ndWon_grass": 389,
         "w_2ndWon_hard": 2623,
         "w_2ndWon_carpet": 2623,
         "w_SvGms_clay": 757,
         "w_SvGms_grass": 333,
         "w_SvGms_hard": 2150,
         "w_SvGms_carpet": 2150,
         "w_bpSaved_clay": 224,
         "w_bpSaved_grass": 91,
         "w_bpSaved_hard": 565,
         "w_bpSaved_carpet": 565,
         "w_bpFaced_clay": 336,
         "w_bpFaced_grass": 125,
         "w_bpFaced_hard": 844,
         "w_bpFaced_carpet": 844,
         "_deepnote_index_column": 259
        }
       ],
       "rows_bottom": [
        {
         "Name": "Filip Krajinovic",
         "w_ace_clay": 221,
         "w_ace_grass": 0,
         "w_ace_hard": 250,
         "w_ace_carpet": 250,
         "w_df_clay": 111,
         "w_df_grass": 0,
         "w_df_hard": 135,
         "w_df_carpet": 135,
         "w_svpt_clay": 6639,
         "w_svpt_grass": 0,
         "w_svpt_hard": 7215,
         "w_svpt_carpet": 7215,
         "w_1stIn_clay": 4297,
         "w_1stIn_grass": 0,
         "w_1stIn_hard": 4629,
         "w_1stIn_carpet": 4629,
         "w_1stWon_clay": 3043,
         "w_1stWon_grass": 0,
         "w_1stWon_hard": 3463,
         "w_1stWon_carpet": 3463,
         "w_2ndWon_clay": 1332,
         "w_2ndWon_grass": 0,
         "w_2ndWon_hard": 1361,
         "w_2ndWon_carpet": 1361,
         "w_SvGms_clay": 1073,
         "w_SvGms_grass": 0,
         "w_SvGms_hard": 1140,
         "w_SvGms_carpet": 1140,
         "w_bpSaved_clay": 351,
         "w_bpSaved_grass": 0,
         "w_bpSaved_hard": 359,
         "w_bpSaved_carpet": 359,
         "w_bpFaced_clay": 523,
         "w_bpFaced_grass": 0,
         "w_bpFaced_hard": 514,
         "w_bpFaced_carpet": 514,
         "_deepnote_index_column": 560
        },
        {
         "Name": "Reilly Opelka",
         "w_ace_clay": 6,
         "w_ace_grass": 0,
         "w_ace_hard": 6,
         "w_ace_carpet": 6,
         "w_df_clay": 85,
         "w_df_grass": 16,
         "w_df_hard": 336,
         "w_df_carpet": 336,
         "w_svpt_clay": 2378,
         "w_svpt_grass": 522,
         "w_svpt_hard": 8985,
         "w_svpt_carpet": 8985,
         "w_1stIn_clay": 1498,
         "w_1stIn_grass": 347,
         "w_1stIn_hard": 5727,
         "w_1stIn_carpet": 5727,
         "w_1stWon_clay": 1188,
         "w_1stWon_grass": 268,
         "w_1stWon_hard": 4833,
         "w_1stWon_carpet": 4833,
         "w_2ndWon_clay": 501,
         "w_2ndWon_grass": 106,
         "w_2ndWon_hard": 1890,
         "w_2ndWon_carpet": 1890,
         "w_SvGms_clay": 388,
         "w_SvGms_grass": 83,
         "w_SvGms_hard": 1500,
         "w_SvGms_carpet": 1500,
         "w_bpSaved_clay": 80,
         "w_bpSaved_grass": 20,
         "w_bpSaved_hard": 222,
         "w_bpSaved_carpet": 222,
         "w_bpFaced_clay": 108,
         "w_bpFaced_grass": 23,
         "w_bpFaced_hard": 293,
         "w_bpFaced_carpet": 293,
         "_deepnote_index_column": 1032
        },
        {
         "Name": "Marco Cecchinato",
         "w_ace_clay": 448,
         "w_ace_grass": 5,
         "w_ace_hard": 22,
         "w_ace_carpet": 22,
         "w_df_clay": 319,
         "w_df_grass": 6,
         "w_df_hard": 38,
         "w_df_carpet": 38,
         "w_svpt_clay": 14156,
         "w_svpt_grass": 180,
         "w_svpt_hard": 1130,
         "w_svpt_carpet": 1130,
         "w_1stIn_clay": 9629,
         "w_1stIn_grass": 114,
         "w_1stIn_hard": 765,
         "w_1stIn_carpet": 765,
         "w_1stWon_clay": 6837,
         "w_1stWon_grass": 89,
         "w_1stWon_hard": 588,
         "w_1stWon_carpet": 588,
         "w_2ndWon_clay": 2535,
         "w_2ndWon_grass": 36,
         "w_2ndWon_hard": 207,
         "w_2ndWon_carpet": 207,
         "w_SvGms_clay": 2217,
         "w_SvGms_grass": 31,
         "w_SvGms_hard": 181,
         "w_SvGms_carpet": 181,
         "w_bpSaved_clay": 673,
         "w_bpSaved_grass": 2,
         "w_bpSaved_hard": 32,
         "w_bpSaved_carpet": 32,
         "w_bpFaced_clay": 996,
         "w_bpFaced_grass": 5,
         "w_bpFaced_hard": 50,
         "w_bpFaced_carpet": 50,
         "_deepnote_index_column": 614
        },
        {
         "Name": "Jannik Sinner",
         "w_ace_clay": 108,
         "w_ace_grass": 5,
         "w_ace_hard": 172,
         "w_ace_carpet": 172,
         "w_df_clay": 73,
         "w_df_grass": 5,
         "w_df_hard": 158,
         "w_df_carpet": 158,
         "w_svpt_clay": 2823,
         "w_svpt_grass": 162,
         "w_svpt_hard": 5281,
         "w_svpt_carpet": 5281,
         "w_1stIn_clay": 1687,
         "w_1stIn_grass": 98,
         "w_1stIn_hard": 3141,
         "w_1stIn_carpet": 3141,
         "w_1stWon_clay": 1193,
         "w_1stWon_grass": 72,
         "w_1stWon_hard": 2356,
         "w_1stWon_carpet": 2356,
         "w_2ndWon_clay": 615,
         "w_2ndWon_grass": 34,
         "w_2ndWon_hard": 1194,
         "w_2ndWon_carpet": 1194,
         "w_SvGms_clay": 438,
         "w_SvGms_grass": 25,
         "w_SvGms_hard": 791,
         "w_SvGms_carpet": 791,
         "w_bpSaved_clay": 127,
         "w_bpSaved_grass": 3,
         "w_bpSaved_hard": 274,
         "w_bpSaved_carpet": 274,
         "w_bpFaced_clay": 204,
         "w_bpFaced_grass": 6,
         "w_bpFaced_hard": 381,
         "w_bpFaced_carpet": 381,
         "_deepnote_index_column": 1576
        },
        {
         "Name": "Alex De Minaur",
         "w_ace_clay": 28,
         "w_ace_grass": 79,
         "w_ace_hard": 333,
         "w_ace_carpet": 333,
         "w_df_clay": 57,
         "w_df_grass": 103,
         "w_df_hard": 367,
         "w_df_carpet": 367,
         "w_svpt_clay": 1426,
         "w_svpt_grass": 2799,
         "w_svpt_hard": 11295,
         "w_svpt_carpet": 11295,
         "w_1stIn_clay": 795,
         "w_1stIn_grass": 1731,
         "w_1stIn_hard": 6778,
         "w_1stIn_carpet": 6778,
         "w_1stWon_clay": 563,
         "w_1stWon_grass": 1278,
         "w_1stWon_hard": 5097,
         "w_1stWon_carpet": 5097,
         "w_2ndWon_clay": 365,
         "w_2ndWon_grass": 646,
         "w_2ndWon_hard": 2543,
         "w_2ndWon_carpet": 2543,
         "w_SvGms_clay": 220,
         "w_SvGms_grass": 445,
         "w_SvGms_hard": 1777,
         "w_SvGms_carpet": 1777,
         "w_bpSaved_clay": 84,
         "w_bpSaved_grass": 122,
         "w_bpSaved_hard": 460,
         "w_bpSaved_carpet": 460,
         "w_bpFaced_clay": 117,
         "w_bpFaced_grass": 167,
         "w_bpFaced_hard": 685,
         "w_bpFaced_carpet": 685,
         "_deepnote_index_column": 1421
        },
        {
         "Name": "Jaume Munar",
         "w_ace_clay": 289,
         "w_ace_grass": 0,
         "w_ace_hard": 85,
         "w_ace_carpet": 85,
         "w_df_clay": 268,
         "w_df_grass": 0,
         "w_df_hard": 85,
         "w_df_carpet": 85,
         "w_svpt_clay": 9515,
         "w_svpt_grass": 0,
         "w_svpt_hard": 2606,
         "w_svpt_carpet": 2606,
         "w_1stIn_clay": 6305,
         "w_1stIn_grass": 0,
         "w_1stIn_hard": 1645,
         "w_1stIn_carpet": 1645,
         "w_1stWon_clay": 4453,
         "w_1stWon_grass": 0,
         "w_1stWon_hard": 1230,
         "w_1stWon_carpet": 1230,
         "w_2ndWon_clay": 1666,
         "w_2ndWon_grass": 0,
         "w_2ndWon_hard": 539,
         "w_2ndWon_carpet": 539,
         "w_SvGms_clay": 1478,
         "w_SvGms_grass": 0,
         "w_SvGms_hard": 416,
         "w_SvGms_carpet": 416,
         "w_bpSaved_clay": 480,
         "w_bpSaved_grass": 0,
         "w_bpSaved_hard": 112,
         "w_bpSaved_carpet": 112,
         "w_bpFaced_clay": 748,
         "w_bpFaced_grass": 0,
         "w_bpFaced_hard": 165,
         "w_bpFaced_carpet": 165,
         "_deepnote_index_column": 1315
        },
        {
         "Name": "Casper Ruud",
         "w_ace_clay": 393,
         "w_ace_grass": 8,
         "w_ace_hard": 161,
         "w_ace_carpet": 161,
         "w_df_clay": 319,
         "w_df_grass": 4,
         "w_df_hard": 159,
         "w_df_carpet": 159,
         "w_svpt_clay": 10403,
         "w_svpt_grass": 116,
         "w_svpt_hard": 4795,
         "w_svpt_carpet": 4795,
         "w_1stIn_clay": 6775,
         "w_1stIn_grass": 88,
         "w_1stIn_hard": 3106,
         "w_1stIn_carpet": 3106,
         "w_1stWon_clay": 5029,
         "w_1stWon_grass": 73,
         "w_1stWon_hard": 2390,
         "w_1stWon_carpet": 2390,
         "w_2ndWon_clay": 2087,
         "w_2ndWon_grass": 14,
         "w_2ndWon_hard": 982,
         "w_2ndWon_carpet": 982,
         "w_SvGms_clay": 1700,
         "w_SvGms_grass": 21,
         "w_SvGms_hard": 770,
         "w_SvGms_carpet": 770,
         "w_bpSaved_clay": 424,
         "w_bpSaved_grass": 3,
         "w_bpSaved_hard": 173,
         "w_bpSaved_carpet": 173,
         "w_bpFaced_clay": 613,
         "w_bpFaced_grass": 4,
         "w_bpFaced_hard": 247,
         "w_bpFaced_carpet": 247,
         "_deepnote_index_column": 1271
        },
        {
         "Name": "Alexander Bublik",
         "w_ace_clay": 41,
         "w_ace_grass": 5,
         "w_ace_hard": 118,
         "w_ace_carpet": 118,
         "w_df_clay": 151,
         "w_df_grass": 119,
         "w_df_hard": 952,
         "w_df_carpet": 952,
         "w_svpt_clay": 1794,
         "w_svpt_grass": 1373,
         "w_svpt_hard": 11858,
         "w_svpt_carpet": 11858,
         "w_1stIn_clay": 1003,
         "w_1stIn_grass": 779,
         "w_1stIn_hard": 7028,
         "w_1stIn_carpet": 7028,
         "w_1stWon_clay": 775,
         "w_1stWon_grass": 617,
         "w_1stWon_hard": 5522,
         "w_1stWon_carpet": 5522,
         "w_2ndWon_clay": 352,
         "w_2ndWon_grass": 299,
         "w_2ndWon_hard": 2393,
         "w_2ndWon_carpet": 2393,
         "w_SvGms_clay": 277,
         "w_SvGms_grass": 218,
         "w_SvGms_hard": 1876,
         "w_SvGms_carpet": 1876,
         "w_bpSaved_clay": 103,
         "w_bpSaved_grass": 56,
         "w_bpSaved_hard": 529,
         "w_bpSaved_carpet": 529,
         "w_bpFaced_clay": 163,
         "w_bpFaced_grass": 86,
         "w_bpFaced_hard": 774,
         "w_bpFaced_carpet": 774,
         "_deepnote_index_column": 952
        },
        {
         "Name": "Lucas Pouille",
         "w_ace_clay": 116,
         "w_ace_grass": 16,
         "w_ace_hard": 111,
         "w_ace_carpet": 111,
         "w_df_clay": 131,
         "w_df_grass": 87,
         "w_df_hard": 338,
         "w_df_carpet": 338,
         "w_svpt_clay": 3766,
         "w_svpt_grass": 2198,
         "w_svpt_hard": 8474,
         "w_svpt_carpet": 8474,
         "w_1stIn_clay": 2123,
         "w_1stIn_grass": 1309,
         "w_1stIn_hard": 4829,
         "w_1stIn_carpet": 4829,
         "w_1stWon_clay": 1577,
         "w_1stWon_grass": 1039,
         "w_1stWon_hard": 3753,
         "w_1stWon_carpet": 3753,
         "w_2ndWon_clay": 902,
         "w_2ndWon_grass": 493,
         "w_2ndWon_hard": 1982,
         "w_2ndWon_carpet": 1982,
         "w_SvGms_clay": 582,
         "w_SvGms_grass": 354,
         "w_SvGms_hard": 1332,
         "w_SvGms_carpet": 1332,
         "w_bpSaved_clay": 196,
         "w_bpSaved_grass": 82,
         "w_bpSaved_hard": 350,
         "w_bpSaved_carpet": 350,
         "w_bpFaced_clay": 288,
         "w_bpFaced_grass": 114,
         "w_bpFaced_hard": 502,
         "w_bpFaced_carpet": 502,
         "_deepnote_index_column": 709
        },
        {
         "Name": "Hubert Hurkacz",
         "w_ace_clay": 137,
         "w_ace_grass": 10,
         "w_ace_hard": 276,
         "w_ace_carpet": 276,
         "w_df_clay": 187,
         "w_df_grass": 29,
         "w_df_hard": 399,
         "w_df_carpet": 399,
         "w_svpt_clay": 3730,
         "w_svpt_grass": 1297,
         "w_svpt_hard": 10337,
         "w_svpt_carpet": 10337,
         "w_1stIn_clay": 2265,
         "w_1stIn_grass": 853,
         "w_1stIn_hard": 6587,
         "w_1stIn_carpet": 6587,
         "w_1stWon_clay": 1737,
         "w_1stWon_grass": 674,
         "w_1stWon_hard": 5018,
         "w_1stWon_carpet": 5018,
         "w_2ndWon_clay": 767,
         "w_2ndWon_grass": 256,
         "w_2ndWon_hard": 1981,
         "w_2ndWon_carpet": 1981,
         "w_SvGms_clay": 600,
         "w_SvGms_grass": 219,
         "w_SvGms_hard": 1609,
         "w_SvGms_carpet": 1609,
         "w_bpSaved_clay": 161,
         "w_bpSaved_grass": 34,
         "w_bpSaved_hard": 520,
         "w_bpSaved_carpet": 520,
         "w_bpFaced_clay": 242,
         "w_bpFaced_grass": 46,
         "w_bpFaced_hard": 704,
         "w_bpFaced_carpet": 704,
         "_deepnote_index_column": 1197
        },
        {
         "Name": "Nick Kyrgios",
         "w_ace_clay": 6,
         "w_ace_grass": 12,
         "w_ace_hard": 28,
         "w_ace_carpet": 28,
         "w_df_clay": 27,
         "w_df_grass": 116,
         "w_df_hard": 404,
         "w_df_carpet": 404,
         "w_svpt_clay": 1458,
         "w_svpt_grass": 2263,
         "w_svpt_hard": 9742,
         "w_svpt_carpet": 9742,
         "w_1stIn_clay": 984,
         "w_1stIn_grass": 1520,
         "w_1stIn_hard": 6344,
         "w_1stIn_carpet": 6344,
         "w_1stWon_clay": 783,
         "w_1stWon_grass": 1174,
         "w_1stWon_hard": 5213,
         "w_1stWon_carpet": 5213,
         "w_2ndWon_clay": 298,
         "w_2ndWon_grass": 397,
         "w_2ndWon_hard": 1927,
         "w_2ndWon_carpet": 1927,
         "w_SvGms_clay": 242,
         "w_SvGms_grass": 377,
         "w_SvGms_hard": 1644,
         "w_SvGms_carpet": 1644,
         "w_bpSaved_clay": 39,
         "w_bpSaved_grass": 77,
         "w_bpSaved_hard": 299,
         "w_bpSaved_carpet": 299,
         "w_bpFaced_clay": 50,
         "w_bpFaced_grass": 120,
         "w_bpFaced_hard": 389,
         "w_bpFaced_carpet": 389,
         "_deepnote_index_column": 758
        },
        {
         "Name": "Malek Jaziri",
         "w_ace_clay": 112,
         "w_ace_grass": 19,
         "w_ace_hard": 301,
         "w_ace_carpet": 301,
         "w_df_clay": 93,
         "w_df_grass": 13,
         "w_df_hard": 301,
         "w_df_carpet": 301,
         "w_svpt_clay": 2957,
         "w_svpt_grass": 275,
         "w_svpt_hard": 8453,
         "w_svpt_carpet": 8453,
         "w_1stIn_clay": 1573,
         "w_1stIn_grass": 160,
         "w_1stIn_hard": 4540,
         "w_1stIn_carpet": 4540,
         "w_1stWon_clay": 1142,
         "w_1stWon_grass": 122,
         "w_1stWon_hard": 3480,
         "w_1stWon_carpet": 3480,
         "w_2ndWon_clay": 758,
         "w_2ndWon_grass": 65,
         "w_2ndWon_hard": 2140,
         "w_2ndWon_carpet": 2140,
         "w_SvGms_clay": 451,
         "w_SvGms_grass": 43,
         "w_SvGms_hard": 1317,
         "w_SvGms_carpet": 1317,
         "w_bpSaved_clay": 171,
         "w_bpSaved_grass": 15,
         "w_bpSaved_hard": 408,
         "w_bpSaved_carpet": 408,
         "w_bpFaced_clay": 240,
         "w_bpFaced_grass": 19,
         "w_bpFaced_hard": 600,
         "w_bpFaced_carpet": 600,
         "_deepnote_index_column": 79
        },
        {
         "Name": "Nicolas Jarry",
         "w_ace_clay": 260,
         "w_ace_grass": 0,
         "w_ace_hard": 63,
         "w_ace_carpet": 63,
         "w_df_clay": 313,
         "w_df_grass": 16,
         "w_df_hard": 91,
         "w_df_carpet": 91,
         "w_svpt_clay": 8656,
         "w_svpt_grass": 648,
         "w_svpt_hard": 3070,
         "w_svpt_carpet": 3070,
         "w_1stIn_clay": 5546,
         "w_1stIn_grass": 402,
         "w_1stIn_hard": 1927,
         "w_1stIn_carpet": 1927,
         "w_1stWon_clay": 4251,
         "w_1stWon_grass": 318,
         "w_1stWon_hard": 1534,
         "w_1stWon_carpet": 1534,
         "w_2ndWon_clay": 1790,
         "w_2ndWon_grass": 146,
         "w_2ndWon_hard": 673,
         "w_2ndWon_carpet": 673,
         "w_SvGms_clay": 1390,
         "w_SvGms_grass": 112,
         "w_SvGms_hard": 510,
         "w_SvGms_carpet": 510,
         "w_bpSaved_clay": 361,
         "w_bpSaved_grass": 26,
         "w_bpSaved_hard": 121,
         "w_bpSaved_carpet": 121,
         "w_bpFaced_clay": 494,
         "w_bpFaced_grass": 36,
         "w_bpFaced_hard": 155,
         "w_bpFaced_carpet": 155,
         "_deepnote_index_column": 886
        },
        {
         "Name": "Adrian Mannarino",
         "w_ace_clay": 52,
         "w_ace_grass": 96,
         "w_ace_hard": 300,
         "w_ace_carpet": 300,
         "w_df_clay": 40,
         "w_df_grass": 134,
         "w_df_hard": 258,
         "w_df_carpet": 258,
         "w_svpt_clay": 1823,
         "w_svpt_grass": 4177,
         "w_svpt_hard": 9047,
         "w_svpt_carpet": 9047,
         "w_1stIn_clay": 1147,
         "w_1stIn_grass": 2598,
         "w_1stIn_hard": 5384,
         "w_1stIn_carpet": 5384,
         "w_1stWon_clay": 766,
         "w_1stWon_grass": 1907,
         "w_1stWon_hard": 4068,
         "w_1stWon_carpet": 4068,
         "w_2ndWon_clay": 362,
         "w_2ndWon_grass": 894,
         "w_2ndWon_hard": 2090,
         "w_2ndWon_carpet": 2090,
         "w_SvGms_clay": 275,
         "w_SvGms_grass": 675,
         "w_SvGms_hard": 1466,
         "w_SvGms_carpet": 1466,
         "w_bpSaved_clay": 106,
         "w_bpSaved_grass": 169,
         "w_bpSaved_hard": 413,
         "w_bpSaved_carpet": 413,
         "w_bpFaced_clay": 165,
         "w_bpFaced_grass": 265,
         "w_bpFaced_hard": 595,
         "w_bpFaced_carpet": 595,
         "_deepnote_index_column": 272
        }
       ]
      },
      "text/plain": "                         Name  w_ace_clay  w_ace_grass  w_ace_hard  \\\n192            Novak Djokovic       312.0        107.0       460.0   \n154              Rafael Nadal       330.0         35.0       451.0   \n0            Alexander Zverev       245.0         11.0       276.0   \n35              Roger Federer        52.0        107.0       280.0   \n766           Daniil Medvedev        89.0         44.0       416.0   \n679             Dominic Thiem       471.0         15.0       293.0   \n188               Andy Murray        72.0         40.0       249.0   \n1051            Andrey Rublev       136.0         34.0       389.0   \n1366              Ugo Humbert        25.0         10.0       201.0   \n546           James Duckworth        20.0         19.0       138.0   \n374            Facundo Bagnis       581.0          0.0        15.0   \n1150       Stefanos Tsitsipas       323.0         15.0       382.0   \n259     Roberto Bautista Agut       149.0         81.0       442.0   \n265               Pedro Sousa       267.0          0.0         4.0   \n1131        Matteo Berrettini       203.0         23.0       182.0   \n412         Ricardas Berankis        34.0         26.0       376.0   \n404              Daniel Evans        25.0        107.0       375.0   \n795       Maximilian Marterer       204.0          8.0       100.0   \n362             Steve Johnson        60.0         22.0       161.0   \n638   Roberto Carballes Baena       395.0          8.0        38.0   \n136              Pablo Cuevas       265.0          0.0       101.0   \n842           Jordan Thompson        93.0         70.0       406.0   \n556      Nikoloz Basilashvili       164.0         35.0       261.0   \n280             Yuichi Sugita        14.0        115.0       290.0   \n69                Yen Hsun Lu         0.0         44.0       171.0   \n139             Pablo Andujar       122.0          1.0        31.0   \n351                Radu Albot        60.0         38.0       347.0   \n193             Fabio Fognini       185.0         30.0       242.0   \n111                John Isner         0.0         10.0         6.0   \n160              Gael Monfils        68.0          0.0       255.0   \n419             Gerald Melzer       306.0          0.0        34.0   \n503       Pablo Carreno Busta       241.0          2.0       320.0   \n41              Paolo Lorenzi       337.0          6.0        92.0   \n509           Guido Andreozzi       299.0          5.0        32.0   \n530          Yannick Hanfmann       287.0         19.0       126.0   \n343             Andrej Martin       380.0          5.0        19.0   \n560          Filip Krajinovic       221.0          0.0       250.0   \n1032            Reilly Opelka         6.0          0.0         6.0   \n614          Marco Cecchinato       448.0          5.0        22.0   \n1576            Jannik Sinner       108.0          5.0       172.0   \n1421           Alex De Minaur        28.0         79.0       333.0   \n1315              Jaume Munar       289.0          0.0        85.0   \n1271              Casper Ruud       393.0          8.0       161.0   \n952          Alexander Bublik        41.0          5.0       118.0   \n709             Lucas Pouille       116.0         16.0       111.0   \n1197           Hubert Hurkacz       137.0         10.0       276.0   \n758              Nick Kyrgios         6.0         12.0        28.0   \n79               Malek Jaziri       112.0         19.0       301.0   \n886             Nicolas Jarry       260.0          0.0        63.0   \n272          Adrian Mannarino        52.0         96.0       300.0   \n\n      w_ace_carpet  w_df_clay  w_df_grass  w_df_hard  w_df_carpet  \\\n192          460.0      244.0       147.0      569.0        569.0   \n154          451.0      269.0        32.0      336.0        336.0   \n0            276.0      389.0        88.0      781.0        781.0   \n35           280.0       27.0        64.0      278.0        278.0   \n766          416.0      100.0        98.0      790.0        790.0   \n679          293.0      412.0        63.0      433.0        433.0   \n188          249.0       84.0        38.0      318.0        318.0   \n1051         389.0      135.0        32.0      560.0        560.0   \n1366         201.0       24.0        75.0      310.0        310.0   \n546          138.0       27.0        26.0      250.0        250.0   \n374           15.0      724.0         0.0       19.0         19.0   \n1150         382.0      210.0        43.0      365.0        365.0   \n259          442.0      102.0        36.0      338.0        338.0   \n265            4.0      425.0         0.0        9.0          9.0   \n1131         182.0      103.0        62.0      207.0        207.0   \n412          376.0       73.0        22.0      328.0        328.0   \n404          375.0       19.0        82.0      360.0        360.0   \n795          100.0      142.0         8.0      113.0        113.0   \n362          161.0      108.0       104.0      295.0        295.0   \n638           38.0      499.0        10.0       58.0         58.0   \n136          101.0      320.0        21.0      119.0        119.0   \n842          406.0       62.0        53.0      260.0        260.0   \n556          261.0      240.0        53.0      424.0        424.0   \n280          290.0       10.0        55.0      210.0        210.0   \n69           171.0        0.0        42.0      143.0        143.0   \n139           31.0      233.0         8.0       51.0         51.0   \n351          347.0      124.0        38.0      309.0        309.0   \n193          242.0      290.0        53.0      488.0        488.0   \n111            6.0       67.0        66.0      266.0        266.0   \n160          255.0      103.0        60.0      481.0        481.0   \n419           34.0      213.0         0.0       33.0         33.0   \n503          320.0      124.0         5.0      241.0        241.0   \n41            92.0      305.0         7.0      179.0        179.0   \n509           32.0      368.0         5.0       76.0         76.0   \n530          126.0      232.0        16.0      124.0        124.0   \n343           19.0      495.0         1.0       19.0         19.0   \n560          250.0      111.0         0.0      135.0        135.0   \n1032           6.0       85.0        16.0      336.0        336.0   \n614           22.0      319.0         6.0       38.0         38.0   \n1576         172.0       73.0         5.0      158.0        158.0   \n1421         333.0       57.0       103.0      367.0        367.0   \n1315          85.0      268.0         0.0       85.0         85.0   \n1271         161.0      319.0         4.0      159.0        159.0   \n952          118.0      151.0       119.0      952.0        952.0   \n709          111.0      131.0        87.0      338.0        338.0   \n1197         276.0      187.0        29.0      399.0        399.0   \n758           28.0       27.0       116.0      404.0        404.0   \n79           301.0       93.0        13.0      301.0        301.0   \n886           63.0      313.0        16.0       91.0         91.0   \n272          300.0       40.0       134.0      258.0        258.0   \n\n      w_svpt_clay  ...  w_SvGms_hard  w_SvGms_carpet  w_bpSaved_clay  \\\n192        9237.0  ...        2583.0          2583.0           445.0   \n154       10917.0  ...        2139.0          2139.0           537.0   \n0          8221.0  ...        2535.0          2535.0           310.0   \n35         1563.0  ...        1943.0          1943.0            57.0   \n766        2496.0  ...        2947.0          2947.0           118.0   \n679       12133.0  ...        2241.0          2241.0           517.0   \n188        2609.0  ...        1394.0          1394.0           126.0   \n1051       5121.0  ...        2411.0          2411.0           261.0   \n1366        712.0  ...        1340.0          1340.0            25.0   \n546         713.0  ...        1330.0          1330.0            49.0   \n374       15625.0  ...          34.0            34.0           816.0   \n1150       8449.0  ...        2473.0          2473.0           329.0   \n259        4686.0  ...        2150.0          2150.0           224.0   \n265       11788.0  ...          32.0            32.0           684.0   \n1131       4973.0  ...        1446.0          1446.0           196.0   \n412        1748.0  ...        1717.0          1717.0            96.0   \n404        1086.0  ...        1740.0          1740.0            63.0   \n795        5532.0  ...         942.0           942.0           277.0   \n362        2567.0  ...        1346.0          1346.0           106.0   \n638       13923.0  ...         289.0           289.0           723.0   \n136        9100.0  ...         511.0           511.0           378.0   \n842        2581.0  ...        1659.0          1659.0            90.0   \n556        5070.0  ...        1267.0          1267.0           256.0   \n280         504.0  ...        1390.0          1390.0            25.0   \n69            0.0  ...         710.0           710.0             0.0   \n139        6357.0  ...         213.0           213.0           375.0   \n351        3518.0  ...        1594.0          1594.0           175.0   \n193        6765.0  ...        1424.0          1424.0           343.0   \n111        3257.0  ...        1977.0          1977.0            77.0   \n160        2584.0  ...        1813.0          1813.0           127.0   \n419        6569.0  ...         145.0           145.0           286.0   \n503        7447.0  ...        1591.0          1591.0           365.0   \n41         9770.0  ...         717.0           717.0           511.0   \n509        9920.0  ...         184.0           184.0           529.0   \n530        7132.0  ...         495.0           495.0           322.0   \n343       12477.0  ...          87.0            87.0           749.0   \n560        6639.0  ...        1140.0          1140.0           351.0   \n1032       2378.0  ...        1500.0          1500.0            80.0   \n614       14156.0  ...         181.0           181.0           673.0   \n1576       2823.0  ...         791.0           791.0           127.0   \n1421       1426.0  ...        1777.0          1777.0            84.0   \n1315       9515.0  ...         416.0           416.0           480.0   \n1271      10403.0  ...         770.0           770.0           424.0   \n952        1794.0  ...        1876.0          1876.0           103.0   \n709        3766.0  ...        1332.0          1332.0           196.0   \n1197       3730.0  ...        1609.0          1609.0           161.0   \n758        1458.0  ...        1644.0          1644.0            39.0   \n79         2957.0  ...        1317.0          1317.0           171.0   \n886        8656.0  ...         510.0           510.0           361.0   \n272        1823.0  ...        1466.0          1466.0           106.0   \n\n      w_bpSaved_grass  w_bpSaved_hard  w_bpSaved_carpet  w_bpFaced_clay  \\\n192             152.0           588.0             588.0           654.0   \n154              47.0           450.0             450.0           760.0   \n0                75.0           642.0             642.0           508.0   \n35              150.0           375.0             375.0            81.0   \n766              84.0           710.0             710.0           180.0   \n679              47.0           542.0             542.0           765.0   \n188              88.0           343.0             343.0           181.0   \n1051             42.0           629.0             629.0           405.0   \n1366             88.0           362.0             362.0            48.0   \n546              63.0           314.0             314.0            62.0   \n374               0.0            32.0              32.0          1196.0   \n1150             31.0           502.0             502.0           487.0   \n259              91.0           565.0             565.0           336.0   \n265               0.0            11.0              11.0          1059.0   \n1131             86.0           347.0             347.0           251.0   \n412              45.0           468.0             468.0           143.0   \n404             175.0           530.0             530.0            83.0   \n795              14.0           203.0             203.0           388.0   \n362             110.0           292.0             292.0           150.0   \n638              10.0            73.0              73.0          1092.0   \n136              34.0           116.0             116.0           557.0   \n842             118.0           478.0             478.0           151.0   \n556              60.0           379.0             379.0           405.0   \n280             113.0           387.0             387.0            39.0   \n69               56.0           134.0             134.0             0.0   \n139              10.0            55.0              55.0           567.0   \n351              59.0           515.0             515.0           280.0   \n193              32.0           454.0             454.0           530.0   \n111              52.0           277.0             277.0            96.0   \n160              55.0           383.0             383.0           184.0   \n419               0.0            60.0              60.0           409.0   \n503              17.0           453.0             453.0           550.0   \n41               14.0           216.0             216.0           797.0   \n509               1.0            82.0              82.0           803.0   \n530              19.0           120.0             120.0           464.0   \n343               4.0            23.0              23.0          1141.0   \n560               0.0           359.0             359.0           523.0   \n1032             20.0           222.0             222.0           108.0   \n614               2.0            32.0              32.0           996.0   \n1576              3.0           274.0             274.0           204.0   \n1421            122.0           460.0             460.0           117.0   \n1315              0.0           112.0             112.0           748.0   \n1271              3.0           173.0             173.0           613.0   \n952              56.0           529.0             529.0           163.0   \n709              82.0           350.0             350.0           288.0   \n1197             34.0           520.0             520.0           242.0   \n758              77.0           299.0             299.0            50.0   \n79               15.0           408.0             408.0           240.0   \n886              26.0           121.0             121.0           494.0   \n272             169.0           413.0             413.0           165.0   \n\n      w_bpFaced_grass  w_bpFaced_hard  w_bpFaced_carpet  \n192             208.0           859.0             859.0  \n154              64.0           647.0             647.0  \n0               102.0           915.0             915.0  \n35              196.0           529.0             529.0  \n766             123.0          1030.0            1030.0  \n679              60.0           805.0             805.0  \n188             128.0           522.0             522.0  \n1051             68.0           901.0             901.0  \n1366            118.0           480.0             480.0  \n546              76.0           425.0             425.0  \n374               0.0            44.0              44.0  \n1150             50.0           696.0             696.0  \n259             125.0           844.0             844.0  \n265               0.0            15.0              15.0  \n1131            105.0           460.0             460.0  \n412              61.0           683.0             683.0  \n404             236.0           774.0             774.0  \n795              17.0           279.0             279.0  \n362             151.0           372.0             372.0  \n638              15.0           114.0             114.0  \n136              48.0           163.0             163.0  \n842             165.0           689.0             689.0  \n556              81.0           597.0             597.0  \n280             150.0           602.0             602.0  \n69               69.0           205.0             205.0  \n139              19.0            88.0              88.0  \n351              93.0           770.0             770.0  \n193              60.0           717.0             717.0  \n111              60.0           343.0             343.0  \n160              82.0           585.0             585.0  \n419               0.0            81.0              81.0  \n503              18.0           645.0             645.0  \n41               18.0           320.0             320.0  \n509               1.0           118.0             118.0  \n530              30.0           167.0             167.0  \n343               4.0            39.0              39.0  \n560               0.0           514.0             514.0  \n1032             23.0           293.0             293.0  \n614               5.0            50.0              50.0  \n1576              6.0           381.0             381.0  \n1421            167.0           685.0             685.0  \n1315              0.0           165.0             165.0  \n1271              4.0           247.0             247.0  \n952              86.0           774.0             774.0  \n709             114.0           502.0             502.0  \n1197             46.0           704.0             704.0  \n758             120.0           389.0             389.0  \n79               19.0           600.0             600.0  \n886              36.0           155.0             155.0  \n272             265.0           595.0             595.0  \n\n[50 rows x 37 columns]",
      "text/html": "<div>\n<style scoped>\n    .dataframe tbody tr th:only-of-type {\n        vertical-align: middle;\n    }\n\n    .dataframe tbody tr th {\n        vertical-align: top;\n    }\n\n    .dataframe thead th {\n        text-align: right;\n    }\n</style>\n<table border=\"1\" class=\"dataframe\">\n  <thead>\n    <tr style=\"text-align: right;\">\n      <th></th>\n      <th>Name</th>\n      <th>w_ace_clay</th>\n      <th>w_ace_grass</th>\n      <th>w_ace_hard</th>\n      <th>w_ace_carpet</th>\n      <th>w_df_clay</th>\n      <th>w_df_grass</th>\n      <th>w_df_hard</th>\n      <th>w_df_carpet</th>\n      <th>w_svpt_clay</th>\n      <th>...</th>\n      <th>w_SvGms_hard</th>\n      <th>w_SvGms_carpet</th>\n      <th>w_bpSaved_clay</th>\n      <th>w_bpSaved_grass</th>\n      <th>w_bpSaved_hard</th>\n      <th>w_bpSaved_carpet</th>\n      <th>w_bpFaced_clay</th>\n      <th>w_bpFaced_grass</th>\n      <th>w_bpFaced_hard</th>\n      <th>w_bpFaced_carpet</th>\n    </tr>\n  </thead>\n  <tbody>\n    <tr>\n      <th>192</th>\n      <td>Novak Djokovic</td>\n      <td>312.0</td>\n      <td>107.0</td>\n      <td>460.0</td>\n      <td>460.0</td>\n      <td>244.0</td>\n      <td>147.0</td>\n      <td>569.0</td>\n      <td>569.0</td>\n      <td>9237.0</td>\n      <td>...</td>\n      <td>2583.0</td>\n      <td>2583.0</td>\n      <td>445.0</td>\n      <td>152.0</td>\n      <td>588.0</td>\n      <td>588.0</td>\n      <td>654.0</td>\n      <td>208.0</td>\n      <td>859.0</td>\n      <td>859.0</td>\n    </tr>\n    <tr>\n      <th>154</th>\n      <td>Rafael Nadal</td>\n      <td>330.0</td>\n      <td>35.0</td>\n      <td>451.0</td>\n      <td>451.0</td>\n      <td>269.0</td>\n      <td>32.0</td>\n      <td>336.0</td>\n      <td>336.0</td>\n      <td>10917.0</td>\n      <td>...</td>\n      <td>2139.0</td>\n      <td>2139.0</td>\n      <td>537.0</td>\n      <td>47.0</td>\n      <td>450.0</td>\n      <td>450.0</td>\n      <td>760.0</td>\n      <td>64.0</td>\n      <td>647.0</td>\n      <td>647.0</td>\n    </tr>\n    <tr>\n      <th>0</th>\n      <td>Alexander Zverev</td>\n      <td>245.0</td>\n      <td>11.0</td>\n      <td>276.0</td>\n      <td>276.0</td>\n      <td>389.0</td>\n      <td>88.0</td>\n      <td>781.0</td>\n      <td>781.0</td>\n      <td>8221.0</td>\n      <td>...</td>\n      <td>2535.0</td>\n      <td>2535.0</td>\n      <td>310.0</td>\n      <td>75.0</td>\n      <td>642.0</td>\n      <td>642.0</td>\n      <td>508.0</td>\n      <td>102.0</td>\n      <td>915.0</td>\n      <td>915.0</td>\n    </tr>\n    <tr>\n      <th>35</th>\n      <td>Roger Federer</td>\n      <td>52.0</td>\n      <td>107.0</td>\n      <td>280.0</td>\n      <td>280.0</td>\n      <td>27.0</td>\n      <td>64.0</td>\n      <td>278.0</td>\n      <td>278.0</td>\n      <td>1563.0</td>\n      <td>...</td>\n      <td>1943.0</td>\n      <td>1943.0</td>\n      <td>57.0</td>\n      <td>150.0</td>\n      <td>375.0</td>\n      <td>375.0</td>\n      <td>81.0</td>\n      <td>196.0</td>\n      <td>529.0</td>\n      <td>529.0</td>\n    </tr>\n    <tr>\n      <th>766</th>\n      <td>Daniil Medvedev</td>\n      <td>89.0</td>\n      <td>44.0</td>\n      <td>416.0</td>\n      <td>416.0</td>\n      <td>100.0</td>\n      <td>98.0</td>\n      <td>790.0</td>\n      <td>790.0</td>\n      <td>2496.0</td>\n      <td>...</td>\n      <td>2947.0</td>\n      <td>2947.0</td>\n      <td>118.0</td>\n      <td>84.0</td>\n      <td>710.0</td>\n      <td>710.0</td>\n      <td>180.0</td>\n      <td>123.0</td>\n      <td>1030.0</td>\n      <td>1030.0</td>\n    </tr>\n    <tr>\n      <th>679</th>\n      <td>Dominic Thiem</td>\n      <td>471.0</td>\n      <td>15.0</td>\n      <td>293.0</td>\n      <td>293.0</td>\n      <td>412.0</td>\n      <td>63.0</td>\n      <td>433.0</td>\n      <td>433.0</td>\n      <td>12133.0</td>\n      <td>...</td>\n      <td>2241.0</td>\n      <td>2241.0</td>\n      <td>517.0</td>\n      <td>47.0</td>\n      <td>542.0</td>\n      <td>542.0</td>\n      <td>765.0</td>\n      <td>60.0</td>\n      <td>805.0</td>\n      <td>805.0</td>\n    </tr>\n    <tr>\n      <th>188</th>\n      <td>Andy Murray</td>\n      <td>72.0</td>\n      <td>40.0</td>\n      <td>249.0</td>\n      <td>249.0</td>\n      <td>84.0</td>\n      <td>38.0</td>\n      <td>318.0</td>\n      <td>318.0</td>\n      <td>2609.0</td>\n      <td>...</td>\n      <td>1394.0</td>\n      <td>1394.0</td>\n      <td>126.0</td>\n      <td>88.0</td>\n      <td>343.0</td>\n      <td>343.0</td>\n      <td>181.0</td>\n      <td>128.0</td>\n      <td>522.0</td>\n      <td>522.0</td>\n    </tr>\n    <tr>\n      <th>1051</th>\n      <td>Andrey Rublev</td>\n      <td>136.0</td>\n      <td>34.0</td>\n      <td>389.0</td>\n      <td>389.0</td>\n      <td>135.0</td>\n      <td>32.0</td>\n      <td>560.0</td>\n      <td>560.0</td>\n      <td>5121.0</td>\n      <td>...</td>\n      <td>2411.0</td>\n      <td>2411.0</td>\n      <td>261.0</td>\n      <td>42.0</td>\n      <td>629.0</td>\n      <td>629.0</td>\n      <td>405.0</td>\n      <td>68.0</td>\n      <td>901.0</td>\n      <td>901.0</td>\n    </tr>\n    <tr>\n      <th>1366</th>\n      <td>Ugo Humbert</td>\n      <td>25.0</td>\n      <td>10.0</td>\n      <td>201.0</td>\n      <td>201.0</td>\n      <td>24.0</td>\n      <td>75.0</td>\n      <td>310.0</td>\n      <td>310.0</td>\n      <td>712.0</td>\n      <td>...</td>\n      <td>1340.0</td>\n      <td>1340.0</td>\n      <td>25.0</td>\n      <td>88.0</td>\n      <td>362.0</td>\n      <td>362.0</td>\n      <td>48.0</td>\n      <td>118.0</td>\n      <td>480.0</td>\n      <td>480.0</td>\n    </tr>\n    <tr>\n      <th>546</th>\n      <td>James Duckworth</td>\n      <td>20.0</td>\n      <td>19.0</td>\n      <td>138.0</td>\n      <td>138.0</td>\n      <td>27.0</td>\n      <td>26.0</td>\n      <td>250.0</td>\n      <td>250.0</td>\n      <td>713.0</td>\n      <td>...</td>\n      <td>1330.0</td>\n      <td>1330.0</td>\n      <td>49.0</td>\n      <td>63.0</td>\n      <td>314.0</td>\n      <td>314.0</td>\n      <td>62.0</td>\n      <td>76.0</td>\n      <td>425.0</td>\n      <td>425.0</td>\n    </tr>\n    <tr>\n      <th>374</th>\n      <td>Facundo Bagnis</td>\n      <td>581.0</td>\n      <td>0.0</td>\n      <td>15.0</td>\n      <td>15.0</td>\n      <td>724.0</td>\n      <td>0.0</td>\n      <td>19.0</td>\n      <td>19.0</td>\n      <td>15625.0</td>\n      <td>...</td>\n      <td>34.0</td>\n      <td>34.0</td>\n      <td>816.0</td>\n      <td>0.0</td>\n      <td>32.0</td>\n      <td>32.0</td>\n      <td>1196.0</td>\n      <td>0.0</td>\n      <td>44.0</td>\n      <td>44.0</td>\n    </tr>\n    <tr>\n      <th>1150</th>\n      <td>Stefanos Tsitsipas</td>\n      <td>323.0</td>\n      <td>15.0</td>\n      <td>382.0</td>\n      <td>382.0</td>\n      <td>210.0</td>\n      <td>43.0</td>\n      <td>365.0</td>\n      <td>365.0</td>\n      <td>8449.0</td>\n      <td>...</td>\n      <td>2473.0</td>\n      <td>2473.0</td>\n      <td>329.0</td>\n      <td>31.0</td>\n      <td>502.0</td>\n      <td>502.0</td>\n      <td>487.0</td>\n      <td>50.0</td>\n      <td>696.0</td>\n      <td>696.0</td>\n    </tr>\n    <tr>\n      <th>259</th>\n      <td>Roberto Bautista Agut</td>\n      <td>149.0</td>\n      <td>81.0</td>\n      <td>442.0</td>\n      <td>442.0</td>\n      <td>102.0</td>\n      <td>36.0</td>\n      <td>338.0</td>\n      <td>338.0</td>\n      <td>4686.0</td>\n      <td>...</td>\n      <td>2150.0</td>\n      <td>2150.0</td>\n      <td>224.0</td>\n      <td>91.0</td>\n      <td>565.0</td>\n      <td>565.0</td>\n      <td>336.0</td>\n      <td>125.0</td>\n      <td>844.0</td>\n      <td>844.0</td>\n    </tr>\n    <tr>\n      <th>265</th>\n      <td>Pedro Sousa</td>\n      <td>267.0</td>\n      <td>0.0</td>\n      <td>4.0</td>\n      <td>4.0</td>\n      <td>425.0</td>\n      <td>0.0</td>\n      <td>9.0</td>\n      <td>9.0</td>\n      <td>11788.0</td>\n      <td>...</td>\n      <td>32.0</td>\n      <td>32.0</td>\n      <td>684.0</td>\n      <td>0.0</td>\n      <td>11.0</td>\n      <td>11.0</td>\n      <td>1059.0</td>\n      <td>0.0</td>\n      <td>15.0</td>\n      <td>15.0</td>\n    </tr>\n    <tr>\n      <th>1131</th>\n      <td>Matteo Berrettini</td>\n      <td>203.0</td>\n      <td>23.0</td>\n      <td>182.0</td>\n      <td>182.0</td>\n      <td>103.0</td>\n      <td>62.0</td>\n      <td>207.0</td>\n      <td>207.0</td>\n      <td>4973.0</td>\n      <td>...</td>\n      <td>1446.0</td>\n      <td>1446.0</td>\n      <td>196.0</td>\n      <td>86.0</td>\n      <td>347.0</td>\n      <td>347.0</td>\n      <td>251.0</td>\n      <td>105.0</td>\n      <td>460.0</td>\n      <td>460.0</td>\n    </tr>\n    <tr>\n      <th>412</th>\n      <td>Ricardas Berankis</td>\n      <td>34.0</td>\n      <td>26.0</td>\n      <td>376.0</td>\n      <td>376.0</td>\n      <td>73.0</td>\n      <td>22.0</td>\n      <td>328.0</td>\n      <td>328.0</td>\n      <td>1748.0</td>\n      <td>...</td>\n      <td>1717.0</td>\n      <td>1717.0</td>\n      <td>96.0</td>\n      <td>45.0</td>\n      <td>468.0</td>\n      <td>468.0</td>\n      <td>143.0</td>\n      <td>61.0</td>\n      <td>683.0</td>\n      <td>683.0</td>\n    </tr>\n    <tr>\n      <th>404</th>\n      <td>Daniel Evans</td>\n      <td>25.0</td>\n      <td>107.0</td>\n      <td>375.0</td>\n      <td>375.0</td>\n      <td>19.0</td>\n      <td>82.0</td>\n      <td>360.0</td>\n      <td>360.0</td>\n      <td>1086.0</td>\n      <td>...</td>\n      <td>1740.0</td>\n      <td>1740.0</td>\n      <td>63.0</td>\n      <td>175.0</td>\n      <td>530.0</td>\n      <td>530.0</td>\n      <td>83.0</td>\n      <td>236.0</td>\n      <td>774.0</td>\n      <td>774.0</td>\n    </tr>\n    <tr>\n      <th>795</th>\n      <td>Maximilian Marterer</td>\n      <td>204.0</td>\n      <td>8.0</td>\n      <td>100.0</td>\n      <td>100.0</td>\n      <td>142.0</td>\n      <td>8.0</td>\n      <td>113.0</td>\n      <td>113.0</td>\n      <td>5532.0</td>\n      <td>...</td>\n      <td>942.0</td>\n      <td>942.0</td>\n      <td>277.0</td>\n      <td>14.0</td>\n      <td>203.0</td>\n      <td>203.0</td>\n      <td>388.0</td>\n      <td>17.0</td>\n      <td>279.0</td>\n      <td>279.0</td>\n    </tr>\n    <tr>\n      <th>362</th>\n      <td>Steve Johnson</td>\n      <td>60.0</td>\n      <td>22.0</td>\n      <td>161.0</td>\n      <td>161.0</td>\n      <td>108.0</td>\n      <td>104.0</td>\n      <td>295.0</td>\n      <td>295.0</td>\n      <td>2567.0</td>\n      <td>...</td>\n      <td>1346.0</td>\n      <td>1346.0</td>\n      <td>106.0</td>\n      <td>110.0</td>\n      <td>292.0</td>\n      <td>292.0</td>\n      <td>150.0</td>\n      <td>151.0</td>\n      <td>372.0</td>\n      <td>372.0</td>\n    </tr>\n    <tr>\n      <th>638</th>\n      <td>Roberto Carballes Baena</td>\n      <td>395.0</td>\n      <td>8.0</td>\n      <td>38.0</td>\n      <td>38.0</td>\n      <td>499.0</td>\n      <td>10.0</td>\n      <td>58.0</td>\n      <td>58.0</td>\n      <td>13923.0</td>\n      <td>...</td>\n      <td>289.0</td>\n      <td>289.0</td>\n      <td>723.0</td>\n      <td>10.0</td>\n      <td>73.0</td>\n      <td>73.0</td>\n      <td>1092.0</td>\n      <td>15.0</td>\n      <td>114.0</td>\n      <td>114.0</td>\n    </tr>\n    <tr>\n      <th>136</th>\n      <td>Pablo Cuevas</td>\n      <td>265.0</td>\n      <td>0.0</td>\n      <td>101.0</td>\n      <td>101.0</td>\n      <td>320.0</td>\n      <td>21.0</td>\n      <td>119.0</td>\n      <td>119.0</td>\n      <td>9100.0</td>\n      <td>...</td>\n      <td>511.0</td>\n      <td>511.0</td>\n      <td>378.0</td>\n      <td>34.0</td>\n      <td>116.0</td>\n      <td>116.0</td>\n      <td>557.0</td>\n      <td>48.0</td>\n      <td>163.0</td>\n      <td>163.0</td>\n    </tr>\n    <tr>\n      <th>842</th>\n      <td>Jordan Thompson</td>\n      <td>93.0</td>\n      <td>70.0</td>\n      <td>406.0</td>\n      <td>406.0</td>\n      <td>62.0</td>\n      <td>53.0</td>\n      <td>260.0</td>\n      <td>260.0</td>\n      <td>2581.0</td>\n      <td>...</td>\n      <td>1659.0</td>\n      <td>1659.0</td>\n      <td>90.0</td>\n      <td>118.0</td>\n      <td>478.0</td>\n      <td>478.0</td>\n      <td>151.0</td>\n      <td>165.0</td>\n      <td>689.0</td>\n      <td>689.0</td>\n    </tr>\n    <tr>\n      <th>556</th>\n      <td>Nikoloz Basilashvili</td>\n      <td>164.0</td>\n      <td>35.0</td>\n      <td>261.0</td>\n      <td>261.0</td>\n      <td>240.0</td>\n      <td>53.0</td>\n      <td>424.0</td>\n      <td>424.0</td>\n      <td>5070.0</td>\n      <td>...</td>\n      <td>1267.0</td>\n      <td>1267.0</td>\n      <td>256.0</td>\n      <td>60.0</td>\n      <td>379.0</td>\n      <td>379.0</td>\n      <td>405.0</td>\n      <td>81.0</td>\n      <td>597.0</td>\n      <td>597.0</td>\n    </tr>\n    <tr>\n      <th>280</th>\n      <td>Yuichi Sugita</td>\n      <td>14.0</td>\n      <td>115.0</td>\n      <td>290.0</td>\n      <td>290.0</td>\n      <td>10.0</td>\n      <td>55.0</td>\n      <td>210.0</td>\n      <td>210.0</td>\n      <td>504.0</td>\n      <td>...</td>\n      <td>1390.0</td>\n      <td>1390.0</td>\n      <td>25.0</td>\n      <td>113.0</td>\n      <td>387.0</td>\n      <td>387.0</td>\n      <td>39.0</td>\n      <td>150.0</td>\n      <td>602.0</td>\n      <td>602.0</td>\n    </tr>\n    <tr>\n      <th>69</th>\n      <td>Yen Hsun Lu</td>\n      <td>0.0</td>\n      <td>44.0</td>\n      <td>171.0</td>\n      <td>171.0</td>\n      <td>0.0</td>\n      <td>42.0</td>\n      <td>143.0</td>\n      <td>143.0</td>\n      <td>0.0</td>\n      <td>...</td>\n      <td>710.0</td>\n      <td>710.0</td>\n      <td>0.0</td>\n      <td>56.0</td>\n      <td>134.0</td>\n      <td>134.0</td>\n      <td>0.0</td>\n      <td>69.0</td>\n      <td>205.0</td>\n      <td>205.0</td>\n    </tr>\n    <tr>\n      <th>139</th>\n      <td>Pablo Andujar</td>\n      <td>122.0</td>\n      <td>1.0</td>\n      <td>31.0</td>\n      <td>31.0</td>\n      <td>233.0</td>\n      <td>8.0</td>\n      <td>51.0</td>\n      <td>51.0</td>\n      <td>6357.0</td>\n      <td>...</td>\n      <td>213.0</td>\n      <td>213.0</td>\n      <td>375.0</td>\n      <td>10.0</td>\n      <td>55.0</td>\n      <td>55.0</td>\n      <td>567.0</td>\n      <td>19.0</td>\n      <td>88.0</td>\n      <td>88.0</td>\n    </tr>\n    <tr>\n      <th>351</th>\n      <td>Radu Albot</td>\n      <td>60.0</td>\n      <td>38.0</td>\n      <td>347.0</td>\n      <td>347.0</td>\n      <td>124.0</td>\n      <td>38.0</td>\n      <td>309.0</td>\n      <td>309.0</td>\n      <td>3518.0</td>\n      <td>...</td>\n      <td>1594.0</td>\n      <td>1594.0</td>\n      <td>175.0</td>\n      <td>59.0</td>\n      <td>515.0</td>\n      <td>515.0</td>\n      <td>280.0</td>\n      <td>93.0</td>\n      <td>770.0</td>\n      <td>770.0</td>\n    </tr>\n    <tr>\n      <th>193</th>\n      <td>Fabio Fognini</td>\n      <td>185.0</td>\n      <td>30.0</td>\n      <td>242.0</td>\n      <td>242.0</td>\n      <td>290.0</td>\n      <td>53.0</td>\n      <td>488.0</td>\n      <td>488.0</td>\n      <td>6765.0</td>\n      <td>...</td>\n      <td>1424.0</td>\n      <td>1424.0</td>\n      <td>343.0</td>\n      <td>32.0</td>\n      <td>454.0</td>\n      <td>454.0</td>\n      <td>530.0</td>\n      <td>60.0</td>\n      <td>717.0</td>\n      <td>717.0</td>\n    </tr>\n    <tr>\n      <th>111</th>\n      <td>John Isner</td>\n      <td>0.0</td>\n      <td>10.0</td>\n      <td>6.0</td>\n      <td>6.0</td>\n      <td>67.0</td>\n      <td>66.0</td>\n      <td>266.0</td>\n      <td>266.0</td>\n      <td>3257.0</td>\n      <td>...</td>\n      <td>1977.0</td>\n      <td>1977.0</td>\n      <td>77.0</td>\n      <td>52.0</td>\n      <td>277.0</td>\n      <td>277.0</td>\n      <td>96.0</td>\n      <td>60.0</td>\n      <td>343.0</td>\n      <td>343.0</td>\n    </tr>\n    <tr>\n      <th>160</th>\n      <td>Gael Monfils</td>\n      <td>68.0</td>\n      <td>0.0</td>\n      <td>255.0</td>\n      <td>255.0</td>\n      <td>103.0</td>\n      <td>60.0</td>\n      <td>481.0</td>\n      <td>481.0</td>\n      <td>2584.0</td>\n      <td>...</td>\n      <td>1813.0</td>\n      <td>1813.0</td>\n      <td>127.0</td>\n      <td>55.0</td>\n      <td>383.0</td>\n      <td>383.0</td>\n      <td>184.0</td>\n      <td>82.0</td>\n      <td>585.0</td>\n      <td>585.0</td>\n    </tr>\n    <tr>\n      <th>419</th>\n      <td>Gerald Melzer</td>\n      <td>306.0</td>\n      <td>0.0</td>\n      <td>34.0</td>\n      <td>34.0</td>\n      <td>213.0</td>\n      <td>0.0</td>\n      <td>33.0</td>\n      <td>33.0</td>\n      <td>6569.0</td>\n      <td>...</td>\n      <td>145.0</td>\n      <td>145.0</td>\n      <td>286.0</td>\n      <td>0.0</td>\n      <td>60.0</td>\n      <td>60.0</td>\n      <td>409.0</td>\n      <td>0.0</td>\n      <td>81.0</td>\n      <td>81.0</td>\n    </tr>\n    <tr>\n      <th>503</th>\n      <td>Pablo Carreno Busta</td>\n      <td>241.0</td>\n      <td>2.0</td>\n      <td>320.0</td>\n      <td>320.0</td>\n      <td>124.0</td>\n      <td>5.0</td>\n      <td>241.0</td>\n      <td>241.0</td>\n      <td>7447.0</td>\n      <td>...</td>\n      <td>1591.0</td>\n      <td>1591.0</td>\n      <td>365.0</td>\n      <td>17.0</td>\n      <td>453.0</td>\n      <td>453.0</td>\n      <td>550.0</td>\n      <td>18.0</td>\n      <td>645.0</td>\n      <td>645.0</td>\n    </tr>\n    <tr>\n      <th>41</th>\n      <td>Paolo Lorenzi</td>\n      <td>337.0</td>\n      <td>6.0</td>\n      <td>92.0</td>\n      <td>92.0</td>\n      <td>305.0</td>\n      <td>7.0</td>\n      <td>179.0</td>\n      <td>179.0</td>\n      <td>9770.0</td>\n      <td>...</td>\n      <td>717.0</td>\n      <td>717.0</td>\n      <td>511.0</td>\n      <td>14.0</td>\n      <td>216.0</td>\n      <td>216.0</td>\n      <td>797.0</td>\n      <td>18.0</td>\n      <td>320.0</td>\n      <td>320.0</td>\n    </tr>\n    <tr>\n      <th>509</th>\n      <td>Guido Andreozzi</td>\n      <td>299.0</td>\n      <td>5.0</td>\n      <td>32.0</td>\n      <td>32.0</td>\n      <td>368.0</td>\n      <td>5.0</td>\n      <td>76.0</td>\n      <td>76.0</td>\n      <td>9920.0</td>\n      <td>...</td>\n      <td>184.0</td>\n      <td>184.0</td>\n      <td>529.0</td>\n      <td>1.0</td>\n      <td>82.0</td>\n      <td>82.0</td>\n      <td>803.0</td>\n      <td>1.0</td>\n      <td>118.0</td>\n      <td>118.0</td>\n    </tr>\n    <tr>\n      <th>530</th>\n      <td>Yannick Hanfmann</td>\n      <td>287.0</td>\n      <td>19.0</td>\n      <td>126.0</td>\n      <td>126.0</td>\n      <td>232.0</td>\n      <td>16.0</td>\n      <td>124.0</td>\n      <td>124.0</td>\n      <td>7132.0</td>\n      <td>...</td>\n      <td>495.0</td>\n      <td>495.0</td>\n      <td>322.0</td>\n      <td>19.0</td>\n      <td>120.0</td>\n      <td>120.0</td>\n      <td>464.0</td>\n      <td>30.0</td>\n      <td>167.0</td>\n      <td>167.0</td>\n    </tr>\n    <tr>\n      <th>343</th>\n      <td>Andrej Martin</td>\n      <td>380.0</td>\n      <td>5.0</td>\n      <td>19.0</td>\n      <td>19.0</td>\n      <td>495.0</td>\n      <td>1.0</td>\n      <td>19.0</td>\n      <td>19.0</td>\n      <td>12477.0</td>\n      <td>...</td>\n      <td>87.0</td>\n      <td>87.0</td>\n      <td>749.0</td>\n      <td>4.0</td>\n      <td>23.0</td>\n      <td>23.0</td>\n      <td>1141.0</td>\n      <td>4.0</td>\n      <td>39.0</td>\n      <td>39.0</td>\n    </tr>\n    <tr>\n      <th>560</th>\n      <td>Filip Krajinovic</td>\n      <td>221.0</td>\n      <td>0.0</td>\n      <td>250.0</td>\n      <td>250.0</td>\n      <td>111.0</td>\n      <td>0.0</td>\n      <td>135.0</td>\n      <td>135.0</td>\n      <td>6639.0</td>\n      <td>...</td>\n      <td>1140.0</td>\n      <td>1140.0</td>\n      <td>351.0</td>\n      <td>0.0</td>\n      <td>359.0</td>\n      <td>359.0</td>\n      <td>523.0</td>\n      <td>0.0</td>\n      <td>514.0</td>\n      <td>514.0</td>\n    </tr>\n    <tr>\n      <th>1032</th>\n      <td>Reilly Opelka</td>\n      <td>6.0</td>\n      <td>0.0</td>\n      <td>6.0</td>\n      <td>6.0</td>\n      <td>85.0</td>\n      <td>16.0</td>\n      <td>336.0</td>\n      <td>336.0</td>\n      <td>2378.0</td>\n      <td>...</td>\n      <td>1500.0</td>\n      <td>1500.0</td>\n      <td>80.0</td>\n      <td>20.0</td>\n      <td>222.0</td>\n      <td>222.0</td>\n      <td>108.0</td>\n      <td>23.0</td>\n      <td>293.0</td>\n      <td>293.0</td>\n    </tr>\n    <tr>\n      <th>614</th>\n      <td>Marco Cecchinato</td>\n      <td>448.0</td>\n      <td>5.0</td>\n      <td>22.0</td>\n      <td>22.0</td>\n      <td>319.0</td>\n      <td>6.0</td>\n      <td>38.0</td>\n      <td>38.0</td>\n      <td>14156.0</td>\n      <td>...</td>\n      <td>181.0</td>\n      <td>181.0</td>\n      <td>673.0</td>\n      <td>2.0</td>\n      <td>32.0</td>\n      <td>32.0</td>\n      <td>996.0</td>\n      <td>5.0</td>\n      <td>50.0</td>\n      <td>50.0</td>\n    </tr>\n    <tr>\n      <th>1576</th>\n      <td>Jannik Sinner</td>\n      <td>108.0</td>\n      <td>5.0</td>\n      <td>172.0</td>\n      <td>172.0</td>\n      <td>73.0</td>\n      <td>5.0</td>\n      <td>158.0</td>\n      <td>158.0</td>\n      <td>2823.0</td>\n      <td>...</td>\n      <td>791.0</td>\n      <td>791.0</td>\n      <td>127.0</td>\n      <td>3.0</td>\n      <td>274.0</td>\n      <td>274.0</td>\n      <td>204.0</td>\n      <td>6.0</td>\n      <td>381.0</td>\n      <td>381.0</td>\n    </tr>\n    <tr>\n      <th>1421</th>\n      <td>Alex De Minaur</td>\n      <td>28.0</td>\n      <td>79.0</td>\n      <td>333.0</td>\n      <td>333.0</td>\n      <td>57.0</td>\n      <td>103.0</td>\n      <td>367.0</td>\n      <td>367.0</td>\n      <td>1426.0</td>\n      <td>...</td>\n      <td>1777.0</td>\n      <td>1777.0</td>\n      <td>84.0</td>\n      <td>122.0</td>\n      <td>460.0</td>\n      <td>460.0</td>\n      <td>117.0</td>\n      <td>167.0</td>\n      <td>685.0</td>\n      <td>685.0</td>\n    </tr>\n    <tr>\n      <th>1315</th>\n      <td>Jaume Munar</td>\n      <td>289.0</td>\n      <td>0.0</td>\n      <td>85.0</td>\n      <td>85.0</td>\n      <td>268.0</td>\n      <td>0.0</td>\n      <td>85.0</td>\n      <td>85.0</td>\n      <td>9515.0</td>\n      <td>...</td>\n      <td>416.0</td>\n      <td>416.0</td>\n      <td>480.0</td>\n      <td>0.0</td>\n      <td>112.0</td>\n      <td>112.0</td>\n      <td>748.0</td>\n      <td>0.0</td>\n      <td>165.0</td>\n      <td>165.0</td>\n    </tr>\n    <tr>\n      <th>1271</th>\n      <td>Casper Ruud</td>\n      <td>393.0</td>\n      <td>8.0</td>\n      <td>161.0</td>\n      <td>161.0</td>\n      <td>319.0</td>\n      <td>4.0</td>\n      <td>159.0</td>\n      <td>159.0</td>\n      <td>10403.0</td>\n      <td>...</td>\n      <td>770.0</td>\n      <td>770.0</td>\n      <td>424.0</td>\n      <td>3.0</td>\n      <td>173.0</td>\n      <td>173.0</td>\n      <td>613.0</td>\n      <td>4.0</td>\n      <td>247.0</td>\n      <td>247.0</td>\n    </tr>\n    <tr>\n      <th>952</th>\n      <td>Alexander Bublik</td>\n      <td>41.0</td>\n      <td>5.0</td>\n      <td>118.0</td>\n      <td>118.0</td>\n      <td>151.0</td>\n      <td>119.0</td>\n      <td>952.0</td>\n      <td>952.0</td>\n      <td>1794.0</td>\n      <td>...</td>\n      <td>1876.0</td>\n      <td>1876.0</td>\n      <td>103.0</td>\n      <td>56.0</td>\n      <td>529.0</td>\n      <td>529.0</td>\n      <td>163.0</td>\n      <td>86.0</td>\n      <td>774.0</td>\n      <td>774.0</td>\n    </tr>\n    <tr>\n      <th>709</th>\n      <td>Lucas Pouille</td>\n      <td>116.0</td>\n      <td>16.0</td>\n      <td>111.0</td>\n      <td>111.0</td>\n      <td>131.0</td>\n      <td>87.0</td>\n      <td>338.0</td>\n      <td>338.0</td>\n      <td>3766.0</td>\n      <td>...</td>\n      <td>1332.0</td>\n      <td>1332.0</td>\n      <td>196.0</td>\n      <td>82.0</td>\n      <td>350.0</td>\n      <td>350.0</td>\n      <td>288.0</td>\n      <td>114.0</td>\n      <td>502.0</td>\n      <td>502.0</td>\n    </tr>\n    <tr>\n      <th>1197</th>\n      <td>Hubert Hurkacz</td>\n      <td>137.0</td>\n      <td>10.0</td>\n      <td>276.0</td>\n      <td>276.0</td>\n      <td>187.0</td>\n      <td>29.0</td>\n      <td>399.0</td>\n      <td>399.0</td>\n      <td>3730.0</td>\n      <td>...</td>\n      <td>1609.0</td>\n      <td>1609.0</td>\n      <td>161.0</td>\n      <td>34.0</td>\n      <td>520.0</td>\n      <td>520.0</td>\n      <td>242.0</td>\n      <td>46.0</td>\n      <td>704.0</td>\n      <td>704.0</td>\n    </tr>\n    <tr>\n      <th>758</th>\n      <td>Nick Kyrgios</td>\n      <td>6.0</td>\n      <td>12.0</td>\n      <td>28.0</td>\n      <td>28.0</td>\n      <td>27.0</td>\n      <td>116.0</td>\n      <td>404.0</td>\n      <td>404.0</td>\n      <td>1458.0</td>\n      <td>...</td>\n      <td>1644.0</td>\n      <td>1644.0</td>\n      <td>39.0</td>\n      <td>77.0</td>\n      <td>299.0</td>\n      <td>299.0</td>\n      <td>50.0</td>\n      <td>120.0</td>\n      <td>389.0</td>\n      <td>389.0</td>\n    </tr>\n    <tr>\n      <th>79</th>\n      <td>Malek Jaziri</td>\n      <td>112.0</td>\n      <td>19.0</td>\n      <td>301.0</td>\n      <td>301.0</td>\n      <td>93.0</td>\n      <td>13.0</td>\n      <td>301.0</td>\n      <td>301.0</td>\n      <td>2957.0</td>\n      <td>...</td>\n      <td>1317.0</td>\n      <td>1317.0</td>\n      <td>171.0</td>\n      <td>15.0</td>\n      <td>408.0</td>\n      <td>408.0</td>\n      <td>240.0</td>\n      <td>19.0</td>\n      <td>600.0</td>\n      <td>600.0</td>\n    </tr>\n    <tr>\n      <th>886</th>\n      <td>Nicolas Jarry</td>\n      <td>260.0</td>\n      <td>0.0</td>\n      <td>63.0</td>\n      <td>63.0</td>\n      <td>313.0</td>\n      <td>16.0</td>\n      <td>91.0</td>\n      <td>91.0</td>\n      <td>8656.0</td>\n      <td>...</td>\n      <td>510.0</td>\n      <td>510.0</td>\n      <td>361.0</td>\n      <td>26.0</td>\n      <td>121.0</td>\n      <td>121.0</td>\n      <td>494.0</td>\n      <td>36.0</td>\n      <td>155.0</td>\n      <td>155.0</td>\n    </tr>\n    <tr>\n      <th>272</th>\n      <td>Adrian Mannarino</td>\n      <td>52.0</td>\n      <td>96.0</td>\n      <td>300.0</td>\n      <td>300.0</td>\n      <td>40.0</td>\n      <td>134.0</td>\n      <td>258.0</td>\n      <td>258.0</td>\n      <td>1823.0</td>\n      <td>...</td>\n      <td>1466.0</td>\n      <td>1466.0</td>\n      <td>106.0</td>\n      <td>169.0</td>\n      <td>413.0</td>\n      <td>413.0</td>\n      <td>165.0</td>\n      <td>265.0</td>\n      <td>595.0</td>\n      <td>595.0</td>\n    </tr>\n  </tbody>\n</table>\n<p>50 rows × 37 columns</p>\n</div>"
     },
     "metadata": {}
    }
   ]
  },
  {
   "cell_type": "code",
   "metadata": {
    "tags": [],
    "cell_id": "00023-016ad883-f404-4f9a-b971-0aa474924a17",
    "deepnote_to_be_reexecuted": true,
    "source_hash": "f8958345",
    "execution_start": 1636387487350,
    "execution_millis": 19,
    "deepnote_cell_type": "code"
   },
   "source": "df_top_male_players.to_csv(\"../data/integrations/male_winners_stats_top.csv\", index=False)",
   "execution_count": null,
   "outputs": []
  },
  {
   "cell_type": "code",
   "metadata": {
    "tags": [],
    "cell_id": "00024-6aa31f36-3769-4e65-a0c6-65f56fa649c8",
    "deepnote_to_be_reexecuted": true,
    "source_hash": "624b0967",
    "execution_start": 1636388501688,
    "execution_millis": 104,
    "deepnote_cell_type": "code"
   },
   "source": "male_stats",
   "execution_count": null,
   "outputs": [
    {
     "output_type": "execute_result",
     "execution_count": 15,
     "data": {
      "application/vnd.deepnote.dataframe.v2+json": {
       "row_count": 3018,
       "column_count": 11,
       "columns": [
        {
         "name": "Name",
         "dtype": "object",
         "stats": {
          "unique_count": 3018,
          "nan_count": 0,
          "categories": [
           {
            "name": "Alexander Zverev",
            "count": 1
           },
           {
            "name": "Agustin Moreno",
            "count": 1
           },
           {
            "name": "3016 others",
            "count": 3016
           }
          ]
         }
        },
        {
         "name": "Sex",
         "dtype": "object",
         "stats": {
          "unique_count": 1,
          "nan_count": 0,
          "categories": [
           {
            "name": "M",
            "count": 3018
           }
          ]
         }
        },
        {
         "name": "Hand",
         "dtype": "object",
         "stats": {
          "unique_count": 3,
          "nan_count": 0,
          "categories": [
           {
            "name": "R",
            "count": 1440
           },
           {
            "name": "U",
            "count": 1383
           },
           {
            "name": "L",
            "count": 195
           }
          ]
         }
        },
        {
         "name": "IOC",
         "dtype": "object",
         "stats": {
          "unique_count": 110,
          "nan_count": 0,
          "categories": [
           {
            "name": "USA",
            "count": 285
           },
           {
            "name": "ITA",
            "count": 223
           },
           {
            "name": "108 others",
            "count": 2510
           }
          ]
         }
        },
        {
         "name": "Won_Tournaments",
         "dtype": "float64",
         "stats": {
          "unique_count": 17,
          "nan_count": 0,
          "min": "0.0",
          "max": "27.0",
          "histogram": [
           {
            "bin_start": 0,
            "bin_end": 2.7,
            "count": 2854
           },
           {
            "bin_start": 2.7,
            "bin_end": 5.4,
            "count": 117
           },
           {
            "bin_start": 5.4,
            "bin_end": 8.100000000000001,
            "count": 35
           },
           {
            "bin_start": 8.100000000000001,
            "bin_end": 10.8,
            "count": 5
           },
           {
            "bin_start": 10.8,
            "bin_end": 13.5,
            "count": 1
           },
           {
            "bin_start": 13.5,
            "bin_end": 16.200000000000003,
            "count": 3
           },
           {
            "bin_start": 16.200000000000003,
            "bin_end": 18.900000000000002,
            "count": 1
           },
           {
            "bin_start": 18.900000000000002,
            "bin_end": 21.6,
            "count": 1
           },
           {
            "bin_start": 21.6,
            "bin_end": 24.3,
            "count": 0
           },
           {
            "bin_start": 24.3,
            "bin_end": 27,
            "count": 1
           }
          ]
         }
        },
        {
         "name": "Number_of_Matches",
         "dtype": "float64",
         "stats": {
          "unique_count": 304,
          "nan_count": 0,
          "min": "1.0",
          "max": "384.0",
          "histogram": [
           {
            "bin_start": 1,
            "bin_end": 39.3,
            "count": 2387
           },
           {
            "bin_start": 39.3,
            "bin_end": 77.6,
            "count": 182
           },
           {
            "bin_start": 77.6,
            "bin_end": 115.89999999999999,
            "count": 81
           },
           {
            "bin_start": 115.89999999999999,
            "bin_end": 154.2,
            "count": 61
           },
           {
            "bin_start": 154.2,
            "bin_end": 192.5,
            "count": 68
           },
           {
            "bin_start": 192.5,
            "bin_end": 230.79999999999998,
            "count": 56
           },
           {
            "bin_start": 230.79999999999998,
            "bin_end": 269.09999999999997,
            "count": 62
           },
           {
            "bin_start": 269.09999999999997,
            "bin_end": 307.4,
            "count": 69
           },
           {
            "bin_start": 307.4,
            "bin_end": 345.7,
            "count": 40
           },
           {
            "bin_start": 345.7,
            "bin_end": 384,
            "count": 12
           }
          ]
         }
        },
        {
         "name": "Win_Percentage",
         "dtype": "float64",
         "stats": {
          "unique_count": 633,
          "nan_count": 0,
          "min": "0.0",
          "max": "1.0",
          "histogram": [
           {
            "bin_start": 0,
            "bin_end": 0.1,
            "count": 1305
           },
           {
            "bin_start": 0.1,
            "bin_end": 0.2,
            "count": 86
           },
           {
            "bin_start": 0.2,
            "bin_end": 0.30000000000000004,
            "count": 246
           },
           {
            "bin_start": 0.30000000000000004,
            "bin_end": 0.4,
            "count": 329
           },
           {
            "bin_start": 0.4,
            "bin_end": 0.5,
            "count": 431
           },
           {
            "bin_start": 0.5,
            "bin_end": 0.6000000000000001,
            "count": 507
           },
           {
            "bin_start": 0.6000000000000001,
            "bin_end": 0.7000000000000001,
            "count": 79
           },
           {
            "bin_start": 0.7000000000000001,
            "bin_end": 0.8,
            "count": 11
           },
           {
            "bin_start": 0.8,
            "bin_end": 0.9,
            "count": 5
           },
           {
            "bin_start": 0.9,
            "bin_end": 1,
            "count": 19
           }
          ]
         }
        },
        {
         "name": "best_year_matches",
         "dtype": "float64",
         "stats": {
          "unique_count": 6,
          "nan_count": 0,
          "min": "2016.0",
          "max": "2021.0",
          "histogram": [
           {
            "bin_start": 2016,
            "bin_end": 2016.5,
            "count": 1203
           },
           {
            "bin_start": 2016.5,
            "bin_end": 2017,
            "count": 0
           },
           {
            "bin_start": 2017,
            "bin_end": 2017.5,
            "count": 598
           },
           {
            "bin_start": 2017.5,
            "bin_end": 2018,
            "count": 0
           },
           {
            "bin_start": 2018,
            "bin_end": 2018.5,
            "count": 578
           },
           {
            "bin_start": 2018.5,
            "bin_end": 2019,
            "count": 0
           },
           {
            "bin_start": 2019,
            "bin_end": 2019.5,
            "count": 315
           },
           {
            "bin_start": 2019.5,
            "bin_end": 2020,
            "count": 0
           },
           {
            "bin_start": 2020,
            "bin_end": 2020.5,
            "count": 108
           },
           {
            "bin_start": 2020.5,
            "bin_end": 2021,
            "count": 216
           }
          ]
         }
        },
        {
         "name": "worst_year_matches",
         "dtype": "float64",
         "stats": {
          "unique_count": 6,
          "nan_count": 0,
          "min": "2016.0",
          "max": "2021.0",
          "histogram": [
           {
            "bin_start": 2016,
            "bin_end": 2016.5,
            "count": 1029
           },
           {
            "bin_start": 2016.5,
            "bin_end": 2017,
            "count": 0
           },
           {
            "bin_start": 2017,
            "bin_end": 2017.5,
            "count": 613
           },
           {
            "bin_start": 2017.5,
            "bin_end": 2018,
            "count": 0
           },
           {
            "bin_start": 2018,
            "bin_end": 2018.5,
            "count": 506
           },
           {
            "bin_start": 2018.5,
            "bin_end": 2019,
            "count": 0
           },
           {
            "bin_start": 2019,
            "bin_end": 2019.5,
            "count": 279
           },
           {
            "bin_start": 2019.5,
            "bin_end": 2020,
            "count": 0
           },
           {
            "bin_start": 2020,
            "bin_end": 2020.5,
            "count": 355
           },
           {
            "bin_start": 2020.5,
            "bin_end": 2021,
            "count": 236
           }
          ]
         }
        },
        {
         "name": "best_year_wins",
         "dtype": "float64",
         "stats": {
          "unique_count": 6,
          "nan_count": 1302,
          "min": "2016.0",
          "max": "2021.0",
          "histogram": [
           {
            "bin_start": 2016,
            "bin_end": 2016.5,
            "count": 638
           },
           {
            "bin_start": 2016.5,
            "bin_end": 2017,
            "count": 0
           },
           {
            "bin_start": 2017,
            "bin_end": 2017.5,
            "count": 356
           },
           {
            "bin_start": 2017.5,
            "bin_end": 2018,
            "count": 0
           },
           {
            "bin_start": 2018,
            "bin_end": 2018.5,
            "count": 346
           },
           {
            "bin_start": 2018.5,
            "bin_end": 2019,
            "count": 0
           },
           {
            "bin_start": 2019,
            "bin_end": 2019.5,
            "count": 200
           },
           {
            "bin_start": 2019.5,
            "bin_end": 2020,
            "count": 0
           },
           {
            "bin_start": 2020,
            "bin_end": 2020.5,
            "count": 55
           },
           {
            "bin_start": 2020.5,
            "bin_end": 2021,
            "count": 121
           }
          ]
         }
        },
        {
         "name": "worst_year_wins",
         "dtype": "float64",
         "stats": {
          "unique_count": 6,
          "nan_count": 1302,
          "min": "2016.0",
          "max": "2021.0",
          "histogram": [
           {
            "bin_start": 2016,
            "bin_end": 2016.5,
            "count": 506
           },
           {
            "bin_start": 2016.5,
            "bin_end": 2017,
            "count": 0
           },
           {
            "bin_start": 2017,
            "bin_end": 2017.5,
            "count": 396
           },
           {
            "bin_start": 2017.5,
            "bin_end": 2018,
            "count": 0
           },
           {
            "bin_start": 2018,
            "bin_end": 2018.5,
            "count": 278
           },
           {
            "bin_start": 2018.5,
            "bin_end": 2019,
            "count": 0
           },
           {
            "bin_start": 2019,
            "bin_end": 2019.5,
            "count": 158
           },
           {
            "bin_start": 2019.5,
            "bin_end": 2020,
            "count": 0
           },
           {
            "bin_start": 2020,
            "bin_end": 2020.5,
            "count": 227
           },
           {
            "bin_start": 2020.5,
            "bin_end": 2021,
            "count": 151
           }
          ]
         }
        },
        {
         "name": "_deepnote_index_column",
         "dtype": "int64"
        }
       ],
       "rows_top": [
        {
         "Name": "Alexander Zverev",
         "Sex": "M",
         "Hand": "R",
         "IOC": "GER",
         "Won_Tournaments": 17,
         "Number_of_Matches": 378,
         "Win_Percentage": 0.7063492063492064,
         "best_year_matches": 2017,
         "worst_year_matches": 2020,
         "best_year_wins": 2018,
         "worst_year_wins": 2020,
         "_deepnote_index_column": 0
        },
        {
         "Name": "Agustin Moreno",
         "Sex": "M",
         "Hand": "R",
         "IOC": "MEX",
         "Won_Tournaments": 0,
         "Number_of_Matches": 4,
         "Win_Percentage": 0.25,
         "best_year_matches": 2016,
         "worst_year_matches": 2016,
         "best_year_wins": 2016,
         "worst_year_wins": 2016,
         "_deepnote_index_column": 1
        },
        {
         "Name": "Martin Damm",
         "Sex": "M",
         "Hand": "L",
         "IOC": "USA",
         "Won_Tournaments": 0,
         "Number_of_Matches": 7,
         "Win_Percentage": 0.2857142857142857,
         "best_year_matches": 2021,
         "worst_year_matches": 2018,
         "best_year_wins": 2021,
         "worst_year_wins": 2021,
         "_deepnote_index_column": 2
        },
        {
         "Name": "Gergely Kisgyorgy",
         "Sex": "M",
         "Hand": "R",
         "IOC": "HUN",
         "Won_Tournaments": 0,
         "Number_of_Matches": 2,
         "Win_Percentage": 0.5,
         "best_year_matches": 2016,
         "worst_year_matches": 2016,
         "best_year_wins": 2016,
         "worst_year_wins": 2016,
         "_deepnote_index_column": 3
        },
        {
         "Name": "Frank Moser",
         "Sex": "M",
         "Hand": "R",
         "IOC": "GER",
         "Won_Tournaments": 0,
         "Number_of_Matches": 11,
         "Win_Percentage": 0.4545454545454545,
         "best_year_matches": 2016,
         "worst_year_matches": 2017,
         "best_year_wins": 2016,
         "worst_year_wins": 2016,
         "_deepnote_index_column": 4
        },
        {
         "Name": "Konstantinos Economidis",
         "Sex": "M",
         "Hand": "R",
         "IOC": "GRE",
         "Won_Tournaments": 0,
         "Number_of_Matches": 4,
         "Win_Percentage": 0.25,
         "best_year_matches": 2016,
         "worst_year_matches": 2016,
         "best_year_wins": 2016,
         "worst_year_wins": 2016,
         "_deepnote_index_column": 5
        },
        {
         "Name": "Ruben Ramirez Hidalgo",
         "Sex": "M",
         "Hand": "R",
         "IOC": "ESP",
         "Won_Tournaments": 0,
         "Number_of_Matches": 94,
         "Win_Percentage": 0.5,
         "best_year_matches": 2016,
         "worst_year_matches": 2019,
         "best_year_wins": 2016,
         "worst_year_wins": 2017,
         "_deepnote_index_column": 6
        },
        {
         "Name": "Tommy Haas",
         "Sex": "M",
         "Hand": "R",
         "IOC": "GER",
         "Won_Tournaments": 0,
         "Number_of_Matches": 20,
         "Win_Percentage": 0.3,
         "best_year_matches": 2017,
         "worst_year_matches": 2017,
         "best_year_wins": 2017,
         "worst_year_wins": 2017,
         "_deepnote_index_column": 7
        },
        {
         "Name": "Toshihide Matsui",
         "Sex": "M",
         "Hand": "R",
         "IOC": "JPN",
         "Won_Tournaments": 0,
         "Number_of_Matches": 55,
         "Win_Percentage": 0.3636363636363636,
         "best_year_matches": 2017,
         "worst_year_matches": 2020,
         "best_year_wins": 2019,
         "worst_year_wins": 2018,
         "_deepnote_index_column": 8
        },
        {
         "Name": "Radek Stepanek",
         "Sex": "M",
         "Hand": "R",
         "IOC": "CZE",
         "Won_Tournaments": 0,
         "Number_of_Matches": 57,
         "Win_Percentage": 0.7017543859649122,
         "best_year_matches": 2016,
         "worst_year_matches": 2017,
         "best_year_wins": 2016,
         "worst_year_wins": 2017,
         "_deepnote_index_column": 9
        },
        {
         "Name": "Alessandro Motti",
         "Sex": "M",
         "Hand": "L",
         "IOC": "ITA",
         "Won_Tournaments": 0,
         "Number_of_Matches": 4,
         "Win_Percentage": 0.25,
         "best_year_matches": 2016,
         "worst_year_matches": 2018,
         "best_year_wins": 2016,
         "worst_year_wins": 2016,
         "_deepnote_index_column": 10
        },
        {
         "Name": "Ivo Karlovic",
         "Sex": "M",
         "Hand": "R",
         "IOC": "CRO",
         "Won_Tournaments": 3,
         "Number_of_Matches": 205,
         "Win_Percentage": 0.4926829268292683,
         "best_year_matches": 2016,
         "worst_year_matches": 2021,
         "best_year_wins": 2016,
         "worst_year_wins": 2020,
         "_deepnote_index_column": 11
        },
        {
         "Name": "Jan Hernych",
         "Sex": "M",
         "Hand": "R",
         "IOC": "CZE",
         "Won_Tournaments": 0,
         "Number_of_Matches": 21,
         "Win_Percentage": 0.5714285714285714,
         "best_year_matches": 2016,
         "worst_year_matches": 2018,
         "best_year_wins": 2016,
         "worst_year_wins": 2016,
         "_deepnote_index_column": 12
        },
        {
         "Name": "Aqeel Khan",
         "Sex": "M",
         "Hand": "R",
         "IOC": "PAK",
         "Won_Tournaments": 0,
         "Number_of_Matches": 8,
         "Win_Percentage": 0.75,
         "best_year_matches": 2017,
         "worst_year_matches": 2016,
         "best_year_wins": 2017,
         "worst_year_wins": 2020,
         "_deepnote_index_column": 13
        },
        {
         "Name": "Rohan Bopanna",
         "Sex": "M",
         "Hand": "R",
         "IOC": "IND",
         "Won_Tournaments": 0,
         "Number_of_Matches": 2,
         "Win_Percentage": 0.5,
         "best_year_matches": 2016,
         "worst_year_matches": 2016,
         "best_year_wins": 2016,
         "worst_year_wins": 2016,
         "_deepnote_index_column": 14
        },
        {
         "Name": "Aisam Ul Haq Qureshi",
         "Sex": "M",
         "Hand": "R",
         "IOC": "PAK",
         "Won_Tournaments": 0,
         "Number_of_Matches": 8,
         "Win_Percentage": 0.5,
         "best_year_matches": 2017,
         "worst_year_matches": 2020,
         "best_year_wins": 2017,
         "worst_year_wins": 2018,
         "_deepnote_index_column": 15
        },
        {
         "Name": "Thomas Oger",
         "Sex": "M",
         "Hand": "U",
         "IOC": "MON",
         "Won_Tournaments": 0,
         "Number_of_Matches": 1,
         "Win_Percentage": 1,
         "best_year_matches": 2017,
         "worst_year_matches": 2017,
         "best_year_wins": 2017,
         "worst_year_wins": 2017,
         "_deepnote_index_column": 16
        },
        {
         "Name": "David Marrero",
         "Sex": "M",
         "Hand": "R",
         "IOC": "ESP",
         "Won_Tournaments": 0,
         "Number_of_Matches": 2,
         "Win_Percentage": 0.5,
         "best_year_matches": 2017,
         "worst_year_matches": 2017,
         "best_year_wins": 2017,
         "worst_year_wins": 2017,
         "_deepnote_index_column": 17
        },
        {
         "Name": "Stephane Robert",
         "Sex": "M",
         "Hand": "R",
         "IOC": "FRA",
         "Won_Tournaments": 3,
         "Number_of_Matches": 194,
         "Win_Percentage": 0.4690721649484536,
         "best_year_matches": 2016,
         "worst_year_matches": 2021,
         "best_year_wins": 2016,
         "worst_year_wins": 2020,
         "_deepnote_index_column": 18
        },
        {
         "Name": "Michael Berrer",
         "Sex": "M",
         "Hand": "L",
         "IOC": "GER",
         "Won_Tournaments": 1,
         "Number_of_Matches": 50,
         "Win_Percentage": 0.48,
         "best_year_matches": 2016,
         "worst_year_matches": 2016,
         "best_year_wins": 2016,
         "worst_year_wins": 2016,
         "_deepnote_index_column": 19
        },
        {
         "Name": "Michael Quintero",
         "Sex": "M",
         "Hand": "R",
         "IOC": "COL",
         "Won_Tournaments": 0,
         "Number_of_Matches": 6,
         "Win_Percentage": 0.1666666666666666,
         "best_year_matches": 2016,
         "worst_year_matches": 2016,
         "best_year_wins": 2016,
         "worst_year_wins": 2016,
         "_deepnote_index_column": 20
        },
        {
         "Name": "Mohammad Ghareeb",
         "Sex": "M",
         "Hand": "R",
         "IOC": "KUW",
         "Won_Tournaments": 0,
         "Number_of_Matches": 2,
         "Win_Percentage": 0.5,
         "best_year_matches": 2016,
         "worst_year_matches": 2016,
         "best_year_wins": 2017,
         "worst_year_wins": 2017,
         "_deepnote_index_column": 21
        },
        {
         "Name": "Victor Estrella",
         "Sex": "M",
         "Hand": "R",
         "IOC": "DOM",
         "Won_Tournaments": 3,
         "Number_of_Matches": 154,
         "Win_Percentage": 0.448051948051948,
         "best_year_matches": 2017,
         "worst_year_matches": 2019,
         "best_year_wins": 2017,
         "worst_year_wins": 2019,
         "_deepnote_index_column": 22
        },
        {
         "Name": "Alexey Kedryuk",
         "Sex": "M",
         "Hand": "R",
         "IOC": "KAZ",
         "Won_Tournaments": 0,
         "Number_of_Matches": 10,
         "Win_Percentage": 0.1,
         "best_year_matches": 2017,
         "worst_year_matches": 2016,
         "best_year_wins": 2016,
         "worst_year_wins": 2016,
         "_deepnote_index_column": 23
        },
        {
         "Name": "Lauri Kiiski",
         "Sex": "M",
         "Hand": "R",
         "IOC": "FIN",
         "Won_Tournaments": 0,
         "Number_of_Matches": 5,
         "Win_Percentage": 0.4,
         "best_year_matches": 2016,
         "worst_year_matches": 2017,
         "best_year_wins": 2016,
         "worst_year_wins": 2016,
         "_deepnote_index_column": 24
        },
        {
         "Name": "Albert Montanes",
         "Sex": "M",
         "Hand": "R",
         "IOC": "ESP",
         "Won_Tournaments": 0,
         "Number_of_Matches": 53,
         "Win_Percentage": 0.490566037735849,
         "best_year_matches": 2016,
         "worst_year_matches": 2017,
         "best_year_wins": 2016,
         "worst_year_wins": 2017,
         "_deepnote_index_column": 25
        },
        {
         "Name": "Ryan Haviland",
         "Sex": "M",
         "Hand": "U",
         "IOC": "USA",
         "Won_Tournaments": 0,
         "Number_of_Matches": 28,
         "Win_Percentage": 0.5357142857142857,
         "best_year_matches": 2016,
         "worst_year_matches": 2016,
         "best_year_wins": 2016,
         "worst_year_wins": 2017,
         "_deepnote_index_column": 26
        },
        {
         "Name": "Jaroslav Pospisil",
         "Sex": "M",
         "Hand": "R",
         "IOC": "CZE",
         "Won_Tournaments": 0,
         "Number_of_Matches": 28,
         "Win_Percentage": 0.5,
         "best_year_matches": 2019,
         "worst_year_matches": 2018,
         "best_year_wins": 2016,
         "worst_year_wins": 2017,
         "_deepnote_index_column": 27
        },
        {
         "Name": "Lleyton Hewitt",
         "Sex": "M",
         "Hand": "R",
         "IOC": "AUS",
         "Won_Tournaments": 0,
         "Number_of_Matches": 2,
         "Win_Percentage": 0.5,
         "best_year_matches": 2016,
         "worst_year_matches": 2016,
         "best_year_wins": 2016,
         "worst_year_wins": 2016,
         "_deepnote_index_column": 28
        },
        {
         "Name": "Jurgen Melzer",
         "Sex": "M",
         "Hand": "L",
         "IOC": "AUT",
         "Won_Tournaments": 2,
         "Number_of_Matches": 81,
         "Win_Percentage": 0.5555555555555556,
         "best_year_matches": 2017,
         "worst_year_matches": 2019,
         "best_year_wins": 2017,
         "worst_year_wins": 2019,
         "_deepnote_index_column": 29
        },
        {
         "Name": "Rameez Junaid",
         "Sex": "M",
         "Hand": "R",
         "IOC": "AUS",
         "Won_Tournaments": 0,
         "Number_of_Matches": 9,
         "Win_Percentage": 0.3333333333333333,
         "best_year_matches": 2016,
         "worst_year_matches": 2017,
         "best_year_wins": 2016,
         "worst_year_wins": 2017,
         "_deepnote_index_column": 30
        },
        {
         "Name": "Benjamin Becker",
         "Sex": "M",
         "Hand": "R",
         "IOC": "GER",
         "Won_Tournaments": 0,
         "Number_of_Matches": 85,
         "Win_Percentage": 0.5058823529411764,
         "best_year_matches": 2016,
         "worst_year_matches": 2017,
         "best_year_wins": 2016,
         "worst_year_wins": 2017,
         "_deepnote_index_column": 31
        },
        {
         "Name": "Andreas Siljestrom",
         "Sex": "M",
         "Hand": "R",
         "IOC": "SWE",
         "Won_Tournaments": 0,
         "Number_of_Matches": 4,
         "Win_Percentage": 0.25,
         "best_year_matches": 2017,
         "worst_year_matches": 2018,
         "best_year_wins": 2017,
         "worst_year_wins": 2017,
         "_deepnote_index_column": 32
        },
        {
         "Name": "Victor Hanescu",
         "Sex": "M",
         "Hand": "R",
         "IOC": "ROU",
         "Won_Tournaments": 0,
         "Number_of_Matches": 3,
         "Win_Percentage": 0.6666666666666666,
         "best_year_matches": 2016,
         "worst_year_matches": 2016,
         "best_year_wins": 2016,
         "worst_year_wins": 2016,
         "_deepnote_index_column": 33
        },
        {
         "Name": "Jarkko Nieminen",
         "Sex": "M",
         "Hand": "L",
         "IOC": "FIN",
         "Won_Tournaments": 0,
         "Number_of_Matches": 3,
         "Win_Percentage": 1,
         "best_year_matches": 2016,
         "worst_year_matches": 2016,
         "best_year_wins": 2016,
         "worst_year_wins": 2016,
         "_deepnote_index_column": 34
        },
        {
         "Name": "Roger Federer",
         "Sex": "M",
         "Hand": "R",
         "IOC": "SUI",
         "Won_Tournaments": 15,
         "Number_of_Matches": 229,
         "Win_Percentage": 0.8296943231441049,
         "best_year_matches": 2019,
         "worst_year_matches": 2020,
         "best_year_wins": 2018,
         "worst_year_wins": 2020,
         "_deepnote_index_column": 35
        },
        {
         "Name": "Filippo Volandri",
         "Sex": "M",
         "Hand": "R",
         "IOC": "ITA",
         "Won_Tournaments": 0,
         "Number_of_Matches": 40,
         "Win_Percentage": 0.5,
         "best_year_matches": 2016,
         "worst_year_matches": 2016,
         "best_year_wins": 2016,
         "worst_year_wins": 2016,
         "_deepnote_index_column": 36
        },
        {
         "Name": "Marco Chiudinelli",
         "Sex": "M",
         "Hand": "R",
         "IOC": "SUI",
         "Won_Tournaments": 1,
         "Number_of_Matches": 108,
         "Win_Percentage": 0.4907407407407407,
         "best_year_matches": 2016,
         "worst_year_matches": 2017,
         "best_year_wins": 2016,
         "worst_year_wins": 2017,
         "_deepnote_index_column": 37
        },
        {
         "Name": "Feliciano Lopez",
         "Sex": "M",
         "Hand": "L",
         "IOC": "ESP",
         "Won_Tournaments": 3,
         "Number_of_Matches": 243,
         "Win_Percentage": 0.4897119341563786,
         "best_year_matches": 2016,
         "worst_year_matches": 2020,
         "best_year_wins": 2016,
         "worst_year_wins": 2020,
         "_deepnote_index_column": 38
        },
        {
         "Name": "Mikhail Elgin",
         "Sex": "M",
         "Hand": "R",
         "IOC": "RUS",
         "Won_Tournaments": 0,
         "Number_of_Matches": 61,
         "Win_Percentage": 0.4426229508196721,
         "best_year_matches": 2016,
         "worst_year_matches": 2019,
         "best_year_wins": 2016,
         "worst_year_wins": 2017,
         "_deepnote_index_column": 39
        },
        {
         "Name": "Tomasz Bednarek",
         "Sex": "M",
         "Hand": "R",
         "IOC": "POL",
         "Won_Tournaments": 0,
         "Number_of_Matches": 24,
         "Win_Percentage": 0.0416666666666666,
         "best_year_matches": 2016,
         "worst_year_matches": 2018,
         "best_year_wins": 2016,
         "worst_year_wins": 2016,
         "_deepnote_index_column": 40
        },
        {
         "Name": "Paolo Lorenzi",
         "Sex": "M",
         "Hand": "R",
         "IOC": "ITA",
         "Won_Tournaments": 6,
         "Number_of_Matches": 329,
         "Win_Percentage": 0.4924012158054711,
         "best_year_matches": 2019,
         "worst_year_matches": 2020,
         "best_year_wins": 2016,
         "worst_year_wins": 2021,
         "_deepnote_index_column": 41
        },
        {
         "Name": "Julien Benneteau",
         "Sex": "M",
         "Hand": "R",
         "IOC": "FRA",
         "Won_Tournaments": 1,
         "Number_of_Matches": 133,
         "Win_Percentage": 0.5488721804511278,
         "best_year_matches": 2017,
         "worst_year_matches": 2018,
         "best_year_wins": 2017,
         "worst_year_wins": 2018,
         "_deepnote_index_column": 42
        },
        {
         "Name": "Jan Mertl",
         "Sex": "M",
         "Hand": "R",
         "IOC": "CZE",
         "Won_Tournaments": 0,
         "Number_of_Matches": 40,
         "Win_Percentage": 0.4,
         "best_year_matches": 2016,
         "worst_year_matches": 2018,
         "best_year_wins": 2016,
         "worst_year_wins": 2018,
         "_deepnote_index_column": 43
        },
        {
         "Name": "Paul Henri Mathieu",
         "Sex": "M",
         "Hand": "R",
         "IOC": "FRA",
         "Won_Tournaments": 0,
         "Number_of_Matches": 96,
         "Win_Percentage": 0.4583333333333333,
         "best_year_matches": 2016,
         "worst_year_matches": 2017,
         "best_year_wins": 2016,
         "worst_year_wins": 2017,
         "_deepnote_index_column": 44
        }
       ],
       "rows_bottom": [
        {
         "Name": "Emiliano Troche",
         "Sex": "M",
         "Hand": "U",
         "IOC": "URU",
         "Won_Tournaments": 0,
         "Number_of_Matches": 2,
         "Win_Percentage": 0,
         "best_year_matches": 2020,
         "worst_year_matches": 2020,
         "best_year_wins": "nan",
         "worst_year_wins": "nan",
         "_deepnote_index_column": 2973
        },
        {
         "Name": "Timo Legout",
         "Sex": "M",
         "Hand": "R",
         "IOC": "FRA",
         "Won_Tournaments": 0,
         "Number_of_Matches": 1,
         "Win_Percentage": 0,
         "best_year_matches": 2021,
         "worst_year_matches": 2021,
         "best_year_wins": "nan",
         "worst_year_wins": "nan",
         "_deepnote_index_column": 2974
        },
        {
         "Name": "Marc Othman Ktiri ",
         "Sex": "M",
         "Hand": "U",
         "IOC": "ESP",
         "Won_Tournaments": 0,
         "Number_of_Matches": 1,
         "Win_Percentage": 0,
         "best_year_matches": 2021,
         "worst_year_matches": 2021,
         "best_year_wins": "nan",
         "worst_year_wins": "nan",
         "_deepnote_index_column": 2975
        },
        {
         "Name": "Daniel Rincon",
         "Sex": "M",
         "Hand": "L",
         "IOC": "ESP",
         "Won_Tournaments": 0,
         "Number_of_Matches": 1,
         "Win_Percentage": 0,
         "best_year_matches": 2021,
         "worst_year_matches": 2021,
         "best_year_wins": "nan",
         "worst_year_wins": "nan",
         "_deepnote_index_column": 2976
        },
        {
         "Name": "Luca Van Assche",
         "Sex": "M",
         "Hand": "R",
         "IOC": "FRA",
         "Won_Tournaments": 0,
         "Number_of_Matches": 3,
         "Win_Percentage": 0,
         "best_year_matches": 2021,
         "worst_year_matches": 2021,
         "best_year_wins": "nan",
         "worst_year_wins": "nan",
         "_deepnote_index_column": 2977
        },
        {
         "Name": "Gustavo Teisen Pereira",
         "Sex": "M",
         "Hand": "U",
         "IOC": "BRA",
         "Won_Tournaments": 0,
         "Number_of_Matches": 1,
         "Win_Percentage": 0,
         "best_year_matches": 2017,
         "worst_year_matches": 2017,
         "best_year_wins": "nan",
         "worst_year_wins": "nan",
         "_deepnote_index_column": 2978
        },
        {
         "Name": "Sascha Gueymard Wayenburg",
         "Sex": "M",
         "Hand": "R",
         "IOC": "FRA",
         "Won_Tournaments": 0,
         "Number_of_Matches": 1,
         "Win_Percentage": 0,
         "best_year_matches": 2021,
         "worst_year_matches": 2021,
         "best_year_wins": "nan",
         "worst_year_wins": "nan",
         "_deepnote_index_column": 2979
        },
        {
         "Name": "James Hopper",
         "Sex": "M",
         "Hand": "U",
         "IOC": "GBR",
         "Won_Tournaments": 0,
         "Number_of_Matches": 1,
         "Win_Percentage": 0,
         "best_year_matches": 2020,
         "worst_year_matches": 2020,
         "best_year_wins": "nan",
         "worst_year_wins": "nan",
         "_deepnote_index_column": 2980
        },
        {
         "Name": "Rostislav Galfinger",
         "Sex": "M",
         "Hand": "U",
         "IOC": "KAZ",
         "Won_Tournaments": 0,
         "Number_of_Matches": 1,
         "Win_Percentage": 0,
         "best_year_matches": 2020,
         "worst_year_matches": 2020,
         "best_year_wins": "nan",
         "worst_year_wins": "nan",
         "_deepnote_index_column": 2981
        },
        {
         "Name": "Leo Borg",
         "Sex": "M",
         "Hand": "R",
         "IOC": "SWE",
         "Won_Tournaments": 0,
         "Number_of_Matches": 8,
         "Win_Percentage": 0,
         "best_year_matches": 2021,
         "worst_year_matches": 2020,
         "best_year_wins": "nan",
         "worst_year_wins": "nan",
         "_deepnote_index_column": 2982
        },
        {
         "Name": "Karlis Ozolins",
         "Sex": "M",
         "Hand": "R",
         "IOC": "LAT",
         "Won_Tournaments": 0,
         "Number_of_Matches": 1,
         "Win_Percentage": 0,
         "best_year_matches": 2020,
         "worst_year_matches": 2020,
         "best_year_wins": "nan",
         "worst_year_wins": "nan",
         "_deepnote_index_column": 2983
        },
        {
         "Name": "Daniil Ostapenkov",
         "Sex": "M",
         "Hand": "R",
         "IOC": "BLR",
         "Won_Tournaments": 0,
         "Number_of_Matches": 1,
         "Win_Percentage": 0,
         "best_year_matches": 2020,
         "worst_year_matches": 2020,
         "best_year_wins": "nan",
         "worst_year_wins": "nan",
         "_deepnote_index_column": 2984
        },
        {
         "Name": "Kaipo Marshall",
         "Sex": "M",
         "Hand": "R",
         "IOC": "BAR",
         "Won_Tournaments": 0,
         "Number_of_Matches": 1,
         "Win_Percentage": 0,
         "best_year_matches": 2020,
         "worst_year_matches": 2020,
         "best_year_wins": "nan",
         "worst_year_wins": "nan",
         "_deepnote_index_column": 2985
        },
        {
         "Name": "Rodrigo Crespo Piedra",
         "Sex": "M",
         "Hand": "R",
         "IOC": "CRC",
         "Won_Tournaments": 0,
         "Number_of_Matches": 1,
         "Win_Percentage": 0,
         "best_year_matches": 2020,
         "worst_year_matches": 2020,
         "best_year_wins": "nan",
         "worst_year_wins": "nan",
         "_deepnote_index_column": 2986
        },
        {
         "Name": "Amr Elsayed Abdou Ahmed Mohamed",
         "Sex": "M",
         "Hand": "U",
         "IOC": "EGY",
         "Won_Tournaments": 0,
         "Number_of_Matches": 1,
         "Win_Percentage": 0,
         "best_year_matches": 2020,
         "worst_year_matches": 2020,
         "best_year_wins": "nan",
         "worst_year_wins": "nan",
         "_deepnote_index_column": 2987
        },
        {
         "Name": "Thehan Sanjaya Wijemanne",
         "Sex": "M",
         "Hand": "L",
         "IOC": "SRI",
         "Won_Tournaments": 0,
         "Number_of_Matches": 1,
         "Win_Percentage": 0,
         "best_year_matches": 2020,
         "worst_year_matches": 2020,
         "best_year_wins": "nan",
         "worst_year_wins": "nan",
         "_deepnote_index_column": 2988
        },
        {
         "Name": "Eric Jr. Olivarez",
         "Sex": "M",
         "Hand": "R",
         "IOC": "PHI",
         "Won_Tournaments": 0,
         "Number_of_Matches": 1,
         "Win_Percentage": 0,
         "best_year_matches": 2020,
         "worst_year_matches": 2020,
         "best_year_wins": "nan",
         "worst_year_wins": "nan",
         "_deepnote_index_column": 2989
        },
        {
         "Name": "Mili Poljicak ",
         "Sex": "M",
         "Hand": "U",
         "IOC": "CRO",
         "Won_Tournaments": 0,
         "Number_of_Matches": 2,
         "Win_Percentage": 0,
         "best_year_matches": 2021,
         "worst_year_matches": 2021,
         "best_year_wins": "nan",
         "worst_year_wins": "nan",
         "_deepnote_index_column": 2990
        },
        {
         "Name": "Guy Den Ouden",
         "Sex": "M",
         "Hand": "U",
         "IOC": "NED",
         "Won_Tournaments": 0,
         "Number_of_Matches": 1,
         "Win_Percentage": 0,
         "best_year_matches": 2021,
         "worst_year_matches": 2021,
         "best_year_wins": "nan",
         "worst_year_wins": "nan",
         "_deepnote_index_column": 2991
        },
        {
         "Name": "Mark Owen Endler",
         "Sex": "M",
         "Hand": "U",
         "IOC": "GER",
         "Won_Tournaments": 0,
         "Number_of_Matches": 1,
         "Win_Percentage": 0,
         "best_year_matches": 2021,
         "worst_year_matches": 2021,
         "best_year_wins": "nan",
         "worst_year_wins": "nan",
         "_deepnote_index_column": 2992
        },
        {
         "Name": "Marko Topo",
         "Sex": "M",
         "Hand": "U",
         "IOC": "SRB",
         "Won_Tournaments": 0,
         "Number_of_Matches": 2,
         "Win_Percentage": 0,
         "best_year_matches": 2021,
         "worst_year_matches": 2021,
         "best_year_wins": "nan",
         "worst_year_wins": "nan",
         "_deepnote_index_column": 2993
        },
        {
         "Name": "Hanwen Li",
         "Sex": "M",
         "Hand": "R",
         "IOC": "CHN",
         "Won_Tournaments": 0,
         "Number_of_Matches": 1,
         "Win_Percentage": 0,
         "best_year_matches": 2021,
         "worst_year_matches": 2021,
         "best_year_wins": "nan",
         "worst_year_wins": "nan",
         "_deepnote_index_column": 2994
        },
        {
         "Name": "Lukas Palovic",
         "Sex": "M",
         "Hand": "U",
         "IOC": "SVK",
         "Won_Tournaments": 0,
         "Number_of_Matches": 1,
         "Win_Percentage": 0,
         "best_year_matches": 2021,
         "worst_year_matches": 2021,
         "best_year_wins": "nan",
         "worst_year_wins": "nan",
         "_deepnote_index_column": 2995
        },
        {
         "Name": "Lukas Pokorny",
         "Sex": "M",
         "Hand": "U",
         "IOC": "SVK",
         "Won_Tournaments": 0,
         "Number_of_Matches": 1,
         "Win_Percentage": 0,
         "best_year_matches": 2021,
         "worst_year_matches": 2021,
         "best_year_wins": "nan",
         "worst_year_wins": "nan",
         "_deepnote_index_column": 2996
        },
        {
         "Name": "Lorenzo Claverie",
         "Sex": "M",
         "Hand": "R",
         "IOC": "ITA",
         "Won_Tournaments": 0,
         "Number_of_Matches": 4,
         "Win_Percentage": 0,
         "best_year_matches": 2021,
         "worst_year_matches": 2021,
         "best_year_wins": "nan",
         "worst_year_wins": "nan",
         "_deepnote_index_column": 2997
        },
        {
         "Name": "Sean Cuenin",
         "Sex": "M",
         "Hand": "U",
         "IOC": "FRA",
         "Won_Tournaments": 0,
         "Number_of_Matches": 1,
         "Win_Percentage": 0,
         "best_year_matches": 2021,
         "worst_year_matches": 2021,
         "best_year_wins": "nan",
         "worst_year_wins": "nan",
         "_deepnote_index_column": 2998
        },
        {
         "Name": "Danil Ozernoy",
         "Sex": "M",
         "Hand": "U",
         "IOC": "KAZ",
         "Won_Tournaments": 0,
         "Number_of_Matches": 4,
         "Win_Percentage": 0,
         "best_year_matches": 2021,
         "worst_year_matches": 2021,
         "best_year_wins": "nan",
         "worst_year_wins": "nan",
         "_deepnote_index_column": 2999
        },
        {
         "Name": "Aleksander Orlikowski",
         "Sex": "M",
         "Hand": "U",
         "IOC": "POL",
         "Won_Tournaments": 0,
         "Number_of_Matches": 1,
         "Win_Percentage": 0,
         "best_year_matches": 2021,
         "worst_year_matches": 2021,
         "best_year_wins": "nan",
         "worst_year_wins": "nan",
         "_deepnote_index_column": 3000
        },
        {
         "Name": "Milos Karol ",
         "Sex": "M",
         "Hand": "R",
         "IOC": "SVK",
         "Won_Tournaments": 0,
         "Number_of_Matches": 1,
         "Win_Percentage": 0,
         "best_year_matches": 2021,
         "worst_year_matches": 2021,
         "best_year_wins": "nan",
         "worst_year_wins": "nan",
         "_deepnote_index_column": 3001
        },
        {
         "Name": "Juncheng Shang",
         "Sex": "M",
         "Hand": "U",
         "IOC": "CHN",
         "Won_Tournaments": 0,
         "Number_of_Matches": 1,
         "Win_Percentage": 0,
         "best_year_matches": 2021,
         "worst_year_matches": 2021,
         "best_year_wins": "nan",
         "worst_year_wins": "nan",
         "_deepnote_index_column": 3002
        },
        {
         "Name": "Matej Galik",
         "Sex": "M",
         "Hand": "U",
         "IOC": "SVK",
         "Won_Tournaments": 0,
         "Number_of_Matches": 1,
         "Win_Percentage": 0,
         "best_year_matches": 2021,
         "worst_year_matches": 2021,
         "best_year_wins": "nan",
         "worst_year_wins": "nan",
         "_deepnote_index_column": 3003
        },
        {
         "Name": "Islam Orynbasar",
         "Sex": "M",
         "Hand": "U",
         "IOC": "KAZ",
         "Won_Tournaments": 0,
         "Number_of_Matches": 1,
         "Win_Percentage": 0,
         "best_year_matches": 2021,
         "worst_year_matches": 2021,
         "best_year_wins": "nan",
         "worst_year_wins": "nan",
         "_deepnote_index_column": 3004
        },
        {
         "Name": "Adam Jurajda",
         "Sex": "M",
         "Hand": "R",
         "IOC": "CZE",
         "Won_Tournaments": 0,
         "Number_of_Matches": 1,
         "Win_Percentage": 0,
         "best_year_matches": 2021,
         "worst_year_matches": 2021,
         "best_year_wins": "nan",
         "worst_year_wins": "nan",
         "_deepnote_index_column": 3005
        },
        {
         "Name": "Yerassyl Yerdilda",
         "Sex": "M",
         "Hand": "U",
         "IOC": "KAZ",
         "Won_Tournaments": 0,
         "Number_of_Matches": 1,
         "Win_Percentage": 0,
         "best_year_matches": 2021,
         "worst_year_matches": 2021,
         "best_year_wins": "nan",
         "worst_year_wins": "nan",
         "_deepnote_index_column": 3006
        },
        {
         "Name": "Kirill Kolganov",
         "Sex": "M",
         "Hand": "U",
         "IOC": "KAZ",
         "Won_Tournaments": 0,
         "Number_of_Matches": 1,
         "Win_Percentage": 0,
         "best_year_matches": 2021,
         "worst_year_matches": 2021,
         "best_year_wins": "nan",
         "worst_year_wins": "nan",
         "_deepnote_index_column": 3007
        },
        {
         "Name": "Juan Diego Rojas",
         "Sex": "M",
         "Hand": "U",
         "IOC": "ECU",
         "Won_Tournaments": 0,
         "Number_of_Matches": 1,
         "Win_Percentage": 0,
         "best_year_matches": 2021,
         "worst_year_matches": 2021,
         "best_year_wins": "nan",
         "worst_year_wins": "nan",
         "_deepnote_index_column": 3008
        },
        {
         "Name": "Omar Suarez",
         "Sex": "M",
         "Hand": "U",
         "IOC": "ECU",
         "Won_Tournaments": 0,
         "Number_of_Matches": 1,
         "Win_Percentage": 0,
         "best_year_matches": 2021,
         "worst_year_matches": 2021,
         "best_year_wins": "nan",
         "worst_year_wins": "nan",
         "_deepnote_index_column": 3009
        },
        {
         "Name": "Matthew William Donald",
         "Sex": "M",
         "Hand": "U",
         "IOC": "CZE",
         "Won_Tournaments": 0,
         "Number_of_Matches": 1,
         "Win_Percentage": 0,
         "best_year_matches": 2021,
         "worst_year_matches": 2021,
         "best_year_wins": "nan",
         "worst_year_wins": "nan",
         "_deepnote_index_column": 3010
        },
        {
         "Name": "Jakub Nicod",
         "Sex": "M",
         "Hand": "U",
         "IOC": "CZE",
         "Won_Tournaments": 0,
         "Number_of_Matches": 1,
         "Win_Percentage": 0,
         "best_year_matches": 2021,
         "worst_year_matches": 2021,
         "best_year_wins": "nan",
         "worst_year_wins": "nan",
         "_deepnote_index_column": 3011
        },
        {
         "Name": "Jakub Mensik",
         "Sex": "M",
         "Hand": "U",
         "IOC": "CZE",
         "Won_Tournaments": 0,
         "Number_of_Matches": 1,
         "Win_Percentage": 0,
         "best_year_matches": 2021,
         "worst_year_matches": 2021,
         "best_year_wins": "nan",
         "worst_year_wins": "nan",
         "_deepnote_index_column": 3012
        },
        {
         "Name": "Lui Maxted",
         "Sex": "M",
         "Hand": "U",
         "IOC": "GBR",
         "Won_Tournaments": 0,
         "Number_of_Matches": 2,
         "Win_Percentage": 0,
         "best_year_matches": 2021,
         "worst_year_matches": 2021,
         "best_year_wins": "nan",
         "worst_year_wins": "nan",
         "_deepnote_index_column": 3013
        },
        {
         "Name": "Lorenzo Angelini",
         "Sex": "M",
         "Hand": "U",
         "IOC": "ITA",
         "Won_Tournaments": 0,
         "Number_of_Matches": 1,
         "Win_Percentage": 0,
         "best_year_matches": 2021,
         "worst_year_matches": 2021,
         "best_year_wins": "nan",
         "worst_year_wins": "nan",
         "_deepnote_index_column": 3014
        },
        {
         "Name": "Michele Vianello",
         "Sex": "M",
         "Hand": "R",
         "IOC": "ITA",
         "Won_Tournaments": 0,
         "Number_of_Matches": 2,
         "Win_Percentage": 0,
         "best_year_matches": 2021,
         "worst_year_matches": 2021,
         "best_year_wins": "nan",
         "worst_year_wins": "nan",
         "_deepnote_index_column": 3015
        },
        {
         "Name": "William Jansen",
         "Sex": "M",
         "Hand": "L",
         "IOC": "GBR",
         "Won_Tournaments": 0,
         "Number_of_Matches": 1,
         "Win_Percentage": 0,
         "best_year_matches": 2021,
         "worst_year_matches": 2021,
         "best_year_wins": "nan",
         "worst_year_wins": "nan",
         "_deepnote_index_column": 3016
        },
        {
         "Name": "Jasza Szajrych",
         "Sex": "M",
         "Hand": "U",
         "IOC": "POL",
         "Won_Tournaments": 0,
         "Number_of_Matches": 1,
         "Win_Percentage": 0,
         "best_year_matches": 2021,
         "worst_year_matches": 2021,
         "best_year_wins": "nan",
         "worst_year_wins": "nan",
         "_deepnote_index_column": 3017
        }
       ]
      },
      "text/plain": "                   Name Sex Hand  IOC  Won_Tournaments  Number_of_Matches  \\\n0      Alexander Zverev   M    R  GER             17.0              378.0   \n1        Agustin Moreno   M    R  MEX              0.0                4.0   \n2           Martin Damm   M    L  USA              0.0                7.0   \n3     Gergely Kisgyorgy   M    R  HUN              0.0                2.0   \n4           Frank Moser   M    R  GER              0.0               11.0   \n...                 ...  ..  ...  ...              ...                ...   \n3013         Lui Maxted   M    U  GBR              0.0                2.0   \n3014   Lorenzo Angelini   M    U  ITA              0.0                1.0   \n3015   Michele Vianello   M    R  ITA              0.0                2.0   \n3016     William Jansen   M    L  GBR              0.0                1.0   \n3017     Jasza Szajrych   M    U  POL              0.0                1.0   \n\n      Win_Percentage  best_year_matches  worst_year_matches  best_year_wins  \\\n0           0.706349             2017.0              2020.0          2018.0   \n1           0.250000             2016.0              2016.0          2016.0   \n2           0.285714             2021.0              2018.0          2021.0   \n3           0.500000             2016.0              2016.0          2016.0   \n4           0.454545             2016.0              2017.0          2016.0   \n...              ...                ...                 ...             ...   \n3013        0.000000             2021.0              2021.0             NaN   \n3014        0.000000             2021.0              2021.0             NaN   \n3015        0.000000             2021.0              2021.0             NaN   \n3016        0.000000             2021.0              2021.0             NaN   \n3017        0.000000             2021.0              2021.0             NaN   \n\n      worst_year_wins  \n0              2020.0  \n1              2016.0  \n2              2021.0  \n3              2016.0  \n4              2016.0  \n...               ...  \n3013              NaN  \n3014              NaN  \n3015              NaN  \n3016              NaN  \n3017              NaN  \n\n[3018 rows x 11 columns]",
      "text/html": "<div>\n<style scoped>\n    .dataframe tbody tr th:only-of-type {\n        vertical-align: middle;\n    }\n\n    .dataframe tbody tr th {\n        vertical-align: top;\n    }\n\n    .dataframe thead th {\n        text-align: right;\n    }\n</style>\n<table border=\"1\" class=\"dataframe\">\n  <thead>\n    <tr style=\"text-align: right;\">\n      <th></th>\n      <th>Name</th>\n      <th>Sex</th>\n      <th>Hand</th>\n      <th>IOC</th>\n      <th>Won_Tournaments</th>\n      <th>Number_of_Matches</th>\n      <th>Win_Percentage</th>\n      <th>best_year_matches</th>\n      <th>worst_year_matches</th>\n      <th>best_year_wins</th>\n      <th>worst_year_wins</th>\n    </tr>\n  </thead>\n  <tbody>\n    <tr>\n      <th>0</th>\n      <td>Alexander Zverev</td>\n      <td>M</td>\n      <td>R</td>\n      <td>GER</td>\n      <td>17.0</td>\n      <td>378.0</td>\n      <td>0.706349</td>\n      <td>2017.0</td>\n      <td>2020.0</td>\n      <td>2018.0</td>\n      <td>2020.0</td>\n    </tr>\n    <tr>\n      <th>1</th>\n      <td>Agustin Moreno</td>\n      <td>M</td>\n      <td>R</td>\n      <td>MEX</td>\n      <td>0.0</td>\n      <td>4.0</td>\n      <td>0.250000</td>\n      <td>2016.0</td>\n      <td>2016.0</td>\n      <td>2016.0</td>\n      <td>2016.0</td>\n    </tr>\n    <tr>\n      <th>2</th>\n      <td>Martin Damm</td>\n      <td>M</td>\n      <td>L</td>\n      <td>USA</td>\n      <td>0.0</td>\n      <td>7.0</td>\n      <td>0.285714</td>\n      <td>2021.0</td>\n      <td>2018.0</td>\n      <td>2021.0</td>\n      <td>2021.0</td>\n    </tr>\n    <tr>\n      <th>3</th>\n      <td>Gergely Kisgyorgy</td>\n      <td>M</td>\n      <td>R</td>\n      <td>HUN</td>\n      <td>0.0</td>\n      <td>2.0</td>\n      <td>0.500000</td>\n      <td>2016.0</td>\n      <td>2016.0</td>\n      <td>2016.0</td>\n      <td>2016.0</td>\n    </tr>\n    <tr>\n      <th>4</th>\n      <td>Frank Moser</td>\n      <td>M</td>\n      <td>R</td>\n      <td>GER</td>\n      <td>0.0</td>\n      <td>11.0</td>\n      <td>0.454545</td>\n      <td>2016.0</td>\n      <td>2017.0</td>\n      <td>2016.0</td>\n      <td>2016.0</td>\n    </tr>\n    <tr>\n      <th>...</th>\n      <td>...</td>\n      <td>...</td>\n      <td>...</td>\n      <td>...</td>\n      <td>...</td>\n      <td>...</td>\n      <td>...</td>\n      <td>...</td>\n      <td>...</td>\n      <td>...</td>\n      <td>...</td>\n    </tr>\n    <tr>\n      <th>3013</th>\n      <td>Lui Maxted</td>\n      <td>M</td>\n      <td>U</td>\n      <td>GBR</td>\n      <td>0.0</td>\n      <td>2.0</td>\n      <td>0.000000</td>\n      <td>2021.0</td>\n      <td>2021.0</td>\n      <td>NaN</td>\n      <td>NaN</td>\n    </tr>\n    <tr>\n      <th>3014</th>\n      <td>Lorenzo Angelini</td>\n      <td>M</td>\n      <td>U</td>\n      <td>ITA</td>\n      <td>0.0</td>\n      <td>1.0</td>\n      <td>0.000000</td>\n      <td>2021.0</td>\n      <td>2021.0</td>\n      <td>NaN</td>\n      <td>NaN</td>\n    </tr>\n    <tr>\n      <th>3015</th>\n      <td>Michele Vianello</td>\n      <td>M</td>\n      <td>R</td>\n      <td>ITA</td>\n      <td>0.0</td>\n      <td>2.0</td>\n      <td>0.000000</td>\n      <td>2021.0</td>\n      <td>2021.0</td>\n      <td>NaN</td>\n      <td>NaN</td>\n    </tr>\n    <tr>\n      <th>3016</th>\n      <td>William Jansen</td>\n      <td>M</td>\n      <td>L</td>\n      <td>GBR</td>\n      <td>0.0</td>\n      <td>1.0</td>\n      <td>0.000000</td>\n      <td>2021.0</td>\n      <td>2021.0</td>\n      <td>NaN</td>\n      <td>NaN</td>\n    </tr>\n    <tr>\n      <th>3017</th>\n      <td>Jasza Szajrych</td>\n      <td>M</td>\n      <td>U</td>\n      <td>POL</td>\n      <td>0.0</td>\n      <td>1.0</td>\n      <td>0.000000</td>\n      <td>2021.0</td>\n      <td>2021.0</td>\n      <td>NaN</td>\n      <td>NaN</td>\n    </tr>\n  </tbody>\n</table>\n<p>3018 rows × 11 columns</p>\n</div>"
     },
     "metadata": {}
    }
   ]
  },
  {
   "cell_type": "code",
   "metadata": {
    "tags": [],
    "cell_id": "00023-6fe8f02d-ddbd-41dd-8600-3e7474d6b512",
    "deepnote_to_be_reexecuted": true,
    "source_hash": "be00c432",
    "execution_start": 1636388423513,
    "execution_millis": 1834,
    "deepnote_cell_type": "code"
   },
   "source": "# DO the same for womens\n# take the top players according to number of won tournament\ndf_top_female_players = pd.DataFrame(female_stats.sort_values(by='Won_Tournaments', ascending=False).head(TOP)['Name'])\n\n#iterating for every player\n#for name,index in df_top_female_players.iterrows():\n#df_matches.groupby('winner_name').count()['w_ace'] \n\ndf_top_female_player_matches_win = df_matches.join(df_top_female_players.set_index('Name'), on='winner_name', how='inner') #Ci sono partite in cui i winner sono loser e non vengono considerate\ndf_top_female_player_matches_los = df_matches.join(df_top_female_players.set_index('Name'), on='loser_name', how='inner') #Ci sono partite in cui i winner sono loser e non vengono considerate\ndf_top_female_player_matches  = pd.concat([df_top_female_player_matches_win, df_top_female_player_matches_los])\n#df_top_female_players['w_ace'] = sum_by_condition(df_top_female_player_matches, 'w_ace', 'winner_name', df_top_female_players, 'Name')['w_ace']\n# Ciclo for su lista di attributi che chiama sum_by_condition\n\nattrs = ['w_ace', 'w_df', 'w_svpt', 'w_1stIn', 'w_1stWon', 'w_2ndWon', 'w_SvGms', 'w_bpSaved', 'w_bpFaced']\n\n#sum_by_condition(df_top_female_player_matches, 'w_svpt', 'winner_name', df_top_female_players, 'Name')\n\n#sum_by_surface(df_top_female_player_matches, 'w_svpt', 'winner_name', df_top_female_players, 'Name', 'Clay')\n\nfor attr in attrs:\n    #df_top_female_players[attr] = top_players_feature(df_top_female_player_matches, attr, 'winner_name', df_top_female_players, 'Name')[attr]\n    result = sum_by_surface(df_top_female_player_matches, attr, 'winner_name', df_top_female_players, 'Name')\n    df_top_female_players[attr + '_clay'] = result[0][attr]\n    df_top_female_players[attr + '_clay'].fillna(0, inplace=True)\n    df_top_female_players[attr + '_grass'] = result[1][attr]\n    df_top_female_players[attr + '_grass'].fillna(0, inplace=True)\n    df_top_female_players[attr + '_hard'] = result[2][attr]\n    df_top_female_players[attr + '_hard'].fillna(0, inplace=True)\n    df_top_female_players[attr + '_carpet'] = result[2][attr]\n    df_top_female_players[attr + '_carpet'].fillna(0, inplace=True)\n\ndf_top_female_players",
   "execution_count": null,
   "outputs": [
    {
     "output_type": "execute_result",
     "execution_count": 12,
     "data": {
      "application/vnd.deepnote.dataframe.v2+json": {
       "row_count": 50,
       "column_count": 37,
       "columns": [
        {
         "name": "Name",
         "dtype": "object",
         "stats": {
          "unique_count": 50,
          "nan_count": 0,
          "categories": [
           {
            "name": "Fernanda Brito",
            "count": 1
           },
           {
            "name": "Arantxa Rus",
            "count": 1
           },
           {
            "name": "48 others",
            "count": 48
           }
          ]
         }
        },
        {
         "name": "w_ace_clay",
         "dtype": "float64",
         "stats": {
          "unique_count": 31,
          "nan_count": 0,
          "min": "0.0",
          "max": "244.0",
          "histogram": [
           {
            "bin_start": 0,
            "bin_end": 24.4,
            "count": 30
           },
           {
            "bin_start": 24.4,
            "bin_end": 48.8,
            "count": 6
           },
           {
            "bin_start": 48.8,
            "bin_end": 73.19999999999999,
            "count": 6
           },
           {
            "bin_start": 73.19999999999999,
            "bin_end": 97.6,
            "count": 1
           },
           {
            "bin_start": 97.6,
            "bin_end": 122,
            "count": 2
           },
           {
            "bin_start": 122,
            "bin_end": 146.39999999999998,
            "count": 4
           },
           {
            "bin_start": 146.39999999999998,
            "bin_end": 170.79999999999998,
            "count": 0
           },
           {
            "bin_start": 170.79999999999998,
            "bin_end": 195.2,
            "count": 0
           },
           {
            "bin_start": 195.2,
            "bin_end": 219.6,
            "count": 0
           },
           {
            "bin_start": 219.6,
            "bin_end": 244,
            "count": 1
           }
          ]
         }
        },
        {
         "name": "w_ace_grass",
         "dtype": "float64",
         "stats": {
          "unique_count": 22,
          "nan_count": 0,
          "min": "0.0",
          "max": "71.0",
          "histogram": [
           {
            "bin_start": 0,
            "bin_end": 7.1,
            "count": 31
           },
           {
            "bin_start": 7.1,
            "bin_end": 14.2,
            "count": 5
           },
           {
            "bin_start": 14.2,
            "bin_end": 21.299999999999997,
            "count": 2
           },
           {
            "bin_start": 21.299999999999997,
            "bin_end": 28.4,
            "count": 4
           },
           {
            "bin_start": 28.4,
            "bin_end": 35.5,
            "count": 1
           },
           {
            "bin_start": 35.5,
            "bin_end": 42.599999999999994,
            "count": 1
           },
           {
            "bin_start": 42.599999999999994,
            "bin_end": 49.699999999999996,
            "count": 2
           },
           {
            "bin_start": 49.699999999999996,
            "bin_end": 56.8,
            "count": 0
           },
           {
            "bin_start": 56.8,
            "bin_end": 63.9,
            "count": 3
           },
           {
            "bin_start": 63.9,
            "bin_end": 71,
            "count": 1
           }
          ]
         }
        },
        {
         "name": "w_ace_hard",
         "dtype": "float64",
         "stats": {
          "unique_count": 34,
          "nan_count": 0,
          "min": "0.0",
          "max": "506.0",
          "histogram": [
           {
            "bin_start": 0,
            "bin_end": 50.6,
            "count": 31
           },
           {
            "bin_start": 50.6,
            "bin_end": 101.2,
            "count": 7
           },
           {
            "bin_start": 101.2,
            "bin_end": 151.8,
            "count": 3
           },
           {
            "bin_start": 151.8,
            "bin_end": 202.4,
            "count": 2
           },
           {
            "bin_start": 202.4,
            "bin_end": 253,
            "count": 1
           },
           {
            "bin_start": 253,
            "bin_end": 303.6,
            "count": 1
           },
           {
            "bin_start": 303.6,
            "bin_end": 354.2,
            "count": 1
           },
           {
            "bin_start": 354.2,
            "bin_end": 404.8,
            "count": 3
           },
           {
            "bin_start": 404.8,
            "bin_end": 455.40000000000003,
            "count": 0
           },
           {
            "bin_start": 455.40000000000003,
            "bin_end": 506,
            "count": 1
           }
          ]
         }
        },
        {
         "name": "w_ace_carpet",
         "dtype": "float64",
         "stats": {
          "unique_count": 34,
          "nan_count": 0,
          "min": "0.0",
          "max": "506.0",
          "histogram": [
           {
            "bin_start": 0,
            "bin_end": 50.6,
            "count": 31
           },
           {
            "bin_start": 50.6,
            "bin_end": 101.2,
            "count": 7
           },
           {
            "bin_start": 101.2,
            "bin_end": 151.8,
            "count": 3
           },
           {
            "bin_start": 151.8,
            "bin_end": 202.4,
            "count": 2
           },
           {
            "bin_start": 202.4,
            "bin_end": 253,
            "count": 1
           },
           {
            "bin_start": 253,
            "bin_end": 303.6,
            "count": 1
           },
           {
            "bin_start": 303.6,
            "bin_end": 354.2,
            "count": 1
           },
           {
            "bin_start": 354.2,
            "bin_end": 404.8,
            "count": 3
           },
           {
            "bin_start": 404.8,
            "bin_end": 455.40000000000003,
            "count": 0
           },
           {
            "bin_start": 455.40000000000003,
            "bin_end": 506,
            "count": 1
           }
          ]
         }
        },
        {
         "name": "w_df_clay",
         "dtype": "float64",
         "stats": {
          "unique_count": 39,
          "nan_count": 0,
          "min": "0.0",
          "max": "312.0",
          "histogram": [
           {
            "bin_start": 0,
            "bin_end": 31.2,
            "count": 25
           },
           {
            "bin_start": 31.2,
            "bin_end": 62.4,
            "count": 8
           },
           {
            "bin_start": 62.4,
            "bin_end": 93.6,
            "count": 6
           },
           {
            "bin_start": 93.6,
            "bin_end": 124.8,
            "count": 2
           },
           {
            "bin_start": 124.8,
            "bin_end": 156,
            "count": 4
           },
           {
            "bin_start": 156,
            "bin_end": 187.2,
            "count": 2
           },
           {
            "bin_start": 187.2,
            "bin_end": 218.4,
            "count": 2
           },
           {
            "bin_start": 218.4,
            "bin_end": 249.6,
            "count": 0
           },
           {
            "bin_start": 249.6,
            "bin_end": 280.8,
            "count": 0
           },
           {
            "bin_start": 280.8,
            "bin_end": 312,
            "count": 1
           }
          ]
         }
        },
        {
         "name": "w_df_grass",
         "dtype": "float64",
         "stats": {
          "unique_count": 25,
          "nan_count": 0,
          "min": "0.0",
          "max": "117.0",
          "histogram": [
           {
            "bin_start": 0,
            "bin_end": 11.7,
            "count": 32
           },
           {
            "bin_start": 11.7,
            "bin_end": 23.4,
            "count": 5
           },
           {
            "bin_start": 23.4,
            "bin_end": 35.099999999999994,
            "count": 2
           },
           {
            "bin_start": 35.099999999999994,
            "bin_end": 46.8,
            "count": 3
           },
           {
            "bin_start": 46.8,
            "bin_end": 58.5,
            "count": 2
           },
           {
            "bin_start": 58.5,
            "bin_end": 70.19999999999999,
            "count": 0
           },
           {
            "bin_start": 70.19999999999999,
            "bin_end": 81.89999999999999,
            "count": 1
           },
           {
            "bin_start": 81.89999999999999,
            "bin_end": 93.6,
            "count": 3
           },
           {
            "bin_start": 93.6,
            "bin_end": 105.3,
            "count": 0
           },
           {
            "bin_start": 105.3,
            "bin_end": 117,
            "count": 2
           }
          ]
         }
        },
        {
         "name": "w_df_hard",
         "dtype": "float64",
         "stats": {
          "unique_count": 35,
          "nan_count": 0,
          "min": "0.0",
          "max": "667.0",
          "histogram": [
           {
            "bin_start": 0,
            "bin_end": 66.7,
            "count": 26
           },
           {
            "bin_start": 66.7,
            "bin_end": 133.4,
            "count": 9
           },
           {
            "bin_start": 133.4,
            "bin_end": 200.10000000000002,
            "count": 5
           },
           {
            "bin_start": 200.10000000000002,
            "bin_end": 266.8,
            "count": 1
           },
           {
            "bin_start": 266.8,
            "bin_end": 333.5,
            "count": 2
           },
           {
            "bin_start": 333.5,
            "bin_end": 400.20000000000005,
            "count": 0
           },
           {
            "bin_start": 400.20000000000005,
            "bin_end": 466.90000000000003,
            "count": 3
           },
           {
            "bin_start": 466.90000000000003,
            "bin_end": 533.6,
            "count": 1
           },
           {
            "bin_start": 533.6,
            "bin_end": 600.3000000000001,
            "count": 1
           },
           {
            "bin_start": 600.3000000000001,
            "bin_end": 667,
            "count": 2
           }
          ]
         }
        },
        {
         "name": "w_df_carpet",
         "dtype": "float64",
         "stats": {
          "unique_count": 35,
          "nan_count": 0,
          "min": "0.0",
          "max": "667.0",
          "histogram": [
           {
            "bin_start": 0,
            "bin_end": 66.7,
            "count": 26
           },
           {
            "bin_start": 66.7,
            "bin_end": 133.4,
            "count": 9
           },
           {
            "bin_start": 133.4,
            "bin_end": 200.10000000000002,
            "count": 5
           },
           {
            "bin_start": 200.10000000000002,
            "bin_end": 266.8,
            "count": 1
           },
           {
            "bin_start": 266.8,
            "bin_end": 333.5,
            "count": 2
           },
           {
            "bin_start": 333.5,
            "bin_end": 400.20000000000005,
            "count": 0
           },
           {
            "bin_start": 400.20000000000005,
            "bin_end": 466.90000000000003,
            "count": 3
           },
           {
            "bin_start": 466.90000000000003,
            "bin_end": 533.6,
            "count": 1
           },
           {
            "bin_start": 533.6,
            "bin_end": 600.3000000000001,
            "count": 1
           },
           {
            "bin_start": 600.3000000000001,
            "bin_end": 667,
            "count": 2
           }
          ]
         }
        },
        {
         "name": "w_svpt_clay",
         "dtype": "float64",
         "stats": {
          "unique_count": 44,
          "nan_count": 0,
          "min": "0.0",
          "max": "5779.0",
          "histogram": [
           {
            "bin_start": 0,
            "bin_end": 577.9,
            "count": 21
           },
           {
            "bin_start": 577.9,
            "bin_end": 1155.8,
            "count": 7
           },
           {
            "bin_start": 1155.8,
            "bin_end": 1733.6999999999998,
            "count": 10
           },
           {
            "bin_start": 1733.6999999999998,
            "bin_end": 2311.6,
            "count": 3
           },
           {
            "bin_start": 2311.6,
            "bin_end": 2889.5,
            "count": 1
           },
           {
            "bin_start": 2889.5,
            "bin_end": 3467.3999999999996,
            "count": 2
           },
           {
            "bin_start": 3467.3999999999996,
            "bin_end": 4045.2999999999997,
            "count": 3
           },
           {
            "bin_start": 4045.2999999999997,
            "bin_end": 4623.2,
            "count": 1
           },
           {
            "bin_start": 4623.2,
            "bin_end": 5201.099999999999,
            "count": 0
           },
           {
            "bin_start": 5201.099999999999,
            "bin_end": 5779,
            "count": 2
           }
          ]
         }
        },
        {
         "name": "w_svpt_grass",
         "dtype": "float64",
         "stats": {
          "unique_count": 30,
          "nan_count": 0,
          "min": "0.0",
          "max": "2769.0",
          "histogram": [
           {
            "bin_start": 0,
            "bin_end": 276.9,
            "count": 33
           },
           {
            "bin_start": 276.9,
            "bin_end": 553.8,
            "count": 4
           },
           {
            "bin_start": 553.8,
            "bin_end": 830.6999999999999,
            "count": 1
           },
           {
            "bin_start": 830.6999999999999,
            "bin_end": 1107.6,
            "count": 4
           },
           {
            "bin_start": 1107.6,
            "bin_end": 1384.5,
            "count": 3
           },
           {
            "bin_start": 1384.5,
            "bin_end": 1661.3999999999999,
            "count": 2
           },
           {
            "bin_start": 1661.3999999999999,
            "bin_end": 1938.2999999999997,
            "count": 1
           },
           {
            "bin_start": 1938.2999999999997,
            "bin_end": 2215.2,
            "count": 0
           },
           {
            "bin_start": 2215.2,
            "bin_end": 2492.1,
            "count": 1
           },
           {
            "bin_start": 2492.1,
            "bin_end": 2769,
            "count": 1
           }
          ]
         }
        },
        {
         "name": "w_svpt_hard",
         "dtype": "float64",
         "stats": {
          "unique_count": 39,
          "nan_count": 0,
          "min": "0.0",
          "max": "13225.0",
          "histogram": [
           {
            "bin_start": 0,
            "bin_end": 1322.5,
            "count": 27
           },
           {
            "bin_start": 1322.5,
            "bin_end": 2645,
            "count": 9
           },
           {
            "bin_start": 2645,
            "bin_end": 3967.5,
            "count": 3
           },
           {
            "bin_start": 3967.5,
            "bin_end": 5290,
            "count": 3
           },
           {
            "bin_start": 5290,
            "bin_end": 6612.5,
            "count": 0
           },
           {
            "bin_start": 6612.5,
            "bin_end": 7935,
            "count": 2
           },
           {
            "bin_start": 7935,
            "bin_end": 9257.5,
            "count": 1
           },
           {
            "bin_start": 9257.5,
            "bin_end": 10580,
            "count": 2
           },
           {
            "bin_start": 10580,
            "bin_end": 11902.5,
            "count": 2
           },
           {
            "bin_start": 11902.5,
            "bin_end": 13225,
            "count": 1
           }
          ]
         }
        },
        {
         "name": "w_svpt_carpet",
         "dtype": "float64",
         "stats": {
          "unique_count": 39,
          "nan_count": 0,
          "min": "0.0",
          "max": "13225.0",
          "histogram": [
           {
            "bin_start": 0,
            "bin_end": 1322.5,
            "count": 27
           },
           {
            "bin_start": 1322.5,
            "bin_end": 2645,
            "count": 9
           },
           {
            "bin_start": 2645,
            "bin_end": 3967.5,
            "count": 3
           },
           {
            "bin_start": 3967.5,
            "bin_end": 5290,
            "count": 3
           },
           {
            "bin_start": 5290,
            "bin_end": 6612.5,
            "count": 0
           },
           {
            "bin_start": 6612.5,
            "bin_end": 7935,
            "count": 2
           },
           {
            "bin_start": 7935,
            "bin_end": 9257.5,
            "count": 1
           },
           {
            "bin_start": 9257.5,
            "bin_end": 10580,
            "count": 2
           },
           {
            "bin_start": 10580,
            "bin_end": 11902.5,
            "count": 2
           },
           {
            "bin_start": 11902.5,
            "bin_end": 13225,
            "count": 1
           }
          ]
         }
        },
        {
         "name": "w_1stIn_clay",
         "dtype": "float64",
         "stats": {
          "unique_count": 44,
          "nan_count": 0,
          "min": "0.0",
          "max": "3745.0",
          "histogram": [
           {
            "bin_start": 0,
            "bin_end": 374.5,
            "count": 22
           },
           {
            "bin_start": 374.5,
            "bin_end": 749,
            "count": 7
           },
           {
            "bin_start": 749,
            "bin_end": 1123.5,
            "count": 7
           },
           {
            "bin_start": 1123.5,
            "bin_end": 1498,
            "count": 4
           },
           {
            "bin_start": 1498,
            "bin_end": 1872.5,
            "count": 2
           },
           {
            "bin_start": 1872.5,
            "bin_end": 2247,
            "count": 3
           },
           {
            "bin_start": 2247,
            "bin_end": 2621.5,
            "count": 2
           },
           {
            "bin_start": 2621.5,
            "bin_end": 2996,
            "count": 1
           },
           {
            "bin_start": 2996,
            "bin_end": 3370.5,
            "count": 0
           },
           {
            "bin_start": 3370.5,
            "bin_end": 3745,
            "count": 2
           }
          ]
         }
        },
        {
         "name": "w_1stIn_grass",
         "dtype": "float64",
         "stats": {
          "unique_count": 30,
          "nan_count": 0,
          "min": "0.0",
          "max": "1797.0",
          "histogram": [
           {
            "bin_start": 0,
            "bin_end": 179.7,
            "count": 33
           },
           {
            "bin_start": 179.7,
            "bin_end": 359.4,
            "count": 3
           },
           {
            "bin_start": 359.4,
            "bin_end": 539.0999999999999,
            "count": 3
           },
           {
            "bin_start": 539.0999999999999,
            "bin_end": 718.8,
            "count": 4
           },
           {
            "bin_start": 718.8,
            "bin_end": 898.5,
            "count": 2
           },
           {
            "bin_start": 898.5,
            "bin_end": 1078.1999999999998,
            "count": 2
           },
           {
            "bin_start": 1078.1999999999998,
            "bin_end": 1257.8999999999999,
            "count": 1
           },
           {
            "bin_start": 1257.8999999999999,
            "bin_end": 1437.6,
            "count": 0
           },
           {
            "bin_start": 1437.6,
            "bin_end": 1617.3,
            "count": 1
           },
           {
            "bin_start": 1617.3,
            "bin_end": 1797,
            "count": 1
           }
          ]
         }
        },
        {
         "name": "w_1stIn_hard",
         "dtype": "float64",
         "stats": {
          "unique_count": 39,
          "nan_count": 0,
          "min": "0.0",
          "max": "7987.0",
          "histogram": [
           {
            "bin_start": 0,
            "bin_end": 798.7,
            "count": 27
           },
           {
            "bin_start": 798.7,
            "bin_end": 1597.4,
            "count": 8
           },
           {
            "bin_start": 1597.4,
            "bin_end": 2396.1000000000004,
            "count": 4
           },
           {
            "bin_start": 2396.1000000000004,
            "bin_end": 3194.8,
            "count": 2
           },
           {
            "bin_start": 3194.8,
            "bin_end": 3993.5,
            "count": 1
           },
           {
            "bin_start": 3993.5,
            "bin_end": 4792.200000000001,
            "count": 1
           },
           {
            "bin_start": 4792.200000000001,
            "bin_end": 5590.900000000001,
            "count": 1
           },
           {
            "bin_start": 5590.900000000001,
            "bin_end": 6389.6,
            "count": 3
           },
           {
            "bin_start": 6389.6,
            "bin_end": 7188.3,
            "count": 1
           },
           {
            "bin_start": 7188.3,
            "bin_end": 7987,
            "count": 2
           }
          ]
         }
        },
        {
         "name": "w_1stIn_carpet",
         "dtype": "float64",
         "stats": {
          "unique_count": 39,
          "nan_count": 0,
          "min": "0.0",
          "max": "7987.0",
          "histogram": [
           {
            "bin_start": 0,
            "bin_end": 798.7,
            "count": 27
           },
           {
            "bin_start": 798.7,
            "bin_end": 1597.4,
            "count": 8
           },
           {
            "bin_start": 1597.4,
            "bin_end": 2396.1000000000004,
            "count": 4
           },
           {
            "bin_start": 2396.1000000000004,
            "bin_end": 3194.8,
            "count": 2
           },
           {
            "bin_start": 3194.8,
            "bin_end": 3993.5,
            "count": 1
           },
           {
            "bin_start": 3993.5,
            "bin_end": 4792.200000000001,
            "count": 1
           },
           {
            "bin_start": 4792.200000000001,
            "bin_end": 5590.900000000001,
            "count": 1
           },
           {
            "bin_start": 5590.900000000001,
            "bin_end": 6389.6,
            "count": 3
           },
           {
            "bin_start": 6389.6,
            "bin_end": 7188.3,
            "count": 1
           },
           {
            "bin_start": 7188.3,
            "bin_end": 7987,
            "count": 2
           }
          ]
         }
        },
        {
         "name": "w_1stWon_clay",
         "dtype": "float64",
         "stats": {
          "unique_count": 44,
          "nan_count": 0,
          "min": "0.0",
          "max": "2491.0",
          "histogram": [
           {
            "bin_start": 0,
            "bin_end": 249.1,
            "count": 22
           },
           {
            "bin_start": 249.1,
            "bin_end": 498.2,
            "count": 6
           },
           {
            "bin_start": 498.2,
            "bin_end": 747.3,
            "count": 9
           },
           {
            "bin_start": 747.3,
            "bin_end": 996.4,
            "count": 3
           },
           {
            "bin_start": 996.4,
            "bin_end": 1245.5,
            "count": 2
           },
           {
            "bin_start": 1245.5,
            "bin_end": 1494.6,
            "count": 2
           },
           {
            "bin_start": 1494.6,
            "bin_end": 1743.7,
            "count": 2
           },
           {
            "bin_start": 1743.7,
            "bin_end": 1992.8,
            "count": 2
           },
           {
            "bin_start": 1992.8,
            "bin_end": 2241.9,
            "count": 0
           },
           {
            "bin_start": 2241.9,
            "bin_end": 2491,
            "count": 2
           }
          ]
         }
        },
        {
         "name": "w_1stWon_grass",
         "dtype": "float64",
         "stats": {
          "unique_count": 29,
          "nan_count": 0,
          "min": "0.0",
          "max": "1378.0",
          "histogram": [
           {
            "bin_start": 0,
            "bin_end": 137.8,
            "count": 33
           },
           {
            "bin_start": 137.8,
            "bin_end": 275.6,
            "count": 5
           },
           {
            "bin_start": 275.6,
            "bin_end": 413.40000000000003,
            "count": 1
           },
           {
            "bin_start": 413.40000000000003,
            "bin_end": 551.2,
            "count": 6
           },
           {
            "bin_start": 551.2,
            "bin_end": 689,
            "count": 2
           },
           {
            "bin_start": 689,
            "bin_end": 826.8000000000001,
            "count": 1
           },
           {
            "bin_start": 826.8000000000001,
            "bin_end": 964.6000000000001,
            "count": 0
           },
           {
            "bin_start": 964.6000000000001,
            "bin_end": 1102.4,
            "count": 0
           },
           {
            "bin_start": 1102.4,
            "bin_end": 1240.2,
            "count": 1
           },
           {
            "bin_start": 1240.2,
            "bin_end": 1378,
            "count": 1
           }
          ]
         }
        },
        {
         "name": "w_1stWon_hard",
         "dtype": "float64",
         "stats": {
          "unique_count": 38,
          "nan_count": 0,
          "min": "0.0",
          "max": "5530.0",
          "histogram": [
           {
            "bin_start": 0,
            "bin_end": 553,
            "count": 27
           },
           {
            "bin_start": 553,
            "bin_end": 1106,
            "count": 9
           },
           {
            "bin_start": 1106,
            "bin_end": 1659,
            "count": 3
           },
           {
            "bin_start": 1659,
            "bin_end": 2212,
            "count": 2
           },
           {
            "bin_start": 2212,
            "bin_end": 2765,
            "count": 1
           },
           {
            "bin_start": 2765,
            "bin_end": 3318,
            "count": 1
           },
           {
            "bin_start": 3318,
            "bin_end": 3871,
            "count": 1
           },
           {
            "bin_start": 3871,
            "bin_end": 4424,
            "count": 2
           },
           {
            "bin_start": 4424,
            "bin_end": 4977,
            "count": 2
           },
           {
            "bin_start": 4977,
            "bin_end": 5530,
            "count": 2
           }
          ]
         }
        },
        {
         "name": "w_1stWon_carpet",
         "dtype": "float64",
         "stats": {
          "unique_count": 38,
          "nan_count": 0,
          "min": "0.0",
          "max": "5530.0",
          "histogram": [
           {
            "bin_start": 0,
            "bin_end": 553,
            "count": 27
           },
           {
            "bin_start": 553,
            "bin_end": 1106,
            "count": 9
           },
           {
            "bin_start": 1106,
            "bin_end": 1659,
            "count": 3
           },
           {
            "bin_start": 1659,
            "bin_end": 2212,
            "count": 2
           },
           {
            "bin_start": 2212,
            "bin_end": 2765,
            "count": 1
           },
           {
            "bin_start": 2765,
            "bin_end": 3318,
            "count": 1
           },
           {
            "bin_start": 3318,
            "bin_end": 3871,
            "count": 1
           },
           {
            "bin_start": 3871,
            "bin_end": 4424,
            "count": 2
           },
           {
            "bin_start": 4424,
            "bin_end": 4977,
            "count": 2
           },
           {
            "bin_start": 4977,
            "bin_end": 5530,
            "count": 2
           }
          ]
         }
        },
        {
         "name": "w_2ndWon_clay",
         "dtype": "float64",
         "stats": {
          "unique_count": 43,
          "nan_count": 0,
          "min": "0.0",
          "max": "1169.0",
          "histogram": [
           {
            "bin_start": 0,
            "bin_end": 116.9,
            "count": 23
           },
           {
            "bin_start": 116.9,
            "bin_end": 233.8,
            "count": 8
           },
           {
            "bin_start": 233.8,
            "bin_end": 350.70000000000005,
            "count": 7
           },
           {
            "bin_start": 350.70000000000005,
            "bin_end": 467.6,
            "count": 2
           },
           {
            "bin_start": 467.6,
            "bin_end": 584.5,
            "count": 2
           },
           {
            "bin_start": 584.5,
            "bin_end": 701.4000000000001,
            "count": 3
           },
           {
            "bin_start": 701.4000000000001,
            "bin_end": 818.3000000000001,
            "count": 3
           },
           {
            "bin_start": 818.3000000000001,
            "bin_end": 935.2,
            "count": 1
           },
           {
            "bin_start": 935.2,
            "bin_end": 1052.1000000000001,
            "count": 0
           },
           {
            "bin_start": 1052.1000000000001,
            "bin_end": 1169,
            "count": 1
           }
          ]
         }
        },
        {
         "name": "w_2ndWon_grass",
         "dtype": "float64",
         "stats": {
          "unique_count": 29,
          "nan_count": 0,
          "min": "0.0",
          "max": "495.0",
          "histogram": [
           {
            "bin_start": 0,
            "bin_end": 49.5,
            "count": 34
           },
           {
            "bin_start": 49.5,
            "bin_end": 99,
            "count": 1
           },
           {
            "bin_start": 99,
            "bin_end": 148.5,
            "count": 4
           },
           {
            "bin_start": 148.5,
            "bin_end": 198,
            "count": 3
           },
           {
            "bin_start": 198,
            "bin_end": 247.5,
            "count": 2
           },
           {
            "bin_start": 247.5,
            "bin_end": 297,
            "count": 3
           },
           {
            "bin_start": 297,
            "bin_end": 346.5,
            "count": 1
           },
           {
            "bin_start": 346.5,
            "bin_end": 396,
            "count": 0
           },
           {
            "bin_start": 396,
            "bin_end": 445.5,
            "count": 0
           },
           {
            "bin_start": 445.5,
            "bin_end": 495,
            "count": 2
           }
          ]
         }
        },
        {
         "name": "w_2ndWon_hard",
         "dtype": "float64",
         "stats": {
          "unique_count": 38,
          "nan_count": 0,
          "min": "0.0",
          "max": "2628.0",
          "histogram": [
           {
            "bin_start": 0,
            "bin_end": 262.8,
            "count": 26
           },
           {
            "bin_start": 262.8,
            "bin_end": 525.6,
            "count": 11
           },
           {
            "bin_start": 525.6,
            "bin_end": 788.4000000000001,
            "count": 3
           },
           {
            "bin_start": 788.4000000000001,
            "bin_end": 1051.2,
            "count": 2
           },
           {
            "bin_start": 1051.2,
            "bin_end": 1314,
            "count": 1
           },
           {
            "bin_start": 1314,
            "bin_end": 1576.8000000000002,
            "count": 2
           },
           {
            "bin_start": 1576.8000000000002,
            "bin_end": 1839.6000000000001,
            "count": 1
           },
           {
            "bin_start": 1839.6000000000001,
            "bin_end": 2102.4,
            "count": 0
           },
           {
            "bin_start": 2102.4,
            "bin_end": 2365.2000000000003,
            "count": 3
           },
           {
            "bin_start": 2365.2000000000003,
            "bin_end": 2628,
            "count": 1
           }
          ]
         }
        },
        {
         "name": "w_2ndWon_carpet",
         "dtype": "float64",
         "stats": {
          "unique_count": 38,
          "nan_count": 0,
          "min": "0.0",
          "max": "2628.0",
          "histogram": [
           {
            "bin_start": 0,
            "bin_end": 262.8,
            "count": 26
           },
           {
            "bin_start": 262.8,
            "bin_end": 525.6,
            "count": 11
           },
           {
            "bin_start": 525.6,
            "bin_end": 788.4000000000001,
            "count": 3
           },
           {
            "bin_start": 788.4000000000001,
            "bin_end": 1051.2,
            "count": 2
           },
           {
            "bin_start": 1051.2,
            "bin_end": 1314,
            "count": 1
           },
           {
            "bin_start": 1314,
            "bin_end": 1576.8000000000002,
            "count": 2
           },
           {
            "bin_start": 1576.8000000000002,
            "bin_end": 1839.6000000000001,
            "count": 1
           },
           {
            "bin_start": 1839.6000000000001,
            "bin_end": 2102.4,
            "count": 0
           },
           {
            "bin_start": 2102.4,
            "bin_end": 2365.2000000000003,
            "count": 3
           },
           {
            "bin_start": 2365.2000000000003,
            "bin_end": 2628,
            "count": 1
           }
          ]
         }
        },
        {
         "name": "w_SvGms_clay",
         "dtype": "float64",
         "stats": {
          "unique_count": 40,
          "nan_count": 0,
          "min": "0.0",
          "max": "892.0",
          "histogram": [
           {
            "bin_start": 0,
            "bin_end": 89.2,
            "count": 21
           },
           {
            "bin_start": 89.2,
            "bin_end": 178.4,
            "count": 9
           },
           {
            "bin_start": 178.4,
            "bin_end": 267.6,
            "count": 8
           },
           {
            "bin_start": 267.6,
            "bin_end": 356.8,
            "count": 3
           },
           {
            "bin_start": 356.8,
            "bin_end": 446,
            "count": 1
           },
           {
            "bin_start": 446,
            "bin_end": 535.2,
            "count": 3
           },
           {
            "bin_start": 535.2,
            "bin_end": 624.4,
            "count": 2
           },
           {
            "bin_start": 624.4,
            "bin_end": 713.6,
            "count": 1
           },
           {
            "bin_start": 713.6,
            "bin_end": 802.8000000000001,
            "count": 1
           },
           {
            "bin_start": 802.8000000000001,
            "bin_end": 892,
            "count": 1
           }
          ]
         }
        },
        {
         "name": "w_SvGms_grass",
         "dtype": "float64",
         "stats": {
          "unique_count": 29,
          "nan_count": 0,
          "min": "0.0",
          "max": "432.0",
          "histogram": [
           {
            "bin_start": 0,
            "bin_end": 43.2,
            "count": 34
           },
           {
            "bin_start": 43.2,
            "bin_end": 86.4,
            "count": 2
           },
           {
            "bin_start": 86.4,
            "bin_end": 129.60000000000002,
            "count": 5
           },
           {
            "bin_start": 129.60000000000002,
            "bin_end": 172.8,
            "count": 3
           },
           {
            "bin_start": 172.8,
            "bin_end": 216,
            "count": 1
           },
           {
            "bin_start": 216,
            "bin_end": 259.20000000000005,
            "count": 3
           },
           {
            "bin_start": 259.20000000000005,
            "bin_end": 302.40000000000003,
            "count": 0
           },
           {
            "bin_start": 302.40000000000003,
            "bin_end": 345.6,
            "count": 0
           },
           {
            "bin_start": 345.6,
            "bin_end": 388.8,
            "count": 0
           },
           {
            "bin_start": 388.8,
            "bin_end": 432,
            "count": 2
           }
          ]
         }
        },
        {
         "name": "w_SvGms_hard",
         "dtype": "float64",
         "stats": {
          "unique_count": 38,
          "nan_count": 0,
          "min": "0.0",
          "max": "1990.0",
          "histogram": [
           {
            "bin_start": 0,
            "bin_end": 199,
            "count": 27
           },
           {
            "bin_start": 199,
            "bin_end": 398,
            "count": 9
           },
           {
            "bin_start": 398,
            "bin_end": 597,
            "count": 4
           },
           {
            "bin_start": 597,
            "bin_end": 796,
            "count": 1
           },
           {
            "bin_start": 796,
            "bin_end": 995,
            "count": 1
           },
           {
            "bin_start": 995,
            "bin_end": 1194,
            "count": 2
           },
           {
            "bin_start": 1194,
            "bin_end": 1393,
            "count": 1
           },
           {
            "bin_start": 1393,
            "bin_end": 1592,
            "count": 1
           },
           {
            "bin_start": 1592,
            "bin_end": 1791,
            "count": 2
           },
           {
            "bin_start": 1791,
            "bin_end": 1990,
            "count": 2
           }
          ]
         }
        },
        {
         "name": "w_SvGms_carpet",
         "dtype": "float64",
         "stats": {
          "unique_count": 38,
          "nan_count": 0,
          "min": "0.0",
          "max": "1990.0",
          "histogram": [
           {
            "bin_start": 0,
            "bin_end": 199,
            "count": 27
           },
           {
            "bin_start": 199,
            "bin_end": 398,
            "count": 9
           },
           {
            "bin_start": 398,
            "bin_end": 597,
            "count": 4
           },
           {
            "bin_start": 597,
            "bin_end": 796,
            "count": 1
           },
           {
            "bin_start": 796,
            "bin_end": 995,
            "count": 1
           },
           {
            "bin_start": 995,
            "bin_end": 1194,
            "count": 2
           },
           {
            "bin_start": 1194,
            "bin_end": 1393,
            "count": 1
           },
           {
            "bin_start": 1393,
            "bin_end": 1592,
            "count": 1
           },
           {
            "bin_start": 1592,
            "bin_end": 1791,
            "count": 2
           },
           {
            "bin_start": 1791,
            "bin_end": 1990,
            "count": 2
           }
          ]
         }
        },
        {
         "name": "w_bpSaved_clay",
         "dtype": "float64",
         "stats": {
          "unique_count": 40,
          "nan_count": 0,
          "min": "0.0",
          "max": "303.0",
          "histogram": [
           {
            "bin_start": 0,
            "bin_end": 30.3,
            "count": 21
           },
           {
            "bin_start": 30.3,
            "bin_end": 60.6,
            "count": 6
           },
           {
            "bin_start": 60.6,
            "bin_end": 90.9,
            "count": 7
           },
           {
            "bin_start": 90.9,
            "bin_end": 121.2,
            "count": 4
           },
           {
            "bin_start": 121.2,
            "bin_end": 151.5,
            "count": 3
           },
           {
            "bin_start": 151.5,
            "bin_end": 181.8,
            "count": 3
           },
           {
            "bin_start": 181.8,
            "bin_end": 212.1,
            "count": 1
           },
           {
            "bin_start": 212.1,
            "bin_end": 242.4,
            "count": 2
           },
           {
            "bin_start": 242.4,
            "bin_end": 272.7,
            "count": 0
           },
           {
            "bin_start": 272.7,
            "bin_end": 303,
            "count": 3
           }
          ]
         }
        },
        {
         "name": "w_bpSaved_grass",
         "dtype": "float64",
         "stats": {
          "unique_count": 26,
          "nan_count": 0,
          "min": "0.0",
          "max": "121.0",
          "histogram": [
           {
            "bin_start": 0,
            "bin_end": 12.1,
            "count": 32
           },
           {
            "bin_start": 12.1,
            "bin_end": 24.2,
            "count": 3
           },
           {
            "bin_start": 24.2,
            "bin_end": 36.3,
            "count": 2
           },
           {
            "bin_start": 36.3,
            "bin_end": 48.4,
            "count": 4
           },
           {
            "bin_start": 48.4,
            "bin_end": 60.5,
            "count": 1
           },
           {
            "bin_start": 60.5,
            "bin_end": 72.6,
            "count": 4
           },
           {
            "bin_start": 72.6,
            "bin_end": 84.7,
            "count": 0
           },
           {
            "bin_start": 84.7,
            "bin_end": 96.8,
            "count": 1
           },
           {
            "bin_start": 96.8,
            "bin_end": 108.89999999999999,
            "count": 0
           },
           {
            "bin_start": 108.89999999999999,
            "bin_end": 121,
            "count": 3
           }
          ]
         }
        },
        {
         "name": "w_bpSaved_hard",
         "dtype": "float64",
         "stats": {
          "unique_count": 38,
          "nan_count": 0,
          "min": "0.0",
          "max": "701.0",
          "histogram": [
           {
            "bin_start": 0,
            "bin_end": 70.1,
            "count": 27
           },
           {
            "bin_start": 70.1,
            "bin_end": 140.2,
            "count": 8
           },
           {
            "bin_start": 140.2,
            "bin_end": 210.29999999999998,
            "count": 5
           },
           {
            "bin_start": 210.29999999999998,
            "bin_end": 280.4,
            "count": 1
           },
           {
            "bin_start": 280.4,
            "bin_end": 350.5,
            "count": 1
           },
           {
            "bin_start": 350.5,
            "bin_end": 420.59999999999997,
            "count": 1
           },
           {
            "bin_start": 420.59999999999997,
            "bin_end": 490.69999999999993,
            "count": 3
           },
           {
            "bin_start": 490.69999999999993,
            "bin_end": 560.8,
            "count": 1
           },
           {
            "bin_start": 560.8,
            "bin_end": 630.9,
            "count": 1
           },
           {
            "bin_start": 630.9,
            "bin_end": 701,
            "count": 2
           }
          ]
         }
        },
        {
         "name": "w_bpSaved_carpet",
         "dtype": "float64",
         "stats": {
          "unique_count": 38,
          "nan_count": 0,
          "min": "0.0",
          "max": "701.0",
          "histogram": [
           {
            "bin_start": 0,
            "bin_end": 70.1,
            "count": 27
           },
           {
            "bin_start": 70.1,
            "bin_end": 140.2,
            "count": 8
           },
           {
            "bin_start": 140.2,
            "bin_end": 210.29999999999998,
            "count": 5
           },
           {
            "bin_start": 210.29999999999998,
            "bin_end": 280.4,
            "count": 1
           },
           {
            "bin_start": 280.4,
            "bin_end": 350.5,
            "count": 1
           },
           {
            "bin_start": 350.5,
            "bin_end": 420.59999999999997,
            "count": 1
           },
           {
            "bin_start": 420.59999999999997,
            "bin_end": 490.69999999999993,
            "count": 3
           },
           {
            "bin_start": 490.69999999999993,
            "bin_end": 560.8,
            "count": 1
           },
           {
            "bin_start": 560.8,
            "bin_end": 630.9,
            "count": 1
           },
           {
            "bin_start": 630.9,
            "bin_end": 701,
            "count": 2
           }
          ]
         }
        },
        {
         "name": "w_bpFaced_clay",
         "dtype": "float64",
         "stats": {
          "unique_count": 42,
          "nan_count": 0,
          "min": "0.0",
          "max": "514.0",
          "histogram": [
           {
            "bin_start": 0,
            "bin_end": 51.4,
            "count": 21
           },
           {
            "bin_start": 51.4,
            "bin_end": 102.8,
            "count": 6
           },
           {
            "bin_start": 102.8,
            "bin_end": 154.2,
            "count": 9
           },
           {
            "bin_start": 154.2,
            "bin_end": 205.6,
            "count": 3
           },
           {
            "bin_start": 205.6,
            "bin_end": 257,
            "count": 5
           },
           {
            "bin_start": 257,
            "bin_end": 308.4,
            "count": 1
           },
           {
            "bin_start": 308.4,
            "bin_end": 359.8,
            "count": 0
           },
           {
            "bin_start": 359.8,
            "bin_end": 411.2,
            "count": 2
           },
           {
            "bin_start": 411.2,
            "bin_end": 462.59999999999997,
            "count": 0
           },
           {
            "bin_start": 462.59999999999997,
            "bin_end": 514,
            "count": 3
           }
          ]
         }
        },
        {
         "name": "w_bpFaced_grass",
         "dtype": "float64",
         "stats": {
          "unique_count": 27,
          "nan_count": 0,
          "min": "0.0",
          "max": "175.0",
          "histogram": [
           {
            "bin_start": 0,
            "bin_end": 17.5,
            "count": 31
           },
           {
            "bin_start": 17.5,
            "bin_end": 35,
            "count": 4
           },
           {
            "bin_start": 35,
            "bin_end": 52.5,
            "count": 2
           },
           {
            "bin_start": 52.5,
            "bin_end": 70,
            "count": 1
           },
           {
            "bin_start": 70,
            "bin_end": 87.5,
            "count": 4
           },
           {
            "bin_start": 87.5,
            "bin_end": 105,
            "count": 3
           },
           {
            "bin_start": 105,
            "bin_end": 122.5,
            "count": 1
           },
           {
            "bin_start": 122.5,
            "bin_end": 140,
            "count": 0
           },
           {
            "bin_start": 140,
            "bin_end": 157.5,
            "count": 1
           },
           {
            "bin_start": 157.5,
            "bin_end": 175,
            "count": 3
           }
          ]
         }
        },
        {
         "name": "w_bpFaced_hard",
         "dtype": "float64",
         "stats": {
          "unique_count": 39,
          "nan_count": 0,
          "min": "0.0",
          "max": "1163.0",
          "histogram": [
           {
            "bin_start": 0,
            "bin_end": 116.3,
            "count": 27
           },
           {
            "bin_start": 116.3,
            "bin_end": 232.6,
            "count": 7
           },
           {
            "bin_start": 232.6,
            "bin_end": 348.9,
            "count": 5
           },
           {
            "bin_start": 348.9,
            "bin_end": 465.2,
            "count": 2
           },
           {
            "bin_start": 465.2,
            "bin_end": 581.5,
            "count": 1
           },
           {
            "bin_start": 581.5,
            "bin_end": 697.8,
            "count": 2
           },
           {
            "bin_start": 697.8,
            "bin_end": 814.1,
            "count": 2
           },
           {
            "bin_start": 814.1,
            "bin_end": 930.4,
            "count": 2
           },
           {
            "bin_start": 930.4,
            "bin_end": 1046.7,
            "count": 1
           },
           {
            "bin_start": 1046.7,
            "bin_end": 1163,
            "count": 1
           }
          ]
         }
        },
        {
         "name": "w_bpFaced_carpet",
         "dtype": "float64",
         "stats": {
          "unique_count": 39,
          "nan_count": 0,
          "min": "0.0",
          "max": "1163.0",
          "histogram": [
           {
            "bin_start": 0,
            "bin_end": 116.3,
            "count": 27
           },
           {
            "bin_start": 116.3,
            "bin_end": 232.6,
            "count": 7
           },
           {
            "bin_start": 232.6,
            "bin_end": 348.9,
            "count": 5
           },
           {
            "bin_start": 348.9,
            "bin_end": 465.2,
            "count": 2
           },
           {
            "bin_start": 465.2,
            "bin_end": 581.5,
            "count": 1
           },
           {
            "bin_start": 581.5,
            "bin_end": 697.8,
            "count": 2
           },
           {
            "bin_start": 697.8,
            "bin_end": 814.1,
            "count": 2
           },
           {
            "bin_start": 814.1,
            "bin_end": 930.4,
            "count": 2
           },
           {
            "bin_start": 930.4,
            "bin_end": 1046.7,
            "count": 1
           },
           {
            "bin_start": 1046.7,
            "bin_end": 1163,
            "count": 1
           }
          ]
         }
        },
        {
         "name": "_deepnote_index_column",
         "dtype": "int64"
        }
       ],
       "rows_top": [
        {
         "Name": "Fernanda Brito",
         "w_ace_clay": 2,
         "w_ace_grass": 0,
         "w_ace_hard": 0,
         "w_ace_carpet": 0,
         "w_df_clay": 8,
         "w_df_grass": 0,
         "w_df_hard": 0,
         "w_df_carpet": 0,
         "w_svpt_clay": 166,
         "w_svpt_grass": 0,
         "w_svpt_hard": 0,
         "w_svpt_carpet": 0,
         "w_1stIn_clay": 114,
         "w_1stIn_grass": 0,
         "w_1stIn_hard": 0,
         "w_1stIn_carpet": 0,
         "w_1stWon_clay": 71,
         "w_1stWon_grass": 0,
         "w_1stWon_hard": 0,
         "w_1stWon_carpet": 0,
         "w_2ndWon_clay": 25,
         "w_2ndWon_grass": 0,
         "w_2ndWon_hard": 0,
         "w_2ndWon_carpet": 0,
         "w_SvGms_clay": 26,
         "w_SvGms_grass": 0,
         "w_SvGms_hard": 0,
         "w_SvGms_carpet": 0,
         "w_bpSaved_clay": 5,
         "w_bpSaved_grass": 0,
         "w_bpSaved_hard": 0,
         "w_bpSaved_carpet": 0,
         "w_bpFaced_clay": 13,
         "w_bpFaced_grass": 0,
         "w_bpFaced_hard": 0,
         "w_bpFaced_carpet": 0,
         "_deepnote_index_column": 722
        },
        {
         "Name": "Arantxa Rus",
         "w_ace_clay": 57,
         "w_ace_grass": 23,
         "w_ace_hard": 90,
         "w_ace_carpet": 90,
         "w_df_clay": 98,
         "w_df_grass": 19,
         "w_df_hard": 114,
         "w_df_carpet": 114,
         "w_svpt_clay": 2254,
         "w_svpt_grass": 548,
         "w_svpt_hard": 2667,
         "w_svpt_carpet": 2667,
         "w_1stIn_clay": 1563,
         "w_1stIn_grass": 367,
         "w_1stIn_hard": 1917,
         "w_1stIn_carpet": 1917,
         "w_1stWon_clay": 1031,
         "w_1stWon_grass": 267,
         "w_1stWon_hard": 1241,
         "w_1stWon_carpet": 1241,
         "w_2ndWon_clay": 351,
         "w_2ndWon_grass": 104,
         "w_2ndWon_hard": 452,
         "w_2ndWon_carpet": 452,
         "w_SvGms_clay": 356,
         "w_SvGms_grass": 87,
         "w_SvGms_hard": 408,
         "w_SvGms_carpet": 408,
         "w_bpSaved_clay": 128,
         "w_bpSaved_grass": 25,
         "w_bpSaved_hard": 166,
         "w_bpSaved_carpet": 166,
         "w_bpFaced_clay": 216,
         "w_bpFaced_grass": 35,
         "w_bpFaced_hard": 261,
         "w_bpFaced_carpet": 261,
         "_deepnote_index_column": 118
        },
        {
         "Name": "Nuria Parrizas Diaz",
         "w_ace_clay": 2,
         "w_ace_grass": 6,
         "w_ace_hard": 1,
         "w_ace_carpet": 1,
         "w_df_clay": 23,
         "w_df_grass": 8,
         "w_df_hard": 3,
         "w_df_carpet": 3,
         "w_svpt_clay": 1135,
         "w_svpt_grass": 146,
         "w_svpt_hard": 126,
         "w_svpt_carpet": 126,
         "w_1stIn_clay": 839,
         "w_1stIn_grass": 94,
         "w_1stIn_hard": 88,
         "w_1stIn_carpet": 88,
         "w_1stWon_clay": 519,
         "w_1stWon_grass": 69,
         "w_1stWon_hard": 53,
         "w_1stWon_carpet": 53,
         "w_2ndWon_clay": 144,
         "w_2ndWon_grass": 27,
         "w_2ndWon_hard": 19,
         "w_2ndWon_carpet": 19,
         "w_SvGms_clay": 173,
         "w_SvGms_grass": 22,
         "w_SvGms_hard": 21,
         "w_SvGms_carpet": 21,
         "w_bpSaved_clay": 67,
         "w_bpSaved_grass": 3,
         "w_bpSaved_hard": 5,
         "w_bpSaved_carpet": 5,
         "w_bpFaced_clay": 115,
         "w_bpFaced_grass": 6,
         "w_bpFaced_hard": 12,
         "w_bpFaced_carpet": 12,
         "_deepnote_index_column": 434
        },
        {
         "Name": "Tamara Zidansek",
         "w_ace_clay": 69,
         "w_ace_grass": 1,
         "w_ace_hard": 43,
         "w_ace_carpet": 43,
         "w_df_clay": 152,
         "w_df_grass": 6,
         "w_df_hard": 69,
         "w_df_carpet": 69,
         "w_svpt_clay": 4226,
         "w_svpt_grass": 211,
         "w_svpt_hard": 2123,
         "w_svpt_carpet": 2123,
         "w_1stIn_clay": 2780,
         "w_1stIn_grass": 141,
         "w_1stIn_hard": 1508,
         "w_1stIn_carpet": 1508,
         "w_1stWon_clay": 1751,
         "w_1stWon_grass": 79,
         "w_1stWon_hard": 940,
         "w_1stWon_carpet": 940,
         "w_2ndWon_clay": 710,
         "w_2ndWon_grass": 29,
         "w_2ndWon_hard": 306,
         "w_2ndWon_carpet": 306,
         "w_SvGms_clay": 636,
         "w_SvGms_grass": 35,
         "w_SvGms_hard": 306,
         "w_SvGms_carpet": 306,
         "w_bpSaved_clay": 284,
         "w_bpSaved_grass": 10,
         "w_bpSaved_hard": 142,
         "w_bpSaved_carpet": 142,
         "w_bpFaced_clay": 481,
         "w_bpFaced_grass": 27,
         "w_bpFaced_hard": 228,
         "w_bpFaced_carpet": 228,
         "_deepnote_index_column": 1494
        },
        {
         "Name": "Ylona Georgiana Ghioroaie",
         "w_ace_clay": 0,
         "w_ace_grass": 0,
         "w_ace_hard": 0,
         "w_ace_carpet": 0,
         "w_df_clay": 0,
         "w_df_grass": 0,
         "w_df_hard": 0,
         "w_df_carpet": 0,
         "w_svpt_clay": 0,
         "w_svpt_grass": 0,
         "w_svpt_hard": 0,
         "w_svpt_carpet": 0,
         "w_1stIn_clay": 0,
         "w_1stIn_grass": 0,
         "w_1stIn_hard": 0,
         "w_1stIn_carpet": 0,
         "w_1stWon_clay": 0,
         "w_1stWon_grass": 0,
         "w_1stWon_hard": 0,
         "w_1stWon_carpet": 0,
         "w_2ndWon_clay": 0,
         "w_2ndWon_grass": 0,
         "w_2ndWon_hard": 0,
         "w_2ndWon_carpet": 0,
         "w_SvGms_clay": 0,
         "w_SvGms_grass": 0,
         "w_SvGms_hard": 0,
         "w_SvGms_carpet": 0,
         "w_bpSaved_clay": 0,
         "w_bpSaved_grass": 0,
         "w_bpSaved_hard": 0,
         "w_bpSaved_carpet": 0,
         "w_bpFaced_clay": 0,
         "w_bpFaced_grass": 0,
         "w_bpFaced_hard": 0,
         "w_bpFaced_carpet": 0,
         "_deepnote_index_column": 1578
        },
        {
         "Name": "Ashleigh Barty",
         "w_ace_clay": 130,
         "w_ace_grass": 71,
         "w_ace_hard": 341,
         "w_ace_carpet": 341,
         "w_df_clay": 136,
         "w_df_grass": 117,
         "w_df_hard": 464,
         "w_df_carpet": 464,
         "w_svpt_clay": 3280,
         "w_svpt_grass": 2418,
         "w_svpt_hard": 10878,
         "w_svpt_carpet": 10878,
         "w_1stIn_clay": 1936,
         "w_1stIn_grass": 1480,
         "w_1stIn_hard": 6446,
         "w_1stIn_carpet": 6446,
         "w_1stWon_clay": 1431,
         "w_1stWon_grass": 1130,
         "w_1stWon_hard": 4767,
         "w_1stWon_carpet": 4767,
         "w_2ndWon_clay": 726,
         "w_2ndWon_grass": 490,
         "w_2ndWon_hard": 2234,
         "w_2ndWon_carpet": 2234,
         "w_SvGms_clay": 522,
         "w_SvGms_grass": 400,
         "w_SvGms_hard": 1680,
         "w_SvGms_carpet": 1680,
         "w_bpSaved_clay": 163,
         "w_bpSaved_grass": 121,
         "w_bpSaved_hard": 555,
         "w_bpSaved_carpet": 555,
         "w_bpFaced_clay": 244,
         "w_bpFaced_grass": 175,
         "w_bpFaced_hard": 859,
         "w_bpFaced_carpet": 859,
         "_deepnote_index_column": 248
        },
        {
         "Name": "Elina Svitolina",
         "w_ace_clay": 101,
         "w_ace_grass": 41,
         "w_ace_hard": 506,
         "w_ace_carpet": 506,
         "w_df_clay": 134,
         "w_df_grass": 44,
         "w_df_hard": 467,
         "w_df_carpet": 467,
         "w_svpt_clay": 3770,
         "w_svpt_grass": 1154,
         "w_svpt_hard": 13225,
         "w_svpt_carpet": 13225,
         "w_1stIn_clay": 2340,
         "w_1stIn_grass": 717,
         "w_1stIn_hard": 7987,
         "w_1stIn_carpet": 7987,
         "w_1stWon_clay": 1589,
         "w_1stWon_grass": 491,
         "w_1stWon_hard": 5530,
         "w_1stWon_carpet": 5530,
         "w_2ndWon_clay": 681,
         "w_2ndWon_grass": 223,
         "w_2ndWon_hard": 2628,
         "w_2ndWon_carpet": 2628,
         "w_SvGms_clay": 517,
         "w_SvGms_grass": 128,
         "w_SvGms_hard": 1990,
         "w_SvGms_carpet": 1990,
         "w_bpSaved_clay": 227,
         "w_bpSaved_grass": 64,
         "w_bpSaved_hard": 701,
         "w_bpSaved_carpet": 701,
         "w_bpFaced_clay": 375,
         "w_bpFaced_grass": 99,
         "w_bpFaced_hard": 1163,
         "w_bpFaced_carpet": 1163,
         "_deepnote_index_column": 272
        },
        {
         "Name": "Aryna Sabalenka",
         "w_ace_clay": 79,
         "w_ace_grass": 48,
         "w_ace_hard": 371,
         "w_ace_carpet": 371,
         "w_df_clay": 143,
         "w_df_grass": 91,
         "w_df_hard": 667,
         "w_df_carpet": 667,
         "w_svpt_clay": 2465,
         "w_svpt_grass": 1520,
         "w_svpt_hard": 10407,
         "w_svpt_carpet": 10407,
         "w_1stIn_clay": 1516,
         "w_1stIn_grass": 923,
         "w_1stIn_hard": 6238,
         "w_1stIn_carpet": 6238,
         "w_1stWon_clay": 1067,
         "w_1stWon_grass": 617,
         "w_1stWon_hard": 4507,
         "w_1stWon_carpet": 4507,
         "w_2ndWon_clay": 473,
         "w_2ndWon_grass": 310,
         "w_2ndWon_hard": 2117,
         "w_2ndWon_carpet": 2117,
         "w_SvGms_clay": 373,
         "w_SvGms_grass": 217,
         "w_SvGms_hard": 1598,
         "w_SvGms_carpet": 1598,
         "w_bpSaved_clay": 159,
         "w_bpSaved_grass": 110,
         "w_bpSaved_hard": 572,
         "w_bpSaved_carpet": 572,
         "w_bpFaced_clay": 234,
         "w_bpFaced_grass": 166,
         "w_bpFaced_hard": 877,
         "w_bpFaced_carpet": 877,
         "_deepnote_index_column": 1523
        },
        {
         "Name": "Karolina Pliskova",
         "w_ace_clay": 102,
         "w_ace_grass": 61,
         "w_ace_hard": 356,
         "w_ace_carpet": 356,
         "w_df_clay": 187,
         "w_df_grass": 109,
         "w_df_hard": 541,
         "w_df_carpet": 541,
         "w_svpt_clay": 3804,
         "w_svpt_grass": 2769,
         "w_svpt_hard": 11825,
         "w_svpt_carpet": 11825,
         "w_1stIn_clay": 2378,
         "w_1stIn_grass": 1797,
         "w_1stIn_hard": 7216,
         "w_1stIn_carpet": 7216,
         "w_1stWon_clay": 1763,
         "w_1stWon_grass": 1378,
         "w_1stWon_hard": 5401,
         "w_1stWon_carpet": 5401,
         "w_2ndWon_clay": 690,
         "w_2ndWon_grass": 495,
         "w_2ndWon_hard": 2226,
         "w_2ndWon_carpet": 2226,
         "w_SvGms_clay": 546,
         "w_SvGms_grass": 432,
         "w_SvGms_hard": 1822,
         "w_SvGms_carpet": 1822,
         "w_bpSaved_clay": 191,
         "w_bpSaved_grass": 113,
         "w_bpSaved_hard": 651,
         "w_bpSaved_carpet": 651,
         "w_bpFaced_clay": 299,
         "w_bpFaced_grass": 163,
         "w_bpFaced_hard": 972,
         "w_bpFaced_carpet": 972,
         "_deepnote_index_column": 176
        },
        {
         "Name": "Simona Halep",
         "w_ace_clay": 145,
         "w_ace_grass": 46,
         "w_ace_hard": 250,
         "w_ace_carpet": 250,
         "w_df_clay": 208,
         "w_df_grass": 53,
         "w_df_hard": 306,
         "w_df_carpet": 306,
         "w_svpt_clay": 5456,
         "w_svpt_grass": 1710,
         "w_svpt_hard": 8825,
         "w_svpt_carpet": 8825,
         "w_1stIn_clay": 3745,
         "w_1stIn_grass": 1196,
         "w_1stIn_hard": 5880,
         "w_1stIn_carpet": 5880,
         "w_1stWon_clay": 2484,
         "w_1stWon_grass": 815,
         "w_1stWon_hard": 3923,
         "w_1stWon_carpet": 3923,
         "w_2ndWon_clay": 856,
         "w_2ndWon_grass": 274,
         "w_2ndWon_hard": 1517,
         "w_2ndWon_carpet": 1517,
         "w_SvGms_clay": 779,
         "w_SvGms_grass": 223,
         "w_SvGms_hard": 1392,
         "w_SvGms_carpet": 1392,
         "w_bpSaved_clay": 303,
         "w_bpSaved_grass": 89,
         "w_bpSaved_hard": 446,
         "w_bpSaved_carpet": 446,
         "w_bpFaced_clay": 514,
         "w_bpFaced_grass": 143,
         "w_bpFaced_hard": 770,
         "w_bpFaced_carpet": 770,
         "_deepnote_index_column": 142
        },
        {
         "Name": "Andreea Amalia Rosca",
         "w_ace_clay": 0,
         "w_ace_grass": 0,
         "w_ace_hard": 0,
         "w_ace_carpet": 0,
         "w_df_clay": 0,
         "w_df_grass": 0,
         "w_df_hard": 0,
         "w_df_carpet": 0,
         "w_svpt_clay": 0,
         "w_svpt_grass": 0,
         "w_svpt_hard": 0,
         "w_svpt_carpet": 0,
         "w_1stIn_clay": 0,
         "w_1stIn_grass": 0,
         "w_1stIn_hard": 0,
         "w_1stIn_carpet": 0,
         "w_1stWon_clay": 0,
         "w_1stWon_grass": 0,
         "w_1stWon_hard": 0,
         "w_1stWon_carpet": 0,
         "w_2ndWon_clay": 0,
         "w_2ndWon_grass": 0,
         "w_2ndWon_hard": 0,
         "w_2ndWon_carpet": 0,
         "w_SvGms_clay": 0,
         "w_SvGms_grass": 0,
         "w_SvGms_hard": 0,
         "w_SvGms_carpet": 0,
         "w_bpSaved_clay": 0,
         "w_bpSaved_grass": 0,
         "w_bpSaved_hard": 0,
         "w_bpSaved_carpet": 0,
         "w_bpFaced_clay": 0,
         "w_bpFaced_grass": 0,
         "w_bpFaced_hard": 0,
         "w_bpFaced_carpet": 0,
         "_deepnote_index_column": 1261
        },
        {
         "Name": "Sandra Samir",
         "w_ace_clay": 1,
         "w_ace_grass": 0,
         "w_ace_hard": 7,
         "w_ace_carpet": 7,
         "w_df_clay": 12,
         "w_df_grass": 0,
         "w_df_hard": 17,
         "w_df_carpet": 17,
         "w_svpt_clay": 132,
         "w_svpt_grass": 0,
         "w_svpt_hard": 471,
         "w_svpt_carpet": 471,
         "w_1stIn_clay": 80,
         "w_1stIn_grass": 0,
         "w_1stIn_hard": 291,
         "w_1stIn_carpet": 291,
         "w_1stWon_clay": 50,
         "w_1stWon_grass": 0,
         "w_1stWon_hard": 189,
         "w_1stWon_carpet": 189,
         "w_2ndWon_clay": 25,
         "w_2ndWon_grass": 0,
         "w_2ndWon_hard": 87,
         "w_2ndWon_carpet": 87,
         "w_SvGms_clay": 21,
         "w_SvGms_grass": 0,
         "w_SvGms_hard": 69,
         "w_SvGms_carpet": 69,
         "w_bpSaved_clay": 4,
         "w_bpSaved_grass": 0,
         "w_bpSaved_hard": 22,
         "w_bpSaved_carpet": 22,
         "w_bpFaced_clay": 11,
         "w_bpFaced_grass": 0,
         "w_bpFaced_hard": 43,
         "w_bpFaced_carpet": 43,
         "_deepnote_index_column": 1003
        },
        {
         "Name": "Clara Tauson",
         "w_ace_clay": 21,
         "w_ace_grass": 0,
         "w_ace_hard": 46,
         "w_ace_carpet": 46,
         "w_df_clay": 37,
         "w_df_grass": 0,
         "w_df_hard": 51,
         "w_df_carpet": 51,
         "w_svpt_clay": 1184,
         "w_svpt_grass": 0,
         "w_svpt_hard": 1118,
         "w_svpt_carpet": 1118,
         "w_1stIn_clay": 740,
         "w_1stIn_grass": 0,
         "w_1stIn_hard": 647,
         "w_1stIn_carpet": 647,
         "w_1stWon_clay": 505,
         "w_1stWon_grass": 0,
         "w_1stWon_hard": 464,
         "w_1stWon_carpet": 464,
         "w_2ndWon_clay": 244,
         "w_2ndWon_grass": 0,
         "w_2ndWon_hard": 243,
         "w_2ndWon_carpet": 243,
         "w_SvGms_clay": 177,
         "w_SvGms_grass": 0,
         "w_SvGms_hard": 172,
         "w_SvGms_carpet": 172,
         "w_bpSaved_clay": 81,
         "w_bpSaved_grass": 0,
         "w_bpSaved_hard": 57,
         "w_bpSaved_carpet": 57,
         "w_bpFaced_clay": 116,
         "w_bpFaced_grass": 0,
         "w_bpFaced_hard": 92,
         "w_bpFaced_carpet": 92,
         "_deepnote_index_column": 2787
        }
       ],
       "rows_bottom": [
        {
         "Name": "Kiki Bertens",
         "w_ace_clay": 244,
         "w_ace_grass": 59,
         "w_ace_hard": 272,
         "w_ace_carpet": 272,
         "w_df_clay": 312,
         "w_df_grass": 89,
         "w_df_hard": 439,
         "w_df_carpet": 439,
         "w_svpt_clay": 5779,
         "w_svpt_grass": 1303,
         "w_svpt_hard": 7257,
         "w_svpt_carpet": 7257,
         "w_1stIn_clay": 3445,
         "w_1stIn_grass": 752,
         "w_1stIn_hard": 4231,
         "w_1stIn_carpet": 4231,
         "w_1stWon_clay": 2491,
         "w_1stWon_grass": 546,
         "w_1stWon_hard": 3112,
         "w_1stWon_carpet": 3112,
         "w_2ndWon_clay": 1169,
         "w_2ndWon_grass": 277,
         "w_2ndWon_hard": 1457,
         "w_2ndWon_carpet": 1457,
         "w_SvGms_clay": 892,
         "w_SvGms_grass": 208,
         "w_SvGms_hard": 1145,
         "w_SvGms_carpet": 1145,
         "w_bpSaved_clay": 302,
         "w_bpSaved_grass": 61,
         "w_bpSaved_hard": 383,
         "w_bpSaved_carpet": 383,
         "w_bpFaced_clay": 478,
         "w_bpFaced_grass": 102,
         "w_bpFaced_hard": 635,
         "w_bpFaced_carpet": 635,
         "_deepnote_index_column": 224
        },
        {
         "Name": "Sofia Kenin",
         "w_ace_clay": 24,
         "w_ace_grass": 24,
         "w_ace_hard": 191,
         "w_ace_carpet": 191,
         "w_df_clay": 60,
         "w_df_grass": 43,
         "w_df_hard": 404,
         "w_df_carpet": 404,
         "w_svpt_clay": 1301,
         "w_svpt_grass": 1018,
         "w_svpt_hard": 7460,
         "w_svpt_carpet": 7460,
         "w_1stIn_clay": 852,
         "w_1stIn_grass": 701,
         "w_1stIn_hard": 4974,
         "w_1stIn_carpet": 4974,
         "w_1stWon_clay": 566,
         "w_1stWon_grass": 490,
         "w_1stWon_hard": 3415,
         "w_1stWon_carpet": 3415,
         "w_2ndWon_clay": 217,
         "w_2ndWon_grass": 168,
         "w_2ndWon_hard": 1199,
         "w_2ndWon_carpet": 1199,
         "w_SvGms_clay": 199,
         "w_SvGms_grass": 165,
         "w_SvGms_hard": 1096,
         "w_SvGms_carpet": 1096,
         "w_bpSaved_clay": 94,
         "w_bpSaved_grass": 46,
         "w_bpSaved_hard": 435,
         "w_bpSaved_carpet": 435,
         "w_bpFaced_clay": 143,
         "w_bpFaced_grass": 71,
         "w_bpFaced_hard": 684,
         "w_bpFaced_carpet": 684,
         "_deepnote_index_column": 1180
        },
        {
         "Name": "Jaqueline Adina Cristian",
         "w_ace_clay": 38,
         "w_ace_grass": 0,
         "w_ace_hard": 41,
         "w_ace_carpet": 41,
         "w_df_clay": 70,
         "w_df_grass": 0,
         "w_df_hard": 32,
         "w_df_carpet": 32,
         "w_svpt_clay": 1488,
         "w_svpt_grass": 0,
         "w_svpt_hard": 910,
         "w_svpt_carpet": 910,
         "w_1stIn_clay": 895,
         "w_1stIn_grass": 0,
         "w_1stIn_hard": 513,
         "w_1stIn_carpet": 513,
         "w_1stWon_clay": 601,
         "w_1stWon_grass": 0,
         "w_1stWon_hard": 352,
         "w_1stWon_carpet": 352,
         "w_2ndWon_clay": 297,
         "w_2ndWon_grass": 0,
         "w_2ndWon_hard": 245,
         "w_2ndWon_carpet": 245,
         "w_SvGms_clay": 224,
         "w_SvGms_grass": 0,
         "w_SvGms_hard": 143,
         "w_SvGms_carpet": 143,
         "w_bpSaved_clay": 86,
         "w_bpSaved_grass": 0,
         "w_bpSaved_hard": 30,
         "w_bpSaved_carpet": 30,
         "w_bpFaced_clay": 148,
         "w_bpFaced_grass": 0,
         "w_bpFaced_hard": 50,
         "w_bpFaced_carpet": 50,
         "_deepnote_index_column": 1045
        },
        {
         "Name": "Irina Khromacheva",
         "w_ace_clay": 25,
         "w_ace_grass": 5,
         "w_ace_hard": 63,
         "w_ace_carpet": 63,
         "w_df_clay": 64,
         "w_df_grass": 4,
         "w_df_hard": 109,
         "w_df_carpet": 109,
         "w_svpt_clay": 605,
         "w_svpt_grass": 114,
         "w_svpt_hard": 1303,
         "w_svpt_carpet": 1303,
         "w_1stIn_clay": 328,
         "w_1stIn_grass": 62,
         "w_1stIn_hard": 696,
         "w_1stIn_carpet": 696,
         "w_1stWon_clay": 221,
         "w_1stWon_grass": 40,
         "w_1stWon_hard": 500,
         "w_1stWon_carpet": 500,
         "w_2ndWon_clay": 132,
         "w_2ndWon_grass": 23,
         "w_2ndWon_hard": 299,
         "w_2ndWon_carpet": 299,
         "w_SvGms_clay": 95,
         "w_SvGms_grass": 16,
         "w_SvGms_hard": 193,
         "w_SvGms_carpet": 193,
         "w_bpSaved_clay": 37,
         "w_bpSaved_grass": 6,
         "w_bpSaved_hard": 70,
         "w_bpSaved_carpet": 70,
         "w_bpFaced_clay": 66,
         "w_bpFaced_grass": 13,
         "w_bpFaced_hard": 112,
         "w_bpFaced_carpet": 112,
         "_deepnote_index_column": 356
        },
        {
         "Name": "Iryna Shymanovich",
         "w_ace_clay": 0,
         "w_ace_grass": 0,
         "w_ace_hard": 0,
         "w_ace_carpet": 0,
         "w_df_clay": 0,
         "w_df_grass": 0,
         "w_df_hard": 0,
         "w_df_carpet": 0,
         "w_svpt_clay": 0,
         "w_svpt_grass": 0,
         "w_svpt_hard": 0,
         "w_svpt_carpet": 0,
         "w_1stIn_clay": 0,
         "w_1stIn_grass": 0,
         "w_1stIn_hard": 0,
         "w_1stIn_carpet": 0,
         "w_1stWon_clay": 0,
         "w_1stWon_grass": 0,
         "w_1stWon_hard": 0,
         "w_1stWon_carpet": 0,
         "w_2ndWon_clay": 0,
         "w_2ndWon_grass": 0,
         "w_2ndWon_hard": 0,
         "w_2ndWon_carpet": 0,
         "w_SvGms_clay": 0,
         "w_SvGms_grass": 0,
         "w_SvGms_hard": 0,
         "w_SvGms_carpet": 0,
         "w_bpSaved_clay": 0,
         "w_bpSaved_grass": 0,
         "w_bpSaved_hard": 0,
         "w_bpSaved_carpet": 0,
         "w_bpFaced_clay": 0,
         "w_bpFaced_grass": 0,
         "w_bpFaced_hard": 0,
         "w_bpFaced_carpet": 0,
         "_deepnote_index_column": 1191
        },
        {
         "Name": "Chanel Simmonds",
         "w_ace_clay": 0,
         "w_ace_grass": 0,
         "w_ace_hard": 1,
         "w_ace_carpet": 1,
         "w_df_clay": 0,
         "w_df_grass": 0,
         "w_df_hard": 0,
         "w_df_carpet": 0,
         "w_svpt_clay": 0,
         "w_svpt_grass": 0,
         "w_svpt_hard": 66,
         "w_svpt_carpet": 66,
         "w_1stIn_clay": 0,
         "w_1stIn_grass": 0,
         "w_1stIn_hard": 45,
         "w_1stIn_carpet": 45,
         "w_1stWon_clay": 0,
         "w_1stWon_grass": 0,
         "w_1stWon_hard": 27,
         "w_1stWon_carpet": 27,
         "w_2ndWon_clay": 0,
         "w_2ndWon_grass": 0,
         "w_2ndWon_hard": 10,
         "w_2ndWon_carpet": 10,
         "w_SvGms_clay": 0,
         "w_SvGms_grass": 0,
         "w_SvGms_hard": 10,
         "w_SvGms_carpet": 10,
         "w_bpSaved_clay": 0,
         "w_bpSaved_grass": 0,
         "w_bpSaved_hard": 6,
         "w_bpSaved_carpet": 6,
         "w_bpFaced_clay": 0,
         "w_bpFaced_grass": 0,
         "w_bpFaced_hard": 9,
         "w_bpFaced_carpet": 9,
         "_deepnote_index_column": 300
        },
        {
         "Name": "Mayar Sherif",
         "w_ace_clay": 25,
         "w_ace_grass": 0,
         "w_ace_hard": 23,
         "w_ace_carpet": 23,
         "w_df_clay": 20,
         "w_df_grass": 2,
         "w_df_hard": 14,
         "w_df_carpet": 14,
         "w_svpt_clay": 1050,
         "w_svpt_grass": 40,
         "w_svpt_hard": 565,
         "w_svpt_carpet": 565,
         "w_1stIn_clay": 769,
         "w_1stIn_grass": 29,
         "w_1stIn_hard": 390,
         "w_1stIn_carpet": 390,
         "w_1stWon_clay": 518,
         "w_1stWon_grass": 25,
         "w_1stWon_hard": 276,
         "w_1stWon_carpet": 276,
         "w_2ndWon_clay": 140,
         "w_2ndWon_grass": 7,
         "w_2ndWon_hard": 99,
         "w_2ndWon_carpet": 99,
         "w_SvGms_clay": 166,
         "w_SvGms_grass": 8,
         "w_SvGms_hard": 92,
         "w_SvGms_carpet": 92,
         "w_bpSaved_clay": 44,
         "w_bpSaved_grass": 0,
         "w_bpSaved_hard": 17,
         "w_bpSaved_carpet": 17,
         "w_bpFaced_clay": 82,
         "w_bpFaced_grass": 0,
         "w_bpFaced_hard": 31,
         "w_bpFaced_carpet": 31,
         "_deepnote_index_column": 878
        },
        {
         "Name": "Polona Hercog",
         "w_ace_clay": 136,
         "w_ace_grass": 25,
         "w_ace_hard": 81,
         "w_ace_carpet": 81,
         "w_df_clay": 172,
         "w_df_grass": 71,
         "w_df_hard": 107,
         "w_df_carpet": 107,
         "w_svpt_clay": 3492,
         "w_svpt_grass": 940,
         "w_svpt_hard": 1893,
         "w_svpt_carpet": 1893,
         "w_1stIn_clay": 2024,
         "w_1stIn_grass": 499,
         "w_1stIn_hard": 1049,
         "w_1stIn_carpet": 1049,
         "w_1stWon_clay": 1381,
         "w_1stWon_grass": 376,
         "w_1stWon_hard": 783,
         "w_1stWon_carpet": 783,
         "w_2ndWon_clay": 742,
         "w_2ndWon_grass": 223,
         "w_2ndWon_hard": 461,
         "w_2ndWon_carpet": 461,
         "w_SvGms_clay": 546,
         "w_SvGms_grass": 127,
         "w_SvGms_hard": 293,
         "w_SvGms_carpet": 293,
         "w_bpSaved_clay": 221,
         "w_bpSaved_grass": 42,
         "w_bpSaved_hard": 97,
         "w_bpSaved_carpet": 97,
         "w_bpFaced_clay": 368,
         "w_bpFaced_grass": 72,
         "w_bpFaced_hard": 137,
         "w_bpFaced_carpet": 137,
         "_deepnote_index_column": 120
        },
        {
         "Name": "Mihaela Buzarnescu",
         "w_ace_clay": 55,
         "w_ace_grass": 29,
         "w_ace_hard": 69,
         "w_ace_carpet": 69,
         "w_df_clay": 99,
         "w_df_grass": 24,
         "w_df_hard": 131,
         "w_df_carpet": 131,
         "w_svpt_clay": 2185,
         "w_svpt_grass": 1028,
         "w_svpt_hard": 2334,
         "w_svpt_carpet": 2334,
         "w_1stIn_clay": 1423,
         "w_1stIn_grass": 692,
         "w_1stIn_hard": 1455,
         "w_1stIn_carpet": 1455,
         "w_1stWon_clay": 947,
         "w_1stWon_grass": 460,
         "w_1stWon_hard": 967,
         "w_1stWon_carpet": 967,
         "w_2ndWon_clay": 367,
         "w_2ndWon_grass": 194,
         "w_2ndWon_hard": 444,
         "w_2ndWon_carpet": 444,
         "w_SvGms_clay": 345,
         "w_SvGms_grass": 162,
         "w_SvGms_hard": 351,
         "w_SvGms_carpet": 351,
         "w_bpSaved_clay": 138,
         "w_bpSaved_grass": 47,
         "w_bpSaved_hard": 132,
         "w_bpSaved_carpet": 132,
         "w_bpFaced_clay": 228,
         "w_bpFaced_grass": 77,
         "w_bpFaced_hard": 221,
         "w_bpFaced_carpet": 221,
         "_deepnote_index_column": 304
        },
        {
         "Name": "Viktoriya Tomova",
         "w_ace_clay": 17,
         "w_ace_grass": 8,
         "w_ace_hard": 50,
         "w_ace_carpet": 50,
         "w_df_clay": 63,
         "w_df_grass": 16,
         "w_df_hard": 103,
         "w_df_carpet": 103,
         "w_svpt_clay": 1707,
         "w_svpt_grass": 379,
         "w_svpt_hard": 2534,
         "w_svpt_carpet": 2534,
         "w_1stIn_clay": 1213,
         "w_1stIn_grass": 236,
         "w_1stIn_hard": 1748,
         "w_1stIn_carpet": 1748,
         "w_1stWon_clay": 712,
         "w_1stWon_grass": 153,
         "w_1stWon_hard": 1087,
         "w_1stWon_carpet": 1087,
         "w_2ndWon_clay": 235,
         "w_2ndWon_grass": 68,
         "w_2ndWon_hard": 376,
         "w_2ndWon_carpet": 376,
         "w_SvGms_clay": 246,
         "w_SvGms_grass": 53,
         "w_SvGms_hard": 385,
         "w_SvGms_carpet": 385,
         "w_bpSaved_clay": 115,
         "w_bpSaved_grass": 28,
         "w_bpSaved_hard": 155,
         "w_bpSaved_carpet": 155,
         "w_bpFaced_clay": 202,
         "w_bpFaced_grass": 41,
         "w_bpFaced_hard": 277,
         "w_bpFaced_carpet": 277,
         "_deepnote_index_column": 306
        },
        {
         "Name": "Eleonora Molinaro",
         "w_ace_clay": 2,
         "w_ace_grass": 0,
         "w_ace_hard": 25,
         "w_ace_carpet": 25,
         "w_df_clay": 7,
         "w_df_grass": 0,
         "w_df_hard": 17,
         "w_df_carpet": 17,
         "w_svpt_clay": 224,
         "w_svpt_grass": 0,
         "w_svpt_hard": 493,
         "w_svpt_carpet": 493,
         "w_1stIn_clay": 173,
         "w_1stIn_grass": 0,
         "w_1stIn_hard": 314,
         "w_1stIn_carpet": 314,
         "w_1stWon_clay": 88,
         "w_1stWon_grass": 0,
         "w_1stWon_hard": 224,
         "w_1stWon_carpet": 224,
         "w_2ndWon_clay": 24,
         "w_2ndWon_grass": 0,
         "w_2ndWon_hard": 104,
         "w_2ndWon_carpet": 104,
         "w_SvGms_clay": 37,
         "w_SvGms_grass": 0,
         "w_SvGms_hard": 83,
         "w_SvGms_carpet": 83,
         "w_bpSaved_clay": 12,
         "w_bpSaved_grass": 0,
         "w_bpSaved_hard": 27,
         "w_bpSaved_carpet": 27,
         "w_bpFaced_clay": 29,
         "w_bpFaced_grass": 0,
         "w_bpFaced_hard": 41,
         "w_bpFaced_carpet": 41,
         "_deepnote_index_column": 1720
        },
        {
         "Name": "Kathinka Von Deichmann",
         "w_ace_clay": 1,
         "w_ace_grass": 0,
         "w_ace_hard": 5,
         "w_ace_carpet": 5,
         "w_df_clay": 29,
         "w_df_grass": 0,
         "w_df_hard": 11,
         "w_df_carpet": 11,
         "w_svpt_clay": 783,
         "w_svpt_grass": 0,
         "w_svpt_hard": 253,
         "w_svpt_carpet": 253,
         "w_1stIn_clay": 592,
         "w_1stIn_grass": 0,
         "w_1stIn_hard": 175,
         "w_1stIn_carpet": 175,
         "w_1stWon_clay": 343,
         "w_1stWon_grass": 0,
         "w_1stWon_hard": 107,
         "w_1stWon_carpet": 107,
         "w_2ndWon_clay": 91,
         "w_2ndWon_grass": 0,
         "w_2ndWon_hard": 43,
         "w_2ndWon_carpet": 43,
         "w_SvGms_clay": 113,
         "w_SvGms_grass": 0,
         "w_SvGms_hard": 11,
         "w_SvGms_carpet": 11,
         "w_bpSaved_clay": 54,
         "w_bpSaved_grass": 0,
         "w_bpSaved_hard": 29,
         "w_bpSaved_carpet": 29,
         "w_bpFaced_clay": 95,
         "w_bpFaced_grass": 0,
         "w_bpFaced_hard": 39,
         "w_bpFaced_carpet": 39,
         "_deepnote_index_column": 807
        },
        {
         "Name": "Rebecca Sramkova",
         "w_ace_clay": 53,
         "w_ace_grass": 2,
         "w_ace_hard": 11,
         "w_ace_carpet": 11,
         "w_df_clay": 39,
         "w_df_grass": 3,
         "w_df_hard": 31,
         "w_df_carpet": 31,
         "w_svpt_clay": 1420,
         "w_svpt_grass": 69,
         "w_svpt_hard": 712,
         "w_svpt_carpet": 712,
         "w_1stIn_clay": 885,
         "w_1stIn_grass": 47,
         "w_1stIn_hard": 411,
         "w_1stIn_carpet": 411,
         "w_1stWon_clay": 591,
         "w_1stWon_grass": 28,
         "w_1stWon_hard": 271,
         "w_1stWon_carpet": 271,
         "w_2ndWon_clay": 265,
         "w_2ndWon_grass": 11,
         "w_2ndWon_hard": 147,
         "w_2ndWon_carpet": 147,
         "w_SvGms_clay": 213,
         "w_SvGms_grass": 12,
         "w_SvGms_hard": 85,
         "w_SvGms_carpet": 85,
         "w_bpSaved_clay": 78,
         "w_bpSaved_grass": 7,
         "w_bpSaved_hard": 52,
         "w_bpSaved_carpet": 52,
         "w_bpFaced_clay": 131,
         "w_bpFaced_grass": 12,
         "w_bpFaced_hard": 79,
         "w_bpFaced_carpet": 79,
         "_deepnote_index_column": 1036
        },
        {
         "Name": "Madison Brengle",
         "w_ace_clay": 7,
         "w_ace_grass": 9,
         "w_ace_hard": 21,
         "w_ace_carpet": 21,
         "w_df_clay": 21,
         "w_df_grass": 33,
         "w_df_hard": 159,
         "w_df_carpet": 159,
         "w_svpt_clay": 807,
         "w_svpt_grass": 1131,
         "w_svpt_hard": 4008,
         "w_svpt_carpet": 4008,
         "w_1stIn_clay": 616,
         "w_1stIn_grass": 830,
         "w_1stIn_hard": 2881,
         "w_1stIn_carpet": 2881,
         "w_1stWon_clay": 389,
         "w_1stWon_grass": 510,
         "w_1stWon_hard": 1797,
         "w_1stWon_carpet": 1797,
         "w_2ndWon_clay": 96,
         "w_2ndWon_grass": 155,
         "w_2ndWon_hard": 555,
         "w_2ndWon_carpet": 555,
         "w_SvGms_clay": 104,
         "w_SvGms_grass": 154,
         "w_SvGms_hard": 592,
         "w_SvGms_carpet": 592,
         "w_bpSaved_clay": 44,
         "w_bpSaved_grass": 63,
         "w_bpSaved_hard": 207,
         "w_bpSaved_carpet": 207,
         "w_bpFaced_clay": 77,
         "w_bpFaced_grass": 122,
         "w_bpFaced_hard": 386,
         "w_bpFaced_carpet": 386,
         "_deepnote_index_column": 71
        }
       ]
      },
      "text/plain": "                           Name  w_ace_clay  w_ace_grass  w_ace_hard  \\\n722              Fernanda Brito         2.0          0.0         0.0   \n118                 Arantxa Rus        57.0         23.0        90.0   \n434         Nuria Parrizas Diaz         2.0          6.0         1.0   \n1494            Tamara Zidansek        69.0          1.0        43.0   \n1578  Ylona Georgiana Ghioroaie         0.0          0.0         0.0   \n248              Ashleigh Barty       130.0         71.0       341.0   \n272             Elina Svitolina       101.0         41.0       506.0   \n1523            Aryna Sabalenka        79.0         48.0       371.0   \n176           Karolina Pliskova       102.0         61.0       356.0   \n142                Simona Halep       145.0         46.0       250.0   \n1261       Andreea Amalia Rosca         0.0          0.0         0.0   \n1003               Sandra Samir         1.0          0.0         7.0   \n2787               Clara Tauson        21.0          0.0        46.0   \n351          Isabella Shinikova        24.0          8.0        60.0   \n97                Petra Kvitova       131.0         59.0       404.0   \n307         Despina Papamichail         2.0          0.0         5.0   \n1545    Georgia Andreea Craciun         3.0          0.0         0.0   \n1397               Seone Mendez         5.0          0.0         0.0   \n1081          Anhelina Kalinina        10.0          8.0        37.0   \n689         Beatriz Haddad Maia        42.0         20.0        56.0   \n1283             Ylena In Albon         0.0          0.0         0.0   \n1360        Katharina Hobgarski         3.0          0.0         1.0   \n271          Ekaterine Gorgodze        19.0          3.0        13.0   \n375       Georgina Garcia Perez        27.0          0.0        13.0   \n2383                Iga Swiatek        47.0         26.0       123.0   \n119          Vitalia Diatchenko         0.0         18.0        66.0   \n466                Victoria Kan         2.0          0.0         0.0   \n630             Quirine Lemoine         3.0          0.0         2.0   \n63                  Kaia Kanepi        69.0          4.0       127.0   \n2182             Yuliya Hatouka         5.0          0.0         0.0   \n1887           Bianca Andreescu        16.0          1.0       187.0   \n1383           Viktoria Kuzmova        50.0          8.0       125.0   \n1964         Maryna Chernyshova         0.0          0.0         0.0   \n651                Hua Chen Lee         0.0          0.0         0.0   \n340               Cristina Dinu         8.0          0.0         0.0   \n184            Sabina Sharipova         0.0          1.0        46.0   \n224                Kiki Bertens       244.0         59.0       272.0   \n1180                Sofia Kenin        24.0         24.0       191.0   \n1045   Jaqueline Adina Cristian        38.0          0.0        41.0   \n356           Irina Khromacheva        25.0          5.0        63.0   \n1191          Iryna Shymanovich         0.0          0.0         0.0   \n300             Chanel Simmonds         0.0          0.0         1.0   \n878                Mayar Sherif        25.0          0.0        23.0   \n120               Polona Hercog       136.0         25.0        81.0   \n304          Mihaela Buzarnescu        55.0         29.0        69.0   \n306            Viktoriya Tomova        17.0          8.0        50.0   \n1720          Eleonora Molinaro         2.0          0.0        25.0   \n807      Kathinka Von Deichmann         1.0          0.0         5.0   \n1036           Rebecca Sramkova        53.0          2.0        11.0   \n71              Madison Brengle         7.0          9.0        21.0   \n\n      w_ace_carpet  w_df_clay  w_df_grass  w_df_hard  w_df_carpet  \\\n722            0.0        8.0         0.0        0.0          0.0   \n118           90.0       98.0        19.0      114.0        114.0   \n434            1.0       23.0         8.0        3.0          3.0   \n1494          43.0      152.0         6.0       69.0         69.0   \n1578           0.0        0.0         0.0        0.0          0.0   \n248          341.0      136.0       117.0      464.0        464.0   \n272          506.0      134.0        44.0      467.0        467.0   \n1523         371.0      143.0        91.0      667.0        667.0   \n176          356.0      187.0       109.0      541.0        541.0   \n142          250.0      208.0        53.0      306.0        306.0   \n1261           0.0        0.0         0.0        0.0          0.0   \n1003           7.0       12.0         0.0       17.0         17.0   \n2787          46.0       37.0         0.0       51.0         51.0   \n351           60.0       49.0        16.0      136.0        136.0   \n97           404.0      194.0        90.0      632.0        632.0   \n307            5.0        7.0         0.0        4.0          4.0   \n1545           0.0        8.0         0.0        0.0          0.0   \n1397           0.0        8.0         0.0        0.0          0.0   \n1081          37.0       44.0         9.0       96.0         96.0   \n689           56.0       67.0        47.0      115.0        115.0   \n1283           0.0        0.0         0.0        0.0          0.0   \n1360           1.0        7.0         0.0       12.0         12.0   \n271           13.0       36.0         6.0       12.0         12.0   \n375           13.0       45.0         4.0       52.0         52.0   \n2383         123.0       87.0        22.0      122.0        122.0   \n119           66.0        9.0        40.0      200.0        200.0   \n466            0.0        1.0         0.0        0.0          0.0   \n630            2.0       13.0         0.0       12.0         12.0   \n63           127.0       82.0        12.0      187.0        187.0   \n2182           0.0        5.0         0.0        0.0          0.0   \n1887         187.0       13.0         4.0      258.0        258.0   \n1383         125.0       62.0        11.0      303.0        303.0   \n1964           0.0        0.0         0.0        0.0          0.0   \n651            0.0        0.0         0.0        0.0          0.0   \n340            0.0       17.0         0.0        0.0          0.0   \n184           46.0       10.0         3.0      194.0        194.0   \n224          272.0      312.0        89.0      439.0        439.0   \n1180         191.0       60.0        43.0      404.0        404.0   \n1045          41.0       70.0         0.0       32.0         32.0   \n356           63.0       64.0         4.0      109.0        109.0   \n1191           0.0        0.0         0.0        0.0          0.0   \n300            1.0        0.0         0.0        0.0          0.0   \n878           23.0       20.0         2.0       14.0         14.0   \n120           81.0      172.0        71.0      107.0        107.0   \n304           69.0       99.0        24.0      131.0        131.0   \n306           50.0       63.0        16.0      103.0        103.0   \n1720          25.0        7.0         0.0       17.0         17.0   \n807            5.0       29.0         0.0       11.0         11.0   \n1036          11.0       39.0         3.0       31.0         31.0   \n71            21.0       21.0        33.0      159.0        159.0   \n\n      w_svpt_clay  ...  w_SvGms_hard  w_SvGms_carpet  w_bpSaved_clay  \\\n722         166.0  ...           0.0             0.0             5.0   \n118        2254.0  ...         408.0           408.0           128.0   \n434        1135.0  ...          21.0            21.0            67.0   \n1494       4226.0  ...         306.0           306.0           284.0   \n1578          0.0  ...           0.0             0.0             0.0   \n248        3280.0  ...        1680.0          1680.0           163.0   \n272        3770.0  ...        1990.0          1990.0           227.0   \n1523       2465.0  ...        1598.0          1598.0           159.0   \n176        3804.0  ...        1822.0          1822.0           191.0   \n142        5456.0  ...        1392.0          1392.0           303.0   \n1261          0.0  ...           0.0             0.0             0.0   \n1003        132.0  ...          69.0            69.0             4.0   \n2787       1184.0  ...         172.0           172.0            81.0   \n351         907.0  ...         241.0           241.0            54.0   \n97         3405.0  ...        1447.0          1447.0           171.0   \n307         174.0  ...          27.0            27.0            13.0   \n1545         63.0  ...           0.0             0.0             3.0   \n1397        310.0  ...           0.0             0.0            22.0   \n1081       1017.0  ...         202.0           202.0            63.0   \n689        1588.0  ...         341.0           341.0            95.0   \n1283          0.0  ...           0.0             0.0             0.0   \n1360        347.0  ...          10.0            10.0            18.0   \n271        1239.0  ...          81.0            81.0            80.0   \n375        1237.0  ...         132.0           132.0            84.0   \n2383       2012.0  ...         471.0           471.0           122.0   \n119          84.0  ...         360.0           360.0             7.0   \n466          55.0  ...           0.0             0.0             1.0   \n630         254.0  ...           9.0             9.0            21.0   \n63         1629.0  ...         481.0           481.0           108.0   \n2182         71.0  ...           0.0             0.0             5.0   \n1887        360.0  ...         796.0           796.0            20.0   \n1383       1169.0  ...         666.0           666.0            60.0   \n1964          0.0  ...           0.0             0.0             0.0   \n651           0.0  ...           0.0             0.0             0.0   \n340         307.0  ...           0.0             0.0            28.0   \n184          90.0  ...         353.0           353.0             5.0   \n224        5779.0  ...        1145.0          1145.0           302.0   \n1180       1301.0  ...        1096.0          1096.0            94.0   \n1045       1488.0  ...         143.0           143.0            86.0   \n356         605.0  ...         193.0           193.0            37.0   \n1191          0.0  ...           0.0             0.0             0.0   \n300           0.0  ...          10.0            10.0             0.0   \n878        1050.0  ...          92.0            92.0            44.0   \n120        3492.0  ...         293.0           293.0           221.0   \n304        2185.0  ...         351.0           351.0           138.0   \n306        1707.0  ...         385.0           385.0           115.0   \n1720        224.0  ...          83.0            83.0            12.0   \n807         783.0  ...          11.0            11.0            54.0   \n1036       1420.0  ...          85.0            85.0            78.0   \n71          807.0  ...         592.0           592.0            44.0   \n\n      w_bpSaved_grass  w_bpSaved_hard  w_bpSaved_carpet  w_bpFaced_clay  \\\n722               0.0             0.0               0.0            13.0   \n118              25.0           166.0             166.0           216.0   \n434               3.0             5.0               5.0           115.0   \n1494             10.0           142.0             142.0           481.0   \n1578              0.0             0.0               0.0             0.0   \n248             121.0           555.0             555.0           244.0   \n272              64.0           701.0             701.0           375.0   \n1523            110.0           572.0             572.0           234.0   \n176             113.0           651.0             651.0           299.0   \n142              89.0           446.0             446.0           514.0   \n1261              0.0             0.0               0.0             0.0   \n1003              0.0            22.0              22.0            11.0   \n2787              0.0            57.0              57.0           116.0   \n351              15.0           112.0             112.0           101.0   \n97               61.0           464.0             464.0           252.0   \n307               0.0            13.0              13.0            21.0   \n1545              0.0             0.0               0.0             5.0   \n1397              0.0             0.0               0.0            32.0   \n1081              7.0           104.0             104.0           105.0   \n689              37.0           110.0             110.0           150.0   \n1283              0.0             0.0               0.0             0.0   \n1360              0.0             3.0               3.0            35.0   \n271               5.0            47.0              47.0           140.0   \n375              14.0            69.0              69.0           130.0   \n2383             20.0           139.0             139.0           182.0   \n119              52.0           114.0             114.0            11.0   \n466               0.0             0.0               0.0             4.0   \n630               0.0            13.0              13.0            27.0   \n63                8.0           181.0             181.0           167.0   \n2182              0.0             0.0               0.0             6.0   \n1887              4.0           313.0             313.0            35.0   \n1383             12.0           240.0             240.0            94.0   \n1964              0.0             0.0               0.0             0.0   \n651               0.0             0.0               0.0             0.0   \n340               0.0             0.0               0.0            40.0   \n184               3.0           138.0             138.0            12.0   \n224              61.0           383.0             383.0           478.0   \n1180             46.0           435.0             435.0           143.0   \n1045              0.0            30.0              30.0           148.0   \n356               6.0            70.0              70.0            66.0   \n1191              0.0             0.0               0.0             0.0   \n300               0.0             6.0               6.0             0.0   \n878               0.0            17.0              17.0            82.0   \n120              42.0            97.0              97.0           368.0   \n304              47.0           132.0             132.0           228.0   \n306              28.0           155.0             155.0           202.0   \n1720              0.0            27.0              27.0            29.0   \n807               0.0            29.0              29.0            95.0   \n1036              7.0            52.0              52.0           131.0   \n71               63.0           207.0             207.0            77.0   \n\n      w_bpFaced_grass  w_bpFaced_hard  w_bpFaced_carpet  \n722               0.0             0.0               0.0  \n118              35.0           261.0             261.0  \n434               6.0            12.0              12.0  \n1494             27.0           228.0             228.0  \n1578              0.0             0.0               0.0  \n248             175.0           859.0             859.0  \n272              99.0          1163.0            1163.0  \n1523            166.0           877.0             877.0  \n176             163.0           972.0             972.0  \n142             143.0           770.0             770.0  \n1261              0.0             0.0               0.0  \n1003              0.0            43.0              43.0  \n2787              0.0            92.0              92.0  \n351              21.0           192.0             192.0  \n97               90.0           737.0             737.0  \n307               0.0            21.0              21.0  \n1545              0.0             0.0               0.0  \n1397              0.0             0.0               0.0  \n1081             14.0           167.0             167.0  \n689              57.0           181.0             181.0  \n1283              0.0             0.0               0.0  \n1360              0.0            10.0              10.0  \n271               8.0            77.0              77.0  \n375              22.0            98.0              98.0  \n2383             31.0           233.0             233.0  \n119              78.0           219.0             219.0  \n466               0.0             0.0               0.0  \n630               0.0            28.0              28.0  \n63               16.0           298.0             298.0  \n2182              0.0             0.0               0.0  \n1887              8.0           492.0             492.0  \n1383             15.0           379.0             379.0  \n1964              0.0             0.0               0.0  \n651               0.0             0.0               0.0  \n340               0.0             0.0               0.0  \n184               8.0           242.0             242.0  \n224             102.0           635.0             635.0  \n1180             71.0           684.0             684.0  \n1045              0.0            50.0              50.0  \n356              13.0           112.0             112.0  \n1191              0.0             0.0               0.0  \n300               0.0             9.0               9.0  \n878               0.0            31.0              31.0  \n120              72.0           137.0             137.0  \n304              77.0           221.0             221.0  \n306              41.0           277.0             277.0  \n1720              0.0            41.0              41.0  \n807               0.0            39.0              39.0  \n1036             12.0            79.0              79.0  \n71              122.0           386.0             386.0  \n\n[50 rows x 37 columns]",
      "text/html": "<div>\n<style scoped>\n    .dataframe tbody tr th:only-of-type {\n        vertical-align: middle;\n    }\n\n    .dataframe tbody tr th {\n        vertical-align: top;\n    }\n\n    .dataframe thead th {\n        text-align: right;\n    }\n</style>\n<table border=\"1\" class=\"dataframe\">\n  <thead>\n    <tr style=\"text-align: right;\">\n      <th></th>\n      <th>Name</th>\n      <th>w_ace_clay</th>\n      <th>w_ace_grass</th>\n      <th>w_ace_hard</th>\n      <th>w_ace_carpet</th>\n      <th>w_df_clay</th>\n      <th>w_df_grass</th>\n      <th>w_df_hard</th>\n      <th>w_df_carpet</th>\n      <th>w_svpt_clay</th>\n      <th>...</th>\n      <th>w_SvGms_hard</th>\n      <th>w_SvGms_carpet</th>\n      <th>w_bpSaved_clay</th>\n      <th>w_bpSaved_grass</th>\n      <th>w_bpSaved_hard</th>\n      <th>w_bpSaved_carpet</th>\n      <th>w_bpFaced_clay</th>\n      <th>w_bpFaced_grass</th>\n      <th>w_bpFaced_hard</th>\n      <th>w_bpFaced_carpet</th>\n    </tr>\n  </thead>\n  <tbody>\n    <tr>\n      <th>722</th>\n      <td>Fernanda Brito</td>\n      <td>2.0</td>\n      <td>0.0</td>\n      <td>0.0</td>\n      <td>0.0</td>\n      <td>8.0</td>\n      <td>0.0</td>\n      <td>0.0</td>\n      <td>0.0</td>\n      <td>166.0</td>\n      <td>...</td>\n      <td>0.0</td>\n      <td>0.0</td>\n      <td>5.0</td>\n      <td>0.0</td>\n      <td>0.0</td>\n      <td>0.0</td>\n      <td>13.0</td>\n      <td>0.0</td>\n      <td>0.0</td>\n      <td>0.0</td>\n    </tr>\n    <tr>\n      <th>118</th>\n      <td>Arantxa Rus</td>\n      <td>57.0</td>\n      <td>23.0</td>\n      <td>90.0</td>\n      <td>90.0</td>\n      <td>98.0</td>\n      <td>19.0</td>\n      <td>114.0</td>\n      <td>114.0</td>\n      <td>2254.0</td>\n      <td>...</td>\n      <td>408.0</td>\n      <td>408.0</td>\n      <td>128.0</td>\n      <td>25.0</td>\n      <td>166.0</td>\n      <td>166.0</td>\n      <td>216.0</td>\n      <td>35.0</td>\n      <td>261.0</td>\n      <td>261.0</td>\n    </tr>\n    <tr>\n      <th>434</th>\n      <td>Nuria Parrizas Diaz</td>\n      <td>2.0</td>\n      <td>6.0</td>\n      <td>1.0</td>\n      <td>1.0</td>\n      <td>23.0</td>\n      <td>8.0</td>\n      <td>3.0</td>\n      <td>3.0</td>\n      <td>1135.0</td>\n      <td>...</td>\n      <td>21.0</td>\n      <td>21.0</td>\n      <td>67.0</td>\n      <td>3.0</td>\n      <td>5.0</td>\n      <td>5.0</td>\n      <td>115.0</td>\n      <td>6.0</td>\n      <td>12.0</td>\n      <td>12.0</td>\n    </tr>\n    <tr>\n      <th>1494</th>\n      <td>Tamara Zidansek</td>\n      <td>69.0</td>\n      <td>1.0</td>\n      <td>43.0</td>\n      <td>43.0</td>\n      <td>152.0</td>\n      <td>6.0</td>\n      <td>69.0</td>\n      <td>69.0</td>\n      <td>4226.0</td>\n      <td>...</td>\n      <td>306.0</td>\n      <td>306.0</td>\n      <td>284.0</td>\n      <td>10.0</td>\n      <td>142.0</td>\n      <td>142.0</td>\n      <td>481.0</td>\n      <td>27.0</td>\n      <td>228.0</td>\n      <td>228.0</td>\n    </tr>\n    <tr>\n      <th>1578</th>\n      <td>Ylona Georgiana Ghioroaie</td>\n      <td>0.0</td>\n      <td>0.0</td>\n      <td>0.0</td>\n      <td>0.0</td>\n      <td>0.0</td>\n      <td>0.0</td>\n      <td>0.0</td>\n      <td>0.0</td>\n      <td>0.0</td>\n      <td>...</td>\n      <td>0.0</td>\n      <td>0.0</td>\n      <td>0.0</td>\n      <td>0.0</td>\n      <td>0.0</td>\n      <td>0.0</td>\n      <td>0.0</td>\n      <td>0.0</td>\n      <td>0.0</td>\n      <td>0.0</td>\n    </tr>\n    <tr>\n      <th>248</th>\n      <td>Ashleigh Barty</td>\n      <td>130.0</td>\n      <td>71.0</td>\n      <td>341.0</td>\n      <td>341.0</td>\n      <td>136.0</td>\n      <td>117.0</td>\n      <td>464.0</td>\n      <td>464.0</td>\n      <td>3280.0</td>\n      <td>...</td>\n      <td>1680.0</td>\n      <td>1680.0</td>\n      <td>163.0</td>\n      <td>121.0</td>\n      <td>555.0</td>\n      <td>555.0</td>\n      <td>244.0</td>\n      <td>175.0</td>\n      <td>859.0</td>\n      <td>859.0</td>\n    </tr>\n    <tr>\n      <th>272</th>\n      <td>Elina Svitolina</td>\n      <td>101.0</td>\n      <td>41.0</td>\n      <td>506.0</td>\n      <td>506.0</td>\n      <td>134.0</td>\n      <td>44.0</td>\n      <td>467.0</td>\n      <td>467.0</td>\n      <td>3770.0</td>\n      <td>...</td>\n      <td>1990.0</td>\n      <td>1990.0</td>\n      <td>227.0</td>\n      <td>64.0</td>\n      <td>701.0</td>\n      <td>701.0</td>\n      <td>375.0</td>\n      <td>99.0</td>\n      <td>1163.0</td>\n      <td>1163.0</td>\n    </tr>\n    <tr>\n      <th>1523</th>\n      <td>Aryna Sabalenka</td>\n      <td>79.0</td>\n      <td>48.0</td>\n      <td>371.0</td>\n      <td>371.0</td>\n      <td>143.0</td>\n      <td>91.0</td>\n      <td>667.0</td>\n      <td>667.0</td>\n      <td>2465.0</td>\n      <td>...</td>\n      <td>1598.0</td>\n      <td>1598.0</td>\n      <td>159.0</td>\n      <td>110.0</td>\n      <td>572.0</td>\n      <td>572.0</td>\n      <td>234.0</td>\n      <td>166.0</td>\n      <td>877.0</td>\n      <td>877.0</td>\n    </tr>\n    <tr>\n      <th>176</th>\n      <td>Karolina Pliskova</td>\n      <td>102.0</td>\n      <td>61.0</td>\n      <td>356.0</td>\n      <td>356.0</td>\n      <td>187.0</td>\n      <td>109.0</td>\n      <td>541.0</td>\n      <td>541.0</td>\n      <td>3804.0</td>\n      <td>...</td>\n      <td>1822.0</td>\n      <td>1822.0</td>\n      <td>191.0</td>\n      <td>113.0</td>\n      <td>651.0</td>\n      <td>651.0</td>\n      <td>299.0</td>\n      <td>163.0</td>\n      <td>972.0</td>\n      <td>972.0</td>\n    </tr>\n    <tr>\n      <th>142</th>\n      <td>Simona Halep</td>\n      <td>145.0</td>\n      <td>46.0</td>\n      <td>250.0</td>\n      <td>250.0</td>\n      <td>208.0</td>\n      <td>53.0</td>\n      <td>306.0</td>\n      <td>306.0</td>\n      <td>5456.0</td>\n      <td>...</td>\n      <td>1392.0</td>\n      <td>1392.0</td>\n      <td>303.0</td>\n      <td>89.0</td>\n      <td>446.0</td>\n      <td>446.0</td>\n      <td>514.0</td>\n      <td>143.0</td>\n      <td>770.0</td>\n      <td>770.0</td>\n    </tr>\n    <tr>\n      <th>1261</th>\n      <td>Andreea Amalia Rosca</td>\n      <td>0.0</td>\n      <td>0.0</td>\n      <td>0.0</td>\n      <td>0.0</td>\n      <td>0.0</td>\n      <td>0.0</td>\n      <td>0.0</td>\n      <td>0.0</td>\n      <td>0.0</td>\n      <td>...</td>\n      <td>0.0</td>\n      <td>0.0</td>\n      <td>0.0</td>\n      <td>0.0</td>\n      <td>0.0</td>\n      <td>0.0</td>\n      <td>0.0</td>\n      <td>0.0</td>\n      <td>0.0</td>\n      <td>0.0</td>\n    </tr>\n    <tr>\n      <th>1003</th>\n      <td>Sandra Samir</td>\n      <td>1.0</td>\n      <td>0.0</td>\n      <td>7.0</td>\n      <td>7.0</td>\n      <td>12.0</td>\n      <td>0.0</td>\n      <td>17.0</td>\n      <td>17.0</td>\n      <td>132.0</td>\n      <td>...</td>\n      <td>69.0</td>\n      <td>69.0</td>\n      <td>4.0</td>\n      <td>0.0</td>\n      <td>22.0</td>\n      <td>22.0</td>\n      <td>11.0</td>\n      <td>0.0</td>\n      <td>43.0</td>\n      <td>43.0</td>\n    </tr>\n    <tr>\n      <th>2787</th>\n      <td>Clara Tauson</td>\n      <td>21.0</td>\n      <td>0.0</td>\n      <td>46.0</td>\n      <td>46.0</td>\n      <td>37.0</td>\n      <td>0.0</td>\n      <td>51.0</td>\n      <td>51.0</td>\n      <td>1184.0</td>\n      <td>...</td>\n      <td>172.0</td>\n      <td>172.0</td>\n      <td>81.0</td>\n      <td>0.0</td>\n      <td>57.0</td>\n      <td>57.0</td>\n      <td>116.0</td>\n      <td>0.0</td>\n      <td>92.0</td>\n      <td>92.0</td>\n    </tr>\n    <tr>\n      <th>351</th>\n      <td>Isabella Shinikova</td>\n      <td>24.0</td>\n      <td>8.0</td>\n      <td>60.0</td>\n      <td>60.0</td>\n      <td>49.0</td>\n      <td>16.0</td>\n      <td>136.0</td>\n      <td>136.0</td>\n      <td>907.0</td>\n      <td>...</td>\n      <td>241.0</td>\n      <td>241.0</td>\n      <td>54.0</td>\n      <td>15.0</td>\n      <td>112.0</td>\n      <td>112.0</td>\n      <td>101.0</td>\n      <td>21.0</td>\n      <td>192.0</td>\n      <td>192.0</td>\n    </tr>\n    <tr>\n      <th>97</th>\n      <td>Petra Kvitova</td>\n      <td>131.0</td>\n      <td>59.0</td>\n      <td>404.0</td>\n      <td>404.0</td>\n      <td>194.0</td>\n      <td>90.0</td>\n      <td>632.0</td>\n      <td>632.0</td>\n      <td>3405.0</td>\n      <td>...</td>\n      <td>1447.0</td>\n      <td>1447.0</td>\n      <td>171.0</td>\n      <td>61.0</td>\n      <td>464.0</td>\n      <td>464.0</td>\n      <td>252.0</td>\n      <td>90.0</td>\n      <td>737.0</td>\n      <td>737.0</td>\n    </tr>\n    <tr>\n      <th>307</th>\n      <td>Despina Papamichail</td>\n      <td>2.0</td>\n      <td>0.0</td>\n      <td>5.0</td>\n      <td>5.0</td>\n      <td>7.0</td>\n      <td>0.0</td>\n      <td>4.0</td>\n      <td>4.0</td>\n      <td>174.0</td>\n      <td>...</td>\n      <td>27.0</td>\n      <td>27.0</td>\n      <td>13.0</td>\n      <td>0.0</td>\n      <td>13.0</td>\n      <td>13.0</td>\n      <td>21.0</td>\n      <td>0.0</td>\n      <td>21.0</td>\n      <td>21.0</td>\n    </tr>\n    <tr>\n      <th>1545</th>\n      <td>Georgia Andreea Craciun</td>\n      <td>3.0</td>\n      <td>0.0</td>\n      <td>0.0</td>\n      <td>0.0</td>\n      <td>8.0</td>\n      <td>0.0</td>\n      <td>0.0</td>\n      <td>0.0</td>\n      <td>63.0</td>\n      <td>...</td>\n      <td>0.0</td>\n      <td>0.0</td>\n      <td>3.0</td>\n      <td>0.0</td>\n      <td>0.0</td>\n      <td>0.0</td>\n      <td>5.0</td>\n      <td>0.0</td>\n      <td>0.0</td>\n      <td>0.0</td>\n    </tr>\n    <tr>\n      <th>1397</th>\n      <td>Seone Mendez</td>\n      <td>5.0</td>\n      <td>0.0</td>\n      <td>0.0</td>\n      <td>0.0</td>\n      <td>8.0</td>\n      <td>0.0</td>\n      <td>0.0</td>\n      <td>0.0</td>\n      <td>310.0</td>\n      <td>...</td>\n      <td>0.0</td>\n      <td>0.0</td>\n      <td>22.0</td>\n      <td>0.0</td>\n      <td>0.0</td>\n      <td>0.0</td>\n      <td>32.0</td>\n      <td>0.0</td>\n      <td>0.0</td>\n      <td>0.0</td>\n    </tr>\n    <tr>\n      <th>1081</th>\n      <td>Anhelina Kalinina</td>\n      <td>10.0</td>\n      <td>8.0</td>\n      <td>37.0</td>\n      <td>37.0</td>\n      <td>44.0</td>\n      <td>9.0</td>\n      <td>96.0</td>\n      <td>96.0</td>\n      <td>1017.0</td>\n      <td>...</td>\n      <td>202.0</td>\n      <td>202.0</td>\n      <td>63.0</td>\n      <td>7.0</td>\n      <td>104.0</td>\n      <td>104.0</td>\n      <td>105.0</td>\n      <td>14.0</td>\n      <td>167.0</td>\n      <td>167.0</td>\n    </tr>\n    <tr>\n      <th>689</th>\n      <td>Beatriz Haddad Maia</td>\n      <td>42.0</td>\n      <td>20.0</td>\n      <td>56.0</td>\n      <td>56.0</td>\n      <td>67.0</td>\n      <td>47.0</td>\n      <td>115.0</td>\n      <td>115.0</td>\n      <td>1588.0</td>\n      <td>...</td>\n      <td>341.0</td>\n      <td>341.0</td>\n      <td>95.0</td>\n      <td>37.0</td>\n      <td>110.0</td>\n      <td>110.0</td>\n      <td>150.0</td>\n      <td>57.0</td>\n      <td>181.0</td>\n      <td>181.0</td>\n    </tr>\n    <tr>\n      <th>1283</th>\n      <td>Ylena In Albon</td>\n      <td>0.0</td>\n      <td>0.0</td>\n      <td>0.0</td>\n      <td>0.0</td>\n      <td>0.0</td>\n      <td>0.0</td>\n      <td>0.0</td>\n      <td>0.0</td>\n      <td>0.0</td>\n      <td>...</td>\n      <td>0.0</td>\n      <td>0.0</td>\n      <td>0.0</td>\n      <td>0.0</td>\n      <td>0.0</td>\n      <td>0.0</td>\n      <td>0.0</td>\n      <td>0.0</td>\n      <td>0.0</td>\n      <td>0.0</td>\n    </tr>\n    <tr>\n      <th>1360</th>\n      <td>Katharina Hobgarski</td>\n      <td>3.0</td>\n      <td>0.0</td>\n      <td>1.0</td>\n      <td>1.0</td>\n      <td>7.0</td>\n      <td>0.0</td>\n      <td>12.0</td>\n      <td>12.0</td>\n      <td>347.0</td>\n      <td>...</td>\n      <td>10.0</td>\n      <td>10.0</td>\n      <td>18.0</td>\n      <td>0.0</td>\n      <td>3.0</td>\n      <td>3.0</td>\n      <td>35.0</td>\n      <td>0.0</td>\n      <td>10.0</td>\n      <td>10.0</td>\n    </tr>\n    <tr>\n      <th>271</th>\n      <td>Ekaterine Gorgodze</td>\n      <td>19.0</td>\n      <td>3.0</td>\n      <td>13.0</td>\n      <td>13.0</td>\n      <td>36.0</td>\n      <td>6.0</td>\n      <td>12.0</td>\n      <td>12.0</td>\n      <td>1239.0</td>\n      <td>...</td>\n      <td>81.0</td>\n      <td>81.0</td>\n      <td>80.0</td>\n      <td>5.0</td>\n      <td>47.0</td>\n      <td>47.0</td>\n      <td>140.0</td>\n      <td>8.0</td>\n      <td>77.0</td>\n      <td>77.0</td>\n    </tr>\n    <tr>\n      <th>375</th>\n      <td>Georgina Garcia Perez</td>\n      <td>27.0</td>\n      <td>0.0</td>\n      <td>13.0</td>\n      <td>13.0</td>\n      <td>45.0</td>\n      <td>4.0</td>\n      <td>52.0</td>\n      <td>52.0</td>\n      <td>1237.0</td>\n      <td>...</td>\n      <td>132.0</td>\n      <td>132.0</td>\n      <td>84.0</td>\n      <td>14.0</td>\n      <td>69.0</td>\n      <td>69.0</td>\n      <td>130.0</td>\n      <td>22.0</td>\n      <td>98.0</td>\n      <td>98.0</td>\n    </tr>\n    <tr>\n      <th>2383</th>\n      <td>Iga Swiatek</td>\n      <td>47.0</td>\n      <td>26.0</td>\n      <td>123.0</td>\n      <td>123.0</td>\n      <td>87.0</td>\n      <td>22.0</td>\n      <td>122.0</td>\n      <td>122.0</td>\n      <td>2012.0</td>\n      <td>...</td>\n      <td>471.0</td>\n      <td>471.0</td>\n      <td>122.0</td>\n      <td>20.0</td>\n      <td>139.0</td>\n      <td>139.0</td>\n      <td>182.0</td>\n      <td>31.0</td>\n      <td>233.0</td>\n      <td>233.0</td>\n    </tr>\n    <tr>\n      <th>119</th>\n      <td>Vitalia Diatchenko</td>\n      <td>0.0</td>\n      <td>18.0</td>\n      <td>66.0</td>\n      <td>66.0</td>\n      <td>9.0</td>\n      <td>40.0</td>\n      <td>200.0</td>\n      <td>200.0</td>\n      <td>84.0</td>\n      <td>...</td>\n      <td>360.0</td>\n      <td>360.0</td>\n      <td>7.0</td>\n      <td>52.0</td>\n      <td>114.0</td>\n      <td>114.0</td>\n      <td>11.0</td>\n      <td>78.0</td>\n      <td>219.0</td>\n      <td>219.0</td>\n    </tr>\n    <tr>\n      <th>466</th>\n      <td>Victoria Kan</td>\n      <td>2.0</td>\n      <td>0.0</td>\n      <td>0.0</td>\n      <td>0.0</td>\n      <td>1.0</td>\n      <td>0.0</td>\n      <td>0.0</td>\n      <td>0.0</td>\n      <td>55.0</td>\n      <td>...</td>\n      <td>0.0</td>\n      <td>0.0</td>\n      <td>1.0</td>\n      <td>0.0</td>\n      <td>0.0</td>\n      <td>0.0</td>\n      <td>4.0</td>\n      <td>0.0</td>\n      <td>0.0</td>\n      <td>0.0</td>\n    </tr>\n    <tr>\n      <th>630</th>\n      <td>Quirine Lemoine</td>\n      <td>3.0</td>\n      <td>0.0</td>\n      <td>2.0</td>\n      <td>2.0</td>\n      <td>13.0</td>\n      <td>0.0</td>\n      <td>12.0</td>\n      <td>12.0</td>\n      <td>254.0</td>\n      <td>...</td>\n      <td>9.0</td>\n      <td>9.0</td>\n      <td>21.0</td>\n      <td>0.0</td>\n      <td>13.0</td>\n      <td>13.0</td>\n      <td>27.0</td>\n      <td>0.0</td>\n      <td>28.0</td>\n      <td>28.0</td>\n    </tr>\n    <tr>\n      <th>63</th>\n      <td>Kaia Kanepi</td>\n      <td>69.0</td>\n      <td>4.0</td>\n      <td>127.0</td>\n      <td>127.0</td>\n      <td>82.0</td>\n      <td>12.0</td>\n      <td>187.0</td>\n      <td>187.0</td>\n      <td>1629.0</td>\n      <td>...</td>\n      <td>481.0</td>\n      <td>481.0</td>\n      <td>108.0</td>\n      <td>8.0</td>\n      <td>181.0</td>\n      <td>181.0</td>\n      <td>167.0</td>\n      <td>16.0</td>\n      <td>298.0</td>\n      <td>298.0</td>\n    </tr>\n    <tr>\n      <th>2182</th>\n      <td>Yuliya Hatouka</td>\n      <td>5.0</td>\n      <td>0.0</td>\n      <td>0.0</td>\n      <td>0.0</td>\n      <td>5.0</td>\n      <td>0.0</td>\n      <td>0.0</td>\n      <td>0.0</td>\n      <td>71.0</td>\n      <td>...</td>\n      <td>0.0</td>\n      <td>0.0</td>\n      <td>5.0</td>\n      <td>0.0</td>\n      <td>0.0</td>\n      <td>0.0</td>\n      <td>6.0</td>\n      <td>0.0</td>\n      <td>0.0</td>\n      <td>0.0</td>\n    </tr>\n    <tr>\n      <th>1887</th>\n      <td>Bianca Andreescu</td>\n      <td>16.0</td>\n      <td>1.0</td>\n      <td>187.0</td>\n      <td>187.0</td>\n      <td>13.0</td>\n      <td>4.0</td>\n      <td>258.0</td>\n      <td>258.0</td>\n      <td>360.0</td>\n      <td>...</td>\n      <td>796.0</td>\n      <td>796.0</td>\n      <td>20.0</td>\n      <td>4.0</td>\n      <td>313.0</td>\n      <td>313.0</td>\n      <td>35.0</td>\n      <td>8.0</td>\n      <td>492.0</td>\n      <td>492.0</td>\n    </tr>\n    <tr>\n      <th>1383</th>\n      <td>Viktoria Kuzmova</td>\n      <td>50.0</td>\n      <td>8.0</td>\n      <td>125.0</td>\n      <td>125.0</td>\n      <td>62.0</td>\n      <td>11.0</td>\n      <td>303.0</td>\n      <td>303.0</td>\n      <td>1169.0</td>\n      <td>...</td>\n      <td>666.0</td>\n      <td>666.0</td>\n      <td>60.0</td>\n      <td>12.0</td>\n      <td>240.0</td>\n      <td>240.0</td>\n      <td>94.0</td>\n      <td>15.0</td>\n      <td>379.0</td>\n      <td>379.0</td>\n    </tr>\n    <tr>\n      <th>1964</th>\n      <td>Maryna Chernyshova</td>\n      <td>0.0</td>\n      <td>0.0</td>\n      <td>0.0</td>\n      <td>0.0</td>\n      <td>0.0</td>\n      <td>0.0</td>\n      <td>0.0</td>\n      <td>0.0</td>\n      <td>0.0</td>\n      <td>...</td>\n      <td>0.0</td>\n      <td>0.0</td>\n      <td>0.0</td>\n      <td>0.0</td>\n      <td>0.0</td>\n      <td>0.0</td>\n      <td>0.0</td>\n      <td>0.0</td>\n      <td>0.0</td>\n      <td>0.0</td>\n    </tr>\n    <tr>\n      <th>651</th>\n      <td>Hua Chen Lee</td>\n      <td>0.0</td>\n      <td>0.0</td>\n      <td>0.0</td>\n      <td>0.0</td>\n      <td>0.0</td>\n      <td>0.0</td>\n      <td>0.0</td>\n      <td>0.0</td>\n      <td>0.0</td>\n      <td>...</td>\n      <td>0.0</td>\n      <td>0.0</td>\n      <td>0.0</td>\n      <td>0.0</td>\n      <td>0.0</td>\n      <td>0.0</td>\n      <td>0.0</td>\n      <td>0.0</td>\n      <td>0.0</td>\n      <td>0.0</td>\n    </tr>\n    <tr>\n      <th>340</th>\n      <td>Cristina Dinu</td>\n      <td>8.0</td>\n      <td>0.0</td>\n      <td>0.0</td>\n      <td>0.0</td>\n      <td>17.0</td>\n      <td>0.0</td>\n      <td>0.0</td>\n      <td>0.0</td>\n      <td>307.0</td>\n      <td>...</td>\n      <td>0.0</td>\n      <td>0.0</td>\n      <td>28.0</td>\n      <td>0.0</td>\n      <td>0.0</td>\n      <td>0.0</td>\n      <td>40.0</td>\n      <td>0.0</td>\n      <td>0.0</td>\n      <td>0.0</td>\n    </tr>\n    <tr>\n      <th>184</th>\n      <td>Sabina Sharipova</td>\n      <td>0.0</td>\n      <td>1.0</td>\n      <td>46.0</td>\n      <td>46.0</td>\n      <td>10.0</td>\n      <td>3.0</td>\n      <td>194.0</td>\n      <td>194.0</td>\n      <td>90.0</td>\n      <td>...</td>\n      <td>353.0</td>\n      <td>353.0</td>\n      <td>5.0</td>\n      <td>3.0</td>\n      <td>138.0</td>\n      <td>138.0</td>\n      <td>12.0</td>\n      <td>8.0</td>\n      <td>242.0</td>\n      <td>242.0</td>\n    </tr>\n    <tr>\n      <th>224</th>\n      <td>Kiki Bertens</td>\n      <td>244.0</td>\n      <td>59.0</td>\n      <td>272.0</td>\n      <td>272.0</td>\n      <td>312.0</td>\n      <td>89.0</td>\n      <td>439.0</td>\n      <td>439.0</td>\n      <td>5779.0</td>\n      <td>...</td>\n      <td>1145.0</td>\n      <td>1145.0</td>\n      <td>302.0</td>\n      <td>61.0</td>\n      <td>383.0</td>\n      <td>383.0</td>\n      <td>478.0</td>\n      <td>102.0</td>\n      <td>635.0</td>\n      <td>635.0</td>\n    </tr>\n    <tr>\n      <th>1180</th>\n      <td>Sofia Kenin</td>\n      <td>24.0</td>\n      <td>24.0</td>\n      <td>191.0</td>\n      <td>191.0</td>\n      <td>60.0</td>\n      <td>43.0</td>\n      <td>404.0</td>\n      <td>404.0</td>\n      <td>1301.0</td>\n      <td>...</td>\n      <td>1096.0</td>\n      <td>1096.0</td>\n      <td>94.0</td>\n      <td>46.0</td>\n      <td>435.0</td>\n      <td>435.0</td>\n      <td>143.0</td>\n      <td>71.0</td>\n      <td>684.0</td>\n      <td>684.0</td>\n    </tr>\n    <tr>\n      <th>1045</th>\n      <td>Jaqueline Adina Cristian</td>\n      <td>38.0</td>\n      <td>0.0</td>\n      <td>41.0</td>\n      <td>41.0</td>\n      <td>70.0</td>\n      <td>0.0</td>\n      <td>32.0</td>\n      <td>32.0</td>\n      <td>1488.0</td>\n      <td>...</td>\n      <td>143.0</td>\n      <td>143.0</td>\n      <td>86.0</td>\n      <td>0.0</td>\n      <td>30.0</td>\n      <td>30.0</td>\n      <td>148.0</td>\n      <td>0.0</td>\n      <td>50.0</td>\n      <td>50.0</td>\n    </tr>\n    <tr>\n      <th>356</th>\n      <td>Irina Khromacheva</td>\n      <td>25.0</td>\n      <td>5.0</td>\n      <td>63.0</td>\n      <td>63.0</td>\n      <td>64.0</td>\n      <td>4.0</td>\n      <td>109.0</td>\n      <td>109.0</td>\n      <td>605.0</td>\n      <td>...</td>\n      <td>193.0</td>\n      <td>193.0</td>\n      <td>37.0</td>\n      <td>6.0</td>\n      <td>70.0</td>\n      <td>70.0</td>\n      <td>66.0</td>\n      <td>13.0</td>\n      <td>112.0</td>\n      <td>112.0</td>\n    </tr>\n    <tr>\n      <th>1191</th>\n      <td>Iryna Shymanovich</td>\n      <td>0.0</td>\n      <td>0.0</td>\n      <td>0.0</td>\n      <td>0.0</td>\n      <td>0.0</td>\n      <td>0.0</td>\n      <td>0.0</td>\n      <td>0.0</td>\n      <td>0.0</td>\n      <td>...</td>\n      <td>0.0</td>\n      <td>0.0</td>\n      <td>0.0</td>\n      <td>0.0</td>\n      <td>0.0</td>\n      <td>0.0</td>\n      <td>0.0</td>\n      <td>0.0</td>\n      <td>0.0</td>\n      <td>0.0</td>\n    </tr>\n    <tr>\n      <th>300</th>\n      <td>Chanel Simmonds</td>\n      <td>0.0</td>\n      <td>0.0</td>\n      <td>1.0</td>\n      <td>1.0</td>\n      <td>0.0</td>\n      <td>0.0</td>\n      <td>0.0</td>\n      <td>0.0</td>\n      <td>0.0</td>\n      <td>...</td>\n      <td>10.0</td>\n      <td>10.0</td>\n      <td>0.0</td>\n      <td>0.0</td>\n      <td>6.0</td>\n      <td>6.0</td>\n      <td>0.0</td>\n      <td>0.0</td>\n      <td>9.0</td>\n      <td>9.0</td>\n    </tr>\n    <tr>\n      <th>878</th>\n      <td>Mayar Sherif</td>\n      <td>25.0</td>\n      <td>0.0</td>\n      <td>23.0</td>\n      <td>23.0</td>\n      <td>20.0</td>\n      <td>2.0</td>\n      <td>14.0</td>\n      <td>14.0</td>\n      <td>1050.0</td>\n      <td>...</td>\n      <td>92.0</td>\n      <td>92.0</td>\n      <td>44.0</td>\n      <td>0.0</td>\n      <td>17.0</td>\n      <td>17.0</td>\n      <td>82.0</td>\n      <td>0.0</td>\n      <td>31.0</td>\n      <td>31.0</td>\n    </tr>\n    <tr>\n      <th>120</th>\n      <td>Polona Hercog</td>\n      <td>136.0</td>\n      <td>25.0</td>\n      <td>81.0</td>\n      <td>81.0</td>\n      <td>172.0</td>\n      <td>71.0</td>\n      <td>107.0</td>\n      <td>107.0</td>\n      <td>3492.0</td>\n      <td>...</td>\n      <td>293.0</td>\n      <td>293.0</td>\n      <td>221.0</td>\n      <td>42.0</td>\n      <td>97.0</td>\n      <td>97.0</td>\n      <td>368.0</td>\n      <td>72.0</td>\n      <td>137.0</td>\n      <td>137.0</td>\n    </tr>\n    <tr>\n      <th>304</th>\n      <td>Mihaela Buzarnescu</td>\n      <td>55.0</td>\n      <td>29.0</td>\n      <td>69.0</td>\n      <td>69.0</td>\n      <td>99.0</td>\n      <td>24.0</td>\n      <td>131.0</td>\n      <td>131.0</td>\n      <td>2185.0</td>\n      <td>...</td>\n      <td>351.0</td>\n      <td>351.0</td>\n      <td>138.0</td>\n      <td>47.0</td>\n      <td>132.0</td>\n      <td>132.0</td>\n      <td>228.0</td>\n      <td>77.0</td>\n      <td>221.0</td>\n      <td>221.0</td>\n    </tr>\n    <tr>\n      <th>306</th>\n      <td>Viktoriya Tomova</td>\n      <td>17.0</td>\n      <td>8.0</td>\n      <td>50.0</td>\n      <td>50.0</td>\n      <td>63.0</td>\n      <td>16.0</td>\n      <td>103.0</td>\n      <td>103.0</td>\n      <td>1707.0</td>\n      <td>...</td>\n      <td>385.0</td>\n      <td>385.0</td>\n      <td>115.0</td>\n      <td>28.0</td>\n      <td>155.0</td>\n      <td>155.0</td>\n      <td>202.0</td>\n      <td>41.0</td>\n      <td>277.0</td>\n      <td>277.0</td>\n    </tr>\n    <tr>\n      <th>1720</th>\n      <td>Eleonora Molinaro</td>\n      <td>2.0</td>\n      <td>0.0</td>\n      <td>25.0</td>\n      <td>25.0</td>\n      <td>7.0</td>\n      <td>0.0</td>\n      <td>17.0</td>\n      <td>17.0</td>\n      <td>224.0</td>\n      <td>...</td>\n      <td>83.0</td>\n      <td>83.0</td>\n      <td>12.0</td>\n      <td>0.0</td>\n      <td>27.0</td>\n      <td>27.0</td>\n      <td>29.0</td>\n      <td>0.0</td>\n      <td>41.0</td>\n      <td>41.0</td>\n    </tr>\n    <tr>\n      <th>807</th>\n      <td>Kathinka Von Deichmann</td>\n      <td>1.0</td>\n      <td>0.0</td>\n      <td>5.0</td>\n      <td>5.0</td>\n      <td>29.0</td>\n      <td>0.0</td>\n      <td>11.0</td>\n      <td>11.0</td>\n      <td>783.0</td>\n      <td>...</td>\n      <td>11.0</td>\n      <td>11.0</td>\n      <td>54.0</td>\n      <td>0.0</td>\n      <td>29.0</td>\n      <td>29.0</td>\n      <td>95.0</td>\n      <td>0.0</td>\n      <td>39.0</td>\n      <td>39.0</td>\n    </tr>\n    <tr>\n      <th>1036</th>\n      <td>Rebecca Sramkova</td>\n      <td>53.0</td>\n      <td>2.0</td>\n      <td>11.0</td>\n      <td>11.0</td>\n      <td>39.0</td>\n      <td>3.0</td>\n      <td>31.0</td>\n      <td>31.0</td>\n      <td>1420.0</td>\n      <td>...</td>\n      <td>85.0</td>\n      <td>85.0</td>\n      <td>78.0</td>\n      <td>7.0</td>\n      <td>52.0</td>\n      <td>52.0</td>\n      <td>131.0</td>\n      <td>12.0</td>\n      <td>79.0</td>\n      <td>79.0</td>\n    </tr>\n    <tr>\n      <th>71</th>\n      <td>Madison Brengle</td>\n      <td>7.0</td>\n      <td>9.0</td>\n      <td>21.0</td>\n      <td>21.0</td>\n      <td>21.0</td>\n      <td>33.0</td>\n      <td>159.0</td>\n      <td>159.0</td>\n      <td>807.0</td>\n      <td>...</td>\n      <td>592.0</td>\n      <td>592.0</td>\n      <td>44.0</td>\n      <td>63.0</td>\n      <td>207.0</td>\n      <td>207.0</td>\n      <td>77.0</td>\n      <td>122.0</td>\n      <td>386.0</td>\n      <td>386.0</td>\n    </tr>\n  </tbody>\n</table>\n<p>50 rows × 37 columns</p>\n</div>"
     },
     "metadata": {}
    }
   ]
  },
  {
   "cell_type": "code",
   "metadata": {
    "tags": [],
    "cell_id": "00025-a22dddd6-96ba-44a5-8233-e4caaeeb482f",
    "deepnote_to_be_reexecuted": true,
    "source_hash": "502c769c",
    "execution_start": 1636388448411,
    "execution_millis": 0,
    "deepnote_cell_type": "code"
   },
   "source": "df_top_female_players.to_csv(\"../data/integrations/female_winners_stats_top.csv\", index=False)",
   "execution_count": null,
   "outputs": []
  },
  {
   "cell_type": "markdown",
   "source": "### TODO: for losers?",
   "metadata": {
    "tags": [],
    "cell_id": "00026-bd05e66b-7bbc-4e10-a1ba-eb77d5078699",
    "deepnote_cell_type": "markdown"
   }
  },
  {
   "cell_type": "code",
   "metadata": {
    "tags": [],
    "cell_id": "00027-b7d017c0-b44f-4778-8c86-299aaea0a498",
    "deepnote_to_be_reexecuted": true,
    "source_hash": "b623e53d",
    "deepnote_cell_type": "code"
   },
   "source": "",
   "execution_count": null,
   "outputs": []
  },
  {
   "cell_type": "markdown",
   "source": "### New Features analysis",
   "metadata": {
    "tags": [],
    "cell_id": "00028-2cbf5fbe-2f7d-494d-a13b-f319118bb4be",
    "deepnote_cell_type": "markdown"
   }
  },
  {
   "cell_type": "markdown",
   "source": "<a style='text-decoration:none;line-height:16px;display:flex;color:#5B5B62;padding:10px;justify-content:end;' href='https://deepnote.com?utm_source=created-in-deepnote-cell&projectId=de87b132-0371-4d99-94f9-c61923e2507d' target=\"_blank\">\n<img alt='Created in deepnote.com' style='display:inline;max-height:16px;margin:0px;margin-right:7.5px;' src='data:image/svg+xml;base64,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' > </img>\nCreated in <span style='font-weight:600;margin-left:4px;'>Deepnote</span></a>",
   "metadata": {
    "tags": [],
    "created_in_deepnote_cell": true,
    "deepnote_cell_type": "markdown"
   }
  }
 ],
 "nbformat": 4,
 "nbformat_minor": 2,
 "metadata": {
  "orig_nbformat": 2,
  "deepnote": {
   "is_reactive": false
  },
  "deepnote_notebook_id": "fb24560e-b3d4-4675-bf2c-5ad64502c78c",
  "deepnote_execution_queue": [
   {
    "cellId": "00004-ec7627c3-2f5a-41ac-833e-11db4cfc18c0",
    "sessionId": "bd907d27-4c3d-4761-a183-210365e1c3e9",
    "msgId": "383b06ab-e5c9-49d8-b7e8-59592f70a281"
   }
  ]
 }
}