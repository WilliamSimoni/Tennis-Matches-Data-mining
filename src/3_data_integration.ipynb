{
 "cells": [
  {
   "cell_type": "code",
   "source": "import numpy as np\nimport pandas as pd\nimport plotly as plt\nimport scipy\nimport math\nfrom datetime import datetime",
   "metadata": {
    "tags": [],
    "cell_id": "00000-7f45bfac-0de2-411c-a791-4e6d95c0cd8b",
    "deepnote_to_be_reexecuted": false,
    "source_hash": "f0cd7bf2",
    "execution_start": 1635001151680,
    "execution_millis": 0,
    "deepnote_cell_type": "code"
   },
   "outputs": [],
   "execution_count": 14
  },
  {
   "cell_type": "code",
   "source": "df_matches = pd.read_csv(\"../data/cleaned/tennis_matches_cleaned.csv\")\ndf_male_players = pd.read_csv(\"../data/cleaned/male_players_cleaned.csv\")\ndf_female_players = pd.read_csv(\"../data/cleaned/female_players_cleaned.csv\")",
   "metadata": {
    "tags": [],
    "cell_id": "00000-dcbff698-b5dd-48e3-8b70-4579c1b0e1e1",
    "deepnote_to_be_reexecuted": false,
    "source_hash": "27d0de81",
    "execution_start": 1635001151685,
    "execution_millis": 1137,
    "deepnote_cell_type": "code"
   },
   "outputs": [],
   "execution_count": 15
  },
  {
   "cell_type": "markdown",
   "source": "# Data integration",
   "metadata": {
    "tags": [],
    "cell_id": "00000-4d8ab1cf-3137-4e92-b150-f5587423f940",
    "deepnote_cell_type": "markdown"
   }
  },
  {
   "cell_type": "markdown",
   "source": "Create a dataframe with all the male matches and another one for the female matches",
   "metadata": {
    "tags": [],
    "cell_id": "00001-50f18f19-b9f7-4ea8-ba4f-039e7dd48f2a",
    "deepnote_cell_type": "markdown"
   }
  },
  {
   "cell_type": "code",
   "metadata": {
    "tags": [],
    "cell_id": "00002-a68a3b40-36a1-45eb-9f2f-a3c6b785e71c",
    "deepnote_to_be_reexecuted": false,
    "source_hash": "b288f2c1",
    "execution_start": 1635001152862,
    "execution_millis": 719,
    "deepnote_cell_type": "code"
   },
   "source": "df_male_players_tmp = pd.DataFrame()\ndf_male_players_tmp['player_name'] = df_male_players['name'] + ' ' + df_male_players['surname']\ndf_male_winners = df_male_players_tmp.join(df_matches.set_index('winner_name'), on='player_name', how='inner')\ndf_male_losers = df_male_players_tmp.join(df_matches.set_index('loser_name'), on='player_name', how='inner')\ndf_male_matches = pd.concat([df_male_winners, df_male_losers])",
   "execution_count": 16,
   "outputs": []
  },
  {
   "cell_type": "code",
   "source": "df_male_matches",
   "metadata": {
    "tags": [],
    "cell_id": "00005-a2514453-9050-4264-b238-feb7d8b7546e",
    "deepnote_to_be_reexecuted": false,
    "source_hash": "3a4012c6",
    "execution_start": 1635001153587,
    "execution_millis": 323,
    "deepnote_cell_type": "code"
   },
   "outputs": [
    {
     "output_type": "execute_result",
     "execution_count": 17,
     "data": {
      "application/vnd.deepnote.dataframe.v2+json": {
       "row_count": 116822,
       "column_count": 49,
       "columns": [
        {
         "name": "player_name",
         "dtype": "object"
        },
        {
         "name": "Unnamed: 0",
         "dtype": "int64"
        },
        {
         "name": "tourney_id",
         "dtype": "object"
        },
        {
         "name": "tourney_name",
         "dtype": "object"
        },
        {
         "name": "surface",
         "dtype": "object"
        },
        {
         "name": "draw_size",
         "dtype": "int64"
        },
        {
         "name": "tourney_level",
         "dtype": "object"
        },
        {
         "name": "tourney_date",
         "dtype": "object"
        },
        {
         "name": "match_num",
         "dtype": "int64"
        },
        {
         "name": "winner_id",
         "dtype": "int64"
        },
        {
         "name": "winner_entry",
         "dtype": "object"
        },
        {
         "name": "winner_hand",
         "dtype": "object"
        },
        {
         "name": "winner_ht",
         "dtype": "int64"
        },
        {
         "name": "winner_ioc",
         "dtype": "object"
        },
        {
         "name": "winner_age",
         "dtype": "int64"
        },
        {
         "name": "loser_id",
         "dtype": "int64"
        },
        {
         "name": "loser_entry",
         "dtype": "object"
        },
        {
         "name": "loser_name",
         "dtype": "object"
        },
        {
         "name": "loser_hand",
         "dtype": "object"
        },
        {
         "name": "loser_ht",
         "dtype": "int64"
        },
        {
         "name": "loser_ioc",
         "dtype": "object"
        },
        {
         "name": "loser_age",
         "dtype": "int64"
        },
        {
         "name": "score",
         "dtype": "object"
        },
        {
         "name": "best_of",
         "dtype": "int64"
        },
        {
         "name": "round",
         "dtype": "object"
        },
        {
         "name": "minutes",
         "dtype": "int64"
        },
        {
         "name": "w_ace",
         "dtype": "float64"
        },
        {
         "name": "w_df",
         "dtype": "float64"
        },
        {
         "name": "w_svpt",
         "dtype": "float64"
        },
        {
         "name": "w_1stIn",
         "dtype": "float64"
        },
        {
         "name": "w_1stWon",
         "dtype": "float64"
        },
        {
         "name": "w_2ndWon",
         "dtype": "float64"
        },
        {
         "name": "w_SvGms",
         "dtype": "float64"
        },
        {
         "name": "w_bpSaved",
         "dtype": "float64"
        },
        {
         "name": "w_bpFaced",
         "dtype": "float64"
        },
        {
         "name": "l_ace",
         "dtype": "float64"
        },
        {
         "name": "l_df",
         "dtype": "float64"
        },
        {
         "name": "l_svpt",
         "dtype": "float64"
        },
        {
         "name": "l_1stIn",
         "dtype": "float64"
        },
        {
         "name": "l_1stWon",
         "dtype": "float64"
        },
        {
         "name": "l_2ndWon",
         "dtype": "float64"
        },
        {
         "name": "l_SvGms",
         "dtype": "float64"
        },
        {
         "name": "l_bpSaved",
         "dtype": "float64"
        },
        {
         "name": "l_bpFaced",
         "dtype": "float64"
        },
        {
         "name": "winner_rank",
         "dtype": "int64"
        },
        {
         "name": "loser_rank",
         "dtype": "int64"
        },
        {
         "name": "tourney_spectators",
         "dtype": "float64"
        },
        {
         "name": "tourney_revenue",
         "dtype": "float64"
        },
        {
         "name": "winner_name",
         "dtype": "object"
        },
        {
         "name": "_deepnote_index_column",
         "dtype": "int64"
        }
       ],
       "rows_top": [
        {
         "player_name": "Alexander Zverev",
         "Unnamed: 0": "352",
         "tourney_id": "2019-580",
         "tourney_name": "Australian Open",
         "surface": "Hard",
         "draw_size": "128",
         "tourney_level": "G",
         "tourney_date": "2019-01-14",
         "match_num": "200",
         "winner_id": "100644",
         "winner_entry": "nan",
         "winner_hand": "R",
         "winner_ht": "198",
         "winner_ioc": "GER",
         "winner_age": "21",
         "loser_id": "106109",
         "loser_entry": "WC",
         "loser_name": "Alex Bolt",
         "loser_hand": "L",
         "loser_ht": "-1",
         "loser_ioc": "AUS",
         "loser_age": "26",
         "score": "6-3 6-3 6-2",
         "best_of": "5",
         "round": "R32",
         "minutes": "112",
         "w_ace": "-1.0",
         "w_df": "4.0",
         "w_svpt": "85.0",
         "w_1stIn": "55.0",
         "w_1stWon": "39.0",
         "w_2ndWon": "19.0",
         "w_SvGms": "13.0",
         "w_bpSaved": "5.0",
         "w_bpFaced": "6.0",
         "l_ace": "-1.0",
         "l_df": "1.0",
         "l_svpt": "90.0",
         "l_1stIn": "58.0",
         "l_1stWon": "37.0",
         "l_2ndWon": "12.0",
         "l_SvGms": "13.0",
         "l_bpSaved": "6.0",
         "l_bpFaced": "12.0",
         "winner_rank": "4",
         "loser_rank": "155",
         "tourney_spectators": "15583.0",
         "tourney_revenue": "2781000.18",
         "winner_name": "nan",
         "_deepnote_index_column": "643"
        },
        {
         "player_name": "Alexander Zverev",
         "Unnamed: 0": "363",
         "tourney_id": "2019-580",
         "tourney_name": "Australian Open",
         "surface": "Hard",
         "draw_size": "128",
         "tourney_level": "G",
         "tourney_date": "2019-01-14",
         "match_num": "116",
         "winner_id": "100644",
         "winner_entry": "nan",
         "winner_hand": "R",
         "winner_ht": "198",
         "winner_ioc": "GER",
         "winner_age": "21",
         "loser_id": "105379",
         "loser_entry": "nan",
         "loser_name": "Aljaz Bedene",
         "loser_hand": "R",
         "loser_ht": "181",
         "loser_ioc": "SLO",
         "loser_age": "29",
         "score": "6-4 6-1 6-4",
         "best_of": "5",
         "round": "R128",
         "minutes": "115",
         "w_ace": "-1.0",
         "w_df": "6.0",
         "w_svpt": "77.0",
         "w_1stIn": "46.0",
         "w_1stWon": "38.0",
         "w_2ndWon": "14.0",
         "w_SvGms": "14.0",
         "w_bpSaved": "1.0",
         "w_bpFaced": "3.0",
         "l_ace": "-1.0",
         "l_df": "2.0",
         "l_svpt": "84.0",
         "l_1stIn": "51.0",
         "l_1stWon": "34.0",
         "l_2ndWon": "8.0",
         "l_SvGms": "13.0",
         "l_bpSaved": "2.0",
         "l_bpFaced": "8.0",
         "winner_rank": "4",
         "loser_rank": "67",
         "tourney_spectators": "15583.0",
         "tourney_revenue": "2781000.18",
         "winner_name": "nan",
         "_deepnote_index_column": "643"
        },
        {
         "player_name": "Alexander Zverev",
         "Unnamed: 0": "364",
         "tourney_id": "2019-580",
         "tourney_name": "Australian Open",
         "surface": "Hard",
         "draw_size": "128",
         "tourney_level": "G",
         "tourney_date": "2019-01-14",
         "match_num": "172",
         "winner_id": "100644",
         "winner_entry": "nan",
         "winner_hand": "R",
         "winner_ht": "198",
         "winner_ioc": "GER",
         "winner_age": "21",
         "loser_id": "104871",
         "loser_entry": "nan",
         "loser_name": "Jeremy Chardy",
         "loser_hand": "R",
         "loser_ht": "188",
         "loser_ioc": "FRA",
         "loser_age": "31",
         "score": "7-6(5) 6-4 5-7 6-7(6) 6-1",
         "best_of": "5",
         "round": "R64",
         "minutes": "-1",
         "w_ace": "-1.0",
         "w_df": "13.0",
         "w_svpt": "167.0",
         "w_1stIn": "116.0",
         "w_1stWon": "94.0",
         "w_2ndWon": "25.0",
         "w_SvGms": "27.0",
         "w_bpSaved": "10.0",
         "w_bpFaced": "13.0",
         "l_ace": "-1.0",
         "l_df": "3.0",
         "l_svpt": "173.0",
         "l_1stIn": "118.0",
         "l_1stWon": "86.0",
         "l_2ndWon": "29.0",
         "l_SvGms": "26.0",
         "l_bpSaved": "12.0",
         "l_bpFaced": "17.0",
         "winner_rank": "4",
         "loser_rank": "36",
         "tourney_spectators": "15583.0",
         "tourney_revenue": "2781000.18",
         "winner_name": "nan",
         "_deepnote_index_column": "643"
        },
        {
         "player_name": "Alexander Zverev",
         "Unnamed: 0": "1145",
         "tourney_id": "2019-M004",
         "tourney_name": "Acapulco",
         "surface": "Hard",
         "draw_size": "32",
         "tourney_level": "A",
         "tourney_date": "2019-02-25",
         "match_num": "298",
         "winner_id": "100644",
         "winner_entry": "nan",
         "winner_hand": "R",
         "winner_ht": "198",
         "winner_ioc": "GER",
         "winner_age": "21",
         "loser_id": "111815",
         "loser_entry": "nan",
         "loser_name": "Cameron Norrie",
         "loser_hand": "L",
         "loser_ht": "188",
         "loser_ioc": "GBR",
         "loser_age": "23",
         "score": "7-6(0) 6-3",
         "best_of": "3",
         "round": "SF",
         "minutes": "80",
         "w_ace": "-1.0",
         "w_df": "4.0",
         "w_svpt": "62.0",
         "w_1stIn": "42.0",
         "w_1stWon": "34.0",
         "w_2ndWon": "13.0",
         "w_SvGms": "11.0",
         "w_bpSaved": "2.0",
         "w_bpFaced": "3.0",
         "l_ace": "2.0",
         "l_df": "2.0",
         "l_svpt": "57.0",
         "l_1stIn": "39.0",
         "l_1stWon": "29.0",
         "l_2ndWon": "8.0",
         "l_SvGms": "10.0",
         "l_bpSaved": "2.0",
         "l_bpFaced": "4.0",
         "winner_rank": "3",
         "loser_rank": "64",
         "tourney_spectators": "3398.0",
         "tourney_revenue": "655207.08",
         "winner_name": "nan",
         "_deepnote_index_column": "643"
        },
        {
         "player_name": "Alexander Zverev",
         "Unnamed: 0": "1149",
         "tourney_id": "2019-M004",
         "tourney_name": "Acapulco",
         "surface": "Hard",
         "draw_size": "32",
         "tourney_level": "A",
         "tourney_date": "2019-02-25",
         "match_num": "294",
         "winner_id": "100644",
         "winner_entry": "nan",
         "winner_hand": "R",
         "winner_ht": "198",
         "winner_ioc": "GER",
         "winner_age": "21",
         "loser_id": "200282",
         "loser_entry": "nan",
         "loser_name": "Alex De Minaur",
         "loser_hand": "R",
         "loser_ht": "183",
         "loser_ioc": "AUS",
         "loser_age": "20",
         "score": "6-4 6-4",
         "best_of": "3",
         "round": "QF",
         "minutes": "75",
         "w_ace": "-1.0",
         "w_df": "1.0",
         "w_svpt": "50.0",
         "w_1stIn": "32.0",
         "w_1stWon": "29.0",
         "w_2ndWon": "11.0",
         "w_SvGms": "10.0",
         "w_bpSaved": "0.0",
         "w_bpFaced": "0.0",
         "l_ace": "1.0",
         "l_df": "2.0",
         "l_svpt": "55.0",
         "l_1stIn": "34.0",
         "l_1stWon": "28.0",
         "l_2ndWon": "11.0",
         "l_SvGms": "10.0",
         "l_bpSaved": "0.0",
         "l_bpFaced": "2.0",
         "winner_rank": "3",
         "loser_rank": "26",
         "tourney_spectators": "3398.0",
         "tourney_revenue": "655207.08",
         "winner_name": "nan",
         "_deepnote_index_column": "643"
        },
        {
         "player_name": "Alexander Zverev",
         "Unnamed: 0": "1157",
         "tourney_id": "2019-M004",
         "tourney_name": "Acapulco",
         "surface": "Hard",
         "draw_size": "32",
         "tourney_level": "A",
         "tourney_date": "2019-02-25",
         "match_num": "286",
         "winner_id": "100644",
         "winner_entry": "nan",
         "winner_hand": "R",
         "winner_ht": "198",
         "winner_ioc": "GER",
         "winner_age": "21",
         "loser_id": "103970",
         "loser_entry": "WC",
         "loser_name": "David Ferrer",
         "loser_hand": "R",
         "loser_ht": "175",
         "loser_ioc": "ESP",
         "loser_age": "21",
         "score": "7-6(0) 6-1",
         "best_of": "3",
         "round": "R16",
         "minutes": "88",
         "w_ace": "-1.0",
         "w_df": "6.0",
         "w_svpt": "62.0",
         "w_1stIn": "37.0",
         "w_1stWon": "29.0",
         "w_2ndWon": "15.0",
         "w_SvGms": "10.0",
         "w_bpSaved": "3.0",
         "w_bpFaced": "4.0",
         "l_ace": "0.0",
         "l_df": "2.0",
         "l_svpt": "59.0",
         "l_1stIn": "36.0",
         "l_1stWon": "23.0",
         "l_2ndWon": "9.0",
         "l_SvGms": "9.0",
         "l_bpSaved": "3.0",
         "l_bpFaced": "6.0",
         "winner_rank": "3",
         "loser_rank": "145",
         "tourney_spectators": "3398.0",
         "tourney_revenue": "655207.08",
         "winner_name": "nan",
         "_deepnote_index_column": "643"
        },
        {
         "player_name": "Alexander Zverev",
         "Unnamed: 0": "1173",
         "tourney_id": "2019-M004",
         "tourney_name": "Acapulco",
         "surface": "Hard",
         "draw_size": "32",
         "tourney_level": "A",
         "tourney_date": "2019-02-25",
         "match_num": "270",
         "winner_id": "100644",
         "winner_entry": "nan",
         "winner_hand": "R",
         "winner_ht": "198",
         "winner_ioc": "GER",
         "winner_age": "21",
         "loser_id": "200615",
         "loser_entry": "Q",
         "loser_name": "Alexei Popyrin",
         "loser_hand": "R",
         "loser_ht": "196",
         "loser_ioc": "AUS",
         "loser_age": "19",
         "score": "6-3 6-3",
         "best_of": "3",
         "round": "R32",
         "minutes": "70",
         "w_ace": "-1.0",
         "w_df": "2.0",
         "w_svpt": "43.0",
         "w_1stIn": "27.0",
         "w_1stWon": "26.0",
         "w_2ndWon": "10.0",
         "w_SvGms": "9.0",
         "w_bpSaved": "0.0",
         "w_bpFaced": "0.0",
         "l_ace": "4.0",
         "l_df": "3.0",
         "l_svpt": "67.0",
         "l_1stIn": "44.0",
         "l_1stWon": "29.0",
         "l_2ndWon": "8.0",
         "l_SvGms": "9.0",
         "l_bpSaved": "6.0",
         "l_bpFaced": "9.0",
         "winner_rank": "3",
         "loser_rank": "133",
         "tourney_spectators": "3398.0",
         "tourney_revenue": "655207.08",
         "winner_name": "nan",
         "_deepnote_index_column": "643"
        },
        {
         "player_name": "Alexander Zverev",
         "Unnamed: 0": "1355",
         "tourney_id": "2019-M006",
         "tourney_name": "Indian Wells Masters",
         "surface": "Hard",
         "draw_size": "128",
         "tourney_level": "M",
         "tourney_date": "2019-03-04",
         "match_num": "261",
         "winner_id": "100644",
         "winner_entry": "nan",
         "winner_hand": "R",
         "winner_ht": "198",
         "winner_ioc": "GER",
         "winner_age": "21",
         "loser_id": "105373",
         "loser_entry": "nan",
         "loser_name": "Martin Klizan",
         "loser_hand": "L",
         "loser_ht": "190",
         "loser_ioc": "SVK",
         "loser_age": "29",
         "score": "6-3 2-0 RET",
         "best_of": "3",
         "round": "R64",
         "minutes": "58",
         "w_ace": "5.0",
         "w_df": "1.0",
         "w_svpt": "34.0",
         "w_1stIn": "18.0",
         "w_1stWon": "14.0",
         "w_2ndWon": "9.0",
         "w_SvGms": "5.0",
         "w_bpSaved": "2.0",
         "w_bpFaced": "3.0",
         "l_ace": "1.0",
         "l_df": "3.0",
         "l_svpt": "44.0",
         "l_1stIn": "19.0",
         "l_1stWon": "10.0",
         "l_2ndWon": "11.0",
         "l_SvGms": "6.0",
         "l_bpSaved": "6.0",
         "l_bpFaced": "10.0",
         "winner_rank": "3",
         "loser_rank": "50",
         "tourney_spectators": "9552.0",
         "tourney_revenue": "2484975.25",
         "winner_name": "nan",
         "_deepnote_index_column": "643"
        },
        {
         "player_name": "Alexander Zverev",
         "Unnamed: 0": "1894",
         "tourney_id": "2019-0360",
         "tourney_name": "Marrakech",
         "surface": "Clay",
         "draw_size": "32",
         "tourney_level": "A",
         "tourney_date": "2019-04-08",
         "match_num": "285",
         "winner_id": "100644",
         "winner_entry": "nan",
         "winner_hand": "R",
         "winner_ht": "198",
         "winner_ioc": "GER",
         "winner_age": "21",
         "loser_id": "104797",
         "loser_entry": "nan",
         "loser_name": "Denis Istomin",
         "loser_hand": "R",
         "loser_ht": "188",
         "loser_ioc": "UZB",
         "loser_age": "32",
         "score": "6-4 6-4",
         "best_of": "3",
         "round": "R32",
         "minutes": "81",
         "w_ace": "-1.0",
         "w_df": "2.0",
         "w_svpt": "58.0",
         "w_1stIn": "36.0",
         "w_1stWon": "31.0",
         "w_2ndWon": "12.0",
         "w_SvGms": "10.0",
         "w_bpSaved": "3.0",
         "w_bpFaced": "3.0",
         "l_ace": "3.0",
         "l_df": "0.0",
         "l_svpt": "64.0",
         "l_1stIn": "37.0",
         "l_1stWon": "29.0",
         "l_2ndWon": "11.0",
         "l_SvGms": "10.0",
         "l_bpSaved": "7.0",
         "l_bpFaced": "9.0",
         "winner_rank": "3",
         "loser_rank": "104",
         "tourney_spectators": "2657.0",
         "tourney_revenue": "496815.47",
         "winner_name": "nan",
         "_deepnote_index_column": "643"
        },
        {
         "player_name": "Alexander Zverev",
         "Unnamed: 0": "1948",
         "tourney_id": "2019-0410",
         "tourney_name": "Monte Carlo Masters",
         "surface": "Clay",
         "draw_size": "64",
         "tourney_level": "M",
         "tourney_date": "2019-04-15",
         "match_num": "274",
         "winner_id": "100644",
         "winner_entry": "nan",
         "winner_hand": "R",
         "winner_ht": "198",
         "winner_ioc": "GER",
         "winner_age": "21",
         "loser_id": "200000",
         "loser_entry": "WC",
         "loser_name": "Felix Auger Aliassime",
         "loser_hand": "R",
         "loser_ht": "193",
         "loser_ioc": "CAN",
         "loser_age": "18",
         "score": "6-1 6-4",
         "best_of": "3",
         "round": "R32",
         "minutes": "78",
         "w_ace": "0.0",
         "w_df": "3.0",
         "w_svpt": "47.0",
         "w_1stIn": "32.0",
         "w_1stWon": "21.0",
         "w_2ndWon": "7.0",
         "w_SvGms": "8.0",
         "w_bpSaved": "1.0",
         "w_bpFaced": "3.0",
         "l_ace": "1.0",
         "l_df": "5.0",
         "l_svpt": "53.0",
         "l_1stIn": "26.0",
         "l_1stWon": "12.0",
         "l_2ndWon": "10.0",
         "l_SvGms": "9.0",
         "l_bpSaved": "1.0",
         "l_bpFaced": "7.0",
         "winner_rank": "3",
         "loser_rank": "33",
         "tourney_spectators": "5172.0",
         "tourney_revenue": "1598960.12",
         "winner_name": "nan",
         "_deepnote_index_column": "643"
        }
       ],
       "rows_bottom": [
        {
         "player_name": "Jakub Nicod",
         "Unnamed: 0": 94587,
         "tourney_id": "2021-0558",
         "tourney_name": "Prostejov CH",
         "surface": "Clay",
         "draw_size": 32,
         "tourney_level": "C",
         "tourney_date": "2021-06-14",
         "match_num": 250,
         "winner_id": 122351,
         "winner_entry": "nan",
         "winner_hand": "U",
         "winner_ht": -1,
         "winner_ioc": "GER",
         "winner_age": 25,
         "loser_id": 210083,
         "loser_entry": "WC",
         "loser_name": "nan",
         "loser_hand": "U",
         "loser_ht": -1,
         "loser_ioc": "CZE",
         "loser_age": 16,
         "score": "6-3 3-6 6-3",
         "best_of": 3,
         "round": "Q1",
         "minutes": 115,
         "w_ace": 3,
         "w_df": 5,
         "w_svpt": 93,
         "w_1stIn": 64,
         "w_1stWon": 41,
         "w_2ndWon": 16,
         "w_SvGms": 14,
         "w_bpSaved": 4,
         "w_bpFaced": 7,
         "l_ace": 3,
         "l_df": 1,
         "l_svpt": 76,
         "l_1stIn": 44,
         "l_1stWon": 23,
         "l_2ndWon": 24,
         "l_SvGms": 13,
         "l_bpSaved": 3,
         "l_bpFaced": 7,
         "winner_rank": 330,
         "loser_rank": -1,
         "tourney_spectators": 4245,
         "tourney_revenue": 992731.82,
         "winner_name": "Johannes Haerteis",
         "_deepnote_index_column": 54472
        },
        {
         "player_name": "Jakub Mensik",
         "Unnamed: 0": 94593,
         "tourney_id": "2021-0558",
         "tourney_name": "Prostejov CH",
         "surface": "Clay",
         "draw_size": 32,
         "tourney_level": "C",
         "tourney_date": "2021-06-14",
         "match_num": 244,
         "winner_id": 126623,
         "winner_entry": "nan",
         "winner_hand": "U",
         "winner_ht": -1,
         "winner_ioc": "AUT",
         "winner_age": 23,
         "loser_id": 210084,
         "loser_entry": "WC",
         "loser_name": "nan",
         "loser_hand": "U",
         "loser_ht": -1,
         "loser_ioc": "CZE",
         "loser_age": 15,
         "score": "6-3 6-4",
         "best_of": 3,
         "round": "Q1",
         "minutes": 69,
         "w_ace": 5,
         "w_df": 2,
         "w_svpt": 50,
         "w_1stIn": 28,
         "w_1stWon": 25,
         "w_2ndWon": 15,
         "w_SvGms": 10,
         "w_bpSaved": 0,
         "w_bpFaced": 0,
         "l_ace": -1,
         "l_df": 4,
         "l_svpt": 55,
         "l_1stIn": 30,
         "l_1stWon": 25,
         "l_2ndWon": 11,
         "l_SvGms": 9,
         "l_bpSaved": 3,
         "l_bpFaced": 5,
         "winner_rank": 354,
         "loser_rank": -1,
         "tourney_spectators": 4245,
         "tourney_revenue": 992731.82,
         "winner_name": "Alexander Erler",
         "_deepnote_index_column": 54473
        },
        {
         "player_name": "Lui Maxted",
         "Unnamed: 0": 64183,
         "tourney_id": "2021-0741",
         "tourney_name": "Eastbourne",
         "surface": "Grass",
         "draw_size": 32,
         "tourney_level": "A",
         "tourney_date": "2021-06-21",
         "match_num": 248,
         "winner_id": 105613,
         "winner_entry": "nan",
         "winner_hand": "R",
         "winner_ht": 193,
         "winner_ioc": "SVK",
         "winner_age": 30,
         "loser_id": 210085,
         "loser_entry": "WC",
         "loser_name": "nan",
         "loser_hand": "U",
         "loser_ht": -1,
         "loser_ioc": "GBR",
         "loser_age": 17,
         "score": "6-4 7-6(4)",
         "best_of": 3,
         "round": "Q1",
         "minutes": 85,
         "w_ace": -1,
         "w_df": 3,
         "w_svpt": 69,
         "w_1stIn": 44,
         "w_1stWon": 38,
         "w_2ndWon": 12,
         "w_SvGms": 11,
         "w_bpSaved": 3,
         "w_bpFaced": 4,
         "l_ace": -1,
         "l_df": 3,
         "l_svpt": 89,
         "l_1stIn": 57,
         "l_1stWon": 40,
         "l_2ndWon": 14,
         "l_SvGms": 11,
         "l_bpSaved": 11,
         "l_bpFaced": 13,
         "winner_rank": 94,
         "loser_rank": -1,
         "tourney_spectators": 2757,
         "tourney_revenue": 623831.72,
         "winner_name": "Norbert Gombos",
         "_deepnote_index_column": 54474
        },
        {
         "player_name": "Lui Maxted",
         "Unnamed: 0": 94544,
         "tourney_id": "2021-9522",
         "tourney_name": "Nottingham 2 CH",
         "surface": "Grass",
         "draw_size": 32,
         "tourney_level": "C",
         "tourney_date": "2021-06-14",
         "match_num": 250,
         "winner_id": 200390,
         "winner_entry": "nan",
         "winner_hand": "R",
         "winner_ht": -1,
         "winner_ioc": "POL",
         "winner_age": 22,
         "loser_id": 210085,
         "loser_entry": "WC",
         "loser_name": "nan",
         "loser_hand": "U",
         "loser_ht": -1,
         "loser_ioc": "GBR",
         "loser_age": 17,
         "score": "6-2 6-1",
         "best_of": 3,
         "round": "Q1",
         "minutes": 45,
         "w_ace": -1,
         "w_df": 0,
         "w_svpt": 38,
         "w_1stIn": 30,
         "w_1stWon": 23,
         "w_2ndWon": 7,
         "w_SvGms": 7,
         "w_bpSaved": 1,
         "w_bpFaced": 1,
         "l_ace": 3,
         "l_df": 3,
         "l_svpt": 47,
         "l_1stIn": 28,
         "l_1stWon": 14,
         "l_2ndWon": 6,
         "l_SvGms": 8,
         "l_bpSaved": 4,
         "l_bpFaced": 9,
         "winner_rank": 169,
         "loser_rank": -1,
         "tourney_spectators": 2386,
         "tourney_revenue": 495250.69,
         "winner_name": "Kacper Zuk",
         "_deepnote_index_column": 54474
        },
        {
         "player_name": "Lorenzo Angelini",
         "Unnamed: 0": 94503,
         "tourney_id": "2021-9357",
         "tourney_name": "Forli CH",
         "surface": "Clay",
         "draw_size": 32,
         "tourney_level": "C",
         "tourney_date": "2021-06-14",
         "match_num": 248,
         "winner_id": 202058,
         "winner_entry": "nan",
         "winner_hand": "R",
         "winner_ht": -1,
         "winner_ioc": "ARG",
         "winner_age": 20,
         "loser_id": 210086,
         "loser_entry": "WC",
         "loser_name": "nan",
         "loser_hand": "U",
         "loser_ht": -1,
         "loser_ioc": "ITA",
         "loser_age": 15,
         "score": "6-0 6-4",
         "best_of": 3,
         "round": "Q1",
         "minutes": 72,
         "w_ace": 3,
         "w_df": 1,
         "w_svpt": 45,
         "w_1stIn": 31,
         "w_1stWon": 25,
         "w_2ndWon": 10,
         "w_SvGms": 8,
         "w_bpSaved": 3,
         "w_bpFaced": 3,
         "l_ace": 0,
         "l_df": 3,
         "l_svpt": 65,
         "l_1stIn": 41,
         "l_1stWon": 21,
         "l_2ndWon": 12,
         "l_SvGms": 8,
         "l_bpSaved": 5,
         "l_bpFaced": 9,
         "winner_rank": 331,
         "loser_rank": -1,
         "tourney_spectators": 3031,
         "tourney_revenue": 566031.89,
         "winner_name": "Thiago Agustin Tirante",
         "_deepnote_index_column": 54475
        },
        {
         "player_name": "Michele Vianello",
         "Unnamed: 0": 94508,
         "tourney_id": "2021-9357",
         "tourney_name": "Forli CH",
         "surface": "Clay",
         "draw_size": 32,
         "tourney_level": "C",
         "tourney_date": "2021-06-14",
         "match_num": 243,
         "winner_id": 104563,
         "winner_entry": "nan",
         "winner_hand": "R",
         "winner_ht": -1,
         "winner_ioc": "ITA",
         "winner_age": 36,
         "loser_id": 210087,
         "loser_entry": "WC",
         "loser_name": "nan",
         "loser_hand": "R",
         "loser_ht": -1,
         "loser_ioc": "ITA",
         "loser_age": 20,
         "score": "6-3 6-4",
         "best_of": 3,
         "round": "Q1",
         "minutes": 90,
         "w_ace": 1,
         "w_df": 0,
         "w_svpt": 53,
         "w_1stIn": 38,
         "w_1stWon": 26,
         "w_2ndWon": 7,
         "w_SvGms": 10,
         "w_bpSaved": 2,
         "w_bpFaced": 4,
         "l_ace": 2,
         "l_df": 1,
         "l_svpt": 61,
         "l_1stIn": 42,
         "l_1stWon": 21,
         "l_2ndWon": 9,
         "l_SvGms": 9,
         "l_bpSaved": 2,
         "l_bpFaced": 6,
         "winner_rank": 433,
         "loser_rank": -1,
         "tourney_spectators": 3031,
         "tourney_revenue": 566031.89,
         "winner_name": "Luca Vanni",
         "_deepnote_index_column": 54476
        },
        {
         "player_name": "Michele Vianello",
         "Unnamed: 0": 95338,
         "tourney_id": "2021-2120",
         "tourney_name": "Cordenons CH",
         "surface": "Clay",
         "draw_size": 32,
         "tourney_level": "C",
         "tourney_date": "2021-08-02",
         "match_num": 250,
         "winner_id": 207608,
         "winner_entry": "Alt",
         "winner_hand": "R",
         "winner_ht": -1,
         "winner_ioc": "RUS",
         "winner_age": 20,
         "loser_id": 210087,
         "loser_entry": "WC",
         "loser_name": "nan",
         "loser_hand": "R",
         "loser_ht": -1,
         "loser_ioc": "ITA",
         "loser_age": 20,
         "score": "6-4 6-4",
         "best_of": 3,
         "round": "Q1",
         "minutes": 96,
         "w_ace": 0,
         "w_df": 4,
         "w_svpt": 50,
         "w_1stIn": 36,
         "w_1stWon": 25,
         "w_2ndWon": 8,
         "w_SvGms": 10,
         "w_bpSaved": 1,
         "w_bpFaced": 4,
         "l_ace": 2,
         "l_df": 3,
         "l_svpt": 64,
         "l_1stIn": 45,
         "l_1stWon": 28,
         "l_2ndWon": 5,
         "l_SvGms": 10,
         "l_bpSaved": 2,
         "l_bpFaced": 7,
         "winner_rank": 291,
         "loser_rank": -1,
         "tourney_spectators": 2876,
         "tourney_revenue": 543907.53,
         "winner_name": "Timofey Skatov",
         "_deepnote_index_column": 54476
        },
        {
         "player_name": "Ben Shelton",
         "Unnamed: 0": 95003,
         "tourney_id": "2021-7316",
         "tourney_name": "Cary CH",
         "surface": "Hard",
         "draw_size": 32,
         "tourney_level": "C",
         "tourney_date": "2021-07-19",
         "match_num": 254,
         "winner_id": 206499,
         "winner_entry": "nan",
         "winner_hand": "U",
         "winner_ht": -1,
         "winner_ioc": "USA",
         "winner_age": 22,
         "loser_id": 210097,
         "loser_entry": "WC",
         "loser_name": "nan",
         "loser_hand": "L",
         "loser_ht": -1,
         "loser_ioc": "USA",
         "loser_age": 18,
         "score": "6-3 6-4",
         "best_of": 3,
         "round": "Q2",
         "minutes": 85,
         "w_ace": -1,
         "w_df": 4,
         "w_svpt": 74,
         "w_1stIn": 45,
         "w_1stWon": 34,
         "w_2ndWon": 16,
         "w_SvGms": 10,
         "w_bpSaved": 8,
         "w_bpFaced": 8,
         "l_ace": -1,
         "l_df": 5,
         "l_svpt": 55,
         "l_1stIn": 31,
         "l_1stWon": 24,
         "l_2ndWon": 12,
         "l_SvGms": 9,
         "l_bpSaved": 3,
         "l_bpFaced": 5,
         "winner_rank": 413,
         "loser_rank": 1835,
         "tourney_spectators": 3074,
         "tourney_revenue": 583894.56,
         "winner_name": "Aleksandar Kovacevic",
         "_deepnote_index_column": 54485
        },
        {
         "player_name": "William Jansen",
         "Unnamed: 0": 64393,
         "tourney_id": "2021-540",
         "tourney_name": "Wimbledon",
         "surface": "Grass",
         "draw_size": 128,
         "tourney_level": "G",
         "tourney_date": "2021-06-28",
         "match_num": 138,
         "winner_id": 207760,
         "winner_entry": "WC",
         "winner_hand": "U",
         "winner_ht": -1,
         "winner_ioc": "GBR",
         "winner_age": 20,
         "loser_id": 210117,
         "loser_entry": "WC",
         "loser_name": "nan",
         "loser_hand": "L",
         "loser_ht": -1,
         "loser_ioc": "GBR",
         "loser_age": 16,
         "score": "4-6 6-0 6-4",
         "best_of": 3,
         "round": "Q1",
         "minutes": 98,
         "w_ace": -1,
         "w_df": 7,
         "w_svpt": 86,
         "w_1stIn": 46,
         "w_1stWon": 29,
         "w_2ndWon": 19,
         "w_SvGms": 13,
         "w_bpSaved": 7,
         "w_bpFaced": 12,
         "l_ace": 4,
         "l_df": 7,
         "l_svpt": 94,
         "l_1stIn": 53,
         "l_1stWon": 28,
         "l_2ndWon": 17,
         "l_SvGms": 13,
         "l_bpSaved": 8,
         "l_bpFaced": 16,
         "winner_rank": 454,
         "loser_rank": -1,
         "tourney_spectators": 14566,
         "tourney_revenue": 5002793.97,
         "winner_name": "Anton Matusevich",
         "_deepnote_index_column": 54504
        },
        {
         "player_name": "Jasza Szajrych",
         "Unnamed: 0": 95719,
         "tourney_id": "2021-9548",
         "tourney_name": "Warsaw CH",
         "surface": "Clay",
         "draw_size": 32,
         "tourney_level": "C",
         "tourney_date": "2021-08-23",
         "match_num": 247,
         "winner_id": 105060,
         "winner_entry": "nan",
         "winner_hand": "R",
         "winner_ht": 193,
         "winner_ioc": "BIH",
         "winner_age": 33,
         "loser_id": 210155,
         "loser_entry": "WC",
         "loser_name": "nan",
         "loser_hand": "U",
         "loser_ht": -1,
         "loser_ioc": "POL",
         "loser_age": 23,
         "score": "6-0 6-4",
         "best_of": 3,
         "round": "Q1",
         "minutes": 86,
         "w_ace": 1,
         "w_df": 2,
         "w_svpt": 42,
         "w_1stIn": 28,
         "w_1stWon": 21,
         "w_2ndWon": 6,
         "w_SvGms": 8,
         "w_bpSaved": 0,
         "w_bpFaced": 2,
         "l_ace": 3,
         "l_df": 2,
         "l_svpt": 61,
         "l_1stIn": 28,
         "l_1stWon": 14,
         "l_2ndWon": 13,
         "l_SvGms": 8,
         "l_bpSaved": 4,
         "l_bpFaced": 10,
         "winner_rank": 450,
         "loser_rank": -1,
         "tourney_spectators": 3839,
         "tourney_revenue": 605329.45,
         "winner_name": "Aldin Setkic",
         "_deepnote_index_column": 54540
        }
       ]
      },
      "text/plain": "            player_name  Unnamed: 0 tourney_id     tourney_name surface  \\\n643    Alexander Zverev         352   2019-580  Australian Open    Hard   \n643    Alexander Zverev         363   2019-580  Australian Open    Hard   \n643    Alexander Zverev         364   2019-580  Australian Open    Hard   \n643    Alexander Zverev        1145  2019-M004         Acapulco    Hard   \n643    Alexander Zverev        1149  2019-M004         Acapulco    Hard   \n...                 ...         ...        ...              ...     ...   \n54476  Michele Vianello       94508  2021-9357         Forli CH    Clay   \n54476  Michele Vianello       95338  2021-2120     Cordenons CH    Clay   \n54485       Ben Shelton       95003  2021-7316          Cary CH    Hard   \n54504    William Jansen       64393   2021-540        Wimbledon   Grass   \n54540    Jasza Szajrych       95719  2021-9548        Warsaw CH    Clay   \n\n       draw_size tourney_level tourney_date  match_num  winner_id  ...  \\\n643          128             G   2019-01-14        200     100644  ...   \n643          128             G   2019-01-14        116     100644  ...   \n643          128             G   2019-01-14        172     100644  ...   \n643           32             A   2019-02-25        298     100644  ...   \n643           32             A   2019-02-25        294     100644  ...   \n...          ...           ...          ...        ...        ...  ...   \n54476         32             C   2021-06-14        243     104563  ...   \n54476         32             C   2021-08-02        250     207608  ...   \n54485         32             C   2021-07-19        254     206499  ...   \n54504        128             G   2021-06-28        138     207760  ...   \n54540         32             C   2021-08-23        247     105060  ...   \n\n      l_1stWon l_2ndWon  l_SvGms l_bpSaved  l_bpFaced  winner_rank loser_rank  \\\n643       37.0     12.0     13.0       6.0       12.0            4        155   \n643       34.0      8.0     13.0       2.0        8.0            4         67   \n643       86.0     29.0     26.0      12.0       17.0            4         36   \n643       29.0      8.0     10.0       2.0        4.0            3         64   \n643       28.0     11.0     10.0       0.0        2.0            3         26   \n...        ...      ...      ...       ...        ...          ...        ...   \n54476     21.0      9.0      9.0       2.0        6.0          433         -1   \n54476     28.0      5.0     10.0       2.0        7.0          291         -1   \n54485     24.0     12.0      9.0       3.0        5.0          413       1835   \n54504     28.0     17.0     13.0       8.0       16.0          454         -1   \n54540     14.0     13.0      8.0       4.0       10.0          450         -1   \n\n      tourney_spectators tourney_revenue           winner_name  \n643              15583.0      2781000.18                   NaN  \n643              15583.0      2781000.18                   NaN  \n643              15583.0      2781000.18                   NaN  \n643               3398.0       655207.08                   NaN  \n643               3398.0       655207.08                   NaN  \n...                  ...             ...                   ...  \n54476             3031.0       566031.89            Luca Vanni  \n54476             2876.0       543907.53        Timofey Skatov  \n54485             3074.0       583894.56  Aleksandar Kovacevic  \n54504            14566.0      5002793.97      Anton Matusevich  \n54540             3839.0       605329.45          Aldin Setkic  \n\n[116822 rows x 49 columns]",
      "text/html": "<div>\n<style scoped>\n    .dataframe tbody tr th:only-of-type {\n        vertical-align: middle;\n    }\n\n    .dataframe tbody tr th {\n        vertical-align: top;\n    }\n\n    .dataframe thead th {\n        text-align: right;\n    }\n</style>\n<table border=\"1\" class=\"dataframe\">\n  <thead>\n    <tr style=\"text-align: right;\">\n      <th></th>\n      <th>player_name</th>\n      <th>Unnamed: 0</th>\n      <th>tourney_id</th>\n      <th>tourney_name</th>\n      <th>surface</th>\n      <th>draw_size</th>\n      <th>tourney_level</th>\n      <th>tourney_date</th>\n      <th>match_num</th>\n      <th>winner_id</th>\n      <th>...</th>\n      <th>l_1stWon</th>\n      <th>l_2ndWon</th>\n      <th>l_SvGms</th>\n      <th>l_bpSaved</th>\n      <th>l_bpFaced</th>\n      <th>winner_rank</th>\n      <th>loser_rank</th>\n      <th>tourney_spectators</th>\n      <th>tourney_revenue</th>\n      <th>winner_name</th>\n    </tr>\n  </thead>\n  <tbody>\n    <tr>\n      <th>643</th>\n      <td>Alexander Zverev</td>\n      <td>352</td>\n      <td>2019-580</td>\n      <td>Australian Open</td>\n      <td>Hard</td>\n      <td>128</td>\n      <td>G</td>\n      <td>2019-01-14</td>\n      <td>200</td>\n      <td>100644</td>\n      <td>...</td>\n      <td>37.0</td>\n      <td>12.0</td>\n      <td>13.0</td>\n      <td>6.0</td>\n      <td>12.0</td>\n      <td>4</td>\n      <td>155</td>\n      <td>15583.0</td>\n      <td>2781000.18</td>\n      <td>NaN</td>\n    </tr>\n    <tr>\n      <th>643</th>\n      <td>Alexander Zverev</td>\n      <td>363</td>\n      <td>2019-580</td>\n      <td>Australian Open</td>\n      <td>Hard</td>\n      <td>128</td>\n      <td>G</td>\n      <td>2019-01-14</td>\n      <td>116</td>\n      <td>100644</td>\n      <td>...</td>\n      <td>34.0</td>\n      <td>8.0</td>\n      <td>13.0</td>\n      <td>2.0</td>\n      <td>8.0</td>\n      <td>4</td>\n      <td>67</td>\n      <td>15583.0</td>\n      <td>2781000.18</td>\n      <td>NaN</td>\n    </tr>\n    <tr>\n      <th>643</th>\n      <td>Alexander Zverev</td>\n      <td>364</td>\n      <td>2019-580</td>\n      <td>Australian Open</td>\n      <td>Hard</td>\n      <td>128</td>\n      <td>G</td>\n      <td>2019-01-14</td>\n      <td>172</td>\n      <td>100644</td>\n      <td>...</td>\n      <td>86.0</td>\n      <td>29.0</td>\n      <td>26.0</td>\n      <td>12.0</td>\n      <td>17.0</td>\n      <td>4</td>\n      <td>36</td>\n      <td>15583.0</td>\n      <td>2781000.18</td>\n      <td>NaN</td>\n    </tr>\n    <tr>\n      <th>643</th>\n      <td>Alexander Zverev</td>\n      <td>1145</td>\n      <td>2019-M004</td>\n      <td>Acapulco</td>\n      <td>Hard</td>\n      <td>32</td>\n      <td>A</td>\n      <td>2019-02-25</td>\n      <td>298</td>\n      <td>100644</td>\n      <td>...</td>\n      <td>29.0</td>\n      <td>8.0</td>\n      <td>10.0</td>\n      <td>2.0</td>\n      <td>4.0</td>\n      <td>3</td>\n      <td>64</td>\n      <td>3398.0</td>\n      <td>655207.08</td>\n      <td>NaN</td>\n    </tr>\n    <tr>\n      <th>643</th>\n      <td>Alexander Zverev</td>\n      <td>1149</td>\n      <td>2019-M004</td>\n      <td>Acapulco</td>\n      <td>Hard</td>\n      <td>32</td>\n      <td>A</td>\n      <td>2019-02-25</td>\n      <td>294</td>\n      <td>100644</td>\n      <td>...</td>\n      <td>28.0</td>\n      <td>11.0</td>\n      <td>10.0</td>\n      <td>0.0</td>\n      <td>2.0</td>\n      <td>3</td>\n      <td>26</td>\n      <td>3398.0</td>\n      <td>655207.08</td>\n      <td>NaN</td>\n    </tr>\n    <tr>\n      <th>...</th>\n      <td>...</td>\n      <td>...</td>\n      <td>...</td>\n      <td>...</td>\n      <td>...</td>\n      <td>...</td>\n      <td>...</td>\n      <td>...</td>\n      <td>...</td>\n      <td>...</td>\n      <td>...</td>\n      <td>...</td>\n      <td>...</td>\n      <td>...</td>\n      <td>...</td>\n      <td>...</td>\n      <td>...</td>\n      <td>...</td>\n      <td>...</td>\n      <td>...</td>\n      <td>...</td>\n    </tr>\n    <tr>\n      <th>54476</th>\n      <td>Michele Vianello</td>\n      <td>94508</td>\n      <td>2021-9357</td>\n      <td>Forli CH</td>\n      <td>Clay</td>\n      <td>32</td>\n      <td>C</td>\n      <td>2021-06-14</td>\n      <td>243</td>\n      <td>104563</td>\n      <td>...</td>\n      <td>21.0</td>\n      <td>9.0</td>\n      <td>9.0</td>\n      <td>2.0</td>\n      <td>6.0</td>\n      <td>433</td>\n      <td>-1</td>\n      <td>3031.0</td>\n      <td>566031.89</td>\n      <td>Luca Vanni</td>\n    </tr>\n    <tr>\n      <th>54476</th>\n      <td>Michele Vianello</td>\n      <td>95338</td>\n      <td>2021-2120</td>\n      <td>Cordenons CH</td>\n      <td>Clay</td>\n      <td>32</td>\n      <td>C</td>\n      <td>2021-08-02</td>\n      <td>250</td>\n      <td>207608</td>\n      <td>...</td>\n      <td>28.0</td>\n      <td>5.0</td>\n      <td>10.0</td>\n      <td>2.0</td>\n      <td>7.0</td>\n      <td>291</td>\n      <td>-1</td>\n      <td>2876.0</td>\n      <td>543907.53</td>\n      <td>Timofey Skatov</td>\n    </tr>\n    <tr>\n      <th>54485</th>\n      <td>Ben Shelton</td>\n      <td>95003</td>\n      <td>2021-7316</td>\n      <td>Cary CH</td>\n      <td>Hard</td>\n      <td>32</td>\n      <td>C</td>\n      <td>2021-07-19</td>\n      <td>254</td>\n      <td>206499</td>\n      <td>...</td>\n      <td>24.0</td>\n      <td>12.0</td>\n      <td>9.0</td>\n      <td>3.0</td>\n      <td>5.0</td>\n      <td>413</td>\n      <td>1835</td>\n      <td>3074.0</td>\n      <td>583894.56</td>\n      <td>Aleksandar Kovacevic</td>\n    </tr>\n    <tr>\n      <th>54504</th>\n      <td>William Jansen</td>\n      <td>64393</td>\n      <td>2021-540</td>\n      <td>Wimbledon</td>\n      <td>Grass</td>\n      <td>128</td>\n      <td>G</td>\n      <td>2021-06-28</td>\n      <td>138</td>\n      <td>207760</td>\n      <td>...</td>\n      <td>28.0</td>\n      <td>17.0</td>\n      <td>13.0</td>\n      <td>8.0</td>\n      <td>16.0</td>\n      <td>454</td>\n      <td>-1</td>\n      <td>14566.0</td>\n      <td>5002793.97</td>\n      <td>Anton Matusevich</td>\n    </tr>\n    <tr>\n      <th>54540</th>\n      <td>Jasza Szajrych</td>\n      <td>95719</td>\n      <td>2021-9548</td>\n      <td>Warsaw CH</td>\n      <td>Clay</td>\n      <td>32</td>\n      <td>C</td>\n      <td>2021-08-23</td>\n      <td>247</td>\n      <td>105060</td>\n      <td>...</td>\n      <td>14.0</td>\n      <td>13.0</td>\n      <td>8.0</td>\n      <td>4.0</td>\n      <td>10.0</td>\n      <td>450</td>\n      <td>-1</td>\n      <td>3839.0</td>\n      <td>605329.45</td>\n      <td>Aldin Setkic</td>\n    </tr>\n  </tbody>\n</table>\n<p>116822 rows × 49 columns</p>\n</div>"
     },
     "metadata": {}
    }
   ],
   "execution_count": 17
  },
  {
   "cell_type": "markdown",
   "source": "df_male_matches.describe()",
   "metadata": {
    "tags": [],
    "cell_id": "00003-d9eb7dfe-07d7-48d4-8186-6b484be7d7ce",
    "deepnote_cell_type": "markdown"
   }
  },
  {
   "cell_type": "code",
   "metadata": {
    "tags": [],
    "cell_id": "00004-ec7627c3-2f5a-41ac-833e-11db4cfc18c0",
    "deepnote_to_be_reexecuted": false,
    "source_hash": "36b60bd4",
    "execution_start": 1635001153917,
    "execution_millis": 1402,
    "deepnote_cell_type": "code"
   },
   "source": "df_female_players_tmp = pd.DataFrame()\ndf_female_players_tmp['player_name'] = df_female_players['name'] + ' ' + df_female_players['surname']\ndf_female_winners = df_female_players_tmp.join(df_matches.set_index('winner_name'), on='player_name', how='inner')\ndf_female_losers = df_female_players_tmp.join(df_matches.set_index('loser_name'), on='player_name', how='inner')\ndf_female_matches = pd.concat([df_female_winners, df_female_losers])",
   "execution_count": 18,
   "outputs": []
  },
  {
   "cell_type": "code",
   "source": "df_male_matches_reduced = df_male_losers[['player_name', 'winner_id', 'winner_ht', 'winner_age', 'tourney_date']]\ndf_male_matches_reduced[df_male_matches_reduced['player_name'] == 'Aaron Addison']\n#df_male_matches_reduced.groupby('player_name').agg('mean')",
   "metadata": {
    "tags": [],
    "cell_id": "00008-e08de8e1-aa1f-4779-9bda-64006252c48f",
    "deepnote_to_be_reexecuted": false,
    "source_hash": "b493f07e",
    "execution_start": 1635001155328,
    "execution_millis": 59,
    "deepnote_cell_type": "code"
   },
   "outputs": [
    {
     "output_type": "execute_result",
     "execution_count": 19,
     "data": {
      "application/vnd.deepnote.dataframe.v2+json": {
       "row_count": 9,
       "column_count": 5,
       "columns": [
        {
         "name": "player_name",
         "dtype": "object",
         "stats": {
          "unique_count": 1,
          "nan_count": 0,
          "categories": [
           {
            "name": "Aaron Addison",
            "count": 9
           }
          ]
         }
        },
        {
         "name": "winner_id",
         "dtype": "int64",
         "stats": {
          "unique_count": 9,
          "nan_count": 0,
          "min": "102864",
          "max": "200640",
          "histogram": [
           {
            "bin_start": 102864,
            "bin_end": 112641.6,
            "count": 5
           },
           {
            "bin_start": 112641.6,
            "bin_end": 122419.2,
            "count": 2
           },
           {
            "bin_start": 122419.2,
            "bin_end": 132196.8,
            "count": 0
           },
           {
            "bin_start": 132196.8,
            "bin_end": 141974.4,
            "count": 0
           },
           {
            "bin_start": 141974.4,
            "bin_end": 151752,
            "count": 0
           },
           {
            "bin_start": 151752,
            "bin_end": 161529.6,
            "count": 0
           },
           {
            "bin_start": 161529.6,
            "bin_end": 171307.2,
            "count": 0
           },
           {
            "bin_start": 171307.2,
            "bin_end": 181084.8,
            "count": 0
           },
           {
            "bin_start": 181084.8,
            "bin_end": 190862.40000000002,
            "count": 0
           },
           {
            "bin_start": 190862.40000000002,
            "bin_end": 200640,
            "count": 2
           }
          ]
         }
        },
        {
         "name": "winner_ht",
         "dtype": "int64",
         "stats": {
          "unique_count": 2,
          "nan_count": 0,
          "min": "-1",
          "max": "193",
          "histogram": [
           {
            "bin_start": -1,
            "bin_end": 18.4,
            "count": 8
           },
           {
            "bin_start": 18.4,
            "bin_end": 37.8,
            "count": 0
           },
           {
            "bin_start": 37.8,
            "bin_end": 57.199999999999996,
            "count": 0
           },
           {
            "bin_start": 57.199999999999996,
            "bin_end": 76.6,
            "count": 0
           },
           {
            "bin_start": 76.6,
            "bin_end": 96,
            "count": 0
           },
           {
            "bin_start": 96,
            "bin_end": 115.39999999999999,
            "count": 0
           },
           {
            "bin_start": 115.39999999999999,
            "bin_end": 134.79999999999998,
            "count": 0
           },
           {
            "bin_start": 134.79999999999998,
            "bin_end": 154.2,
            "count": 0
           },
           {
            "bin_start": 154.2,
            "bin_end": 173.6,
            "count": 0
           },
           {
            "bin_start": 173.6,
            "bin_end": 193,
            "count": 1
           }
          ]
         }
        },
        {
         "name": "winner_age",
         "dtype": "int64",
         "stats": {
          "unique_count": 7,
          "nan_count": 0,
          "min": "18",
          "max": "30",
          "histogram": [
           {
            "bin_start": 18,
            "bin_end": 19.2,
            "count": 4
           },
           {
            "bin_start": 19.2,
            "bin_end": 20.4,
            "count": 0
           },
           {
            "bin_start": 20.4,
            "bin_end": 21.6,
            "count": 1
           },
           {
            "bin_start": 21.6,
            "bin_end": 22.8,
            "count": 0
           },
           {
            "bin_start": 22.8,
            "bin_end": 24,
            "count": 1
           },
           {
            "bin_start": 24,
            "bin_end": 25.2,
            "count": 1
           },
           {
            "bin_start": 25.2,
            "bin_end": 26.4,
            "count": 1
           },
           {
            "bin_start": 26.4,
            "bin_end": 27.6,
            "count": 0
           },
           {
            "bin_start": 27.6,
            "bin_end": 28.799999999999997,
            "count": 0
           },
           {
            "bin_start": 28.799999999999997,
            "bin_end": 30,
            "count": 1
           }
          ]
         }
        },
        {
         "name": "tourney_date",
         "dtype": "object",
         "stats": {
          "unique_count": 9,
          "nan_count": 0,
          "categories": [
           {
            "name": "2016-10-24",
            "count": 1
           },
           {
            "name": "2016-02-01",
            "count": 1
           },
           {
            "name": "7 others",
            "count": 7
           }
          ]
         }
        },
        {
         "name": "_deepnote_index_column",
         "dtype": "int64"
        }
       ],
       "rows_top": [
        {
         "player_name": "Aaron Addison",
         "winner_id": "117357",
         "winner_ht": "-1",
         "winner_age": "19",
         "tourney_date": "2016-10-24",
         "_deepnote_index_column": "31893"
        },
        {
         "player_name": "Aaron Addison",
         "winner_id": "117360",
         "winner_ht": "-1",
         "winner_age": "18",
         "tourney_date": "2016-02-01",
         "_deepnote_index_column": "31893"
        },
        {
         "player_name": "Aaron Addison",
         "winner_id": "102864",
         "winner_ht": "193",
         "winner_age": "18",
         "tourney_date": "2016-01-11",
         "_deepnote_index_column": "31893"
        },
        {
         "player_name": "Aaron Addison",
         "winner_id": "105429",
         "winner_ht": "-1",
         "winner_age": "26",
         "tourney_date": "2016-10-31",
         "_deepnote_index_column": "31893"
        },
        {
         "player_name": "Aaron Addison",
         "winner_id": "111806",
         "winner_ht": "-1",
         "winner_age": "23",
         "tourney_date": "2020-01-13",
         "_deepnote_index_column": "31893"
        },
        {
         "player_name": "Aaron Addison",
         "winner_id": "105349",
         "winner_ht": "-1",
         "winner_age": "30",
         "tourney_date": "2019-10-21",
         "_deepnote_index_column": "31893"
        },
        {
         "player_name": "Aaron Addison",
         "winner_id": "106172",
         "winner_ht": "-1",
         "winner_age": "25",
         "tourney_date": "2019-01-07",
         "_deepnote_index_column": "31893"
        },
        {
         "player_name": "Aaron Addison",
         "winner_id": "200614",
         "winner_ht": "-1",
         "winner_age": "21",
         "tourney_date": "2019-10-28",
         "_deepnote_index_column": "31893"
        },
        {
         "player_name": "Aaron Addison",
         "winner_id": "200640",
         "winner_ht": "-1",
         "winner_age": "19",
         "tourney_date": "2018-10-22",
         "_deepnote_index_column": "31893"
        }
       ],
       "rows_bottom": null
      },
      "text/plain": "         player_name  winner_id  winner_ht  winner_age tourney_date\n31893  Aaron Addison     117357         -1          19   2016-10-24\n31893  Aaron Addison     117360         -1          18   2016-02-01\n31893  Aaron Addison     102864        193          18   2016-01-11\n31893  Aaron Addison     105429         -1          26   2016-10-31\n31893  Aaron Addison     111806         -1          23   2020-01-13\n31893  Aaron Addison     105349         -1          30   2019-10-21\n31893  Aaron Addison     106172         -1          25   2019-01-07\n31893  Aaron Addison     200614         -1          21   2019-10-28\n31893  Aaron Addison     200640         -1          19   2018-10-22",
      "text/html": "<div>\n<style scoped>\n    .dataframe tbody tr th:only-of-type {\n        vertical-align: middle;\n    }\n\n    .dataframe tbody tr th {\n        vertical-align: top;\n    }\n\n    .dataframe thead th {\n        text-align: right;\n    }\n</style>\n<table border=\"1\" class=\"dataframe\">\n  <thead>\n    <tr style=\"text-align: right;\">\n      <th></th>\n      <th>player_name</th>\n      <th>winner_id</th>\n      <th>winner_ht</th>\n      <th>winner_age</th>\n      <th>tourney_date</th>\n    </tr>\n  </thead>\n  <tbody>\n    <tr>\n      <th>31893</th>\n      <td>Aaron Addison</td>\n      <td>117357</td>\n      <td>-1</td>\n      <td>19</td>\n      <td>2016-10-24</td>\n    </tr>\n    <tr>\n      <th>31893</th>\n      <td>Aaron Addison</td>\n      <td>117360</td>\n      <td>-1</td>\n      <td>18</td>\n      <td>2016-02-01</td>\n    </tr>\n    <tr>\n      <th>31893</th>\n      <td>Aaron Addison</td>\n      <td>102864</td>\n      <td>193</td>\n      <td>18</td>\n      <td>2016-01-11</td>\n    </tr>\n    <tr>\n      <th>31893</th>\n      <td>Aaron Addison</td>\n      <td>105429</td>\n      <td>-1</td>\n      <td>26</td>\n      <td>2016-10-31</td>\n    </tr>\n    <tr>\n      <th>31893</th>\n      <td>Aaron Addison</td>\n      <td>111806</td>\n      <td>-1</td>\n      <td>23</td>\n      <td>2020-01-13</td>\n    </tr>\n    <tr>\n      <th>31893</th>\n      <td>Aaron Addison</td>\n      <td>105349</td>\n      <td>-1</td>\n      <td>30</td>\n      <td>2019-10-21</td>\n    </tr>\n    <tr>\n      <th>31893</th>\n      <td>Aaron Addison</td>\n      <td>106172</td>\n      <td>-1</td>\n      <td>25</td>\n      <td>2019-01-07</td>\n    </tr>\n    <tr>\n      <th>31893</th>\n      <td>Aaron Addison</td>\n      <td>200614</td>\n      <td>-1</td>\n      <td>21</td>\n      <td>2019-10-28</td>\n    </tr>\n    <tr>\n      <th>31893</th>\n      <td>Aaron Addison</td>\n      <td>200640</td>\n      <td>-1</td>\n      <td>19</td>\n      <td>2018-10-22</td>\n    </tr>\n  </tbody>\n</table>\n</div>"
     },
     "metadata": {}
    }
   ],
   "execution_count": 19
  },
  {
   "cell_type": "markdown",
   "source": "- name\n- hand\n- sex\n- nationality\n- win percentage\n- tot match\n- number of won tournment",
   "metadata": {
    "tags": [],
    "cell_id": "00009-063779da-414d-41b2-bf8e-86943e276433",
    "deepnote_cell_type": "markdown"
   }
  },
  {
   "cell_type": "code",
   "source": "",
   "metadata": {
    "tags": [],
    "cell_id": "00010-c39544a0-9a96-4ea7-a43f-44b295e0977c",
    "deepnote_cell_type": "code"
   },
   "outputs": [],
   "execution_count": null
  },
  {
   "cell_type": "code",
   "source": "df_player = pd.DataFrame()\n\nlist_of_male_names = df_male_players_tmp['player_name'].unique()\nprint(f\"Lunghezza lista: {len(list_of_male_names)}\")\ndf_player['Name'] = list_of_male_names\ndf_player['Sex'] = 'M'\ni = 0\n\nfor name in list_of_male_names:\n    \n    df_player_matches = df_matches[(df_matches['winner_name'] == name) | (df_matches['loser_name'] == name)]\n\n    #player's hand\n    df_h = [x for x in df_player_matches[(df_player_matches['winner_name'] == name) &  (df_player_matches['winner_hand'] != 'U')]['winner_hand']]\n    if len(df_h) > 0:\n        df_player.loc[df_player['Name'] == name, 'Hand'] = df_h[0]\n    else:\n        df_h = [x for x in df_player_matches[(df_player_matches['loser_name'] == name) &  (df_player_matches['loser_hand'] != 'U')]['loser_hand']]\n        if len(df_h) > 0:\n            df_player.loc[df_player['Name'] == name, 'Hand'] = df_h[0]\n        else:\n            df_player.loc[df_player['Name'] == name, 'Hand'] = 'U'\n\n    #player's nationality\n    df_h = [x for x in df_player_matches[(df_player_matches['winner_name'] == name) &  (df_player_matches['winner_ioc'] != None)]['winner_ioc']]\n    if len(df_h) > 0:\n        df_player.loc[df_player['Name'] == name, 'IOC'] = df_h[0]\n    else:\n        df_h = [x for x in df_player_matches[(df_player_matches['loser_name'] == name) &  (df_player_matches['loser_ioc'] != 'U')]['loser_ioc']]\n        if len(df_h) > 0:\n            df_player.loc[df_player['Name'] == name, 'IOC'] = df_h[0]\n        else:\n            df_player.loc[df_player['Name'] == name, 'IOC'] = 'Undefined'\n    \n    df_player.loc[df_player['Name'] == name, 'Won_Tournaments'] = df_player_matches[(df_player_matches['round'] == 'F') & (df_player_matches['winner_name'] == name)].shape[0]\n\n    if df_player_matches.shape[0] != 0:\n        df_player.loc[df_player['Name'] == name, 'Number_of_Matches'] = df_player_matches.shape[0]\n        df_player.loc[df_player['Name'] == name, 'Win_Percentage'] = df_player_matches[df_player_matches['winner_name'] == name].shape[0]/df_player_matches.shape[0]",
   "metadata": {
    "tags": [],
    "cell_id": "00010-caf6ceb5-eb96-47e4-8b64-93525701e5cf",
    "deepnote_to_be_reexecuted": false,
    "source_hash": "907b8bef",
    "execution_start": 1635007746905,
    "execution_millis": 3363802,
    "deepnote_cell_type": "code"
   },
   "outputs": [
    {
     "name": "stdout",
     "text": "Lunghezza lista: 54556\n",
     "output_type": "stream"
    }
   ],
   "execution_count": 108
  },
  {
   "cell_type": "markdown",
   "source": "df_players = pd.DataFrame()\ndf_players['name'] = np.append(df_male_players_tmp['player_name'].unique(), df_female_players_tmp['player_name'].unique())\ndf_players['won_matches'] = 0\ndf_players['lost_matches'] = 0\n\nfor index, row in df_matches.iterrows():\n    print(index)\n    df_players.loc[df_players.name == row['winner_name'], 'won_matches'] += 1\n    df_players.loc[df_players.name == row['loser_name'], 'lost_matches'] += 1\n    ",
   "metadata": {
    "tags": [],
    "cell_id": "00012-dda2833d-54e9-47b4-933d-d15d486375f2",
    "deepnote_to_be_reexecuted": false,
    "source_hash": "35672747",
    "execution_start": 1635007219018,
    "execution_millis": 32513,
    "deepnote_cell_type": "markdown"
   },
   "outputs": [],
   "execution_count": 106
  },
  {
   "cell_type": "code",
   "source": "df_player.to_csv(\"../data/cleaned/custom_male_players.csv\", index=False)",
   "metadata": {
    "tags": [],
    "cell_id": "00011-4afa4232-064a-4cdd-a825-a1367e5a9f2b",
    "deepnote_to_be_reexecuted": false,
    "source_hash": "a4232d41",
    "execution_start": 1635011344827,
    "execution_millis": 400,
    "deepnote_cell_type": "code"
   },
   "outputs": [],
   "execution_count": 110
  },
  {
   "cell_type": "code",
   "source": "df_player = pd.DataFrame()\n\nlist_of_female_names = df_female_players_tmp['player_name'].unique()\nprint(f\"Lunghezza lista: {len(list_of_female_names)}\")\ndf_player['Name'] = list_of_female_names\ndf_player['Sex'] = 'F'\ni = 0\n\nfor name in list_of_female_names:\n    \n    df_player_matches = df_matches[(df_matches['winner_name'] == name) | (df_matches['loser_name'] == name)]\n\n    #player's hand\n    df_h = [x for x in df_player_matches[(df_player_matches['winner_name'] == name) &  (df_player_matches['winner_hand'] != 'U')]['winner_hand']]\n    if len(df_h) > 0:\n        df_player.loc[df_player['Name'] == name, 'Hand'] = df_h[0]\n    else:\n        df_h = [x for x in df_player_matches[(df_player_matches['loser_name'] == name) &  (df_player_matches['loser_hand'] != 'U')]['loser_hand']]\n        if len(df_h) > 0:\n            df_player.loc[df_player['Name'] == name, 'Hand'] = df_h[0]\n        else:\n            df_player.loc[df_player['Name'] == name, 'Hand'] = 'U'\n\n    #player's nationality\n    df_h = [x for x in df_player_matches[(df_player_matches['winner_name'] == name) &  (df_player_matches['winner_ioc'] != None)]['winner_ioc']]\n    if len(df_h) > 0:\n        df_player.loc[df_player['Name'] == name, 'IOC'] = df_h[0]\n    else:\n        df_h = [x for x in df_player_matches[(df_player_matches['loser_name'] == name) &  (df_player_matches['loser_ioc'] != 'U')]['loser_ioc']]\n        if len(df_h) > 0:\n            df_player.loc[df_player['Name'] == name, 'IOC'] = df_h[0]\n        else:\n            df_player.loc[df_player['Name'] == name, 'IOC'] = 'Undefined'\n    \n    df_player.loc[df_player['Name'] == name, 'Won_Tournaments'] = df_player_matches[(df_player_matches['round'] == 'F') & (df_player_matches['winner_name'] == name)].shape[0]\n\n    if df_player_matches.shape[0] != 0:\n        df_player.loc[df_player['Name'] == name, 'Number_of_Matches'] = df_player_matches.shape[0]\n        df_player.loc[df_player['Name'] == name, 'Win_Percentage'] = df_player_matches[df_player_matches['winner_name'] == name].shape[0]/df_player_matches.shape[0]",
   "metadata": {
    "tags": [],
    "cell_id": "00014-7bf835a8-d128-4929-9189-eef06801cd36",
    "deepnote_to_be_reexecuted": false,
    "source_hash": "6d732039",
    "execution_start": 1635011351371,
    "execution_millis": 2568670,
    "deepnote_cell_type": "code"
   },
   "outputs": [
    {
     "name": "stdout",
     "text": "Lunghezza lista: 44089\n",
     "output_type": "stream"
    }
   ],
   "execution_count": 111
  },
  {
   "cell_type": "code",
   "source": "df_player.to_csv(\"../data/cleaned/custom_female_players.csv\", index=False)",
   "metadata": {
    "tags": [],
    "cell_id": "00015-d3a12d89-52d4-4d02-b84b-20b533315d22",
    "deepnote_to_be_reexecuted": false,
    "source_hash": "64292724",
    "execution_start": 1635014073451,
    "execution_millis": 349,
    "deepnote_cell_type": "code"
   },
   "outputs": [],
   "execution_count": 113
  },
  {
   "cell_type": "code",
   "source": "#### START FROM H",
   "metadata": {
    "tags": [],
    "cell_id": "00012-c09e5870-3dab-4aca-84c0-41a87fa030d1",
    "deepnote_to_be_reexecuted": true,
    "source_hash": "3a25a6ff",
    "deepnote_cell_type": "code"
   },
   "outputs": [],
   "execution_count": null
  },
  {
   "cell_type": "code",
   "source": "winners = df_matches[['winner_name', 'winner_id']]\nlosers = df_matches[['loser_name', 'loser_id']]\n\nlosers['lost'] = losers.groupby('loser_name')['loser_name'].transform('count')\nwinners['won'] = winners.groupby('winner_name')['winner_name'].transform('count')\n\n",
   "metadata": {
    "tags": [],
    "cell_id": "00013-0e885738-f078-42c9-bed3-bf0208533711",
    "deepnote_to_be_reexecuted": true,
    "source_hash": "3d755176",
    "execution_start": 1635006702446,
    "execution_millis": 263,
    "deepnote_cell_type": "code"
   },
   "outputs": [
    {
     "name": "stderr",
     "text": "/shared-libs/python3.7/py-core/lib/python3.7/site-packages/ipykernel_launcher.py:4: SettingWithCopyWarning: \nA value is trying to be set on a copy of a slice from a DataFrame.\nTry using .loc[row_indexer,col_indexer] = value instead\n\nSee the caveats in the documentation: https://pandas.pydata.org/pandas-docs/stable/user_guide/indexing.html#returning-a-view-versus-a-copy\n  after removing the cwd from sys.path.\n/shared-libs/python3.7/py-core/lib/python3.7/site-packages/ipykernel_launcher.py:5: SettingWithCopyWarning: \nA value is trying to be set on a copy of a slice from a DataFrame.\nTry using .loc[row_indexer,col_indexer] = value instead\n\nSee the caveats in the documentation: https://pandas.pydata.org/pandas-docs/stable/user_guide/indexing.html#returning-a-view-versus-a-copy\n  \"\"\"\n",
     "output_type": "stream"
    },
    {
     "output_type": "execute_result",
     "execution_count": 91,
     "data": {
      "application/vnd.deepnote.dataframe.v2+json": {
       "row_count": 186089,
       "column_count": 3,
       "columns": [
        {
         "name": "winner_name",
         "dtype": "object"
        },
        {
         "name": "winner_id",
         "dtype": "int64"
        },
        {
         "name": "won",
         "dtype": "int64"
        },
        {
         "name": "_deepnote_index_column",
         "dtype": "int64"
        }
       ],
       "rows_top": [
        {
         "winner_name": "Kei Nishikori",
         "winner_id": 105453,
         "won": 191,
         "_deepnote_index_column": 0
        },
        {
         "winner_name": "Daniil Medvedev",
         "winner_id": 106421,
         "won": 267,
         "_deepnote_index_column": 1
        },
        {
         "winner_name": "Kei Nishikori",
         "winner_id": 105453,
         "won": 191,
         "_deepnote_index_column": 2
        },
        {
         "winner_name": "Jo-Wilfried Tsonga",
         "winner_id": 104542,
         "won": 125,
         "_deepnote_index_column": 3
        },
        {
         "winner_name": "Daniil Medvedev",
         "winner_id": 106421,
         "won": 267,
         "_deepnote_index_column": 4
        },
        {
         "winner_name": "Jeremy Chardy",
         "winner_id": 104871,
         "won": 149,
         "_deepnote_index_column": 5
        },
        {
         "winner_name": "Kei Nishikori",
         "winner_id": 105453,
         "won": 191,
         "_deepnote_index_column": 6
        },
        {
         "winner_name": "Jo-Wilfried Tsonga",
         "winner_id": 104542,
         "won": 125,
         "_deepnote_index_column": 7
        },
        {
         "winner_name": "Alex De Minaur",
         "winner_id": 200282,
         "won": 164,
         "_deepnote_index_column": 8
        },
        {
         "winner_name": "Daniil Medvedev",
         "winner_id": 106421,
         "won": 267,
         "_deepnote_index_column": 9
        },
        {
         "winner_name": "Milos Raonic",
         "winner_id": 105683,
         "won": 167,
         "_deepnote_index_column": 10
        },
        {
         "winner_name": "Jeremy Chardy",
         "winner_id": 104871,
         "won": 149,
         "_deepnote_index_column": 11
        },
        {
         "winner_name": "Yasutaka Uchiyama",
         "winner_id": 106034,
         "won": 137,
         "_deepnote_index_column": 12
        },
        {
         "winner_name": "Grigor Dimitrov",
         "winner_id": 105777,
         "won": 171,
         "_deepnote_index_column": 13
        },
        {
         "winner_name": "Kei Nishikori",
         "winner_id": 105453,
         "won": 191,
         "_deepnote_index_column": 14
        },
        {
         "winner_name": "Jo-Wilfried Tsonga",
         "winner_id": 104542,
         "won": 125,
         "_deepnote_index_column": 15
        },
        {
         "winner_name": "Jordan Thompson",
         "winner_id": 111442,
         "won": 201,
         "_deepnote_index_column": 16
        },
        {
         "winner_name": "Alex De Minaur",
         "winner_id": 200282,
         "won": 164,
         "_deepnote_index_column": 17
        },
        {
         "winner_name": "Andy Murray",
         "winner_id": 104918,
         "won": 139,
         "_deepnote_index_column": 18
        },
        {
         "winner_name": "Miomir Kecmanovic",
         "winner_id": 200175,
         "won": 125,
         "_deepnote_index_column": 19
        },
        {
         "winner_name": "Milos Raonic",
         "winner_id": 105683,
         "won": 167,
         "_deepnote_index_column": 20
        },
        {
         "winner_name": "Nick Kyrgios",
         "winner_id": 106401,
         "won": 132,
         "_deepnote_index_column": 21
        },
        {
         "winner_name": "Jeremy Chardy",
         "winner_id": 104871,
         "won": 149,
         "_deepnote_index_column": 22
        },
        {
         "winner_name": "Yasutaka Uchiyama",
         "winner_id": 106034,
         "won": 137,
         "_deepnote_index_column": 23
        },
        {
         "winner_name": "Grigor Dimitrov",
         "winner_id": 105777,
         "won": 171,
         "_deepnote_index_column": 24
        },
        {
         "winner_name": "John Millman",
         "winner_id": 105357,
         "won": 157,
         "_deepnote_index_column": 25
        },
        {
         "winner_name": "Denis Kudla",
         "winner_id": 106045,
         "won": 183,
         "_deepnote_index_column": 26
        },
        {
         "winner_name": "Destanee Aiava",
         "winner_id": 215018,
         "won": 110,
         "_deepnote_index_column": 27
        },
        {
         "winner_name": "Harriet Dart",
         "winner_id": 211279,
         "won": 140,
         "_deepnote_index_column": 28
        },
        {
         "winner_name": "Anastasija Sevastova",
         "winner_id": 201545,
         "won": 173,
         "_deepnote_index_column": 29
        },
        {
         "winner_name": "Petra Kvitova",
         "winner_id": 201520,
         "won": 192,
         "_deepnote_index_column": 30
        },
        {
         "winner_name": "Anett Kontaveit",
         "winner_id": 204426,
         "won": 178,
         "_deepnote_index_column": 31
        },
        {
         "winner_name": "Lesia Tsurenko",
         "winner_id": 201615,
         "won": 120,
         "_deepnote_index_column": 32
        },
        {
         "winner_name": "Kimberly Birrell",
         "winner_id": 214040,
         "won": 39,
         "_deepnote_index_column": 33
        },
        {
         "winner_name": "Karolina Pliskova",
         "winner_id": 201662,
         "won": 244,
         "_deepnote_index_column": 34
        },
        {
         "winner_name": "Marie Bouzkova",
         "winner_id": 213631,
         "won": 197,
         "_deepnote_index_column": 35
        },
        {
         "winner_name": "Ajla Tomljanovic",
         "winner_id": 201548,
         "won": 124,
         "_deepnote_index_column": 36
        },
        {
         "winner_name": "Johanna Konta",
         "winner_id": 202427,
         "won": 175,
         "_deepnote_index_column": 37
        },
        {
         "winner_name": "Kiki Bertens",
         "winner_id": 202428,
         "won": 201,
         "_deepnote_index_column": 38
        },
        {
         "winner_name": "Donna Vekic",
         "winner_id": 202499,
         "won": 158,
         "_deepnote_index_column": 39
        },
        {
         "winner_name": "Aliaksandra Sasnovich",
         "winner_id": 205925,
         "won": 150,
         "_deepnote_index_column": 40
        },
        {
         "winner_name": "Naomi Osaka",
         "winner_id": 211768,
         "won": 180,
         "_deepnote_index_column": 41
        },
        {
         "winner_name": "Anastasija Sevastova",
         "winner_id": 201545,
         "won": 173,
         "_deepnote_index_column": 42
        },
        {
         "winner_name": "Anett Kontaveit",
         "winner_id": 204426,
         "won": 178,
         "_deepnote_index_column": 43
        },
        {
         "winner_name": "Lesia Tsurenko",
         "winner_id": 201615,
         "won": 120,
         "_deepnote_index_column": 44
        },
        {
         "winner_name": "Karolina Pliskova",
         "winner_id": 201662,
         "won": 244,
         "_deepnote_index_column": 45
        },
        {
         "winner_name": "Ajla Tomljanovic",
         "winner_id": 201548,
         "won": 124,
         "_deepnote_index_column": 46
        },
        {
         "winner_name": "Donna Vekic",
         "winner_id": 202499,
         "won": 158,
         "_deepnote_index_column": 47
        },
        {
         "winner_name": "Aliaksandra Sasnovich",
         "winner_id": 205925,
         "won": 150,
         "_deepnote_index_column": 48
        },
        {
         "winner_name": "Naomi Osaka",
         "winner_id": 211768,
         "won": 180,
         "_deepnote_index_column": 49
        },
        {
         "winner_name": "Lesia Tsurenko",
         "winner_id": 201615,
         "won": 120,
         "_deepnote_index_column": 50
        },
        {
         "winner_name": "Karolina Pliskova",
         "winner_id": 201662,
         "won": 244,
         "_deepnote_index_column": 51
        },
        {
         "winner_name": "Donna Vekic",
         "winner_id": 202499,
         "won": 158,
         "_deepnote_index_column": 52
        },
        {
         "winner_name": "Lesia Tsurenko",
         "winner_id": 201615,
         "won": 120,
         "_deepnote_index_column": 53
        },
        {
         "winner_name": "Karolina Pliskova",
         "winner_id": 201662,
         "won": 244,
         "_deepnote_index_column": 54
        },
        {
         "winner_name": "Karolina Pliskova",
         "winner_id": 201662,
         "won": 244,
         "_deepnote_index_column": 55
        },
        {
         "winner_name": "Yasutaka Uchiyama",
         "winner_id": 106034,
         "won": 137,
         "_deepnote_index_column": 56
        },
        {
         "winner_name": "Marc Polmans",
         "winner_id": 117360,
         "won": 114,
         "_deepnote_index_column": 57
        },
        {
         "winner_name": "Thanasi Kokkinakis",
         "winner_id": 106423,
         "won": 72,
         "_deepnote_index_column": 58
        },
        {
         "winner_name": "Cristian Garin",
         "winner_id": 106426,
         "won": 168,
         "_deepnote_index_column": 59
        },
        {
         "winner_name": "Miomir Kecmanovic",
         "winner_id": 200175,
         "won": 125,
         "_deepnote_index_column": 60
        },
        {
         "winner_name": "Taro Daniel",
         "winner_id": 106121,
         "won": 183,
         "_deepnote_index_column": 61
        },
        {
         "winner_name": "Ugo Humbert",
         "winner_id": 200005,
         "won": 132,
         "_deepnote_index_column": 62
        },
        {
         "winner_name": "Christopher Eubanks",
         "winner_id": 111153,
         "won": 99,
         "_deepnote_index_column": 63
        },
        {
         "winner_name": "Yasutaka Uchiyama",
         "winner_id": 106034,
         "won": 137,
         "_deepnote_index_column": 64
        },
        {
         "winner_name": "Thanasi Kokkinakis",
         "winner_id": 106423,
         "won": 72,
         "_deepnote_index_column": 65
        },
        {
         "winner_name": "Miomir Kecmanovic",
         "winner_id": 200175,
         "won": 125,
         "_deepnote_index_column": 66
        },
        {
         "winner_name": "Ugo Humbert",
         "winner_id": 200005,
         "won": 132,
         "_deepnote_index_column": 67
        },
        {
         "winner_name": "Marta Kostyuk",
         "winner_id": 216146,
         "won": 120,
         "_deepnote_index_column": 68
        },
        {
         "winner_name": "Marie Bouzkova",
         "winner_id": 213631,
         "won": 197,
         "_deepnote_index_column": 69
        },
        {
         "winner_name": "Viktorija Golubic",
         "winner_id": 203530,
         "won": 182,
         "_deepnote_index_column": 70
        },
        {
         "winner_name": "Magdalena Frech",
         "winner_id": 211684,
         "won": 193,
         "_deepnote_index_column": 71
        },
        {
         "winner_name": "Kateryna Kozlova",
         "winner_id": 203462,
         "won": 140,
         "_deepnote_index_column": 72
        },
        {
         "winner_name": "Harriet Dart",
         "winner_id": 211279,
         "won": 140,
         "_deepnote_index_column": 73
        },
        {
         "winner_name": "Lucie Hradecka",
         "winner_id": 201556,
         "won": 63,
         "_deepnote_index_column": 74
        },
        {
         "winner_name": "Andrea Petkovic",
         "winner_id": 201492,
         "won": 122,
         "_deepnote_index_column": 75
        },
        {
         "winner_name": "Anastasia Potapova",
         "winner_id": 215713,
         "won": 104,
         "_deepnote_index_column": 76
        },
        {
         "winner_name": "Zoe Hives",
         "winner_id": 211941,
         "won": 68,
         "_deepnote_index_column": 77
        },
        {
         "winner_name": "Karolina Muchova",
         "winner_id": 214096,
         "won": 140,
         "_deepnote_index_column": 78
        },
        {
         "winner_name": "Dayana Yastremska",
         "winner_id": 215035,
         "won": 128,
         "_deepnote_index_column": 79
        },
        {
         "winner_name": "Mandy Minella",
         "winner_id": 201605,
         "won": 129,
         "_deepnote_index_column": 80
        },
        {
         "winner_name": "Destanee Aiava",
         "winner_id": 215018,
         "won": 110,
         "_deepnote_index_column": 81
        },
        {
         "winner_name": "Viktoriya Tomova",
         "winner_id": 202600,
         "won": 186,
         "_deepnote_index_column": 82
        },
        {
         "winner_name": "Christina Mchale",
         "winner_id": 201539,
         "won": 146,
         "_deepnote_index_column": 83
        },
        {
         "winner_name": "Marie Bouzkova",
         "winner_id": 213631,
         "won": 197,
         "_deepnote_index_column": 84
        },
        {
         "winner_name": "Viktorija Golubic",
         "winner_id": 203530,
         "won": 182,
         "_deepnote_index_column": 85
        },
        {
         "winner_name": "Harriet Dart",
         "winner_id": 211279,
         "won": 140,
         "_deepnote_index_column": 86
        },
        {
         "winner_name": "Andrea Petkovic",
         "winner_id": 201492,
         "won": 122,
         "_deepnote_index_column": 87
        },
        {
         "winner_name": "Anastasia Potapova",
         "winner_id": 215713,
         "won": 104,
         "_deepnote_index_column": 88
        },
        {
         "winner_name": "Karolina Muchova",
         "winner_id": 214096,
         "won": 140,
         "_deepnote_index_column": 89
        },
        {
         "winner_name": "Destanee Aiava",
         "winner_id": 215018,
         "won": 110,
         "_deepnote_index_column": 90
        },
        {
         "winner_name": "Christina Mchale",
         "winner_id": 201539,
         "won": 146,
         "_deepnote_index_column": 91
        },
        {
         "winner_name": "Marie Bouzkova",
         "winner_id": 213631,
         "won": 197,
         "_deepnote_index_column": 92
        },
        {
         "winner_name": "Harriet Dart",
         "winner_id": 211279,
         "won": 140,
         "_deepnote_index_column": 93
        },
        {
         "winner_name": "Anastasia Potapova",
         "winner_id": 215713,
         "won": 104,
         "_deepnote_index_column": 94
        },
        {
         "winner_name": "Destanee Aiava",
         "winner_id": 215018,
         "won": 110,
         "_deepnote_index_column": 95
        },
        {
         "winner_name": "Roberto Bautista Agut",
         "winner_id": 105138,
         "won": 220,
         "_deepnote_index_column": 96
        },
        {
         "winner_name": "Roberto Bautista Agut",
         "winner_id": 105138,
         "won": 220,
         "_deepnote_index_column": 97
        },
        {
         "winner_name": "Tomas Berdych",
         "winner_id": 104607,
         "won": 99,
         "_deepnote_index_column": 98
        },
        {
         "winner_name": "Novak Djokovic",
         "winner_id": 104925,
         "won": 289,
         "_deepnote_index_column": 99
        },
        {
         "winner_name": "Roberto Bautista Agut",
         "winner_id": 105138,
         "won": 220,
         "_deepnote_index_column": 100
        },
        {
         "winner_name": "Marco Cecchinato",
         "winner_id": 106065,
         "won": 184,
         "_deepnote_index_column": 101
        },
        {
         "winner_name": "Tomas Berdych",
         "winner_id": 104607,
         "won": 99,
         "_deepnote_index_column": 102
        },
        {
         "winner_name": "Novak Djokovic",
         "winner_id": 104925,
         "won": 289,
         "_deepnote_index_column": 103
        },
        {
         "winner_name": "Nikoloz Basilashvili",
         "winner_id": 105932,
         "won": 163,
         "_deepnote_index_column": 104
        },
        {
         "winner_name": "Stan Wawrinka",
         "winner_id": 104527,
         "won": 147,
         "_deepnote_index_column": 105
        },
        {
         "winner_name": "Roberto Bautista Agut",
         "winner_id": 105138,
         "won": 220,
         "_deepnote_index_column": 106
        },
        {
         "winner_name": "Dusan Lajovic",
         "winner_id": 105583,
         "won": 156,
         "_deepnote_index_column": 107
        },
        {
         "winner_name": "Marco Cecchinato",
         "winner_id": 106065,
         "won": 184,
         "_deepnote_index_column": 108
        },
        {
         "winner_name": "Tomas Berdych",
         "winner_id": 104607,
         "won": 99,
         "_deepnote_index_column": 109
        },
        {
         "winner_name": "Pierre Hugues Herbert",
         "winner_id": 105732,
         "won": 152,
         "_deepnote_index_column": 110
        },
        {
         "winner_name": "Novak Djokovic",
         "winner_id": 104925,
         "won": 289,
         "_deepnote_index_column": 111
        },
        {
         "winner_name": "Marton Fucsovics",
         "winner_id": 105916,
         "won": 197,
         "_deepnote_index_column": 112
        },
        {
         "winner_name": "Andrey Rublev",
         "winner_id": 126094,
         "won": 242,
         "_deepnote_index_column": 113
        },
        {
         "winner_name": "Nikoloz Basilashvili",
         "winner_id": 105932,
         "won": 163,
         "_deepnote_index_column": 114
        },
        {
         "winner_name": "Stan Wawrinka",
         "winner_id": 104527,
         "won": 147,
         "_deepnote_index_column": 115
        },
        {
         "winner_name": "Nicolas Jarry",
         "winner_id": 111797,
         "won": 165,
         "_deepnote_index_column": 116
        },
        {
         "winner_name": "Guillermo Garcia Lopez",
         "winner_id": 104198,
         "won": 127,
         "_deepnote_index_column": 117
        },
        {
         "winner_name": "Roberto Bautista Agut",
         "winner_id": 105138,
         "won": 220,
         "_deepnote_index_column": 118
        },
        {
         "winner_name": "Ricardas Berankis",
         "winner_id": 105575,
         "won": 162,
         "_deepnote_index_column": 119
        },
        {
         "winner_name": "Dusan Lajovic",
         "winner_id": 105583,
         "won": 156,
         "_deepnote_index_column": 120
        },
        {
         "winner_name": "Guido Pella",
         "winner_id": 105550,
         "won": 139,
         "_deepnote_index_column": 121
        },
        {
         "winner_name": "Marco Cecchinato",
         "winner_id": 106065,
         "won": 184,
         "_deepnote_index_column": 122
        },
        {
         "winner_name": "Fernando Verdasco",
         "winner_id": 104269,
         "won": 126,
         "_deepnote_index_column": 123
        },
        {
         "winner_name": "Tomas Berdych",
         "winner_id": 104607,
         "won": 99,
         "_deepnote_index_column": 124
        },
        {
         "winner_name": "Maximilian Marterer",
         "winner_id": 109739,
         "won": 160,
         "_deepnote_index_column": 125
        },
        {
         "winner_name": "Pierre Hugues Herbert",
         "winner_id": 105732,
         "won": 152,
         "_deepnote_index_column": 126
        },
        {
         "winner_name": "Ricardas Berankis",
         "winner_id": 105575,
         "won": 162,
         "_deepnote_index_column": 127
        },
        {
         "winner_name": "Paolo Lorenzi",
         "winner_id": 103893,
         "won": 162,
         "_deepnote_index_column": 128
        },
        {
         "winner_name": "Marcos Baghdatis",
         "winner_id": 104571,
         "won": 81,
         "_deepnote_index_column": 129
        },
        {
         "winner_name": "Guillermo Garcia Lopez",
         "winner_id": 104198,
         "won": 127,
         "_deepnote_index_column": 130
        },
        {
         "winner_name": "Sergiy Stakhovsky",
         "winner_id": 104660,
         "won": 178,
         "_deepnote_index_column": 131
        },
        {
         "winner_name": "Mirza Basic",
         "winner_id": 105806,
         "won": 147,
         "_deepnote_index_column": 132
        },
        {
         "winner_name": "Marco Trungelliti",
         "winner_id": 105477,
         "won": 151,
         "_deepnote_index_column": 133
        },
        {
         "winner_name": "Maximilian Marterer",
         "winner_id": 109739,
         "won": 160,
         "_deepnote_index_column": 134
        },
        {
         "winner_name": "Ricardas Berankis",
         "winner_id": 105575,
         "won": 162,
         "_deepnote_index_column": 135
        },
        {
         "winner_name": "Guillermo Garcia Lopez",
         "winner_id": 104198,
         "won": 127,
         "_deepnote_index_column": 136
        },
        {
         "winner_name": "Sergiy Stakhovsky",
         "winner_id": 104660,
         "won": 178,
         "_deepnote_index_column": 137
        },
        {
         "winner_name": "Maximilian Marterer",
         "winner_id": 109739,
         "won": 160,
         "_deepnote_index_column": 138
        },
        {
         "winner_name": "Kevin Anderson",
         "winner_id": 104731,
         "won": 136,
         "_deepnote_index_column": 139
        },
        {
         "winner_name": "Kevin Anderson",
         "winner_id": 104731,
         "won": 136,
         "_deepnote_index_column": 140
        },
        {
         "winner_name": "Ivo Karlovic",
         "winner_id": 103333,
         "won": 101,
         "_deepnote_index_column": 141
        },
        {
         "winner_name": "Kevin Anderson",
         "winner_id": 104731,
         "won": 136,
         "_deepnote_index_column": 142
        },
        {
         "winner_name": "Gilles Simon",
         "winner_id": 104468,
         "won": 131,
         "_deepnote_index_column": 143
        },
        {
         "winner_name": "Steve Darcis",
         "winner_id": 104327,
         "won": 106,
         "_deepnote_index_column": 144
        },
        {
         "winner_name": "Ivo Karlovic",
         "winner_id": 103333,
         "won": 101,
         "_deepnote_index_column": 145
        },
        {
         "winner_name": "Kevin Anderson",
         "winner_id": 104731,
         "won": 136,
         "_deepnote_index_column": 146
        },
        {
         "winner_name": "Jaume Munar",
         "winner_id": 144719,
         "won": 156,
         "_deepnote_index_column": 147
        },
        {
         "winner_name": "Gilles Simon",
         "winner_id": 104468,
         "won": 131,
         "_deepnote_index_column": 148
        },
        {
         "winner_name": "Benoit Paire",
         "winner_id": 105332,
         "won": 158,
         "_deepnote_index_column": 149
        },
        {
         "winner_name": "Steve Darcis",
         "winner_id": 104327,
         "won": 106,
         "_deepnote_index_column": 150
        },
        {
         "winner_name": "Malek Jaziri",
         "winner_id": 104291,
         "won": 141,
         "_deepnote_index_column": 151
        },
        {
         "winner_name": "Ivo Karlovic",
         "winner_id": 103333,
         "won": 101,
         "_deepnote_index_column": 152
        },
        {
         "winner_name": "Ernests Gulbis",
         "winner_id": 105208,
         "won": 96,
         "_deepnote_index_column": 153
        },
        {
         "winner_name": "Laslo Djere",
         "winner_id": 111513,
         "won": 168,
         "_deepnote_index_column": 154
        },
        {
         "winner_name": "Simone Bolelli",
         "winner_id": 104620,
         "won": 75,
         "_deepnote_index_column": 155
        },
        {
         "winner_name": "Jaume Munar",
         "winner_id": 144719,
         "won": 156,
         "_deepnote_index_column": 156
        },
        {
         "winner_name": "Ilya Ivashka",
         "winner_id": 125802,
         "won": 198,
         "_deepnote_index_column": 157
        },
        {
         "winner_name": "Jiri Vesely",
         "winner_id": 106210,
         "won": 165,
         "_deepnote_index_column": 158
        },
        {
         "winner_name": "Benoit Paire",
         "winner_id": 105332,
         "won": 158,
         "_deepnote_index_column": 159
        },
        {
         "winner_name": "Steve Darcis",
         "winner_id": 104327,
         "won": 106,
         "_deepnote_index_column": 160
        },
        {
         "winner_name": "Michael Mmoh",
         "winner_id": 111581,
         "won": 142,
         "_deepnote_index_column": 161
        },
        {
         "winner_name": "Ramkumar Ramanathan",
         "winner_id": 106368,
         "won": 152,
         "_deepnote_index_column": 162
        },
        {
         "winner_name": "Evgeny Donskoy",
         "winner_id": 105539,
         "won": 160,
         "_deepnote_index_column": 163
        },
        {
         "winner_name": "Ivo Karlovic",
         "winner_id": 103333,
         "won": 101,
         "_deepnote_index_column": 164
        },
        {
         "winner_name": "Ernests Gulbis",
         "winner_id": 105208,
         "won": 96,
         "_deepnote_index_column": 165
        }
       ],
       "rows_bottom": [
        {
         "winner_name": "Sara Errani",
         "winner_id": 201506,
         "won": 138,
         "_deepnote_index_column": 185922
        },
        {
         "winner_name": "Misaki Doi",
         "winner_id": 201595,
         "won": 139,
         "_deepnote_index_column": 185923
        },
        {
         "winner_name": "Clara Tauson",
         "winner_id": 220704,
         "won": 125,
         "_deepnote_index_column": 185924
        },
        {
         "winner_name": "Ann Li",
         "winner_id": 215983,
         "won": 113,
         "_deepnote_index_column": 185925
        },
        {
         "winner_name": "Greetje Minnen",
         "winner_id": 213889,
         "won": 169,
         "_deepnote_index_column": 185926
        },
        {
         "winner_name": "Katarzyna Kawa",
         "winner_id": 203514,
         "won": 109,
         "_deepnote_index_column": 185927
        },
        {
         "winner_name": "Catherine Cartan Bellis",
         "winner_id": 214263,
         "won": 102,
         "_deepnote_index_column": 185928
        },
        {
         "winner_name": "Aliona Bolsova",
         "winner_id": 211901,
         "won": 98,
         "_deepnote_index_column": 185929
        },
        {
         "winner_name": "Marta Kostyuk",
         "winner_id": 216146,
         "won": 120,
         "_deepnote_index_column": 185930
        },
        {
         "winner_name": "Sara Errani",
         "winner_id": 201506,
         "won": 138,
         "_deepnote_index_column": 185931
        },
        {
         "winner_name": "Ann Li",
         "winner_id": 215983,
         "won": 113,
         "_deepnote_index_column": 185932
        },
        {
         "winner_name": "Greetje Minnen",
         "winner_id": 213889,
         "won": 169,
         "_deepnote_index_column": 185933
        },
        {
         "winner_name": "Catherine Cartan Bellis",
         "winner_id": 214263,
         "won": 102,
         "_deepnote_index_column": 185934
        },
        {
         "winner_name": "Marta Kostyuk",
         "winner_id": 216146,
         "won": 120,
         "_deepnote_index_column": 185935
        },
        {
         "winner_name": "Ann Li",
         "winner_id": 215983,
         "won": 113,
         "_deepnote_index_column": 185936
        },
        {
         "winner_name": "Marta Kostyuk",
         "winner_id": 216146,
         "won": 120,
         "_deepnote_index_column": 185937
        },
        {
         "winner_name": "Ann Li",
         "winner_id": 215983,
         "won": 113,
         "_deepnote_index_column": 185938
        },
        {
         "winner_name": "Renata Zarazua",
         "winner_id": 213887,
         "won": 174,
         "_deepnote_index_column": 185939
        },
        {
         "winner_name": "Harmony Tan",
         "winner_id": 211552,
         "won": 150,
         "_deepnote_index_column": 185940
        },
        {
         "winner_name": "Clara Tauson",
         "winner_id": 220704,
         "won": 125,
         "_deepnote_index_column": 185941
        },
        {
         "winner_name": "Gabriela Talaba",
         "winner_id": 211342,
         "won": 108,
         "_deepnote_index_column": 185942
        },
        {
         "winner_name": "Jamie Loeb",
         "winner_id": 211222,
         "won": 148,
         "_deepnote_index_column": 185943
        },
        {
         "winner_name": "Paula Kania",
         "winner_id": 203518,
         "won": 46,
         "_deepnote_index_column": 185944
        },
        {
         "winner_name": "Veronica Cepede Royg",
         "winner_id": 202705,
         "won": 148,
         "_deepnote_index_column": 185945
        },
        {
         "winner_name": "Peyton Stearns",
         "winner_id": 220548,
         "won": 41,
         "_deepnote_index_column": 185946
        },
        {
         "winner_name": "Ankita Raina",
         "winner_id": 206102,
         "won": 169,
         "_deepnote_index_column": 185947
        },
        {
         "winner_name": "Tessah Andrianjafitrimo",
         "winner_id": 214219,
         "won": 167,
         "_deepnote_index_column": 185948
        },
        {
         "winner_name": "Mayo Hibi",
         "winner_id": 206349,
         "won": 152,
         "_deepnote_index_column": 185949
        },
        {
         "winner_name": "Conny Perrin",
         "winner_id": 202424,
         "won": 190,
         "_deepnote_index_column": 185950
        },
        {
         "winner_name": "Maria Camila Osorio Serrano",
         "winner_id": 215785,
         "won": 110,
         "_deepnote_index_column": 185951
        },
        {
         "winner_name": "Kyoka Okamura",
         "winner_id": 211846,
         "won": 112,
         "_deepnote_index_column": 185952
        },
        {
         "winner_name": "Georgina Garcia Perez",
         "winner_id": 202916,
         "won": 166,
         "_deepnote_index_column": 185953
        },
        {
         "winner_name": "Alycia Parks",
         "winner_id": 219917,
         "won": 63,
         "_deepnote_index_column": 185954
        },
        {
         "winner_name": "Renata Zarazua",
         "winner_id": 213887,
         "won": 174,
         "_deepnote_index_column": 185955
        },
        {
         "winner_name": "Clara Tauson",
         "winner_id": 220704,
         "won": 125,
         "_deepnote_index_column": 185956
        },
        {
         "winner_name": "Jamie Loeb",
         "winner_id": 211222,
         "won": 148,
         "_deepnote_index_column": 185957
        },
        {
         "winner_name": "Peyton Stearns",
         "winner_id": 220548,
         "won": 41,
         "_deepnote_index_column": 185958
        },
        {
         "winner_name": "Ankita Raina",
         "winner_id": 206102,
         "won": 169,
         "_deepnote_index_column": 185959
        },
        {
         "winner_name": "Mayo Hibi",
         "winner_id": 206349,
         "won": 152,
         "_deepnote_index_column": 185960
        },
        {
         "winner_name": "Maria Camila Osorio Serrano",
         "winner_id": 215785,
         "won": 110,
         "_deepnote_index_column": 185961
        },
        {
         "winner_name": "Georgina Garcia Perez",
         "winner_id": 202916,
         "won": 166,
         "_deepnote_index_column": 185962
        },
        {
         "winner_name": "Shelby Rogers",
         "winner_id": 201603,
         "won": 108,
         "_deepnote_index_column": 185963
        },
        {
         "winner_name": "Gabriela Talaba",
         "winner_id": 211342,
         "won": 108,
         "_deepnote_index_column": 185964
        },
        {
         "winner_name": "Mayar Sherif",
         "winner_id": 210886,
         "won": 132,
         "_deepnote_index_column": 185965
        },
        {
         "winner_name": "Caroline Dolehide",
         "winner_id": 214452,
         "won": 132,
         "_deepnote_index_column": 185966
        },
        {
         "winner_name": "Misaki Doi",
         "winner_id": 201595,
         "won": 139,
         "_deepnote_index_column": 185967
        },
        {
         "winner_name": "Sara Errani",
         "winner_id": 201506,
         "won": 138,
         "_deepnote_index_column": 185968
        },
        {
         "winner_name": "Magdalena Frech",
         "winner_id": 211684,
         "won": 193,
         "_deepnote_index_column": 185969
        },
        {
         "winner_name": "Ann Li",
         "winner_id": 215983,
         "won": 113,
         "_deepnote_index_column": 185970
        },
        {
         "winner_name": "Emma Navarro",
         "winner_id": 215613,
         "won": 28,
         "_deepnote_index_column": 185971
        },
        {
         "winner_name": "Claire Liu",
         "winner_id": 214906,
         "won": 127,
         "_deepnote_index_column": 185972
        },
        {
         "winner_name": "Renata Zarazua",
         "winner_id": 213887,
         "won": 174,
         "_deepnote_index_column": 185973
        },
        {
         "winner_name": "Madison Brengle",
         "winner_id": 201483,
         "won": 157,
         "_deepnote_index_column": 185974
        },
        {
         "winner_name": "Catherine Cartan Bellis",
         "winner_id": 214263,
         "won": 102,
         "_deepnote_index_column": 185975
        },
        {
         "winner_name": "Katarzyna Kawa",
         "winner_id": 203514,
         "won": 109,
         "_deepnote_index_column": 185976
        },
        {
         "winner_name": "Hailey Baptiste",
         "winner_id": 221024,
         "won": 67,
         "_deepnote_index_column": 185977
        },
        {
         "winner_name": "Lauren Davis",
         "winner_id": 201616,
         "won": 143,
         "_deepnote_index_column": 185978
        },
        {
         "winner_name": "Gabriela Talaba",
         "winner_id": 211342,
         "won": 108,
         "_deepnote_index_column": 185979
        },
        {
         "winner_name": "Mayar Sherif",
         "winner_id": 210886,
         "won": 132,
         "_deepnote_index_column": 185980
        },
        {
         "winner_name": "Misaki Doi",
         "winner_id": 201595,
         "won": 139,
         "_deepnote_index_column": 185981
        },
        {
         "winner_name": "Ann Li",
         "winner_id": 215983,
         "won": 113,
         "_deepnote_index_column": 185982
        },
        {
         "winner_name": "Claire Liu",
         "winner_id": 214906,
         "won": 127,
         "_deepnote_index_column": 185983
        },
        {
         "winner_name": "Renata Zarazua",
         "winner_id": 213887,
         "won": 174,
         "_deepnote_index_column": 185984
        },
        {
         "winner_name": "Katarzyna Kawa",
         "winner_id": 203514,
         "won": 109,
         "_deepnote_index_column": 185985
        },
        {
         "winner_name": "Lauren Davis",
         "winner_id": 201616,
         "won": 143,
         "_deepnote_index_column": 185986
        },
        {
         "winner_name": "Mayar Sherif",
         "winner_id": 210886,
         "won": 132,
         "_deepnote_index_column": 185987
        },
        {
         "winner_name": "Misaki Doi",
         "winner_id": 201595,
         "won": 139,
         "_deepnote_index_column": 185988
        },
        {
         "winner_name": "Renata Zarazua",
         "winner_id": 213887,
         "won": 174,
         "_deepnote_index_column": 185989
        },
        {
         "winner_name": "Katarzyna Kawa",
         "winner_id": 203514,
         "won": 109,
         "_deepnote_index_column": 185990
        },
        {
         "winner_name": "Mayar Sherif",
         "winner_id": 210886,
         "won": 132,
         "_deepnote_index_column": 185991
        },
        {
         "winner_name": "Katarzyna Kawa",
         "winner_id": 203514,
         "won": 109,
         "_deepnote_index_column": 185992
        },
        {
         "winner_name": "Mayar Sherif",
         "winner_id": 210886,
         "won": 132,
         "_deepnote_index_column": 185993
        },
        {
         "winner_name": "Magdalena Frech",
         "winner_id": 211684,
         "won": 193,
         "_deepnote_index_column": 185994
        },
        {
         "winner_name": "Paula Ormaechea",
         "winner_id": 202440,
         "won": 122,
         "_deepnote_index_column": 185995
        },
        {
         "winner_name": "Bethanie Mattek Sands",
         "winner_id": 201318,
         "won": 48,
         "_deepnote_index_column": 185996
        },
        {
         "winner_name": "Anna Danilina",
         "winner_id": 206363,
         "won": 63,
         "_deepnote_index_column": 185997
        },
        {
         "winner_name": "Mayar Sherif",
         "winner_id": 210886,
         "won": 132,
         "_deepnote_index_column": 185998
        },
        {
         "winner_name": "Harmony Tan",
         "winner_id": 211552,
         "won": 150,
         "_deepnote_index_column": 185999
        },
        {
         "winner_name": "Veronica Cepede Royg",
         "winner_id": 202705,
         "won": 148,
         "_deepnote_index_column": 186000
        },
        {
         "winner_name": "Hailey Baptiste",
         "winner_id": 221024,
         "won": 67,
         "_deepnote_index_column": 186001
        },
        {
         "winner_name": "Ankita Raina",
         "winner_id": 206102,
         "won": 169,
         "_deepnote_index_column": 186002
        },
        {
         "winner_name": "Claire Liu",
         "winner_id": 214906,
         "won": 127,
         "_deepnote_index_column": 186003
        },
        {
         "winner_name": "Kateryna Bondarenko",
         "winner_id": 201435,
         "won": 104,
         "_deepnote_index_column": 186004
        },
        {
         "winner_name": "Marie Benoit",
         "winner_id": 211260,
         "won": 161,
         "_deepnote_index_column": 186005
        },
        {
         "winner_name": "Maria Camila Osorio Serrano",
         "winner_id": 215785,
         "won": 110,
         "_deepnote_index_column": 186006
        },
        {
         "winner_name": "Kyoka Okamura",
         "winner_id": 211846,
         "won": 112,
         "_deepnote_index_column": 186007
        },
        {
         "winner_name": "Tessah Andrianjafitrimo",
         "winner_id": 214219,
         "won": 167,
         "_deepnote_index_column": 186008
        },
        {
         "winner_name": "Gabriela Talaba",
         "winner_id": 211342,
         "won": 108,
         "_deepnote_index_column": 186009
        },
        {
         "winner_name": "Magdalena Frech",
         "winner_id": 211684,
         "won": 193,
         "_deepnote_index_column": 186010
        },
        {
         "winner_name": "Bethanie Mattek Sands",
         "winner_id": 201318,
         "won": 48,
         "_deepnote_index_column": 186011
        },
        {
         "winner_name": "Mayar Sherif",
         "winner_id": 210886,
         "won": 132,
         "_deepnote_index_column": 186012
        },
        {
         "winner_name": "Hailey Baptiste",
         "winner_id": 221024,
         "won": 67,
         "_deepnote_index_column": 186013
        },
        {
         "winner_name": "Claire Liu",
         "winner_id": 214906,
         "won": 127,
         "_deepnote_index_column": 186014
        },
        {
         "winner_name": "Kateryna Bondarenko",
         "winner_id": 201435,
         "won": 104,
         "_deepnote_index_column": 186015
        },
        {
         "winner_name": "Kyoka Okamura",
         "winner_id": 211846,
         "won": 112,
         "_deepnote_index_column": 186016
        },
        {
         "winner_name": "Gabriela Talaba",
         "winner_id": 211342,
         "won": 108,
         "_deepnote_index_column": 186017
        },
        {
         "winner_name": "Alexandra Yepifanova",
         "winner_id": 220724,
         "won": 11,
         "_deepnote_index_column": 186018
        },
        {
         "winner_name": "Hurricane Tyra Black",
         "winner_id": 215794,
         "won": 40,
         "_deepnote_index_column": 186019
        },
        {
         "winner_name": "Robin Montgomery",
         "winner_id": 221905,
         "won": 24,
         "_deepnote_index_column": 186020
        },
        {
         "winner_name": "Tessah Andrianjafitrimo",
         "winner_id": 214219,
         "won": 167,
         "_deepnote_index_column": 186021
        },
        {
         "winner_name": "Kristina Kucova",
         "winner_id": 201568,
         "won": 116,
         "_deepnote_index_column": 186022
        },
        {
         "winner_name": "Hanna Chang",
         "winner_id": 213949,
         "won": 131,
         "_deepnote_index_column": 186023
        },
        {
         "winner_name": "Victoria Rodriguez",
         "winner_id": 211874,
         "won": 113,
         "_deepnote_index_column": 186024
        },
        {
         "winner_name": "Katarina Jokic",
         "winner_id": 213789,
         "won": 25,
         "_deepnote_index_column": 186025
        },
        {
         "winner_name": "Jamie Loeb",
         "winner_id": 211222,
         "won": 148,
         "_deepnote_index_column": 186026
        },
        {
         "winner_name": "Grace Min",
         "winner_id": 202479,
         "won": 136,
         "_deepnote_index_column": 186027
        },
        {
         "winner_name": "Claire Liu",
         "winner_id": 214906,
         "won": 127,
         "_deepnote_index_column": 186028
        },
        {
         "winner_name": "Catherine Harrison",
         "winner_id": 202414,
         "won": 63,
         "_deepnote_index_column": 186029
        },
        {
         "winner_name": "Alycia Parks",
         "winner_id": 219917,
         "won": 63,
         "_deepnote_index_column": 186030
        },
        {
         "winner_name": "Paula Ormaechea",
         "winner_id": 202440,
         "won": 122,
         "_deepnote_index_column": 186031
        },
        {
         "winner_name": "Peyton Stearns",
         "winner_id": 220548,
         "won": 41,
         "_deepnote_index_column": 186032
        },
        {
         "winner_name": "Katarzyna Kawa",
         "winner_id": 203514,
         "won": 109,
         "_deepnote_index_column": 186033
        },
        {
         "winner_name": "Hurricane Tyra Black",
         "winner_id": 215794,
         "won": 40,
         "_deepnote_index_column": 186034
        },
        {
         "winner_name": "Robin Montgomery",
         "winner_id": 221905,
         "won": 24,
         "_deepnote_index_column": 186035
        },
        {
         "winner_name": "Hanna Chang",
         "winner_id": 213949,
         "won": 131,
         "_deepnote_index_column": 186036
        },
        {
         "winner_name": "Katarina Jokic",
         "winner_id": 213789,
         "won": 25,
         "_deepnote_index_column": 186037
        },
        {
         "winner_name": "Jamie Loeb",
         "winner_id": 211222,
         "won": 148,
         "_deepnote_index_column": 186038
        },
        {
         "winner_name": "Claire Liu",
         "winner_id": 214906,
         "won": 127,
         "_deepnote_index_column": 186039
        },
        {
         "winner_name": "Alycia Parks",
         "winner_id": 219917,
         "won": 63,
         "_deepnote_index_column": 186040
        },
        {
         "winner_name": "Katarzyna Kawa",
         "winner_id": 203514,
         "won": 109,
         "_deepnote_index_column": 186041
        },
        {
         "winner_name": "Robin Montgomery",
         "winner_id": 221905,
         "won": 24,
         "_deepnote_index_column": 186042
        },
        {
         "winner_name": "Hanna Chang",
         "winner_id": 213949,
         "won": 131,
         "_deepnote_index_column": 186043
        },
        {
         "winner_name": "Jamie Loeb",
         "winner_id": 211222,
         "won": 148,
         "_deepnote_index_column": 186044
        },
        {
         "winner_name": "Alycia Parks",
         "winner_id": 219917,
         "won": 63,
         "_deepnote_index_column": 186045
        },
        {
         "winner_name": "Robin Montgomery",
         "winner_id": 221905,
         "won": 24,
         "_deepnote_index_column": 186046
        },
        {
         "winner_name": "Alycia Parks",
         "winner_id": 219917,
         "won": 63,
         "_deepnote_index_column": 186047
        },
        {
         "winner_name": "Alycia Parks",
         "winner_id": 219917,
         "won": 63,
         "_deepnote_index_column": 186048
        },
        {
         "winner_name": "Alycia Parks",
         "winner_id": 219917,
         "won": 63,
         "_deepnote_index_column": 186049
        },
        {
         "winner_name": "Ashlyn Krueger",
         "winner_id": 221909,
         "won": 25,
         "_deepnote_index_column": 186050
        },
        {
         "winner_name": "Jessica Failla",
         "winner_id": 214696,
         "won": 49,
         "_deepnote_index_column": 186051
        },
        {
         "winner_name": "Ariana Arseneault",
         "winner_id": 220502,
         "won": 13,
         "_deepnote_index_column": 186052
        },
        {
         "winner_name": "Emina Bektas",
         "winner_id": 211765,
         "won": 96,
         "_deepnote_index_column": 186053
        },
        {
         "winner_name": "Ashley Lahey",
         "winner_id": 216076,
         "won": 34,
         "_deepnote_index_column": 186054
        },
        {
         "winner_name": "Eleana Yu",
         "winner_id": 222081,
         "won": 20,
         "_deepnote_index_column": 186055
        },
        {
         "winner_name": "Hurricane Tyra Black",
         "winner_id": 215794,
         "won": 40,
         "_deepnote_index_column": 186056
        },
        {
         "winner_name": "Vivian Heisen",
         "winner_id": 210754,
         "won": 67,
         "_deepnote_index_column": 186057
        },
        {
         "winner_name": "Jessica Livianu",
         "winner_id": 220723,
         "won": 18,
         "_deepnote_index_column": 186058
        },
        {
         "winner_name": "Tara Moore",
         "winner_id": 202478,
         "won": 93,
         "_deepnote_index_column": 186059
        },
        {
         "winner_name": "Victoria Rodriguez",
         "winner_id": 211874,
         "won": 113,
         "_deepnote_index_column": 186060
        },
        {
         "winner_name": "Katarina Jokic",
         "winner_id": 213789,
         "won": 25,
         "_deepnote_index_column": 186061
        },
        {
         "winner_name": "Chanelle Van Nguyen",
         "winner_id": 205922,
         "won": 44,
         "_deepnote_index_column": 186062
        },
        {
         "winner_name": "Emiliana Arango",
         "winner_id": 215306,
         "won": 89,
         "_deepnote_index_column": 186063
        },
        {
         "winner_name": "Brooklyn Olson",
         "winner_id": 223453,
         "won": 4,
         "_deepnote_index_column": 186064
        },
        {
         "winner_name": "Alycia Parks",
         "winner_id": 219917,
         "won": 63,
         "_deepnote_index_column": 186065
        },
        {
         "winner_name": "Jessica Failla",
         "winner_id": 214696,
         "won": 49,
         "_deepnote_index_column": 186066
        },
        {
         "winner_name": "Ashley Lahey",
         "winner_id": 216076,
         "won": 34,
         "_deepnote_index_column": 186067
        },
        {
         "winner_name": "Hurricane Tyra Black",
         "winner_id": 215794,
         "won": 40,
         "_deepnote_index_column": 186068
        },
        {
         "winner_name": "Vivian Heisen",
         "winner_id": 210754,
         "won": 67,
         "_deepnote_index_column": 186069
        },
        {
         "winner_name": "Victoria Rodriguez",
         "winner_id": 211874,
         "won": 113,
         "_deepnote_index_column": 186070
        },
        {
         "winner_name": "Katarina Jokic",
         "winner_id": 213789,
         "won": 25,
         "_deepnote_index_column": 186071
        },
        {
         "winner_name": "Emiliana Arango",
         "winner_id": 215306,
         "won": 89,
         "_deepnote_index_column": 186072
        },
        {
         "winner_name": "Jil Belen Teichmann",
         "winner_id": 213525,
         "won": 172,
         "_deepnote_index_column": 186073
        },
        {
         "winner_name": "Priscilla Hon",
         "winner_id": 211880,
         "won": 110,
         "_deepnote_index_column": 186074
        },
        {
         "winner_name": "Luksika Kumkhum",
         "winner_id": 202503,
         "won": 121,
         "_deepnote_index_column": 186075
        },
        {
         "winner_name": "Marie Bouzkova",
         "winner_id": 213631,
         "won": 197,
         "_deepnote_index_column": 186076
        },
        {
         "winner_name": "Viktorija Golubic",
         "winner_id": 203530,
         "won": 182,
         "_deepnote_index_column": 186077
        },
        {
         "winner_name": "Arantxa Rus",
         "winner_id": 201551,
         "won": 250,
         "_deepnote_index_column": 186078
        },
        {
         "winner_name": "Naomi Broady",
         "winner_id": 201648,
         "won": 103,
         "_deepnote_index_column": 186079
        },
        {
         "winner_name": "Belinda Bencic",
         "winner_id": 202505,
         "won": 166,
         "_deepnote_index_column": 186080
        },
        {
         "winner_name": "Naomi Broady",
         "winner_id": 201648,
         "won": 103,
         "_deepnote_index_column": 186081
        },
        {
         "winner_name": "Viktorija Golubic",
         "winner_id": 203530,
         "won": 182,
         "_deepnote_index_column": 186082
        },
        {
         "winner_name": "Jacqueline Cako",
         "winner_id": 202614,
         "won": 62,
         "_deepnote_index_column": 186083
        },
        {
         "winner_name": "Priscilla Hon",
         "winner_id": 211880,
         "won": 110,
         "_deepnote_index_column": 186084
        },
        {
         "winner_name": "Ingrid Neel",
         "winner_id": 214562,
         "won": 29,
         "_deepnote_index_column": 186085
        },
        {
         "winner_name": "Priscilla Hon",
         "winner_id": 211880,
         "won": 110,
         "_deepnote_index_column": 186086
        },
        {
         "winner_name": "Veronika Kudermetova",
         "winner_id": 206368,
         "won": 195,
         "_deepnote_index_column": 186087
        },
        {
         "winner_name": "Dalila Jakupovic",
         "winner_id": 203435,
         "won": 160,
         "_deepnote_index_column": 186088
        }
       ]
      },
      "text/plain": "                 winner_name  winner_id  won\n0              Kei Nishikori     105453  191\n1            Daniil Medvedev     106421  267\n2              Kei Nishikori     105453  191\n3         Jo-Wilfried Tsonga     104542  125\n4            Daniil Medvedev     106421  267\n...                      ...        ...  ...\n186084         Priscilla Hon     211880  110\n186085           Ingrid Neel     214562   29\n186086         Priscilla Hon     211880  110\n186087  Veronika Kudermetova     206368  195\n186088      Dalila Jakupovic     203435  160\n\n[186089 rows x 3 columns]",
      "text/html": "<div>\n<style scoped>\n    .dataframe tbody tr th:only-of-type {\n        vertical-align: middle;\n    }\n\n    .dataframe tbody tr th {\n        vertical-align: top;\n    }\n\n    .dataframe thead th {\n        text-align: right;\n    }\n</style>\n<table border=\"1\" class=\"dataframe\">\n  <thead>\n    <tr style=\"text-align: right;\">\n      <th></th>\n      <th>winner_name</th>\n      <th>winner_id</th>\n      <th>won</th>\n    </tr>\n  </thead>\n  <tbody>\n    <tr>\n      <th>0</th>\n      <td>Kei Nishikori</td>\n      <td>105453</td>\n      <td>191</td>\n    </tr>\n    <tr>\n      <th>1</th>\n      <td>Daniil Medvedev</td>\n      <td>106421</td>\n      <td>267</td>\n    </tr>\n    <tr>\n      <th>2</th>\n      <td>Kei Nishikori</td>\n      <td>105453</td>\n      <td>191</td>\n    </tr>\n    <tr>\n      <th>3</th>\n      <td>Jo-Wilfried Tsonga</td>\n      <td>104542</td>\n      <td>125</td>\n    </tr>\n    <tr>\n      <th>4</th>\n      <td>Daniil Medvedev</td>\n      <td>106421</td>\n      <td>267</td>\n    </tr>\n    <tr>\n      <th>...</th>\n      <td>...</td>\n      <td>...</td>\n      <td>...</td>\n    </tr>\n    <tr>\n      <th>186084</th>\n      <td>Priscilla Hon</td>\n      <td>211880</td>\n      <td>110</td>\n    </tr>\n    <tr>\n      <th>186085</th>\n      <td>Ingrid Neel</td>\n      <td>214562</td>\n      <td>29</td>\n    </tr>\n    <tr>\n      <th>186086</th>\n      <td>Priscilla Hon</td>\n      <td>211880</td>\n      <td>110</td>\n    </tr>\n    <tr>\n      <th>186087</th>\n      <td>Veronika Kudermetova</td>\n      <td>206368</td>\n      <td>195</td>\n    </tr>\n    <tr>\n      <th>186088</th>\n      <td>Dalila Jakupovic</td>\n      <td>203435</td>\n      <td>160</td>\n    </tr>\n  </tbody>\n</table>\n<p>186089 rows × 3 columns</p>\n</div>"
     },
     "metadata": {}
    }
   ],
   "execution_count": 91
  },
  {
   "cell_type": "code",
   "source": "",
   "metadata": {
    "tags": [],
    "cell_id": "00014-0499ccc7-04f7-4b49-af5f-f68e90bbd947",
    "deepnote_to_be_reexecuted": true,
    "source_hash": "b623e53d",
    "deepnote_cell_type": "code"
   },
   "outputs": [],
   "execution_count": null
  },
  {
   "cell_type": "markdown",
   "source": "<a style='text-decoration:none;line-height:16px;display:flex;color:#5B5B62;padding:10px;justify-content:end;' href='https://deepnote.com?utm_source=created-in-deepnote-cell&projectId=de87b132-0371-4d99-94f9-c61923e2507d' target=\"_blank\">\n<img alt='Created in deepnote.com' style='display:inline;max-height:16px;margin:0px;margin-right:7.5px;' src='data:image/svg+xml;base64,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' > </img>\nCreated in <span style='font-weight:600;margin-left:4px;'>Deepnote</span></a>",
   "metadata": {
    "tags": [],
    "created_in_deepnote_cell": true,
    "deepnote_cell_type": "markdown"
   }
  }
 ],
 "nbformat": 4,
 "nbformat_minor": 2,
 "metadata": {
  "orig_nbformat": 2,
  "deepnote": {
   "is_reactive": false
  },
  "deepnote_notebook_id": "fb24560e-b3d4-4675-bf2c-5ad64502c78c",
  "deepnote_execution_queue": []
 }
}