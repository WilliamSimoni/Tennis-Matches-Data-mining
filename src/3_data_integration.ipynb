{
 "cells": [
  {
   "cell_type": "code",
   "metadata": {
    "tags": [],
    "cell_id": "00000-7f45bfac-0de2-411c-a791-4e6d95c0cd8b",
    "deepnote_to_be_reexecuted": false,
    "source_hash": "f0cd7bf2",
    "execution_start": 1635494167760,
    "execution_millis": 28,
    "deepnote_cell_type": "code"
   },
   "source": "import numpy as np\nimport pandas as pd\nimport plotly as plt\nimport scipy\nimport math\nfrom datetime import datetime",
   "outputs": [],
   "execution_count": null
  },
  {
   "cell_type": "code",
   "metadata": {
    "tags": [],
    "cell_id": "00000-dcbff698-b5dd-48e3-8b70-4579c1b0e1e1",
    "deepnote_to_be_reexecuted": false,
    "source_hash": "b5ebfa8d",
    "execution_start": 1635494169913,
    "execution_millis": 1554,
    "deepnote_cell_type": "code"
   },
   "source": "df_matches = pd.read_csv(\"../data/cleaned/tennis_matches_cleaned.csv\", parse_dates=['tourney_date'])\ndf_male_players = pd.read_csv(\"../data/cleaned/male_players_cleaned.csv\")\ndf_female_players = pd.read_csv(\"../data/cleaned/female_players_cleaned.csv\")",
   "outputs": [],
   "execution_count": null
  },
  {
   "cell_type": "markdown",
   "source": "# Data integration",
   "metadata": {
    "tags": [],
    "cell_id": "00000-4d8ab1cf-3137-4e92-b150-f5587423f940",
    "deepnote_cell_type": "markdown"
   }
  },
  {
   "cell_type": "markdown",
   "source": "Create a dataframe with all the male matches and another one for the female matches",
   "metadata": {
    "tags": [],
    "cell_id": "00001-50f18f19-b9f7-4ea8-ba4f-039e7dd48f2a",
    "deepnote_cell_type": "markdown"
   }
  },
  {
   "cell_type": "code",
   "metadata": {
    "tags": [],
    "cell_id": "00002-a68a3b40-36a1-45eb-9f2f-a3c6b785e71c",
    "deepnote_to_be_reexecuted": false,
    "source_hash": "b288f2c1",
    "execution_start": 1635494176472,
    "execution_millis": 744,
    "deepnote_cell_type": "code"
   },
   "source": "df_male_players_tmp = pd.DataFrame()\ndf_male_players_tmp['player_name'] = df_male_players['name'] + ' ' + df_male_players['surname']\ndf_male_winners = df_male_players_tmp.join(df_matches.set_index('winner_name'), on='player_name', how='inner')\ndf_male_losers = df_male_players_tmp.join(df_matches.set_index('loser_name'), on='player_name', how='inner')\ndf_male_matches = pd.concat([df_male_winners, df_male_losers])",
   "outputs": [],
   "execution_count": null
  },
  {
   "cell_type": "code",
   "metadata": {
    "tags": [],
    "cell_id": "00005-a2514453-9050-4264-b238-feb7d8b7546e",
    "deepnote_to_be_reexecuted": false,
    "source_hash": "3a4012c6",
    "execution_start": 1635427938169,
    "execution_millis": 943,
    "deepnote_cell_type": "code"
   },
   "source": "df_male_matches",
   "execution_count": null,
   "outputs": [
    {
     "output_type": "execute_result",
     "execution_count": 4,
     "data": {
      "application/vnd.deepnote.dataframe.v2+json": {
       "row_count": 116822,
       "column_count": 49,
       "columns": [
        {
         "name": "player_name",
         "dtype": "object"
        },
        {
         "name": "Unnamed: 0",
         "dtype": "int64"
        },
        {
         "name": "tourney_id",
         "dtype": "object"
        },
        {
         "name": "tourney_name",
         "dtype": "object"
        },
        {
         "name": "surface",
         "dtype": "object"
        },
        {
         "name": "draw_size",
         "dtype": "int64"
        },
        {
         "name": "tourney_level",
         "dtype": "object"
        },
        {
         "name": "tourney_date",
         "dtype": "object"
        },
        {
         "name": "match_num",
         "dtype": "int64"
        },
        {
         "name": "winner_id",
         "dtype": "int64"
        },
        {
         "name": "winner_entry",
         "dtype": "object"
        },
        {
         "name": "winner_hand",
         "dtype": "object"
        },
        {
         "name": "winner_ht",
         "dtype": "int64"
        },
        {
         "name": "winner_ioc",
         "dtype": "object"
        },
        {
         "name": "winner_age",
         "dtype": "int64"
        },
        {
         "name": "loser_id",
         "dtype": "int64"
        },
        {
         "name": "loser_entry",
         "dtype": "object"
        },
        {
         "name": "loser_name",
         "dtype": "object"
        },
        {
         "name": "loser_hand",
         "dtype": "object"
        },
        {
         "name": "loser_ht",
         "dtype": "int64"
        },
        {
         "name": "loser_ioc",
         "dtype": "object"
        },
        {
         "name": "loser_age",
         "dtype": "int64"
        },
        {
         "name": "score",
         "dtype": "object"
        },
        {
         "name": "best_of",
         "dtype": "int64"
        },
        {
         "name": "round",
         "dtype": "object"
        },
        {
         "name": "minutes",
         "dtype": "int64"
        },
        {
         "name": "w_ace",
         "dtype": "float64"
        },
        {
         "name": "w_df",
         "dtype": "float64"
        },
        {
         "name": "w_svpt",
         "dtype": "float64"
        },
        {
         "name": "w_1stIn",
         "dtype": "float64"
        },
        {
         "name": "w_1stWon",
         "dtype": "float64"
        },
        {
         "name": "w_2ndWon",
         "dtype": "float64"
        },
        {
         "name": "w_SvGms",
         "dtype": "float64"
        },
        {
         "name": "w_bpSaved",
         "dtype": "float64"
        },
        {
         "name": "w_bpFaced",
         "dtype": "float64"
        },
        {
         "name": "l_ace",
         "dtype": "float64"
        },
        {
         "name": "l_df",
         "dtype": "float64"
        },
        {
         "name": "l_svpt",
         "dtype": "float64"
        },
        {
         "name": "l_1stIn",
         "dtype": "float64"
        },
        {
         "name": "l_1stWon",
         "dtype": "float64"
        },
        {
         "name": "l_2ndWon",
         "dtype": "float64"
        },
        {
         "name": "l_SvGms",
         "dtype": "float64"
        },
        {
         "name": "l_bpSaved",
         "dtype": "float64"
        },
        {
         "name": "l_bpFaced",
         "dtype": "float64"
        },
        {
         "name": "winner_rank",
         "dtype": "int64"
        },
        {
         "name": "loser_rank",
         "dtype": "int64"
        },
        {
         "name": "tourney_spectators",
         "dtype": "float64"
        },
        {
         "name": "tourney_revenue",
         "dtype": "float64"
        },
        {
         "name": "winner_name",
         "dtype": "object"
        },
        {
         "name": "_deepnote_index_column",
         "dtype": "int64"
        }
       ],
       "rows_top": [
        {
         "player_name": "Alexander Zverev",
         "Unnamed: 0": "352",
         "tourney_id": "2019-580",
         "tourney_name": "Australian Open",
         "surface": "Hard",
         "draw_size": "128",
         "tourney_level": "G",
         "tourney_date": "2019-01-14",
         "match_num": "200",
         "winner_id": "100644",
         "winner_entry": "nan",
         "winner_hand": "R",
         "winner_ht": "198",
         "winner_ioc": "GER",
         "winner_age": "21",
         "loser_id": "106109",
         "loser_entry": "WC",
         "loser_name": "Alex Bolt",
         "loser_hand": "L",
         "loser_ht": "-1",
         "loser_ioc": "AUS",
         "loser_age": "26",
         "score": "6-3 6-3 6-2",
         "best_of": "5",
         "round": "R32",
         "minutes": "112",
         "w_ace": "-1.0",
         "w_df": "4.0",
         "w_svpt": "85.0",
         "w_1stIn": "55.0",
         "w_1stWon": "39.0",
         "w_2ndWon": "19.0",
         "w_SvGms": "13.0",
         "w_bpSaved": "5.0",
         "w_bpFaced": "6.0",
         "l_ace": "-1.0",
         "l_df": "1.0",
         "l_svpt": "90.0",
         "l_1stIn": "58.0",
         "l_1stWon": "37.0",
         "l_2ndWon": "12.0",
         "l_SvGms": "13.0",
         "l_bpSaved": "6.0",
         "l_bpFaced": "12.0",
         "winner_rank": "4",
         "loser_rank": "155",
         "tourney_spectators": "15583.0",
         "tourney_revenue": "2781000.18",
         "winner_name": "nan",
         "_deepnote_index_column": "643"
        },
        {
         "player_name": "Alexander Zverev",
         "Unnamed: 0": "363",
         "tourney_id": "2019-580",
         "tourney_name": "Australian Open",
         "surface": "Hard",
         "draw_size": "128",
         "tourney_level": "G",
         "tourney_date": "2019-01-14",
         "match_num": "116",
         "winner_id": "100644",
         "winner_entry": "nan",
         "winner_hand": "R",
         "winner_ht": "198",
         "winner_ioc": "GER",
         "winner_age": "21",
         "loser_id": "105379",
         "loser_entry": "nan",
         "loser_name": "Aljaz Bedene",
         "loser_hand": "R",
         "loser_ht": "181",
         "loser_ioc": "SLO",
         "loser_age": "29",
         "score": "6-4 6-1 6-4",
         "best_of": "5",
         "round": "R128",
         "minutes": "115",
         "w_ace": "-1.0",
         "w_df": "6.0",
         "w_svpt": "77.0",
         "w_1stIn": "46.0",
         "w_1stWon": "38.0",
         "w_2ndWon": "14.0",
         "w_SvGms": "14.0",
         "w_bpSaved": "1.0",
         "w_bpFaced": "3.0",
         "l_ace": "-1.0",
         "l_df": "2.0",
         "l_svpt": "84.0",
         "l_1stIn": "51.0",
         "l_1stWon": "34.0",
         "l_2ndWon": "8.0",
         "l_SvGms": "13.0",
         "l_bpSaved": "2.0",
         "l_bpFaced": "8.0",
         "winner_rank": "4",
         "loser_rank": "67",
         "tourney_spectators": "15583.0",
         "tourney_revenue": "2781000.18",
         "winner_name": "nan",
         "_deepnote_index_column": "643"
        },
        {
         "player_name": "Alexander Zverev",
         "Unnamed: 0": "364",
         "tourney_id": "2019-580",
         "tourney_name": "Australian Open",
         "surface": "Hard",
         "draw_size": "128",
         "tourney_level": "G",
         "tourney_date": "2019-01-14",
         "match_num": "172",
         "winner_id": "100644",
         "winner_entry": "nan",
         "winner_hand": "R",
         "winner_ht": "198",
         "winner_ioc": "GER",
         "winner_age": "21",
         "loser_id": "104871",
         "loser_entry": "nan",
         "loser_name": "Jeremy Chardy",
         "loser_hand": "R",
         "loser_ht": "188",
         "loser_ioc": "FRA",
         "loser_age": "31",
         "score": "7-6(5) 6-4 5-7 6-7(6) 6-1",
         "best_of": "5",
         "round": "R64",
         "minutes": "-1",
         "w_ace": "-1.0",
         "w_df": "13.0",
         "w_svpt": "167.0",
         "w_1stIn": "116.0",
         "w_1stWon": "94.0",
         "w_2ndWon": "25.0",
         "w_SvGms": "27.0",
         "w_bpSaved": "10.0",
         "w_bpFaced": "13.0",
         "l_ace": "-1.0",
         "l_df": "3.0",
         "l_svpt": "173.0",
         "l_1stIn": "118.0",
         "l_1stWon": "86.0",
         "l_2ndWon": "29.0",
         "l_SvGms": "26.0",
         "l_bpSaved": "12.0",
         "l_bpFaced": "17.0",
         "winner_rank": "4",
         "loser_rank": "36",
         "tourney_spectators": "15583.0",
         "tourney_revenue": "2781000.18",
         "winner_name": "nan",
         "_deepnote_index_column": "643"
        },
        {
         "player_name": "Alexander Zverev",
         "Unnamed: 0": "1145",
         "tourney_id": "2019-M004",
         "tourney_name": "Acapulco",
         "surface": "Hard",
         "draw_size": "32",
         "tourney_level": "A",
         "tourney_date": "2019-02-25",
         "match_num": "298",
         "winner_id": "100644",
         "winner_entry": "nan",
         "winner_hand": "R",
         "winner_ht": "198",
         "winner_ioc": "GER",
         "winner_age": "21",
         "loser_id": "111815",
         "loser_entry": "nan",
         "loser_name": "Cameron Norrie",
         "loser_hand": "L",
         "loser_ht": "188",
         "loser_ioc": "GBR",
         "loser_age": "23",
         "score": "7-6(0) 6-3",
         "best_of": "3",
         "round": "SF",
         "minutes": "80",
         "w_ace": "-1.0",
         "w_df": "4.0",
         "w_svpt": "62.0",
         "w_1stIn": "42.0",
         "w_1stWon": "34.0",
         "w_2ndWon": "13.0",
         "w_SvGms": "11.0",
         "w_bpSaved": "2.0",
         "w_bpFaced": "3.0",
         "l_ace": "2.0",
         "l_df": "2.0",
         "l_svpt": "57.0",
         "l_1stIn": "39.0",
         "l_1stWon": "29.0",
         "l_2ndWon": "8.0",
         "l_SvGms": "10.0",
         "l_bpSaved": "2.0",
         "l_bpFaced": "4.0",
         "winner_rank": "3",
         "loser_rank": "64",
         "tourney_spectators": "3398.0",
         "tourney_revenue": "655207.08",
         "winner_name": "nan",
         "_deepnote_index_column": "643"
        },
        {
         "player_name": "Alexander Zverev",
         "Unnamed: 0": "1149",
         "tourney_id": "2019-M004",
         "tourney_name": "Acapulco",
         "surface": "Hard",
         "draw_size": "32",
         "tourney_level": "A",
         "tourney_date": "2019-02-25",
         "match_num": "294",
         "winner_id": "100644",
         "winner_entry": "nan",
         "winner_hand": "R",
         "winner_ht": "198",
         "winner_ioc": "GER",
         "winner_age": "21",
         "loser_id": "200282",
         "loser_entry": "nan",
         "loser_name": "Alex De Minaur",
         "loser_hand": "R",
         "loser_ht": "183",
         "loser_ioc": "AUS",
         "loser_age": "20",
         "score": "6-4 6-4",
         "best_of": "3",
         "round": "QF",
         "minutes": "75",
         "w_ace": "-1.0",
         "w_df": "1.0",
         "w_svpt": "50.0",
         "w_1stIn": "32.0",
         "w_1stWon": "29.0",
         "w_2ndWon": "11.0",
         "w_SvGms": "10.0",
         "w_bpSaved": "0.0",
         "w_bpFaced": "0.0",
         "l_ace": "1.0",
         "l_df": "2.0",
         "l_svpt": "55.0",
         "l_1stIn": "34.0",
         "l_1stWon": "28.0",
         "l_2ndWon": "11.0",
         "l_SvGms": "10.0",
         "l_bpSaved": "0.0",
         "l_bpFaced": "2.0",
         "winner_rank": "3",
         "loser_rank": "26",
         "tourney_spectators": "3398.0",
         "tourney_revenue": "655207.08",
         "winner_name": "nan",
         "_deepnote_index_column": "643"
        },
        {
         "player_name": "Alexander Zverev",
         "Unnamed: 0": "1157",
         "tourney_id": "2019-M004",
         "tourney_name": "Acapulco",
         "surface": "Hard",
         "draw_size": "32",
         "tourney_level": "A",
         "tourney_date": "2019-02-25",
         "match_num": "286",
         "winner_id": "100644",
         "winner_entry": "nan",
         "winner_hand": "R",
         "winner_ht": "198",
         "winner_ioc": "GER",
         "winner_age": "21",
         "loser_id": "103970",
         "loser_entry": "WC",
         "loser_name": "David Ferrer",
         "loser_hand": "R",
         "loser_ht": "175",
         "loser_ioc": "ESP",
         "loser_age": "21",
         "score": "7-6(0) 6-1",
         "best_of": "3",
         "round": "R16",
         "minutes": "88",
         "w_ace": "-1.0",
         "w_df": "6.0",
         "w_svpt": "62.0",
         "w_1stIn": "37.0",
         "w_1stWon": "29.0",
         "w_2ndWon": "15.0",
         "w_SvGms": "10.0",
         "w_bpSaved": "3.0",
         "w_bpFaced": "4.0",
         "l_ace": "0.0",
         "l_df": "2.0",
         "l_svpt": "59.0",
         "l_1stIn": "36.0",
         "l_1stWon": "23.0",
         "l_2ndWon": "9.0",
         "l_SvGms": "9.0",
         "l_bpSaved": "3.0",
         "l_bpFaced": "6.0",
         "winner_rank": "3",
         "loser_rank": "145",
         "tourney_spectators": "3398.0",
         "tourney_revenue": "655207.08",
         "winner_name": "nan",
         "_deepnote_index_column": "643"
        },
        {
         "player_name": "Alexander Zverev",
         "Unnamed: 0": "1173",
         "tourney_id": "2019-M004",
         "tourney_name": "Acapulco",
         "surface": "Hard",
         "draw_size": "32",
         "tourney_level": "A",
         "tourney_date": "2019-02-25",
         "match_num": "270",
         "winner_id": "100644",
         "winner_entry": "nan",
         "winner_hand": "R",
         "winner_ht": "198",
         "winner_ioc": "GER",
         "winner_age": "21",
         "loser_id": "200615",
         "loser_entry": "Q",
         "loser_name": "Alexei Popyrin",
         "loser_hand": "R",
         "loser_ht": "196",
         "loser_ioc": "AUS",
         "loser_age": "19",
         "score": "6-3 6-3",
         "best_of": "3",
         "round": "R32",
         "minutes": "70",
         "w_ace": "-1.0",
         "w_df": "2.0",
         "w_svpt": "43.0",
         "w_1stIn": "27.0",
         "w_1stWon": "26.0",
         "w_2ndWon": "10.0",
         "w_SvGms": "9.0",
         "w_bpSaved": "0.0",
         "w_bpFaced": "0.0",
         "l_ace": "4.0",
         "l_df": "3.0",
         "l_svpt": "67.0",
         "l_1stIn": "44.0",
         "l_1stWon": "29.0",
         "l_2ndWon": "8.0",
         "l_SvGms": "9.0",
         "l_bpSaved": "6.0",
         "l_bpFaced": "9.0",
         "winner_rank": "3",
         "loser_rank": "133",
         "tourney_spectators": "3398.0",
         "tourney_revenue": "655207.08",
         "winner_name": "nan",
         "_deepnote_index_column": "643"
        },
        {
         "player_name": "Alexander Zverev",
         "Unnamed: 0": "1355",
         "tourney_id": "2019-M006",
         "tourney_name": "Indian Wells Masters",
         "surface": "Hard",
         "draw_size": "128",
         "tourney_level": "M",
         "tourney_date": "2019-03-04",
         "match_num": "261",
         "winner_id": "100644",
         "winner_entry": "nan",
         "winner_hand": "R",
         "winner_ht": "198",
         "winner_ioc": "GER",
         "winner_age": "21",
         "loser_id": "105373",
         "loser_entry": "nan",
         "loser_name": "Martin Klizan",
         "loser_hand": "L",
         "loser_ht": "190",
         "loser_ioc": "SVK",
         "loser_age": "29",
         "score": "6-3 2-0 RET",
         "best_of": "3",
         "round": "R64",
         "minutes": "58",
         "w_ace": "5.0",
         "w_df": "1.0",
         "w_svpt": "34.0",
         "w_1stIn": "18.0",
         "w_1stWon": "14.0",
         "w_2ndWon": "9.0",
         "w_SvGms": "5.0",
         "w_bpSaved": "2.0",
         "w_bpFaced": "3.0",
         "l_ace": "1.0",
         "l_df": "3.0",
         "l_svpt": "44.0",
         "l_1stIn": "19.0",
         "l_1stWon": "10.0",
         "l_2ndWon": "11.0",
         "l_SvGms": "6.0",
         "l_bpSaved": "6.0",
         "l_bpFaced": "10.0",
         "winner_rank": "3",
         "loser_rank": "50",
         "tourney_spectators": "9552.0",
         "tourney_revenue": "2484975.25",
         "winner_name": "nan",
         "_deepnote_index_column": "643"
        },
        {
         "player_name": "Alexander Zverev",
         "Unnamed: 0": "1894",
         "tourney_id": "2019-0360",
         "tourney_name": "Marrakech",
         "surface": "Clay",
         "draw_size": "32",
         "tourney_level": "A",
         "tourney_date": "2019-04-08",
         "match_num": "285",
         "winner_id": "100644",
         "winner_entry": "nan",
         "winner_hand": "R",
         "winner_ht": "198",
         "winner_ioc": "GER",
         "winner_age": "21",
         "loser_id": "104797",
         "loser_entry": "nan",
         "loser_name": "Denis Istomin",
         "loser_hand": "R",
         "loser_ht": "188",
         "loser_ioc": "UZB",
         "loser_age": "32",
         "score": "6-4 6-4",
         "best_of": "3",
         "round": "R32",
         "minutes": "81",
         "w_ace": "-1.0",
         "w_df": "2.0",
         "w_svpt": "58.0",
         "w_1stIn": "36.0",
         "w_1stWon": "31.0",
         "w_2ndWon": "12.0",
         "w_SvGms": "10.0",
         "w_bpSaved": "3.0",
         "w_bpFaced": "3.0",
         "l_ace": "3.0",
         "l_df": "0.0",
         "l_svpt": "64.0",
         "l_1stIn": "37.0",
         "l_1stWon": "29.0",
         "l_2ndWon": "11.0",
         "l_SvGms": "10.0",
         "l_bpSaved": "7.0",
         "l_bpFaced": "9.0",
         "winner_rank": "3",
         "loser_rank": "104",
         "tourney_spectators": "2657.0",
         "tourney_revenue": "496815.47",
         "winner_name": "nan",
         "_deepnote_index_column": "643"
        },
        {
         "player_name": "Alexander Zverev",
         "Unnamed: 0": "1948",
         "tourney_id": "2019-0410",
         "tourney_name": "Monte Carlo Masters",
         "surface": "Clay",
         "draw_size": "64",
         "tourney_level": "M",
         "tourney_date": "2019-04-15",
         "match_num": "274",
         "winner_id": "100644",
         "winner_entry": "nan",
         "winner_hand": "R",
         "winner_ht": "198",
         "winner_ioc": "GER",
         "winner_age": "21",
         "loser_id": "200000",
         "loser_entry": "WC",
         "loser_name": "Felix Auger Aliassime",
         "loser_hand": "R",
         "loser_ht": "193",
         "loser_ioc": "CAN",
         "loser_age": "18",
         "score": "6-1 6-4",
         "best_of": "3",
         "round": "R32",
         "minutes": "78",
         "w_ace": "0.0",
         "w_df": "3.0",
         "w_svpt": "47.0",
         "w_1stIn": "32.0",
         "w_1stWon": "21.0",
         "w_2ndWon": "7.0",
         "w_SvGms": "8.0",
         "w_bpSaved": "1.0",
         "w_bpFaced": "3.0",
         "l_ace": "1.0",
         "l_df": "5.0",
         "l_svpt": "53.0",
         "l_1stIn": "26.0",
         "l_1stWon": "12.0",
         "l_2ndWon": "10.0",
         "l_SvGms": "9.0",
         "l_bpSaved": "1.0",
         "l_bpFaced": "7.0",
         "winner_rank": "3",
         "loser_rank": "33",
         "tourney_spectators": "5172.0",
         "tourney_revenue": "1598960.12",
         "winner_name": "nan",
         "_deepnote_index_column": "643"
        }
       ],
       "rows_bottom": [
        {
         "player_name": "Jakub Nicod",
         "Unnamed: 0": 94587,
         "tourney_id": "2021-0558",
         "tourney_name": "Prostejov CH",
         "surface": "Clay",
         "draw_size": 32,
         "tourney_level": "C",
         "tourney_date": "2021-06-14",
         "match_num": 250,
         "winner_id": 122351,
         "winner_entry": "nan",
         "winner_hand": "U",
         "winner_ht": -1,
         "winner_ioc": "GER",
         "winner_age": 25,
         "loser_id": 210083,
         "loser_entry": "WC",
         "loser_name": "nan",
         "loser_hand": "U",
         "loser_ht": -1,
         "loser_ioc": "CZE",
         "loser_age": 16,
         "score": "6-3 3-6 6-3",
         "best_of": 3,
         "round": "Q1",
         "minutes": 115,
         "w_ace": 3,
         "w_df": 5,
         "w_svpt": 93,
         "w_1stIn": 64,
         "w_1stWon": 41,
         "w_2ndWon": 16,
         "w_SvGms": 14,
         "w_bpSaved": 4,
         "w_bpFaced": 7,
         "l_ace": 3,
         "l_df": 1,
         "l_svpt": 76,
         "l_1stIn": 44,
         "l_1stWon": 23,
         "l_2ndWon": 24,
         "l_SvGms": 13,
         "l_bpSaved": 3,
         "l_bpFaced": 7,
         "winner_rank": 330,
         "loser_rank": -1,
         "tourney_spectators": 4245,
         "tourney_revenue": 992731.82,
         "winner_name": "Johannes Haerteis",
         "_deepnote_index_column": 54472
        },
        {
         "player_name": "Jakub Mensik",
         "Unnamed: 0": 94593,
         "tourney_id": "2021-0558",
         "tourney_name": "Prostejov CH",
         "surface": "Clay",
         "draw_size": 32,
         "tourney_level": "C",
         "tourney_date": "2021-06-14",
         "match_num": 244,
         "winner_id": 126623,
         "winner_entry": "nan",
         "winner_hand": "U",
         "winner_ht": -1,
         "winner_ioc": "AUT",
         "winner_age": 23,
         "loser_id": 210084,
         "loser_entry": "WC",
         "loser_name": "nan",
         "loser_hand": "U",
         "loser_ht": -1,
         "loser_ioc": "CZE",
         "loser_age": 15,
         "score": "6-3 6-4",
         "best_of": 3,
         "round": "Q1",
         "minutes": 69,
         "w_ace": 5,
         "w_df": 2,
         "w_svpt": 50,
         "w_1stIn": 28,
         "w_1stWon": 25,
         "w_2ndWon": 15,
         "w_SvGms": 10,
         "w_bpSaved": 0,
         "w_bpFaced": 0,
         "l_ace": -1,
         "l_df": 4,
         "l_svpt": 55,
         "l_1stIn": 30,
         "l_1stWon": 25,
         "l_2ndWon": 11,
         "l_SvGms": 9,
         "l_bpSaved": 3,
         "l_bpFaced": 5,
         "winner_rank": 354,
         "loser_rank": -1,
         "tourney_spectators": 4245,
         "tourney_revenue": 992731.82,
         "winner_name": "Alexander Erler",
         "_deepnote_index_column": 54473
        },
        {
         "player_name": "Lui Maxted",
         "Unnamed: 0": 64183,
         "tourney_id": "2021-0741",
         "tourney_name": "Eastbourne",
         "surface": "Grass",
         "draw_size": 32,
         "tourney_level": "A",
         "tourney_date": "2021-06-21",
         "match_num": 248,
         "winner_id": 105613,
         "winner_entry": "nan",
         "winner_hand": "R",
         "winner_ht": 193,
         "winner_ioc": "SVK",
         "winner_age": 30,
         "loser_id": 210085,
         "loser_entry": "WC",
         "loser_name": "nan",
         "loser_hand": "U",
         "loser_ht": -1,
         "loser_ioc": "GBR",
         "loser_age": 17,
         "score": "6-4 7-6(4)",
         "best_of": 3,
         "round": "Q1",
         "minutes": 85,
         "w_ace": -1,
         "w_df": 3,
         "w_svpt": 69,
         "w_1stIn": 44,
         "w_1stWon": 38,
         "w_2ndWon": 12,
         "w_SvGms": 11,
         "w_bpSaved": 3,
         "w_bpFaced": 4,
         "l_ace": -1,
         "l_df": 3,
         "l_svpt": 89,
         "l_1stIn": 57,
         "l_1stWon": 40,
         "l_2ndWon": 14,
         "l_SvGms": 11,
         "l_bpSaved": 11,
         "l_bpFaced": 13,
         "winner_rank": 94,
         "loser_rank": -1,
         "tourney_spectators": 2757,
         "tourney_revenue": 623831.72,
         "winner_name": "Norbert Gombos",
         "_deepnote_index_column": 54474
        },
        {
         "player_name": "Lui Maxted",
         "Unnamed: 0": 94544,
         "tourney_id": "2021-9522",
         "tourney_name": "Nottingham 2 CH",
         "surface": "Grass",
         "draw_size": 32,
         "tourney_level": "C",
         "tourney_date": "2021-06-14",
         "match_num": 250,
         "winner_id": 200390,
         "winner_entry": "nan",
         "winner_hand": "R",
         "winner_ht": -1,
         "winner_ioc": "POL",
         "winner_age": 22,
         "loser_id": 210085,
         "loser_entry": "WC",
         "loser_name": "nan",
         "loser_hand": "U",
         "loser_ht": -1,
         "loser_ioc": "GBR",
         "loser_age": 17,
         "score": "6-2 6-1",
         "best_of": 3,
         "round": "Q1",
         "minutes": 45,
         "w_ace": -1,
         "w_df": 0,
         "w_svpt": 38,
         "w_1stIn": 30,
         "w_1stWon": 23,
         "w_2ndWon": 7,
         "w_SvGms": 7,
         "w_bpSaved": 1,
         "w_bpFaced": 1,
         "l_ace": 3,
         "l_df": 3,
         "l_svpt": 47,
         "l_1stIn": 28,
         "l_1stWon": 14,
         "l_2ndWon": 6,
         "l_SvGms": 8,
         "l_bpSaved": 4,
         "l_bpFaced": 9,
         "winner_rank": 169,
         "loser_rank": -1,
         "tourney_spectators": 2386,
         "tourney_revenue": 495250.69,
         "winner_name": "Kacper Zuk",
         "_deepnote_index_column": 54474
        },
        {
         "player_name": "Lorenzo Angelini",
         "Unnamed: 0": 94503,
         "tourney_id": "2021-9357",
         "tourney_name": "Forli CH",
         "surface": "Clay",
         "draw_size": 32,
         "tourney_level": "C",
         "tourney_date": "2021-06-14",
         "match_num": 248,
         "winner_id": 202058,
         "winner_entry": "nan",
         "winner_hand": "R",
         "winner_ht": -1,
         "winner_ioc": "ARG",
         "winner_age": 20,
         "loser_id": 210086,
         "loser_entry": "WC",
         "loser_name": "nan",
         "loser_hand": "U",
         "loser_ht": -1,
         "loser_ioc": "ITA",
         "loser_age": 15,
         "score": "6-0 6-4",
         "best_of": 3,
         "round": "Q1",
         "minutes": 72,
         "w_ace": 3,
         "w_df": 1,
         "w_svpt": 45,
         "w_1stIn": 31,
         "w_1stWon": 25,
         "w_2ndWon": 10,
         "w_SvGms": 8,
         "w_bpSaved": 3,
         "w_bpFaced": 3,
         "l_ace": 0,
         "l_df": 3,
         "l_svpt": 65,
         "l_1stIn": 41,
         "l_1stWon": 21,
         "l_2ndWon": 12,
         "l_SvGms": 8,
         "l_bpSaved": 5,
         "l_bpFaced": 9,
         "winner_rank": 331,
         "loser_rank": -1,
         "tourney_spectators": 3031,
         "tourney_revenue": 566031.89,
         "winner_name": "Thiago Agustin Tirante",
         "_deepnote_index_column": 54475
        },
        {
         "player_name": "Michele Vianello",
         "Unnamed: 0": 94508,
         "tourney_id": "2021-9357",
         "tourney_name": "Forli CH",
         "surface": "Clay",
         "draw_size": 32,
         "tourney_level": "C",
         "tourney_date": "2021-06-14",
         "match_num": 243,
         "winner_id": 104563,
         "winner_entry": "nan",
         "winner_hand": "R",
         "winner_ht": -1,
         "winner_ioc": "ITA",
         "winner_age": 36,
         "loser_id": 210087,
         "loser_entry": "WC",
         "loser_name": "nan",
         "loser_hand": "R",
         "loser_ht": -1,
         "loser_ioc": "ITA",
         "loser_age": 20,
         "score": "6-3 6-4",
         "best_of": 3,
         "round": "Q1",
         "minutes": 90,
         "w_ace": 1,
         "w_df": 0,
         "w_svpt": 53,
         "w_1stIn": 38,
         "w_1stWon": 26,
         "w_2ndWon": 7,
         "w_SvGms": 10,
         "w_bpSaved": 2,
         "w_bpFaced": 4,
         "l_ace": 2,
         "l_df": 1,
         "l_svpt": 61,
         "l_1stIn": 42,
         "l_1stWon": 21,
         "l_2ndWon": 9,
         "l_SvGms": 9,
         "l_bpSaved": 2,
         "l_bpFaced": 6,
         "winner_rank": 433,
         "loser_rank": -1,
         "tourney_spectators": 3031,
         "tourney_revenue": 566031.89,
         "winner_name": "Luca Vanni",
         "_deepnote_index_column": 54476
        },
        {
         "player_name": "Michele Vianello",
         "Unnamed: 0": 95338,
         "tourney_id": "2021-2120",
         "tourney_name": "Cordenons CH",
         "surface": "Clay",
         "draw_size": 32,
         "tourney_level": "C",
         "tourney_date": "2021-08-02",
         "match_num": 250,
         "winner_id": 207608,
         "winner_entry": "Alt",
         "winner_hand": "R",
         "winner_ht": -1,
         "winner_ioc": "RUS",
         "winner_age": 20,
         "loser_id": 210087,
         "loser_entry": "WC",
         "loser_name": "nan",
         "loser_hand": "R",
         "loser_ht": -1,
         "loser_ioc": "ITA",
         "loser_age": 20,
         "score": "6-4 6-4",
         "best_of": 3,
         "round": "Q1",
         "minutes": 96,
         "w_ace": 0,
         "w_df": 4,
         "w_svpt": 50,
         "w_1stIn": 36,
         "w_1stWon": 25,
         "w_2ndWon": 8,
         "w_SvGms": 10,
         "w_bpSaved": 1,
         "w_bpFaced": 4,
         "l_ace": 2,
         "l_df": 3,
         "l_svpt": 64,
         "l_1stIn": 45,
         "l_1stWon": 28,
         "l_2ndWon": 5,
         "l_SvGms": 10,
         "l_bpSaved": 2,
         "l_bpFaced": 7,
         "winner_rank": 291,
         "loser_rank": -1,
         "tourney_spectators": 2876,
         "tourney_revenue": 543907.53,
         "winner_name": "Timofey Skatov",
         "_deepnote_index_column": 54476
        },
        {
         "player_name": "Ben Shelton",
         "Unnamed: 0": 95003,
         "tourney_id": "2021-7316",
         "tourney_name": "Cary CH",
         "surface": "Hard",
         "draw_size": 32,
         "tourney_level": "C",
         "tourney_date": "2021-07-19",
         "match_num": 254,
         "winner_id": 206499,
         "winner_entry": "nan",
         "winner_hand": "U",
         "winner_ht": -1,
         "winner_ioc": "USA",
         "winner_age": 22,
         "loser_id": 210097,
         "loser_entry": "WC",
         "loser_name": "nan",
         "loser_hand": "L",
         "loser_ht": -1,
         "loser_ioc": "USA",
         "loser_age": 18,
         "score": "6-3 6-4",
         "best_of": 3,
         "round": "Q2",
         "minutes": 85,
         "w_ace": -1,
         "w_df": 4,
         "w_svpt": 74,
         "w_1stIn": 45,
         "w_1stWon": 34,
         "w_2ndWon": 16,
         "w_SvGms": 10,
         "w_bpSaved": 8,
         "w_bpFaced": 8,
         "l_ace": -1,
         "l_df": 5,
         "l_svpt": 55,
         "l_1stIn": 31,
         "l_1stWon": 24,
         "l_2ndWon": 12,
         "l_SvGms": 9,
         "l_bpSaved": 3,
         "l_bpFaced": 5,
         "winner_rank": 413,
         "loser_rank": 1835,
         "tourney_spectators": 3074,
         "tourney_revenue": 583894.56,
         "winner_name": "Aleksandar Kovacevic",
         "_deepnote_index_column": 54485
        },
        {
         "player_name": "William Jansen",
         "Unnamed: 0": 64393,
         "tourney_id": "2021-540",
         "tourney_name": "Wimbledon",
         "surface": "Grass",
         "draw_size": 128,
         "tourney_level": "G",
         "tourney_date": "2021-06-28",
         "match_num": 138,
         "winner_id": 207760,
         "winner_entry": "WC",
         "winner_hand": "U",
         "winner_ht": -1,
         "winner_ioc": "GBR",
         "winner_age": 20,
         "loser_id": 210117,
         "loser_entry": "WC",
         "loser_name": "nan",
         "loser_hand": "L",
         "loser_ht": -1,
         "loser_ioc": "GBR",
         "loser_age": 16,
         "score": "4-6 6-0 6-4",
         "best_of": 3,
         "round": "Q1",
         "minutes": 98,
         "w_ace": -1,
         "w_df": 7,
         "w_svpt": 86,
         "w_1stIn": 46,
         "w_1stWon": 29,
         "w_2ndWon": 19,
         "w_SvGms": 13,
         "w_bpSaved": 7,
         "w_bpFaced": 12,
         "l_ace": 4,
         "l_df": 7,
         "l_svpt": 94,
         "l_1stIn": 53,
         "l_1stWon": 28,
         "l_2ndWon": 17,
         "l_SvGms": 13,
         "l_bpSaved": 8,
         "l_bpFaced": 16,
         "winner_rank": 454,
         "loser_rank": -1,
         "tourney_spectators": 14566,
         "tourney_revenue": 5002793.97,
         "winner_name": "Anton Matusevich",
         "_deepnote_index_column": 54504
        },
        {
         "player_name": "Jasza Szajrych",
         "Unnamed: 0": 95719,
         "tourney_id": "2021-9548",
         "tourney_name": "Warsaw CH",
         "surface": "Clay",
         "draw_size": 32,
         "tourney_level": "C",
         "tourney_date": "2021-08-23",
         "match_num": 247,
         "winner_id": 105060,
         "winner_entry": "nan",
         "winner_hand": "R",
         "winner_ht": 193,
         "winner_ioc": "BIH",
         "winner_age": 33,
         "loser_id": 210155,
         "loser_entry": "WC",
         "loser_name": "nan",
         "loser_hand": "U",
         "loser_ht": -1,
         "loser_ioc": "POL",
         "loser_age": 23,
         "score": "6-0 6-4",
         "best_of": 3,
         "round": "Q1",
         "minutes": 86,
         "w_ace": 1,
         "w_df": 2,
         "w_svpt": 42,
         "w_1stIn": 28,
         "w_1stWon": 21,
         "w_2ndWon": 6,
         "w_SvGms": 8,
         "w_bpSaved": 0,
         "w_bpFaced": 2,
         "l_ace": 3,
         "l_df": 2,
         "l_svpt": 61,
         "l_1stIn": 28,
         "l_1stWon": 14,
         "l_2ndWon": 13,
         "l_SvGms": 8,
         "l_bpSaved": 4,
         "l_bpFaced": 10,
         "winner_rank": 450,
         "loser_rank": -1,
         "tourney_spectators": 3839,
         "tourney_revenue": 605329.45,
         "winner_name": "Aldin Setkic",
         "_deepnote_index_column": 54540
        }
       ]
      },
      "text/plain": "            player_name  Unnamed: 0 tourney_id     tourney_name surface  \\\n643    Alexander Zverev         352   2019-580  Australian Open    Hard   \n643    Alexander Zverev         363   2019-580  Australian Open    Hard   \n643    Alexander Zverev         364   2019-580  Australian Open    Hard   \n643    Alexander Zverev        1145  2019-M004         Acapulco    Hard   \n643    Alexander Zverev        1149  2019-M004         Acapulco    Hard   \n...                 ...         ...        ...              ...     ...   \n54476  Michele Vianello       94508  2021-9357         Forli CH    Clay   \n54476  Michele Vianello       95338  2021-2120     Cordenons CH    Clay   \n54485       Ben Shelton       95003  2021-7316          Cary CH    Hard   \n54504    William Jansen       64393   2021-540        Wimbledon   Grass   \n54540    Jasza Szajrych       95719  2021-9548        Warsaw CH    Clay   \n\n       draw_size tourney_level tourney_date  match_num  winner_id  ...  \\\n643          128             G   2019-01-14        200     100644  ...   \n643          128             G   2019-01-14        116     100644  ...   \n643          128             G   2019-01-14        172     100644  ...   \n643           32             A   2019-02-25        298     100644  ...   \n643           32             A   2019-02-25        294     100644  ...   \n...          ...           ...          ...        ...        ...  ...   \n54476         32             C   2021-06-14        243     104563  ...   \n54476         32             C   2021-08-02        250     207608  ...   \n54485         32             C   2021-07-19        254     206499  ...   \n54504        128             G   2021-06-28        138     207760  ...   \n54540         32             C   2021-08-23        247     105060  ...   \n\n      l_1stWon l_2ndWon  l_SvGms l_bpSaved  l_bpFaced  winner_rank loser_rank  \\\n643       37.0     12.0     13.0       6.0       12.0            4        155   \n643       34.0      8.0     13.0       2.0        8.0            4         67   \n643       86.0     29.0     26.0      12.0       17.0            4         36   \n643       29.0      8.0     10.0       2.0        4.0            3         64   \n643       28.0     11.0     10.0       0.0        2.0            3         26   \n...        ...      ...      ...       ...        ...          ...        ...   \n54476     21.0      9.0      9.0       2.0        6.0          433         -1   \n54476     28.0      5.0     10.0       2.0        7.0          291         -1   \n54485     24.0     12.0      9.0       3.0        5.0          413       1835   \n54504     28.0     17.0     13.0       8.0       16.0          454         -1   \n54540     14.0     13.0      8.0       4.0       10.0          450         -1   \n\n      tourney_spectators tourney_revenue           winner_name  \n643              15583.0      2781000.18                   NaN  \n643              15583.0      2781000.18                   NaN  \n643              15583.0      2781000.18                   NaN  \n643               3398.0       655207.08                   NaN  \n643               3398.0       655207.08                   NaN  \n...                  ...             ...                   ...  \n54476             3031.0       566031.89            Luca Vanni  \n54476             2876.0       543907.53        Timofey Skatov  \n54485             3074.0       583894.56  Aleksandar Kovacevic  \n54504            14566.0      5002793.97      Anton Matusevich  \n54540             3839.0       605329.45          Aldin Setkic  \n\n[116822 rows x 49 columns]",
      "text/html": "<div>\n<style scoped>\n    .dataframe tbody tr th:only-of-type {\n        vertical-align: middle;\n    }\n\n    .dataframe tbody tr th {\n        vertical-align: top;\n    }\n\n    .dataframe thead th {\n        text-align: right;\n    }\n</style>\n<table border=\"1\" class=\"dataframe\">\n  <thead>\n    <tr style=\"text-align: right;\">\n      <th></th>\n      <th>player_name</th>\n      <th>Unnamed: 0</th>\n      <th>tourney_id</th>\n      <th>tourney_name</th>\n      <th>surface</th>\n      <th>draw_size</th>\n      <th>tourney_level</th>\n      <th>tourney_date</th>\n      <th>match_num</th>\n      <th>winner_id</th>\n      <th>...</th>\n      <th>l_1stWon</th>\n      <th>l_2ndWon</th>\n      <th>l_SvGms</th>\n      <th>l_bpSaved</th>\n      <th>l_bpFaced</th>\n      <th>winner_rank</th>\n      <th>loser_rank</th>\n      <th>tourney_spectators</th>\n      <th>tourney_revenue</th>\n      <th>winner_name</th>\n    </tr>\n  </thead>\n  <tbody>\n    <tr>\n      <th>643</th>\n      <td>Alexander Zverev</td>\n      <td>352</td>\n      <td>2019-580</td>\n      <td>Australian Open</td>\n      <td>Hard</td>\n      <td>128</td>\n      <td>G</td>\n      <td>2019-01-14</td>\n      <td>200</td>\n      <td>100644</td>\n      <td>...</td>\n      <td>37.0</td>\n      <td>12.0</td>\n      <td>13.0</td>\n      <td>6.0</td>\n      <td>12.0</td>\n      <td>4</td>\n      <td>155</td>\n      <td>15583.0</td>\n      <td>2781000.18</td>\n      <td>NaN</td>\n    </tr>\n    <tr>\n      <th>643</th>\n      <td>Alexander Zverev</td>\n      <td>363</td>\n      <td>2019-580</td>\n      <td>Australian Open</td>\n      <td>Hard</td>\n      <td>128</td>\n      <td>G</td>\n      <td>2019-01-14</td>\n      <td>116</td>\n      <td>100644</td>\n      <td>...</td>\n      <td>34.0</td>\n      <td>8.0</td>\n      <td>13.0</td>\n      <td>2.0</td>\n      <td>8.0</td>\n      <td>4</td>\n      <td>67</td>\n      <td>15583.0</td>\n      <td>2781000.18</td>\n      <td>NaN</td>\n    </tr>\n    <tr>\n      <th>643</th>\n      <td>Alexander Zverev</td>\n      <td>364</td>\n      <td>2019-580</td>\n      <td>Australian Open</td>\n      <td>Hard</td>\n      <td>128</td>\n      <td>G</td>\n      <td>2019-01-14</td>\n      <td>172</td>\n      <td>100644</td>\n      <td>...</td>\n      <td>86.0</td>\n      <td>29.0</td>\n      <td>26.0</td>\n      <td>12.0</td>\n      <td>17.0</td>\n      <td>4</td>\n      <td>36</td>\n      <td>15583.0</td>\n      <td>2781000.18</td>\n      <td>NaN</td>\n    </tr>\n    <tr>\n      <th>643</th>\n      <td>Alexander Zverev</td>\n      <td>1145</td>\n      <td>2019-M004</td>\n      <td>Acapulco</td>\n      <td>Hard</td>\n      <td>32</td>\n      <td>A</td>\n      <td>2019-02-25</td>\n      <td>298</td>\n      <td>100644</td>\n      <td>...</td>\n      <td>29.0</td>\n      <td>8.0</td>\n      <td>10.0</td>\n      <td>2.0</td>\n      <td>4.0</td>\n      <td>3</td>\n      <td>64</td>\n      <td>3398.0</td>\n      <td>655207.08</td>\n      <td>NaN</td>\n    </tr>\n    <tr>\n      <th>643</th>\n      <td>Alexander Zverev</td>\n      <td>1149</td>\n      <td>2019-M004</td>\n      <td>Acapulco</td>\n      <td>Hard</td>\n      <td>32</td>\n      <td>A</td>\n      <td>2019-02-25</td>\n      <td>294</td>\n      <td>100644</td>\n      <td>...</td>\n      <td>28.0</td>\n      <td>11.0</td>\n      <td>10.0</td>\n      <td>0.0</td>\n      <td>2.0</td>\n      <td>3</td>\n      <td>26</td>\n      <td>3398.0</td>\n      <td>655207.08</td>\n      <td>NaN</td>\n    </tr>\n    <tr>\n      <th>...</th>\n      <td>...</td>\n      <td>...</td>\n      <td>...</td>\n      <td>...</td>\n      <td>...</td>\n      <td>...</td>\n      <td>...</td>\n      <td>...</td>\n      <td>...</td>\n      <td>...</td>\n      <td>...</td>\n      <td>...</td>\n      <td>...</td>\n      <td>...</td>\n      <td>...</td>\n      <td>...</td>\n      <td>...</td>\n      <td>...</td>\n      <td>...</td>\n      <td>...</td>\n      <td>...</td>\n    </tr>\n    <tr>\n      <th>54476</th>\n      <td>Michele Vianello</td>\n      <td>94508</td>\n      <td>2021-9357</td>\n      <td>Forli CH</td>\n      <td>Clay</td>\n      <td>32</td>\n      <td>C</td>\n      <td>2021-06-14</td>\n      <td>243</td>\n      <td>104563</td>\n      <td>...</td>\n      <td>21.0</td>\n      <td>9.0</td>\n      <td>9.0</td>\n      <td>2.0</td>\n      <td>6.0</td>\n      <td>433</td>\n      <td>-1</td>\n      <td>3031.0</td>\n      <td>566031.89</td>\n      <td>Luca Vanni</td>\n    </tr>\n    <tr>\n      <th>54476</th>\n      <td>Michele Vianello</td>\n      <td>95338</td>\n      <td>2021-2120</td>\n      <td>Cordenons CH</td>\n      <td>Clay</td>\n      <td>32</td>\n      <td>C</td>\n      <td>2021-08-02</td>\n      <td>250</td>\n      <td>207608</td>\n      <td>...</td>\n      <td>28.0</td>\n      <td>5.0</td>\n      <td>10.0</td>\n      <td>2.0</td>\n      <td>7.0</td>\n      <td>291</td>\n      <td>-1</td>\n      <td>2876.0</td>\n      <td>543907.53</td>\n      <td>Timofey Skatov</td>\n    </tr>\n    <tr>\n      <th>54485</th>\n      <td>Ben Shelton</td>\n      <td>95003</td>\n      <td>2021-7316</td>\n      <td>Cary CH</td>\n      <td>Hard</td>\n      <td>32</td>\n      <td>C</td>\n      <td>2021-07-19</td>\n      <td>254</td>\n      <td>206499</td>\n      <td>...</td>\n      <td>24.0</td>\n      <td>12.0</td>\n      <td>9.0</td>\n      <td>3.0</td>\n      <td>5.0</td>\n      <td>413</td>\n      <td>1835</td>\n      <td>3074.0</td>\n      <td>583894.56</td>\n      <td>Aleksandar Kovacevic</td>\n    </tr>\n    <tr>\n      <th>54504</th>\n      <td>William Jansen</td>\n      <td>64393</td>\n      <td>2021-540</td>\n      <td>Wimbledon</td>\n      <td>Grass</td>\n      <td>128</td>\n      <td>G</td>\n      <td>2021-06-28</td>\n      <td>138</td>\n      <td>207760</td>\n      <td>...</td>\n      <td>28.0</td>\n      <td>17.0</td>\n      <td>13.0</td>\n      <td>8.0</td>\n      <td>16.0</td>\n      <td>454</td>\n      <td>-1</td>\n      <td>14566.0</td>\n      <td>5002793.97</td>\n      <td>Anton Matusevich</td>\n    </tr>\n    <tr>\n      <th>54540</th>\n      <td>Jasza Szajrych</td>\n      <td>95719</td>\n      <td>2021-9548</td>\n      <td>Warsaw CH</td>\n      <td>Clay</td>\n      <td>32</td>\n      <td>C</td>\n      <td>2021-08-23</td>\n      <td>247</td>\n      <td>105060</td>\n      <td>...</td>\n      <td>14.0</td>\n      <td>13.0</td>\n      <td>8.0</td>\n      <td>4.0</td>\n      <td>10.0</td>\n      <td>450</td>\n      <td>-1</td>\n      <td>3839.0</td>\n      <td>605329.45</td>\n      <td>Aldin Setkic</td>\n    </tr>\n  </tbody>\n</table>\n<p>116822 rows × 49 columns</p>\n</div>"
     },
     "metadata": {}
    }
   ]
  },
  {
   "cell_type": "markdown",
   "source": "df_male_matches.describe()",
   "metadata": {
    "tags": [],
    "cell_id": "00003-d9eb7dfe-07d7-48d4-8186-6b484be7d7ce",
    "deepnote_cell_type": "markdown"
   }
  },
  {
   "cell_type": "code",
   "metadata": {
    "tags": [],
    "cell_id": "00004-ec7627c3-2f5a-41ac-833e-11db4cfc18c0",
    "deepnote_to_be_reexecuted": false,
    "source_hash": "36b60bd4",
    "execution_start": 1635494179886,
    "execution_millis": 1330,
    "deepnote_cell_type": "code"
   },
   "source": "df_female_players_tmp = pd.DataFrame()\ndf_female_players_tmp['player_name'] = df_female_players['name'] + ' ' + df_female_players['surname']\ndf_female_winners = df_female_players_tmp.join(df_matches.set_index('winner_name'), on='player_name', how='inner')\ndf_female_losers = df_female_players_tmp.join(df_matches.set_index('loser_name'), on='player_name', how='inner')\ndf_female_matches = pd.concat([df_female_winners, df_female_losers])",
   "outputs": [],
   "execution_count": null
  },
  {
   "cell_type": "code",
   "metadata": {
    "tags": [],
    "cell_id": "00008-e08de8e1-aa1f-4779-9bda-64006252c48f",
    "deepnote_to_be_reexecuted": false,
    "source_hash": "b493f07e",
    "execution_start": 1635430262396,
    "execution_millis": 42,
    "deepnote_cell_type": "code"
   },
   "source": "df_male_matches_reduced = df_male_losers[['player_name', 'winner_id', 'winner_ht', 'winner_age', 'tourney_date']]\ndf_male_matches_reduced[df_male_matches_reduced['player_name'] == 'Aaron Addison']",
   "execution_count": null,
   "outputs": [
    {
     "output_type": "execute_result",
     "execution_count": 45,
     "data": {
      "application/vnd.deepnote.dataframe.v2+json": {
       "row_count": 9,
       "column_count": 5,
       "columns": [
        {
         "name": "player_name",
         "dtype": "object",
         "stats": {
          "unique_count": 1,
          "nan_count": 0,
          "categories": [
           {
            "name": "Aaron Addison",
            "count": 9
           }
          ]
         }
        },
        {
         "name": "winner_id",
         "dtype": "int64",
         "stats": {
          "unique_count": 9,
          "nan_count": 0,
          "min": "102864",
          "max": "200640",
          "histogram": [
           {
            "bin_start": 102864,
            "bin_end": 112641.6,
            "count": 5
           },
           {
            "bin_start": 112641.6,
            "bin_end": 122419.2,
            "count": 2
           },
           {
            "bin_start": 122419.2,
            "bin_end": 132196.8,
            "count": 0
           },
           {
            "bin_start": 132196.8,
            "bin_end": 141974.4,
            "count": 0
           },
           {
            "bin_start": 141974.4,
            "bin_end": 151752,
            "count": 0
           },
           {
            "bin_start": 151752,
            "bin_end": 161529.6,
            "count": 0
           },
           {
            "bin_start": 161529.6,
            "bin_end": 171307.2,
            "count": 0
           },
           {
            "bin_start": 171307.2,
            "bin_end": 181084.8,
            "count": 0
           },
           {
            "bin_start": 181084.8,
            "bin_end": 190862.40000000002,
            "count": 0
           },
           {
            "bin_start": 190862.40000000002,
            "bin_end": 200640,
            "count": 2
           }
          ]
         }
        },
        {
         "name": "winner_ht",
         "dtype": "int64",
         "stats": {
          "unique_count": 2,
          "nan_count": 0,
          "min": "-1",
          "max": "193",
          "histogram": [
           {
            "bin_start": -1,
            "bin_end": 18.4,
            "count": 8
           },
           {
            "bin_start": 18.4,
            "bin_end": 37.8,
            "count": 0
           },
           {
            "bin_start": 37.8,
            "bin_end": 57.199999999999996,
            "count": 0
           },
           {
            "bin_start": 57.199999999999996,
            "bin_end": 76.6,
            "count": 0
           },
           {
            "bin_start": 76.6,
            "bin_end": 96,
            "count": 0
           },
           {
            "bin_start": 96,
            "bin_end": 115.39999999999999,
            "count": 0
           },
           {
            "bin_start": 115.39999999999999,
            "bin_end": 134.79999999999998,
            "count": 0
           },
           {
            "bin_start": 134.79999999999998,
            "bin_end": 154.2,
            "count": 0
           },
           {
            "bin_start": 154.2,
            "bin_end": 173.6,
            "count": 0
           },
           {
            "bin_start": 173.6,
            "bin_end": 193,
            "count": 1
           }
          ]
         }
        },
        {
         "name": "winner_age",
         "dtype": "int64",
         "stats": {
          "unique_count": 7,
          "nan_count": 0,
          "min": "18",
          "max": "30",
          "histogram": [
           {
            "bin_start": 18,
            "bin_end": 19.2,
            "count": 4
           },
           {
            "bin_start": 19.2,
            "bin_end": 20.4,
            "count": 0
           },
           {
            "bin_start": 20.4,
            "bin_end": 21.6,
            "count": 1
           },
           {
            "bin_start": 21.6,
            "bin_end": 22.8,
            "count": 0
           },
           {
            "bin_start": 22.8,
            "bin_end": 24,
            "count": 1
           },
           {
            "bin_start": 24,
            "bin_end": 25.2,
            "count": 1
           },
           {
            "bin_start": 25.2,
            "bin_end": 26.4,
            "count": 1
           },
           {
            "bin_start": 26.4,
            "bin_end": 27.6,
            "count": 0
           },
           {
            "bin_start": 27.6,
            "bin_end": 28.799999999999997,
            "count": 0
           },
           {
            "bin_start": 28.799999999999997,
            "bin_end": 30,
            "count": 1
           }
          ]
         }
        },
        {
         "name": "tourney_date",
         "dtype": "datetime64[ns]",
         "stats": {
          "unique_count": 9,
          "nan_count": 0,
          "min": "2016-01-11 00:00:00",
          "max": "2020-01-13 00:00:00",
          "histogram": [
           {
            "bin_start": 1452470400000000000,
            "bin_end": 1465110720000000000,
            "count": 2
           },
           {
            "bin_start": 1465110720000000000,
            "bin_end": 1477751040000000000,
            "count": 1
           },
           {
            "bin_start": 1477751040000000000,
            "bin_end": 1490391360000000000,
            "count": 1
           },
           {
            "bin_start": 1490391360000000000,
            "bin_end": 1503031680000000000,
            "count": 0
           },
           {
            "bin_start": 1503031680000000000,
            "bin_end": 1515672000000000000,
            "count": 0
           },
           {
            "bin_start": 1515672000000000000,
            "bin_end": 1528312320000000000,
            "count": 0
           },
           {
            "bin_start": 1528312320000000000,
            "bin_end": 1540952640000000000,
            "count": 1
           },
           {
            "bin_start": 1540952640000000000,
            "bin_end": 1553592960000000000,
            "count": 1
           },
           {
            "bin_start": 1553592960000000000,
            "bin_end": 1566233280000000000,
            "count": 0
           },
           {
            "bin_start": 1566233280000000000,
            "bin_end": 1578873600000000000,
            "count": 3
           }
          ]
         }
        },
        {
         "name": "_deepnote_index_column",
         "dtype": "int64"
        }
       ],
       "rows_top": [
        {
         "player_name": "Aaron Addison",
         "winner_id": "117357",
         "winner_ht": "-1",
         "winner_age": "19",
         "tourney_date": "2016-10-24 00:00:00",
         "_deepnote_index_column": "31893"
        },
        {
         "player_name": "Aaron Addison",
         "winner_id": "117360",
         "winner_ht": "-1",
         "winner_age": "18",
         "tourney_date": "2016-02-01 00:00:00",
         "_deepnote_index_column": "31893"
        },
        {
         "player_name": "Aaron Addison",
         "winner_id": "102864",
         "winner_ht": "193",
         "winner_age": "18",
         "tourney_date": "2016-01-11 00:00:00",
         "_deepnote_index_column": "31893"
        },
        {
         "player_name": "Aaron Addison",
         "winner_id": "105429",
         "winner_ht": "-1",
         "winner_age": "26",
         "tourney_date": "2016-10-31 00:00:00",
         "_deepnote_index_column": "31893"
        },
        {
         "player_name": "Aaron Addison",
         "winner_id": "111806",
         "winner_ht": "-1",
         "winner_age": "23",
         "tourney_date": "2020-01-13 00:00:00",
         "_deepnote_index_column": "31893"
        },
        {
         "player_name": "Aaron Addison",
         "winner_id": "105349",
         "winner_ht": "-1",
         "winner_age": "30",
         "tourney_date": "2019-10-21 00:00:00",
         "_deepnote_index_column": "31893"
        },
        {
         "player_name": "Aaron Addison",
         "winner_id": "106172",
         "winner_ht": "-1",
         "winner_age": "25",
         "tourney_date": "2019-01-07 00:00:00",
         "_deepnote_index_column": "31893"
        },
        {
         "player_name": "Aaron Addison",
         "winner_id": "200614",
         "winner_ht": "-1",
         "winner_age": "21",
         "tourney_date": "2019-10-28 00:00:00",
         "_deepnote_index_column": "31893"
        },
        {
         "player_name": "Aaron Addison",
         "winner_id": "200640",
         "winner_ht": "-1",
         "winner_age": "19",
         "tourney_date": "2018-10-22 00:00:00",
         "_deepnote_index_column": "31893"
        }
       ],
       "rows_bottom": null
      },
      "text/plain": "         player_name  winner_id  winner_ht  winner_age tourney_date\n31893  Aaron Addison     117357         -1          19   2016-10-24\n31893  Aaron Addison     117360         -1          18   2016-02-01\n31893  Aaron Addison     102864        193          18   2016-01-11\n31893  Aaron Addison     105429         -1          26   2016-10-31\n31893  Aaron Addison     111806         -1          23   2020-01-13\n31893  Aaron Addison     105349         -1          30   2019-10-21\n31893  Aaron Addison     106172         -1          25   2019-01-07\n31893  Aaron Addison     200614         -1          21   2019-10-28\n31893  Aaron Addison     200640         -1          19   2018-10-22",
      "text/html": "<div>\n<style scoped>\n    .dataframe tbody tr th:only-of-type {\n        vertical-align: middle;\n    }\n\n    .dataframe tbody tr th {\n        vertical-align: top;\n    }\n\n    .dataframe thead th {\n        text-align: right;\n    }\n</style>\n<table border=\"1\" class=\"dataframe\">\n  <thead>\n    <tr style=\"text-align: right;\">\n      <th></th>\n      <th>player_name</th>\n      <th>winner_id</th>\n      <th>winner_ht</th>\n      <th>winner_age</th>\n      <th>tourney_date</th>\n    </tr>\n  </thead>\n  <tbody>\n    <tr>\n      <th>31893</th>\n      <td>Aaron Addison</td>\n      <td>117357</td>\n      <td>-1</td>\n      <td>19</td>\n      <td>2016-10-24</td>\n    </tr>\n    <tr>\n      <th>31893</th>\n      <td>Aaron Addison</td>\n      <td>117360</td>\n      <td>-1</td>\n      <td>18</td>\n      <td>2016-02-01</td>\n    </tr>\n    <tr>\n      <th>31893</th>\n      <td>Aaron Addison</td>\n      <td>102864</td>\n      <td>193</td>\n      <td>18</td>\n      <td>2016-01-11</td>\n    </tr>\n    <tr>\n      <th>31893</th>\n      <td>Aaron Addison</td>\n      <td>105429</td>\n      <td>-1</td>\n      <td>26</td>\n      <td>2016-10-31</td>\n    </tr>\n    <tr>\n      <th>31893</th>\n      <td>Aaron Addison</td>\n      <td>111806</td>\n      <td>-1</td>\n      <td>23</td>\n      <td>2020-01-13</td>\n    </tr>\n    <tr>\n      <th>31893</th>\n      <td>Aaron Addison</td>\n      <td>105349</td>\n      <td>-1</td>\n      <td>30</td>\n      <td>2019-10-21</td>\n    </tr>\n    <tr>\n      <th>31893</th>\n      <td>Aaron Addison</td>\n      <td>106172</td>\n      <td>-1</td>\n      <td>25</td>\n      <td>2019-01-07</td>\n    </tr>\n    <tr>\n      <th>31893</th>\n      <td>Aaron Addison</td>\n      <td>200614</td>\n      <td>-1</td>\n      <td>21</td>\n      <td>2019-10-28</td>\n    </tr>\n    <tr>\n      <th>31893</th>\n      <td>Aaron Addison</td>\n      <td>200640</td>\n      <td>-1</td>\n      <td>19</td>\n      <td>2018-10-22</td>\n    </tr>\n  </tbody>\n</table>\n</div>"
     },
     "metadata": {}
    }
   ]
  },
  {
   "cell_type": "markdown",
   "source": "- name\n- hand\n- sex\n- nationality\n- win percentage\n- tot match\n- number of won tournment\n\n- year with more matches\n- year with less matches\n- year with more wins\n- year with less wins",
   "metadata": {
    "tags": [],
    "cell_id": "00009-063779da-414d-41b2-bf8e-86943e276433",
    "deepnote_cell_type": "markdown"
   }
  },
  {
   "cell_type": "markdown",
   "source": "Reset the index of both the new data frames",
   "metadata": {
    "tags": [],
    "cell_id": "00011-c41368d2-5f19-412d-a28e-6f81e52ad09b",
    "deepnote_cell_type": "markdown"
   }
  },
  {
   "cell_type": "code",
   "metadata": {
    "tags": [],
    "cell_id": "00010-737acebf-4fbb-46f8-96a8-ccd22656863d",
    "deepnote_to_be_reexecuted": false,
    "source_hash": "5c0bb29e",
    "execution_start": 1635494185137,
    "execution_millis": 4,
    "deepnote_cell_type": "code"
   },
   "source": "df_male_matches.reset_index(drop=True, inplace=True)\ndf_female_matches.reset_index(drop=True, inplace=True)",
   "outputs": [],
   "execution_count": null
  },
  {
   "cell_type": "code",
   "metadata": {
    "tags": [],
    "cell_id": "00010-caf6ceb5-eb96-47e4-8b64-93525701e5cf",
    "deepnote_to_be_reexecuted": false,
    "source_hash": "1a5e8da2",
    "execution_start": 1635432968443,
    "execution_millis": 302760,
    "deepnote_cell_type": "code"
   },
   "source": "df_player = pd.DataFrame()\n\nlist_of_male_names = df_male_matches['player_name'].unique()\n#list_of_male_names = df_male_players_tmp['player_name'].unique()\nprint(f\"Lunghezza lista: {len(list_of_male_names)}\")\ndf_player['Name'] = list_of_male_names\ndf_player['Sex'] = 'M'\ni = 0\n\nfor name in list_of_male_names:\n    print(i)\n    i+=1\n    df_player_matches = df_matches[(df_matches['winner_name'] == name) | (df_matches['loser_name'] == name)]\n\n    #player's hand\n    df_h = [x for x in df_player_matches[(df_player_matches['winner_name'] == name) &  (df_player_matches['winner_hand'] != 'U')]['winner_hand']]\n    if len(df_h) > 0:\n        df_player.loc[df_player['Name'] == name, 'Hand'] = df_h[0]\n    else:\n        df_h = [x for x in df_player_matches[(df_player_matches['loser_name'] == name) &  (df_player_matches['loser_hand'] != 'U')]['loser_hand']]\n        if len(df_h) > 0:\n            df_player.loc[df_player['Name'] == name, 'Hand'] = df_h[0]\n        else:\n            df_player.loc[df_player['Name'] == name, 'Hand'] = 'U'\n\n    #player's nationality\n    df_h = [x for x in df_player_matches[(df_player_matches['winner_name'] == name) &  (df_player_matches['winner_ioc'] != None)]['winner_ioc']]\n    if len(df_h) > 0:\n        df_player.loc[df_player['Name'] == name, 'IOC'] = df_h[0]\n    else:\n        df_h = [x for x in df_player_matches[(df_player_matches['loser_name'] == name) &  (df_player_matches['loser_ioc'] != 'U')]['loser_ioc']]\n        if len(df_h) > 0:\n            df_player.loc[df_player['Name'] == name, 'IOC'] = df_h[0]\n        else:\n            df_player.loc[df_player['Name'] == name, 'IOC'] = 'Undefined'\n    \n    df_player.loc[df_player['Name'] == name, 'Won_Tournaments'] = df_player_matches[(df_player_matches['round'] == 'F') & (df_player_matches['winner_name'] == name)].shape[0]\n\n    if df_player_matches.shape[0] != 0:\n        df_player.loc[df_player['Name'] == name, 'Number_of_Matches'] = df_player_matches.shape[0]\n        df_player.loc[df_player['Name'] == name, 'Win_Percentage'] = df_player_matches[df_player_matches['winner_name'] == name].shape[0]/df_player_matches.shape[0]\n    \n    match_per_year = df_male_matches[df_male_matches['player_name']==name]['tourney_date'].groupby(df_male_matches['tourney_date'].dt.year).count()\n    if len(match_per_year) > 0:\n        df_player.loc[df_player['Name'] == name, 'best_year_matches'] = match_per_year.idxmax()\n        df_player.loc[df_player['Name'] == name, 'worst_year_matches'] = match_per_year.idxmin()\n\n    wins_per_year = df_male_matches[df_male_matches['winner_name']==name]['tourney_date'].groupby(df_male_matches['tourney_date'].dt.year).count()\n    if len(wins_per_year) > 0:\n        df_player.loc[df_player['Name'] == name, 'best_year_wins'] = wins_per_year.idxmax()\n        df_player.loc[df_player['Name'] == name, 'worst_year_wins'] = wins_per_year.idxmin()\n\n\n",
   "execution_count": null,
   "outputs": [
    {
     "name": "stdout",
     "text": "2019\n2020\n2021\n2022\n2023\n2024\n2025\n2026\n2027\n2028\n2029\n2030\n2031\n2032\n2033\n2034\n2035\n2036\n2037\n2038\n2039\n2040\n2041\n2042\n2043\n2044\n2045\n2046\n2047\n2048\n2049\n2050\n2051\n2052\n2053\n2054\n2055\n2056\n2057\n2058\n2059\n2060\n2061\n2062\n2063\n2064\n2065\n2066\n2067\n2068\n2069\n2070\n2071\n2072\n2073\n2074\n2075\n2076\n2077\n2078\n2079\n2080\n2081\n2082\n2083\n2084\n2085\n2086\n2087\n2088\n2089\n2090\n2091\n2092\n2093\n2094\n2095\n2096\n2097\n2098\n2099\n2100\n2101\n2102\n2103\n2104\n2105\n2106\n2107\n2108\n2109\n2110\n2111\n2112\n2113\n2114\n2115\n2116\n2117\n2118\n2119\n2120\n2121\n2122\n2123\n2124\n2125\n2126\n2127\n2128\n2129\n2130\n2131\n2132\n2133\n2134\n2135\n2136\n2137\n2138\n2139\n2140\n2141\n2142\n2143\n2144\n2145\n2146\n2147\n2148\n2149\n2150\n2151\n2152\n2153\n2154\n2155\n2156\n2157\n2158\n2159\n2160\n2161\n2162\n2163\n2164\n2165\n2166\n2167\n2168\n2169\n2170\n2171\n2172\n2173\n2174\n2175\n2176\n2177\n2178\n2179\n2180\n2181\n2182\n2183\n2184\n2185\n2186\n2187\n2188\n2189\n2190\n2191\n2192\n2193\n2194\n2195\n2196\n2197\n2198\n2199\n2200\n2201\n2202\n2203\n2204\n2205\n2206\n2207\n2208\n2209\n2210\n2211\n2212\n2213\n2214\n2215\n2216\n2217\n2218\n2219\n2220\n2221\n2222\n2223\n2224\n2225\n2226\n2227\n2228\n2229\n2230\n2231\n2232\n2233\n2234\n2235\n2236\n2237\n2238\n2239\n2240\n2241\n2242\n2243\n2244\n2245\n2246\n2247\n2248\n2249\n2250\n2251\n2252\n2253\n2254\n2255\n2256\n2257\n2258\n2259\n2260\n2261\n2262\n2263\n2264\n2265\n2266\n2267\n2268\n2269\n2270\n2271\n2272\n2273\n2274\n2275\n2276\n2277\n2278\n2279\n2280\n2281\n2282\n2283\n2284\n2285\n2286\n2287\n2288\n2289\n2290\n2291\n2292\n2293\n2294\n2295\n2296\n2297\n2298\n2299\n2300\n2301\n2302\n2303\n2304\n2305\n2306\n2307\n2308\n2309\n2310\n2311\n2312\n2313\n2314\n2315\n2316\n2317\n2318\n2319\n2320\n2321\n2322\n2323\n2324\n2325\n2326\n2327\n2328\n2329\n2330\n2331\n2332\n2333\n2334\n2335\n2336\n2337\n2338\n2339\n2340\n2341\n2342\n2343\n2344\n2345\n2346\n2347\n2348\n2349\n2350\n2351\n2352\n2353\n2354\n2355\n2356\n2357\n2358\n2359\n2360\n2361\n2362\n2363\n2364\n2365\n2366\n2367\n2368\n2369\n2370\n2371\n2372\n2373\n2374\n2375\n2376\n2377\n2378\n2379\n2380\n2381\n2382\n2383\n2384\n2385\n2386\n2387\n2388\n2389\n2390\n2391\n2392\n2393\n2394\n2395\n2396\n2397\n2398\n2399\n2400\n2401\n2402\n2403\n2404\n2405\n2406\n2407\n2408\n2409\n2410\n2411\n2412\n2413\n2414\n2415\n2416\n2417\n2418\n2419\n2420\n2421\n2422\n2423\n2424\n2425\n2426\n2427\n2428\n2429\n2430\n2431\n2432\n2433\n2434\n2435\n2436\n2437\n2438\n2439\n2440\n2441\n2442\n2443\n2444\n2445\n2446\n2447\n2448\n2449\n2450\n2451\n2452\n2453\n2454\n2455\n2456\n2457\n2458\n2459\n2460\n2461\n2462\n2463\n2464\n2465\n2466\n2467\n2468\n2469\n2470\n2471\n2472\n2473\n2474\n2475\n2476\n2477\n2478\n2479\n2480\n2481\n2482\n2483\n2484\n2485\n2486\n2487\n2488\n2489\n2490\n2491\n2492\n2493\n2494\n2495\n2496\n2497\n2498\n2499\n2500\n2501\n2502\n2503\n2504\n2505\n2506\n2507\n2508\n2509\n2510\n2511\n2512\n2513\n2514\n2515\n2516\n2517\n2518\n2519\n2520\n2521\n2522\n2523\n2524\n2525\n2526\n2527\n2528\n2529\n2530\n2531\n2532\n2533\n2534\n2535\n2536\n2537\n2538\n2539\n2540\n2541\n2542\n2543\n2544\n2545\n2546\n2547\n2548\n2549\n2550\n2551\n2552\n2553\n2554\n2555\n2556\n2557\n2558\n2559\n2560\n2561\n2562\n2563\n2564\n2565\n2566\n2567\n2568\n2569\n2570\n2571\n2572\n2573\n2574\n2575\n2576\n2577\n2578\n2579\n2580\n2581\n2582\n2583\n2584\n2585\n2586\n2587\n2588\n2589\n2590\n2591\n2592\n2593\n2594\n2595\n2596\n2597\n2598\n2599\n2600\n2601\n2602\n2603\n2604\n2605\n2606\n2607\n2608\n2609\n2610\n2611\n2612\n2613\n2614\n2615\n2616\n2617\n2618\n2619\n2620\n2621\n2622\n2623\n2624\n2625\n2626\n2627\n2628\n2629\n2630\n2631\n2632\n2633\n2634\n2635\n2636\n2637\n2638\n2639\n2640\n2641\n2642\n2643\n2644\n2645\n2646\n2647\n2648\n2649\n2650\n2651\n2652\n2653\n2654\n2655\n2656\n2657\n2658\n2659\n2660\n2661\n2662\n2663\n2664\n2665\n2666\n2667\n2668\n2669\n2670\n2671\n2672\n2673\n2674\n2675\n2676\n2677\n2678\n2679\n2680\n2681\n2682\n2683\n2684\n2685\n2686\n2687\n2688\n2689\n2690\n2691\n2692\n2693\n2694\n2695\n2696\n2697\n2698\n2699\n2700\n2701\n2702\n2703\n2704\n2705\n2706\n2707\n2708\n2709\n2710\n2711\n2712\n2713\n2714\n2715\n2716\n2717\n2718\n2719\n2720\n2721\n2722\n2723\n2724\n2725\n2726\n2727\n2728\n2729\n2730\n2731\n2732\n2733\n2734\n2735\n2736\n2737\n2738\n2739\n2740\n2741\n2742\n2743\n2744\n2745\n2746\n2747\n2748\n2749\n2750\n2751\n2752\n2753\n2754\n2755\n2756\n2757\n2758\n2759\n2760\n2761\n2762\n2763\n2764\n2765\n2766\n2767\n2768\n2769\n2770\n2771\n2772\n2773\n2774\n2775\n2776\n2777\n2778\n2779\n2780\n2781\n2782\n2783\n2784\n2785\n2786\n2787\n2788\n2789\n2790\n2791\n2792\n2793\n2794\n2795\n2796\n2797\n2798\n2799\n2800\n2801\n2802\n2803\n2804\n2805\n2806\n2807\n2808\n2809\n2810\n2811\n2812\n2813\n2814\n2815\n2816\n2817\n2818\n2819\n2820\n2821\n2822\n2823\n2824\n2825\n2826\n2827\n2828\n2829\n2830\n2831\n2832\n2833\n2834\n2835\n2836\n2837\n2838\n2839\n2840\n2841\n2842\n2843\n2844\n2845\n2846\n2847\n2848\n2849\n2850\n2851\n2852\n2853\n2854\n2855\n2856\n2857\n2858\n2859\n2860\n2861\n2862\n2863\n2864\n2865\n2866\n2867\n2868\n2869\n2870\n2871\n2872\n2873\n2874\n2875\n2876\n2877\n2878\n2879\n2880\n2881\n2882\n2883\n2884\n2885\n2886\n2887\n2888\n2889\n2890\n2891\n2892\n2893\n2894\n2895\n2896\n2897\n2898\n2899\n2900\n2901\n2902\n2903\n2904\n2905\n2906\n2907\n2908\n2909\n2910\n2911\n2912\n2913\n2914\n2915\n2916\n2917\n2918\n2919\n2920\n2921\n2922\n2923\n2924\n2925\n2926\n2927\n2928\n2929\n2930\n2931\n2932\n2933\n2934\n2935\n2936\n2937\n2938\n2939\n2940\n2941\n2942\n2943\n2944\n2945\n2946\n2947\n2948\n2949\n2950\n2951\n2952\n2953\n2954\n2955\n2956\n2957\n2958\n2959\n2960\n2961\n2962\n2963\n2964\n2965\n2966\n2967\n2968\n2969\n2970\n2971\n2972\n2973\n2974\n2975\n2976\n2977\n2978\n2979\n2980\n2981\n2982\n2983\n2984\n2985\n2986\n2987\n2988\n2989\n2990\n2991\n2992\n2993\n2994\n2995\n2996\n2997\n2998\n2999\n3000\n3001\n3002\n3003\n3004\n3005\n3006\n3007\n3008\n3009\n3010\n3011\n3012\n3013\n3014\n3015\n3016\n3017\n",
     "output_type": "stream"
    }
   ]
  },
  {
   "cell_type": "code",
   "metadata": {
    "tags": [],
    "cell_id": "00011-4afa4232-064a-4cdd-a825-a1367e5a9f2b",
    "deepnote_to_be_reexecuted": false,
    "source_hash": "addc9aaa",
    "execution_start": 1635434066041,
    "execution_millis": 897,
    "deepnote_cell_type": "code"
   },
   "source": "df_player.to_csv(\"../data/integrations/matches_male_players.csv\", index=False)",
   "execution_count": null,
   "outputs": []
  },
  {
   "cell_type": "code",
   "metadata": {
    "tags": [],
    "cell_id": "00014-7bf835a8-d128-4929-9189-eef06801cd36",
    "deepnote_to_be_reexecuted": false,
    "source_hash": "e405bbd6",
    "execution_start": 1635434991349,
    "execution_millis": 564076,
    "deepnote_cell_type": "code"
   },
   "source": "df_player = pd.DataFrame()\n\nlist_of_female_names = df_female_matches['player_name'].unique()\nprint(f\"Lunghezza lista: {len(list_of_female_names)}\")\ndf_player['Name'] = list_of_female_names\ndf_player['Sex'] = 'F'\ni = 0\n\nfor name in list_of_female_names:\n    \n    df_player_matches = df_matches[(df_matches['winner_name'] == name) | (df_matches['loser_name'] == name)]\n\n    #player's hand\n    df_h = [x for x in df_player_matches[(df_player_matches['winner_name'] == name) &  (df_player_matches['winner_hand'] != 'U')]['winner_hand']]\n    if len(df_h) > 0:\n        df_player.loc[df_player['Name'] == name, 'Hand'] = df_h[0]\n    else:\n        df_h = [x for x in df_player_matches[(df_player_matches['loser_name'] == name) &  (df_player_matches['loser_hand'] != 'U')]['loser_hand']]\n        if len(df_h) > 0:\n            df_player.loc[df_player['Name'] == name, 'Hand'] = df_h[0]\n        else:\n            df_player.loc[df_player['Name'] == name, 'Hand'] = 'U'\n\n    #player's nationality\n    df_h = [x for x in df_player_matches[(df_player_matches['winner_name'] == name) &  (df_player_matches['winner_ioc'] != None)]['winner_ioc']]\n    if len(df_h) > 0:\n        df_player.loc[df_player['Name'] == name, 'IOC'] = df_h[0]\n    else:\n        df_h = [x for x in df_player_matches[(df_player_matches['loser_name'] == name) &  (df_player_matches['loser_ioc'] != 'U')]['loser_ioc']]\n        if len(df_h) > 0:\n            df_player.loc[df_player['Name'] == name, 'IOC'] = df_h[0]\n        else:\n            df_player.loc[df_player['Name'] == name, 'IOC'] = 'Undefined'\n    \n    df_player.loc[df_player['Name'] == name, 'Won_Tournaments'] = df_player_matches[(df_player_matches['round'] == 'F') & (df_player_matches['winner_name'] == name)].shape[0]\n\n    match_per_year = df_male_matches[df_male_matches['player_name']==name]['tourney_date'].groupby(df_male_matches['tourney_date'].dt.year).count()\n    if len(match_per_year) > 0:\n        df_player.loc[df_player['Name'] == name, 'best_year_matches'] = match_per_year.idxmax()\n        df_player.loc[df_player['Name'] == name, 'worst_year_matches'] = match_per_year.idxmin()\n\n    wins_per_year = df_male_matches[df_male_matches['winner_name']==name]['tourney_date'].groupby(df_male_matches['tourney_date'].dt.year).count()\n    if len(wins_per_year) > 0:\n        df_player.loc[df_player['Name'] == name, 'best_year_wins'] = wins_per_year.idxmax()\n        df_player.loc[df_player['Name'] == name, 'worst_year_wins'] = wins_per_year.idxmin()",
   "execution_count": null,
   "outputs": [
    {
     "name": "stdout",
     "text": "Lunghezza lista: 7062\n",
     "output_type": "stream"
    }
   ]
  },
  {
   "cell_type": "code",
   "metadata": {
    "tags": [],
    "cell_id": "00015-d3a12d89-52d4-4d02-b84b-20b533315d22",
    "deepnote_to_be_reexecuted": false,
    "source_hash": "3aed383e",
    "execution_start": 1635435640904,
    "execution_millis": 727,
    "deepnote_cell_type": "code"
   },
   "source": "df_player.to_csv(\"../data/integrations/matches_female_players.csv\", index=False)",
   "execution_count": null,
   "outputs": []
  },
  {
   "cell_type": "markdown",
   "source": "## Start from here",
   "metadata": {
    "tags": [],
    "is_collapsed": false,
    "cell_id": "00017-5c948e59-e010-4b90-92c3-41e2c2bd5006",
    "deepnote_cell_type": "text-cell-h2"
   }
  },
  {
   "cell_type": "code",
   "metadata": {
    "tags": [],
    "cell_id": "00018-657e831e-f023-4f24-854d-c8939e590d97",
    "deepnote_to_be_reexecuted": false,
    "source_hash": "9d69769e",
    "execution_start": 1635494191254,
    "execution_millis": 309,
    "deepnote_cell_type": "code"
   },
   "source": "male_stats = pd.read_csv(\"../data/integrations/matches_male_players.csv\")\nfemale_stats = pd.read_csv(\"../data/integrations/matches_female_players.csv\")",
   "outputs": [],
   "execution_count": null
  },
  {
   "cell_type": "markdown",
   "source": "Idee:\n\n- Dividere le statistiche dei player in base al tipo di surface dove giocano, come fatto nel sito https://www.atptour.com/en/players/novak-djokovic/d643/player-stats\n- Fare un'analisi separata maschi/femmine e poi confrontarla con le performance che ci sono nei tornei misti (se ne troviamo)\n\n",
   "metadata": {
    "tags": [],
    "cell_id": "00018-3d32f8d5-8544-48c0-9aa9-54cbd0e65a01",
    "deepnote_cell_type": "markdown"
   }
  },
  {
   "cell_type": "markdown",
   "source": "### Dataframe TOP Player",
   "metadata": {
    "tags": [],
    "cell_id": "00020-a694259f-b493-4f12-ad9f-cdd3badb785f",
    "deepnote_cell_type": "markdown"
   }
  },
  {
   "cell_type": "code",
   "metadata": {
    "tags": [],
    "cell_id": "00021-08153fed-5681-47bb-9193-f880618ec1c1",
    "deepnote_to_be_reexecuted": false,
    "source_hash": "ec3d309b",
    "execution_start": 1635494194686,
    "execution_millis": 2,
    "deepnote_cell_type": "code"
   },
   "source": "TOP = 50",
   "outputs": [],
   "execution_count": null
  },
  {
   "cell_type": "code",
   "metadata": {
    "tags": [],
    "cell_id": "00022-52db823c-f2bc-4c0e-bd28-7628b9109a8f",
    "deepnote_to_be_reexecuted": false,
    "source_hash": "802527c6",
    "execution_start": 1635495113136,
    "execution_millis": 4,
    "deepnote_cell_type": "code"
   },
   "source": "#Input:\n# - df, the dataframe you want to work on\n# - attr, the attribute you want to sum row by row\n# - group_by, the attribute used to group the dataframe before summing (Here we sum rows with the same \"group_by\" value)\n# - top_list, this other dataframe is left joined with df to restrict its result only to the top_list\n# - top_list_attr, it's needed in the join function to know how's called the attribute\n\ndef top_players_feature(df, attr, group_by, top_list, top_list_attr):\n    #count \n    tmp = pd.DataFrame(df[df[attr]>=0].groupby(group_by, as_index=False)[attr].sum())\n    #intersection with top_list\n    tmp = top_list.join(tmp.set_index(group_by), on=top_list_attr, how='left')\n    \n    return tmp\n\n#Function to generate the sum of a column, with a condition, grouped by the attribute given in input\n\ndef sum_by_surface(df, attr, group_by, top_list, top_list_attr):\n    #count \n    tmp = pd.DataFrame(df[df[attr]>=0].groupby([group_by, 'surface'], as_index=False)[attr].sum())\n    #intersection with top_list\n    tmp = top_list.join(tmp.set_index(group_by), on=top_list_attr, how='left')\n    \n    return [tmp[tmp['surface'] == 'Clay'], tmp[tmp['surface'] == 'Grass'], tmp[tmp['surface'] == 'Hard'], tmp[tmp['surface'] == 'Carpet']]",
   "outputs": [],
   "execution_count": null
  },
  {
   "cell_type": "code",
   "metadata": {
    "tags": [],
    "cell_id": "00020-ab9171f0-b7cd-42f6-af9a-de57b12d6274",
    "deepnote_to_be_reexecuted": false,
    "source_hash": "157e5615",
    "execution_start": 1635496010604,
    "execution_millis": 850,
    "deepnote_cell_type": "code"
   },
   "source": "# take the top players according to number of won tournament\ndf_top_male_players = pd.DataFrame(male_stats.sort_values(by='Won_Tournaments', ascending=False).head(TOP)['Name'])\n\n#iterating for every player\n#for name,index in df_top_male_players.iterrows():\n#df_matches.groupby('winner_name').count()['w_ace'] \n\ndf_top_male_player_matches_win = df_matches.join(df_top_male_players.set_index('Name'), on='winner_name', how='inner') #Ci sono partite in cui i winner sono loser e non vengono considerate\ndf_top_male_player_matches_los = df_matches.join(df_top_male_players.set_index('Name'), on='loser_name', how='inner') #Ci sono partite in cui i winner sono loser e non vengono considerate\ndf_top_male_player_matches  = pd.concat([df_top_male_player_matches_win, df_top_male_player_matches_los])\n#df_top_male_players['w_ace'] = sum_by_condition(df_top_male_player_matches, 'w_ace', 'winner_name', df_top_male_players, 'Name')['w_ace']\n# Ciclo for su lista di attributi che chiama sum_by_condition\n\nattrs = ['w_ace', 'w_df', 'w_svpt', 'w_1stIn', 'w_1stWon', 'w_2ndWon', 'w_SvGms', 'w_bpSaved', 'w_bpFaced']\n\n#sum_by_condition(df_top_male_player_matches, 'w_svpt', 'winner_name', df_top_male_players, 'Name')\n\n#sum_by_surface(df_top_male_player_matches, 'w_svpt', 'winner_name', df_top_male_players, 'Name', 'Clay')\n\nfor attr in attrs:\n    #df_top_male_players[attr] = top_players_feature(df_top_male_player_matches, attr, 'winner_name', df_top_male_players, 'Name')[attr]\n    result = sum_by_surface(df_top_male_player_matches, attr, 'winner_name', df_top_male_players, 'Name')\n    df_top_male_players[attr + '_clay'] = result[0][attr]\n    df_top_male_players[attr + '_clay'].fillna(0, inplace=True)\n    df_top_male_players[attr + '_grass'] = result[1][attr]\n    df_top_male_players[attr + '_grass'].fillna(0, inplace=True)\n    df_top_male_players[attr + '_hard'] = result[2][attr]\n    df_top_male_players[attr + '_hard'].fillna(0, inplace=True)\n    df_top_male_players[attr + '_carpet'] = result[2][attr]\n    df_top_male_players[attr + '_carpet'].fillna(0, inplace=True)\n\ndf_top_male_players",
   "outputs": [
    {
     "output_type": "execute_result",
     "execution_count": 58,
     "data": {
      "application/vnd.deepnote.dataframe.v2+json": {
       "row_count": 50,
       "column_count": 37,
       "columns": [
        {
         "name": "Name",
         "dtype": "object",
         "stats": {
          "unique_count": 50,
          "nan_count": 0,
          "categories": [
           {
            "name": "Novak Djokovic",
            "count": 1
           },
           {
            "name": "Rafael Nadal",
            "count": 1
           },
           {
            "name": "48 others",
            "count": 48
           }
          ]
         }
        },
        {
         "name": "w_ace_clay",
         "dtype": "float64",
         "stats": {
          "unique_count": 45,
          "nan_count": 0,
          "min": "0.0",
          "max": "581.0",
          "histogram": [
           {
            "bin_start": 0,
            "bin_end": 58.1,
            "count": 13
           },
           {
            "bin_start": 58.1,
            "bin_end": 116.2,
            "count": 9
           },
           {
            "bin_start": 116.2,
            "bin_end": 174.3,
            "count": 5
           },
           {
            "bin_start": 174.3,
            "bin_end": 232.4,
            "count": 4
           },
           {
            "bin_start": 232.4,
            "bin_end": 290.5,
            "count": 7
           },
           {
            "bin_start": 290.5,
            "bin_end": 348.6,
            "count": 6
           },
           {
            "bin_start": 348.6,
            "bin_end": 406.7,
            "count": 3
           },
           {
            "bin_start": 406.7,
            "bin_end": 464.8,
            "count": 1
           },
           {
            "bin_start": 464.8,
            "bin_end": 522.9,
            "count": 1
           },
           {
            "bin_start": 522.9,
            "bin_end": 581,
            "count": 1
           }
          ]
         }
        },
        {
         "name": "w_ace_grass",
         "dtype": "float64",
         "stats": {
          "unique_count": 27,
          "nan_count": 0,
          "min": "0.0",
          "max": "115.0",
          "histogram": [
           {
            "bin_start": 0,
            "bin_end": 11.5,
            "count": 24
           },
           {
            "bin_start": 11.5,
            "bin_end": 23,
            "count": 8
           },
           {
            "bin_start": 23,
            "bin_end": 34.5,
            "count": 4
           },
           {
            "bin_start": 34.5,
            "bin_end": 46,
            "count": 6
           },
           {
            "bin_start": 46,
            "bin_end": 57.5,
            "count": 0
           },
           {
            "bin_start": 57.5,
            "bin_end": 69,
            "count": 0
           },
           {
            "bin_start": 69,
            "bin_end": 80.5,
            "count": 2
           },
           {
            "bin_start": 80.5,
            "bin_end": 92,
            "count": 1
           },
           {
            "bin_start": 92,
            "bin_end": 103.5,
            "count": 1
           },
           {
            "bin_start": 103.5,
            "bin_end": 115,
            "count": 4
           }
          ]
         }
        },
        {
         "name": "w_ace_hard",
         "dtype": "float64",
         "stats": {
          "unique_count": 47,
          "nan_count": 0,
          "min": "4.0",
          "max": "460.0",
          "histogram": [
           {
            "bin_start": 4,
            "bin_end": 49.6,
            "count": 11
           },
           {
            "bin_start": 49.6,
            "bin_end": 95.2,
            "count": 3
           },
           {
            "bin_start": 95.2,
            "bin_end": 140.8,
            "count": 6
           },
           {
            "bin_start": 140.8,
            "bin_end": 186.4,
            "count": 5
           },
           {
            "bin_start": 186.4,
            "bin_end": 232,
            "count": 1
           },
           {
            "bin_start": 232,
            "bin_end": 277.6,
            "count": 7
           },
           {
            "bin_start": 277.6,
            "bin_end": 323.2,
            "count": 6
           },
           {
            "bin_start": 323.2,
            "bin_end": 368.8,
            "count": 2
           },
           {
            "bin_start": 368.8,
            "bin_end": 414.40000000000003,
            "count": 5
           },
           {
            "bin_start": 414.40000000000003,
            "bin_end": 460,
            "count": 4
           }
          ]
         }
        },
        {
         "name": "w_ace_carpet",
         "dtype": "float64",
         "stats": {
          "unique_count": 47,
          "nan_count": 0,
          "min": "4.0",
          "max": "460.0",
          "histogram": [
           {
            "bin_start": 4,
            "bin_end": 49.6,
            "count": 11
           },
           {
            "bin_start": 49.6,
            "bin_end": 95.2,
            "count": 3
           },
           {
            "bin_start": 95.2,
            "bin_end": 140.8,
            "count": 6
           },
           {
            "bin_start": 140.8,
            "bin_end": 186.4,
            "count": 5
           },
           {
            "bin_start": 186.4,
            "bin_end": 232,
            "count": 1
           },
           {
            "bin_start": 232,
            "bin_end": 277.6,
            "count": 7
           },
           {
            "bin_start": 277.6,
            "bin_end": 323.2,
            "count": 6
           },
           {
            "bin_start": 323.2,
            "bin_end": 368.8,
            "count": 2
           },
           {
            "bin_start": 368.8,
            "bin_end": 414.40000000000003,
            "count": 5
           },
           {
            "bin_start": 414.40000000000003,
            "bin_end": 460,
            "count": 4
           }
          ]
         }
        },
        {
         "name": "w_df_clay",
         "dtype": "float64",
         "stats": {
          "unique_count": 44,
          "nan_count": 0,
          "min": "0.0",
          "max": "724.0",
          "histogram": [
           {
            "bin_start": 0,
            "bin_end": 72.4,
            "count": 11
           },
           {
            "bin_start": 72.4,
            "bin_end": 144.8,
            "count": 16
           },
           {
            "bin_start": 144.8,
            "bin_end": 217.20000000000002,
            "count": 4
           },
           {
            "bin_start": 217.20000000000002,
            "bin_end": 289.6,
            "count": 6
           },
           {
            "bin_start": 289.6,
            "bin_end": 362,
            "count": 6
           },
           {
            "bin_start": 362,
            "bin_end": 434.40000000000003,
            "count": 4
           },
           {
            "bin_start": 434.40000000000003,
            "bin_end": 506.80000000000007,
            "count": 2
           },
           {
            "bin_start": 506.80000000000007,
            "bin_end": 579.2,
            "count": 0
           },
           {
            "bin_start": 579.2,
            "bin_end": 651.6,
            "count": 0
           },
           {
            "bin_start": 651.6,
            "bin_end": 724,
            "count": 1
           }
          ]
         }
        },
        {
         "name": "w_df_grass",
         "dtype": "float64",
         "stats": {
          "unique_count": 37,
          "nan_count": 0,
          "min": "0.0",
          "max": "147.0",
          "histogram": [
           {
            "bin_start": 0,
            "bin_end": 14.7,
            "count": 16
           },
           {
            "bin_start": 14.7,
            "bin_end": 29.4,
            "count": 7
           },
           {
            "bin_start": 29.4,
            "bin_end": 44.099999999999994,
            "count": 7
           },
           {
            "bin_start": 44.099999999999994,
            "bin_end": 58.8,
            "count": 4
           },
           {
            "bin_start": 58.8,
            "bin_end": 73.5,
            "count": 5
           },
           {
            "bin_start": 73.5,
            "bin_end": 88.19999999999999,
            "count": 4
           },
           {
            "bin_start": 88.19999999999999,
            "bin_end": 102.89999999999999,
            "count": 1
           },
           {
            "bin_start": 102.89999999999999,
            "bin_end": 117.6,
            "count": 3
           },
           {
            "bin_start": 117.6,
            "bin_end": 132.29999999999998,
            "count": 1
           },
           {
            "bin_start": 132.29999999999998,
            "bin_end": 147,
            "count": 2
           }
          ]
         }
        },
        {
         "name": "w_df_hard",
         "dtype": "float64",
         "stats": {
          "unique_count": 47,
          "nan_count": 0,
          "min": "9.0",
          "max": "952.0",
          "histogram": [
           {
            "bin_start": 9,
            "bin_end": 103.3,
            "count": 10
           },
           {
            "bin_start": 103.3,
            "bin_end": 197.6,
            "count": 8
           },
           {
            "bin_start": 197.6,
            "bin_end": 291.9,
            "count": 8
           },
           {
            "bin_start": 291.9,
            "bin_end": 386.2,
            "count": 13
           },
           {
            "bin_start": 386.2,
            "bin_end": 480.5,
            "count": 4
           },
           {
            "bin_start": 480.5,
            "bin_end": 574.8,
            "count": 4
           },
           {
            "bin_start": 574.8,
            "bin_end": 669.1,
            "count": 0
           },
           {
            "bin_start": 669.1,
            "bin_end": 763.4,
            "count": 0
           },
           {
            "bin_start": 763.4,
            "bin_end": 857.6999999999999,
            "count": 2
           },
           {
            "bin_start": 857.6999999999999,
            "bin_end": 952,
            "count": 1
           }
          ]
         }
        },
        {
         "name": "w_df_carpet",
         "dtype": "float64",
         "stats": {
          "unique_count": 47,
          "nan_count": 0,
          "min": "9.0",
          "max": "952.0",
          "histogram": [
           {
            "bin_start": 9,
            "bin_end": 103.3,
            "count": 10
           },
           {
            "bin_start": 103.3,
            "bin_end": 197.6,
            "count": 8
           },
           {
            "bin_start": 197.6,
            "bin_end": 291.9,
            "count": 8
           },
           {
            "bin_start": 291.9,
            "bin_end": 386.2,
            "count": 13
           },
           {
            "bin_start": 386.2,
            "bin_end": 480.5,
            "count": 4
           },
           {
            "bin_start": 480.5,
            "bin_end": 574.8,
            "count": 4
           },
           {
            "bin_start": 574.8,
            "bin_end": 669.1,
            "count": 0
           },
           {
            "bin_start": 669.1,
            "bin_end": 763.4,
            "count": 0
           },
           {
            "bin_start": 763.4,
            "bin_end": 857.6999999999999,
            "count": 2
           },
           {
            "bin_start": 857.6999999999999,
            "bin_end": 952,
            "count": 1
           }
          ]
         }
        },
        {
         "name": "w_svpt_clay",
         "dtype": "float64",
         "stats": {
          "unique_count": 50,
          "nan_count": 0,
          "min": "0.0",
          "max": "15625.0",
          "histogram": [
           {
            "bin_start": 0,
            "bin_end": 1562.5,
            "count": 7
           },
           {
            "bin_start": 1562.5,
            "bin_end": 3125,
            "count": 12
           },
           {
            "bin_start": 3125,
            "bin_end": 4687.5,
            "count": 5
           },
           {
            "bin_start": 4687.5,
            "bin_end": 6250,
            "count": 4
           },
           {
            "bin_start": 6250,
            "bin_end": 7812.5,
            "count": 6
           },
           {
            "bin_start": 7812.5,
            "bin_end": 9375,
            "count": 5
           },
           {
            "bin_start": 9375,
            "bin_end": 10937.5,
            "count": 5
           },
           {
            "bin_start": 10937.5,
            "bin_end": 12500,
            "count": 3
           },
           {
            "bin_start": 12500,
            "bin_end": 14062.5,
            "count": 1
           },
           {
            "bin_start": 14062.5,
            "bin_end": 15625,
            "count": 2
           }
          ]
         }
        },
        {
         "name": "w_svpt_grass",
         "dtype": "float64",
         "stats": {
          "unique_count": 46,
          "nan_count": 0,
          "min": "0.0",
          "max": "4781.0",
          "histogram": [
           {
            "bin_start": 0,
            "bin_end": 478.1,
            "count": 17
           },
           {
            "bin_start": 478.1,
            "bin_end": 956.2,
            "count": 4
           },
           {
            "bin_start": 956.2,
            "bin_end": 1434.3000000000002,
            "count": 11
           },
           {
            "bin_start": 1434.3000000000002,
            "bin_end": 1912.4,
            "count": 2
           },
           {
            "bin_start": 1912.4,
            "bin_end": 2390.5,
            "count": 6
           },
           {
            "bin_start": 2390.5,
            "bin_end": 2868.6000000000004,
            "count": 5
           },
           {
            "bin_start": 2868.6000000000004,
            "bin_end": 3346.7000000000003,
            "count": 2
           },
           {
            "bin_start": 3346.7000000000003,
            "bin_end": 3824.8,
            "count": 0
           },
           {
            "bin_start": 3824.8,
            "bin_end": 4302.900000000001,
            "count": 2
           },
           {
            "bin_start": 4302.900000000001,
            "bin_end": 4781,
            "count": 1
           }
          ]
         }
        },
        {
         "name": "w_svpt_hard",
         "dtype": "float64",
         "stats": {
          "unique_count": 50,
          "nan_count": 0,
          "min": "215.0",
          "max": "17821.0",
          "histogram": [
           {
            "bin_start": 215,
            "bin_end": 1975.6,
            "count": 8
           },
           {
            "bin_start": 1975.6,
            "bin_end": 3736.2,
            "count": 4
           },
           {
            "bin_start": 3736.2,
            "bin_end": 5496.799999999999,
            "count": 4
           },
           {
            "bin_start": 5496.799999999999,
            "bin_end": 7257.4,
            "count": 2
           },
           {
            "bin_start": 7257.4,
            "bin_end": 9018,
            "count": 10
           },
           {
            "bin_start": 9018,
            "bin_end": 10778.599999999999,
            "count": 8
           },
           {
            "bin_start": 10778.599999999999,
            "bin_end": 12539.199999999999,
            "count": 6
           },
           {
            "bin_start": 12539.199999999999,
            "bin_end": 14299.8,
            "count": 3
           },
           {
            "bin_start": 14299.8,
            "bin_end": 16060.4,
            "count": 4
           },
           {
            "bin_start": 16060.4,
            "bin_end": 17821,
            "count": 1
           }
          ]
         }
        },
        {
         "name": "w_svpt_carpet",
         "dtype": "float64",
         "stats": {
          "unique_count": 50,
          "nan_count": 0,
          "min": "215.0",
          "max": "17821.0",
          "histogram": [
           {
            "bin_start": 215,
            "bin_end": 1975.6,
            "count": 8
           },
           {
            "bin_start": 1975.6,
            "bin_end": 3736.2,
            "count": 4
           },
           {
            "bin_start": 3736.2,
            "bin_end": 5496.799999999999,
            "count": 4
           },
           {
            "bin_start": 5496.799999999999,
            "bin_end": 7257.4,
            "count": 2
           },
           {
            "bin_start": 7257.4,
            "bin_end": 9018,
            "count": 10
           },
           {
            "bin_start": 9018,
            "bin_end": 10778.599999999999,
            "count": 8
           },
           {
            "bin_start": 10778.599999999999,
            "bin_end": 12539.199999999999,
            "count": 6
           },
           {
            "bin_start": 12539.199999999999,
            "bin_end": 14299.8,
            "count": 3
           },
           {
            "bin_start": 14299.8,
            "bin_end": 16060.4,
            "count": 4
           },
           {
            "bin_start": 16060.4,
            "bin_end": 17821,
            "count": 1
           }
          ]
         }
        },
        {
         "name": "w_1stIn_clay",
         "dtype": "float64",
         "stats": {
          "unique_count": 50,
          "nan_count": 0,
          "min": "0.0",
          "max": "9629.0",
          "histogram": [
           {
            "bin_start": 0,
            "bin_end": 962.9,
            "count": 6
           },
           {
            "bin_start": 962.9,
            "bin_end": 1925.8,
            "count": 13
           },
           {
            "bin_start": 1925.8,
            "bin_end": 2888.7,
            "count": 4
           },
           {
            "bin_start": 2888.7,
            "bin_end": 3851.6,
            "count": 5
           },
           {
            "bin_start": 3851.6,
            "bin_end": 4814.5,
            "count": 5
           },
           {
            "bin_start": 4814.5,
            "bin_end": 5777.4,
            "count": 6
           },
           {
            "bin_start": 5777.4,
            "bin_end": 6740.3,
            "count": 3
           },
           {
            "bin_start": 6740.3,
            "bin_end": 7703.2,
            "count": 3
           },
           {
            "bin_start": 7703.2,
            "bin_end": 8666.1,
            "count": 2
           },
           {
            "bin_start": 8666.1,
            "bin_end": 9629,
            "count": 3
           }
          ]
         }
        },
        {
         "name": "w_1stIn_grass",
         "dtype": "float64",
         "stats": {
          "unique_count": 45,
          "nan_count": 0,
          "min": "0.0",
          "max": "3122.0",
          "histogram": [
           {
            "bin_start": 0,
            "bin_end": 312.2,
            "count": 17
           },
           {
            "bin_start": 312.2,
            "bin_end": 624.4,
            "count": 4
           },
           {
            "bin_start": 624.4,
            "bin_end": 936.5999999999999,
            "count": 11
           },
           {
            "bin_start": 936.5999999999999,
            "bin_end": 1248.8,
            "count": 2
           },
           {
            "bin_start": 1248.8,
            "bin_end": 1561,
            "count": 5
           },
           {
            "bin_start": 1561,
            "bin_end": 1873.1999999999998,
            "count": 7
           },
           {
            "bin_start": 1873.1999999999998,
            "bin_end": 2185.4,
            "count": 1
           },
           {
            "bin_start": 2185.4,
            "bin_end": 2497.6,
            "count": 0
           },
           {
            "bin_start": 2497.6,
            "bin_end": 2809.7999999999997,
            "count": 2
           },
           {
            "bin_start": 2809.7999999999997,
            "bin_end": 3122,
            "count": 1
           }
          ]
         }
        },
        {
         "name": "w_1stIn_hard",
         "dtype": "float64",
         "stats": {
          "unique_count": 49,
          "nan_count": 0,
          "min": "138.0",
          "max": "10680.0",
          "histogram": [
           {
            "bin_start": 138,
            "bin_end": 1192.2,
            "count": 8
           },
           {
            "bin_start": 1192.2,
            "bin_end": 2246.4,
            "count": 4
           },
           {
            "bin_start": 2246.4,
            "bin_end": 3300.6000000000004,
            "count": 4
           },
           {
            "bin_start": 3300.6000000000004,
            "bin_end": 4354.8,
            "count": 1
           },
           {
            "bin_start": 4354.8,
            "bin_end": 5409,
            "count": 9
           },
           {
            "bin_start": 5409,
            "bin_end": 6463.200000000001,
            "count": 6
           },
           {
            "bin_start": 6463.200000000001,
            "bin_end": 7517.400000000001,
            "count": 9
           },
           {
            "bin_start": 7517.400000000001,
            "bin_end": 8571.6,
            "count": 4
           },
           {
            "bin_start": 8571.6,
            "bin_end": 9625.800000000001,
            "count": 2
           },
           {
            "bin_start": 9625.800000000001,
            "bin_end": 10680,
            "count": 3
           }
          ]
         }
        },
        {
         "name": "w_1stIn_carpet",
         "dtype": "float64",
         "stats": {
          "unique_count": 49,
          "nan_count": 0,
          "min": "138.0",
          "max": "10680.0",
          "histogram": [
           {
            "bin_start": 138,
            "bin_end": 1192.2,
            "count": 8
           },
           {
            "bin_start": 1192.2,
            "bin_end": 2246.4,
            "count": 4
           },
           {
            "bin_start": 2246.4,
            "bin_end": 3300.6000000000004,
            "count": 4
           },
           {
            "bin_start": 3300.6000000000004,
            "bin_end": 4354.8,
            "count": 1
           },
           {
            "bin_start": 4354.8,
            "bin_end": 5409,
            "count": 9
           },
           {
            "bin_start": 5409,
            "bin_end": 6463.200000000001,
            "count": 6
           },
           {
            "bin_start": 6463.200000000001,
            "bin_end": 7517.400000000001,
            "count": 9
           },
           {
            "bin_start": 7517.400000000001,
            "bin_end": 8571.6,
            "count": 4
           },
           {
            "bin_start": 8571.6,
            "bin_end": 9625.800000000001,
            "count": 2
           },
           {
            "bin_start": 9625.800000000001,
            "bin_end": 10680,
            "count": 3
           }
          ]
         }
        },
        {
         "name": "w_1stWon_clay",
         "dtype": "float64",
         "stats": {
          "unique_count": 50,
          "nan_count": 0,
          "min": "0.0",
          "max": "6935.0",
          "histogram": [
           {
            "bin_start": 0,
            "bin_end": 693.5,
            "count": 6
           },
           {
            "bin_start": 693.5,
            "bin_end": 1387,
            "count": 13
           },
           {
            "bin_start": 1387,
            "bin_end": 2080.5,
            "count": 4
           },
           {
            "bin_start": 2080.5,
            "bin_end": 2774,
            "count": 5
           },
           {
            "bin_start": 2774,
            "bin_end": 3467.5,
            "count": 5
           },
           {
            "bin_start": 3467.5,
            "bin_end": 4161,
            "count": 4
           },
           {
            "bin_start": 4161,
            "bin_end": 4854.5,
            "count": 5
           },
           {
            "bin_start": 4854.5,
            "bin_end": 5548,
            "count": 4
           },
           {
            "bin_start": 5548,
            "bin_end": 6241.5,
            "count": 1
           },
           {
            "bin_start": 6241.5,
            "bin_end": 6935,
            "count": 3
           }
          ]
         }
        },
        {
         "name": "w_1stWon_grass",
         "dtype": "float64",
         "stats": {
          "unique_count": 44,
          "nan_count": 0,
          "min": "0.0",
          "max": "2551.0",
          "histogram": [
           {
            "bin_start": 0,
            "bin_end": 255.1,
            "count": 17
           },
           {
            "bin_start": 255.1,
            "bin_end": 510.2,
            "count": 7
           },
           {
            "bin_start": 510.2,
            "bin_end": 765.3,
            "count": 9
           },
           {
            "bin_start": 765.3,
            "bin_end": 1020.4,
            "count": 1
           },
           {
            "bin_start": 1020.4,
            "bin_end": 1275.5,
            "count": 7
           },
           {
            "bin_start": 1275.5,
            "bin_end": 1530.6,
            "count": 5
           },
           {
            "bin_start": 1530.6,
            "bin_end": 1785.7,
            "count": 1
           },
           {
            "bin_start": 1785.7,
            "bin_end": 2040.8,
            "count": 1
           },
           {
            "bin_start": 2040.8,
            "bin_end": 2295.9,
            "count": 1
           },
           {
            "bin_start": 2295.9,
            "bin_end": 2551,
            "count": 1
           }
          ]
         }
        },
        {
         "name": "w_1stWon_hard",
         "dtype": "float64",
         "stats": {
          "unique_count": 50,
          "nan_count": 0,
          "min": "100.0",
          "max": "8455.0",
          "histogram": [
           {
            "bin_start": 100,
            "bin_end": 935.5,
            "count": 8
           },
           {
            "bin_start": 935.5,
            "bin_end": 1771,
            "count": 4
           },
           {
            "bin_start": 1771,
            "bin_end": 2606.5,
            "count": 4
           },
           {
            "bin_start": 2606.5,
            "bin_end": 3442,
            "count": 1
           },
           {
            "bin_start": 3442,
            "bin_end": 4277.5,
            "count": 11
           },
           {
            "bin_start": 4277.5,
            "bin_end": 5113,
            "count": 9
           },
           {
            "bin_start": 5113,
            "bin_end": 5948.5,
            "count": 4
           },
           {
            "bin_start": 5948.5,
            "bin_end": 6784,
            "count": 4
           },
           {
            "bin_start": 6784,
            "bin_end": 7619.5,
            "count": 2
           },
           {
            "bin_start": 7619.5,
            "bin_end": 8455,
            "count": 3
           }
          ]
         }
        },
        {
         "name": "w_1stWon_carpet",
         "dtype": "float64",
         "stats": {
          "unique_count": 50,
          "nan_count": 0,
          "min": "100.0",
          "max": "8455.0",
          "histogram": [
           {
            "bin_start": 100,
            "bin_end": 935.5,
            "count": 8
           },
           {
            "bin_start": 935.5,
            "bin_end": 1771,
            "count": 4
           },
           {
            "bin_start": 1771,
            "bin_end": 2606.5,
            "count": 4
           },
           {
            "bin_start": 2606.5,
            "bin_end": 3442,
            "count": 1
           },
           {
            "bin_start": 3442,
            "bin_end": 4277.5,
            "count": 11
           },
           {
            "bin_start": 4277.5,
            "bin_end": 5113,
            "count": 9
           },
           {
            "bin_start": 5113,
            "bin_end": 5948.5,
            "count": 4
           },
           {
            "bin_start": 5948.5,
            "bin_end": 6784,
            "count": 4
           },
           {
            "bin_start": 6784,
            "bin_end": 7619.5,
            "count": 2
           },
           {
            "bin_start": 7619.5,
            "bin_end": 8455,
            "count": 3
           }
          ]
         }
        },
        {
         "name": "w_2ndWon_clay",
         "dtype": "float64",
         "stats": {
          "unique_count": 49,
          "nan_count": 0,
          "min": "0.0",
          "max": "3475.0",
          "histogram": [
           {
            "bin_start": 0,
            "bin_end": 347.5,
            "count": 6
           },
           {
            "bin_start": 347.5,
            "bin_end": 695,
            "count": 14
           },
           {
            "bin_start": 695,
            "bin_end": 1042.5,
            "count": 5
           },
           {
            "bin_start": 1042.5,
            "bin_end": 1390,
            "count": 7
           },
           {
            "bin_start": 1390,
            "bin_end": 1737.5,
            "count": 5
           },
           {
            "bin_start": 1737.5,
            "bin_end": 2085,
            "count": 5
           },
           {
            "bin_start": 2085,
            "bin_end": 2432.5,
            "count": 3
           },
           {
            "bin_start": 2432.5,
            "bin_end": 2780,
            "count": 4
           },
           {
            "bin_start": 2780,
            "bin_end": 3127.5,
            "count": 0
           },
           {
            "bin_start": 3127.5,
            "bin_end": 3475,
            "count": 1
           }
          ]
         }
        },
        {
         "name": "w_2ndWon_grass",
         "dtype": "float64",
         "stats": {
          "unique_count": 45,
          "nan_count": 0,
          "min": "0.0",
          "max": "1030.0",
          "histogram": [
           {
            "bin_start": 0,
            "bin_end": 103,
            "count": 17
           },
           {
            "bin_start": 103,
            "bin_end": 206,
            "count": 5
           },
           {
            "bin_start": 206,
            "bin_end": 309,
            "count": 9
           },
           {
            "bin_start": 309,
            "bin_end": 412,
            "count": 7
           },
           {
            "bin_start": 412,
            "bin_end": 515,
            "count": 4
           },
           {
            "bin_start": 515,
            "bin_end": 618,
            "count": 3
           },
           {
            "bin_start": 618,
            "bin_end": 721,
            "count": 2
           },
           {
            "bin_start": 721,
            "bin_end": 824,
            "count": 1
           },
           {
            "bin_start": 824,
            "bin_end": 927,
            "count": 1
           },
           {
            "bin_start": 927,
            "bin_end": 1030,
            "count": 1
           }
          ]
         }
        },
        {
         "name": "w_2ndWon_hard",
         "dtype": "float64",
         "stats": {
          "unique_count": 48,
          "nan_count": 0,
          "min": "45.0",
          "max": "3904.0",
          "histogram": [
           {
            "bin_start": 45,
            "bin_end": 430.9,
            "count": 8
           },
           {
            "bin_start": 430.9,
            "bin_end": 816.8,
            "count": 4
           },
           {
            "bin_start": 816.8,
            "bin_end": 1202.6999999999998,
            "count": 5
           },
           {
            "bin_start": 1202.6999999999998,
            "bin_end": 1588.6,
            "count": 1
           },
           {
            "bin_start": 1588.6,
            "bin_end": 1974.5,
            "count": 8
           },
           {
            "bin_start": 1974.5,
            "bin_end": 2360.3999999999996,
            "count": 12
           },
           {
            "bin_start": 2360.3999999999996,
            "bin_end": 2746.2999999999997,
            "count": 6
           },
           {
            "bin_start": 2746.2999999999997,
            "bin_end": 3132.2,
            "count": 3
           },
           {
            "bin_start": 3132.2,
            "bin_end": 3518.1,
            "count": 2
           },
           {
            "bin_start": 3518.1,
            "bin_end": 3904,
            "count": 1
           }
          ]
         }
        },
        {
         "name": "w_2ndWon_carpet",
         "dtype": "float64",
         "stats": {
          "unique_count": 48,
          "nan_count": 0,
          "min": "45.0",
          "max": "3904.0",
          "histogram": [
           {
            "bin_start": 45,
            "bin_end": 430.9,
            "count": 8
           },
           {
            "bin_start": 430.9,
            "bin_end": 816.8,
            "count": 4
           },
           {
            "bin_start": 816.8,
            "bin_end": 1202.6999999999998,
            "count": 5
           },
           {
            "bin_start": 1202.6999999999998,
            "bin_end": 1588.6,
            "count": 1
           },
           {
            "bin_start": 1588.6,
            "bin_end": 1974.5,
            "count": 8
           },
           {
            "bin_start": 1974.5,
            "bin_end": 2360.3999999999996,
            "count": 12
           },
           {
            "bin_start": 2360.3999999999996,
            "bin_end": 2746.2999999999997,
            "count": 6
           },
           {
            "bin_start": 2746.2999999999997,
            "bin_end": 3132.2,
            "count": 3
           },
           {
            "bin_start": 3132.2,
            "bin_end": 3518.1,
            "count": 2
           },
           {
            "bin_start": 3518.1,
            "bin_end": 3904,
            "count": 1
           }
          ]
         }
        },
        {
         "name": "w_SvGms_clay",
         "dtype": "float64",
         "stats": {
          "unique_count": 50,
          "nan_count": 0,
          "min": "0.0",
          "max": "2515.0",
          "histogram": [
           {
            "bin_start": 0,
            "bin_end": 251.5,
            "count": 7
           },
           {
            "bin_start": 251.5,
            "bin_end": 503,
            "count": 12
           },
           {
            "bin_start": 503,
            "bin_end": 754.5,
            "count": 4
           },
           {
            "bin_start": 754.5,
            "bin_end": 1006,
            "count": 6
           },
           {
            "bin_start": 1006,
            "bin_end": 1257.5,
            "count": 5
           },
           {
            "bin_start": 1257.5,
            "bin_end": 1509,
            "count": 7
           },
           {
            "bin_start": 1509,
            "bin_end": 1760.5,
            "count": 2
           },
           {
            "bin_start": 1760.5,
            "bin_end": 2012,
            "count": 4
           },
           {
            "bin_start": 2012,
            "bin_end": 2263.5,
            "count": 2
           },
           {
            "bin_start": 2263.5,
            "bin_end": 2515,
            "count": 1
           }
          ]
         }
        },
        {
         "name": "w_SvGms_grass",
         "dtype": "float64",
         "stats": {
          "unique_count": 44,
          "nan_count": 0,
          "min": "0.0",
          "max": "845.0",
          "histogram": [
           {
            "bin_start": 0,
            "bin_end": 84.5,
            "count": 18
           },
           {
            "bin_start": 84.5,
            "bin_end": 169,
            "count": 4
           },
           {
            "bin_start": 169,
            "bin_end": 253.5,
            "count": 11
           },
           {
            "bin_start": 253.5,
            "bin_end": 338,
            "count": 2
           },
           {
            "bin_start": 338,
            "bin_end": 422.5,
            "count": 7
           },
           {
            "bin_start": 422.5,
            "bin_end": 507,
            "count": 5
           },
           {
            "bin_start": 507,
            "bin_end": 591.5,
            "count": 0
           },
           {
            "bin_start": 591.5,
            "bin_end": 676,
            "count": 1
           },
           {
            "bin_start": 676,
            "bin_end": 760.5,
            "count": 1
           },
           {
            "bin_start": 760.5,
            "bin_end": 845,
            "count": 1
           }
          ]
         }
        },
        {
         "name": "w_SvGms_hard",
         "dtype": "float64",
         "stats": {
          "unique_count": 50,
          "nan_count": 0,
          "min": "32.0",
          "max": "2947.0",
          "histogram": [
           {
            "bin_start": 32,
            "bin_end": 323.5,
            "count": 8
           },
           {
            "bin_start": 323.5,
            "bin_end": 615,
            "count": 4
           },
           {
            "bin_start": 615,
            "bin_end": 906.5,
            "count": 4
           },
           {
            "bin_start": 906.5,
            "bin_end": 1198,
            "count": 2
           },
           {
            "bin_start": 1198,
            "bin_end": 1489.5,
            "count": 11
           },
           {
            "bin_start": 1489.5,
            "bin_end": 1781,
            "count": 9
           },
           {
            "bin_start": 1781,
            "bin_end": 2072.5,
            "count": 4
           },
           {
            "bin_start": 2072.5,
            "bin_end": 2364,
            "count": 3
           },
           {
            "bin_start": 2364,
            "bin_end": 2655.5,
            "count": 4
           },
           {
            "bin_start": 2655.5,
            "bin_end": 2947,
            "count": 1
           }
          ]
         }
        },
        {
         "name": "w_SvGms_carpet",
         "dtype": "float64",
         "stats": {
          "unique_count": 50,
          "nan_count": 0,
          "min": "32.0",
          "max": "2947.0",
          "histogram": [
           {
            "bin_start": 32,
            "bin_end": 323.5,
            "count": 8
           },
           {
            "bin_start": 323.5,
            "bin_end": 615,
            "count": 4
           },
           {
            "bin_start": 615,
            "bin_end": 906.5,
            "count": 4
           },
           {
            "bin_start": 906.5,
            "bin_end": 1198,
            "count": 2
           },
           {
            "bin_start": 1198,
            "bin_end": 1489.5,
            "count": 11
           },
           {
            "bin_start": 1489.5,
            "bin_end": 1781,
            "count": 9
           },
           {
            "bin_start": 1781,
            "bin_end": 2072.5,
            "count": 4
           },
           {
            "bin_start": 2072.5,
            "bin_end": 2364,
            "count": 3
           },
           {
            "bin_start": 2364,
            "bin_end": 2655.5,
            "count": 4
           },
           {
            "bin_start": 2655.5,
            "bin_end": 2947,
            "count": 1
           }
          ]
         }
        },
        {
         "name": "w_bpSaved_clay",
         "dtype": "float64",
         "stats": {
          "unique_count": 46,
          "nan_count": 0,
          "min": "0.0",
          "max": "816.0",
          "histogram": [
           {
            "bin_start": 0,
            "bin_end": 81.6,
            "count": 9
           },
           {
            "bin_start": 81.6,
            "bin_end": 163.2,
            "count": 11
           },
           {
            "bin_start": 163.2,
            "bin_end": 244.79999999999998,
            "count": 5
           },
           {
            "bin_start": 244.79999999999998,
            "bin_end": 326.4,
            "count": 6
           },
           {
            "bin_start": 326.4,
            "bin_end": 408,
            "count": 7
           },
           {
            "bin_start": 408,
            "bin_end": 489.59999999999997,
            "count": 3
           },
           {
            "bin_start": 489.59999999999997,
            "bin_end": 571.1999999999999,
            "count": 4
           },
           {
            "bin_start": 571.1999999999999,
            "bin_end": 652.8,
            "count": 0
           },
           {
            "bin_start": 652.8,
            "bin_end": 734.4,
            "count": 3
           },
           {
            "bin_start": 734.4,
            "bin_end": 816,
            "count": 2
           }
          ]
         }
        },
        {
         "name": "w_bpSaved_grass",
         "dtype": "float64",
         "stats": {
          "unique_count": 39,
          "nan_count": 0,
          "min": "0.0",
          "max": "175.0",
          "histogram": [
           {
            "bin_start": 0,
            "bin_end": 17.5,
            "count": 16
           },
           {
            "bin_start": 17.5,
            "bin_end": 35,
            "count": 7
           },
           {
            "bin_start": 35,
            "bin_end": 52.5,
            "count": 5
           },
           {
            "bin_start": 52.5,
            "bin_end": 70,
            "count": 6
           },
           {
            "bin_start": 70,
            "bin_end": 87.5,
            "count": 5
           },
           {
            "bin_start": 87.5,
            "bin_end": 105,
            "count": 3
           },
           {
            "bin_start": 105,
            "bin_end": 122.5,
            "count": 4
           },
           {
            "bin_start": 122.5,
            "bin_end": 140,
            "count": 0
           },
           {
            "bin_start": 140,
            "bin_end": 157.5,
            "count": 2
           },
           {
            "bin_start": 157.5,
            "bin_end": 175,
            "count": 2
           }
          ]
         }
        },
        {
         "name": "w_bpSaved_hard",
         "dtype": "float64",
         "stats": {
          "unique_count": 49,
          "nan_count": 0,
          "min": "11.0",
          "max": "710.0",
          "histogram": [
           {
            "bin_start": 11,
            "bin_end": 80.9,
            "count": 7
           },
           {
            "bin_start": 80.9,
            "bin_end": 150.8,
            "count": 6
           },
           {
            "bin_start": 150.8,
            "bin_end": 220.70000000000002,
            "count": 3
           },
           {
            "bin_start": 220.70000000000002,
            "bin_end": 290.6,
            "count": 3
           },
           {
            "bin_start": 290.6,
            "bin_end": 360.5,
            "count": 7
           },
           {
            "bin_start": 360.5,
            "bin_end": 430.40000000000003,
            "count": 7
           },
           {
            "bin_start": 430.40000000000003,
            "bin_end": 500.30000000000007,
            "count": 6
           },
           {
            "bin_start": 500.30000000000007,
            "bin_end": 570.2,
            "count": 7
           },
           {
            "bin_start": 570.2,
            "bin_end": 640.1,
            "count": 2
           },
           {
            "bin_start": 640.1,
            "bin_end": 710,
            "count": 2
           }
          ]
         }
        },
        {
         "name": "w_bpSaved_carpet",
         "dtype": "float64",
         "stats": {
          "unique_count": 49,
          "nan_count": 0,
          "min": "11.0",
          "max": "710.0",
          "histogram": [
           {
            "bin_start": 11,
            "bin_end": 80.9,
            "count": 7
           },
           {
            "bin_start": 80.9,
            "bin_end": 150.8,
            "count": 6
           },
           {
            "bin_start": 150.8,
            "bin_end": 220.70000000000002,
            "count": 3
           },
           {
            "bin_start": 220.70000000000002,
            "bin_end": 290.6,
            "count": 3
           },
           {
            "bin_start": 290.6,
            "bin_end": 360.5,
            "count": 7
           },
           {
            "bin_start": 360.5,
            "bin_end": 430.40000000000003,
            "count": 7
           },
           {
            "bin_start": 430.40000000000003,
            "bin_end": 500.30000000000007,
            "count": 6
           },
           {
            "bin_start": 500.30000000000007,
            "bin_end": 570.2,
            "count": 7
           },
           {
            "bin_start": 570.2,
            "bin_end": 640.1,
            "count": 2
           },
           {
            "bin_start": 640.1,
            "bin_end": 710,
            "count": 2
           }
          ]
         }
        },
        {
         "name": "w_bpFaced_clay",
         "dtype": "float64",
         "stats": {
          "unique_count": 49,
          "nan_count": 0,
          "min": "0.0",
          "max": "1196.0",
          "histogram": [
           {
            "bin_start": 0,
            "bin_end": 119.6,
            "count": 10
           },
           {
            "bin_start": 119.6,
            "bin_end": 239.2,
            "count": 9
           },
           {
            "bin_start": 239.2,
            "bin_end": 358.79999999999995,
            "count": 6
           },
           {
            "bin_start": 358.79999999999995,
            "bin_end": 478.4,
            "count": 5
           },
           {
            "bin_start": 478.4,
            "bin_end": 598,
            "count": 8
           },
           {
            "bin_start": 598,
            "bin_end": 717.5999999999999,
            "count": 2
           },
           {
            "bin_start": 717.5999999999999,
            "bin_end": 837.1999999999999,
            "count": 5
           },
           {
            "bin_start": 837.1999999999999,
            "bin_end": 956.8,
            "count": 0
           },
           {
            "bin_start": 956.8,
            "bin_end": 1076.3999999999999,
            "count": 2
           },
           {
            "bin_start": 1076.3999999999999,
            "bin_end": 1196,
            "count": 3
           }
          ]
         }
        },
        {
         "name": "w_bpFaced_grass",
         "dtype": "float64",
         "stats": {
          "unique_count": 41,
          "nan_count": 0,
          "min": "0.0",
          "max": "265.0",
          "histogram": [
           {
            "bin_start": 0,
            "bin_end": 26.5,
            "count": 17
           },
           {
            "bin_start": 26.5,
            "bin_end": 53,
            "count": 5
           },
           {
            "bin_start": 53,
            "bin_end": 79.5,
            "count": 8
           },
           {
            "bin_start": 79.5,
            "bin_end": 106,
            "count": 6
           },
           {
            "bin_start": 106,
            "bin_end": 132.5,
            "count": 6
           },
           {
            "bin_start": 132.5,
            "bin_end": 159,
            "count": 2
           },
           {
            "bin_start": 159,
            "bin_end": 185.5,
            "count": 2
           },
           {
            "bin_start": 185.5,
            "bin_end": 212,
            "count": 2
           },
           {
            "bin_start": 212,
            "bin_end": 238.5,
            "count": 1
           },
           {
            "bin_start": 238.5,
            "bin_end": 265,
            "count": 1
           }
          ]
         }
        },
        {
         "name": "w_bpFaced_hard",
         "dtype": "float64",
         "stats": {
          "unique_count": 49,
          "nan_count": 0,
          "min": "15.0",
          "max": "1030.0",
          "histogram": [
           {
            "bin_start": 15,
            "bin_end": 116.5,
            "count": 7
           },
           {
            "bin_start": 116.5,
            "bin_end": 218,
            "count": 6
           },
           {
            "bin_start": 218,
            "bin_end": 319.5,
            "count": 3
           },
           {
            "bin_start": 319.5,
            "bin_end": 421,
            "count": 5
           },
           {
            "bin_start": 421,
            "bin_end": 522.5,
            "count": 6
           },
           {
            "bin_start": 522.5,
            "bin_end": 624,
            "count": 6
           },
           {
            "bin_start": 624,
            "bin_end": 725.5,
            "count": 8
           },
           {
            "bin_start": 725.5,
            "bin_end": 827,
            "count": 4
           },
           {
            "bin_start": 827,
            "bin_end": 928.5,
            "count": 4
           },
           {
            "bin_start": 928.5,
            "bin_end": 1030,
            "count": 1
           }
          ]
         }
        },
        {
         "name": "w_bpFaced_carpet",
         "dtype": "float64",
         "stats": {
          "unique_count": 49,
          "nan_count": 0,
          "min": "15.0",
          "max": "1030.0",
          "histogram": [
           {
            "bin_start": 15,
            "bin_end": 116.5,
            "count": 7
           },
           {
            "bin_start": 116.5,
            "bin_end": 218,
            "count": 6
           },
           {
            "bin_start": 218,
            "bin_end": 319.5,
            "count": 3
           },
           {
            "bin_start": 319.5,
            "bin_end": 421,
            "count": 5
           },
           {
            "bin_start": 421,
            "bin_end": 522.5,
            "count": 6
           },
           {
            "bin_start": 522.5,
            "bin_end": 624,
            "count": 6
           },
           {
            "bin_start": 624,
            "bin_end": 725.5,
            "count": 8
           },
           {
            "bin_start": 725.5,
            "bin_end": 827,
            "count": 4
           },
           {
            "bin_start": 827,
            "bin_end": 928.5,
            "count": 4
           },
           {
            "bin_start": 928.5,
            "bin_end": 1030,
            "count": 1
           }
          ]
         }
        },
        {
         "name": "_deepnote_index_column",
         "dtype": "int64"
        }
       ],
       "rows_top": [
        {
         "Name": "Novak Djokovic",
         "w_ace_clay": 312,
         "w_ace_grass": 107,
         "w_ace_hard": 460,
         "w_ace_carpet": 460,
         "w_df_clay": 244,
         "w_df_grass": 147,
         "w_df_hard": 569,
         "w_df_carpet": 569,
         "w_svpt_clay": 9237,
         "w_svpt_grass": 4176,
         "w_svpt_hard": 15676,
         "w_svpt_carpet": 15676,
         "w_1stIn_clay": 6113,
         "w_1stIn_grass": 2773,
         "w_1stIn_hard": 10227,
         "w_1stIn_carpet": 10227,
         "w_1stWon_clay": 4458,
         "w_1stWon_grass": 2210,
         "w_1stWon_hard": 7795,
         "w_1stWon_carpet": 7795,
         "w_2ndWon_clay": 1734,
         "w_2ndWon_grass": 759,
         "w_2ndWon_hard": 3112,
         "w_2ndWon_carpet": 3112,
         "w_SvGms_clay": 1480,
         "w_SvGms_grass": 705,
         "w_SvGms_hard": 2583,
         "w_SvGms_carpet": 2583,
         "w_bpSaved_clay": 445,
         "w_bpSaved_grass": 152,
         "w_bpSaved_hard": 588,
         "w_bpSaved_carpet": 588,
         "w_bpFaced_clay": 654,
         "w_bpFaced_grass": 208,
         "w_bpFaced_hard": 859,
         "w_bpFaced_carpet": 859,
         "_deepnote_index_column": 192
        },
        {
         "Name": "Rafael Nadal",
         "w_ace_clay": 330,
         "w_ace_grass": 35,
         "w_ace_hard": 451,
         "w_ace_carpet": 451,
         "w_df_clay": 269,
         "w_df_grass": 32,
         "w_df_hard": 336,
         "w_df_carpet": 336,
         "w_svpt_clay": 10917,
         "w_svpt_grass": 1427,
         "w_svpt_hard": 12607,
         "w_svpt_carpet": 12607,
         "w_1stIn_clay": 7319,
         "w_1stIn_grass": 916,
         "w_1stIn_hard": 8317,
         "w_1stIn_carpet": 8317,
         "w_1stWon_clay": 5264,
         "w_1stWon_grass": 718,
         "w_1stWon_hard": 6386,
         "w_1stWon_carpet": 6386,
         "w_2ndWon_clay": 2179,
         "w_2ndWon_grass": 330,
         "w_2ndWon_hard": 2557,
         "w_2ndWon_carpet": 2557,
         "w_SvGms_clay": 1804,
         "w_SvGms_grass": 249,
         "w_SvGms_hard": 2139,
         "w_SvGms_carpet": 2139,
         "w_bpSaved_clay": 537,
         "w_bpSaved_grass": 47,
         "w_bpSaved_hard": 450,
         "w_bpSaved_carpet": 450,
         "w_bpFaced_clay": 760,
         "w_bpFaced_grass": 64,
         "w_bpFaced_hard": 647,
         "w_bpFaced_carpet": 647,
         "_deepnote_index_column": 154
        },
        {
         "Name": "Alexander Zverev",
         "w_ace_clay": 245,
         "w_ace_grass": 11,
         "w_ace_hard": 276,
         "w_ace_carpet": 276,
         "w_df_clay": 389,
         "w_df_grass": 88,
         "w_df_hard": 781,
         "w_df_carpet": 781,
         "w_svpt_clay": 8221,
         "w_svpt_grass": 2213,
         "w_svpt_hard": 15433,
         "w_svpt_carpet": 15433,
         "w_1stIn_clay": 5366,
         "w_1stIn_grass": 1476,
         "w_1stIn_hard": 10091,
         "w_1stIn_carpet": 10091,
         "w_1stWon_clay": 3974,
         "w_1stWon_grass": 1212,
         "w_1stWon_hard": 7939,
         "w_1stWon_carpet": 7939,
         "w_2ndWon_clay": 1546,
         "w_2ndWon_grass": 402,
         "w_2ndWon_hard": 2823,
         "w_2ndWon_carpet": 2823,
         "w_SvGms_clay": 1348,
         "w_SvGms_grass": 387,
         "w_SvGms_hard": 2535,
         "w_SvGms_carpet": 2535,
         "w_bpSaved_clay": 310,
         "w_bpSaved_grass": 75,
         "w_bpSaved_hard": 642,
         "w_bpSaved_carpet": 642,
         "w_bpFaced_clay": 508,
         "w_bpFaced_grass": 102,
         "w_bpFaced_hard": 915,
         "w_bpFaced_carpet": 915,
         "_deepnote_index_column": 0
        },
        {
         "Name": "Roger Federer",
         "w_ace_clay": 52,
         "w_ace_grass": 107,
         "w_ace_hard": 280,
         "w_ace_carpet": 280,
         "w_df_clay": 27,
         "w_df_grass": 64,
         "w_df_hard": 278,
         "w_df_carpet": 278,
         "w_svpt_clay": 1563,
         "w_svpt_grass": 4781,
         "w_svpt_hard": 11359,
         "w_svpt_carpet": 11359,
         "w_1stIn_clay": 986,
         "w_1stIn_grass": 3122,
         "w_1stIn_hard": 7073,
         "w_1stIn_carpet": 7073,
         "w_1stWon_clay": 754,
         "w_1stWon_grass": 2551,
         "w_1stWon_hard": 5675,
         "w_1stWon_carpet": 5675,
         "w_2ndWon_clay": 356,
         "w_2ndWon_grass": 1030,
         "w_2ndWon_hard": 2535,
         "w_2ndWon_carpet": 2535,
         "w_SvGms_clay": 259,
         "w_SvGms_grass": 845,
         "w_SvGms_hard": 1943,
         "w_SvGms_carpet": 1943,
         "w_bpSaved_clay": 57,
         "w_bpSaved_grass": 150,
         "w_bpSaved_hard": 375,
         "w_bpSaved_carpet": 375,
         "w_bpFaced_clay": 81,
         "w_bpFaced_grass": 196,
         "w_bpFaced_hard": 529,
         "w_bpFaced_carpet": 529,
         "_deepnote_index_column": 35
        },
        {
         "Name": "Daniil Medvedev",
         "w_ace_clay": 89,
         "w_ace_grass": 44,
         "w_ace_hard": 416,
         "w_ace_carpet": 416,
         "w_df_clay": 100,
         "w_df_grass": 98,
         "w_df_hard": 790,
         "w_df_carpet": 790,
         "w_svpt_clay": 2496,
         "w_svpt_grass": 2837,
         "w_svpt_hard": 17821,
         "w_svpt_carpet": 17821,
         "w_1stIn_clay": 1360,
         "w_1stIn_grass": 1768,
         "w_1stIn_hard": 10680,
         "w_1stIn_carpet": 10680,
         "w_1stWon_clay": 1010,
         "w_1stWon_grass": 1438,
         "w_1stWon_hard": 8455,
         "w_1stWon_carpet": 8455,
         "w_2ndWon_clay": 631,
         "w_2ndWon_grass": 594,
         "w_2ndWon_hard": 3904,
         "w_2ndWon_carpet": 3904,
         "w_SvGms_clay": 403,
         "w_SvGms_grass": 485,
         "w_SvGms_hard": 2947,
         "w_SvGms_carpet": 2947,
         "w_bpSaved_clay": 118,
         "w_bpSaved_grass": 84,
         "w_bpSaved_hard": 710,
         "w_bpSaved_carpet": 710,
         "w_bpFaced_clay": 180,
         "w_bpFaced_grass": 123,
         "w_bpFaced_hard": 1030,
         "w_bpFaced_carpet": 1030,
         "_deepnote_index_column": 766
        },
        {
         "Name": "Dominic Thiem",
         "w_ace_clay": 471,
         "w_ace_grass": 15,
         "w_ace_hard": 293,
         "w_ace_carpet": 293,
         "w_df_clay": 412,
         "w_df_grass": 63,
         "w_df_hard": 433,
         "w_df_carpet": 433,
         "w_svpt_clay": 12133,
         "w_svpt_grass": 1170,
         "w_svpt_hard": 13621,
         "w_svpt_carpet": 13621,
         "w_1stIn_clay": 7624,
         "w_1stIn_grass": 668,
         "w_1stIn_hard": 8398,
         "w_1stIn_carpet": 8398,
         "w_1stWon_clay": 5742,
         "w_1stWon_grass": 539,
         "w_1stWon_hard": 6480,
         "w_1stWon_carpet": 6480,
         "w_2ndWon_clay": 2587,
         "w_2ndWon_grass": 282,
         "w_2ndWon_hard": 2892,
         "w_2ndWon_carpet": 2892,
         "w_SvGms_clay": 1998,
         "w_SvGms_grass": 191,
         "w_SvGms_hard": 2241,
         "w_SvGms_carpet": 2241,
         "w_bpSaved_clay": 517,
         "w_bpSaved_grass": 47,
         "w_bpSaved_hard": 542,
         "w_bpSaved_carpet": 542,
         "w_bpFaced_clay": 765,
         "w_bpFaced_grass": 60,
         "w_bpFaced_hard": 805,
         "w_bpFaced_carpet": 805,
         "_deepnote_index_column": 679
        },
        {
         "Name": "Andy Murray",
         "w_ace_clay": 72,
         "w_ace_grass": 40,
         "w_ace_hard": 249,
         "w_ace_carpet": 249,
         "w_df_clay": 84,
         "w_df_grass": 38,
         "w_df_hard": 318,
         "w_df_carpet": 318,
         "w_svpt_clay": 2609,
         "w_svpt_grass": 2256,
         "w_svpt_hard": 8630,
         "w_svpt_carpet": 8630,
         "w_1stIn_clay": 1551,
         "w_1stIn_grass": 1420,
         "w_1stIn_hard": 5054,
         "w_1stIn_carpet": 5054,
         "w_1stWon_clay": 1168,
         "w_1stWon_grass": 1091,
         "w_1stWon_hard": 3870,
         "w_1stWon_carpet": 3870,
         "w_2ndWon_clay": 589,
         "w_2ndWon_grass": 468,
         "w_2ndWon_hard": 1981,
         "w_2ndWon_carpet": 1981,
         "w_SvGms_clay": 412,
         "w_SvGms_grass": 374,
         "w_SvGms_hard": 1394,
         "w_SvGms_carpet": 1394,
         "w_bpSaved_clay": 126,
         "w_bpSaved_grass": 88,
         "w_bpSaved_hard": 343,
         "w_bpSaved_carpet": 343,
         "w_bpFaced_clay": 181,
         "w_bpFaced_grass": 128,
         "w_bpFaced_hard": 522,
         "w_bpFaced_carpet": 522,
         "_deepnote_index_column": 188
        },
        {
         "Name": "Andrey Rublev",
         "w_ace_clay": 136,
         "w_ace_grass": 34,
         "w_ace_hard": 389,
         "w_ace_carpet": 389,
         "w_df_clay": 135,
         "w_df_grass": 32,
         "w_df_hard": 560,
         "w_df_carpet": 560,
         "w_svpt_clay": 5121,
         "w_svpt_grass": 1414,
         "w_svpt_hard": 14888,
         "w_svpt_carpet": 14888,
         "w_1stIn_clay": 3093,
         "w_1stIn_grass": 836,
         "w_1stIn_hard": 8805,
         "w_1stIn_carpet": 8805,
         "w_1stWon_clay": 2282,
         "w_1stWon_grass": 621,
         "w_1stWon_hard": 6992,
         "w_1stWon_carpet": 6992,
         "w_2ndWon_clay": 1046,
         "w_2ndWon_grass": 337,
         "w_2ndWon_hard": 3228,
         "w_2ndWon_carpet": 3228,
         "w_SvGms_clay": 804,
         "w_SvGms_grass": 232,
         "w_SvGms_hard": 2411,
         "w_SvGms_carpet": 2411,
         "w_bpSaved_clay": 261,
         "w_bpSaved_grass": 42,
         "w_bpSaved_hard": 629,
         "w_bpSaved_carpet": 629,
         "w_bpFaced_clay": 405,
         "w_bpFaced_grass": 68,
         "w_bpFaced_hard": 901,
         "w_bpFaced_carpet": 901,
         "_deepnote_index_column": 1051
        },
        {
         "Name": "Ugo Humbert",
         "w_ace_clay": 25,
         "w_ace_grass": 10,
         "w_ace_hard": 201,
         "w_ace_carpet": 201,
         "w_df_clay": 24,
         "w_df_grass": 75,
         "w_df_hard": 310,
         "w_df_carpet": 310,
         "w_svpt_clay": 712,
         "w_svpt_grass": 1804,
         "w_svpt_hard": 8473,
         "w_svpt_carpet": 8473,
         "w_1stIn_clay": 452,
         "w_1stIn_grass": 1183,
         "w_1stIn_hard": 5083,
         "w_1stIn_carpet": 5083,
         "w_1stWon_clay": 323,
         "w_1stWon_grass": 902,
         "w_1stWon_hard": 4036,
         "w_1stWon_carpet": 4036,
         "w_2ndWon_clay": 135,
         "w_2ndWon_grass": 331,
         "w_2ndWon_hard": 1945,
         "w_2ndWon_carpet": 1945,
         "w_SvGms_clay": 116,
         "w_SvGms_grass": 277,
         "w_SvGms_hard": 1340,
         "w_SvGms_carpet": 1340,
         "w_bpSaved_clay": 25,
         "w_bpSaved_grass": 88,
         "w_bpSaved_hard": 362,
         "w_bpSaved_carpet": 362,
         "w_bpFaced_clay": 48,
         "w_bpFaced_grass": 118,
         "w_bpFaced_hard": 480,
         "w_bpFaced_carpet": 480,
         "_deepnote_index_column": 1366
        },
        {
         "Name": "James Duckworth",
         "w_ace_clay": 20,
         "w_ace_grass": 19,
         "w_ace_hard": 138,
         "w_ace_carpet": 138,
         "w_df_clay": 27,
         "w_df_grass": 26,
         "w_df_hard": 250,
         "w_df_carpet": 250,
         "w_svpt_clay": 713,
         "w_svpt_grass": 1164,
         "w_svpt_hard": 8111,
         "w_svpt_carpet": 8111,
         "w_1stIn_clay": 383,
         "w_1stIn_grass": 708,
         "w_1stIn_hard": 4507,
         "w_1stIn_carpet": 4507,
         "w_1stWon_clay": 307,
         "w_1stWon_grass": 548,
         "w_1stWon_hard": 3635,
         "w_1stWon_carpet": 3635,
         "w_2ndWon_clay": 172,
         "w_2ndWon_grass": 273,
         "w_2ndWon_hard": 2113,
         "w_2ndWon_carpet": 2113,
         "w_SvGms_clay": 107,
         "w_SvGms_grass": 192,
         "w_SvGms_hard": 1330,
         "w_SvGms_carpet": 1330,
         "w_bpSaved_clay": 49,
         "w_bpSaved_grass": 63,
         "w_bpSaved_hard": 314,
         "w_bpSaved_carpet": 314,
         "w_bpFaced_clay": 62,
         "w_bpFaced_grass": 76,
         "w_bpFaced_hard": 425,
         "w_bpFaced_carpet": 425,
         "_deepnote_index_column": 546
        },
        {
         "Name": "Facundo Bagnis",
         "w_ace_clay": 581,
         "w_ace_grass": 0,
         "w_ace_hard": 15,
         "w_ace_carpet": 15,
         "w_df_clay": 724,
         "w_df_grass": 0,
         "w_df_hard": 19,
         "w_df_carpet": 19,
         "w_svpt_clay": 15625,
         "w_svpt_grass": 0,
         "w_svpt_hard": 569,
         "w_svpt_carpet": 569,
         "w_1stIn_clay": 9302,
         "w_1stIn_grass": 0,
         "w_1stIn_hard": 369,
         "w_1stIn_carpet": 369,
         "w_1stWon_clay": 6935,
         "w_1stWon_grass": 0,
         "w_1stWon_hard": 254,
         "w_1stWon_carpet": 254,
         "w_2ndWon_clay": 3475,
         "w_2ndWon_grass": 0,
         "w_2ndWon_hard": 111,
         "w_2ndWon_carpet": 111,
         "w_SvGms_clay": 2515,
         "w_SvGms_grass": 0,
         "w_SvGms_hard": 34,
         "w_SvGms_carpet": 34,
         "w_bpSaved_clay": 816,
         "w_bpSaved_grass": 0,
         "w_bpSaved_hard": 32,
         "w_bpSaved_carpet": 32,
         "w_bpFaced_clay": 1196,
         "w_bpFaced_grass": 0,
         "w_bpFaced_hard": 44,
         "w_bpFaced_carpet": 44,
         "_deepnote_index_column": 374
        },
        {
         "Name": "Stefanos Tsitsipas",
         "w_ace_clay": 323,
         "w_ace_grass": 15,
         "w_ace_hard": 382,
         "w_ace_carpet": 382,
         "w_df_clay": 210,
         "w_df_grass": 43,
         "w_df_hard": 365,
         "w_df_carpet": 365,
         "w_svpt_clay": 8449,
         "w_svpt_grass": 990,
         "w_svpt_hard": 14917,
         "w_svpt_carpet": 14917,
         "w_1stIn_clay": 5223,
         "w_1stIn_grass": 647,
         "w_1stIn_hard": 9259,
         "w_1stIn_carpet": 9259,
         "w_1stWon_clay": 3958,
         "w_1stWon_grass": 503,
         "w_1stWon_hard": 7412,
         "w_1stWon_carpet": 7412,
         "w_2ndWon_clay": 1883,
         "w_2ndWon_grass": 187,
         "w_2ndWon_hard": 3295,
         "w_2ndWon_carpet": 3295,
         "w_SvGms_clay": 1395,
         "w_SvGms_grass": 167,
         "w_SvGms_hard": 2473,
         "w_SvGms_carpet": 2473,
         "w_bpSaved_clay": 329,
         "w_bpSaved_grass": 31,
         "w_bpSaved_hard": 502,
         "w_bpSaved_carpet": 502,
         "w_bpFaced_clay": 487,
         "w_bpFaced_grass": 50,
         "w_bpFaced_hard": 696,
         "w_bpFaced_carpet": 696,
         "_deepnote_index_column": 1150
        },
        {
         "Name": "Roberto Bautista Agut",
         "w_ace_clay": 149,
         "w_ace_grass": 81,
         "w_ace_hard": 442,
         "w_ace_carpet": 442,
         "w_df_clay": 102,
         "w_df_grass": 36,
         "w_df_hard": 338,
         "w_df_carpet": 338,
         "w_svpt_clay": 4686,
         "w_svpt_grass": 2045,
         "w_svpt_hard": 12956,
         "w_svpt_carpet": 12956,
         "w_1stIn_clay": 3017,
         "w_1stIn_grass": 1369,
         "w_1stIn_hard": 8460,
         "w_1stIn_carpet": 8460,
         "w_1stWon_clay": 2166,
         "w_1stWon_grass": 1024,
         "w_1stWon_hard": 6275,
         "w_1stWon_carpet": 6275,
         "w_2ndWon_clay": 942,
         "w_2ndWon_grass": 389,
         "w_2ndWon_hard": 2623,
         "w_2ndWon_carpet": 2623,
         "w_SvGms_clay": 757,
         "w_SvGms_grass": 333,
         "w_SvGms_hard": 2150,
         "w_SvGms_carpet": 2150,
         "w_bpSaved_clay": 224,
         "w_bpSaved_grass": 91,
         "w_bpSaved_hard": 565,
         "w_bpSaved_carpet": 565,
         "w_bpFaced_clay": 336,
         "w_bpFaced_grass": 125,
         "w_bpFaced_hard": 844,
         "w_bpFaced_carpet": 844,
         "_deepnote_index_column": 259
        }
       ],
       "rows_bottom": [
        {
         "Name": "Filip Krajinovic",
         "w_ace_clay": 221,
         "w_ace_grass": 0,
         "w_ace_hard": 250,
         "w_ace_carpet": 250,
         "w_df_clay": 111,
         "w_df_grass": 0,
         "w_df_hard": 135,
         "w_df_carpet": 135,
         "w_svpt_clay": 6639,
         "w_svpt_grass": 0,
         "w_svpt_hard": 7215,
         "w_svpt_carpet": 7215,
         "w_1stIn_clay": 4297,
         "w_1stIn_grass": 0,
         "w_1stIn_hard": 4629,
         "w_1stIn_carpet": 4629,
         "w_1stWon_clay": 3043,
         "w_1stWon_grass": 0,
         "w_1stWon_hard": 3463,
         "w_1stWon_carpet": 3463,
         "w_2ndWon_clay": 1332,
         "w_2ndWon_grass": 0,
         "w_2ndWon_hard": 1361,
         "w_2ndWon_carpet": 1361,
         "w_SvGms_clay": 1073,
         "w_SvGms_grass": 0,
         "w_SvGms_hard": 1140,
         "w_SvGms_carpet": 1140,
         "w_bpSaved_clay": 351,
         "w_bpSaved_grass": 0,
         "w_bpSaved_hard": 359,
         "w_bpSaved_carpet": 359,
         "w_bpFaced_clay": 523,
         "w_bpFaced_grass": 0,
         "w_bpFaced_hard": 514,
         "w_bpFaced_carpet": 514,
         "_deepnote_index_column": 560
        },
        {
         "Name": "Reilly Opelka",
         "w_ace_clay": 6,
         "w_ace_grass": 0,
         "w_ace_hard": 6,
         "w_ace_carpet": 6,
         "w_df_clay": 85,
         "w_df_grass": 16,
         "w_df_hard": 336,
         "w_df_carpet": 336,
         "w_svpt_clay": 2378,
         "w_svpt_grass": 522,
         "w_svpt_hard": 8985,
         "w_svpt_carpet": 8985,
         "w_1stIn_clay": 1498,
         "w_1stIn_grass": 347,
         "w_1stIn_hard": 5727,
         "w_1stIn_carpet": 5727,
         "w_1stWon_clay": 1188,
         "w_1stWon_grass": 268,
         "w_1stWon_hard": 4833,
         "w_1stWon_carpet": 4833,
         "w_2ndWon_clay": 501,
         "w_2ndWon_grass": 106,
         "w_2ndWon_hard": 1890,
         "w_2ndWon_carpet": 1890,
         "w_SvGms_clay": 388,
         "w_SvGms_grass": 83,
         "w_SvGms_hard": 1500,
         "w_SvGms_carpet": 1500,
         "w_bpSaved_clay": 80,
         "w_bpSaved_grass": 20,
         "w_bpSaved_hard": 222,
         "w_bpSaved_carpet": 222,
         "w_bpFaced_clay": 108,
         "w_bpFaced_grass": 23,
         "w_bpFaced_hard": 293,
         "w_bpFaced_carpet": 293,
         "_deepnote_index_column": 1032
        },
        {
         "Name": "Marco Cecchinato",
         "w_ace_clay": 448,
         "w_ace_grass": 5,
         "w_ace_hard": 22,
         "w_ace_carpet": 22,
         "w_df_clay": 319,
         "w_df_grass": 6,
         "w_df_hard": 38,
         "w_df_carpet": 38,
         "w_svpt_clay": 14156,
         "w_svpt_grass": 180,
         "w_svpt_hard": 1130,
         "w_svpt_carpet": 1130,
         "w_1stIn_clay": 9629,
         "w_1stIn_grass": 114,
         "w_1stIn_hard": 765,
         "w_1stIn_carpet": 765,
         "w_1stWon_clay": 6837,
         "w_1stWon_grass": 89,
         "w_1stWon_hard": 588,
         "w_1stWon_carpet": 588,
         "w_2ndWon_clay": 2535,
         "w_2ndWon_grass": 36,
         "w_2ndWon_hard": 207,
         "w_2ndWon_carpet": 207,
         "w_SvGms_clay": 2217,
         "w_SvGms_grass": 31,
         "w_SvGms_hard": 181,
         "w_SvGms_carpet": 181,
         "w_bpSaved_clay": 673,
         "w_bpSaved_grass": 2,
         "w_bpSaved_hard": 32,
         "w_bpSaved_carpet": 32,
         "w_bpFaced_clay": 996,
         "w_bpFaced_grass": 5,
         "w_bpFaced_hard": 50,
         "w_bpFaced_carpet": 50,
         "_deepnote_index_column": 614
        },
        {
         "Name": "Jannik Sinner",
         "w_ace_clay": 108,
         "w_ace_grass": 5,
         "w_ace_hard": 172,
         "w_ace_carpet": 172,
         "w_df_clay": 73,
         "w_df_grass": 5,
         "w_df_hard": 158,
         "w_df_carpet": 158,
         "w_svpt_clay": 2823,
         "w_svpt_grass": 162,
         "w_svpt_hard": 5281,
         "w_svpt_carpet": 5281,
         "w_1stIn_clay": 1687,
         "w_1stIn_grass": 98,
         "w_1stIn_hard": 3141,
         "w_1stIn_carpet": 3141,
         "w_1stWon_clay": 1193,
         "w_1stWon_grass": 72,
         "w_1stWon_hard": 2356,
         "w_1stWon_carpet": 2356,
         "w_2ndWon_clay": 615,
         "w_2ndWon_grass": 34,
         "w_2ndWon_hard": 1194,
         "w_2ndWon_carpet": 1194,
         "w_SvGms_clay": 438,
         "w_SvGms_grass": 25,
         "w_SvGms_hard": 791,
         "w_SvGms_carpet": 791,
         "w_bpSaved_clay": 127,
         "w_bpSaved_grass": 3,
         "w_bpSaved_hard": 274,
         "w_bpSaved_carpet": 274,
         "w_bpFaced_clay": 204,
         "w_bpFaced_grass": 6,
         "w_bpFaced_hard": 381,
         "w_bpFaced_carpet": 381,
         "_deepnote_index_column": 1576
        },
        {
         "Name": "Alex De Minaur",
         "w_ace_clay": 28,
         "w_ace_grass": 79,
         "w_ace_hard": 333,
         "w_ace_carpet": 333,
         "w_df_clay": 57,
         "w_df_grass": 103,
         "w_df_hard": 367,
         "w_df_carpet": 367,
         "w_svpt_clay": 1426,
         "w_svpt_grass": 2799,
         "w_svpt_hard": 11295,
         "w_svpt_carpet": 11295,
         "w_1stIn_clay": 795,
         "w_1stIn_grass": 1731,
         "w_1stIn_hard": 6778,
         "w_1stIn_carpet": 6778,
         "w_1stWon_clay": 563,
         "w_1stWon_grass": 1278,
         "w_1stWon_hard": 5097,
         "w_1stWon_carpet": 5097,
         "w_2ndWon_clay": 365,
         "w_2ndWon_grass": 646,
         "w_2ndWon_hard": 2543,
         "w_2ndWon_carpet": 2543,
         "w_SvGms_clay": 220,
         "w_SvGms_grass": 445,
         "w_SvGms_hard": 1777,
         "w_SvGms_carpet": 1777,
         "w_bpSaved_clay": 84,
         "w_bpSaved_grass": 122,
         "w_bpSaved_hard": 460,
         "w_bpSaved_carpet": 460,
         "w_bpFaced_clay": 117,
         "w_bpFaced_grass": 167,
         "w_bpFaced_hard": 685,
         "w_bpFaced_carpet": 685,
         "_deepnote_index_column": 1421
        },
        {
         "Name": "Jaume Munar",
         "w_ace_clay": 289,
         "w_ace_grass": 0,
         "w_ace_hard": 85,
         "w_ace_carpet": 85,
         "w_df_clay": 268,
         "w_df_grass": 0,
         "w_df_hard": 85,
         "w_df_carpet": 85,
         "w_svpt_clay": 9515,
         "w_svpt_grass": 0,
         "w_svpt_hard": 2606,
         "w_svpt_carpet": 2606,
         "w_1stIn_clay": 6305,
         "w_1stIn_grass": 0,
         "w_1stIn_hard": 1645,
         "w_1stIn_carpet": 1645,
         "w_1stWon_clay": 4453,
         "w_1stWon_grass": 0,
         "w_1stWon_hard": 1230,
         "w_1stWon_carpet": 1230,
         "w_2ndWon_clay": 1666,
         "w_2ndWon_grass": 0,
         "w_2ndWon_hard": 539,
         "w_2ndWon_carpet": 539,
         "w_SvGms_clay": 1478,
         "w_SvGms_grass": 0,
         "w_SvGms_hard": 416,
         "w_SvGms_carpet": 416,
         "w_bpSaved_clay": 480,
         "w_bpSaved_grass": 0,
         "w_bpSaved_hard": 112,
         "w_bpSaved_carpet": 112,
         "w_bpFaced_clay": 748,
         "w_bpFaced_grass": 0,
         "w_bpFaced_hard": 165,
         "w_bpFaced_carpet": 165,
         "_deepnote_index_column": 1315
        },
        {
         "Name": "Casper Ruud",
         "w_ace_clay": 393,
         "w_ace_grass": 8,
         "w_ace_hard": 161,
         "w_ace_carpet": 161,
         "w_df_clay": 319,
         "w_df_grass": 4,
         "w_df_hard": 159,
         "w_df_carpet": 159,
         "w_svpt_clay": 10403,
         "w_svpt_grass": 116,
         "w_svpt_hard": 4795,
         "w_svpt_carpet": 4795,
         "w_1stIn_clay": 6775,
         "w_1stIn_grass": 88,
         "w_1stIn_hard": 3106,
         "w_1stIn_carpet": 3106,
         "w_1stWon_clay": 5029,
         "w_1stWon_grass": 73,
         "w_1stWon_hard": 2390,
         "w_1stWon_carpet": 2390,
         "w_2ndWon_clay": 2087,
         "w_2ndWon_grass": 14,
         "w_2ndWon_hard": 982,
         "w_2ndWon_carpet": 982,
         "w_SvGms_clay": 1700,
         "w_SvGms_grass": 21,
         "w_SvGms_hard": 770,
         "w_SvGms_carpet": 770,
         "w_bpSaved_clay": 424,
         "w_bpSaved_grass": 3,
         "w_bpSaved_hard": 173,
         "w_bpSaved_carpet": 173,
         "w_bpFaced_clay": 613,
         "w_bpFaced_grass": 4,
         "w_bpFaced_hard": 247,
         "w_bpFaced_carpet": 247,
         "_deepnote_index_column": 1271
        },
        {
         "Name": "Alexander Bublik",
         "w_ace_clay": 41,
         "w_ace_grass": 5,
         "w_ace_hard": 118,
         "w_ace_carpet": 118,
         "w_df_clay": 151,
         "w_df_grass": 119,
         "w_df_hard": 952,
         "w_df_carpet": 952,
         "w_svpt_clay": 1794,
         "w_svpt_grass": 1373,
         "w_svpt_hard": 11858,
         "w_svpt_carpet": 11858,
         "w_1stIn_clay": 1003,
         "w_1stIn_grass": 779,
         "w_1stIn_hard": 7028,
         "w_1stIn_carpet": 7028,
         "w_1stWon_clay": 775,
         "w_1stWon_grass": 617,
         "w_1stWon_hard": 5522,
         "w_1stWon_carpet": 5522,
         "w_2ndWon_clay": 352,
         "w_2ndWon_grass": 299,
         "w_2ndWon_hard": 2393,
         "w_2ndWon_carpet": 2393,
         "w_SvGms_clay": 277,
         "w_SvGms_grass": 218,
         "w_SvGms_hard": 1876,
         "w_SvGms_carpet": 1876,
         "w_bpSaved_clay": 103,
         "w_bpSaved_grass": 56,
         "w_bpSaved_hard": 529,
         "w_bpSaved_carpet": 529,
         "w_bpFaced_clay": 163,
         "w_bpFaced_grass": 86,
         "w_bpFaced_hard": 774,
         "w_bpFaced_carpet": 774,
         "_deepnote_index_column": 952
        },
        {
         "Name": "Lucas Pouille",
         "w_ace_clay": 116,
         "w_ace_grass": 16,
         "w_ace_hard": 111,
         "w_ace_carpet": 111,
         "w_df_clay": 131,
         "w_df_grass": 87,
         "w_df_hard": 338,
         "w_df_carpet": 338,
         "w_svpt_clay": 3766,
         "w_svpt_grass": 2198,
         "w_svpt_hard": 8474,
         "w_svpt_carpet": 8474,
         "w_1stIn_clay": 2123,
         "w_1stIn_grass": 1309,
         "w_1stIn_hard": 4829,
         "w_1stIn_carpet": 4829,
         "w_1stWon_clay": 1577,
         "w_1stWon_grass": 1039,
         "w_1stWon_hard": 3753,
         "w_1stWon_carpet": 3753,
         "w_2ndWon_clay": 902,
         "w_2ndWon_grass": 493,
         "w_2ndWon_hard": 1982,
         "w_2ndWon_carpet": 1982,
         "w_SvGms_clay": 582,
         "w_SvGms_grass": 354,
         "w_SvGms_hard": 1332,
         "w_SvGms_carpet": 1332,
         "w_bpSaved_clay": 196,
         "w_bpSaved_grass": 82,
         "w_bpSaved_hard": 350,
         "w_bpSaved_carpet": 350,
         "w_bpFaced_clay": 288,
         "w_bpFaced_grass": 114,
         "w_bpFaced_hard": 502,
         "w_bpFaced_carpet": 502,
         "_deepnote_index_column": 709
        },
        {
         "Name": "Hubert Hurkacz",
         "w_ace_clay": 137,
         "w_ace_grass": 10,
         "w_ace_hard": 276,
         "w_ace_carpet": 276,
         "w_df_clay": 187,
         "w_df_grass": 29,
         "w_df_hard": 399,
         "w_df_carpet": 399,
         "w_svpt_clay": 3730,
         "w_svpt_grass": 1297,
         "w_svpt_hard": 10337,
         "w_svpt_carpet": 10337,
         "w_1stIn_clay": 2265,
         "w_1stIn_grass": 853,
         "w_1stIn_hard": 6587,
         "w_1stIn_carpet": 6587,
         "w_1stWon_clay": 1737,
         "w_1stWon_grass": 674,
         "w_1stWon_hard": 5018,
         "w_1stWon_carpet": 5018,
         "w_2ndWon_clay": 767,
         "w_2ndWon_grass": 256,
         "w_2ndWon_hard": 1981,
         "w_2ndWon_carpet": 1981,
         "w_SvGms_clay": 600,
         "w_SvGms_grass": 219,
         "w_SvGms_hard": 1609,
         "w_SvGms_carpet": 1609,
         "w_bpSaved_clay": 161,
         "w_bpSaved_grass": 34,
         "w_bpSaved_hard": 520,
         "w_bpSaved_carpet": 520,
         "w_bpFaced_clay": 242,
         "w_bpFaced_grass": 46,
         "w_bpFaced_hard": 704,
         "w_bpFaced_carpet": 704,
         "_deepnote_index_column": 1197
        },
        {
         "Name": "Nick Kyrgios",
         "w_ace_clay": 6,
         "w_ace_grass": 12,
         "w_ace_hard": 28,
         "w_ace_carpet": 28,
         "w_df_clay": 27,
         "w_df_grass": 116,
         "w_df_hard": 404,
         "w_df_carpet": 404,
         "w_svpt_clay": 1458,
         "w_svpt_grass": 2263,
         "w_svpt_hard": 9742,
         "w_svpt_carpet": 9742,
         "w_1stIn_clay": 984,
         "w_1stIn_grass": 1520,
         "w_1stIn_hard": 6344,
         "w_1stIn_carpet": 6344,
         "w_1stWon_clay": 783,
         "w_1stWon_grass": 1174,
         "w_1stWon_hard": 5213,
         "w_1stWon_carpet": 5213,
         "w_2ndWon_clay": 298,
         "w_2ndWon_grass": 397,
         "w_2ndWon_hard": 1927,
         "w_2ndWon_carpet": 1927,
         "w_SvGms_clay": 242,
         "w_SvGms_grass": 377,
         "w_SvGms_hard": 1644,
         "w_SvGms_carpet": 1644,
         "w_bpSaved_clay": 39,
         "w_bpSaved_grass": 77,
         "w_bpSaved_hard": 299,
         "w_bpSaved_carpet": 299,
         "w_bpFaced_clay": 50,
         "w_bpFaced_grass": 120,
         "w_bpFaced_hard": 389,
         "w_bpFaced_carpet": 389,
         "_deepnote_index_column": 758
        },
        {
         "Name": "Malek Jaziri",
         "w_ace_clay": 112,
         "w_ace_grass": 19,
         "w_ace_hard": 301,
         "w_ace_carpet": 301,
         "w_df_clay": 93,
         "w_df_grass": 13,
         "w_df_hard": 301,
         "w_df_carpet": 301,
         "w_svpt_clay": 2957,
         "w_svpt_grass": 275,
         "w_svpt_hard": 8453,
         "w_svpt_carpet": 8453,
         "w_1stIn_clay": 1573,
         "w_1stIn_grass": 160,
         "w_1stIn_hard": 4540,
         "w_1stIn_carpet": 4540,
         "w_1stWon_clay": 1142,
         "w_1stWon_grass": 122,
         "w_1stWon_hard": 3480,
         "w_1stWon_carpet": 3480,
         "w_2ndWon_clay": 758,
         "w_2ndWon_grass": 65,
         "w_2ndWon_hard": 2140,
         "w_2ndWon_carpet": 2140,
         "w_SvGms_clay": 451,
         "w_SvGms_grass": 43,
         "w_SvGms_hard": 1317,
         "w_SvGms_carpet": 1317,
         "w_bpSaved_clay": 171,
         "w_bpSaved_grass": 15,
         "w_bpSaved_hard": 408,
         "w_bpSaved_carpet": 408,
         "w_bpFaced_clay": 240,
         "w_bpFaced_grass": 19,
         "w_bpFaced_hard": 600,
         "w_bpFaced_carpet": 600,
         "_deepnote_index_column": 79
        },
        {
         "Name": "Nicolas Jarry",
         "w_ace_clay": 260,
         "w_ace_grass": 0,
         "w_ace_hard": 63,
         "w_ace_carpet": 63,
         "w_df_clay": 313,
         "w_df_grass": 16,
         "w_df_hard": 91,
         "w_df_carpet": 91,
         "w_svpt_clay": 8656,
         "w_svpt_grass": 648,
         "w_svpt_hard": 3070,
         "w_svpt_carpet": 3070,
         "w_1stIn_clay": 5546,
         "w_1stIn_grass": 402,
         "w_1stIn_hard": 1927,
         "w_1stIn_carpet": 1927,
         "w_1stWon_clay": 4251,
         "w_1stWon_grass": 318,
         "w_1stWon_hard": 1534,
         "w_1stWon_carpet": 1534,
         "w_2ndWon_clay": 1790,
         "w_2ndWon_grass": 146,
         "w_2ndWon_hard": 673,
         "w_2ndWon_carpet": 673,
         "w_SvGms_clay": 1390,
         "w_SvGms_grass": 112,
         "w_SvGms_hard": 510,
         "w_SvGms_carpet": 510,
         "w_bpSaved_clay": 361,
         "w_bpSaved_grass": 26,
         "w_bpSaved_hard": 121,
         "w_bpSaved_carpet": 121,
         "w_bpFaced_clay": 494,
         "w_bpFaced_grass": 36,
         "w_bpFaced_hard": 155,
         "w_bpFaced_carpet": 155,
         "_deepnote_index_column": 886
        },
        {
         "Name": "Adrian Mannarino",
         "w_ace_clay": 52,
         "w_ace_grass": 96,
         "w_ace_hard": 300,
         "w_ace_carpet": 300,
         "w_df_clay": 40,
         "w_df_grass": 134,
         "w_df_hard": 258,
         "w_df_carpet": 258,
         "w_svpt_clay": 1823,
         "w_svpt_grass": 4177,
         "w_svpt_hard": 9047,
         "w_svpt_carpet": 9047,
         "w_1stIn_clay": 1147,
         "w_1stIn_grass": 2598,
         "w_1stIn_hard": 5384,
         "w_1stIn_carpet": 5384,
         "w_1stWon_clay": 766,
         "w_1stWon_grass": 1907,
         "w_1stWon_hard": 4068,
         "w_1stWon_carpet": 4068,
         "w_2ndWon_clay": 362,
         "w_2ndWon_grass": 894,
         "w_2ndWon_hard": 2090,
         "w_2ndWon_carpet": 2090,
         "w_SvGms_clay": 275,
         "w_SvGms_grass": 675,
         "w_SvGms_hard": 1466,
         "w_SvGms_carpet": 1466,
         "w_bpSaved_clay": 106,
         "w_bpSaved_grass": 169,
         "w_bpSaved_hard": 413,
         "w_bpSaved_carpet": 413,
         "w_bpFaced_clay": 165,
         "w_bpFaced_grass": 265,
         "w_bpFaced_hard": 595,
         "w_bpFaced_carpet": 595,
         "_deepnote_index_column": 272
        }
       ]
      },
      "text/plain": "                         Name  w_ace_clay  w_ace_grass  w_ace_hard  \\\n192            Novak Djokovic       312.0        107.0       460.0   \n154              Rafael Nadal       330.0         35.0       451.0   \n0            Alexander Zverev       245.0         11.0       276.0   \n35              Roger Federer        52.0        107.0       280.0   \n766           Daniil Medvedev        89.0         44.0       416.0   \n679             Dominic Thiem       471.0         15.0       293.0   \n188               Andy Murray        72.0         40.0       249.0   \n1051            Andrey Rublev       136.0         34.0       389.0   \n1366              Ugo Humbert        25.0         10.0       201.0   \n546           James Duckworth        20.0         19.0       138.0   \n374            Facundo Bagnis       581.0          0.0        15.0   \n1150       Stefanos Tsitsipas       323.0         15.0       382.0   \n259     Roberto Bautista Agut       149.0         81.0       442.0   \n265               Pedro Sousa       267.0          0.0         4.0   \n1131        Matteo Berrettini       203.0         23.0       182.0   \n412         Ricardas Berankis        34.0         26.0       376.0   \n404              Daniel Evans        25.0        107.0       375.0   \n795       Maximilian Marterer       204.0          8.0       100.0   \n362             Steve Johnson        60.0         22.0       161.0   \n638   Roberto Carballes Baena       395.0          8.0        38.0   \n136              Pablo Cuevas       265.0          0.0       101.0   \n842           Jordan Thompson        93.0         70.0       406.0   \n556      Nikoloz Basilashvili       164.0         35.0       261.0   \n280             Yuichi Sugita        14.0        115.0       290.0   \n69                Yen Hsun Lu         0.0         44.0       171.0   \n139             Pablo Andujar       122.0          1.0        31.0   \n351                Radu Albot        60.0         38.0       347.0   \n193             Fabio Fognini       185.0         30.0       242.0   \n111                John Isner         0.0         10.0         6.0   \n160              Gael Monfils        68.0          0.0       255.0   \n419             Gerald Melzer       306.0          0.0        34.0   \n503       Pablo Carreno Busta       241.0          2.0       320.0   \n41              Paolo Lorenzi       337.0          6.0        92.0   \n509           Guido Andreozzi       299.0          5.0        32.0   \n530          Yannick Hanfmann       287.0         19.0       126.0   \n343             Andrej Martin       380.0          5.0        19.0   \n560          Filip Krajinovic       221.0          0.0       250.0   \n1032            Reilly Opelka         6.0          0.0         6.0   \n614          Marco Cecchinato       448.0          5.0        22.0   \n1576            Jannik Sinner       108.0          5.0       172.0   \n1421           Alex De Minaur        28.0         79.0       333.0   \n1315              Jaume Munar       289.0          0.0        85.0   \n1271              Casper Ruud       393.0          8.0       161.0   \n952          Alexander Bublik        41.0          5.0       118.0   \n709             Lucas Pouille       116.0         16.0       111.0   \n1197           Hubert Hurkacz       137.0         10.0       276.0   \n758              Nick Kyrgios         6.0         12.0        28.0   \n79               Malek Jaziri       112.0         19.0       301.0   \n886             Nicolas Jarry       260.0          0.0        63.0   \n272          Adrian Mannarino        52.0         96.0       300.0   \n\n      w_ace_carpet  w_df_clay  w_df_grass  w_df_hard  w_df_carpet  \\\n192          460.0      244.0       147.0      569.0        569.0   \n154          451.0      269.0        32.0      336.0        336.0   \n0            276.0      389.0        88.0      781.0        781.0   \n35           280.0       27.0        64.0      278.0        278.0   \n766          416.0      100.0        98.0      790.0        790.0   \n679          293.0      412.0        63.0      433.0        433.0   \n188          249.0       84.0        38.0      318.0        318.0   \n1051         389.0      135.0        32.0      560.0        560.0   \n1366         201.0       24.0        75.0      310.0        310.0   \n546          138.0       27.0        26.0      250.0        250.0   \n374           15.0      724.0         0.0       19.0         19.0   \n1150         382.0      210.0        43.0      365.0        365.0   \n259          442.0      102.0        36.0      338.0        338.0   \n265            4.0      425.0         0.0        9.0          9.0   \n1131         182.0      103.0        62.0      207.0        207.0   \n412          376.0       73.0        22.0      328.0        328.0   \n404          375.0       19.0        82.0      360.0        360.0   \n795          100.0      142.0         8.0      113.0        113.0   \n362          161.0      108.0       104.0      295.0        295.0   \n638           38.0      499.0        10.0       58.0         58.0   \n136          101.0      320.0        21.0      119.0        119.0   \n842          406.0       62.0        53.0      260.0        260.0   \n556          261.0      240.0        53.0      424.0        424.0   \n280          290.0       10.0        55.0      210.0        210.0   \n69           171.0        0.0        42.0      143.0        143.0   \n139           31.0      233.0         8.0       51.0         51.0   \n351          347.0      124.0        38.0      309.0        309.0   \n193          242.0      290.0        53.0      488.0        488.0   \n111            6.0       67.0        66.0      266.0        266.0   \n160          255.0      103.0        60.0      481.0        481.0   \n419           34.0      213.0         0.0       33.0         33.0   \n503          320.0      124.0         5.0      241.0        241.0   \n41            92.0      305.0         7.0      179.0        179.0   \n509           32.0      368.0         5.0       76.0         76.0   \n530          126.0      232.0        16.0      124.0        124.0   \n343           19.0      495.0         1.0       19.0         19.0   \n560          250.0      111.0         0.0      135.0        135.0   \n1032           6.0       85.0        16.0      336.0        336.0   \n614           22.0      319.0         6.0       38.0         38.0   \n1576         172.0       73.0         5.0      158.0        158.0   \n1421         333.0       57.0       103.0      367.0        367.0   \n1315          85.0      268.0         0.0       85.0         85.0   \n1271         161.0      319.0         4.0      159.0        159.0   \n952          118.0      151.0       119.0      952.0        952.0   \n709          111.0      131.0        87.0      338.0        338.0   \n1197         276.0      187.0        29.0      399.0        399.0   \n758           28.0       27.0       116.0      404.0        404.0   \n79           301.0       93.0        13.0      301.0        301.0   \n886           63.0      313.0        16.0       91.0         91.0   \n272          300.0       40.0       134.0      258.0        258.0   \n\n      w_svpt_clay  ...  w_SvGms_hard  w_SvGms_carpet  w_bpSaved_clay  \\\n192        9237.0  ...        2583.0          2583.0           445.0   \n154       10917.0  ...        2139.0          2139.0           537.0   \n0          8221.0  ...        2535.0          2535.0           310.0   \n35         1563.0  ...        1943.0          1943.0            57.0   \n766        2496.0  ...        2947.0          2947.0           118.0   \n679       12133.0  ...        2241.0          2241.0           517.0   \n188        2609.0  ...        1394.0          1394.0           126.0   \n1051       5121.0  ...        2411.0          2411.0           261.0   \n1366        712.0  ...        1340.0          1340.0            25.0   \n546         713.0  ...        1330.0          1330.0            49.0   \n374       15625.0  ...          34.0            34.0           816.0   \n1150       8449.0  ...        2473.0          2473.0           329.0   \n259        4686.0  ...        2150.0          2150.0           224.0   \n265       11788.0  ...          32.0            32.0           684.0   \n1131       4973.0  ...        1446.0          1446.0           196.0   \n412        1748.0  ...        1717.0          1717.0            96.0   \n404        1086.0  ...        1740.0          1740.0            63.0   \n795        5532.0  ...         942.0           942.0           277.0   \n362        2567.0  ...        1346.0          1346.0           106.0   \n638       13923.0  ...         289.0           289.0           723.0   \n136        9100.0  ...         511.0           511.0           378.0   \n842        2581.0  ...        1659.0          1659.0            90.0   \n556        5070.0  ...        1267.0          1267.0           256.0   \n280         504.0  ...        1390.0          1390.0            25.0   \n69            0.0  ...         710.0           710.0             0.0   \n139        6357.0  ...         213.0           213.0           375.0   \n351        3518.0  ...        1594.0          1594.0           175.0   \n193        6765.0  ...        1424.0          1424.0           343.0   \n111        3257.0  ...        1977.0          1977.0            77.0   \n160        2584.0  ...        1813.0          1813.0           127.0   \n419        6569.0  ...         145.0           145.0           286.0   \n503        7447.0  ...        1591.0          1591.0           365.0   \n41         9770.0  ...         717.0           717.0           511.0   \n509        9920.0  ...         184.0           184.0           529.0   \n530        7132.0  ...         495.0           495.0           322.0   \n343       12477.0  ...          87.0            87.0           749.0   \n560        6639.0  ...        1140.0          1140.0           351.0   \n1032       2378.0  ...        1500.0          1500.0            80.0   \n614       14156.0  ...         181.0           181.0           673.0   \n1576       2823.0  ...         791.0           791.0           127.0   \n1421       1426.0  ...        1777.0          1777.0            84.0   \n1315       9515.0  ...         416.0           416.0           480.0   \n1271      10403.0  ...         770.0           770.0           424.0   \n952        1794.0  ...        1876.0          1876.0           103.0   \n709        3766.0  ...        1332.0          1332.0           196.0   \n1197       3730.0  ...        1609.0          1609.0           161.0   \n758        1458.0  ...        1644.0          1644.0            39.0   \n79         2957.0  ...        1317.0          1317.0           171.0   \n886        8656.0  ...         510.0           510.0           361.0   \n272        1823.0  ...        1466.0          1466.0           106.0   \n\n      w_bpSaved_grass  w_bpSaved_hard  w_bpSaved_carpet  w_bpFaced_clay  \\\n192             152.0           588.0             588.0           654.0   \n154              47.0           450.0             450.0           760.0   \n0                75.0           642.0             642.0           508.0   \n35              150.0           375.0             375.0            81.0   \n766              84.0           710.0             710.0           180.0   \n679              47.0           542.0             542.0           765.0   \n188              88.0           343.0             343.0           181.0   \n1051             42.0           629.0             629.0           405.0   \n1366             88.0           362.0             362.0            48.0   \n546              63.0           314.0             314.0            62.0   \n374               0.0            32.0              32.0          1196.0   \n1150             31.0           502.0             502.0           487.0   \n259              91.0           565.0             565.0           336.0   \n265               0.0            11.0              11.0          1059.0   \n1131             86.0           347.0             347.0           251.0   \n412              45.0           468.0             468.0           143.0   \n404             175.0           530.0             530.0            83.0   \n795              14.0           203.0             203.0           388.0   \n362             110.0           292.0             292.0           150.0   \n638              10.0            73.0              73.0          1092.0   \n136              34.0           116.0             116.0           557.0   \n842             118.0           478.0             478.0           151.0   \n556              60.0           379.0             379.0           405.0   \n280             113.0           387.0             387.0            39.0   \n69               56.0           134.0             134.0             0.0   \n139              10.0            55.0              55.0           567.0   \n351              59.0           515.0             515.0           280.0   \n193              32.0           454.0             454.0           530.0   \n111              52.0           277.0             277.0            96.0   \n160              55.0           383.0             383.0           184.0   \n419               0.0            60.0              60.0           409.0   \n503              17.0           453.0             453.0           550.0   \n41               14.0           216.0             216.0           797.0   \n509               1.0            82.0              82.0           803.0   \n530              19.0           120.0             120.0           464.0   \n343               4.0            23.0              23.0          1141.0   \n560               0.0           359.0             359.0           523.0   \n1032             20.0           222.0             222.0           108.0   \n614               2.0            32.0              32.0           996.0   \n1576              3.0           274.0             274.0           204.0   \n1421            122.0           460.0             460.0           117.0   \n1315              0.0           112.0             112.0           748.0   \n1271              3.0           173.0             173.0           613.0   \n952              56.0           529.0             529.0           163.0   \n709              82.0           350.0             350.0           288.0   \n1197             34.0           520.0             520.0           242.0   \n758              77.0           299.0             299.0            50.0   \n79               15.0           408.0             408.0           240.0   \n886              26.0           121.0             121.0           494.0   \n272             169.0           413.0             413.0           165.0   \n\n      w_bpFaced_grass  w_bpFaced_hard  w_bpFaced_carpet  \n192             208.0           859.0             859.0  \n154              64.0           647.0             647.0  \n0               102.0           915.0             915.0  \n35              196.0           529.0             529.0  \n766             123.0          1030.0            1030.0  \n679              60.0           805.0             805.0  \n188             128.0           522.0             522.0  \n1051             68.0           901.0             901.0  \n1366            118.0           480.0             480.0  \n546              76.0           425.0             425.0  \n374               0.0            44.0              44.0  \n1150             50.0           696.0             696.0  \n259             125.0           844.0             844.0  \n265               0.0            15.0              15.0  \n1131            105.0           460.0             460.0  \n412              61.0           683.0             683.0  \n404             236.0           774.0             774.0  \n795              17.0           279.0             279.0  \n362             151.0           372.0             372.0  \n638              15.0           114.0             114.0  \n136              48.0           163.0             163.0  \n842             165.0           689.0             689.0  \n556              81.0           597.0             597.0  \n280             150.0           602.0             602.0  \n69               69.0           205.0             205.0  \n139              19.0            88.0              88.0  \n351              93.0           770.0             770.0  \n193              60.0           717.0             717.0  \n111              60.0           343.0             343.0  \n160              82.0           585.0             585.0  \n419               0.0            81.0              81.0  \n503              18.0           645.0             645.0  \n41               18.0           320.0             320.0  \n509               1.0           118.0             118.0  \n530              30.0           167.0             167.0  \n343               4.0            39.0              39.0  \n560               0.0           514.0             514.0  \n1032             23.0           293.0             293.0  \n614               5.0            50.0              50.0  \n1576              6.0           381.0             381.0  \n1421            167.0           685.0             685.0  \n1315              0.0           165.0             165.0  \n1271              4.0           247.0             247.0  \n952              86.0           774.0             774.0  \n709             114.0           502.0             502.0  \n1197             46.0           704.0             704.0  \n758             120.0           389.0             389.0  \n79               19.0           600.0             600.0  \n886              36.0           155.0             155.0  \n272             265.0           595.0             595.0  \n\n[50 rows x 37 columns]",
      "text/html": "<div>\n<style scoped>\n    .dataframe tbody tr th:only-of-type {\n        vertical-align: middle;\n    }\n\n    .dataframe tbody tr th {\n        vertical-align: top;\n    }\n\n    .dataframe thead th {\n        text-align: right;\n    }\n</style>\n<table border=\"1\" class=\"dataframe\">\n  <thead>\n    <tr style=\"text-align: right;\">\n      <th></th>\n      <th>Name</th>\n      <th>w_ace_clay</th>\n      <th>w_ace_grass</th>\n      <th>w_ace_hard</th>\n      <th>w_ace_carpet</th>\n      <th>w_df_clay</th>\n      <th>w_df_grass</th>\n      <th>w_df_hard</th>\n      <th>w_df_carpet</th>\n      <th>w_svpt_clay</th>\n      <th>...</th>\n      <th>w_SvGms_hard</th>\n      <th>w_SvGms_carpet</th>\n      <th>w_bpSaved_clay</th>\n      <th>w_bpSaved_grass</th>\n      <th>w_bpSaved_hard</th>\n      <th>w_bpSaved_carpet</th>\n      <th>w_bpFaced_clay</th>\n      <th>w_bpFaced_grass</th>\n      <th>w_bpFaced_hard</th>\n      <th>w_bpFaced_carpet</th>\n    </tr>\n  </thead>\n  <tbody>\n    <tr>\n      <th>192</th>\n      <td>Novak Djokovic</td>\n      <td>312.0</td>\n      <td>107.0</td>\n      <td>460.0</td>\n      <td>460.0</td>\n      <td>244.0</td>\n      <td>147.0</td>\n      <td>569.0</td>\n      <td>569.0</td>\n      <td>9237.0</td>\n      <td>...</td>\n      <td>2583.0</td>\n      <td>2583.0</td>\n      <td>445.0</td>\n      <td>152.0</td>\n      <td>588.0</td>\n      <td>588.0</td>\n      <td>654.0</td>\n      <td>208.0</td>\n      <td>859.0</td>\n      <td>859.0</td>\n    </tr>\n    <tr>\n      <th>154</th>\n      <td>Rafael Nadal</td>\n      <td>330.0</td>\n      <td>35.0</td>\n      <td>451.0</td>\n      <td>451.0</td>\n      <td>269.0</td>\n      <td>32.0</td>\n      <td>336.0</td>\n      <td>336.0</td>\n      <td>10917.0</td>\n      <td>...</td>\n      <td>2139.0</td>\n      <td>2139.0</td>\n      <td>537.0</td>\n      <td>47.0</td>\n      <td>450.0</td>\n      <td>450.0</td>\n      <td>760.0</td>\n      <td>64.0</td>\n      <td>647.0</td>\n      <td>647.0</td>\n    </tr>\n    <tr>\n      <th>0</th>\n      <td>Alexander Zverev</td>\n      <td>245.0</td>\n      <td>11.0</td>\n      <td>276.0</td>\n      <td>276.0</td>\n      <td>389.0</td>\n      <td>88.0</td>\n      <td>781.0</td>\n      <td>781.0</td>\n      <td>8221.0</td>\n      <td>...</td>\n      <td>2535.0</td>\n      <td>2535.0</td>\n      <td>310.0</td>\n      <td>75.0</td>\n      <td>642.0</td>\n      <td>642.0</td>\n      <td>508.0</td>\n      <td>102.0</td>\n      <td>915.0</td>\n      <td>915.0</td>\n    </tr>\n    <tr>\n      <th>35</th>\n      <td>Roger Federer</td>\n      <td>52.0</td>\n      <td>107.0</td>\n      <td>280.0</td>\n      <td>280.0</td>\n      <td>27.0</td>\n      <td>64.0</td>\n      <td>278.0</td>\n      <td>278.0</td>\n      <td>1563.0</td>\n      <td>...</td>\n      <td>1943.0</td>\n      <td>1943.0</td>\n      <td>57.0</td>\n      <td>150.0</td>\n      <td>375.0</td>\n      <td>375.0</td>\n      <td>81.0</td>\n      <td>196.0</td>\n      <td>529.0</td>\n      <td>529.0</td>\n    </tr>\n    <tr>\n      <th>766</th>\n      <td>Daniil Medvedev</td>\n      <td>89.0</td>\n      <td>44.0</td>\n      <td>416.0</td>\n      <td>416.0</td>\n      <td>100.0</td>\n      <td>98.0</td>\n      <td>790.0</td>\n      <td>790.0</td>\n      <td>2496.0</td>\n      <td>...</td>\n      <td>2947.0</td>\n      <td>2947.0</td>\n      <td>118.0</td>\n      <td>84.0</td>\n      <td>710.0</td>\n      <td>710.0</td>\n      <td>180.0</td>\n      <td>123.0</td>\n      <td>1030.0</td>\n      <td>1030.0</td>\n    </tr>\n    <tr>\n      <th>679</th>\n      <td>Dominic Thiem</td>\n      <td>471.0</td>\n      <td>15.0</td>\n      <td>293.0</td>\n      <td>293.0</td>\n      <td>412.0</td>\n      <td>63.0</td>\n      <td>433.0</td>\n      <td>433.0</td>\n      <td>12133.0</td>\n      <td>...</td>\n      <td>2241.0</td>\n      <td>2241.0</td>\n      <td>517.0</td>\n      <td>47.0</td>\n      <td>542.0</td>\n      <td>542.0</td>\n      <td>765.0</td>\n      <td>60.0</td>\n      <td>805.0</td>\n      <td>805.0</td>\n    </tr>\n    <tr>\n      <th>188</th>\n      <td>Andy Murray</td>\n      <td>72.0</td>\n      <td>40.0</td>\n      <td>249.0</td>\n      <td>249.0</td>\n      <td>84.0</td>\n      <td>38.0</td>\n      <td>318.0</td>\n      <td>318.0</td>\n      <td>2609.0</td>\n      <td>...</td>\n      <td>1394.0</td>\n      <td>1394.0</td>\n      <td>126.0</td>\n      <td>88.0</td>\n      <td>343.0</td>\n      <td>343.0</td>\n      <td>181.0</td>\n      <td>128.0</td>\n      <td>522.0</td>\n      <td>522.0</td>\n    </tr>\n    <tr>\n      <th>1051</th>\n      <td>Andrey Rublev</td>\n      <td>136.0</td>\n      <td>34.0</td>\n      <td>389.0</td>\n      <td>389.0</td>\n      <td>135.0</td>\n      <td>32.0</td>\n      <td>560.0</td>\n      <td>560.0</td>\n      <td>5121.0</td>\n      <td>...</td>\n      <td>2411.0</td>\n      <td>2411.0</td>\n      <td>261.0</td>\n      <td>42.0</td>\n      <td>629.0</td>\n      <td>629.0</td>\n      <td>405.0</td>\n      <td>68.0</td>\n      <td>901.0</td>\n      <td>901.0</td>\n    </tr>\n    <tr>\n      <th>1366</th>\n      <td>Ugo Humbert</td>\n      <td>25.0</td>\n      <td>10.0</td>\n      <td>201.0</td>\n      <td>201.0</td>\n      <td>24.0</td>\n      <td>75.0</td>\n      <td>310.0</td>\n      <td>310.0</td>\n      <td>712.0</td>\n      <td>...</td>\n      <td>1340.0</td>\n      <td>1340.0</td>\n      <td>25.0</td>\n      <td>88.0</td>\n      <td>362.0</td>\n      <td>362.0</td>\n      <td>48.0</td>\n      <td>118.0</td>\n      <td>480.0</td>\n      <td>480.0</td>\n    </tr>\n    <tr>\n      <th>546</th>\n      <td>James Duckworth</td>\n      <td>20.0</td>\n      <td>19.0</td>\n      <td>138.0</td>\n      <td>138.0</td>\n      <td>27.0</td>\n      <td>26.0</td>\n      <td>250.0</td>\n      <td>250.0</td>\n      <td>713.0</td>\n      <td>...</td>\n      <td>1330.0</td>\n      <td>1330.0</td>\n      <td>49.0</td>\n      <td>63.0</td>\n      <td>314.0</td>\n      <td>314.0</td>\n      <td>62.0</td>\n      <td>76.0</td>\n      <td>425.0</td>\n      <td>425.0</td>\n    </tr>\n    <tr>\n      <th>374</th>\n      <td>Facundo Bagnis</td>\n      <td>581.0</td>\n      <td>0.0</td>\n      <td>15.0</td>\n      <td>15.0</td>\n      <td>724.0</td>\n      <td>0.0</td>\n      <td>19.0</td>\n      <td>19.0</td>\n      <td>15625.0</td>\n      <td>...</td>\n      <td>34.0</td>\n      <td>34.0</td>\n      <td>816.0</td>\n      <td>0.0</td>\n      <td>32.0</td>\n      <td>32.0</td>\n      <td>1196.0</td>\n      <td>0.0</td>\n      <td>44.0</td>\n      <td>44.0</td>\n    </tr>\n    <tr>\n      <th>1150</th>\n      <td>Stefanos Tsitsipas</td>\n      <td>323.0</td>\n      <td>15.0</td>\n      <td>382.0</td>\n      <td>382.0</td>\n      <td>210.0</td>\n      <td>43.0</td>\n      <td>365.0</td>\n      <td>365.0</td>\n      <td>8449.0</td>\n      <td>...</td>\n      <td>2473.0</td>\n      <td>2473.0</td>\n      <td>329.0</td>\n      <td>31.0</td>\n      <td>502.0</td>\n      <td>502.0</td>\n      <td>487.0</td>\n      <td>50.0</td>\n      <td>696.0</td>\n      <td>696.0</td>\n    </tr>\n    <tr>\n      <th>259</th>\n      <td>Roberto Bautista Agut</td>\n      <td>149.0</td>\n      <td>81.0</td>\n      <td>442.0</td>\n      <td>442.0</td>\n      <td>102.0</td>\n      <td>36.0</td>\n      <td>338.0</td>\n      <td>338.0</td>\n      <td>4686.0</td>\n      <td>...</td>\n      <td>2150.0</td>\n      <td>2150.0</td>\n      <td>224.0</td>\n      <td>91.0</td>\n      <td>565.0</td>\n      <td>565.0</td>\n      <td>336.0</td>\n      <td>125.0</td>\n      <td>844.0</td>\n      <td>844.0</td>\n    </tr>\n    <tr>\n      <th>265</th>\n      <td>Pedro Sousa</td>\n      <td>267.0</td>\n      <td>0.0</td>\n      <td>4.0</td>\n      <td>4.0</td>\n      <td>425.0</td>\n      <td>0.0</td>\n      <td>9.0</td>\n      <td>9.0</td>\n      <td>11788.0</td>\n      <td>...</td>\n      <td>32.0</td>\n      <td>32.0</td>\n      <td>684.0</td>\n      <td>0.0</td>\n      <td>11.0</td>\n      <td>11.0</td>\n      <td>1059.0</td>\n      <td>0.0</td>\n      <td>15.0</td>\n      <td>15.0</td>\n    </tr>\n    <tr>\n      <th>1131</th>\n      <td>Matteo Berrettini</td>\n      <td>203.0</td>\n      <td>23.0</td>\n      <td>182.0</td>\n      <td>182.0</td>\n      <td>103.0</td>\n      <td>62.0</td>\n      <td>207.0</td>\n      <td>207.0</td>\n      <td>4973.0</td>\n      <td>...</td>\n      <td>1446.0</td>\n      <td>1446.0</td>\n      <td>196.0</td>\n      <td>86.0</td>\n      <td>347.0</td>\n      <td>347.0</td>\n      <td>251.0</td>\n      <td>105.0</td>\n      <td>460.0</td>\n      <td>460.0</td>\n    </tr>\n    <tr>\n      <th>412</th>\n      <td>Ricardas Berankis</td>\n      <td>34.0</td>\n      <td>26.0</td>\n      <td>376.0</td>\n      <td>376.0</td>\n      <td>73.0</td>\n      <td>22.0</td>\n      <td>328.0</td>\n      <td>328.0</td>\n      <td>1748.0</td>\n      <td>...</td>\n      <td>1717.0</td>\n      <td>1717.0</td>\n      <td>96.0</td>\n      <td>45.0</td>\n      <td>468.0</td>\n      <td>468.0</td>\n      <td>143.0</td>\n      <td>61.0</td>\n      <td>683.0</td>\n      <td>683.0</td>\n    </tr>\n    <tr>\n      <th>404</th>\n      <td>Daniel Evans</td>\n      <td>25.0</td>\n      <td>107.0</td>\n      <td>375.0</td>\n      <td>375.0</td>\n      <td>19.0</td>\n      <td>82.0</td>\n      <td>360.0</td>\n      <td>360.0</td>\n      <td>1086.0</td>\n      <td>...</td>\n      <td>1740.0</td>\n      <td>1740.0</td>\n      <td>63.0</td>\n      <td>175.0</td>\n      <td>530.0</td>\n      <td>530.0</td>\n      <td>83.0</td>\n      <td>236.0</td>\n      <td>774.0</td>\n      <td>774.0</td>\n    </tr>\n    <tr>\n      <th>795</th>\n      <td>Maximilian Marterer</td>\n      <td>204.0</td>\n      <td>8.0</td>\n      <td>100.0</td>\n      <td>100.0</td>\n      <td>142.0</td>\n      <td>8.0</td>\n      <td>113.0</td>\n      <td>113.0</td>\n      <td>5532.0</td>\n      <td>...</td>\n      <td>942.0</td>\n      <td>942.0</td>\n      <td>277.0</td>\n      <td>14.0</td>\n      <td>203.0</td>\n      <td>203.0</td>\n      <td>388.0</td>\n      <td>17.0</td>\n      <td>279.0</td>\n      <td>279.0</td>\n    </tr>\n    <tr>\n      <th>362</th>\n      <td>Steve Johnson</td>\n      <td>60.0</td>\n      <td>22.0</td>\n      <td>161.0</td>\n      <td>161.0</td>\n      <td>108.0</td>\n      <td>104.0</td>\n      <td>295.0</td>\n      <td>295.0</td>\n      <td>2567.0</td>\n      <td>...</td>\n      <td>1346.0</td>\n      <td>1346.0</td>\n      <td>106.0</td>\n      <td>110.0</td>\n      <td>292.0</td>\n      <td>292.0</td>\n      <td>150.0</td>\n      <td>151.0</td>\n      <td>372.0</td>\n      <td>372.0</td>\n    </tr>\n    <tr>\n      <th>638</th>\n      <td>Roberto Carballes Baena</td>\n      <td>395.0</td>\n      <td>8.0</td>\n      <td>38.0</td>\n      <td>38.0</td>\n      <td>499.0</td>\n      <td>10.0</td>\n      <td>58.0</td>\n      <td>58.0</td>\n      <td>13923.0</td>\n      <td>...</td>\n      <td>289.0</td>\n      <td>289.0</td>\n      <td>723.0</td>\n      <td>10.0</td>\n      <td>73.0</td>\n      <td>73.0</td>\n      <td>1092.0</td>\n      <td>15.0</td>\n      <td>114.0</td>\n      <td>114.0</td>\n    </tr>\n    <tr>\n      <th>136</th>\n      <td>Pablo Cuevas</td>\n      <td>265.0</td>\n      <td>0.0</td>\n      <td>101.0</td>\n      <td>101.0</td>\n      <td>320.0</td>\n      <td>21.0</td>\n      <td>119.0</td>\n      <td>119.0</td>\n      <td>9100.0</td>\n      <td>...</td>\n      <td>511.0</td>\n      <td>511.0</td>\n      <td>378.0</td>\n      <td>34.0</td>\n      <td>116.0</td>\n      <td>116.0</td>\n      <td>557.0</td>\n      <td>48.0</td>\n      <td>163.0</td>\n      <td>163.0</td>\n    </tr>\n    <tr>\n      <th>842</th>\n      <td>Jordan Thompson</td>\n      <td>93.0</td>\n      <td>70.0</td>\n      <td>406.0</td>\n      <td>406.0</td>\n      <td>62.0</td>\n      <td>53.0</td>\n      <td>260.0</td>\n      <td>260.0</td>\n      <td>2581.0</td>\n      <td>...</td>\n      <td>1659.0</td>\n      <td>1659.0</td>\n      <td>90.0</td>\n      <td>118.0</td>\n      <td>478.0</td>\n      <td>478.0</td>\n      <td>151.0</td>\n      <td>165.0</td>\n      <td>689.0</td>\n      <td>689.0</td>\n    </tr>\n    <tr>\n      <th>556</th>\n      <td>Nikoloz Basilashvili</td>\n      <td>164.0</td>\n      <td>35.0</td>\n      <td>261.0</td>\n      <td>261.0</td>\n      <td>240.0</td>\n      <td>53.0</td>\n      <td>424.0</td>\n      <td>424.0</td>\n      <td>5070.0</td>\n      <td>...</td>\n      <td>1267.0</td>\n      <td>1267.0</td>\n      <td>256.0</td>\n      <td>60.0</td>\n      <td>379.0</td>\n      <td>379.0</td>\n      <td>405.0</td>\n      <td>81.0</td>\n      <td>597.0</td>\n      <td>597.0</td>\n    </tr>\n    <tr>\n      <th>280</th>\n      <td>Yuichi Sugita</td>\n      <td>14.0</td>\n      <td>115.0</td>\n      <td>290.0</td>\n      <td>290.0</td>\n      <td>10.0</td>\n      <td>55.0</td>\n      <td>210.0</td>\n      <td>210.0</td>\n      <td>504.0</td>\n      <td>...</td>\n      <td>1390.0</td>\n      <td>1390.0</td>\n      <td>25.0</td>\n      <td>113.0</td>\n      <td>387.0</td>\n      <td>387.0</td>\n      <td>39.0</td>\n      <td>150.0</td>\n      <td>602.0</td>\n      <td>602.0</td>\n    </tr>\n    <tr>\n      <th>69</th>\n      <td>Yen Hsun Lu</td>\n      <td>0.0</td>\n      <td>44.0</td>\n      <td>171.0</td>\n      <td>171.0</td>\n      <td>0.0</td>\n      <td>42.0</td>\n      <td>143.0</td>\n      <td>143.0</td>\n      <td>0.0</td>\n      <td>...</td>\n      <td>710.0</td>\n      <td>710.0</td>\n      <td>0.0</td>\n      <td>56.0</td>\n      <td>134.0</td>\n      <td>134.0</td>\n      <td>0.0</td>\n      <td>69.0</td>\n      <td>205.0</td>\n      <td>205.0</td>\n    </tr>\n    <tr>\n      <th>139</th>\n      <td>Pablo Andujar</td>\n      <td>122.0</td>\n      <td>1.0</td>\n      <td>31.0</td>\n      <td>31.0</td>\n      <td>233.0</td>\n      <td>8.0</td>\n      <td>51.0</td>\n      <td>51.0</td>\n      <td>6357.0</td>\n      <td>...</td>\n      <td>213.0</td>\n      <td>213.0</td>\n      <td>375.0</td>\n      <td>10.0</td>\n      <td>55.0</td>\n      <td>55.0</td>\n      <td>567.0</td>\n      <td>19.0</td>\n      <td>88.0</td>\n      <td>88.0</td>\n    </tr>\n    <tr>\n      <th>351</th>\n      <td>Radu Albot</td>\n      <td>60.0</td>\n      <td>38.0</td>\n      <td>347.0</td>\n      <td>347.0</td>\n      <td>124.0</td>\n      <td>38.0</td>\n      <td>309.0</td>\n      <td>309.0</td>\n      <td>3518.0</td>\n      <td>...</td>\n      <td>1594.0</td>\n      <td>1594.0</td>\n      <td>175.0</td>\n      <td>59.0</td>\n      <td>515.0</td>\n      <td>515.0</td>\n      <td>280.0</td>\n      <td>93.0</td>\n      <td>770.0</td>\n      <td>770.0</td>\n    </tr>\n    <tr>\n      <th>193</th>\n      <td>Fabio Fognini</td>\n      <td>185.0</td>\n      <td>30.0</td>\n      <td>242.0</td>\n      <td>242.0</td>\n      <td>290.0</td>\n      <td>53.0</td>\n      <td>488.0</td>\n      <td>488.0</td>\n      <td>6765.0</td>\n      <td>...</td>\n      <td>1424.0</td>\n      <td>1424.0</td>\n      <td>343.0</td>\n      <td>32.0</td>\n      <td>454.0</td>\n      <td>454.0</td>\n      <td>530.0</td>\n      <td>60.0</td>\n      <td>717.0</td>\n      <td>717.0</td>\n    </tr>\n    <tr>\n      <th>111</th>\n      <td>John Isner</td>\n      <td>0.0</td>\n      <td>10.0</td>\n      <td>6.0</td>\n      <td>6.0</td>\n      <td>67.0</td>\n      <td>66.0</td>\n      <td>266.0</td>\n      <td>266.0</td>\n      <td>3257.0</td>\n      <td>...</td>\n      <td>1977.0</td>\n      <td>1977.0</td>\n      <td>77.0</td>\n      <td>52.0</td>\n      <td>277.0</td>\n      <td>277.0</td>\n      <td>96.0</td>\n      <td>60.0</td>\n      <td>343.0</td>\n      <td>343.0</td>\n    </tr>\n    <tr>\n      <th>160</th>\n      <td>Gael Monfils</td>\n      <td>68.0</td>\n      <td>0.0</td>\n      <td>255.0</td>\n      <td>255.0</td>\n      <td>103.0</td>\n      <td>60.0</td>\n      <td>481.0</td>\n      <td>481.0</td>\n      <td>2584.0</td>\n      <td>...</td>\n      <td>1813.0</td>\n      <td>1813.0</td>\n      <td>127.0</td>\n      <td>55.0</td>\n      <td>383.0</td>\n      <td>383.0</td>\n      <td>184.0</td>\n      <td>82.0</td>\n      <td>585.0</td>\n      <td>585.0</td>\n    </tr>\n    <tr>\n      <th>419</th>\n      <td>Gerald Melzer</td>\n      <td>306.0</td>\n      <td>0.0</td>\n      <td>34.0</td>\n      <td>34.0</td>\n      <td>213.0</td>\n      <td>0.0</td>\n      <td>33.0</td>\n      <td>33.0</td>\n      <td>6569.0</td>\n      <td>...</td>\n      <td>145.0</td>\n      <td>145.0</td>\n      <td>286.0</td>\n      <td>0.0</td>\n      <td>60.0</td>\n      <td>60.0</td>\n      <td>409.0</td>\n      <td>0.0</td>\n      <td>81.0</td>\n      <td>81.0</td>\n    </tr>\n    <tr>\n      <th>503</th>\n      <td>Pablo Carreno Busta</td>\n      <td>241.0</td>\n      <td>2.0</td>\n      <td>320.0</td>\n      <td>320.0</td>\n      <td>124.0</td>\n      <td>5.0</td>\n      <td>241.0</td>\n      <td>241.0</td>\n      <td>7447.0</td>\n      <td>...</td>\n      <td>1591.0</td>\n      <td>1591.0</td>\n      <td>365.0</td>\n      <td>17.0</td>\n      <td>453.0</td>\n      <td>453.0</td>\n      <td>550.0</td>\n      <td>18.0</td>\n      <td>645.0</td>\n      <td>645.0</td>\n    </tr>\n    <tr>\n      <th>41</th>\n      <td>Paolo Lorenzi</td>\n      <td>337.0</td>\n      <td>6.0</td>\n      <td>92.0</td>\n      <td>92.0</td>\n      <td>305.0</td>\n      <td>7.0</td>\n      <td>179.0</td>\n      <td>179.0</td>\n      <td>9770.0</td>\n      <td>...</td>\n      <td>717.0</td>\n      <td>717.0</td>\n      <td>511.0</td>\n      <td>14.0</td>\n      <td>216.0</td>\n      <td>216.0</td>\n      <td>797.0</td>\n      <td>18.0</td>\n      <td>320.0</td>\n      <td>320.0</td>\n    </tr>\n    <tr>\n      <th>509</th>\n      <td>Guido Andreozzi</td>\n      <td>299.0</td>\n      <td>5.0</td>\n      <td>32.0</td>\n      <td>32.0</td>\n      <td>368.0</td>\n      <td>5.0</td>\n      <td>76.0</td>\n      <td>76.0</td>\n      <td>9920.0</td>\n      <td>...</td>\n      <td>184.0</td>\n      <td>184.0</td>\n      <td>529.0</td>\n      <td>1.0</td>\n      <td>82.0</td>\n      <td>82.0</td>\n      <td>803.0</td>\n      <td>1.0</td>\n      <td>118.0</td>\n      <td>118.0</td>\n    </tr>\n    <tr>\n      <th>530</th>\n      <td>Yannick Hanfmann</td>\n      <td>287.0</td>\n      <td>19.0</td>\n      <td>126.0</td>\n      <td>126.0</td>\n      <td>232.0</td>\n      <td>16.0</td>\n      <td>124.0</td>\n      <td>124.0</td>\n      <td>7132.0</td>\n      <td>...</td>\n      <td>495.0</td>\n      <td>495.0</td>\n      <td>322.0</td>\n      <td>19.0</td>\n      <td>120.0</td>\n      <td>120.0</td>\n      <td>464.0</td>\n      <td>30.0</td>\n      <td>167.0</td>\n      <td>167.0</td>\n    </tr>\n    <tr>\n      <th>343</th>\n      <td>Andrej Martin</td>\n      <td>380.0</td>\n      <td>5.0</td>\n      <td>19.0</td>\n      <td>19.0</td>\n      <td>495.0</td>\n      <td>1.0</td>\n      <td>19.0</td>\n      <td>19.0</td>\n      <td>12477.0</td>\n      <td>...</td>\n      <td>87.0</td>\n      <td>87.0</td>\n      <td>749.0</td>\n      <td>4.0</td>\n      <td>23.0</td>\n      <td>23.0</td>\n      <td>1141.0</td>\n      <td>4.0</td>\n      <td>39.0</td>\n      <td>39.0</td>\n    </tr>\n    <tr>\n      <th>560</th>\n      <td>Filip Krajinovic</td>\n      <td>221.0</td>\n      <td>0.0</td>\n      <td>250.0</td>\n      <td>250.0</td>\n      <td>111.0</td>\n      <td>0.0</td>\n      <td>135.0</td>\n      <td>135.0</td>\n      <td>6639.0</td>\n      <td>...</td>\n      <td>1140.0</td>\n      <td>1140.0</td>\n      <td>351.0</td>\n      <td>0.0</td>\n      <td>359.0</td>\n      <td>359.0</td>\n      <td>523.0</td>\n      <td>0.0</td>\n      <td>514.0</td>\n      <td>514.0</td>\n    </tr>\n    <tr>\n      <th>1032</th>\n      <td>Reilly Opelka</td>\n      <td>6.0</td>\n      <td>0.0</td>\n      <td>6.0</td>\n      <td>6.0</td>\n      <td>85.0</td>\n      <td>16.0</td>\n      <td>336.0</td>\n      <td>336.0</td>\n      <td>2378.0</td>\n      <td>...</td>\n      <td>1500.0</td>\n      <td>1500.0</td>\n      <td>80.0</td>\n      <td>20.0</td>\n      <td>222.0</td>\n      <td>222.0</td>\n      <td>108.0</td>\n      <td>23.0</td>\n      <td>293.0</td>\n      <td>293.0</td>\n    </tr>\n    <tr>\n      <th>614</th>\n      <td>Marco Cecchinato</td>\n      <td>448.0</td>\n      <td>5.0</td>\n      <td>22.0</td>\n      <td>22.0</td>\n      <td>319.0</td>\n      <td>6.0</td>\n      <td>38.0</td>\n      <td>38.0</td>\n      <td>14156.0</td>\n      <td>...</td>\n      <td>181.0</td>\n      <td>181.0</td>\n      <td>673.0</td>\n      <td>2.0</td>\n      <td>32.0</td>\n      <td>32.0</td>\n      <td>996.0</td>\n      <td>5.0</td>\n      <td>50.0</td>\n      <td>50.0</td>\n    </tr>\n    <tr>\n      <th>1576</th>\n      <td>Jannik Sinner</td>\n      <td>108.0</td>\n      <td>5.0</td>\n      <td>172.0</td>\n      <td>172.0</td>\n      <td>73.0</td>\n      <td>5.0</td>\n      <td>158.0</td>\n      <td>158.0</td>\n      <td>2823.0</td>\n      <td>...</td>\n      <td>791.0</td>\n      <td>791.0</td>\n      <td>127.0</td>\n      <td>3.0</td>\n      <td>274.0</td>\n      <td>274.0</td>\n      <td>204.0</td>\n      <td>6.0</td>\n      <td>381.0</td>\n      <td>381.0</td>\n    </tr>\n    <tr>\n      <th>1421</th>\n      <td>Alex De Minaur</td>\n      <td>28.0</td>\n      <td>79.0</td>\n      <td>333.0</td>\n      <td>333.0</td>\n      <td>57.0</td>\n      <td>103.0</td>\n      <td>367.0</td>\n      <td>367.0</td>\n      <td>1426.0</td>\n      <td>...</td>\n      <td>1777.0</td>\n      <td>1777.0</td>\n      <td>84.0</td>\n      <td>122.0</td>\n      <td>460.0</td>\n      <td>460.0</td>\n      <td>117.0</td>\n      <td>167.0</td>\n      <td>685.0</td>\n      <td>685.0</td>\n    </tr>\n    <tr>\n      <th>1315</th>\n      <td>Jaume Munar</td>\n      <td>289.0</td>\n      <td>0.0</td>\n      <td>85.0</td>\n      <td>85.0</td>\n      <td>268.0</td>\n      <td>0.0</td>\n      <td>85.0</td>\n      <td>85.0</td>\n      <td>9515.0</td>\n      <td>...</td>\n      <td>416.0</td>\n      <td>416.0</td>\n      <td>480.0</td>\n      <td>0.0</td>\n      <td>112.0</td>\n      <td>112.0</td>\n      <td>748.0</td>\n      <td>0.0</td>\n      <td>165.0</td>\n      <td>165.0</td>\n    </tr>\n    <tr>\n      <th>1271</th>\n      <td>Casper Ruud</td>\n      <td>393.0</td>\n      <td>8.0</td>\n      <td>161.0</td>\n      <td>161.0</td>\n      <td>319.0</td>\n      <td>4.0</td>\n      <td>159.0</td>\n      <td>159.0</td>\n      <td>10403.0</td>\n      <td>...</td>\n      <td>770.0</td>\n      <td>770.0</td>\n      <td>424.0</td>\n      <td>3.0</td>\n      <td>173.0</td>\n      <td>173.0</td>\n      <td>613.0</td>\n      <td>4.0</td>\n      <td>247.0</td>\n      <td>247.0</td>\n    </tr>\n    <tr>\n      <th>952</th>\n      <td>Alexander Bublik</td>\n      <td>41.0</td>\n      <td>5.0</td>\n      <td>118.0</td>\n      <td>118.0</td>\n      <td>151.0</td>\n      <td>119.0</td>\n      <td>952.0</td>\n      <td>952.0</td>\n      <td>1794.0</td>\n      <td>...</td>\n      <td>1876.0</td>\n      <td>1876.0</td>\n      <td>103.0</td>\n      <td>56.0</td>\n      <td>529.0</td>\n      <td>529.0</td>\n      <td>163.0</td>\n      <td>86.0</td>\n      <td>774.0</td>\n      <td>774.0</td>\n    </tr>\n    <tr>\n      <th>709</th>\n      <td>Lucas Pouille</td>\n      <td>116.0</td>\n      <td>16.0</td>\n      <td>111.0</td>\n      <td>111.0</td>\n      <td>131.0</td>\n      <td>87.0</td>\n      <td>338.0</td>\n      <td>338.0</td>\n      <td>3766.0</td>\n      <td>...</td>\n      <td>1332.0</td>\n      <td>1332.0</td>\n      <td>196.0</td>\n      <td>82.0</td>\n      <td>350.0</td>\n      <td>350.0</td>\n      <td>288.0</td>\n      <td>114.0</td>\n      <td>502.0</td>\n      <td>502.0</td>\n    </tr>\n    <tr>\n      <th>1197</th>\n      <td>Hubert Hurkacz</td>\n      <td>137.0</td>\n      <td>10.0</td>\n      <td>276.0</td>\n      <td>276.0</td>\n      <td>187.0</td>\n      <td>29.0</td>\n      <td>399.0</td>\n      <td>399.0</td>\n      <td>3730.0</td>\n      <td>...</td>\n      <td>1609.0</td>\n      <td>1609.0</td>\n      <td>161.0</td>\n      <td>34.0</td>\n      <td>520.0</td>\n      <td>520.0</td>\n      <td>242.0</td>\n      <td>46.0</td>\n      <td>704.0</td>\n      <td>704.0</td>\n    </tr>\n    <tr>\n      <th>758</th>\n      <td>Nick Kyrgios</td>\n      <td>6.0</td>\n      <td>12.0</td>\n      <td>28.0</td>\n      <td>28.0</td>\n      <td>27.0</td>\n      <td>116.0</td>\n      <td>404.0</td>\n      <td>404.0</td>\n      <td>1458.0</td>\n      <td>...</td>\n      <td>1644.0</td>\n      <td>1644.0</td>\n      <td>39.0</td>\n      <td>77.0</td>\n      <td>299.0</td>\n      <td>299.0</td>\n      <td>50.0</td>\n      <td>120.0</td>\n      <td>389.0</td>\n      <td>389.0</td>\n    </tr>\n    <tr>\n      <th>79</th>\n      <td>Malek Jaziri</td>\n      <td>112.0</td>\n      <td>19.0</td>\n      <td>301.0</td>\n      <td>301.0</td>\n      <td>93.0</td>\n      <td>13.0</td>\n      <td>301.0</td>\n      <td>301.0</td>\n      <td>2957.0</td>\n      <td>...</td>\n      <td>1317.0</td>\n      <td>1317.0</td>\n      <td>171.0</td>\n      <td>15.0</td>\n      <td>408.0</td>\n      <td>408.0</td>\n      <td>240.0</td>\n      <td>19.0</td>\n      <td>600.0</td>\n      <td>600.0</td>\n    </tr>\n    <tr>\n      <th>886</th>\n      <td>Nicolas Jarry</td>\n      <td>260.0</td>\n      <td>0.0</td>\n      <td>63.0</td>\n      <td>63.0</td>\n      <td>313.0</td>\n      <td>16.0</td>\n      <td>91.0</td>\n      <td>91.0</td>\n      <td>8656.0</td>\n      <td>...</td>\n      <td>510.0</td>\n      <td>510.0</td>\n      <td>361.0</td>\n      <td>26.0</td>\n      <td>121.0</td>\n      <td>121.0</td>\n      <td>494.0</td>\n      <td>36.0</td>\n      <td>155.0</td>\n      <td>155.0</td>\n    </tr>\n    <tr>\n      <th>272</th>\n      <td>Adrian Mannarino</td>\n      <td>52.0</td>\n      <td>96.0</td>\n      <td>300.0</td>\n      <td>300.0</td>\n      <td>40.0</td>\n      <td>134.0</td>\n      <td>258.0</td>\n      <td>258.0</td>\n      <td>1823.0</td>\n      <td>...</td>\n      <td>1466.0</td>\n      <td>1466.0</td>\n      <td>106.0</td>\n      <td>169.0</td>\n      <td>413.0</td>\n      <td>413.0</td>\n      <td>165.0</td>\n      <td>265.0</td>\n      <td>595.0</td>\n      <td>595.0</td>\n    </tr>\n  </tbody>\n</table>\n<p>50 rows × 37 columns</p>\n</div>"
     },
     "metadata": {}
    }
   ],
   "execution_count": null
  },
  {
   "cell_type": "code",
   "metadata": {
    "tags": [],
    "cell_id": "00023-6fe8f02d-ddbd-41dd-8600-3e7474d6b512",
    "deepnote_cell_type": "code"
   },
   "source": "\n",
   "execution_count": null,
   "outputs": []
  },
  {
   "cell_type": "markdown",
   "source": "<a style='text-decoration:none;line-height:16px;display:flex;color:#5B5B62;padding:10px;justify-content:end;' href='https://deepnote.com?utm_source=created-in-deepnote-cell&projectId=de87b132-0371-4d99-94f9-c61923e2507d' target=\"_blank\">\n<img alt='Created in deepnote.com' style='display:inline;max-height:16px;margin:0px;margin-right:7.5px;' src='data:image/svg+xml;base64,PD94bWwgdmVyc2lvbj0iMS4wIiBlbmNvZGluZz0iVVRGLTgiPz4KPHN2ZyB3aWR0aD0iODBweCIgaGVpZ2h0PSI4MHB4IiB2aWV3Qm94PSIwIDAgODAgODAiIHZlcnNpb249IjEuMSIgeG1sbnM9Imh0dHA6Ly93d3cudzMub3JnLzIwMDAvc3ZnIiB4bWxuczp4bGluaz0iaHR0cDovL3d3dy53My5vcmcvMTk5OS94bGluayI+CiAgICA8IS0tIEdlbmVyYXRvcjogU2tldGNoIDU0LjEgKDc2NDkwKSAtIGh0dHBzOi8vc2tldGNoYXBwLmNvbSAtLT4KICAgIDx0aXRsZT5Hcm91cCAzPC90aXRsZT4KICAgIDxkZXNjPkNyZWF0ZWQgd2l0aCBTa2V0Y2guPC9kZXNjPgogICAgPGcgaWQ9IkxhbmRpbmciIHN0cm9rZT0ibm9uZSIgc3Ryb2tlLXdpZHRoPSIxIiBmaWxsPSJub25lIiBmaWxsLXJ1bGU9ImV2ZW5vZGQiPgogICAgICAgIDxnIGlkPSJBcnRib2FyZCIgdHJhbnNmb3JtPSJ0cmFuc2xhdGUoLTEyMzUuMDAwMDAwLCAtNzkuMDAwMDAwKSI+CiAgICAgICAgICAgIDxnIGlkPSJHcm91cC0zIiB0cmFuc2Zvcm09InRyYW5zbGF0ZSgxMjM1LjAwMDAwMCwgNzkuMDAwMDAwKSI+CiAgICAgICAgICAgICAgICA8cG9seWdvbiBpZD0iUGF0aC0yMCIgZmlsbD0iIzAyNjVCNCIgcG9pbnRzPSIyLjM3NjIzNzYyIDgwIDM4LjA0NzY2NjcgODAgNTcuODIxNzgyMiA3My44MDU3NTkyIDU3LjgyMTc4MjIgMzIuNzU5MjczOSAzOS4xNDAyMjc4IDMxLjY4MzE2ODMiPjwvcG9seWdvbj4KICAgICAgICAgICAgICAgIDxwYXRoIGQ9Ik0zNS4wMDc3MTgsODAgQzQyLjkwNjIwMDcsNzYuNDU0OTM1OCA0Ny41NjQ5MTY3LDcxLjU0MjI2NzEgNDguOTgzODY2LDY1LjI2MTk5MzkgQzUxLjExMjI4OTksNTUuODQxNTg0MiA0MS42NzcxNzk1LDQ5LjIxMjIyODQgMjUuNjIzOTg0Niw0OS4yMTIyMjg0IEMyNS40ODQ5Mjg5LDQ5LjEyNjg0NDggMjkuODI2MTI5Niw0My4yODM4MjQ4IDM4LjY0NzU4NjksMzEuNjgzMTY4MyBMNzIuODcxMjg3MSwzMi41NTQ0MjUgTDY1LjI4MDk3Myw2Ny42NzYzNDIxIEw1MS4xMTIyODk5LDc3LjM3NjE0NCBMMzUuMDA3NzE4LDgwIFoiIGlkPSJQYXRoLTIyIiBmaWxsPSIjMDAyODY4Ij48L3BhdGg+CiAgICAgICAgICAgICAgICA8cGF0aCBkPSJNMCwzNy43MzA0NDA1IEwyNy4xMTQ1MzcsMC4yNTcxMTE0MzYgQzYyLjM3MTUxMjMsLTEuOTkwNzE3MDEgODAsMTAuNTAwMzkyNyA4MCwzNy43MzA0NDA1IEM4MCw2NC45NjA0ODgyIDY0Ljc3NjUwMzgsNzkuMDUwMzQxNCAzNC4zMjk1MTEzLDgwIEM0Ny4wNTUzNDg5LDc3LjU2NzA4MDggNTMuNDE4MjY3Nyw3MC4zMTM2MTAzIDUzLjQxODI2NzcsNTguMjM5NTg4NSBDNTMuNDE4MjY3Nyw0MC4xMjg1NTU3IDM2LjMwMzk1NDQsMzcuNzMwNDQwNSAyNS4yMjc0MTcsMzcuNzMwNDQwNSBDMTcuODQzMDU4NiwzNy43MzA0NDA1IDkuNDMzOTE5NjYsMzcuNzMwNDQwNSAwLDM3LjczMDQ0MDUgWiIgaWQ9IlBhdGgtMTkiIGZpbGw9IiMzNzkzRUYiPjwvcGF0aD4KICAgICAgICAgICAgPC9nPgogICAgICAgIDwvZz4KICAgIDwvZz4KPC9zdmc+' > </img>\nCreated in <span style='font-weight:600;margin-left:4px;'>Deepnote</span></a>",
   "metadata": {
    "tags": [],
    "created_in_deepnote_cell": true,
    "deepnote_cell_type": "markdown"
   }
  }
 ],
 "nbformat": 4,
 "nbformat_minor": 2,
 "metadata": {
  "orig_nbformat": 2,
  "deepnote": {
   "is_reactive": false
  },
  "deepnote_notebook_id": "fb24560e-b3d4-4675-bf2c-5ad64502c78c",
  "deepnote_execution_queue": []
 }
}